{
  "cells": [
    {
      "cell_type": "markdown",
      "metadata": {},
      "source": [
        "<div class='alert alert-warning'>\n\n# JupyterLite warning\n\nRunning the scikit-learn examples in JupyterLite is experimental and you may encounter some unexpected behavior.\n\nThe main difference is that imports will take a lot longer than usual, for example the first `import sklearn` can take roughly 10-20s.\n\nIf you notice problems, feel free to open an [issue](https://github.com/scikit-learn/scikit-learn/issues/new/choose) about it.\n</div>"
      ]
    },
    {
      "cell_type": "code",
      "execution_count": null,
      "metadata": {
        "collapsed": false
      },
      "outputs": [],
      "source": [
        "# JupyterLite-specific code\nimport matplotlib\nimport pandas"
      ]
    },
    {
      "cell_type": "markdown",
      "metadata": {},
      "source": [
        "\n# \u0645\u0639\u0627\u064a\u0631\u0629 \u0627\u062d\u062a\u0645\u0627\u0644\u0627\u062a \u0627\u0644\u0645\u0635\u0646\u0641\u0627\u062a\n\n\u0639\u0646\u062f \u0625\u062c\u0631\u0627\u0621 \u0627\u0644\u062a\u0635\u0646\u064a\u0641\u060c \u063a\u0627\u0644\u0628\u064b\u0627 \u0645\u0627 \u062a\u0631\u064a\u062f \u0627\u0644\u062a\u0646\u0628\u0624 \u0644\u064a\u0633 \u0641\u0642\u0637\n\u0628\u062a\u0633\u0645\u064a\u0629 \u0627\u0644\u0641\u0626\u0629\u060c \u0648\u0644\u0643\u0646 \u0623\u064a\u0636\u064b\u0627 \u0627\u0644\u0627\u062d\u062a\u0645\u0627\u0644\u064a\u0629 \u0627\u0644\u0645\u0631\u062a\u0628\u0637\u0629 \u0628\u0647\u0627. \u0647\u0630\u0647 \u0627\u0644\u0627\u062d\u062a\u0645\u0627\u0644\u064a\u0629\n\u062a\u0639\u0637\u064a\u0643 \u0646\u0648\u0639\u064b\u0627 \u0645\u0646 \u0627\u0644\u062b\u0642\u0629 \u0641\u064a \u0627\u0644\u062a\u0646\u0628\u0624. \u0648\u0645\u0639 \u0630\u0644\u0643\u060c \u0644\u0627 \u062a\u0648\u0641\u0631 \u062c\u0645\u064a\u0639\n\u0627\u0644\u0645\u0635\u0646\u0641\u0627\u062a \u0627\u062d\u062a\u0645\u0627\u0644\u0627\u062a \u0645\u0639\u0627\u064a\u0631\u0629 \u062c\u064a\u062f\u064b\u0627\u060c \u0628\u0639\u0636\u0647\u0627 \u0645\u0641\u0631\u0637 \u0627\u0644\u062b\u0642\u0629\n\u0641\u064a \u062d\u064a\u0646 \u0623\u0646 \u0627\u0644\u0628\u0639\u0636 \u0627\u0644\u0622\u062e\u0631 \u063a\u064a\u0631 \u0648\u0627\u062b\u0642. \u0644\u0630\u0644\u0643\u060c \u063a\u0627\u0644\u0628\u064b\u0627 \u0645\u0627 \u062a\u0643\u0648\u0646 \u0645\u0639\u0627\u064a\u0631\u0629 \u0627\u0644\u0627\u062d\u062a\u0645\u0627\u0644\u0627\u062a \u0627\u0644\u0645\u062a\u0648\u0642\u0639\u0629\n\u0645\u0631\u063a\u0648\u0628\u0629 \u0643\u0639\u0645\u0644\u064a\u0629 \u0645\u0627 \u0628\u0639\u062f \u0627\u0644\u0645\u0639\u0627\u0644\u062c\u0629. \u064a\u0648\u0636\u062d \u0647\u0630\u0627 \u0627\u0644\u0645\u062b\u0627\u0644\n\u0637\u0631\u064a\u0642\u062a\u0627\u0646 \u0645\u062e\u062a\u0644\u0641\u062a\u0627\u0646 \u0644\u0647\u0630\u0647 \u0627\u0644\u0645\u0639\u0627\u064a\u0631\u0629 \u0648\u064a\u0642\u064a\u0645 \u062c\u0648\u062f\u0629 \u0627\u0644\u0627\u062d\u062a\u0645\u0627\u0644\u0627\u062a \u0627\u0644\u0645\u0639\u0627\u062f\u0629 \u0628\u0627\u0633\u062a\u062e\u062f\u0627\u0645 \u062f\u0631\u062c\u0629 Brier\n(\u0627\u0646\u0638\u0631 https://en.wikipedia.org/wiki/Brier_score).\n\n\u064a\u062a\u0645 \u0645\u0642\u0627\u0631\u0646\u0629 \u0627\u0644\u0627\u062d\u062a\u0645\u0627\u0644\u064a\u0629 \u0627\u0644\u0645\u0642\u062f\u0631\u0629 \u0628\u0627\u0633\u062a\u062e\u062f\u0627\u0645 \u0645\u0635\u0646\u0641 \u062e\u0648\u0627\u0631\u0632\u0645\u064a\u0629 \u0628\u0627\u064a\u0632 \u0627\u0644\u0633\u0627\u0630\u062c\u0629 \u0627\u0644\u063a\u0627\u0648\u0633\u064a\u0629\n\u062f\u0648\u0646 \u0645\u0639\u0627\u064a\u0631\u0629\u060c \u0645\u0639 \u0645\u0639\u0627\u064a\u0631\u0629 \u0633\u064a\u062c\u0645\u0648\u064a\u062f\u060c \u0648\u0645\u0639 \u0645\u0639\u0627\u064a\u0631\u0629 \u063a\u064a\u0631 \u0645\u0639\u0644\u0645\u064a\u0629\n\u0625\u064a\u0632\u0648\u062a\u0648\u0646\u064a\u0629. \u064a\u0645\u0643\u0646 \u0645\u0644\u0627\u062d\u0638\u0629 \u0623\u0646 \u0627\u0644\u0646\u0645\u0648\u0630\u062c \u063a\u064a\u0631 \u0627\u0644\u0645\u0639\u0644\u0645\u064a \u0641\u0642\u0637 \u0647\u0648\n\u0642\u0627\u062f\u0631 \u0639\u0644\u0649 \u062a\u0648\u0641\u064a\u0631 \u0645\u0639\u0627\u064a\u0631\u0629 \u0627\u062d\u062a\u0645\u0627\u0644\u064a\u0629 \u062a\u0639\u064a\u062f \u0627\u062d\u062a\u0645\u0627\u0644\u0627\u062a \u0642\u0631\u064a\u0628\u0629\n\u0645\u0646 \u0627\u0644\u0645\u062a\u0648\u0642\u0639 0.5 \u0644\u0645\u0639\u0638\u0645 \u0627\u0644\u0639\u064a\u0646\u0627\u062a \u0627\u0644\u062a\u064a \u062a\u0646\u062a\u0645\u064a \u0625\u0644\u0649 \u0627\u0644\u0645\u062c\u0645\u0648\u0639\u0629 \u0627\u0644\u0648\u0633\u0637\u0649\n\u0645\u0639 \u062a\u0633\u0645\u064a\u0627\u062a \u0645\u062a\u063a\u0627\u064a\u0631\u0629. \u064a\u0624\u062f\u064a \u0647\u0630\u0627 \u0625\u0644\u0649 \u062a\u062d\u0633\u0646 \u0643\u0628\u064a\u0631\n\u0641\u064a \u062f\u0631\u062c\u0629 Brier.\n"
      ]
    },
    {
      "cell_type": "code",
      "execution_count": null,
      "metadata": {
        "collapsed": false
      },
      "outputs": [],
      "source": [
        "# \u0627\u0644\u0645\u0624\u0644\u0641\u0648\u0646: \u0645\u0637\u0648\u0631\u064a \u0633\u0643\u0627\u064a\u0644\u0631\u0646\n# \u0645\u0639\u0631\u0641 \u0627\u0644\u062a\u0631\u062e\u064a\u0635: BSD-3-Clause"
      ]
    },
    {
      "cell_type": "markdown",
      "metadata": {},
      "source": [
        "## \u0625\u0646\u0634\u0627\u0621 \u0645\u062c\u0645\u0648\u0639\u0629 \u0628\u064a\u0627\u0646\u0627\u062a \u0627\u0635\u0637\u0646\u0627\u0639\u064a\u0629\n\n"
      ]
    },
    {
      "cell_type": "code",
      "execution_count": null,
      "metadata": {
        "collapsed": false
      },
      "outputs": [],
      "source": [
        "from matplotlib import cm\nimport matplotlib.pyplot as plt\nfrom sklearn.naive_bayes import GaussianNB\nfrom sklearn.metrics import brier_score_loss\nfrom sklearn.calibration import CalibratedClassifierCV\nimport numpy as np\n\nfrom sklearn.datasets import make_blobs\nfrom sklearn.model_selection import train_test_split\n\nn_samples = 50000\nn_bins = 3  # \u0627\u0633\u062a\u062e\u062f\u0645 3 \u0635\u0646\u0627\u062f\u064a\u0642 \u0644\u0645\u0639\u0627\u064a\u0631\u0629 \u0627\u0644\u0645\u0646\u062d\u0646\u0649 \u062d\u064a\u062b \u0644\u062f\u064a\u0646\u0627 3 \u0645\u062c\u0645\u0648\u0639\u0627\u062a \u0647\u0646\u0627\n\n# \u0625\u0646\u0634\u0627\u0621 3 \u0645\u062c\u0645\u0648\u0639\u0627\u062a \u0645\u0639 \u0641\u0626\u062a\u064a\u0646 \u062d\u064a\u062b \u062a\u062d\u062a\u0648\u064a \u0627\u0644\u0645\u062c\u0645\u0648\u0639\u0629 \u0627\u0644\u062b\u0627\u0646\u064a\u0629 \u0639\u0644\u0649\n# \u0646\u0635\u0641 \u0627\u0644\u0639\u064a\u0646\u0627\u062a \u0627\u0644\u0625\u064a\u062c\u0627\u0628\u064a\u0629 \u0648\u0646\u0635\u0641 \u0627\u0644\u0639\u064a\u0646\u0627\u062a \u0627\u0644\u0633\u0644\u0628\u064a\u0629. \u0627\u0644\u0627\u062d\u062a\u0645\u0627\u0644\u064a\u0629 \u0641\u064a \u0647\u0630\u0647\n# \u0627\u0644\u0645\u062c\u0645\u0648\u0639\u0629 \u0647\u064a 0.5.\ncenters = [(-5, -5), (0, 0), (5, 5)]\nX, y = make_blobs(n_samples=n_samples, centers=centers,\n                  shuffle=False, random_state=42)\n\ny[: n_samples // 2] = 0\ny[n_samples // 2:] = 1\nsample_weight = np.random.RandomState(42).rand(y.shape[0])\n\n# \u062a\u0642\u0633\u064a\u0645 \u0627\u0644\u0628\u064a\u0627\u0646\u0627\u062a \u0625\u0644\u0649 \u0645\u062c\u0645\u0648\u0639\u0627\u062a \u0627\u0644\u062a\u062f\u0631\u064a\u0628 \u0648\u0627\u0644\u0627\u062e\u062a\u0628\u0627\u0631 \u0644\u0644\u0645\u0639\u0627\u064a\u0631\u0629\nX_train, X_test, y_train, y_test, sw_train, sw_test = train_test_split(\n    X, y, sample_weight, test_size=0.9, random_state=42\n)"
      ]
    },
    {
      "cell_type": "markdown",
      "metadata": {},
      "source": [
        "## \u062e\u0648\u0627\u0631\u0632\u0645\u064a\u0629 \u0628\u0627\u064a\u0632 \u0627\u0644\u0633\u0627\u0630\u062c\u0629 \u0627\u0644\u063a\u0627\u0648\u0633\u064a\u0629\n\n"
      ]
    },
    {
      "cell_type": "code",
      "execution_count": null,
      "metadata": {
        "collapsed": false
      },
      "outputs": [],
      "source": [
        "# \u0628\u062f\u0648\u0646 \u0645\u0639\u0627\u064a\u0631\u0629\nclf = GaussianNB()\n# \u062e\u0648\u0627\u0631\u0632\u0645\u064a\u0629 \u0628\u0627\u064a\u0632 \u0627\u0644\u0633\u0627\u0630\u062c\u0629 \u0627\u0644\u063a\u0627\u0648\u0633\u064a\u0629 \u0646\u0641\u0633\u0647\u0627 \u0644\u0627 \u062a\u062f\u0639\u0645 \u0627\u0644\u0623\u0648\u0632\u0627\u0646 \u0627\u0644\u0639\u0634\u0648\u0627\u0626\u064a\u0629\nclf.fit(X_train, y_train)\nprob_pos_clf = clf.predict_proba(X_test)[:, 1]\n\n# \u0645\u0639 \u0645\u0639\u0627\u064a\u0631\u0629 \u0625\u064a\u0632\u0648\u062a\u0648\u0646\u064a\u0629\nclf_isotonic = CalibratedClassifierCV(clf, cv=2, method=\"isotonic\")\nclf_isotonic.fit(X_train, y_train, sample_weight=sw_train)\nprob_pos_isotonic = clf_isotonic.predict_proba(X_test)[:, 1]\n\n# \u0645\u0639 \u0645\u0639\u0627\u064a\u0631\u0629 \u0633\u064a\u062c\u0645\u0648\u064a\u062f\nclf_sigmoid = CalibratedClassifierCV(clf, cv=2, method=\"sigmoid\")\nclf_sigmoid.fit(X_train, y_train, sample_weight=sw_train)\nprob_pos_sigmoid = clf_sigmoid.predict_proba(X_test)[:, 1]\n\nprint(\"Brier score losses: (the smaller the better)\")\n\nclf_score = brier_score_loss(y_test, prob_pos_clf, sample_weight=sw_test)\nprint(\"No calibration: %1.3f\" % clf_score)\n\nclf_isotonic_score = brier_score_loss(\n    y_test, prob_pos_isotonic, sample_weight=sw_test)\nprint(\"With isotonic calibration: %1.3f\" % clf_isotonic_score)\n\nclf_sigmoid_score = brier_score_loss(\n    y_test, prob_pos_sigmoid, sample_weight=sw_test)\nprint(\"With sigmoid calibration: %1.3f\" % clf_sigmoid_score)"
      ]
    },
    {
      "cell_type": "markdown",
      "metadata": {},
      "source": [
        "## \u0631\u0633\u0645 \u0627\u0644\u0628\u064a\u0627\u0646\u0627\u062a \u0648\u0627\u0644\u0627\u062d\u062a\u0645\u0627\u0644\u0627\u062a \u0627\u0644\u0645\u062a\u0648\u0642\u0639\u0629\n\n"
      ]
    },
    {
      "cell_type": "code",
      "execution_count": null,
      "metadata": {
        "collapsed": false
      },
      "outputs": [],
      "source": [
        "plt.figure()\ny_unique = np.unique(y)\ncolors = cm.rainbow(np.linspace(0.0, 1.0, y_unique.size))\nfor this_y, color in zip(y_unique, colors):\n    this_X = X_train[y_train == this_y]\n    this_sw = sw_train[y_train == this_y]\n    plt.scatter(\n        this_X[:, 0],\n        this_X[:, 1],\n        s=this_sw * 50,\n        c=color[np.newaxis, :],\n        alpha=0.5,\n        edgecolor=\"k\",\n        label=\"Class %s\" % this_y,\n    )\nplt.legend(loc=\"best\")\nplt.title(\"Data\")\n\nplt.figure()\n\norder = np.lexsort((prob_pos_clf,))\nplt.plot(prob_pos_clf[order], \"r\", label=\"No calibration (%1.3f)\" % clf_score)\nplt.plot(\n    prob_pos_isotonic[order],\n    \"g\",\n    linewidth=3,\n    label=\"Isotonic calibration (%1.3f)\" % clf_isotonic_score,\n)\nplt.plot(\n    prob_pos_sigmoid[order],\n    \"b\",\n    linewidth=3,\n    label=\"Sigmoid calibration (%1.3f)\" % clf_sigmoid_score,\n)\nplt.plot(\n    np.linspace(0, y_test.size, 51)[1::2],\n    y_test[order].reshape(25, -1).mean(1),\n    \"k\",\n    linewidth=3,\n    label=r\"Empirical\",\n)\nplt.ylim([-0.05, 1.05])\nplt.xlabel(\"Instances sorted according to predicted probability (uncalibrated GNB)\")\nplt.ylabel(\"P(y=1)\")\nplt.legend(loc=\"upper left\")\nplt.title(\"Gaussian naive Bayes probabilities\")\n\nplt.show()"
      ]
    }
  ],
  "metadata": {
    "kernelspec": {
      "display_name": "Python 3",
      "language": "python",
      "name": "python3"
    },
    "language_info": {
      "codemirror_mode": {
        "name": "ipython",
        "version": 3
      },
      "file_extension": ".py",
      "mimetype": "text/x-python",
      "name": "python",
      "nbconvert_exporter": "python",
      "pygments_lexer": "ipython3",
      "version": "3.10.13"
    }
  },
  "nbformat": 4,
  "nbformat_minor": 0
}