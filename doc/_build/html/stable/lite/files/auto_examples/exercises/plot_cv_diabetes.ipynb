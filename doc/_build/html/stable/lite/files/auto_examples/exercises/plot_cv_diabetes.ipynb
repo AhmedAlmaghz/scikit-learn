{
  "cells": [
    {
      "cell_type": "markdown",
      "metadata": {},
      "source": [
        "<div class='alert alert-warning'>\n\n# JupyterLite warning\n\nRunning the scikit-learn examples in JupyterLite is experimental and you may encounter some unexpected behavior.\n\nThe main difference is that imports will take a lot longer than usual, for example the first `import sklearn` can take roughly 10-20s.\n\nIf you notice problems, feel free to open an [issue](https://github.com/scikit-learn/scikit-learn/issues/new/choose) about it.\n</div>"
      ]
    },
    {
      "cell_type": "code",
      "execution_count": null,
      "metadata": {
        "collapsed": false
      },
      "outputs": [],
      "source": [
        "# JupyterLite-specific code\nimport matplotlib\nimport pandas"
      ]
    },
    {
      "cell_type": "markdown",
      "metadata": {},
      "source": [
        "\n# \u0627\u0644\u062a\u062d\u0642\u0642 \u0627\u0644\u0645\u062a\u0642\u0627\u0637\u0639 \u0639\u0644\u0649 \u062a\u0645\u0631\u064a\u0646 \u0645\u062c\u0645\u0648\u0639\u0629 \u0628\u064a\u0627\u0646\u0627\u062a \u0645\u0631\u0636 \u0627\u0644\u0633\u0643\u0631\u064a\n\n\u062a\u0645\u0631\u064a\u0646 \u062a\u0639\u0644\u064a\u0645\u064a \u064a\u0633\u062a\u062e\u062f\u0645 \u0627\u0644\u062a\u062d\u0642\u0642 \u0627\u0644\u0645\u062a\u0642\u0627\u0637\u0639 \u0645\u0639 \u0627\u0644\u0646\u0645\u0627\u0630\u062c \u0627\u0644\u062e\u0637\u064a\u0629.\n\n\u064a\u062a\u0645 \u0627\u0633\u062a\u062e\u062f\u0627\u0645 \u0647\u0630\u0627 \u0627\u0644\u062a\u0645\u0631\u064a\u0646 \u0641\u064a \u062c\u0632\u0621 `cv_estimators_tut` \u0645\u0646\n\u0642\u0633\u0645 `model_selection_tut` \u0645\u0646 `stat_learn_tut_index`.\n"
      ]
    },
    {
      "cell_type": "code",
      "execution_count": null,
      "metadata": {
        "collapsed": false
      },
      "outputs": [],
      "source": [
        "# Authors: The scikit-learn developers\n# SPDX-License-Identifier: BSD-3-Clause"
      ]
    },
    {
      "cell_type": "markdown",
      "metadata": {},
      "source": [
        "## \u062a\u062d\u0645\u064a\u0644 \u0645\u062c\u0645\u0648\u0639\u0629 \u0627\u0644\u0628\u064a\u0627\u0646\u0627\u062a \u0648\u062a\u0637\u0628\u064a\u0642 GridSearchCV\n\n"
      ]
    },
    {
      "cell_type": "code",
      "execution_count": null,
      "metadata": {
        "collapsed": false
      },
      "outputs": [],
      "source": [
        "import matplotlib.pyplot as plt\nimport numpy as np\n\nfrom sklearn import datasets\nfrom sklearn.linear_model import Lasso\nfrom sklearn.model_selection import GridSearchCV\n\nX, y = datasets.load_diabetes(return_X_y=True)\nX = X[:150]\ny = y[:150]\n\nlasso = Lasso(random_state=0, max_iter=10000)\nalphas = np.logspace(-4, -0.5, 30)\n\ntuned_parameters = [{\"alpha\": alphas}]\nn_folds = 5\n\nclf = GridSearchCV(lasso, tuned_parameters, cv=n_folds, refit=False)\nclf.fit(X, y)\nscores = clf.cv_results_[\"mean_test_score\"]\nscores_std = clf.cv_results_[\"std_test_score\"]"
      ]
    },
    {
      "cell_type": "markdown",
      "metadata": {},
      "source": [
        "## \u0631\u0633\u0645 \u062e\u0637\u0648\u0637 \u0627\u0644\u062e\u0637\u0623 \u0627\u0644\u062a\u064a \u062a\u0648\u0636\u062d +/- \u0623\u062e\u0637\u0627\u0621 \u0642\u064a\u0627\u0633\u064a\u0629 \u0644\u0644\u0646\u062a\u0627\u0626\u062c\n\n"
      ]
    },
    {
      "cell_type": "code",
      "execution_count": null,
      "metadata": {
        "collapsed": false
      },
      "outputs": [],
      "source": [
        "plt.figure().set_size_inches(8, 6)\nplt.semilogx(alphas, scores)\n\nstd_error = scores_std / np.sqrt(n_folds)\n\nplt.semilogx(alphas, scores + std_error, \"b--\")\nplt.semilogx(alphas, scores - std_error, \"b--\")\n\n# alpha=0.2 \u064a\u062a\u062d\u0643\u0645 \u0641\u064a \u0634\u0641\u0627\u0641\u064a\u0629 \u0644\u0648\u0646 \u0627\u0644\u062a\u0639\u0628\u0626\u0629\nplt.fill_between(alphas, scores + std_error, scores - std_error, alpha=0.2)\n\nplt.ylabel(\"\u0646\u062a\u064a\u062c\u0629 CV +/- \u0627\u0644\u062e\u0637\u0623 \u0627\u0644\u0642\u064a\u0627\u0633\u064a\")\nplt.xlabel(\"alpha\")\nplt.axhline(np.max(scores), linestyle=\"--\", color=\".5\")\nplt.xlim([alphas[0], alphas[-1]])"
      ]
    },
    {
      "cell_type": "markdown",
      "metadata": {},
      "source": [
        "## \u0645\u0643\u0627\u0641\u0623\u0629: \u0645\u0627 \u0645\u062f\u0649 \u062b\u0642\u062a\u0643 \u0641\u064a \u0627\u062e\u062a\u064a\u0627\u0631 alpha\u061f\n\n"
      ]
    },
    {
      "cell_type": "code",
      "execution_count": null,
      "metadata": {
        "collapsed": false
      },
      "outputs": [],
      "source": [
        "# \u0644\u0644\u0625\u062c\u0627\u0628\u0629 \u0639\u0644\u0649 \u0647\u0630\u0627 \u0627\u0644\u0633\u0624\u0627\u0644\u060c \u0646\u0633\u062a\u062e\u062f\u0645 \u0643\u0627\u0626\u0646 LassoCV \u0627\u0644\u0630\u064a \u064a\u0636\u0628\u0637 \u0645\u0639\u0644\u0645\u0629 alpha\n# \u062a\u0644\u0642\u0627\u0626\u064a\u064b\u0627 \u0645\u0646 \u0627\u0644\u0628\u064a\u0627\u0646\u0627\u062a \u0639\u0646 \u0637\u0631\u064a\u0642 \u0627\u0644\u062a\u062d\u0642\u0642 \u0627\u0644\u0645\u062a\u0642\u0627\u0637\u0639 \u0627\u0644\u062f\u0627\u062e\u0644\u064a (\u0623\u064a \u0623\u0646\u0647\n# \u064a\u0646\u0641\u0630 \u0627\u0644\u062a\u062d\u0642\u0642 \u0627\u0644\u0645\u062a\u0642\u0627\u0637\u0639 \u0639\u0644\u0649 \u0628\u064a\u0627\u0646\u0627\u062a \u0627\u0644\u062a\u062f\u0631\u064a\u0628 \u0627\u0644\u062a\u064a \u064a\u062a\u0644\u0642\u0627\u0647\u0627).\n# \u0646\u0633\u062a\u062e\u062f\u0645 \u0627\u0644\u062a\u062d\u0642\u0642 \u0627\u0644\u0645\u062a\u0642\u0627\u0637\u0639 \u0627\u0644\u062e\u0627\u0631\u062c\u064a \u0644\u0645\u0639\u0631\u0641\u0629 \u0645\u062f\u0649 \u0627\u062e\u062a\u0644\u0627\u0641 \u0642\u064a\u0645 alpha \u0627\u0644\u062a\u064a \u062a\u0645\n# \u0627\u0644\u062d\u0635\u0648\u0644 \u0639\u0644\u064a\u0647\u0627 \u062a\u0644\u0642\u0627\u0626\u064a\u064b\u0627 \u0639\u0628\u0631 \u0637\u064a\u0627\u062a \u0627\u0644\u062a\u062d\u0642\u0642 \u0627\u0644\u0645\u062a\u0642\u0627\u0637\u0639 \u0627\u0644\u0645\u062e\u062a\u0644\u0641\u0629.\n\nfrom sklearn.linear_model import LassoCV\nfrom sklearn.model_selection import KFold\n\nlasso_cv = LassoCV(alphas=alphas, random_state=0, max_iter=10000)\nk_fold = KFold(3)\n\nprint(\"\u0625\u062c\u0627\u0628\u0629 \u0627\u0644\u0633\u0624\u0627\u0644 \u0627\u0644\u0625\u0636\u0627\u0641\u064a:\", \"\u0645\u0627 \u0645\u062f\u0649 \u062b\u0642\u062a\u0643 \u0641\u064a \u0627\u062e\u062a\u064a\u0627\u0631 alpha\u061f\")\nprint()\nprint(\"\u0645\u0639\u0644\u0645\u0627\u062a Alpha \u0627\u0644\u062a\u064a \u062a\u0632\u064a\u062f \u0645\u0646 \u062f\u0631\u062c\u0629 \u0627\u0644\u062a\u0639\u0645\u064a\u0645 \u0639\u0644\u0649 \u0645\u062c\u0645\u0648\u0639\u0627\u062a \u0641\u0631\u0639\u064a\u0629 \u0645\u062e\u062a\u0644\u0641\u0629\")\nprint(\"\u0645\u0646 \u0627\u0644\u0628\u064a\u0627\u0646\u0627\u062a:\")\nfor k, (train, test) in enumerate(k_fold.split(X, y)):\n    lasso_cv.fit(X[train], y[train])\n    print(\n        \"[\u0637\u064a {0}] alpha: {1:.5f}, \u0627\u0644\u0646\u062a\u064a\u062c\u0629: {2:.5f}\".format(\n            k, lasso_cv.alpha_, lasso_cv.score(X[test], y[test])\n        )\n    )\nprint()\nprint(\"\u0627\u0644\u0625\u062c\u0627\u0628\u0629: \u0644\u064a\u0633\u062a \u0643\u0628\u064a\u0631\u0629 \u062c\u062f\u064b\u0627 \u0646\u0638\u0631\u064b\u0627 \u0644\u0623\u0646\u0646\u0627 \u062d\u0635\u0644\u0646\u0627 \u0639\u0644\u0649 \u0642\u064a\u0645 alpha \u0645\u062e\u062a\u0644\u0641\u0629 \u0644\u0645\u062c\u0645\u0648\u0639\u0627\u062a \u0641\u0631\u0639\u064a\u0629 \u0645\u062e\u062a\u0644\u0641\u0629\")\nprint(\"\u0645\u0646 \u0627\u0644\u0628\u064a\u0627\u0646\u0627\u062a\u060c \u0639\u0644\u0627\u0648\u0629 \u0639\u0644\u0649 \u0630\u0644\u0643\u060c \u062a\u062e\u062a\u0644\u0641 \u0627\u0644\u062f\u0631\u062c\u0627\u062a \u0644\u0647\u0630\u0647 \u0627\u0644\u0642\u064a\u0645 alpha\")\nprint(\"\u0628\u0634\u0643\u0644 \u0643\u0628\u064a\u0631.\")\n\nplt.show()"
      ]
    }
  ],
  "metadata": {
    "kernelspec": {
      "display_name": "Python 3",
      "language": "python",
      "name": "python3"
    },
    "language_info": {
      "codemirror_mode": {
        "name": "ipython",
        "version": 3
      },
      "file_extension": ".py",
      "mimetype": "text/x-python",
      "name": "python",
      "nbconvert_exporter": "python",
      "pygments_lexer": "ipython3",
      "version": "3.10.13"
    }
  },
  "nbformat": 4,
  "nbformat_minor": 0
}