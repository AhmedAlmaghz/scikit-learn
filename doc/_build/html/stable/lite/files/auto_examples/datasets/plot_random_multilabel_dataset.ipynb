{
  "cells": [
    {
      "cell_type": "markdown",
      "metadata": {},
      "source": [
        "<div class='alert alert-warning'>\n\n# JupyterLite warning\n\nRunning the scikit-learn examples in JupyterLite is experimental and you may encounter some unexpected behavior.\n\nThe main difference is that imports will take a lot longer than usual, for example the first `import sklearn` can take roughly 10-20s.\n\nIf you notice problems, feel free to open an [issue](https://github.com/scikit-learn/scikit-learn/issues/new/choose) about it.\n</div>"
      ]
    },
    {
      "cell_type": "code",
      "execution_count": null,
      "metadata": {
        "collapsed": false
      },
      "outputs": [],
      "source": [
        "# JupyterLite-specific code\nimport matplotlib\nimport pandas"
      ]
    },
    {
      "cell_type": "markdown",
      "metadata": {},
      "source": [
        "\n# \u0631\u0633\u0645 \u0645\u062c\u0645\u0648\u0639\u0629 \u0628\u064a\u0627\u0646\u0627\u062a \u0645\u062a\u0639\u062f\u062f\u0629 \u0627\u0644\u062a\u0635\u0646\u064a\u0641\u0627\u062a \u0645\u064f\u0648\u0644\u062f\u0629 \u0639\u0634\u0648\u0627\u0626\u064a\u0627\u064b\n\n\u0647\u0630\u0627 \u064a\u0648\u0636\u062d \u0645\u0648\u0644\u062f \u0645\u062c\u0645\u0648\u0639\u0629 \u0627\u0644\u0628\u064a\u0627\u0646\u0627\u062a :func:`~sklearn.datasets.make_multilabel_classification`\n. \u062a\u062a\u0643\u0648\u0646 \u0643\u0644 \u0639\u064a\u0646\u0629 \u0645\u0646 \u0639\u062f\u062f \u0645\u0646 \u0645\u064a\u0632\u062a\u064a\u0646 (\u062d\u062a\u0649 50 \u0641\u064a \u0627\u0644\u0645\u062c\u0645\u0648\u0639)\u060c \u0648\u0627\u0644\u062a\u064a \u062a\u064f\u0648\u0632\u0639 \u0628\u0634\u0643\u0644 \u0645\u062e\u062a\u0644\u0641 \u0641\u064a \u0643\u0644 \u0645\u0646 \u0627\u0644\u0641\u0626\u062a\u064a\u0646.\n\n\u062a\u064f\u0635\u0646\u0641 \u0627\u0644\u0646\u0642\u0627\u0637 \u0639\u0644\u0649 \u0627\u0644\u0646\u062d\u0648 \u0627\u0644\u062a\u0627\u0644\u064a\u060c \u062d\u064a\u062b \u064a\u0634\u064a\u0631 Y \u0625\u0644\u0649 \u0648\u062c\u0648\u062f \u0627\u0644\u0641\u0626\u0629:\n\n=====  =====  =====  ======\n  1      2      3    Color\n=====  =====  =====  ======\n  Y      N      N    Red\n  N      Y      N    Blue\n  N      N      Y    Yellow\n  Y      Y      N    Purple\n  Y      N      Y    Orange\n  Y      Y      N    Green\n  Y      Y      Y    Brown\n=====  =====  =====  ======\n\n\u064a\u064f\u0634\u064a\u0631 \u0627\u0644\u0646\u062c\u0645 \u0625\u0644\u0649 \u0627\u0644\u0639\u064a\u0646\u0629 \u0627\u0644\u0645\u062a\u0648\u0642\u0639\u0629 \u0644\u0643\u0644 \u0641\u0626\u0629\u061b \u0648\u064a\u0639\u0643\u0633 \u062d\u062c\u0645\u0647 \u0627\u062d\u062a\u0645\u0627\u0644\u064a\u0629 \u0627\u062e\u062a\u064a\u0627\u0631 \u0647\u0630\u0627 \u0627\u0644\u062a\u0635\u0646\u064a\u0641.\n\n\u062a\u064f\u0628\u0631\u0632 \u0627\u0644\u0623\u0645\u062b\u0644\u0629 \u0639\u0644\u0649 \u0627\u0644\u064a\u0633\u0627\u0631 \u0648\u0627\u0644\u064a\u0645\u064a\u0646 \u0645\u0639\u0627\u0645\u0644 \"n_labels\":\n\u062d\u064a\u062b \u064a\u0648\u062c\u062f \u0627\u0644\u0645\u0632\u064a\u062f \u0645\u0646 \u0627\u0644\u0639\u064a\u0646\u0627\u062a \u0641\u064a \u0627\u0644\u0631\u0633\u0645 \u0627\u0644\u0628\u064a\u0627\u0646\u064a \u0639\u0644\u0649 \u0627\u0644\u064a\u0645\u064a\u0646 \u0648\u0627\u0644\u062a\u064a \u0644\u062f\u064a\u0647\u0627 2 \u0623\u0648 3 \u062a\u0635\u0646\u064a\u0641\u0627\u062a.\n\n\u0645\u0644\u0627\u062d\u0638\u0629: \u0647\u0630\u0627 \u0627\u0644\u0645\u062b\u0627\u0644 \u062b\u0646\u0627\u0626\u064a \u0627\u0644\u0623\u0628\u0639\u0627\u062f \u0645\u064f\u0646\u062d\u0631\u0641 \u062c\u062f\u0627\u064b:\n\u0628\u0634\u0643\u0644 \u0639\u0627\u0645\u060c \u0633\u064a\u0643\u0648\u0646 \u0639\u062f\u062f \u0627\u0644\u0645\u064a\u0632\u0627\u062a \u0623\u0643\u0628\u0631 \u0628\u0643\u062b\u064a\u0631 \u0645\u0646\n\"\u0637\u0648\u0644 \u0627\u0644\u0648\u062b\u064a\u0642\u0629\"\u060c \u0641\u064a \u062d\u064a\u0646 \u0623\u0646 \u0644\u062f\u064a\u0646\u0627 \u0647\u0646\u0627 \u0648\u062b\u0627\u0626\u0642 \u0623\u0643\u0628\u0631 \u0628\u0643\u062b\u064a\u0631 \u0645\u0646 \u0627\u0644\u0645\u0641\u0631\u062f\u0627\u062a.\n\u0648\u0628\u0627\u0644\u0645\u062b\u0644\u060c \u0645\u0639 \"n_classes > n_features\"\u060c \u0645\u0646 \u063a\u064a\u0631 \u0627\u0644\u0645\u0631\u062c\u062d \u0623\u0646 \u062a\u064f\u0645\u064a\u0632 \u0645\u064a\u0632\u0629 \u0641\u0626\u0629 \u0645\u0639\u064a\u0646\u0629.\n"
      ]
    },
    {
      "cell_type": "code",
      "execution_count": null,
      "metadata": {
        "collapsed": false
      },
      "outputs": [],
      "source": [
        "# \u0627\u0644\u0645\u0624\u0644\u0641\u0648\u0646: \u0645\u0637\u0648\u0631\u064a \u0633\u0643\u0627\u064a\u0644\u0631\u0646\n# \u0645\u0639\u0631\u0641 \u0627\u0644\u062a\u0631\u062e\u064a\u0635: BSD-3-Clause\n\nimport matplotlib.pyplot as plt\nimport numpy as np\n\nfrom sklearn.datasets import make_multilabel_classification as make_ml_clf\n\nCOLORS = np.array(\n    [\n        \"!\",\n        \"#FF3333\",  # red\n        \"#0198E1\",  # blue\n        \"#BF5FFF\",  # purple\n        \"#FCD116\",  # yellow\n        \"#FF7216\",  # orange\n        \"#4DBD33\",  # green\n        \"#87421F\",  # brown\n    ]\n)\n\n# \u0627\u0633\u062a\u062e\u062f\u0627\u0645 \u0646\u0641\u0633 \u0627\u0644\u0628\u0630\u0631\u0629 \u0627\u0644\u0639\u0634\u0648\u0627\u0626\u064a\u0629 \u0644\u0639\u062f\u0629 \u0645\u0643\u0627\u0644\u0645\u0627\u062a \u0625\u0644\u0649 make_multilabel_classification \u0644\n# \u0636\u0645\u0627\u0646 \u0646\u0641\u0633 \u0627\u0644\u062a\u0648\u0632\u064a\u0639\u0627\u062a\nRANDOM_SEED = np.random.randint(2**10)\n\n\ndef plot_2d(ax, n_labels=1, n_classes=3, length=50):\n    X, Y, p_c, p_w_c = make_ml_clf(\n        n_samples=150,\n        n_features=2,\n        n_classes=n_classes,\n        n_labels=n_labels,\n        length=length,\n        allow_unlabeled=False,\n        return_distributions=True,\n        random_state=RANDOM_SEED,\n    )\n\n    ax.scatter(\n        X[:, 0], X[:, 1], color=COLORS.take((Y * [1, 2, 4]).sum(axis=1)), marker=\".\"\n    )\n    ax.scatter(\n        p_w_c[0] * length,\n        p_w_c[1] * length,\n        marker=\"*\",\n        linewidth=0.5,\n        edgecolor=\"black\",\n        s=20 + 1500 * p_c**2,\n        color=COLORS.take([1, 2, 4]),\n    )\n    ax.set_xlabel(\"Feature 0 count\")\n    return p_c, p_w_c\n\n\n_, (ax1, ax2) = plt.subplots(1, 2, sharex=\"row\", sharey=\"row\", figsize=(8, 4))\nplt.subplots_adjust(bottom=0.15)\n\np_c, p_w_c = plot_2d(ax1, n_labels=1)\nax1.set_title(\"n_labels=1, length=50\")\nax1.set_ylabel(\"Feature 1 count\")\n\nplot_2d(ax2, n_labels=3)\nax2.set_title(\"n_labels=3, length=50\")\nax2.set_xlim(left=0, auto=True)\nax2.set_ylim(bottom=0, auto=True)\n\nplt.show()\n\nprint(\"The data was generated from (random_state=%d):\" % RANDOM_SEED)\nprint(\"Class\", \"P(C)\", \"P(w0|C)\", \"P(w1|C)\", sep=\"\\t\")\nfor k, p, p_w in zip([\"red\", \"blue\", \"yellow\"], p_c, p_w_c.T):\n    print(\"%s\\t%0.2f\\t%0.2f\\t%0.2f\" % (k, p, p_w[0], p_w[1]))"
      ]
    }
  ],
  "metadata": {
    "kernelspec": {
      "display_name": "Python 3",
      "language": "python",
      "name": "python3"
    },
    "language_info": {
      "codemirror_mode": {
        "name": "ipython",
        "version": 3
      },
      "file_extension": ".py",
      "mimetype": "text/x-python",
      "name": "python",
      "nbconvert_exporter": "python",
      "pygments_lexer": "ipython3",
      "version": "3.10.13"
    }
  },
  "nbformat": 4,
  "nbformat_minor": 0
}