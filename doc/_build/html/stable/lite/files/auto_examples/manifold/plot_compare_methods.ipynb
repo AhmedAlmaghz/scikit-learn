{
  "cells": [
    {
      "cell_type": "markdown",
      "metadata": {},
      "source": [
        "<div class='alert alert-warning'>\n\n# JupyterLite warning\n\nRunning the scikit-learn examples in JupyterLite is experimental and you may encounter some unexpected behavior.\n\nThe main difference is that imports will take a lot longer than usual, for example the first `import sklearn` can take roughly 10-20s.\n\nIf you notice problems, feel free to open an [issue](https://github.com/scikit-learn/scikit-learn/issues/new/choose) about it.\n</div>"
      ]
    },
    {
      "cell_type": "code",
      "execution_count": null,
      "metadata": {
        "collapsed": false
      },
      "outputs": [],
      "source": [
        "# JupyterLite-specific code\nimport matplotlib\nimport pandas"
      ]
    },
    {
      "cell_type": "markdown",
      "metadata": {},
      "source": [
        "\n# \u0645\u0642\u0627\u0631\u0646\u0629 \u0637\u0631\u0642 \u062a\u0639\u0644\u0645 \u0645\u062a\u0639\u062f\u062f \u0627\u0644\u0634\u0639\u0628\n\n\u062a\u0648\u0636\u064a\u062d \u0644\u062e\u0641\u0636 \u0627\u0644\u0623\u0628\u0639\u0627\u062f \u0639\u0644\u0649 \u0645\u062c\u0645\u0648\u0639\u0629 \u0628\u064a\u0627\u0646\u0627\u062a \u0627\u0644\u0645\u0646\u062d\u0646\u0649 S\n\u0645\u0639 \u0637\u0631\u0642 \u062a\u0639\u0644\u0645 \u0645\u062a\u0639\u062f\u062f \u0627\u0644\u0634\u0639\u0628 \u0627\u0644\u0645\u062e\u062a\u0644\u0641\u0629.\n\n\u0644\u0646\u0642\u0627\u0634 \u0648\u0645\u0642\u0627\u0631\u0646\u0629 \u0647\u0630\u0647 \u0627\u0644\u062e\u0648\u0627\u0631\u0632\u0645\u064a\u0627\u062a\u060c \u0627\u0646\u0638\u0631\n`\u0635\u0641\u062d\u0629 \u0648\u062d\u062f\u0629 \u0645\u062a\u0639\u062f\u062f \u0627\u0644\u0634\u0639\u0628 <manifold>`\n\n\u0644\u0645\u062b\u0627\u0644 \u0645\u0645\u0627\u062b\u0644\u060c \u062d\u064a\u062b \u064a\u062a\u0645 \u062a\u0637\u0628\u064a\u0642 \u0627\u0644\u0637\u0631\u0642 \u0639\u0644\u0649\n\u0645\u062c\u0645\u0648\u0639\u0629 \u0628\u064a\u0627\u0646\u0627\u062a \u0643\u0631\u0648\u064a\u0629\u060c \u0627\u0646\u0638\u0631 `sphx_glr_auto_examples_manifold_plot_manifold_sphere.py`\n\n\u0644\u0627\u062d\u0638 \u0623\u0646 \u0627\u0644\u063a\u0631\u0636 \u0645\u0646 MDS \u0647\u0648 \u0625\u064a\u062c\u0627\u062f \u062a\u0645\u062b\u064a\u0644 \u0645\u0646\u062e\u0641\u0636 \u0627\u0644\u0623\u0628\u0639\u0627\u062f\n\u0644\u0644\u0628\u064a\u0627\u0646\u0627\u062a (\u0647\u0646\u0627 2D) \u062d\u064a\u062b \u062a\u062d\u062a\u0631\u0645 \u0627\u0644\u0645\u0633\u0627\u0641\u0627\u062a \u062c\u064a\u062f\u064b\u0627\n\u0627\u0644\u0645\u0633\u0627\u0641\u0627\u062a \u0641\u064a \u0627\u0644\u0641\u0636\u0627\u0621 \u0627\u0644\u0623\u0635\u0644\u064a \u0639\u0627\u0644\u064a \u0627\u0644\u0623\u0628\u0639\u0627\u062f\u060c \u0639\u0644\u0649 \u0639\u0643\u0633 \u0623\u062e\u0631\u0649\n\u062e\u0648\u0627\u0631\u0632\u0645\u064a\u0627\u062a \u062a\u0639\u0644\u0645 \u0645\u062a\u0639\u062f\u062f \u0627\u0644\u0634\u0639\u0628\u060c \u0641\u0647\u064a \u0644\u0627 \u062a\u0633\u0639\u0649 \u0625\u0644\u0649 \u062a\u0645\u062b\u064a\u0644 \u0645\u062a\u0645\u0627\u062b\u0644\n\u0644\u0644\u0628\u064a\u0627\u0646\u0627\u062a \u0641\u064a \u0627\u0644\u0641\u0636\u0627\u0621 \u0645\u0646\u062e\u0641\u0636 \u0627\u0644\u0623\u0628\u0639\u0627\u062f.\n"
      ]
    },
    {
      "cell_type": "code",
      "execution_count": null,
      "metadata": {
        "collapsed": false
      },
      "outputs": [],
      "source": [
        "# Authors: The scikit-learn developers\n# SPDX-License-Identifier: BSD-3-Clause"
      ]
    },
    {
      "cell_type": "markdown",
      "metadata": {},
      "source": [
        "## \u0625\u0639\u062f\u0627\u062f \u0645\u062c\u0645\u0648\u0639\u0629 \u0627\u0644\u0628\u064a\u0627\u0646\u0627\u062a\n\n\u0646\u0628\u062f\u0623 \u0628\u062a\u0648\u0644\u064a\u062f \u0645\u062c\u0645\u0648\u0639\u0629 \u0628\u064a\u0627\u0646\u0627\u062a \u0627\u0644\u0645\u0646\u062d\u0646\u0649 S.\n\n"
      ]
    },
    {
      "cell_type": "code",
      "execution_count": null,
      "metadata": {
        "collapsed": false
      },
      "outputs": [],
      "source": [
        "import matplotlib.pyplot as plt\n\n# unused but required import for doing 3d projections with matplotlib < 3.2\nimport mpl_toolkits.mplot3d  # noqa: F401\nfrom matplotlib import ticker\n\nfrom sklearn import datasets, manifold\n\nn_samples = 1500\nS_points, S_color = datasets.make_s_curve(n_samples, random_state=0)"
      ]
    },
    {
      "cell_type": "markdown",
      "metadata": {},
      "source": [
        "\u0644\u0646\u0644\u0642\u0650 \u0646\u0638\u0631\u0629 \u0639\u0644\u0649 \u0627\u0644\u0628\u064a\u0627\u0646\u0627\u062a \u0627\u0644\u0623\u0635\u0644\u064a\u0629. \u0648\u0646\u0639\u0631\u0651\u0641 \u0623\u064a\u0636\u064b\u0627 \u0628\u0639\u0636 \u0627\u0644\u062f\u0648\u0627\u0644 \u0627\u0644\u0645\u0633\u0627\u0639\u062f\u0629\u060c\n\u0648\u0627\u0644\u062a\u064a \u0633\u0646\u0633\u062a\u062e\u062f\u0645\u0647\u0627 \u0644\u0627\u062d\u0642\u064b\u0627.\n\n"
      ]
    },
    {
      "cell_type": "code",
      "execution_count": null,
      "metadata": {
        "collapsed": false
      },
      "outputs": [],
      "source": [
        "def plot_3d(points, points_color, title):\n    x, y, z = points.T\n\n    fig, ax = plt.subplots(\n        figsize=(6, 6),\n        facecolor=\"white\",\n        tight_layout=True,\n        subplot_kw={\"projection\": \"3d\"},\n    )\n    fig.suptitle(title, size=16)\n    col = ax.scatter(x, y, z, c=points_color, s=50, alpha=0.8)\n    ax.view_init(azim=-60, elev=9)\n    ax.xaxis.set_major_locator(ticker.MultipleLocator(1))\n    ax.yaxis.set_major_locator(ticker.MultipleLocator(1))\n    ax.zaxis.set_major_locator(ticker.MultipleLocator(1))\n\n    fig.colorbar(col, ax=ax, orientation=\"horizontal\", shrink=0.6, aspect=60, pad=0.01)\n    plt.show()\n\n\ndef plot_2d(points, points_color, title):\n    fig, ax = plt.subplots(figsize=(3, 3), facecolor=\"white\", constrained_layout=True)\n    fig.suptitle(title, size=16)\n    add_2d_scatter(ax, points, points_color)\n    plt.show()\n\n\ndef add_2d_scatter(ax, points, points_color, title=None):\n    x, y = points.T\n    ax.scatter(x, y, c=points_color, s=50, alpha=0.8)\n    ax.set_title(title)\n    ax.xaxis.set_major_formatter(ticker.NullFormatter())\n    ax.yaxis.set_major_formatter(ticker.NullFormatter())\n\n\nplot_3d(S_points, S_color, \"\u0639\u064a\u0646\u0627\u062a \u0627\u0644\u0645\u0646\u062d\u0646\u0649 S \u0627\u0644\u0623\u0635\u0644\u064a\u0629\")"
      ]
    },
    {
      "cell_type": "markdown",
      "metadata": {},
      "source": [
        "## \u062a\u0639\u0631\u064a\u0641 \u062e\u0648\u0627\u0631\u0632\u0645\u064a\u0627\u062a \u0644\u062a\u0639\u0644\u0645 \u0645\u062a\u0639\u062f\u062f \u0627\u0644\u0634\u0639\u0628\n\n\u062a\u0639\u0644\u0645 \u0645\u062a\u0639\u062f\u062f \u0627\u0644\u0634\u0639\u0628 \u0647\u0648 \u0646\u0647\u062c \u0644\u062e\u0641\u0636 \u0627\u0644\u0623\u0628\u0639\u0627\u062f \u063a\u064a\u0631 \u0627\u0644\u062e\u0637\u064a.\n\u062a\u0639\u062a\u0645\u062f \u062e\u0648\u0627\u0631\u0632\u0645\u064a\u0627\u062a \u0647\u0630\u0647 \u0627\u0644\u0645\u0647\u0645\u0629 \u0639\u0644\u0649 \u0641\u0643\u0631\u0629 \u0623\u0646 \u0623\u0628\u0639\u0627\u062f\n\u0627\u0644\u0639\u062f\u064a\u062f \u0645\u0646 \u0645\u062c\u0645\u0648\u0639\u0627\u062a \u0627\u0644\u0628\u064a\u0627\u0646\u0627\u062a \u0645\u0631\u062a\u0641\u0639\u0629 \u0628\u0634\u0643\u0644 \u0645\u0635\u0637\u0646\u0639 \u0641\u0642\u0637.\n\n\u0627\u0642\u0631\u0623 \u0627\u0644\u0645\u0632\u064a\u062f \u0641\u064a `\u062f\u0644\u064a\u0644 \u0627\u0644\u0645\u0633\u062a\u062e\u062f\u0645 <manifold>`.\n\n"
      ]
    },
    {
      "cell_type": "code",
      "execution_count": null,
      "metadata": {
        "collapsed": false
      },
      "outputs": [],
      "source": [
        "n_neighbors = 12  # \u0627\u0644\u062c\u0648\u0627\u0631 \u0627\u0644\u0630\u064a \u064a\u062a\u0645 \u0627\u0633\u062a\u062e\u062f\u0627\u0645\u0647 \u0644\u0627\u0633\u062a\u0639\u0627\u062f\u0629 \u0627\u0644\u0647\u064a\u0643\u0644 \u0627\u0644\u062e\u0637\u064a \u0627\u0644\u0645\u062d\u0644\u064a\nn_components = 2  # \u0639\u062f\u062f \u0627\u0644\u0625\u062d\u062f\u0627\u062b\u064a\u0627\u062a \u0644\u0645\u062a\u0639\u062f\u062f \u0627\u0644\u0634\u0639\u0628"
      ]
    },
    {
      "cell_type": "markdown",
      "metadata": {},
      "source": [
        "### \u062a\u0636\u0645\u064a\u0646\u0627\u062a \u062e\u0637\u064a\u0629 \u0645\u062d\u0644\u064a\u064b\u0627\n\n\u064a\u0645\u0643\u0646 \u0627\u0639\u062a\u0628\u0627\u0631 \u0627\u0644\u062a\u0636\u0645\u064a\u0646 \u0627\u0644\u062e\u0637\u064a \u0627\u0644\u0645\u062d\u0644\u064a (LLE) \u0633\u0644\u0633\u0644\u0629 \u0645\u0646 \u062a\u062d\u0644\u064a\u0644\u0627\u062a \u0627\u0644\u0645\u0643\u0648\u0646\u0627\u062a\n\u0627\u0644\u0631\u0626\u064a\u0633\u064a\u0629 \u0627\u0644\u0645\u062d\u0644\u064a\u0629 \u0627\u0644\u062a\u064a \u062a\u062a\u0645 \u0645\u0642\u0627\u0631\u0646\u062a\u0647\u0627 \u0639\u0627\u0644\u0645\u064a\u064b\u0627 \u0644\u0625\u064a\u062c\u0627\u062f \u0623\u0641\u0636\u0644 \u062a\u0636\u0645\u064a\u0646 \u063a\u064a\u0631 \u062e\u0637\u064a.\n\u0627\u0642\u0631\u0623 \u0627\u0644\u0645\u0632\u064a\u062f \u0641\u064a `\u062f\u0644\u064a\u0644 \u0627\u0644\u0645\u0633\u062a\u062e\u062f\u0645 <locally_linear_embedding>`.\n\n"
      ]
    },
    {
      "cell_type": "code",
      "execution_count": null,
      "metadata": {
        "collapsed": false
      },
      "outputs": [],
      "source": [
        "params = {\n    \"n_neighbors\": n_neighbors,\n    \"n_components\": n_components,\n    \"eigen_solver\": \"auto\",\n    \"random_state\": 0,\n}\n\nlle_standard = manifold.LocallyLinearEmbedding(method=\"standard\", **params)\nS_standard = lle_standard.fit_transform(S_points)\n\nlle_ltsa = manifold.LocallyLinearEmbedding(method=\"ltsa\", **params)\nS_ltsa = lle_ltsa.fit_transform(S_points)\n\nlle_hessian = manifold.LocallyLinearEmbedding(method=\"hessian\", **params)\nS_hessian = lle_hessian.fit_transform(S_points)\n\nlle_mod = manifold.LocallyLinearEmbedding(method=\"modified\", **params)\nS_mod = lle_mod.fit_transform(S_points)"
      ]
    },
    {
      "cell_type": "code",
      "execution_count": null,
      "metadata": {
        "collapsed": false
      },
      "outputs": [],
      "source": [
        "fig, axs = plt.subplots(\n    nrows=2, ncols=2, figsize=(7, 7), facecolor=\"white\", constrained_layout=True\n)\nfig.suptitle(\"\u0627\u0644\u062a\u0636\u0645\u064a\u0646\u0627\u062a \u0627\u0644\u062e\u0637\u064a\u0629 \u0627\u0644\u0645\u062d\u0644\u064a\u0629\", size=16)\n\nlle_methods = [\n    (\"\u0627\u0644\u062a\u0636\u0645\u064a\u0646 \u0627\u0644\u062e\u0637\u064a \u0627\u0644\u0645\u062d\u0644\u064a \u0627\u0644\u0642\u064a\u0627\u0633\u064a\", S_standard),\n    (\"\u0645\u062d\u0627\u0630\u0627\u0629 \u0645\u0633\u0627\u062d\u0629 \u0627\u0644\u0638\u0645\u0627\u0633 \u0627\u0644\u0645\u062d\u0644\u064a\", S_ltsa),\n    (\"\u062e\u0631\u064a\u0637\u0629 Hessian \u0627\u0644\u0630\u0627\u062a\u064a\u0629\", S_hessian),\n    (\"\u0627\u0644\u062a\u0636\u0645\u064a\u0646 \u0627\u0644\u062e\u0637\u064a \u0627\u0644\u0645\u062d\u0644\u064a \u0627\u0644\u0645\u0639\u062f\u0644\", S_mod),\n]\nfor ax, method in zip(axs.flat, lle_methods):\n    name, points = method\n    add_2d_scatter(ax, points, S_color, name)\n\nplt.show()"
      ]
    },
    {
      "cell_type": "markdown",
      "metadata": {},
      "source": [
        "### \u062a\u0636\u0645\u064a\u0646 Isomap\n\n\u062e\u0641\u0636 \u0627\u0644\u0623\u0628\u0639\u0627\u062f \u063a\u064a\u0631 \u0627\u0644\u062e\u0637\u064a \u0645\u0646 \u062e\u0644\u0627\u0644 \u0627\u0644\u062a\u0639\u064a\u064a\u0646 \u0627\u0644\u0645\u062a\u0633\u0627\u0648\u064a \u0627\u0644\u0642\u064a\u0627\u0633.\n\u064a\u0628\u062d\u062b Isomap \u0639\u0646 \u062a\u0636\u0645\u064a\u0646 \u0645\u0646\u062e\u0641\u0636 \u0627\u0644\u0623\u0628\u0639\u0627\u062f \u064a\u062d\u0627\u0641\u0638 \u0639\u0644\u0649 \u0627\u0644\u0645\u0633\u0627\u0641\u0627\u062a \u0627\u0644\u062c\u064a\u0648\u062f\u064a\u0633\u064a\u0629\n\u0628\u064a\u0646 \u062c\u0645\u064a\u0639 \u0627\u0644\u0646\u0642\u0627\u0637. \u0627\u0642\u0631\u0623 \u0627\u0644\u0645\u0632\u064a\u062f \u0641\u064a `\u062f\u0644\u064a\u0644 \u0627\u0644\u0645\u0633\u062a\u062e\u062f\u0645 <isomap>`.\n\n"
      ]
    },
    {
      "cell_type": "code",
      "execution_count": null,
      "metadata": {
        "collapsed": false
      },
      "outputs": [],
      "source": [
        "isomap = manifold.Isomap(n_neighbors=n_neighbors, n_components=n_components, p=1)\nS_isomap = isomap.fit_transform(S_points)\n\nplot_2d(S_isomap, S_color, \"\u062a\u0636\u0645\u064a\u0646 Isomap\")"
      ]
    },
    {
      "cell_type": "markdown",
      "metadata": {},
      "source": [
        "### \u0627\u0644\u0642\u064a\u0627\u0633 \u0645\u062a\u0639\u062f\u062f \u0627\u0644\u0623\u0628\u0639\u0627\u062f\n\n\u064a\u0628\u062d\u062b \u0627\u0644\u0642\u064a\u0627\u0633 \u0645\u062a\u0639\u062f\u062f \u0627\u0644\u0623\u0628\u0639\u0627\u062f (MDS) \u0639\u0646 \u062a\u0645\u062b\u064a\u0644 \u0645\u0646\u062e\u0641\u0636 \u0627\u0644\u0623\u0628\u0639\u0627\u062f\n\u0644\u0644\u0628\u064a\u0627\u0646\u0627\u062a \u062d\u064a\u062b \u062a\u062d\u062a\u0631\u0645 \u0627\u0644\u0645\u0633\u0627\u0641\u0627\u062a \u062c\u064a\u062f\u064b\u0627 \u0627\u0644\u0645\u0633\u0627\u0641\u0627\u062a \u0641\u064a\n\u0627\u0644\u0641\u0636\u0627\u0621 \u0627\u0644\u0623\u0635\u0644\u064a \u0639\u0627\u0644\u064a \u0627\u0644\u0623\u0628\u0639\u0627\u062f.\n\u0627\u0642\u0631\u0623 \u0627\u0644\u0645\u0632\u064a\u062f \u0641\u064a `\u062f\u0644\u064a\u0644 \u0627\u0644\u0645\u0633\u062a\u062e\u062f\u0645 <multidimensional_scaling>`.\n\n"
      ]
    },
    {
      "cell_type": "code",
      "execution_count": null,
      "metadata": {
        "collapsed": false
      },
      "outputs": [],
      "source": [
        "md_scaling = manifold.MDS(\n    n_components=n_components,\n    max_iter=50,\n    n_init=4,\n    random_state=0,\n    normalized_stress=False,\n)\nS_scaling = md_scaling.fit_transform(S_points)\n\nplot_2d(S_scaling, S_color, \"\u0627\u0644\u0642\u064a\u0627\u0633 \u0645\u062a\u0639\u062f\u062f \u0627\u0644\u0623\u0628\u0639\u0627\u062f\")"
      ]
    },
    {
      "cell_type": "markdown",
      "metadata": {},
      "source": [
        "### \u0627\u0644\u062a\u0636\u0645\u064a\u0646 \u0627\u0644\u0637\u064a\u0641\u064a \u0644\u062e\u0641\u0636 \u0627\u0644\u0623\u0628\u0639\u0627\u062f \u063a\u064a\u0631 \u0627\u0644\u062e\u0637\u064a\n\n\u064a\u0633\u062a\u062e\u062f\u0645 \u0647\u0630\u0627 \u0627\u0644\u062a\u0646\u0641\u064a\u0630 \u062e\u0631\u0627\u0626\u0637 Laplacian \u0627\u0644\u0630\u0627\u062a\u064a\u0629\u060c \u0648\u0627\u0644\u062a\u064a \u062a\u062c\u062f \u062a\u0645\u062b\u064a\u0644\u064b\u0627 \u0645\u0646\u062e\u0641\u0636 \u0627\u0644\u0623\u0628\u0639\u0627\u062f\n\u0644\u0644\u0628\u064a\u0627\u0646\u0627\u062a \u0628\u0627\u0633\u062a\u062e\u062f\u0627\u0645 \u062a\u062d\u0644\u064a\u0644 \u0637\u064a\u0641\u064a \u0644\u0645\u0635\u0641\u0648\u0641\u0629 Laplacian \u0644\u0644\u0631\u0633\u0645 \u0627\u0644\u0628\u064a\u0627\u0646\u064a.\n\u0627\u0642\u0631\u0623 \u0627\u0644\u0645\u0632\u064a\u062f \u0641\u064a `\u062f\u0644\u064a\u0644 \u0627\u0644\u0645\u0633\u062a\u062e\u062f\u0645 <spectral_embedding>`.\n\n"
      ]
    },
    {
      "cell_type": "code",
      "execution_count": null,
      "metadata": {
        "collapsed": false
      },
      "outputs": [],
      "source": [
        "spectral = manifold.SpectralEmbedding(\n    n_components=n_components, n_neighbors=n_neighbors, random_state=42\n)\nS_spectral = spectral.fit_transform(S_points)\n\nplot_2d(S_spectral, S_color, \"\u0627\u0644\u062a\u0636\u0645\u064a\u0646 \u0627\u0644\u0637\u064a\u0641\u064a\")"
      ]
    },
    {
      "cell_type": "markdown",
      "metadata": {},
      "source": [
        "### \u062a\u0636\u0645\u064a\u0646 \u0627\u0644\u062c\u0648\u0627\u0631 \u0627\u0644\u0639\u0634\u0648\u0627\u0626\u064a \u0627\u0644\u0645\u0648\u0632\u0639 \u0639\u0644\u0649 \u0634\u0643\u0644 \u062d\u0631\u0641 T\n\n\u064a\u062d\u0648\u0644 \u0623\u0648\u062c\u0647 \u0627\u0644\u062a\u0634\u0627\u0628\u0647 \u0628\u064a\u0646 \u0646\u0642\u0627\u0637 \u0627\u0644\u0628\u064a\u0627\u0646\u0627\u062a \u0625\u0644\u0649 \u0627\u062d\u062a\u0645\u0627\u0644\u0627\u062a \u0645\u0634\u062a\u0631\u0643\u0629 \u0648\n\u064a\u062d\u0627\u0648\u0644 \u062a\u0642\u0644\u064a\u0644 \u0627\u062e\u062a\u0644\u0627\u0641 Kullback-Leibler \u0628\u064a\u0646 \u0627\u0644\u0627\u062d\u062a\u0645\u0627\u0644\u0627\u062a \u0627\u0644\u0645\u0634\u062a\u0631\u0643\u0629\n\u0644\u0644\u062a\u0636\u0645\u064a\u0646 \u0645\u0646\u062e\u0641\u0636 \u0627\u0644\u0623\u0628\u0639\u0627\u062f \u0648\u0627\u0644\u0628\u064a\u0627\u0646\u0627\u062a \u0639\u0627\u0644\u064a\u0629 \u0627\u0644\u0623\u0628\u0639\u0627\u062f. \u0644\u062f\u0649 t-SNE \u062f\u0627\u0644\u0629 \u062a\u0643\u0644\u0641\u0629\n\u0644\u064a\u0633\u062a \u0645\u062d\u062f\u0628\u0629\u060c \u0623\u064a \u0645\u0639 \u062a\u0647\u064a\u0626\u0627\u062a \u0623\u0648\u0644\u064a\u0629 \u0645\u062e\u062a\u0644\u0641\u0629 \u064a\u0645\u0643\u0646\u0646\u0627 \u0627\u0644\u062d\u0635\u0648\u0644 \u0639\u0644\u0649\n\u0646\u062a\u0627\u0626\u062c \u0645\u062e\u062a\u0644\u0641\u0629. \u0627\u0642\u0631\u0623 \u0627\u0644\u0645\u0632\u064a\u062f \u0641\u064a `\u062f\u0644\u064a\u0644 \u0627\u0644\u0645\u0633\u062a\u062e\u062f\u0645 <t_sne>`.\n\n"
      ]
    },
    {
      "cell_type": "code",
      "execution_count": null,
      "metadata": {
        "collapsed": false
      },
      "outputs": [],
      "source": [
        "t_sne = manifold.TSNE(\n    n_components=n_components,\n    perplexity=30,\n    init=\"random\",\n    max_iter=250,\n    random_state=0,\n)\nS_t_sne = t_sne.fit_transform(S_points)\n\nplot_2d(S_t_sne, S_color, \"\u062a\u0636\u0645\u064a\u0646 \u0627\u0644\u062c\u0648\u0627\u0631 \u0627\u0644\u0639\u0634\u0648\u0627\u0626\u064a \\n \u0627\u0644\u0645\u0648\u0632\u0639 \u0639\u0644\u0649 \u0634\u0643\u0644 \u062d\u0631\u0641 T\")"
      ]
    }
  ],
  "metadata": {
    "kernelspec": {
      "display_name": "Python 3",
      "language": "python",
      "name": "python3"
    },
    "language_info": {
      "codemirror_mode": {
        "name": "ipython",
        "version": 3
      },
      "file_extension": ".py",
      "mimetype": "text/x-python",
      "name": "python",
      "nbconvert_exporter": "python",
      "pygments_lexer": "ipython3",
      "version": "3.10.13"
    }
  },
  "nbformat": 4,
  "nbformat_minor": 0
}