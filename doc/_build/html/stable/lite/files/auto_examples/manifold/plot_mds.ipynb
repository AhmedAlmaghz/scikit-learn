{
  "cells": [
    {
      "cell_type": "markdown",
      "metadata": {},
      "source": [
        "<div class='alert alert-warning'>\n\n# JupyterLite warning\n\nRunning the scikit-learn examples in JupyterLite is experimental and you may encounter some unexpected behavior.\n\nThe main difference is that imports will take a lot longer than usual, for example the first `import sklearn` can take roughly 10-20s.\n\nIf you notice problems, feel free to open an [issue](https://github.com/scikit-learn/scikit-learn/issues/new/choose) about it.\n</div>"
      ]
    },
    {
      "cell_type": "code",
      "execution_count": null,
      "metadata": {
        "collapsed": false
      },
      "outputs": [],
      "source": [
        "# JupyterLite-specific code\nimport matplotlib\nimport pandas"
      ]
    },
    {
      "cell_type": "markdown",
      "metadata": {},
      "source": [
        "\n# \u0627\u0644\u0642\u064a\u0627\u0633 \u0645\u062a\u0639\u062f\u062f \u0627\u0644\u0623\u0628\u0639\u0627\u062f\n\n\u062a\u0648\u0636\u064a\u062d \u0644\u0640 MDS \u0627\u0644\u0645\u062a\u0631\u064a \u0648\u063a\u064a\u0631 \u0627\u0644\u0645\u062a\u0631\u064a \u0639\u0644\u0649 \u0628\u064a\u0627\u0646\u0627\u062a \u0636\u0648\u0636\u0627\u0626\u064a\u0629 \u0645\u0648\u0644\u062f\u0629.\n\n\u064a\u062a\u0645 \u0625\u0632\u0627\u062d\u0629 \u0627\u0644\u0646\u0642\u0627\u0637 \u0627\u0644\u0645\u0639\u0627\u062f \u0628\u0646\u0627\u0624\u0647\u0627 \u0628\u0627\u0633\u062a\u062e\u062f\u0627\u0645 MDS \u0627\u0644\u0645\u062a\u0631\u064a \u0648\u063a\u064a\u0631 \u0627\u0644\u0645\u062a\u0631\u064a MDS \u0642\u0644\u064a\u0644\u0627\u064b\n\u0644\u062a\u062c\u0646\u0628 \u0627\u0644\u062a\u062f\u0627\u062e\u0644.\n"
      ]
    },
    {
      "cell_type": "code",
      "execution_count": null,
      "metadata": {
        "collapsed": false
      },
      "outputs": [],
      "source": [
        "# Authors: The scikit-learn developers\n# SPDX-License-Identifier: BSD-3-Clause\n\nimport numpy as np\nfrom matplotlib import pyplot as plt\nfrom matplotlib.collections import LineCollection\n\nfrom sklearn import manifold\nfrom sklearn.decomposition import PCA\nfrom sklearn.metrics import euclidean_distances\n\nEPSILON = np.finfo(np.float32).eps\nn_samples = 20\nseed = np.random.RandomState(seed=3)\nX_true = seed.randint(0, 20, 2 * n_samples).astype(float)\nX_true = X_true.reshape((n_samples, 2))\n# \u062a\u0648\u0633\u064a\u0637 \u0627\u0644\u0628\u064a\u0627\u0646\u0627\u062a\nX_true -= X_true.mean()\n\nsimilarities = euclidean_distances(X_true)\n\n# \u0625\u0636\u0627\u0641\u0629 \u0636\u0648\u0636\u0627\u0621 \u0625\u0644\u0649 \u0623\u0648\u062c\u0647 \u0627\u0644\u062a\u0634\u0627\u0628\u0647\nnoise = np.random.rand(n_samples, n_samples)\nnoise = noise + noise.T\nnoise[np.arange(noise.shape[0]), np.arange(noise.shape[0])] = 0\nsimilarities += noise\n\nmds = manifold.MDS(\n    n_components=2,\n    max_iter=3000,\n    eps=1e-9,\n    random_state=seed,\n    dissimilarity=\"precomputed\",\n    n_jobs=1,\n)\npos = mds.fit(similarities).embedding_\n\nnmds = manifold.MDS(\n    n_components=2,\n    metric=False,\n    max_iter=3000,\n    eps=1e-12,\n    dissimilarity=\"precomputed\",\n    random_state=seed,\n    n_jobs=1,\n    n_init=1,\n)\nnpos = nmds.fit_transform(similarities, init=pos)\n\n# \u0625\u0639\u0627\u062f\u0629 \u0642\u064a\u0627\u0633 \u0627\u0644\u0628\u064a\u0627\u0646\u0627\u062a\npos *= np.sqrt((X_true**2).sum()) / np.sqrt((pos**2).sum())\nnpos *= np.sqrt((X_true**2).sum()) / np.sqrt((npos**2).sum())\n\n# \u062a\u062f\u0648\u064a\u0631 \u0627\u0644\u0628\u064a\u0627\u0646\u0627\u062a\nclf = PCA(n_components=2)\nX_true = clf.fit_transform(X_true)\n\npos = clf.fit_transform(pos)\n\nnpos = clf.fit_transform(npos)\n\nfig = plt.figure(1)\nax = plt.axes([0.0, 0.0, 1.0, 1.0])\n\ns = 100\nplt.scatter(X_true[:, 0], X_true[:, 1], color=\"navy\", s=s, lw=0, label=\"\u0627\u0644\u0645\u0648\u0636\u0639 \u0627\u0644\u062d\u0642\u064a\u0642\u064a\")\nplt.scatter(pos[:, 0], pos[:, 1], color=\"turquoise\", s=s, lw=0, label=\"MDS\")\nplt.scatter(npos[:, 0], npos[:, 1], color=\"darkorange\", s=s, lw=0, label=\"NMDS\")\nplt.legend(scatterpoints=1, loc=\"best\", shadow=False)\n\nsimilarities = similarities.max() / (similarities + EPSILON) * 100\nnp.fill_diagonal(similarities, 0)\n# \u0631\u0633\u0645 \u0627\u0644\u062d\u0648\u0627\u0641\nstart_idx, end_idx = np.where(pos)\n# \u062a\u0633\u0644\u0633\u0644 \u0645\u0646 (*line0*, *line1*, *line2*)\u060c \u062d\u064a\u062b::\n#            linen = (x0, y0), (x1, y1), ... (xm, ym)\nsegments = [\n    [X_true[i, :], X_true[j, :]] for i in range(len(pos)) for j in range(len(pos))\n]\nvalues = np.abs(similarities)\nlc = LineCollection(\n    segments, zorder=0, cmap=plt.cm.Blues, norm=plt.Normalize(0, values.max())\n)\nlc.set_array(similarities.flatten())\nlc.set_linewidths(np.full(len(segments), 0.5))\nax.add_collection(lc)\n\nplt.show()"
      ]
    }
  ],
  "metadata": {
    "kernelspec": {
      "display_name": "Python 3",
      "language": "python",
      "name": "python3"
    },
    "language_info": {
      "codemirror_mode": {
        "name": "ipython",
        "version": 3
      },
      "file_extension": ".py",
      "mimetype": "text/x-python",
      "name": "python",
      "nbconvert_exporter": "python",
      "pygments_lexer": "ipython3",
      "version": "3.10.13"
    }
  },
  "nbformat": 4,
  "nbformat_minor": 0
}