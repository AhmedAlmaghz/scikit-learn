{
  "cells": [
    {
      "cell_type": "markdown",
      "metadata": {},
      "source": [
        "<div class='alert alert-warning'>\n\n# JupyterLite warning\n\nRunning the scikit-learn examples in JupyterLite is experimental and you may encounter some unexpected behavior.\n\nThe main difference is that imports will take a lot longer than usual, for example the first `import sklearn` can take roughly 10-20s.\n\nIf you notice problems, feel free to open an [issue](https://github.com/scikit-learn/scikit-learn/issues/new/choose) about it.\n</div>"
      ]
    },
    {
      "cell_type": "code",
      "execution_count": null,
      "metadata": {
        "collapsed": false
      },
      "outputs": [],
      "source": [
        "# JupyterLite-specific code\nimport matplotlib\nimport pandas"
      ]
    },
    {
      "cell_type": "markdown",
      "metadata": {},
      "source": [
        "\n# \u062a\u062d\u0644\u064a\u0644 \u0627\u0644\u0645\u0643\u0648\u0646\u0627\u062a \u0627\u0644\u0623\u0633\u0627\u0633\u064a\u0629 \u0627\u0644\u062a\u0632\u0627\u064a\u062f\u064a\n\n\u064a\u0633\u062a\u062e\u062f\u0645 \u062a\u062d\u0644\u064a\u0644 \u0627\u0644\u0645\u0643\u0648\u0646\u0627\u062a \u0627\u0644\u0623\u0633\u0627\u0633\u064a\u0629 \u0627\u0644\u062a\u0632\u0627\u064a\u062f\u064a (IPCA) \u0639\u0627\u062f\u0629 \u0643\u0628\u062f\u064a\u0644 \u0644\u062a\u062d\u0644\u064a\u0644 \u0627\u0644\u0645\u0643\u0648\u0646\u0627\u062a \u0627\u0644\u0623\u0633\u0627\u0633\u064a\u0629 (PCA) \u0639\u0646\u062f\u0645\u0627 \u062a\u0643\u0648\u0646 \u0645\u062c\u0645\u0648\u0639\u0629 \u0627\u0644\u0628\u064a\u0627\u0646\u0627\u062a \u0627\u0644\u0645\u0631\u0627\u062f \u062a\u062d\u0644\u064a\u0644\u0647\u0627 \u0643\u0628\u064a\u0631\u0629 \u062c\u062f\u064b\u0627 \u0628\u062d\u064a\u062b \u0644\u0627 \u064a\u0645\u0643\u0646 \u062a\u062d\u0645\u064a\u0644\u0647\u0627 \u0641\u064a \u0627\u0644\u0630\u0627\u0643\u0631\u0629. \u064a\u0642\u0648\u0645 IPCA \u0628\u0628\u0646\u0627\u0621 \u062a\u0642\u0631\u064a\u0628 \u0645\u0646\u062e\u0641\u0636 \u0627\u0644\u0631\u062a\u0628\u0629 \u0644\u0628\u064a\u0627\u0646\u0627\u062a \u0627\u0644\u0625\u062f\u062e\u0627\u0644 \u0628\u0627\u0633\u062a\u062e\u062f\u0627\u0645 \u0643\u0645\u064a\u0629 \u0645\u0646 \u0627\u0644\u0630\u0627\u0643\u0631\u0629 \u0644\u0627 \u062a\u0639\u062a\u0645\u062f \u0639\u0644\u0649 \u0639\u062f\u062f \u0639\u064a\u0646\u0627\u062a \u0628\u064a\u0627\u0646\u0627\u062a \u0627\u0644\u0625\u062f\u062e\u0627\u0644. \u0644\u0627 \u064a\u0632\u0627\u0644 \u064a\u0639\u062a\u0645\u062f \u0639\u0644\u0649 \u0645\u064a\u0632\u0627\u062a \u0628\u064a\u0627\u0646\u0627\u062a \u0627\u0644\u0625\u062f\u062e\u0627\u0644\u060c \u0648\u0644\u0643\u0646 \u062a\u063a\u064a\u064a\u0631 \u062d\u062c\u0645 \u0627\u0644\u062f\u0641\u0639\u0629 \u064a\u0633\u0645\u062d \u0628\u0627\u0644\u062a\u062d\u0643\u0645 \u0641\u064a \u0627\u0633\u062a\u062e\u062f\u0627\u0645 \u0627\u0644\u0630\u0627\u0643\u0631\u0629.\n\n\u064a\u0639\u0645\u0644 \u0647\u0630\u0627 \u0627\u0644\u0645\u062b\u0627\u0644 \u0643\u0641\u062d\u0635 \u0645\u0631\u0626\u064a \u0644\u0644\u062a\u0623\u0643\u062f \u0645\u0646 \u0623\u0646 IPCA \u0642\u0627\u062f\u0631 \u0639\u0644\u0649 \u0625\u064a\u062c\u0627\u062f \u0625\u0633\u0642\u0627\u0637 \u0645\u0634\u0627\u0628\u0647 \u0644\u0644\u0628\u064a\u0627\u0646\u0627\u062a \u0645\u062b\u0644 PCA (\u0625\u0644\u0649 \u0627\u0646\u0642\u0644\u0627\u0628 \u0627\u0644\u0625\u0634\u0627\u0631\u0629)\u060c \u0628\u064a\u0646\u0645\u0627 \u064a\u0642\u0648\u0645 \u0628\u0645\u0639\u0627\u0644\u062c\u0629 \u0628\u0636\u0639 \u0639\u064a\u0646\u0627\u062a \u0641\u0642\u0637 \u0641\u064a \u0643\u0644 \u0645\u0631\u0629. \u064a\u0645\u0643\u0646 \u0627\u0639\u062a\u0628\u0627\u0631 \u0647\u0630\u0627 \u0627\u0644\u0645\u062b\u0627\u0644 \"\u0645\u062b\u0627\u0644\u064b\u0627 \u062a\u0648\u0636\u064a\u062d\u064a\u064b\u0627\"\u060c \u062d\u064a\u062b \u0623\u0646 IPCA \u0645\u062e\u0635\u0635 \u0644\u0645\u062c\u0645\u0648\u0639\u0627\u062a \u0627\u0644\u0628\u064a\u0627\u0646\u0627\u062a \u0627\u0644\u0643\u0628\u064a\u0631\u0629 \u0627\u0644\u062a\u064a \u0644\u0627 \u064a\u0645\u0643\u0646 \u062a\u062d\u0645\u064a\u0644\u0647\u0627 \u0641\u064a \u0627\u0644\u0630\u0627\u0643\u0631\u0629 \u0627\u0644\u0631\u0626\u064a\u0633\u064a\u0629\u060c \u0645\u0645\u0627 \u064a\u062a\u0637\u0644\u0628 \u0646\u0647\u062c\u064b\u0627 \u062a\u0632\u0627\u064a\u062f\u064a\u064b\u0627.\n"
      ]
    },
    {
      "cell_type": "code",
      "execution_count": null,
      "metadata": {
        "collapsed": false
      },
      "outputs": [],
      "source": [
        "# \u0627\u0644\u0645\u0624\u0644\u0641\u0648\u0646: \u0645\u0637\u0648\u0631\u064a scikit-learn\n# \u0645\u0639\u0631\u0641 \u0627\u0644\u062a\u0631\u062e\u064a\u0635: BSD-3-Clause\n\nimport matplotlib.pyplot as plt\nimport numpy as np\n\nfrom sklearn.datasets import load_iris\nfrom sklearn.decomposition import PCA, IncrementalPCA\n\niris = load_iris()\nX = iris.data\ny = iris.target\n\nn_components = 2\nipca = IncrementalPCA(n_components=n_components, batch_size=10)\nX_ipca = ipca.fit_transform(X)\n\npca = PCA(n_components=n_components)\nX_pca = pca.fit_transform(X)\n\ncolors = [\"navy\", \"turquoise\", \"darkorange\"]\n\nfor X_transformed, title in [(X_ipca, \"Incremental PCA\"), (X_pca, \"PCA\")]:\n    plt.figure(figsize=(8, 8))\n    for color, i, target_name in zip(colors, [0, 1, 2], iris.target_names):\n        plt.scatter(\n            X_transformed[y == i, 0],\n            X_transformed[y == i, 1],\n            color=color,\n            lw=2,\n            label=target_name,\n        )\n\n    if \"Incremental\" in title:\n        err = np.abs(np.abs(X_pca) - np.abs(X_ipca)).mean()\n        plt.title(\n            title + \" of iris dataset\\nMean absolute unsigned error %.6f\" % err)\n    else:\n        plt.title(title + \" of iris dataset\")\n    plt.legend(loc=\"best\", shadow=False, scatterpoints=1)\n    plt.axis([-4, 4, -1.5, 1.5])\n\nplt.show()"
      ]
    }
  ],
  "metadata": {
    "kernelspec": {
      "display_name": "Python 3",
      "language": "python",
      "name": "python3"
    },
    "language_info": {
      "codemirror_mode": {
        "name": "ipython",
        "version": 3
      },
      "file_extension": ".py",
      "mimetype": "text/x-python",
      "name": "python",
      "nbconvert_exporter": "python",
      "pygments_lexer": "ipython3",
      "version": "3.10.13"
    }
  },
  "nbformat": 4,
  "nbformat_minor": 0
}