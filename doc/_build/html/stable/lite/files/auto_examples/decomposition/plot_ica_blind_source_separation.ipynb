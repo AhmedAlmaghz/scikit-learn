{
  "cells": [
    {
      "cell_type": "markdown",
      "metadata": {},
      "source": [
        "<div class='alert alert-warning'>\n\n# JupyterLite warning\n\nRunning the scikit-learn examples in JupyterLite is experimental and you may encounter some unexpected behavior.\n\nThe main difference is that imports will take a lot longer than usual, for example the first `import sklearn` can take roughly 10-20s.\n\nIf you notice problems, feel free to open an [issue](https://github.com/scikit-learn/scikit-learn/issues/new/choose) about it.\n</div>"
      ]
    },
    {
      "cell_type": "code",
      "execution_count": null,
      "metadata": {
        "collapsed": false
      },
      "outputs": [],
      "source": [
        "# JupyterLite-specific code\nimport matplotlib\nimport pandas"
      ]
    },
    {
      "cell_type": "markdown",
      "metadata": {},
      "source": [
        "\n# \u0641\u0635\u0644 \u0627\u0644\u0645\u0635\u062f\u0631 \u0627\u0644\u0623\u0639\u0645\u0649 \u0628\u0627\u0633\u062a\u062e\u062f\u0627\u0645 FastICA\n\n\u0645\u062b\u0627\u0644 \u0639\u0644\u0649 \u062a\u0642\u062f\u064a\u0631 \u0627\u0644\u0645\u0635\u0627\u062f\u0631 \u0645\u0646 \u0628\u064a\u0627\u0646\u0627\u062a \u0645\u0634\u0648\u0634\u0629.\n\n\u064a\u062a\u0645 \u0627\u0633\u062a\u062e\u062f\u0627\u0645 `ICA` \u0644\u062a\u0642\u062f\u064a\u0631 \u0627\u0644\u0645\u0635\u0627\u062f\u0631 \u0641\u064a \u0636\u0648\u0621 \u0642\u064a\u0627\u0633\u0627\u062a \u0645\u0634\u0648\u0634\u0629.\n\u062a\u062e\u064a\u0644 3 \u0622\u0644\u0627\u062a \u0645\u0648\u0633\u064a\u0642\u064a\u0629 \u062a\u0639\u0632\u0641 \u0641\u064a \u0648\u0642\u062a \u0648\u0627\u062d\u062f \u0648 3 \u0645\u064a\u0643\u0631\u0648\u0641\u0648\u0646\u0627\u062a\n\u062a\u0633\u062c\u0644 \u0627\u0644\u0625\u0634\u0627\u0631\u0627\u062a \u0627\u0644\u0645\u062e\u062a\u0644\u0637\u0629. \u064a\u062a\u0645 \u0627\u0633\u062a\u062e\u062f\u0627\u0645 ICA \u0644\u0627\u0633\u062a\u0639\u0627\u062f\u0629 \u0627\u0644\u0645\u0635\u0627\u062f\u0631\n\u0623\u064a \u0645\u0627 \u064a\u062a\u0645 \u0639\u0632\u0641\u0647 \u0628\u0648\u0627\u0633\u0637\u0629 \u0643\u0644 \u0622\u0644\u0629. \u0627\u0644\u0623\u0647\u0645 \u0645\u0646 \u0630\u0644\u0643\u060c \u0623\u0646 PCA \u064a\u0641\u0634\u0644\n\u0641\u064a \u0627\u0633\u062a\u0639\u0627\u062f\u0629 \"\u0627\u0644\u0622\u0644\u0627\u062a\" \u0627\u0644\u062e\u0627\u0635\u0629 \u0628\u0646\u0627 \u0644\u0623\u0646 \u0627\u0644\u0625\u0634\u0627\u0631\u0627\u062a \u0630\u0627\u062a \u0627\u0644\u0635\u0644\u0629 \u062a\u0639\u0643\u0633\n\u0639\u0645\u0644\u064a\u0627\u062a \u063a\u064a\u0631 \u063a\u0627\u0648\u0633\u064a\u0629.\n"
      ]
    },
    {
      "cell_type": "code",
      "execution_count": null,
      "metadata": {
        "collapsed": false
      },
      "outputs": [],
      "source": [
        "# Authors: The scikit-learn developers\n# SPDX-License-Identifier: BSD-3-Clause"
      ]
    },
    {
      "cell_type": "markdown",
      "metadata": {},
      "source": [
        "## \u0625\u0646\u0634\u0627\u0621 \u0628\u064a\u0627\u0646\u0627\u062a \u0646\u0645\u0648\u0630\u062c\u064a\u0629\n\n"
      ]
    },
    {
      "cell_type": "code",
      "execution_count": null,
      "metadata": {
        "collapsed": false
      },
      "outputs": [],
      "source": [
        "import matplotlib.pyplot as plt\nfrom sklearn.decomposition import PCA, FastICA\nimport numpy as np\nfrom scipy import signal\n\nnp.random.seed(0)\nn_samples = 2000\ntime = np.linspace(0, 8, n_samples)\n\ns1 = np.sin(2 * time)  # \u0627\u0644\u0625\u0634\u0627\u0631\u0629 1: \u0625\u0634\u0627\u0631\u0629 \u062c\u064a\u0628\u064a\u0629\ns2 = np.sign(np.sin(3 * time))  # \u0627\u0644\u0625\u0634\u0627\u0631\u0629 2: \u0625\u0634\u0627\u0631\u0629 \u0645\u0631\u0628\u0639\u0629\ns3 = signal.sawtooth(2 * np.pi * time)  # \u0627\u0644\u0625\u0634\u0627\u0631\u0629 3: \u0625\u0634\u0627\u0631\u0629 \u0633\u0646 \u0627\u0644\u0645\u0646\u0634\u0627\u0631\n\nS = np.c_[s1, s2, s3]\nS += 0.2 * np.random.normal(size=S.shape)  # \u0625\u0636\u0627\u0641\u0629 \u0636\u0648\u0636\u0627\u0621\n\nS /= S.std(axis=0)  # \u062a\u0648\u062d\u064a\u062f \u0627\u0644\u0628\u064a\u0627\u0646\u0627\u062a\n# \u062e\u0644\u0637 \u0627\u0644\u0628\u064a\u0627\u0646\u0627\u062a\nA = np.array([[1, 1, 1], [0.5, 2, 1.0], [1.5, 1.0, 2.0]])  # \u0645\u0635\u0641\u0648\u0641\u0629 \u0627\u0644\u062e\u0644\u0637\nX = np.dot(S, A.T)  # \u0625\u0646\u0634\u0627\u0621 \u0627\u0644\u0645\u0644\u0627\u062d\u0638\u0627\u062a"
      ]
    },
    {
      "cell_type": "markdown",
      "metadata": {},
      "source": [
        "## \u0645\u0644\u0627\u0621\u0645\u0629 \u0646\u0645\u0627\u0630\u062c ICA \u0648 PCA\n\n"
      ]
    },
    {
      "cell_type": "code",
      "execution_count": null,
      "metadata": {
        "collapsed": false
      },
      "outputs": [],
      "source": [
        "# \u062d\u0633\u0627\u0628 ICA\nica = FastICA(n_components=3, whiten=\"arbitrary-variance\")\nS_ = ica.fit_transform(X)  # \u0625\u0639\u0627\u062f\u0629 \u0628\u0646\u0627\u0621 \u0627\u0644\u0625\u0634\u0627\u0631\u0627\u062a\nA_ = ica.mixing_  # \u0627\u0644\u062d\u0635\u0648\u0644 \u0639\u0644\u0649 \u0645\u0635\u0641\u0648\u0641\u0629 \u0627\u0644\u062e\u0644\u0637 \u0627\u0644\u0645\u0642\u062f\u0631\u0629\n\n# \u064a\u0645\u0643\u0646\u0646\u0627 \"\u0625\u062b\u0628\u0627\u062a\" \u0623\u0646 \u0646\u0645\u0648\u0630\u062c ICA \u064a\u0646\u0637\u0628\u0642 \u0639\u0646 \u0637\u0631\u064a\u0642 \u0639\u0643\u0633 \u0639\u062f\u0645 \u0627\u0644\u062e\u0644\u0637.\nassert np.allclose(X, np.dot(S_, A_.T) + ica.mean_)\n\n# \u0644\u0644\u0645\u0642\u0627\u0631\u0646\u0629\u060c \u062d\u0633\u0627\u0628 PCA\npca = PCA(n_components=3)\nH = pca.fit_transform(X)  # \u0625\u0639\u0627\u062f\u0629 \u0628\u0646\u0627\u0621 \u0627\u0644\u0625\u0634\u0627\u0631\u0627\u062a \u0628\u0646\u0627\u0621\u064b \u0639\u0644\u0649 \u0627\u0644\u0645\u0643\u0648\u0646\u0627\u062a \u0627\u0644\u0645\u062a\u0639\u0627\u0645\u062f\u0629"
      ]
    },
    {
      "cell_type": "markdown",
      "metadata": {},
      "source": [
        "## \u0631\u0633\u0645 \u0627\u0644\u0646\u062a\u0627\u0626\u062c\n\n"
      ]
    },
    {
      "cell_type": "code",
      "execution_count": null,
      "metadata": {
        "collapsed": false
      },
      "outputs": [],
      "source": [
        "plt.figure()\n\nmodels = [X, S, S_, H]\nnames = [\n    \"\u0627\u0644\u0645\u0644\u0627\u062d\u0638\u0627\u062a (\u0625\u0634\u0627\u0631\u0629 \u0645\u062e\u062a\u0644\u0637\u0629)\",\n    \"\u0627\u0644\u0645\u0635\u0627\u062f\u0631 \u0627\u0644\u062d\u0642\u064a\u0642\u064a\u0629\",\n    \"\u0625\u0634\u0627\u0631\u0627\u062a ICA \u0627\u0644\u0645\u0633\u062a\u0639\u0627\u062f\u0629\",\n    \"\u0625\u0634\u0627\u0631\u0627\u062a PCA \u0627\u0644\u0645\u0633\u062a\u0639\u0627\u062f\u0629\",\n]\ncolors = [\"red\", \"steelblue\", \"orange\"]\n\nfor ii, (model, name) in enumerate(zip(models, names), 1):\n    plt.subplot(4, 1, ii)\n    plt.title(name)\n    for sig, color in zip(model.T, colors):\n        plt.plot(sig, color=color)\n\nplt.tight_layout()\nplt.show()"
      ]
    }
  ],
  "metadata": {
    "kernelspec": {
      "display_name": "Python 3",
      "language": "python",
      "name": "python3"
    },
    "language_info": {
      "codemirror_mode": {
        "name": "ipython",
        "version": 3
      },
      "file_extension": ".py",
      "mimetype": "text/x-python",
      "name": "python",
      "nbconvert_exporter": "python",
      "pygments_lexer": "ipython3",
      "version": "3.10.13"
    }
  },
  "nbformat": 4,
  "nbformat_minor": 0
}