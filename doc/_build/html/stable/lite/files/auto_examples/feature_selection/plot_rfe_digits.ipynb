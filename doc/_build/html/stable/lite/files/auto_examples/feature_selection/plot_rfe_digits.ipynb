{
  "cells": [
    {
      "cell_type": "markdown",
      "metadata": {},
      "source": [
        "<div class='alert alert-warning'>\n\n# JupyterLite warning\n\nRunning the scikit-learn examples in JupyterLite is experimental and you may encounter some unexpected behavior.\n\nThe main difference is that imports will take a lot longer than usual, for example the first `import sklearn` can take roughly 10-20s.\n\nIf you notice problems, feel free to open an [issue](https://github.com/scikit-learn/scikit-learn/issues/new/choose) about it.\n</div>"
      ]
    },
    {
      "cell_type": "code",
      "execution_count": null,
      "metadata": {
        "collapsed": false
      },
      "outputs": [],
      "source": [
        "# JupyterLite-specific code\nimport matplotlib\nimport pandas"
      ]
    },
    {
      "cell_type": "markdown",
      "metadata": {},
      "source": [
        "\n# \u0625\u0632\u0627\u0644\u0629 \u0627\u0644\u0645\u064a\u0632\u0629 \u0627\u0644\u0645\u062a\u0643\u0631\u0631\u0629\n\n\u064a\u0648\u0636\u062d \u0647\u0630\u0627 \u0627\u0644\u0645\u062b\u0627\u0644 \u0643\u064a\u0641\u064a\u0629 \u0627\u0633\u062a\u062e\u062f\u0627\u0645 \u062d\u0630\u0641 \u0627\u0644\u0645\u064a\u0632\u0627\u062a \u0627\u0644\u062a\u0643\u0631\u0627\u0631\u064a\n(:class:`~sklearn.feature_selection.RFE`) \u0644\u062a\u062d\u062f\u064a\u062f\n\u0623\u0647\u0645\u064a\u0629 \u0648\u062d\u062f\u0627\u062a \u0627\u0644\u0628\u0643\u0633\u0644 \u0627\u0644\u0641\u0631\u062f\u064a\u0629 \u0644\u062a\u0635\u0646\u064a\u0641 \u0627\u0644\u0623\u0631\u0642\u0627\u0645 \u0627\u0644\u0645\u0643\u062a\u0648\u0628\u0629 \u0628\u062e\u0637 \u0627\u0644\u064a\u062f.\n:class:`~sklearn.feature_selection.RFE` \u064a\u0632\u064a\u0644 \u0628\u0634\u0643\u0644 \u062a\u0643\u0631\u0627\u0631\u064a \u0627\u0644\u0645\u064a\u0632\u0627\u062a \u0627\u0644\u0623\u0642\u0644\n\u0623\u0647\u0645\u064a\u0629\u060c \u0648\u064a\u062e\u0635\u0635 \u0627\u0644\u0631\u062a\u0628 \u0628\u0646\u0627\u0621\u064b \u0639\u0644\u0649 \u0623\u0647\u0645\u064a\u062a\u0647\u0627\u060c \u062d\u064a\u062b \u062a\u0634\u064a\u0631 \u0642\u064a\u0645 `ranking_` \u0627\u0644\u0623\u0639\u0644\u0649\n\u0625\u0644\u0649 \u0623\u0647\u0645\u064a\u0629 \u0623\u0642\u0644. \u064a\u062a\u0645 \u062a\u0635\u0648\u0631 \u0627\u0644\u062a\u0631\u062a\u064a\u0628 \u0628\u0627\u0633\u062a\u062e\u062f\u0627\u0645 \u0643\u0644 \u0645\u0646 \u062f\u0631\u062c\u0627\u062a \u0627\u0644\u0644\u0648\u0646 \u0627\u0644\u0623\u0632\u0631\u0642\n\u0648\u0634\u0631\u0648\u062d \u0627\u0644\u0628\u0643\u0633\u0644 \u0645\u0646 \u0623\u062c\u0644 \u0627\u0644\u0648\u0636\u0648\u062d. \u0643\u0645\u0627 \u0647\u0648 \u0645\u062a\u0648\u0642\u0639\u060c \u062a\u0645\u064a\u0644 \u0648\u062d\u062f\u0627\u062a \u0627\u0644\u0628\u0643\u0633\u0644 \u0627\u0644\u0645\u0648\u062c\u0648\u062f\u0629\n\u0641\u064a \u0648\u0633\u0637 \u0627\u0644\u0635\u0648\u0631\u0629 \u0625\u0644\u0649 \u0623\u0646 \u062a\u0643\u0648\u0646 \u0623\u0643\u062b\u0631 \u0642\u062f\u0631\u0629 \u0639\u0644\u0649 \u0627\u0644\u062a\u0646\u0628\u0624 \u0645\u0646 \u062a\u0644\u0643 \u0627\u0644\u0642\u0631\u064a\u0628\u0629 \u0645\u0646 \u0627\u0644\u062d\u0648\u0627\u0641.\n\n<div class=\"alert alert-info\"><h4>Note</h4><p>See also `sphx_glr_auto_examples_feature_selection_plot_rfe_with_cross_validation.py`</p></div>\n"
      ]
    },
    {
      "cell_type": "code",
      "execution_count": null,
      "metadata": {
        "collapsed": false
      },
      "outputs": [],
      "source": [
        "# Authors: The scikit-learn developers\n# SPDX-License-Identifier: BSD-3-Clause\n\nimport matplotlib.pyplot as plt\n\nfrom sklearn.datasets import load_digits\nfrom sklearn.feature_selection import RFE\nfrom sklearn.linear_model import LogisticRegression\nfrom sklearn.pipeline import Pipeline\nfrom sklearn.preprocessing import MinMaxScaler\n\n# \u062a\u062d\u0645\u064a\u0644 \u0645\u062c\u0645\u0648\u0639\u0629 \u0628\u064a\u0627\u0646\u0627\u062a \u0627\u0644\u0623\u0631\u0642\u0627\u0645\ndigits = load_digits()\nX = digits.images.reshape((len(digits.images), -1))\ny = digits.target\n\npipe = Pipeline(\n    [\n        (\"scaler\", MinMaxScaler()),\n        (\"rfe\", RFE(estimator=LogisticRegression(), n_features_to_select=1, step=1)),\n    ]\n)\n\npipe.fit(X, y)\nranking = pipe.named_steps[\"rfe\"].ranking_.reshape(digits.images[0].shape)\n\n# \u0631\u0633\u0645 \u062a\u0631\u062a\u064a\u0628 \u0627\u0644\u0628\u0643\u0633\u0644\nplt.matshow(ranking, cmap=plt.cm.Blues)\n\n# \u0625\u0636\u0627\u0641\u0629 \u0634\u0631\u0648\u062d \u0644\u0623\u0631\u0642\u0627\u0645 \u0627\u0644\u0628\u0643\u0633\u0644\nfor i in range(ranking.shape[0]):\n    for j in range(ranking.shape[1]):\n        plt.text(j, i, str(ranking[i, j]), ha=\"center\", va=\"center\", color=\"black\")\n\nplt.colorbar()\nplt.title(\"\u062a\u0631\u062a\u064a\u0628 \u0627\u0644\u0628\u0643\u0633\u0644 \u0628\u0627\u0633\u062a\u062e\u062f\u0627\u0645 RFE\\n(\u0627\u0644\u0627\u0646\u062d\u062f\u0627\u0631 \u0627\u0644\u0644\u0648\u062c\u0633\u062a\u064a)\")\nplt.show()"
      ]
    }
  ],
  "metadata": {
    "kernelspec": {
      "display_name": "Python 3",
      "language": "python",
      "name": "python3"
    },
    "language_info": {
      "codemirror_mode": {
        "name": "ipython",
        "version": 3
      },
      "file_extension": ".py",
      "mimetype": "text/x-python",
      "name": "python",
      "nbconvert_exporter": "python",
      "pygments_lexer": "ipython3",
      "version": "3.10.13"
    }
  },
  "nbformat": 4,
  "nbformat_minor": 0
}