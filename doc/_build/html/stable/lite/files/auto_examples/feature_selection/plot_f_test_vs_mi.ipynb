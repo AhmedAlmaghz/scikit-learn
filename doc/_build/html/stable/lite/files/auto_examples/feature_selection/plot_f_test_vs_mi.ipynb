{
  "cells": [
    {
      "cell_type": "markdown",
      "metadata": {},
      "source": [
        "<div class='alert alert-warning'>\n\n# JupyterLite warning\n\nRunning the scikit-learn examples in JupyterLite is experimental and you may encounter some unexpected behavior.\n\nThe main difference is that imports will take a lot longer than usual, for example the first `import sklearn` can take roughly 10-20s.\n\nIf you notice problems, feel free to open an [issue](https://github.com/scikit-learn/scikit-learn/issues/new/choose) about it.\n</div>"
      ]
    },
    {
      "cell_type": "code",
      "execution_count": null,
      "metadata": {
        "collapsed": false
      },
      "outputs": [],
      "source": [
        "# JupyterLite-specific code\nimport matplotlib\nimport pandas"
      ]
    },
    {
      "cell_type": "markdown",
      "metadata": {},
      "source": [
        "\n# \u0645\u0642\u0627\u0631\u0646\u0629 \u0628\u064a\u0646 \u0627\u062e\u062a\u0628\u0627\u0631 F \u0648\u0627\u0644\u0645\u0639\u0644\u0648\u0645\u0627\u062a \u0627\u0644\u0645\u062a\u0628\u0627\u062f\u0644\u0629\n\n\u064a\u0648\u0636\u062d \u0647\u0630\u0627 \u0627\u0644\u0645\u062b\u0627\u0644 \u0627\u0644\u0627\u062e\u062a\u0644\u0627\u0641\u0627\u062a \u0628\u064a\u0646 \u0625\u062d\u0635\u0627\u0626\u064a\u0627\u062a \u0627\u062e\u062a\u0628\u0627\u0631 F \u0623\u062d\u0627\u062f\u064a \u0627\u0644\u0645\u062a\u063a\u064a\u0631\n\u0648\u0627\u0644\u0645\u0639\u0644\u0648\u0645\u0627\u062a \u0627\u0644\u0645\u062a\u0628\u0627\u062f\u0644\u0629.\n\n\u0646\u062d\u0646 \u0646\u0639\u062a\u0628\u0631 3 \u0645\u064a\u0632\u0627\u062a x_1 \u0648 x_2 \u0648 x_3 \u0645\u0648\u0632\u0639\u0629 \u0628\u0634\u0643\u0644 \u0645\u0646\u062a\u0638\u0645 \u0639\u0644\u0649 [0\u060c 1]\u060c \u0627\u0644\u0647\u062f\u0641\n\u064a\u0639\u062a\u0645\u062f \u0639\u0644\u064a\u0647\u0627 \u0639\u0644\u0649 \u0627\u0644\u0646\u062d\u0648 \u0627\u0644\u062a\u0627\u0644\u064a:\n\ny = x_1 + sin(6 * pi * x_2) + 0.1 * N(0, 1)\u060c \u0623\u064a \u0623\u0646 \u0627\u0644\u0645\u064a\u0632\u0629 \u0627\u0644\u062b\u0627\u0644\u062b\u0629\n\u063a\u064a\u0631 \u0630\u0627\u062a \u0635\u0644\u0629 \u062a\u0645\u0627\u0645\u064b\u0627.\n\n\u064a\u0639\u0631\u0636 \u0627\u0644\u0643\u0648\u062f \u0623\u062f\u0646\u0627\u0647 \u0627\u0639\u062a\u0645\u0627\u062f y \u0645\u0642\u0627\u0628\u0644 x_i \u0627\u0644\u0641\u0631\u062f\u064a\u0629 \u0648\u0627\u0644\u0642\u064a\u0645 \u0627\u0644\u0637\u0628\u064a\u0639\u064a\u0629\n\u0644\u0625\u062d\u0635\u0627\u0626\u064a\u0627\u062a \u0627\u062e\u062a\u0628\u0627\u0631 F \u0623\u062d\u0627\u062f\u064a \u0627\u0644\u0645\u062a\u063a\u064a\u0631 \u0648\u0627\u0644\u0645\u0639\u0644\u0648\u0645\u0627\u062a \u0627\u0644\u0645\u062a\u0628\u0627\u062f\u0644\u0629.\n\n\u0646\u0638\u0631\u064b\u0627 \u0644\u0623\u0646 \u0627\u062e\u062a\u0628\u0627\u0631 F \u064a\u0644\u062a\u0642\u0637 \u0641\u0642\u0637 \u0627\u0644\u062a\u0628\u0639\u064a\u0629 \u0627\u0644\u062e\u0637\u064a\u0629\u060c \u0641\u0625\u0646\u0647 \u064a\u0635\u0646\u0641 x_1 \u0639\u0644\u0649 \u0623\u0646\u0647\u0627 \u0627\u0644\u0645\u064a\u0632\u0629\n\u0627\u0644\u0623\u0643\u062b\u0631 \u062a\u0645\u064a\u064a\u0632\u064b\u0627. \u0645\u0646 \u0646\u0627\u062d\u064a\u0629 \u0623\u062e\u0631\u0649\u060c \u064a\u0645\u0643\u0646 \u0644\u0644\u0645\u0639\u0644\u0648\u0645\u0627\u062a \u0627\u0644\u0645\u062a\u0628\u0627\u062f\u0644\u0629 \u0627\u0644\u062a\u0642\u0627\u0637 \u0623\u064a \u0646\u0648\u0639\n\u0645\u0646 \u0627\u0644\u062a\u0628\u0639\u064a\u0629 \u0628\u064a\u0646 \u0627\u0644\u0645\u062a\u063a\u064a\u0631\u0627\u062a \u0648\u062a\u0635\u0646\u0641 x_2 \u0639\u0644\u0649 \u0623\u0646\u0647\u0627 \u0627\u0644\u0645\u064a\u0632\u0629 \u0627\u0644\u0623\u0643\u062b\u0631 \u062a\u0645\u064a\u064a\u0632\u064b\u0627\u060c\n\u0645\u0645\u0627 \u064a\u062a\u0641\u0642 \u0639\u0644\u0649 \u0627\u0644\u0623\u0631\u062c\u062d \u0628\u0634\u0643\u0644 \u0623\u0641\u0636\u0644 \u0645\u0639 \u0625\u062f\u0631\u0627\u0643\u0646\u0627 \u0627\u0644\u062d\u062f\u0633\u064a \u0644\u0647\u0630\u0627 \u0627\u0644\u0645\u062b\u0627\u0644.\n\u0643\u0644\u0627 \u0627\u0644\u0637\u0631\u064a\u0642\u062a\u064a\u0646 \u062a\u062d\u062f\u062f x_3 \u0628\u0634\u0643\u0644 \u0635\u062d\u064a\u062d \u0639\u0644\u0649 \u0623\u0646\u0647\u0627 \u063a\u064a\u0631 \u0630\u0627\u062a \u0635\u0644\u0629.\n"
      ]
    },
    {
      "cell_type": "code",
      "execution_count": null,
      "metadata": {
        "collapsed": false
      },
      "outputs": [],
      "source": [
        "# Authors: The scikit-learn developers\n# SPDX-License-Identifier: BSD-3-Clause\n\nimport matplotlib.pyplot as plt\nimport numpy as np\n\nfrom sklearn.feature_selection import f_regression, mutual_info_regression\n\nnp.random.seed(0)\nX = np.random.rand(1000, 3)\ny = X[:, 0] + np.sin(6 * np.pi * X[:, 1]) + 0.1 * np.random.randn(1000)\n\nf_test, _ = f_regression(X, y)\nf_test /= np.max(f_test)\n\nmi = mutual_info_regression(X, y)\nmi /= np.max(mi)\n\nplt.figure(figsize=(15, 5))\nfor i in range(3):\n    plt.subplot(1, 3, i + 1)\n    plt.scatter(X[:, i], y, edgecolor=\"black\", s=20)\n    plt.xlabel(\"$x_{}$\".format(i + 1), fontsize=14)\n    if i == 0:\n        plt.ylabel(\"$y$\", fontsize=14)\n    plt.title(\"F-test={:.2f}, MI={:.2f}\".format(f_test[i], mi[i]), fontsize=16)\nplt.show()"
      ]
    }
  ],
  "metadata": {
    "kernelspec": {
      "display_name": "Python 3",
      "language": "python",
      "name": "python3"
    },
    "language_info": {
      "codemirror_mode": {
        "name": "ipython",
        "version": 3
      },
      "file_extension": ".py",
      "mimetype": "text/x-python",
      "name": "python",
      "nbconvert_exporter": "python",
      "pygments_lexer": "ipython3",
      "version": "3.10.13"
    }
  },
  "nbformat": 4,
  "nbformat_minor": 0
}