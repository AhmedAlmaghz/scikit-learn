{
  "cells": [
    {
      "cell_type": "markdown",
      "metadata": {},
      "source": [
        "<div class='alert alert-warning'>\n\n# JupyterLite warning\n\nRunning the scikit-learn examples in JupyterLite is experimental and you may encounter some unexpected behavior.\n\nThe main difference is that imports will take a lot longer than usual, for example the first `import sklearn` can take roughly 10-20s.\n\nIf you notice problems, feel free to open an [issue](https://github.com/scikit-learn/scikit-learn/issues/new/choose) about it.\n</div>"
      ]
    },
    {
      "cell_type": "code",
      "execution_count": null,
      "metadata": {
        "collapsed": false
      },
      "outputs": [],
      "source": [
        "# JupyterLite-specific code\nimport matplotlib\nimport pandas"
      ]
    },
    {
      "cell_type": "markdown",
      "metadata": {},
      "source": [
        "\n# \u0645\u062b\u0627\u0644 \u0639\u0644\u0649 \u0627\u0644\u062a\u0647\u064a\u0626\u0629 K-Means++\n\n\u0645\u062b\u0627\u0644 \u0644\u0625\u0638\u0627\u0631 \u0646\u0627\u062a\u062c \u062f\u0627\u0644\u0629 :func:`sklearn.cluster.kmeans_plusplus`\n\u0644\u0625\u0646\u0634\u0627\u0621 \u0628\u0630\u0648\u0631 \u0623\u0648\u0644\u064a\u0629 \u0644\u0644\u062a\u062c\u0645\u064a\u0639.\n\n\u064a\u062a\u0645 \u0627\u0633\u062a\u062e\u062f\u0627\u0645 K-Means++ \u0643\u062a\u0647\u064a\u0626\u0629 \u0627\u0641\u062a\u0631\u0627\u0636\u064a\u0629 \u0644\u0640 `k_means`.\n"
      ]
    },
    {
      "cell_type": "code",
      "execution_count": null,
      "metadata": {
        "collapsed": false
      },
      "outputs": [],
      "source": [
        "# \u0627\u0644\u0645\u0624\u0644\u0641\u0648\u0646: \u0645\u0637\u0648\u0631\u064a \u0633\u0643\u0627\u064a\u0644\u0631\u0646\n# \u0645\u0639\u0631\u0641 \u0631\u062e\u0635\u0629 SPDX: BSD-3-Clause\n\nimport matplotlib.pyplot as plt\n\nfrom sklearn.cluster import kmeans_plusplus\nfrom sklearn.datasets import make_blobs\n\n# \u062a\u0648\u0644\u064a\u062f \u0628\u064a\u0627\u0646\u0627\u062a \u0627\u0644\u0639\u064a\u0646\u0629\nn_samples = 4000\nn_components = 4\n\nX, y_true = make_blobs(\n    n_samples=n_samples, centers=n_components, cluster_std=0.60, random_state=0\n)\nX = X[:, ::-1]\n\n# \u062d\u0633\u0627\u0628 \u0627\u0644\u0628\u0630\u0648\u0631 \u0645\u0646 k-means++\ncenters_init, indices = kmeans_plusplus(X, n_clusters=4, random_state=0)\n\n# \u0631\u0633\u0645 \u0627\u0644\u0628\u0630\u0648\u0631 \u0627\u0644\u0623\u0648\u0644\u064a\u0629 \u0628\u062c\u0627\u0646\u0628 \u0628\u064a\u0627\u0646\u0627\u062a \u0627\u0644\u0639\u064a\u0646\u0629\nplt.figure(1)\ncolors = [\"#4EACC5\", \"#FF9C34\", \"#4E9A06\", \"m\"]\n\nfor k, col in enumerate(colors):\n    cluster_data = y_true == k\n    plt.scatter(X[cluster_data, 0], X[cluster_data, 1], c=col, marker=\".\", s=10)\n\nplt.scatter(centers_init[:, 0], centers_init[:, 1], c=\"b\", s=50)\nplt.title(\"K-Means++ Initialization\")\nplt.xticks([])\nplt.yticks([])\nplt.show()"
      ]
    }
  ],
  "metadata": {
    "kernelspec": {
      "display_name": "Python 3",
      "language": "python",
      "name": "python3"
    },
    "language_info": {
      "codemirror_mode": {
        "name": "ipython",
        "version": 3
      },
      "file_extension": ".py",
      "mimetype": "text/x-python",
      "name": "python",
      "nbconvert_exporter": "python",
      "pygments_lexer": "ipython3",
      "version": "3.10.13"
    }
  },
  "nbformat": 4,
  "nbformat_minor": 0
}