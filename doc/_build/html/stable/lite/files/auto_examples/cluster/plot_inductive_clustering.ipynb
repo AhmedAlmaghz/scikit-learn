{
  "cells": [
    {
      "cell_type": "markdown",
      "metadata": {},
      "source": [
        "<div class='alert alert-warning'>\n\n# JupyterLite warning\n\nRunning the scikit-learn examples in JupyterLite is experimental and you may encounter some unexpected behavior.\n\nThe main difference is that imports will take a lot longer than usual, for example the first `import sklearn` can take roughly 10-20s.\n\nIf you notice problems, feel free to open an [issue](https://github.com/scikit-learn/scikit-learn/issues/new/choose) about it.\n</div>"
      ]
    },
    {
      "cell_type": "code",
      "execution_count": null,
      "metadata": {
        "collapsed": false
      },
      "outputs": [],
      "source": [
        "# JupyterLite-specific code\nimport matplotlib\nimport pandas"
      ]
    },
    {
      "cell_type": "markdown",
      "metadata": {},
      "source": [
        "\n# \u0627\u0644\u062a\u0635\u0646\u064a\u0641 \u0627\u0644\u0627\u0633\u062a\u0642\u0631\u0627\u0626\u064a\n\n\u064a\u0645\u0643\u0646 \u0623\u0646 \u062a\u0643\u0648\u0646 \u0639\u0645\u0644\u064a\u0629 \u0627\u0644\u062a\u0635\u0646\u064a\u0641 \u0645\u0643\u0644\u0641\u0629\u060c \u062e\u0627\u0635\u0629 \u0639\u0646\u062f\u0645\u0627 \u062a\u062d\u062a\u0648\u064a \u0645\u062c\u0645\u0648\u0639\u062a\u0646\u0627 \u0627\u0644\u0628\u064a\u0627\u0646\u0627\u062a\u064a\u0629 \u0639\u0644\u0649 \u0645\u0644\u0627\u064a\u064a\u0646 \u0627\u0644\u0646\u0642\u0627\u0637 \u0627\u0644\u0628\u064a\u0627\u0646\u0627\u062a\u064a\u0629. \u0627\u0644\u0639\u062f\u064a\u062f \u0645\u0646 \u062e\u0648\u0627\u0631\u0632\u0645\u064a\u0627\u062a \u0627\u0644\u062a\u0635\u0646\u064a\u0641 \u0644\u064a\u0633\u062a :term:`\u0627\u0633\u062a\u0642\u0631\u0627\u0626\u064a\u0629`\u060c \u0648\u0628\u0627\u0644\u062a\u0627\u0644\u064a \u0644\u0627 \u064a\u0645\u0643\u0646 \u062a\u0637\u0628\u064a\u0642\u0647\u0627 \u0645\u0628\u0627\u0634\u0631\u0629 \u0639\u0644\u0649 \u0639\u064a\u0646\u0627\u062a \u0628\u064a\u0627\u0646\u0627\u062a \u062c\u062f\u064a\u062f\u0629 \u062f\u0648\u0646 \u0625\u0639\u0627\u062f\u0629 \u062d\u0633\u0627\u0628 \u0627\u0644\u062a\u0635\u0646\u064a\u0641\u060c \u0648\u0627\u0644\u0630\u064a \u0642\u062f \u064a\u0643\u0648\u0646 \u063a\u064a\u0631 \u0642\u0627\u0628\u0644 \u0644\u0644\u062d\u0633\u0627\u0628. \u0628\u062f\u0644\u0627\u064b \u0645\u0646 \u0630\u0644\u0643\u060c \u064a\u0645\u0643\u0646\u0646\u0627 \u0627\u0633\u062a\u062e\u062f\u0627\u0645 \u0627\u0644\u062a\u0635\u0646\u064a\u0641 \u0644\u062a\u0639\u0644\u0645 \u0646\u0645\u0648\u0630\u062c \u0627\u0633\u062a\u0642\u0631\u0627\u0626\u064a \u0628\u0627\u0633\u062a\u062e\u062f\u0627\u0645 \u0645\u0635\u0646\u0641\u060c \u0648\u0627\u0644\u0630\u064a \u0644\u0647 \u0639\u062f\u0629 \u0641\u0648\u0627\u0626\u062f:\n\n- \u064a\u0633\u0645\u062d \u0644\u0644\u062a\u0635\u0646\u064a\u0641\u0627\u062a \u0628\u0627\u0644\u062a\u0648\u0633\u0639 \u0648\u0627\u0644\u062a\u0637\u0628\u064a\u0642 \u0639\u0644\u0649 \u0628\u064a\u0627\u0646\u0627\u062a \u062c\u062f\u064a\u062f\u0629\n- \u0639\u0644\u0649 \u0639\u0643\u0633 \u0625\u0639\u0627\u062f\u0629 \u0645\u0644\u0627\u0621\u0645\u0629 \u0627\u0644\u062a\u0635\u0646\u064a\u0641\u0627\u062a \u0644\u0639\u064a\u0646\u0627\u062a \u062c\u062f\u064a\u062f\u0629\u060c \u0641\u0625\u0646\u0647 \u064a\u0636\u0645\u0646 \u0627\u062a\u0633\u0627\u0642 \u0625\u062c\u0631\u0627\u0621 \u0627\u0644\u062a\u0635\u0646\u064a\u0641 \u0628\u0645\u0631\u0648\u0631 \u0627\u0644\u0648\u0642\u062a\n- \u064a\u0633\u0645\u062d \u0644\u0646\u0627 \u0628\u0627\u0633\u062a\u062e\u062f\u0627\u0645 \u0627\u0644\u0642\u062f\u0631\u0627\u062a \u0627\u0644\u0627\u0633\u062a\u062f\u0644\u0627\u0644\u064a\u0629 \u0644\u0644\u0645\u0635\u0646\u0641 \u0644\u0648\u0635\u0641 \u0623\u0648 \u0634\u0631\u062d \u0627\u0644\u062a\u0635\u0646\u064a\u0641\u0627\u062a\n\n\u064a\u0648\u0636\u062d \u0647\u0630\u0627 \u0627\u0644\u0645\u062b\u0627\u0644 \u062a\u0646\u0641\u064a\u0630\u064b\u0627 \u0639\u0627\u0645\u064b\u0627 \u0644\u0645\u0635\u0646\u0641 \u0645\u064a\u062a\u0627 \u0648\u0627\u0644\u0630\u064a \u064a\u0648\u0633\u0639 \u0627\u0644\u062a\u0635\u0646\u064a\u0641 \u0645\u0646 \u062e\u0644\u0627\u0644 \u0627\u0633\u062a\u0646\u062a\u0627\u062c \u0645\u0635\u0646\u0641 \u0645\u0646 \u062a\u0633\u0645\u064a\u0627\u062a \u0627\u0644\u062a\u0635\u0646\u064a\u0641.\n"
      ]
    },
    {
      "cell_type": "code",
      "execution_count": null,
      "metadata": {
        "collapsed": false
      },
      "outputs": [],
      "source": [
        "# \u0627\u0644\u0645\u0624\u0644\u0641\u0648\u0646: \u0645\u0637\u0648\u0631\u064a \u0633\u0643\u0627\u064a\u062a-\u0644\u064a\u0631\u0646\n# \u0645\u0639\u0631\u0641 \u0627\u0644\u062a\u0631\u062e\u064a\u0635: BSD-3-Clause\n\nimport matplotlib.pyplot as plt\n\nfrom sklearn.base import BaseEstimator, clone\nfrom sklearn.cluster import AgglomerativeClustering\nfrom sklearn.datasets import make_blobs\nfrom sklearn.ensemble import RandomForestClassifier\nfrom sklearn.inspection import DecisionBoundaryDisplay\nfrom sklearn.utils.metaestimators import available_if\nfrom sklearn.utils.validation import check_is_fitted\n\nN_SAMPLES = 5000\nRANDOM_STATE = 42\n\n\ndef _classifier_has(attr):\n    \"\"\"\u062a\u062d\u0642\u0642 \u0625\u0630\u0627 \u0643\u0627\u0646 \u064a\u0645\u0643\u0646\u0646\u0627 \u062a\u0641\u0648\u064a\u0636 \u0637\u0631\u064a\u0642\u0629 \u0625\u0644\u0649 \u0627\u0644\u0645\u0635\u0646\u0641 \u0627\u0644\u0623\u0633\u0627\u0633\u064a.\n\n    \u0623\u0648\u0644\u0627\u064b\u060c \u0646\u062a\u062d\u0642\u0642 \u0645\u0646 \u0627\u0644\u0645\u0635\u0646\u0641 \u0627\u0644\u0645\u0644\u0627\u0626\u0645 \u0627\u0644\u0623\u0648\u0644 \u0625\u0630\u0627 \u0643\u0627\u0646 \u0645\u062a\u0627\u062d\u064b\u0627\u060c \u0648\u0625\u0644\u0627 \u0641\u0625\u0646\u0646\u0627\n    \u0646\u062a\u062d\u0642\u0642 \u0645\u0646 \u0627\u0644\u0645\u0635\u0646\u0641 \u063a\u064a\u0631 \u0627\u0644\u0645\u0644\u0627\u0626\u0645.\n    \"\"\"\n    return lambda estimator: (\n        hasattr(estimator.classifier_, attr)\n        if hasattr(estimator, \"classifier_\")\n        else hasattr(estimator.classifier, attr)\n    )\n\n\nclass InductiveClusterer(BaseEstimator):\n    def __init__(self, clusterer, classifier):\n        self.clusterer = clusterer\n        self.classifier = classifier\n\n    def fit(self, X, y=None):\n        self.clusterer_ = clone(self.clusterer)\n        self.classifier_ = clone(self.classifier)\n        y = self.clusterer_.fit_predict(X)\n        self.classifier_.fit(X, y)\n        return self\n\n    @available_if(_classifier_has(\"predict\"))\n    def predict(self, X):\n        check_is_fitted(self)\n        return self.classifier_.predict(X)\n\n    @available_if(_classifier_has(\"decision_function\"))\n    def decision_function(self, X):\n        check_is_fitted(self)\n        return self.classifier_.decision_function(X)\n\n\ndef plot_scatter(X, color, alpha=0.5):\n    return plt.scatter(X[:, 0], X[:, 1], c=color, alpha=alpha, edgecolor=\"k\")\n\n\n# \u062a\u0648\u0644\u064a\u062f \u0628\u0639\u0636 \u0628\u064a\u0627\u0646\u0627\u062a \u0627\u0644\u062a\u062f\u0631\u064a\u0628 \u0645\u0646 \u0627\u0644\u062a\u0635\u0646\u064a\u0641\nX, y = make_blobs(\n    n_samples=N_SAMPLES,\n    cluster_std=[1.0, 1.0, 0.5],\n    centers=[(-5, -5), (0, 0), (5, 5)],\n    random_state=RANDOM_STATE,\n)\n\n\n# \u062a\u062f\u0631\u064a\u0628 \u062e\u0648\u0627\u0631\u0632\u0645\u064a\u0629 \u0627\u0644\u062a\u0635\u0646\u064a\u0641 \u0639\u0644\u0649 \u0628\u064a\u0627\u0646\u0627\u062a \u0627\u0644\u062a\u062f\u0631\u064a\u0628 \u0648\u0627\u0644\u062d\u0635\u0648\u0644 \u0639\u0644\u0649 \u062a\u0633\u0645\u064a\u0627\u062a \u0627\u0644\u062a\u0635\u0646\u064a\u0641\nclusterer = AgglomerativeClustering(n_clusters=3)\ncluster_labels = clusterer.fit_predict(X)\n\nplt.figure(figsize=(12, 4))\n\nplt.subplot(131)\nplot_scatter(X, cluster_labels)\nplt.title(\"Ward Linkage\")\n\n\n# \u062a\u0648\u0644\u064a\u062f \u0639\u064a\u0646\u0627\u062a \u062c\u062f\u064a\u062f\u0629 \u0648\u0631\u0633\u0645\u0647\u0627 \u062c\u0646\u0628\u064b\u0627 \u0625\u0644\u0649 \u062c\u0646\u0628 \u0645\u0639 \u0645\u062c\u0645\u0648\u0639\u0629 \u0627\u0644\u0628\u064a\u0627\u0646\u0627\u062a \u0627\u0644\u0623\u0635\u0644\u064a\u0629\nX_new, y_new = make_blobs(\n    n_samples=10, centers=[(-7, -1), (-2, 4), (3, 6)], random_state=RANDOM_STATE\n)\n\nplt.subplot(132)\nplot_scatter(X, cluster_labels)\nplot_scatter(X_new, \"black\", 1)\nplt.title(\"Unknown instances\")\n\n\n# \u0625\u0639\u0644\u0627\u0646 \u0646\u0645\u0648\u0630\u062c \u0627\u0644\u062a\u0639\u0644\u0645 \u0627\u0644\u0627\u0633\u062a\u0642\u0631\u0627\u0626\u064a \u0627\u0644\u0630\u064a \u0633\u064a\u062a\u0645 \u0627\u0633\u062a\u062e\u062f\u0627\u0645\u0647 \u0644\u0644\u062a\u0646\u0628\u0624 \u0628\u0639\u0636\u0648\u064a\u0629 \u0627\u0644\u062a\u0635\u0646\u064a\u0641 \u0644\u0644\u0639\u064a\u0646\u0627\u062a \u063a\u064a\u0631 \u0627\u0644\u0645\u0639\u0631\u0648\u0641\u0629\nclassifier = RandomForestClassifier(random_state=RANDOM_STATE)\ninductive_learner = InductiveClusterer(clusterer, classifier).fit(X)\n\nprobable_clusters = inductive_learner.predict(X_new)\n\n\nax = plt.subplot(133)\nplot_scatter(X, cluster_labels)\nplot_scatter(X_new, probable_clusters)\n\n# \u0631\u0633\u0645 \u0645\u0646\u0627\u0637\u0642 \u0627\u0644\u0642\u0631\u0627\u0631\nDecisionBoundaryDisplay.from_estimator(\n    inductive_learner, X, response_method=\"predict\", alpha=0.4, ax=ax\n)\nplt.title(\"Classify unknown instances\")\n\nplt.show()"
      ]
    }
  ],
  "metadata": {
    "kernelspec": {
      "display_name": "Python 3",
      "language": "python",
      "name": "python3"
    },
    "language_info": {
      "codemirror_mode": {
        "name": "ipython",
        "version": 3
      },
      "file_extension": ".py",
      "mimetype": "text/x-python",
      "name": "python",
      "nbconvert_exporter": "python",
      "pygments_lexer": "ipython3",
      "version": "3.10.13"
    }
  },
  "nbformat": 4,
  "nbformat_minor": 0
}