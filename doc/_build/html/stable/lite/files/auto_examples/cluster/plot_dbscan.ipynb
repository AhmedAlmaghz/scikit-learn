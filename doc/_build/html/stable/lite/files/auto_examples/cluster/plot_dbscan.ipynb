{
  "cells": [
    {
      "cell_type": "markdown",
      "metadata": {},
      "source": [
        "<div class='alert alert-warning'>\n\n# JupyterLite warning\n\nRunning the scikit-learn examples in JupyterLite is experimental and you may encounter some unexpected behavior.\n\nThe main difference is that imports will take a lot longer than usual, for example the first `import sklearn` can take roughly 10-20s.\n\nIf you notice problems, feel free to open an [issue](https://github.com/scikit-learn/scikit-learn/issues/new/choose) about it.\n</div>"
      ]
    },
    {
      "cell_type": "code",
      "execution_count": null,
      "metadata": {
        "collapsed": false
      },
      "outputs": [],
      "source": [
        "# JupyterLite-specific code\nimport matplotlib\nimport pandas"
      ]
    },
    {
      "cell_type": "markdown",
      "metadata": {},
      "source": [
        "\n# \u0639\u0631\u0636 \u062a\u0648\u0636\u064a\u062d\u064a \u0644\u062e\u0648\u0627\u0631\u0632\u0645\u064a\u0629 \u0627\u0644\u062a\u062c\u0645\u064a\u0639 DBSCAN\n\nDBSCAN (Density-Based Spatial Clustering of Applications with Noise) \u064a\u062c\u062f \u0627\u0644\u0639\u064a\u0646\u0627\u062a \u0627\u0644\u0623\u0633\u0627\u0633\u064a\u0629 \u0641\u064a \u0645\u0646\u0627\u0637\u0642 \u0630\u0627\u062a \u0643\u062b\u0627\u0641\u0629 \u0639\u0627\u0644\u064a\u0629 \u0648\u064a\u0648\u0633\u0639 \u0627\u0644\u062a\u062c\u0645\u0639\u0627\u062a \u0645\u0646\u0647\u0627. \u0647\u0630\u0627 \u0627\u0644\u062e\u0648\u0627\u0631\u0632\u0645 \u062c\u064a\u062f \u0644\u0644\u0628\u064a\u0627\u0646\u0627\u062a \u0627\u0644\u062a\u064a \u062a\u062d\u062a\u0648\u064a \u0639\u0644\u0649 \u062a\u062c\u0645\u0639\u0627\u062a \u0630\u0627\u062a \u0643\u062b\u0627\u0641\u0629 \u0645\u0645\u0627\u062b\u0644\u0629.\n\n\u0631\u0627\u062c\u0639 \u0645\u062b\u0627\u0644 `sphx_glr_auto_examples_cluster_plot_cluster_comparison.py` \u0644\u0639\u0631\u0636 \u062a\u0648\u0636\u064a\u062d\u064a \u0644\u062e\u0648\u0627\u0631\u0632\u0645\u064a\u0627\u062a \u062a\u062c\u0645\u064a\u0639 \u0645\u062e\u062a\u0644\u0641\u0629 \u0639\u0644\u0649 \u0645\u062c\u0645\u0648\u0639\u0627\u062a \u0628\u064a\u0627\u0646\u0627\u062a \u062b\u0646\u0627\u0626\u064a\u0629 \u0627\u0644\u0623\u0628\u0639\u0627\u062f.\n"
      ]
    },
    {
      "cell_type": "code",
      "execution_count": null,
      "metadata": {
        "collapsed": false
      },
      "outputs": [],
      "source": [
        "# \u0627\u0644\u0645\u0624\u0644\u0641\u0648\u0646: \u0645\u0637\u0648\u0631\u064a scikit-learn\n# \u0645\u0639\u0631\u0641 \u0627\u0644\u062a\u0631\u062e\u064a\u0635: BSD-3-Clause"
      ]
    },
    {
      "cell_type": "markdown",
      "metadata": {},
      "source": [
        "## \u062a\u0648\u0644\u064a\u062f \u0627\u0644\u0628\u064a\u0627\u0646\u0627\u062a\n\n\u0646\u0633\u062a\u062e\u062f\u0645 :class:`~sklearn.datasets.make_blobs` \u0644\u0625\u0646\u0634\u0627\u0621 3 \u0645\u062c\u0645\u0648\u0639\u0627\u062a \u0635\u0646\u0627\u0639\u064a\u0629.\n\n"
      ]
    },
    {
      "cell_type": "code",
      "execution_count": null,
      "metadata": {
        "collapsed": false
      },
      "outputs": [],
      "source": [
        "from sklearn.datasets import make_blobs\nfrom sklearn.preprocessing import StandardScaler\n\ncenters = [[1, 1], [-1, -1], [1, -1]]\nX, labels_true = make_blobs(\n    n_samples=750, centers=centers, cluster_std=0.4, random_state=0\n)\n\nX = StandardScaler().fit_transform(X)"
      ]
    },
    {
      "cell_type": "markdown",
      "metadata": {},
      "source": [
        "\u064a\u0645\u0643\u0646\u0646\u0627 \u062a\u0635\u0648\u0631 \u0627\u0644\u0628\u064a\u0627\u0646\u0627\u062a \u0627\u0644\u0646\u0627\u062a\u062c\u0629:\n\n"
      ]
    },
    {
      "cell_type": "code",
      "execution_count": null,
      "metadata": {
        "collapsed": false
      },
      "outputs": [],
      "source": [
        "import matplotlib.pyplot as plt\n\nplt.scatter(X[:, 0], X[:, 1])\nplt.show()"
      ]
    },
    {
      "cell_type": "markdown",
      "metadata": {},
      "source": [
        "## \u062d\u0633\u0627\u0628 DBSCAN\n\n\u064a\u0645\u0643\u0646 \u0627\u0644\u0648\u0635\u0648\u0644 \u0625\u0644\u0649 \u0627\u0644\u0639\u0644\u0627\u0645\u0627\u062a \u0627\u0644\u062a\u064a \u062a\u0645 \u062a\u0639\u064a\u064a\u0646\u0647\u0627 \u0628\u0648\u0627\u0633\u0637\u0629 :class:`~sklearn.cluster.DBSCAN` \u0628\u0627\u0633\u062a\u062e\u062f\u0627\u0645\n\u0633\u0645\u0629 `labels_`. \u064a\u062a\u0645 \u0625\u0639\u0637\u0627\u0621 \u0627\u0644\u0639\u064a\u0646\u0627\u062a \u0627\u0644\u0636\u062c\u064a\u062c\u064a\u0629 \u0627\u0644\u062a\u0633\u0645\u064a\u0629 math:`-1`.\n\n"
      ]
    },
    {
      "cell_type": "code",
      "execution_count": null,
      "metadata": {
        "collapsed": false
      },
      "outputs": [],
      "source": [
        "import numpy as np\n\nfrom sklearn import metrics\nfrom sklearn.cluster import DBSCAN\n\ndb = DBSCAN(eps=0.3, min_samples=10).fit(X)\nlabels = db.labels_\n\n# \u0639\u062f\u062f \u0627\u0644\u062a\u062c\u0645\u0639\u0627\u062a \u0641\u064a \u0627\u0644\u0639\u0644\u0627\u0645\u0627\u062a\u060c \u0645\u0639 \u062a\u062c\u0627\u0647\u0644 \u0627\u0644\u0636\u062c\u064a\u062c \u0625\u0630\u0627 \u0643\u0627\u0646 \u0645\u0648\u062c\u0648\u062f\u064b\u0627.\nn_clusters_ = len(set(labels)) - (1 if -1 in labels else 0)\nn_noise_ = list(labels).count(-1)\n\nprint(\"Estimated number of clusters: %d\" % n_clusters_)\nprint(\"Estimated number of noise points: %d\" % n_noise_)"
      ]
    },
    {
      "cell_type": "markdown",
      "metadata": {},
      "source": [
        "\u062e\u0648\u0627\u0631\u0632\u0645\u064a\u0627\u062a \u0627\u0644\u062a\u062c\u0645\u064a\u0639 \u0647\u064a \u0623\u0633\u0627\u0644\u064a\u0628 \u062a\u0639\u0644\u0645 \u063a\u064a\u0631 \u062e\u0627\u0636\u0639\u0629 \u0644\u0644\u0625\u0634\u0631\u0627\u0641 \u0628\u0634\u0643\u0644 \u0623\u0633\u0627\u0633\u064a.\n\u0648\u0645\u0639 \u0630\u0644\u0643\u060c \u0646\u0638\u0631\u064b\u0627 \u0644\u0623\u0646 :class:`~sklearn.datasets.make_blobs` \u064a\u062a\u064a\u062d \u0627\u0644\u0648\u0635\u0648\u0644 \u0625\u0644\u0649 \u0627\u0644\u0639\u0644\u0627\u0645\u0627\u062a \u0627\u0644\u062d\u0642\u064a\u0642\u064a\u0629\n\u0644\u0644\u062a\u062c\u0645\u0639\u0627\u062a \u0627\u0644\u0627\u0635\u0637\u0646\u0627\u0639\u064a\u0629\u060c \u0641\u0645\u0646 \u0627\u0644\u0645\u0645\u0643\u0646 \u0627\u0633\u062a\u062e\u062f\u0627\u0645 \u0645\u0642\u0627\u064a\u064a\u0633 \u0627\u0644\u062a\u0642\u064a\u064a\u0645\n\u0627\u0644\u062a\u064a \u062a\u0633\u062a\u0641\u064a\u062f \u0645\u0646 \u0645\u0639\u0644\u0648\u0645\u0627\u062a \"\u0627\u0644\u0625\u0634\u0631\u0627\u0641\" \u0647\u0630\u0647 \u0644\u062a\u0642\u064a\u064a\u0645\n\u062c\u0648\u062f\u0629 \u0627\u0644\u062a\u062c\u0645\u0639\u0627\u062a \u0627\u0644\u0646\u0627\u062a\u062c\u0629. \u0623\u0645\u062b\u0644\u0629 \u0639\u0644\u0649 \u0647\u0630\u0647 \u0627\u0644\u0645\u0642\u0627\u064a\u064a\u0633 \u0647\u064a\n\u0627\u0644\u062a\u062c\u0627\u0646\u0633\u060c \u0648\u0627\u0644\u0627\u0643\u062a\u0645\u0627\u0644\u060c \u0648V-measure\u060c \u0648Rand-Index\u060c \u0648Adjusted Rand-Index\u060c\n\u0648Adjusted Mutual Information (AMI).\n\n\u0625\u0630\u0627 \u0644\u0645 \u062a\u0643\u0646 \u0627\u0644\u0639\u0644\u0627\u0645\u0627\u062a \u0627\u0644\u062d\u0642\u064a\u0642\u064a\u0629 \u0645\u0639\u0631\u0648\u0641\u0629\u060c \u064a\u0645\u0643\u0646 \u0625\u062c\u0631\u0627\u0621 \u0627\u0644\u062a\u0642\u064a\u064a\u0645\n\u0628\u0627\u0633\u062a\u062e\u062f\u0627\u0645 \u0646\u062a\u0627\u0626\u062c \u0627\u0644\u0646\u0645\u0648\u0630\u062c \u0646\u0641\u0633\u0647 \u0641\u0642\u0637. \u0641\u064a \u0647\u0630\u0647 \u0627\u0644\u062d\u0627\u0644\u0629\u060c \u064a\u0623\u062a\u064a\n\u0645\u0639\u0627\u0645\u0644 Silhouette Coefficient \u0641\u064a \u0645\u062a\u0646\u0627\u0648\u0644 \u0627\u0644\u064a\u062f.\n\n\u0644\u0645\u0632\u064a\u062f \u0645\u0646 \u0627\u0644\u0645\u0639\u0644\u0648\u0645\u0627\u062a\u060c \u0631\u0627\u062c\u0639\n`sphx_glr_auto_examples_cluster_plot_adjusted_for_chance_measures.py`\n\u0627\u0644\u0645\u062b\u0627\u0644 \u0623\u0648 \u0627\u0644\u0648\u062d\u062f\u0629 \u0627\u0644\u0646\u0645\u0637\u064a\u0629 `clustering_evaluation`.\n\n"
      ]
    },
    {
      "cell_type": "code",
      "execution_count": null,
      "metadata": {
        "collapsed": false
      },
      "outputs": [],
      "source": [
        "print(f\"Homogeneity: {metrics.homogeneity_score(labels_true, labels):.3f}\")\nprint(f\"Completeness: {metrics.completeness_score(labels_true, labels):.3f}\")\nprint(f\"V-measure: {metrics.v_measure_score(labels_true, labels):.3f}\")\nprint(f\"Adjusted Rand Index: {metrics.adjusted_rand_score(labels_true, labels):.3f}\")\nprint(\n    \"Adjusted Mutual Information:\"\n    f\" {metrics.adjusted_mutual_info_score(labels_true, labels):.3f}\"\n)\nprint(f\"Silhouette Coefficient: {metrics.silhouette_score(X, labels):.3f}\")"
      ]
    },
    {
      "cell_type": "markdown",
      "metadata": {},
      "source": [
        "## \u0639\u0631\u0636 \u0627\u0644\u0646\u062a\u0627\u0626\u062c\n\n\u064a\u062a\u0645 \u062a\u0631\u0645\u064a\u0632 \u0627\u0644\u0639\u064a\u0646\u0627\u062a \u0627\u0644\u0623\u0633\u0627\u0633\u064a\u0629 (\u0627\u0644\u0646\u0642\u0627\u0637 \u0627\u0644\u0643\u0628\u064a\u0631\u0629) \u0648\u0627\u0644\u0639\u064a\u0646\u0627\u062a \u063a\u064a\u0631 \u0627\u0644\u0623\u0633\u0627\u0633\u064a\u0629 (\u0627\u0644\u0646\u0642\u0627\u0637 \u0627\u0644\u0635\u063a\u064a\u0631\u0629) \u0628\u0627\u0644\u0623\u0644\u0648\u0627\u0646\n\u0648\u0641\u0642\u064b\u0627 \u0644\u0644\u062a\u062c\u0645\u0639 \u0627\u0644\u0645\u0639\u064a\u0646. \u064a\u062a\u0645 \u062a\u0645\u062b\u064a\u0644 \u0627\u0644\u0639\u064a\u0646\u0627\u062a \u0627\u0644\u0645\u0648\u0633\u0648\u0645\u0629 \u0643\u0636\u062c\u064a\u062c \u0628\u0627\u0644\u0644\u0648\u0646 \u0627\u0644\u0623\u0633\u0648\u062f.\n\n"
      ]
    },
    {
      "cell_type": "code",
      "execution_count": null,
      "metadata": {
        "collapsed": false
      },
      "outputs": [],
      "source": [
        "unique_labels = set(labels)\ncore_samples_mask = np.zeros_like(labels, dtype=bool)\ncore_samples_mask[db.core_sample_indices_] = True\n\ncolors = [plt.cm.Spectral(each) for each in np.linspace(0, 1, len(unique_labels))]\nfor k, col in zip(unique_labels, colors):\n    if k == -1:\n        # Black used for noise.\n        col = [0, 0, 0, 1]\n\n    class_member_mask = labels == k\n\n    xy = X[class_member_mask & core_samples_mask]\n    plt.plot(\n        xy[:, 0],\n        xy[:, 1],\n        \"o\",\n        markerfacecolor=tuple(col),\n        markeredgecolor=\"k\",\n        markersize=14,\n    )\n\n    xy = X[class_member_mask & ~core_samples_mask]\n    plt.plot(\n        xy[:, 0],\n        xy[:, 1],\n        \"o\",\n        markerfacecolor=tuple(col),\n        markeredgecolor=\"k\",\n        markersize=6,\n    )\nplt.title(f\"Estimated number of clusters: {n_clusters_}\")\nplt.show()"
      ]
    }
  ],
  "metadata": {
    "kernelspec": {
      "display_name": "Python 3",
      "language": "python",
      "name": "python3"
    },
    "language_info": {
      "codemirror_mode": {
        "name": "ipython",
        "version": 3
      },
      "file_extension": ".py",
      "mimetype": "text/x-python",
      "name": "python",
      "nbconvert_exporter": "python",
      "pygments_lexer": "ipython3",
      "version": "3.10.13"
    }
  },
  "nbformat": 4,
  "nbformat_minor": 0
}