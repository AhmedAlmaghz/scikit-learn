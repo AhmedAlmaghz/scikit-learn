{
  "cells": [
    {
      "cell_type": "markdown",
      "metadata": {},
      "source": [
        "<div class='alert alert-warning'>\n\n# JupyterLite warning\n\nRunning the scikit-learn examples in JupyterLite is experimental and you may encounter some unexpected behavior.\n\nThe main difference is that imports will take a lot longer than usual, for example the first `import sklearn` can take roughly 10-20s.\n\nIf you notice problems, feel free to open an [issue](https://github.com/scikit-learn/scikit-learn/issues/new/choose) about it.\n</div>"
      ]
    },
    {
      "cell_type": "code",
      "execution_count": null,
      "metadata": {
        "collapsed": false
      },
      "outputs": [],
      "source": [
        "# JupyterLite-specific code\nimport matplotlib\nimport pandas"
      ]
    },
    {
      "cell_type": "markdown",
      "metadata": {},
      "source": [
        "\n# \u062a\u0642\u064a\u064a\u0645 \u062a\u062c\u0631\u064a\u0628\u064a \u0644\u062a\u0623\u062b\u064a\u0631 \u062a\u0647\u064a\u0626\u0629 k-means\n\n\u062a\u0642\u064a\u064a\u0645 \u0642\u062f\u0631\u0629 \u0625\u0633\u062a\u0631\u0627\u062a\u064a\u062c\u064a\u0627\u062a \u062a\u0647\u064a\u0626\u0629 k-means \u0639\u0644\u0649 \u062c\u0639\u0644\n\u062e\u0648\u0627\u0631\u0632\u0645\u064a\u0629 \u0627\u0644\u062a\u0642\u0627\u0631\u0628 \u0642\u0648\u064a\u0629\u060c \u0643\u0645\u0627 \u064a\u0642\u0627\u0633 \u0628\u0627\u0644\u0627\u0646\u062d\u0631\u0627\u0641 \u0627\u0644\u0645\u0639\u064a\u0627\u0631\u064a \u0627\u0644\u0646\u0633\u0628\u064a\n\u0644\u0644\u0642\u0635\u0648\u0631 \u0627\u0644\u0630\u0627\u062a\u064a \u0644\u0644\u062a\u062c\u0645\u064a\u0639 (\u0623\u064a \u0645\u062c\u0645\u0648\u0639 \u0645\u0631\u0628\u0639\u0627\u062a\n\u0627\u0644\u0645\u0633\u0627\u0641\u0627\u062a \u0625\u0644\u0649 \u0623\u0642\u0631\u0628 \u0645\u0631\u0643\u0632 \u0644\u0644\u062a\u062c\u0645\u064a\u0639).\n\n\u0627\u0644\u0631\u0633\u0645 \u0627\u0644\u0628\u064a\u0627\u0646\u064a \u0627\u0644\u0623\u0648\u0644 \u064a\u0638\u0647\u0631 \u0623\u0641\u0636\u0644 \u0642\u0635\u0648\u0631 \u0630\u0627\u062a\u064a \u062a\u0645 \u0627\u0644\u0648\u0635\u0648\u0644 \u0625\u0644\u064a\u0647 \u0644\u0643\u0644 \u0645\u062c\u0645\u0648\u0639\u0629\n\u0645\u0646 \u0627\u0644\u0646\u0645\u0648\u0630\u062c (``KMeans`` \u0623\u0648 ``MiniBatchKMeans``)\u060c \u0648\u0637\u0631\u064a\u0642\u0629 \u0627\u0644\u062a\u0647\u064a\u0626\u0629\n(``init=\"random\"`` \u0623\u0648 ``init=\"k-means++\"``) \u0644\u0642\u064a\u0645 \u0645\u062a\u0632\u0627\u064a\u062f\u0629 \u0645\u0646 \u0627\u0644\u0645\u0639\u0627\u0645\u0644\n``n_init`` \u0627\u0644\u0630\u064a \u064a\u062a\u062d\u0643\u0645 \u0641\u064a \u0639\u062f\u062f \u0627\u0644\u062a\u0647\u064a\u0626\u0627\u062a \u0627\u0644\u0623\u0648\u0644\u064a\u0629.\n\n\u0627\u0644\u0631\u0633\u0645 \u0627\u0644\u0628\u064a\u0627\u0646\u064a \u0627\u0644\u062b\u0627\u0646\u064a \u064a\u0648\u0636\u062d \u062a\u0634\u063a\u064a\u0644 \u0648\u0627\u062d\u062f \u0644\u0644\u0645\u0642\u062f\u0631 ``MiniBatchKMeans``\n\u0628\u0627\u0633\u062a\u062e\u062f\u0627\u0645 ``init=\"random\"`` \u0648 ``n_init=1``. \u0647\u0630\u0627 \u0627\u0644\u062a\u0634\u063a\u064a\u0644 \u064a\u0624\u062f\u064a \u0625\u0644\u0649\n\u062a\u0642\u0627\u0631\u0628 \u0633\u064a\u0626 (\u0645\u062b\u0627\u0644\u064a\u0629 \u062c\u0632\u0626\u064a\u0629)\u060c \u0645\u0639 \u0645\u0631\u0627\u0643\u0632 \u0645\u0642\u062f\u0631\u0629 \u062a\u0639\u0644\u0642\n\u0628\u064a\u0646 \u0627\u0644\u062a\u062c\u0645\u064a\u0639\u0627\u062a \u0627\u0644\u062d\u0642\u064a\u0642\u064a\u0629.\n\n\u0645\u062c\u0645\u0648\u0639\u0629 \u0627\u0644\u0628\u064a\u0627\u0646\u0627\u062a \u0627\u0644\u0645\u0633\u062a\u062e\u062f\u0645\u0629 \u0644\u0644\u062a\u0642\u064a\u064a\u0645 \u0647\u064a \u0634\u0628\u0643\u0629 \u062b\u0646\u0627\u0626\u064a\u0629 \u0627\u0644\u0623\u0628\u0639\u0627\u062f \u0645\u0646 \u0627\u0644\u062a\u0648\u0632\u064a\u0639\u0627\u062a \u0627\u0644\u063a\u0627\u0648\u0633\u064a\u0629\n\u0627\u0644\u0645\u062a\u0646\u0627\u0638\u0631\u0629 \u0648\u0645\u062a\u0628\u0627\u0639\u062f\u0629 \u0628\u0634\u0643\u0644 \u0648\u0627\u0633\u0639.\n"
      ]
    },
    {
      "cell_type": "code",
      "execution_count": null,
      "metadata": {
        "collapsed": false
      },
      "outputs": [],
      "source": [
        "# Authors: The scikit-learn developers\n# SPDX-License-Identifier: BSD-3-Clause\n\nimport matplotlib.cm as cm\nimport matplotlib.pyplot as plt\nimport numpy as np\n\nfrom sklearn.cluster import KMeans, MiniBatchKMeans\nfrom sklearn.utils import check_random_state, shuffle\n\nrandom_state = np.random.RandomState(0)\n\n# \u0639\u062f\u062f \u0627\u0644\u062a\u0634\u063a\u064a\u0644\u0627\u062a (\u0645\u0639 \u0645\u062c\u0645\u0648\u0639\u0629 \u0628\u064a\u0627\u0646\u0627\u062a \u0645\u0648\u0644\u062f\u0629 \u0639\u0634\u0648\u0627\u0626\u064a\u064b\u0627) \u0644\u0643\u0644 \u0627\u0633\u062a\u0631\u0627\u062a\u064a\u062c\u064a\u0629 \u062d\u062a\u0649\n# \u064a\u0645\u0643\u0646 \u062d\u0633\u0627\u0628 \u062a\u0642\u062f\u064a\u0631 \u0644\u0644\u0627\u0646\u062d\u0631\u0627\u0641 \u0627\u0644\u0645\u0639\u064a\u0627\u0631\u064a\nn_runs = 5\n\n# \u0646\u0645\u0627\u0630\u062c k-means \u064a\u0645\u0643\u0646\u0647\u0627 \u0627\u0644\u0642\u064a\u0627\u0645 \u0628\u0639\u062f\u0629 \u062a\u0647\u064a\u0626\u0627\u062a \u0639\u0634\u0648\u0627\u0626\u064a\u0629 \u062d\u062a\u0649 \u062a\u062a\u0645\u0643\u0646 \u0645\u0646 \u062a\u0628\u0627\u062f\u0644\n# \u0648\u0642\u062a CPU \u0644\u062a\u0642\u0648\u064a\u0629 \u0627\u0644\u062a\u0642\u0627\u0631\u0628\nn_init_range = np.array([1, 5, 10, 15, 20])\n\n# \u0645\u0639\u0644\u0645\u0627\u062a \u062a\u0648\u0644\u064a\u062f \u0645\u062c\u0645\u0648\u0639\u0627\u062a \u0627\u0644\u0628\u064a\u0627\u0646\u0627\u062a\nn_samples_per_center = 100\ngrid_size = 3\nscale = 0.1\nn_clusters = grid_size**2\n\n\ndef make_data(random_state, n_samples_per_center, grid_size, scale):\n    random_state = check_random_state(random_state)\n    centers = np.array([[i, j] for i in range(grid_size)\n                       for j in range(grid_size)])\n    n_clusters_true, n_features = centers.shape\n\n    noise = random_state.normal(\n        scale=scale, size=(n_samples_per_center, centers.shape[1])\n    )\n\n    X = np.concatenate([c + noise for c in centers])\n    y = np.concatenate(\n        [[i] * n_samples_per_center for i in range(n_clusters_true)])\n    return shuffle(X, y, random_state=random_state)\n\n\n# \u0627\u0644\u062c\u0632\u0621 \u0627\u0644\u0623\u0648\u0644: \u0627\u0644\u062a\u0642\u064a\u064a\u0645 \u0627\u0644\u0643\u0645\u064a \u0644\u0625\u0633\u062a\u0631\u0627\u062a\u064a\u062c\u064a\u0627\u062a \u062a\u0647\u064a\u0626\u0629 \u0645\u062e\u062a\u0644\u0641\u0629\n\n\nplt.figure()\nplots = []\nlegends = []\n\ncases = [\n    (KMeans, \"k-means++\", {}, \"^-\"),\n    (KMeans, \"random\", {}, \"o-\"),\n    (MiniBatchKMeans, \"k-means++\", {\"max_no_improvement\": 3}, \"x-\"),\n    (MiniBatchKMeans, \"random\", {\n     \"max_no_improvement\": 3, \"init_size\": 500}, \"d-\"),\n]\n\nfor factory, init, params, format in cases:\n    print(\"Evaluation of %s with %s init\" % (factory.__name__, init))\n    inertia = np.empty((len(n_init_range), n_runs))\n\n    for run_id in range(n_runs):\n        X, y = make_data(run_id, n_samples_per_center, grid_size, scale)\n        for i, n_init in enumerate(n_init_range):\n            km = factory(\n                n_clusters=n_clusters,\n                init=init,\n                random_state=run_id,\n                n_init=n_init,\n                **params,\n            ).fit(X)\n            inertia[i, run_id] = km.inertia_\n    p = plt.errorbar(\n        n_init_range, inertia.mean(axis=1), inertia.std(axis=1), fmt=format\n    )\n    plots.append(p[0])\n    legends.append(\"%s with %s init\" % (factory.__name__, init))\n\nplt.xlabel(\"n_init\")\nplt.ylabel(\"inertia\")\nplt.legend(plots, legends)\nplt.title(\"Mean inertia for various k-means init across %d runs\" % n_runs)\n\n# \u0627\u0644\u062c\u0632\u0621 \u0627\u0644\u062b\u0627\u0646\u064a: \u0627\u0644\u0641\u062d\u0635 \u0627\u0644\u0628\u0635\u0631\u064a \u0627\u0644\u0646\u0648\u0639\u064a \u0644\u0644\u062a\u0642\u0627\u0631\u0628\n\nX, y = make_data(random_state, n_samples_per_center, grid_size, scale)\nkm = MiniBatchKMeans(\n    n_clusters=n_clusters, init=\"random\", n_init=1, random_state=random_state\n).fit(X)\n\nplt.figure()\nfor k in range(n_clusters):\n    my_members = km.labels_ == k\n    color = cm.nipy_spectral(float(k) / n_clusters, 1)\n    plt.plot(X[my_members, 0], X[my_members, 1], \".\", c=color)\n    cluster_center = km.cluster_centers_[k]\n    plt.plot(\n        cluster_center[0],\n        cluster_center[1],\n        \"o\",\n        markerfacecolor=color,\n        markeredgecolor=\"k\",\n        markersize=6,\n    )\n    plt.title(\n        \"Example cluster allocation with a single random init\\nwith MiniBatchKMeans\"\n    )\n\nplt.show()"
      ]
    }
  ],
  "metadata": {
    "kernelspec": {
      "display_name": "Python 3",
      "language": "python",
      "name": "python3"
    },
    "language_info": {
      "codemirror_mode": {
        "name": "ipython",
        "version": 3
      },
      "file_extension": ".py",
      "mimetype": "text/x-python",
      "name": "python",
      "nbconvert_exporter": "python",
      "pygments_lexer": "ipython3",
      "version": "3.10.13"
    }
  },
  "nbformat": 4,
  "nbformat_minor": 0
}