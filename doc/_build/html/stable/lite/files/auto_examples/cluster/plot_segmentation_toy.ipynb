{
  "cells": [
    {
      "cell_type": "markdown",
      "metadata": {},
      "source": [
        "<div class='alert alert-warning'>\n\n# JupyterLite warning\n\nRunning the scikit-learn examples in JupyterLite is experimental and you may encounter some unexpected behavior.\n\nThe main difference is that imports will take a lot longer than usual, for example the first `import sklearn` can take roughly 10-20s.\n\nIf you notice problems, feel free to open an [issue](https://github.com/scikit-learn/scikit-learn/issues/new/choose) about it.\n</div>"
      ]
    },
    {
      "cell_type": "code",
      "execution_count": null,
      "metadata": {
        "collapsed": false
      },
      "outputs": [],
      "source": [
        "# JupyterLite-specific code\nimport matplotlib\nimport pandas"
      ]
    },
    {
      "cell_type": "markdown",
      "metadata": {},
      "source": [
        "\n# ===========================================\n# \u0627\u0644\u062a\u062c\u0645\u064a\u0639 \u0627\u0644\u0637\u064a\u0641\u064a \u0644\u062a\u062c\u0632\u0626\u0629 \u0627\u0644\u0635\u0648\u0631\n# ===========================================\n\n\u0641\u064a \u0647\u0630\u0627 \u0627\u0644\u0645\u062b\u0627\u0644\u060c \u064a\u062a\u0645 \u062a\u0648\u0644\u064a\u062f \u0635\u0648\u0631\u0629 \u0628\u062f\u0648\u0627\u0626\u0631 \u0645\u062a\u0635\u0644\u0629 \u0648\u064a\u062a\u0645 \u0627\u0633\u062a\u062e\u062f\u0627\u0645 \u0627\u0644\u062a\u062c\u0645\u064a\u0639 \u0627\u0644\u0637\u064a\u0641\u064a \u0644\u0641\u0635\u0644 \u0627\u0644\u062f\u0648\u0627\u0626\u0631.\n\n\u0641\u064a \u0647\u0630\u0647 \u0627\u0644\u0625\u0639\u062f\u0627\u062f\u0627\u062a\u060c \u064a\u062d\u0644 \u0646\u0647\u062c `spectral_clustering` \u0627\u0644\u0645\u0634\u0643\u0644\u0629 \u0627\u0644\u0645\u0639\u0631\u0648\u0641\u0629 \u0628\u0627\u0633\u0645 \"\u0627\u0644\u0642\u0637\u0639 \u0627\u0644\u0631\u0633\u0648\u0645\u064a\u0629 \u0627\u0644\u0645\u0639\u064a\u0627\u0631\u064a\u0629\": \u062d\u064a\u062b \u064a\u062a\u0645 \u0627\u0644\u0646\u0638\u0631 \u0625\u0644\u0649 \u0627\u0644\u0635\u0648\u0631\u0629 \u0639\u0644\u0649 \u0623\u0646\u0647\u0627 \u0631\u0633\u0645 \u0628\u064a\u0627\u0646\u064a \u0644\u0644\u0628\u0643\u0633\u0644\u0627\u062a \u0627\u0644\u0645\u062a\u0635\u0644\u0629\u060c \u0648\u062a\u062a\u0645\u062b\u0644 \u062e\u0648\u0627\u0631\u0632\u0645\u064a\u0629 \u0627\u0644\u062a\u062c\u0645\u064a\u0639 \u0627\u0644\u0637\u064a\u0641\u064a \u0641\u064a \u0627\u062e\u062a\u064a\u0627\u0631 \u0627\u0644\u0642\u0637\u0639 \u0627\u0644\u0631\u0633\u0648\u0645\u064a\u0629 \u0627\u0644\u062a\u064a \u062a\u062d\u062f\u062f \u0627\u0644\u0645\u0646\u0627\u0637\u0642 \u0645\u0639 \u062a\u0642\u0644\u064a\u0644 \u0646\u0633\u0628\u0629 \u0627\u0644\u062a\u062f\u0631\u062c \u0639\u0644\u0649 \u0637\u0648\u0644 \u0627\u0644\u0642\u0637\u0639 \u0648\u062d\u062c\u0645 \u0627\u0644\u0645\u0646\u0637\u0642\u0629.\n\n\u0648\u0628\u0645\u0627 \u0623\u0646 \u0627\u0644\u062e\u0648\u0627\u0631\u0632\u0645\u064a\u0629 \u062a\u062d\u0627\u0648\u0644 \u0645\u0648\u0627\u0632\u0646\u0629 \u0627\u0644\u062d\u062c\u0645 (\u0623\u064a \u0645\u0648\u0627\u0632\u0646\u0629 \u0623\u062d\u062c\u0627\u0645 \u0627\u0644\u0645\u0646\u0627\u0637\u0642)\u060c \u0625\u0630\u0627 \u0623\u062e\u0630\u0646\u0627 \u062f\u0648\u0627\u0626\u0631 \u0628\u0623\u062d\u062c\u0627\u0645 \u0645\u062e\u062a\u0644\u0641\u0629\u060c \u0641\u0625\u0646 \u0627\u0644\u062a\u062c\u0632\u0626\u0629 \u062a\u0641\u0634\u0644.\n\n\u0628\u0627\u0644\u0625\u0636\u0627\u0641\u0629 \u0625\u0644\u0649 \u0630\u0644\u0643\u060c \u0646\u0638\u0631\u064b\u0627 \u0644\u0639\u062f\u0645 \u0648\u062c\u0648\u062f \u0645\u0639\u0644\u0648\u0645\u0627\u062a \u0645\u0641\u064a\u062f\u0629 \u0641\u064a \u0634\u062f\u0629 \u0627\u0644\u0635\u0648\u0631\u0629 \u0623\u0648 \u062a\u062f\u0631\u062c\u0647\u0627\u060c \u0641\u0625\u0646\u0646\u0627 \u0646\u062e\u062a\u0627\u0631 \u0625\u062c\u0631\u0627\u0621 \u0627\u0644\u062a\u062c\u0645\u064a\u0639 \u0627\u0644\u0637\u064a\u0641\u064a \u0639\u0644\u0649 \u0631\u0633\u0645 \u0628\u064a\u0627\u0646\u064a \u064a\u062a\u0645 \u0625\u0639\u0644\u0627\u0645\u0647 \u0628\u0634\u0643\u0644 \u0636\u0639\u064a\u0641 \u0641\u0642\u0637 \u0628\u0627\u0644\u062a\u062f\u0631\u062c. \u0648\u0647\u0630\u0627 \u0642\u0631\u064a\u0628 \u0645\u0646 \u0625\u062c\u0631\u0627\u0621 \u062a\u0642\u0633\u064a\u0645 \u0641\u0648\u0631\u0648\u0646\u0648\u064a \u0644\u0644\u0631\u0633\u0645 \u0627\u0644\u0628\u064a\u0627\u0646\u064a.\n\n\u0628\u0627\u0644\u0625\u0636\u0627\u0641\u0629 \u0625\u0644\u0649 \u0630\u0644\u0643\u060c \u0646\u0633\u062a\u062e\u062f\u0645 \u0642\u0646\u0627\u0639 \u0627\u0644\u0623\u062c\u0633\u0627\u0645 \u0644\u062a\u0642\u064a\u064a\u062f \u0627\u0644\u0631\u0633\u0645 \u0627\u0644\u0628\u064a\u0627\u0646\u064a \u0625\u0644\u0649 \u0645\u062e\u0637\u0637 \u0627\u0644\u0623\u062c\u0633\u0627\u0645. \u0641\u064a \u0647\u0630\u0627 \u0627\u0644\u0645\u062b\u0627\u0644\u060c \u0646\u062d\u0646 \u0645\u0647\u062a\u0645\u0648\u0646 \u0628\u0641\u0635\u0644 \u0627\u0644\u0623\u062c\u0633\u0627\u0645 \u0639\u0646 \u0628\u0639\u0636\u0647\u0627 \u0627\u0644\u0628\u0639\u0636\u060c \u0648\u0644\u064a\u0633 \u0639\u0646 \u0627\u0644\u062e\u0644\u0641\u064a\u0629.\n"
      ]
    },
    {
      "cell_type": "code",
      "execution_count": null,
      "metadata": {
        "collapsed": false
      },
      "outputs": [],
      "source": [
        "# \u0627\u0644\u0645\u0624\u0644\u0641\u0648\u0646: \u0645\u0637\u0648\u0631\u064a \u0633\u0643\u0627\u064a\u062a-\u0644\u064a\u0631\u0646\n# \u0645\u0639\u0631\u0641 \u0631\u062e\u0635\u0629 SPDX: BSD-3-Clause"
      ]
    },
    {
      "cell_type": "markdown",
      "metadata": {},
      "source": [
        "# \u062a\u0648\u0644\u064a\u062f \u0627\u0644\u0628\u064a\u0627\u0646\u0627\u062a\n\n"
      ]
    },
    {
      "cell_type": "code",
      "execution_count": null,
      "metadata": {
        "collapsed": false
      },
      "outputs": [],
      "source": [
        "from sklearn.cluster import spectral_clustering\nimport matplotlib.pyplot as plt\nfrom sklearn.feature_extraction import image\nimport numpy as np\n\nl = 100\nx, y = np.indices((l, l))\n\ncenter1 = (28, 24)\ncenter2 = (40, 50)\ncenter3 = (67, 58)\ncenter4 = (24, 70)\n\nradius1, radius2, radius3, radius4 = 16, 14, 15, 14\n\ncircle1 = (x - center1[0]) ** 2 + (y - center1[1]) ** 2 < radius1**2\ncircle2 = (x - center2[0]) ** 2 + (y - center2[1]) ** 2 < radius2**2\ncircle3 = (x - center3[0]) ** 2 + (y - center3[1]) ** 2 < radius3**2\ncircle4 = (x - center4[0]) ** 2 + (y - center4[1]) ** 2 < radius4**2"
      ]
    },
    {
      "cell_type": "markdown",
      "metadata": {},
      "source": [
        "# \u0631\u0633\u0645 \u0623\u0631\u0628\u0639\u0629 \u062f\u0648\u0627\u0626\u0631\n\n"
      ]
    },
    {
      "cell_type": "code",
      "execution_count": null,
      "metadata": {
        "collapsed": false
      },
      "outputs": [],
      "source": [
        "img = circle1 + circle2 + circle3 + circle4\n\n# \u0646\u0633\u062a\u062e\u062f\u0645 \u0642\u0646\u0627\u0639\u064b\u0627 \u064a\u062d\u062f \u0645\u0646 \u0627\u0644\u0645\u0642\u062f\u0645\u0629: \u0627\u0644\u0645\u0634\u0643\u0644\u0629 \u0627\u0644\u062a\u064a \u0646\u0647\u062a\u0645 \u0628\u0647\u0627 \u0647\u0646\u0627 \u0644\u064a\u0633\u062a \u0641\u0635\u0644 \u0627\u0644\u0623\u062c\u0633\u0627\u0645 \u0639\u0646 \u0627\u0644\u062e\u0644\u0641\u064a\u0629\u060c\n# \u0648\u0644\u0643\u0646 \u0641\u0635\u0644\u0647\u0627 \u0639\u0646 \u0628\u0639\u0636\u0647\u0627 \u0627\u0644\u0628\u0639\u0636.\nmask = img.astype(bool)\n\nimg = img.astype(float)\nimg += 1 + 0.2 * np.random.randn(*img.shape)"
      ]
    },
    {
      "cell_type": "markdown",
      "metadata": {},
      "source": [
        "\u062a\u062d\u0648\u064a\u0644 \u0627\u0644\u0635\u0648\u0631\u0629 \u0625\u0644\u0649 \u0631\u0633\u0645 \u0628\u064a\u0627\u0646\u064a \u0645\u0639 \u0642\u064a\u0645\u0629 \u0627\u0644\u062a\u062f\u0631\u062c \u0639\u0644\u0649\n\u0627\u0644\u062d\u0648\u0627\u0641.\n\n"
      ]
    },
    {
      "cell_type": "code",
      "execution_count": null,
      "metadata": {
        "collapsed": false
      },
      "outputs": [],
      "source": [
        "graph = image.img_to_graph(img, mask=mask)"
      ]
    },
    {
      "cell_type": "markdown",
      "metadata": {},
      "source": [
        "\u062e\u0630 \u062f\u0627\u0644\u0629 \u0645\u062a\u0646\u0627\u0642\u0635\u0629 \u0645\u0646 \u0627\u0644\u062a\u062f\u0631\u062c \u0645\u0645\u0627 \u064a\u0624\u062f\u064a \u0625\u0644\u0649 \u062a\u062c\u0632\u0626\u0629\n\u0642\u0631\u064a\u0628\u0629 \u0645\u0646 \u062a\u0642\u0633\u064a\u0645 \u0641\u0648\u0631\u0648\u0646\u0648\u064a\n\n"
      ]
    },
    {
      "cell_type": "code",
      "execution_count": null,
      "metadata": {
        "collapsed": false
      },
      "outputs": [],
      "source": [
        "graph.data = np.exp(-graph.data / graph.data.std())"
      ]
    },
    {
      "cell_type": "markdown",
      "metadata": {},
      "source": [
        "\u0647\u0646\u0627 \u0646\u0642\u0648\u0645 \u0628\u0627\u0644\u062a\u062c\u0645\u064a\u0639 \u0627\u0644\u0637\u064a\u0641\u064a \u0628\u0627\u0633\u062a\u062e\u062f\u0627\u0645 \u0645\u062d\u0644\u062d arpack \u0644\u0623\u0646 amg \u063a\u064a\u0631 \u0645\u0633\u062a\u0642\u0631\n\u0631\u0642\u0645\u064a\u0627 \u0641\u064a \u0647\u0630\u0627 \u0627\u0644\u0645\u062b\u0627\u0644. \u062b\u0645 \u0646\u0642\u0648\u0645 \u0628\u0631\u0633\u0645 \u0627\u0644\u0646\u062a\u0627\u0626\u062c.\n\n"
      ]
    },
    {
      "cell_type": "code",
      "execution_count": null,
      "metadata": {
        "collapsed": false
      },
      "outputs": [],
      "source": [
        "labels = spectral_clustering(graph, n_clusters=4, eigen_solver=\"arpack\")\nlabel_im = np.full(mask.shape, -1.0)\nlabel_im[mask] = labels\n\nfig, axs = plt.subplots(nrows=1, ncols=2, figsize=(10, 5))\naxs[0].matshow(img)\naxs[1].matshow(label_im)\n\nplt.show()"
      ]
    },
    {
      "cell_type": "markdown",
      "metadata": {},
      "source": [
        "# \u0631\u0633\u0645 \u062f\u0627\u0626\u0631\u062a\u064a\u0646\n\u0647\u0646\u0627 \u0646\u0643\u0631\u0631 \u0627\u0644\u0639\u0645\u0644\u064a\u0629 \u0623\u0639\u0644\u0627\u0647 \u0648\u0644\u0643\u0646 \u0646\u0623\u062e\u0630 \u0641\u064a \u0627\u0644\u0627\u0639\u062a\u0628\u0627\u0631 \u0627\u0644\u062f\u0627\u0626\u0631\u062a\u064a\u0646 \u0627\u0644\u0623\u0648\u0644\u064a\u064a\u0646 \u0641\u0642\u0637\n\u0642\u0645\u0646\u0627 \u0628\u062a\u0648\u0644\u064a\u062f\u0647\u0645\u0627. \u0644\u0627\u062d\u0638 \u0623\u0646 \u0647\u0630\u0627 \u064a\u0624\u062f\u064a \u0625\u0644\u0649 \u0641\u0635\u0644 \u0623\u0646\u0638\u0641 \u0628\u064a\u0646\n\u0627\u0644\u062f\u0648\u0627\u0626\u0631 \u062d\u064a\u062b \u064a\u0633\u0647\u0644 \u0645\u0648\u0627\u0632\u0646\u0629 \u0623\u062d\u062c\u0627\u0645 \u0627\u0644\u0645\u0646\u0627\u0637\u0642 \u0641\u064a \u0647\u0630\u0647 \u0627\u0644\u062d\u0627\u0644\u0629.\n\n"
      ]
    },
    {
      "cell_type": "code",
      "execution_count": null,
      "metadata": {
        "collapsed": false
      },
      "outputs": [],
      "source": [
        "img = circle1 + circle2\nmask = img.astype(bool)\nimg = img.astype(float)\n\nimg += 1 + 0.2 * np.random.randn(*img.shape)\n\ngraph = image.img_to_graph(img, mask=mask)\ngraph.data = np.exp(-graph.data / graph.data.std())\n\nlabels = spectral_clustering(graph, n_clusters=2, eigen_solver=\"arpack\")\nlabel_im = np.full(mask.shape, -1.0)\nlabel_im[mask] = labels\n\nfig, axs = plt.subplots(nrows=1, ncols=2, figsize=(10, 5))\naxs[0].matshow(img)\naxs[1].matshow(label_im)\n\nplt.show()"
      ]
    }
  ],
  "metadata": {
    "kernelspec": {
      "display_name": "Python 3",
      "language": "python",
      "name": "python3"
    },
    "language_info": {
      "codemirror_mode": {
        "name": "ipython",
        "version": 3
      },
      "file_extension": ".py",
      "mimetype": "text/x-python",
      "name": "python",
      "nbconvert_exporter": "python",
      "pygments_lexer": "ipython3",
      "version": "3.10.13"
    }
  },
  "nbformat": 4,
  "nbformat_minor": 0
}