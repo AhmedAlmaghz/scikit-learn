{
  "cells": [
    {
      "cell_type": "markdown",
      "metadata": {},
      "source": [
        "<div class='alert alert-warning'>\n\n# JupyterLite warning\n\nRunning the scikit-learn examples in JupyterLite is experimental and you may encounter some unexpected behavior.\n\nThe main difference is that imports will take a lot longer than usual, for example the first `import sklearn` can take roughly 10-20s.\n\nIf you notice problems, feel free to open an [issue](https://github.com/scikit-learn/scikit-learn/issues/new/choose) about it.\n</div>"
      ]
    },
    {
      "cell_type": "code",
      "execution_count": null,
      "metadata": {
        "collapsed": false
      },
      "outputs": [],
      "source": [
        "# JupyterLite-specific code\nimport matplotlib\nimport pandas"
      ]
    },
    {
      "cell_type": "markdown",
      "metadata": {},
      "source": [
        "\n# \u0645\u0642\u0627\u0631\u0646\u0629 \u0628\u064a\u0646 BIRCH \u0648 MiniBatchKMeans\n\n\u064a\u0642\u0627\u0631\u0646 \u0647\u0630\u0627 \u0627\u0644\u0645\u062b\u0627\u0644 \u062a\u0648\u0642\u064a\u062a BIRCH (\u0645\u0639 \u0648\u0628\u062f\u0648\u0646 \u062e\u0637\u0648\u0629 \u0627\u0644\u062a\u062c\u0645\u064a\u0639 \u0627\u0644\u0639\u0627\u0644\u0645\u064a) \u0648 MiniBatchKMeans \u0639\u0644\u0649 \u0645\u062c\u0645\u0648\u0639\u0629 \u0628\u064a\u0627\u0646\u0627\u062a \u0627\u0635\u0637\u0646\u0627\u0639\u064a\u0629 \u062a\u062d\u062a\u0648\u064a \u0639\u0644\u0649 25,000 \u0639\u064a\u0646\u0629 \u06482 \u0645\u0646 \u0627\u0644\u0645\u064a\u0632\u0627\u062a \u0627\u0644\u062a\u064a \u062a\u0645 \u0625\u0646\u0634\u0627\u0624\u0647\u0627 \u0628\u0627\u0633\u062a\u062e\u062f\u0627\u0645 make_blobs.\n\n\u0643\u0644 \u0645\u0646 ``MiniBatchKMeans`` \u0648 ``BIRCH`` \u0647\u064a \u062e\u0648\u0627\u0631\u0632\u0645\u064a\u0627\u062a \u0642\u0627\u0628\u0644\u0629 \u0644\u0644\u062a\u0637\u0648\u064a\u0631 \u0644\u0644\u063a\u0627\u064a\u0629 \u0648\u064a\u0645\u0643\u0646\u0647\u0627 \u0627\u0644\u0639\u0645\u0644 \u0628\u0643\u0641\u0627\u0621\u0629 \u0639\u0644\u0649 \u0645\u0626\u0627\u062a \u0627\u0644\u0622\u0644\u0627\u0641 \u0623\u0648 \u062d\u062a\u0649 \u0627\u0644\u0645\u0644\u0627\u064a\u064a\u0646 \u0645\u0646 \u0646\u0642\u0627\u0637 \u0627\u0644\u0628\u064a\u0627\u0646\u0627\u062a. \u0644\u0642\u062f \u0627\u062e\u062a\u0631\u0646\u0627 \u062a\u062d\u062f\u064a\u062f \u062d\u062c\u0645 \u0645\u062c\u0645\u0648\u0639\u0629 \u0627\u0644\u0628\u064a\u0627\u0646\u0627\u062a \u0644\u0647\u0630\u0627 \u0627\u0644\u0645\u062b\u0627\u0644 \u0644\u0644\u062d\u0641\u0627\u0638 \u0639\u0644\u0649 \u0627\u0633\u062a\u062e\u062f\u0627\u0645 \u0645\u0648\u0627\u0631\u062f \u0627\u0644\u062a\u0643\u0627\u0645\u0644 \u0627\u0644\u0645\u0633\u062a\u0645\u0631 \u0644\u062f\u064a\u0646\u0627 \u0645\u0639\u0642\u0648\u0644\u064b\u0627\u060c \u0648\u0644\u0643\u0646 \u0627\u0644\u0642\u0627\u0631\u0626 \u0627\u0644\u0645\u0647\u062a\u0645 \u0642\u062f \u064a\u0633\u062a\u0645\u062a\u0639 \u0628\u062a\u062d\u0631\u064a\u0631 \u0647\u0630\u0627 \u0627\u0644\u0646\u0635 \u0627\u0644\u0628\u0631\u0645\u062c\u064a \u0644\u0625\u0639\u0627\u062f\u0629 \u062a\u0634\u063a\u064a\u0644\u0647 \u0628\u0642\u064a\u0645\u0629 \u0623\u0643\u0628\u0631 \u0644\u0640 `n_samples`.\n\n\u0625\u0630\u0627 \u062a\u0645 \u062a\u0639\u064a\u064a\u0646 ``n_clusters`` \u0625\u0644\u0649 None\u060c \u064a\u062a\u0645 \u062a\u0642\u0644\u064a\u0644 \u0627\u0644\u0628\u064a\u0627\u0646\u0627\u062a \u0645\u0646 25,000 \u0639\u064a\u0646\u0629 \u0625\u0644\u0649 \u0645\u062c\u0645\u0648\u0639\u0629 \u0645\u0646 158 \u0645\u062c\u0645\u0648\u0639\u0629. \u064a\u0645\u0643\u0646 \u0627\u0639\u062a\u0628\u0627\u0631 \u0647\u0630\u0627 \u0643\u062e\u0637\u0648\u0629 \u0645\u0627 \u0642\u0628\u0644 \u0627\u0644\u0645\u0639\u0627\u0644\u062c\u0629 \u0642\u0628\u0644 \u062e\u0637\u0648\u0629 \u0627\u0644\u062a\u062c\u0645\u064a\u0639 (\u0627\u0644\u0639\u0627\u0644\u0645\u064a) \u0627\u0644\u0646\u0647\u0627\u0626\u064a \u0627\u0644\u062a\u064a \u062a\u0642\u0644\u0644 \u0647\u0630\u0647 \u0627\u0644\u0645\u062c\u0645\u0648\u0639\u0627\u062a 158 \u0625\u0644\u0649 100 \u0645\u062c\u0645\u0648\u0639\u0629.\n"
      ]
    },
    {
      "cell_type": "code",
      "execution_count": null,
      "metadata": {
        "collapsed": false
      },
      "outputs": [],
      "source": [
        "# \u0627\u0644\u0645\u0624\u0644\u0641\u0648\u0646: \u0645\u0637\u0648\u0631\u064a scikit-learn\n# \u0645\u0639\u0631\u0641 \u0627\u0644\u062a\u0631\u062e\u064a\u0635: BSD-3-Clause\n\nfrom itertools import cycle\nfrom time import time\n\nimport matplotlib.colors as colors\nimport matplotlib.pyplot as plt\nimport numpy as np\nfrom joblib import cpu_count\n\nfrom sklearn.cluster import Birch, MiniBatchKMeans\nfrom sklearn.datasets import make_blobs\n\n# \u062a\u0648\u0644\u064a\u062f \u0645\u0631\u0627\u0643\u0632 \u0644\u0644\u0643\u062a\u0644 \u0628\u062d\u064a\u062b \u062a\u0634\u0643\u0644 \u0634\u0628\u0643\u0629 10X10.\nxx = np.linspace(-22, 22, 10)\nyy = np.linspace(-22, 22, 10)\nxx, yy = np.meshgrid(xx, yy)\nn_centers = np.hstack((np.ravel(xx)[:, np.newaxis], np.ravel(yy)[:, np.newaxis]))\n\n# \u062a\u0648\u0644\u064a\u062f \u0643\u062a\u0644 \u0644\u0644\u0645\u0642\u0627\u0631\u0646\u0629 \u0628\u064a\u0646 MiniBatchKMeans \u0648 BIRCH.\nX, y = make_blobs(n_samples=25000, centers=n_centers, random_state=0)\n\n# \u0627\u0633\u062a\u062e\u062f\u0645 \u062c\u0645\u064a\u0639 \u0627\u0644\u0623\u0644\u0648\u0627\u0646 \u0627\u0644\u062a\u064a \u064a\u0648\u0641\u0631\u0647\u0627 matplotlib \u0628\u0634\u0643\u0644 \u0627\u0641\u062a\u0631\u0627\u0636\u064a.\ncolors_ = cycle(colors.cnames.keys())\n\nfig = plt.figure(figsize=(12, 4))\nfig.subplots_adjust(left=0.04, right=0.98, bottom=0.1, top=0.9)\n\n# \u062d\u0633\u0627\u0628 \u0627\u0644\u062a\u062c\u0645\u064a\u0639 \u0628\u0627\u0633\u062a\u062e\u062f\u0627\u0645 BIRCH \u0645\u0639 \u0648\u0628\u062f\u0648\u0646 \u062e\u0637\u0648\u0629 \u0627\u0644\u062a\u062c\u0645\u064a\u0639 \u0627\u0644\u0646\u0647\u0627\u0626\u064a\n# \u0648\u0627\u0644\u062a\u062e\u0637\u064a\u0637.\nbirch_models = [\n    Birch(threshold=1.7, n_clusters=None),\n    Birch(threshold=1.7, n_clusters=100),\n]\nfinal_step = [\"\u0628\u062f\u0648\u0646 \u0627\u0644\u062a\u062c\u0645\u064a\u0639 \u0627\u0644\u0639\u0627\u0644\u0645\u064a\", \"\u0645\u0639 \u0627\u0644\u062a\u062c\u0645\u064a\u0639 \u0627\u0644\u0639\u0627\u0644\u0645\u064a\"]\n\nfor ind, (birch_model, info) in enumerate(zip(birch_models, final_step)):\n    t = time()\n    birch_model.fit(X)\n    print(\"BIRCH %s \u0643\u062e\u0637\u0648\u0629 \u0646\u0647\u0627\u0626\u064a\u0629 \u0627\u0633\u062a\u063a\u0631\u0642\u062a %0.2f \u062b\u0627\u0646\u064a\u0629\" % (info, (time() - t)))\n\n    # \u0639\u0631\u0636 \u0627\u0644\u0646\u062a\u064a\u062c\u0629\n    labels = birch_model.labels_\n    centroids = birch_model.subcluster_centers_\n    n_clusters = np.unique(labels).size\n    print(\"n_clusters : %d\" % n_clusters)\n\n    ax = fig.add_subplot(1, 3, ind + 1)\n    for this_centroid, k, col in zip(centroids, range(n_clusters), colors_):\n        mask = labels == k\n        ax.scatter(X[mask, 0], X[mask, 1], c=\"w\", edgecolor=col, marker=\".\", alpha=0.5)\n        if birch_model.n_clusters is None:\n            ax.scatter(this_centroid[0], this_centroid[1], marker=\"+\", c=\"k\", s=25)\n    ax.set_ylim([-25, 25])\n    ax.set_xlim([-25, 25])\n    ax.set_autoscaley_on(False)\n    ax.set_title(\"BIRCH %s\" % info)\n\n# \u062d\u0633\u0627\u0628 \u0627\u0644\u062a\u062c\u0645\u064a\u0639 \u0628\u0627\u0633\u062a\u062e\u062f\u0627\u0645 MiniBatchKMeans.\nmbk = MiniBatchKMeans(\n    init=\"k-means++\",\n    n_clusters=100,\n    batch_size=256 * cpu_count(),\n    n_init=10,\n    max_no_improvement=10,\n    verbose=0,\n    random_state=0,\n)\nt0 = time()\nmbk.fit(X)\nt_mini_batch = time() - t0\nprint(\"\u0627\u0644\u0648\u0642\u062a \u0627\u0644\u0645\u0633\u062a\u063a\u0631\u0642 \u0644\u062a\u0634\u063a\u064a\u0644 MiniBatchKMeans %0.2f \u062b\u0627\u0646\u064a\u0629\" % t_mini_batch)\nmbk_means_labels_unique = np.unique(mbk.labels_)\n\nax = fig.add_subplot(1, 3, 3)\nfor this_centroid, k, col in zip(mbk.cluster_centers_, range(n_clusters), colors_):\n    mask = mbk.labels_ == k\n    ax.scatter(X[mask, 0], X[mask, 1], marker=\".\", c=\"w\", edgecolor=col, alpha=0.5)\n    ax.scatter(this_centroid[0], this_centroid[1], marker=\"+\", c=\"k\", s=25)\nax.set_xlim([-25, 25])\nax.set_ylim([-25, 25])\nax.set_title(\"MiniBatchKMeans\")\nax.set_autoscaley_on(False)\nplt.show()"
      ]
    }
  ],
  "metadata": {
    "kernelspec": {
      "display_name": "Python 3",
      "language": "python",
      "name": "python3"
    },
    "language_info": {
      "codemirror_mode": {
        "name": "ipython",
        "version": 3
      },
      "file_extension": ".py",
      "mimetype": "text/x-python",
      "name": "python",
      "nbconvert_exporter": "python",
      "pygments_lexer": "ipython3",
      "version": "3.10.13"
    }
  },
  "nbformat": 4,
  "nbformat_minor": 0
}