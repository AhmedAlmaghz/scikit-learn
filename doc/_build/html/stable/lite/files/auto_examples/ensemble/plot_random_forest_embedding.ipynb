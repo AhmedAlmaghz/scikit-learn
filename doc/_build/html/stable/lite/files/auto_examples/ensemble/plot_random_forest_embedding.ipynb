{
  "cells": [
    {
      "cell_type": "markdown",
      "metadata": {},
      "source": [
        "<div class='alert alert-warning'>\n\n# JupyterLite warning\n\nRunning the scikit-learn examples in JupyterLite is experimental and you may encounter some unexpected behavior.\n\nThe main difference is that imports will take a lot longer than usual, for example the first `import sklearn` can take roughly 10-20s.\n\nIf you notice problems, feel free to open an [issue](https://github.com/scikit-learn/scikit-learn/issues/new/choose) about it.\n</div>"
      ]
    },
    {
      "cell_type": "code",
      "execution_count": null,
      "metadata": {
        "collapsed": false
      },
      "outputs": [],
      "source": [
        "# JupyterLite-specific code\nimport matplotlib\nimport pandas"
      ]
    },
    {
      "cell_type": "markdown",
      "metadata": {},
      "source": [
        "\n# \u062a\u062d\u0648\u064a\u0644 \u0645\u064a\u0632\u0629 \u0627\u0644\u062a\u062c\u0632\u0626\u0629 \u0628\u0627\u0633\u062a\u062e\u062f\u0627\u0645 \u0627\u0644\u0623\u0634\u062c\u0627\u0631 \u0627\u0644\u0639\u0634\u0648\u0627\u0626\u064a\u0629 \u062a\u0645\u0627\u0645\u064b\u0627\n\n\u064a\u0648\u0641\u0631 RandomTreesEmbedding \u0637\u0631\u064a\u0642\u0629 \u0644\u062a\u0639\u064a\u064a\u0646 \u0627\u0644\u0628\u064a\u0627\u0646\u0627\u062a \u0625\u0644\u0649 \u062a\u0645\u062b\u064a\u0644\n\u0645\u062a\u0646\u0627\u062b\u0631 \u0639\u0627\u0644\u064a \u0627\u0644\u0623\u0628\u0639\u0627\u062f\u060c \u0648\u0627\u0644\u0630\u064a \u0642\u062f \u064a\u0643\u0648\u0646 \u0645\u0641\u064a\u062f\u064b\u0627 \u0644\u0644\u062a\u0635\u0646\u064a\u0641.\n\u0627\u0644\u062a\u0639\u064a\u064a\u0646 \u063a\u064a\u0631 \u062e\u0627\u0636\u0639 \u0644\u0644\u0625\u0634\u0631\u0627\u0641 \u062a\u0645\u0627\u0645\u064b\u0627 \u0648\u0641\u0639\u0627\u0644 \u0644\u0644\u063a\u0627\u064a\u0629.\n\n\u064a\u0648\u0636\u062d \u0647\u0630\u0627 \u0627\u0644\u0645\u062b\u0627\u0644 \u0627\u0644\u0623\u0642\u0633\u0627\u0645 \u0627\u0644\u062a\u064a \u0642\u062f\u0645\u062a\u0647\u0627 \u0627\u0644\u0639\u062f\u064a\u062f \u0645\u0646\n\u0627\u0644\u0623\u0634\u062c\u0627\u0631 \u0648\u064a\u0648\u0636\u062d \u0643\u064a\u0641 \u064a\u0645\u0643\u0646 \u0623\u064a\u0636\u064b\u0627 \u0627\u0633\u062a\u062e\u062f\u0627\u0645 \u0627\u0644\u062a\u062d\u0648\u064a\u0644 \u0644\u062a\u0642\u0644\u064a\u0644 \u0627\u0644\u0623\u0628\u0639\u0627\u062f\n\u063a\u064a\u0631 \u0627\u0644\u062e\u0637\u064a \u0623\u0648 \u0627\u0644\u062a\u0635\u0646\u064a\u0641 \u063a\u064a\u0631 \u0627\u0644\u062e\u0637\u064a.\n\n\u063a\u0627\u0644\u0628\u064b\u0627 \u0645\u0627 \u062a\u0634\u062a\u0631\u0643 \u0627\u0644\u0646\u0642\u0627\u0637 \u0627\u0644\u0645\u062a\u062c\u0627\u0648\u0631\u0629 \u0641\u064a \u0646\u0641\u0633 \u0648\u0631\u0642\u0629 \u0627\u0644\u0634\u062c\u0631\u0629\u060c \u0648\u0628\u0627\u0644\u062a\u0627\u0644\u064a \u062a\u0634\u062a\u0631\u0643 \u0641\u064a \u0623\u062c\u0632\u0627\u0621\n\u0643\u0628\u064a\u0631\u0629 \u0645\u0646 \u062a\u0645\u062b\u064a\u0644\u0647\u0627 \u0627\u0644\u0645\u062c\u0632\u0623. \u064a\u0633\u0645\u062d \u0647\u0630\u0627 \u0628\u0641\u0635\u0644 \u062f\u0627\u0626\u0631\u062a\u064a\u0646 \u0645\u062a\u062d\u062f\u0629 \u0627\u0644\u0645\u0631\u0643\u0632 \u0628\u0628\u0633\u0627\u0637\u0629\n\u0628\u0646\u0627\u0621\u064b \u0639\u0644\u0649 \u0627\u0644\u0645\u0643\u0648\u0646\u0627\u062a \u0627\u0644\u0623\u0633\u0627\u0633\u064a\u0629 \u0644\u0644\u0628\u064a\u0627\u0646\u0627\u062a \u0627\u0644\u0645\u062d\u0648\u0644\u0629 \u0628\u0627\u0633\u062a\u062e\u062f\u0627\u0645 SVD \u0627\u0644\u0645\u0642\u0637\u0648\u0639.\n\n\u0641\u064a \u0627\u0644\u0645\u0633\u0627\u062d\u0627\u062a \u0639\u0627\u0644\u064a\u0629 \u0627\u0644\u0623\u0628\u0639\u0627\u062f\u060c \u063a\u0627\u0644\u0628\u064b\u0627 \u0645\u0627 \u062a\u062d\u0642\u0642 \u0627\u0644\u0645\u0635\u0646\u0641\u0627\u062a \u0627\u0644\u062e\u0637\u064a\u0629\n\u062f\u0642\u0629 \u0645\u0645\u062a\u0627\u0632\u0629. \u0628\u0627\u0644\u0646\u0633\u0628\u0629 \u0644\u0644\u0628\u064a\u0627\u0646\u0627\u062a \u0627\u0644\u062b\u0646\u0627\u0626\u064a\u0629 \u0627\u0644\u0645\u062a\u0646\u0627\u062b\u0631\u0629\u060c \u0641\u0625\u0646 BernoulliNB\n\u0645\u0646\u0627\u0633\u0628 \u0628\u0634\u0643\u0644 \u062e\u0627\u0635. \u062a\u0642\u0627\u0631\u0646 \u0627\u0644\u0635\u0641 \u0627\u0644\u0633\u0641\u0644\u064a \u062d\u062f\n\u0627\u0644\u0642\u0631\u0627\u0631 \u0627\u0644\u0630\u064a \u062a\u0645 \u0627\u0644\u062d\u0635\u0648\u0644 \u0639\u0644\u064a\u0647 \u0628\u0648\u0627\u0633\u0637\u0629 BernoulliNB \u0641\u064a \u0627\u0644\u0645\u0633\u0627\u062d\u0629 \u0627\u0644\u0645\u062d\u0648\u0644\u0629\n\u0645\u0639 \u063a\u0627\u0628\u0627\u062a ExtraTreesClassifier \u0627\u0644\u062a\u064a \u062a\u0645 \u062a\u0639\u0644\u0645\u0647\u0627 \u0639\u0644\u0649 \u0627\u0644\u0628\u064a\u0627\u0646\u0627\u062a\n\u0627\u0644\u0623\u0635\u0644\u064a\u0629.\n"
      ]
    },
    {
      "cell_type": "code",
      "execution_count": null,
      "metadata": {
        "collapsed": false
      },
      "outputs": [],
      "source": [
        "# Authors: The scikit-learn developers\n# SPDX-License-Identifier: BSD-3-Clause\n\nimport matplotlib.pyplot as plt\nimport numpy as np\n\nfrom sklearn.datasets import make_circles\nfrom sklearn.decomposition import TruncatedSVD\nfrom sklearn.ensemble import ExtraTreesClassifier, RandomTreesEmbedding\nfrom sklearn.naive_bayes import BernoulliNB\n\n# \u0625\u0646\u0634\u0627\u0621 \u0645\u062c\u0645\u0648\u0639\u0629 \u0628\u064a\u0627\u0646\u0627\u062a \u0627\u0635\u0637\u0646\u0627\u0639\u064a\u0629\nX, y = make_circles(factor=0.5, random_state=0, noise=0.05)\n\n# \u0627\u0633\u062a\u062e\u062f\u0627\u0645 RandomTreesEmbedding \u0644\u062a\u062d\u0648\u064a\u0644 \u0627\u0644\u0628\u064a\u0627\u0646\u0627\u062a\nhasher = RandomTreesEmbedding(n_estimators=10, random_state=0, max_depth=3)\nX_transformed = hasher.fit_transform(X)\n\n# \u062a\u0635\u0648\u0631 \u0627\u0644\u0646\u062a\u064a\u062c\u0629 \u0628\u0639\u062f \u062a\u0642\u0644\u064a\u0644 \u0627\u0644\u0623\u0628\u0639\u0627\u062f \u0628\u0627\u0633\u062a\u062e\u062f\u0627\u0645 SVD \u0627\u0644\u0645\u0642\u0637\u0648\u0639\nsvd = TruncatedSVD(n_components=2)\nX_reduced = svd.fit_transform(X_transformed)\n\n# \u062a\u0639\u0644\u0645 \u0645\u0635\u0646\u0641 Naive Bayes \u0639\u0644\u0649 \u0627\u0644\u0628\u064a\u0627\u0646\u0627\u062a \u0627\u0644\u0645\u062d\u0648\u0644\u0629\nnb = BernoulliNB()\nnb.fit(X_transformed, y)\n\n\n# \u062a\u0639\u0644\u0645 ExtraTreesClassifier \u0644\u0644\u0645\u0642\u0627\u0631\u0646\u0629\ntrees = ExtraTreesClassifier(max_depth=3, n_estimators=10, random_state=0)\ntrees.fit(X, y)\n\n\n# \u0645\u062e\u0637\u0637 \u0645\u0628\u0639\u062b\u0631 \u0644\u0644\u0628\u064a\u0627\u0646\u0627\u062a \u0627\u0644\u0623\u0635\u0644\u064a\u0629 \u0648\u0627\u0644\u0645\u062e\u062a\u0632\u0644\u0629\nfig = plt.figure(figsize=(9, 8))\n\nax = plt.subplot(221)\nax.scatter(X[:, 0], X[:, 1], c=y, s=50, edgecolor=\"k\")\nax.set_title(\"\u0627\u0644\u0628\u064a\u0627\u0646\u0627\u062a \u0627\u0644\u0623\u0635\u0644\u064a\u0629 (2d)\")\nax.set_xticks(())\nax.set_yticks(())\n\nax = plt.subplot(222)\nax.scatter(X_reduced[:, 0], X_reduced[:, 1], c=y, s=50, edgecolor=\"k\")\nax.set_title(\n    \"Truncated SVD reduction (2d) \u0644\u0644\u0628\u064a\u0627\u0646\u0627\u062a \u0627\u0644\u0645\u062d\u0648\u0644\u0629 (%dd)\" % X_transformed.shape[1]\n)\nax.set_xticks(())\nax.set_yticks(())\n\n# \u0627\u0631\u0633\u0645 \u0627\u0644\u0642\u0631\u0627\u0631 \u0641\u064a \u0627\u0644\u0645\u0633\u0627\u062d\u0629 \u0627\u0644\u0623\u0635\u0644\u064a\u0629. \u0644\u0630\u0644\u0643\u060c \u0633\u0646\u0642\u0648\u0645 \u0628\u062a\u0639\u064a\u064a\u0646 \u0644\u0648\u0646\n# \u0644\u0643\u0644 \u0646\u0642\u0637\u0629 \u0641\u064a \u0627\u0644\u0634\u0628\u0643\u0629 [x_min, x_max]x[y_min, y_max].\nh = 0.01\nx_min, x_max = X[:, 0].min() - 0.5, X[:, 0].max() + 0.5\ny_min, y_max = X[:, 1].min() - 0.5, X[:, 1].max() + 0.5\nxx, yy = np.meshgrid(np.arange(x_min, x_max, h), np.arange(y_min, y_max, h))\n\n# \u062a\u062d\u0648\u064a\u0644 \u0627\u0644\u0634\u0628\u0643\u0629 \u0628\u0627\u0633\u062a\u062e\u062f\u0627\u0645 RandomTreesEmbedding\ntransformed_grid = hasher.transform(np.c_[xx.ravel(), yy.ravel()])\ny_grid_pred = nb.predict_proba(transformed_grid)[:, 1]\n\nax = plt.subplot(223)\nax.set_title(\"Naive Bayes \u0639\u0644\u0649 \u0627\u0644\u0628\u064a\u0627\u0646\u0627\u062a \u0627\u0644\u0645\u062d\u0648\u0644\u0629\")\nax.pcolormesh(xx, yy, y_grid_pred.reshape(xx.shape))\nax.scatter(X[:, 0], X[:, 1], c=y, s=50, edgecolor=\"k\")\nax.set_ylim(-1.4, 1.4)\nax.set_xlim(-1.4, 1.4)\nax.set_xticks(())\nax.set_yticks(())\n\n# \u062a\u062d\u0648\u064a\u0644 \u0627\u0644\u0634\u0628\u0643\u0629 \u0628\u0627\u0633\u062a\u062e\u062f\u0627\u0645 ExtraTreesClassifier\ny_grid_pred = trees.predict_proba(np.c_[xx.ravel(), yy.ravel()])[:, 1]\n\nax = plt.subplot(224)\nax.set_title(\"\u062a\u0646\u0628\u0624\u0627\u062a ExtraTrees\")\nax.pcolormesh(xx, yy, y_grid_pred.reshape(xx.shape))\nax.scatter(X[:, 0], X[:, 1], c=y, s=50, edgecolor=\"k\")\nax.set_ylim(-1.4, 1.4)\nax.set_xlim(-1.4, 1.4)\nax.set_xticks(())\nax.set_yticks(())\n\nplt.tight_layout()\nplt.show()"
      ]
    }
  ],
  "metadata": {
    "kernelspec": {
      "display_name": "Python 3",
      "language": "python",
      "name": "python3"
    },
    "language_info": {
      "codemirror_mode": {
        "name": "ipython",
        "version": 3
      },
      "file_extension": ".py",
      "mimetype": "text/x-python",
      "name": "python",
      "nbconvert_exporter": "python",
      "pygments_lexer": "ipython3",
      "version": "3.10.13"
    }
  },
  "nbformat": 4,
  "nbformat_minor": 0
}