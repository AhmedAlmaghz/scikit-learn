{
  "cells": [
    {
      "cell_type": "markdown",
      "metadata": {},
      "source": [
        "<div class='alert alert-warning'>\n\n# JupyterLite warning\n\nRunning the scikit-learn examples in JupyterLite is experimental and you may encounter some unexpected behavior.\n\nThe main difference is that imports will take a lot longer than usual, for example the first `import sklearn` can take roughly 10-20s.\n\nIf you notice problems, feel free to open an [issue](https://github.com/scikit-learn/scikit-learn/issues/new/choose) about it.\n</div>"
      ]
    },
    {
      "cell_type": "code",
      "execution_count": null,
      "metadata": {
        "collapsed": false
      },
      "outputs": [],
      "source": [
        "# JupyterLite-specific code\n%pip install seaborn\nimport matplotlib\nimport pandas"
      ]
    },
    {
      "cell_type": "markdown",
      "metadata": {},
      "source": [
        "\n# \u0627\u0646\u062d\u062f\u0627\u0631 \u0634\u062c\u0631\u0629 \u0627\u0644\u0642\u0631\u0627\u0631 \u0645\u0639 AdaBoost\n\n\u0634\u062c\u0631\u0629 \u0627\u0644\u0642\u0631\u0627\u0631 \u0645\u0639\u0632\u0632\u0629 \u0628\u0627\u0633\u062a\u062e\u062f\u0627\u0645 \u062e\u0648\u0627\u0631\u0632\u0645\u064a\u0629 AdaBoost.R2 [1]_ \u0639\u0644\u0649 \u0645\u062c\u0645\u0648\u0639\u0629 \u0628\u064a\u0627\u0646\u0627\u062a \u062c\u064a\u0628\u064a\u0629 \u0623\u062d\u0627\u062f\u064a\u0629 \u0627\u0644\u0628\u0639\u062f \u0645\u0639 \u0643\u0645\u064a\u0629 \u0635\u063a\u064a\u0631\u0629 \u0645\u0646 \u0627\u0644\u0636\u0648\u0636\u0627\u0621 \u0627\u0644\u063a\u0627\u0648\u0633\u064a\u0629.\n\u064a\u062a\u0645 \u0645\u0642\u0627\u0631\u0646\u0629 299 \u062f\u0641\u0639\u0629 (300 \u0634\u062c\u0631\u0629 \u0642\u0631\u0627\u0631) \u0645\u0639 \u0645\u0646\u0638\u0645 \u0634\u062c\u0631\u0629 \u0642\u0631\u0627\u0631 \u0648\u0627\u062d\u062f. \u0645\u0639 \u0632\u064a\u0627\u062f\u0629 \u0639\u062f\u062f \u0627\u0644\u062f\u0641\u0639\u0627\u062a\u060c \u064a\u0645\u0643\u0646 \u0644\u0645\u0646\u0638\u0645 \u0627\u0644\u0627\u0646\u062d\u062f\u0627\u0631 \u0623\u0646 \u064a\u0644\u0627\u0626\u0645 \u0627\u0644\u0645\u0632\u064a\u062f \u0645\u0646 \u0627\u0644\u062a\u0641\u0627\u0635\u064a\u0644.\n\n\u0631\u0627\u062c\u0639 `sphx_glr_auto_examples_ensemble_plot_hgbt_regression.py` \u0644\u0645\u062b\u0627\u0644 \u064a\u0628\u0631\u0632 \u0641\u0648\u0627\u0626\u062f \u0627\u0633\u062a\u062e\u062f\u0627\u0645 \u0646\u0645\u0627\u0630\u062c \u0627\u0644\u0627\u0646\u062d\u062f\u0627\u0631 \u0627\u0644\u0623\u0643\u062b\u0631 \u0643\u0641\u0627\u0621\u0629 \u0645\u062b\u0644 :class:`~ensemble.HistGradientBoostingRegressor`.\n\n.. [1] [H. Drucker, \"Improving Regressors using Boosting Techniques\", 1997.](https://citeseerx.ist.psu.edu/doc_view/pid/8d49e2dedb817f2c3330e74b63c5fc86d2399ce3)\n\n# %%\n# \u0625\u0639\u062f\u0627\u062f \u0627\u0644\u0628\u064a\u0627\u0646\u0627\u062a\n# ------------------\n# \u0623\u0648\u0644\u0627\u064b\u060c \u0646\u0642\u0648\u0645 \u0628\u0625\u0639\u062f\u0627\u062f \u0628\u064a\u0627\u0646\u0627\u062a \u0648\u0647\u0645\u064a\u0629 \u0628\u0639\u0644\u0627\u0642\u0629 \u062c\u064a\u0628\u064a\u0629 \u0648\u0628\u0639\u0636 \u0627\u0644\u0636\u0648\u0636\u0627\u0621 \u0627\u0644\u063a\u0627\u0648\u0633\u064a\u0629.\n"
      ]
    },
    {
      "cell_type": "code",
      "execution_count": null,
      "metadata": {
        "collapsed": false
      },
      "outputs": [],
      "source": [
        "# \u0627\u0644\u0645\u0624\u0644\u0641\u0648\u0646: \u0645\u0637\u0648\u0631\u064a \u0633\u0643\u0627\u064a\u062a-\u0644\u064a\u0631\u0646\n# \u0645\u0639\u0631\u0641 \u0627\u0644\u062a\u0631\u062e\u064a\u0635: BSD-3-Clause\n\nimport seaborn as sns\nimport matplotlib.pyplot as plt\nfrom sklearn.tree import DecisionTreeRegressor\nfrom sklearn.ensemble import AdaBoostRegressor\nimport numpy as np\n\nrng = np.random.RandomState(1)\nX = np.linspace(0, 6, 100)[:, np.newaxis]\ny = np.sin(X).ravel() + np.sin(6 * X).ravel() + rng.normal(0, 0.1, X.shape[0])"
      ]
    },
    {
      "cell_type": "markdown",
      "metadata": {},
      "source": [
        "## \u0627\u0644\u062a\u062f\u0631\u064a\u0628 \u0648\u0627\u0644\u062a\u0646\u0628\u0624 \u0628\u0627\u0633\u062a\u062e\u062f\u0627\u0645 \u0645\u0646\u0638\u0645\u064a \u0634\u062c\u0631\u0629 \u0627\u0644\u0642\u0631\u0627\u0631 \u0648 AdaBoost\n\u0627\u0644\u0622\u0646\u060c \u0646\u0642\u0648\u0645 \u0628\u062a\u0639\u0631\u064a\u0641 \u0627\u0644\u0645\u0646\u0638\u0645\u064a\u0646 \u0648\u062a\u0646\u0627\u0633\u0628\u0647\u0645 \u0645\u0639 \u0627\u0644\u0628\u064a\u0627\u0646\u0627\u062a.\n\u062b\u0645 \u0646\u062a\u0648\u0642\u0639 \u0639\u0644\u0649 \u062a\u0644\u0643 \u0627\u0644\u0628\u064a\u0627\u0646\u0627\u062a \u0646\u0641\u0633\u0647\u0627 \u0644\u0646\u0631\u0649 \u0645\u062f\u0649 \u0645\u0644\u0627\u0621\u0645\u062a\u0647\u0627.\n\u0627\u0644\u0645\u0646\u0638\u0645 \u0627\u0644\u0623\u0648\u0644 \u0647\u0648 `DecisionTreeRegressor` \u0645\u0639 `max_depth=4`.\n\u0627\u0644\u0645\u0646\u0638\u0645 \u0627\u0644\u062b\u0627\u0646\u064a \u0647\u0648 `AdaBoostRegressor` \u0645\u0639 `DecisionTreeRegressor`\n\u0628 `max_depth=4` \u0643\u0645\u062a\u0639\u0644\u0645 \u0623\u0633\u0627\u0633\u064a \u0648\u0633\u064a\u062a\u0645 \u0628\u0646\u0627\u0624\u0647 \u0645\u0639 `n_estimators=300`\n\u0645\u0646 \u062a\u0644\u0643 \u0627\u0644\u0645\u062a\u0639\u0644\u0645\u0627\u062a \u0627\u0644\u0623\u0633\u0627\u0633\u064a\u0629.\n\n"
      ]
    },
    {
      "cell_type": "code",
      "execution_count": null,
      "metadata": {
        "collapsed": false
      },
      "outputs": [],
      "source": [
        "regr_1 = DecisionTreeRegressor(max_depth=4)\n\nregr_2 = AdaBoostRegressor(\n    DecisionTreeRegressor(max_depth=4), n_estimators=300, random_state=rng\n)\n\nregr_1.fit(X, y)\nregr_2.fit(X, y)\n\ny_1 = regr_1.predict(X)\ny_2 = regr_2.predict(X)"
      ]
    },
    {
      "cell_type": "markdown",
      "metadata": {},
      "source": [
        "## \u0631\u0633\u0645 \u0627\u0644\u0646\u062a\u0627\u0626\u062c\n\u0623\u062e\u064a\u0631\u064b\u0627\u060c \u0646\u0631\u0633\u0645 \u0645\u062f\u0649 \u0645\u0644\u0627\u0621\u0645\u0629 \u0645\u0646\u0638\u0645\u064a\u0646\u0627\u060c\n\u0645\u0646\u0638\u0645 \u0634\u062c\u0631\u0629 \u0627\u0644\u0642\u0631\u0627\u0631 \u0627\u0644\u0645\u0641\u0631\u062f \u0648\u0645\u0646\u0638\u0645 AdaBoost\u060c \u0644\u0644\u0628\u064a\u0627\u0646\u0627\u062a.\n\n"
      ]
    },
    {
      "cell_type": "code",
      "execution_count": null,
      "metadata": {
        "collapsed": false
      },
      "outputs": [],
      "source": [
        "colors = sns.color_palette(\"colorblind\")\n\nplt.figure()\nplt.scatter(X, y, color=colors[0], label=\"training samples\")\nplt.plot(X, y_1, color=colors[1], label=\"n_estimators=1\", linewidth=2)\nplt.plot(X, y_2, color=colors[2], label=\"n_estimators=300\", linewidth=2)\nplt.xlabel(\"data\")\nplt.ylabel(\"target\")\nplt.title(\"Boosted Decision Tree Regression\")\nplt.legend()\nplt.show()"
      ]
    }
  ],
  "metadata": {
    "kernelspec": {
      "display_name": "Python 3",
      "language": "python",
      "name": "python3"
    },
    "language_info": {
      "codemirror_mode": {
        "name": "ipython",
        "version": 3
      },
      "file_extension": ".py",
      "mimetype": "text/x-python",
      "name": "python",
      "nbconvert_exporter": "python",
      "pygments_lexer": "ipython3",
      "version": "3.10.13"
    }
  },
  "nbformat": 4,
  "nbformat_minor": 0
}