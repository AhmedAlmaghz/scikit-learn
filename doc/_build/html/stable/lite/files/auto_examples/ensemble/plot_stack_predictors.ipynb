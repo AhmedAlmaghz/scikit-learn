{
  "cells": [
    {
      "cell_type": "markdown",
      "metadata": {},
      "source": [
        "<div class='alert alert-warning'>\n\n# JupyterLite warning\n\nRunning the scikit-learn examples in JupyterLite is experimental and you may encounter some unexpected behavior.\n\nThe main difference is that imports will take a lot longer than usual, for example the first `import sklearn` can take roughly 10-20s.\n\nIf you notice problems, feel free to open an [issue](https://github.com/scikit-learn/scikit-learn/issues/new/choose) about it.\n</div>"
      ]
    },
    {
      "cell_type": "code",
      "execution_count": null,
      "metadata": {
        "collapsed": false
      },
      "outputs": [],
      "source": [
        "# JupyterLite-specific code\n%pip install pyodide-http\nimport pyodide_http\npyodide_http.patch_all()\nimport matplotlib\nimport pandas"
      ]
    },
    {
      "cell_type": "markdown",
      "metadata": {},
      "source": [
        "\n# \u062f\u0645\u062c \u0627\u0644\u0645\u062a\u0646\u0628\u0626\u0627\u062a \u0628\u0627\u0633\u062a\u062e\u062f\u0627\u0645 \u0627\u0644\u062a\u0643\u062f\u064a\u0633\n\n.. currentmodule:: sklearn\n\n\u064a\u0634\u064a\u0631 \u0627\u0644\u062a\u0643\u062f\u064a\u0633 \u0625\u0644\u0649 \u0637\u0631\u064a\u0642\u0629 \u0644\u0645\u0632\u062c \u0627\u0644\u0645\u0642\u062f\u0631\u0627\u062a. \u0641\u064a \u0647\u0630\u0647 \u0627\u0644\u0627\u0633\u062a\u0631\u0627\u062a\u064a\u062c\u064a\u0629\u060c \u064a\u062a\u0645\n\u0645\u0644\u0627\u0621\u0645\u0629 \u0628\u0639\u0636 \u0627\u0644\u0645\u0642\u062f\u0631\u0627\u062a \u0628\u0634\u0643\u0644 \u0641\u0631\u062f\u064a \u0639\u0644\u0649 \u0628\u0639\u0636 \u0628\u064a\u0627\u0646\u0627\u062a \u0627\u0644\u062a\u062f\u0631\u064a\u0628 \u0628\u064a\u0646\u0645\u0627 \u064a\u062a\u0645 \u062a\u062f\u0631\u064a\u0628\n\u0645\u0642\u062f\u0631 \u0646\u0647\u0627\u0626\u064a \u0628\u0627\u0633\u062a\u062e\u062f\u0627\u0645 \u0627\u0644\u062a\u0646\u0628\u0624\u0627\u062a \u0627\u0644\u0645\u0643\u062f\u0633\u0629 \u0644\u0647\u0630\u0647 \u0627\u0644\u0645\u0642\u062f\u0631\u0627\u062a \u0627\u0644\u0623\u0633\u0627\u0633\u064a\u0629.\n\n\u0641\u064a \u0647\u0630\u0627 \u0627\u0644\u0645\u062b\u0627\u0644\u060c \u0646\u0648\u0636\u062d \u062d\u0627\u0644\u0629 \u0627\u0644\u0627\u0633\u062a\u062e\u062f\u0627\u0645 \u0627\u0644\u062a\u064a \u064a\u062a\u0645 \u0641\u064a\u0647\u0627 \u062a\u0643\u062f\u064a\u0633 \u0645\u064f\u0646\u062d\u062f\u0631\u0627\u062a\n\u0645\u062e\u062a\u0644\u0641\u0629 \u0645\u0639\u064b\u0627 \u0648\u064a\u062a\u0645 \u0627\u0633\u062a\u062e\u062f\u0627\u0645 \u0645\u064f\u0646\u062d\u062f\u0650\u0631 \u062e\u0637\u064a \u0645\u064f\u0639\u0627\u0642\u064e\u0628 \u0646\u0647\u0627\u0626\u064a \u0644\u0625\u062e\u0631\u0627\u062c\n\u0627\u0644\u062a\u0646\u0628\u0624. \u0646\u0642\u0627\u0631\u0646 \u0623\u062f\u0627\u0621 \u0643\u0644 \u0645\u064f\u0646\u062d\u062f\u0650\u0631 \u0641\u0631\u062f\u064a \u0645\u0639 \u0627\u0633\u062a\u0631\u0627\u062a\u064a\u062c\u064a\u0629\n\u0627\u0644\u062a\u0643\u062f\u064a\u0633. \u064a\u062d\u0633\u0646 \u0627\u0644\u062a\u0643\u062f\u064a\u0633 \u0627\u0644\u0623\u062f\u0627\u0621 \u0627\u0644\u0639\u0627\u0645 \u0628\u0634\u0643\u0644 \u0637\u0641\u064a\u0641.\n"
      ]
    },
    {
      "cell_type": "code",
      "execution_count": null,
      "metadata": {
        "collapsed": false
      },
      "outputs": [],
      "source": [
        "# Authors: The scikit-learn developers\n# SPDX-License-Identifier: BSD-3-Clause"
      ]
    },
    {
      "cell_type": "markdown",
      "metadata": {},
      "source": [
        "## \u062a\u0646\u0632\u064a\u0644 \u0645\u062c\u0645\u0648\u0639\u0629 \u0627\u0644\u0628\u064a\u0627\u0646\u0627\u062a\n\n\u0633\u0646\u0633\u062a\u062e\u062f\u0645 \u0645\u062c\u0645\u0648\u0639\u0629 \u0628\u064a\u0627\u0646\u0627\u062a `Ames Housing`_ \u0627\u0644\u062a\u064a \u062a\u0645 \u062a\u062c\u0645\u064a\u0639\u0647\u0627 \u0644\u0623\u0648\u0644 \u0645\u0631\u0629 \u0628\u0648\u0627\u0633\u0637\u0629 Dean De Cock\n\u0648\u0623\u0635\u0628\u062d\u062a \u0623\u0643\u062b\u0631 \u0634\u0647\u0631\u0629 \u0628\u0639\u062f \u0627\u0633\u062a\u062e\u062f\u0627\u0645\u0647\u0627 \u0641\u064a \u062a\u062d\u062f\u064a Kaggle. \u0625\u0646\u0647\u0627 \u0645\u062c\u0645\u0648\u0639\u0629\n\u0645\u0646 1460 \u0645\u0646\u0632\u0644\u064b\u0627 \u0633\u0643\u0646\u064a\u064b\u0627 \u0641\u064a Ames\u060c Iowa\u060c \u0643\u0644 \u0645\u0646\u0647\u0627 \u0645\u0648\u0635\u0648\u0641 \u0628\u0640 80 \u0645\u064a\u0632\u0629. \u0633\u0646\u0633\u062a\u062e\u062f\u0645\u0647\u0627\n\u0644\u0644\u062a\u0646\u0628\u0624 \u0628\u0627\u0644\u0633\u0639\u0631 \u0627\u0644\u0644\u0648\u063a\u0627\u0631\u064a\u062a\u0645\u064a \u0627\u0644\u0646\u0647\u0627\u0626\u064a \u0644\u0644\u0645\u0646\u0627\u0632\u0644. \u0641\u064a \u0647\u0630\u0627 \u0627\u0644\u0645\u062b\u0627\u0644\u060c \u0633\u0646\u0633\u062a\u062e\u062f\u0645\n20 \u0645\u064a\u0632\u0629 \u0641\u0642\u0637 \u0645\u0646 \u0623\u0643\u062b\u0631 \u0627\u0644\u0645\u064a\u0632\u0627\u062a \u0625\u062b\u0627\u0631\u0629 \u0644\u0644\u0627\u0647\u062a\u0645\u0627\u0645 \u062a\u0645 \u0627\u062e\u062a\u064a\u0627\u0631\u0647\u0627 \u0628\u0627\u0633\u062a\u062e\u062f\u0627\u0645\nGradientBoostingRegressor () \u0648\u0646\u062d\u062f \u0645\u0646 \u0639\u062f\u062f \u0627\u0644\u0625\u062f\u062e\u0627\u0644\u0627\u062a (\u0644\u0646 \u0646\u062a\u0637\u0631\u0642 \u0647\u0646\u0627\n\u0625\u0644\u0649 \u0627\u0644\u062a\u0641\u0627\u0635\u064a\u0644 \u062d\u0648\u0644 \u0643\u064a\u0641\u064a\u0629 \u062a\u062d\u062f\u064a\u062f \u0627\u0644\u0645\u064a\u0632\u0627\u062a \u0627\u0644\u0623\u0643\u062b\u0631 \u0625\u062b\u0627\u0631\u0629 \u0644\u0644\u0627\u0647\u062a\u0645\u0627\u0645).\n\n\u0644\u0627 \u064a\u062a\u0645 \u0634\u062d\u0646 \u0645\u062c\u0645\u0648\u0639\u0629 \u0628\u064a\u0627\u0646\u0627\u062a Ames Housing \u0645\u0639 scikit-learn\u060c \u0648\u0628\u0627\u0644\u062a\u0627\u0644\u064a \u0633\u0646\u0642\u0648\u0645\n\u0628\u062c\u0644\u0628\u0647\u0627 \u0645\u0646 `OpenML`_.\n\n\n"
      ]
    },
    {
      "cell_type": "code",
      "execution_count": null,
      "metadata": {
        "collapsed": false
      },
      "outputs": [],
      "source": [
        "import numpy as np\n\nfrom sklearn.datasets import fetch_openml\nfrom sklearn.utils import shuffle\n\n\ndef load_ames_housing():\n    df = fetch_openml(name=\"house_prices\", as_frame=True)\n    X = df.data\n    y = df.target\n\n    features = [\n        \"YrSold\",\n        \"HeatingQC\",\n        \"Street\",\n        \"YearRemodAdd\",\n        \"Heating\",\n        \"MasVnrType\",\n        \"BsmtUnfSF\",\n        \"Foundation\",\n        \"MasVnrArea\",\n        \"MSSubClass\",\n        \"ExterQual\",\n        \"Condition2\",\n        \"GarageCars\",\n        \"GarageType\",\n        \"OverallQual\",\n        \"TotalBsmtSF\",\n        \"BsmtFinSF1\",\n        \"HouseStyle\",\n        \"MiscFeature\",\n        \"MoSold\",\n    ]\n\n    X = X.loc[:, features]\n    X, y = shuffle(X, y, random_state=0)\n\n    X = X.iloc[:600]\n    y = y.iloc[:600]\n    return X, np.log(y)\n\n\nX, y = load_ames_housing()"
      ]
    },
    {
      "cell_type": "markdown",
      "metadata": {},
      "source": [
        "## \u0625\u0646\u0634\u0627\u0621 \u062e\u0637 \u0623\u0646\u0627\u0628\u064a\u0628 \u0644\u0645\u0639\u0627\u0644\u062c\u0629 \u0627\u0644\u0628\u064a\u0627\u0646\u0627\u062a \u0645\u0633\u0628\u0642\u064b\u0627\n\n\u0642\u0628\u0644 \u0623\u0646 \u0646\u062a\u0645\u0643\u0646 \u0645\u0646 \u0627\u0633\u062a\u062e\u062f\u0627\u0645 \u0645\u062c\u0645\u0648\u0639\u0629 \u0628\u064a\u0627\u0646\u0627\u062a Ames\u060c \u0645\u0627 \u0632\u0644\u0646\u0627 \u0628\u062d\u0627\u062c\u0629 \u0625\u0644\u0649 \u0625\u062c\u0631\u0627\u0621 \u0628\u0639\u0636 \u0627\u0644\u0645\u0639\u0627\u0644\u062c\u0629 \u0627\u0644\u0645\u0633\u0628\u0642\u0629.\n\u0623\u0648\u0644\u0627\u064b\u060c \u0633\u0646\u062d\u062f\u062f \u0627\u0644\u0623\u0639\u0645\u062f\u0629 \u0627\u0644\u0641\u0626\u0648\u064a\u0629 \u0648\u0627\u0644\u0631\u0642\u0645\u064a\u0629 \u0644\u0645\u062c\u0645\u0648\u0639\u0629 \u0627\u0644\u0628\u064a\u0627\u0646\u0627\u062a\n\u0644\u0625\u0646\u0634\u0627\u0621 \u0627\u0644\u062e\u0637\u0648\u0629 \u0627\u0644\u0623\u0648\u0644\u0649 \u0645\u0646 \u062e\u0637 \u0627\u0644\u0623\u0646\u0627\u0628\u064a\u0628.\n\n"
      ]
    },
    {
      "cell_type": "code",
      "execution_count": null,
      "metadata": {
        "collapsed": false
      },
      "outputs": [],
      "source": [
        "from sklearn.compose import make_column_selector\n\ncat_selector = make_column_selector(dtype_include=object)\nnum_selector = make_column_selector(dtype_include=np.number)\ncat_selector(X)"
      ]
    },
    {
      "cell_type": "code",
      "execution_count": null,
      "metadata": {
        "collapsed": false
      },
      "outputs": [],
      "source": [
        "num_selector(X)"
      ]
    },
    {
      "cell_type": "markdown",
      "metadata": {},
      "source": [
        "\u0628\u0639\u062f \u0630\u0644\u0643\u060c \u0633\u0646\u062d\u062a\u0627\u062c \u0625\u0644\u0649 \u062a\u0635\u0645\u064a\u0645 \u062e\u0637\u0648\u0637 \u0623\u0646\u0627\u0628\u064a\u0628 \u0627\u0644\u0645\u0639\u0627\u0644\u062c\u0629 \u0627\u0644\u0645\u0633\u0628\u0642\u0629 \u0627\u0644\u062a\u064a \u062a\u0639\u062a\u0645\u062f \u0639\u0644\u0649\n\u0627\u0644\u0645\u064f\u0646\u062d\u062f\u0650\u0631 \u0627\u0644\u0646\u0647\u0627\u0626\u064a. \u0625\u0630\u0627 \u0643\u0627\u0646 \u0627\u0644\u0645\u064f\u0646\u062d\u062f\u0650\u0631 \u0627\u0644\u0646\u0647\u0627\u0626\u064a \u0646\u0645\u0648\u0630\u062c\u064b\u0627 \u062e\u0637\u064a\u064b\u0627\u060c \u0641\u064a\u062c\u0628 \u0639\u0644\u0649 \u0627\u0644\u0645\u0631\u0621\n\u062a\u0631\u0645\u064a\u0632 \u0627\u0644\u0641\u0626\u0627\u062a \u0628\u062a\u0631\u0645\u064a\u0632 \u0648\u0627\u062d\u062f \u0633\u0627\u062e\u0646. \u0625\u0630\u0627 \u0643\u0627\u0646 \u0627\u0644\u0645\u064f\u0646\u062d\u062f\u0650\u0631 \u0627\u0644\u0646\u0647\u0627\u0626\u064a \u0646\u0645\u0648\u0630\u062c\u064b\u0627 \u0642\u0627\u0626\u0645\u064b\u0627 \u0639\u0644\u0649 \u0627\u0644\u0634\u062c\u0631\u0629\u060c\n\u0641\u0633\u064a\u0643\u0648\u0646 \u0627\u0644\u0645\u064f\u0631\u0645\u0632 \u0627\u0644\u062a\u0631\u062a\u064a\u0628\u064a \u0643\u0627\u0641\u064a\u064b\u0627. \u0625\u0644\u0649 \u062c\u0627\u0646\u0628 \u0630\u0644\u0643\u060c \u064a\u062c\u0628 \u062a\u0648\u062d\u064a\u062f\n\u0627\u0644\u0642\u064a\u0645 \u0627\u0644\u0631\u0642\u0645\u064a\u0629 \u0644\u0644\u0646\u0645\u0648\u0630\u062c \u0627\u0644\u062e\u0637\u064a \u0628\u064a\u0646\u0645\u0627 \u064a\u0645\u0643\u0646 \u0645\u0639\u0627\u0644\u062c\u0629 \u0627\u0644\u0628\u064a\u0627\u0646\u0627\u062a \u0627\u0644\u0631\u0642\u0645\u064a\u0629 \u0627\u0644\u0623\u0648\u0644\u064a\u0629\n\u0643\u0645\u0627 \u0647\u064a \u0628\u0648\u0627\u0633\u0637\u0629 \u0646\u0645\u0648\u0630\u062c \u0642\u0627\u0626\u0645 \u0639\u0644\u0649 \u0627\u0644\u0634\u062c\u0631\u0629. \u0648\u0645\u0639 \u0630\u0644\u0643\u060c \u064a\u062d\u062a\u0627\u062c \u0643\u0644\u0627 \u0627\u0644\u0646\u0645\u0648\u0630\u062c\u064a\u0646 \u0625\u0644\u0649 \u0623\u062f\u0627\u0629\n\u0625\u0643\u0645\u0627\u0644 \u0644\u0644\u062a\u0639\u0627\u0645\u0644 \u0645\u0639 \u0627\u0644\u0642\u064a\u0645 \u0627\u0644\u0645\u0641\u0642\u0648\u062f\u0629.\n\n\u0633\u0646\u0642\u0648\u0645 \u0623\u0648\u0644\u0627\u064b \u0628\u062a\u0635\u0645\u064a\u0645 \u062e\u0637 \u0627\u0644\u0623\u0646\u0627\u0628\u064a\u0628 \u0627\u0644\u0645\u0637\u0644\u0648\u0628 \u0644\u0644\u0646\u0645\u0627\u0630\u062c \u0627\u0644\u0642\u0627\u0626\u0645\u0629 \u0639\u0644\u0649 \u0627\u0644\u0634\u062c\u0631\u0629.\n\n"
      ]
    },
    {
      "cell_type": "code",
      "execution_count": null,
      "metadata": {
        "collapsed": false
      },
      "outputs": [],
      "source": [
        "from sklearn.compose import make_column_transformer\nfrom sklearn.impute import SimpleImputer\nfrom sklearn.pipeline import make_pipeline\nfrom sklearn.preprocessing import OrdinalEncoder\n\ncat_tree_processor = OrdinalEncoder(\n    handle_unknown=\"use_encoded_value\",\n    unknown_value=-1,\n    encoded_missing_value=-2,\n)\nnum_tree_processor = SimpleImputer(strategy=\"mean\", add_indicator=True)\n\ntree_preprocessor = make_column_transformer(\n    (num_tree_processor, num_selector), (cat_tree_processor, cat_selector)\n)\ntree_preprocessor"
      ]
    },
    {
      "cell_type": "markdown",
      "metadata": {},
      "source": [
        "\u0628\u0639\u062f \u0630\u0644\u0643\u060c \u0633\u0646\u062d\u062f\u062f \u0627\u0644\u0622\u0646 \u0627\u0644\u0645\u0639\u0627\u0644\u062c \u0627\u0644\u0645\u0633\u0628\u0642 \u0627\u0644\u0645\u0633\u062a\u062e\u062f\u0645 \u0639\u0646\u062f\u0645\u0627 \u064a\u0643\u0648\u0646 \u0627\u0644\u0645\u064f\u0646\u062d\u062f\u0650\u0631\n\u0627\u0644\u0646\u0647\u0627\u0626\u064a \u0646\u0645\u0648\u0630\u062c\u064b\u0627 \u062e\u0637\u064a\u064b\u0627.\n\n"
      ]
    },
    {
      "cell_type": "code",
      "execution_count": null,
      "metadata": {
        "collapsed": false
      },
      "outputs": [],
      "source": [
        "from sklearn.preprocessing import OneHotEncoder, StandardScaler\n\ncat_linear_processor = OneHotEncoder(handle_unknown=\"ignore\")\nnum_linear_processor = make_pipeline(\n    StandardScaler(), SimpleImputer(strategy=\"mean\", add_indicator=True)\n)\n\nlinear_preprocessor = make_column_transformer(\n    (num_linear_processor, num_selector), (cat_linear_processor, cat_selector)\n)\nlinear_preprocessor"
      ]
    },
    {
      "cell_type": "markdown",
      "metadata": {},
      "source": [
        "## \u0645\u0643\u062f\u0633 \u0627\u0644\u0645\u062a\u0646\u0628\u0626\u0627\u062a \u0639\u0644\u0649 \u0645\u062c\u0645\u0648\u0639\u0629 \u0628\u064a\u0627\u0646\u0627\u062a \u0648\u0627\u062d\u062f\u0629\n\n\u064a\u0643\u0648\u0646 \u0645\u0646 \u0627\u0644\u0645\u0645\u0644 \u0641\u064a \u0628\u0639\u0636 \u0627\u0644\u0623\u062d\u064a\u0627\u0646 \u0627\u0644\u0639\u062b\u0648\u0631 \u0639\u0644\u0649 \u0627\u0644\u0646\u0645\u0648\u0630\u062c \u0627\u0644\u0630\u064a \u0633\u064a\u0643\u0648\u0646 \u0623\u0641\u0636\u0644 \u0623\u062f\u0627\u0621\u064b \u0639\u0644\u0649\n\u0645\u062c\u0645\u0648\u0639\u0629 \u0628\u064a\u0627\u0646\u0627\u062a \u0645\u0639\u064a\u0646\u0629. \u064a\u0648\u0641\u0631 \u0627\u0644\u062a\u0643\u062f\u064a\u0633 \u0628\u062f\u064a\u0644\u0627\u064b \u0639\u0646 \u0637\u0631\u064a\u0642 \u062f\u0645\u062c \u0645\u062e\u0631\u062c\u0627\u062a \u0627\u0644\u0639\u062f\u064a\u062f \u0645\u0646\n\u0627\u0644\u0645\u062a\u0639\u0644\u0645\u064a\u0646\u060c \u062f\u0648\u0646 \u0627\u0644\u062d\u0627\u062c\u0629 \u0625\u0644\u0649 \u0627\u062e\u062a\u064a\u0627\u0631 \u0646\u0645\u0648\u0630\u062c \u0645\u062d\u062f\u062f. \u0639\u0627\u062f\u0629 \u0645\u0627 \u064a\u0643\u0648\u0646 \u0623\u062f\u0627\u0621\n\u0627\u0644\u062a\u0643\u062f\u064a\u0633 \u0642\u0631\u064a\u0628\u064b\u0627 \u0645\u0646 \u0623\u0641\u0636\u0644 \u0646\u0645\u0648\u0630\u062c\u060c \u0648\u0623\u062d\u064a\u0627\u0646\u064b\u0627 \u064a\u0645\u0643\u0646 \u0623\u0646 \u064a\u062a\u0641\u0648\u0642 \u0639\u0644\u0649 \u0623\u062f\u0627\u0621 \u0627\u0644\u062a\u0646\u0628\u0624\n\u0644\u0643\u0644 \u0646\u0645\u0648\u0630\u062c \u0641\u0631\u062f\u064a.\n\n\u0647\u0646\u0627\u060c \u0646\u0642\u0648\u0645 \u0628\u062f\u0645\u062c 3 \u0645\u062a\u0639\u0644\u0645\u064a\u0646 (\u062e\u0637\u064a \u0648\u063a\u064a\u0631 \u062e\u0637\u064a) \u0648\u0646\u0633\u062a\u062e\u062f\u0645 \u0645\u064f\u0646\u062d\u062f\u0650\u0631 \u0631\u064a\u062f\u062c\n\u0644\u062f\u0645\u062c \u0645\u062e\u0631\u062c\u0627\u062a\u0647\u0645 \u0645\u0639\u064b\u0627.\n\n<div class=\"alert alert-info\"><h4>Note</h4><p>\u0639\u0644\u0649 \u0627\u0644\u0631\u063a\u0645 \u0645\u0646 \u0623\u0646\u0646\u0627 \u0633\u0646\u0646\u0634\u0626 \u062e\u0637\u0648\u0637 \u0623\u0646\u0627\u0628\u064a\u0628 \u062c\u062f\u064a\u062f\u0629 \u0645\u0639 \u0627\u0644\u0645\u0639\u0627\u0644\u062c\u0627\u062a \u0627\u0644\u062a\u064a \u0643\u062a\u0628\u0646\u0627\u0647\u0627 \u0641\u064a\n   \u0627\u0644\u0642\u0633\u0645 \u0627\u0644\u0633\u0627\u0628\u0642 \u0644\u0644\u0645\u062a\u0639\u0644\u0645\u064a\u0646 \u0627\u0644\u062b\u0644\u0627\u062b\u0629\u060c \u0641\u0625\u0646 \u0627\u0644\u0645\u0642\u062f\u0631 \u0627\u0644\u0646\u0647\u0627\u0626\u064a\n   :class:`~sklearn.linear_model.RidgeCV()` \u0644\u0627 \u064a\u062d\u062a\u0627\u062c \u0625\u0644\u0649 \u0645\u0639\u0627\u0644\u062c\u0629 \u0645\u0633\u0628\u0642\u0629\n   \u0644\u0644\u0628\u064a\u0627\u0646\u0627\u062a \u0644\u0623\u0646\u0647 \u0633\u064a\u062a\u0645 \u062a\u063a\u0630\u064a\u062a\u0647 \u0628\u0627\u0644\u0645\u062e\u0631\u062c\u0627\u062a \u0627\u0644\u0645\u0639\u0627\u0644\u062c\u0629 \u0645\u0633\u0628\u0642\u064b\u0627 \u0645\u0646 \u0627\u0644\u0645\u062a\u0639\u0644\u0645\u064a\u0646\n   \u0627\u0644\u062b\u0644\u0627\u062b\u0629.</p></div>\n\n"
      ]
    },
    {
      "cell_type": "code",
      "execution_count": null,
      "metadata": {
        "collapsed": false
      },
      "outputs": [],
      "source": [
        "from sklearn.linear_model import LassoCV\n\nlasso_pipeline = make_pipeline(linear_preprocessor, LassoCV())\nlasso_pipeline"
      ]
    },
    {
      "cell_type": "code",
      "execution_count": null,
      "metadata": {
        "collapsed": false
      },
      "outputs": [],
      "source": [
        "from sklearn.ensemble import RandomForestRegressor\n\nrf_pipeline = make_pipeline(tree_preprocessor, RandomForestRegressor(random_state=42))\nrf_pipeline"
      ]
    },
    {
      "cell_type": "code",
      "execution_count": null,
      "metadata": {
        "collapsed": false
      },
      "outputs": [],
      "source": [
        "from sklearn.ensemble import HistGradientBoostingRegressor\n\ngbdt_pipeline = make_pipeline(\n    tree_preprocessor, HistGradientBoostingRegressor(random_state=0)\n)\ngbdt_pipeline"
      ]
    },
    {
      "cell_type": "code",
      "execution_count": null,
      "metadata": {
        "collapsed": false
      },
      "outputs": [],
      "source": [
        "from sklearn.ensemble import StackingRegressor\nfrom sklearn.linear_model import RidgeCV\n\nestimators = [\n    (\"\u0627\u0644\u063a\u0627\u0628\u0629 \u0627\u0644\u0639\u0634\u0648\u0627\u0626\u064a\u0629\", rf_pipeline),\n    (\"Lasso\", lasso_pipeline),\n    (\"\u0627\u0644\u062a\u0639\u0632\u064a\u0632 \u0627\u0644\u0645\u062a\u062f\u0631\u062c\", gbdt_pipeline),\n]\n\nstacking_regressor = StackingRegressor(estimators=estimators, final_estimator=RidgeCV())\nstacking_regressor"
      ]
    },
    {
      "cell_type": "markdown",
      "metadata": {},
      "source": [
        "## \u0642\u064a\u0627\u0633 \u0648\u0631\u0633\u0645 \u0627\u0644\u0646\u062a\u0627\u0626\u062c\n\n\u0627\u0644\u0622\u0646 \u064a\u0645\u0643\u0646\u0646\u0627 \u0627\u0633\u062a\u062e\u062f\u0627\u0645 \u0645\u062c\u0645\u0648\u0639\u0629 \u0628\u064a\u0627\u0646\u0627\u062a Ames Housing \u0644\u0625\u062c\u0631\u0627\u0621 \u0627\u0644\u062a\u0646\u0628\u0624\u0627\u062a. \u0646\u062a\u062d\u0642\u0642 \u0645\u0646\n\u0623\u062f\u0627\u0621 \u0643\u0644 \u0645\u062a\u0646\u0628\u0626 \u0641\u0631\u062f\u064a \u0628\u0627\u0644\u0625\u0636\u0627\u0641\u0629 \u0625\u0644\u0649 \u0645\u0643\u062f\u0633\n\u0627\u0644\u0645\u064f\u0646\u062d\u062f\u0631\u0627\u062a.\n\n"
      ]
    },
    {
      "cell_type": "code",
      "execution_count": null,
      "metadata": {
        "collapsed": false
      },
      "outputs": [],
      "source": [
        "import time\n\nimport matplotlib.pyplot as plt\n\nfrom sklearn.metrics import PredictionErrorDisplay\nfrom sklearn.model_selection import cross_val_predict, cross_validate\n\nfig, axs = plt.subplots(2, 2, figsize=(9, 7))\naxs = np.ravel(axs)\n\nfor ax, (name, est) in zip(\n    axs, estimators + [(\"\u0645\u064f\u0646\u062d\u062f\u0650\u0631 \u0627\u0644\u062a\u0643\u062f\u064a\u0633\", stacking_regressor)]\n):\n    scorers = {\"R2\": \"r2\", \"MAE\": \"neg_mean_absolute_error\"}\n\n    start_time = time.time()\n    scores = cross_validate(\n        est, X, y, scoring=list(scorers.values()), n_jobs=-1, verbose=0\n    )\n    elapsed_time = time.time() - start_time\n\n    y_pred = cross_val_predict(est, X, y, n_jobs=-1, verbose=0)\n    scores = {\n        key: (\n            f\"{np.abs(np.mean(scores[f'test_{value}'])):.2f} +- \"\n            f\"{np.std(scores[f'test_{value}']):.2f}\"\n        )\n        for key, value in scorers.items()\n    }\n\n    display = PredictionErrorDisplay.from_predictions(\n        y_true=y,\n        y_pred=y_pred,\n        kind=\"actual_vs_predicted\",\n        ax=ax,\n        scatter_kwargs={\"alpha\": 0.2, \"color\": \"tab:blue\"},\n        line_kwargs={\"color\": \"tab:red\"},\n    )\n\n    ax.set_title(f\"{name}\\n\u0627\u0644\u062a\u0642\u064a\u064a\u0645 \u0641\u064a {elapsed_time:.2f} \u062b\u0627\u0646\u064a\u0629\")\n\n\n    for name, score in scores.items():\n        ax.plot([], [], \" \", label=f\"{name}: {score}\")\n    ax.legend(loc=\"upper left\")\n\nplt.suptitle(\"\u0627\u0644\u0645\u062a\u0646\u0628\u0626\u0627\u062a \u0627\u0644\u0641\u0631\u062f\u064a\u0629 \u0645\u0642\u0627\u0628\u0644 \u0627\u0644\u0645\u062a\u0646\u0628\u0626\u0627\u062a \u0627\u0644\u0645\u0643\u062f\u0633\u0629\")\nplt.tight_layout()\nplt.subplots_adjust(top=0.9)\nplt.show()"
      ]
    },
    {
      "cell_type": "markdown",
      "metadata": {},
      "source": [
        "\u0633\u064a\u062c\u0645\u0639 \u0645\u064f\u0646\u062d\u062f\u0650\u0631 \u0627\u0644\u062a\u0643\u062f\u064a\u0633 \u0646\u0642\u0627\u0637 \u0627\u0644\u0642\u0648\u0629 \u0644\u0645\u062e\u062a\u0644\u0641 \u0627\u0644\u0645\u064f\u0646\u062d\u062f\u0631\u0627\u062a.\n\u0648\u0645\u0639 \u0630\u0644\u0643\u060c \u0646\u0631\u0649 \u0623\u064a\u0636\u064b\u0627 \u0623\u0646 \u062a\u062f\u0631\u064a\u0628 \u0645\u064f\u0646\u062d\u062f\u0650\u0631 \u0627\u0644\u062a\u0643\u062f\u064a\u0633 \u0645\u0643\u0644\u0641\n\u062d\u0633\u0627\u0628\u064a\u064b\u0627 \u0623\u0643\u062b\u0631.\n\n"
      ]
    }
  ],
  "metadata": {
    "kernelspec": {
      "display_name": "Python 3",
      "language": "python",
      "name": "python3"
    },
    "language_info": {
      "codemirror_mode": {
        "name": "ipython",
        "version": 3
      },
      "file_extension": ".py",
      "mimetype": "text/x-python",
      "name": "python",
      "nbconvert_exporter": "python",
      "pygments_lexer": "ipython3",
      "version": "3.10.13"
    }
  },
  "nbformat": 4,
  "nbformat_minor": 0
}