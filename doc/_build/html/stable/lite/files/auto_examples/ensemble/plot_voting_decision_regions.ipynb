{
  "cells": [
    {
      "cell_type": "markdown",
      "metadata": {},
      "source": [
        "<div class='alert alert-warning'>\n\n# JupyterLite warning\n\nRunning the scikit-learn examples in JupyterLite is experimental and you may encounter some unexpected behavior.\n\nThe main difference is that imports will take a lot longer than usual, for example the first `import sklearn` can take roughly 10-20s.\n\nIf you notice problems, feel free to open an [issue](https://github.com/scikit-learn/scikit-learn/issues/new/choose) about it.\n</div>"
      ]
    },
    {
      "cell_type": "code",
      "execution_count": null,
      "metadata": {
        "collapsed": false
      },
      "outputs": [],
      "source": [
        "# JupyterLite-specific code\nimport matplotlib\nimport pandas"
      ]
    },
    {
      "cell_type": "markdown",
      "metadata": {},
      "source": [
        "\n# \u0631\u0633\u0645 \u062d\u062f\u0648\u062f \u0627\u0644\u0642\u0631\u0627\u0631 \u0644\u0640 VotingClassifier\n\n.. currentmodule:: sklearn\n\n\u0631\u0633\u0645 \u062d\u062f\u0648\u062f \u0627\u0644\u0642\u0631\u0627\u0631 \u0644\u0640 :class:`~ensemble.VotingClassifier` \u0644\u0645\u064a\u0632\u062a\u064a\u0646 \u0645\u0646 \u0645\u062c\u0645\u0648\u0639\u0629 \u0628\u064a\u0627\u0646\u0627\u062a Iris.\n\n\u0631\u0633\u0645 \u0627\u062d\u062a\u0645\u0627\u0644\u0627\u062a \u0627\u0644\u0641\u0626\u0629 \u0644\u0644\u0639\u064a\u0646\u0629 \u0627\u0644\u0623\u0648\u0644\u0649 \u0641\u064a \u0645\u062c\u0645\u0648\u0639\u0629 \u0628\u064a\u0627\u0646\u0627\u062a \u062a\u062c\u0631\u064a\u0628\u064a\u0629 \u062a\u0645 \u0627\u0644\u062a\u0646\u0628\u0624 \u0628\u0647\u0627 \u0628\u0648\u0627\u0633\u0637\u0629\n\u062b\u0644\u0627\u062b\u0629 \u0645\u0635\u0646\u0641\u0627\u062a \u0645\u062e\u062a\u0644\u0641\u0629 \u0648\u062a\u0645 \u062d\u0633\u0627\u0628 \u0645\u062a\u0648\u0633\u0637\u0647\u0627 \u0628\u0648\u0627\u0633\u0637\u0629\n:class:`~ensemble.VotingClassifier`.\n\n\u0623\u0648\u0644\u0627\u064b\u060c \u064a\u062a\u0645 \u062a\u0647\u064a\u0626\u0629 \u062b\u0644\u0627\u062b\u0629 \u0645\u0635\u0646\u0641\u0627\u062a \u0646\u0645\u0648\u0630\u062c\u064a\u0629\n(:class:`~tree.DecisionTreeClassifier`\u060c\n:class:`~neighbors.KNeighborsClassifier`\u060c \u0648 :class:`~svm.SVC`) \u0648\u062a\u0633\u062a\u062e\u062f\u0645\n\u0644\u062a\u0647\u064a\u0626\u0629 :class:`~ensemble.VotingClassifier` \u0644\u0644\u062a\u0635\u0648\u064a\u062a \u0627\u0644\u0646\u0627\u0639\u0645 \u0645\u0639 \u0623\u0648\u0632\u0627\u0646 `[2\u060c\n1\u060c 2]`\u060c \u0645\u0645\u0627 \u064a\u0639\u0646\u064a \u0623\u0646 \u0627\u0644\u0627\u062d\u062a\u0645\u0627\u0644\u0627\u062a \u0627\u0644\u0645\u062a\u0648\u0642\u0639\u0629 \u0644\u0640\n:class:`~tree.DecisionTreeClassifier` \u0648 :class:`~svm.SVC` \u064a\u062a\u0645 \u0627\u062d\u062a\u0633\u0627\u0628 \u0643\u0644 \u0645\u0646\u0647\u0627 \u0645\u0631\u062a\u064a\u0646\n\u0628\u0642\u062f\u0631 \u0623\u0648\u0632\u0627\u0646 \u0645\u0635\u0646\u0641 :class:`~neighbors.KNeighborsClassifier`\n\u0639\u0646\u062f\u0645\u0627 \u064a\u062a\u0645 \u062d\u0633\u0627\u0628 \u0627\u0644\u0627\u062d\u062a\u0645\u0627\u0644 \u0627\u0644\u0645\u062a\u0648\u0633\u0637.\n"
      ]
    },
    {
      "cell_type": "code",
      "execution_count": null,
      "metadata": {
        "collapsed": false
      },
      "outputs": [],
      "source": [
        "# Authors: The scikit-learn developers\n# SPDX-License-Identifier: BSD-3-Clause\n\nfrom itertools import product\n\nimport matplotlib.pyplot as plt\n\nfrom sklearn import datasets\nfrom sklearn.ensemble import VotingClassifier\nfrom sklearn.inspection import DecisionBoundaryDisplay\nfrom sklearn.neighbors import KNeighborsClassifier\nfrom sklearn.svm import SVC\nfrom sklearn.tree import DecisionTreeClassifier\n\n# \u062a\u062d\u0645\u064a\u0644 \u0628\u0639\u0636 \u0628\u064a\u0627\u0646\u0627\u062a \u0627\u0644\u0645\u062b\u0627\u0644\niris = datasets.load_iris()\nX = iris.data[:, [0, 2]]\ny = iris.target\n\n# \u062a\u062f\u0631\u064a\u0628 \u0627\u0644\u0645\u0635\u0646\u0641\u0627\u062a\nclf1 = DecisionTreeClassifier(max_depth=4)\nclf2 = KNeighborsClassifier(n_neighbors=7)\nclf3 = SVC(gamma=0.1, kernel=\"rbf\", probability=True)\neclf = VotingClassifier(\n    estimators=[(\"dt\", clf1), (\"knn\", clf2), (\"svc\", clf3)],\n    voting=\"soft\",\n    weights=[2, 1, 2],\n)\n\nclf1.fit(X, y)\nclf2.fit(X, y)\nclf3.fit(X, y)\neclf.fit(X, y)\n\n# \u0631\u0633\u0645 \u0645\u0646\u0627\u0637\u0642 \u0627\u0644\u0642\u0631\u0627\u0631\nf, axarr = plt.subplots(2, 2, sharex=\"col\", sharey=\"row\", figsize=(10, 8))\nfor idx, clf, tt in zip(\n    product([0, 1], [0, 1]),\n    [clf1, clf2, clf3, eclf],\n    [\"\u0634\u062c\u0631\u0629 \u0627\u0644\u0642\u0631\u0627\u0631 (\u0627\u0644\u0639\u0645\u0642 = 4)\", \"KNN (k = 7)\", \"Kernel SVM\", \"\u0627\u0644\u062a\u0635\u0648\u064a\u062a \u0627\u0644\u0646\u0627\u0639\u0645\"],\n):\n    DecisionBoundaryDisplay.from_estimator(\n        clf, X, alpha=0.4, ax=axarr[idx[0], idx[1]], response_method=\"predict\"\n    )\n    axarr[idx[0], idx[1]].scatter(X[:, 0], X[:, 1], c=y, s=20, edgecolor=\"k\")\n    axarr[idx[0], idx[1]].set_title(tt)\n\nplt.show()"
      ]
    }
  ],
  "metadata": {
    "kernelspec": {
      "display_name": "Python 3",
      "language": "python",
      "name": "python3"
    },
    "language_info": {
      "codemirror_mode": {
        "name": "ipython",
        "version": 3
      },
      "file_extension": ".py",
      "mimetype": "text/x-python",
      "name": "python",
      "nbconvert_exporter": "python",
      "pygments_lexer": "ipython3",
      "version": "3.10.13"
    }
  },
  "nbformat": 4,
  "nbformat_minor": 0
}