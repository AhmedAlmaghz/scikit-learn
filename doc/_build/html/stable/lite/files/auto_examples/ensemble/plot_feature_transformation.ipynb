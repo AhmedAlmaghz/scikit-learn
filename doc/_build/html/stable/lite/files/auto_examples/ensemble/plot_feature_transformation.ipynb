{
  "cells": [
    {
      "cell_type": "markdown",
      "metadata": {},
      "source": [
        "<div class='alert alert-warning'>\n\n# JupyterLite warning\n\nRunning the scikit-learn examples in JupyterLite is experimental and you may encounter some unexpected behavior.\n\nThe main difference is that imports will take a lot longer than usual, for example the first `import sklearn` can take roughly 10-20s.\n\nIf you notice problems, feel free to open an [issue](https://github.com/scikit-learn/scikit-learn/issues/new/choose) about it.\n</div>"
      ]
    },
    {
      "cell_type": "code",
      "execution_count": null,
      "metadata": {
        "collapsed": false
      },
      "outputs": [],
      "source": [
        "# JupyterLite-specific code\nimport matplotlib\nimport pandas"
      ]
    },
    {
      "cell_type": "markdown",
      "metadata": {},
      "source": [
        "\n# \u062a\u062d\u0648\u064a\u0644 \u0627\u0644\u0645\u064a\u0632\u0627\u062a \u0628\u0627\u0633\u062a\u062e\u062f\u0627\u0645 \u0645\u062c\u0645\u0648\u0639\u0627\u062a \u0627\u0644\u0623\u0634\u062c\u0627\u0631\n\n\u0642\u0645 \u0628\u062a\u062d\u0648\u064a\u0644 \u0645\u064a\u0632\u0627\u062a\u0643 \u0625\u0644\u0649 \u0645\u0633\u0627\u062d\u0629 \u0645\u062a\u0641\u0631\u0642\u0629 \u0630\u0627\u062a \u0623\u0628\u0639\u0627\u062f \u0623\u0639\u0644\u0649. \u062b\u0645 \u0642\u0645 \u0628\u062a\u062f\u0631\u064a\u0628 \u0646\u0645\u0648\u0630\u062c \u062e\u0637\u064a \u0639\u0644\u0649 \u0647\u0630\u0647 \u0627\u0644\u0645\u064a\u0632\u0627\u062a.\n\n\u0642\u0645 \u0628\u062a\u062f\u0631\u064a\u0628 \u0645\u062c\u0645\u0648\u0639\u0629 \u0645\u0646 \u0627\u0644\u0623\u0634\u062c\u0627\u0631 (\u0623\u0634\u062c\u0627\u0631 \u0639\u0634\u0648\u0627\u0626\u064a\u0629 \u062a\u0645\u0627\u0645\u064b\u0627\u060c \u0623\u0648 \u063a\u0627\u0628\u0629 \u0639\u0634\u0648\u0627\u0626\u064a\u0629\u060c \u0623\u0648 \u0623\u0634\u062c\u0627\u0631 \u0645\u0639\u0632\u0632\u0629 \u0628\u0627\u0644\u062a\u062f\u0631\u062c) \u0639\u0644\u0649 \u0645\u062c\u0645\u0648\u0639\u0629 \u0627\u0644\u062a\u062f\u0631\u064a\u0628. \u0628\u0639\u062f \u0630\u0644\u0643\u060c \u064a\u062a\u0645 \u062a\u0639\u064a\u064a\u0646 \u0641\u0647\u0631\u0633 \u0645\u064a\u0632\u0629 \u0639\u0634\u0648\u0627\u0626\u064a \u062b\u0627\u0628\u062a \u0644\u0643\u0644 \u0648\u0631\u0642\u0629 \u0645\u0646 \u0643\u0644 \u0634\u062c\u0631\u0629 \u0641\u064a \u0627\u0644\u0645\u062c\u0645\u0648\u0639\u0629 \u0641\u064a \u0645\u0633\u0627\u062d\u0629 \u0645\u064a\u0632\u0627\u062a \u062c\u062f\u064a\u062f\u0629. \u064a\u062a\u0645 \u0628\u0639\u062f \u0630\u0644\u0643 \u062a\u0631\u0645\u064a\u0632 \u0647\u0630\u0647 \u0627\u0644\u0645\u0624\u0634\u0631\u0627\u062a \u0627\u0644\u0648\u0631\u0642\u064a\u0629 \u0628\u0637\u0631\u064a\u0642\u0629 \"\u0648\u0627\u062d\u062f \u0645\u0642\u0627\u0628\u0644 \u0627\u0644\u0643\u0644\".\n\n\u064a\u0645\u0631 \u0643\u0644 \u0639\u064a\u0646\u0629 \u0639\u0628\u0631 \u0642\u0631\u0627\u0631\u0627\u062a \u0643\u0644 \u0634\u062c\u0631\u0629 \u0641\u064a \u0627\u0644\u0645\u062c\u0645\u0648\u0639\u0629 \u0648\u062a\u0646\u062a\u0647\u064a \u0641\u064a \u0648\u0631\u0642\u0629 \u0648\u0627\u062d\u062f\u0629 \u0644\u0643\u0644 \u0634\u062c\u0631\u0629. \u064a\u062a\u0645 \u062a\u0631\u0645\u064a\u0632 \u0627\u0644\u0639\u064a\u0646\u0629 \u0639\u0646 \u0637\u0631\u064a\u0642 \u062a\u0639\u064a\u064a\u0646 \u0642\u064a\u0645 \u0627\u0644\u0645\u064a\u0632\u0627\u062a \u0644\u0647\u0630\u0647 \u0627\u0644\u0623\u0648\u0631\u0627\u0642 \u0625\u0644\u0649 1 \u0648\u0642\u064a\u0645 \u0627\u0644\u0645\u064a\u0632\u0627\u062a \u0627\u0644\u0623\u062e\u0631\u0649 \u0625\u0644\u0649 0.\n\n\u0628\u0639\u062f \u0630\u0644\u0643\u060c \u064a\u0643\u0648\u0646 \u0627\u0644\u0645\u062d\u0648\u0644 \u0627\u0644\u0646\u0627\u062a\u062c \u0642\u062f \u062a\u0639\u0644\u0645 \u062a\u0636\u0645\u064a\u0646\u064b\u0627 \u0641\u0626\u0648\u064a\u064b\u0627 \u0625\u0634\u0631\u0627\u0641\u064a\u064b\u0627\u060c \u0645\u062a\u0641\u0631\u0642\u064b\u0627\u060c \u0639\u0627\u0644\u064a \u0627\u0644\u0623\u0628\u0639\u0627\u062f \u0644\u0644\u0628\u064a\u0627\u0646\u0627\u062a.\n"
      ]
    },
    {
      "cell_type": "code",
      "execution_count": null,
      "metadata": {
        "collapsed": false
      },
      "outputs": [],
      "source": [
        "# \u0627\u0644\u0645\u0624\u0644\u0641\u0648\u0646: \u0645\u0637\u0648\u0631\u064a scikit-learn\n# \u0645\u0639\u0631\u0641 \u0627\u0644\u062a\u0631\u062e\u064a\u0635: BSD-3-Clause"
      ]
    },
    {
      "cell_type": "markdown",
      "metadata": {},
      "source": [
        "\u0623\u0648\u0644\u0627\u064b\u060c \u0633\u0646\u0642\u0648\u0645 \u0628\u0625\u0646\u0634\u0627\u0621 \u0645\u062c\u0645\u0648\u0639\u0629 \u0628\u064a\u0627\u0646\u0627\u062a \u0643\u0628\u064a\u0631\u0629 \u0648\u062a\u0642\u0633\u064a\u0645\u0647\u0627 \u0625\u0644\u0649 \u062b\u0644\u0627\u062b \u0645\u062c\u0645\u0648\u0639\u0627\u062a:\n\n- \u0645\u062c\u0645\u0648\u0639\u0629 \u0644\u062a\u062f\u0631\u064a\u0628 \u0637\u0631\u0642 \u0627\u0644\u0645\u062c\u0645\u0648\u0639\u0629 \u0648\u0627\u0644\u062a\u064a \u0633\u062a\u0633\u062a\u062e\u062f\u0645 \u0644\u0627\u062d\u0642\u064b\u0627 \u0643\u0645\u062d\u0648\u0644 \u0647\u0646\u062f\u0633\u0629 \u0645\u064a\u0632\u0627\u062a\u061b\n- \u0645\u062c\u0645\u0648\u0639\u0629 \u0644\u062a\u062f\u0631\u064a\u0628 \u0627\u0644\u0646\u0645\u0648\u0630\u062c \u0627\u0644\u062e\u0637\u064a\u061b\n- \u0645\u062c\u0645\u0648\u0639\u0629 \u0644\u0627\u062e\u062a\u0628\u0627\u0631 \u0627\u0644\u0646\u0645\u0648\u0630\u062c \u0627\u0644\u062e\u0637\u064a.\n\n\u0645\u0646 \u0627\u0644\u0645\u0647\u0645 \u062a\u0642\u0633\u064a\u0645 \u0627\u0644\u0628\u064a\u0627\u0646\u0627\u062a \u0628\u0647\u0630\u0647 \u0627\u0644\u0637\u0631\u064a\u0642\u0629 \u0644\u062a\u062c\u0646\u0628 \u0627\u0644\u0625\u0641\u0631\u0627\u0637 \u0641\u064a \u0627\u0644\u0645\u0644\u0627\u0621\u0645\u0629 \u0639\u0646 \u0637\u0631\u064a\u0642 \u062a\u0633\u0631\u064a\u0628 \u0627\u0644\u0628\u064a\u0627\u0646\u0627\u062a.\n\n"
      ]
    },
    {
      "cell_type": "code",
      "execution_count": null,
      "metadata": {
        "collapsed": false
      },
      "outputs": [],
      "source": [
        "import matplotlib.pyplot as plt\nfrom sklearn.ensemble import GradientBoostingClassifier, RandomForestClassifier\nfrom sklearn.datasets import make_classification\nfrom sklearn.model_selection import train_test_split\n\nX, y = make_classification(n_samples=80_000, random_state=10)\n\nX_full_train, X_test, y_full_train, y_test = train_test_split(\n    X, y, test_size=0.5, random_state=10\n)\nX_train_ensemble, X_train_linear, y_train_ensemble, y_train_linear = train_test_split(\n    X_full_train, y_full_train, test_size=0.5, random_state=10\n)"
      ]
    },
    {
      "cell_type": "markdown",
      "metadata": {},
      "source": [
        "\u0628\u0627\u0644\u0646\u0633\u0628\u0629 \u0644\u0643\u0644 \u0645\u0646 \u0637\u0631\u0642 \u0627\u0644\u0645\u062c\u0645\u0648\u0639\u0629\u060c \u0633\u0646\u0633\u062a\u062e\u062f\u0645 10 \u0645\u0642\u062f\u0631\u0627\u062a \u0648\u0639\u0645\u0642\u064b\u0627 \u0623\u0642\u0635\u0649 \u064a\u0628\u0644\u063a 3 \u0645\u0633\u062a\u0648\u064a\u0627\u062a.\n\n"
      ]
    },
    {
      "cell_type": "code",
      "execution_count": null,
      "metadata": {
        "collapsed": false
      },
      "outputs": [],
      "source": [
        "n_estimators = 10\nmax_depth = 3"
      ]
    },
    {
      "cell_type": "markdown",
      "metadata": {},
      "source": [
        "\u0623\u0648\u0644\u0627\u064b\u060c \u0633\u0646\u0628\u062f\u0623 \u0628\u062a\u062f\u0631\u064a\u0628 \u0627\u0644\u063a\u0627\u0628\u0629 \u0627\u0644\u0639\u0634\u0648\u0627\u0626\u064a\u0629 \u0648\u0627\u0644\u062a\u0639\u0632\u064a\u0632 \u0627\u0644\u062a\u062f\u0631\u062c\u064a \u0639\u0644\u0649\n\u0645\u062c\u0645\u0648\u0639\u0629 \u0627\u0644\u062a\u062f\u0631\u064a\u0628 \u0627\u0644\u0645\u0646\u0641\u0635\u0644\u0629\n\n"
      ]
    },
    {
      "cell_type": "code",
      "execution_count": null,
      "metadata": {
        "collapsed": false
      },
      "outputs": [],
      "source": [
        "random_forest = RandomForestClassifier(\n    n_estimators=n_estimators, max_depth=max_depth, random_state=10\n)\nrandom_forest.fit(X_train_ensemble, y_train_ensemble)\n\ngradient_boosting = GradientBoostingClassifier(\n    n_estimators=n_estimators, max_depth=max_depth, random_state=10\n)\n_ = gradient_boosting.fit(X_train_ensemble, y_train_ensemble)"
      ]
    },
    {
      "cell_type": "markdown",
      "metadata": {},
      "source": [
        "\u0644\u0627\u062d\u0638 \u0623\u0646 :class:`~sklearn.ensemble.HistGradientBoostingClassifier` \u0623\u0633\u0631\u0639 \u0628\u0643\u062b\u064a\u0631 \u0645\u0646 :class:`~sklearn.ensemble.GradientBoostingClassifier` \u0628\u062f\u0621\u064b\u0627\n\u0645\u0646 \u0645\u062c\u0645\u0648\u0639\u0627\u062a \u0627\u0644\u0628\u064a\u0627\u0646\u0627\u062a \u0627\u0644\u0645\u062a\u0648\u0633\u0637\u0629 (`n_samples >= 10_000`)\u060c \u0648\u0627\u0644\u062a\u064a \u0644\u0627 \u062a\u0646\u0637\u0628\u0642 \u0639\u0644\u0649\n\u0627\u0644\u0645\u062b\u0627\u0644 \u0627\u0644\u062d\u0627\u0644\u064a.\n\n:class:`~sklearn.ensemble.RandomTreesEmbedding` \u0647\u064a \u0637\u0631\u064a\u0642\u0629 \u063a\u064a\u0631 \u0645\u0634\u0631\u0641\u0629\n\u0648\u0628\u0627\u0644\u062a\u0627\u0644\u064a \u0644\u0627 \u062a\u062d\u062a\u0627\u062c \u0625\u0644\u0649 \u0627\u0644\u062a\u062f\u0631\u064a\u0628 \u0628\u0634\u0643\u0644 \u0645\u0633\u062a\u0642\u0644.\n\n"
      ]
    },
    {
      "cell_type": "code",
      "execution_count": null,
      "metadata": {
        "collapsed": false
      },
      "outputs": [],
      "source": [
        "from sklearn.ensemble import RandomTreesEmbedding\n\nrandom_tree_embedding = RandomTreesEmbedding(\n    n_estimators=n_estimators, max_depth=max_depth, random_state=0\n)"
      ]
    },
    {
      "cell_type": "markdown",
      "metadata": {},
      "source": [
        "\u0627\u0644\u0622\u0646\u060c \u0633\u0646\u0642\u0648\u0645 \u0628\u0625\u0646\u0634\u0627\u0621 \u062b\u0644\u0627\u062b \u062e\u0637\u0648\u0637 \u0623\u0646\u0627\u0628\u064a\u0628 \u0633\u062a\u0633\u062a\u062e\u062f\u0645 \u0627\u0644\u062a\u0636\u0645\u064a\u0646 \u0623\u0639\u0644\u0627\u0647 \u0643\u0640\n\u0645\u0631\u062d\u0644\u0629 \u0645\u0627 \u0642\u0628\u0644 \u0627\u0644\u0645\u0639\u0627\u0644\u062c\u0629.\n\n\u064a\u0645\u0643\u0646 \u0623\u0646 \u064a\u062a\u0645 \u062a\u0636\u0645\u064a\u0646 \u0627\u0644\u0623\u0634\u062c\u0627\u0631 \u0627\u0644\u0639\u0634\u0648\u0627\u0626\u064a\u0629 \u0645\u0628\u0627\u0634\u0631\u0629 \u0645\u0639 \u0627\u0644\u0627\u0646\u062d\u062f\u0627\u0631 \u0627\u0644\u0644\u0648\u062c\u0633\u062a\u064a \u0644\u0623\u0646\u0647 \u0645\u062d\u0648\u0644 \u0642\u064a\u0627\u0633\u064a \u0641\u064a scikit-learn.\n\n"
      ]
    },
    {
      "cell_type": "code",
      "execution_count": null,
      "metadata": {
        "collapsed": false
      },
      "outputs": [],
      "source": [
        "from sklearn.linear_model import LogisticRegression\nfrom sklearn.pipeline import make_pipeline\n\nrt_model = make_pipeline(random_tree_embedding,\n                         LogisticRegression(max_iter=1000))\nrt_model.fit(X_train_linear, y_train_linear)"
      ]
    },
    {
      "cell_type": "markdown",
      "metadata": {},
      "source": [
        "\u0628\u0639\u062f \u0630\u0644\u0643\u060c \u064a\u0645\u0643\u0646\u0646\u0627 \u0623\u0646 \u0646\u062f\u0645\u062c \u0627\u0644\u063a\u0627\u0628\u0629 \u0627\u0644\u0639\u0634\u0648\u0627\u0626\u064a\u0629 \u0623\u0648 \u0627\u0644\u062a\u0639\u0632\u064a\u0632 \u0627\u0644\u062a\u062f\u0631\u062c\u064a \u0645\u0639 \u0627\u0644\u0627\u0646\u062d\u062f\u0627\u0631 \u0627\u0644\u0644\u0648\u062c\u0633\u062a\u064a. \u0648\u0645\u0639 \u0630\u0644\u0643\u060c \u0633\u064a\u062d\u062f\u062b \u062a\u062d\u0648\u064a\u0644 \u0627\u0644\u0645\u064a\u0632\u0629 \u0639\u0646 \u0637\u0631\u064a\u0642 \u0627\u0633\u062a\u062f\u0639\u0627\u0621\n\u0627\u0644\u0637\u0631\u064a\u0642\u0629 `apply`. \u064a\u062a\u0648\u0642\u0639 \u062e\u0637 \u0627\u0644\u0623\u0646\u0627\u0628\u064a\u0628 \u0641\u064a scikit-learn \u0627\u0633\u062a\u062f\u0639\u0627\u0621 \u0644\u0640 `transform`.\n\u0644\u0630\u0644\u0643\u060c \u0642\u0645\u0646\u0627 \u0628\u062a\u063a\u0644\u064a\u0641 \u0627\u0633\u062a\u062f\u0639\u0627\u0621 `apply` \u062f\u0627\u062e\u0644 `FunctionTransformer`.\n\n"
      ]
    },
    {
      "cell_type": "code",
      "execution_count": null,
      "metadata": {
        "collapsed": false
      },
      "outputs": [],
      "source": [
        "from sklearn.preprocessing import FunctionTransformer, OneHotEncoder\n\n\ndef rf_apply(X, model):\n    return model.apply(X)\n\n\nrf_leaves_yielder = FunctionTransformer(\n    rf_apply, kw_args={\"model\": random_forest})\n\n\ndef rf_apply(X, model):\n    return model.apply(X)\n\n\nrf_leaves_yielder = FunctionTransformer(\n    rf_apply, kw_args={\"model\": random_forest})\n\nrf_model = make_pipeline(\n    rf_leaves_yielder,\n    OneHotEncoder(handle_unknown=\"ignore\"),\n    LogisticRegression(max_iter=1000),\n)\nrf_model.fit(X_train_linear, y_train_linear)"
      ]
    },
    {
      "cell_type": "code",
      "execution_count": null,
      "metadata": {
        "collapsed": false
      },
      "outputs": [],
      "source": [
        "def gbdt_apply(X, model):\n    return model.apply(X)[:, :, 0]\n\n\ngbdt_leaves_yielder = FunctionTransformer(\n    gbdt_apply, kw_args={\"model\": gradient_boosting}\n)\n\ngbdt_model = make_pipeline(\n    gbdt_leaves_yielder,\n    OneHotEncoder(handle_unknown=\"ignore\"),\n    LogisticRegression(max_iter=1000),\n)\ngbdt_model.fit(X_train_linear, y_train_linear)"
      ]
    },
    {
      "cell_type": "markdown",
      "metadata": {},
      "source": [
        "\u064a\u0645\u0643\u0646\u0646\u0627 \u0623\u062e\u064a\u0631\u064b\u0627 \u0639\u0631\u0636 \u0645\u0646\u062d\u0646\u064a\u0627\u062a ROC \u0627\u0644\u0645\u062e\u062a\u0644\u0641\u0629 \u0644\u062c\u0645\u064a\u0639 \u0627\u0644\u0646\u0645\u0627\u0630\u062c.\n\n"
      ]
    },
    {
      "cell_type": "code",
      "execution_count": null,
      "metadata": {
        "collapsed": false
      },
      "outputs": [],
      "source": [
        "from sklearn.metrics import RocCurveDisplay\n\n_, ax = plt.subplots()\n\nmodels = [\n    (\"RT embedding -> LR\", rt_model),\n    (\"RF\", random_forest),\n    (\"RF embedding -> LR\", rf_model),\n    (\"GBDT\", gradient_boosting),\n    (\"GBDT embedding -> LR\", gbdt_model),\n]\n\nmodel_displays = {}\nfor name, pipeline in models:\n    model_displays[name] = RocCurveDisplay.from_estimator(\n        pipeline, X_test, y_test, ax=ax, name=name\n    )\n_ = ax.set_title(\"ROC curve\")"
      ]
    },
    {
      "cell_type": "code",
      "execution_count": null,
      "metadata": {
        "collapsed": false
      },
      "outputs": [],
      "source": [
        "_, ax = plt.subplots()\nfor name, pipeline in models:\n    model_displays[name].plot(ax=ax)\n\nax.set_xlim(0, 0.2)\nax.set_ylim(0.8, 1)\n_ = ax.set_title(\"ROC curve (zoomed in at top left)\")"
      ]
    }
  ],
  "metadata": {
    "kernelspec": {
      "display_name": "Python 3",
      "language": "python",
      "name": "python3"
    },
    "language_info": {
      "codemirror_mode": {
        "name": "ipython",
        "version": 3
      },
      "file_extension": ".py",
      "mimetype": "text/x-python",
      "name": "python",
      "nbconvert_exporter": "python",
      "pygments_lexer": "ipython3",
      "version": "3.10.13"
    }
  },
  "nbformat": 4,
  "nbformat_minor": 0
}