{
  "cells": [
    {
      "cell_type": "markdown",
      "metadata": {},
      "source": [
        "<div class='alert alert-warning'>\n\n# JupyterLite warning\n\nRunning the scikit-learn examples in JupyterLite is experimental and you may encounter some unexpected behavior.\n\nThe main difference is that imports will take a lot longer than usual, for example the first `import sklearn` can take roughly 10-20s.\n\nIf you notice problems, feel free to open an [issue](https://github.com/scikit-learn/scikit-learn/issues/new/choose) about it.\n</div>"
      ]
    },
    {
      "cell_type": "code",
      "execution_count": null,
      "metadata": {
        "collapsed": false
      },
      "outputs": [],
      "source": [
        "# JupyterLite-specific code\nimport matplotlib\nimport pandas"
      ]
    },
    {
      "cell_type": "markdown",
      "metadata": {},
      "source": [
        "\n# \u062a\u0646\u0638\u064a\u0645 \u0627\u0644\u062a\u0639\u0632\u064a\u0632 \u0627\u0644\u0645\u062a\u062f\u0631\u062c\n\n\u062a\u0648\u0636\u064a\u062d \u0644\u062a\u0623\u062b\u064a\u0631 \u0627\u0633\u062a\u0631\u0627\u062a\u064a\u062c\u064a\u0627\u062a \u062a\u0646\u0638\u064a\u0645 \u0645\u062e\u062a\u0644\u0641\u0629\n\u0644\u0644\u062a\u0639\u0632\u064a\u0632 \u0627\u0644\u0645\u062a\u062f\u0631\u062c. \u0627\u0644\u0645\u062b\u0627\u0644 \u0645\u0623\u062e\u0648\u0630 \u0645\u0646 Hastie et al 2009 [1]_.\n\n\u062f\u0627\u0644\u0629 \u0627\u0644\u062e\u0633\u0627\u0631\u0629 \u0627\u0644\u0645\u0633\u062a\u062e\u062f\u0645\u0629 \u0647\u064a \u0627\u0646\u062d\u0631\u0627\u0641 \u0630\u0648 \u0627\u0644\u062d\u062f\u064a\u0646. \u0627\u0644\u062a\u0646\u0638\u064a\u0645 \u0639\u0628\u0631\n\u0627\u0644\u0627\u0646\u0643\u0645\u0627\u0634 (``learning_rate < 1.0``) \u064a\u062d\u0633\u0646 \u0627\u0644\u0623\u062f\u0627\u0621 \u0628\u0634\u0643\u0644 \u0643\u0628\u064a\u0631.\n\u0628\u0627\u0644\u062a\u0632\u0627\u0645\u0646 \u0645\u0639 \u0627\u0644\u0627\u0646\u0643\u0645\u0627\u0634\u060c \u064a\u0645\u0643\u0646 \u0623\u0646 \u064a\u0646\u062a\u062c \u0627\u0644\u062a\u0639\u0632\u064a\u0632 \u0627\u0644\u0645\u062a\u062f\u0631\u062c \u0627\u0644\u0639\u0634\u0648\u0627\u0626\u064a\n(``subsample < 1.0``) \u0646\u0645\u0627\u0630\u062c \u0623\u0643\u062b\u0631 \u062f\u0642\u0629 \u0639\u0646 \u0637\u0631\u064a\u0642 \u062a\u0642\u0644\u064a\u0644\n\u0627\u0644\u062a\u0628\u0627\u064a\u0646 \u0639\u0628\u0631 \u0627\u0644\u062a\u062c\u0645\u064a\u0639.\n\u0639\u0627\u062f\u0629\u064b \u0645\u0627 \u064a\u0624\u062f\u064a \u0627\u0644\u0627\u062e\u062a\u0632\u0627\u0644 \u0627\u0644\u0641\u0631\u0639\u064a \u0628\u062f\u0648\u0646 \u0627\u0646\u0643\u0645\u0627\u0634 \u0625\u0644\u0649 \u0623\u062f\u0627\u0621 \u0636\u0639\u064a\u0641.\n\u0647\u0646\u0627\u0643 \u0625\u0633\u062a\u0631\u0627\u062a\u064a\u062c\u064a\u0629 \u0623\u062e\u0631\u0649 \u0644\u062a\u0642\u0644\u064a\u0644 \u0627\u0644\u062a\u0628\u0627\u064a\u0646 \u0648\u0647\u064a \u0639\u0646 \u0637\u0631\u064a\u0642 \u0627\u0644\u0627\u062e\u062a\u0632\u0627\u0644 \u0627\u0644\u0641\u0631\u0639\u064a \u0644\u0644\u0645\u064a\u0632\u0627\u062a\n\u0639\u0644\u0649 \u063a\u0631\u0627\u0631 \u0627\u0644\u062a\u0642\u0633\u064a\u0645\u0627\u062a \u0627\u0644\u0639\u0634\u0648\u0627\u0626\u064a\u0629 \u0641\u064a \u0627\u0644\u063a\u0627\u0628\u0627\u062a \u0627\u0644\u0639\u0634\u0648\u0627\u0626\u064a\u0629\n(\u0639\u0628\u0631 \u0645\u0639\u0644\u0645\u0629 ``max_features``).\n\n.. [1] T. Hastie, R. Tibshirani and J. Friedman, \"Elements of Statistical\n    Learning Ed. 2\", Springer, 2009.\n"
      ]
    },
    {
      "cell_type": "code",
      "execution_count": null,
      "metadata": {
        "collapsed": false
      },
      "outputs": [],
      "source": [
        "# Authors: The scikit-learn developers\n# SPDX-License-Identifier: BSD-3-Clause\n\nimport matplotlib.pyplot as plt\nimport numpy as np\n\nfrom sklearn import datasets, ensemble\nfrom sklearn.metrics import log_loss\nfrom sklearn.model_selection import train_test_split\n\nX, y = datasets.make_hastie_10_2(n_samples=4000, random_state=1)\n\n# \u062a\u0639\u064a\u064a\u0646 \u0627\u0644\u062a\u0635\u0646\u064a\u0641\u0627\u062a \u0645\u0646 {-1, 1} \u0625\u0644\u0649 {0, 1}\nlabels, y = np.unique(y, return_inverse=True)\n\nX_train, X_test, y_train, y_test = train_test_split(X, y, test_size=0.8, random_state=0)\n\noriginal_params = {\n    \"n_estimators\": 400,\n    \"max_leaf_nodes\": 4,\n    \"max_depth\": None,\n    \"random_state\": 2,\n    \"min_samples_split\": 5,\n}\n\nplt.figure()\n\nfor label, color, setting in [\n    (\"\u0628\u062f\u0648\u0646 \u0627\u0646\u0643\u0645\u0627\u0634\", \"orange\", {\"learning_rate\": 1.0, \"subsample\": 1.0}),\n    (\"learning_rate=0.2\", \"turquoise\", {\"learning_rate\": 0.2, \"subsample\": 1.0}),\n    (\"subsample=0.5\", \"blue\", {\"learning_rate\": 1.0, \"subsample\": 0.5}),\n    (\n        \"learning_rate=0.2, subsample=0.5\",\n        \"gray\",\n        {\"learning_rate\": 0.2, \"subsample\": 0.5},\n    ),\n    (\n        \"learning_rate=0.2, max_features=2\",\n        \"magenta\",\n        {\"learning_rate\": 0.2, \"max_features\": 2},\n    ),\n]:\n    params = dict(original_params)\n    params.update(setting)\n\n    clf = ensemble.GradientBoostingClassifier(**params)\n    clf.fit(X_train, y_train)\n\n    # \u062d\u0633\u0627\u0628 \u0627\u0646\u062d\u0631\u0627\u0641 \u0645\u062c\u0645\u0648\u0639\u0629 \u0627\u0644\u0627\u062e\u062a\u0628\u0627\u0631\n    test_deviance = np.zeros((params[\"n_estimators\"],), dtype=np.float64)\n\n    for i, y_proba in enumerate(clf.staged_predict_proba(X_test)):\n        test_deviance[i] = 2 * log_loss(y_test, y_proba[:, 1])\n\n    plt.plot(\n        (np.arange(test_deviance.shape[0]) + 1)[::5],\n        test_deviance[::5],\n        \"-\",\n        color=color,\n        label=label,\n    )\n\nplt.legend(loc=\"upper right\")\nplt.xlabel(\"\u062a\u0643\u0631\u0627\u0631\u0627\u062a \u0627\u0644\u062a\u0639\u0632\u064a\u0632\")\nplt.ylabel(\"\u0627\u0646\u062d\u0631\u0627\u0641 \u0645\u062c\u0645\u0648\u0639\u0629 \u0627\u0644\u0627\u062e\u062a\u0628\u0627\u0631\")\n\nplt.show()"
      ]
    }
  ],
  "metadata": {
    "kernelspec": {
      "display_name": "Python 3",
      "language": "python",
      "name": "python3"
    },
    "language_info": {
      "codemirror_mode": {
        "name": "ipython",
        "version": 3
      },
      "file_extension": ".py",
      "mimetype": "text/x-python",
      "name": "python",
      "nbconvert_exporter": "python",
      "pygments_lexer": "ipython3",
      "version": "3.10.13"
    }
  },
  "nbformat": 4,
  "nbformat_minor": 0
}