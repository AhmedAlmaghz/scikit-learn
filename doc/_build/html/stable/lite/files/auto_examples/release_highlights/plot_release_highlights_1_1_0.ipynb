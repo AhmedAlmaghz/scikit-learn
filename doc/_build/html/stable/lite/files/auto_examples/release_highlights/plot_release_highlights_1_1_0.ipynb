{
  "cells": [
    {
      "cell_type": "markdown",
      "metadata": {},
      "source": [
        "<div class='alert alert-warning'>\n\n# JupyterLite warning\n\nRunning the scikit-learn examples in JupyterLite is experimental and you may encounter some unexpected behavior.\n\nThe main difference is that imports will take a lot longer than usual, for example the first `import sklearn` can take roughly 10-20s.\n\nIf you notice problems, feel free to open an [issue](https://github.com/scikit-learn/scikit-learn/issues/new/choose) about it.\n</div>"
      ]
    },
    {
      "cell_type": "code",
      "execution_count": null,
      "metadata": {
        "collapsed": false
      },
      "outputs": [],
      "source": [
        "# JupyterLite-specific code\n%pip install pyodide-http\nimport pyodide_http\npyodide_http.patch_all()\nimport matplotlib\nimport pandas"
      ]
    },
    {
      "cell_type": "markdown",
      "metadata": {},
      "source": [
        "\n# \u0623\u0628\u0631\u0632 \u0627\u0644\u0645\u064a\u0632\u0627\u062a \u0627\u0644\u062c\u062f\u064a\u062f\u0629 \u0641\u064a \u0625\u0635\u062f\u0627\u0631 scikit-learn 1.1\n\n.. currentmodule:: sklearn\n\n\u064a\u0633\u0639\u062f\u0646\u0627 \u0627\u0644\u0625\u0639\u0644\u0627\u0646 \u0639\u0646 \u0625\u0635\u062f\u0627\u0631 scikit-learn 1.1! \u062a\u0645 \u0625\u0635\u0644\u0627\u062d \u0627\u0644\u0639\u062f\u064a\u062f \u0645\u0646 \u0627\u0644\u0623\u062e\u0637\u0627\u0621\n\u0648\u0625\u062c\u0631\u0627\u0621 \u0627\u0644\u0639\u062f\u064a\u062f \u0645\u0646 \u0627\u0644\u062a\u062d\u0633\u064a\u0646\u0627\u062a\u060c \u0628\u0627\u0644\u0625\u0636\u0627\u0641\u0629 \u0625\u0644\u0649 \u0628\u0639\u0636 \u0627\u0644\u0645\u064a\u0632\u0627\u062a \u0627\u0644\u0631\u0626\u064a\u0633\u064a\u0629 \u0627\u0644\u062c\u062f\u064a\u062f\u0629. \u0646\u0633\u062a\u0639\u0631\u0636\n\u0623\u062f\u0646\u0627\u0647 \u0628\u0639\u0636 \u0627\u0644\u0645\u064a\u0632\u0627\u062a \u0627\u0644\u0631\u0626\u064a\u0633\u064a\u0629 \u0644\u0647\u0630\u0627 \u0627\u0644\u0625\u0635\u062f\u0627\u0631. **\u0644\u0644\u0627\u0637\u0644\u0627\u0639 \u0639\u0644\u0649 \u0642\u0627\u0626\u0645\u0629 \u0634\u0627\u0645\u0644\u0629 \u0628\u062c\u0645\u064a\u0639\n\u0627\u0644\u062a\u063a\u064a\u064a\u0631\u0627\u062a**\u060c \u064a\u0631\u062c\u0649 \u0627\u0644\u0631\u062c\u0648\u0639 \u0625\u0644\u0649 `release notes <release_notes_1_1>`.\n\n\u0644\u062a\u062b\u0628\u064a\u062a \u0623\u062d\u062f\u062b \u0625\u0635\u062f\u0627\u0631 (\u0628\u0627\u0633\u062a\u062e\u062f\u0627\u0645 pip)::\n\n    pip install --upgrade scikit-learn\n\n\u0623\u0648 \u0628\u0627\u0633\u062a\u062e\u062f\u0627\u0645 conda::\n\n    conda install -c conda-forge scikit-learn\n"
      ]
    },
    {
      "cell_type": "markdown",
      "metadata": {},
      "source": [
        "\n## \u062e\u0633\u0627\u0631\u0629 \u0627\u0644\u0643\u0645\u064a\u0629 \u0641\u064a :class:`~ensemble.HistGradientBoostingRegressor`\n:class:`~ensemble.HistGradientBoostingRegressor` \u064a\u0645\u0643\u0646\u0647 \u0646\u0645\u0630\u062c\u0629 \u0627\u0644\u0643\u0645\u064a\u0627\u062a \u0645\u0639\n`loss=\"quantile\"` \u0648\u0645\u0639\u0627\u0645\u0644 `quantile` \u0627\u0644\u062c\u062f\u064a\u062f.\n\n"
      ]
    },
    {
      "cell_type": "code",
      "execution_count": null,
      "metadata": {
        "collapsed": false
      },
      "outputs": [],
      "source": [
        "from sklearn.ensemble import HistGradientBoostingRegressor\nimport numpy as np\nimport matplotlib.pyplot as plt\n\n# \u062f\u0627\u0644\u0629 \u0627\u0646\u062d\u062f\u0627\u0631 \u0628\u0633\u064a\u0637\u0629 \u0644\u0640 X * cos(X)\nrng = np.random.RandomState(42)\nX_1d = np.linspace(0, 10, num=2000)\nX = X_1d.reshape(-1, 1)\ny = X_1d * np.cos(X_1d) + rng.normal(scale=X_1d / 3)\n\nquantiles = [0.95, 0.5, 0.05]\nparameters = dict(loss=\"quantile\", max_bins=32, max_iter=50)\nhist_quantiles = {\n    f\"quantile={quantile:.2f}\": HistGradientBoostingRegressor(\n        **parameters, quantile=quantile\n    ).fit(X, y)\n    for quantile in quantiles\n}\n\nfig, ax = plt.subplots()\nax.plot(X_1d, y, \"o\", alpha=0.5, markersize=1)\nfor quantile, hist in hist_quantiles.items():\n    ax.plot(X_1d, hist.predict(X), label=quantile)\n_ = ax.legend(loc=\"lower left\")"
      ]
    },
    {
      "cell_type": "markdown",
      "metadata": {},
      "source": [
        "\u0644\u0645\u062b\u0627\u0644 \u0639\u0644\u0649 \u0627\u0644\u0627\u0633\u062a\u062e\u062f\u0627\u0645\u060c \u0631\u0627\u062c\u0639\n`sphx_glr_auto_examples_ensemble_plot_hgbt_regression.py`\n\n"
      ]
    },
    {
      "cell_type": "markdown",
      "metadata": {},
      "source": [
        "## `get_feature_names_out` \u0645\u062a\u0627\u062d\u0629 \u0641\u064a \u062c\u0645\u064a\u0639 \u0627\u0644\u0645\u062d\u0648\u0644\u0627\u062a\n:term:`get_feature_names_out` \u0645\u062a\u0627\u062d\u0629 \u0627\u0644\u0622\u0646 \u0641\u064a \u062c\u0645\u064a\u0639 \u0627\u0644\u0645\u062d\u0648\u0644\u0627\u062a. \u0647\u0630\u0627 \u064a\u0645\u0643\u0651\u0646\n:class:`~pipeline.Pipeline` \u0645\u0646 \u0625\u0646\u0634\u0627\u0621 \u0623\u0633\u0645\u0627\u0621 \u0627\u0644\u0645\u064a\u0632\u0627\u062a \u0627\u0644\u0646\u0627\u062a\u062c\u0629 \u0639\u0646 \u0623\u0646\u0627\u0628\u064a\u0628 \u0623\u0643\u062b\u0631 \u062a\u0639\u0642\u064a\u062f\u064b\u0627:\n\n"
      ]
    },
    {
      "cell_type": "code",
      "execution_count": null,
      "metadata": {
        "collapsed": false
      },
      "outputs": [],
      "source": [
        "from sklearn.compose import ColumnTransformer\nfrom sklearn.preprocessing import OneHotEncoder, StandardScaler\nfrom sklearn.pipeline import make_pipeline\nfrom sklearn.impute import SimpleImputer\nfrom sklearn.feature_selection import SelectKBest\nfrom sklearn.datasets import fetch_openml\nfrom sklearn.linear_model import LogisticRegression\n\nX, y = fetch_openml(\n    \"titanic\", version=1, as_frame=True, return_X_y=True, parser=\"pandas\"\n)\nnumeric_features = [\"age\", \"fare\"]\nnumeric_transformer = make_pipeline(SimpleImputer(strategy=\"median\"), StandardScaler())\ncategorical_features = [\"embarked\", \"pclass\"]\n\npreprocessor = ColumnTransformer(\n    [\n        (\"num\", numeric_transformer, numeric_features),\n        (\n            \"cat\",\n            OneHotEncoder(handle_unknown=\"ignore\", sparse_output=False),\n            categorical_features,\n        ),\n    ],\n    verbose_feature_names_out=False,\n)\nlog_reg = make_pipeline(preprocessor, SelectKBest(k=7), LogisticRegression())\nlog_reg.fit(X, y)"
      ]
    },
    {
      "cell_type": "markdown",
      "metadata": {},
      "source": [
        "\u0647\u0646\u0627 \u0646\u0642\u0648\u0645 \u0628\u062a\u0642\u0633\u064a\u0645 \u0627\u0644\u0623\u0646\u0627\u0628\u064a\u0628 \u0644\u0625\u062f\u0631\u0627\u062c \u062c\u0645\u064a\u0639 \u0627\u0644\u062e\u0637\u0648\u0627\u062a \u0628\u0627\u0633\u062a\u062b\u0646\u0627\u0621 \u0627\u0644\u0623\u062e\u064a\u0631\u0629. \u0623\u0633\u0645\u0627\u0621 \u0627\u0644\u0645\u064a\u0632\u0627\u062a \u0627\u0644\u0646\u0627\u062a\u062c\u0629\n\u0639\u0646 \u0647\u0630\u0627 \u0627\u0644\u062c\u0632\u0621 \u0645\u0646 \u0627\u0644\u0623\u0646\u0627\u0628\u064a\u0628 \u0647\u064a \u0627\u0644\u0645\u064a\u0632\u0627\u062a \u0627\u0644\u062a\u064a \u064a\u062a\u0645 \u0625\u062f\u062e\u0627\u0644\u0647\u0627 \u0641\u064a \u0627\u0644\u0627\u0646\u062d\u062f\u0627\u0631 \u0627\u0644\u0644\u0648\u062c\u0633\u062a\u064a. \u0647\u0630\u0647\n\u0627\u0644\u0623\u0633\u0645\u0627\u0621 \u062a\u0642\u0627\u0628\u0644 \u0645\u0628\u0627\u0634\u0631\u0629 \u0627\u0644\u0645\u0639\u0627\u0645\u0644\u0627\u062a \u0641\u064a \u0627\u0644\u0627\u0646\u062d\u062f\u0627\u0631 \u0627\u0644\u0644\u0648\u062c\u0633\u062a\u064a:\n\n"
      ]
    },
    {
      "cell_type": "code",
      "execution_count": null,
      "metadata": {
        "collapsed": false
      },
      "outputs": [],
      "source": [
        "import pandas as pd\n\nlog_reg_input_features = log_reg[:-1].get_feature_names_out()\npd.Series(log_reg[-1].coef_.ravel(), index=log_reg_input_features).plot.bar()\nplt.tight_layout()"
      ]
    },
    {
      "cell_type": "markdown",
      "metadata": {},
      "source": [
        "## \u062a\u062c\u0645\u064a\u0639 \u0627\u0644\u0641\u0626\u0627\u062a \u063a\u064a\u0631 \u0627\u0644\u0645\u062a\u0643\u0631\u0631\u0629 \u0641\u064a :class:`~preprocessing.OneHotEncoder`\n:class:`~preprocessing.OneHotEncoder` \u064a\u062f\u0639\u0645 \u062a\u062c\u0645\u064a\u0639 \u0627\u0644\u0641\u0626\u0627\u062a \u063a\u064a\u0631 \u0627\u0644\u0645\u062a\u0643\u0631\u0631\u0629 \u0641\u064a \u0646\u0627\u062a\u062c\n\u0648\u0627\u062d\u062f \u0644\u0643\u0644 \u0645\u064a\u0632\u0629. \u0627\u0644\u0645\u0639\u0627\u0645\u0644\u0627\u062a \u0644\u062a\u0645\u0643\u064a\u0646 \u062a\u062c\u0645\u064a\u0639 \u0627\u0644\u0641\u0626\u0627\u062a \u063a\u064a\u0631 \u0627\u0644\u0645\u062a\u0643\u0631\u0631\u0629 \u0647\u064a `min_frequency`\n\u0648 `max_categories`. \u0631\u0627\u062c\u0639 `User Guide <encoder_infrequent_categories>`\n\u0644\u0645\u0632\u064a\u062f \u0645\u0646 \u0627\u0644\u062a\u0641\u0627\u0635\u064a\u0644.\n\n"
      ]
    },
    {
      "cell_type": "code",
      "execution_count": null,
      "metadata": {
        "collapsed": false
      },
      "outputs": [],
      "source": [
        "from sklearn.preprocessing import OneHotEncoder\nimport numpy as np\n\nX = np.array(\n    [[\"dog\"] * 5 + [\"cat\"] * 20 + [\"rabbit\"] * 10 + [\"snake\"] * 3], dtype=object\n).T\nenc = OneHotEncoder(min_frequency=6, sparse_output=False).fit(X)\nenc.infrequent_categories_"
      ]
    },
    {
      "cell_type": "markdown",
      "metadata": {},
      "source": [
        "\u0646\u0638\u0631\u064b\u0627 \u0644\u0623\u0646 \u0627\u0644\u0643\u0644\u0628 \u0648\u0627\u0644\u0623\u0641\u0639\u0649 \u0641\u0626\u0627\u062a \u063a\u064a\u0631 \u0645\u062a\u0643\u0631\u0631\u0629\u060c \u064a\u062a\u0645 \u062a\u062c\u0645\u064a\u0639\u0647\u0627 \u0645\u0639\u064b\u0627 \u0639\u0646\u062f\n\u0627\u0644\u062a\u062d\u0648\u064a\u0644:\n\n"
      ]
    },
    {
      "cell_type": "code",
      "execution_count": null,
      "metadata": {
        "collapsed": false
      },
      "outputs": [],
      "source": [
        "encoded = enc.transform(np.array([[\"dog\"], [\"snake\"], [\"cat\"], [\"rabbit\"]]))\npd.DataFrame(encoded, columns=enc.get_feature_names_out())"
      ]
    },
    {
      "cell_type": "markdown",
      "metadata": {},
      "source": [
        "## \u062a\u062d\u0633\u064a\u0646\u0627\u062a \u0627\u0644\u0623\u062f\u0627\u0621\n\u062a\u0645 \u0625\u0639\u0627\u062f\u0629 \u0647\u064a\u0643\u0644\u0629 \u0627\u0644\u062d\u0633\u0627\u0628\u0627\u062a \u0639\u0644\u0649 \u0627\u0644\u0645\u0633\u0627\u0641\u0627\u062a \u0627\u0644\u0632\u0648\u062c\u064a\u0629 \u0644\u0644\u0645\u062c\u0645\u0648\u0639\u0627\u062a \u0627\u0644\u0643\u062b\u064a\u0641\u0629 \u0645\u0646 \u0627\u0644\u0646\u0648\u0639\nfloat64 \u0644\u0644\u0627\u0633\u062a\u0641\u0627\u062f\u0629 \u0628\u0634\u0643\u0644 \u0623\u0641\u0636\u0644 \u0645\u0646 \u062a\u0639\u062f\u062f\u064a\u0629 \u0627\u0644\u062e\u064a\u0648\u0637 \u063a\u064a\u0631 \u0627\u0644\u062d\u0627\u062c\u0628\u0629. \u0639\u0644\u0649 \u0633\u0628\u064a\u0644\n\u0627\u0644\u0645\u062b\u0627\u0644\u060c \u064a\u0645\u0643\u0646 \u0623\u0646 \u064a\u0643\u0648\u0646 :meth:`neighbors.NearestNeighbors.kneighbors` \u0648\n:meth:`neighbors.NearestNeighbors.radius_neighbors` \u0623\u0633\u0631\u0639 \u0628\u0645\u0642\u062f\u0627\u0631 20 \u0648 5\n\u0645\u0631\u0629 \u0639\u0644\u0649 \u0627\u0644\u062a\u0648\u0627\u0644\u064a \u0645\u0646 \u0627\u0644\u0633\u0627\u0628\u0642. \u0648\u0628\u0627\u062e\u062a\u0635\u0627\u0631\u060c \u0641\u0625\u0646 \u0627\u0644\u062f\u0648\u0627\u0644 \u0648\u0627\u0644\u0645\u0642\u062f\u0631\u0627\u062a \u0627\u0644\u062a\u0627\u0644\u064a\u0629 \u062a\u0633\u062a\u0641\u064a\u062f\n\u0627\u0644\u0622\u0646 \u0645\u0646 \u062a\u062d\u0633\u064a\u0646\u0627\u062a \u0627\u0644\u0623\u062f\u0627\u0621:\n\n- :func:`metrics.pairwise_distances_argmin`\n- :func:`metrics.pairwise_distances_argmin_min`\n- :class:`cluster.AffinityPropagation`\n- :class:`cluster.Birch`\n- :class:`cluster.MeanShift`\n- :class:`cluster.OPTICS`\n- :class:`cluster.SpectralClustering`\n- :func:`feature_selection.mutual_info_regression`\n- :class:`neighbors.KNeighborsClassifier`\n- :class:`neighbors.KNeighborsRegressor`\n- :class:`neighbors.RadiusNeighborsClassifier`\n- :class:`neighbors.RadiusNeighborsRegressor`\n- :class:`neighbors.LocalOutlierFactor`\n- :class:`neighbors.NearestNeighbors`\n- :class:`manifold.Isomap`\n- :class:`manifold.LocallyLinearEmbedding`\n- :class:`manifold.TSNE`\n- :func:`manifold.trustworthiness`\n- :class:`semi_supervised.LabelPropagation`\n- :class:`semi_supervised.LabelSpreading`\n\n\u0644\u0645\u0639\u0631\u0641\u0629 \u0627\u0644\u0645\u0632\u064a\u062f \u0639\u0646 \u0627\u0644\u062a\u0641\u0627\u0635\u064a\u0644 \u0627\u0644\u062a\u0642\u0646\u064a\u0629 \u0644\u0647\u0630\u0627 \u0627\u0644\u0639\u0645\u0644\u060c \u064a\u0645\u0643\u0646\u0643 \u0642\u0631\u0627\u0621\u0629\n[\u0647\u0630\u0647 \u0627\u0644\u0633\u0644\u0633\u0644\u0629 \u0645\u0646 \u0627\u0644\u0645\u0642\u0627\u0644\u0627\u062a](https://blog.scikit-learn.org/technical/performances/).\n\n\u0639\u0644\u0627\u0648\u0629 \u0639\u0644\u0649 \u0630\u0644\u0643\u060c \u062a\u0645 \u0625\u0639\u0627\u062f\u0629 \u0647\u064a\u0643\u0644\u0629 \u062d\u0633\u0627\u0628\u0627\u062a \u062f\u0627\u0644\u0627\u062a \u0627\u0644\u062e\u0633\u0627\u0631\u0629 \u0628\u0627\u0633\u062a\u062e\u062f\u0627\u0645 Cython\u060c \u0645\u0645\u0627 \u0623\u062f\u0649\n\u0625\u0644\u0649 \u062a\u062d\u0633\u064a\u0646\u0627\u062a \u0641\u064a \u0627\u0644\u0623\u062f\u0627\u0621 \u0644\u0644\u0645\u0642\u062f\u0631\u0627\u062a \u0627\u0644\u062a\u0627\u0644\u064a\u0629:\n\n- :class:`linear_model.LogisticRegression`\n- :class:`linear_model.GammaRegressor`\n- :class:`linear_model.PoissonRegressor`\n- :class:`linear_model.TweedieRegressor`\n\n"
      ]
    },
    {
      "cell_type": "markdown",
      "metadata": {},
      "source": [
        "## :class:`~decomposition.MiniBatchNMF`: \u0646\u0633\u062e\u0629 \u0639\u0628\u0631 \u0627\u0644\u0625\u0646\u062a\u0631\u0646\u062a \u0645\u0646 NMF\n\u0627\u0644\u0641\u0626\u0629 \u0627\u0644\u062c\u062f\u064a\u062f\u0629 :class:`~decomposition.MiniBatchNMF` \u062a\u0646\u0641\u0630 \u0646\u0633\u062e\u0629 \u0623\u0633\u0631\u0639 \u0648\u0644\u0643\u0646\u0647\u0627\n\u0623\u0642\u0644 \u062f\u0642\u0629 \u0645\u0646 \u0627\u0644\u062a\u062d\u0644\u064a\u0644 \u0627\u0644\u0645\u0635\u0641\u0648\u0641\u064a \u063a\u064a\u0631 \u0627\u0644\u0633\u0644\u0628\u064a\n(:class:`~decomposition.NMF`). :class:`~decomposition.MiniBatchNMF` \u062a\u0642\u0633\u0645\n\u0627\u0644\u0628\u064a\u0627\u0646\u0627\u062a \u0625\u0644\u0649 \u0645\u062c\u0645\u0648\u0639\u0627\u062a \u0635\u063a\u064a\u0631\u0629 \u0648\u062a\u064f\u062d\u0633\u0651\u0646 \u0646\u0645\u0648\u0630\u062c NMF \u0628\u0637\u0631\u064a\u0642\u0629 \u0639\u0628\u0631 \u0627\u0644\u0625\u0646\u062a\u0631\u0646\u062a \u0639\u0646 \u0637\u0631\u064a\u0642\n\u0627\u0644\u062f\u0648\u0631\u0627\u0646 \u0639\u0628\u0631 \u0627\u0644\u0645\u062c\u0645\u0648\u0639\u0627\u062a \u0627\u0644\u0635\u063a\u064a\u0631\u0629\u060c \u0645\u0645\u0627 \u064a\u062c\u0639\u0644\u0647\u0627 \u0623\u0643\u062b\u0631 \u0645\u0644\u0627\u0621\u0645\u0629 \u0644\u0644\u0645\u062c\u0645\u0648\u0639\u0627\u062a \u0627\u0644\u0643\u0628\u064a\u0631\u0629.\n\u0639\u0644\u0649 \u0648\u062c\u0647 \u0627\u0644\u062e\u0635\u0648\u0635\u060c \u062a\u0646\u0641\u0630 `partial_fit`\u060c \u0648\u0627\u0644\u062a\u064a \u064a\u0645\u0643\u0646 \u0627\u0633\u062a\u062e\u062f\u0627\u0645\u0647\u0627 \u0644\u0644\u062a\u0639\u0644\u0645 \u0639\u0628\u0631\n\u0627\u0644\u0625\u0646\u062a\u0631\u0646\u062a \u0639\u0646\u062f\u0645\u0627 \u0644\u0627 \u062a\u0643\u0648\u0646 \u0627\u0644\u0628\u064a\u0627\u0646\u0627\u062a \u0645\u062a\u0627\u062d\u0629 \u0628\u0633\u0647\u0648\u0644\u0629 \u0645\u0646 \u0627\u0644\u0628\u062f\u0627\u064a\u0629\u060c \u0623\u0648 \u0639\u0646\u062f\u0645\u0627 \u0644\u0627\n\u062a\u062a\u0646\u0627\u0633\u0628 \u0627\u0644\u0628\u064a\u0627\u0646\u0627\u062a \u0645\u0639 \u0627\u0644\u0630\u0627\u0643\u0631\u0629.\n\n"
      ]
    },
    {
      "cell_type": "code",
      "execution_count": null,
      "metadata": {
        "collapsed": false
      },
      "outputs": [],
      "source": [
        "import numpy as np\nfrom sklearn.decomposition import MiniBatchNMF\n\nrng = np.random.RandomState(0)\nn_samples, n_features, n_components = 10, 10, 5\ntrue_W = rng.uniform(size=(n_samples, n_components))\ntrue_H = rng.uniform(size=(n_components, n_features))\nX = true_W @ true_H\n\nnmf = MiniBatchNMF(n_components=n_components, random_state=0)\n\nfor _ in range(10):\n    nmf.partial_fit(X)\n\nW = nmf.transform(X)\nH = nmf.components_\nX_reconstructed = W @ H\n\nprint(\n    f\"relative reconstruction error: \",\n    f\"{np.sum((X - X_reconstructed) ** 2) / np.sum(X**2):.5f}\",\n)"
      ]
    },
    {
      "cell_type": "markdown",
      "metadata": {},
      "source": [
        "## :class:`~cluster.BisectingKMeans`: \u0627\u0644\u062a\u0642\u0633\u064a\u0645 \u0648\u0627\u0644\u062a\u062c\u0645\u064a\u0639\n\u0627\u0644\u0641\u0626\u0629 \u0627\u0644\u062c\u062f\u064a\u062f\u0629 :class:`~cluster.BisectingKMeans` \u0647\u064a \u0646\u0633\u062e\u0629 \u0645\u0646\n:class:`~cluster.KMeans`\u060c \u062a\u0633\u062a\u062e\u062f\u0645 \u0627\u0644\u062a\u062c\u0645\u064a\u0639 \u0627\u0644\u0647\u0631\u0645\u064a \u0627\u0644\u062a\u0642\u0633\u064a\u0645\u064a. \u0628\u062f\u0644\u0627\u064b \u0645\u0646\n\u0625\u0646\u0634\u0627\u0621 \u062c\u0645\u064a\u0639 \u0627\u0644\u0645\u0631\u0627\u0643\u0632 \u0641\u064a \u0648\u0642\u062a \u0648\u0627\u062d\u062f\u060c \u064a\u062a\u0645 \u0627\u062e\u062a\u064a\u0627\u0631 \u0627\u0644\u0645\u0631\u0627\u0643\u0632 \u062a\u062f\u0631\u064a\u062c\u064a\u0627\u064b \u0628\u0646\u0627\u0621\u064b \u0639\u0644\u0649\n\u0627\u0644\u062a\u062c\u0645\u064a\u0639 \u0627\u0644\u0633\u0627\u0628\u0642: \u064a\u062a\u0645 \u062a\u0642\u0633\u064a\u0645 \u0627\u0644\u062a\u062c\u0645\u064a\u0639 \u0625\u0644\u0649 \u062a\u062c\u0645\u064a\u0639\u064a\u0646 \u062c\u062f\u064a\u062f\u064a\u0646 \u0628\u0634\u0643\u0644 \u0645\u062a\u0643\u0631\u0631 \u062d\u062a\u0649\n\u064a\u062a\u0645 \u0627\u0644\u0648\u0635\u0648\u0644 \u0625\u0644\u0649 \u0639\u062f\u062f \u0627\u0644\u062a\u062c\u0645\u064a\u0639\u0627\u062a \u0627\u0644\u0645\u0633\u062a\u0647\u062f\u0641\u060c \u0645\u0645\u0627 \u064a\u0639\u0637\u064a \u0647\u064a\u0643\u0644\u064b\u0627 \u0647\u0631\u0645\u064a\u064b\u0627\n\u0644\u0644\u062a\u062c\u0645\u064a\u0639.\n\n"
      ]
    },
    {
      "cell_type": "code",
      "execution_count": null,
      "metadata": {
        "collapsed": false
      },
      "outputs": [],
      "source": [
        "from sklearn.datasets import make_blobs\nfrom sklearn.cluster import KMeans, BisectingKMeans\nimport matplotlib.pyplot as plt\n\nX, _ = make_blobs(n_samples=1000, centers=2, random_state=0)\n\nkm = KMeans(n_clusters=5, random_state=0, n_init=\"auto\").fit(X)\nbisect_km = BisectingKMeans(n_clusters=5, random_state=0).fit(X)\n\nfig, ax = plt.subplots(1, 2, figsize=(10, 5))\nax[0].scatter(X[:, 0], X[:, 1], s=10, c=km.labels_)\nax[0].scatter(km.cluster_centers_[:, 0], km.cluster_centers_[:, 1], s=20, c=\"r\")\nax[0].set_title(\"KMeans\")\n\nax[1].scatter(X[:, 0], X[:, 1], s=10, c=bisect_km.labels_)\nax[1].scatter(\n    bisect_km.cluster_centers_[:, 0], bisect_km.cluster_centers_[:, 1], s=20, c=\"r\"\n)\n_ = ax[1].set_title(\"BisectingKMeans\")"
      ]
    }
  ],
  "metadata": {
    "kernelspec": {
      "display_name": "Python 3",
      "language": "python",
      "name": "python3"
    },
    "language_info": {
      "codemirror_mode": {
        "name": "ipython",
        "version": 3
      },
      "file_extension": ".py",
      "mimetype": "text/x-python",
      "name": "python",
      "nbconvert_exporter": "python",
      "pygments_lexer": "ipython3",
      "version": "3.10.13"
    }
  },
  "nbformat": 4,
  "nbformat_minor": 0
}