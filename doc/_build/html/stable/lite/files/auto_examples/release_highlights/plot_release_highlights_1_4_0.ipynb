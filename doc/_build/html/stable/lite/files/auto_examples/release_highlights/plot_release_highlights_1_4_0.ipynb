{
  "cells": [
    {
      "cell_type": "markdown",
      "metadata": {},
      "source": [
        "<div class='alert alert-warning'>\n\n# JupyterLite warning\n\nRunning the scikit-learn examples in JupyterLite is experimental and you may encounter some unexpected behavior.\n\nThe main difference is that imports will take a lot longer than usual, for example the first `import sklearn` can take roughly 10-20s.\n\nIf you notice problems, feel free to open an [issue](https://github.com/scikit-learn/scikit-learn/issues/new/choose) about it.\n</div>"
      ]
    },
    {
      "cell_type": "code",
      "execution_count": null,
      "metadata": {
        "collapsed": false
      },
      "outputs": [],
      "source": [
        "# JupyterLite-specific code\n%pip install polars\n%pip install pyodide-http\nimport pyodide_http\npyodide_http.patch_all()\nimport matplotlib\nimport pandas"
      ]
    },
    {
      "cell_type": "markdown",
      "metadata": {},
      "source": [
        "\n# \u0623\u0628\u0631\u0632 \u0645\u064a\u0632\u0627\u062a \u0627\u0644\u0625\u0635\u062f\u0627\u0631 1.4 \u0645\u0646 scikit-learn\n\n.. currentmodule:: sklearn\n\n\u064a\u0633\u0639\u062f\u0646\u0627 \u0627\u0644\u0625\u0639\u0644\u0627\u0646 \u0639\u0646 \u0625\u0635\u062f\u0627\u0631 scikit-learn 1.4! \u062a\u0645 \u0625\u062c\u0631\u0627\u0621 \u0627\u0644\u0639\u062f\u064a\u062f \u0645\u0646 \u0627\u0644\u0625\u0635\u0644\u0627\u062d\u0627\u062a \u0648\u0627\u0644\u062a\u062d\u0633\u064a\u0646\u0627\u062a\u060c \u0628\u0627\u0644\u0625\u0636\u0627\u0641\u0629 \u0625\u0644\u0649 \u0628\u0639\u0636 \u0627\u0644\u0645\u064a\u0632\u0627\u062a \u0627\u0644\u0631\u0626\u064a\u0633\u064a\u0629 \u0627\u0644\u062c\u062f\u064a\u062f\u0629. \u0646\u0633\u062a\u0639\u0631\u0636 \u0623\u062f\u0646\u0627\u0647 \u0628\u0639\u0636 \u0627\u0644\u0645\u064a\u0632\u0627\u062a \u0627\u0644\u0631\u0626\u064a\u0633\u064a\u0629 \u0644\u0647\u0630\u0627 \u0627\u0644\u0625\u0635\u062f\u0627\u0631. **\u0644\u0644\u0627\u0637\u0644\u0627\u0639 \u0639\u0644\u0649 \u0642\u0627\u0626\u0645\u0629 \u0634\u0627\u0645\u0644\u0629 \u0628\u062c\u0645\u064a\u0639 \u0627\u0644\u062a\u063a\u064a\u064a\u0631\u0627\u062a**\u060c \u064a\u0631\u062c\u0649 \u0627\u0644\u0631\u062c\u0648\u0639 \u0625\u0644\u0649 `\u0645\u0644\u0627\u062d\u0638\u0627\u062a \u0627\u0644\u0625\u0635\u062f\u0627\u0631 <release_notes_1_4>`.\n\n\u0644\u062a\u062b\u0628\u064a\u062a \u0623\u062d\u062f\u062b \u0625\u0635\u062f\u0627\u0631 (\u0628\u0627\u0633\u062a\u062e\u062f\u0627\u0645 pip)::\n\n    pip install --upgrade scikit-learn\n\n\u0623\u0648 \u0628\u0627\u0633\u062a\u062e\u062f\u0627\u0645 conda::\n\n    conda install -c conda-forge scikit-learn\n"
      ]
    },
    {
      "cell_type": "markdown",
      "metadata": {},
      "source": [
        "## \u062f\u0639\u0645 \u0627\u0644\u0623\u0646\u0648\u0627\u0639 \u0627\u0644\u0641\u0626\u0648\u064a\u0629 \u0641\u064a HistGradientBoosting \u0628\u0634\u0643\u0644 \u0623\u0635\u0644\u064a \u0641\u064a DataFrames\n:class:`ensemble.HistGradientBoostingClassifier` \u0648\n:class:`ensemble.HistGradientBoostingRegressor` \u064a\u062f\u0639\u0645\u0627\u0646 \u0627\u0644\u0622\u0646 \u0627\u0644\u0623\u0646\u0648\u0627\u0639 \u0627\u0644\u0641\u0626\u0648\u064a\u0629 \u0628\u0634\u0643\u0644 \u0623\u0635\u0644\u064a \u0641\u064a \u0623\u0637\u0631 \u0627\u0644\u0628\u064a\u0627\u0646\u0627\u062a. \u0647\u0646\u0627 \u0644\u062f\u064a\u0646\u0627 \u0645\u062c\u0645\u0648\u0639\u0629 \u0628\u064a\u0627\u0646\u0627\u062a \u062a\u062d\u062a\u0648\u064a \u0639\u0644\u0649 \u0645\u0632\u064a\u062c \u0645\u0646\n\u0627\u0644\u0645\u064a\u0632\u0627\u062a \u0627\u0644\u0641\u0626\u0648\u064a\u0629 \u0648\u0627\u0644\u0631\u0642\u0645\u064a\u0629:\n\n"
      ]
    },
    {
      "cell_type": "code",
      "execution_count": null,
      "metadata": {
        "collapsed": false
      },
      "outputs": [],
      "source": [
        "from sklearn.datasets import fetch_openml\n\nX_adult, y_adult = fetch_openml(\"adult\", version=2, return_X_y=True)\n\n# \u0625\u0632\u0627\u0644\u0629 \u0627\u0644\u0623\u0639\u0645\u062f\u0629 \u0627\u0644\u0645\u0643\u0631\u0631\u0629 \u0648\u063a\u064a\u0631 \u0627\u0644\u0645\u0637\u0644\u0648\u0628\u0629\nX_adult = X_adult.drop([\"education-num\", \"fnlwgt\"], axis=\"columns\")\nX_adult.dtypes"
      ]
    },
    {
      "cell_type": "markdown",
      "metadata": {},
      "source": [
        "\u0645\u0646 \u062e\u0644\u0627\u0644 \u062a\u0639\u064a\u064a\u0646 `categorical_features=\"from_dtype\"`\u060c \u064a\u0642\u0648\u0645 \u0645\u0635\u0646\u0641 \u0627\u0644\u062a\u062f\u0631\u062c \u0627\u0644\u062a\u062f\u0631\u064a\u062c\u064a\n\u0628\u0645\u0639\u0627\u0645\u0644\u0629 \u0627\u0644\u0623\u0639\u0645\u062f\u0629 \u0630\u0627\u062a \u0627\u0644\u0623\u0646\u0648\u0627\u0639 \u0627\u0644\u0641\u0626\u0648\u064a\u0629 \u0639\u0644\u0649 \u0623\u0646\u0647\u0627 \u0645\u064a\u0632\u0627\u062a \u0641\u0626\u0648\u064a\u0629 \u0641\u064a\n\u0627\u0644\u062e\u0648\u0627\u0631\u0632\u0645\u064a\u0629:\n\n"
      ]
    },
    {
      "cell_type": "code",
      "execution_count": null,
      "metadata": {
        "collapsed": false
      },
      "outputs": [],
      "source": [
        "from sklearn.ensemble import HistGradientBoostingClassifier\nfrom sklearn.model_selection import train_test_split\nfrom sklearn.metrics import roc_auc_score\n\nX_train, X_test, y_train, y_test = train_test_split(X_adult, y_adult, random_state=0)\nhist = HistGradientBoostingClassifier(categorical_features=\"from_dtype\")\n\nhist.fit(X_train, y_train)\ny_decision = hist.decision_function(X_test)\nprint(f\"ROC AUC score is {roc_auc_score(y_test, y_decision)}\")"
      ]
    },
    {
      "cell_type": "markdown",
      "metadata": {},
      "source": [
        "## \u062f\u0639\u0645 \u0625\u062e\u0631\u0627\u062c Polars \u0641\u064a `set_output`\n\u062a\u062f\u0639\u0645 \u0645\u062d\u0648\u0644\u0627\u062a scikit-learn \u0627\u0644\u0622\u0646 \u0625\u062e\u0631\u0627\u062c Polars \u0628\u0627\u0633\u062a\u062e\u062f\u0627\u0645 \u0648\u0627\u062c\u0647\u0629 \u0628\u0631\u0645\u062c\u0629 \u0627\u0644\u062a\u0637\u0628\u064a\u0642\u0627\u062a `set_output`.\n\n"
      ]
    },
    {
      "cell_type": "code",
      "execution_count": null,
      "metadata": {
        "collapsed": false
      },
      "outputs": [],
      "source": [
        "import polars as pl\nfrom sklearn.preprocessing import StandardScaler\nfrom sklearn.preprocessing import OneHotEncoder\nfrom sklearn.compose import ColumnTransformer\n\ndf = pl.DataFrame(\n    {\"height\": [120, 140, 150, 110, 100], \"pet\": [\"dog\", \"cat\", \"dog\", \"cat\", \"cat\"]}\n)\npreprocessor = ColumnTransformer(\n    [\n        (\"numerical\", StandardScaler(), [\"height\"]),\n        (\"categorical\", OneHotEncoder(sparse_output=False), [\"pet\"]),\n    ],\n    verbose_feature_names_out=False,\n)\npreprocessor.set_output(transform=\"polars\")\n\ndf_out = preprocessor.fit_transform(df)\ndf_out"
      ]
    },
    {
      "cell_type": "code",
      "execution_count": null,
      "metadata": {
        "collapsed": false
      },
      "outputs": [],
      "source": [
        "print(f\"Output type: {type(df_out)}\")"
      ]
    },
    {
      "cell_type": "markdown",
      "metadata": {},
      "source": [
        "## \u062f\u0639\u0645 \u0627\u0644\u0642\u064a\u0645 \u0627\u0644\u0645\u0641\u0642\u0648\u062f\u0629 \u0641\u064a Random Forest\n\u062a\u062f\u0639\u0645 \u0627\u0644\u0641\u0626\u0627\u062a :class:`ensemble.RandomForestClassifier` \u0648\n:class:`ensemble.RandomForestRegressor` \u0627\u0644\u0642\u064a\u0645 \u0627\u0644\u0645\u0641\u0642\u0648\u062f\u0629 \u0627\u0644\u0622\u0646. \u0639\u0646\u062f \u062a\u062f\u0631\u064a\u0628\n\u0643\u0644 \u0634\u062c\u0631\u0629 \u0641\u0631\u062f\u064a\u0629\u060c \u064a\u0642\u0648\u0645 \u0627\u0644\u0645\u0642\u0633\u0645 \u0628\u062a\u0642\u064a\u064a\u0645 \u0643\u0644 \u0639\u062a\u0628\u0629 \u0645\u062d\u062a\u0645\u0644\u0629 \u0645\u0639\n\u0627\u0644\u0642\u064a\u0645 \u0627\u0644\u0645\u0641\u0642\u0648\u062f\u0629 \u0627\u0644\u062a\u064a \u062a\u0630\u0647\u0628 \u0625\u0644\u0649 \u0627\u0644\u0639\u0642\u062f \u0627\u0644\u064a\u0633\u0631\u0649 \u0648\u0627\u0644\u064a\u0645\u0646\u0649. \u0644\u0645\u0632\u064a\u062f \u0645\u0646 \u0627\u0644\u062a\u0641\u0627\u0635\u064a\u0644 \u0641\u064a\n`\u062f\u0644\u064a\u0644 \u0627\u0644\u0645\u0633\u062a\u062e\u062f\u0645 <tree_missing_value_support>`.\n\n"
      ]
    },
    {
      "cell_type": "code",
      "execution_count": null,
      "metadata": {
        "collapsed": false
      },
      "outputs": [],
      "source": [
        "import numpy as np\nfrom sklearn.ensemble import RandomForestClassifier\n\nX = np.array([0, 1, 6, np.nan]).reshape(-1, 1)\ny = [0, 0, 1, 1]\n\nforest = RandomForestClassifier(random_state=0).fit(X, y)\nforest.predict(X)"
      ]
    },
    {
      "cell_type": "markdown",
      "metadata": {},
      "source": [
        "## \u0625\u0636\u0627\u0641\u0629 \u062f\u0639\u0645 \u0627\u0644\u0642\u064a\u0648\u062f \u0627\u0644\u0623\u062d\u0627\u062f\u064a\u0629 \u0627\u0644\u0627\u062a\u062c\u0627\u0647 \u0641\u064a \u0627\u0644\u0646\u0645\u0627\u0630\u062c \u0627\u0644\u0642\u0627\u0626\u0645\u0629 \u0639\u0644\u0649 \u0627\u0644\u0634\u062c\u0631\u0629\n\u0639\u0644\u0649 \u0627\u0644\u0631\u063a\u0645 \u0645\u0646 \u0623\u0646\u0646\u0627 \u0623\u0636\u0641\u0646\u0627 \u062f\u0639\u0645 \u0627\u0644\u0642\u064a\u0648\u062f \u0627\u0644\u0623\u062d\u0627\u062f\u064a\u0629 \u0627\u0644\u0627\u062a\u062c\u0627\u0647 \u0641\u064a \u0627\u0644\u062a\u062f\u0631\u062c \u0627\u0644\u062a\u062f\u0631\u064a\u062c\u064a \u0627\u0644\u0642\u0627\u0626\u0645 \u0639\u0644\u0649 \u0627\u0644\u0631\u0633\u0645 \u0627\u0644\u0628\u064a\u0627\u0646\u064a\n\u0641\u064a scikit-learn 0.23\u060c \u0625\u0644\u0627 \u0623\u0646\u0646\u0627 \u0646\u062f\u0639\u0645 \u0647\u0630\u0647 \u0627\u0644\u0645\u064a\u0632\u0629 \u0627\u0644\u0622\u0646 \u0644\u062c\u0645\u064a\u0639 \u0627\u0644\u0646\u0645\u0627\u0630\u062c \u0627\u0644\u0623\u062e\u0631\u0649 \u0627\u0644\u0642\u0627\u0626\u0645\u0629 \u0639\u0644\u0649 \u0627\u0644\u0634\u062c\u0631\u0629 \u0645\u062b\u0644\n\u0627\u0644\u0623\u0634\u062c\u0627\u0631\u060c \u0648\u0627\u0644\u063a\u0627\u0628\u0627\u062a \u0627\u0644\u0639\u0634\u0648\u0627\u0626\u064a\u0629\u060c \u0648\u0627\u0644\u0623\u0634\u062c\u0627\u0631 \u0627\u0644\u0625\u0636\u0627\u0641\u064a\u0629\u060c \u0648\u0627\u0644\u062a\u062f\u0631\u062c \u0627\u0644\u062a\u062f\u0631\u064a\u062c\u064a \u0627\u0644\u062f\u0642\u064a\u0642. \u0647\u0646\u0627\u060c \u0646\u0639\u0631\u0636 \u0647\u0630\u0647\n\u0627\u0644\u0645\u064a\u0632\u0629 \u0644\u0644\u063a\u0627\u0628\u0629 \u0627\u0644\u0639\u0634\u0648\u0627\u0626\u064a\u0629 \u0641\u064a \u0645\u0634\u0643\u0644\u0629 \u0627\u0644\u0627\u0646\u062d\u062f\u0627\u0631.\n\n"
      ]
    },
    {
      "cell_type": "code",
      "execution_count": null,
      "metadata": {
        "collapsed": false
      },
      "outputs": [],
      "source": [
        "import matplotlib.pyplot as plt\nfrom sklearn.inspection import PartialDependenceDisplay\nfrom sklearn.ensemble import RandomForestRegressor\n\nn_samples = 500\nrng = np.random.RandomState(0)\nX = rng.randn(n_samples, 2)\nnoise = rng.normal(loc=0.0, scale=0.01, size=n_samples)\ny = 5 * X[:, 0] + np.sin(10 * np.pi * X[:, 0]) - noise\n\nrf_no_cst = RandomForestRegressor().fit(X, y)\nrf_cst = RandomForestRegressor(monotonic_cst=[1, 0]).fit(X, y)\n\ndisp = PartialDependenceDisplay.from_estimator(\n    rf_no_cst,\n    X,\n    features=[0],\n    feature_names=[\"feature 0\"],\n    line_kw={\"linewidth\": 4, \"label\": \"unconstrained\", \"color\": \"tab:blue\"},\n)\nPartialDependenceDisplay.from_estimator(\n    rf_cst,\n    X,\n    features=[0],\n    line_kw={\"linewidth\": 4, \"label\": \"constrained\", \"color\": \"tab:orange\"},\n    ax=disp.axes_,\n)\ndisp.axes_[0, 0].plot(\n    X[:, 0], y, \"o\", alpha=0.5, zorder=-1, label=\"samples\", color=\"tab:green\"\n)\ndisp.axes_[0, 0].set_ylim(-3, 3)\ndisp.axes_[0, 0].set_xlim(-1, 1)\ndisp.axes_[0, 0].legend()\nplt.show()"
      ]
    },
    {
      "cell_type": "markdown",
      "metadata": {},
      "source": [
        "## \u062a\u062d\u0633\u064a\u0646 \u0639\u0631\u0636 \u0627\u0644\u0645\u062d\u0644\u0644\n\u062a\u0645 \u062a\u062d\u0633\u064a\u0646 \u0639\u0631\u0636 \u0627\u0644\u0645\u062d\u0644\u0644: \u0625\u0630\u0627 \u0646\u0638\u0631\u0646\u0627 \u0625\u0644\u0649 `forest`\u060c \u0627\u0644\u0645\u062d\u062f\u062f \u0623\u0639\u0644\u0627\u0647:\n\n"
      ]
    },
    {
      "cell_type": "code",
      "execution_count": null,
      "metadata": {
        "collapsed": false
      },
      "outputs": [],
      "source": [
        "forest"
      ]
    },
    {
      "cell_type": "markdown",
      "metadata": {},
      "source": [
        "\u064a\u0645\u0643\u0646 \u0627\u0644\u0648\u0635\u0648\u0644 \u0625\u0644\u0649 \u0648\u062b\u0627\u0626\u0642 \u0627\u0644\u0645\u062d\u0644\u0644 \u0628\u0627\u0644\u0646\u0642\u0631 \u0639\u0644\u0649 \u0623\u064a\u0642\u0648\u0646\u0629 \"\u061f\" \u0641\u064a\n\u0627\u0644\u0632\u0627\u0648\u064a\u0629 \u0627\u0644\u064a\u0645\u0646\u0649 \u0627\u0644\u0639\u0644\u064a\u0627 \u0645\u0646 \u0627\u0644\u0645\u062e\u0637\u0637.\n\n\u0628\u0627\u0644\u0625\u0636\u0627\u0641\u0629 \u0625\u0644\u0649 \u0630\u0644\u0643\u060c \u064a\u062a\u063a\u064a\u0631 \u0644\u0648\u0646 \u0627\u0644\u0639\u0631\u0636 \u0645\u0646 \u0627\u0644\u0628\u0631\u062a\u0642\u0627\u0644\u064a \u0625\u0644\u0649 \u0627\u0644\u0623\u0632\u0631\u0642\u060c \u0639\u0646\u062f\u0645\u0627 \u064a\u062a\u0645 \u062a\u062f\u0631\u064a\u0628 \u0627\u0644\u0645\u062d\u0644\u0644. \u064a\u0645\u0643\u0646\u0643 \u0623\u064a\u0636\u064b\u0627 \u0627\u0644\u062d\u0635\u0648\u0644 \u0639\u0644\u0649 \u0647\u0630\u0647 \u0627\u0644\u0645\u0639\u0644\u0648\u0645\u0627\u062a \u0645\u0646 \u062e\u0644\u0627\u0644 \u0627\u0644\u062a\u0645\u0631\u064a\u0631 \u0641\u0648\u0642 \u0623\u064a\u0642\u0648\u0646\u0629 \"i\".\n\n"
      ]
    },
    {
      "cell_type": "code",
      "execution_count": null,
      "metadata": {
        "collapsed": false
      },
      "outputs": [],
      "source": [
        "from sklearn.base import clone\n\nclone(forest)  # \u0627\u0644\u0646\u0633\u062e\u0629 \u0644\u064a\u0633\u062a \u0645\u062f\u0631\u0628\u0629"
      ]
    },
    {
      "cell_type": "markdown",
      "metadata": {},
      "source": [
        "## \u062f\u0639\u0645 \u062a\u0648\u062c\u064a\u0647 \u0627\u0644\u0628\u064a\u0627\u0646\u0627\u062a \u0627\u0644\u0648\u0635\u0641\u064a\u0629\n\u064a\u062f\u0639\u0645 \u0627\u0644\u0639\u062f\u064a\u062f \u0645\u0646 \u0627\u0644\u0645\u062d\u0644\u0644\u064a\u0646 \u0627\u0644\u0641\u0627\u0626\u0642\u064a\u0646 \u0648\u0631\u0648\u062a\u064a\u0646\u0627\u062a \u0627\u0644\u062a\u062d\u0642\u0642 \u0627\u0644\u0645\u062a\u0642\u0627\u0637\u0639 \u0627\u0644\u0622\u0646 \u062a\u0648\u062c\u064a\u0647 \u0627\u0644\u0628\u064a\u0627\u0646\u0627\u062a \u0627\u0644\u0648\u0635\u0641\u064a\u0629\u060c \u0648\u0627\u0644\u062a\u064a \u064a\u062a\u0645 \u0633\u0631\u062f\u0647\u0627 \u0641\u064a `\u062f\u0644\u064a\u0644 \u0627\u0644\u0645\u0633\u062a\u062e\u062f\u0645\n<metadata_routing_models>`. \u0639\u0644\u0649 \u0633\u0628\u064a\u0644 \u0627\u0644\u0645\u062b\u0627\u0644\u060c \u0647\u0630\u0647 \u0647\u064a \u0627\u0644\u0637\u0631\u064a\u0642\u0629 \u0627\u0644\u062a\u064a \u064a\u0645\u0643\u0646\u0643 \u0628\u0647\u0627 \u0625\u062c\u0631\u0627\u0621 \u0627\u0644\u062a\u062d\u0642\u0642 \u0627\u0644\u0645\u062a\u0642\u0627\u0637\u0639 \u0627\u0644\u0645\u062a\u062f\u0627\u062e\u0644\n\u0645\u0639 \u0623\u0648\u0632\u0627\u0646 \u0627\u0644\u0639\u064a\u0646\u0627\u062a \u0648 :class:`~model_selection.GroupKFold`:\n\n"
      ]
    },
    {
      "cell_type": "code",
      "execution_count": null,
      "metadata": {
        "collapsed": false
      },
      "outputs": [],
      "source": [
        "import sklearn\nfrom sklearn.metrics import get_scorer\nfrom sklearn.datasets import make_regression\nfrom sklearn.linear_model import Lasso\nfrom sklearn.model_selection import GridSearchCV, cross_validate, GroupKFold\n\n# \u062d\u0627\u0644\u064a\u064b\u0627\u060c \u064a\u062a\u0645 \u062a\u0639\u0637\u064a\u0644 \u062a\u0648\u062c\u064a\u0647 \u0627\u0644\u0628\u064a\u0627\u0646\u0627\u062a \u0627\u0644\u0648\u0635\u0641\u064a\u0629 \u0628\u0634\u0643\u0644 \u0627\u0641\u062a\u0631\u0627\u0636\u064a\u060c \u0648\u064a\u062c\u0628 \u062a\u0645\u0643\u064a\u0646\u0647 \u0628\u0634\u0643\u0644 \u0635\u0631\u064a\u062d.\nsklearn.set_config(enable_metadata_routing=True)\n\nn_samples = 100\nX, y = make_regression(n_samples=n_samples, n_features=5, noise=0.5)\nrng = np.random.RandomState(7)\ngroups = rng.randint(0, 10, size=n_samples)\nsample_weights = rng.rand(n_samples)\nestimator = Lasso().set_fit_request(sample_weight=True)\nhyperparameter_grid = {\"alpha\": [0.1, 0.5, 1.0, 2.0]}\nscoring_inner_cv = get_scorer(\"neg_mean_squared_error\").set_score_request(\n    sample_weight=True\n)\ninner_cv = GroupKFold(n_splits=5)\n\ngrid_search = GridSearchCV(\n    estimator=estimator,\n    param_grid=hyperparameter_grid,\n    cv=inner_cv,\n    scoring=scoring_inner_cv,\n)\n\nouter_cv = GroupKFold(n_splits=5)\nscorers = {\n    \"mse\": get_scorer(\"neg_mean_squared_error\").set_score_request(sample_weight=True)\n}\nresults = cross_validate(\n    grid_search,\n    X,\n    y,\n    cv=outer_cv,\n    scoring=scorers,\n    return_estimator=True,\n    params={\"sample_weight\": sample_weights, \"groups\": groups},\n)\nprint(\"cv error on test sets:\", results[\"test_mse\"])\n\n# \u062a\u0639\u064a\u064a\u0646 \u0627\u0644\u0639\u0644\u0645 \u0625\u0644\u0649 \u0627\u0644\u0642\u064a\u0645\u0629 \u0627\u0644\u0627\u0641\u062a\u0631\u0627\u0636\u064a\u0629 `False` \u0644\u062a\u062c\u0646\u0628 \u0627\u0644\u062a\u062f\u0627\u062e\u0644 \u0645\u0639 \u0627\u0644\u0646\u0635\u0648\u0635 \u0627\u0644\u0623\u062e\u0631\u0649.\nsklearn.set_config(enable_metadata_routing=False)"
      ]
    },
    {
      "cell_type": "markdown",
      "metadata": {},
      "source": [
        "## \u062a\u062d\u0633\u064a\u0646 \u0643\u0641\u0627\u0621\u0629 \u0627\u0644\u0630\u0627\u0643\u0631\u0629 \u0648\u0627\u0644\u0648\u0642\u062a \u0644\u0640 PCA \u0639\u0644\u0649 \u0627\u0644\u0628\u064a\u0627\u0646\u0627\u062a \u0627\u0644\u0645\u062a\u0646\u0627\u062b\u0631\u0629\n\u064a\u0645\u0643\u0646 \u0644\u0640 PCA \u0627\u0644\u0622\u0646 \u0627\u0644\u062a\u0639\u0627\u0645\u0644 \u0645\u0639 \u0627\u0644\u0645\u0635\u0641\u0648\u0641\u0627\u062a \u0627\u0644\u0645\u062a\u0646\u0627\u062b\u0631\u0629 \u0628\u0634\u0643\u0644 \u0623\u0635\u0644\u064a \u0644\u0645\u062d\u0644\u0644 `arpack` \u0645\u0646 \u062e\u0644\u0627\u0644 \u0627\u0644\u0627\u0633\u062a\u0641\u0627\u062f\u0629 \u0645\u0646 `scipy.sparse.linalg.LinearOperator` \u0644\u062a\u062c\u0646\u0628\n\u062a\u062c\u0633\u064a\u062f \u0627\u0644\u0645\u0635\u0641\u0648\u0641\u0627\u062a \u0627\u0644\u0645\u062a\u0646\u0627\u062b\u0631\u0629 \u0627\u0644\u0643\u0628\u064a\u0631\u0629 \u0639\u0646\u062f \u0625\u062c\u0631\u0627\u0621\n\u062a\u062d\u0644\u064a\u0644 \u0627\u0644\u0642\u064a\u0645\u0629 \u0627\u0644\u0630\u0627\u062a\u064a\u0629 \u0644\u0645\u0635\u0641\u0648\u0641\u0629 \u0645\u062c\u0645\u0648\u0639\u0629 \u0627\u0644\u0628\u064a\u0627\u0646\u0627\u062a.\n\n\n"
      ]
    },
    {
      "cell_type": "code",
      "execution_count": null,
      "metadata": {
        "collapsed": false
      },
      "outputs": [],
      "source": [
        "from sklearn.decomposition import PCA\nimport scipy.sparse as sp\nfrom time import time\n\nX_sparse = sp.random(m=1000, n=1000, random_state=0)\nX_dense = X_sparse.toarray()\n\nt0 = time()\nPCA(n_components=10, svd_solver=\"arpack\").fit(X_sparse)\ntime_sparse = time() - t0\n\nt0 = time()\nPCA(n_components=10, svd_solver=\"arpack\").fit(X_dense)\ntime_dense = time() - t0\n\nprint(f\"Speedup: {time_dense / time_sparse:.1f}x\")"
      ]
    }
  ],
  "metadata": {
    "kernelspec": {
      "display_name": "Python 3",
      "language": "python",
      "name": "python3"
    },
    "language_info": {
      "codemirror_mode": {
        "name": "ipython",
        "version": 3
      },
      "file_extension": ".py",
      "mimetype": "text/x-python",
      "name": "python",
      "nbconvert_exporter": "python",
      "pygments_lexer": "ipython3",
      "version": "3.10.13"
    }
  },
  "nbformat": 4,
  "nbformat_minor": 0
}