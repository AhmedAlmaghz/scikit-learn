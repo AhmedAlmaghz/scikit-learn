{
  "cells": [
    {
      "cell_type": "markdown",
      "metadata": {},
      "source": [
        "<div class='alert alert-warning'>\n\n# JupyterLite warning\n\nRunning the scikit-learn examples in JupyterLite is experimental and you may encounter some unexpected behavior.\n\nThe main difference is that imports will take a lot longer than usual, for example the first `import sklearn` can take roughly 10-20s.\n\nIf you notice problems, feel free to open an [issue](https://github.com/scikit-learn/scikit-learn/issues/new/choose) about it.\n</div>"
      ]
    },
    {
      "cell_type": "code",
      "execution_count": null,
      "metadata": {
        "collapsed": false
      },
      "outputs": [],
      "source": [
        "# JupyterLite-specific code\nimport matplotlib\nimport pandas"
      ]
    },
    {
      "cell_type": "markdown",
      "metadata": {},
      "source": [
        "\n# \u0631\u0633\u0645 \u0627\u0644\u0645\u062a\u062c\u0647\u0627\u062a \u0627\u0644\u062f\u0627\u0639\u0645\u0629 \u0641\u064a LinearSVC\n\n\u0639\u0644\u0649 \u0639\u0643\u0633 SVC (\u0627\u0644\u0630\u064a \u064a\u0639\u062a\u0645\u062f \u0639\u0644\u0649 LIBSVM)\u060c \u0641\u0625\u0646 LinearSVC (\u0627\u0644\u0630\u064a \u064a\u0639\u062a\u0645\u062f \u0639\u0644\u0649 LIBLINEAR) \u0644\u0627 \u064a\u0648\u0641\u0631\n\u0627\u0644\u0645\u062a\u062c\u0647\u0627\u062a \u0627\u0644\u062f\u0627\u0639\u0645\u0629. \u064a\u0648\u0636\u062d \u0647\u0630\u0627 \u0627\u0644\u0645\u062b\u0627\u0644 \u0643\u064a\u0641\u064a\u0629 \u0627\u0644\u062d\u0635\u0648\u0644 \u0639\u0644\u0649 \u0627\u0644\u0645\u062a\u062c\u0647\u0627\u062a \u0627\u0644\u062f\u0627\u0639\u0645\u0629 \u0641\u064a LinearSVC.\n"
      ]
    },
    {
      "cell_type": "code",
      "execution_count": null,
      "metadata": {
        "collapsed": false
      },
      "outputs": [],
      "source": [
        "# \u0627\u0644\u0645\u0624\u0644\u0641\u0648\u0646: \u0645\u0637\u0648\u0631\u064a scikit-learn\n# \u0645\u0639\u0631\u0641 \u0627\u0644\u062a\u0631\u062e\u064a\u0635: BSD-3-Clause\n\nimport matplotlib.pyplot as plt\nimport numpy as np\n\nfrom sklearn.datasets import make_blobs\nfrom sklearn.inspection import DecisionBoundaryDisplay\nfrom sklearn.svm import LinearSVC\n\nX, y = make_blobs(n_samples=40, centers=2, random_state=0)\n\nplt.figure(figsize=(10, 5))\nfor i, C in enumerate([1, 100]):\n    # \"hinge\" \u0647\u064a \u062e\u0633\u0627\u0631\u0629 SVM \u0627\u0644\u0642\u064a\u0627\u0633\u064a\u0629\n    clf = LinearSVC(C=C, loss=\"hinge\", random_state=42).fit(X, y)\n    # \u0627\u0644\u062d\u0635\u0648\u0644 \u0639\u0644\u0649 \u0627\u0644\u0645\u062a\u062c\u0647\u0627\u062a \u0627\u0644\u062f\u0627\u0639\u0645\u0629 \u0645\u0646 \u062e\u0644\u0627\u0644 \u062f\u0627\u0644\u0629 \u0627\u0644\u0642\u0631\u0627\u0631\n    decision_function = clf.decision_function(X)\n    # \u064a\u0645\u0643\u0646\u0646\u0627 \u0623\u064a\u0636\u064b\u0627 \u062d\u0633\u0627\u0628 \u062f\u0627\u0644\u0629 \u0627\u0644\u0642\u0631\u0627\u0631 \u064a\u062f\u0648\u064a\u064b\u0627\n    # decision_function = np.dot(X, clf.coef_[0]) + clf.intercept_[0]\n    # \u0627\u0644\u0645\u062a\u062c\u0647\u0627\u062a \u0627\u0644\u062f\u0627\u0639\u0645\u0629 \u0647\u064a \u0627\u0644\u0639\u064a\u0646\u0627\u062a \u0627\u0644\u062a\u064a \u062a\u0642\u0639 \u062f\u0627\u062e\u0644 \u062d\u062f\u0648\u062f \u0627\u0644\u0647\u0627\u0645\u0634\n    # \u0648\u0627\u0644\u062a\u064a \u064a\u064f\u062d\u0627\u0641\u0638 \u0639\u0644\u0649 \u062d\u062c\u0645\u0647\u0627 \u062a\u0642\u0644\u064a\u062f\u064a\u064b\u0627 \u0639\u0646\u062f 1\n    support_vector_indices = np.where(np.abs(decision_function) <= 1 + 1e-15)[0]\n    support_vectors = X[support_vector_indices]\n\n    plt.subplot(1, 2, i + 1)\n    plt.scatter(X[:, 0], X[:, 1], c=y, s=30, cmap=plt.cm.Paired)\n    ax = plt.gca()\n    DecisionBoundaryDisplay.from_estimator(\n        clf,\n        X,\n        ax=ax,\n        grid_resolution=50,\n        plot_method=\"contour\",\n        colors=\"k\",\n        levels=[-1, 0, 1],\n        alpha=0.5,\n        linestyles=[\"--\", \"-\", \"--\"],\n    )\n    plt.scatter(\n        support_vectors[:, 0],\n        support_vectors[:, 1],\n        s=100,\n        linewidth=1,\n        facecolors=\"none\",\n        edgecolors=\"k\",\n    )\n    plt.title(\"C=\" + str(C))\nplt.tight_layout()\nplt.show()"
      ]
    }
  ],
  "metadata": {
    "kernelspec": {
      "display_name": "Python 3",
      "language": "python",
      "name": "python3"
    },
    "language_info": {
      "codemirror_mode": {
        "name": "ipython",
        "version": 3
      },
      "file_extension": ".py",
      "mimetype": "text/x-python",
      "name": "python",
      "nbconvert_exporter": "python",
      "pygments_lexer": "ipython3",
      "version": "3.10.13"
    }
  },
  "nbformat": 4,
  "nbformat_minor": 0
}