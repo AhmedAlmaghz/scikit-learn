{
  "cells": [
    {
      "cell_type": "markdown",
      "metadata": {},
      "source": [
        "<div class='alert alert-warning'>\n\n# JupyterLite warning\n\nRunning the scikit-learn examples in JupyterLite is experimental and you may encounter some unexpected behavior.\n\nThe main difference is that imports will take a lot longer than usual, for example the first `import sklearn` can take roughly 10-20s.\n\nIf you notice problems, feel free to open an [issue](https://github.com/scikit-learn/scikit-learn/issues/new/choose) about it.\n</div>"
      ]
    },
    {
      "cell_type": "code",
      "execution_count": null,
      "metadata": {
        "collapsed": false
      },
      "outputs": [],
      "source": [
        "# JupyterLite-specific code\nimport matplotlib\nimport pandas"
      ]
    },
    {
      "cell_type": "markdown",
      "metadata": {},
      "source": [
        "\n# \u0645\u062b\u0627\u0644 \u0639\u0644\u0649 \u0647\u0648\u0627\u0645\u0634 SVM\n\u062a\u0648\u0636\u062d \u0627\u0644\u0645\u062e\u0637\u0637\u0627\u062a \u0623\u062f\u0646\u0627\u0647 \u062a\u0623\u062b\u064a\u0631 \u0627\u0644\u0645\u0639\u0627\u0645\u0644 `C`\n\u0639\u0644\u0649 \u062e\u0637 \u0627\u0644\u0641\u0635\u0644. \u062a\u0634\u064a\u0631 \u0642\u064a\u0645\u0629 \u0643\u0628\u064a\u0631\u0629 \u0645\u0646 `C` \u0628\u0634\u0643\u0644 \u0623\u0633\u0627\u0633\u064a \u0625\u0644\u0649\n\u0646\u0645\u0648\u0630\u062c\u0646\u0627 \u0623\u0646\u0646\u0627 \u0644\u0627 \u0646\u062b\u0642 \u0643\u062b\u064a\u0631\u0627\u064b \u0641\u064a \u062a\u0648\u0632\u064a\u0639 \u0627\u0644\u0628\u064a\u0627\u0646\u0627\u062a\u060c \u0648\u0644\u0646 \u0646\u0623\u062e\u0630 \u0641\u064a \u0627\u0644\u0627\u0639\u062a\u0628\u0627\u0631 \u0633\u0648\u0649 \u0627\u0644\u0646\u0642\u0627\u0637 \u0627\u0644\u0642\u0631\u064a\u0628\u0629 \u0645\u0646 \u062e\u0637\n\u0627\u0644\u0641\u0635\u0644.\n\n\u062a\u062a\u0636\u0645\u0646 \u0642\u064a\u0645\u0629 \u0635\u063a\u064a\u0631\u0629 \u0645\u0646 `C` \u0627\u0644\u0645\u0632\u064a\u062f/\u062c\u0645\u064a\u0639 \u0627\u0644\u0645\u0644\u0627\u062d\u0638\u0627\u062a\u060c \u0645\u0645\u0627 \u064a\u0633\u0645\u062d\n\u0628\u062d\u0633\u0627\u0628 \u0627\u0644\u0647\u0648\u0627\u0645\u0634 \u0628\u0627\u0633\u062a\u062e\u062f\u0627\u0645 \u062c\u0645\u064a\u0639 \u0627\u0644\u0628\u064a\u0627\u0646\u0627\u062a \u0641\u064a \u0627\u0644\u0645\u0646\u0637\u0642\u0629.\n"
      ]
    },
    {
      "cell_type": "code",
      "execution_count": null,
      "metadata": {
        "collapsed": false
      },
      "outputs": [],
      "source": [
        "# \u0627\u0644\u0645\u0624\u0644\u0641\u0648\u0646: \u0645\u0637\u0648\u0631\u064a \u0633\u0643\u0627\u064a\u0644\u0631\u0646\n# \u0645\u0639\u0631\u0641 \u0627\u0644\u062a\u0631\u062e\u064a\u0635: BSD-3-Clause\n\nimport matplotlib.pyplot as plt\nimport numpy as np\n\nfrom sklearn import svm\n\n# \u0646\u0642\u0648\u0645 \u0628\u0625\u0646\u0634\u0627\u0621 40 \u0646\u0642\u0637\u0629 \u0642\u0627\u0628\u0644\u0629 \u0644\u0644\u0641\u0635\u0644\nnp.random.seed(0)\nX = np.r_[np.random.randn(20, 2) - [2, 2], np.random.randn(20, 2) + [2, 2]]\nY = [0] * 20 + [1] * 20\n\n# \u0631\u0642\u0645 \u0627\u0644\u0634\u0643\u0644\nfignum = 1\n\n# \u0645\u0644\u0627\u0621\u0645\u0629 \u0627\u0644\u0646\u0645\u0648\u0630\u062c\nfor name, penalty in ((\"unreg\", 1), (\"reg\", 0.05)):\n    clf = svm.SVC(kernel=\"linear\", C=penalty)\n    clf.fit(X, Y)\n    # \u0627\u0644\u062d\u0635\u0648\u0644 \u0639\u0644\u0649 \u0627\u0644\u0641\u0627\u0635\u0644 \u0627\u0644\u0641\u0627\u0626\u0642\n    w = clf.coef_[0]\n    a = -w[0] / w[1]\n    xx = np.linspace(-5, 5)\n    yy = a * xx - (clf.intercept_[0]) / w[1]\n\n    # \u0631\u0633\u0645 \u0627\u0644\u0645\u062a\u0648\u0627\u0632\u064a\u0627\u062a \u0644\u0644\u0641\u0627\u0635\u0644 \u0627\u0644\u0641\u0627\u0626\u0642 \u0627\u0644\u062a\u064a \u062a\u0645\u0631 \u0639\u0628\u0631\n    # \u0627\u0644\u0645\u062a\u062c\u0647\u0627\u062a \u0627\u0644\u062f\u0627\u0639\u0645\u0629 (\u0627\u0644\u0647\u0627\u0645\u0634 \u0628\u0639\u064a\u062f\u064b\u0627 \u0639\u0646 \u0627\u0644\u0641\u0627\u0635\u0644 \u0627\u0644\u0641\u0627\u0626\u0642 \u0641\u064a \u0627\u0644\u0627\u062a\u062c\u0627\u0647\n    # \u0639\u0645\u0648\u062f\u064a \u0639\u0644\u0649 \u0627\u0644\u0641\u0627\u0635\u0644 \u0627\u0644\u0641\u0627\u0626\u0642). \u0647\u0630\u0627 \u0628\u0639\u064a\u062f\u064b\u0627 \u0639\u0645\u0648\u062f\u064a\u064b\u0627 \u0641\u064a\n    # 2-d.\n    margin = 1 / np.sqrt(np.sum(clf.coef_**2))\n    yy_down = yy - np.sqrt(1 + a**2) * margin\n    yy_up = yy + np.sqrt(1 + a**2) * margin\n\n    # \u0631\u0633\u0645 \u0627\u0644\u062e\u0637\u060c \u0648\u0627\u0644\u0646\u0642\u0627\u0637\u060c \u0648\u0623\u0642\u0631\u0628 \u0627\u0644\u0645\u062a\u062c\u0647\u0627\u062a \u0625\u0644\u0649 \u0627\u0644\u0645\u0633\u062a\u0648\u0649\n    plt.figure(fignum, figsize=(4, 3))\n    plt.clf()\n    plt.plot(xx, yy, \"k-\")\n    plt.plot(xx, yy_down, \"k--\")\n    plt.plot(xx, yy_up, \"k--\")\n\n    plt.scatter(\n        clf.support_vectors_[:, 0],\n        clf.support_vectors_[:, 1],\n        s=80,\n        facecolors=\"none\",\n        zorder=10,\n        edgecolors=\"k\",\n    )\n    plt.scatter(\n        X[:, 0], X[:, 1], c=Y, zorder=10, cmap=plt.get_cmap(\"RdBu\"), edgecolors=\"k\"\n    )\n\n    plt.axis(\"tight\")\n    x_min = -4.8\n    x_max = 4.2\n    y_min = -6\n    y_max = 6\n\n    YY, XX = np.meshgrid(yy, xx)\n    xy = np.vstack([XX.ravel(), YY.ravel()]).T\n    Z = clf.decision_function(xy).reshape(XX.shape)\n\n    # \u0648\u0636\u0639 \u0627\u0644\u0646\u062a\u064a\u062c\u0629 \u0641\u064a \u0645\u062e\u0637\u0637 \u0627\u0644\u0645\u064f\u062d\u064a\u0637\n    plt.contourf(XX, YY, Z, cmap=plt.get_cmap(\"RdBu\"), alpha=0.5, linestyles=[\"-\"])\n\n    plt.xlim(x_min, x_max)\n    plt.ylim(y_min, y_max)\n\n    plt.xticks(())\n    plt.yticks(())\n    fignum = fignum + 1\n\n    plt.show()"
      ]
    }
  ],
  "metadata": {
    "kernelspec": {
      "display_name": "Python 3",
      "language": "python",
      "name": "python3"
    },
    "language_info": {
      "codemirror_mode": {
        "name": "ipython",
        "version": 3
      },
      "file_extension": ".py",
      "mimetype": "text/x-python",
      "name": "python",
      "nbconvert_exporter": "python",
      "pygments_lexer": "ipython3",
      "version": "3.10.13"
    }
  },
  "nbformat": 4,
  "nbformat_minor": 0
}