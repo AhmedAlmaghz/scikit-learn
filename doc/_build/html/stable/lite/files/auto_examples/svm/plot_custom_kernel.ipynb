{
  "cells": [
    {
      "cell_type": "markdown",
      "metadata": {},
      "source": [
        "<div class='alert alert-warning'>\n\n# JupyterLite warning\n\nRunning the scikit-learn examples in JupyterLite is experimental and you may encounter some unexpected behavior.\n\nThe main difference is that imports will take a lot longer than usual, for example the first `import sklearn` can take roughly 10-20s.\n\nIf you notice problems, feel free to open an [issue](https://github.com/scikit-learn/scikit-learn/issues/new/choose) about it.\n</div>"
      ]
    },
    {
      "cell_type": "code",
      "execution_count": null,
      "metadata": {
        "collapsed": false
      },
      "outputs": [],
      "source": [
        "# JupyterLite-specific code\nimport matplotlib\nimport pandas"
      ]
    },
    {
      "cell_type": "markdown",
      "metadata": {},
      "source": [
        "\n# SVM \u0645\u0639 \u0646\u0648\u0627\u0629 \u0645\u062e\u0635\u0635\u0629\n\n\u0627\u0633\u062a\u062e\u062f\u0627\u0645 \u0628\u0633\u064a\u0637 \u0644\u0622\u0644\u0629 \u0627\u0644\u0645\u062a\u062c\u0647\u0627\u062a \u0627\u0644\u062f\u0627\u0639\u0645\u0629 \u0644\u062a\u0635\u0646\u064a\u0641 \u0639\u064a\u0646\u0629. \u0633\u064a\u0642\u0648\u0645\n\u0628\u0631\u0633\u0645 \u0633\u0637\u062d \u0627\u0644\u0642\u0631\u0627\u0631 \u0648\u0646\u0627\u0642\u0644\u0627\u062a \u0627\u0644\u062f\u0639\u0645.\n"
      ]
    },
    {
      "cell_type": "code",
      "execution_count": null,
      "metadata": {
        "collapsed": false
      },
      "outputs": [],
      "source": [
        "# \u0627\u0644\u0645\u0624\u0644\u0641\u0648\u0646: \u0645\u0637\u0648\u0631\u064a \u0633\u0643\u0627\u064a\u0644\u0631\u0646\n# \u0645\u0639\u0631\u0641 \u0627\u0644\u062a\u0631\u062e\u064a\u0635: BSD-3-Clause\n\nimport matplotlib.pyplot as plt\nimport numpy as np\n\nfrom sklearn import datasets, svm\nfrom sklearn.inspection import DecisionBoundaryDisplay\n\n# \u0627\u0633\u062a\u064a\u0631\u0627\u062f \u0628\u0639\u0636 \u0627\u0644\u0628\u064a\u0627\u0646\u0627\u062a \u0644\u0644\u062a\u062c\u0631\u0628\u0629\niris = datasets.load_iris()\nX = iris.data[:, :2]  # \u0646\u0623\u062e\u0630 \u0641\u0642\u0637 \u0627\u0644\u062e\u0627\u0635\u064a\u062a\u064a\u0646 \u0627\u0644\u0623\u0648\u0644\u064a\u064a\u0646. \u064a\u0645\u0643\u0646\u0646\u0627\n# \u062a\u062c\u0646\u0628 \u0647\u0630\u0627 \u0627\u0644\u062a\u0642\u0637\u064a\u0639 \u063a\u064a\u0631 \u0627\u0644\u062c\u0630\u0627\u0628 \u0628\u0627\u0633\u062a\u062e\u062f\u0627\u0645 \u0645\u062c\u0645\u0648\u0639\u0629 \u0628\u064a\u0627\u0646\u0627\u062a \u062b\u0646\u0627\u0626\u064a\u0629 \u0627\u0644\u0623\u0628\u0639\u0627\u062f\nY = iris.target\n\n\ndef my_kernel(X, Y):\n    \"\"\"\n    \u0646\u0646\u0634\u0626 \u0646\u0648\u0627\u0629 \u0645\u062e\u0635\u0635\u0629:\n\n                 (2  0)\n    k(X, Y) = X  (    ) Y.T\n                 (0  1)\n    \"\"\"\n    M = np.array([[2, 0], [0, 1.0]])\n    return np.dot(np.dot(X, M), Y.T)\n\n\nh = 0.02  # \u062d\u062c\u0645 \u0627\u0644\u062e\u0637\u0648\u0629 \u0641\u064a \u0627\u0644\u0634\u0628\u0643\u0629\n\n# \u0646\u0646\u0634\u0626 \u0645\u062b\u0627\u0644\u0627\u064b \u0644\u0622\u0644\u0629 \u0627\u0644\u0645\u062a\u062c\u0647\u0627\u062a \u0627\u0644\u062f\u0627\u0639\u0645\u0629 \u0648\u0646\u0642\u0648\u0645 \u0628\u0636\u0628\u0637 \u0627\u0644\u0628\u064a\u0627\u0646\u0627\u062a.\nclf = svm.SVC(kernel=my_kernel)\nclf.fit(X, Y)\n\nax = plt.gca()\nDecisionBoundaryDisplay.from_estimator(\n    clf,\n    X,\n    cmap=plt.cm.Paired,\n    ax=ax,\n    response_method=\"predict\",\n    plot_method=\"pcolormesh\",\n    shading=\"auto\",\n)\n\n# \u0631\u0633\u0645 \u0646\u0642\u0627\u0637 \u0627\u0644\u062a\u062f\u0631\u064a\u0628 \u0623\u064a\u0636\u0627\u064b\nplt.scatter(X[:, 0], X[:, 1], c=Y, cmap=plt.cm.Paired, edgecolors=\"k\")\nplt.title(\"\u062a\u0635\u0646\u064a\u0641 \u0645\u0646 3 \u0641\u0626\u0627\u062a \u0628\u0627\u0633\u062a\u062e\u062f\u0627\u0645 \u0622\u0644\u0629 \u0627\u0644\u0645\u062a\u062c\u0647\u0627\u062a \u0627\u0644\u062f\u0627\u0639\u0645\u0629 \u0645\u0639 \u0646\u0648\u0627\u0629 \u0645\u062e\u0635\u0635\u0629\")\nplt.axis(\"tight\")\nplt.show()"
      ]
    }
  ],
  "metadata": {
    "kernelspec": {
      "display_name": "Python 3",
      "language": "python",
      "name": "python3"
    },
    "language_info": {
      "codemirror_mode": {
        "name": "ipython",
        "version": 3
      },
      "file_extension": ".py",
      "mimetype": "text/x-python",
      "name": "python",
      "nbconvert_exporter": "python",
      "pygments_lexer": "ipython3",
      "version": "3.10.13"
    }
  },
  "nbformat": 4,
  "nbformat_minor": 0
}