{
  "cells": [
    {
      "cell_type": "markdown",
      "metadata": {},
      "source": [
        "<div class='alert alert-warning'>\n\n# JupyterLite warning\n\nRunning the scikit-learn examples in JupyterLite is experimental and you may encounter some unexpected behavior.\n\nThe main difference is that imports will take a lot longer than usual, for example the first `import sklearn` can take roughly 10-20s.\n\nIf you notice problems, feel free to open an [issue](https://github.com/scikit-learn/scikit-learn/issues/new/choose) about it.\n</div>"
      ]
    },
    {
      "cell_type": "code",
      "execution_count": null,
      "metadata": {
        "collapsed": false
      },
      "outputs": [],
      "source": [
        "# JupyterLite-specific code\nimport matplotlib\nimport pandas"
      ]
    },
    {
      "cell_type": "markdown",
      "metadata": {},
      "source": [
        "\n# SVM: \u0627\u0644\u0645\u0633\u062a\u0648\u0649 \u0627\u0644\u0641\u0627\u0635\u0644 \u0630\u0648 \u0627\u0644\u0647\u0627\u0645\u0634 \u0627\u0644\u0623\u0642\u0635\u0649\n\n\u0627\u0631\u0633\u0645 \u0627\u0644\u0645\u0633\u062a\u0648\u0649 \u0627\u0644\u0641\u0627\u0635\u0644 \u0630\u0648 \u0627\u0644\u0647\u0627\u0645\u0634 \u0627\u0644\u0623\u0642\u0635\u0649 \u0636\u0645\u0646 \u0645\u062c\u0645\u0648\u0639\u0629 \u0628\u064a\u0627\u0646\u0627\u062a \u0642\u0627\u0628\u0644\u0629 \u0644\u0644\u0641\u0635\u0644 \u0645\u0646 \u0641\u0626\u062a\u064a\u0646 \u0628\u0627\u0633\u062a\u062e\u062f\u0627\u0645 \u0645\u0635\u0646\u0641 \u0622\u0644\u0629 \u0627\u0644\u0645\u062a\u062c\u0647\u0627\u062a \u0627\u0644\u062f\u0627\u0639\u0645\u0629 \u0645\u0639 \u0646\u0648\u0627\u0629 \u062e\u0637\u064a\u0629.\n"
      ]
    },
    {
      "cell_type": "code",
      "execution_count": null,
      "metadata": {
        "collapsed": false
      },
      "outputs": [],
      "source": [
        "# \u0627\u0644\u0645\u0624\u0644\u0641\u0648\u0646: \u0645\u0637\u0648\u0631\u064a \u0633\u0643\u0627\u064a\u0644\u0631\u0646\n# \u0645\u0639\u0631\u0641 \u0627\u0644\u062a\u0631\u062e\u064a\u0635: BSD-3-Clause\n\nimport matplotlib.pyplot as plt\n\nfrom sklearn import svm\nfrom sklearn.datasets import make_blobs\nfrom sklearn.inspection import DecisionBoundaryDisplay\n\n# \u0646\u0642\u0648\u0645 \u0628\u0625\u0646\u0634\u0627\u0621 40 \u0646\u0642\u0637\u0629 \u0642\u0627\u0628\u0644\u0629 \u0644\u0644\u0641\u0635\u0644\nX, y = make_blobs(n_samples=40, centers=2, random_state=6)\n\n# \u062a\u062f\u0631\u064a\u0628 \u0627\u0644\u0646\u0645\u0648\u0630\u062c\u060c \u0639\u062f\u0645 \u0627\u0633\u062a\u062e\u062f\u0627\u0645 \u0627\u0644\u062a\u0646\u0638\u064a\u0645 \u0644\u0623\u063a\u0631\u0627\u0636 \u0627\u0644\u062a\u0648\u0636\u064a\u062d\nclf = svm.SVC(kernel=\"linear\", C=1000)\nclf.fit(X, y)\n\nplt.scatter(X[:, 0], X[:, 1], c=y, s=30, cmap=plt.cm.Paired)\n\n# \u0631\u0633\u0645 \u062f\u0627\u0644\u0629 \u0627\u0644\u0642\u0631\u0627\u0631\nax = plt.gca()\nDecisionBoundaryDisplay.from_estimator(\n    clf,\n    X,\n    plot_method=\"contour\",\n    colors=\"k\",\n    levels=[-1, 0, 1],\n    alpha=0.5,\n    linestyles=[\"--\", \"-\", \"--\"],\n    ax=ax,\n)\n# \u0631\u0633\u0645 \u0627\u0644\u0645\u062a\u062c\u0647\u0627\u062a \u0627\u0644\u062f\u0627\u0639\u0645\u0629\nax.scatter(\n    clf.support_vectors_[:, 0],\n    clf.support_vectors_[:, 1],\n    s=100,\n    linewidth=1,\n    facecolors=\"none\",\n    edgecolors=\"k\",\n)\nplt.show()"
      ]
    }
  ],
  "metadata": {
    "kernelspec": {
      "display_name": "Python 3",
      "language": "python",
      "name": "python3"
    },
    "language_info": {
      "codemirror_mode": {
        "name": "ipython",
        "version": 3
      },
      "file_extension": ".py",
      "mimetype": "text/x-python",
      "name": "python",
      "nbconvert_exporter": "python",
      "pygments_lexer": "ipython3",
      "version": "3.10.13"
    }
  },
  "nbformat": 4,
  "nbformat_minor": 0
}