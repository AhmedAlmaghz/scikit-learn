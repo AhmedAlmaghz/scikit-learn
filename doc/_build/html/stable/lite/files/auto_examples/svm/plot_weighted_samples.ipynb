{
  "cells": [
    {
      "cell_type": "markdown",
      "metadata": {},
      "source": [
        "<div class='alert alert-warning'>\n\n# JupyterLite warning\n\nRunning the scikit-learn examples in JupyterLite is experimental and you may encounter some unexpected behavior.\n\nThe main difference is that imports will take a lot longer than usual, for example the first `import sklearn` can take roughly 10-20s.\n\nIf you notice problems, feel free to open an [issue](https://github.com/scikit-learn/scikit-learn/issues/new/choose) about it.\n</div>"
      ]
    },
    {
      "cell_type": "code",
      "execution_count": null,
      "metadata": {
        "collapsed": false
      },
      "outputs": [],
      "source": [
        "# JupyterLite-specific code\nimport matplotlib\nimport pandas"
      ]
    },
    {
      "cell_type": "markdown",
      "metadata": {},
      "source": [
        "\n# SVM: \u0627\u0644\u0639\u064a\u0646\u0627\u062a \u0630\u0627\u062a \u0627\u0644\u0623\u0648\u0632\u0627\u0646\n\n\u0631\u0633\u0645 \u062f\u0627\u0644\u0629 \u0627\u0644\u0642\u0631\u0627\u0631 \u0644\u0645\u062c\u0645\u0648\u0639\u0629 \u0628\u064a\u0627\u0646\u0627\u062a \u0630\u0627\u062a \u0623\u0648\u0632\u0627\u0646\u060c \u062d\u064a\u062b \u064a\u062a\u0646\u0627\u0633\u0628 \u062d\u062c\u0645 \u0627\u0644\u0646\u0642\u0627\u0637\n\u0645\u0639 \u0648\u0632\u0646\u0647\u0627.\n\n\u064a\u0639\u064a\u062f \u0627\u0644\u062a\u0648\u0632\u064a\u0646 \u0639\u064a\u0646\u0629 \u0625\u0639\u0627\u062f\u0629 \u0636\u0628\u0637 \u0645\u0639\u0627\u0645\u0644 C\u060c \u0645\u0645\u0627 \u064a\u0639\u0646\u064a \u0623\u0646 \u0627\u0644\u0645\u0635\u0646\u0641\n\u064a\u0631\u0643\u0632 \u0623\u0643\u062b\u0631 \u0639\u0644\u0649 \u0627\u0644\u062d\u0635\u0648\u0644 \u0639\u0644\u0649 \u0647\u0630\u0647 \u0627\u0644\u0646\u0642\u0627\u0637 \u0628\u0634\u0643\u0644 \u0635\u062d\u064a\u062d. \u0642\u062f \u064a\u0643\u0648\u0646 \u0627\u0644\u062a\u0623\u062b\u064a\u0631 \u0641\u064a \u0643\u062b\u064a\u0631 \u0645\u0646 \u0627\u0644\u0623\u062d\u064a\u0627\u0646 \u062f\u0642\u064a\u0642\u064b\u0627.\n\u0644\u062a\u0623\u0643\u064a\u062f \u0627\u0644\u062a\u0623\u062b\u064a\u0631 \u0647\u0646\u0627\u060c \u0646\u062d\u0646 \u0646\u0639\u0637\u064a \u0623\u0648\u0632\u0627\u0646\u064b\u0627 \u0623\u0643\u0628\u0631 \u0644\u0644\u0628\u064a\u0627\u0646\u0627\u062a \u0627\u0644\u0634\u0627\u0630\u0629\u060c \u0645\u0645\u0627 \u064a\u062c\u0639\u0644\n\u062a\u0634\u0648\u0647 \u062d\u062f\u0648\u062f \u0627\u0644\u0642\u0631\u0627\u0631 \u0648\u0627\u0636\u062d\u064b\u0627 \u062c\u062f\u064b\u0627.\n"
      ]
    },
    {
      "cell_type": "code",
      "execution_count": null,
      "metadata": {
        "collapsed": false
      },
      "outputs": [],
      "source": [
        "# \u0627\u0644\u0645\u0624\u0644\u0641\u0648\u0646: \u0645\u0637\u0648\u0631\u064a \u0633\u0643\u0627\u064a\u0644\u0631\u0646\n# \u0645\u0639\u0631\u0641 \u0627\u0644\u062a\u0631\u062e\u064a\u0635: BSD-3-Clause\n\nimport matplotlib.pyplot as plt\nimport numpy as np\n\nfrom sklearn import svm\n\n\ndef plot_decision_function(classifier, sample_weight, axis, title):\n    # \u0631\u0633\u0645 \u062f\u0627\u0644\u0629 \u0627\u0644\u0642\u0631\u0627\u0631\n    xx, yy = np.meshgrid(np.linspace(-4, 5, 500), np.linspace(-4, 5, 500))\n\n    Z = classifier.decision_function(np.c_[xx.ravel(), yy.ravel()])\n    Z = Z.reshape(xx.shape)\n\n    # \u0631\u0633\u0645 \u0627\u0644\u062e\u0637\u060c \u0627\u0644\u0646\u0642\u0627\u0637\u060c \u0648\u0623\u0642\u0631\u0628 \u0627\u0644\u0645\u062a\u062c\u0647\u0627\u062a \u0625\u0644\u0649 \u0627\u0644\u0645\u0633\u062a\u0648\u0649\n    axis.contourf(xx, yy, Z, alpha=0.75, cmap=plt.cm.bone)\n    axis.scatter(\n        X[:, 0],\n        X[:, 1],\n        c=y,\n        s=100 * sample_weight,\n        alpha=0.9,\n        cmap=plt.cm.bone,\n        edgecolors=\"black\",\n    )\n\n    axis.axis(\"off\")\n    axis.set_title(title)\n\n\n# \u0646\u0642\u0648\u0645 \u0628\u0625\u0646\u0634\u0627\u0621 20 \u0646\u0642\u0637\u0629\nnp.random.seed(0)\nX = np.r_[np.random.randn(10, 2) + [1, 1], np.random.randn(10, 2)]\ny = [1] * 10 + [-1] * 10\nsample_weight_last_ten = abs(np.random.randn(len(X)))\nsample_weight_constant = np.ones(len(X))\n# \u0648\u0623\u0648\u0632\u0627\u0646 \u0623\u0643\u0628\u0631 \u0644\u0644\u0628\u064a\u0627\u0646\u0627\u062a \u0627\u0644\u0634\u0627\u0630\u0629\nsample_weight_last_ten[15:] *= 5\nsample_weight_last_ten[9] *= 15\n\n# \u062a\u062f\u0631\u064a\u0628 \u0627\u0644\u0646\u0645\u0627\u0630\u062c.\n\n# \u0647\u0630\u0627 \u0627\u0644\u0646\u0645\u0648\u0630\u062c \u0644\u0627 \u064a\u0623\u062e\u0630 \u0641\u064a \u0627\u0644\u0627\u0639\u062a\u0628\u0627\u0631 \u0623\u0648\u0632\u0627\u0646 \u0627\u0644\u0639\u064a\u0646\u0627\u062a.\nclf_no_weights = svm.SVC(gamma=1)\nclf_no_weights.fit(X, y)\n\n# \u0647\u0630\u0627 \u0627\u0644\u0646\u0645\u0648\u0630\u062c \u0627\u0644\u0622\u062e\u0631 \u064a\u0623\u062e\u0630 \u0641\u064a \u0627\u0644\u0627\u0639\u062a\u0628\u0627\u0631 \u0623\u0648\u0632\u0627\u0646 \u0627\u0644\u0639\u064a\u0646\u0627\u062a \u0627\u0644\u0645\u062e\u0635\u0635\u0629.\nclf_weights = svm.SVC(gamma=1)\nclf_weights.fit(X, y, sample_weight=sample_weight_last_ten)\n\nfig, axes = plt.subplots(1, 2, figsize=(14, 6))\nplot_decision_function(\n    clf_no_weights, sample_weight_constant, axes[0], \"\u0623\u0648\u0632\u0627\u0646 \u062b\u0627\u0628\u062a\u0629\"\n)\nplot_decision_function(clf_weights, sample_weight_last_ten, axes[1], \"\u0623\u0648\u0632\u0627\u0646 \u0645\u0639\u062f\u0644\u0629\")\n\nplt.show()"
      ]
    }
  ],
  "metadata": {
    "kernelspec": {
      "display_name": "Python 3",
      "language": "python",
      "name": "python3"
    },
    "language_info": {
      "codemirror_mode": {
        "name": "ipython",
        "version": 3
      },
      "file_extension": ".py",
      "mimetype": "text/x-python",
      "name": "python",
      "nbconvert_exporter": "python",
      "pygments_lexer": "ipython3",
      "version": "3.10.13"
    }
  },
  "nbformat": 4,
  "nbformat_minor": 0
}