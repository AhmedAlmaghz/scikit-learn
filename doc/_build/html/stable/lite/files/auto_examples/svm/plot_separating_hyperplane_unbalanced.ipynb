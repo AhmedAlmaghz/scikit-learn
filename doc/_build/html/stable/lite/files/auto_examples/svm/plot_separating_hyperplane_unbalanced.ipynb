{
  "cells": [
    {
      "cell_type": "markdown",
      "metadata": {},
      "source": [
        "<div class='alert alert-warning'>\n\n# JupyterLite warning\n\nRunning the scikit-learn examples in JupyterLite is experimental and you may encounter some unexpected behavior.\n\nThe main difference is that imports will take a lot longer than usual, for example the first `import sklearn` can take roughly 10-20s.\n\nIf you notice problems, feel free to open an [issue](https://github.com/scikit-learn/scikit-learn/issues/new/choose) about it.\n</div>"
      ]
    },
    {
      "cell_type": "code",
      "execution_count": null,
      "metadata": {
        "collapsed": false
      },
      "outputs": [],
      "source": [
        "# JupyterLite-specific code\nimport matplotlib\nimport pandas"
      ]
    },
    {
      "cell_type": "markdown",
      "metadata": {},
      "source": [
        "\n# SVM: \u0627\u0644\u0645\u0633\u062a\u0648\u064a \u0627\u0644\u0641\u0627\u0635\u0644 \u0644\u0644\u0637\u0628\u0642\u0627\u062a \u063a\u064a\u0631 \u0627\u0644\u0645\u062a\u0648\u0627\u0632\u0646\u0629\n\n\u0627\u0628\u062d\u062b \u0639\u0646 \u0627\u0644\u0645\u0633\u062a\u0648\u064a \u0627\u0644\u0641\u0627\u0635\u0644 \u0627\u0644\u0623\u0645\u062b\u0644 \u0628\u0627\u0633\u062a\u062e\u062f\u0627\u0645 SVC \u0644\u0644\u0637\u0628\u0642\u0627\u062a \u063a\u064a\u0631 \u0627\u0644\u0645\u062a\u0648\u0627\u0632\u0646\u0629.\n\n\u0646\u062d\u0646 \u0646\u062c\u062f \u0623\u0648\u0644\u0627\u064b \u0627\u0644\u0645\u0633\u062a\u0648\u064a \u0627\u0644\u0641\u0627\u0635\u0644 \u0628\u0627\u0633\u062a\u062e\u062f\u0627\u0645 SVC \u0627\u0644\u0639\u0627\u062f\u064a\u060c \u062b\u0645 \u0646\u0631\u0633\u0645 (\u0628\u062e\u0637 \u0645\u062a\u0642\u0637\u0639) \u0627\u0644\u0645\u0633\u062a\u0648\u064a \u0627\u0644\u0641\u0627\u0635\u0644 \u0645\u0639 \u062a\u0635\u062d\u064a\u062d \u062a\u0644\u0642\u0627\u0626\u064a \u0644\u0644\u0637\u0628\u0642\u0627\u062a \u063a\u064a\u0631 \u0627\u0644\u0645\u062a\u0648\u0627\u0632\u0646\u0629.\n\n.. currentmodule:: sklearn.linear_model\n\n<div class=\"alert alert-info\"><h4>Note</h4><p>\u064a\u0645\u0643\u0646 \u0623\u064a\u0636\u0627\u064b \u062a\u0646\u0641\u064a\u0630 \u0647\u0630\u0627 \u0627\u0644\u0645\u062b\u0627\u0644 \u0639\u0646 \u0637\u0631\u064a\u0642 \u0627\u0633\u062a\u0628\u062f\u0627\u0644 ``SVC(kernel=\"linear\")``\n    \u0628\u0640 ``SGDClassifier(loss=\"hinge\")``. \u062d\u064a\u062b \u0623\u0646 \u062a\u0639\u064a\u064a\u0646 \u0645\u0639\u0644\u0645\u0629 \"loss\"\n    \u0641\u064a :class:`SGDClassifier` \u0625\u0644\u0649 \"hinge\" \u0633\u064a\u0624\u062f\u064a \u0625\u0644\u0649 \u0633\u0644\u0648\u0643 \u0645\u0634\u0627\u0628\u0647\n    \u0644\u062a\u0635\u0646\u064a\u0641 SVC \u0645\u0639 \u0646\u0648\u0627\u0629 \u062e\u0637\u064a\u0629.\n\n    \u0639\u0644\u0649 \u0633\u0628\u064a\u0644 \u0627\u0644\u0645\u062b\u0627\u0644\u060c \u062c\u0631\u0628 \u0628\u062f\u0644\u0627\u064b \u0645\u0646 SVC::\n\n        clf = SGDClassifier(n_iter=100, alpha=0.01)</p></div>\n"
      ]
    },
    {
      "cell_type": "code",
      "execution_count": null,
      "metadata": {
        "collapsed": false
      },
      "outputs": [],
      "source": [
        "# \u0627\u0644\u0645\u0624\u0644\u0641\u0648\u0646: \u0645\u0637\u0648\u0631\u064a scikit-learn\n# \u0645\u0639\u0631\u0641 \u0627\u0644\u062a\u0631\u062e\u064a\u0635: BSD-3-Clause\n\nimport matplotlib.lines as mlines\nimport matplotlib.pyplot as plt\n\nfrom sklearn import svm\nfrom sklearn.datasets import make_blobs\nfrom sklearn.inspection import DecisionBoundaryDisplay\n\n# \u0646\u0642\u0648\u0645 \u0628\u0625\u0646\u0634\u0627\u0621 \u0645\u062c\u0645\u0648\u0639\u062a\u064a\u0646 \u0645\u0646 \u0627\u0644\u0646\u0642\u0627\u0637 \u0627\u0644\u0639\u0634\u0648\u0627\u0626\u064a\u0629\nn_samples_1 = 1000\nn_samples_2 = 100\ncenters = [[0.0, 0.0], [2.0, 2.0]]\nclusters_std = [1.5, 0.5]\nX, y = make_blobs(\n    n_samples=[n_samples_1, n_samples_2],\n    centers=centers,\n    cluster_std=clusters_std,\n    random_state=0,\n    shuffle=False,\n)\n\n# \u0646\u0642\u0648\u0645 \u0628\u0636\u0628\u0637 \u0627\u0644\u0646\u0645\u0648\u0630\u062c \u0648\u0627\u0644\u062d\u0635\u0648\u0644 \u0639\u0644\u0649 \u0627\u0644\u0645\u0633\u062a\u0648\u064a \u0627\u0644\u0641\u0627\u0635\u0644\nclf = svm.SVC(kernel=\"linear\", C=1.0)\nclf.fit(X, y)\n\n# \u0646\u0642\u0648\u0645 \u0628\u0636\u0628\u0637 \u0627\u0644\u0646\u0645\u0648\u0630\u062c \u0648\u0627\u0644\u062d\u0635\u0648\u0644 \u0639\u0644\u0649 \u0627\u0644\u0645\u0633\u062a\u0648\u064a \u0627\u0644\u0641\u0627\u0635\u0644 \u0628\u0627\u0633\u062a\u062e\u062f\u0627\u0645 \u0627\u0644\u0637\u0628\u0642\u0627\u062a \u0627\u0644\u0645\u0631\u062c\u062d\u0629\nwclf = svm.SVC(kernel=\"linear\", class_weight={1: 10})\nwclf.fit(X, y)\n\n# \u0631\u0633\u0645 \u0627\u0644\u0639\u064a\u0646\u0627\u062a\nplt.scatter(X[:, 0], X[:, 1], c=y, cmap=plt.cm.Paired, edgecolors=\"k\")\n\n# \u0631\u0633\u0645 \u062f\u0627\u0644\u0627\u062a \u0627\u0644\u0642\u0631\u0627\u0631 \u0644\u0643\u0644 \u0645\u0646 \u0627\u0644\u0645\u0635\u0646\u0641\u064a\u0646\nax = plt.gca()\ndisp = DecisionBoundaryDisplay.from_estimator(\n    clf,\n    X,\n    plot_method=\"contour\",\n    colors=\"k\",\n    levels=[0],\n    alpha=0.5,\n    linestyles=[\"-\"],\n    ax=ax,\n)\n\n# \u0631\u0633\u0645 \u062d\u062f\u0648\u062f \u0627\u0644\u0642\u0631\u0627\u0631 \u0648\u0627\u0644\u0647\u0648\u0627\u0645\u0634 \u0644\u0644\u0637\u0628\u0642\u0627\u062a \u0627\u0644\u0645\u0631\u062c\u062d\u0629\nwdisp = DecisionBoundaryDisplay.from_estimator(\n    wclf,\n    X,\n    plot_method=\"contour\",\n    colors=\"r\",\n    levels=[0],\n    alpha=0.5,\n    linestyles=[\"-\"],\n    ax=ax,\n)\n\nplt.legend(\n    [\n        mlines.Line2D([], [], color=\"k\", label=\"non weighted\"),\n        mlines.Line2D([], [], color=\"r\", label=\"weighted\"),\n    ],\n    [\"\u063a\u064a\u0631 \u0645\u0631\u062c\u062d\", \"\u0645\u0631\u062c\u062d\"],\n    loc=\"upper right\",\n)\nplt.show()"
      ]
    }
  ],
  "metadata": {
    "kernelspec": {
      "display_name": "Python 3",
      "language": "python",
      "name": "python3"
    },
    "language_info": {
      "codemirror_mode": {
        "name": "ipython",
        "version": 3
      },
      "file_extension": ".py",
      "mimetype": "text/x-python",
      "name": "python",
      "nbconvert_exporter": "python",
      "pygments_lexer": "ipython3",
      "version": "3.10.13"
    }
  },
  "nbformat": 4,
  "nbformat_minor": 0
}