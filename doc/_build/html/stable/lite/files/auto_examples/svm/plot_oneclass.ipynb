{
  "cells": [
    {
      "cell_type": "markdown",
      "metadata": {},
      "source": [
        "<div class='alert alert-warning'>\n\n# JupyterLite warning\n\nRunning the scikit-learn examples in JupyterLite is experimental and you may encounter some unexpected behavior.\n\nThe main difference is that imports will take a lot longer than usual, for example the first `import sklearn` can take roughly 10-20s.\n\nIf you notice problems, feel free to open an [issue](https://github.com/scikit-learn/scikit-learn/issues/new/choose) about it.\n</div>"
      ]
    },
    {
      "cell_type": "code",
      "execution_count": null,
      "metadata": {
        "collapsed": false
      },
      "outputs": [],
      "source": [
        "# JupyterLite-specific code\nimport matplotlib\nimport pandas"
      ]
    },
    {
      "cell_type": "markdown",
      "metadata": {},
      "source": [
        "\n# One-class SVM with non-linear kernel (RBF)\n\n\u0645\u062b\u0627\u0644 \u0644\u0627\u0633\u062a\u062e\u062f\u0627\u0645 SVM \u0623\u062d\u0627\u062f\u064a \u0627\u0644\u0641\u0626\u0629 \u0644\u0644\u0643\u0634\u0641 \u0639\u0646 \u0627\u0644\u0628\u064a\u0627\u0646\u0627\u062a \u0627\u0644\u0634\u0627\u0630\u0629.\n\n`One-class SVM <svm_outlier_detection>` \u0647\u0648 \u062e\u0648\u0627\u0631\u0632\u0645\u064a\u0629 \u063a\u064a\u0631 \u0645\u064f\u0634\u0631\u0641\u0629\n\u062a\u062a\u0639\u0644\u0645 \u062f\u0627\u0644\u0629 \u0627\u062a\u062e\u0627\u0630 \u0627\u0644\u0642\u0631\u0627\u0631 \u0644\u0644\u0643\u0634\u0641 \u0639\u0646 \u0627\u0644\u0628\u064a\u0627\u0646\u0627\u062a \u0627\u0644\u0634\u0627\u0630\u0629:\n\u062a\u0635\u0646\u064a\u0641 \u0627\u0644\u0628\u064a\u0627\u0646\u0627\u062a \u0627\u0644\u062c\u062f\u064a\u062f\u0629 \u0639\u0644\u0649 \u0623\u0646\u0647\u0627 \u0645\u0634\u0627\u0628\u0647\u0629 \u0623\u0648 \u0645\u062e\u062a\u0644\u0641\u0629 \u0644\u0645\u062c\u0645\u0648\u0639\u0629 \u0627\u0644\u0628\u064a\u0627\u0646\u0627\u062a \u0627\u0644\u062a\u062f\u0631\u064a\u0628\u064a\u0629.\n"
      ]
    },
    {
      "cell_type": "code",
      "execution_count": null,
      "metadata": {
        "collapsed": false
      },
      "outputs": [],
      "source": [
        "# \u0627\u0644\u0645\u0624\u0644\u0641\u0648\u0646: \u0645\u0637\u0648\u0631\u064a \u0645\u0643\u062a\u0628\u0629 \u0633\u0643\u0627\u064a\u0644\u0631\u0646\n# \u0645\u0639\u0631\u0641 \u0627\u0644\u062a\u0631\u062e\u064a\u0635: BSD-3-Clause"
      ]
    },
    {
      "cell_type": "code",
      "execution_count": null,
      "metadata": {
        "collapsed": false
      },
      "outputs": [],
      "source": [
        "import numpy as np\nfrom sklearn import svm\n\n# \u062a\u0648\u0644\u064a\u062f \u0628\u064a\u0627\u0646\u0627\u062a \u0627\u0644\u062a\u062f\u0631\u064a\u0628\nX = 0.3 * np.random.randn(100, 2)\nX_train = np.r_[X + 2, X - 2]\n# \u062a\u0648\u0644\u064a\u062f \u0628\u0639\u0636 \u0627\u0644\u0645\u0644\u0627\u062d\u0638\u0627\u062a \u0627\u0644\u0639\u0627\u062f\u064a\u0629 \u0627\u0644\u062c\u062f\u064a\u062f\u0629\nX = 0.3 * np.random.randn(20, 2)\nX_test = np.r_[X + 2, X - 2]\n# \u062a\u0648\u0644\u064a\u062f \u0628\u0639\u0636 \u0627\u0644\u0645\u0644\u0627\u062d\u0638\u0627\u062a \u0627\u0644\u0634\u0627\u0630\u0629 \u0627\u0644\u062c\u062f\u064a\u062f\u0629\nX_outliers = np.random.uniform(low=-4, high=4, size=(20, 2))\n\n# \u062a\u062f\u0631\u064a\u0628 \u0627\u0644\u0646\u0645\u0648\u0630\u062c\nclf = svm.OneClassSVM(nu=0.1, kernel=\"rbf\", gamma=0.1)\nclf.fit(X_train)\ny_pred_train = clf.predict(X_train)\ny_pred_test = clf.predict(X_test)\ny_pred_outliers = clf.predict(X_outliers)\nn_error_train = y_pred_train[y_pred_train == -1].size\nn_error_test = y_pred_test[y_pred_test == -1].size\nn_error_outliers = y_pred_outliers[y_pred_outliers == 1].size"
      ]
    },
    {
      "cell_type": "code",
      "execution_count": null,
      "metadata": {
        "collapsed": false
      },
      "outputs": [],
      "source": [
        "import matplotlib.font_manager\nimport matplotlib.lines as mlines\nimport matplotlib.pyplot as plt\n\nfrom sklearn.inspection import DecisionBoundaryDisplay\n\n_, ax = plt.subplots()\n\n# \u062a\u0648\u0644\u064a\u062f \u0634\u0628\u0643\u0629 \u0644\u0639\u0631\u0636 \u0627\u0644\u062d\u062f\u0648\u062f\nxx, yy = np.meshgrid(np.linspace(-5, 5, 10), np.linspace(-5, 5, 10))\nX = np.concatenate([xx.reshape(-1, 1), yy.reshape(-1, 1)], axis=1)\nDecisionBoundaryDisplay.from_estimator(\n    clf,\n    X,\n    response_method=\"decision_function\",\n    plot_method=\"contourf\",\n    ax=ax,\n    cmap=\"PuBu\",\n)\nDecisionBoundaryDisplay.from_estimator(\n    clf,\n    X,\n    response_method=\"decision_function\",\n    plot_method=\"contourf\",\n    ax=ax,\n    levels=[0, 10000],\n    colors=\"palevioletred\",\n)\nDecisionBoundaryDisplay.from_estimator(\n    clf,\n    X,\n    response_method=\"decision_function\",\n    plot_method=\"contour\",\n    ax=ax,\n    levels=[0],\n    colors=\"darkred\",\n    linewidths=2,\n)\n\ns = 40\nb1 = ax.scatter(X_train[:, 0], X_train[:, 1], c=\"white\", s=s, edgecolors=\"k\")\nb2 = ax.scatter(X_test[:, 0], X_test[:, 1], c=\"blueviolet\", s=s, edgecolors=\"k\")\nc = ax.scatter(X_outliers[:, 0], X_outliers[:, 1], c=\"gold\", s=s, edgecolors=\"k\")\nplt.legend(\n    [mlines.Line2D([], [], color=\"darkred\"), b1, b2, c],\n    [\n        \"learned frontier\",\n        \"training observations\",\n        \"new regular observations\",\n        \"new abnormal observations\",\n    ],\n    loc=\"upper left\",\n    prop=matplotlib.font_manager.FontProperties(size=11),\n)\nax.set(\n    xlabel=(\n        f\"error train: {n_error_train}/200 ; errors novel regular: {n_error_test}/40 ;\"\n        f\" errors novel abnormal: {n_error_outliers}/40\"\n    ),\n    title=\"Novelty Detection\",\n    xlim=(-5, 5),\n    ylim=(-5, 5),\n)\nplt.show()"
      ]
    }
  ],
  "metadata": {
    "kernelspec": {
      "display_name": "Python 3",
      "language": "python",
      "name": "python3"
    },
    "language_info": {
      "codemirror_mode": {
        "name": "ipython",
        "version": 3
      },
      "file_extension": ".py",
      "mimetype": "text/x-python",
      "name": "python",
      "nbconvert_exporter": "python",
      "pygments_lexer": "ipython3",
      "version": "3.10.13"
    }
  },
  "nbformat": 4,
  "nbformat_minor": 0
}