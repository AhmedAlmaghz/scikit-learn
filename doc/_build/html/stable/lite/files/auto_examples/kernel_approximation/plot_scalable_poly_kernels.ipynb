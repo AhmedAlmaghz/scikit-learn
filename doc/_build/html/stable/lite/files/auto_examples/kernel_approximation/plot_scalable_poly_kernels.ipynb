{
  "cells": [
    {
      "cell_type": "markdown",
      "metadata": {},
      "source": [
        "<div class='alert alert-warning'>\n\n# JupyterLite warning\n\nRunning the scikit-learn examples in JupyterLite is experimental and you may encounter some unexpected behavior.\n\nThe main difference is that imports will take a lot longer than usual, for example the first `import sklearn` can take roughly 10-20s.\n\nIf you notice problems, feel free to open an [issue](https://github.com/scikit-learn/scikit-learn/issues/new/choose) about it.\n</div>"
      ]
    },
    {
      "cell_type": "code",
      "execution_count": null,
      "metadata": {
        "collapsed": false
      },
      "outputs": [],
      "source": [
        "# JupyterLite-specific code\n%pip install pyodide-http\nimport pyodide_http\npyodide_http.patch_all()\nimport matplotlib\nimport pandas"
      ]
    },
    {
      "cell_type": "markdown",
      "metadata": {},
      "source": [
        "\n# \u0627\u0644\u062a\u0639\u0644\u0645 \u0627\u0644\u0642\u0627\u0628\u0644 \u0644\u0644\u062a\u0637\u0648\u064a\u0631 \u0645\u0639 \u062a\u0642\u0631\u064a\u0628 \u0646\u0648\u0627\u0629 \u0645\u062a\u0639\u062f\u062f\u0629 \u0627\u0644\u062d\u062f\u0648\u062f\n\n.. currentmodule:: sklearn.kernel_approximation\n\n\u064a\u0648\u0636\u062d \u0647\u0630\u0627 \u0627\u0644\u0645\u062b\u0627\u0644 \u0627\u0633\u062a\u062e\u062f\u0627\u0645 :class:`PolynomialCountSketch`\n\u0644\u062a\u0648\u0644\u064a\u062f \u062a\u0642\u0631\u064a\u0628\u0627\u062a \u0645\u0633\u0627\u062d\u0629 \u0645\u064a\u0632\u0627\u062a \u0646\u0648\u0627\u0629 \u0645\u062a\u0639\u062f\u062f\u0629 \u0627\u0644\u062d\u062f\u0648\u062f \u0628\u0643\u0641\u0627\u0621\u0629.\n\u064a\u062a\u0645 \u0627\u0633\u062a\u062e\u062f\u0627\u0645 \u0647\u0630\u0627 \u0644\u062a\u062f\u0631\u064a\u0628 \u0627\u0644\u0645\u0635\u0646\u0641\u0627\u062a \u0627\u0644\u062e\u0637\u064a\u0629 \u0627\u0644\u062a\u064a \u062a\u0642\u0627\u0631\u0628 \u062f\u0642\u0629\n\u0627\u0644\u062a\u0635\u0646\u064a\u0641\u0627\u062a \u0627\u0644\u0645\u064f\u0643\u064e\u0631\u064e\u0651\u0633\u064e\u0629.\n\n\u0646\u0633\u062a\u062e\u062f\u0645 \u0645\u062c\u0645\u0648\u0639\u0629 \u0628\u064a\u0627\u0646\u0627\u062a Covtype [2]\u060c \u0645\u062d\u0627\u0648\u0644\u064a\u0646 \u0625\u0639\u0627\u062f\u0629 \u0625\u0646\u062a\u0627\u062c \u0627\u0644\u062a\u062c\u0627\u0631\u0628 \u0639\u0644\u0649\n\u0627\u0644\u0648\u0631\u0642\u0629 \u0627\u0644\u0623\u0635\u0644\u064a\u0629 \u0644\u0640 Tensor Sketch [1]\u060c \u0623\u064a \u0627\u0644\u062e\u0648\u0627\u0631\u0632\u0645\u064a\u0629 \u0627\u0644\u062a\u064a \u064a\u0646\u0641\u0630\u0647\u0627\n:class:`PolynomialCountSketch`.\n\n\u0623\u0648\u0644\u0627\u064b\u060c \u0646\u062d\u0633\u0628 \u062f\u0642\u0629 \u0645\u0635\u0646\u0641 \u062e\u0637\u064a \u0639\u0644\u0649 \u0627\u0644\u0645\u064a\u0632\u0627\u062a \u0627\u0644\u0623\u0635\u0644\u064a\u0629. \u062b\u0645\u060c \u0646\u0642\u0648\u0645 \u0628\u062a\u062f\u0631\u064a\u0628 \u0627\u0644\u0645\u0635\u0646\u0641\u0627\u062a \u0627\u0644\u062e\u0637\u064a\u0629\n\u0639\u0644\u0649 \u0623\u0639\u062f\u0627\u062f \u0645\u062e\u062a\u0644\u0641\u0629 \u0645\u0646 \u0627\u0644\u0645\u064a\u0632\u0627\u062a (`n_components`) \u0627\u0644\u062a\u064a \u064a\u0648\u0644\u062f\u0647\u0627 :class:`PolynomialCountSketch`\u060c\n\u0645\u0645\u0627 \u064a\u0642\u0627\u0631\u0628 \u062f\u0642\u0629 \u0645\u0635\u0646\u0641 \u0645\u064f\u0643\u064e\u0631\u064e\u0651\u0633 \u0628\u0637\u0631\u064a\u0642\u0629 \u0642\u0627\u0628\u0644\u0629 \u0644\u0644\u062a\u0637\u0648\u064a\u0631.\n"
      ]
    },
    {
      "cell_type": "code",
      "execution_count": null,
      "metadata": {
        "collapsed": false
      },
      "outputs": [],
      "source": [
        "# \u0627\u0644\u0645\u0624\u0644\u0641\u0648\u0646: \u0645\u0637\u0648\u0631\u064a \u0633\u0643\u0627\u064a\u0644\u0631\u0646\n# \u0645\u0639\u0631\u0641 \u0627\u0644\u062a\u0631\u062e\u064a\u0635: BSD-3-Clause"
      ]
    },
    {
      "cell_type": "markdown",
      "metadata": {},
      "source": [
        "## \u0625\u0639\u062f\u0627\u062f \u0627\u0644\u0628\u064a\u0627\u0646\u0627\u062a\n\n\u062a\u062d\u0645\u064a\u0644 \u0645\u062c\u0645\u0648\u0639\u0629 \u0628\u064a\u0627\u0646\u0627\u062a Covtype\u060c \u0648\u0627\u0644\u062a\u064a \u062a\u062d\u062a\u0648\u064a \u0639\u0644\u0649 581,012 \u0639\u064a\u0646\u0629\n\u0645\u0639 54 \u0645\u064a\u0632\u0629 \u0644\u0643\u0644 \u0645\u0646\u0647\u0627\u060c \u0645\u0648\u0632\u0639\u0629 \u0639\u0644\u0649 6 \u0641\u0626\u0627\u062a. \u0647\u062f\u0641 \u0647\u0630\u0647 \u0627\u0644\u0645\u062c\u0645\u0648\u0639\u0629 \u0645\u0646 \u0627\u0644\u0628\u064a\u0627\u0646\u0627\u062a\n\u0647\u0648 \u0627\u0644\u062a\u0646\u0628\u0624 \u0628\u0646\u0648\u0639 \u0627\u0644\u063a\u0637\u0627\u0621 \u0627\u0644\u062d\u0631\u062c \u0645\u0646 \u0627\u0644\u0645\u062a\u063a\u064a\u0631\u0627\u062a \u0627\u0644\u0643\u0627\u0631\u062a\u0648\u062c\u0631\u0627\u0641\u064a\u0629 \u0641\u0642\u0637\n(\u0644\u0627 \u062a\u0648\u062c\u062f \u0628\u064a\u0627\u0646\u0627\u062a \u0645\u0633\u062a\u0634\u0639\u0631\u0629 \u0639\u0646 \u0628\u0639\u062f). \u0628\u0639\u062f \u0627\u0644\u062a\u062d\u0645\u064a\u0644\u060c \u0646\u062d\u0648\u0644\u0647\u0627 \u0625\u0644\u0649 \u0645\u0634\u0643\u0644\u0629 \u062a\u0635\u0646\u064a\u0641 \u062b\u0646\u0627\u0626\u064a\n\u0644\u0645\u0637\u0627\u0628\u0642\u0629 \u0625\u0635\u062f\u0627\u0631 \u0645\u062c\u0645\u0648\u0639\u0629 \u0627\u0644\u0628\u064a\u0627\u0646\u0627\u062a \u0641\u064a\n\u0635\u0641\u062d\u0629 LIBSVM [2]\u060c \u0648\u0627\u0644\u062a\u064a \u0643\u0627\u0646\u062a \u0647\u064a \u0627\u0644\u0645\u0633\u062a\u062e\u062f\u0645\u0629 \u0641\u064a [1].\n\n"
      ]
    },
    {
      "cell_type": "code",
      "execution_count": null,
      "metadata": {
        "collapsed": false
      },
      "outputs": [],
      "source": [
        "from sklearn.datasets import fetch_covtype\n\nX, y = fetch_covtype(return_X_y=True)\n\ny[y != 2] = 0\ny[y == 2] = 1  # \u0633\u0646\u062d\u0627\u0648\u0644 \u0641\u0635\u0644 \u0627\u0644\u0641\u0626\u0629 2 \u0639\u0646 \u0627\u0644\u0641\u0626\u0627\u062a \u0627\u0644\u0633\u062a \u0627\u0644\u0623\u062e\u0631\u0649."
      ]
    },
    {
      "cell_type": "markdown",
      "metadata": {},
      "source": [
        "## \u062a\u0642\u0633\u064a\u0645 \u0627\u0644\u0628\u064a\u0627\u0646\u0627\u062a\n\n\u0647\u0646\u0627 \u0646\u062e\u062a\u0627\u0631 5,000 \u0639\u064a\u0646\u0629 \u0644\u0644\u062a\u062f\u0631\u064a\u0628 \u064810,000 \u0644\u0644\u0627\u062e\u062a\u0628\u0627\u0631.\n\u0644\u062a\u0643\u0631\u0627\u0631 \u0646\u062a\u0627\u0626\u062c \u0627\u0644\u0648\u0631\u0642\u0629 \u0627\u0644\u0623\u0635\u0644\u064a\u0629 \u0644\u0640 Tensor Sketch\u060c\n\u0627\u062e\u062a\u0631 100,000 \u0644\u0644\u062a\u062f\u0631\u064a\u0628.\n\n"
      ]
    },
    {
      "cell_type": "code",
      "execution_count": null,
      "metadata": {
        "collapsed": false
      },
      "outputs": [],
      "source": [
        "from sklearn.model_selection import train_test_split\n\nX_train, X_test, y_train, y_test = train_test_split(\n    X, y, train_size=5_000, test_size=10_000, random_state=42\n)"
      ]
    },
    {
      "cell_type": "markdown",
      "metadata": {},
      "source": [
        "## \u062a\u0637\u0628\u064a\u0639 \u0627\u0644\u0645\u064a\u0632\u0627\u062a\n\n\u0627\u0644\u0622\u0646 \u0646\u0642\u0648\u0645 \u0628\u062a\u0635\u063a\u064a\u0631 \u0627\u0644\u0645\u064a\u0632\u0627\u062a \u0625\u0644\u0649 \u0627\u0644\u0646\u0637\u0627\u0642 [0, 1] \u0644\u0645\u0637\u0627\u0628\u0642\u0629 \u062a\u0646\u0633\u064a\u0642 \u0645\u062c\u0645\u0648\u0639\u0629 \u0627\u0644\u0628\u064a\u0627\u0646\u0627\u062a \u0641\u064a\n\u0635\u0641\u062d\u0629 LIBSVM\u060c \u062b\u0645 \u0646\u0642\u0648\u0645 \u0628\u062a\u0637\u0628\u064a\u0639\u0647\u0627 \u0625\u0644\u0649 \u0637\u0648\u0644 \u0627\u0644\u0648\u062d\u062f\u0629 \u0643\u0645\u0627 \u0647\u0648 \u0627\u0644\u062d\u0627\u0644 \u0641\u064a\n\u0627\u0644\u0648\u0631\u0642\u0629 \u0627\u0644\u0623\u0635\u0644\u064a\u0629 \u0644\u0640 Tensor Sketch [1].\n\n"
      ]
    },
    {
      "cell_type": "code",
      "execution_count": null,
      "metadata": {
        "collapsed": false
      },
      "outputs": [],
      "source": [
        "from sklearn.pipeline import make_pipeline\nfrom sklearn.preprocessing import MinMaxScaler, Normalizer\n\nmm = make_pipeline(MinMaxScaler(), Normalizer())\nX_train = mm.fit_transform(X_train)\nX_test = mm.transform(X_test)"
      ]
    },
    {
      "cell_type": "markdown",
      "metadata": {},
      "source": [
        "## \u0625\u0646\u0634\u0627\u0621 \u0646\u0645\u0648\u0630\u062c \u062e\u0637 \u0627\u0644\u0623\u0633\u0627\u0633\n\n\u0643\u062a\u062f\u0631\u064a\u0628 \u062e\u0637 \u0627\u0644\u0623\u0633\u0627\u0633\u060c \u0646\u0642\u0648\u0645 \u0628\u062a\u062f\u0631\u064a\u0628 SVM \u0627\u0644\u062e\u0637\u064a \u0639\u0644\u0649 \u0627\u0644\u0645\u064a\u0632\u0627\u062a \u0627\u0644\u0623\u0635\u0644\u064a\u0629 \u0648\u0637\u0628\u0627\u0639\u0629\n\u0627\u0644\u062f\u0642\u0629. \u0646\u0642\u0648\u0645 \u0623\u064a\u0636\u064b\u0627 \u0628\u0642\u064a\u0627\u0633 \u0648\u062a\u062e\u0632\u064a\u0646 \u0627\u0644\u062f\u0642\u0629 \u0648\u0623\u0648\u0642\u0627\u062a \u0627\u0644\u062a\u062f\u0631\u064a\u0628\n\u0644\u0631\u0633\u0645\u0647\u0627 \u0644\u0627\u062d\u0642\u064b\u0627.\n\n"
      ]
    },
    {
      "cell_type": "code",
      "execution_count": null,
      "metadata": {
        "collapsed": false
      },
      "outputs": [],
      "source": [
        "import time\n\nfrom sklearn.svm import LinearSVC\n\nresults = {}\n\nlsvm = LinearSVC()\nstart = time.time()\nlsvm.fit(X_train, y_train)\nlsvm_time = time.time() - start\nlsvm_score = 100 * lsvm.score(X_test, y_test)\n\nresults[\"LSVM\"] = {\"time\": lsvm_time, \"score\": lsvm_score}\nprint(f\"Linear SVM score on raw features: {lsvm_score:.2f}%\")"
      ]
    },
    {
      "cell_type": "markdown",
      "metadata": {},
      "source": [
        "## \u0625\u0646\u0634\u0627\u0621 \u0646\u0645\u0648\u0630\u062c \u062a\u0642\u0631\u064a\u0628 \u0627\u0644\u0646\u0648\u0627\u0629\n\n\u062b\u0645 \u0646\u0642\u0648\u0645 \u0628\u062a\u062f\u0631\u064a\u0628 SVM \u0627\u0644\u062e\u0637\u064a\u0629 \u0639\u0644\u0649 \u0627\u0644\u0645\u064a\u0632\u0627\u062a \u0627\u0644\u062a\u064a \u064a\u0648\u0644\u062f\u0647\u0627\n:class:`PolynomialCountSketch` \u0645\u0639 \u0642\u064a\u0645 \u0645\u062e\u062a\u0644\u0641\u0629 \u0644\u0640 `n_components`\u060c\n\u0645\u0645\u0627 \u064a\u064f\u0638\u0647\u0631 \u0623\u0646 \u0647\u0630\u0647 \u0627\u0644\u062a\u0642\u0631\u064a\u0628\u0627\u062a \u0644\u0645\u064a\u0632\u0627\u062a \u0627\u0644\u0646\u0648\u0627\u0629 \u062a\u062d\u0633\u0646 \u062f\u0642\u0629\n\u0627\u0644\u062a\u0635\u0646\u064a\u0641 \u0627\u0644\u062e\u0637\u064a. \u0641\u064a \u0633\u064a\u0646\u0627\u0631\u064a\u0648\u0647\u0627\u062a \u0627\u0644\u062a\u0637\u0628\u064a\u0642 \u0627\u0644\u0646\u0645\u0648\u0630\u062c\u064a\u0629\u060c \u064a\u062c\u0628 \u0623\u0646 \u064a\u0643\u0648\u0646 `n_components`\n\u0623\u0643\u0628\u0631 \u0645\u0646 \u0639\u062f\u062f \u0627\u0644\u0645\u064a\u0632\u0627\u062a \u0641\u064a \u0627\u0644\u062a\u0645\u062b\u064a\u0644 \u0627\u0644\u0645\u062f\u062e\u0644\n\u0644\u062a\u062d\u0642\u064a\u0642 \u062a\u062d\u0633\u0646 \u0641\u064a\u0645\u0627 \u064a\u062a\u0639\u0644\u0642 \u0628\u0627\u0644\u062a\u0635\u0646\u064a\u0641 \u0627\u0644\u062e\u0637\u064a.\n\u0643\u0642\u0627\u0639\u062f\u0629 \u0639\u0627\u0645\u0629\u060c \u064a\u062a\u0645 \u062a\u062d\u0642\u064a\u0642 \u0627\u0644\u0623\u0645\u062b\u0644 \u0644\u062a\u0642\u064a\u064a\u0645 \u0627\u0644\u062f\u0631\u062c\u0627\u062a / \u062a\u0643\u0644\u0641\u0629 \u0648\u0642\u062a \u0627\u0644\u062a\u0634\u063a\u064a\u0644\n\u0639\u0627\u062f\u0629\u064b \u0639\u0646\u062f `n_components` = 10 * `n_features`\u060c \u0639\u0644\u0649 \u0627\u0644\u0631\u063a\u0645 \u0645\u0646 \u0623\u0646 \u0647\u0630\u0627\n\u0642\u062f \u064a\u0639\u062a\u0645\u062f \u0639\u0644\u0649 \u0645\u062c\u0645\u0648\u0639\u0629 \u0627\u0644\u0628\u064a\u0627\u0646\u0627\u062a \u0627\u0644\u0645\u062d\u062f\u062f\u0629 \u0627\u0644\u062a\u064a \u064a\u062a\u0645 \u0627\u0644\u062a\u0639\u0627\u0645\u0644 \u0645\u0639\u0647\u0627. \u0644\u0627\u062d\u0638 \u0623\u0646\u0647\u060c \u0646\u0638\u0631\u064b\u0627 \u0644\u0623\u0646\n\u0627\u0644\u0639\u064a\u0646\u0627\u062a \u0627\u0644\u0623\u0635\u0644\u064a\u0629 \u062a\u062d\u062a\u0648\u064a \u0639\u0644\u0649 54 \u0645\u064a\u0632\u0629\u060c \u0641\u0625\u0646 \u062e\u0631\u064a\u0637\u0629 \u0627\u0644\u0645\u064a\u0632\u0627\u062a \u0627\u0644\u0635\u0631\u064a\u062d\u0629 \u0644\u0646\u0648\u0627\u0629\n\u0645\u062a\u0639\u062f\u062f\u0629 \u0627\u0644\u062d\u062f\u0648\u062f \u0645\u0646 \u0627\u0644\u062f\u0631\u062c\u0629 \u0627\u0644\u0631\u0627\u0628\u0639\u0629 \u0633\u064a\u0643\u0648\u0646 \u0644\u0647\u0627 \u062d\u0648\u0627\u0644\u064a 8.5 \u0645\u0644\u064a\u0648\u0646 \u0645\u064a\u0632\u0629 (\u0628\u062f\u0642\u0629\u060c 54^4). \u0628\u0641\u0636\u0644 :class:`PolynomialCountSketch`\u060c \u064a\u0645\u0643\u0646\u0646\u0627\n\u062a\u0643\u062b\u064a\u0641 \u0645\u0639\u0638\u0645 \u0627\u0644\u0645\u0639\u0644\u0648\u0645\u0627\u062a \u0627\u0644\u062a\u0645\u064a\u064a\u0632\u064a\u0629 \u0644\u0645\u0633\u0627\u062d\u0629 \u0627\u0644\u0645\u064a\u0632\u0627\u062a \u062a\u0644\u0643 \u0641\u064a\n\u062a\u0645\u062b\u064a\u0644 \u0623\u0643\u062b\u0631 \u0625\u062d\u0643\u0627\u0645\u0627. \u0639\u0644\u0649 \u0627\u0644\u0631\u063a\u0645 \u0645\u0646 \u0623\u0646\u0646\u0627 \u0646\u062c\u0631\u064a \u0627\u0644\u062a\u062c\u0631\u0628\u0629 \u0645\u0631\u0629 \u0648\u0627\u062d\u062f\u0629 \u0641\u0642\u0637\n(`n_runs` = 1) \u0641\u064a \u0647\u0630\u0627 \u0627\u0644\u0645\u062b\u0627\u0644\u060c \u0641\u064a \u0627\u0644\u0645\u0645\u0627\u0631\u0633\u0629 \u0627\u0644\u0639\u0645\u0644\u064a\u0629 \u064a\u062c\u0628 \u062a\u0643\u0631\u0627\u0631 \u0627\u0644\u062a\u062c\u0631\u0628\u0629 \u0639\u062f\u0629\n\u0645\u0631\u0627\u062a \u0644\u0644\u062a\u0639\u0648\u064a\u0636 \u0639\u0646 \u0627\u0644\u0637\u0628\u064a\u0639\u0629 \u0627\u0644\u0639\u0634\u0648\u0627\u0626\u064a\u0629 \u0644\u0640 :class:`PolynomialCountSketch`.\n\n"
      ]
    },
    {
      "cell_type": "code",
      "execution_count": null,
      "metadata": {
        "collapsed": false
      },
      "outputs": [],
      "source": [
        "from sklearn.kernel_approximation import PolynomialCountSketch\n\nn_runs = 1\nN_COMPONENTS = [250, 500, 1000, 2000]\n\nfor n_components in N_COMPONENTS:\n    ps_lsvm_time = 0\n    ps_lsvm_score = 0\n    for _ in range(n_runs):\n        pipeline = make_pipeline(\n            PolynomialCountSketch(n_components=n_components, degree=4),\n            LinearSVC(),\n        )\n\n        start = time.time()\n        pipeline.fit(X_train, y_train)\n        ps_lsvm_time += time.time() - start\n        ps_lsvm_score += 100 * pipeline.score(X_test, y_test)\n\n    ps_lsvm_time /= n_runs\n    ps_lsvm_score /= n_runs\n\n    results[f\"LSVM + PS({n_components})\"] = {\n        \"time\": ps_lsvm_time,\n        \"score\": ps_lsvm_score,\n    }\n    print(\n        f\"Linear SVM score on {n_components} PolynomialCountSketch \"\n        + f\"features: {ps_lsvm_score:.2f}%\"\n    )"
      ]
    },
    {
      "cell_type": "markdown",
      "metadata": {},
      "source": [
        "## \u0625\u0646\u0634\u0627\u0621 \u0646\u0645\u0648\u0630\u062c SVM \u0627\u0644\u0645\u064f\u0643\u064e\u0631\u064e\u0651\u0633\n\n\u062a\u062f\u0631\u064a\u0628 SVM \u0627\u0644\u0645\u064f\u0643\u064e\u0631\u064e\u0651\u0633 \u0644\u0645\u0634\u0627\u0647\u062f\u0629 \u0645\u062f\u0649 \u062c\u0648\u062f\u0629 :class:`PolynomialCountSketch`\n\u0641\u064a \u062a\u0642\u0631\u064a\u0628 \u0623\u062f\u0627\u0621 \u0627\u0644\u0646\u0648\u0627\u0629. \u0628\u0627\u0644\u0637\u0628\u0639\u060c \u0642\u062f \u064a\u0633\u062a\u063a\u0631\u0642 \u0647\u0630\u0627\n\u0628\u0639\u0636 \u0627\u0644\u0648\u0642\u062a\u060c \u062d\u064a\u062b \u0623\u0646 \u0641\u0626\u0629 SVC \u0644\u062f\u064a\u0647\u0627 \u0642\u0627\u0628\u0644\u064a\u0629 \u0644\u0644\u062a\u0637\u0648\u064a\u0631 \u0646\u0633\u0628\u064a\u064b\u0627. \u0647\u0630\u0627 \u0647\u0648\n\u0627\u0644\u0633\u0628\u0628 \u0641\u064a \u0623\u0646 \u0645\u0642\u0627\u0631\u0628\u0627\u062a \u0627\u0644\u0646\u0648\u0627\u0629 \u0645\u0641\u064a\u062f\u0629 \u062c\u062f\u064b\u0627:\n\n"
      ]
    },
    {
      "cell_type": "code",
      "execution_count": null,
      "metadata": {
        "collapsed": false
      },
      "outputs": [],
      "source": [
        "from sklearn.svm import SVC\n\nksvm = SVC(C=500.0, kernel=\"poly\", degree=4, coef0=0, gamma=1.0)\n\nstart = time.time()\nksvm.fit(X_train, y_train)\nksvm_time = time.time() - start\nksvm_score = 100 * ksvm.score(X_test, y_test)\n\nresults[\"KSVM\"] = {\"time\": ksvm_time, \"score\": ksvm_score}\nprint(f\"Kernel-SVM score on raw features: {ksvm_score:.2f}%\")"
      ]
    },
    {
      "cell_type": "markdown",
      "metadata": {},
      "source": [
        "## \u0645\u0642\u0627\u0631\u0646\u0629 \u0627\u0644\u0646\u062a\u0627\u0626\u062c\n\n\u0623\u062e\u064a\u0631\u064b\u0627\u060c \u0642\u0645 \u0628\u0631\u0633\u0645 \u0646\u062a\u0627\u0626\u062c \u0627\u0644\u0637\u0631\u0642 \u0627\u0644\u0645\u062e\u062a\u0644\u0641\u0629 \u0645\u0642\u0627\u0628\u0644 \u0623\u0648\u0642\u0627\u062a \u062a\u062f\u0631\u064a\u0628\u0647\u0627. \u0643\u0645\u0627 \u064a\u0645\u0643\u0646\u0646\u0627 \u0623\u0646 \u0646\u0631\u0649\u060c\n\u064a\u062d\u0642\u0642 SVM \u0627\u0644\u0645\u064f\u0643\u064e\u0631\u064e\u0651\u0633 \u062f\u0642\u0629 \u0623\u0639\u0644\u0649\u060c\n\u0644\u0643\u0646 \u0648\u0642\u062a \u062a\u062f\u0631\u064a\u0628\u0647 \u0623\u0643\u0628\u0631 \u0628\u0643\u062b\u064a\u0631\u060c \u0648\u0627\u0644\u0623\u0647\u0645 \u0645\u0646 \u0630\u0644\u0643\u060c \u0633\u064a\u0646\u0645\u0648\n\u0628\u0634\u0643\u0644 \u0623\u0633\u0631\u0639 \u0625\u0630\u0627 \u0632\u0627\u062f \u0639\u062f\u062f \u0639\u064a\u0646\u0627\u062a \u0627\u0644\u062a\u062f\u0631\u064a\u0628.\n\n"
      ]
    },
    {
      "cell_type": "code",
      "execution_count": null,
      "metadata": {
        "collapsed": false
      },
      "outputs": [],
      "source": [
        "import matplotlib.pyplot as plt\n\nfig, ax = plt.subplots(figsize=(7, 7))\nax.scatter(\n    [\n        results[\"LSVM\"][\"time\"],\n    ],\n    [\n        results[\"LSVM\"][\"score\"],\n    ],\n    label=\"Linear SVM\",\n    c=\"green\",\n    marker=\"^\",\n)\n\nax.scatter(\n    [\n        results[\"LSVM + PS(250)\"][\"time\"],\n    ],\n    [\n        results[\"LSVM + PS(250)\"][\"score\"],\n    ],\n    label=\"Linear SVM + PolynomialCountSketch\",\n    c=\"blue\",\n)\n\nfor n_components in N_COMPONENTS:\n    ax.scatter(\n        [\n            results[f\"LSVM + PS({n_components})\"][\"time\"],\n        ],\n        [\n            results[f\"LSVM + PS({n_components})\"][\"score\"],\n        ],\n        c=\"blue\",\n    )\n    ax.annotate(\n        f\"n_comp.={n_components}\",\n        (\n            results[f\"LSVM + PS({n_components})\"][\"time\"],\n            results[f\"LSVM + PS({n_components})\"][\"score\"],\n        ),\n        xytext=(-30, 10),\n        textcoords=\"offset pixels\",\n    )\n\nax.scatter(\n    [\n        results[\"KSVM\"][\"time\"],\n    ],\n    [\n        results[\"KSVM\"][\"score\"],\n    ],\n    label=\"Kernel SVM\",\n    c=\"red\",\n    marker=\"x\",\n)\n\nax.set_xlabel(\"Training time (s)\")\nax.set_ylabel(\"Accuracy (%)\")\nax.legend()\nplt.show()"
      ]
    },
    {
      "cell_type": "markdown",
      "metadata": {},
      "source": [
        "### \u0627\u0644\u0645\u0631\u0627\u062c\u0639\n\n[1] Pham, Ninh and Rasmus Pagh. \"Fast and scalable polynomial kernels via\nexplicit feature maps.\" KDD '13 (2013).\nhttps://doi.org/10.1145/2487575.2487591\n\n[2] LIBSVM binary datasets repository\nhttps://www.csie.ntu.edu.tw/~cjlin/libsvmtools/datasets/binary.html\n"
      ]
    }
  ],
  "metadata": {
    "kernelspec": {
      "display_name": "Python 3",
      "language": "python",
      "name": "python3"
    },
    "language_info": {
      "codemirror_mode": {
        "name": "ipython",
        "version": 3
      },
      "file_extension": ".py",
      "mimetype": "text/x-python",
      "name": "python",
      "nbconvert_exporter": "python",
      "pygments_lexer": "ipython3",
      "version": "3.10.13"
    }
  },
  "nbformat": 4,
  "nbformat_minor": 0
}