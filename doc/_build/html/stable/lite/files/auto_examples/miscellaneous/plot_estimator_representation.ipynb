{
  "cells": [
    {
      "cell_type": "markdown",
      "metadata": {},
      "source": [
        "<div class='alert alert-warning'>\n\n# JupyterLite warning\n\nRunning the scikit-learn examples in JupyterLite is experimental and you may encounter some unexpected behavior.\n\nThe main difference is that imports will take a lot longer than usual, for example the first `import sklearn` can take roughly 10-20s.\n\nIf you notice problems, feel free to open an [issue](https://github.com/scikit-learn/scikit-learn/issues/new/choose) about it.\n</div>"
      ]
    },
    {
      "cell_type": "code",
      "execution_count": null,
      "metadata": {
        "collapsed": false
      },
      "outputs": [],
      "source": [
        "# JupyterLite-specific code\nimport matplotlib\nimport pandas"
      ]
    },
    {
      "cell_type": "markdown",
      "metadata": {},
      "source": [
        "\n# \u0639\u0631\u0636 \u0627\u0644\u0645\u0646\u0645\u0630\u062c\u0627\u062a \u0648\u0623\u0646\u0627\u0628\u064a\u0628 \u0627\u0644\u062a\u0648\u0635\u064a\u0644 \u0627\u0644\u0645\u0639\u0642\u062f\u0629\n\n\u064a\u0648\u0636\u062d \u0647\u0630\u0627 \u0627\u0644\u0645\u062b\u0627\u0644 \u0637\u0631\u0642\u064b\u0627 \u0645\u062e\u062a\u0644\u0641\u0629 \u0644\u0639\u0631\u0636 \u0627\u0644\u0645\u0646\u0645\u0630\u062c\u0627\u062a \u0648\u0623\u0646\u0627\u0628\u064a\u0628 \u0627\u0644\u062a\u0648\u0635\u064a\u0644.\n"
      ]
    },
    {
      "cell_type": "code",
      "execution_count": null,
      "metadata": {
        "collapsed": false
      },
      "outputs": [],
      "source": [
        "# \u0627\u0644\u0645\u0624\u0644\u0641\u0648\u0646: \u0645\u0637\u0648\u0631\u064a scikit-learn\n# \u0645\u0639\u0631\u0641 \u0627\u0644\u062a\u0631\u062e\u064a\u0635: BSD-3-Clause\n\nfrom sklearn.compose import make_column_transformer\nfrom sklearn.impute import SimpleImputer\nfrom sklearn.linear_model import LogisticRegression\nfrom sklearn.pipeline import make_pipeline\nfrom sklearn.preprocessing import OneHotEncoder, StandardScaler"
      ]
    },
    {
      "cell_type": "markdown",
      "metadata": {},
      "source": [
        "## \u062a\u0645\u062b\u064a\u0644 \u0646\u0635\u064a \u0645\u0636\u063a\u0648\u0637\n\n\u0633\u062a\u0639\u0631\u0636 \u0627\u0644\u0645\u0646\u0645\u0630\u062c\u0627\u062a \u0641\u0642\u0637 \u0627\u0644\u0645\u0639\u0627\u0645\u0644\u0627\u062a \u0627\u0644\u062a\u064a \u062a\u0645 \u0636\u0628\u0637\u0647\u0627 \u0639\u0644\u0649 \u0642\u064a\u0645 \u063a\u064a\u0631 \u0627\u0641\u062a\u0631\u0627\u0636\u064a\u0629\n\u0639\u0646\u062f\u0645\u0627 \u064a\u062a\u0645 \u0639\u0631\u0636\u0647\u0627 \u0643\u0633\u0644\u0633\u0644\u0629 \u0646\u0635\u064a\u0629. \u0647\u0630\u0627 \u064a\u0642\u0644\u0644 \u0645\u0646 \u0627\u0644\u062a\u0634\u0648\u064a\u0634 \u0627\u0644\u0628\u0635\u0631\u064a \u0648\u064a\u062c\u0639\u0644 \u0645\u0646 \u0627\u0644\u0633\u0647\u0644\n\u0645\u0644\u0627\u062d\u0638\u0629 \u0627\u0644\u0627\u062e\u062a\u0644\u0627\u0641\u0627\u062a \u0639\u0646\u062f \u0645\u0642\u0627\u0631\u0646\u0629 \u0627\u0644\u062d\u0627\u0644\u0627\u062a.\n\n"
      ]
    },
    {
      "cell_type": "code",
      "execution_count": null,
      "metadata": {
        "collapsed": false
      },
      "outputs": [],
      "source": [
        "lr = LogisticRegression(penalty=\"l1\")\nprint(lr)"
      ]
    },
    {
      "cell_type": "markdown",
      "metadata": {},
      "source": [
        "## \u062a\u0645\u062b\u064a\u0644 HTML \u063a\u0646\u064a\n\u0641\u064a \u062f\u0641\u0627\u062a\u0631 \u0627\u0644\u0645\u0644\u0627\u062d\u0638\u0627\u062a\u060c \u0633\u062a\u0633\u062a\u062e\u062f\u0645 \u0627\u0644\u0645\u0646\u0645\u0630\u062c\u0627\u062a \u0648\u0623\u0646\u0627\u0628\u064a\u0628 \u0627\u0644\u062a\u0648\u0635\u064a\u0644 \u062a\u0645\u062b\u064a\u0644 HTML \u063a\u0646\u064a.\n\u0648\u0647\u0630\u0627 \u0645\u0641\u064a\u062f \u0628\u0634\u0643\u0644 \u062e\u0627\u0635 \u0644\u062a\u0644\u062e\u064a\u0635\n\u0628\u0646\u064a\u0629 \u0623\u0646\u0627\u0628\u064a\u0628 \u0627\u0644\u062a\u0648\u0635\u064a\u0644 \u0648\u0627\u0644\u0645\u0646\u0645\u0630\u062c\u0627\u062a \u0627\u0644\u0645\u0631\u0643\u0628\u0629 \u0627\u0644\u0623\u062e\u0631\u0649\u060c \u0645\u0639 \u0627\u0644\u062a\u0641\u0627\u0639\u0644 \u0644\u062a\u0648\u0641\u064a\u0631 \u0627\u0644\u062a\u0641\u0627\u0635\u064a\u0644.  \u0627\u0646\u0642\u0631 \u0639\u0644\u0649 \u0627\u0644\u0635\u0648\u0631\u0629 \u0627\u0644\u062a\u0648\u0636\u064a\u062d\u064a\u0629 \u0623\u062f\u0646\u0627\u0647 \u0644\u062a\u0648\u0633\u064a\u0639 \u0639\u0646\u0627\u0635\u0631 \u0623\u0646\u0628\u0648\u0628 \u0627\u0644\u062a\u0648\u0635\u064a\u0644.  \u0631\u0627\u062c\u0639: ref:`visualizing_composite_estimators` \u0644\u0645\u0639\u0631\u0641\u0629 \u0643\u064a\u0641\u064a\u0629 \u0627\u0633\u062a\u062e\u062f\u0627\u0645\n\u0647\u0630\u0647 \u0627\u0644\u0645\u064a\u0632\u0629.\n\n"
      ]
    },
    {
      "cell_type": "code",
      "execution_count": null,
      "metadata": {
        "collapsed": false
      },
      "outputs": [],
      "source": [
        "num_proc = make_pipeline(SimpleImputer(strategy=\"median\"), StandardScaler())\n\ncat_proc = make_pipeline(\n    SimpleImputer(strategy=\"constant\", fill_value=\"missing\"),\n    OneHotEncoder(handle_unknown=\"ignore\"),\n)\n\npreprocessor = make_column_transformer(\n    (num_proc, (\"feat1\", \"feat3\")), (cat_proc, (\"feat0\", \"feat2\"))\n)\n\nclf = make_pipeline(preprocessor, LogisticRegression())\nclf"
      ]
    }
  ],
  "metadata": {
    "kernelspec": {
      "display_name": "Python 3",
      "language": "python",
      "name": "python3"
    },
    "language_info": {
      "codemirror_mode": {
        "name": "ipython",
        "version": 3
      },
      "file_extension": ".py",
      "mimetype": "text/x-python",
      "name": "python",
      "nbconvert_exporter": "python",
      "pygments_lexer": "ipython3",
      "version": "3.10.13"
    }
  },
  "nbformat": 4,
  "nbformat_minor": 0
}