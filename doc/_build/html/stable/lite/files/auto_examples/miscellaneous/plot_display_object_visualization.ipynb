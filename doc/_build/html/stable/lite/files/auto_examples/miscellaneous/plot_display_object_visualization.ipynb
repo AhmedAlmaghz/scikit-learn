{
  "cells": [
    {
      "cell_type": "markdown",
      "metadata": {},
      "source": [
        "<div class='alert alert-warning'>\n\n# JupyterLite warning\n\nRunning the scikit-learn examples in JupyterLite is experimental and you may encounter some unexpected behavior.\n\nThe main difference is that imports will take a lot longer than usual, for example the first `import sklearn` can take roughly 10-20s.\n\nIf you notice problems, feel free to open an [issue](https://github.com/scikit-learn/scikit-learn/issues/new/choose) about it.\n</div>"
      ]
    },
    {
      "cell_type": "code",
      "execution_count": null,
      "metadata": {
        "collapsed": false
      },
      "outputs": [],
      "source": [
        "# JupyterLite-specific code\n%pip install pyodide-http\nimport pyodide_http\npyodide_http.patch_all()\nimport matplotlib\nimport pandas"
      ]
    },
    {
      "cell_type": "markdown",
      "metadata": {},
      "source": [
        "\n# \u0627\u0644\u062a\u0635\u0648\u0631\u0627\u062a \u0628\u0627\u0633\u062a\u062e\u062f\u0627\u0645 \u0643\u0627\u0626\u0646\u0627\u062a \u0627\u0644\u0639\u0631\u0636\n\n.. currentmodule:: sklearn.metrics\n\n\u0641\u064a \u0647\u0630\u0627 \u0627\u0644\u0645\u062b\u0627\u0644\u060c \u0633\u0646\u0642\u0648\u0645 \u0628\u0625\u0646\u0634\u0627\u0621 \u0643\u0627\u0626\u0646\u0627\u062a \u0639\u0631\u0636\u060c\n:class:`ConfusionMatrixDisplay`\u060c :class:`RocCurveDisplay`\u060c \u0648\n:class:`PrecisionRecallDisplay` \u0645\u0628\u0627\u0634\u0631\u0629 \u0645\u0646 \u0645\u0642\u0627\u064a\u064a\u0633\u0647\u0627 \u0627\u0644\u062e\u0627\u0635\u0629. \u0647\u0630\u0627\n\u0628\u062f\u064a\u0644 \u0644\u0627\u0633\u062a\u062e\u062f\u0627\u0645 \u0648\u0638\u0627\u0626\u0641 \u0627\u0644\u0631\u0633\u0645 \u0627\u0644\u062e\u0627\u0635\u0629 \u0628\u0647\u0627 \u0639\u0646\u062f\u0645\u0627\n\u062a\u0643\u0648\u0646 \u062a\u0646\u0628\u0624\u0627\u062a \u0627\u0644\u0646\u0645\u0648\u0630\u062c \u0645\u062d\u0633\u0648\u0628\u0629 \u0628\u0627\u0644\u0641\u0639\u0644 \u0623\u0648 \u0645\u0643\u0644\u0641\u0629 \u0641\u064a \u0627\u0644\u062d\u0633\u0627\u0628. \u0644\u0627\u062d\u0638 \u0623\u0646\n\u0647\u0630\u0627 \u0627\u0633\u062a\u062e\u062f\u0627\u0645 \u0645\u062a\u0642\u062f\u0645\u060c \u0648\u0646\u062d\u0646 \u0646\u0648\u0635\u064a \u0639\u0645\u0648\u0645\u064b\u0627 \u0628\u0627\u0633\u062a\u062e\u062f\u0627\u0645 \u0648\u0638\u0627\u0626\u0641 \u0627\u0644\u0631\u0633\u0645 \u0627\u0644\u062e\u0627\u0635\u0629 \u0628\u0647\u0627.\n"
      ]
    },
    {
      "cell_type": "code",
      "execution_count": null,
      "metadata": {
        "collapsed": false
      },
      "outputs": [],
      "source": [
        "# \u0627\u0644\u0645\u0624\u0644\u0641\u0648\u0646: \u0645\u0637\u0648\u0631\u064a scikit-learn\n# SPDX-License-Identifier: BSD-3-Clause"
      ]
    },
    {
      "cell_type": "markdown",
      "metadata": {},
      "source": [
        "## \u062a\u062d\u0645\u064a\u0644 \u0627\u0644\u0628\u064a\u0627\u0646\u0627\u062a \u0648\u062a\u062f\u0631\u064a\u0628 \u0627\u0644\u0646\u0645\u0648\u0630\u062c\n\u0641\u064a \u0647\u0630\u0627 \u0627\u0644\u0645\u062b\u0627\u0644\u060c \u0646\u0642\u0648\u0645 \u0628\u062a\u062d\u0645\u064a\u0644 \u0645\u062c\u0645\u0648\u0639\u0629 \u0628\u064a\u0627\u0646\u0627\u062a \u0645\u0631\u0643\u0632 \u062e\u062f\u0645\u0629 \u0646\u0642\u0644 \u0627\u0644\u062f\u0645 \u0645\u0646\n[OpenML](https://www.openml.org/d/1464). \u0647\u0630\u0647 \u0645\u0634\u0643\u0644\u0629 \u062a\u0635\u0646\u064a\u0641 \u062b\u0646\u0627\u0626\u064a\n\u062d\u064a\u062b \u0627\u0644\u0647\u062f\u0641 \u0647\u0648 \u0645\u0627 \u0625\u0630\u0627 \u0643\u0627\u0646 \u0627\u0644\u0641\u0631\u062f \u0642\u062f \u062a\u0628\u0631\u0639 \u0628\u0627\u0644\u062f\u0645. \u062b\u0645 \u064a\u062a\u0645 \u062a\u0642\u0633\u064a\u0645\n\u0627\u0644\u0628\u064a\u0627\u0646\u0627\u062a \u0625\u0644\u0649 \u0645\u062c\u0645\u0648\u0639\u0629 \u0628\u064a\u0627\u0646\u0627\u062a \u062a\u062f\u0631\u064a\u0628 \u0648\u0627\u062e\u062a\u0628\u0627\u0631 \u0648\u064a\u062a\u0645 \u062a\u062b\u0628\u064a\u062a \u0627\u0644\u0627\u0646\u062d\u062f\u0627\u0631 \u0627\u0644\u0644\u0648\u062c\u0633\u062a\u064a\n\u0628\u0627\u0633\u062a\u062e\u062f\u0627\u0645 \u0645\u062c\u0645\u0648\u0639\u0629 \u0628\u064a\u0627\u0646\u0627\u062a \u0627\u0644\u062a\u062f\u0631\u064a\u0628.\n\n"
      ]
    },
    {
      "cell_type": "code",
      "execution_count": null,
      "metadata": {
        "collapsed": false
      },
      "outputs": [],
      "source": [
        "from sklearn.datasets import fetch_openml\nfrom sklearn.linear_model import LogisticRegression\nfrom sklearn.model_selection import train_test_split\nfrom sklearn.pipeline import make_pipeline\nfrom sklearn.preprocessing import StandardScaler\n\nX, y = fetch_openml(data_id=1464, return_X_y=True)\nX_train, X_test, y_train, y_test = train_test_split(X, y, stratify=y)\n\nclf = make_pipeline(StandardScaler(), LogisticRegression(random_state=0))\nclf.fit(X_train, y_train)"
      ]
    },
    {
      "cell_type": "markdown",
      "metadata": {},
      "source": [
        "### \u0625\u0646\u0634\u0627\u0621 :class:`ConfusionMatrixDisplay`\n\u0628\u0627\u0633\u062a\u062e\u062f\u0627\u0645 \u0627\u0644\u0646\u0645\u0648\u0630\u062c \u0627\u0644\u0645\u062f\u0631\u0628\u060c \u0646\u0642\u0648\u0645 \u0628\u062d\u0633\u0627\u0628 \u062a\u0646\u0628\u0624\u0627\u062a \u0627\u0644\u0646\u0645\u0648\u0630\u062c \u0639\u0644\u0649 \u0645\u062c\u0645\u0648\u0639\u0629 \u0627\u0644\u0627\u062e\u062a\u0628\u0627\u0631.\n\u064a\u062a\u0645 \u0627\u0633\u062a\u062e\u062f\u0627\u0645 \u0647\u0630\u0647 \u0627\u0644\u062a\u0646\u0628\u0624\u0627\u062a \u0644\u062d\u0633\u0627\u0628 \u0645\u0635\u0641\u0648\u0641\u0629 \u0627\u0644\u0627\u0631\u062a\u0628\u0627\u0643 \u0627\u0644\u062a\u064a\n\u064a\u062a\u0645 \u0631\u0633\u0645\u0647\u0627 \u0628\u0627\u0633\u062a\u062e\u062f\u0627\u0645 :class:`ConfusionMatrixDisplay`\n\n"
      ]
    },
    {
      "cell_type": "code",
      "execution_count": null,
      "metadata": {
        "collapsed": false
      },
      "outputs": [],
      "source": [
        "from sklearn.metrics import ConfusionMatrixDisplay, confusion_matrix\n\ny_pred = clf.predict(X_test)\ncm = confusion_matrix(y_test, y_pred)\n\ncm_display = ConfusionMatrixDisplay(cm).plot()"
      ]
    },
    {
      "cell_type": "markdown",
      "metadata": {},
      "source": [
        "### \u0625\u0646\u0634\u0627\u0621 :class:`RocCurveDisplay`\n\u064a\u062a\u0637\u0644\u0628 \u0645\u0646\u062d\u0646\u0649 ROC \u0625\u0645\u0627 \u0627\u0644\u0627\u062d\u062a\u0645\u0627\u0644\u0627\u062a \u0623\u0648 \u0642\u064a\u0645 \u0627\u0644\u0642\u0631\u0627\u0631 \u063a\u064a\u0631 \u0627\u0644\u0645\u062d\u062f\u062f\u0629\n\u0645\u0646 \u0627\u0644\u0645\u0642\u062f\u0631. \u0646\u0638\u0631\u064b\u0627 \u0644\u0623\u0646 \u0627\u0644\u0627\u0646\u062d\u062f\u0627\u0631 \u0627\u0644\u0644\u0648\u062c\u0633\u062a\u064a \u064a\u0648\u0641\u0631\n\u062f\u0627\u0644\u0629 \u0642\u0631\u0627\u0631\u060c \u0641\u0633\u0646\u0633\u062a\u062e\u062f\u0645\u0647\u0627 \u0644\u0631\u0633\u0645 \u0645\u0646\u062d\u0646\u0649 ROC:\n\n"
      ]
    },
    {
      "cell_type": "code",
      "execution_count": null,
      "metadata": {
        "collapsed": false
      },
      "outputs": [],
      "source": [
        "from sklearn.metrics import RocCurveDisplay, roc_curve\n\ny_score = clf.decision_function(X_test)\n\nfpr, tpr, _ = roc_curve(y_test, y_score, pos_label=clf.classes_[1])\nroc_display = RocCurveDisplay(fpr=fpr, tpr=tpr).plot()"
      ]
    },
    {
      "cell_type": "markdown",
      "metadata": {},
      "source": [
        "### \u0625\u0646\u0634\u0627\u0621 :class:`PrecisionRecallDisplay`\n\u0648\u0628\u0627\u0644\u0645\u062b\u0644\u060c \u064a\u0645\u0643\u0646 \u0631\u0633\u0645 \u0645\u0646\u062d\u0646\u0649 \u0627\u0644\u062f\u0642\u0629 \u0648\u0627\u0644\u0627\u0633\u062a\u062f\u0639\u0627\u0621 \u0628\u0627\u0633\u062a\u062e\u062f\u0627\u0645 `y_score` \u0645\u0646\n\u0623\u0642\u0633\u0627\u0645 \u0627\u0644\u062a\u0642\u062f\u064a\u0631 \u0627\u0644\u0633\u0627\u0628\u0642\u0629.\n\n"
      ]
    },
    {
      "cell_type": "code",
      "execution_count": null,
      "metadata": {
        "collapsed": false
      },
      "outputs": [],
      "source": [
        "from sklearn.metrics import PrecisionRecallDisplay, precision_recall_curve\n\nprec, recall, _ = precision_recall_curve(y_test, y_score, pos_label=clf.classes_[1])\npr_display = PrecisionRecallDisplay(precision=prec, recall=recall).plot()"
      ]
    },
    {
      "cell_type": "markdown",
      "metadata": {},
      "source": [
        "### \u062f\u0645\u062c \u0643\u0627\u0626\u0646\u0627\u062a \u0627\u0644\u0639\u0631\u0636 \u0641\u064a \u0631\u0633\u0645 \u0648\u0627\u062d\u062f\n\u062a\u0642\u0648\u0645 \u0643\u0627\u0626\u0646\u0627\u062a \u0627\u0644\u0639\u0631\u0636 \u0628\u062a\u062e\u0632\u064a\u0646 \u0627\u0644\u0642\u064a\u0645 \u0627\u0644\u0645\u062d\u0633\u0648\u0628\u0629 \u0627\u0644\u062a\u064a \u062a\u0645 \u062a\u0645\u0631\u064a\u0631\u0647\u0627 \u0643\u062d\u062c\u062c.\n\u064a\u0633\u0645\u062d \u0647\u0630\u0627 \u0628\u062f\u0645\u062c \u0627\u0644\u062a\u0635\u0648\u0631\u0627\u062a \u0628\u0633\u0647\u0648\u0644\u0629 \u0628\u0627\u0633\u062a\u062e\u062f\u0627\u0645 \u0648\u0627\u062c\u0647\u0629 \u0628\u0631\u0645\u062c\u0629 \u0627\u0644\u062a\u0637\u0628\u064a\u0642\u0627\u062a \u0627\u0644\u062e\u0627\u0635\u0629 \u0628\u0640 Matplotlib.\n\u0641\u064a \u0627\u0644\u0645\u062b\u0627\u0644 \u0627\u0644\u062a\u0627\u0644\u064a\u060c \u0646\u0642\u0648\u0645 \u0628\u0648\u0636\u0639 \u0627\u0644\u0639\u0631\u0648\u0636 \u0628\u062c\u0627\u0646\u0628 \u0628\u0639\u0636\u0647\u0627 \u0627\u0644\u0628\u0639\u0636 \u0641\u064a\n\u0635\u0641.\n\n"
      ]
    },
    {
      "cell_type": "code",
      "execution_count": null,
      "metadata": {
        "collapsed": false
      },
      "outputs": [],
      "source": [
        "import matplotlib.pyplot as plt\n\nfig, (ax1, ax2) = plt.subplots(1, 2, figsize=(12, 8))\n\nroc_display.plot(ax=ax1)\npr_display.plot(ax=ax2)\nplt.show()"
      ]
    }
  ],
  "metadata": {
    "kernelspec": {
      "display_name": "Python 3",
      "language": "python",
      "name": "python3"
    },
    "language_info": {
      "codemirror_mode": {
        "name": "ipython",
        "version": 3
      },
      "file_extension": ".py",
      "mimetype": "text/x-python",
      "name": "python",
      "nbconvert_exporter": "python",
      "pygments_lexer": "ipython3",
      "version": "3.10.13"
    }
  },
  "nbformat": 4,
  "nbformat_minor": 0
}