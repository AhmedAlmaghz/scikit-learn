{
  "cells": [
    {
      "cell_type": "markdown",
      "metadata": {},
      "source": [
        "<div class='alert alert-warning'>\n\n# JupyterLite warning\n\nRunning the scikit-learn examples in JupyterLite is experimental and you may encounter some unexpected behavior.\n\nThe main difference is that imports will take a lot longer than usual, for example the first `import sklearn` can take roughly 10-20s.\n\nIf you notice problems, feel free to open an [issue](https://github.com/scikit-learn/scikit-learn/issues/new/choose) about it.\n</div>"
      ]
    },
    {
      "cell_type": "code",
      "execution_count": null,
      "metadata": {
        "collapsed": false
      },
      "outputs": [],
      "source": [
        "# JupyterLite-specific code\nimport matplotlib\nimport pandas"
      ]
    },
    {
      "cell_type": "markdown",
      "metadata": {},
      "source": [
        "\n# \u0645\u0646\u062d\u0646\u0649 ROC \u0645\u0639 \u0648\u0627\u062c\u0647\u0629 \u0628\u0631\u0645\u062c\u0629 \u0627\u0644\u062a\u0637\u0628\u064a\u0642\u0627\u062a \u0644\u0644\u062a\u0635\u0648\u0631\n\u064a\u0639\u0631\u0651\u0641 Scikit-learn \u0648\u0627\u062c\u0647\u0629 \u0628\u0631\u0645\u062c\u0629 \u062a\u0637\u0628\u064a\u0642\u0627\u062a \u0628\u0633\u064a\u0637\u0629 \u0644\u0625\u0646\u0634\u0627\u0621 \u062a\u0635\u0648\u0631\u0627\u062a \u0644\u0644\u062a\u0639\u0644\u0645 \u0627\u0644\u0622\u0644\u064a. \u0627\u0644\u0645\u064a\u0632\u0627\u062a \u0627\u0644\u0631\u0626\u064a\u0633\u064a\u0629 \u0644\u0647\u0630\u0647 \u0627\u0644\u0648\u0627\u062c\u0647\u0629 \u0647\u064a \u0627\u0644\u0633\u0645\u0627\u062d \u0628\u0627\u0644\u0631\u0633\u0645 \u0627\u0644\u0633\u0631\u064a\u0639 \u0648\u0627\u0644\u062a\u0639\u062f\u064a\u0644\u0627\u062a \u0627\u0644\u0645\u0631\u0626\u064a\u0629 \u062f\u0648\u0646 \u0625\u0639\u0627\u062f\u0629 \u0627\u0644\u062d\u0633\u0627\u0628. \u0641\u064a \u0647\u0630\u0627 \u0627\u0644\u0645\u062b\u0627\u0644\u060c \u0633\u0648\u0641 \u0646\u0648\u0636\u062d \u0643\u064a\u0641\u064a\u0629 \u0627\u0633\u062a\u062e\u062f\u0627\u0645 \u0648\u0627\u062c\u0647\u0629 \u0628\u0631\u0645\u062c\u0629 \u0627\u0644\u062a\u0637\u0628\u064a\u0642\u0627\u062a \u0644\u0644\u062a\u0635\u0648\u0631 \u0645\u0646 \u062e\u0644\u0627\u0644 \u0645\u0642\u0627\u0631\u0646\u0629 \u0645\u0646\u062d\u0646\u064a\u0627\u062a ROC.\n"
      ]
    },
    {
      "cell_type": "code",
      "execution_count": null,
      "metadata": {
        "collapsed": false
      },
      "outputs": [],
      "source": [
        "# \u0627\u0644\u0645\u0624\u0644\u0641\u0648\u0646: \u0645\u0637\u0648\u0631\u064a scikit-learn\n# \u0645\u0639\u0631\u0641 SPDX-License: BSD-3-Clause"
      ]
    },
    {
      "cell_type": "markdown",
      "metadata": {},
      "source": [
        "## \u062a\u062d\u0645\u064a\u0644 \u0627\u0644\u0628\u064a\u0627\u0646\u0627\u062a \u0648\u062a\u062f\u0631\u064a\u0628 SVC\n\u0623\u0648\u0644\u0627\u064b\u060c \u0646\u0642\u0648\u0645 \u0628\u062a\u062d\u0645\u064a\u0644 \u0645\u062c\u0645\u0648\u0639\u0629 \u0628\u064a\u0627\u0646\u0627\u062a \u0627\u0644\u0646\u0628\u064a\u0630 \u0648\u062a\u062d\u0648\u064a\u0644\u0647\u0627 \u0625\u0644\u0649 \u0645\u0634\u0643\u0644\u0629 \u062a\u0635\u0646\u064a\u0641 \u062b\u0646\u0627\u0626\u064a. \u062b\u0645 \u0646\u0642\u0648\u0645 \u0628\u062a\u062f\u0631\u064a\u0628 \u0645\u0635\u0646\u0641 \u0646\u0627\u0642\u0644 \u0627\u0644\u062f\u0639\u0645 \u0639\u0644\u0649 \u0645\u062c\u0645\u0648\u0639\u0629 \u0628\u064a\u0627\u0646\u0627\u062a \u0627\u0644\u062a\u062f\u0631\u064a\u0628.\n\n"
      ]
    },
    {
      "cell_type": "code",
      "execution_count": null,
      "metadata": {
        "collapsed": false
      },
      "outputs": [],
      "source": [
        "import matplotlib.pyplot as plt\n\nfrom sklearn.datasets import load_wine\nfrom sklearn.ensemble import RandomForestClassifier\nfrom sklearn.metrics import RocCurveDisplay\nfrom sklearn.model_selection import train_test_split\nfrom sklearn.svm import SVC\n\nX, y = load_wine(return_X_y=True)\ny = y == 2\n\nX_train, X_test, y_train, y_test = train_test_split(X, y, random_state=42)\nsvc = SVC(random_state=42)\nsvc.fit(X_train, y_train)"
      ]
    },
    {
      "cell_type": "markdown",
      "metadata": {},
      "source": [
        "## \u0631\u0633\u0645 \u0645\u0646\u062d\u0646\u0649 ROC\n\u0628\u0639\u062f \u0630\u0644\u0643\u060c \u0646\u0631\u0633\u0645 \u0645\u0646\u062d\u0646\u0649 ROC \u0628\u0627\u0633\u062a\u062e\u062f\u0627\u0645 \u0645\u0643\u0627\u0644\u0645\u0629 \u0648\u0627\u062d\u062f\u0629 \u0644\u0640\n:func:`sklearn.metrics.RocCurveDisplay.from_estimator`. \u0627\u0644\u0643\u0627\u0626\u0646 `svc_disp` \u0627\u0644\u0630\u064a \u064a\u062a\u0645 \u0625\u0631\u062c\u0627\u0639\u0647 \u064a\u0633\u0645\u062d \u0644\u0646\u0627 \u0628\u0627\u0644\u0627\u0633\u062a\u0645\u0631\u0627\u0631 \u0641\u064a \u0627\u0633\u062a\u062e\u062f\u0627\u0645 \u0645\u0646\u062d\u0646\u0649 ROC \u0627\u0644\u0645\u062d\u0633\u0648\u0628 \u0628\u0627\u0644\u0641\u0639\u0644\n\u0644\u0640 SVC \u0641\u064a \u0627\u0644\u0631\u0633\u0648\u0645 \u0627\u0644\u0628\u064a\u0627\u0646\u064a\u0629 \u0627\u0644\u0645\u0633\u062a\u0642\u0628\u0644\u064a\u0629.\n\n"
      ]
    },
    {
      "cell_type": "code",
      "execution_count": null,
      "metadata": {
        "collapsed": false
      },
      "outputs": [],
      "source": [
        "svc_disp = RocCurveDisplay.from_estimator(svc, X_test, y_test)\nplt.show()"
      ]
    },
    {
      "cell_type": "markdown",
      "metadata": {},
      "source": [
        "## \u062a\u062f\u0631\u064a\u0628 \u063a\u0627\u0628\u0629 \u0639\u0634\u0648\u0627\u0626\u064a\u0629 \u0648\u0631\u0633\u0645 \u0645\u0646\u062d\u0646\u0649 ROC\n\u0646\u0642\u0648\u0645 \u0628\u062a\u062f\u0631\u064a\u0628 \u0645\u0635\u0646\u0641 \u0627\u0644\u063a\u0627\u0628\u0629 \u0627\u0644\u0639\u0634\u0648\u0627\u0626\u064a\u0629 \u0648\u0625\u0646\u0634\u0627\u0621 \u0631\u0633\u0645 \u0628\u064a\u0627\u0646\u064a \u064a\u0642\u0627\u0631\u0646\u0647 \u0628\u0645\u0646\u062d\u0646\u0649 ROC \u0644\u0640 SVC. \u0644\u0627\u062d\u0638 \u0643\u064a\u0641 \u0623\u0646 `svc_disp` \u064a\u0633\u062a\u062e\u062f\u0645\n:func:`~sklearn.metrics.RocCurveDisplay.plot` \u0644\u0631\u0633\u0645 \u0645\u0646\u062d\u0646\u0649 ROC \u0644\u0640 SVC\n\u062f\u0648\u0646 \u0625\u0639\u0627\u062f\u0629 \u062d\u0633\u0627\u0628 \u0642\u064a\u0645 \u0645\u0646\u062d\u0646\u0649 ROC \u0646\u0641\u0633\u0647. \u0639\u0644\u0627\u0648\u0629 \u0639\u0644\u0649 \u0630\u0644\u0643\u060c \u0646\u0642\u0648\u0645\n\u0628\u062a\u0645\u0631\u064a\u0631 `alpha=0.8` \u0625\u0644\u0649 \u062f\u0627\u0644\u0627\u062a \u0627\u0644\u0631\u0633\u0645 \u0644\u062a\u0639\u062f\u064a\u0644 \u0642\u064a\u0645 \u0623\u0644\u0641\u0627 \u0644\u0644\u0645\u0646\u062d\u0646\u064a\u0627\u062a.\n\n"
      ]
    },
    {
      "cell_type": "code",
      "execution_count": null,
      "metadata": {
        "collapsed": false
      },
      "outputs": [],
      "source": [
        "rfc = RandomForestClassifier(n_estimators=10, random_state=42)\nrfc.fit(X_train, y_train)\nax = plt.gca()\nrfc_disp = RocCurveDisplay.from_estimator(rfc, X_test, y_test, ax=ax, alpha=0.8)\nsvc_disp.plot(ax=ax, alpha=0.8)\nplt.show()"
      ]
    }
  ],
  "metadata": {
    "kernelspec": {
      "display_name": "Python 3",
      "language": "python",
      "name": "python3"
    },
    "language_info": {
      "codemirror_mode": {
        "name": "ipython",
        "version": 3
      },
      "file_extension": ".py",
      "mimetype": "text/x-python",
      "name": "python",
      "nbconvert_exporter": "python",
      "pygments_lexer": "ipython3",
      "version": "3.10.13"
    }
  },
  "nbformat": 4,
  "nbformat_minor": 0
}