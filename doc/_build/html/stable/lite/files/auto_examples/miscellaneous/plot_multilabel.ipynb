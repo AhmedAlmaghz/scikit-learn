{
  "cells": [
    {
      "cell_type": "markdown",
      "metadata": {},
      "source": [
        "<div class='alert alert-warning'>\n\n# JupyterLite warning\n\nRunning the scikit-learn examples in JupyterLite is experimental and you may encounter some unexpected behavior.\n\nThe main difference is that imports will take a lot longer than usual, for example the first `import sklearn` can take roughly 10-20s.\n\nIf you notice problems, feel free to open an [issue](https://github.com/scikit-learn/scikit-learn/issues/new/choose) about it.\n</div>"
      ]
    },
    {
      "cell_type": "code",
      "execution_count": null,
      "metadata": {
        "collapsed": false
      },
      "outputs": [],
      "source": [
        "# JupyterLite-specific code\nimport matplotlib\nimport pandas"
      ]
    },
    {
      "cell_type": "markdown",
      "metadata": {},
      "source": [
        "\n# \u0627\u0644\u062a\u0635\u0646\u064a\u0641 \u0645\u062a\u0639\u062f\u062f \u0627\u0644\u062a\u0635\u0646\u064a\u0641\u0627\u062a\n\n\u0647\u0630\u0627 \u0627\u0644\u0645\u062b\u0627\u0644 \u064a\u062d\u0627\u0643\u064a \u0645\u0634\u0643\u0644\u0629 \u062a\u0635\u0646\u064a\u0641 \u0627\u0644\u0645\u0633\u062a\u0646\u062f\u0627\u062a \u0645\u062a\u0639\u062f\u062f\u0629 \u0627\u0644\u062a\u0635\u0646\u064a\u0641\u0627\u062a. \u064a\u062a\u0645 \u062a\u0648\u0644\u064a\u062f \u0645\u062c\u0645\u0648\u0639\u0629 \u0627\u0644\u0628\u064a\u0627\u0646\u0627\u062a \u0628\u0634\u0643\u0644 \u0639\u0634\u0648\u0627\u0626\u064a \u0628\u0646\u0627\u0621\u064b \u0639\u0644\u0649 \u0627\u0644\u0639\u0645\u0644\u064a\u0629 \u0627\u0644\u062a\u0627\u0644\u064a\u0629:\n\n- \u0627\u062e\u062a\u064a\u0627\u0631 \u0639\u062f\u062f \u0627\u0644\u062a\u0635\u0646\u064a\u0641\u0627\u062a: n ~ Poisson(n_labels)\n- n \u0645\u0631\u0627\u062a\u060c \u0627\u062e\u062a\u064a\u0627\u0631 \u062a\u0635\u0646\u064a\u0641 c: c ~ Multinomial(theta)\n- \u0627\u062e\u062a\u064a\u0627\u0631 \u0637\u0648\u0644 \u0627\u0644\u0645\u0633\u062a\u0646\u062f: k ~ Poisson(length)\n- k \u0645\u0631\u0627\u062a\u060c \u0627\u062e\u062a\u064a\u0627\u0631 \u0643\u0644\u0645\u0629: w ~ Multinomial(theta_c)\n\n\u0641\u064a \u0627\u0644\u0639\u0645\u0644\u064a\u0629 \u0623\u0639\u0644\u0627\u0647\u060c \u064a\u062a\u0645 \u0627\u0633\u062a\u062e\u062f\u0627\u0645 \u0639\u064a\u0646\u0629 \u0627\u0644\u0631\u0641\u0636 \u0644\u0636\u0645\u0627\u0646 \u0623\u0646 n \u0623\u0643\u0628\u0631 \u0645\u0646 2\u060c \u0648\u0623\u0646 \u0637\u0648\u0644 \u0627\u0644\u0645\u0633\u062a\u0646\u062f \u0644\u0627 \u064a\u0643\u0648\u0646 \u0623\u0628\u062f\u064b\u0627 \u0635\u0641\u0631\u064b\u0627. \u0648\u0628\u0627\u0644\u0645\u062b\u0644\u060c \u0646\u0631\u0641\u0636 \u0627\u0644\u062a\u0635\u0646\u064a\u0641\u0627\u062a \u0627\u0644\u062a\u064a \u062a\u0645 \u0627\u062e\u062a\u064a\u0627\u0631\u0647\u0627 \u0628\u0627\u0644\u0641\u0639\u0644. \u064a\u062a\u0645 \u062a\u0645\u062b\u064a\u0644 \u0627\u0644\u0645\u0633\u062a\u0646\u062f\u0627\u062a \u0627\u0644\u062a\u064a \u062a\u0645 \u062a\u0639\u064a\u064a\u0646\u0647\u0627 \u0644\u0643\u0644\u0627 \u0627\u0644\u062a\u0635\u0646\u064a\u0641\u064a\u0646 \u0645\u062d\u0627\u0637\u0629 \u0628\u062f\u0627\u0626\u0631\u062a\u064a\u0646 \u0645\u0644\u0648\u0646\u062a\u064a\u0646.\n\n\u064a\u062a\u0645 \u062a\u0646\u0641\u064a\u0630 \u0627\u0644\u062a\u0635\u0646\u064a\u0641 \u0645\u0646 \u062e\u0644\u0627\u0644 \u0625\u0633\u0642\u0627\u0637\u0647 \u0639\u0644\u0649 \u0623\u0648\u0644 \u0645\u0643\u0648\u0646\u064a\u0646 \u0631\u0626\u064a\u0633\u064a\u064a\u0646 \u062a\u0645 \u0627\u0644\u0639\u062b\u0648\u0631 \u0639\u0644\u064a\u0647\u0645\u0627 \u0628\u0648\u0627\u0633\u0637\u0629 PCA \u0648CCA \u0644\u0623\u063a\u0631\u0627\u0636 \u0627\u0644\u0639\u0631\u0636 \u0627\u0644\u0645\u0631\u0626\u064a\u060c \u064a\u0644\u064a\u0647 \u0627\u0633\u062a\u062e\u062f\u0627\u0645\n\u0627\u0644\u062a\u0635\u0646\u064a\u0641 \u0627\u0644\u0641\u0627\u0626\u0642 :class:`~sklearn.multiclass.OneVsRestClassifier` \u0628\u0627\u0633\u062a\u062e\u062f\u0627\u0645 SVCs \u0645\u0639 \u0646\u0648\u0649 \u062e\u0637\u064a\u0629 \u0644\u062a\u0639\u0644\u0645 \u0646\u0645\u0648\u0630\u062c \u062a\u0645\u064a\u064a\u0632\u064a \u0644\u0643\u0644 \u062a\u0635\u0646\u064a\u0641.\n\u0645\u0644\u0627\u062d\u0638\u0629: \u064a\u062a\u0645 \u0627\u0633\u062a\u062e\u062f\u0627\u0645 PCA \u0644\u0625\u062c\u0631\u0627\u0621 \u062a\u0642\u0644\u064a\u0644 \u0623\u0628\u0639\u0627\u062f \u063a\u064a\u0631 \u0645\u0634\u0631\u0641\u060c \u0628\u064a\u0646\u0645\u0627 \u064a\u062a\u0645 \u0627\u0633\u062a\u062e\u062f\u0627\u0645 CCA \u0644\u0625\u062c\u0631\u0627\u0621 \u062a\u0642\u0644\u064a\u0644 \u0623\u0628\u0639\u0627\u062f \u0645\u0634\u0631\u0641.\n\n\u0645\u0644\u0627\u062d\u0638\u0629: \u0641\u064a \u0627\u0644\u0631\u0633\u0645 \u0627\u0644\u0628\u064a\u0627\u0646\u064a\u060c \u0644\u0627 \u062a\u0639\u0646\u064a \"\u0627\u0644\u0639\u064a\u0646\u0627\u062a \u063a\u064a\u0631 \u0627\u0644\u0645\u0635\u0646\u0641\u0629\" \u0623\u0646\u0646\u0627 \u0644\u0627 \u0646\u0639\u0631\u0641 \u0627\u0644\u062a\u0635\u0646\u064a\u0641\u0627\u062a (\u0643\u0645\u0627 \u0641\u064a \u0627\u0644\u062a\u0639\u0644\u0645 \u0634\u0628\u0647 \u0627\u0644\u0645\u0634\u0631\u0641)\u060c \u0648\u0644\u0643\u0646 \u0623\u0646 \u0627\u0644\u0639\u064a\u0646\u0627\u062a \u0628\u0628\u0633\u0627\u0637\u0629 \u0644\u0627 \u062a\u062d\u062a\u0648\u064a \u0639\u0644\u0649 \u062a\u0635\u0646\u064a\u0641.\n"
      ]
    },
    {
      "cell_type": "code",
      "execution_count": null,
      "metadata": {
        "collapsed": false
      },
      "outputs": [],
      "source": [
        "# \u0627\u0644\u0645\u0624\u0644\u0641\u0648\u0646: \u0645\u0637\u0648\u0631\u064a scikit-learn\n# \u0645\u0639\u0631\u0641 \u0627\u0644\u062a\u0631\u062e\u064a\u0635: BSD-3-Clause\n\nimport matplotlib.pyplot as plt\nimport numpy as np\n\nfrom sklearn.cross_decomposition import CCA\nfrom sklearn.datasets import make_multilabel_classification\nfrom sklearn.decomposition import PCA\nfrom sklearn.multiclass import OneVsRestClassifier\nfrom sklearn.svm import SVC\n\n\ndef plot_hyperplane(clf, min_x, max_x, linestyle, label):\n    # \u0627\u0644\u062d\u0635\u0648\u0644 \u0639\u0644\u0649 \u0627\u0644\u0645\u0633\u062a\u0648\u064a \u0627\u0644\u0641\u0627\u0635\u0644\n    w = clf.coef_[0]\n    a = -w[0] / w[1]\n    xx = np.linspace(min_x - 5, max_x + 5)  # \u0627\u0644\u062a\u0623\u0643\u062f \u0645\u0646 \u0623\u0646 \u0627\u0644\u062e\u0637 \u0637\u0648\u064a\u0644 \u0628\u0645\u0627 \u064a\u0643\u0641\u064a\n    yy = a * xx - (clf.intercept_[0]) / w[1]\n    plt.plot(xx, yy, linestyle, label=label)\n\n\ndef plot_subfigure(X, Y, subplot, title, transform):\n    if transform == \"pca\":\n        X = PCA(n_components=2).fit_transform(X)\n    elif transform == \"cca\":\n        X = CCA(n_components=2).fit(X, Y).transform(X)\n    else:\n        raise ValueError\n\n    min_x = np.min(X[:, 0])\n    max_x = np.max(X[:, 0])\n\n    min_y = np.min(X[:, 1])\n    max_y = np.max(X[:, 1])\n\n    classif = OneVsRestClassifier(SVC(kernel=\"linear\"))\n    classif.fit(X, Y)\n\n    plt.subplot(2, 2, subplot)\n    plt.title(title)\n\n    zero_class = np.where(Y[:, 0])\n    one_class = np.where(Y[:, 1])\n    plt.scatter(X[:, 0], X[:, 1], s=40, c=\"gray\", edgecolors=(0, 0, 0))\n    plt.scatter(\n        X[zero_class, 0],\n        X[zero_class, 1],\n        s=160,\n        edgecolors=\"b\",\n        facecolors=\"none\",\n        linewidths=2,\n        label=\"Class 1\",\n    )\n    plt.scatter(\n        X[one_class, 0],\n        X[one_class, 1],\n        s=80,\n        edgecolors=\"orange\",\n        facecolors=\"none\",\n        linewidths=2,\n        label=\"Class 2\",\n    )\n\n    plot_hyperplane(\n        classif.estimators_[0], min_x, max_x, \"k--\", \"Boundary\\nfor class 1\"\n    )\n    plot_hyperplane(\n        classif.estimators_[1], min_x, max_x, \"k-.\", \"Boundary\\nfor class 2\"\n    )\n    plt.xticks(())\n    plt.yticks(())\n\n    plt.xlim(min_x - 0.5 * max_x, max_x + 0.5 * max_x)\n    plt.ylim(min_y - 0.5 * max_y, max_y + 0.5 * max_y)\n    if subplot == 2:\n        plt.xlabel(\"First principal component\")\n        plt.ylabel(\"Second principal component\")\n        plt.legend(loc=\"upper left\")\n\n\nplt.figure(figsize=(8, 6))\n\nX, Y = make_multilabel_classification(\n    n_classes=2, n_labels=1, allow_unlabeled=True, random_state=1\n)\n\nplot_subfigure(X, Y, 1, \"With unlabeled samples + CCA\", \"cca\")\nplot_subfigure(X, Y, 2, \"With unlabeled samples + PCA\", \"pca\")\n\nX, Y = make_multilabel_classification(\n    n_classes=2, n_labels=1, allow_unlabeled=False, random_state=1\n)\n\nplot_subfigure(X, Y, 3, \"Without unlabeled samples + CCA\", \"cca\")\nplot_subfigure(X, Y, 4, \"Without unlabeled samples + PCA\", \"pca\")\n\nplt.subplots_adjust(0.04, 0.02, 0.97, 0.94, 0.09, 0.2)\nplt.show()"
      ]
    }
  ],
  "metadata": {
    "kernelspec": {
      "display_name": "Python 3",
      "language": "python",
      "name": "python3"
    },
    "language_info": {
      "codemirror_mode": {
        "name": "ipython",
        "version": 3
      },
      "file_extension": ".py",
      "mimetype": "text/x-python",
      "name": "python",
      "nbconvert_exporter": "python",
      "pygments_lexer": "ipython3",
      "version": "3.10.13"
    }
  },
  "nbformat": 4,
  "nbformat_minor": 0
}