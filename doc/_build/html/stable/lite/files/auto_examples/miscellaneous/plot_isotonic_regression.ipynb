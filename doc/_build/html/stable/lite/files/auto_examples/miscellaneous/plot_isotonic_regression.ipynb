{
  "cells": [
    {
      "cell_type": "markdown",
      "metadata": {},
      "source": [
        "<div class='alert alert-warning'>\n\n# JupyterLite warning\n\nRunning the scikit-learn examples in JupyterLite is experimental and you may encounter some unexpected behavior.\n\nThe main difference is that imports will take a lot longer than usual, for example the first `import sklearn` can take roughly 10-20s.\n\nIf you notice problems, feel free to open an [issue](https://github.com/scikit-learn/scikit-learn/issues/new/choose) about it.\n</div>"
      ]
    },
    {
      "cell_type": "code",
      "execution_count": null,
      "metadata": {
        "collapsed": false
      },
      "outputs": [],
      "source": [
        "# JupyterLite-specific code\nimport matplotlib\nimport pandas"
      ]
    },
    {
      "cell_type": "markdown",
      "metadata": {},
      "source": [
        "\n# \u0627\u0644\u0627\u0646\u062d\u062f\u0627\u0631 \u0627\u0644\u0623\u064a\u0632\u0648\u062a\u0648\u0646\u064a\n\n\u062a\u0648\u0636\u064a\u062d \u0644\u0644\u0627\u0646\u062d\u062f\u0627\u0631 \u0627\u0644\u0623\u064a\u0632\u0648\u062a\u0648\u0646\u064a \u0639\u0644\u0649 \u0628\u064a\u0627\u0646\u0627\u062a \u0645\u064f\u0648\u0644\u062f\u0629 (\u0627\u062a\u062c\u0627\u0647 \u0623\u062d\u0627\u062f\u064a \u063a\u064a\u0631 \u062e\u0637\u064a \u0645\u0639 \u0636\u0648\u0636\u0627\u0621 \u0645\u062a\u062c\u0627\u0646\u0633\u0629 \u0627\u0644\u062a\u0628\u0627\u064a\u0646).\n\n\u062e\u0648\u0627\u0631\u0632\u0645\u064a\u0629 \u0627\u0644\u0627\u0646\u062d\u062f\u0627\u0631 \u0627\u0644\u0623\u064a\u0632\u0648\u062a\u0648\u0646\u064a \u062a\u062c\u062f \u062a\u0642\u0631\u064a\u0628\u064b\u0627 \u063a\u064a\u0631 \u0645\u062a\u0646\u0627\u0642\u0635 \u0644\u062f\u0627\u0644\u0629 \u0645\u0639 \u062a\u0642\u0644\u064a\u0644 \u0645\u062a\u0648\u0633\u0637 \u0645\u0631\u0628\u0639 \u0627\u0644\u062e\u0637\u0623 \u0639\u0644\u0649 \u0628\u064a\u0627\u0646\u0627\u062a \u0627\u0644\u062a\u062f\u0631\u064a\u0628. \u0645\u064a\u0632\u0629 \u0647\u0630\u0627 \u0627\u0644\u0646\u0645\u0648\u0630\u062c \u063a\u064a\u0631 \u0627\u0644\u0628\u0627\u0631\u0627\u0645\u062a\u0631\u064a \u0647\u064a \u0623\u0646\u0647 \u0644\u0627 \u064a\u0641\u062a\u0631\u0636 \u0623\u064a \u0634\u0643\u0644 \u0644\u0644\u062f\u0627\u0644\u0629 \u0627\u0644\u0645\u0633\u062a\u0647\u062f\u0641\u0629 \u0628\u062e\u0644\u0627\u0641 \u0627\u0644\u0623\u062d\u0627\u062f\u064a\u0629. \u0648\u0644\u0644\u0645\u0642\u0627\u0631\u0646\u0629\u060c \u064a\u062a\u0645 \u062a\u0642\u062f\u064a\u0645 \u0627\u0644\u0627\u0646\u062d\u062f\u0627\u0631 \u0627\u0644\u062e\u0637\u064a \u0623\u064a\u0636\u064b\u0627.\n\n\u064a\u0648\u0636\u062d \u0627\u0644\u0631\u0633\u0645 \u0627\u0644\u0628\u064a\u0627\u0646\u064a \u0639\u0644\u0649 \u0627\u0644\u062c\u0627\u0646\u0628 \u0627\u0644\u0623\u064a\u0645\u0646 \u062f\u0627\u0644\u0629 \u0627\u0644\u062a\u0646\u0628\u0624 \u0628\u0627\u0644\u0646\u0645\u0648\u0630\u062c \u0627\u0644\u062a\u064a \u062a\u0646\u062a\u062c \u0639\u0646 \u0627\u0644\u0627\u0633\u062a\u064a\u0641\u0627\u0621 \u0627\u0644\u062e\u0637\u064a \u0644\u0646\u0642\u0627\u0637 \u0627\u0644\u0639\u062a\u0628\u0629. \u0648\u0646\u0642\u0627\u0637 \u0627\u0644\u0639\u062a\u0628\u0629 \u0647\u064a \u0645\u062c\u0645\u0648\u0639\u0629 \u0641\u0631\u0639\u064a\u0629 \u0645\u0646 \u0645\u0644\u0627\u062d\u0638\u0627\u062a \u0645\u062f\u062e\u0644\u0627\u062a \u0627\u0644\u062a\u062f\u0631\u064a\u0628\u060c \u0648\u064a\u062a\u0645 \u062d\u0633\u0627\u0628 \u0642\u064a\u0645\u0647\u0627 \u0627\u0644\u0645\u0633\u062a\u0647\u062f\u0641\u0629 \u0627\u0644\u0645\u0637\u0627\u0628\u0642\u0629 \u0628\u0648\u0627\u0633\u0637\u0629 \u0627\u0644\u062a\u0644\u0627\u0624\u0645 \u0627\u0644\u0623\u064a\u0632\u0648\u062a\u0648\u0646\u064a \u063a\u064a\u0631 \u0627\u0644\u0628\u0627\u0631\u0627\u0645\u062a\u0631\u064a.\n"
      ]
    },
    {
      "cell_type": "code",
      "execution_count": null,
      "metadata": {
        "collapsed": false
      },
      "outputs": [],
      "source": [
        "# \u0627\u0644\u0645\u0624\u0644\u0641\u0648\u0646: \u0645\u0637\u0648\u0631\u064a \u0633\u0643\u0627\u064a\u0644\u0631\u0646\n# \u0645\u0639\u0631\u0641 \u0627\u0644\u062a\u0631\u062e\u064a\u0635: BSD-3-Clause\n\nimport matplotlib.pyplot as plt\nimport numpy as np\nfrom matplotlib.collections import LineCollection\n\nfrom sklearn.isotonic import IsotonicRegression\nfrom sklearn.linear_model import LinearRegression\nfrom sklearn.utils import check_random_state\n\nn = 100\nx = np.arange(n)\nrs = check_random_state(0)\ny = rs.randint(-50, 50, size=(n,)) + 50.0 * np.log1p(np.arange(n))"
      ]
    },
    {
      "cell_type": "markdown",
      "metadata": {},
      "source": [
        "\u062a\u0646\u0627\u0633\u0628 \u0646\u0645\u0627\u0630\u062c IsotonicRegression \u0648LinearRegression:\n\n"
      ]
    },
    {
      "cell_type": "code",
      "execution_count": null,
      "metadata": {
        "collapsed": false
      },
      "outputs": [],
      "source": [
        "ir = IsotonicRegression(out_of_bounds=\"clip\")\ny_ = ir.fit_transform(x, y)\n\nlr = LinearRegression()\nlr.fit(x[:, np.newaxis], y)  # x \u064a\u062c\u0628 \u0623\u0646 \u062a\u0643\u0648\u0646 \u062b\u0646\u0627\u0626\u064a\u0629 \u0627\u0644\u0623\u0628\u0639\u0627\u062f \u0644\u0644\u0627\u0646\u062d\u062f\u0627\u0631 \u0627\u0644\u062e\u0637\u064a"
      ]
    },
    {
      "cell_type": "markdown",
      "metadata": {},
      "source": [
        "\u0631\u0633\u0645 \u0627\u0644\u0646\u062a\u0627\u0626\u062c:\n\n"
      ]
    },
    {
      "cell_type": "code",
      "execution_count": null,
      "metadata": {
        "collapsed": false
      },
      "outputs": [],
      "source": [
        "segments = [[[i, y[i]], [i, y_[i]]] for i in range(n)]\nlc = LineCollection(segments, zorder=0)\nlc.set_array(np.ones(len(y)))\nlc.set_linewidths(np.full(n, 0.5))\n\nfig, (ax0, ax1) = plt.subplots(ncols=2, figsize=(12, 6))\n\nax0.plot(x, y, \"C0.\", markersize=12)\nax0.plot(x, y_, \"C1.-\", markersize=12)\nax0.plot(x, lr.predict(x[:, np.newaxis]), \"C2-\")\nax0.add_collection(lc)\nax0.legend((\"Training data\", \"Isotonic fit\", \"Linear fit\"), loc=\"lower right\")\nax0.set_title(\"Isotonic regression fit on noisy data (n=%d)\" % n)\n\nx_test = np.linspace(-10, 110, 1000)\nax1.plot(x_test, ir.predict(x_test), \"C1-\")\nax1.plot(ir.X_thresholds_, ir.y_thresholds_, \"C1.\", markersize=12)\nax1.set_title(\"Prediction function (%d thresholds)\" % len(ir.X_thresholds_))\n\nplt.show()"
      ]
    },
    {
      "cell_type": "markdown",
      "metadata": {},
      "source": [
        "\u0644\u0627\u062d\u0638 \u0623\u0646\u0646\u0627 \u0645\u0631\u0631\u0646\u0627 \u0635\u0631\u0627\u062d\u0629\u064b `out_of_bounds=\"clip\"` \u0625\u0644\u0649 \u0645\u0646\u0634\u0626 `IsotonicRegression` \u0644\u0644\u062a\u062d\u0643\u0645 \u0641\u064a \u0637\u0631\u064a\u0642\u0629 \u0627\u0633\u062a\u0642\u0631\u0627\u0621 \u0627\u0644\u0646\u0645\u0648\u0630\u062c \u062e\u0627\u0631\u062c \u0646\u0637\u0627\u0642 \u0627\u0644\u0628\u064a\u0627\u0646\u0627\u062a \u0627\u0644\u0645\u0644\u0627\u062d\u0638\u0629 \u0641\u064a \u0645\u062c\u0645\u0648\u0639\u0629 \u0627\u0644\u062a\u062f\u0631\u064a\u0628. \u064a\u0645\u0643\u0646 \u0631\u0624\u064a\u0629 \u0647\u0630\u0627 \u0627\u0644\u0627\u0633\u062a\u0642\u0631\u0627\u0621 \"\u0627\u0644\u0642\u0635\" \u0639\u0644\u0649 \u0631\u0633\u0645 \u062f\u0627\u0644\u0629 \u0627\u0644\u0642\u0631\u0627\u0631 \u0639\u0644\u0649 \u0627\u0644\u062c\u0627\u0646\u0628 \u0627\u0644\u0623\u064a\u0645\u0646.\n"
      ]
    }
  ],
  "metadata": {
    "kernelspec": {
      "display_name": "Python 3",
      "language": "python",
      "name": "python3"
    },
    "language_info": {
      "codemirror_mode": {
        "name": "ipython",
        "version": 3
      },
      "file_extension": ".py",
      "mimetype": "text/x-python",
      "name": "python",
      "nbconvert_exporter": "python",
      "pygments_lexer": "ipython3",
      "version": "3.10.13"
    }
  },
  "nbformat": 4,
  "nbformat_minor": 0
}