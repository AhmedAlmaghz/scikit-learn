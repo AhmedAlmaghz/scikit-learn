{
  "cells": [
    {
      "cell_type": "markdown",
      "metadata": {},
      "source": [
        "<div class='alert alert-warning'>\n\n# JupyterLite warning\n\nRunning the scikit-learn examples in JupyterLite is experimental and you may encounter some unexpected behavior.\n\nThe main difference is that imports will take a lot longer than usual, for example the first `import sklearn` can take roughly 10-20s.\n\nIf you notice problems, feel free to open an [issue](https://github.com/scikit-learn/scikit-learn/issues/new/choose) about it.\n</div>"
      ]
    },
    {
      "cell_type": "code",
      "execution_count": null,
      "metadata": {
        "collapsed": false
      },
      "outputs": [],
      "source": [
        "# JupyterLite-specific code\n%pip install pyodide-http\nimport pyodide_http\npyodide_http.patch_all()\nimport matplotlib\nimport pandas"
      ]
    },
    {
      "cell_type": "markdown",
      "metadata": {},
      "source": [
        "\n# \u062a\u0623\u062b\u064a\u0631 \u062a\u0639\u0642\u064a\u062f \u0627\u0644\u0646\u0645\u0648\u0630\u062c\n\n\u062a\u0648\u0636\u064a\u062d \u0643\u064a\u0641 \u064a\u0624\u062b\u0631 \u062a\u0639\u0642\u064a\u062f \u0627\u0644\u0646\u0645\u0648\u0630\u062c \u0639\u0644\u0649 \u0643\u0644 \u0645\u0646 \u062f\u0642\u0629 \u0627\u0644\u062a\u0646\u0628\u0624 \u0648\u0627\u0644\u0623\u062f\u0627\u0621 \u0627\u0644\u062d\u0633\u0627\u0628\u064a.\n\n\u0633\u0646\u0633\u062a\u062e\u062f\u0645 \u0645\u062c\u0645\u0648\u0639\u062a\u064a\u0646 \u0645\u0646 \u0627\u0644\u0628\u064a\u0627\u0646\u0627\u062a:\n    - `diabetes_dataset` \u0644\u0644\u0627\u0646\u062d\u062f\u0627\u0631.\n      \u062a\u062a\u0643\u0648\u0646 \u0647\u0630\u0647 \u0627\u0644\u0645\u062c\u0645\u0648\u0639\u0629 \u0645\u0646 10 \u0642\u064a\u0627\u0633\u0627\u062a \u0645\u0623\u062e\u0648\u0630\u0629 \u0645\u0646 \u0645\u0631\u0636\u0649 \u0627\u0644\u0633\u0643\u0631\u064a.\n      \u0627\u0644\u0645\u0647\u0645\u0629 \u0647\u064a \u0627\u0644\u062a\u0646\u0628\u0624 \u0628\u062a\u0642\u062f\u0645 \u0627\u0644\u0645\u0631\u0636\u061b\n    - `20newsgroups_dataset` \u0644\u0644\u062a\u0635\u0646\u064a\u0641. \u062a\u062a\u0643\u0648\u0646 \u0647\u0630\u0647 \u0627\u0644\u0645\u062c\u0645\u0648\u0639\u0629 \u0645\u0646\n      \u0645\u0646\u0634\u0648\u0631\u0627\u062a \u0645\u062c\u0645\u0648\u0639\u0627\u062a \u0627\u0644\u0623\u062e\u0628\u0627\u0631. \u0627\u0644\u0645\u0647\u0645\u0629 \u0647\u064a \u0627\u0644\u062a\u0646\u0628\u0624 \u0628\u0627\u0644\u0645\u0648\u0636\u0648\u0639 (\u0645\u0646 \u0628\u064a\u0646 20 \u0645\u0648\u0636\u0648\u0639\u064b\u0627)\n      \u0627\u0644\u0630\u064a \u0643\u062a\u0628 \u0639\u0646\u0647 \u0627\u0644\u0645\u0646\u0634\u0648\u0631.\n\n\u0633\u0646\u0642\u0648\u0645 \u0628\u0645\u062d\u0627\u0643\u0627\u0629 \u062a\u0623\u062b\u064a\u0631 \u0627\u0644\u062a\u0639\u0642\u064a\u062f \u0639\u0644\u0649 \u062b\u0644\u0627\u062b\u0629 \u0645\u0642\u062f\u0631\u0627\u062a \u0645\u062e\u062a\u0644\u0641\u0629:\n    - :class:`~sklearn.linear_model.SGDClassifier` (\u0644\u0628\u064a\u0627\u0646\u0627\u062a \u0627\u0644\u062a\u0635\u0646\u064a\u0641)\n      \u0627\u0644\u0630\u064a \u064a\u0646\u0641\u0630 \u062a\u0639\u0644\u0645 \u0627\u0644\u0627\u0646\u062d\u062f\u0627\u0631 \u0627\u0644\u062a\u062f\u0631\u064a\u062c\u064a \u0627\u0644\u0639\u0634\u0648\u0627\u0626\u064a\u061b\n\n    - :class:`~sklearn.svm.NuSVR` (\u0644\u0628\u064a\u0627\u0646\u0627\u062a \u0627\u0644\u0627\u0646\u062d\u062f\u0627\u0631) \u0627\u0644\u0630\u064a \u064a\u0646\u0641\u0630\n      \u0627\u0644\u0627\u0646\u062d\u062f\u0627\u0631 \u0627\u0644\u0645\u062a\u062c\u0647 \u0627\u0644\u062f\u0627\u0639\u0645 \u0644\u0640 Nu\u061b\n\n    - :class:`~sklearn.ensemble.GradientBoostingRegressor` \u064a\u0628\u0646\u064a \u0646\u0645\u0648\u0630\u062c\u064b\u0627 \u062a\u0631\u0627\u0643\u0645\u064a\u064b\u0627\n      \u0628\u0637\u0631\u064a\u0642\u0629 \u062a\u062f\u0631\u064a\u062c\u064a\u0629 \u0644\u0644\u0623\u0645\u0627\u0645. \u0644\u0627\u062d\u0638 \u0623\u0646\n      :class:`~sklearn.ensemble.HistGradientBoostingRegressor` \u0623\u0633\u0631\u0639 \u0628\u0643\u062b\u064a\u0631\n      \u0645\u0646 :class:`~sklearn.ensemble.GradientBoostingRegressor` \u0628\u062f\u0621\u064b\u0627 \u0645\u0646\n      \u0645\u062c\u0645\u0648\u0639\u0627\u062a \u0627\u0644\u0628\u064a\u0627\u0646\u0627\u062a \u0627\u0644\u0645\u062a\u0648\u0633\u0637\u0629 (`n_samples >= 10_000`)\u060c \u0648\u0627\u0644\u062a\u064a \u0644\u0627 \u062a\u0646\u0637\u0628\u0642 \u0639\u0644\u0649\n      \u0647\u0630\u0627 \u0627\u0644\u0645\u062b\u0627\u0644.\n\n\n\u0646\u062c\u0639\u0644 \u062a\u0639\u0642\u064a\u062f \u0627\u0644\u0646\u0645\u0648\u0630\u062c \u064a\u062e\u062a\u0644\u0641 \u0645\u0646 \u062e\u0644\u0627\u0644 \u0627\u062e\u062a\u064a\u0627\u0631 \u0627\u0644\u0645\u0639\u0644\u0645\u0627\u062a \u0630\u0627\u062a \u0627\u0644\u0635\u0644\u0629 \u0641\u064a \u0643\u0644 \u0645\u0646 \u0627\u0644\u0646\u0645\u0627\u0630\u062c \u0627\u0644\u062a\u064a \u0627\u062e\u062a\u0631\u0646\u0627\u0647\u0627. \u0628\u0639\u062f \u0630\u0644\u0643\u060c \u0633\u0646\u0642\u064a\u0633 \u0627\u0644\u062a\u0623\u062b\u064a\u0631 \u0639\u0644\u0649 \u0643\u0644 \u0645\u0646 \u0627\u0644\u0623\u062f\u0627\u0621 \u0627\u0644\u062d\u0633\u0627\u0628\u064a (\u0627\u0644\u0627\u0633\u062a\u062c\u0627\u0628\u0629) \u0648\u0627\u0644\u0642\u0648\u0629 \u0627\u0644\u062a\u0646\u0628\u0624\u064a\u0629 (MSE \u0623\u0648\nHamming Loss).\n"
      ]
    },
    {
      "cell_type": "code",
      "execution_count": null,
      "metadata": {
        "collapsed": false
      },
      "outputs": [],
      "source": [
        "# \u0627\u0644\u0645\u0624\u0644\u0641\u0648\u0646: \u0645\u0637\u0648\u0631\u064a scikit-learn\n# \u0645\u0639\u0631\u0641 \u0627\u0644\u062a\u0631\u062e\u064a\u0635: BSD-3-Clause\n\nimport time\n\nimport matplotlib.pyplot as plt\nimport numpy as np\n\nfrom sklearn import datasets\nfrom sklearn.ensemble import GradientBoostingRegressor\nfrom sklearn.linear_model import SGDClassifier\nfrom sklearn.metrics import hamming_loss, mean_squared_error\nfrom sklearn.model_selection import train_test_split\nfrom sklearn.svm import NuSVR\n\n# \u062a\u0647\u064a\u0626\u0629 \u0627\u0644\u0645\u0648\u0644\u062f \u0627\u0644\u0639\u0634\u0648\u0627\u0626\u064a\nnp.random.seed(0)"
      ]
    },
    {
      "cell_type": "markdown",
      "metadata": {},
      "source": [
        "## \u062a\u062d\u0645\u064a\u0644 \u0627\u0644\u0628\u064a\u0627\u0646\u0627\u062a\n\n\u0623\u0648\u0644\u0627\u064b \u0646\u0642\u0648\u0645 \u0628\u062a\u062d\u0645\u064a\u0644 \u0643\u0644 \u0645\u0646 \u0645\u062c\u0645\u0648\u0639\u0627\u062a \u0627\u0644\u0628\u064a\u0627\u0646\u0627\u062a.\n\n.. \u0645\u0644\u0627\u062d\u0638\u0629:: \u0646\u062d\u0646 \u0646\u0633\u062a\u062e\u062f\u0645\n   :func:`~sklearn.datasets.fetch_20newsgroups_vectorized` \u0644\u062a\u062d\u0645\u064a\u0644 \u0645\u062c\u0645\u0648\u0639\u0629 \u0628\u064a\u0627\u0646\u0627\u062a 20\n   \u0645\u062c\u0645\u0648\u0639\u0627\u062a \u0627\u0644\u0623\u062e\u0628\u0627\u0631. \u064a\u0639\u064a\u062f \u0645\u064a\u0632\u0627\u062a \u062c\u0627\u0647\u0632\u0629 \u0644\u0644\u0627\u0633\u062a\u062e\u062f\u0627\u0645.\n\n.. \u0645\u0644\u0627\u062d\u0638\u0629:: \"X\" \u0644\u0645\u062c\u0645\u0648\u0639\u0629 \u0628\u064a\u0627\u0646\u0627\u062a \u0645\u062c\u0645\u0648\u0639\u0627\u062a \u0627\u0644\u0623\u062e\u0628\u0627\u0631 \u0647\u064a \u0645\u0635\u0641\u0648\u0641\u0629 \u0645\u062a\u0641\u0631\u0642\u0629 \u0628\u064a\u0646\u0645\u0627 \"X\"\n   \u0644\u0645\u062c\u0645\u0648\u0639\u0629 \u0628\u064a\u0627\u0646\u0627\u062a \u0645\u0631\u0636 \u0627\u0644\u0633\u0643\u0631\u064a \u0647\u064a \u0645\u0635\u0641\u0648\u0641\u0629 numpy.\n\n\n"
      ]
    },
    {
      "cell_type": "code",
      "execution_count": null,
      "metadata": {
        "collapsed": false
      },
      "outputs": [],
      "source": [
        "def generate_data(case):\n    \"\"\"\u062a\u0648\u0644\u064a\u062f \u0628\u064a\u0627\u0646\u0627\u062a \u0627\u0644\u0627\u0646\u062d\u062f\u0627\u0631/\u0627\u0644\u062a\u0635\u0646\u064a\u0641.\"\"\"\n    if case == \"regression\":\n        X, y = datasets.load_diabetes(return_X_y=True)\n        train_size = 0.8\n    elif case == \"classification\":\n        X, y = datasets.fetch_20newsgroups_vectorized(\n            subset=\"all\", return_X_y=True)\n        train_size = 0.4  # \u0644\u062a\u0634\u063a\u064a\u0644 \u0627\u0644\u0645\u062b\u0627\u0644 \u0628\u0634\u0643\u0644 \u0623\u0633\u0631\u0639\n\n    X_train, X_test, y_train, y_test = train_test_split(\n        X, y, train_size=train_size, random_state=0\n    )\n\n    data = {\"X_train\": X_train, \"X_test\": X_test,\n            \"y_train\": y_train, \"y_test\": y_test}\n    return data\n\n\nregression_data = generate_data(\"regression\")\nclassification_data = generate_data(\"classification\")"
      ]
    },
    {
      "cell_type": "markdown",
      "metadata": {},
      "source": [
        "## \u062a\u0623\u062b\u064a\u0631 \u0627\u0644\u0645\u0639\u064a\u0627\u0631\n\u0628\u0639\u062f \u0630\u0644\u0643\u060c \u064a\u0645\u0643\u0646\u0646\u0627 \u062d\u0633\u0627\u0628 \u062a\u0623\u062b\u064a\u0631 \u0627\u0644\u0645\u0639\u0644\u0645\u0627\u062a \u0639\u0644\u0649 \u0627\u0644\u0645\u0642\u062f\u0631 \u0627\u0644\u0645\u0639\u0637\u0649. \u0641\u064a \u0643\u0644 \u062c\u0648\u0644\u0629\u060c \u0633\u0646\u0642\u0648\u0645 \u0628\u0636\u0628\u0637 \u0627\u0644\u0645\u0642\u062f\u0631 \u0628\u0627\u0644\u0642\u064a\u0645\u0629 \u0627\u0644\u062c\u062f\u064a\u062f\u0629\n``changing_param`` \u0648\u0633\u0646\u0642\u0648\u0645 \u0628\u062c\u0645\u0639 \u0623\u0648\u0642\u0627\u062a \u0627\u0644\u062a\u0646\u0628\u0624\u060c \u0648\u0623\u062f\u0627\u0621 \u0627\u0644\u062a\u0646\u0628\u0624\u060c \u0648\u0627\u0644\u062a\u0639\u0642\u064a\u062f\u0627\u062a \u0644\u0631\u0624\u064a\u0629 \u0643\u064a\u0641\u064a\u0629 \u062a\u0623\u062b\u064a\u0631 \u062a\u0644\u0643 \u0627\u0644\u062a\u063a\u064a\u064a\u0631\u0627\u062a \u0639\u0644\u0649 \u0627\u0644\u0645\u0642\u062f\u0631.\n\u0633\u0646\u0642\u0648\u0645 \u0628\u062d\u0633\u0627\u0628 \u0627\u0644\u062a\u0639\u0642\u064a\u062f \u0628\u0627\u0633\u062a\u062e\u062f\u0627\u0645 ``complexity_computer`` \u0627\u0644\u0645\u0645\u0631 \u0643\u0645\u0639\u0644\u0645\u0629.\n\n\n"
      ]
    },
    {
      "cell_type": "code",
      "execution_count": null,
      "metadata": {
        "collapsed": false
      },
      "outputs": [],
      "source": [
        "def benchmark_influence(conf):\n    \"\"\"\n    Benchmark influence of `changing_param` on both MSE and latency.\n    \"\"\"\n    prediction_times = []\n    prediction_powers = []\n    complexities = []\n    for param_value in conf[\"changing_param_values\"]:\n        conf[\"tuned_params\"][conf[\"changing_param\"]] = param_value\n        estimator = conf[\"estimator\"](**conf[\"tuned_params\"])\n\n        print(\"Benchmarking %s\" % estimator)\n        estimator.fit(conf[\"data\"][\"X_train\"], conf[\"data\"][\"y_train\"])\n        conf[\"postfit_hook\"](estimator)\n        complexity = conf[\"complexity_computer\"](estimator)\n        complexities.append(complexity)\n        start_time = time.time()\n        for _ in range(conf[\"n_samples\"]):\n            y_pred = estimator.predict(conf[\"data\"][\"X_test\"])\n        elapsed_time = (time.time() - start_time) / float(conf[\"n_samples\"])\n        prediction_times.append(elapsed_time)\n        pred_score = conf[\"prediction_performance_computer\"](\n            conf[\"data\"][\"y_test\"], y_pred\n        )\n        prediction_powers.append(pred_score)\n        print(\n            \"Complexity: %d | %s: %.4f | Pred. Time: %fs\\n\"\n            % (\n                complexity,\n                conf[\"prediction_performance_label\"],\n                pred_score,\n                elapsed_time,\n            )\n        )\n    return prediction_powers, prediction_times, complexities"
      ]
    },
    {
      "cell_type": "markdown",
      "metadata": {},
      "source": [
        "## \u0627\u062e\u062a\u064a\u0627\u0631 \u0627\u0644\u0645\u0639\u0644\u0645\u0627\u062a\n\n\u0646\u062e\u062a\u0627\u0631 \u0627\u0644\u0645\u0639\u0644\u0645\u0627\u062a \u0644\u0643\u0644 \u0645\u0646 \u0645\u0642\u062f\u0631\u0627\u062a\u0646\u0627 \u0645\u0646 \u062e\u0644\u0627\u0644 \u0625\u0646\u0634\u0627\u0621\n\u0642\u0627\u0645\u0648\u0633 \u0628\u062c\u0645\u064a\u0639 \u0627\u0644\u0642\u064a\u0645 \u0627\u0644\u0636\u0631\u0648\u0631\u064a\u0629.\n``changing_param`` \u0647\u0648 \u0627\u0633\u0645 \u0627\u0644\u0645\u0639\u0644\u0645\u0629 \u0627\u0644\u062a\u064a \u0633\u062a\u062a\u063a\u064a\u0631 \u0641\u064a \u0643\u0644\n\u0645\u0642\u062f\u0631.\n\u0633\u064a\u062a\u0645 \u062a\u0639\u0631\u064a\u0641 \u0627\u0644\u062a\u0639\u0642\u064a\u062f \u0628\u0648\u0627\u0633\u0637\u0629 ``complexity_label`` \u0648\u062d\u0633\u0627\u0628\u0647 \u0628\u0627\u0633\u062a\u062e\u062f\u0627\u0645\n`complexity_computer`.\n\u0644\u0627\u062d\u0638 \u0623\u064a\u0636\u064b\u0627 \u0623\u0646\u0646\u0627 \u0646\u0645\u0631\u0631 \u0628\u064a\u0627\u0646\u0627\u062a \u0645\u062e\u062a\u0644\u0641\u0629 \u0627\u0639\u062a\u0645\u0627\u062f\u064b\u0627 \u0639\u0644\u0649 \u0646\u0648\u0639 \u0627\u0644\u0645\u0642\u062f\u0631.\n\n\n"
      ]
    },
    {
      "cell_type": "code",
      "execution_count": null,
      "metadata": {
        "collapsed": false
      },
      "outputs": [],
      "source": [
        "def _count_nonzero_coefficients(estimator):\n    a = estimator.coef_.toarray()\n    return np.count_nonzero(a)\n\n\nconfigurations = [\n    {\n        \"estimator\": SGDClassifier,\n        \"tuned_params\": {\n            \"penalty\": \"elasticnet\",\n            \"alpha\": 0.001,\n            \"loss\": \"modified_huber\",\n            \"fit_intercept\": True,\n            \"tol\": 1e-1,\n            \"n_iter_no_change\": 2,\n        },\n        \"changing_param\": \"l1_ratio\",\n        \"changing_param_values\": [0.25, 0.5, 0.75, 0.9],\n        \"complexity_label\": \"non_zero coefficients\",\n        \"complexity_computer\": _count_nonzero_coefficients,\n        \"prediction_performance_computer\": hamming_loss,\n        \"prediction_performance_label\": \"Hamming Loss (Misclassification Ratio)\",\n        \"postfit_hook\": lambda x: x.sparsify(),\n        \"data\": classification_data,\n        \"n_samples\": 5,\n    },\n    {\n        \"estimator\": NuSVR,\n        \"tuned_params\": {\"C\": 1e3, \"gamma\": 2**-15},\n        \"changing_param\": \"nu\",\n        \"changing_param_values\": [0.05, 0.1, 0.2, 0.35, 0.5],\n        \"complexity_label\": \"n_support_vectors\",\n        \"complexity_computer\": lambda x: len(x.support_vectors_),\n        \"data\": regression_data,\n        \"postfit_hook\": lambda x: x,\n        \"prediction_performance_computer\": mean_squared_error,\n        \"prediction_performance_label\": \"MSE\",\n        \"n_samples\": 15,\n    },\n    {\n        \"estimator\": GradientBoostingRegressor,\n        \"tuned_params\": {\n            \"loss\": \"squared_error\",\n            \"learning_rate\": 0.05,\n            \"max_depth\": 2,\n        },\n        \"changing_param\": \"n_estimators\",\n        \"changing_param_values\": [10, 25, 50, 75, 100],\n        \"complexity_label\": \"n_trees\",\n        \"complexity_computer\": lambda x: x.n_estimators,\n        \"data\": regression_data,\n        \"postfit_hook\": lambda x: x,\n        \"prediction_performance_computer\": mean_squared_error,\n        \"prediction_performance_label\": \"MSE\",\n        \"n_samples\": 15,\n    },\n]"
      ]
    },
    {
      "cell_type": "markdown",
      "metadata": {},
      "source": [
        "## \u062a\u0634\u063a\u064a\u0644 \u0627\u0644\u0643\u0648\u062f \u0648\u0631\u0633\u0645 \u0627\u0644\u0646\u062a\u0627\u0626\u062c\n\n\u0642\u0645\u0646\u0627 \u0628\u062a\u0639\u0631\u064a\u0641 \u062c\u0645\u064a\u0639 \u0627\u0644\u062f\u0648\u0627\u0644 \u0627\u0644\u0645\u0637\u0644\u0648\u0628\u0629 \u0644\u062a\u0634\u063a\u064a\u0644 \u0645\u0639\u064a\u0627\u0631\u0646\u0627. \u0627\u0644\u0622\u0646\u060c \u0633\u0646\u0642\u0648\u0645 \u0628\u0627\u0644\u062f\u0648\u0631\u0627\u0646\n\u0639\u0644\u0649 \u0627\u0644\u062a\u0643\u0648\u064a\u0646\u0627\u062a \u0627\u0644\u0645\u062e\u062a\u0644\u0641\u0629 \u0627\u0644\u062a\u064a \u0642\u0645\u0646\u0627 \u0628\u062a\u0639\u0631\u064a\u0641\u0647\u0627 \u0645\u0633\u0628\u0642\u064b\u0627. \u0628\u0639\u062f \u0630\u0644\u0643\u060c\n\u064a\u0645\u0643\u0646\u0646\u0627 \u062a\u062d\u0644\u064a\u0644 \u0627\u0644\u0631\u0633\u0648\u0645 \u0627\u0644\u0628\u064a\u0627\u0646\u064a\u0629 \u0627\u0644\u062a\u064a \u062a\u0645 \u0627\u0644\u062d\u0635\u0648\u0644 \u0639\u0644\u064a\u0647\u0627 \u0645\u0646 \u0627\u0644\u0645\u0639\u064a\u0627\u0631:\n\u064a\u0624\u062f\u064a \u062a\u062e\u0641\u064a\u0641 \u0639\u0642\u0648\u0628\u0629 L1 \u0641\u064a \u0645\u0635\u0646\u0641 SGD \u0625\u0644\u0649 \u062a\u0642\u0644\u064a\u0644 \u062e\u0637\u0623 \u0627\u0644\u062a\u0646\u0628\u0624\n\u0648\u0644\u0643\u0646 \u064a\u0624\u062f\u064a \u0625\u0644\u0649 \u0632\u064a\u0627\u062f\u0629 \u0641\u064a \u0648\u0642\u062a \u0627\u0644\u062a\u062f\u0631\u064a\u0628.\n\u064a\u0645\u0643\u0646\u0646\u0627 \u0625\u062c\u0631\u0627\u0621 \u062a\u062d\u0644\u064a\u0644 \u0645\u0645\u0627\u062b\u0644 \u0641\u064a\u0645\u0627 \u064a\u062a\u0639\u0644\u0642 \u0628\u0648\u0642\u062a \u0627\u0644\u062a\u062f\u0631\u064a\u0628 \u0627\u0644\u0630\u064a \u064a\u0632\u064a\u062f\n\u0645\u0639 \u0639\u062f\u062f \u0627\u0644\u0645\u062a\u062c\u0647\u0627\u062a \u0627\u0644\u062f\u0627\u0639\u0645\u0629 \u0645\u0639 Nu-SVR. \u0648\u0645\u0639 \u0630\u0644\u0643\u060c \u0644\u0627\u062d\u0638\u0646\u0627 \u0623\u0646 \u0647\u0646\u0627\u0643\n\u0639\u062f\u062f\u064b\u0627 \u0645\u062b\u0627\u0644\u064a\u064b\u0627 \u0645\u0646 \u0627\u0644\u0645\u062a\u062c\u0647\u0627\u062a \u0627\u0644\u062f\u0627\u0639\u0645\u0629 \u0627\u0644\u062a\u064a \u062a\u0642\u0644\u0644 \u0645\u0646 \u062e\u0637\u0623 \u0627\u0644\u062a\u0646\u0628\u0624. \u0641\u064a \u0627\u0644\u0648\u0627\u0642\u0639\u060c \u064a\u0624\u062f\u064a \u0639\u062f\u062f \u0642\u0644\u064a\u0644 \u062c\u062f\u064b\u0627 \u0645\u0646 \u0627\u0644\u0645\u062a\u062c\u0647\u0627\u062a \u0627\u0644\u062f\u0627\u0639\u0645\u0629 \u0625\u0644\u0649 \u0646\u0645\u0648\u0630\u062c \u063a\u064a\u0631 \u0645\u0646\u0627\u0633\u0628 \u0628\u064a\u0646\u0645\u0627\n\u064a\u0624\u062f\u064a \u0639\u062f\u062f \u0643\u0628\u064a\u0631 \u062c\u062f\u064b\u0627 \u0645\u0646 \u0627\u0644\u0645\u062a\u062c\u0647\u0627\u062a \u0627\u0644\u062f\u0627\u0639\u0645\u0629 \u0625\u0644\u0649 \u0646\u0645\u0648\u0630\u062c \u0645\u0641\u0631\u0637 \u0641\u064a \u0627\u0644\u062a\u0643\u064a\u0641.\n\u064a\u0645\u0643\u0646 \u0627\u0633\u062a\u062e\u0644\u0627\u0635 \u0646\u0641\u0633 \u0627\u0644\u0627\u0633\u062a\u0646\u062a\u0627\u062c \u062a\u0645\u0627\u0645\u064b\u0627 \u0644\u0644\u0646\u0645\u0648\u0630\u062c \u0627\u0644\u062a\u062f\u0631\u062c \u0627\u0644\u062a\u062f\u0631\u064a\u062c\u064a.\n\u0627\u0644\u0641\u0631\u0642 \u0627\u0644\u0648\u062d\u064a\u062f \u0645\u0639 Nu-SVR \u0647\u0648 \u0623\u0646 \u0648\u062c\u0648\u062f \u0639\u062f\u062f \u0643\u0628\u064a\u0631 \u062c\u062f\u064b\u0627 \u0645\u0646 \u0627\u0644\u0623\u0634\u062c\u0627\u0631 \u0641\u064a\n\u0627\u0644\u0645\u062c\u0645\u0648\u0639\u0629 \u0644\u064a\u0633 \u0636\u0627\u0631\u064b\u0627 \u0628\u0646\u0641\u0633 \u0627\u0644\u0642\u062f\u0631.\n\n\n"
      ]
    },
    {
      "cell_type": "code",
      "execution_count": null,
      "metadata": {
        "collapsed": false
      },
      "outputs": [],
      "source": [
        "def plot_influence(conf, mse_values, prediction_times, complexities):\n    \"\"\"\n    \u0631\u0633\u0645 \u062a\u0623\u062b\u064a\u0631 \u062a\u0639\u0642\u064a\u062f \u0627\u0644\u0646\u0645\u0648\u0630\u062c \u0639\u0644\u0649 \u0643\u0644 \u0645\u0646 \u0627\u0644\u062f\u0642\u0629 \u0648\u0627\u0644\u0627\u0633\u062a\u062c\u0627\u0628\u0629.\n    \"\"\"\n\n    fig = plt.figure()\n    fig.subplots_adjust(right=0.75)\n\n    # \u0627\u0644\u0645\u062d\u0627\u0648\u0631 \u0627\u0644\u0623\u0648\u0644\u0649 (\u062e\u0637\u0623 \u0627\u0644\u062a\u0646\u0628\u0624)\n    ax1 = fig.add_subplot(111)\n    line1 = ax1.plot(complexities, mse_values, c=\"tab:blue\", ls=\"-\")[0]\n    ax1.set_xlabel(\"Model Complexity (%s)\" % conf[\"complexity_label\"])\n    y1_label = conf[\"prediction_performance_label\"]\n    ax1.set_ylabel(y1_label)\n\n    ax1.spines[\"left\"].set_color(line1.get_color())\n    ax1.yaxis.label.set_color(line1.get_color())\n    ax1.tick_params(axis=\"y\", colors=line1.get_color())\n\n    # \u0627\u0644\u0645\u062d\u0627\u0648\u0631 \u0627\u0644\u062b\u0627\u0646\u064a\u0629 (\u0627\u0644\u0627\u0633\u062a\u062c\u0627\u0628\u0629)\n    ax2 = fig.add_subplot(111, sharex=ax1, frameon=False)\n    line2 = ax2.plot(complexities, prediction_times, c=\"tab:orange\", ls=\"-\")[0]\n    ax2.yaxis.tick_right()\n    ax2.yaxis.set_label_position(\"right\")\n    y2_label = \"Time (s)\"\n    ax2.set_ylabel(y2_label)\n    ax1.spines[\"right\"].set_color(line2.get_color())\n    ax2.yaxis.label.set_color(line2.get_color())\n    ax2.tick_params(axis=\"y\", colors=line2.get_color())\n\n    plt.legend(\n        (line1, line2), (\"prediction error\", \"prediction latency\"), loc=\"upper center\"\n    )\n\n    plt.title(\n        \"Influence of varying '%s' on %s\"\n        % (conf[\"changing_param\"], conf[\"estimator\"].__name__)\n    )\n\n\nfor conf in configurations:\n    prediction_performances, prediction_times, complexities = benchmark_influence(\n        conf)\n    plot_influence(conf, prediction_performances,\n                   prediction_times, complexities)\nplt.show()"
      ]
    },
    {
      "cell_type": "markdown",
      "metadata": {},
      "source": [
        "## \u0627\u0644\u062e\u0644\u0627\u0635\u0629\n\n\u0643\u062e\u0644\u0627\u0635\u0629\u060c \u064a\u0645\u0643\u0646\u0646\u0627 \u0627\u0633\u062a\u0646\u062a\u0627\u062c \u0627\u0644\u0623\u0641\u0643\u0627\u0631 \u0627\u0644\u062a\u0627\u0644\u064a\u0629:\n\n* \u0627\u0644\u0646\u0645\u0648\u0630\u062c \u0627\u0644\u0630\u064a \u064a\u0643\u0648\u0646 \u0623\u0643\u062b\u0631 \u062a\u0639\u0642\u064a\u062f\u064b\u0627 (\u0623\u0648 \u062a\u0639\u0628\u064a\u0631\u064a\u064b\u0627) \u0633\u064a\u062a\u0637\u0644\u0628 \u0648\u0642\u062a\u064b\u0627 \u0623\u0643\u0628\u0631\n  \u0644\u0644\u062a\u062f\u0631\u064a\u0628\u061b\n* \u0627\u0644\u0646\u0645\u0648\u0630\u062c \u0627\u0644\u0623\u0643\u062b\u0631 \u062a\u0639\u0642\u064a\u062f\u064b\u0627 \u0644\u0627 \u064a\u0636\u0645\u0646 \u062a\u0642\u0644\u064a\u0644 \u062e\u0637\u0623 \u0627\u0644\u062a\u0646\u0628\u0624.\n\n\u0647\u0630\u0647 \u0627\u0644\u062c\u0648\u0627\u0646\u0628 \u062a\u062a\u0639\u0644\u0642 \u0628\u0639\u0645\u0648\u0645\u064a\u0629 \u0627\u0644\u0646\u0645\u0648\u0630\u062c \u0648\u062a\u062c\u0646\u0628 \u0646\u0645\u0648\u0630\u062c\n\u0639\u062f\u0645 \u0627\u0644\u062a\u0643\u064a\u0641 \u0623\u0648 \u0627\u0644\u062a\u0643\u064a\u0641 \u0627\u0644\u0645\u0641\u0631\u0637.\n\n"
      ]
    }
  ],
  "metadata": {
    "kernelspec": {
      "display_name": "Python 3",
      "language": "python",
      "name": "python3"
    },
    "language_info": {
      "codemirror_mode": {
        "name": "ipython",
        "version": 3
      },
      "file_extension": ".py",
      "mimetype": "text/x-python",
      "name": "python",
      "nbconvert_exporter": "python",
      "pygments_lexer": "ipython3",
      "version": "3.10.13"
    }
  },
  "nbformat": 4,
  "nbformat_minor": 0
}