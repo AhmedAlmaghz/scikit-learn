{
  "cells": [
    {
      "cell_type": "markdown",
      "metadata": {},
      "source": [
        "<div class='alert alert-warning'>\n\n# JupyterLite warning\n\nRunning the scikit-learn examples in JupyterLite is experimental and you may encounter some unexpected behavior.\n\nThe main difference is that imports will take a lot longer than usual, for example the first `import sklearn` can take roughly 10-20s.\n\nIf you notice problems, feel free to open an [issue](https://github.com/scikit-learn/scikit-learn/issues/new/choose) about it.\n</div>"
      ]
    },
    {
      "cell_type": "code",
      "execution_count": null,
      "metadata": {
        "collapsed": false
      },
      "outputs": [],
      "source": [
        "# JupyterLite-specific code\nimport matplotlib\nimport pandas"
      ]
    },
    {
      "cell_type": "markdown",
      "metadata": {},
      "source": [
        "\n# \u0627\u0644\u0645\u062a\u062c\u0647 \u0627\u0644\u0630\u0627\u062a\u064a \u0627\u0644\u0631\u0626\u064a\u0633\u064a \u0644\u0648\u064a\u0643\u064a\u0628\u064a\u062f\u064a\u0627\n\n\u0647\u0646\u0627\u0643 \u0637\u0631\u064a\u0642\u0629 \u0643\u0644\u0627\u0633\u064a\u0643\u064a\u0629 \u0644\u062a\u0623\u0643\u064a\u062f \u0627\u0644\u0623\u0647\u0645\u064a\u0629 \u0627\u0644\u0646\u0633\u0628\u064a\u0629 \u0644\u0644\u0631\u0624\u0648\u0633 \u0641\u064a\n\u0627\u0644\u0631\u0633\u0645 \u0627\u0644\u0628\u064a\u0627\u0646\u064a \u0647\u0648 \u062d\u0633\u0627\u0628 \u0627\u0644\u0645\u062a\u062c\u0647 \u0627\u0644\u0630\u0627\u062a\u064a \u0627\u0644\u0631\u0626\u064a\u0633\u064a \u0644\u0645\u0635\u0641\u0648\u0641\u0629 \u0627\u0644\u0645\u062c\u0627\u0648\u0631\u0629\n\u062d\u062a\u0649 \u064a\u062a\u0645 \u062a\u0639\u064a\u064a\u0646 \u0642\u064a\u0645 \u0645\u0643\u0648\u0646\u0627\u062a \u0627\u0644\u0645\u062a\u062c\u0647 \u0627\u0644\u0630\u0627\u062a\u064a \u0627\u0644\u0623\u0648\u0644 \u0644\u0643\u0644 \u0631\u0623\u0633\n\u0643\u062f\u0631\u062c\u0629 \u0645\u0631\u0643\u0632\u064a\u0629: https://en.wikipedia.org/wiki/Eigenvector_centrality.\n\u0639\u0644\u0649 \u0631\u0633\u0645 \u0628\u064a\u0627\u0646\u064a \u0644\u0644\u0635\u0641\u062d\u0627\u062a \u0648\u0627\u0644\u0631\u0648\u0627\u0628\u0637 \u062a\u0633\u0645\u0649 \u0647\u0630\u0647 \u0627\u0644\u0642\u064a\u0645 \u0628\u062a\u0635\u0646\u064a\u0641\u0627\u062a PageRank\n\u0645\u0646 \u0642\u0628\u0644 Google.\n\n\u0647\u062f\u0641 \u0647\u0630\u0627 \u0627\u0644\u0645\u062b\u0627\u0644 \u0647\u0648 \u062a\u062d\u0644\u064a\u0644 \u0627\u0644\u0631\u0633\u0645 \u0627\u0644\u0628\u064a\u0627\u0646\u064a \u0644\u0644\u0631\u0648\u0627\u0628\u0637 \u062f\u0627\u062e\u0644\n\u0645\u0642\u0627\u0644\u0627\u062a \u0648\u064a\u0643\u064a\u0628\u064a\u062f\u064a\u0627 \u0644\u062a\u0635\u0646\u064a\u0641 \u0627\u0644\u0645\u0642\u0627\u0644\u0627\u062a \u062d\u0633\u0628 \u0627\u0644\u0623\u0647\u0645\u064a\u0629 \u0627\u0644\u0646\u0633\u0628\u064a\u0629\n\u0648\u0641\u0642\u0627 \u0644\u0647\u0630\u0647 \u0627\u0644\u0645\u0631\u0643\u0632\u064a\u0629 \u0627\u0644\u0645\u062a\u062c\u0647\u0629 \u0627\u0644\u0630\u0627\u062a\u064a\u0629.\n\n\u0627\u0644\u0637\u0631\u064a\u0642\u0629 \u0627\u0644\u062a\u0642\u0644\u064a\u062f\u064a\u0629 \u0644\u062d\u0633\u0627\u0628 \u0627\u0644\u0645\u062a\u062c\u0647 \u0627\u0644\u0630\u0627\u062a\u064a \u0627\u0644\u0631\u0626\u064a\u0633\u064a \u0647\u064a \u0627\u0633\u062a\u062e\u062f\u0627\u0645\n[\u0637\u0631\u064a\u0642\u0629 \u062a\u0643\u0631\u0627\u0631 \u0627\u0644\u0642\u0648\u0629](https://en.wikipedia.org/wiki/Power_iteration).\n\u0647\u0646\u0627 \u064a\u062a\u0645 \u0625\u0646\u062c\u0627\u0632 \u0627\u0644\u062d\u0633\u0627\u0628 \u0628\u0641\u0636\u0644 \u062e\u0648\u0627\u0631\u0632\u0645\u064a\u0629 SVD \u0627\u0644\u0639\u0634\u0648\u0627\u0626\u064a\u0629 \u0644\u0645\u0627\u0631\u062a\u064a\u0646\u0633\u0648\u0646\n\u0627\u0644\u0645\u0637\u0628\u0642\u0629 \u0641\u064a scikit-learn.\n\n\u064a\u062a\u0645 \u062c\u0644\u0628 \u0628\u064a\u0627\u0646\u0627\u062a \u0627\u0644\u0631\u0633\u0645 \u0627\u0644\u0628\u064a\u0627\u0646\u064a \u0645\u0646 \u0625\u063a\u0631\u0627\u0642 DBpedia. DBpedia \u0647\u064a \u0627\u0633\u062a\u062e\u0631\u0627\u062c\n\u0644\u0628\u064a\u0627\u0646\u0627\u062a \u0648\u064a\u0643\u064a\u0628\u064a\u062f\u064a\u0627 \u0627\u0644\u0647\u064a\u0643\u0644\u064a\u0629 \u0627\u0644\u0643\u0627\u0645\u0646\u0629.\n"
      ]
    },
    {
      "cell_type": "code",
      "execution_count": null,
      "metadata": {
        "collapsed": false
      },
      "outputs": [],
      "source": [
        "# \u0627\u0644\u0645\u0624\u0644\u0641\u0648\u0646: \u0645\u0637\u0648\u0631\u064a scikit-learn\n# \u0645\u0639\u0631\u0641 \u0627\u0644\u062a\u0631\u062e\u064a\u0635: BSD-3-Clause\n\nimport os\nfrom bz2 import BZ2File\nfrom datetime import datetime\nfrom pprint import pprint\nfrom time import time\nfrom urllib.request import urlopen\n\nimport numpy as np\nfrom scipy import sparse\n\nfrom sklearn.decomposition import randomized_svd"
      ]
    },
    {
      "cell_type": "markdown",
      "metadata": {},
      "source": [
        "## Download data, if not already on disk\n\n"
      ]
    },
    {
      "cell_type": "code",
      "execution_count": null,
      "metadata": {
        "collapsed": false
      },
      "outputs": [],
      "source": [
        "redirects_url = \"http://downloads.dbpedia.org/3.5.1/en/redirects_en.nt.bz2\"\nredirects_filename = redirects_url.rsplit(\"/\", 1)[1]\n\npage_links_url = \"http://downloads.dbpedia.org/3.5.1/en/page_links_en.nt.bz2\"\npage_links_filename = page_links_url.rsplit(\"/\", 1)[1]\n\nresources = [\n    (redirects_url, redirects_filename),\n    (page_links_url, page_links_filename),\n]\n\nfor url, filename in resources:\n    if not os.path.exists(filename):\n        print(\"Downloading data from '%s', please wait...\" % url)\n        opener = urlopen(url)\n        with open(filename, \"wb\") as f:\n            f.write(opener.read())\n        print()"
      ]
    },
    {
      "cell_type": "markdown",
      "metadata": {},
      "source": [
        "## \u062a\u062d\u0645\u064a\u0644 \u0645\u0644\u0641\u0627\u062a \u0625\u0639\u0627\u062f\u0629 \u0627\u0644\u062a\u0648\u062c\u064a\u0647\n\n"
      ]
    },
    {
      "cell_type": "code",
      "execution_count": null,
      "metadata": {
        "collapsed": false
      },
      "outputs": [],
      "source": [
        "def index(redirects, index_map, k):\n    \"\"\"Find the index of an article name after redirect resolution\"\"\"\n    k = redirects.get(k, k)\n    return index_map.setdefault(k, len(index_map))\n\n\nDBPEDIA_RESOURCE_PREFIX_LEN = len(\"http://dbpedia.org/resource/\")\nSHORTNAME_SLICE = slice(DBPEDIA_RESOURCE_PREFIX_LEN + 1, -1)\n\n\ndef short_name(nt_uri):\n    \"\"\"Remove the < and > URI markers and the common URI prefix\"\"\"\n    return nt_uri[SHORTNAME_SLICE]\n\n\ndef get_redirects(redirects_filename):\n    \"\"\"Parse the redirections and build a transitively closed map out of it\"\"\"\n    redirects = {}\n    print(\"Parsing the NT redirect file\")\n    for l, line in enumerate(BZ2File(redirects_filename)):\n        split = line.split()\n        if len(split) != 4:\n            print(\"ignoring malformed line: \" + line)\n            continue\n        redirects[short_name(split[0])] = short_name(split[2])\n        if l % 1000000 == 0:\n            print(\"[%s] line: %08d\" % (datetime.now().isoformat(), l))\n\n    # compute the transitive closure\n    print(\"Computing the transitive closure of the redirect relation\")\n    for l, source in enumerate(redirects.keys()):\n        transitive_target = None\n        target = redirects[source]\n        seen = {source}\n        while True:\n            transitive_target = target\n            target = redirects.get(target)\n            if target is None or target in seen:\n                break\n            seen.add(target)\n        redirects[source] = transitive_target\n        if l % 1000000 == 0:\n            print(\"[%s] line: %08d\" % (datetime.now().isoformat(), l))\n\n    return redirects"
      ]
    },
    {
      "cell_type": "markdown",
      "metadata": {},
      "source": [
        "## \u062d\u0633\u0627\u0628 \u0645\u0635\u0641\u0648\u0641\u0629 \u0627\u0644\u0645\u062c\u0627\u0648\u0631\u0629\n\n"
      ]
    },
    {
      "cell_type": "code",
      "execution_count": null,
      "metadata": {
        "collapsed": false
      },
      "outputs": [],
      "source": [
        "def get_adjacency_matrix(redirects_filename, page_links_filename, limit=None):\n    \"\"\"Extract the adjacency graph as a scipy sparse matrix\n\n    Redirects are resolved first.\nRedirects are resolved first.\n\n    Returns X, the scipy sparse adjacency matrix, redirects as python\n    dict from article names to article names and index_map a python dict\n    from article names to python int (article indexes).\n    \"\"\"\n\n    print(\"Computing the redirect map\")\n    redirects = get_redirects(redirects_filename)\n\n    print(\"Computing the integer index map\")\n    index_map = dict()\n    links = list()\n    for l, line in enumerate(BZ2File(page_links_filename)):\n        split = line.split()\n        if len(split) != 4:\n            print(\"ignoring malformed line: \" + line)\n            continue\n        i = index(redirects, index_map, short_name(split[0]))\n        j = index(redirects, index_map, short_name(split[2]))\n        links.append((i, j))\n        if l % 1000000 == 0:\n            print(\"[%s] line: %08d\" % (datetime.now().isoformat(), l))\n\n        if limit is not None and l >= limit - 1:\n            break\n\n    print(\"Computing the adjacency matrix\")\n    X = sparse.lil_matrix((len(index_map), len(index_map)), dtype=np.float32)\n    for i, j in links:\n        X[i, j] = 1.0\n    del links\n    print(\"Converting to CSR representation\")\n    X = X.tocsr()\n    print(\"CSR conversion done\")\n    return X, redirects, index_map\n\n\n# \u0627\u0644\u062a\u0648\u0642\u0641 \u0628\u0639\u062f 5M \u0645\u0646 \u0627\u0644\u0631\u0648\u0627\u0628\u0637 \u0644\u062c\u0639\u0644 \u0627\u0644\u0639\u0645\u0644 \u0645\u0645\u0643\u0646\u0627 \u0641\u064a RAM\nX, redirects, index_map = get_adjacency_matrix(\n    redirects_filename, page_links_filename, limit=5000000\n)\nnames = {i: name for name, i in index_map.items()}"
      ]
    },
    {
      "cell_type": "markdown",
      "metadata": {},
      "source": [
        "## \u062d\u0633\u0627\u0628 \u0627\u0644\u0645\u062a\u062c\u0647 \u0627\u0644\u0645\u0646\u0641\u0631\u062f \u0627\u0644\u0631\u0626\u064a\u0633\u064a \u0628\u0627\u0633\u062a\u062e\u062f\u0627\u0645 SVD \u0627\u0644\u0639\u0634\u0648\u0627\u0626\u064a\u0629\n\n"
      ]
    },
    {
      "cell_type": "code",
      "execution_count": null,
      "metadata": {
        "collapsed": false
      },
      "outputs": [],
      "source": [
        "print(\"Computing the principal singular vectors using randomized_svd\")\nt0 = time()\nU, s, V = randomized_svd(X, 5, n_iter=3)\nprint(\"done in %0.3fs\" % (time() - t0))\n\n# \u0637\u0628\u0627\u0639\u0629 \u0623\u0633\u0645\u0627\u0621 \u0623\u0642\u0648\u0649 \u0645\u0643\u0648\u0646\u0627\u062a \u0648\u064a\u0643\u064a\u0628\u064a\u062f\u064a\u0627 \u0630\u0627\u062a \u0627\u0644\u0635\u0644\u0629 \u0644\u0644\u0645\u062a\u062c\u0647 \u0627\u0644\u0645\u0646\u0641\u0631\u062f \u0627\u0644\u0631\u0626\u064a\u0633\u064a\n# \u0648\u0627\u0644\u062a\u064a \u064a\u062c\u0628 \u0623\u0646 \u062a\u0643\u0648\u0646 \u0645\u0634\u0627\u0628\u0647\u0629 \u0644\u0623\u0639\u0644\u0649 \u0645\u062a\u062c\u0647 \u0630\u0627\u062a\u064a\nprint(\"Top wikipedia pages according to principal singular vectors\")\npprint([names[i] for i in np.abs(U.T[0]).argsort()[-10:]])\npprint([names[i] for i in np.abs(V[0]).argsort()[-10:]])"
      ]
    },
    {
      "cell_type": "markdown",
      "metadata": {},
      "source": [
        "## \u062d\u0633\u0627\u0628 \u062f\u0631\u062c\u0627\u062a \u0627\u0644\u0645\u0631\u0643\u0632\u064a\u0629\n\n"
      ]
    },
    {
      "cell_type": "code",
      "execution_count": null,
      "metadata": {
        "collapsed": false
      },
      "outputs": [],
      "source": [
        "def centrality_scores(X, alpha=0.85, max_iter=100, tol=1e-10):\n    \"\"\"Power iteration computation of the principal eigenvector\n\n    This method is also known as Google PageRank and the implementation\n    is based on the one from the NetworkX project (BSD licensed too)\n    with copyrights by:\n\n      Aric Hagberg <hagberg@lanl.gov>\n      Dan Schult <dschult@colgate.edu>\n      Pieter Swart <swart@lanl.gov>\n    \"\"\"\n    n = X.shape[0]\n    X = X.copy()\n    incoming_counts = np.asarray(X.sum(axis=1)).ravel()\n\n    print(\"Normalizing the graph\")\n    for i in incoming_counts.nonzero()[0]:\n        X.data[X.indptr[i] : X.indptr[i + 1]] *= 1.0 / incoming_counts[i]\n    dangle = np.asarray(np.where(np.isclose(X.sum(axis=1), 0), 1.0 / n, 0)).ravel()\n\n    scores = np.full(n, 1.0 / n, dtype=np.float32)  # initial guess\n    for i in range(max_iter):\n        print(\"power iteration #%d\" % i)\n        prev_scores = scores\n        scores = (\n            alpha * (scores * X + np.dot(dangle, prev_scores))\n            + (1 - alpha) * prev_scores.sum() / n\n        )\n        # check convergence: normalized l_inf norm\n        scores_max = np.abs(scores).max()\n        if scores_max == 0.0:\n            scores_max = 1.0\n        err = np.abs(scores - prev_scores).max() / scores_max\n        print(\"error: %0.6f\" % err)\n        if err < n * tol:\n            return scores\n\n    return scores\n\n\nprint(\"Computing principal eigenvector score using a power iteration method\")\nt0 = time()\nscores = centrality_scores(X, max_iter=100)\nprint(\"done in %0.3fs\" % (time() - t0))\npprint([names[i] for i in np.abs(scores).argsort()[-10:]])"
      ]
    }
  ],
  "metadata": {
    "kernelspec": {
      "display_name": "Python 3",
      "language": "python",
      "name": "python3"
    },
    "language_info": {
      "codemirror_mode": {
        "name": "ipython",
        "version": 3
      },
      "file_extension": ".py",
      "mimetype": "text/x-python",
      "name": "python",
      "nbconvert_exporter": "python",
      "pygments_lexer": "ipython3",
      "version": "3.10.13"
    }
  },
  "nbformat": 4,
  "nbformat_minor": 0
}