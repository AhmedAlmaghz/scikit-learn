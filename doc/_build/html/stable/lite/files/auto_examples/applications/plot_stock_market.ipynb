{
  "cells": [
    {
      "cell_type": "markdown",
      "metadata": {},
      "source": [
        "<div class='alert alert-warning'>\n\n# JupyterLite warning\n\nRunning the scikit-learn examples in JupyterLite is experimental and you may encounter some unexpected behavior.\n\nThe main difference is that imports will take a lot longer than usual, for example the first `import sklearn` can take roughly 10-20s.\n\nIf you notice problems, feel free to open an [issue](https://github.com/scikit-learn/scikit-learn/issues/new/choose) about it.\n</div>"
      ]
    },
    {
      "cell_type": "code",
      "execution_count": null,
      "metadata": {
        "collapsed": false
      },
      "outputs": [],
      "source": [
        "# JupyterLite-specific code\nimport matplotlib\nimport pandas"
      ]
    },
    {
      "cell_type": "markdown",
      "metadata": {},
      "source": [
        "\n# \u0647\u064a\u0643\u0644\u0629 \u0633\u0648\u0642 \u0627\u0644\u0623\u0633\u0647\u0645 \u0627\u0644\u0645\u0631\u0626\u064a\u0629\n\n\u064a\u0633\u062a\u062e\u062f\u0645 \u0647\u0630\u0627 \u0627\u0644\u0645\u062b\u0627\u0644 \u0639\u062f\u0629 \u062a\u0642\u0646\u064a\u0627\u062a \u062a\u0639\u0644\u0645 \u063a\u064a\u0631 \u062e\u0627\u0636\u0639\u0629 \u0644\u0644\u0625\u0634\u0631\u0627\u0641 \u0644\u0627\u0633\u062a\u062e\u0631\u0627\u062c\n\u0647\u064a\u0643\u0644 \u0633\u0648\u0642 \u0627\u0644\u0623\u0633\u0647\u0645 \u0645\u0646 \u0627\u0644\u0627\u062e\u062a\u0644\u0627\u0641\u0627\u062a \u0641\u064a \u0627\u0644\u0627\u0642\u062a\u0628\u0627\u0633\u0627\u062a \u0627\u0644\u062a\u0627\u0631\u064a\u062e\u064a\u0629.\n\n\u0627\u0644\u0643\u0645\u064a\u0629 \u0627\u0644\u062a\u064a \u0646\u0633\u062a\u062e\u062f\u0645\u0647\u0627 \u0647\u064a \u0627\u0644\u062a\u063a\u064a\u0631 \u0627\u0644\u064a\u0648\u0645\u064a \u0641\u064a \u0633\u0639\u0631 \u0627\u0644\u0627\u0642\u062a\u0628\u0627\u0633: \u0627\u0644\u0627\u0642\u062a\u0628\u0627\u0633\u0627\u062a\n\u0627\u0644\u0645\u0631\u062a\u0628\u0637\u0629 \u062a\u0645\u064a\u0644 \u0625\u0644\u0649 \u0627\u0644\u062a\u0642\u0644\u0628 \u0641\u064a\u0645\u0627 \u064a\u062a\u0639\u0644\u0642 \u0628\u0628\u0639\u0636\u0647\u0627 \u0627\u0644\u0628\u0639\u0636 \u062e\u0644\u0627\u0644 \u064a\u0648\u0645.\n"
      ]
    },
    {
      "cell_type": "code",
      "execution_count": null,
      "metadata": {
        "collapsed": false
      },
      "outputs": [],
      "source": [
        "# Authors: The scikit-learn developers\n# SPDX-License-Identifier: BSD-3-Clause"
      ]
    },
    {
      "cell_type": "markdown",
      "metadata": {},
      "source": [
        "## \u0627\u0633\u062a\u0631\u062c\u0627\u0639 \u0627\u0644\u0628\u064a\u0627\u0646\u0627\u062a \u0645\u0646 \u0627\u0644\u0625\u0646\u062a\u0631\u0646\u062a\n\n\u0627\u0644\u0628\u064a\u0627\u0646\u0627\u062a \u0645\u0646 2003 - 2008. \u0647\u0630\u0627 \u0647\u0627\u062f\u0626 \u0628\u0634\u0643\u0644 \u0645\u0639\u0642\u0648\u0644: (\u0644\u064a\u0633 \u0645\u0646\u0630 \u0648\u0642\u062a \u0637\u0648\u064a\u0644 \u0628\u062d\u064a\u062b\n\u0646\u062d\u0635\u0644 \u0639\u0644\u0649 \u0634\u0631\u0643\u0627\u062a \u0627\u0644\u062a\u0643\u0646\u0648\u0644\u0648\u062c\u064a\u0627 \u0627\u0644\u0641\u0627\u0626\u0642\u0629\u060c \u0648\u0642\u0628\u0644 \u062a\u062d\u0637\u0645 2008). \u064a\u0645\u0643\u0646 \u0627\u0644\u062d\u0635\u0648\u0644 \u0639\u0644\u0649 \u0647\u0630\u0627 \u0627\u0644\u0646\u0648\u0639 \u0645\u0646\n\u0627\u0644\u0628\u064a\u0627\u0646\u0627\u062a \u0627\u0644\u062a\u0627\u0631\u064a\u062e\u064a\u0629 \u0645\u0646 \u0648\u0627\u062c\u0647\u0627\u062a \u0628\u0631\u0645\u062c\u0629 \u0627\u0644\u062a\u0637\u0628\u064a\u0642\u0627\u062a \u0645\u062b\u0644\n[data.nasdaq.com](https://data.nasdaq.com/) \u0648\n[alphavantage.co](https://www.alphavantage.co/).\n\n"
      ]
    },
    {
      "cell_type": "code",
      "execution_count": null,
      "metadata": {
        "collapsed": false
      },
      "outputs": [],
      "source": [
        "import sys\n\nimport numpy as np\nimport pandas as pd\n\nsymbol_dict = {\n    \"TOT\": \"Total\",\n    \"XOM\": \"Exxon\",\n    \"CVX\": \"Chevron\",\n    \"COP\": \"ConocoPhillips\",\n    \"VLO\": \"Valero Energy\",\n    \"MSFT\": \"Microsoft\",\n    \"IBM\": \"IBM\",\n    \"TWX\": \"Time Warner\",\n    \"CMCSA\": \"Comcast\",\n    \"CVC\": \"Cablevision\",\n    \"YHOO\": \"Yahoo\",\n    \"DELL\": \"Dell\",\n    \"HPQ\": \"HP\",\n    \"AMZN\": \"Amazon\",\n    \"TM\": \"Toyota\",\n    \"CAJ\": \"Canon\",\n    \"SNE\": \"Sony\",\n    \"F\": \"Ford\",\n    \"HMC\": \"Honda\",\n    \"NAV\": \"Navistar\",\n    \"NOC\": \"Northrop Grumman\",\n    \"BA\": \"Boeing\",\n    \"KO\": \"Coca Cola\",\n    \"MMM\": \"3M\",\n    \"MCD\": \"McDonald's\",\n    \"PEP\": \"Pepsi\",\n    \"K\": \"Kellogg\",\n    \"UN\": \"Unilever\",\n    \"MAR\": \"Marriott\",\n    \"PG\": \"Procter Gamble\",\n    \"CL\": \"Colgate-Palmolive\",\n    \"GE\": \"General Electrics\",\n    \"WFC\": \"Wells Fargo\",\n    \"JPM\": \"JPMorgan Chase\",\n    \"AIG\": \"AIG\",\n    \"AXP\": \"American express\",\n    \"BAC\": \"Bank of America\",\n    \"GS\": \"Goldman Sachs\",\n    \"AAPL\": \"Apple\",\n    \"SAP\": \"SAP\",\n    \"CSCO\": \"Cisco\",\n    \"TXN\": \"Texas Instruments\",\n    \"XRX\": \"Xerox\",\n    \"WMT\": \"Wal-Mart\",\n    \"HD\": \"Home Depot\",\n    \"GSK\": \"GlaxoSmithKline\",\n    \"PFE\": \"Pfizer\",\n    \"SNY\": \"Sanofi-Aventis\",\n    \"NVS\": \"Novartis\",\n    \"KMB\": \"Kimberly-Clark\",\n    \"R\": \"Ryder\",\n    \"GD\": \"General Dynamics\",\n    \"RTN\": \"Raytheon\",\n    \"CVS\": \"CVS\",\n    \"CAT\": \"Caterpillar\",\n    \"DD\": \"DuPont de Nemours\",\n}\n\n\nsymbols, names = np.array(sorted(symbol_dict.items())).T\n\nquotes = []\n\nfor symbol in symbols:\n    print(\"Fetching quote history for %r\" % symbol, file=sys.stderr)\n    url = (\n        \"https://raw.githubusercontent.com/scikit-learn/examples-data/\"\n        \"master/financial-data/{}.csv\"\n    )\n    quotes.append(pd.read_csv(url.format(symbol)))\n\nclose_prices = np.vstack([q[\"close\"] for q in quotes])\nopen_prices = np.vstack([q[\"open\"] for q in quotes])\n\n# \u0627\u0644\u062a\u063a\u064a\u0631\u0627\u062a \u0627\u0644\u064a\u0648\u0645\u064a\u0629 \u0641\u064a \u0627\u0644\u0627\u0642\u062a\u0628\u0627\u0633\u0627\u062a \u0647\u064a \u0645\u0627 \u062a\u062d\u0645\u0644 \u0645\u0639\u0638\u0645 \u0627\u0644\u0645\u0639\u0644\u0648\u0645\u0627\u062a\nvariation = close_prices - open_prices"
      ]
    },
    {
      "cell_type": "markdown",
      "metadata": {},
      "source": [
        "\n## \u062a\u0639\u0644\u0645 \u0647\u064a\u0643\u0644 \u0627\u0644\u0631\u0633\u0645 \u0627\u0644\u0628\u064a\u0627\u0646\u064a\n\n\u0646\u0633\u062a\u062e\u062f\u0645 \u062a\u0642\u062f\u064a\u0631 \u0645\u0639\u0643\u0648\u0633 \u0627\u0644\u062a\u0628\u0627\u064a\u0646 \u0627\u0644\u0646\u0627\u062f\u0631 \u0644\u0644\u0639\u062b\u0648\u0631 \u0639\u0644\u0649 \u0627\u0644\u0627\u0642\u062a\u0628\u0627\u0633\u0627\u062a \u0627\u0644\u062a\u064a\n\u0645\u062a\u0631\u0627\u0628\u0637\u0629 \u0634\u0631\u0637\u064a\u0627\u064b \u0639\u0644\u0649 \u0627\u0644\u0622\u062e\u0631\u064a\u0646. \u0639\u0644\u0649 \u0648\u062c\u0647 \u0627\u0644\u062a\u062d\u062f\u064a\u062f\u060c \u064a\u0639\u0637\u064a\u0646\u0627 \u0645\u0639\u0643\u0648\u0633 \u0627\u0644\u062a\u0628\u0627\u064a\u0646 \u0627\u0644\u0646\u0627\u062f\u0631\n\u0631\u0633\u0645 \u0628\u064a\u0627\u0646\u064a\u060c \u0648\u0647\u0648 \u0642\u0627\u0626\u0645\u0629 \u0645\u0646 \u0627\u0644\u0627\u062a\u0635\u0627\u0644\u0627\u062a. \u0644\u0643\u0644\n\u0631\u0645\u0632\u060c \u0627\u0644\u0631\u0645\u0648\u0632 \u0627\u0644\u062a\u064a \u064a\u062a\u0635\u0644 \u0628\u0647\u0627 \u0647\u064a \u062a\u0644\u0643 \u0627\u0644\u0645\u0641\u064a\u062f\u0629 \u0644\u0634\u0631\u062d\n\u062a\u0642\u0644\u0628\u0627\u062a\u0647.\n\n"
      ]
    },
    {
      "cell_type": "code",
      "execution_count": null,
      "metadata": {
        "collapsed": false
      },
      "outputs": [],
      "source": [
        "from sklearn import covariance\n\nalphas = np.logspace(-1.5, 1, num=10)\nedge_model = covariance.GraphicalLassoCV(alphas=alphas)\n\n# \u062a\u0648\u062d\u064a\u062f \u0633\u0644\u0633\u0644\u0629 \u0627\u0644\u0648\u0642\u062a: \u0627\u0633\u062a\u062e\u062f\u0627\u0645 \u0627\u0644\u0627\u0631\u062a\u0628\u0627\u0637\u0627\u062a \u0628\u062f\u0644\u0627\u064b \u0645\u0646 \u0627\u0644\u062a\u0628\u0627\u064a\u0646\n# \u0627\u0644\u0633\u0627\u0628\u0642 \u0623\u0643\u062b\u0631 \u0643\u0641\u0627\u0621\u0629 \u0644\u0627\u0633\u062a\u0639\u0627\u062f\u0629 \u0627\u0644\u0647\u064a\u0643\u0644\nX = variation.copy().T\nX /= X.std(axis=0)\nedge_model.fit(X)"
      ]
    },
    {
      "cell_type": "markdown",
      "metadata": {},
      "source": [
        "## \u0627\u0644\u062a\u062c\u0645\u064a\u0639 \u0628\u0627\u0633\u062a\u062e\u062f\u0627\u0645 \u0627\u0646\u062a\u0634\u0627\u0631 \u0627\u0644\u0627\u0646\u062a\u0645\u0627\u0621\n\n\u0646\u0633\u062a\u062e\u062f\u0645 \u0627\u0644\u062a\u062c\u0645\u064a\u0639 \u0644\u062c\u0645\u0639 \u0627\u0644\u0627\u0642\u062a\u0628\u0627\u0633\u0627\u062a \u0627\u0644\u062a\u064a \u062a\u062a\u0635\u0631\u0641 \u0628\u0634\u0643\u0644 \u0645\u0634\u0627\u0628\u0647. \u0647\u0646\u0627\u060c\n\u0645\u0646 \u0628\u064a\u0646 `\u062a\u0642\u0646\u064a\u0627\u062a \u0627\u0644\u062a\u062c\u0645\u064a\u0639 \u0627\u0644\u0645\u062e\u062a\u0644\u0641\u0629 <clustering>` \u0627\u0644\u0645\u062a\u0627\u062d\u0629\n\u0641\u064a scikit-learn\u060c \u0646\u0633\u062a\u062e\u062f\u0645 `affinity_propagation` \u0643\u0645\u0627 \u0623\u0646\u0647 \u0644\u0627\n\u0644\u0627 \u062a\u0641\u0631\u0636 \u0645\u062c\u0645\u0648\u0639\u0627\u062a \u0645\u062a\u0633\u0627\u0648\u064a\u0629 \u0627\u0644\u062d\u062c\u0645\u060c \u0648\u064a\u0645\u0643\u0646\u0647\u0627 \u0627\u062e\u062a\u064a\u0627\u0631 \u0639\u062f\u062f \u0627\u0644\u0645\u062c\u0645\u0648\u0639\u0627\u062a \u062a\u0644\u0642\u0627\u0626\u064a\u064b\u0627\n\u0645\u0646 \u0627\u0644\u0628\u064a\u0627\u0646\u0627\u062a.\n\n\u0644\u0627\u062d\u0638 \u0623\u0646 \u0647\u0630\u0627 \u064a\u0639\u0637\u064a\u0646\u0627 \u0645\u0624\u0634\u0631\u064b\u0627 \u0645\u062e\u062a\u0644\u0641\u064b\u0627 \u0639\u0646 \u0627\u0644\u0631\u0633\u0645 \u0627\u0644\u0628\u064a\u0627\u0646\u064a\u060c \u062d\u064a\u062b \u064a\u0639\u0643\u0633 \u0627\u0644\u0631\u0633\u0645 \u0627\u0644\u0628\u064a\u0627\u0646\u064a\n\u0627\u0644\u0639\u0644\u0627\u0642\u0627\u062a \u0627\u0644\u0634\u0631\u0637\u064a\u0629 \u0628\u064a\u0646 \u0627\u0644\u0645\u062a\u063a\u064a\u0631\u0627\u062a\u060c \u0641\u064a \u062d\u064a\u0646 \u0623\u0646 \u0627\u0644\u062a\u062c\u0645\u064a\u0639\n\u064a\u0639\u0643\u0633 \u0627\u0644\u062e\u0635\u0627\u0626\u0635 \u0627\u0644\u0647\u0627\u0645\u0634\u064a\u0629: \u064a\u0645\u0643\u0646 \u0627\u0639\u062a\u0628\u0627\u0631 \u0627\u0644\u0645\u062a\u063a\u064a\u0631\u0627\u062a \u0627\u0644\u0645\u062c\u0645\u0639\u0629 \u0645\u0639\u064b\u0627\n\u0643\u0623\u0646 \u0644\u0647\u0627 \u062a\u0623\u062b\u064a\u0631\u064b\u0627 \u0645\u0645\u0627\u062b\u0644\u064b\u0627 \u0639\u0644\u0649 \u0645\u0633\u062a\u0648\u0649 \u0633\u0648\u0642 \u0627\u0644\u0623\u0633\u0647\u0645 \u0628\u0627\u0644\u0643\u0627\u0645\u0644.\n\n"
      ]
    },
    {
      "cell_type": "code",
      "execution_count": null,
      "metadata": {
        "collapsed": false
      },
      "outputs": [],
      "source": [
        "from sklearn import cluster\n\n_, labels = cluster.affinity_propagation(edge_model.covariance_, random_state=0)\nn_labels = labels.max()\n\nfor i in range(n_labels + 1):\n    print(f\"Cluster {i + 1}: {', '.join(names[labels == i])}\")"
      ]
    },
    {
      "cell_type": "markdown",
      "metadata": {},
      "source": [
        "## \u062a\u0636\u0645\u064a\u0646 \u0641\u064a \u0645\u0633\u0627\u062d\u0629 \u062b\u0646\u0627\u0626\u064a\u0629 \u0627\u0644\u0623\u0628\u0639\u0627\u062f\n\n\u0644\u0623\u063a\u0631\u0627\u0636 \u0627\u0644\u0639\u0631\u0636\u060c \u0646\u062d\u062a\u0627\u062c \u0625\u0644\u0649 \u0648\u0636\u0639 \u0627\u0644\u0631\u0645\u0648\u0632 \u0627\u0644\u0645\u062e\u062a\u0644\u0641\u0629 \u0639\u0644\u0649\n\u0642\u0645\u0627\u0634 \u062b\u0646\u0627\u0626\u064a \u0627\u0644\u0623\u0628\u0639\u0627\u062f. \u0644\u0647\u0630\u0627 \u0646\u0633\u062a\u062e\u062f\u0645 `manifold`\n\u062a\u0642\u0646\u064a\u0627\u062a \u0644\u0627\u0633\u062a\u0631\u062f\u0627\u062f \u062a\u0636\u0645\u064a\u0646 \u062b\u0646\u0627\u0626\u064a \u0627\u0644\u0623\u0628\u0639\u0627\u062f.\n\u0646\u0633\u062a\u062e\u062f\u0645 \u0645\u062d\u062f\u062f\u064b\u0627 \u0643\u062b\u064a\u0641\u064b\u0627 \u0644\u0644\u0648\u0635\u0648\u0644 \u0625\u0644\u0649 \u0625\u0645\u0643\u0627\u0646\u064a\u0629 \u0625\u0639\u0627\u062f\u0629 \u0627\u0644\u0625\u0646\u062a\u0627\u062c (\u064a\u062a\u0645 \u0628\u062f\u0621 arpack\n\u0645\u0639 \u0627\u0644\u0645\u062a\u062c\u0647\u0627\u062a \u0627\u0644\u0639\u0634\u0648\u0627\u0626\u064a\u0629 \u0627\u0644\u062a\u064a \u0644\u0627 \u0646\u062a\u062d\u0643\u0645 \u0641\u064a\u0647\u0627). \u0628\u0627\u0644\u0625\u0636\u0627\u0641\u0629 \u0625\u0644\u0649 \u0630\u0644\u0643\u060c \u0646\u0633\u062a\u062e\u062f\u0645\n\u0639\u062f\u062f \u0643\u0628\u064a\u0631 \u0645\u0646 \u0627\u0644\u062c\u064a\u0631\u0627\u0646 \u0644\u0627\u0644\u062a\u0642\u0627\u0637 \u0627\u0644\u0647\u064a\u0643\u0644 \u0648\u0627\u0633\u0639 \u0627\u0644\u0646\u0637\u0627\u0642.\n\n"
      ]
    },
    {
      "cell_type": "code",
      "execution_count": null,
      "metadata": {
        "collapsed": false
      },
      "outputs": [],
      "source": [
        "# \u0627\u0644\u0639\u062b\u0648\u0631 \u0639\u0644\u0649 \u062a\u0636\u0645\u064a\u0646 \u0645\u0646\u062e\u0641\u0636 \u0627\u0644\u0623\u0628\u0639\u0627\u062f \u0644\u0644\u0639\u0631\u0636: \u0627\u0644\u0639\u062b\u0648\u0631 \u0639\u0644\u0649 \u0623\u0641\u0636\u0644 \u0645\u0648\u0636\u0639\n# \u0644\u0644\u0639\u0642\u062f (\u0627\u0644\u0623\u0633\u0647\u0645) \u0639\u0644\u0649 \u0637\u0627\u0626\u0631\u0629 \u062b\u0646\u0627\u0626\u064a\u0629 \u0627\u0644\u0623\u0628\u0639\u0627\u062f\n\nfrom sklearn import manifold\n\nnode_position_model = manifold.LocallyLinearEmbedding(\n    n_components=2, eigen_solver=\"dense\", n_neighbors=6\n)\n\nembedding = node_position_model.fit_transform(X.T).T"
      ]
    },
    {
      "cell_type": "markdown",
      "metadata": {},
      "source": [
        "## \u0627\u0644\u0639\u0631\u0636 \u0627\u0644\u0645\u0631\u0626\u064a\n\n\u064a\u062a\u0645 \u062f\u0645\u062c \u0645\u062e\u0631\u062c\u0627\u062a \u0627\u0644\u0646\u0645\u0627\u0630\u062c \u0627\u0644\u062b\u0644\u0627\u062b\u0629 \u0641\u064a \u0631\u0633\u0645 \u0628\u064a\u0627\u0646\u064a \u062b\u0646\u0627\u0626\u064a \u0627\u0644\u0623\u0628\u0639\u0627\u062f \u062d\u064a\u062b \u0627\u0644\u0639\u0642\u062f\n\u064a\u0645\u062b\u0644 \u0627\u0644\u0623\u0633\u0647\u0645 \u0648\u0627\u0644\u062d\u0627\u0641\u0627\u062a:\n\n- \u062a\u0633\u062a\u062e\u062f\u0645 \u062a\u0633\u0645\u064a\u0627\u062a \u0627\u0644\u0645\u062c\u0645\u0648\u0639\u0627\u062a \u0644\u062a\u062d\u062f\u064a\u062f \u0644\u0648\u0646 \u0627\u0644\u0639\u0642\u062f\n- \u064a\u0633\u062a\u062e\u062f\u0645 \u0646\u0645\u0648\u0630\u062c \u0627\u0644\u062a\u0628\u0627\u064a\u0646 \u0627\u0644\u0646\u0627\u062f\u0631 \u0644\u0639\u0631\u0636 \u0642\u0648\u0629 \u0627\u0644\u062d\u0648\u0627\u0641\n- \u064a\u0633\u062a\u062e\u062f\u0645 \u0627\u0644\u062a\u0636\u0645\u064a\u0646 \u062b\u0646\u0627\u0626\u064a \u0627\u0644\u0623\u0628\u0639\u0627\u062f \u0644\u0648\u0636\u0639 \u0627\u0644\u0639\u0642\u062f \u0641\u064a \u0627\u0644\u062e\u0637\u0629\n\n\u064a\u062d\u062a\u0648\u064a \u0647\u0630\u0627 \u0627\u0644\u0645\u062b\u0627\u0644 \u0639\u0644\u0649 \u0643\u0645\u064a\u0629 \u0639\u0627\u062f\u0644\u0629 \u0645\u0646 \u0627\u0644\u062a\u0639\u0644\u064a\u0645\u0627\u062a \u0627\u0644\u0628\u0631\u0645\u062c\u064a\u0629 \u0627\u0644\u0645\u062a\u0639\u0644\u0642\u0629 \u0628\u0627\u0644\u0639\u0631\u0636 \u0627\u0644\u0645\u0631\u0626\u064a\u060c \u062d\u064a\u062b\n\u0627\u0644\u0639\u0631\u0636 \u0627\u0644\u0645\u0631\u0626\u064a \u0623\u0645\u0631 \u0628\u0627\u0644\u063a \u0627\u0644\u0623\u0647\u0645\u064a\u0629 \u0647\u0646\u0627 \u0644\u0639\u0631\u0636 \u0627\u0644\u0631\u0633\u0645 \u0627\u0644\u0628\u064a\u0627\u0646\u064a. \u0623\u062d\u062f \u0627\u0644\u062a\u062d\u062f\u064a\u0627\u062a\n\u0647\u0648 \u0648\u0636\u0639 \u0627\u0644\u062a\u0633\u0645\u064a\u0627\u062a \u0644\u062a\u0642\u0644\u064a\u0644 \u0627\u0644\u062a\u062f\u0627\u062e\u0644. \u0644\u0647\u0630\u0627 \u0646\u0633\u062a\u062e\u062f\u0645\n\u062e\u0648\u0627\u0631\u0632\u0645\u064a\u0629 \u062a\u0642\u0631\u064a\u0628\u064a\u0629 \u062a\u0639\u062a\u0645\u062f \u0639\u0644\u0649 \u0627\u062a\u062c\u0627\u0647 \u0623\u0642\u0631\u0628 \u062c\u0627\u0631 \u0639\u0644\u0649 \u0637\u0648\u0644 \u0643\u0644\n\u0627\u0644\u0645\u062d\u0648\u0631.\n\n"
      ]
    },
    {
      "cell_type": "code",
      "execution_count": null,
      "metadata": {
        "collapsed": false
      },
      "outputs": [],
      "source": [
        "import matplotlib.pyplot as plt\nfrom matplotlib.collections import LineCollection\n\nplt.figure(1, facecolor=\"w\", figsize=(10, 8))\nplt.clf()\nax = plt.axes([0.0, 0.0, 1.0, 1.0])\nplt.axis(\"off\")\n\n# \u0631\u0633\u0645 \u0631\u0633\u0645 \u0628\u064a\u0627\u0646\u064a \u0644\u0644\u0627\u0631\u062a\u0628\u0627\u0637\u0627\u062a \u0627\u0644\u062c\u0632\u0626\u064a\u0629\npartial_correlations = edge_model.precision_.copy()\nd = 1 / np.sqrt(np.diag(partial_correlations))\npartial_correlations *= d\npartial_correlations *= d[:, np.newaxis]\nnon_zero = np.abs(np.triu(partial_correlations, k=1)) > 0.02\n\n# \u0631\u0633\u0645 \u0627\u0644\u0639\u0642\u062f \u0628\u0627\u0633\u062a\u062e\u062f\u0627\u0645 \u0625\u062d\u062f\u0627\u062b\u064a\u0627\u062a \u0627\u0644\u062a\u0636\u0645\u064a\u0646 \u0627\u0644\u062e\u0627\u0635 \u0628\u0646\u0627\nplt.scatter(\n    embedding[0], embedding[1], s=100 * d**2, c=labels, cmap=plt.cm.nipy_spectral\n)\n\n# \u0631\u0633\u0645 \u0627\u0644\u062d\u0648\u0627\u0641\nstart_idx, end_idx = np.where(non_zero)\n# \u062a\u062a\u0627\u0628\u0639 (*line0*\u060c *line1*\u060c *line2*)\u060c \u062d\u064a\u062b::\n#            linen = (x0, y0)\u060c (x1, y1)\u060c ... (xm, ym)\nsegments = [\n    [embedding[:, start], embedding[:, stop]] for start, stop in zip(start_idx, end_idx)\n]\nvalues = np.abs(partial_correlations[non_zero])\nlc = LineCollection(\n    segments, zorder=0, cmap=plt.cm.hot_r, norm=plt.Normalize(0, 0.7 * values.max())\n)\nlc.set_array(values)\nlc.set_linewidths(15 * values)\nax.add_collection(lc)\n\n# \u0625\u0636\u0627\u0641\u0629 \u062a\u0633\u0645\u064a\u0629 \u0644\u0643\u0644 \u0639\u0642\u062f\u0629. \u0627\u0644\u062a\u062d\u062f\u064a \u0647\u0646\u0627 \u0647\u0648 \u0623\u0646\u0646\u0627 \u0646\u0631\u064a\u062f\n# \u0648\u0636\u0639 \u0627\u0644\u062a\u0633\u0645\u064a\u0627\u062a \u0644\u062a\u062c\u0646\u0628 \u0627\u0644\u062a\u062f\u0627\u062e\u0644 \u0645\u0639 \u0627\u0644\u062a\u0633\u0645\u064a\u0627\u062a \u0627\u0644\u0623\u062e\u0631\u0649\nfor index, (name, label, (x, y)) in enumerate(zip(names, labels, embedding.T)):\n    dx = x - embedding[0]\n    dx[index] = 1\n    dy = y - embedding[1]\n    dy[index] = 1\n    this_dx = dx[np.argmin(np.abs(dy))]\n    this_dy = dy[np.argmin(np.abs(dx))]\n    if this_dx > 0:\n        horizontalalignment = \"left\"\n        x = x + 0.002\n    else:\n        horizontalalignment = \"right\"\n        x = x - 0.002\n    if this_dy > 0:\n        verticalalignment = \"bottom\"\n        y = y + 0.002\n    else:\n        verticalalignment = \"top\"\n        y = y - 0.002\n    plt.text(\n        x,\n        y,\n        name,\n        size=10,\n        horizontalalignment=horizontalalignment,\n        verticalalignment=verticalalignment,\n        bbox=dict(\n            facecolor=\"w\",\n            edgecolor=plt.cm.nipy_spectral(label / float(n_labels)),\n            alpha=0.6,\n        ),\n    )\n\nplt.xlim(\n    embedding[0].min() - 0.15 * np.ptp(embedding[0]),\n    embedding[0].max() + 0.10 * np.ptp(embedding[0]),\n)\nplt.ylim(\n    embedding[1].min() - 0.03 * np.ptp(embedding[1]),\n    embedding[1].max() + 0.03 * np.ptp(embedding[1]),\n)\n\nplt.show()"
      ]
    }
  ],
  "metadata": {
    "kernelspec": {
      "display_name": "Python 3",
      "language": "python",
      "name": "python3"
    },
    "language_info": {
      "codemirror_mode": {
        "name": "ipython",
        "version": 3
      },
      "file_extension": ".py",
      "mimetype": "text/x-python",
      "name": "python",
      "nbconvert_exporter": "python",
      "pygments_lexer": "ipython3",
      "version": "3.10.13"
    }
  },
  "nbformat": 4,
  "nbformat_minor": 0
}