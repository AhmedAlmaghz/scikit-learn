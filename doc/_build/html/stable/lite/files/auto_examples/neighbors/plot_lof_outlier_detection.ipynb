{
  "cells": [
    {
      "cell_type": "markdown",
      "metadata": {},
      "source": [
        "<div class='alert alert-warning'>\n\n# JupyterLite warning\n\nRunning the scikit-learn examples in JupyterLite is experimental and you may encounter some unexpected behavior.\n\nThe main difference is that imports will take a lot longer than usual, for example the first `import sklearn` can take roughly 10-20s.\n\nIf you notice problems, feel free to open an [issue](https://github.com/scikit-learn/scikit-learn/issues/new/choose) about it.\n</div>"
      ]
    },
    {
      "cell_type": "code",
      "execution_count": null,
      "metadata": {
        "collapsed": false
      },
      "outputs": [],
      "source": [
        "# JupyterLite-specific code\nimport matplotlib\nimport pandas"
      ]
    },
    {
      "cell_type": "markdown",
      "metadata": {},
      "source": [
        "\n# \u0627\u0644\u0643\u0634\u0641 \u0639\u0646 \u0627\u0644\u0642\u064a\u0645 \u0627\u0644\u0634\u0627\u0630\u0629 \u0628\u0627\u0633\u062a\u062e\u062f\u0627\u0645 \u0639\u0627\u0645\u0644 \u0627\u0644\u0627\u0646\u062d\u0631\u0627\u0641 \u0627\u0644\u0645\u062d\u0644\u064a (LOF)\n\n\u062e\u0648\u0627\u0631\u0632\u0645\u064a\u0629 \u0639\u0627\u0645\u0644 \u0627\u0644\u0627\u0646\u062d\u0631\u0627\u0641 \u0627\u0644\u0645\u062d\u0644\u064a (LOF) \u0647\u064a \u0637\u0631\u064a\u0642\u0629 \u063a\u064a\u0631 \u062e\u0627\u0636\u0639\u0629 \u0644\u0644\u0625\u0634\u0631\u0627\u0641 \u0644\u0644\u0643\u0634\u0641 \u0639\u0646 \u0627\u0644\u0627\u0646\u062d\u0631\u0627\u0641\u0627\u062a\n\u0648\u0627\u0644\u062a\u064a \u062a\u062d\u0633\u0628 \u0627\u0646\u062d\u0631\u0627\u0641 \u0627\u0644\u0643\u062b\u0627\u0641\u0629 \u0627\u0644\u0645\u062d\u0644\u064a\u0629 \u0644\u0646\u0642\u0637\u0629 \u0628\u064a\u0627\u0646\u0627\u062a \u0645\u0639\u064a\u0646\u0629 \u0641\u064a\u0645\u0627 \u064a\u062a\u0639\u0644\u0642 \u0628\u062c\u064a\u0631\u0627\u0646\u0647\u0627.\n\u062a\u0639\u062a\u0628\u0631 \u0647\u0630\u0647 \u0627\u0644\u062e\u0648\u0627\u0631\u0632\u0645\u064a\u0629 \u0627\u0644\u0639\u064a\u0646\u0627\u062a \u0627\u0644\u062a\u064a \u0644\u0647\u0627 \u0643\u062b\u0627\u0641\u0629 \u0623\u0642\u0644 \u0628\u0643\u062b\u064a\u0631 \u0645\u0646 \u062c\u064a\u0631\u0627\u0646\u0647\u0627 \u0643\u0642\u064a\u0645 \u0634\u0627\u0630\u0629.\n\u064a\u0648\u0636\u062d \u0647\u0630\u0627 \u0627\u0644\u0645\u062b\u0627\u0644 \u0643\u064a\u0641\u064a\u0629 \u0627\u0633\u062a\u062e\u062f\u0627\u0645 LOF \u0644\u0644\u0643\u0634\u0641 \u0639\u0646 \u0627\u0644\u0642\u064a\u0645 \u0627\u0644\u0634\u0627\u0630\u0629\u060c \u0648\u0647\u0648 \u0627\u0644\u0627\u0633\u062a\u062e\u062f\u0627\u0645 \u0627\u0644\u0627\u0641\u062a\u0631\u0627\u0636\u064a\n\u0644\u0647\u0630\u0627 \u0627\u0644\u0645\u0642\u062f\u0631 \u0641\u064a \u0645\u0643\u062a\u0628\u0629 \u0633\u0627\u064a \u0643\u064a\u062a \u0644\u064a\u0631\u0646 (scikit-learn). \u062a\u062c\u062f\u0631 \u0627\u0644\u0625\u0634\u0627\u0631\u0629 \u0625\u0644\u0649 \u0623\u0646\u0647 \u0639\u0646\u062f \u0627\u0633\u062a\u062e\u062f\u0627\u0645\nLOF \u0644\u0644\u0643\u0634\u0641 \u0639\u0646 \u0627\u0644\u0642\u064a\u0645 \u0627\u0644\u0634\u0627\u0630\u0629\u060c \u0644\u0627 \u062a\u062a\u0648\u0641\u0631 \u0644\u0647 \u0637\u0631\u0642 'predict' \u0648 'decision_function' \u0648\n'score_samples'. \u0631\u0627\u062c\u0639 `\u062f\u0644\u064a\u0644 \u0627\u0644\u0645\u0633\u062a\u062e\u062f\u0645 <outlier_detection>` \u0644\u0644\u062d\u0635\u0648\u0644 \u0639\u0644\u0649 \u0627\u0644\u062a\u0641\u0627\u0635\u064a\u0644 \u062d\u0648\u0644\n\u0627\u0644\u0641\u0631\u0642 \u0628\u064a\u0646 \u0627\u0644\u0643\u0634\u0641 \u0639\u0646 \u0627\u0644\u0642\u064a\u0645 \u0627\u0644\u0634\u0627\u0630\u0629 \u0648\u0627\u0644\u0643\u0634\u0641 \u0639\u0646 \u0627\u0644\u0628\u064a\u0627\u0646\u0627\u062a \u0627\u0644\u062c\u062f\u064a\u062f\u0629 \u0648\u0643\u064a\u0641\u064a\u0629 \u0627\u0633\u062a\u062e\u062f\u0627\u0645 LOF \u0644\u0644\u0643\u0634\u0641\n\u0639\u0646 \u0627\u0644\u0628\u064a\u0627\u0646\u0627\u062a \u0627\u0644\u062c\u062f\u064a\u062f\u0629.\n\n\u064a\u062a\u0645 \u0636\u0628\u0637 \u0639\u062f\u062f \u0627\u0644\u062c\u064a\u0631\u0627\u0646 \u0627\u0644\u0645\u0639\u062a\u0628\u0631\u064a\u0646 (\u0627\u0644\u0628\u0627\u0631\u0627\u0645\u062a\u0631 'n_neighbors') \u0639\u0627\u062f\u0629\u064b 1) \u0623\u0643\u0628\u0631 \u0645\u0646 \u0627\u0644\u062d\u062f \u0627\u0644\u0623\u062f\u0646\u0649\n\u0644\u0639\u062f\u062f \u0627\u0644\u0639\u064a\u0646\u0627\u062a \u0627\u0644\u062a\u064a \u064a\u062c\u0628 \u0623\u0646 \u064a\u062d\u062a\u0648\u064a\u0647\u0627 \u0627\u0644\u062a\u062c\u0645\u0639\u060c \u0628\u062d\u064a\u062b \u064a\u0645\u0643\u0646 \u0623\u0646 \u062a\u0643\u0648\u0646 \u0627\u0644\u0639\u064a\u0646\u0627\u062a \u0627\u0644\u0623\u062e\u0631\u0649 \u0642\u064a\u0645\u064b\u0627\n\u0634\u0627\u0630\u0629 \u0645\u062d\u0644\u064a\u0629 \u0628\u0627\u0644\u0646\u0633\u0628\u0629 \u0644\u0647\u0630\u0627 \u0627\u0644\u062a\u062c\u0645\u0639\u060c \u06482) \u0623\u0635\u063a\u0631 \u0645\u0646 \u0627\u0644\u062d\u062f \u0627\u0644\u0623\u0642\u0635\u0649 \u0644\u0639\u062f\u062f \u0627\u0644\u0639\u064a\u0646\u0627\u062a \u0627\u0644\u0642\u0631\u064a\u0628\u0629 \u0627\u0644\u062a\u064a\n\u064a\u0645\u0643\u0646 \u0623\u0646 \u062a\u0643\u0648\u0646 \u0642\u064a\u0645\u064b\u0627 \u0634\u0627\u0630\u0629 \u0645\u062d\u0644\u064a\u0629. \u0641\u064a \u0627\u0644\u0645\u0645\u0627\u0631\u0633\u0629 \u0627\u0644\u0639\u0645\u0644\u064a\u0629\u060c \u0647\u0630\u0647 \u0627\u0644\u0645\u0639\u0644\u0648\u0645\u0627\u062a \u063a\u064a\u0631 \u0645\u062a\u0648\u0641\u0631\u0629\n\u0639\u0627\u062f\u0629\u064b\u060c \u0648\u064a\u0628\u062f\u0648 \u0623\u0646 \u0623\u062e\u0630 'n_neighbors=20' \u064a\u0639\u0645\u0644 \u0628\u0634\u0643\u0644 \u062c\u064a\u062f \u0628\u0634\u0643\u0644 \u0639\u0627\u0645.\n"
      ]
    },
    {
      "cell_type": "code",
      "execution_count": null,
      "metadata": {
        "collapsed": false
      },
      "outputs": [],
      "source": [
        "# \u0627\u0644\u0645\u0624\u0644\u0641\u0648\u0646: \u0645\u0637\u0648\u0631\u064a \u0633\u0627\u064a \u0643\u064a\u062a \u0644\u064a\u0631\u0646 (scikit-learn)\n# \u0645\u0639\u0631\u0641 \u0627\u0644\u062a\u0631\u062e\u064a\u0635: BSD-3-Clause"
      ]
    },
    {
      "cell_type": "markdown",
      "metadata": {},
      "source": [
        "## \u062a\u0648\u0644\u064a\u062f \u0627\u0644\u0628\u064a\u0627\u0646\u0627\u062a \u0645\u0639 \u0627\u0644\u0642\u064a\u0645 \u0627\u0644\u0634\u0627\u0630\u0629\n\n"
      ]
    },
    {
      "cell_type": "code",
      "execution_count": null,
      "metadata": {
        "collapsed": false
      },
      "outputs": [],
      "source": [
        "import numpy as np\n\nnp.random.seed(42)\n\nX_inliers = 0.3 * np.random.randn(100, 2)\nX_inliers = np.r_[X_inliers + 2, X_inliers - 2]\nX_outliers = np.random.uniform(low=-4, high=4, size=(20, 2))\nX = np.r_[X_inliers, X_outliers]\n\nn_outliers = len(X_outliers)\nground_truth = np.ones(len(X), dtype=int)\nground_truth[-n_outliers:] = -1"
      ]
    },
    {
      "cell_type": "markdown",
      "metadata": {},
      "source": [
        "## \u0645\u0644\u0627\u0621\u0645\u0629 \u0627\u0644\u0646\u0645\u0648\u0630\u062c \u0644\u0644\u0643\u0634\u0641 \u0639\u0646 \u0627\u0644\u0642\u064a\u0645 \u0627\u0644\u0634\u0627\u0630\u0629 (\u0627\u0644\u0627\u0641\u062a\u0631\u0627\u0636\u064a)\n\n\u0627\u0633\u062a\u062e\u062f\u0645 'fit_predict' \u0644\u062d\u0633\u0627\u0628 \u0627\u0644\u0639\u0644\u0627\u0645\u0627\u062a \u0627\u0644\u0645\u062a\u0648\u0642\u0639\u0629 \u0644\u0639\u064a\u0646\u0627\u062a \u0627\u0644\u062a\u062f\u0631\u064a\u0628\n(\u0639\u0646\u062f\u0645\u0627 \u064a\u062a\u0645 \u0627\u0633\u062a\u062e\u062f\u0627\u0645 LOF \u0644\u0644\u0643\u0634\u0641 \u0639\u0646 \u0627\u0644\u0642\u064a\u0645 \u0627\u0644\u0634\u0627\u0630\u0629\u060c \u0644\u0627 \u064a\u0645\u062a\u0644\u0643 \u0627\u0644\u0645\u0642\u062f\u0631 \u0637\u0631\u0642 'predict'\n\u0648 'decision_function' \u0648 'score_samples').\n\n"
      ]
    },
    {
      "cell_type": "code",
      "execution_count": null,
      "metadata": {
        "collapsed": false
      },
      "outputs": [],
      "source": [
        "from sklearn.neighbors import LocalOutlierFactor\n\nclf = LocalOutlierFactor(n_neighbors=20, contamination=0.1)\ny_pred = clf.fit_predict(X)\nn_errors = (y_pred != ground_truth).sum()\nX_scores = clf.negative_outlier_factor_"
      ]
    },
    {
      "cell_type": "markdown",
      "metadata": {},
      "source": [
        "## \u0631\u0633\u0645 \u0627\u0644\u0646\u062a\u0627\u0626\u062c\n\n"
      ]
    },
    {
      "cell_type": "code",
      "execution_count": null,
      "metadata": {
        "collapsed": false
      },
      "outputs": [],
      "source": [
        "import matplotlib.pyplot as plt\nfrom matplotlib.legend_handler import HandlerPathCollection\n\n\ndef update_legend_marker_size(handle, orig):\n    \"Customize size of the legend marker\"\n    handle.update_from(orig)\n    handle.set_sizes([20])\n\n\nplt.scatter(X[:, 0], X[:, 1], color=\"k\", s=3.0, label=\"Data points\")\n# plot circles with radius proportional to the outlier scores\nradius = (X_scores.max() - X_scores) / (X_scores.max() - X_scores.min())\nscatter = plt.scatter(\n    X[:, 0],\n    X[:, 1],\n    s=1000 * radius,\n    edgecolors=\"r\",\n    facecolors=\"none\",\n    label=\"Outlier scores\",\n)\nplt.axis(\"tight\")\nplt.xlim((-5, 5))\nplt.ylim((-5, 5))\nplt.xlabel(\"prediction errors: %d\" % (n_errors))\nplt.legend(\n    handler_map={scatter: HandlerPathCollection(update_func=update_legend_marker_size)}\n)\nplt.title(\"Local Outlier Factor (LOF)\")\nplt.show()"
      ]
    }
  ],
  "metadata": {
    "kernelspec": {
      "display_name": "Python 3",
      "language": "python",
      "name": "python3"
    },
    "language_info": {
      "codemirror_mode": {
        "name": "ipython",
        "version": 3
      },
      "file_extension": ".py",
      "mimetype": "text/x-python",
      "name": "python",
      "nbconvert_exporter": "python",
      "pygments_lexer": "ipython3",
      "version": "3.10.13"
    }
  },
  "nbformat": 4,
  "nbformat_minor": 0
}