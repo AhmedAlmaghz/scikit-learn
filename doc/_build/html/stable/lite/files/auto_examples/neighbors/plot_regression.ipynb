{
  "cells": [
    {
      "cell_type": "markdown",
      "metadata": {},
      "source": [
        "<div class='alert alert-warning'>\n\n# JupyterLite warning\n\nRunning the scikit-learn examples in JupyterLite is experimental and you may encounter some unexpected behavior.\n\nThe main difference is that imports will take a lot longer than usual, for example the first `import sklearn` can take roughly 10-20s.\n\nIf you notice problems, feel free to open an [issue](https://github.com/scikit-learn/scikit-learn/issues/new/choose) about it.\n</div>"
      ]
    },
    {
      "cell_type": "code",
      "execution_count": null,
      "metadata": {
        "collapsed": false
      },
      "outputs": [],
      "source": [
        "# JupyterLite-specific code\nimport matplotlib\nimport pandas"
      ]
    },
    {
      "cell_type": "markdown",
      "metadata": {},
      "source": [
        "\n# \u0623\u0642\u0631\u0628 \u062c\u064a\u0631\u0627\u0646 \u0627\u0644\u0627\u0646\u062d\u062f\u0627\u0631\n\n\u062a\u0648\u0636\u064a\u062d \u062d\u0644 \u0645\u0634\u0643\u0644\u0629 \u0627\u0644\u0627\u0646\u062d\u062f\u0627\u0631\n\u0628\u0627\u0633\u062a\u062e\u062f\u0627\u0645 \u0623\u0642\u0631\u0628 \u062c\u064a\u0631\u0627\u0646 k- \u0648\u0646\u0638\u0627\u0645 \u0627\u0644\u0627\u0633\u062a\u064a\u0641\u0627\u0621 \u0644\u0644\u0647\u062f\u0641 \u0628\u0627\u0633\u062a\u062e\u062f\u0627\u0645 \u0643\u0644 \u0645\u0646 \u0627\u0644\u0623\u0648\u0632\u0627\u0646 \u0627\u0644\u062b\u0627\u0628\u062a\u0629 \u0648\u0627\u0644\u0645\u0631\u0643\u0632 \u0627\u0644\u062b\u0642\u0644.\n"
      ]
    },
    {
      "cell_type": "markdown",
      "metadata": {},
      "source": [
        "## \u062a\u0648\u0644\u064a\u062f \u0628\u064a\u0627\u0646\u0627\u062a \u0627\u0644\u0639\u064a\u0646\u0629\n\u0647\u0646\u0627 \u0646\u0642\u0648\u0645 \u0628\u062a\u0648\u0644\u064a\u062f \u0628\u0639\u0636 \u0646\u0642\u0627\u0637 \u0627\u0644\u0628\u064a\u0627\u0646\u0627\u062a \u0644\u0627\u0633\u062a\u062e\u062f\u0627\u0645\u0647\u0627 \u0641\u064a \u062a\u062f\u0631\u064a\u0628 \u0627\u0644\u0646\u0645\u0648\u0630\u062c. \u0643\u0645\u0627 \u0646\u0642\u0648\u0645 \u0628\u062a\u0648\u0644\u064a\u062f\n\u0628\u064a\u0627\u0646\u0627\u062a \u0641\u064a \u0627\u0644\u0646\u0637\u0627\u0642 \u0627\u0644\u0643\u0627\u0645\u0644 \u0644\u0628\u064a\u0627\u0646\u0627\u062a \u0627\u0644\u062a\u062f\u0631\u064a\u0628 \u0644\u062a\u0648\u0636\u064a\u062d \u0643\u064a\u0641\u064a\u0629 \u062a\u0641\u0627\u0639\u0644 \u0627\u0644\u0646\u0645\u0648\u0630\u062c\n\u0641\u064a \u062a\u0644\u0643 \u0627\u0644\u0645\u0646\u0637\u0642\u0629 \u0628\u0627\u0644\u0643\u0627\u0645\u0644.\n\n"
      ]
    },
    {
      "cell_type": "code",
      "execution_count": null,
      "metadata": {
        "collapsed": false
      },
      "outputs": [],
      "source": [
        "import matplotlib.pyplot as plt\nimport numpy as np\n\nfrom sklearn import neighbors\n\nrng = np.random.RandomState(0)\nX_train = np.sort(5 * rng.rand(40, 1), axis=0)\nX_test = np.linspace(0, 5, 500)[:, np.newaxis]\ny = np.sin(X_train).ravel()\n\n# \u0625\u0636\u0627\u0641\u0629 \u0636\u0648\u0636\u0627\u0621 \u0625\u0644\u0649 \u0627\u0644\u0623\u0647\u062f\u0627\u0641\ny[::5] += 1 * (0.5 - np.random.rand(8))"
      ]
    },
    {
      "cell_type": "markdown",
      "metadata": {},
      "source": [
        "## \u0646\u0645\u0648\u0630\u062c \u0627\u0644\u0627\u0646\u062d\u062f\u0627\u0631 \u0627\u0644\u0645\u0646\u0627\u0633\u0628\n\u0647\u0646\u0627 \u0646\u0642\u0648\u0645 \u0628\u062a\u062f\u0631\u064a\u0628 \u0646\u0645\u0648\u0630\u062c \u0648\u062a\u0648\u0636\u064a\u062d \u0643\u064a\u0641\u064a\u0629 \u062a\u0623\u062b\u064a\u0631 \u0627\u0644\u0623\u0648\u0632\u0627\u0646 '\u0627\u0644\u0645\u0648\u062d\u062f\u0629' \u0648 '\u0627\u0644\u0645\u0633\u0627\u0641\u0629'\n\u0641\u064a \u0627\u0644\u062a\u0646\u0628\u0624 \u0628\u0627\u0644\u0642\u064a\u0645 \u0627\u0644\u0645\u062a\u0648\u0642\u0639\u0629.\n\n"
      ]
    },
    {
      "cell_type": "code",
      "execution_count": null,
      "metadata": {
        "collapsed": false
      },
      "outputs": [],
      "source": [
        "n_neighbors = 5\n\nfor i, weights in enumerate([\"uniform\", \"distance\"]):\n    knn = neighbors.KNeighborsRegressor(n_neighbors, weights=weights)\n    y_ = knn.fit(X_train, y).predict(X_test)\n\n    plt.subplot(2, 1, i + 1)\n    plt.scatter(X_train, y, color=\"darkorange\", label=\"data\")\n    plt.plot(X_test, y_, color=\"navy\", label=\"prediction\")\n    plt.axis(\"tight\")\n    plt.legend()\n    plt.title(\"KNeighborsRegressor (k = %i, weights = '%s')\" % (n_neighbors, weights))\n\nplt.tight_layout()\nplt.show()"
      ]
    }
  ],
  "metadata": {
    "kernelspec": {
      "display_name": "Python 3",
      "language": "python",
      "name": "python3"
    },
    "language_info": {
      "codemirror_mode": {
        "name": "ipython",
        "version": 3
      },
      "file_extension": ".py",
      "mimetype": "text/x-python",
      "name": "python",
      "nbconvert_exporter": "python",
      "pygments_lexer": "ipython3",
      "version": "3.10.13"
    }
  },
  "nbformat": 4,
  "nbformat_minor": 0
}