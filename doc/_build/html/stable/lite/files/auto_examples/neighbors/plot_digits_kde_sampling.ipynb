{
  "cells": [
    {
      "cell_type": "markdown",
      "metadata": {},
      "source": [
        "<div class='alert alert-warning'>\n\n# JupyterLite warning\n\nRunning the scikit-learn examples in JupyterLite is experimental and you may encounter some unexpected behavior.\n\nThe main difference is that imports will take a lot longer than usual, for example the first `import sklearn` can take roughly 10-20s.\n\nIf you notice problems, feel free to open an [issue](https://github.com/scikit-learn/scikit-learn/issues/new/choose) about it.\n</div>"
      ]
    },
    {
      "cell_type": "code",
      "execution_count": null,
      "metadata": {
        "collapsed": false
      },
      "outputs": [],
      "source": [
        "# JupyterLite-specific code\nimport matplotlib\nimport pandas"
      ]
    },
    {
      "cell_type": "markdown",
      "metadata": {},
      "source": [
        "\n# \u062a\u0642\u062f\u064a\u0631 \u0643\u062b\u0627\u0641\u0629 \u0627\u0644\u0646\u0648\u0627\u0629\n\n\u064a\u0648\u0636\u062d \u0647\u0630\u0627 \u0627\u0644\u0645\u062b\u0627\u0644 \u0643\u064a\u0641\u064a\u0629 \u0627\u0633\u062a\u062e\u062f\u0627\u0645 \u062a\u0642\u062f\u064a\u0631 \u0643\u062b\u0627\u0641\u0629 \u0627\u0644\u0646\u0648\u0627\u0629 (KDE)\u060c \u0648\u0647\u064a \u062a\u0642\u0646\u064a\u0629 \u0642\u0648\u064a\u0629 \u0644\u062a\u0642\u062f\u064a\u0631 \u0627\u0644\u0643\u062b\u0627\u0641\u0629 \u063a\u064a\u0631 \u0627\u0644\u0645\u0639\u0644\u0645\u064a\u0629\u060c \u0644\u062a\u0639\u0644\u0645 \u0646\u0645\u0648\u0630\u062c \u062a\u0648\u0644\u064a\u062f\u064a \u0644\u0645\u062c\u0645\u0648\u0639\u0629 \u0628\u064a\u0627\u0646\u0627\u062a. \u0645\u0639 \u0648\u062c\u0648\u062f \u0647\u0630\u0627 \u0627\u0644\u0646\u0645\u0648\u0630\u062c \u0627\u0644\u062a\u0648\u0644\u064a\u062f\u064a\u060c \u064a\u0645\u0643\u0646 \u0631\u0633\u0645 \u0639\u064a\u0646\u0627\u062a \u062c\u062f\u064a\u062f\u0629. \u0648\u062a\u0639\u0643\u0633 \u0647\u0630\u0647 \u0627\u0644\u0639\u064a\u0646\u0627\u062a \u0627\u0644\u062c\u062f\u064a\u062f\u0629 \u0627\u0644\u0646\u0645\u0648\u0630\u062c \u0627\u0644\u0623\u0633\u0627\u0633\u064a \u0644\u0644\u0628\u064a\u0627\u0646\u0627\u062a.\n"
      ]
    },
    {
      "cell_type": "code",
      "execution_count": null,
      "metadata": {
        "collapsed": false
      },
      "outputs": [],
      "source": [
        "# \u0627\u0644\u0645\u0624\u0644\u0641\u0648\u0646: \u0645\u0637\u0648\u0631\u064a \u0633\u0643\u0627\u064a\u062a-\u0644\u064a\u0631\u0646\n# \u0645\u0639\u0631\u0641 \u0627\u0644\u062a\u0631\u062e\u064a\u0635: BSD-3-Clause\n\nimport matplotlib.pyplot as plt\nimport numpy as np\n\nfrom sklearn.datasets import load_digits\nfrom sklearn.decomposition import PCA\nfrom sklearn.model_selection import GridSearchCV\nfrom sklearn.neighbors import KernelDensity\n\n# \u062a\u062d\u0645\u064a\u0644 \u0627\u0644\u0628\u064a\u0627\u0646\u0627\u062a\ndigits = load_digits()\n\n# \u0625\u0633\u0642\u0627\u0637 \u0627\u0644\u0628\u064a\u0627\u0646\u0627\u062a \u0630\u0627\u062a \u0627\u0644\u0623\u0628\u0639\u0627\u062f 64 \u0625\u0644\u0649 \u0628\u0639\u062f \u0623\u0642\u0644\npca = PCA(n_components=15, whiten=False)\ndata = pca.fit_transform(digits.data)\n\n# \u0627\u0633\u062a\u062e\u062f\u0627\u0645 \u0627\u0644\u0628\u062d\u062b \u0627\u0644\u0634\u0628\u0643\u064a \u0648\u0627\u0644\u062a\u062d\u0642\u0642 \u0627\u0644\u0645\u062a\u0642\u0627\u0637\u0639 \u0644\u0636\u0628\u0637 \u0639\u0631\u0636 \u0627\u0644\u0646\u0637\u0627\u0642 \u0627\u0644\u062a\u0631\u062f\u062f\u064a\nparams = {\"bandwidth\": np.logspace(-1, 1, 20)}\ngrid = GridSearchCV(KernelDensity(), params)\ngrid.fit(data)\n\nprint(\"\u0623\u0641\u0636\u0644 \u0639\u0631\u0636 \u0646\u0637\u0627\u0642 \u062a\u0631\u062f\u062f\u064a: {0}\".format(grid.best_estimator_.bandwidth))\n\n# \u0627\u0633\u062a\u062e\u062f\u0627\u0645 \u0623\u0641\u0636\u0644 \u0645\u0642\u062f\u0631 \u0644\u062d\u0633\u0627\u0628 \u062a\u0642\u062f\u064a\u0631 \u0643\u062b\u0627\u0641\u0629 \u0627\u0644\u0646\u0648\u0627\u0629\nkde = grid.best_estimator_\n\n# \u0623\u062e\u0630 44 \u0639\u064a\u0646\u0629 \u062c\u062f\u064a\u062f\u0629 \u0645\u0646 \u0627\u0644\u0628\u064a\u0627\u0646\u0627\u062a\nnew_data = kde.sample(44, random_state=0)\nnew_data = pca.inverse_transform(new_data)\n\n# \u062a\u062d\u0648\u064a\u0644 \u0627\u0644\u0628\u064a\u0627\u0646\u0627\u062a \u0625\u0644\u0649 \u0634\u0628\u0643\u0629 4x11\nnew_data = new_data.reshape((4, 11, -1))\nreal_data = digits.data[:44].reshape((4, 11, -1))\n\n# \u0631\u0633\u0645 \u0627\u0644\u0623\u0631\u0642\u0627\u0645 \u0627\u0644\u062d\u0642\u064a\u0642\u064a\u0629 \u0648\u0627\u0644\u0623\u0631\u0642\u0627\u0645 \u0627\u0644\u0645\u0639\u0627\u062f \u0623\u062e\u0630 \u0639\u064a\u0646\u0627\u062a \u0645\u0646\u0647\u0627\nfig, ax = plt.subplots(9, 11, subplot_kw=dict(xticks=[], yticks=[]))\nfor j in range(11):\n    ax[4, j].set_visible(False)\n    for i in range(4):\n        im = ax[i, j].imshow(\n            real_data[i, j].reshape((8, 8)), cmap=plt.cm.binary, interpolation=\"nearest\"\n        )\n        im.set_clim(0, 16)\n        im = ax[i + 5, j].imshow(\n            new_data[i, j].reshape((8, 8)), cmap=plt.cm.binary, interpolation=\"nearest\"\n        )\n        im.set_clim(0, 16)\n\nax[0, 5].set_title(\"\u0627\u062e\u062a\u064a\u0627\u0631 \u0645\u0646 \u0628\u064a\u0627\u0646\u0627\u062a \u0627\u0644\u0625\u062f\u062e\u0627\u0644\")\nax[5, 5].set_title('\u0627\u0644\u0623\u0631\u0642\u0627\u0645 \"\u0627\u0644\u062c\u062f\u064a\u062f\u0629\" \u0627\u0644\u0645\u0631\u0633\u0648\u0645\u0629 \u0645\u0646 \u0646\u0645\u0648\u0630\u062c \u0643\u062b\u0627\u0641\u0629 \u0627\u0644\u0646\u0648\u0627\u0629')\n\nplt.show()"
      ]
    }
  ],
  "metadata": {
    "kernelspec": {
      "display_name": "Python 3",
      "language": "python",
      "name": "python3"
    },
    "language_info": {
      "codemirror_mode": {
        "name": "ipython",
        "version": 3
      },
      "file_extension": ".py",
      "mimetype": "text/x-python",
      "name": "python",
      "nbconvert_exporter": "python",
      "pygments_lexer": "ipython3",
      "version": "3.10.13"
    }
  },
  "nbformat": 4,
  "nbformat_minor": 0
}