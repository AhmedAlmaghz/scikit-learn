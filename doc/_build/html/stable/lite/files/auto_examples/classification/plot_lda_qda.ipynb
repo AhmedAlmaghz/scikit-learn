{
  "cells": [
    {
      "cell_type": "markdown",
      "metadata": {},
      "source": [
        "<div class='alert alert-warning'>\n\n# JupyterLite warning\n\nRunning the scikit-learn examples in JupyterLite is experimental and you may encounter some unexpected behavior.\n\nThe main difference is that imports will take a lot longer than usual, for example the first `import sklearn` can take roughly 10-20s.\n\nIf you notice problems, feel free to open an [issue](https://github.com/scikit-learn/scikit-learn/issues/new/choose) about it.\n</div>"
      ]
    },
    {
      "cell_type": "code",
      "execution_count": null,
      "metadata": {
        "collapsed": false
      },
      "outputs": [],
      "source": [
        "# JupyterLite-specific code\nimport matplotlib\nimport pandas"
      ]
    },
    {
      "cell_type": "markdown",
      "metadata": {},
      "source": [
        "\n\u0647\u0630\u0627 \u0645\u062b\u0627\u0644 \u0644\u0631\u0633\u0645 \u062d\u062f\u0648\u062f \u0627\u0644\u062a\u0645\u064a\u064a\u0632 \u0648\u0627\u0644\u0642\u0637\u0639 \u0627\u0644\u0646\u0627\u0642\u0635 \u0644\u062a\u0634\u062a\u062a \u0643\u0644 \u0641\u0626\u0629\u060c \u0648\u0627\u0644\u062a\u064a \u062a\u0645 \u062a\u0639\u0644\u0645\u0647\u0627 \u0628\u0648\u0627\u0633\u0637\u0629 :class:`~sklearn.discriminant_analysis.LinearDiscriminantAnalysis` (LDA) \u0648 :class:`~sklearn.discriminant_analysis.QuadraticDiscriminantAnalysis` (QDA). \u064a\u064f\u0638\u0647\u0631 \u0627\u0644\u0642\u0637\u0639 \u0627\u0644\u0646\u0627\u0642\u0635 \u0627\u0644\u0627\u0646\u062d\u0631\u0627\u0641 \u0627\u0644\u0645\u0639\u064a\u0627\u0631\u064a \u0627\u0644\u0645\u0632\u062f\u0648\u062c \u0644\u0643\u0644 \u0641\u0626\u0629. \u0645\u0639 LDA\u060c \u064a\u0643\u0648\u0646 \u0627\u0644\u0627\u0646\u062d\u0631\u0627\u0641 \u0627\u0644\u0645\u0639\u064a\u0627\u0631\u064a \u0647\u0648 \u0646\u0641\u0633\u0647 \u0644\u062c\u0645\u064a\u0639 \u0627\u0644\u0641\u0626\u0627\u062a\u060c \u0641\u064a \u062d\u064a\u0646 \u0623\u0646 \u0644\u0643\u0644 \u0641\u0626\u0629 \u0627\u0646\u062d\u0631\u0627\u0641\u0647\u0627 \u0627\u0644\u0645\u0639\u064a\u0627\u0631\u064a \u0627\u0644\u062e\u0627\u0635 \u0628\u0647\u0627 \u0645\u0639 QDA.\n"
      ]
    },
    {
      "cell_type": "code",
      "execution_count": null,
      "metadata": {
        "collapsed": false
      },
      "outputs": [],
      "source": [
        "# \u0627\u0644\u0645\u0624\u0644\u0641\u0648\u0646: \u0645\u0637\u0648\u0631\u064a scikit-learn\n# \u0645\u0639\u0631\u0641 \u0627\u0644\u062a\u0631\u062e\u064a\u0635: BSD-3-Clause"
      ]
    },
    {
      "cell_type": "markdown",
      "metadata": {},
      "source": [
        "# \u062a\u0648\u0644\u064a\u062f \u0627\u0644\u0628\u064a\u0627\u0646\u0627\u062a\n\n\u0623\u0648\u0644\u0627\u064b\u060c \u0646\u064f\u0639\u0631\u0651\u0641 \u062f\u0627\u0644\u0629 \u0644\u062a\u0648\u0644\u064a\u062f \u0628\u064a\u0627\u0646\u0627\u062a \u0635\u0646\u0627\u0639\u064a\u0629. \u062a\u0642\u0648\u0645 \u0628\u0625\u0646\u0634\u0627\u0621 \u0643\u062a\u0644\u062a\u064a\u0646 \u0645\u0631\u0643\u0632\u062a\u064a\u0646 \u0639\u0646\u062f `(0, 0)` \u0648 `(1, 1)`. \u064a\u062a\u0645 \u062a\u0639\u064a\u064a\u0646 \u0641\u0626\u0629 \u0645\u062d\u062f\u062f\u0629 \u0644\u0643\u0644 \u0643\u062a\u0644\u0629. \u064a\u062a\u0645 \u0627\u0644\u062a\u062d\u0643\u0645 \u0641\u064a \u062a\u0634\u062a\u062a \u0627\u0644\u0643\u062a\u0644\u0629 \u0628\u0648\u0627\u0633\u0637\u0629 \u0627\u0644\u0645\u0639\u0627\u0645\u0644\u0627\u062a `cov_class_1` \u0648 `cov_class_2`\u060c \u0648\u0647\u064a \u0645\u0635\u0641\u0648\u0641\u0627\u062a \u0627\u0644\u062a\u0634\u062a\u062a \u0627\u0644\u0645\u0633\u062a\u062e\u062f\u0645\u0629 \u0639\u0646\u062f \u062a\u0648\u0644\u064a\u062f \u0627\u0644\u0639\u064a\u0646\u0627\u062a \u0645\u0646 \u0627\u0644\u062a\u0648\u0632\u064a\u0639\u0627\u062a \u0627\u0644\u063a\u0627\u0648\u0633\u064a\u0629.\n\n"
      ]
    },
    {
      "cell_type": "code",
      "execution_count": null,
      "metadata": {
        "collapsed": false
      },
      "outputs": [],
      "source": [
        "import numpy as np\n\n\ndef make_data(n_samples, n_features, cov_class_1, cov_class_2, seed=0):\n    rng = np.random.RandomState(seed)\n    X = np.concatenate(\n        [\n            rng.randn(n_samples, n_features) @ cov_class_1,\n            rng.randn(n_samples, n_features) @ cov_class_2 + np.array([1, 1]),\n        ]\n    )\n    y = np.concatenate([np.zeros(n_samples), np.ones(n_samples)])\n    return X, y"
      ]
    },
    {
      "cell_type": "markdown",
      "metadata": {},
      "source": [
        "\u0646\u0642\u0648\u0645 \u0628\u062a\u0648\u0644\u064a\u062f \u062b\u0644\u0627\u062b \u0645\u062c\u0645\u0648\u0639\u0627\u062a \u0628\u064a\u0627\u0646\u0627\u062a. \u0641\u064a \u0645\u062c\u0645\u0648\u0639\u0629 \u0627\u0644\u0628\u064a\u0627\u0646\u0627\u062a \u0627\u0644\u0623\u0648\u0644\u0649\u060c \u062a\u0634\u062a\u0631\u0643 \u0627\u0644\u0641\u0626\u062a\u0627\u0646 \u0641\u064a \u0646\u0641\u0633 \u0645\u0635\u0641\u0648\u0641\u0629 \u0627\u0644\u062a\u0634\u062a\u062a\u060c \u0648\u062a\u062a\u0645\u064a\u0632 \u0647\u0630\u0647 \u0627\u0644\u0645\u0635\u0641\u0648\u0641\u0629 \u0628\u0623\u0646\u0647\u0627 \u0643\u0631\u0648\u064a\u0629 (\u0645\u062a\u0633\u0627\u0648\u064a\u0629 \u0627\u0644\u062a\u0634\u062a\u062a). \u0645\u062c\u0645\u0648\u0639\u0629 \u0627\u0644\u0628\u064a\u0627\u0646\u0627\u062a \u0627\u0644\u062b\u0627\u0646\u064a\u0629 \u0645\u0645\u0627\u062b\u0644\u0629 \u0644\u0644\u0623\u0648\u0644\u0649 \u0648\u0644\u0643\u0646\u0647\u0627 \u0644\u0627 \u062a\u0641\u0631\u0636 \u0623\u0646 \u064a\u0643\u0648\u0646 \u0627\u0644\u062a\u0634\u062a\u062a \u0643\u0631\u0648\u064a\u064b\u0627. \u0648\u0623\u062e\u064a\u0631\u064b\u0627\u060c \u062a\u0645\u062a\u0644\u0643 \u0645\u062c\u0645\u0648\u0639\u0629 \u0627\u0644\u0628\u064a\u0627\u0646\u0627\u062a \u0627\u0644\u062b\u0627\u0644\u062b\u0629 \u0645\u0635\u0641\u0648\u0641\u0629 \u062a\u0634\u062a\u062a \u063a\u064a\u0631 \u0643\u0631\u0648\u064a\u0629 \u0644\u0643\u0644 \u0641\u0626\u0629.\n\n"
      ]
    },
    {
      "cell_type": "code",
      "execution_count": null,
      "metadata": {
        "collapsed": false
      },
      "outputs": [],
      "source": [
        "covariance = np.array([[1, 0], [0, 1]])\nX_isotropic_covariance, y_isotropic_covariance = make_data(\n    n_samples=1_000,\n    n_features=2,\n    cov_class_1=covariance,\n    cov_class_2=covariance,\n    seed=0,\n)\ncovariance = np.array([[0.0, -0.23], [0.83, 0.23]])\nX_shared_covariance, y_shared_covariance = make_data(\n    n_samples=300,\n    n_features=2,\n    cov_class_1=covariance,\n    cov_class_2=covariance,\n    seed=0,\n)\ncov_class_1 = np.array([[0.0, -1.0], [2.5, 0.7]]) * 2.0\ncov_class_2 = cov_class_1.T\nX_different_covariance, y_different_covariance = make_data(\n    n_samples=300,\n    n_features=2,\n    cov_class_1=cov_class_1,\n    cov_class_2=cov_class_2,\n    seed=0,\n)"
      ]
    },
    {
      "cell_type": "markdown",
      "metadata": {},
      "source": [
        "# \u062f\u0627\u0644\u0627\u062a \u0627\u0644\u0631\u0633\u0645\n\n\u064a\u0633\u062a\u062e\u062f\u0645 \u0627\u0644\u0643\u0648\u062f \u0623\u062f\u0646\u0627\u0647 \u0644\u0631\u0633\u0645 \u0639\u062f\u0629 \u0645\u0639\u0644\u0648\u0645\u0627\u062a \u0645\u0646 \u0627\u0644\u0645\u0642\u062f\u0631\u0627\u062a \u0627\u0644\u0645\u0633\u062a\u062e\u062f\u0645\u0629\u060c \u0623\u064a :class:`~sklearn.discriminant_analysis.LinearDiscriminantAnalysis` (LDA) \u0648 :class:`~sklearn.discriminant_analysis.QuadraticDiscriminantAnalysis` (QDA). \u0648\u062a\u0634\u0645\u0644 \u0627\u0644\u0645\u0639\u0644\u0648\u0645\u0627\u062a \u0627\u0644\u0645\u0639\u0631\u0648\u0636\u0629:\n\n- \u062d\u062f\u0648\u062f \u0627\u0644\u062a\u0645\u064a\u064a\u0632 \u0628\u0646\u0627\u0621\u064b \u0639\u0644\u0649 \u062a\u0642\u062f\u064a\u0631 \u0627\u062d\u062a\u0645\u0627\u0644\u064a\u0629 \u0627\u0644\u0645\u0642\u062f\u0631\u061b\n- \u0631\u0633\u0645 \u0645\u062a\u0641\u0631\u0642 \u0645\u0639 \u062f\u0648\u0627\u0626\u0631 \u062a\u0645\u062b\u0644 \u0627\u0644\u0639\u064a\u0646\u0627\u062a \u0627\u0644\u0645\u0635\u0646\u0641\u0629 \u0628\u0634\u0643\u0644 \u0635\u062d\u064a\u062d\u061b\n- \u0631\u0633\u0645 \u0645\u062a\u0641\u0631\u0642 \u0645\u0639 \u0639\u0644\u0627\u0645\u0627\u062a \u0627\u0644\u0635\u0644\u064a\u0628 \u0627\u0644\u062a\u064a \u062a\u0645\u062b\u0644 \u0627\u0644\u0639\u064a\u0646\u0627\u062a \u0627\u0644\u0645\u0635\u0646\u0641\u0629 \u0628\u0634\u0643\u0644 \u062e\u0627\u0637\u0626\u061b\n- \u0645\u062a\u0648\u0633\u0637 \u0643\u0644 \u0641\u0626\u0629\u060c \u0627\u0644\u0645\u0642\u062f\u0631 \u0628\u0648\u0627\u0633\u0637\u0629 \u0627\u0644\u0645\u0642\u062f\u0631\u060c \u0645\u0639 \u0639\u0644\u0627\u0645\u0629 \u0646\u062c\u0645\u064a\u0629\u061b\n- \u0627\u0644\u062a\u0634\u062a\u062a \u0627\u0644\u0645\u0642\u062f\u0631 \u0627\u0644\u0645\u0645\u062b\u0644 \u0628\u0642\u0637\u0639 \u0646\u0627\u0642\u0635 \u0639\u0646\u062f \u0627\u0646\u062d\u0631\u0627\u0641\u064a\u0646 \u0645\u0639\u064a\u0627\u0631\u064a\u064a\u0646 \u0645\u0646 \u0627\u0644\u0645\u062a\u0648\u0633\u0637.\n\n"
      ]
    },
    {
      "cell_type": "code",
      "execution_count": null,
      "metadata": {
        "collapsed": false
      },
      "outputs": [],
      "source": [
        "import matplotlib as mpl\nfrom matplotlib import colors\n\nfrom sklearn.inspection import DecisionBoundaryDisplay\n\n\ndef plot_ellipse(mean, cov, color, ax):\n    v, w = np.linalg.eigh(cov)\n    u = w[0] / np.linalg.norm(w[0])\n    angle = np.arctan(u[1] / u[0])\n    angle = 180 * angle / np.pi  # \u0627\u0644\u062a\u062d\u0648\u064a\u0644 \u0625\u0644\u0649 \u062f\u0631\u062c\u0627\u062a\n    # Gaussian \u0645\u0645\u0644\u0648\u0621 \u0639\u0646\u062f \u0627\u0646\u062d\u0631\u0627\u0641\u064a\u0646 \u0645\u0639\u064a\u0627\u0631\u064a\u064a\u0646\n    ell = mpl.patches.Ellipse(\n        mean,\n        2 * v[0] ** 0.5,\n        2 * v[1] ** 0.5,\n        angle=180 + angle,\n        facecolor=color,\n        edgecolor=\"black\",\n        linewidth=2,\n    )\n    ell.set_clip_box(ax.bbox)\n    ell.set_alpha(0.4)\n    ax.add_artist(ell)\ndef plot_result(estimator, X, y, ax):\n    cmap = colors.ListedColormap([\"tab:red\", \"tab:blue\"])\n    DecisionBoundaryDisplay.from_estimator(\n        estimator,\n        X,\n        response_method=\"predict_proba\",\n        plot_method=\"pcolormesh\",\n        ax=ax,\n        cmap=\"RdBu\",\n        alpha=0.3,\n    )\n    DecisionBoundaryDisplay.from_estimator(\n        estimator,\n        X,\n        response_method=\"predict_proba\",\n        plot_method=\"contour\",\n        ax=ax,\n        alpha=1.0,\n        levels=[0.5],\n    )\n    y_pred = estimator.predict(X)\n    X_right, y_right = X[y == y_pred], y[y == y_pred]\n    X_wrong, y_wrong = X[y != y_pred], y[y != y_pred]\n    ax.scatter(X_right[:, 0], X_right[:, 1], c=y_right, s=20, cmap=cmap, alpha=0.5)\n    ax.scatter(\n        X_wrong[:, 0],\n        X_wrong[:, 1],\n        c=y_wrong,\n        s=30,\n        cmap=cmap,\n        alpha=0.9,\n        marker=\"x\",\n    )\n    ax.scatter(\n        estimator.means_[:, 0],\n        estimator.means_[:, 1],\n        c=\"yellow\",\n        s=200,\n        marker=\"*\",\n        edgecolor=\"black\",\n    )\n\n    if isinstance(estimator, LinearDiscriminantAnalysis):\n        covariance = [estimator.covariance_] * 2\n    else:\n        covariance = estimator.covariance_\n    plot_ellipse(estimator.means_[0], covariance[0], \"tab:red\", ax)\n    plot_ellipse(estimator.means_[1], covariance[1], \"tab:blue\", ax)\n\n    ax.set_box_aspect(1)\n    ax.spines[\"top\"].set_visible(False)\n    ax.spines[\"bottom\"].set_visible(False)\n    ax.spines[\"left\"].set_visible(False)\n    ax.spines[\"right\"].set_visible(False)\n    ax.set(xticks=[], yticks=[])"
      ]
    },
    {
      "cell_type": "markdown",
      "metadata": {},
      "source": [
        "# \u0645\u0642\u0627\u0631\u0646\u0629 LDA \u0648 QDA\n\n\u0646\u0642\u0627\u0631\u0646 \u0628\u064a\u0646 \u0627\u0644\u0645\u0642\u062f\u0631\u064a\u0646 LDA \u0648 QDA \u0639\u0644\u0649 \u062c\u0645\u064a\u0639 \u0645\u062c\u0645\u0648\u0639\u0627\u062a \u0627\u0644\u0628\u064a\u0627\u0646\u0627\u062a \u0627\u0644\u062b\u0644\u0627\u062b.\n\n"
      ]
    },
    {
      "cell_type": "code",
      "execution_count": null,
      "metadata": {
        "collapsed": false
      },
      "outputs": [],
      "source": [
        "import matplotlib.pyplot as plt\n\nfrom sklearn.discriminant_analysis import (\n    LinearDiscriminantAnalysis,\n    QuadraticDiscriminantAnalysis,\n)\n\nfig, axs = plt.subplots(nrows=3, ncols=2, sharex=\"row\", sharey=\"row\", figsize=(8, 12))\n\nlda = LinearDiscriminantAnalysis(solver=\"svd\", store_covariance=True)\nqda = QuadraticDiscriminantAnalysis(store_covariance=True)\n\nfor ax_row, X, y in zip(\n    axs,\n    (X_isotropic_covariance, X_shared_covariance, X_different_covariance),\n    (y_isotropic_covariance, y_shared_covariance, y_different_covariance),\n):\n    lda.fit(X, y)\n    plot_result(lda, X, y, ax_row[0])\n    qda.fit(X, y)\n    plot_result(qda, X, y, ax_row[1])\n\naxs[0, 0].set_title(\"Linear Discriminant Analysis\")\naxs[0, 0].set_ylabel(\"Data with fixed and spherical covariance\")\naxs[1, 0].set_ylabel(\"Data with fixed covariance\")\naxs[0, 1].set_title(\"Quadratic Discriminant Analysis\")\naxs[2, 0].set_ylabel(\"Data with varying covariances\")\nfig.suptitle(\n    \"Linear Discriminant Analysis vs Quadratic Discriminant Analysis\",\n    y=0.94,\n    fontsize=15,\n)\nplt.show()"
      ]
    },
    {
      "cell_type": "markdown",
      "metadata": {},
      "source": [
        "\u0623\u0648\u0644 \u0634\u064a\u0621 \u0645\u0647\u0645 \u064a\u062c\u0628 \u0645\u0644\u0627\u062d\u0638\u062a\u0647 \u0647\u0648 \u0623\u0646 LDA \u0648 QDA \u0645\u062a\u0643\u0627\u0641\u0626\u0627\u0646 \u0628\u0627\u0644\u0646\u0633\u0628\u0629 \u0644\u0645\u062c\u0645\u0648\u0639\u062a\u064a \u0627\u0644\u0628\u064a\u0627\u0646\u0627\u062a \u0627\u0644\u0623\u0648\u0644\u0649 \u0648\u0627\u0644\u062b\u0627\u0646\u064a\u0629. \u0641\u064a \u0627\u0644\u0648\u0627\u0642\u0639\u060c \u0627\u0644\u0627\u062e\u062a\u0644\u0627\u0641 \u0627\u0644\u0631\u0626\u064a\u0633\u064a \u0647\u0648 \u0623\u0646 LDA \u064a\u0641\u062a\u0631\u0636 \u0623\u0646 \u0645\u0635\u0641\u0648\u0641\u0629 \u0627\u0644\u062a\u0634\u062a\u062a \u0644\u0643\u0644 \u0641\u0626\u0629 \u0645\u062a\u0633\u0627\u0648\u064a\u0629\u060c \u0641\u064a \u062d\u064a\u0646 \u0623\u0646 QDA \u064a\u0642\u062f\u0631 \u0645\u0635\u0641\u0648\u0641\u0629 \u062a\u0634\u062a\u062a \u0644\u0643\u0644 \u0641\u0626\u0629. \u0628\u0645\u0627 \u0623\u0646 \u0639\u0645\u0644\u064a\u0629 \u062a\u0648\u0644\u064a\u062f \u0627\u0644\u0628\u064a\u0627\u0646\u0627\u062a \u0641\u064a \u0647\u0630\u0647 \u0627\u0644\u062d\u0627\u0644\u0627\u062a \u0644\u0647\u0627 \u0646\u0641\u0633 \u0645\u0635\u0641\u0648\u0641\u0629 \u0627\u0644\u062a\u0634\u062a\u062a \u0644\u0643\u0644\u062a\u0627 \u0627\u0644\u0641\u0626\u062a\u064a\u0646\u060c \u0641\u0625\u0646 QDA \u064a\u0642\u062f\u0631 \u0645\u0635\u0641\u0648\u0641\u062a\u064a \u062a\u0634\u062a\u062a \u0645\u062a\u0633\u0627\u0648\u064a\u062a\u064a\u0646 (\u062a\u0642\u0631\u064a\u0628\u064b\u0627) \u0648\u0628\u0627\u0644\u062a\u0627\u0644\u064a \u0645\u062a\u0643\u0627\u0641\u0626\u062a\u064a\u0646 \u0645\u0639 \u0645\u0635\u0641\u0648\u0641\u0629 \u0627\u0644\u062a\u0634\u062a\u062a \u0627\u0644\u0645\u0642\u062f\u0631\u0629 \u0628\u0648\u0627\u0633\u0637\u0629 LDA.\n\n\u0641\u064a \u0645\u062c\u0645\u0648\u0639\u0629 \u0627\u0644\u0628\u064a\u0627\u0646\u0627\u062a \u0627\u0644\u0623\u0648\u0644\u0649\u060c \u062a\u0643\u0648\u0646 \u0645\u0635\u0641\u0648\u0641\u0629 \u0627\u0644\u062a\u0634\u062a\u062a \u0627\u0644\u0645\u0633\u062a\u062e\u062f\u0645\u0629 \u0644\u062a\u0648\u0644\u064a\u062f \u0645\u062c\u0645\u0648\u0639\u0629 \u0627\u0644\u0628\u064a\u0627\u0646\u0627\u062a \u0643\u0631\u0648\u064a\u0629\u060c \u0645\u0645\u0627 \u064a\u0624\u062f\u064a \u0625\u0644\u0649 \u062d\u062f\u0648\u062f \u062a\u0645\u064a\u064a\u0632 \u062a\u062a\u0637\u0627\u0628\u0642 \u0645\u0639 \u0627\u0644\u0642\u0627\u0637\u0639 \u0627\u0644\u0639\u0645\u0648\u062f\u064a \u0628\u064a\u0646 \u0627\u0644\u0645\u062a\u0648\u0633\u0637\u064a\u0646. \u0644\u0645 \u064a\u0639\u062f \u0647\u0630\u0627 \u0647\u0648 \u0627\u0644\u062d\u0627\u0644 \u0628\u0627\u0644\u0646\u0633\u0628\u0629 \u0644\u0645\u062c\u0645\u0648\u0639\u0629 \u0627\u0644\u0628\u064a\u0627\u0646\u0627\u062a \u0627\u0644\u062b\u0627\u0646\u064a\u0629. \u062a\u0645\u0631 \u062d\u062f\u0648\u062f \u0627\u0644\u062a\u0645\u064a\u064a\u0632 \u0641\u0642\u0637 \u0639\u0628\u0631 \u0645\u0646\u062a\u0635\u0641 \u0627\u0644\u0645\u062a\u0648\u0633\u0637\u064a\u0646.\n\n\u0648\u0623\u062e\u064a\u0631\u064b\u0627\u060c \u0641\u064a \u0645\u062c\u0645\u0648\u0639\u0629 \u0627\u0644\u0628\u064a\u0627\u0646\u0627\u062a \u0627\u0644\u062b\u0627\u0644\u062b\u0629\u060c \u0646\u0644\u0627\u062d\u0638 \u0627\u0644\u0627\u062e\u062a\u0644\u0627\u0641 \u0627\u0644\u062d\u0642\u064a\u0642\u064a \u0628\u064a\u0646 LDA \u0648 QDA. \u064a\u0642\u0648\u0645 QDA \u0628\u0636\u0628\u0637 \u0645\u0635\u0641\u0648\u0641\u062a\u064a \u062a\u0634\u062a\u062a \u0648\u064a\u0648\u0641\u0631 \u062d\u062f\u0648\u062f \u062a\u0645\u064a\u064a\u0632 \u063a\u064a\u0631 \u062e\u0637\u064a\u0629\u060c \u0641\u064a \u062d\u064a\u0646 \u0623\u0646 LDA \u0644\u0627 \u064a\u0636\u0628\u0637 \u0628\u0634\u0643\u0644 \u0635\u062d\u064a\u062d \u0644\u0623\u0646\u0647 \u064a\u0641\u062a\u0631\u0636 \u0623\u0646 \u0643\u0644\u0627 \u0627\u0644\u0641\u0626\u062a\u064a\u0646 \u062a\u0634\u062a\u0631\u0643\u0627\u0646 \u0641\u064a \u0645\u0635\u0641\u0648\u0641\u0629 \u062a\u0634\u062a\u062a \u0648\u0627\u062d\u062f\u0629.\n"
      ]
    }
  ],
  "metadata": {
    "kernelspec": {
      "display_name": "Python 3",
      "language": "python",
      "name": "python3"
    },
    "language_info": {
      "codemirror_mode": {
        "name": "ipython",
        "version": 3
      },
      "file_extension": ".py",
      "mimetype": "text/x-python",
      "name": "python",
      "nbconvert_exporter": "python",
      "pygments_lexer": "ipython3",
      "version": "3.10.13"
    }
  },
  "nbformat": 4,
  "nbformat_minor": 0
}