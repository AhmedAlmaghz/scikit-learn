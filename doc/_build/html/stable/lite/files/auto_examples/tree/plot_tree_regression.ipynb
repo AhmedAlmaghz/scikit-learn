{
  "cells": [
    {
      "cell_type": "markdown",
      "metadata": {},
      "source": [
        "<div class='alert alert-warning'>\n\n# JupyterLite warning\n\nRunning the scikit-learn examples in JupyterLite is experimental and you may encounter some unexpected behavior.\n\nThe main difference is that imports will take a lot longer than usual, for example the first `import sklearn` can take roughly 10-20s.\n\nIf you notice problems, feel free to open an [issue](https://github.com/scikit-learn/scikit-learn/issues/new/choose) about it.\n</div>"
      ]
    },
    {
      "cell_type": "code",
      "execution_count": null,
      "metadata": {
        "collapsed": false
      },
      "outputs": [],
      "source": [
        "# JupyterLite-specific code\nimport matplotlib\nimport pandas"
      ]
    },
    {
      "cell_type": "markdown",
      "metadata": {},
      "source": [
        "\n# \u0627\u0646\u062d\u062f\u0627\u0631 \u0634\u062c\u0631\u0629 \u0627\u0644\u0642\u0631\u0627\u0631\n\u0641\u064a \u0647\u0630\u0627 \u0627\u0644\u0645\u062b\u0627\u0644\u060c \u0646\u0648\u0636\u062d \u062a\u0623\u062b\u064a\u0631 \u062a\u063a\u064a\u064a\u0631 \u0627\u0644\u0639\u0645\u0642 \u0627\u0644\u0623\u0642\u0635\u0649 \u0644\u0634\u062c\u0631\u0629 \u0627\u0644\u0642\u0631\u0627\u0631 \u0639\u0644\u0649 \u0643\u064a\u0641\u064a\u0629 \u0645\u0644\u0627\u0621\u0645\u062a\u0647\u0627 \u0644\u0644\u0628\u064a\u0627\u0646\u0627\u062a. \u0646\u0642\u0648\u0645 \u0628\u0630\u0644\u0643 \u0645\u0631\u0629 \u0639\u0644\u0649 \u0645\u0647\u0645\u0629 \u0627\u0646\u062d\u062f\u0627\u0631 1D \u0648\u0645\u0631\u0629 \u0639\u0644\u0649 \u0645\u0647\u0645\u0629 \u0627\u0646\u062d\u062f\u0627\u0631 \u0645\u062a\u0639\u062f\u062f\u0629 \u0627\u0644\u0645\u062e\u0631\u062c\u0627\u062a.\n"
      ]
    },
    {
      "cell_type": "code",
      "execution_count": null,
      "metadata": {
        "collapsed": false
      },
      "outputs": [],
      "source": [
        "# \u0627\u0644\u0645\u0624\u0644\u0641\u0648\u0646: \u0645\u0637\u0648\u0631\u064a \u0633\u0643\u0627\u064a\u0644\u0631\u0646\n# \u0645\u0639\u0631\u0641 \u0627\u0644\u062a\u0631\u062e\u064a\u0635: BSD-3-Clause"
      ]
    },
    {
      "cell_type": "markdown",
      "metadata": {},
      "source": [
        "## \u0634\u062c\u0631\u0629 \u0627\u0644\u0642\u0631\u0627\u0631 \u0639\u0644\u0649 \u0645\u0647\u0645\u0629 \u0627\u0646\u062d\u062f\u0627\u0631 1D\n\n\u0647\u0646\u0627 \u0646\u0642\u0648\u0645 \u0628\u0636\u0628\u0637 \u0634\u062c\u0631\u0629 \u0639\u0644\u0649 \u0645\u0647\u0645\u0629 \u0627\u0646\u062d\u062f\u0627\u0631 1D.\n\n\u062a\u0633\u062a\u062e\u062f\u0645 `\u0634\u062c\u0631\u0629 \u0627\u0644\u0642\u0631\u0627\u0631 <tree>`\n\u0644\u0636\u0628\u0637 \u0645\u0646\u062d\u0646\u0649 \u062c\u064a\u0628 \u0627\u0644\u062a\u0645\u0627\u0645 \u0645\u0639 \u0625\u0636\u0627\u0641\u0629 \u0645\u0644\u0627\u062d\u0638\u0629 \u0639\u0634\u0648\u0627\u0626\u064a\u0629. \u0648\u0646\u062a\u064a\u062c\u0629 \u0644\u0630\u0644\u0643\u060c \u062a\u062a\u0639\u0644\u0645 \u0627\u0646\u062d\u062f\u0627\u0631\u0627\u062a \u062e\u0637\u064a\u0629 \u0645\u062d\u0644\u064a\u0629 \u062a\u0642\u0631\u064a\u0628 \u0645\u0646\u062d\u0646\u0649 \u062c\u064a\u0628 \u0627\u0644\u062a\u0645\u0627\u0645.\n\n\u064a\u0645\u0643\u0646\u0646\u0627 \u0623\u0646 \u0646\u0631\u0649 \u0623\u0646\u0647 \u0625\u0630\u0627 \u062a\u0645 \u062a\u0639\u064a\u064a\u0646 \u0627\u0644\u0639\u0645\u0642 \u0627\u0644\u0623\u0642\u0635\u0649 \u0644\u0644\u0634\u062c\u0631\u0629 (\u0627\u0644\u0630\u064a \u064a\u062a\u062d\u0643\u0645 \u0641\u064a\u0647\n\u0628\u0645\u0639\u0644\u0645\u0629 `max_depth`) \u0645\u0631\u062a\u0641\u0639\u064b\u0627 \u062c\u062f\u064b\u0627\u060c \u0641\u0625\u0646 \u0634\u062c\u0631\u0629 \u0627\u0644\u0642\u0631\u0627\u0631 \u062a\u062a\u0639\u0644\u0645 \u062a\u0641\u0627\u0635\u064a\u0644 \u062f\u0642\u064a\u0642\u0629\n\u0644\u0628\u064a\u0627\u0646\u0627\u062a \u0627\u0644\u062a\u062f\u0631\u064a\u0628 \u0648\u062a\u062a\u0639\u0644\u0645 \u0645\u0646 \u0627\u0644\u0636\u0648\u0636\u0627\u0621\u060c \u0623\u064a \u0623\u0646\u0647\u0627 \u062a\u0628\u0627\u0644\u063a \u0641\u064a \u0627\u0644\u062a\u0639\u0645\u064a\u0645.\n\n### \u0625\u0646\u0634\u0627\u0621 \u0645\u062c\u0645\u0648\u0639\u0629 \u0628\u064a\u0627\u0646\u0627\u062a \u0639\u0634\u0648\u0627\u0626\u064a\u0629 1D\n\n"
      ]
    },
    {
      "cell_type": "code",
      "execution_count": null,
      "metadata": {
        "collapsed": false
      },
      "outputs": [],
      "source": [
        "import numpy as np\n\nrng = np.random.RandomState(1)\nX = np.sort(5 * rng.rand(80, 1), axis=0)\ny = np.sin(X).ravel()\ny[::5] += 3 * (0.5 - rng.rand(16))"
      ]
    },
    {
      "cell_type": "markdown",
      "metadata": {},
      "source": [
        "### \u0636\u0628\u0637 \u0646\u0645\u0648\u0630\u062c \u0627\u0644\u0627\u0646\u062d\u062f\u0627\u0631\n\u0647\u0646\u0627 \u0646\u0642\u0648\u0645 \u0628\u0636\u0628\u0637 \u0646\u0645\u0648\u0630\u062c\u064a\u0646 \u0628\u0639\u0645\u0642\u064a\u0646 \u0623\u0642\u0635\u0649 \u0645\u062e\u062a\u0644\u0641\u064a\u0646\n\n"
      ]
    },
    {
      "cell_type": "code",
      "execution_count": null,
      "metadata": {
        "collapsed": false
      },
      "outputs": [],
      "source": [
        "from sklearn.tree import DecisionTreeRegressor\n\nregr_1 = DecisionTreeRegressor(max_depth=2)\nregr_2 = DecisionTreeRegressor(max_depth=5)\nregr_1.fit(X, y)\nregr_2.fit(X, y)"
      ]
    },
    {
      "cell_type": "markdown",
      "metadata": {},
      "source": [
        "### \u0627\u0644\u062a\u0646\u0628\u0624\n\u0627\u0644\u062d\u0635\u0648\u0644 \u0639\u0644\u0649 \u062a\u0646\u0628\u0624\u0627\u062a \u0639\u0644\u0649 \u0645\u062c\u0645\u0648\u0639\u0629 \u0627\u0644\u0627\u062e\u062a\u0628\u0627\u0631\n\n"
      ]
    },
    {
      "cell_type": "code",
      "execution_count": null,
      "metadata": {
        "collapsed": false
      },
      "outputs": [],
      "source": [
        "X_test = np.arange(0.0, 5.0, 0.01)[:, np.newaxis]\ny_1 = regr_1.predict(X_test)\ny_2 = regr_2.predict(X_test)"
      ]
    },
    {
      "cell_type": "markdown",
      "metadata": {},
      "source": [
        "### \u0631\u0633\u0645 \u0627\u0644\u0646\u062a\u0627\u0626\u062c\n\n"
      ]
    },
    {
      "cell_type": "code",
      "execution_count": null,
      "metadata": {
        "collapsed": false
      },
      "outputs": [],
      "source": [
        "import matplotlib.pyplot as plt\n\nplt.figure()\nplt.scatter(X, y, s=20, edgecolor=\"black\", c=\"darkorange\", label=\"data\")\nplt.plot(X_test, y_1, color=\"cornflowerblue\", label=\"max_depth=2\", linewidth=2)\nplt.plot(X_test, y_2, color=\"yellowgreen\", label=\"max_depth=5\", linewidth=2)\nplt.xlabel(\"data\")\nplt.ylabel(\"target\")\nplt.title(\"Decision Tree Regression\")\nplt.legend()\nplt.show()"
      ]
    },
    {
      "cell_type": "markdown",
      "metadata": {},
      "source": [
        "\u0643\u0645\u0627 \u062a\u0631\u0649\u060c \u0641\u0625\u0646 \u0627\u0644\u0646\u0645\u0648\u0630\u062c \u0628\u0639\u0645\u0642 5 (\u0623\u0635\u0641\u0631) \u064a\u062a\u0639\u0644\u0645 \u062a\u0641\u0627\u0635\u064a\u0644 \u0628\u064a\u0627\u0646\u0627\u062a \u0627\u0644\u062a\u062f\u0631\u064a\u0628\n\u0625\u0644\u0649 \u0627\u0644\u062d\u062f \u0627\u0644\u0630\u064a \u064a\u0628\u0627\u0644\u063a \u0641\u064a\u0647 \u0641\u064a \u0627\u0644\u062a\u0639\u0645\u064a\u0645 \u0639\u0644\u0649 \u0627\u0644\u0636\u0648\u0636\u0627\u0621. \u0645\u0646 \u0646\u0627\u062d\u064a\u0629 \u0623\u062e\u0631\u0649\u060c\n\u0627\u0644\u0646\u0645\u0648\u0630\u062c \u0628\u0639\u0645\u0642 2 (\u0623\u0632\u0631\u0642) \u064a\u062a\u0639\u0644\u0645 \u0627\u0644\u0627\u062a\u062c\u0627\u0647\u0627\u062a \u0627\u0644\u0631\u0626\u064a\u0633\u064a\u0629 \u0641\u064a \u0627\u0644\u0628\u064a\u0627\u0646\u0627\u062a \u062c\u064a\u062f\u064b\u0627\n\u0648\u0644\u0627 \u064a\u0628\u0627\u0644\u063a \u0641\u064a \u0627\u0644\u062a\u0639\u0645\u064a\u0645. \u0641\u064a \u062d\u0627\u0644\u0627\u062a \u0627\u0644\u0627\u0633\u062a\u062e\u062f\u0627\u0645 \u0627\u0644\u0641\u0639\u0644\u064a\u0629\u060c \u062a\u062d\u062a\u0627\u062c \u0625\u0644\u0649 \u0627\u0644\u062a\u0623\u0643\u062f \u0645\u0646 \u0623\u0646 \u0627\u0644\u0634\u062c\u0631\u0629\n\u0644\u0627 \u062a\u0628\u0627\u0644\u063a \u0641\u064a \u0627\u0644\u062a\u0639\u0645\u064a\u0645 \u0639\u0644\u0649 \u0628\u064a\u0627\u0646\u0627\u062a \u0627\u0644\u062a\u062f\u0631\u064a\u0628\u060c \u0648\u0627\u0644\u062a\u064a \u064a\u0645\u0643\u0646 \u0627\u0644\u0642\u064a\u0627\u0645 \u0628\u0647\u0627 \u0628\u0627\u0633\u062a\u062e\u062f\u0627\u0645 \u062a\u0642\u0633\u064a\u0645 \u0627\u0644\u0628\u064a\u0627\u0646\u0627\u062a.\n\n"
      ]
    },
    {
      "cell_type": "markdown",
      "metadata": {},
      "source": [
        "## \u0627\u0646\u062d\u062f\u0627\u0631 \u0634\u062c\u0631\u0629 \u0627\u0644\u0642\u0631\u0627\u0631 \u0645\u0639 \u0623\u0647\u062f\u0627\u0641 \u0645\u062a\u0639\u062f\u062f\u0629 \u0627\u0644\u0645\u062e\u0631\u062c\u0627\u062a\n\n\u0647\u0646\u0627 \u062a\u0633\u062a\u062e\u062f\u0645 `\u0634\u062c\u0631\u0629 \u0627\u0644\u0642\u0631\u0627\u0631 <tree>`\n\u0644\u0644\u062a\u0646\u0628\u0624 \u0641\u064a \u0646\u0641\u0633 \u0627\u0644\u0648\u0642\u062a \u0628\u0627\u0644\u0645\u0644\u0627\u062d\u0638\u0627\u062a \u0627\u0644\u0639\u0634\u0648\u0627\u0626\u064a\u0629 'x' \u0648 'y' \u0644\u062f\u0627\u0626\u0631\u0629\n\u0645\u0639 \u0645\u064a\u0632\u0629 \u0623\u0633\u0627\u0633\u064a\u0629 \u0648\u0627\u062d\u062f\u0629. \u0648\u0646\u062a\u064a\u062c\u0629 \u0644\u0630\u0644\u0643\u060c \u062a\u062a\u0639\u0644\u0645 \u0627\u0646\u062d\u062f\u0627\u0631\u0627\u062a \u062e\u0637\u064a\u0629 \u0645\u062d\u0644\u064a\u0629 \u062a\u0642\u0631\u064a\u0628 \u0627\u0644\u062f\u0627\u0626\u0631\u0629.\n\n\u064a\u0645\u0643\u0646\u0646\u0627 \u0623\u0646 \u0646\u0631\u0649 \u0623\u0646\u0647 \u0625\u0630\u0627 \u062a\u0645 \u062a\u0639\u064a\u064a\u0646 \u0627\u0644\u0639\u0645\u0642 \u0627\u0644\u0623\u0642\u0635\u0649 \u0644\u0644\u0634\u062c\u0631\u0629 (\u0627\u0644\u0630\u064a \u064a\u062a\u062d\u0643\u0645 \u0641\u064a\u0647\n\u0628\u0645\u0639\u0644\u0645\u0629 `max_depth`) \u0645\u0631\u062a\u0641\u0639\u064b\u0627 \u062c\u062f\u064b\u0627\u060c \u0641\u0625\u0646 \u0634\u062c\u0631\u0629 \u0627\u0644\u0642\u0631\u0627\u0631 \u062a\u062a\u0639\u0644\u0645 \u062a\u0641\u0627\u0635\u064a\u0644 \u062f\u0642\u064a\u0642\u0629\n\u0644\u0628\u064a\u0627\u0646\u0627\u062a \u0627\u0644\u062a\u062f\u0631\u064a\u0628 \u0648\u062a\u062a\u0639\u0644\u0645 \u0645\u0646 \u0627\u0644\u0636\u0648\u0636\u0627\u0621\u060c \u0623\u064a \u0623\u0646\u0647\u0627 \u062a\u0628\u0627\u0644\u063a \u0641\u064a \u0627\u0644\u062a\u0639\u0645\u064a\u0645.\n\n"
      ]
    },
    {
      "cell_type": "markdown",
      "metadata": {},
      "source": [
        "### \u0625\u0646\u0634\u0627\u0621 \u0645\u062c\u0645\u0648\u0639\u0629 \u0628\u064a\u0627\u0646\u0627\u062a \u0639\u0634\u0648\u0627\u0626\u064a\u0629\n\n"
      ]
    },
    {
      "cell_type": "code",
      "execution_count": null,
      "metadata": {
        "collapsed": false
      },
      "outputs": [],
      "source": [
        "rng = np.random.RandomState(1)\nX = np.sort(200 * rng.rand(100, 1) - 100, axis=0)\ny = np.array([np.pi * np.sin(X).ravel(), np.pi * np.cos(X).ravel()]).T\ny[::5, :] += 0.5 - rng.rand(20, 2)"
      ]
    },
    {
      "cell_type": "markdown",
      "metadata": {},
      "source": [
        "### \u0636\u0628\u0637 \u0646\u0645\u0648\u0630\u062c \u0627\u0644\u0627\u0646\u062d\u062f\u0627\u0631\n\n"
      ]
    },
    {
      "cell_type": "code",
      "execution_count": null,
      "metadata": {
        "collapsed": false
      },
      "outputs": [],
      "source": [
        "regr_1 = DecisionTreeRegressor(max_depth=2)\nregr_2 = DecisionTreeRegressor(max_depth=5)\nregr_3 = DecisionTreeRegressor(max_depth=8)\nregr_1.fit(X, y)\nregr_2.fit(X, y)\nregr_3.fit(X, y)"
      ]
    },
    {
      "cell_type": "markdown",
      "metadata": {},
      "source": [
        "### \u0627\u0644\u062a\u0646\u0628\u0624\n\u0627\u0644\u062d\u0635\u0648\u0644 \u0639\u0644\u0649 \u062a\u0646\u0628\u0624\u0627\u062a \u0639\u0644\u0649 \u0645\u062c\u0645\u0648\u0639\u0629 \u0627\u0644\u0627\u062e\u062a\u0628\u0627\u0631\n\n"
      ]
    },
    {
      "cell_type": "code",
      "execution_count": null,
      "metadata": {
        "collapsed": false
      },
      "outputs": [],
      "source": [
        "X_test = np.arange(-100.0, 100.0, 0.01)[:, np.newaxis]\ny_1 = regr_1.predict(X_test)\ny_2 = regr_2.predict(X_test)\ny_3 = regr_3.predict(X_test)"
      ]
    },
    {
      "cell_type": "markdown",
      "metadata": {},
      "source": [
        "### \u0631\u0633\u0645 \u0627\u0644\u0646\u062a\u0627\u0626\u062c\n\n"
      ]
    },
    {
      "cell_type": "code",
      "execution_count": null,
      "metadata": {
        "collapsed": false
      },
      "outputs": [],
      "source": [
        "plt.figure()\ns = 25\nplt.scatter(y[:, 0], y[:, 1], c=\"yellow\", s=s, edgecolor=\"black\", label=\"data\")\nplt.scatter(\n    y_1[:, 0],\n    y_1[:, 1],\n    c=\"cornflowerblue\",\n    s=s,\n    edgecolor=\"black\",\n    label=\"max_depth=2\",\n)\nplt.scatter(y_2[:, 0], y_2[:, 1], c=\"red\", s=s, edgecolor=\"black\", label=\"max_depth=5\")\nplt.scatter(y_3[:, 0], y_3[:, 1], c=\"blue\", s=s, edgecolor=\"black\", label=\"max_depth=8\")\nplt.xlim([-6, 6])\nplt.ylim([-6, 6])\nplt.xlabel(\"target 1\")\nplt.ylabel(\"target 2\")\nplt.title(\"Multi-output Decision Tree Regression\")\nplt.legend(loc=\"best\")\nplt.show()"
      ]
    },
    {
      "cell_type": "markdown",
      "metadata": {},
      "source": [
        "\u0643\u0645\u0627 \u062a\u0631\u0649\u060c \u0643\u0644\u0645\u0627 \u0632\u0627\u062f\u062a \u0642\u064a\u0645\u0629 `max_depth`\u060c \u0643\u0644\u0645\u0627 \u0632\u0627\u062f\u062a \u062a\u0641\u0627\u0635\u064a\u0644 \u0627\u0644\u0628\u064a\u0627\u0646\u0627\u062a\n\u0627\u0644\u062a\u064a \u064a\u0644\u062a\u0642\u0637\u0647\u0627 \u0627\u0644\u0646\u0645\u0648\u0630\u062c. \u0648\u0645\u0639 \u0630\u0644\u0643\u060c \u0641\u0625\u0646 \u0627\u0644\u0646\u0645\u0648\u0630\u062c \u064a\u0628\u0627\u0644\u063a \u0623\u064a\u0636\u064b\u0627 \u0641\u064a \u0627\u0644\u062a\u0639\u0645\u064a\u0645 \u0639\u0644\u0649 \u0627\u0644\u0628\u064a\u0627\u0646\u0627\u062a \u0648\u064a\u062a\u0623\u062b\u0631\n\u0628\u0627\u0644\u0636\u0648\u0636\u0627\u0621.\n"
      ]
    }
  ],
  "metadata": {
    "kernelspec": {
      "display_name": "Python 3",
      "language": "python",
      "name": "python3"
    },
    "language_info": {
      "codemirror_mode": {
        "name": "ipython",
        "version": 3
      },
      "file_extension": ".py",
      "mimetype": "text/x-python",
      "name": "python",
      "nbconvert_exporter": "python",
      "pygments_lexer": "ipython3",
      "version": "3.10.13"
    }
  },
  "nbformat": 4,
  "nbformat_minor": 0
}