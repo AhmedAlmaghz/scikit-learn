{
  "cells": [
    {
      "cell_type": "markdown",
      "metadata": {},
      "source": [
        "<div class='alert alert-warning'>\n\n# JupyterLite warning\n\nRunning the scikit-learn examples in JupyterLite is experimental and you may encounter some unexpected behavior.\n\nThe main difference is that imports will take a lot longer than usual, for example the first `import sklearn` can take roughly 10-20s.\n\nIf you notice problems, feel free to open an [issue](https://github.com/scikit-learn/scikit-learn/issues/new/choose) about it.\n</div>"
      ]
    },
    {
      "cell_type": "code",
      "execution_count": null,
      "metadata": {
        "collapsed": false
      },
      "outputs": [],
      "source": [
        "# JupyterLite-specific code\nimport matplotlib\nimport pandas"
      ]
    },
    {
      "cell_type": "markdown",
      "metadata": {},
      "source": [
        "\n# \u0637\u0631\u0642 \u062a\u0647\u064a\u0626\u0629 \u0646\u0645\u0627\u0630\u062c \u0627\u0644\u062e\u0644\u0637 \u0627\u0644\u063a\u0627\u0648\u0633\u064a\n\n\u0623\u0645\u062b\u0644\u0629 \u0639\u0644\u0649 \u0627\u0644\u0637\u0631\u0642 \u0627\u0644\u0645\u062e\u062a\u0644\u0641\u0629 \u0644\u0644\u062a\u0647\u064a\u0626\u0629 \u0641\u064a \u0646\u0645\u0627\u0630\u062c \u0627\u0644\u062e\u0644\u0637 \u0627\u0644\u063a\u0627\u0648\u0633\u064a\n\n\u0631\u0627\u062c\u0639 `gmm` \u0644\u0645\u0632\u064a\u062f \u0645\u0646 \u0627\u0644\u0645\u0639\u0644\u0648\u0645\u0627\u062a \u062d\u0648\u0644 \u0627\u0644\u0645\u062d\u0644\u0644.\n\n\u0647\u0646\u0627 \u0646\u0642\u0648\u0645 \u0628\u062a\u0648\u0644\u064a\u062f \u0628\u0639\u0636 \u0628\u064a\u0627\u0646\u0627\u062a \u0627\u0644\u0639\u064a\u0646\u0629 \u0645\u0639 \u0623\u0631\u0628\u0639 \u0645\u062c\u0645\u0648\u0639\u0627\u062a \u0633\u0647\u0644\u0629 \u0627\u0644\u062a\u062d\u062f\u064a\u062f. \u0627\u0644\u063a\u0631\u0636 \u0645\u0646 \u0647\u0630\u0627 \u0627\u0644\u0645\u062b\u0627\u0644 \u0647\u0648 \u0625\u0638\u0647\u0627\u0631 \u0627\u0644\u0637\u0631\u0642 \u0627\u0644\u0623\u0631\u0628\u0639 \u0627\u0644\u0645\u062e\u062a\u0644\u0641\u0629 \u0644\u0645\u0639\u0644\u0645\u0629 \u0627\u0644\u062a\u0647\u064a\u0626\u0629 *init_param*.\n\n\u0627\u0644\u062a\u0647\u064a\u0626\u0627\u062a \u0627\u0644\u0623\u0631\u0628\u0639\u0629 \u0647\u064a *kmeans* (\u0627\u0644\u0627\u0641\u062a\u0631\u0627\u0636\u064a)\u060c *random*\u060c *random_from_data* \u0648\n*k-means++*.\n\n\u062a\u0645\u062b\u0644 \u0627\u0644\u0645\u0627\u0633\u0627\u062a \u0627\u0644\u0628\u0631\u062a\u0642\u0627\u0644\u064a\u0629 \u0645\u0631\u0627\u0643\u0632 \u0627\u0644\u062a\u0647\u064a\u0626\u0629 \u0644\u0644\u0646\u0645\u0627\u0630\u062c \u0627\u0644\u063a\u0627\u0648\u0633\u064a\u0629 \u0627\u0644\u062a\u064a \u062a\u0645 \u0625\u0646\u0634\u0627\u0624\u0647\u0627 \u0628\u0648\u0627\u0633\u0637\u0629\n*init_param*. \u064a\u062a\u0645 \u062a\u0645\u062b\u064a\u0644 \u0628\u0642\u064a\u0629 \u0627\u0644\u0628\u064a\u0627\u0646\u0627\u062a \u0639\u0644\u0649 \u0634\u0643\u0644 \u0635\u0644\u0628\u0627\u0646 \u0648\u062a\u0645\u062b\u0644 \u0627\u0644\u0623\u0644\u0648\u0627\u0646 \u0627\u0644\u062a\u0635\u0646\u064a\u0641 \u0627\u0644\u0645\u0631\u062a\u0628\u0637 \u0627\u0644\u0646\u0647\u0627\u0626\u064a \u0628\u0639\u062f \u0627\u0646\u062a\u0647\u0627\u0621 \u0627\u0644\u0646\u0645\u0648\u0630\u062c \u0627\u0644\u063a\u0627\u0648\u0633\u064a.\n\n\u062a\u0645\u062b\u0644 \u0627\u0644\u0623\u0631\u0642\u0627\u0645 \u0641\u064a \u0627\u0644\u0632\u0627\u0648\u064a\u0629 \u0627\u0644\u0639\u0644\u0648\u064a\u0629 \u0627\u0644\u064a\u0645\u0646\u0649 \u0645\u0646 \u0643\u0644 \u0631\u0633\u0645 \u0641\u0631\u0639\u064a \u0639\u062f\u062f \u0627\u0644\u062a\u0643\u0631\u0627\u0631\u0627\u062a \u0627\u0644\u062a\u064a \u062a\u0645 \u0627\u062a\u062e\u0627\u0630\u0647\u0627 \u0644\u062a\u0642\u0627\u0631\u0628 GaussianMixture \u0648\u0627\u0644\u0648\u0642\u062a \u0627\u0644\u0646\u0633\u0628\u064a \u0627\u0644\u0630\u064a \u0627\u0633\u062a\u063a\u0631\u0642\u062a\u0647 \u0639\u0645\u0644\u064a\u0629 \u0627\u0644\u062a\u0647\u064a\u0626\u0629 \u0644\u062c\u0632\u0621 \u0627\u0644\u062e\u0648\u0627\u0631\u0632\u0645\u064a\u0629. \u062a\u0645\u064a\u0644 \u0623\u0648\u0642\u0627\u062a \u0627\u0644\u062a\u0647\u064a\u0626\u0629 \u0627\u0644\u0623\u0642\u0635\u0631 \u0625\u0644\u0649 \u0648\u062c\u0648\u062f \u0639\u062f\u062f \u0623\u0643\u0628\u0631 \u0645\u0646 \u0627\u0644\u062a\u0643\u0631\u0627\u0631\u0627\u062a \u0644\u0644\u062a\u0642\u0627\u0631\u0628.\n\n\u0648\u0642\u062a \u0627\u0644\u062a\u0647\u064a\u0626\u0629 \u0647\u0648 \u0646\u0633\u0628\u0629 \u0627\u0644\u0648\u0642\u062a \u0627\u0644\u0645\u0633\u062a\u063a\u0631\u0642 \u0644\u062a\u0644\u0643 \u0627\u0644\u0637\u0631\u064a\u0642\u0629 \u0645\u0642\u0627\u0628\u0644\n\u0627\u0644\u0648\u0642\u062a \u0627\u0644\u0645\u0633\u062a\u063a\u0631\u0642 \u0644\u0637\u0631\u064a\u0642\u0629 *kmeans* \u0627\u0644\u0627\u0641\u062a\u0631\u0627\u0636\u064a\u0629. \u0643\u0645\u0627 \u062a\u0631\u0649\u060c \u062a\u0633\u062a\u063a\u0631\u0642 \u062c\u0645\u064a\u0639 \u0627\u0644\u0637\u0631\u0642 \u0627\u0644\u0628\u062f\u064a\u0644\u0629 \u0627\u0644\u062b\u0644\u0627\u062b\u0629 \u0648\u0642\u062a\u064b\u0627 \u0623\u0642\u0644 \u0644\u0644\u062a\u0647\u064a\u0626\u0629 \u0639\u0646\u062f \u0645\u0642\u0627\u0631\u0646\u062a\u0647\u0627 \u0628\u0640 *kmeans*.\n\n\u0641\u064a \u0647\u0630\u0627 \u0627\u0644\u0645\u062b\u0627\u0644\u060c \u0639\u0646\u062f \u062a\u0647\u064a\u0626\u0629 \u0627\u0644\u0646\u0645\u0648\u0630\u062c \u0628\u0627\u0633\u062a\u062e\u062f\u0627\u0645 *random_from_data* \u0623\u0648 *random*\u060c \u064a\u0633\u062a\u063a\u0631\u0642 \u0627\u0644\u0646\u0645\u0648\u0630\u062c\n\u0645\u0632\u064a\u062f\u064b\u0627 \u0645\u0646 \u0627\u0644\u062a\u0643\u0631\u0627\u0631\u0627\u062a \u0644\u0644\u062a\u0642\u0627\u0631\u0628. \u0647\u0646\u0627\u060c \u064a\u0642\u0648\u0645 *k-means++* \u0628\u0639\u0645\u0644 \u062c\u064a\u062f \u0644\u0643\u0644 \u0645\u0646 \u0627\u0644\u0648\u0642\u062a \u0627\u0644\u0645\u0646\u062e\u0641\u0636\n\u0644\u0644\u062a\u0647\u064a\u0626\u0629 \u0648\u0639\u062f\u062f \u062a\u0643\u0631\u0627\u0631\u0627\u062a GaussianMixture \u0627\u0644\u0645\u0646\u062e\u0641\u0636\u0629 \u0644\u0644\u062a\u0642\u0627\u0631\u0628.\n"
      ]
    },
    {
      "cell_type": "code",
      "execution_count": null,
      "metadata": {
        "collapsed": false
      },
      "outputs": [],
      "source": [
        "# \u0627\u0644\u0645\u0624\u0644\u0641\u0648\u0646: \u0645\u0637\u0648\u0631\u064a scikit-learn\n# \u0645\u0639\u0631\u0641 \u0627\u0644\u062a\u0631\u062e\u064a\u0635: BSD-3-Clause\n\nfrom timeit import default_timer as timer\n\nimport matplotlib.pyplot as plt\nimport numpy as np\n\nfrom sklearn.datasets._samples_generator import make_blobs\nfrom sklearn.mixture import GaussianMixture\nfrom sklearn.utils.extmath import row_norms\n\nprint(__doc__)\n\n# \u062a\u0648\u0644\u064a\u062f \u0628\u0639\u0636 \u0627\u0644\u0628\u064a\u0627\u0646\u0627\u062a\n\nX, y_true = make_blobs(n_samples=4000, centers=4, cluster_std=0.60, random_state=0)\nX = X[:, ::-1]\n\nn_samples = 4000\nn_components = 4\nx_squared_norms = row_norms(X, squared=True)\n\n\ndef get_initial_means(X, init_params, r):\n    # \u062a\u0634\u063a\u064a\u0644 GaussianMixture \u0645\u0639 max_iter=0 \u0644\u0625\u062e\u0631\u0627\u062c \u0645\u062a\u0648\u0633\u0637\u0627\u062a \u0627\u0644\u062a\u0647\u064a\u0626\u0629\n    gmm = GaussianMixture(\n        n_components=4, init_params=init_params, tol=1e-9, max_iter=0, random_state=r\n    ).fit(X)\n    return gmm.means_\n\n\nmethods = [\"kmeans\", \"random_from_data\", \"k-means++\", \"random\"]\ncolors = [\"navy\", \"turquoise\", \"cornflowerblue\", \"darkorange\"]\ntimes_init = {}\nrelative_times = {}\n\nplt.figure(figsize=(4 * len(methods) // 2, 6))\nplt.subplots_adjust(\n    bottom=0.1, top=0.9, hspace=0.15, wspace=0.05, left=0.05, right=0.95\n)\n\nfor n, method in enumerate(methods):\n    r = np.random.RandomState(seed=1234)\n    plt.subplot(2, len(methods) // 2, n + 1)\n\n    start = timer()\n    ini = get_initial_means(X, method, r)\n    end = timer()\n    init_time = end - start\n\n    gmm = GaussianMixture(\n        n_components=4, means_init=ini, tol=1e-9, max_iter=2000, random_state=r\n    ).fit(X)\n\n    times_init[method] = init_time\n    for i, color in enumerate(colors):\n        data = X[gmm.predict(X) == i]\n        plt.scatter(data[:, 0], data[:, 1], color=color, marker=\"x\")\n\n    plt.scatter(\n        ini[:, 0], ini[:, 1], s=75, marker=\"D\", c=\"orange\", lw=1.5, edgecolors=\"black\"\n    )\n    relative_times[method] = times_init[method] / times_init[methods[0]]\n\n    plt.xticks(())\n    plt.yticks(())\n    plt.title(method, loc=\"left\", fontsize=12)\n    plt.title(\n        \"Iter %i | Init Time %.2fx\" % (gmm.n_iter_, relative_times[method]),\n        loc=\"right\",\n        fontsize=10,\n    )\nplt.suptitle(\"GMM iterations and relative time taken to initialize\")\nplt.show()"
      ]
    }
  ],
  "metadata": {
    "kernelspec": {
      "display_name": "Python 3",
      "language": "python",
      "name": "python3"
    },
    "language_info": {
      "codemirror_mode": {
        "name": "ipython",
        "version": 3
      },
      "file_extension": ".py",
      "mimetype": "text/x-python",
      "name": "python",
      "nbconvert_exporter": "python",
      "pygments_lexer": "ipython3",
      "version": "3.10.13"
    }
  },
  "nbformat": 4,
  "nbformat_minor": 0
}