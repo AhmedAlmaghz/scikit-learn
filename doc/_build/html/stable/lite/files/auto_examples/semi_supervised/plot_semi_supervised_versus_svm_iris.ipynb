{
  "cells": [
    {
      "cell_type": "markdown",
      "metadata": {},
      "source": [
        "<div class='alert alert-warning'>\n\n# JupyterLite warning\n\nRunning the scikit-learn examples in JupyterLite is experimental and you may encounter some unexpected behavior.\n\nThe main difference is that imports will take a lot longer than usual, for example the first `import sklearn` can take roughly 10-20s.\n\nIf you notice problems, feel free to open an [issue](https://github.com/scikit-learn/scikit-learn/issues/new/choose) about it.\n</div>"
      ]
    },
    {
      "cell_type": "code",
      "execution_count": null,
      "metadata": {
        "collapsed": false
      },
      "outputs": [],
      "source": [
        "# JupyterLite-specific code\nimport matplotlib\nimport pandas"
      ]
    },
    {
      "cell_type": "markdown",
      "metadata": {},
      "source": [
        "\n# \u062d\u062f\u0648\u062f \u0627\u0644\u0642\u0631\u0627\u0631 \u0644\u0644\u0645\u0635\u0646\u0641\u0627\u062a \u0634\u0628\u0647 \u0627\u0644\u0645\u064f\u0634\u0631\u0641\u0629 \u0645\u0642\u0627\u0628\u0644 SVM \u0639\u0644\u0649 \u0645\u062c\u0645\u0648\u0639\u0629 \u0628\u064a\u0627\u0646\u0627\u062a Iris\n\n\u0645\u0642\u0627\u0631\u0646\u0629 \u0644\u062d\u062f\u0648\u062f \u0627\u0644\u0642\u0631\u0627\u0631 \u0627\u0644\u0645\u0648\u0644\u062f\u0629 \u0639\u0644\u0649 \u0645\u062c\u0645\u0648\u0639\u0629 \u0628\u064a\u0627\u0646\u0627\u062a Iris\n\u0628\u0648\u0627\u0633\u0637\u0629 Label Spreading \u0648Self-training \u0648SVM.\n\n\u0647\u0630\u0627 \u0627\u0644\u0645\u062b\u0627\u0644 \u064a\u0648\u0636\u062d \u0623\u0646 Label Spreading \u0648Self-training \u064a\u0645\u0643\u0646\u0647\u0645\u0627 \u062a\u0639\u0644\u0645\n\u062d\u062f\u0648\u062f \u062c\u064a\u062f\u0629 \u062d\u062a\u0649 \u0645\u0639 \u0643\u0645\u064a\u0627\u062a \u0635\u063a\u064a\u0631\u0629 \u0645\u0646 \u0627\u0644\u0628\u064a\u0627\u0646\u0627\u062a \u0627\u0644\u0645\u064f\u0639\u064e\u0644\u064e\u0651\u0645\u0629.\n\n\u0645\u0644\u0627\u062d\u0638\u0629: \u062a\u0645 \u0625\u0647\u0645\u0627\u0644 Self-training \u0645\u0639 100% \u0645\u0646 \u0627\u0644\u0628\u064a\u0627\u0646\u0627\u062a \u0644\u0623\u0646\u0647\u0627 \u0645\u062a\u0637\u0627\u0628\u0642\u0629 \u0648\u0638\u064a\u0641\u064a\u0627\u064b\n\u0645\u0639 \u062a\u062f\u0631\u064a\u0628 SVC \u0639\u0644\u0649 100% \u0645\u0646 \u0627\u0644\u0628\u064a\u0627\u0646\u0627\u062a.\n"
      ]
    },
    {
      "cell_type": "code",
      "execution_count": null,
      "metadata": {
        "collapsed": false
      },
      "outputs": [],
      "source": [
        "# \u0627\u0644\u0645\u0624\u0644\u0641\u0648\u0646: \u0645\u0637\u0648\u0631\u064a scikit-learn\n# \u0645\u0639\u0631\u0641 \u0627\u0644\u062a\u0631\u062e\u064a\u0635: BSD-3-Clause\n\nimport matplotlib.pyplot as plt\nimport numpy as np\n\nfrom sklearn import datasets\nfrom sklearn.semi_supervised import LabelSpreading, SelfTrainingClassifier\nfrom sklearn.svm import SVC\n\niris = datasets.load_iris()\n\nX = iris.data[:, :2]\ny = iris.target\n\n# \u062d\u062c\u0645 \u0627\u0644\u062e\u0637\u0648\u0629 \u0641\u064a \u0627\u0644\u0634\u0628\u0643\u0629\nh = 0.02\n\nrng = np.random.RandomState(0)\ny_rand = rng.rand(y.shape[0])\ny_30 = np.copy(y)\ny_30[y_rand < 0.3] = -1  # \u062a\u0639\u064a\u064a\u0646 \u0639\u064a\u0646\u0627\u062a \u0639\u0634\u0648\u0627\u0626\u064a\u0629 \u0644\u062a\u0643\u0648\u0646 \u063a\u064a\u0631 \u0645\u064f\u0639\u064e\u0644\u064e\u0651\u0645\u0629\ny_50 = np.copy(y)\ny_50[y_rand < 0.5] = -1\n# \u0646\u0646\u0634\u0626 \u0645\u062b\u0627\u0644\u0627\u064b \u0644\u0640 SVM \u0648\u0646\u0642\u0648\u0645 \u0628\u062a\u062f\u0631\u064a\u0628\u0647 \u0639\u0644\u0649 \u0627\u0644\u0628\u064a\u0627\u0646\u0627\u062a. \u0644\u0627 \u0646\u0642\u0648\u0645 \u0628\u0636\u0628\u0637 \u0627\u0644\u0628\u064a\u0627\u0646\u0627\u062a \u0644\u0623\u0646\u0646\u0627 \u0646\u0631\u064a\u062f \u0631\u0633\u0645 \u0627\u0644\u0645\u062a\u062c\u0647\u0627\u062a \u0627\u0644\u062f\u0627\u0639\u0645\u0629\nls30 = (LabelSpreading().fit(X, y_30), y_30, \"Label Spreading 30% data\")\nls50 = (LabelSpreading().fit(X, y_50), y_50, \"Label Spreading 50% data\")\nls100 = (LabelSpreading().fit(X, y), y, \"Label Spreading 100% data\")\n\n# \u0627\u0644\u0645\u0635\u0646\u0641 \u0627\u0644\u0623\u0633\u0627\u0633\u064a \u0644\u0640 self-training \u0645\u0637\u0627\u0628\u0642 \u0644\u0640 SVC\nbase_classifier = SVC(kernel=\"rbf\", gamma=0.5, probability=True)\nst30 = (\n    SelfTrainingClassifier(base_classifier).fit(X, y_30),\n    y_30,\n    \"Self-training 30% data\",\n)\nst50 = (\n    SelfTrainingClassifier(base_classifier).fit(X, y_50),\n    y_50,\n    \"Self-training 50% data\",\n)\n\nrbf_svc = (SVC(kernel=\"rbf\", gamma=0.5).fit(X, y), y, \"SVC with rbf kernel\")\n\n# \u0625\u0646\u0634\u0627\u0621 \u0634\u0628\u0643\u0629 \u0644\u0631\u0633\u0645\u0647\u0627\nx_min, x_max = X[:, 0].min() - 1, X[:, 0].max() + 1\ny_min, y_max = X[:, 1].min() - 1, X[:, 1].max() + 1\nxx, yy = np.meshgrid(np.arange(x_min, x_max, h), np.arange(y_min, y_max, h))\n\ncolor_map = {-1: (1, 1, 1), 0: (0, 0, 0.9), 1: (1, 0, 0), 2: (0.8, 0.6, 0)}\n\nclassifiers = (ls30, st30, ls50, st50, ls100, rbf_svc)\nfor i, (clf, y_train, title) in enumerate(classifiers):\n    # \u0631\u0633\u0645 \u062d\u062f\u0648\u062f \u0627\u0644\u0642\u0631\u0627\u0631. \u0644\u0647\u0630\u0627\u060c \u0633\u0646\u0642\u0648\u0645 \u0628\u062a\u0639\u064a\u064a\u0646 \u0644\u0648\u0646 \u0644\u0643\u0644 \u0646\u0642\u0637\u0629\n    # \u0641\u064a \u0627\u0644\u0634\u0628\u0643\u0629 [x_min, x_max]x[y_min, y_max].\n    plt.subplot(3, 2, i + 1)\n    Z = clf.predict(np.c_[xx.ravel(), yy.ravel()])\n\n    # \u0648\u0636\u0639 \u0627\u0644\u0646\u062a\u064a\u062c\u0629 \u0641\u064a \u0631\u0633\u0645 \u0645\u0644\u0648\u0646\n    Z = Z.reshape(xx.shape)\n    plt.contourf(xx, yy, Z, cmap=plt.cm.Paired)\n    plt.axis(\"off\")\n\n    # \u0631\u0633\u0645 \u0646\u0642\u0627\u0637 \u0627\u0644\u062a\u062f\u0631\u064a\u0628 \u0623\u064a\u0636\u0627\u064b\n    colors = [color_map[y] for y in y_train]\n    plt.scatter(X[:, 0], X[:, 1], c=colors, edgecolors=\"black\")\n\n    plt.title(title)\n\nplt.suptitle(\"Unlabeled points are colored white\", y=0.1)\nplt.show()"
      ]
    }
  ],
  "metadata": {
    "kernelspec": {
      "display_name": "Python 3",
      "language": "python",
      "name": "python3"
    },
    "language_info": {
      "codemirror_mode": {
        "name": "ipython",
        "version": 3
      },
      "file_extension": ".py",
      "mimetype": "text/x-python",
      "name": "python",
      "nbconvert_exporter": "python",
      "pygments_lexer": "ipython3",
      "version": "3.10.13"
    }
  },
  "nbformat": 4,
  "nbformat_minor": 0
}