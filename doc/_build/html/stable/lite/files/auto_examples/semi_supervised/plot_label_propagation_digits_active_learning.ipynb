{
  "cells": [
    {
      "cell_type": "markdown",
      "metadata": {},
      "source": [
        "<div class='alert alert-warning'>\n\n# JupyterLite warning\n\nRunning the scikit-learn examples in JupyterLite is experimental and you may encounter some unexpected behavior.\n\nThe main difference is that imports will take a lot longer than usual, for example the first `import sklearn` can take roughly 10-20s.\n\nIf you notice problems, feel free to open an [issue](https://github.com/scikit-learn/scikit-learn/issues/new/choose) about it.\n</div>"
      ]
    },
    {
      "cell_type": "code",
      "execution_count": null,
      "metadata": {
        "collapsed": false
      },
      "outputs": [],
      "source": [
        "# JupyterLite-specific code\nimport matplotlib\nimport pandas"
      ]
    },
    {
      "cell_type": "markdown",
      "metadata": {},
      "source": [
        "\n# \u0646\u0634\u0631 \u0627\u0644\u062a\u0633\u0645\u064a\u0629 \u0644\u0644\u0623\u0631\u0642\u0627\u0645 \u0628\u0627\u0633\u062a\u062e\u062f\u0627\u0645 \u0627\u0644\u062a\u0639\u0644\u0645 \u0627\u0644\u0646\u0634\u0637\n\n\u064a\u0648\u0636\u062d \u0647\u0630\u0627 \u0627\u0644\u0645\u062b\u0627\u0644 \u062a\u0642\u0646\u064a\u0629 \u0627\u0644\u062a\u0639\u0644\u0645 \u0627\u0644\u0646\u0634\u0637 \u0644\u062a\u0639\u0644\u0645 \u0627\u0644\u062a\u0639\u0631\u0641 \u0639\u0644\u0649 \u0627\u0644\u0623\u0631\u0642\u0627\u0645 \u0627\u0644\u0645\u0643\u062a\u0648\u0628\u0629 \u0628\u062e\u0637 \u0627\u0644\u064a\u062f\n\u0628\u0627\u0633\u062a\u062e\u062f\u0627\u0645 \u0646\u0634\u0631 \u0627\u0644\u062a\u0633\u0645\u064a\u0629.\n\n\u0646\u0628\u062f\u0623 \u0628\u062a\u062f\u0631\u064a\u0628 \u0646\u0645\u0648\u0630\u062c \u0646\u0634\u0631 \u0627\u0644\u062a\u0633\u0645\u064a\u0629 \u0628\u0627\u0633\u062a\u062e\u062f\u0627\u0645 10 \u0646\u0642\u0627\u0637 \u0641\u0642\u0637 \u0630\u0627\u062a \u062a\u0633\u0645\u064a\u0627\u062a\u060c\n\u062b\u0645 \u0646\u0642\u0648\u0645 \u0628\u0627\u062e\u062a\u064a\u0627\u0631 \u0623\u0643\u062b\u0631 5 \u0646\u0642\u0627\u0637 \u063a\u064a\u0631 \u0645\u0624\u0643\u062f\u0629 \u0644\u0646\u0642\u0648\u0645 \u0628\u062a\u0633\u0645\u064a\u062a\u0647\u0627. \u0628\u0639\u062f \u0630\u0644\u0643\u060c \u0646\u0642\u0648\u0645 \u0628\u062a\u062f\u0631\u064a\u0628\n\u0627\u0644\u0646\u0645\u0648\u0630\u062c \u0628\u0627\u0633\u062a\u062e\u062f\u0627\u0645 15 \u0646\u0642\u0637\u0629 \u0630\u0627\u062a \u062a\u0633\u0645\u064a\u0627\u062a (10 \u0646\u0642\u0627\u0637 \u0623\u0635\u0644\u064a\u0629 + 5 \u0646\u0642\u0627\u0637 \u062c\u062f\u064a\u062f\u0629). \u0648\u0646\u0643\u0631\u0631 \u0647\u0630\u0647 \u0627\u0644\u0639\u0645\u0644\u064a\u0629\n\u062e\u0645\u0633 \u0645\u0631\u0627\u062a \u0644\u0646\u062d\u0635\u0644 \u0639\u0644\u0649 \u0646\u0645\u0648\u0630\u062c \u0645\u062f\u0631\u0628 \u0639\u0644\u0649 30 \u0645\u062b\u0627\u0644\u064b\u0627 \u0630\u0627 \u062a\u0633\u0645\u064a\u0627\u062a. \u064a\u0645\u0643\u0646\u0643 \u0632\u064a\u0627\u062f\u0629 \u0639\u062f\u062f \u0627\u0644\u062a\u0643\u0631\u0627\u0631\u0627\u062a \u0644\u062a\u0633\u0645\u064a\u0629 \u0623\u0643\u062b\u0631 \u0645\u0646 30 \u0645\u062b\u0627\u0644\u064b\u0627 \u0645\u0646 \u062e\u0644\u0627\u0644 \u062a\u063a\u064a\u064a\u0631 `max_iterations`. \u064a\u0645\u0643\u0646 \u0623\u0646 \u064a\u0643\u0648\u0646 \u062a\u0633\u0645\u064a\u0629 \u0623\u0643\u062b\u0631 \u0645\u0646 30 \u0645\u062b\u0627\u0644\u064b\u0627 \u0645\u0641\u064a\u062f\u064b\u0627 \u0644\u0644\u062d\u0635\u0648\u0644 \u0639\u0644\u0649 \u0641\u0643\u0631\u0629 \u0639\u0646 \u0633\u0631\u0639\u0629 \u062a\u0642\u0627\u0631\u0628\n\u0647\u0630\u0647 \u0627\u0644\u062a\u0642\u0646\u064a\u0629 \u0644\u0644\u062a\u0639\u0644\u0645 \u0627\u0644\u0646\u0634\u0637.\n\n\u0633\u064a\u0638\u0647\u0631 \u0631\u0633\u0645 \u0628\u064a\u0627\u0646\u064a \u064a\u0648\u0636\u062d \u0623\u0643\u062b\u0631 5 \u0623\u0631\u0642\u0627\u0645 \u063a\u064a\u0631 \u0645\u0624\u0643\u062f\u0629 \u0641\u064a \u0643\u0644 \u062a\u0643\u0631\u0627\u0631\n\u0644\u0644\u062a\u062f\u0631\u064a\u0628. \u0642\u062f \u062a\u062d\u062a\u0648\u064a \u0647\u0630\u0647 \u0627\u0644\u0623\u0645\u062b\u0644\u0629 \u0639\u0644\u0649 \u0623\u062e\u0637\u0627\u0621 \u0623\u0648 \u0644\u0627\u060c \u0648\u0644\u0643\u0646\u0646\u0627 \u0633\u0646\u0642\u0648\u0645 \u0628\u062a\u062f\u0631\u064a\u0628 \u0627\u0644\u0646\u0645\u0648\u0630\u062c \u0627\u0644\u062a\u0627\u0644\u064a\n\u0628\u0627\u0633\u062a\u062e\u062f\u0627\u0645 \u0627\u0644\u062a\u0633\u0645\u064a\u0627\u062a \u0627\u0644\u0635\u062d\u064a\u062d\u0629 \u0644\u0647\u0627.\n"
      ]
    },
    {
      "cell_type": "code",
      "execution_count": null,
      "metadata": {
        "collapsed": false
      },
      "outputs": [],
      "source": [
        "# \u0627\u0644\u0645\u0624\u0644\u0641\u0648\u0646: \u0645\u0637\u0648\u0631\u064a \u0633\u0643\u0627\u064a\u0644\u0631\u0646\n# \u0645\u0639\u0631\u0641 \u0627\u0644\u062a\u0631\u062e\u064a\u0635: BSD-3-Clause\n\nimport matplotlib.pyplot as plt\nimport numpy as np\nfrom scipy import stats\n\nfrom sklearn import datasets\nfrom sklearn.metrics import classification_report, confusion_matrix\nfrom sklearn.semi_supervised import LabelSpreading\n\ndigits = datasets.load_digits()\nrng = np.random.RandomState(0)\nindices = np.arange(len(digits.data))\nrng.shuffle(indices)\n\nX = digits.data[indices[:330]]\ny = digits.target[indices[:330]]\nimages = digits.images[indices[:330]]\n\nn_total_samples = len(y)\nn_labeled_points = 40\nmax_iterations = 5\n\nunlabeled_indices = np.arange(n_total_samples)[n_labeled_points:]\nf = plt.figure()\n\nfor i in range(max_iterations):\n    if len(unlabeled_indices) == 0:\n        print(\"No unlabeled items left to label.\")\n        break\n    y_train = np.copy(y)\n    y_train[unlabeled_indices] = -1\n\n    lp_model = LabelSpreading(gamma=0.25, max_iter=20)\n    lp_model.fit(X, y_train)\n\n    predicted_labels = lp_model.transduction_[unlabeled_indices]\n    true_labels = y[unlabeled_indices]\n\n    cm = confusion_matrix(true_labels, predicted_labels, labels=lp_model.classes_)\n\n    print(\"Iteration %i %s\" % (i, 70 * \"_\"))\n    print(\n        \"Label Spreading model: %d labeled & %d unlabeled (%d total)\"\n        % (n_labeled_points, n_total_samples - n_labeled_points, n_total_samples)\n    )\n\n    print(classification_report(true_labels, predicted_labels))\n\n    print(\"Confusion matrix\")\n    print(cm)\n\n    # \u062d\u0633\u0627\u0628 \u0623\u0646\u062a\u0631\u0648\u0628\u064a\u0627 \u0627\u0644\u062a\u0648\u0632\u064a\u0639\u0627\u062a \u0627\u0644\u0645\u0633\u0645\u0627\u0629 \u0627\u0644\u0645\u062a\u0648\u0642\u0639\u0629\n    pred_entropies = stats.distributions.entropy(lp_model.label_distributions_.T)\n\n    # \u0627\u062e\u062a\u064a\u0627\u0631 5 \u0623\u0645\u062b\u0644\u0629 \u0644\u0644\u0623\u0631\u0642\u0627\u0645 \u0627\u0644\u062a\u064a \u064a\u0643\u0648\u0646 \u0627\u0644\u0646\u0645\u0648\u0630\u062c \u0623\u0643\u062b\u0631 \u0639\u062f\u0645 \u062a\u0623\u0643\u062f \u0628\u0634\u0623\u0646\u0647\u0627\n    uncertainty_index = np.argsort(pred_entropies)[::-1]\n    uncertainty_index = uncertainty_index[\n        np.isin(uncertainty_index, unlabeled_indices)\n    ][:5]\n\n    # \u062a\u062a\u0628\u0639 \u0627\u0644\u0645\u0624\u0634\u0631\u0627\u062a \u0627\u0644\u062a\u064a \u0646\u062d\u0635\u0644 \u0639\u0644\u0649 \u0627\u0644\u062a\u0633\u0645\u064a\u0627\u062a \u0644\u0647\u0627\n    delete_indices = np.array([], dtype=int)\n\n    # \u0644\u0644\u0639\u062f\u062f \u0627\u0644\u0623\u0643\u0628\u0631 \u0645\u0646 5 \u062a\u0643\u0631\u0627\u0631\u0627\u062a\u060c \u064a\u062a\u0645 \u062a\u0635\u0648\u0631 \u0627\u0644\u0645\u0643\u0633\u0628 \u0641\u0642\u0637 \u0639\u0644\u0649 \u0623\u0648\u0644 5\n    if i < 5:\n        f.text(\n            0.05,\n            (1 - (i + 1) * 0.183),\n            \"model %d\\n\\nfit with\\n%d labels\" % ((i + 1), i * 5 + 10),\n            size=10,\n        )\n    for index, image_index in enumerate(uncertainty_index):\n        image = images[image_index]\n\n        # \u0644\u0644\u0639\u062f\u062f \u0627\u0644\u0623\u0643\u0628\u0631 \u0645\u0646 5 \u062a\u0643\u0631\u0627\u0631\u0627\u062a\u060c \u064a\u062a\u0645 \u062a\u0635\u0648\u0631 \u0627\u0644\u0645\u0643\u0633\u0628 \u0641\u0642\u0637 \u0639\u0644\u0649 \u0623\u0648\u0644 5\n        if i < 5:\n            sub = f.add_subplot(5, 5, index + 1 + (5 * i))\n            sub.imshow(image, cmap=plt.cm.gray_r, interpolation=\"none\")\n            sub.set_title(\n                \"predict: %i\\ntrue: %i\"\n                % (lp_model.transduction_[image_index], y[image_index]),\n                size=10,\n            )\n            sub.axis(\"off\")\n\n        # \u062a\u0633\u0645\u064a\u0629 5 \u0646\u0642\u0627\u0637\u060c \u0648\u0625\u0632\u0627\u0644\u062a\u0647\u0627 \u0645\u0646 \u0645\u062c\u0645\u0648\u0639\u0629 \u0627\u0644\u0628\u064a\u0627\u0646\u0627\u062a \u0627\u0644\u0645\u0633\u0645\u0627\u0629\n        (delete_index,) = np.where(unlabeled_indices == image_index)\n        delete_indices = np.concatenate((delete_indices, delete_index))\n\n    unlabeled_indices = np.delete(unlabeled_indices, delete_indices)\n    n_labeled_points += len(uncertainty_index)\n\nf.suptitle(\n    (\n        \"Active learning with Label Propagation.\\nRows show 5 most \"\n        \"uncertain labels to learn with the next model.\"\n    ),\n    y=1.15,\n)\nplt.subplots_adjust(left=0.2, bottom=0.03, right=0.9, top=0.9, wspace=0.2, hspace=0.85)\nplt.show()"
      ]
    }
  ],
  "metadata": {
    "kernelspec": {
      "display_name": "Python 3",
      "language": "python",
      "name": "python3"
    },
    "language_info": {
      "codemirror_mode": {
        "name": "ipython",
        "version": 3
      },
      "file_extension": ".py",
      "mimetype": "text/x-python",
      "name": "python",
      "nbconvert_exporter": "python",
      "pygments_lexer": "ipython3",
      "version": "3.10.13"
    }
  },
  "nbformat": 4,
  "nbformat_minor": 0
}