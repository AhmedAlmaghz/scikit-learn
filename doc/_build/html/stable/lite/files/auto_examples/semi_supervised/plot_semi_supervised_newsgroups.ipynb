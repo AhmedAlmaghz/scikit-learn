{
  "cells": [
    {
      "cell_type": "markdown",
      "metadata": {},
      "source": [
        "<div class='alert alert-warning'>\n\n# JupyterLite warning\n\nRunning the scikit-learn examples in JupyterLite is experimental and you may encounter some unexpected behavior.\n\nThe main difference is that imports will take a lot longer than usual, for example the first `import sklearn` can take roughly 10-20s.\n\nIf you notice problems, feel free to open an [issue](https://github.com/scikit-learn/scikit-learn/issues/new/choose) about it.\n</div>"
      ]
    },
    {
      "cell_type": "code",
      "execution_count": null,
      "metadata": {
        "collapsed": false
      },
      "outputs": [],
      "source": [
        "# JupyterLite-specific code\n%pip install pyodide-http\nimport pyodide_http\npyodide_http.patch_all()\nimport matplotlib\nimport pandas"
      ]
    },
    {
      "cell_type": "markdown",
      "metadata": {},
      "source": [
        "\n# \u0627\u0644\u062a\u0635\u0646\u064a\u0641 \u0634\u0628\u0647 \u0627\u0644\u0645\u064f\u0634\u0631\u0641 \u0639\u0644\u0649 \u0645\u062c\u0645\u0648\u0639\u0629 \u0628\u064a\u0627\u0646\u0627\u062a \u0646\u0635\u064a\u0629\n\n\u0641\u064a \u0647\u0630\u0627 \u0627\u0644\u0645\u062b\u0627\u0644\u060c \u064a\u062a\u0645 \u062a\u062f\u0631\u064a\u0628 \u0627\u0644\u0645\u0635\u0646\u0641\u0627\u062a \u0634\u0628\u0647 \u0627\u0644\u0645\u064f\u0634\u0631\u0641\u0629 \u0639\u0644\u0649 \u0645\u062c\u0645\u0648\u0639\u0629 \u0628\u064a\u0627\u0646\u0627\u062a 20 \u0645\u062c\u0645\u0648\u0639\u0629 \u0625\u062e\u0628\u0627\u0631\u064a\u0629\n(\u0648\u0627\u0644\u062a\u064a \u0633\u064a\u062a\u0645 \u062a\u0646\u0632\u064a\u0644\u0647\u0627 \u062a\u0644\u0642\u0627\u0626\u064a\u064b\u0627).\n\n\u064a\u0645\u0643\u0646\u0643 \u0636\u0628\u0637 \u0639\u062f\u062f \u0627\u0644\u0641\u0626\u0627\u062a \u0639\u0646 \u0637\u0631\u064a\u0642 \u0625\u0639\u0637\u0627\u0621 \u0623\u0633\u0645\u0627\u0626\u0647\u0627 \u0625\u0644\u0649 \u0645\u062d\u0645\u0644 \u0645\u062c\u0645\u0648\u0639\u0629 \u0627\u0644\u0628\u064a\u0627\u0646\u0627\u062a\n\u0623\u0648 \u062a\u0639\u064a\u064a\u0646\u0647\u0627 \u0625\u0644\u0649 'None' \u0644\u0644\u062d\u0635\u0648\u0644 \u0639\u0644\u0649 \u062c\u0645\u064a\u0639 \u0627\u0644\u0641\u0626\u0627\u062a \u0627\u0644\u0639\u0634\u0631\u064a\u0646.\n"
      ]
    },
    {
      "cell_type": "code",
      "execution_count": null,
      "metadata": {
        "collapsed": false
      },
      "outputs": [],
      "source": [
        "# \u0627\u0644\u0645\u0624\u0644\u0641\u0648\u0646: \u0645\u0637\u0648\u0631\u064a \u0645\u0643\u062a\u0628\u0629 \u0633\u0627\u064a \u0643\u064a\u062a \u0644\u064a\u0631\u0646\n# \u0645\u0639\u0631\u0641 \u0627\u0644\u062a\u0631\u062e\u064a\u0635: BSD-3-Clause\n\nimport numpy as np\nfrom sklearn.datasets import fetch_20newsgroups\nfrom sklearn.feature_extraction.text import CountVectorizer, TfidfTransformer\nfrom sklearn.linear_model import SGDClassifier\nfrom sklearn.metrics import f1_score\nfrom sklearn.model_selection import train_test_split\nfrom sklearn.pipeline import Pipeline\nfrom sklearn.preprocessing import FunctionTransformer\nfrom sklearn.semi_supervised import LabelSpreading, SelfTrainingClassifier\n\n# \u062a\u062d\u0645\u064a\u0644 \u0645\u062c\u0645\u0648\u0639\u0629 \u0627\u0644\u0628\u064a\u0627\u0646\u0627\u062a \u0627\u0644\u062a\u064a \u062a\u062d\u062a\u0648\u064a \u0639\u0644\u0649 \u0623\u0648\u0644 \u062e\u0645\u0633 \u0641\u0626\u0627\u062a\ndata = fetch_20newsgroups(\n    subset=\"train\",\n    categories=[\n        \"alt.atheism\",\n        \"comp.graphics\",\n        \"comp.os.ms-windows.misc\",\n        \"comp.sys.ibm.pc.hardware\",\n        \"comp.sys.mac.hardware\",\n    ],\n)\nprint(\"%d documents\" % len(data.filenames))\nprint(\"%d categories\" % len(data.target_names))\nprint()\n\n# \u0627\u0644\u0645\u0639\u0627\u0645\u0644\u0627\u062a\nsdg_params = dict(alpha=1e-5, penalty=\"l2\", loss=\"log_loss\")\nvectorizer_params = dict(ngram_range=(1, 2), min_df=5, max_df=0.8)\n\n# \u062e\u0637 \u0623\u0646\u0627\u0628\u064a\u0628 \u0645\u064f\u0634\u0631\u0641\npipeline = Pipeline(\n    [\n        (\"vect\", CountVectorizer(**vectorizer_params)),\n        (\"tfidf\", TfidfTransformer()),\n        (\"clf\", SGDClassifier(**sdg_params)),\n    ]\n)\n# \u062e\u0637 \u0623\u0646\u0627\u0628\u064a\u0628 SelfTraining\nst_pipeline = Pipeline(\n    [\n        (\"vect\", CountVectorizer(**vectorizer_params)),\n        (\"tfidf\", TfidfTransformer()),\n        (\"clf\", SelfTrainingClassifier(SGDClassifier(**sdg_params), verbose=True)),\n    ]\n)\n# \u062e\u0637 \u0623\u0646\u0627\u0628\u064a\u0628 LabelSpreading\nls_pipeline = Pipeline(\n    [\n        (\"vect\", CountVectorizer(**vectorizer_params)),\n        (\"tfidf\", TfidfTransformer()),\n        # LabelSpreading \u0644\u0627 \u064a\u062f\u0639\u0645 \u0627\u0644\u0645\u0635\u0641\u0648\u0641\u0627\u062a \u0627\u0644\u0643\u062b\u064a\u0641\u0629\n        (\"toarray\", FunctionTransformer(lambda x: x.toarray())),\n        (\"clf\", LabelSpreading()),\n    ]\n)\n\n\ndef eval_and_print_metrics(clf, X_train, y_train, X_test, y_test):\n    print(\"Number of training samples:\", len(X_train))\n    print(\"Unlabeled samples in training set:\", sum(1 for x in y_train if x == -1))\n    clf.fit(X_train, y_train)\n    y_pred = clf.predict(X_test)\n    print(\n        \"Micro-averaged F1 score on test set: %0.3f\"\n        % f1_score(y_test, y_pred, average=\"micro\")\n    )\n    print(\"-\" * 10)\n    print()\n\n\nif __name__ == \"__main__\":\n    X, y = data.data, data.target\n    X_train, X_test, y_train, y_test = train_test_split(X, y)\n\n    print(\"Supervised SGDClassifier on 100% of the data:\")\n    eval_and_print_metrics(pipeline, X_train, y_train, X_test, y_test)\n\n    # \u062a\u062d\u062f\u064a\u062f \u0642\u0646\u0627\u0639 20% \u0645\u0646 \u0645\u062c\u0645\u0648\u0639\u0629 \u0627\u0644\u0628\u064a\u0627\u0646\u0627\u062a \u0627\u0644\u062a\u062f\u0631\u064a\u0628\u064a\u0629\n    y_mask = np.random.rand(len(y_train)) < 0.2\n\n    # X_20 \u0648 y_20 \u0647\u064a \u0645\u062c\u0645\u0648\u0639\u0629 \u0641\u0631\u0639\u064a\u0629 \u0645\u0646 \u0645\u062c\u0645\u0648\u0639\u0629 \u0627\u0644\u0628\u064a\u0627\u0646\u0627\u062a \u0627\u0644\u062a\u062f\u0631\u064a\u0628\u064a\u0629 \u0627\u0644\u0645\u062d\u062f\u062f\u0629 \u0628\u0648\u0627\u0633\u0637\u0629 \u0627\u0644\u0642\u0646\u0627\u0639\n    X_20, y_20 = map(\n        list, zip(*((x, y) for x, y, m in zip(X_train, y_train, y_mask) if m))\n    )\n    print(\"Supervised SGDClassifier on 20% of the training data:\")\n    eval_and_print_metrics(pipeline, X_20, y_20, X_test, y_test)\n\n    # \u062a\u0639\u064a\u064a\u0646 \u0627\u0644\u0645\u062c\u0645\u0648\u0639\u0629 \u0627\u0644\u0641\u0631\u0639\u064a\u0629 \u063a\u064a\u0631 \u0627\u0644\u0645\u0642\u0646\u0639\u0629 \u0644\u062a\u0643\u0648\u0646 \u063a\u064a\u0631 \u0645\u0635\u0646\u0641\u0629\n    y_train[~y_mask] = -1\n    print(\"SelfTrainingClassifier on 20% of the training data (rest is unlabeled):\")\n    eval_and_print_metrics(st_pipeline, X_train, y_train, X_test, y_test)\n\n    print(\"LabelSpreading on 20% of the data (rest is unlabeled):\")\n    eval_and_print_metrics(ls_pipeline, X_train, y_train, X_test, y_test)"
      ]
    }
  ],
  "metadata": {
    "kernelspec": {
      "display_name": "Python 3",
      "language": "python",
      "name": "python3"
    },
    "language_info": {
      "codemirror_mode": {
        "name": "ipython",
        "version": 3
      },
      "file_extension": ".py",
      "mimetype": "text/x-python",
      "name": "python",
      "nbconvert_exporter": "python",
      "pygments_lexer": "ipython3",
      "version": "3.10.13"
    }
  },
  "nbformat": 4,
  "nbformat_minor": 0
}