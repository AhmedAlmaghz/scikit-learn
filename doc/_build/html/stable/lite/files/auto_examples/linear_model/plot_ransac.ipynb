{
  "cells": [
    {
      "cell_type": "markdown",
      "metadata": {},
      "source": [
        "<div class='alert alert-warning'>\n\n# JupyterLite warning\n\nRunning the scikit-learn examples in JupyterLite is experimental and you may encounter some unexpected behavior.\n\nThe main difference is that imports will take a lot longer than usual, for example the first `import sklearn` can take roughly 10-20s.\n\nIf you notice problems, feel free to open an [issue](https://github.com/scikit-learn/scikit-learn/issues/new/choose) about it.\n</div>"
      ]
    },
    {
      "cell_type": "code",
      "execution_count": null,
      "metadata": {
        "collapsed": false
      },
      "outputs": [],
      "source": [
        "# JupyterLite-specific code\nimport matplotlib\nimport pandas"
      ]
    },
    {
      "cell_type": "markdown",
      "metadata": {},
      "source": [
        "\n# \u062a\u0642\u062f\u064a\u0631 \u0627\u0644\u0646\u0645\u0648\u0630\u062c \u0627\u0644\u062e\u0637\u064a \u0627\u0644\u0642\u0648\u064a \u0628\u0627\u0633\u062a\u062e\u062f\u0627\u0645 RANSAC\n\n\u0641\u064a \u0647\u0630\u0627 \u0627\u0644\u0645\u062b\u0627\u0644\u060c \u0646\u0631\u0649 \u0643\u064a\u0641\u064a\u0629 \u0645\u0644\u0627\u0621\u0645\u0629 \u0646\u0645\u0648\u0630\u062c \u062e\u0637\u064a \u0628\u0634\u0643\u0644 \u0642\u0648\u064a \u0644\u0628\u064a\u0627\u0646\u0627\u062a \u0645\u0639\u064a\u0628\u0629 \u0628\u0627\u0633\u062a\u062e\u062f\u0627\u0645\n\u062e\u0648\u0627\u0631\u0632\u0645\u064a\u0629 `RANSAC <ransac_regression>`.\n\n\u0627\u0644\u0645\u064f\u0631\u064e\u062c\u0650\u0651\u0639 \u0627\u0644\u062e\u0637\u064a \u0627\u0644\u0639\u0627\u062f\u064a \u062d\u0633\u0627\u0633 \u0644\u0644\u0642\u064a\u0645 \u0627\u0644\u0634\u0627\u0630\u0629\u060c \u0648\u064a\u0645\u0643\u0646 \u0644\u0644\u062e\u0637 \u0627\u0644\u0645\u0646\u0627\u0633\u0628 \u0623\u0646\n\u064a\u062a\u062d\u064a\u0632 \u0628\u0633\u0647\u0648\u0644\u0629 \u0628\u0639\u064a\u062f\u064b\u0627 \u0639\u0646 \u0627\u0644\u0639\u0644\u0627\u0642\u0629 \u0627\u0644\u0623\u0633\u0627\u0633\u064a\u0629 \u0627\u0644\u062d\u0642\u064a\u0642\u064a\u0629 \u0644\u0644\u0628\u064a\u0627\u0646\u0627\u062a.\n\n\u064a\u0642\u0648\u0645 \u0645\u064f\u0631\u064e\u062c\u0650\u0651\u0639 RANSAC \u062a\u0644\u0642\u0627\u0626\u064a\u064b\u0627 \u0628\u062a\u0642\u0633\u064a\u0645 \u0627\u0644\u0628\u064a\u0627\u0646\u0627\u062a \u0625\u0644\u0649 \u0642\u064a\u0645 \u062f\u0627\u062e\u0644\u064a\u0629 \u0648\u062e\u0627\u0631\u062c\u064a\u0629\u060c\n\u0648\u064a\u062a\u0645 \u062a\u062d\u062f\u064a\u062f \u0627\u0644\u062e\u0637 \u0627\u0644\u0645\u0646\u0627\u0633\u0628 \u0641\u0642\u0637 \u0645\u0646 \u062e\u0644\u0627\u0644 \u0627\u0644\u0642\u064a\u0645 \u0627\u0644\u062f\u0627\u062e\u0644\u064a\u0629 \u0627\u0644\u0645\u062d\u062f\u062f\u0629.\n"
      ]
    },
    {
      "cell_type": "code",
      "execution_count": null,
      "metadata": {
        "collapsed": false
      },
      "outputs": [],
      "source": [
        "# \u0627\u0644\u0645\u0624\u0644\u0641\u0648\u0646: \u0645\u0637\u0648\u0631\u064a scikit-learn\n# \u0645\u0639\u0631\u0641 \u0627\u0644\u062a\u0631\u062e\u064a\u0635: BSD-3-Clause\n\nimport numpy as np\nfrom matplotlib import pyplot as plt\n\nfrom sklearn import datasets, linear_model\n\nn_samples = 1000\nn_outliers = 50\n\n\nX, y, coef = datasets.make_regression(\n    n_samples=n_samples,\n    n_features=1,\n    n_informative=1,\n    noise=10,\n    coef=True,\n    random_state=0,\n)\n\n# \u0625\u0636\u0627\u0641\u0629 \u0628\u064a\u0627\u0646\u0627\u062a \u0634\u0627\u0630\u0629\nnp.random.seed(0)\nX[:n_outliers] = 3 + 0.5 * np.random.normal(size=(n_outliers, 1))\ny[:n_outliers] = -3 + 10 * np.random.normal(size=n_outliers)\n\n# \u0645\u0644\u0627\u0621\u0645\u0629 \u0627\u0644\u062e\u0637 \u0628\u0627\u0633\u062a\u062e\u062f\u0627\u0645 \u062c\u0645\u064a\u0639 \u0627\u0644\u0628\u064a\u0627\u0646\u0627\u062a\nlr = linear_model.LinearRegression()\nlr.fit(X, y)\n\n# \u0645\u0644\u0627\u0621\u0645\u0629 \u0627\u0644\u0646\u0645\u0648\u0630\u062c \u0627\u0644\u062e\u0637\u064a \u0628\u0634\u0643\u0644 \u0642\u0648\u064a \u0628\u0627\u0633\u062a\u062e\u062f\u0627\u0645 \u062e\u0648\u0627\u0631\u0632\u0645\u064a\u0629 RANSAC\nransac = linear_model.RANSACRegressor()\nransac.fit(X, y)\ninlier_mask = ransac.inlier_mask_\noutlier_mask = np.logical_not(inlier_mask)\n\n# \u062a\u0648\u0642\u0639 \u0628\u064a\u0627\u0646\u0627\u062a \u0627\u0644\u0646\u0645\u0627\u0630\u062c \u0627\u0644\u0645\u0642\u062f\u0631\u0629\nline_X = np.arange(X.min(), X.max())[:, np.newaxis]\nline_y = lr.predict(line_X)\nline_y_ransac = ransac.predict(line_X)\n\n# \u0645\u0642\u0627\u0631\u0646\u0629 \u0627\u0644\u0645\u0639\u0627\u0645\u0644\u0627\u062a \u0627\u0644\u0645\u0642\u062f\u0631\u0629\nprint(\"\u0627\u0644\u0645\u0639\u0627\u0645\u0644\u0627\u062a \u0627\u0644\u0645\u0642\u062f\u0631\u0629 (\u0627\u0644\u062d\u0642\u064a\u0642\u064a\u0629\u060c \u0627\u0644\u0627\u0646\u062d\u062f\u0627\u0631 \u0627\u0644\u062e\u0637\u064a\u060c RANSAC):\")\nprint(coef, lr.coef_, ransac.estimator_.coef_)\n\nlw = 2\nplt.scatter(\n    X[inlier_mask], y[inlier_mask], color=\"yellowgreen\", marker=\".\", label=\"Inliers\"\n)\nplt.scatter(\n    X[outlier_mask], y[outlier_mask], color=\"gold\", marker=\".\", label=\"Outliers\"\n)\nplt.plot(line_X, line_y, color=\"navy\", linewidth=lw, label=\"Linear regressor\")\nplt.plot(\n    line_X,\n    line_y_ransac,\n    color=\"cornflowerblue\",\n    linewidth=lw,\n    label=\"RANSAC regressor\",\n)\nplt.legend(loc=\"lower right\")\nplt.xlabel(\"Input\")\nplt.ylabel(\"Response\")\nplt.show()"
      ]
    }
  ],
  "metadata": {
    "kernelspec": {
      "display_name": "Python 3",
      "language": "python",
      "name": "python3"
    },
    "language_info": {
      "codemirror_mode": {
        "name": "ipython",
        "version": 3
      },
      "file_extension": ".py",
      "mimetype": "text/x-python",
      "name": "python",
      "nbconvert_exporter": "python",
      "pygments_lexer": "ipython3",
      "version": "3.10.13"
    }
  },
  "nbformat": 4,
  "nbformat_minor": 0
}