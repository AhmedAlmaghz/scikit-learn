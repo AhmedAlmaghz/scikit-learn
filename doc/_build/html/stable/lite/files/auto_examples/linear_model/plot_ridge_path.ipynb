{
  "cells": [
    {
      "cell_type": "markdown",
      "metadata": {},
      "source": [
        "<div class='alert alert-warning'>\n\n# JupyterLite warning\n\nRunning the scikit-learn examples in JupyterLite is experimental and you may encounter some unexpected behavior.\n\nThe main difference is that imports will take a lot longer than usual, for example the first `import sklearn` can take roughly 10-20s.\n\nIf you notice problems, feel free to open an [issue](https://github.com/scikit-learn/scikit-learn/issues/new/choose) about it.\n</div>"
      ]
    },
    {
      "cell_type": "code",
      "execution_count": null,
      "metadata": {
        "collapsed": false
      },
      "outputs": [],
      "source": [
        "# JupyterLite-specific code\nimport matplotlib\nimport pandas"
      ]
    },
    {
      "cell_type": "markdown",
      "metadata": {},
      "source": [
        "\n# \u0631\u0633\u0645 \u0645\u0639\u0627\u0645\u0644\u0627\u062a Ridge \u0643\u062f\u0627\u0644\u0629 \u0644\u0644\u062a\u0646\u0638\u064a\u0645\n\n\u064a\u0638\u0647\u0631 \u0647\u0630\u0627 \u0627\u0644\u0645\u062b\u0627\u0644 \u062a\u0623\u062b\u064a\u0631 \u0627\u0644\u062a\u0644\u0627\u0632\u0645 \u0641\u064a \u0645\u0639\u0627\u0645\u0644\u0627\u062a \u0623\u062f\u0627\u0629 \u0627\u0644\u062a\u0642\u062f\u064a\u0631.\n\n.. currentmodule:: sklearn.linear_model\n\n:class:`Ridge` \u0627\u0644\u0627\u0646\u062d\u062f\u0627\u0631 \u0647\u0648 \u0623\u062f\u0627\u0629 \u0627\u0644\u062a\u0642\u062f\u064a\u0631 \u0627\u0644\u0645\u0633\u062a\u062e\u062f\u0645\u0629 \u0641\u064a \u0647\u0630\u0627 \u0627\u0644\u0645\u062b\u0627\u0644.\n\u064a\u0645\u062b\u0644 \u0643\u0644 \u0644\u0648\u0646 \u0645\u064a\u0632\u0629 \u0645\u062e\u062a\u0644\u0641\u0629 \u0641\u064a\n\u0645\u062a\u062c\u0647 \u0627\u0644\u0645\u0639\u0627\u0645\u0644\u0627\u062a\u060c \u0648\u064a\u062a\u0645 \u0639\u0631\u0636\u0647 \u0643\u062f\u0627\u0644\u0629 \u0644\n\u0645\u0639\u0627\u0645\u0644 \u0627\u0644\u062a\u0646\u0638\u064a\u0645.\n\n\u064a\u0648\u0636\u062d \u0647\u0630\u0627 \u0627\u0644\u0645\u062b\u0627\u0644 \u0623\u064a\u0636\u064b\u0627 \u0641\u0627\u0626\u062f\u0629 \u062a\u0637\u0628\u064a\u0642 \u0627\u0644\u0627\u0646\u062d\u062f\u0627\u0631 Ridge\n\u0639\u0644\u0649 \u0627\u0644\u0645\u0635\u0641\u0648\u0641\u0627\u062a \u0630\u0627\u062a \u0627\u0644\u0634\u0631\u0637 \u0627\u0644\u0633\u064a\u0626 \u0644\u0644\u063a\u0627\u064a\u0629. \u0628\u0627\u0644\u0646\u0633\u0628\u0629 \u0644\u0647\u0630\u0647 \u0627\u0644\u0645\u0635\u0641\u0648\u0641\u0627\u062a\u060c \u064a\u0645\u0643\u0646 \u0623\u0646 \u064a\u0633\u0628\u0628 \u0627\u0644\u062a\u063a\u064a\u064a\u0631 \u0627\u0644\u0637\u0641\u064a\u0641 \u0641\u064a \u0627\u0644\u0645\u062a\u063a\u064a\u0631 \u0627\u0644\u0645\u0633\u062a\u0647\u062f\u0641 \u062a\u0628\u0627\u064a\u0646\u0627\u062a \u0643\u0628\u064a\u0631\u0629 \u0641\u064a\n\u0627\u0644\u0623\u0648\u0632\u0627\u0646 \u0627\u0644\u0645\u062d\u0633\u0648\u0628\u0629. \u0641\u064a \u0645\u062b\u0644 \u0647\u0630\u0647 \u0627\u0644\u062d\u0627\u0644\u0627\u062a\u060c \u0645\u0646 \u0627\u0644\u0645\u0641\u064a\u062f \u062a\u0639\u064a\u064a\u0646 \u0628\u0639\u0636\n\u0627\u0644\u062a\u0646\u0638\u064a\u0645 (alpha) \u0644\u0644\u062d\u062f \u0645\u0646 \u0647\u0630\u0627 \u0627\u0644\u062a\u0628\u0627\u064a\u0646 (\u0627\u0644\u0636\u0648\u0636\u0627\u0621).\n\n\u0639\u0646\u062f\u0645\u0627 \u064a\u0643\u0648\u0646 alpha \u0643\u0628\u064a\u0631\u064b\u0627 \u062c\u062f\u064b\u0627\u060c \u062a\u0647\u064a\u0645\u0646 \u062a\u0623\u062b\u064a\u0631\u0627\u062a \u0627\u0644\u062a\u0646\u0638\u064a\u0645 \u0639\u0644\u0649\n\u062f\u0627\u0644\u0629 \u0627\u0644\u062e\u0633\u0627\u0631\u0629 \u0627\u0644\u062a\u0631\u0628\u064a\u0639\u064a\u0629 \u0648\u062a\u0645\u064a\u0644 \u0627\u0644\u0645\u0639\u0627\u0645\u0644\u0627\u062a \u0625\u0644\u0649 \u0627\u0644\u0635\u0641\u0631.\n\u0641\u064a \u0646\u0647\u0627\u064a\u0629 \u0627\u0644\u0645\u0633\u0627\u0631\u060c \u0639\u0646\u062f\u0645\u0627 \u064a\u0642\u062a\u0631\u0628 alpha \u0645\u0646 \u0627\u0644\u0635\u0641\u0631\n\u0648\u062a\u0645\u064a\u0644 \u0627\u0644\u062d\u0644\u0648\u0644 \u0646\u062d\u0648 \u0627\u0644\u0645\u0631\u0628\u0639\u0627\u062a \u0627\u0644\u0639\u0627\u062f\u064a\u0629 \u0627\u0644\u0623\u0642\u0644\u060c \u062a\u0638\u0647\u0631 \u0627\u0644\u0645\u0639\u0627\u0645\u0644\u0627\u062a\n\u062a\u0630\u0628\u0630\u0628\u0627\u062a \u0643\u0628\u064a\u0631\u0629. \u0641\u064a \u0627\u0644\u0645\u0645\u0627\u0631\u0633\u0629 \u0627\u0644\u0639\u0645\u0644\u064a\u0629\u060c \u0645\u0646 \u0627\u0644\u0636\u0631\u0648\u0631\u064a \u0636\u0628\u0637 alpha\n\u0628\u0637\u0631\u064a\u0642\u0629 \u062a\u062d\u0627\u0641\u0638 \u0639\u0644\u0649 \u0627\u0644\u062a\u0648\u0627\u0632\u0646 \u0628\u064a\u0646 \u0627\u0644\u0627\u062b\u0646\u064a\u0646.\n"
      ]
    },
    {
      "cell_type": "code",
      "execution_count": null,
      "metadata": {
        "collapsed": false
      },
      "outputs": [],
      "source": [
        "# \u0627\u0644\u0645\u0624\u0644\u0641\u0648\u0646: \u0645\u0637\u0648\u0631\u064a scikit-learn\n# \u0645\u0639\u0631\u0641 SPDX-License: BSD-3-Clause\n\nimport matplotlib.pyplot as plt\nimport numpy as np\n\nfrom sklearn import linear_model\n\n# X \u0647\u064a \u0645\u0635\u0641\u0648\u0641\u0629 \u0647\u064a\u0644\u0628\u0631\u062a 10x10\nX = 1.0 / (np.arange(1, 11) + np.arange(0, 10)[:, np.newaxis])\ny = np.ones(10)"
      ]
    },
    {
      "cell_type": "markdown",
      "metadata": {},
      "source": [
        "## \u062d\u0633\u0627\u0628 \u0627\u0644\u0645\u0633\u0627\u0631\u0627\u062a\n\n"
      ]
    },
    {
      "cell_type": "code",
      "execution_count": null,
      "metadata": {
        "collapsed": false
      },
      "outputs": [],
      "source": [
        "n_alphas = 200\nalphas = np.logspace(-10, -2, n_alphas)\n\ncoefs = []\nfor a in alphas:\n    ridge = linear_model.Ridge(alpha=a, fit_intercept=False)\n    ridge.fit(X, y)\n    coefs.append(ridge.coef_)"
      ]
    },
    {
      "cell_type": "markdown",
      "metadata": {},
      "source": [
        "## \u0639\u0631\u0636 \u0627\u0644\u0646\u062a\u0627\u0626\u062c\n\n"
      ]
    },
    {
      "cell_type": "code",
      "execution_count": null,
      "metadata": {
        "collapsed": false
      },
      "outputs": [],
      "source": [
        "ax = plt.gca()\n\nax.plot(alphas, coefs)\nax.set_xscale(\"log\")\nax.set_xlim(ax.get_xlim()[::-1])  # \u0639\u0643\u0633 \u0627\u0644\u0645\u062d\u0648\u0631\nplt.xlabel(\"alpha\")\nplt.ylabel(\"weights\")\nplt.title(\"Ridge coefficients as a function of the regularization\")\nplt.axis(\"tight\")\nplt.show()"
      ]
    }
  ],
  "metadata": {
    "kernelspec": {
      "display_name": "Python 3",
      "language": "python",
      "name": "python3"
    },
    "language_info": {
      "codemirror_mode": {
        "name": "ipython",
        "version": 3
      },
      "file_extension": ".py",
      "mimetype": "text/x-python",
      "name": "python",
      "nbconvert_exporter": "python",
      "pygments_lexer": "ipython3",
      "version": "3.10.13"
    }
  },
  "nbformat": 4,
  "nbformat_minor": 0
}