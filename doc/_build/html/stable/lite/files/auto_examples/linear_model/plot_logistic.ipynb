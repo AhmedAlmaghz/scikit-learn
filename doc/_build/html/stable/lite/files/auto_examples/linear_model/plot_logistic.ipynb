{
  "cells": [
    {
      "cell_type": "markdown",
      "metadata": {},
      "source": [
        "<div class='alert alert-warning'>\n\n# JupyterLite warning\n\nRunning the scikit-learn examples in JupyterLite is experimental and you may encounter some unexpected behavior.\n\nThe main difference is that imports will take a lot longer than usual, for example the first `import sklearn` can take roughly 10-20s.\n\nIf you notice problems, feel free to open an [issue](https://github.com/scikit-learn/scikit-learn/issues/new/choose) about it.\n</div>"
      ]
    },
    {
      "cell_type": "code",
      "execution_count": null,
      "metadata": {
        "collapsed": false
      },
      "outputs": [],
      "source": [
        "# JupyterLite-specific code\nimport matplotlib\nimport pandas"
      ]
    },
    {
      "cell_type": "markdown",
      "metadata": {},
      "source": [
        "\n# \u0627\u0644\u062f\u0627\u0644\u0629 \u0627\u0644\u0644\u0648\u063a\u0633\u062a\u064a\u0629\n\n\u064a\u0648\u0636\u062d \u0627\u0644\u0631\u0633\u0645 \u0627\u0644\u0628\u064a\u0627\u0646\u064a \u0643\u064a\u0641 \u0623\u0646 \u0627\u0644\u0627\u0646\u062d\u062f\u0627\u0631 \u0627\u0644\u0644\u0648\u062c\u0633\u062a\u064a\u060c \u0641\u064a \u0645\u062c\u0645\u0648\u0639\u0629 \u0627\u0644\u0628\u064a\u0627\u0646\u0627\u062a \u0627\u0644\u0627\u0635\u0637\u0646\u0627\u0639\u064a\u0629 \u0647\u0630\u0647\u060c \u0633\u064a\u0635\u0646\u0641 \u0627\u0644\u0642\u064a\u0645 \u0625\u0645\u0627 0 \u0623\u0648 1\u060c\n\u0623\u064a \u0627\u0644\u0641\u0626\u0629 \u0627\u0644\u0623\u0648\u0644\u0649 \u0623\u0648 \u0627\u0644\u062b\u0627\u0646\u064a\u0629\u060c \u0628\u0627\u0633\u062a\u062e\u062f\u0627\u0645 \u0627\u0644\u0645\u0646\u062d\u0646\u0649 \u0627\u0644\u0644\u0648\u063a\u0633\u062a\u064a.\n"
      ]
    },
    {
      "cell_type": "code",
      "execution_count": null,
      "metadata": {
        "collapsed": false
      },
      "outputs": [],
      "source": [
        "# \u0627\u0644\u0645\u0624\u0644\u0641\u0648\u0646: \u0645\u0637\u0648\u0631\u064a \u0633\u0643\u0627\u064a\u0644\u0631\u0646\n# \u0645\u0639\u0631\u0641 \u0627\u0644\u062a\u0631\u062e\u064a\u0635: BSD-3-Clause\n\nimport matplotlib.pyplot as plt\nimport numpy as np\nfrom scipy.special import expit\n\nfrom sklearn.linear_model import LinearRegression, LogisticRegression\n\n# \u062a\u0648\u0644\u064a\u062f \u0645\u062c\u0645\u0648\u0639\u0629 \u0628\u064a\u0627\u0646\u0627\u062a \u062a\u062c\u0631\u064a\u0628\u064a\u0629\u060c \u0647\u064a \u0639\u0628\u0627\u0631\u0629 \u0639\u0646 \u062e\u0637 \u0645\u0633\u062a\u0642\u064a\u0645 \u0645\u0639 \u0628\u0639\u0636 \u0627\u0644\u0636\u0648\u0636\u0627\u0621 \u0627\u0644\u063a\u0627\u0648\u0633\u064a\u0629:\nxmin, xmax = -5, 5\nn_samples = 100\nnp.random.seed(0)\nX = np.random.normal(size=n_samples)\ny = (X > 0).astype(float)\nX[X > 0] *= 4\nX += 0.3 * np.random.normal(size=n_samples)\n\nX = X[:, np.newaxis]\n\n# \u062a\u062f\u0631\u064a\u0628 \u0627\u0644\u0645\u0635\u0646\u0641\nclf = LogisticRegression(C=1e5)\nclf.fit(X, y)\n\n# \u0631\u0633\u0645 \u0627\u0644\u0646\u062a\u064a\u062c\u0629\nplt.figure(1, figsize=(4, 3))\nplt.clf()\nplt.scatter(X.ravel(), y, label=\"example data\", color=\"black\", zorder=20)\nX_test = np.linspace(-5, 10, 300)\n\nloss = expit(X_test * clf.coef_ + clf.intercept_).ravel()\nplt.plot(X_test, loss, label=\"Logistic Regression Model\", color=\"red\", linewidth=3)\n\nols = LinearRegression()\nols.fit(X, y)\nplt.plot(\n    X_test,\n    ols.coef_ * X_test + ols.intercept_,\n    label=\"Linear Regression Model\",\n    linewidth=1,\n)\nplt.axhline(0.5, color=\".5\")\n\nplt.ylabel(\"y\")\nplt.xlabel(\"X\")\nplt.xticks(range(-5, 10))\nplt.yticks([0, 0.5, 1])\nplt.ylim(-0.25, 1.25)\nplt.xlim(-4, 10)\nplt.legend(\n    loc=\"lower right\",\n    fontsize=\"small\",\n)\nplt.tight_layout()\nplt.show()"
      ]
    }
  ],
  "metadata": {
    "kernelspec": {
      "display_name": "Python 3",
      "language": "python",
      "name": "python3"
    },
    "language_info": {
      "codemirror_mode": {
        "name": "ipython",
        "version": 3
      },
      "file_extension": ".py",
      "mimetype": "text/x-python",
      "name": "python",
      "nbconvert_exporter": "python",
      "pygments_lexer": "ipython3",
      "version": "3.10.13"
    }
  },
  "nbformat": 4,
  "nbformat_minor": 0
}