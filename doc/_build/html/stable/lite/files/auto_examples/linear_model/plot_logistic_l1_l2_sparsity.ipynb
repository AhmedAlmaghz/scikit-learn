{
  "cells": [
    {
      "cell_type": "markdown",
      "metadata": {},
      "source": [
        "<div class='alert alert-warning'>\n\n# JupyterLite warning\n\nRunning the scikit-learn examples in JupyterLite is experimental and you may encounter some unexpected behavior.\n\nThe main difference is that imports will take a lot longer than usual, for example the first `import sklearn` can take roughly 10-20s.\n\nIf you notice problems, feel free to open an [issue](https://github.com/scikit-learn/scikit-learn/issues/new/choose) about it.\n</div>"
      ]
    },
    {
      "cell_type": "code",
      "execution_count": null,
      "metadata": {
        "collapsed": false
      },
      "outputs": [],
      "source": [
        "# JupyterLite-specific code\nimport matplotlib\nimport pandas"
      ]
    },
    {
      "cell_type": "markdown",
      "metadata": {},
      "source": [
        "\n# \u0639\u0642\u0648\u0628\u0629 L1 \u0648\u0627\u0644\u0646\u062f\u0631\u0629 \u0641\u064a \u0627\u0644\u0627\u0646\u062d\u062f\u0627\u0631 \u0627\u0644\u0644\u0648\u062c\u0633\u062a\u064a\n\n\u0645\u0642\u0627\u0631\u0646\u0629 \u0627\u0644\u0646\u062f\u0631\u0629 (\u0646\u0633\u0628\u0629 \u0627\u0644\u0645\u0639\u0627\u0645\u0644\u0627\u062a \u0627\u0644\u0635\u0641\u0631\u064a\u0629) \u0644\u0644\u062d\u0644\u0648\u0644 \u0639\u0646\u062f\n\u0627\u0633\u062a\u062e\u062f\u0627\u0645 \u0639\u0642\u0648\u0628\u0629 L1 \u0648 L2 \u0648 Elastic-Net \u0644\u0642\u064a\u0645 \u0645\u062e\u062a\u0644\u0641\u0629 \u0645\u0646 C. \u064a\u0645\u0643\u0646\u0646\u0627 \u0623\u0646 \u0646\u0631\u0649\n\u0623\u0646 \u0627\u0644\u0642\u064a\u0645 \u0627\u0644\u0643\u0628\u064a\u0631\u0629 \u0645\u0646 C \u062a\u0639\u0637\u064a \u0627\u0644\u0645\u0632\u064a\u062f \u0645\u0646 \u0627\u0644\u062d\u0631\u064a\u0629 \u0644\u0644\u0646\u0645\u0648\u0630\u062c. \u0639\u0644\u0649 \u0627\u0644\u0639\u0643\u0633 \u0645\u0646 \u0630\u0644\u0643\u060c \u0627\u0644\u0642\u064a\u0645 \u0627\u0644\u0623\u0635\u063a\u0631\n\u0645\u0646 C \u062a\u0642\u064a\u062f \u0627\u0644\u0646\u0645\u0648\u0630\u062c \u0623\u0643\u062b\u0631. \u0641\u064a \u062d\u0627\u0644\u0629 \u0639\u0642\u0648\u0628\u0629 L1\u060c \u064a\u0624\u062f\u064a \u0630\u0644\u0643 \u0625\u0644\u0649\n\u062d\u0644\u0648\u0644 \u0623\u0643\u062b\u0631 \u0646\u062f\u0631\u0629. \u0643\u0645\u0627 \u0647\u0648 \u0645\u062a\u0648\u0642\u0639\u060c \u0646\u062f\u0631\u0629 \u0639\u0642\u0648\u0628\u0629 Elastic-Net \u062a\u0642\u0639 \u0628\u064a\u0646\n\u0639\u0642\u0648\u0628\u0629 L1 \u0648 L2.\n\n\u0646\u0635\u0646\u0641 \u0627\u0644\u0635\u0648\u0631 8x8 \u0645\u0646 \u0627\u0644\u0623\u0631\u0642\u0627\u0645 \u0625\u0644\u0649 \u0641\u0626\u062a\u064a\u0646: 0-4 \u0645\u0642\u0627\u0628\u0644 5-9.\n\u064a\u0648\u0636\u062d \u0627\u0644\u062a\u0635\u0648\u0631 \u0645\u0639\u0627\u0645\u0644\u0627\u062a \u0627\u0644\u0646\u0645\u0627\u0630\u062c \u0644\u0642\u064a\u0645 C \u0627\u0644\u0645\u062e\u062a\u0644\u0641\u0629.\n"
      ]
    },
    {
      "cell_type": "code",
      "execution_count": null,
      "metadata": {
        "collapsed": false
      },
      "outputs": [],
      "source": [
        "# \u0627\u0644\u0645\u0624\u0644\u0641\u0648\u0646: \u0645\u0637\u0648\u0631\u064a \u0633\u0643\u0627\u064a\u0644\u0631\u0646\n# \u0645\u0639\u0631\u0641 \u0627\u0644\u062a\u0631\u062e\u064a\u0635: BSD-3-Clause\n\nimport matplotlib.pyplot as plt\nimport numpy as np\n\nfrom sklearn import datasets\nfrom sklearn.linear_model import LogisticRegression\nfrom sklearn.preprocessing import StandardScaler\n\nX, y = datasets.load_digits(return_X_y=True)\n\nX = StandardScaler().fit_transform(X)\n\n# \u062a\u0635\u0646\u064a\u0641 \u0627\u0644\u0623\u0631\u0642\u0627\u0645 \u0627\u0644\u0635\u063a\u064a\u0631\u0629 \u0645\u0642\u0627\u0628\u0644 \u0627\u0644\u0643\u0628\u064a\u0631\u0629\ny = (y > 4).astype(int)\n\nl1_ratio = 0.5  # \u0648\u0632\u0646 L1 \u0641\u064a \u0627\u0644\u0627\u0646\u062a\u0638\u0627\u0645 Elastic-Net\n\nfig, axes = plt.subplots(3, 3)\n\n# \u062a\u0639\u064a\u064a\u0646 \u0645\u0639\u0644\u0645\u0629 \u0627\u0644\u0627\u0646\u062a\u0638\u0627\u0645\nfor i, (C, axes_row) in enumerate(zip((1, 0.1, 0.01), axes)):\n    # \u0632\u064a\u0627\u062f\u0629 \u0627\u0644\u062a\u062d\u0645\u0644 \u0644\u0648\u0642\u062a \u062a\u062f\u0631\u064a\u0628 \u0642\u0635\u064a\u0631\n    clf_l1_LR = LogisticRegression(C=C, penalty=\"l1\", tol=0.01, solver=\"saga\")\n    clf_l2_LR = LogisticRegression(C=C, penalty=\"l2\", tol=0.01, solver=\"saga\")\n    clf_en_LR = LogisticRegression(\n        C=C, penalty=\"elasticnet\", solver=\"saga\", l1_ratio=l1_ratio, tol=0.01\n    )\n    clf_l1_LR.fit(X, y)\n    clf_l2_LR.fit(X, y)\n    clf_en_LR.fit(X, y)\n\n    coef_l1_LR = clf_l1_LR.coef_.ravel()\n    coef_l2_LR = clf_l2_LR.coef_.ravel()\n    coef_en_LR = clf_en_LR.coef_.ravel()\n\n    # coef_l1_LR \u064a\u062d\u062a\u0648\u064a \u0639\u0644\u0649 \u0623\u0635\u0641\u0627\u0631 \u0628\u0633\u0628\u0628\n    # \u0645\u0639\u064a\u0627\u0631 \u0627\u0644\u0646\u062f\u0631\u0629 L1\n\n    sparsity_l1_LR = np.mean(coef_l1_LR == 0) * 100\n    sparsity_l2_LR = np.mean(coef_l2_LR == 0) * 100\n    sparsity_en_LR = np.mean(coef_en_LR == 0) * 100\n\n    print(f\"C={C:.2f}\")\n    print(f\"{'Sparsity with L1 penalty:':<40} {sparsity_l1_LR:.2f}%\")\n    print(f\"{'Sparsity with Elastic-Net penalty:':<40} {sparsity_en_LR:.2f}%\")\n    print(f\"{'Sparsity with L2 penalty:':<40} {sparsity_l2_LR:.2f}%\")\n    print(f\"{'Score with L1 penalty:':<40} {clf_l1_LR.score(X, y):.2f}\")\n    print(f\"{'Score with Elastic-Net penalty:':<40} {clf_en_LR.score(X, y):.2f}\")\n    print(f\"{'Score with L2 penalty:':<40} {clf_l2_LR.score(X, y):.2f}\")\n\n    if i == 0:\n        axes_row[0].set_title(\"L1 penalty\")\n        axes_row[1].set_title(\"Elastic-Net\\nl1_ratio = %s\" % l1_ratio)\n        axes_row[2].set_title(\"L2 penalty\")\n\n    for ax, coefs in zip(axes_row, [coef_l1_LR, coef_en_LR, coef_l2_LR]):\n        ax.imshow(\n            np.abs(coefs.reshape(8, 8)),\n            interpolation=\"nearest\",\n            cmap=\"binary\",\n            vmax=1,\n            vmin=0,\n        )\n        ax.set_xticks(())\n        ax.set_yticks(())\n\n    axes_row[0].set_ylabel(f\"C = {C}\")\n\nplt.show()"
      ]
    }
  ],
  "metadata": {
    "kernelspec": {
      "display_name": "Python 3",
      "language": "python",
      "name": "python3"
    },
    "language_info": {
      "codemirror_mode": {
        "name": "ipython",
        "version": 3
      },
      "file_extension": ".py",
      "mimetype": "text/x-python",
      "name": "python",
      "nbconvert_exporter": "python",
      "pygments_lexer": "ipython3",
      "version": "3.10.13"
    }
  },
  "nbformat": 4,
  "nbformat_minor": 0
}