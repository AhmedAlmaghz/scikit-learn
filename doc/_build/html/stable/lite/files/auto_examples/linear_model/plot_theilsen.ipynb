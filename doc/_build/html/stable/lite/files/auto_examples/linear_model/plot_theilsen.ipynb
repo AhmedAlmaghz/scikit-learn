{
  "cells": [
    {
      "cell_type": "markdown",
      "metadata": {},
      "source": [
        "<div class='alert alert-warning'>\n\n# JupyterLite warning\n\nRunning the scikit-learn examples in JupyterLite is experimental and you may encounter some unexpected behavior.\n\nThe main difference is that imports will take a lot longer than usual, for example the first `import sklearn` can take roughly 10-20s.\n\nIf you notice problems, feel free to open an [issue](https://github.com/scikit-learn/scikit-learn/issues/new/choose) about it.\n</div>"
      ]
    },
    {
      "cell_type": "code",
      "execution_count": null,
      "metadata": {
        "collapsed": false
      },
      "outputs": [],
      "source": [
        "# JupyterLite-specific code\nimport matplotlib\nimport pandas"
      ]
    },
    {
      "cell_type": "markdown",
      "metadata": {},
      "source": [
        "\n# \u0627\u0646\u062d\u062f\u0627\u0631 \u062b\u064a\u0644-\u0633\u064a\u0646\n\n\u064a\u062d\u0633\u0628 \u0627\u0646\u062d\u062f\u0627\u0631 \u062b\u064a\u0644-\u0633\u064a\u0646 \u0639\u0644\u0649 \u0645\u062c\u0645\u0648\u0639\u0629 \u0628\u064a\u0627\u0646\u0627\u062a \u0627\u0635\u0637\u0646\u0627\u0639\u064a\u0629.\n\n\u0631\u0627\u062c\u0639 `theil_sen_regression` \u0644\u0645\u0632\u064a\u062f \u0645\u0646 \u0627\u0644\u0645\u0639\u0644\u0648\u0645\u0627\u062a \u062d\u0648\u0644 \u0627\u0644\u0645\u0646\u062d\u062f\u0631.\n\n\u0628\u0627\u0644\u0645\u0642\u0627\u0631\u0646\u0629 \u0645\u0639 \u0645\u0642\u062f\u0631 \u0627\u0644\u0645\u0631\u0628\u0639\u0627\u062a \u0627\u0644\u0635\u063a\u0631\u0649 \u0627\u0644\u0639\u0627\u062f\u064a (OLS)\u060c \u0641\u0625\u0646 \u0645\u0642\u062f\u0631 \u062b\u064a\u0644-\u0633\u064a\u0646\n\u0642\u0648\u064a \u0636\u062f \u0627\u0644\u0642\u064a\u0645 \u0627\u0644\u0634\u0627\u0630\u0629. \u0644\u062f\u064a\u0647 \u0646\u0642\u0637\u0629 \u0627\u0646\u0647\u064a\u0627\u0631 \u062d\u0648\u0627\u0644\u064a 29.3%\n\u0641\u064a \u062d\u0627\u0644\u0629 \u0627\u0644\u0627\u0646\u062d\u062f\u0627\u0631 \u0627\u0644\u062e\u0637\u064a \u0627\u0644\u0628\u0633\u064a\u0637\u060c \u0645\u0645\u0627 \u064a\u0639\u0646\u064a \u0623\u0646\u0647 \u064a\u0645\u0643\u0646\u0647 \u062a\u062d\u0645\u0644\n\u0627\u0644\u0628\u064a\u0627\u0646\u0627\u062a \u0627\u0644\u0641\u0627\u0633\u062f\u0629 (\u0627\u0644\u0642\u064a\u0645 \u0627\u0644\u0634\u0627\u0630\u0629) \u0628\u0646\u0633\u0628\u0629 \u062a\u0635\u0644 \u0625\u0644\u0649 29.3% \u0641\u064a \u0627\u0644\u062d\u0627\u0644\u0629 \u062b\u0646\u0627\u0626\u064a\u0629 \u0627\u0644\u0623\u0628\u0639\u0627\u062f.\n\n\u064a\u062a\u0645 \u062a\u0642\u062f\u064a\u0631 \u0627\u0644\u0646\u0645\u0648\u0630\u062c \u0639\u0646 \u0637\u0631\u064a\u0642 \u062d\u0633\u0627\u0628 \u0627\u0644\u0645\u0646\u062d\u062f\u0631\u0627\u062a \u0648\u0627\u0644\u062a\u0642\u0627\u0637\u0639\u0627\u062a\n\u0644\u0644\u0633\u0643\u0627\u0646 \u0627\u0644\u0641\u0631\u0639\u064a\u064a\u0646 \u0644\u062c\u0645\u064a\u0639 \u0627\u0644\u062a\u0631\u0643\u064a\u0628\u0627\u062a \u0627\u0644\u0645\u0645\u0643\u0646\u0629 \u0645\u0646 \u0627\u0644\u0646\u0642\u0627\u0637 \u0627\u0644\u0641\u0631\u0639\u064a\u0629 p. \u0625\u0630\u0627 \u0643\u0627\u0646\n\u062a\u0645 \u062a\u0631\u0643\u064a\u0628 \u0627\u0644\u062a\u0642\u0627\u0637\u0639\u060c \u064a\u062c\u0628 \u0623\u0646 \u064a\u0643\u0648\u0646 p \u0623\u0643\u0628\u0631 \u0645\u0646 \u0623\u0648 \u064a\u0633\u0627\u0648\u064a n_features + 1. \u062b\u0645 \u064a\u062a\u0645 \u062a\u0639\u0631\u064a\u0641 \u0627\u0644\u0645\u0646\u062d\u062f\u0631 \u0648\u0627\u0644\u062a\u0642\u0627\u0637\u0639 \u0627\u0644\u0646\u0647\u0627\u0626\u064a\u064a\u0646\n\u0643\u0645\u062a\u0648\u0633\u0637 \u0645\u0643\u0627\u0646\u064a \u0644\u0647\u0630\u0647 \u0627\u0644\u0645\u0646\u062d\u062f\u0631\u0627\u062a \u0648\u0627\u0644\u062a\u0642\u0627\u0637\u0639\u0627\u062a.\n\n\u0641\u064a \u0628\u0639\u0636 \u0627\u0644\u062d\u0627\u0644\u0627\u062a\u060c \u064a\u0624\u062f\u064a \u062b\u064a\u0644-\u0633\u064a\u0646 \u0623\u062f\u0627\u0621\u064b \u0623\u0641\u0636\u0644 \u0645\u0646 `RANSAC\n<ransac_regression>`\u060c \u0648\u0647\u064a \u0637\u0631\u064a\u0642\u0629 \u0642\u0648\u064a\u0629 \u0623\u064a\u0636\u064b\u0627. \u064a\u062a\u0645 \u062a\u0648\u0636\u064a\u062d \u0630\u0644\u0643 \u0641\u064a\n\u0627\u0644\u0645\u062b\u0627\u0644 \u0627\u0644\u062b\u0627\u0646\u064a \u0623\u062f\u0646\u0627\u0647 \u062d\u064a\u062b \u062a\u0624\u062b\u0631 \u0627\u0644\u0642\u064a\u0645 \u0627\u0644\u0634\u0627\u0630\u0629 \u0641\u064a\u0645\u0627 \u064a\u062a\u0639\u0644\u0642 \u0628\u0645\u062d\u0648\u0631 x \u0639\u0644\u0649 RANSAC.\n\u064a\u0635\u0644\u062d \u0636\u0628\u0637 \u0645\u0639\u0644\u0645\u0629 \"residual_threshold\" \u0641\u064a RANSAC \u0647\u0630\u0627 \u0627\u0644\u0623\u0645\u0631\u060c \u0648\u0644\u0643\u0646 \u0628\u0634\u0643\u0644 \u0639\u0627\u0645\u060c \u0647\u0646\u0627\u0643 \u062d\u0627\u062c\u0629 \u0625\u0644\u0649 \u0645\u0639\u0631\u0641\u0629 \u0645\u0633\u0628\u0642\u0629 \u062d\u0648\u0644 \u0627\u0644\u0628\u064a\u0627\u0646\u0627\u062a \u0648\u0637\u0628\u064a\u0639\u0629 \u0627\u0644\u0642\u064a\u0645 \u0627\u0644\u0634\u0627\u0630\u0629.\n\u0628\u0633\u0628\u0628 \u0627\u0644\u062a\u0639\u0642\u064a\u062f \u0627\u0644\u062d\u0633\u0627\u0628\u064a \u0644\u062b\u064a\u0644-\u0633\u064a\u0646\u060c \u064a\u0648\u0635\u0649 \u0628\u0627\u0633\u062a\u062e\u062f\u0627\u0645\u0647\n\u0641\u0642\u0637 \u0644\u0644\u0645\u0634\u0627\u0643\u0644 \u0627\u0644\u0635\u063a\u064a\u0631\u0629 \u0645\u0646 \u062d\u064a\u062b \u0639\u062f\u062f \u0627\u0644\u0639\u064a\u0646\u0627\u062a \u0648\u0627\u0644\u0645\u064a\u0632\u0627\u062a. \u0628\u0627\u0644\u0646\u0633\u0628\u0629 \u0644\u0644\u0645\u0634\u0627\u0643\u0644 \u0627\u0644\u0623\u0643\u0628\u0631\n\u062a\u0642\u064a\u062f \u0645\u0639\u0644\u0645\u0629 \"max_subpopulation\" \u062d\u062c\u0645 \u062c\u0645\u064a\u0639 \u0627\u0644\u062a\u0631\u0643\u064a\u0628\u0627\u062a \u0627\u0644\u0645\u0645\u0643\u0646\u0629 \u0645\u0646 \u0627\u0644\u0646\u0642\u0627\u0637 \u0627\u0644\u0641\u0631\u0639\u064a\u0629 p \u0625\u0644\u0649 \u0645\u062c\u0645\u0648\u0639\u0629 \u0641\u0631\u0639\u064a\u0629 \u064a\u062a\u0645 \u0627\u062e\u062a\u064a\u0627\u0631\u0647\u0627 \u0639\u0634\u0648\u0627\u0626\u064a\u064b\u0627\n\u0648\u0628\u0627\u0644\u062a\u0627\u0644\u064a \u062a\u062d\u062f \u0623\u064a\u0636\u064b\u0627 \u0645\u0646 \u0648\u0642\u062a \u0627\u0644\u062a\u0634\u063a\u064a\u0644. \u0644\u0630\u0644\u0643\u060c \u064a\u0645\u0643\u0646 \u062a\u0637\u0628\u064a\u0642 \u062b\u064a\u0644-\u0633\u064a\u0646 \u0639\u0644\u0649 \u0645\u0634\u0627\u0643\u0644 \u0623\u0643\u0628\u0631\n\u0645\u0639 \u0639\u064a\u0628 \u0641\u0642\u062f\u0627\u0646 \u0628\u0639\u0636 \u062e\u0635\u0627\u0626\u0635\u0647 \u0627\u0644\u0631\u064a\u0627\u0636\u064a\u0629 \u062d\u064a\u062b \u0623\u0646\u0647 \u064a\u0639\u0645\u0644\n\u0639\u0644\u0649 \u0645\u062c\u0645\u0648\u0639\u0629 \u0641\u0631\u0639\u064a\u0629 \u0639\u0634\u0648\u0627\u0626\u064a\u0629.\n"
      ]
    },
    {
      "cell_type": "code",
      "execution_count": null,
      "metadata": {
        "collapsed": false
      },
      "outputs": [],
      "source": [
        "# \u0627\u0644\u0645\u0624\u0644\u0641\u0648\u0646: \u0645\u0637\u0648\u0631\u064a \u0633\u0643\u0627\u064a\u0644\u0631\u0646\n# \u0645\u0639\u0631\u0641 \u0627\u0644\u062a\u0631\u062e\u064a\u0635: BSD-3-Clause\n\nimport time\n\nimport matplotlib.pyplot as plt\nimport numpy as np\n\nfrom sklearn.linear_model import LinearRegression, RANSACRegressor, TheilSenRegressor\n\nestimators = [\n    (\"OLS\", LinearRegression()),\n    (\"Theil-Sen\", TheilSenRegressor(random_state=42)),\n    (\"RANSAC\", RANSACRegressor(random_state=42)),\n]\ncolors = {\"OLS\": \"turquoise\", \"Theil-Sen\": \"gold\", \"RANSAC\": \"lightgreen\"}\nlw = 2"
      ]
    },
    {
      "cell_type": "markdown",
      "metadata": {},
      "source": [
        "## \u0627\u0644\u0642\u064a\u0645 \u0627\u0644\u0634\u0627\u0630\u0629 \u0641\u0642\u0637 \u0641\u064a \u0627\u062a\u062c\u0627\u0647 y\n\n"
      ]
    },
    {
      "cell_type": "code",
      "execution_count": null,
      "metadata": {
        "collapsed": false
      },
      "outputs": [],
      "source": [
        "np.random.seed(0)\nn_samples = 200\n# \u0627\u0644\u0646\u0645\u0648\u0630\u062c \u0627\u0644\u062e\u0637\u064a y = 3*x + N(2, 0.1**2)\nx = np.random.randn(n_samples)\nw = 3.0\nc = 2.0\nnoise = 0.1 * np.random.randn(n_samples)\ny = w * x + c + noise\n# 10% \u0642\u064a\u0645 \u0634\u0627\u0630\u0629\ny[-20:] += -20 * x[-20:]\nX = x[:, np.newaxis]\n\nplt.scatter(x, y, color=\"indigo\", marker=\"x\", s=40)\nline_x = np.array([-3, 3])\nfor name, estimator in estimators:\n    t0 = time.time()\n    estimator.fit(X, y)\n    elapsed_time = time.time() - t0\n    y_pred = estimator.predict(line_x.reshape(2, 1))\n    plt.plot(\n        line_x,\n        y_pred,\n        color=colors[name],\n        linewidth=lw,\n        label=\"%s (fit time: %.2fs)\" % (name, elapsed_time),\n    )\n\nplt.axis(\"tight\")\nplt.legend(loc=\"upper left\")\n_ = plt.title(\"Corrupt y\")"
      ]
    },
    {
      "cell_type": "markdown",
      "metadata": {},
      "source": [
        "## \u0627\u0644\u0642\u064a\u0645 \u0627\u0644\u0634\u0627\u0630\u0629 \u0641\u064a \u0627\u062a\u062c\u0627\u0647 X\n\n"
      ]
    },
    {
      "cell_type": "code",
      "execution_count": null,
      "metadata": {
        "collapsed": false
      },
      "outputs": [],
      "source": [
        "np.random.seed(0)\n# \u0627\u0644\u0646\u0645\u0648\u0630\u062c \u0627\u0644\u062e\u0637\u064a y = 3*x + N(2, 0.1**2)\nx = np.random.randn(n_samples)\nnoise = 0.1 * np.random.randn(n_samples)\ny = 3 * x + 2 + noise\n# 10% \u0642\u064a\u0645 \u0634\u0627\u0630\u0629\nx[-20:] = 9.9\ny[-20:] += 22\nX = x[:, np.newaxis]\n\nplt.figure()\nplt.scatter(x, y, color=\"indigo\", marker=\"x\", s=40)\n\nline_x = np.array([-3, 10])\nfor name, estimator in estimators:\n    t0 = time.time()\n    estimator.fit(X, y)\n    elapsed_time = time.time() - t0\n    y_pred = estimator.predict(line_x.reshape(2, 1))\n    plt.plot(\n        line_x,\n        y_pred,\n        color=colors[name],\n        linewidth=lw,\n        label=\"%s (fit time: %.2fs)\" % (name, elapsed_time),\n    )\n\nplt.axis(\"tight\")\nplt.legend(loc=\"upper left\")\nplt.title(\"Corrupt x\")\nplt.show()"
      ]
    }
  ],
  "metadata": {
    "kernelspec": {
      "display_name": "Python 3",
      "language": "python",
      "name": "python3"
    },
    "language_info": {
      "codemirror_mode": {
        "name": "ipython",
        "version": 3
      },
      "file_extension": ".py",
      "mimetype": "text/x-python",
      "name": "python",
      "nbconvert_exporter": "python",
      "pygments_lexer": "ipython3",
      "version": "3.10.13"
    }
  },
  "nbformat": 4,
  "nbformat_minor": 0
}