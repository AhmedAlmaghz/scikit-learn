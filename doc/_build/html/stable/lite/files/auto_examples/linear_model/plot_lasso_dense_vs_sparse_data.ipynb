{
  "cells": [
    {
      "cell_type": "markdown",
      "metadata": {},
      "source": [
        "<div class='alert alert-warning'>\n\n# JupyterLite warning\n\nRunning the scikit-learn examples in JupyterLite is experimental and you may encounter some unexpected behavior.\n\nThe main difference is that imports will take a lot longer than usual, for example the first `import sklearn` can take roughly 10-20s.\n\nIf you notice problems, feel free to open an [issue](https://github.com/scikit-learn/scikit-learn/issues/new/choose) about it.\n</div>"
      ]
    },
    {
      "cell_type": "code",
      "execution_count": null,
      "metadata": {
        "collapsed": false
      },
      "outputs": [],
      "source": [
        "# JupyterLite-specific code\nimport matplotlib\nimport pandas"
      ]
    },
    {
      "cell_type": "markdown",
      "metadata": {},
      "source": [
        "\n# Lasso \u0639\u0644\u0649 \u0627\u0644\u0628\u064a\u0627\u0646\u0627\u062a \u0627\u0644\u0643\u062b\u064a\u0641\u0629 \u0648\u0627\u0644\u0645\u062a\u0641\u0631\u0642\u0629\n\n\u0646\u0628\u064a\u0646 \u0623\u0646 linear_model.Lasso \u064a\u0648\u0641\u0631 \u0646\u0641\u0633 \u0627\u0644\u0646\u062a\u0627\u0626\u062c \u0644\u0644\u0628\u064a\u0627\u0646\u0627\u062a \u0627\u0644\u0643\u062b\u064a\u0641\u0629 \u0648\u0627\u0644\u0645\u062a\u0641\u0631\u0642\u0629\n\u0648\u0623\u0646 \u0627\u0644\u0633\u0631\u0639\u0629 \u062a\u062a\u062d\u0633\u0646 \u0641\u064a \u062d\u0627\u0644\u0629 \u0627\u0644\u0628\u064a\u0627\u0646\u0627\u062a \u0627\u0644\u0645\u062a\u0641\u0631\u0642\u0629.\n"
      ]
    },
    {
      "cell_type": "code",
      "execution_count": null,
      "metadata": {
        "collapsed": false
      },
      "outputs": [],
      "source": [
        "# \u0627\u0644\u0645\u0624\u0644\u0641\u0648\u0646: \u0645\u0637\u0648\u0631\u064a scikit-learn\n# \u0645\u0639\u0631\u0641 \u0627\u0644\u062a\u0631\u062e\u064a\u0635: BSD-3-Clause\n\nfrom time import time\n\nfrom scipy import linalg, sparse\n\nfrom sklearn.datasets import make_regression\nfrom sklearn.linear_model import Lasso"
      ]
    },
    {
      "cell_type": "markdown",
      "metadata": {},
      "source": [
        "## \u0645\u0642\u0627\u0631\u0646\u0629 \u062a\u0646\u0641\u064a\u0630\u064a Lasso \u0639\u0644\u0649 \u0627\u0644\u0628\u064a\u0627\u0646\u0627\u062a \u0627\u0644\u0643\u062b\u064a\u0641\u0629\n\n\u0646\u0646\u0634\u0626 \u0645\u0634\u0643\u0644\u0629 \u0627\u0646\u062d\u062f\u0627\u0631 \u062e\u0637\u064a \u0645\u0646\u0627\u0633\u0628\u0629 \u0644\u0640 Lasso\u060c\n\u0623\u064a \u0628\u0645\u0639\u0646\u0649\u060c \u0645\u0639 \u0648\u062c\u0648\u062f \u0645\u064a\u0632\u0627\u062a \u0623\u0643\u062b\u0631 \u0645\u0646 \u0627\u0644\u0639\u064a\u0646\u0627\u062a. \u062b\u0645 \u0646\u0642\u0648\u0645 \u0628\u062a\u062e\u0632\u064a\u0646 \u0645\u0635\u0641\u0648\u0641\u0629 \u0627\u0644\u0628\u064a\u0627\u0646\u0627\u062a\n\u0641\u064a \u0643\u0644 \u0645\u0646 \u0627\u0644\u062a\u0646\u0633\u064a\u0642 \u0627\u0644\u0643\u062b\u064a\u0641 (\u0627\u0644\u0639\u0627\u062f\u064a) \u0648\u0627\u0644\u0645\u062a\u0641\u0631\u0642\u060c \u0648\u0646\u0642\u0648\u0645 \u0628\u062a\u062f\u0631\u064a\u0628 Lasso \u0639\u0644\u0649\n\u0643\u0644 \u0645\u0646\u0647\u0645\u0627. \u0646\u062d\u0633\u0628 \u0648\u0642\u062a \u0627\u0644\u062a\u0634\u063a\u064a\u0644 \u0644\u0643\u0644 \u0645\u0646\u0647\u0645\u0627 \u0648\u0646\u062a\u062d\u0642\u0642 \u0645\u0646 \u0623\u0646\u0647\u0645\u0627 \u062a\u0639\u0644\u0645\u0627\n\u0646\u0641\u0633 \u0627\u0644\u0646\u0645\u0648\u0630\u062c \u0639\u0646 \u0637\u0631\u064a\u0642 \u062d\u0633\u0627\u0628 \u0627\u0644\u0645\u0639\u064a\u0627\u0631 \u0627\u0644\u0625\u0642\u0644\u064a\u062f\u064a \u0644\u0641\u0631\u0642\n\u0627\u0644\u0645\u0639\u0627\u0645\u0644\u0627\u062a \u0627\u0644\u062a\u064a \u062a\u0639\u0644\u0645\u0648\u0647\u0627. \u0646\u0638\u0631\u064b\u0627 \u0644\u0623\u0646 \u0627\u0644\u0628\u064a\u0627\u0646\u0627\u062a \u0643\u062b\u064a\u0641\u0629\u060c \u0646\u062a\u0648\u0642\u0639 \u0648\u0642\u062a \u062a\u0634\u063a\u064a\u0644 \u0623\u0641\u0636\u0644\n\u0645\u0639 \u062a\u0646\u0633\u064a\u0642 \u0627\u0644\u0628\u064a\u0627\u0646\u0627\u062a \u0627\u0644\u0643\u062b\u064a\u0641\u0629.\n\n"
      ]
    },
    {
      "cell_type": "code",
      "execution_count": null,
      "metadata": {
        "collapsed": false
      },
      "outputs": [],
      "source": [
        "X, y = make_regression(n_samples=200, n_features=5000, random_state=0)\n# \u0625\u0646\u0634\u0627\u0621 \u0646\u0633\u062e\u0629 \u0645\u0646 X \u0628\u062a\u0646\u0633\u064a\u0642 \u0645\u062a\u0641\u0631\u0642\nX_sp = sparse.coo_matrix(X)\n\nalpha = 1\nsparse_lasso = Lasso(alpha=alpha, fit_intercept=False, max_iter=1000)\ndense_lasso = Lasso(alpha=alpha, fit_intercept=False, max_iter=1000)\n\nt0 = time()\nsparse_lasso.fit(X_sp, y)\nprint(f\"Sparse Lasso done in {(time() - t0):.3f}s\")\n\nt0 = time()\ndense_lasso.fit(X, y)\nprint(f\"Dense Lasso done in {(time() - t0):.3f}s\")\n\n# \u0645\u0642\u0627\u0631\u0646\u0629 \u0645\u0639\u0627\u0645\u0644\u0627\u062a \u0627\u0644\u0627\u0646\u062d\u062f\u0627\u0631\ncoeff_diff = linalg.norm(sparse_lasso.coef_ - dense_lasso.coef_)\nprint(f\"Distance between coefficients : {coeff_diff:.2e}\")\n\n#"
      ]
    },
    {
      "cell_type": "markdown",
      "metadata": {},
      "source": [
        "## \u0645\u0642\u0627\u0631\u0646\u0629 \u062a\u0646\u0641\u064a\u0630\u064a Lasso \u0639\u0644\u0649 \u0627\u0644\u0628\u064a\u0627\u0646\u0627\u062a \u0627\u0644\u0645\u062a\u0641\u0631\u0642\u0629\n\n\u0646\u062c\u0639\u0644 \u0627\u0644\u0645\u0634\u0643\u0644\u0629 \u0627\u0644\u0633\u0627\u0628\u0642\u0629 \u0645\u062a\u0641\u0631\u0642\u0629 \u0639\u0646 \u0637\u0631\u064a\u0642 \u0627\u0633\u062a\u0628\u062f\u0627\u0644 \u062c\u0645\u064a\u0639 \u0627\u0644\u0642\u064a\u0645 \u0627\u0644\u0635\u063a\u064a\u0631\u0629 \u0628\u0640 0\n\u0648\u0646\u0642\u0648\u0645 \u0628\u0646\u0641\u0633 \u0627\u0644\u0645\u0642\u0627\u0631\u0646\u0627\u062a \u0643\u0645\u0627 \u0647\u0648 \u0645\u0648\u0636\u062d \u0623\u0639\u0644\u0627\u0647. \u0646\u0638\u0631\u064b\u0627 \u0644\u0623\u0646 \u0627\u0644\u0628\u064a\u0627\u0646\u0627\u062a \u0623\u0635\u0628\u062d\u062a \u0645\u062a\u0641\u0631\u0642\u0629 \u0627\u0644\u0622\u0646\u060c \u0641\u0625\u0646\u0646\u0627\n\u0646\u062a\u0648\u0642\u0639 \u0623\u0646 \u064a\u0643\u0648\u0646 \u0627\u0644\u062a\u0646\u0641\u064a\u0630 \u0627\u0644\u0630\u064a \u064a\u0633\u062a\u062e\u062f\u0645 \u062a\u0646\u0633\u064a\u0642 \u0627\u0644\u0628\u064a\u0627\u0646\u0627\u062a \u0627\u0644\u0645\u062a\u0641\u0631\u0642\u0629 \u0623\u0633\u0631\u0639.\n\n"
      ]
    },
    {
      "cell_type": "code",
      "execution_count": null,
      "metadata": {
        "collapsed": false
      },
      "outputs": [],
      "source": [
        "# \u0625\u0646\u0634\u0627\u0621 \u0646\u0633\u062e\u0629 \u0645\u0646 \u0627\u0644\u0628\u064a\u0627\u0646\u0627\u062a \u0627\u0644\u0633\u0627\u0628\u0642\u0629\nXs = X.copy()\n# \u062c\u0639\u0644 Xs \u0645\u062a\u0641\u0631\u0642\u0629 \u0639\u0646 \u0637\u0631\u064a\u0642 \u0627\u0633\u062a\u0628\u062f\u0627\u0644 \u0627\u0644\u0642\u064a\u0645 \u0627\u0644\u0623\u0642\u0644 \u0645\u0646 2.5 \u0628\u0640 0s\nXs[Xs < 2.5] = 0.0\n# \u0625\u0646\u0634\u0627\u0621 \u0646\u0633\u062e\u0629 \u0645\u0646 Xs \u0628\u062a\u0646\u0633\u064a\u0642 \u0645\u062a\u0641\u0631\u0642\nXs_sp = sparse.coo_matrix(Xs)\nXs_sp = Xs_sp.tocsc()\n\n# \u062d\u0633\u0627\u0628 \u0646\u0633\u0628\u0629 \u0627\u0644\u0645\u0639\u0627\u0645\u0644\u0627\u062a \u063a\u064a\u0631 \u0627\u0644\u0635\u0641\u0631\u064a\u0629 \u0641\u064a \u0645\u0635\u0641\u0648\u0641\u0629 \u0627\u0644\u0628\u064a\u0627\u0646\u0627\u062a\nprint(f\"Matrix density : {(Xs_sp.nnz / float(X.size) * 100):.3f}%\")\n\nalpha = 0.1\nsparse_lasso = Lasso(alpha=alpha, fit_intercept=False, max_iter=10000)\ndense_lasso = Lasso(alpha=alpha, fit_intercept=False, max_iter=10000)\n\nt0 = time()\nsparse_lasso.fit(Xs_sp, y)\nprint(f\"Sparse Lasso done in {(time() - t0):.3f}s\")\n\nt0 = time()\ndense_lasso.fit(Xs, y)\nprint(f\"Dense Lasso done in  {(time() - t0):.3f}s\")\n\n# \u0645\u0642\u0627\u0631\u0646\u0629 \u0645\u0639\u0627\u0645\u0644\u0627\u062a \u0627\u0644\u0627\u0646\u062d\u062f\u0627\u0631\ncoeff_diff = linalg.norm(sparse_lasso.coef_ - dense_lasso.coef_)\nprint(f\"Distance between coefficients : {coeff_diff:.2e}\")\n\n# %%"
      ]
    }
  ],
  "metadata": {
    "kernelspec": {
      "display_name": "Python 3",
      "language": "python",
      "name": "python3"
    },
    "language_info": {
      "codemirror_mode": {
        "name": "ipython",
        "version": 3
      },
      "file_extension": ".py",
      "mimetype": "text/x-python",
      "name": "python",
      "nbconvert_exporter": "python",
      "pygments_lexer": "ipython3",
      "version": "3.10.13"
    }
  },
  "nbformat": 4,
  "nbformat_minor": 0
}