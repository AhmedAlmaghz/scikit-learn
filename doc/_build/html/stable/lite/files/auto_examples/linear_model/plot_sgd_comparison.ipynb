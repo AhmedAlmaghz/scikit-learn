{
  "cells": [
    {
      "cell_type": "markdown",
      "metadata": {},
      "source": [
        "<div class='alert alert-warning'>\n\n# JupyterLite warning\n\nRunning the scikit-learn examples in JupyterLite is experimental and you may encounter some unexpected behavior.\n\nThe main difference is that imports will take a lot longer than usual, for example the first `import sklearn` can take roughly 10-20s.\n\nIf you notice problems, feel free to open an [issue](https://github.com/scikit-learn/scikit-learn/issues/new/choose) about it.\n</div>"
      ]
    },
    {
      "cell_type": "code",
      "execution_count": null,
      "metadata": {
        "collapsed": false
      },
      "outputs": [],
      "source": [
        "# JupyterLite-specific code\nimport matplotlib\nimport pandas"
      ]
    },
    {
      "cell_type": "markdown",
      "metadata": {},
      "source": [
        "\n# \u0645\u0642\u0627\u0631\u0646\u0629 \u0628\u064a\u0646 \u0627\u0644\u0645\u062d\u0644\u0644\u0627\u062a \u0627\u0644\u0645\u062e\u062a\u0644\u0641\u0629 \u0639\u0628\u0631 \u0627\u0644\u0625\u0646\u062a\u0631\u0646\u062a\n\u0645\u062b\u0627\u0644 \u064a\u0648\u0636\u062d \u0643\u064a\u0641 \u062a\u0624\u062f\u064a \u0627\u0644\u0645\u062d\u0644\u0644\u0627\u062a \u0627\u0644\u0645\u062e\u062a\u0644\u0641\u0629 \u0639\u0628\u0631 \u0627\u0644\u0625\u0646\u062a\u0631\u0646\u062a\n\u0639\u0644\u0649 \u0645\u062c\u0645\u0648\u0639\u0629 \u0628\u064a\u0627\u0646\u0627\u062a \u0627\u0644\u0623\u0631\u0642\u0627\u0645 \u0627\u0644\u0645\u0643\u062a\u0648\u0628\u0629 \u0628\u062e\u0637 \u0627\u0644\u064a\u062f.\n"
      ]
    },
    {
      "cell_type": "code",
      "execution_count": null,
      "metadata": {
        "collapsed": false
      },
      "outputs": [],
      "source": [
        "# \u0627\u0644\u0645\u0624\u0644\u0641\u0648\u0646: \u0645\u0637\u0648\u0631\u064a \u0633\u0643\u0627\u064a\u062a-\u0644\u064a\u0631\u0646\n# \u0645\u0639\u0631\u0641 \u0627\u0644\u062a\u0631\u062e\u064a\u0635: BSD-3-Clause\n\nimport matplotlib.pyplot as plt\nimport numpy as np\n\nfrom sklearn import datasets\nfrom sklearn.linear_model import (\n    LogisticRegression,\n    PassiveAggressiveClassifier,\n    Perceptron,\n    SGDClassifier,\n)\nfrom sklearn.model_selection import train_test_split\n\nheldout = [0.95, 0.90, 0.75, 0.50, 0.01]\n# \u0639\u062f\u062f \u0627\u0644\u062c\u0648\u0644\u0627\u062a \u0644\u062a\u062f\u0631\u064a\u0628 \u0648\u062a\u0642\u064a\u064a\u0645 \u0627\u0644\u0645\u062d\u0644\u0644.\nrounds = 10\nX, y = datasets.load_digits(return_X_y=True)\n\nclassifiers = [\n    (\"SGD\", SGDClassifier(max_iter=110)),\n    (\"ASGD\", SGDClassifier(max_iter=110, average=True)),\n    (\"Perceptron\", Perceptron(max_iter=110)),\n    (\n        \"Passive-Aggressive I\",\n        PassiveAggressiveClassifier(max_iter=110, loss=\"hinge\", C=1.0, tol=1e-4),\n    ),\n    (\n        \"Passive-Aggressive II\",\n        PassiveAggressiveClassifier(\n            max_iter=110, loss=\"squared_hinge\", C=1.0, tol=1e-4\n        ),\n    ),\n    (\n        \"SAG\",\n        LogisticRegression(max_iter=110, solver=\"sag\", tol=1e-1, C=1.0e4 / X.shape[0]),\n    ),\n]\n\nxx = 1.0 - np.array(heldout)\n\nfor name, clf in classifiers:\n    print(\"\u062a\u062f\u0631\u064a\u0628 %s\" % name)\n    rng = np.random.RandomState(42)\n    yy = []\n    for i in heldout:\n        yy_ = []\n        for r in range(rounds):\n            X_train, X_test, y_train, y_test = train_test_split(\n                X, y, test_size=i, random_state=rng\n            )\n            clf.fit(X_train, y_train)\n            y_pred = clf.predict(X_test)\n            yy_.append(1 - np.mean(y_pred == y_test))\n        yy.append(np.mean(yy_))\n    plt.plot(xx, yy, label=name)\n\nplt.legend(loc=\"upper right\")\nplt.xlabel(\"\u0646\u0633\u0628\u0629 \u0627\u0644\u062a\u062f\u0631\u064a\u0628\")\nplt.ylabel(\"\u0645\u0639\u062f\u0644 \u0627\u0644\u062e\u0637\u0623 \u0641\u064a \u0627\u0644\u0627\u062e\u062a\u0628\u0627\u0631\")\nplt.show()"
      ]
    }
  ],
  "metadata": {
    "kernelspec": {
      "display_name": "Python 3",
      "language": "python",
      "name": "python3"
    },
    "language_info": {
      "codemirror_mode": {
        "name": "ipython",
        "version": 3
      },
      "file_extension": ".py",
      "mimetype": "text/x-python",
      "name": "python",
      "nbconvert_exporter": "python",
      "pygments_lexer": "ipython3",
      "version": "3.10.13"
    }
  },
  "nbformat": 4,
  "nbformat_minor": 0
}