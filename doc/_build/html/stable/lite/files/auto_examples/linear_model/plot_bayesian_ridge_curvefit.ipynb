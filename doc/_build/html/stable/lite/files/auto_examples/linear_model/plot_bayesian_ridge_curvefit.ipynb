{
  "cells": [
    {
      "cell_type": "markdown",
      "metadata": {},
      "source": [
        "<div class='alert alert-warning'>\n\n# JupyterLite warning\n\nRunning the scikit-learn examples in JupyterLite is experimental and you may encounter some unexpected behavior.\n\nThe main difference is that imports will take a lot longer than usual, for example the first `import sklearn` can take roughly 10-20s.\n\nIf you notice problems, feel free to open an [issue](https://github.com/scikit-learn/scikit-learn/issues/new/choose) about it.\n</div>"
      ]
    },
    {
      "cell_type": "code",
      "execution_count": null,
      "metadata": {
        "collapsed": false
      },
      "outputs": [],
      "source": [
        "# JupyterLite-specific code\nimport matplotlib\nimport pandas"
      ]
    },
    {
      "cell_type": "markdown",
      "metadata": {},
      "source": [
        "\n# ========================================================\n# \u0627\u0644\u0645\u0646\u062d\u0646\u064a\u0627\u062a \u0627\u0644\u0645\u0646\u0627\u0633\u0628\u0629 \u0628\u0627\u0633\u062a\u062e\u062f\u0627\u0645 \u0627\u0644\u0627\u0646\u062d\u062f\u0627\u0631 \u0627\u0644\u062e\u0644\u064a\u0637 \u0627\u0644\u062e\u0644\u064a\u0637\n# ========================================================\n\n# \u064a\u062d\u0633\u0628 \u0627\u0644\u0627\u0646\u062d\u062f\u0627\u0631 \u0627\u0644\u062e\u0644\u064a\u0637 \u0627\u0644\u062e\u0644\u064a\u0637 \u0644\u0644\u0645\u0646\u062d\u0646\u064a\u0627\u062a \u0627\u0644\u062a\u0648\u0627\u0641\u0642\u064a\u0629.\n\n# \u0631\u0627\u062c\u0639 `bayesian_ridge_regression` \u0644\u0645\u0632\u064a\u062f \u0645\u0646 \u0627\u0644\u0645\u0639\u0644\u0648\u0645\u0627\u062a \u062d\u0648\u0644 \u0627\u0644\u0645\u0646\u062d\u0646\u064a.\n\n# \u0628\u0634\u0643\u0644 \u0639\u0627\u0645\u060c \u0639\u0646\u062f \u0645\u0644\u0627\u0621\u0645\u0629 \u0645\u0646\u062d\u0646\u0649 \u0628\u0627\u0633\u062a\u062e\u062f\u0627\u0645 \u0645\u062a\u0639\u062f\u062f \u0627\u0644\u062d\u062f\u0648\u062f \u0628\u0648\u0627\u0633\u0637\u0629 \u0627\u0644\u0627\u0646\u062d\u062f\u0627\u0631 \u0627\u0644\u062e\u0644\u064a\u0637 \u0627\u0644\u062e\u0644\u064a\u0637\u060c \u0642\u062f \u064a\u0643\u0648\u0646 \u0627\u062e\u062a\u064a\u0627\u0631 \u0627\u0644\u0642\u064a\u0645 \u0627\u0644\u0623\u0648\u0644\u064a\u0629 \u0644\u0645\u0639\u0627\u0645\u0644\u0627\u062a \u0627\u0644\u062a\u0646\u0638\u064a\u0645 (alpha\u060c lambda) \u0645\u0647\u0645\u064b\u0627.\n# \u0647\u0630\u0627 \u0644\u0623\u0646 \u0645\u0639\u0627\u0645\u0644\u0627\u062a \u0627\u0644\u062a\u0646\u0638\u064a\u0645 \u064a\u062a\u0645 \u062a\u062d\u062f\u064a\u062f\u0647\u0627 \u0628\u0648\u0627\u0633\u0637\u0629 \u0625\u062c\u0631\u0627\u0621 \u062a\u0643\u0631\u0627\u0631\u064a \u064a\u0639\u062a\u0645\u062f \u0639\u0644\u0649 \u0627\u0644\u0642\u064a\u0645 \u0627\u0644\u0623\u0648\u0644\u064a\u0629.\n\n# \u0641\u064a \u0647\u0630\u0627 \u0627\u0644\u0645\u062b\u0627\u0644\u060c \u064a\u062a\u0645 \u062a\u0642\u0631\u064a\u0628 \u0627\u0644\u0645\u0646\u062d\u0646\u0649 \u0627\u0644\u062a\u0648\u0627\u0641\u0642\u064a \u0628\u0648\u0627\u0633\u0637\u0629 \u0645\u062a\u0639\u062f\u062f \u0627\u0644\u062d\u062f\u0648\u062f \u0628\u0627\u0633\u062a\u062e\u062f\u0627\u0645 \u0623\u0632\u0648\u0627\u062c \u0645\u062e\u062a\u0644\u0641\u0629 \u0645\u0646 \u0627\u0644\u0642\u064a\u0645 \u0627\u0644\u0623\u0648\u0644\u064a\u0629.\n\n# \u0639\u0646\u062f \u0627\u0644\u0628\u062f\u0621 \u0645\u0646 \u0627\u0644\u0642\u064a\u0645 \u0627\u0644\u0627\u0641\u062a\u0631\u0627\u0636\u064a\u0629 (alpha_init = 1.90, lambda_init = 1.)\u060c \u064a\u0643\u0648\u0646 \u0627\u0644\u0627\u0646\u062d\u064a\u0627\u0632 \u0644\u0644\u0645\u0646\u062d\u0646\u0649 \u0627\u0644\u0646\u0627\u062a\u062c \u0643\u0628\u064a\u0631\u064b\u0627\u060c \u0648\u0627\u0644\u062a\u0628\u0627\u064a\u0646 \u0635\u063a\u064a\u0631\u064b\u0627.\n# \u0644\u0630\u0644\u0643\u060c \u064a\u062c\u0628 \u0623\u0646 \u062a\u0643\u0648\u0646 lambda_init \u0635\u063a\u064a\u0631\u0629 \u0646\u0633\u0628\u064a\u064b\u0627 (1.e-3) \u0644\u062a\u0642\u0644\u064a\u0644 \u0627\u0644\u0627\u0646\u062d\u064a\u0627\u0632.\n\n# \u0623\u064a\u0636\u064b\u0627\u060c \u0645\u0646 \u062e\u0644\u0627\u0644 \u062a\u0642\u064a\u064a\u0645 \u0627\u0644\u0627\u062d\u062a\u0645\u0627\u0644 \u0627\u0644\u0647\u0627\u0645\u0634\u064a \u0627\u0644\u0644\u0648\u063a\u0627\u0631\u064a\u062a\u0645\u064a (L) \u0644\u0647\u0630\u0647 \u0627\u0644\u0646\u0645\u0627\u0630\u062c\u060c \u064a\u0645\u0643\u0646\u0646\u0627 \u062a\u062d\u062f\u064a\u062f \u0623\u064a\u0647\u0627 \u0623\u0641\u0636\u0644.\n# \u064a\u0645\u0643\u0646 \u0627\u0644\u0627\u0633\u062a\u0646\u062a\u0627\u062c \u0623\u0646 \u0627\u0644\u0646\u0645\u0648\u0630\u062c \u0630\u0648 L \u0627\u0644\u0623\u0643\u0628\u0631 \u0623\u0643\u062b\u0631 \u0627\u062d\u062a\u0645\u0627\u0644\u064b\u0627.\n"
      ]
    },
    {
      "cell_type": "markdown",
      "metadata": {},
      "source": [
        "# \u062a\u0648\u0644\u064a\u062f \u0628\u064a\u0627\u0646\u0627\u062a \u062a\u0648\u0627\u0641\u0642\u064a\u0629 \u0645\u0639 \u0627\u0644\u0636\u0648\u0636\u0627\u0621\n\n"
      ]
    },
    {
      "cell_type": "code",
      "execution_count": null,
      "metadata": {
        "collapsed": false
      },
      "outputs": [],
      "source": [
        "import numpy as np\n\n\ndef func(x):\n    return np.sin(2 * np.pi * x)\n\n\nsize = 25\nrng = np.random.RandomState(1234)\nx_train = rng.uniform(0.0, 1.0, size)\ny_train = func(x_train) + rng.normal(scale=0.1, size=size)\nx_test = np.linspace(0.0, 1.0, 100)"
      ]
    },
    {
      "cell_type": "markdown",
      "metadata": {},
      "source": [
        "# \u0627\u0644\u0645\u0644\u0627\u0621\u0645\u0629 \u0628\u0648\u0627\u0633\u0637\u0629 \u0645\u062a\u0639\u062f\u062f \u0627\u0644\u062d\u062f\u0648\u062f \u0645\u0646 \u0627\u0644\u062f\u0631\u062c\u0629 \u0627\u0644\u062b\u0627\u0644\u062b\u0629\n\n"
      ]
    },
    {
      "cell_type": "code",
      "execution_count": null,
      "metadata": {
        "collapsed": false
      },
      "outputs": [],
      "source": [
        "from sklearn.linear_model import BayesianRidge\n\nn_order = 3\nX_train = np.vander(x_train, n_order + 1, increasing=True)\nX_test = np.vander(x_test, n_order + 1, increasing=True)\nreg = BayesianRidge(tol=1e-6, fit_intercept=False, compute_score=True)"
      ]
    },
    {
      "cell_type": "markdown",
      "metadata": {},
      "source": [
        "# \u0631\u0633\u0645 \u0627\u0644\u0645\u0646\u062d\u0646\u0649 \u0627\u0644\u062d\u0642\u064a\u0642\u064a \u0648\u0627\u0644\u0645\u062a\u0648\u0642\u0639 \u0645\u0639 \u0627\u0644\u0627\u062d\u062a\u0645\u0627\u0644 \u0627\u0644\u0647\u0627\u0645\u0634\u064a \u0627\u0644\u0644\u0648\u063a\u0627\u0631\u064a\u062a\u0645\u064a (L)\n\n"
      ]
    },
    {
      "cell_type": "code",
      "execution_count": null,
      "metadata": {
        "collapsed": false
      },
      "outputs": [],
      "source": [
        "import matplotlib.pyplot as plt\n\nfig, axes = plt.subplots(1, 2, figsize=(8, 4))\nfor i, ax in enumerate(axes):\n    # \u0627\u0644\u0627\u0646\u062d\u062f\u0627\u0631 \u0627\u0644\u062e\u0644\u064a\u0637 \u0627\u0644\u062e\u0644\u064a\u0637 \u0645\u0639 \u0623\u0632\u0648\u0627\u062c \u0645\u062e\u062a\u0644\u0641\u0629 \u0645\u0646 \u0627\u0644\u0642\u064a\u0645 \u0627\u0644\u0623\u0648\u0644\u064a\u0629\n    if i == 0:\n        init = [1 / np.var(y_train), 1.0]  # \u0627\u0644\u0642\u064a\u0645 \u0627\u0644\u0627\u0641\u062a\u0631\u0627\u0636\u064a\u0629\n    elif i == 1:\n        init = [1.0, 1e-3]\n        reg.set_params(alpha_init=init[0], lambda_init=init[1])\n    reg.fit(X_train, y_train)\n    ymean, ystd = reg.predict(X_test, return_std=True)\n\n    ax.plot(x_test, func(x_test), color=\"blue\", label=\"sin($2\\\\pi x$)\")\n    ax.scatter(x_train, y_train, s=50, alpha=0.5, label=\"observation\")\n    ax.plot(x_test, ymean, color=\"red\", label=\"predict mean\")\n    ax.fill_between(\n        x_test, ymean - ystd, ymean + ystd, color=\"pink\", alpha=0.5, label=\"predict std\"\n    )\n    ax.set_ylim(-1.3, 1.3)\n    ax.legend()\n    title = \"$\\\\alpha$_init$={:.2f},\\\\ \\\\lambda$_init$={}$\".format(init[0], init[1])\n    if i == 0:\n        title += \" (Default)\"\n    ax.set_title(title, fontsize=12)\n    text = \"$\\\\alpha={:.1f}$\\n$\\\\lambda={:.3f}$\\n$L={:.1f}$\".format(\n        reg.alpha_, reg.lambda_, reg.scores_[-1]\n    )\n    ax.text(0.05, -1.0, text, fontsize=12)\n\nplt.tight_layout()\nplt.show()"
      ]
    }
  ],
  "metadata": {
    "kernelspec": {
      "display_name": "Python 3",
      "language": "python",
      "name": "python3"
    },
    "language_info": {
      "codemirror_mode": {
        "name": "ipython",
        "version": 3
      },
      "file_extension": ".py",
      "mimetype": "text/x-python",
      "name": "python",
      "nbconvert_exporter": "python",
      "pygments_lexer": "ipython3",
      "version": "3.10.13"
    }
  },
  "nbformat": 4,
  "nbformat_minor": 0
}