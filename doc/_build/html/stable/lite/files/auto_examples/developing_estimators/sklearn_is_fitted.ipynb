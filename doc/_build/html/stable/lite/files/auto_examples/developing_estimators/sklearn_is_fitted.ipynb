{
  "cells": [
    {
      "cell_type": "markdown",
      "metadata": {},
      "source": [
        "<div class='alert alert-warning'>\n\n# JupyterLite warning\n\nRunning the scikit-learn examples in JupyterLite is experimental and you may encounter some unexpected behavior.\n\nThe main difference is that imports will take a lot longer than usual, for example the first `import sklearn` can take roughly 10-20s.\n\nIf you notice problems, feel free to open an [issue](https://github.com/scikit-learn/scikit-learn/issues/new/choose) about it.\n</div>"
      ]
    },
    {
      "cell_type": "code",
      "execution_count": null,
      "metadata": {
        "collapsed": false
      },
      "outputs": [],
      "source": [
        "# JupyterLite-specific code\nimport matplotlib\nimport pandas"
      ]
    },
    {
      "cell_type": "markdown",
      "metadata": {},
      "source": [
        "\n# `__sklearn_is_fitted__` \u0643\u0640 API \u0644\u0644\u0645\u0637\u0648\u0631\u064a\u0646\n\n\u0637\u0631\u064a\u0642\u0629 `__sklearn_is_fitted__` \u0647\u064a \u0627\u062a\u0641\u0627\u0642\u064a\u0629 \u0645\u0633\u062a\u062e\u062f\u0645\u0629 \u0641\u064a scikit-learn \u0644\u0644\u062a\u062d\u0642\u0642 \u0645\u0645\u0627 \u0625\u0630\u0627 \u0643\u0627\u0646 \u0643\u0627\u0626\u0646 \u0627\u0644\u0645\u064f\u0642\u062f\u0631 (estimator) \u0642\u062f \u062a\u0645 \u062a\u0643\u064a\u064a\u0641\u0647 (fitted) \u0623\u0645 \u0644\u0627. \u0647\u0630\u0647 \u0627\u0644\u0637\u0631\u064a\u0642\u0629 \u064a\u062a\u0645 \u062a\u0646\u0641\u064a\u0630\u0647\u0627 \u0639\u0627\u062f\u0629\u064b \u0641\u064a \u0641\u0626\u0627\u062a \u0627\u0644\u0645\u064f\u0642\u062f\u0631\u0627\u062a \u0627\u0644\u0645\u062e\u0635\u0635\u0629 \u0627\u0644\u062a\u064a \u064a\u062a\u0645 \u0628\u0646\u0627\u0624\u0647\u0627 \u0639\u0644\u0649 \u0641\u0626\u0627\u062a \u0627\u0644\u0642\u0627\u0639\u062f\u0629 \u0641\u064a scikit-learn \u0645\u062b\u0644 `BaseEstimator` \u0623\u0648 \u0641\u0626\u0627\u062a\u0647\u0627 \u0627\u0644\u0641\u0631\u0639\u064a\u0629.\n\n\u064a\u062c\u0628 \u0639\u0644\u0649 \u0627\u0644\u0645\u0637\u0648\u0631\u064a\u0646 \u0627\u0633\u062a\u062e\u062f\u0627\u0645 :func:`~sklearn.utils.validation.check_is_fitted` \u0641\u064a \u0628\u062f\u0627\u064a\u0629 \u062c\u0645\u064a\u0639 \u0627\u0644\u0637\u0631\u0642 \u0628\u0627\u0633\u062a\u062b\u0646\u0627\u0621 `fit`. \u0625\u0630\u0627 \u0643\u0627\u0646\u0648\u0627 \u0628\u062d\u0627\u062c\u0629 \u0625\u0644\u0649 \u062a\u062e\u0635\u064a\u0635 \u0623\u0648 \u062a\u0633\u0631\u064a\u0639 \u0639\u0645\u0644\u064a\u0629 \u0627\u0644\u062a\u062d\u0642\u0642\u060c \u064a\u0645\u0643\u0646\u0647\u0645 \u062a\u0646\u0641\u064a\u0630 \u0637\u0631\u064a\u0642\u0629 `__sklearn_is_fitted__` \u0643\u0645\u0627 \u0647\u0648 \u0645\u0648\u0636\u062d \u0623\u062f\u0646\u0627\u0647.\n\n\u0641\u064a \u0647\u0630\u0627 \u0627\u0644\u0645\u062b\u0627\u0644\u060c \u064a\u064f\u0638\u0647\u0631 \u0627\u0644\u0645\u064f\u0642\u062f\u0631 \u0627\u0644\u0645\u062e\u0635\u0635 \u0627\u0633\u062a\u062e\u062f\u0627\u0645 \u0637\u0631\u064a\u0642\u0629 `__sklearn_is_fitted__` \u0648\u0648\u0638\u064a\u0641\u0629 \u0641\u0627\u0626\u062f\u0629 `check_is_fitted` \u0643\u0640 APIs \u0644\u0644\u0645\u0637\u0648\u0631\u064a\u0646. \u0637\u0631\u064a\u0642\u0629 `__sklearn_is_fitted__` \u062a\u062a\u062d\u0642\u0642 \u0645\u0646 \u062d\u0627\u0644\u0629 \u0627\u0644\u062a\u0643\u064a\u064a\u0641 (fitted) \u0645\u0646 \u062e\u0644\u0627\u0644 \u0627\u0644\u062a\u062d\u0642\u0642 \u0645\u0646 \u0648\u062c\u0648\u062f \u0627\u0644\u062e\u0627\u0635\u064a\u0629 `_is_fitted`.\n\n# %%\n# \u0645\u062b\u0627\u0644 \u0639\u0644\u0649 \u0645\u064f\u0642\u062f\u0631 \u0645\u062e\u0635\u0635 \u064a\u0646\u0641\u0630 \u0645\u064f\u0635\u0646\u0641 \u0628\u0633\u064a\u0637\n# ------------------------------------------------------------\n# \u0647\u0630\u0627 \u0627\u0644\u062c\u0632\u0621 \u0645\u0646 \u0627\u0644\u0643\u0648\u062f \u064a\u064f\u0639\u0631\u0651\u0641 \u0641\u0626\u0629 \u0645\u064f\u0642\u062f\u0631 \u0645\u062e\u0635\u0635 \u062a\u0633\u0645\u0649 `CustomEstimator`\n# \u0648\u0627\u0644\u062a\u064a \u062a\u0645\u062f\u062f \u0643\u0644\u0627\u064b \u0645\u0646 `BaseEstimator` \u0648 `ClassifierMixin` \u0645\u0646\n# scikit-learn \u0648\u062a\u064f\u0638\u0647\u0631 \u0627\u0633\u062a\u062e\u062f\u0627\u0645 \u0637\u0631\u064a\u0642\u0629 `__sklearn_is_fitted__`\n# \u0648\u0648\u0638\u064a\u0641\u0629 \u0641\u0627\u0626\u062f\u0629 `check_is_fitted`.\n"
      ]
    },
    {
      "cell_type": "code",
      "execution_count": null,
      "metadata": {
        "collapsed": false
      },
      "outputs": [],
      "source": [
        "# \u0627\u0644\u0645\u0624\u0644\u0641\u0648\u0646: \u0645\u0637\u0648\u0631\u0648 scikit-learn\n# \u0645\u0639\u0631\u0641 \u0627\u0644\u062a\u0631\u062e\u064a\u0635: BSD-3-Clause\n\nfrom sklearn.base import BaseEstimator, ClassifierMixin\nfrom sklearn.utils.validation import check_is_fitted\n\n\nclass CustomEstimator(BaseEstimator, ClassifierMixin):\n    def __init__(self, parameter=1):\n        self.parameter = parameter\n\n    def fit(self, X, y):\n        \"\"\"\n        \u062a\u0643\u064a\u064a\u0641 \u0627\u0644\u0645\u064f\u0642\u062f\u0631 \u0645\u0639 \u0628\u064a\u0627\u0646\u0627\u062a \u0627\u0644\u062a\u062f\u0631\u064a\u0628.\n        \"\"\"\n        self.classes_ = sorted(set(y))\n        # \u062e\u0627\u0635\u064a\u0629 \u0645\u062e\u0635\u0635\u0629 \u0644\u062a\u062a\u0628\u0639 \u0645\u0627 \u0625\u0630\u0627 \u0643\u0627\u0646 \u0627\u0644\u0645\u064f\u0642\u062f\u0631 \u0645\u064f\u0643\u064a\u0651\u0641\u0627\u064b\n        self._is_fitted = True\n        return self\n\n    def predict(self, X):\n        \"\"\"\n        \u0625\u062c\u0631\u0627\u0621 \u0627\u0644\u062a\u0648\u0642\u0639\u0627\u062a\n\n        \u0625\u0630\u0627 \u0644\u0645 \u064a\u0643\u0646 \u0627\u0644\u0645\u064f\u0642\u062f\u0631 \u0645\u064f\u0643\u064a\u0651\u0641\u0627\u064b\u060c \u0641\u064a\u062a\u0645 \u0625\u062b\u0627\u0631\u0629 \u062e\u0637\u0623 NotFittedError\n        \"\"\"\n        check_is_fitted(self)\n        # \u0645\u0646\u0637\u0642 \u0627\u0644\u062a\u0648\u0642\u0639\n        predictions = [self.classes_[0]] * len(X)\n        return predictions\n\n    def score(self, X, y):\n        \"\"\"\n        \u062d\u0633\u0627\u0628 \u0627\u0644\u0646\u062a\u064a\u062c\u0629\n\n        \u0625\u0630\u0627 \u0644\u0645 \u064a\u0643\u0646 \u0627\u0644\u0645\u064f\u0642\u062f\u0631 \u0645\u064f\u0643\u064a\u0651\u0641\u0627\u064b\u060c \u0641\u064a\u062a\u0645 \u0625\u062b\u0627\u0631\u0629 \u062e\u0637\u0623 NotFittedError\n        \"\"\"\n        check_is_fitted(self)\n        # \u0645\u0646\u0637\u0642 \u062d\u0633\u0627\u0628 \u0627\u0644\u0646\u062a\u064a\u062c\u0629\n        return 0.5\n\n    def __sklearn_is_fitted__(self):\n        \"\"\"\n        \u0627\u0644\u062a\u062d\u0642\u0642 \u0645\u0646 \u062d\u0627\u0644\u0629 \u0627\u0644\u062a\u0643\u064a\u064a\u0641 \u0648\u0625\u0631\u062c\u0627\u0639 \u0642\u064a\u0645\u0629 \u0645\u0646\u0637\u0642\u064a\u0629.\n        \"\"\"\n        return hasattr(self, \"_is_fitted\") and self._is_fitted"
      ]
    }
  ],
  "metadata": {
    "kernelspec": {
      "display_name": "Python 3",
      "language": "python",
      "name": "python3"
    },
    "language_info": {
      "codemirror_mode": {
        "name": "ipython",
        "version": 3
      },
      "file_extension": ".py",
      "mimetype": "text/x-python",
      "name": "python",
      "nbconvert_exporter": "python",
      "pygments_lexer": "ipython3",
      "version": "3.10.13"
    }
  },
  "nbformat": 4,
  "nbformat_minor": 0
}