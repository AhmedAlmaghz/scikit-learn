{
  "cells": [
    {
      "cell_type": "markdown",
      "metadata": {},
      "source": [
        "<div class='alert alert-warning'>\n\n# JupyterLite warning\n\nRunning the scikit-learn examples in JupyterLite is experimental and you may encounter some unexpected behavior.\n\nThe main difference is that imports will take a lot longer than usual, for example the first `import sklearn` can take roughly 10-20s.\n\nIf you notice problems, feel free to open an [issue](https://github.com/scikit-learn/scikit-learn/issues/new/choose) about it.\n</div>"
      ]
    },
    {
      "cell_type": "code",
      "execution_count": null,
      "metadata": {
        "collapsed": false
      },
      "outputs": [],
      "source": [
        "# JupyterLite-specific code\nimport matplotlib\nimport pandas"
      ]
    },
    {
      "cell_type": "markdown",
      "metadata": {},
      "source": [
        "\n# \u0639\u0645\u0644\u064a\u0627\u062a \u0627\u0644\u062a\u0642\u0633\u064a\u0645 \u0627\u0644\u0645\u062a\u062a\u0627\u0644\u064a\u0629\n\n\u064a\u0648\u0636\u062d \u0647\u0630\u0627 \u0627\u0644\u0645\u062b\u0627\u0644 \u0643\u064a\u0641 \u062a\u0628\u062d\u062b \u0639\u0645\u0644\u064a\u0629 \u0627\u0644\u062a\u0642\u0633\u064a\u0645 \u0627\u0644\u0645\u062a\u062a\u0627\u0644\u064a\u0629 (:class:`~sklearn.model_selection.HalvingGridSearchCV` \u0648 :class:`~sklearn.model_selection.HalvingRandomSearchCV`) \u0628\u0634\u0643\u0644 \u062a\u0643\u0631\u0627\u0631\u064a \u0639\u0646 \u0623\u0641\u0636\u0644 \u0645\u062c\u0645\u0648\u0639\u0629 \u0645\u0646 \u0627\u0644\u0645\u0639\u0644\u0645\u0627\u062a \u0645\u0646 \u0628\u064a\u0646 \u0627\u0644\u0639\u062f\u064a\u062f \u0645\u0646 \u0627\u0644\u0645\u0631\u0634\u062d\u064a\u0646.\n\n# \u0627\u0644\u0645\u0624\u0644\u0641\u0648\u0646: \u0645\u0637\u0648\u0631\u064a \u0633\u0643\u0627\u064a\u0644\u0631\u0646\n# \u0645\u0639\u0631\u0641 \u0627\u0644\u062a\u0631\u062e\u064a\u0635: BSD-3-Clause\n"
      ]
    },
    {
      "cell_type": "code",
      "execution_count": null,
      "metadata": {
        "collapsed": false
      },
      "outputs": [],
      "source": [
        "import matplotlib.pyplot as plt\nimport numpy as np\nimport pandas as pd\nfrom scipy.stats import randint\n\nfrom sklearn import datasets\nfrom sklearn.ensemble import RandomForestClassifier\nfrom sklearn.experimental import enable_halving_search_cv  # noqa\nfrom sklearn.model_selection import HalvingRandomSearchCV"
      ]
    },
    {
      "cell_type": "markdown",
      "metadata": {},
      "source": [
        "\u0646\u062d\u0646 \u0646\u062d\u062f\u062f \u0623\u0648\u0644\u0627\u064b \u0645\u0633\u0627\u062d\u0629 \u0627\u0644\u0645\u0639\u0644\u0645\u0627\u062a \u0648\u0646\u062f\u0631\u0628 \u0645\u062b\u0627\u0644\u0627\u064b \u0639\u0644\u0649:\n:class:`~sklearn.model_selection.HalvingRandomSearchCV`.\n\n"
      ]
    },
    {
      "cell_type": "code",
      "execution_count": null,
      "metadata": {
        "collapsed": false
      },
      "outputs": [],
      "source": [
        "rng = np.random.RandomState(0)\n\nX, y = datasets.make_classification(n_samples=400, n_features=12, random_state=rng)\n\nclf = RandomForestClassifier(n_estimators=20, random_state=rng)\n\nparam_dist = {\n    \"max_depth\": [3, None],\n    \"max_features\": randint(1, 6),\n    \"min_samples_split\": randint(2, 11),\n    \"bootstrap\": [True, False],\n    \"criterion\": [\"gini\", \"entropy\"],\n}\n\nrsh = HalvingRandomSearchCV(\n    estimator=clf, param_distributions=param_dist, factor=2, random_state=rng\n)\nrsh.fit(X, y)"
      ]
    },
    {
      "cell_type": "markdown",
      "metadata": {},
      "source": [
        "\u064a\u0645\u0643\u0646\u0646\u0627 \u0627\u0644\u0622\u0646 \u0627\u0633\u062a\u062e\u062f\u0627\u0645 \u062e\u0627\u0635\u064a\u0629 `cv_results_` \u0644\u0645\u064f\u0642\u062f\u0631 \u0627\u0644\u0628\u062d\u062b \u0644\u0641\u062d\u0635 \u0648\u062a\u0635\u0648\u064a\u0631 \u062a\u0637\u0648\u0631 \u0627\u0644\u0628\u062d\u062b.\n\n"
      ]
    },
    {
      "cell_type": "code",
      "execution_count": null,
      "metadata": {
        "collapsed": false
      },
      "outputs": [],
      "source": [
        "results = pd.DataFrame(rsh.cv_results_)\nresults[\"params_str\"] = results.params.apply(str)\nresults.drop_duplicates(subset=(\"params_str\", \"iter\"), inplace=True)\nmean_scores = results.pivot(\n    index=\"iter\", columns=\"params_str\", values=\"mean_test_score\"\n)\nax = mean_scores.plot(legend=False, alpha=0.6)\n\nlabels = [\n    f\"iter={i}\\nn_samples={rsh.n_resources_[i]}\\nn_candidates={rsh.n_candidates_[i]}\"\n    for i in range(rsh.n_iterations_)\n]\n\nax.set_xticks(range(rsh.n_iterations_))\nax.set_xticklabels(labels, rotation=45, multialignment=\"left\")\nax.set_title(\"Scores of candidates over iterations\")\nax.set_ylabel(\"mean test score\", fontsize=15)\nax.set_xlabel(\"iterations\", fontsize=15)\nplt.tight_layout()\nplt.show()"
      ]
    },
    {
      "cell_type": "markdown",
      "metadata": {},
      "source": [
        "## \u0639\u062f\u062f \u0627\u0644\u0645\u0631\u0634\u062d\u064a\u0646 \u0648\u0643\u0645\u064a\u0629 \u0627\u0644\u0645\u0648\u0627\u0631\u062f \u0641\u064a \u0643\u0644 \u062a\u0643\u0631\u0627\u0631\n\n\u0641\u064a \u0627\u0644\u062a\u0643\u0631\u0627\u0631 \u0627\u0644\u0623\u0648\u0644\u060c \u064a\u062a\u0645 \u0627\u0633\u062a\u062e\u062f\u0627\u0645 \u0643\u0645\u064a\u0629 \u0635\u063a\u064a\u0631\u0629 \u0645\u0646 \u0627\u0644\u0645\u0648\u0627\u0631\u062f. \u0627\u0644\u0645\u0648\u0631\u062f \u0647\u0646\u0627 \u0647\u0648 \u0639\u062f\u062f \u0627\u0644\u0639\u064a\u0646\u0627\u062a \u0627\u0644\u062a\u064a \u064a\u062a\u0645 \u062a\u062f\u0631\u064a\u0628 \u0627\u0644\u0645\u064f\u0642\u062f\u0631\u0627\u062a \u0639\u0644\u064a\u0647\u0627. \u064a\u062a\u0645 \u062a\u0642\u064a\u064a\u0645 \u062c\u0645\u064a\u0639 \u0627\u0644\u0645\u0631\u0634\u062d\u064a\u0646.\n\n\u0641\u064a \u0627\u0644\u062a\u0643\u0631\u0627\u0631 \u0627\u0644\u062b\u0627\u0646\u064a\u060c \u064a\u062a\u0645 \u062a\u0642\u064a\u064a\u0645 \u0646\u0635\u0641 \u0623\u0641\u0636\u0644 \u0627\u0644\u0645\u0631\u0634\u062d\u064a\u0646 \u0641\u0642\u0637.\n\u064a\u062a\u0645 \u0645\u0636\u0627\u0639\u0641\u0629 \u0639\u062f\u062f \u0627\u0644\u0645\u0648\u0627\u0631\u062f \u0627\u0644\u0645\u062e\u0635\u0635\u0629: \u064a\u062a\u0645 \u062a\u0642\u064a\u064a\u0645 \u0627\u0644\u0645\u0631\u0634\u062d\u064a\u0646 \u0639\u0644\u0649 \u0636\u0639\u0641 \u0639\u062f\u062f \u0627\u0644\u0639\u064a\u0646\u0627\u062a.\n\n\u062a\u062a\u0643\u0631\u0631 \u0647\u0630\u0647 \u0627\u0644\u0639\u0645\u0644\u064a\u0629 \u062d\u062a\u0649 \u0627\u0644\u062a\u0643\u0631\u0627\u0631 \u0627\u0644\u0623\u062e\u064a\u0631\u060c \u062d\u064a\u062b \u064a\u062a\u0628\u0642\u0649 \u0645\u0631\u0634\u062d\u0627\u0646 \u0641\u0642\u0637. \u0627\u0644\u0645\u0631\u0634\u062d \u0627\u0644\u0623\u0641\u0636\u0644 \u0647\u0648 \u0627\u0644\u0645\u0631\u0634\u062d \u0627\u0644\u0630\u064a \u064a\u062d\u0635\u0644 \u0639\u0644\u0649 \u0623\u0641\u0636\u0644 \u0646\u062a\u064a\u062c\u0629 \u0641\u064a \u0627\u0644\u062a\u0643\u0631\u0627\u0631 \u0627\u0644\u0623\u062e\u064a\u0631.\n"
      ]
    }
  ],
  "metadata": {
    "kernelspec": {
      "display_name": "Python 3",
      "language": "python",
      "name": "python3"
    },
    "language_info": {
      "codemirror_mode": {
        "name": "ipython",
        "version": 3
      },
      "file_extension": ".py",
      "mimetype": "text/x-python",
      "name": "python",
      "nbconvert_exporter": "python",
      "pygments_lexer": "ipython3",
      "version": "3.10.13"
    }
  },
  "nbformat": 4,
  "nbformat_minor": 0
}