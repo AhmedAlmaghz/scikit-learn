{
  "cells": [
    {
      "cell_type": "markdown",
      "metadata": {},
      "source": [
        "<div class='alert alert-warning'>\n\n# JupyterLite warning\n\nRunning the scikit-learn examples in JupyterLite is experimental and you may encounter some unexpected behavior.\n\nThe main difference is that imports will take a lot longer than usual, for example the first `import sklearn` can take roughly 10-20s.\n\nIf you notice problems, feel free to open an [issue](https://github.com/scikit-learn/scikit-learn/issues/new/choose) about it.\n</div>"
      ]
    },
    {
      "cell_type": "code",
      "execution_count": null,
      "metadata": {
        "collapsed": false
      },
      "outputs": [],
      "source": [
        "# JupyterLite-specific code\nimport matplotlib\nimport pandas"
      ]
    },
    {
      "cell_type": "markdown",
      "metadata": {},
      "source": [
        "\n# \u0639\u062f\u0645 \u0627\u0644\u0645\u0644\u0627\u0621\u0645\u0629 \u0645\u0642\u0627\u0628\u0644 \u0627\u0644\u0625\u0641\u0631\u0627\u0637 \u0641\u064a \u0627\u0644\u0645\u0644\u0627\u0621\u0645\u0629\n\n\u0647\u0630\u0627 \u0627\u0644\u0645\u062b\u0627\u0644 \u064a\u0648\u0636\u062d \u0645\u0634\u0643\u0644\u062a\u064a \u0639\u062f\u0645 \u0627\u0644\u0645\u0644\u0627\u0621\u0645\u0629 \u0648\u0627\u0644\u0625\u0641\u0631\u0627\u0637 \u0641\u064a \u0627\u0644\u0645\u0644\u0627\u0621\u0645\u0629 \u0648\u0643\u064a\u0641 \u064a\u0645\u0643\u0646\u0646\u0627 \u0627\u0633\u062a\u062e\u062f\u0627\u0645 \u0627\u0644\u0627\u0646\u062d\u062f\u0627\u0631 \u0627\u0644\u062e\u0637\u064a \u0645\u0639 \u0627\u0644\u0645\u064a\u0632\u0627\u062a \u0645\u062a\u0639\u062f\u062f\u0629 \u0627\u0644\u062d\u062f\u0648\u062f \u0644\u062a\u0642\u0631\u064a\u0628 \u0627\u0644\u062f\u0648\u0627\u0644 \u063a\u064a\u0631 \u0627\u0644\u062e\u0637\u064a\u0629. \u064a\u0648\u0636\u062d \u0627\u0644\u0631\u0633\u0645 \u0627\u0644\u0628\u064a\u0627\u0646\u064a \u0627\u0644\u062f\u0627\u0644\u0629 \u0627\u0644\u062a\u064a \u0646\u0631\u064a\u062f \u062a\u0642\u0631\u064a\u0628\u0647\u0627\u060c \u0648\u0627\u0644\u062a\u064a \u0647\u064a \u062c\u0632\u0621 \u0645\u0646 \u062f\u0627\u0644\u0629 \u062c\u064a\u0628 \u0627\u0644\u062a\u0645\u0627\u0645. \u0628\u0627\u0644\u0625\u0636\u0627\u0641\u0629 \u0625\u0644\u0649 \u0630\u0644\u0643\u060c \u064a\u062a\u0645 \u0639\u0631\u0636 \u0627\u0644\u0639\u064a\u0646\u0627\u062a \u0645\u0646 \u0627\u0644\u062f\u0627\u0644\u0629 \u0627\u0644\u062d\u0642\u064a\u0642\u064a\u0629 \u0648\u062a\u0642\u062f\u064a\u0631\u0627\u062a \u0627\u0644\u0646\u0645\u0627\u0630\u062c \u0627\u0644\u0645\u062e\u062a\u0644\u0641\u0629. \u062a\u0645\u062a\u0644\u0643 \u0627\u0644\u0646\u0645\u0627\u0630\u062c \u0645\u064a\u0632\u0627\u062a \u0645\u062a\u0639\u062f\u062f\u0629 \u0627\u0644\u062d\u062f\u0648\u062f \u0628\u062f\u0631\u062c\u0627\u062a \u0645\u062e\u062a\u0644\u0641\u0629. \u064a\u0645\u0643\u0646\u0646\u0627 \u0623\u0646 \u0646\u0631\u0649 \u0623\u0646 \u0627\u0644\u062f\u0627\u0644\u0629 \u0627\u0644\u062e\u0637\u064a\u0629 (\u0645\u062a\u0639\u062f\u062f\u0629 \u0627\u0644\u062d\u062f\u0648\u062f \u0645\u0646 \u0627\u0644\u062f\u0631\u062c\u0629 1) \u063a\u064a\u0631 \u0643\u0627\u0641\u064a\u0629 \u0644\u0645\u0644\u0627\u0621\u0645\u0629 \u0627\u0644\u0639\u064a\u0646\u0627\u062a \u0627\u0644\u062a\u062f\u0631\u064a\u0628\u064a\u0629. \u064a\u064f\u0637\u0644\u0642 \u0639\u0644\u0649 \u0647\u0630\u0627 **\u0639\u062f\u0645 \u0627\u0644\u0645\u0644\u0627\u0621\u0645\u0629**. \u062a\u0642\u062a\u0631\u0628 \u0645\u062a\u0639\u062f\u062f\u0629 \u0627\u0644\u062d\u062f\u0648\u062f \u0645\u0646 \u0627\u0644\u062f\u0631\u062c\u0629 4 \u0645\u0646 \u0627\u0644\u062f\u0627\u0644\u0629 \u0627\u0644\u062d\u0642\u064a\u0642\u064a\u0629 \u0628\u0634\u0643\u0644 \u0645\u062b\u0627\u0644\u064a \u062a\u0642\u0631\u064a\u0628\u064b\u0627. \u0648\u0645\u0639 \u0630\u0644\u0643\u060c \u0628\u0627\u0644\u0646\u0633\u0628\u0629 \u0644\u0644\u062f\u0631\u062c\u0627\u062a \u0627\u0644\u0623\u0639\u0644\u0649\u060c \u0641\u0625\u0646 \u0627\u0644\u0646\u0645\u0648\u0630\u062c \u0633\u0648\u0641 **\u064a\u0628\u0627\u0644\u063a \u0641\u064a \u0627\u0644\u0645\u0644\u0627\u0621\u0645\u0629** \u0644\u0628\u064a\u0627\u0646\u0627\u062a \u0627\u0644\u062a\u062f\u0631\u064a\u0628\u060c \u0623\u064a \u0623\u0646\u0647 \u064a\u062a\u0639\u0644\u0645 \u0636\u0648\u0636\u0627\u0621 \u0628\u064a\u0627\u0646\u0627\u062a \u0627\u0644\u062a\u062f\u0631\u064a\u0628.\n\n\u0646\u0642\u064a\u0651\u0645 **\u0627\u0644\u0625\u0641\u0631\u0627\u0637 \u0641\u064a \u0627\u0644\u0645\u0644\u0627\u0621\u0645\u0629** \u0648 **\u0639\u062f\u0645 \u0627\u0644\u0645\u0644\u0627\u0621\u0645\u0629** \u0628\u0634\u0643\u0644 \u0643\u0645\u064a \u0628\u0627\u0633\u062a\u062e\u062f\u0627\u0645 \u0627\u0644\u062a\u062d\u0642\u0642 \u0627\u0644\u0645\u062a\u0642\u0627\u0637\u0639. \u0646\u062d\u0633\u0628 \u0645\u062a\u0648\u0633\u0637 \u0645\u0631\u0628\u0639 \u0627\u0644\u062e\u0637\u0623 (MSE) \u0639\u0644\u0649 \u0645\u062c\u0645\u0648\u0639\u0629 \u0627\u0644\u062a\u062d\u0642\u0642\u060c \u0643\u0644\u0645\u0627 \u0643\u0627\u0646 \u0623\u0639\u0644\u0649\u060c \u0643\u0644\u0645\u0627 \u0642\u0644\u062a \u0627\u062d\u062a\u0645\u0627\u0644\u064a\u0629 \u062a\u0639\u0645\u064a\u0645 \u0627\u0644\u0646\u0645\u0648\u0630\u062c \u0628\u0634\u0643\u0644 \u0635\u062d\u064a\u062d \u0645\u0646 \u0628\u064a\u0627\u0646\u0627\u062a \u0627\u0644\u062a\u062f\u0631\u064a\u0628.\n"
      ]
    },
    {
      "cell_type": "code",
      "execution_count": null,
      "metadata": {
        "collapsed": false
      },
      "outputs": [],
      "source": [
        "# \u0627\u0644\u0645\u0624\u0644\u0641\u0648\u0646: \u0645\u0637\u0648\u0631\u064a \u0633\u0643\u0627\u064a\u0644\u0631\u0646\n# \u0645\u0639\u0631\u0641 \u0627\u0644\u062a\u0631\u062e\u064a\u0635: BSD-3-Clause\n\nimport matplotlib.pyplot as plt\nimport numpy as np\n\nfrom sklearn.linear_model import LinearRegression\nfrom sklearn.model_selection import cross_val_score\nfrom sklearn.pipeline import Pipeline\nfrom sklearn.preprocessing import PolynomialFeatures\n\n\ndef true_fun(X):\n    return np.cos(1.5 * np.pi * X)\n\n\nnp.random.seed(0)\n\nn_samples = 30\ndegrees = [1, 4, 15]\n\nX = np.sort(np.random.rand(n_samples))\ny = true_fun(X) + np.random.randn(n_samples) * 0.1\n\nplt.figure(figsize=(14, 5))\nfor i in range(len(degrees)):\n    ax = plt.subplot(1, len(degrees), i + 1)\n    plt.setp(ax, xticks=(), yticks=())\n\n    polynomial_features = PolynomialFeatures(degree=degrees[i], include_bias=False)\n    linear_regression = LinearRegression()\n    pipeline = Pipeline(\n        [\n            (\"polynomial_features\", polynomial_features),\n            (\"linear_regression\", linear_regression),\n        ]\n    )\n    pipeline.fit(X[:, np.newaxis], y)\n\n    # \u062a\u0642\u064a\u064a\u0645 \u0627\u0644\u0646\u0645\u0627\u0630\u062c \u0628\u0627\u0633\u062a\u062e\u062f\u0627\u0645 \u0627\u0644\u062a\u062d\u0642\u0642 \u0627\u0644\u0645\u062a\u0642\u0627\u0637\u0639\n    scores = cross_val_score(\n        pipeline, X[:, np.newaxis], y, scoring=\"neg_mean_squared_error\", cv=10\n    )\n\n    X_test = np.linspace(0, 1, 100)\n    plt.plot(X_test, pipeline.predict(X_test[:, np.newaxis]), label=\"Model\")\n    plt.plot(X_test, true_fun(X_test), label=\"True function\")\n    plt.scatter(X, y, edgecolor=\"b\", s=20, label=\"Samples\")\n    plt.xlabel(\"x\")\n    plt.ylabel(\"y\")\n    plt.xlim((0, 1))\n    plt.ylim((-2, 2))\n    plt.legend(loc=\"best\")\n    plt.title(\n        \"Degree {}\\nMSE = {:.2e}(+/- {:.2e})\".format(\n            degrees[i], -scores.mean(), scores.std()\n        )\n    )\nplt.show()"
      ]
    }
  ],
  "metadata": {
    "kernelspec": {
      "display_name": "Python 3",
      "language": "python",
      "name": "python3"
    },
    "language_info": {
      "codemirror_mode": {
        "name": "ipython",
        "version": 3
      },
      "file_extension": ".py",
      "mimetype": "text/x-python",
      "name": "python",
      "nbconvert_exporter": "python",
      "pygments_lexer": "ipython3",
      "version": "3.10.13"
    }
  },
  "nbformat": 4,
  "nbformat_minor": 0
}