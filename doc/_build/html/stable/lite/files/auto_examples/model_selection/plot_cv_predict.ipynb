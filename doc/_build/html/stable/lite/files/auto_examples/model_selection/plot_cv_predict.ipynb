{
  "cells": [
    {
      "cell_type": "markdown",
      "metadata": {},
      "source": [
        "<div class='alert alert-warning'>\n\n# JupyterLite warning\n\nRunning the scikit-learn examples in JupyterLite is experimental and you may encounter some unexpected behavior.\n\nThe main difference is that imports will take a lot longer than usual, for example the first `import sklearn` can take roughly 10-20s.\n\nIf you notice problems, feel free to open an [issue](https://github.com/scikit-learn/scikit-learn/issues/new/choose) about it.\n</div>"
      ]
    },
    {
      "cell_type": "code",
      "execution_count": null,
      "metadata": {
        "collapsed": false
      },
      "outputs": [],
      "source": [
        "# JupyterLite-specific code\nimport matplotlib\nimport pandas"
      ]
    },
    {
      "cell_type": "markdown",
      "metadata": {},
      "source": [
        "\n# \u0631\u0633\u0645 \u062a\u0646\u0628\u0624\u0627\u062a \u0627\u0644\u0635\u0646\u062f\u0648\u0642 \u0627\u0644\u0623\u0633\u0648\u062f\n\n\u0647\u0630\u0627 \u0627\u0644\u0645\u062b\u0627\u0644 \u064a\u0648\u0636\u062d \u0643\u064a\u0641\u064a\u0629 \u0627\u0633\u062a\u062e\u062f\u0627\u0645\n:func:`~sklearn.model_selection.cross_val_predict` \u0645\u0639\n:class:`~sklearn.metrics.PredictionErrorDisplay` \u0644\u062a\u0635\u0648\u0631 \u0623\u062e\u0637\u0627\u0621 \u0627\u0644\u062a\u0646\u0628\u0624.\n"
      ]
    },
    {
      "cell_type": "code",
      "execution_count": null,
      "metadata": {
        "collapsed": false
      },
      "outputs": [],
      "source": [
        "# \u0627\u0644\u0645\u0624\u0644\u0641\u0648\u0646: \u0645\u0637\u0648\u0631\u064a \u0633\u0643\u0627\u064a\u0644\u0631\u0646\n# \u0645\u0639\u0631\u0641 \u0627\u0644\u062a\u0631\u062e\u064a\u0635: BSD-3-Clause"
      ]
    },
    {
      "cell_type": "markdown",
      "metadata": {},
      "source": [
        "\u0633\u0646\u0642\u0648\u0645 \u0628\u062a\u062d\u0645\u064a\u0644 \u0645\u062c\u0645\u0648\u0639\u0629 \u0628\u064a\u0627\u0646\u0627\u062a \u0645\u0631\u0636 \u0627\u0644\u0633\u0643\u0631\u064a \u0648\u0625\u0646\u0634\u0627\u0621 \u0645\u062b\u064a\u0644 \u0644\u0646\u0645\u0648\u0630\u062c \u0627\u0644\u0627\u0646\u062d\u062f\u0627\u0631 \u0627\u0644\u062e\u0637\u064a.\n\n"
      ]
    },
    {
      "cell_type": "code",
      "execution_count": null,
      "metadata": {
        "collapsed": false
      },
      "outputs": [],
      "source": [
        "from sklearn.datasets import load_diabetes\nfrom sklearn.linear_model import LinearRegression\n\nX, y = load_diabetes(return_X_y=True)\nlr = LinearRegression()"
      ]
    },
    {
      "cell_type": "markdown",
      "metadata": {},
      "source": [
        ":func:`~sklearn.model_selection.cross_val_predict` \u064a\u0639\u064a\u062f \u0645\u0635\u0641\u0648\u0641\u0629 \u0628\u0646\u0641\u0633 \u062d\u062c\u0645 `y` \u062d\u064a\u062b \u0643\u0644 \u0625\u062f\u062e\u0627\u0644 \u0647\u0648 \u062a\u0646\u0628\u0624 \u062a\u0645 \u0627\u0644\u062d\u0635\u0648\u0644 \u0639\u0644\u064a\u0647 \u0645\u0646 \u062e\u0644\u0627\u0644 \u0627\u0644\u0635\u0646\u062f\u0648\u0642 \u0627\u0644\u0623\u0633\u0648\u062f.\n\n"
      ]
    },
    {
      "cell_type": "code",
      "execution_count": null,
      "metadata": {
        "collapsed": false
      },
      "outputs": [],
      "source": [
        "from sklearn.model_selection import cross_val_predict\n\ny_pred = cross_val_predict(lr, X, y, cv=10)"
      ]
    },
    {
      "cell_type": "markdown",
      "metadata": {},
      "source": [
        "\u0628\u0645\u0627 \u0623\u0646 `cv=10`\u060c \u0641\u0647\u0630\u0627 \u064a\u0639\u0646\u064a \u0623\u0646\u0646\u0627 \u0642\u0645\u0646\u0627 \u0628\u062a\u062f\u0631\u064a\u0628 10 \u0646\u0645\u0627\u0630\u062c \u0648\u062a\u0645 \u0627\u0633\u062a\u062e\u062f\u0627\u0645 \u0643\u0644 \u0646\u0645\u0648\u0630\u062c \u0644\u0644\u062a\u0646\u0628\u0624 \u0639\u0644\u0649 \u0648\u0627\u062d\u062f\u0629 \u0645\u0646 \u0627\u0644\u0637\u064a\u0627\u062a \u0627\u0644\u0639\u0634\u0631. \u064a\u0645\u0643\u0646\u0646\u0627 \u0627\u0644\u0622\u0646 \u0627\u0633\u062a\u062e\u062f\u0627\u0645\n:class:`~sklearn.metrics.PredictionErrorDisplay` \u0644\u062a\u0635\u0648\u0631 \u0623\u062e\u0637\u0627\u0621 \u0627\u0644\u062a\u0646\u0628\u0624.\n\n"
      ]
    },
    {
      "cell_type": "code",
      "execution_count": null,
      "metadata": {
        "collapsed": false
      },
      "outputs": [],
      "source": [
        "# \u0639\u0644\u0649 \u0627\u0644\u0645\u062d\u0648\u0631 \u0627\u0644\u0623\u064a\u0633\u0631\u060c \u0646\u0631\u0633\u0645 \u0627\u0644\u0642\u064a\u0645 \u0627\u0644\u0645\u0644\u0627\u062d\u0638\u0629 :math:`y` \u0645\u0642\u0627\u0628\u0644 \u0627\u0644\u0642\u064a\u0645 \u0627\u0644\u0645\u062a\u0648\u0642\u0639\u0629\n# :math:`\\hat{y}` \u0627\u0644\u062a\u064a \u062a\u0639\u0637\u064a\u0647\u0627 \u0627\u0644\u0646\u0645\u0627\u0630\u062c. \u0639\u0644\u0649 \u0627\u0644\u0645\u062d\u0648\u0631 \u0627\u0644\u0623\u064a\u0645\u0646\u060c \u0646\u0631\u0633\u0645\n# \u0627\u0644\u0645\u062a\u0628\u0642\u064a\u0627\u062a (\u0623\u064a \u0627\u0644\u0641\u0631\u0642 \u0628\u064a\u0646 \u0627\u0644\u0642\u064a\u0645 \u0627\u0644\u0645\u0644\u0627\u062d\u0638\u0629 \u0648\u0627\u0644\u0642\u064a\u0645 \u0627\u0644\u0645\u062a\u0648\u0642\u0639\u0629) \u0645\u0642\u0627\u0628\u0644 \u0627\u0644\u0642\u064a\u0645 \u0627\u0644\u0645\u062a\u0648\u0642\u0639\u0629.\nimport matplotlib.pyplot as plt\n\nfrom sklearn.metrics import PredictionErrorDisplay\n\nfig, axs = plt.subplots(ncols=2, figsize=(8, 4))\nPredictionErrorDisplay.from_predictions(\n    y,\n    y_pred=y_pred,\n    kind=\"actual_vs_predicted\",\n    subsample=100,\n    ax=axs[0],\n    random_state=0,\n)\naxs[0].set_title(\"\u0627\u0644\u0642\u064a\u0645 \u0627\u0644\u0641\u0639\u0644\u064a\u0629 \u0645\u0642\u0627\u0628\u0644 \u0627\u0644\u0642\u064a\u0645 \u0627\u0644\u0645\u062a\u0648\u0642\u0639\u0629\")\nPredictionErrorDisplay.from_predictions(\n    y,\n    y_pred=y_pred,\n    kind=\"residual_vs_predicted\",\n    subsample=100,\n    ax=axs[1],\n    random_state=0,\n)\naxs[1].set_title(\"\u0627\u0644\u0645\u062a\u0628\u0642\u064a\u0627\u062a \u0645\u0642\u0627\u0628\u0644 \u0627\u0644\u0642\u064a\u0645 \u0627\u0644\u0645\u062a\u0648\u0642\u0639\u0629\")\nfig.suptitle(\"\u0631\u0633\u0645 \u062a\u0646\u0628\u0624\u0627\u062a \u0627\u0644\u0635\u0646\u062f\u0648\u0642 \u0627\u0644\u0623\u0633\u0648\u062f\")\nplt.tight_layout()\nplt.show()"
      ]
    },
    {
      "cell_type": "markdown",
      "metadata": {},
      "source": [
        "\u0645\u0646 \u0627\u0644\u0645\u0647\u0645 \u0645\u0644\u0627\u062d\u0638\u0629 \u0623\u0646\u0646\u0627 \u0627\u0633\u062a\u062e\u062f\u0645\u0646\u0627\n:func:`~sklearn.model_selection.cross_val_predict` \u0644\u0623\u063a\u0631\u0627\u0636 \u0627\u0644\u0639\u0631\u0636 \u0641\u0642\u0637 \u0641\u064a \u0647\u0630\u0627 \u0627\u0644\u0645\u062b\u0627\u0644.\n\n"
      ]
    },
    {
      "cell_type": "code",
      "execution_count": null,
      "metadata": {
        "collapsed": false
      },
      "outputs": [],
      "source": [
        "# \u0633\u064a\u0643\u0648\u0646 \u0645\u0646 \u0627\u0644\u0645\u0634\u0643\u0644\u0627\u062a \u062a\u0642\u064a\u064a\u0645 \u0623\u062f\u0627\u0621 \u0627\u0644\u0646\u0645\u0648\u0630\u062c \u0628\u0634\u0643\u0644 \u0643\u0645\u064a \u0645\u0646 \u062e\u0644\u0627\u0644 \u062d\u0633\u0627\u0628 \u0645\u0642\u064a\u0627\u0633 \u0623\u062f\u0627\u0621 \u0648\u0627\u062d\u062f \u0645\u0646 \u0627\u0644\u062a\u0646\u0628\u0624\u0627\u062a \u0627\u0644\u0645\u062c\u0645\u0639\u0629 \u0627\u0644\u062a\u064a \u062a\u0645 \u0625\u0631\u062c\u0627\u0639\u0647\u0627 \u0628\u0648\u0627\u0633\u0637\u0629\n# :func:`~sklearn.model_selection.cross_val_predict`\n# \u0639\u0646\u062f\u0645\u0627 \u062a\u062e\u062a\u0644\u0641 \u0627\u0644\u0637\u064a\u0627\u062a \u0627\u0644\u0645\u062e\u062a\u0644\u0641\u0629 \u0644\u0644\u0635\u0646\u062f\u0648\u0642 \u0627\u0644\u0623\u0633\u0648\u062f \u0641\u064a \u0627\u0644\u062d\u062c\u0645 \u0648\u0627\u0644\u062a\u0648\u0632\u064a\u0639\u0627\u062a.\n\n# \u064a\u0648\u0635\u0649 \u0628\u062d\u0633\u0627\u0628 \u0645\u0642\u0627\u064a\u064a\u0633 \u0623\u062f\u0627\u0621 \u0644\u0643\u0644 \u0637\u064a\u0629 \u0628\u0627\u0633\u062a\u062e\u062f\u0627\u0645:\n# :func:`~sklearn.model_selection.cross_val_score` \u0623\u0648\n# :func:`~sklearn.model_selection.cross_validate` \u0628\u062f\u0644\u0627\u064b \u0645\u0646 \u0630\u0644\u0643."
      ]
    }
  ],
  "metadata": {
    "kernelspec": {
      "display_name": "Python 3",
      "language": "python",
      "name": "python3"
    },
    "language_info": {
      "codemirror_mode": {
        "name": "ipython",
        "version": 3
      },
      "file_extension": ".py",
      "mimetype": "text/x-python",
      "name": "python",
      "nbconvert_exporter": "python",
      "pygments_lexer": "ipython3",
      "version": "3.10.13"
    }
  },
  "nbformat": 4,
  "nbformat_minor": 0
}