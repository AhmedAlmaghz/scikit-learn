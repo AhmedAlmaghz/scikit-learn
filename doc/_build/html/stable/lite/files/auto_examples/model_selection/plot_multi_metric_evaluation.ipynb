{
  "cells": [
    {
      "cell_type": "markdown",
      "metadata": {},
      "source": [
        "<div class='alert alert-warning'>\n\n# JupyterLite warning\n\nRunning the scikit-learn examples in JupyterLite is experimental and you may encounter some unexpected behavior.\n\nThe main difference is that imports will take a lot longer than usual, for example the first `import sklearn` can take roughly 10-20s.\n\nIf you notice problems, feel free to open an [issue](https://github.com/scikit-learn/scikit-learn/issues/new/choose) about it.\n</div>"
      ]
    },
    {
      "cell_type": "code",
      "execution_count": null,
      "metadata": {
        "collapsed": false
      },
      "outputs": [],
      "source": [
        "# JupyterLite-specific code\nimport matplotlib\nimport pandas"
      ]
    },
    {
      "cell_type": "markdown",
      "metadata": {},
      "source": [
        "\n# \u062a\u0648\u0636\u064a\u062d \u0627\u0644\u062a\u0642\u064a\u064a\u0645 \u0645\u062a\u0639\u062f\u062f \u0627\u0644\u0645\u0642\u0627\u064a\u064a\u0633 \u0639\u0644\u0649 cross_val_score \u0648 GridSearchCV\n\n\u064a\u0645\u0643\u0646 \u0625\u062c\u0631\u0627\u0621 \u0627\u0644\u0628\u062d\u062b \u0639\u0646 \u0645\u0639\u0644\u0645\u0627\u062a \u0627\u0644\u0645\u0642\u0627\u064a\u064a\u0633 \u0627\u0644\u0645\u062a\u0639\u062f\u062f\u0629 \u0639\u0646 \u0637\u0631\u064a\u0642 \u0636\u0628\u0637 \u0645\u0639\u0644\u0645\u0629 \"scoring\"\n\u0625\u0644\u0649 \u0642\u0627\u0626\u0645\u0629 \u0645\u0646 \u0623\u0633\u0645\u0627\u0621 \u0627\u0644\u0645\u0642\u0627\u064a\u064a\u0633 \u0623\u0648 \u0642\u0627\u0645\u0648\u0633 \u064a\u0642\u0648\u0645 \u0628\u0631\u0628\u0637 \u0623\u0633\u0645\u0627\u0621 \u0627\u0644\u0645\u0642\u0627\u064a\u064a\u0633\n\u0628\u0640 callable \u0627\u0644\u0645\u0642\u0627\u064a\u064a\u0633.\n\n\u062a\u062a\u0648\u0641\u0631 \u062f\u0631\u062c\u0627\u062a \u062c\u0645\u064a\u0639 \u0627\u0644\u0645\u0642\u0627\u064a\u064a\u0633 \u0641\u064a \u0642\u0627\u0645\u0648\u0633 \"cv_results_\" \u0639\u0646\u062f \u0627\u0644\u0645\u0641\u0627\u062a\u064a\u062d\n\u0627\u0644\u062a\u064a \u062a\u0646\u062a\u0647\u064a \u0628\u0640 \"'<\u0627\u0633\u0645_\u0627\u0644\u0645\u0642\u064a\u0627\u0633>'\" ('mean_test_precision'\u060c\n'rank_test_precision'\u060c \u0625\u0644\u062e...)\n\n\u062a\u062a\u0648\u0627\u0641\u0642 \"best_estimator_\"\u060c \"best_index_\"\u060c \"best_score_\" \u0648 \"best_params_\"\n\u0645\u0639 \u0627\u0644\u0645\u0642\u064a\u0627\u0633 (\u0627\u0644\u0645\u0641\u062a\u0627\u062d) \u0627\u0644\u0630\u064a \u064a\u062a\u0645 \u0636\u0628\u0637\u0647 \u0639\u0644\u0649 \u062e\u0627\u0635\u064a\u0629 \"refit\".\n"
      ]
    },
    {
      "cell_type": "code",
      "execution_count": null,
      "metadata": {
        "collapsed": false
      },
      "outputs": [],
      "source": [
        "# \u0627\u0644\u0645\u0624\u0644\u0641\u0648\u0646: \u0645\u0637\u0648\u0631\u064a scikit-learn\n# \u0645\u0639\u0631\u0641 \u0627\u0644\u0631\u062e\u0635\u0629: BSD-3-Clause\n\nimport numpy as np\nfrom matplotlib import pyplot as plt\n\nfrom sklearn.datasets import make_hastie_10_2\nfrom sklearn.metrics import accuracy_score, make_scorer\nfrom sklearn.model_selection import GridSearchCV\nfrom sklearn.tree import DecisionTreeClassifier"
      ]
    },
    {
      "cell_type": "markdown",
      "metadata": {},
      "source": [
        "## \u062a\u0634\u063a\u064a\u0644 GridSearchCV \u0628\u0627\u0633\u062a\u062e\u062f\u0627\u0645 \u0645\u0642\u0627\u064a\u064a\u0633 \u062a\u0642\u064a\u064a\u0645 \u0645\u062a\u0639\u062f\u062f\u0629\n\n\n"
      ]
    },
    {
      "cell_type": "code",
      "execution_count": null,
      "metadata": {
        "collapsed": false
      },
      "outputs": [],
      "source": [
        "X, y = make_hastie_10_2(n_samples=8000, random_state=42)\n\n# \u064a\u0645\u0643\u0646 \u0623\u0646 \u062a\u0643\u0648\u0646 \u0627\u0644\u0645\u0642\u0627\u064a\u064a\u0633 \u0625\u0645\u0627 \u0648\u0627\u062d\u062f\u0629 \u0645\u0646 \u0633\u0644\u0627\u0633\u0644 \u0627\u0644\u0645\u0642\u0627\u064a\u064a\u0633 \u0627\u0644\u0645\u062d\u062f\u062f\u0629 \u0645\u0633\u0628\u0642\u064b\u0627 \u0623\u0648 callable \u0645\u0642\u064a\u0627\u0633\u060c\n# \u0645\u062b\u0644 \u062a\u0644\u0643 \u0627\u0644\u062a\u064a \u064a\u062a\u0645 \u0625\u0631\u062c\u0627\u0639\u0647\u0627 \u0628\u0648\u0627\u0633\u0637\u0629 make_scorer\nscoring = {\"AUC\": \"roc_auc\", \"Accuracy\": make_scorer(accuracy_score)}\n\n# \u0636\u0628\u0637 refit='AUC'\u060c \u064a\u0639\u064a\u062f \u0636\u0628\u0637 \u0627\u0644\u0645\u0642\u064a\u0627\u0633 \u0639\u0644\u0649 \u0645\u062c\u0645\u0648\u0639\u0629 \u0627\u0644\u0628\u064a\u0627\u0646\u0627\u062a \u0627\u0644\u0643\u0627\u0645\u0644\u0629 \u0628\u0627\u0633\u062a\u062e\u062f\u0627\u0645\n# \u0625\u0639\u062f\u0627\u062f \u0627\u0644\u0645\u0639\u0644\u0645\u0627\u062a \u0627\u0644\u0630\u064a \u064a\u062d\u062a\u0648\u064a \u0639\u0644\u0649 \u0623\u0641\u0636\u0644 \u062f\u0631\u062c\u0629 AUC \u0639\u0628\u0631 \u0627\u0644\u062a\u062d\u0642\u0642 \u0645\u0646 \u0627\u0644\u0635\u062d\u0629.\n# \u064a\u062a\u0645 \u062a\u0648\u0641\u064a\u0631 \u0627\u0644\u0645\u0642\u064a\u0627\u0633 \u0645\u0639 \"gs.best_estimator_\" \u0625\u0644\u0649 \u062c\u0627\u0646\u0628\n# \u0627\u0644\u0645\u0639\u0644\u0645\u0627\u062a \u0645\u062b\u0644 \"gs.best_score_\"\u060c \"gs.best_params_\" \u0648\n# \"gs.best_index_\"\ngs = GridSearchCV(\n    DecisionTreeClassifier(random_state=42),\n    param_grid={\"min_samples_split\": range(2, 403, 20)},\n    scoring=scoring,\n    refit=\"AUC\",\n    n_jobs=2,\n    return_train_score=True,\n)\ngs.fit(X, y)\nresults = gs.cv_results_"
      ]
    },
    {
      "cell_type": "markdown",
      "metadata": {},
      "source": [
        "## \u0631\u0633\u0645 \u0627\u0644\u0646\u062a\u0627\u0626\u062c\n\n"
      ]
    },
    {
      "cell_type": "code",
      "execution_count": null,
      "metadata": {
        "collapsed": false
      },
      "outputs": [],
      "source": [
        "plt.figure(figsize=(13, 13))\nplt.title(\"GridSearchCV \u062a\u0642\u064a\u064a\u0645 \u0628\u0627\u0633\u062a\u062e\u062f\u0627\u0645 \u0645\u0642\u0627\u064a\u064a\u0633 \u0645\u062a\u0639\u062f\u062f\u0629 \u0641\u064a \u0646\u0641\u0633 \u0627\u0644\u0648\u0642\u062a\", fontsize=16)\n\nplt.xlabel(\"min_samples_split\")\nplt.ylabel(\"Score\")\n\nax = plt.gca()\nax.set_xlim(0, 402)\nax.set_ylim(0.73, 1)\n\n# \u0627\u0644\u062d\u0635\u0648\u0644 \u0639\u0644\u0649 \u0645\u0635\u0641\u0648\u0641\u0629 numpy \u0627\u0644\u0639\u0627\u062f\u064a\u0629 \u0645\u0646 MaskedArray\nX_axis = np.array(results[\"param_min_samples_split\"].data, dtype=float)\n\nfor scorer, color in zip(sorted(scoring), [\"g\", \"k\"]):\n    for sample, style in ((\"train\", \"--\"), (\"test\", \"-\")):\n        sample_score_mean = results[\"mean_%s_%s\" % (sample, scorer)]\n        sample_score_std = results[\"std_%s_%s\" % (sample, scorer)]\n        ax.fill_between(\n            X_axis,\n            sample_score_mean - sample_score_std,\n            sample_score_mean + sample_score_std,\n            alpha=0.1 if sample == \"test\" else 0,\n            color=color,\n        )\n        ax.plot(\n            X_axis,\n            sample_score_mean,\n            style,\n            color=color,\n            alpha=1 if sample == \"test\" else 0.7,\n            label=\"%s (%s)\" % (scorer, sample),\n        )\n\n    best_index = np.nonzero(results[\"rank_test_%s\" % scorer] == 1)[0][0]\n    best_score = results[\"mean_test_%s\" % scorer][best_index]\n\n    # \u0631\u0633\u0645 \u062e\u0637 \u0639\u0645\u0648\u062f\u064a \u0645\u0646\u0642\u0637 \u0639\u0646\u062f \u0623\u0641\u0636\u0644 \u062f\u0631\u062c\u0629 \u0644\u0630\u0644\u0643 \u0627\u0644\u0645\u0642\u064a\u0627\u0633 \u0645\u0639 \u0639\u0644\u0627\u0645\u0629 x\n    ax.plot(\n        [\n            X_axis[best_index],\n        ]\n        * 2,\n        [0, best_score],\n        linestyle=\"-.\",\n        color=color,\n        marker=\"x\",\n        markeredgewidth=3,\n        ms=8,\n    )\n\n    # \u0625\u0636\u0627\u0641\u0629 \u0645\u0644\u0627\u062d\u0638\u0629 \u0644\u0623\u0641\u0636\u0644 \u062f\u0631\u062c\u0629 \u0644\u0630\u0644\u0643 \u0627\u0644\u0645\u0642\u064a\u0627\u0633\n    ax.annotate(\"%0.2f\" % best_score, (X_axis[best_index], best_score + 0.005))\n\nplt.legend(loc=\"best\")\nplt.grid(False)\nplt.show()"
      ]
    }
  ],
  "metadata": {
    "kernelspec": {
      "display_name": "Python 3",
      "language": "python",
      "name": "python3"
    },
    "language_info": {
      "codemirror_mode": {
        "name": "ipython",
        "version": 3
      },
      "file_extension": ".py",
      "mimetype": "text/x-python",
      "name": "python",
      "nbconvert_exporter": "python",
      "pygments_lexer": "ipython3",
      "version": "3.10.13"
    }
  },
  "nbformat": 4,
  "nbformat_minor": 0
}