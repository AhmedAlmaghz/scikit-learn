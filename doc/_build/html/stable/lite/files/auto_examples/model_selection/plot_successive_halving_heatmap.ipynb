{
  "cells": [
    {
      "cell_type": "markdown",
      "metadata": {},
      "source": [
        "<div class='alert alert-warning'>\n\n# JupyterLite warning\n\nRunning the scikit-learn examples in JupyterLite is experimental and you may encounter some unexpected behavior.\n\nThe main difference is that imports will take a lot longer than usual, for example the first `import sklearn` can take roughly 10-20s.\n\nIf you notice problems, feel free to open an [issue](https://github.com/scikit-learn/scikit-learn/issues/new/choose) about it.\n</div>"
      ]
    },
    {
      "cell_type": "code",
      "execution_count": null,
      "metadata": {
        "collapsed": false
      },
      "outputs": [],
      "source": [
        "# JupyterLite-specific code\nimport matplotlib\nimport pandas"
      ]
    },
    {
      "cell_type": "markdown",
      "metadata": {},
      "source": [
        "\n# \u0645\u0642\u0627\u0631\u0646\u0629 \u0628\u064a\u0646 \u0627\u0644\u0628\u062d\u062b \u0627\u0644\u0634\u0628\u0643\u064a \u0648\u062a\u0642\u0644\u064a\u0635 \u0627\u0644\u062e\u064a\u0627\u0631\u0627\u062a \u0627\u0644\u0645\u062a\u062a\u0627\u0628\u0639\n\n\u064a\u0642\u0627\u0631\u0646 \u0647\u0630\u0627 \u0627\u0644\u0645\u062b\u0627\u0644 \u0639\u0645\u0644\u064a\u0629 \u0627\u0644\u0628\u062d\u062b \u0639\u0646 \u0627\u0644\u0645\u0639\u0627\u0645\u0644\u0627\u062a \u0627\u0644\u062a\u064a \u064a\u0642\u0648\u0645 \u0628\u0647\u0627 \u0643\u0644 \u0645\u0646\n:class:`~sklearn.model_selection.HalvingGridSearchCV` \u0648\n:class:`~sklearn.model_selection.GridSearchCV`.\n"
      ]
    },
    {
      "cell_type": "code",
      "execution_count": null,
      "metadata": {
        "collapsed": false
      },
      "outputs": [],
      "source": [
        "# Authors: The scikit-learn developers\n# SPDX-License-Identifier: BSD-3-Clause\n\nfrom time import time\n\nimport matplotlib.pyplot as plt\nimport numpy as np\nimport pandas as pd\n\nfrom sklearn import datasets\nfrom sklearn.experimental import enable_halving_search_cv  # noqa\nfrom sklearn.model_selection import GridSearchCV, HalvingGridSearchCV\nfrom sklearn.svm import SVC"
      ]
    },
    {
      "cell_type": "markdown",
      "metadata": {},
      "source": [
        "\u0646\u062d\u062f\u062f \u0623\u0648\u0644\u0627\u064b \u0645\u0633\u0627\u062d\u0629 \u0627\u0644\u0645\u0639\u0627\u0645\u0644\u0627\u062a \u0644\u0645\u0635\u0646\u0641 :class:`~sklearn.svm.SVC`\u060c\n\u0648\u0646\u062d\u0633\u0628 \u0627\u0644\u0648\u0642\u062a \u0627\u0644\u0644\u0627\u0632\u0645 \u0644\u062a\u062f\u0631\u064a\u0628 \u0645\u062b\u064a\u0644 :class:`~sklearn.model_selection.HalvingGridSearchCV`\u060c\n\u0648\u0643\u0630\u0644\u0643 \u0645\u062b\u064a\u0644 :class:`~sklearn.model_selection.GridSearchCV`.\n\n"
      ]
    },
    {
      "cell_type": "code",
      "execution_count": null,
      "metadata": {
        "collapsed": false
      },
      "outputs": [],
      "source": [
        "rng = np.random.RandomState(0)\nX, y = datasets.make_classification(n_samples=1000, random_state=rng)\n\ngammas = [1e-1, 1e-2, 1e-3, 1e-4, 1e-5, 1e-6, 1e-7]\nCs = [1, 10, 100, 1e3, 1e4, 1e5]\nparam_grid = {\"gamma\": gammas, \"C\": Cs}\n\nclf = SVC(random_state=rng)\n\ntic = time()\ngsh = HalvingGridSearchCV(\n    estimator=clf, param_grid=param_grid, factor=2, random_state=rng\n)\ngsh.fit(X, y)\ngsh_time = time() - tic\n\ntic = time()\ngs = GridSearchCV(estimator=clf, param_grid=param_grid)\ngs.fit(X, y)\ngs_time = time() - tic"
      ]
    },
    {
      "cell_type": "markdown",
      "metadata": {},
      "source": [
        "\u0646\u0639\u0631\u0636 \u0627\u0644\u0622\u0646 \u0645\u062e\u0637\u0637\u0627\u062a \u062d\u0631\u0627\u0631\u064a\u0629 \u0644\u0643\u0644\u0627 \u0627\u0644\u0645\u0635\u0646\u0641\u064a\u0646.\n\n"
      ]
    },
    {
      "cell_type": "code",
      "execution_count": null,
      "metadata": {
        "collapsed": false
      },
      "outputs": [],
      "source": [
        "def make_heatmap(ax, gs, is_sh=False, make_cbar=False):\n    \"\"\"\u0645\u0633\u0627\u0639\u062f \u0644\u0625\u0646\u0634\u0627\u0621 \u0645\u062e\u0637\u0637 \u062d\u0631\u0627\u0631\u064a.\"\"\"\n    results = pd.DataFrame(gs.cv_results_)\n    results[[\"param_C\", \"param_gamma\"]] = results[[\"param_C\", \"param_gamma\"]].astype(\n        np.float64\n    )\n    if is_sh:\n        # \u0645\u0635\u0641\u0648\u0641\u0629 SH: \u0627\u0644\u062d\u0635\u0648\u0644 \u0639\u0644\u0649 \u0642\u064a\u0645 mean_test_score \u0644\u0644\u0640 iter \u0627\u0644\u0623\u0639\u0644\u0649\n        scores_matrix = results.sort_values(\"iter\").pivot_table(\n            index=\"param_gamma\",\n            columns=\"param_C\",\n            values=\"mean_test_score\",\n            aggfunc=\"last\",\n        )\n    else:\n        scores_matrix = results.pivot(\n            index=\"param_gamma\", columns=\"param_C\", values=\"mean_test_score\"\n        )\n\n    im = ax.imshow(scores_matrix)\n\n    ax.set_xticks(np.arange(len(Cs)))\n    ax.set_xticklabels([\"{:.0E}\".format(x) for x in Cs])\n    ax.set_xlabel(\"C\", fontsize=15)\n\n    ax.set_yticks(np.arange(len(gammas)))\n    ax.set_yticklabels([\"{:.0E}\".format(x) for x in gammas])\n    ax.set_ylabel(\"gamma\", fontsize=15)\n\n    # \u062a\u062f\u0648\u064a\u0631 \u062a\u0633\u0645\u064a\u0627\u062a \u0627\u0644\u062a\u0643\u062a\u064a\u0643\u0627\u062a \u0648\u0636\u0628\u0637 \u0645\u062d\u0627\u0630\u0627\u062a\u0647\u0627.\n    plt.setp(ax.get_xticklabels(), rotation=45, ha=\"right\", rotation_mode=\"anchor\")\n\n    if is_sh:\n        iterations = results.pivot_table(\n            index=\"param_gamma\", columns=\"param_C\", values=\"iter\", aggfunc=\"max\"\n        ).values\n        for i in range(len(gammas)):\n            for j in range(len(Cs)):\n                ax.text(\n                    j,\n                    i,\n                    iterations[i, j],\n                    ha=\"center\",\n                    va=\"center\",\n                    color=\"w\",\n                    fontsize=20,\n                )\n\n    if make_cbar:\n        fig.subplots_adjust(right=0.8)\n        cbar_ax = fig.add_axes([0.85, 0.15, 0.05, 0.7])\n        fig.colorbar(im, cax=cbar_ax)\n        cbar_ax.set_ylabel(\"mean_test_score\", rotation=-90, va=\"bottom\", fontsize=15)\n\n\nfig, axes = plt.subplots(ncols=2, sharey=True)\nax1, ax2 = axes\n\nmake_heatmap(ax1, gsh, is_sh=True)\nmake_heatmap(ax2, gs, make_cbar=True)\n\nax1.set_title(\"Successive Halving\\ntime = {:.3f}s\".format(gsh_time), fontsize=15)\nax2.set_title(\"GridSearch\\ntime = {:.3f}s\".format(gs_time), fontsize=15)\n\nplt.show()"
      ]
    },
    {
      "cell_type": "markdown",
      "metadata": {},
      "source": [
        "\u062a\u0648\u0636\u062d \u0627\u0644\u0645\u062e\u0637\u0637\u0627\u062a \u0627\u0644\u062d\u0631\u0627\u0631\u064a\u0629 \u0645\u062a\u0648\u0633\u0637 \u062f\u0631\u062c\u0629 \u0627\u0644\u0627\u062e\u062a\u0628\u0627\u0631 \u0644\u062a\u0631\u0643\u064a\u0628\u0627\u062a \u0627\u0644\u0645\u0639\u0627\u0645\u0644\u0627\u062a \u0644\u0645\u0635\u0646\u0641\n:class:`~sklearn.svm.SVC`. \u0643\u0645\u0627 \u064a\u0638\u0647\u0631\n:class:`~sklearn.model_selection.HalvingGridSearchCV`\n\u0623\u064a\u0636\u0627\u064b \u0627\u0644\u0640 iter \u0627\u0644\u0630\u064a \u062a\u0645 \u0641\u064a\u0647 \u0627\u0633\u062a\u062e\u062f\u0627\u0645 \u0627\u0644\u062a\u0631\u0643\u064a\u0628\u0627\u062a \u0644\u0644\u0645\u0631\u0629 \u0627\u0644\u0623\u062e\u064a\u0631\u0629. \u0627\u0644\u062a\u0631\u0643\u064a\u0628\u0627\u062a \u0627\u0644\u062a\u064a \u062a\u0645\n\u062a\u0645\u064a\u064a\u0632\u0647\u0627 \u0628\u0640 \"0\" \u062a\u0645 \u062a\u0642\u064a\u064a\u0645\u0647\u0627 \u0641\u0642\u0637 \u0641\u064a \u0627\u0644\u0640 iter \u0627\u0644\u0623\u0648\u0644\u060c \u0628\u064a\u0646\u0645\u0627 \u062a\u0644\u0643 \u0627\u0644\u062a\u064a \u062a\u062d\u0645\u0644 \"5\" \u0647\u064a\n\u062a\u0631\u0643\u064a\u0628\u0627\u062a \u0627\u0644\u0645\u0639\u0627\u0645\u0644\u0627\u062a \u0627\u0644\u062a\u064a \u062a\u0639\u062a\u0628\u0631 \u0627\u0644\u0623\u0641\u0636\u0644.\n\n\u064a\u0645\u0643\u0646\u0646\u0627 \u0623\u0646 \u0646\u0631\u0649 \u0623\u0646 \u0641\u0626\u0629 :class:`~sklearn.model_selection.HalvingGridSearchCV`\n\u0642\u0627\u062f\u0631\u0629 \u0639\u0644\u0649 \u0625\u064a\u062c\u0627\u062f \u062a\u0631\u0643\u064a\u0628\u0627\u062a \u0645\u0639\u0627\u0645\u0644\u0627\u062a \u062f\u0642\u064a\u0642\u0629 \u0645\u062b\u0644\n:class:`~sklearn.model_selection.GridSearchCV`\u060c \u0641\u064a \u0648\u0642\u062a \u0623\u0642\u0644 \u0628\u0643\u062b\u064a\u0631.\n"
      ]
    }
  ],
  "metadata": {
    "kernelspec": {
      "display_name": "Python 3",
      "language": "python",
      "name": "python3"
    },
    "language_info": {
      "codemirror_mode": {
        "name": "ipython",
        "version": 3
      },
      "file_extension": ".py",
      "mimetype": "text/x-python",
      "name": "python",
      "nbconvert_exporter": "python",
      "pygments_lexer": "ipython3",
      "version": "3.10.13"
    }
  },
  "nbformat": 4,
  "nbformat_minor": 0
}