{
  "cells": [
    {
      "cell_type": "markdown",
      "metadata": {},
      "source": [
        "<div class='alert alert-warning'>\n\n# JupyterLite warning\n\nRunning the scikit-learn examples in JupyterLite is experimental and you may encounter some unexpected behavior.\n\nThe main difference is that imports will take a lot longer than usual, for example the first `import sklearn` can take roughly 10-20s.\n\nIf you notice problems, feel free to open an [issue](https://github.com/scikit-learn/scikit-learn/issues/new/choose) about it.\n</div>"
      ]
    },
    {
      "cell_type": "code",
      "execution_count": null,
      "metadata": {
        "collapsed": false
      },
      "outputs": [],
      "source": [
        "# JupyterLite-specific code\nimport matplotlib\nimport pandas"
      ]
    },
    {
      "cell_type": "markdown",
      "metadata": {},
      "source": [
        "\n# \u0645\u0646\u062d\u0646\u0649 \u0627\u0633\u062a\u0642\u0628\u0627\u0644 \u0627\u0644\u062a\u0634\u063a\u064a\u0644 \u0645\u062a\u0639\u062f\u062f \u0627\u0644\u0641\u0626\u0627\u062a (ROC)\n\n\u064a\u0635\u0641 \u0647\u0630\u0627 \u0627\u0644\u0645\u062b\u0627\u0644 \u0627\u0633\u062a\u062e\u062f\u0627\u0645 \u0645\u0642\u064a\u0627\u0633 \u0627\u0633\u062a\u0642\u0628\u0627\u0644 \u0627\u0644\u062a\u0634\u063a\u064a\u0644 (ROC)\n\u0644\u062a\u0642\u064a\u064a\u0645 \u062c\u0648\u062f\u0629 \u0627\u0644\u0645\u0635\u0646\u0641\u0627\u062a \u0645\u062a\u0639\u062f\u062f\u0629 \u0627\u0644\u0641\u0626\u0627\u062a.\n\n\u0639\u0627\u062f\u0629\u064b \u0645\u0627 \u062a\u062a\u0645\u064a\u0632 \u0645\u0646\u062d\u0646\u064a\u0627\u062a ROC \u0628\u0645\u0639\u062f\u0644 \u0627\u0644\u0625\u064a\u062c\u0627\u0628\u064a\u0627\u062a \u0627\u0644\u062d\u0642\u064a\u0642\u064a\u0629 (TPR) \u0639\u0644\u0649 \u0645\u062d\u0648\u0631 Y\u060c \u0648\u0645\u0639\u062f\u0644 \u0627\u0644\u0625\u064a\u062c\u0627\u0628\u064a\u0627\u062a \u0627\u0644\u062e\u0627\u0637\u0626\u0629 (FPR) \u0639\u0644\u0649 \u0645\u062d\u0648\u0631 X. \u0648\u0647\u0630\u0627 \u064a\u0639\u0646\u064a \u0623\u0646 \u0627\u0644\u0631\u0643\u0646 \u0627\u0644\u0639\u0644\u0648\u064a \u0627\u0644\u0623\u064a\u0633\u0631 \u0645\u0646\n\u0627\u0644\u0645\u062e\u0637\u0637 \u0647\u0648 \u0627\u0644\u0646\u0642\u0637\u0629 \"\u0627\u0644\u0645\u062b\u0627\u0644\u064a\u0629\" - FPR \u0635\u0641\u0631\u060c \u0648TPR \u0648\u0627\u062d\u062f. \u0647\u0630\u0627 \u0644\u064a\u0633 \u0648\u0627\u0642\u0639\u064a\u064b\u0627 \u062c\u062f\u064b\u0627\u060c \u0648\u0644\u0643\u0646\u0647 \u064a\u0639\u0646\u064a \u0623\u0646 \u0645\u0633\u0627\u062d\u0629 \u0623\u0643\u0628\u0631 \u062a\u062d\u062a \u0627\u0644\u0645\u0646\u062d\u0646\u0649 (AUC) \u062a\u0643\u0648\u0646 \u0639\u0627\u062f\u0629\u064b \u0623\u0641\u0636\u0644. \"\u0627\u0646\u062d\u062f\u0627\u0631\" \u0645\u0646\u062d\u0646\u064a\u0627\u062a ROC \u0645\u0647\u0645 \u0623\u064a\u0636\u064b\u0627\u060c \u062d\u064a\u062b \u0623\u0646\u0647 \u0645\u0646 \u0627\u0644\u0645\u062b\u0627\u0644\u064a\n\u062a\u062d\u0642\u064a\u0642 \u0623\u0642\u0635\u0649 \u0627\u0633\u062a\u0641\u0627\u062f\u0629 \u0645\u0646 TPR \u0645\u0639 \u062a\u0642\u0644\u064a\u0644 FPR.\n\n\u062a\u064f\u0633\u062a\u062e\u062f\u0645 \u0645\u0646\u062d\u0646\u064a\u0627\u062a ROC \u0639\u0627\u062f\u0629\u064b \u0641\u064a \u0627\u0644\u062a\u0635\u0646\u064a\u0641 \u0627\u0644\u062b\u0646\u0627\u0626\u064a\u060c \u062d\u064a\u062b \u064a\u0645\u0643\u0646 \u062a\u0639\u0631\u064a\u0641 TPR \u0648FPR \u0628\u0634\u0643\u0644 \u0644\u0627 \u0644\u0628\u0633 \u0641\u064a\u0647. \u0641\u064a \u062d\u0627\u0644\u0629 \u0627\u0644\u062a\u0635\u0646\u064a\u0641 \u0645\u062a\u0639\u062f\u062f \u0627\u0644\u0641\u0626\u0627\u062a\u060c \u064a\u062a\u0645 \u0627\u0644\u062d\u0635\u0648\u0644 \u0639\u0644\u0649 \u0645\u0641\u0647\u0648\u0645 TPR \u0623\u0648 FPR \u0641\u0642\u0637 \u0628\u0639\u062f \u062a\u062d\u0648\u064a\u0644 \u0627\u0644\u0625\u062e\u0631\u0627\u062c \u0625\u0644\u0649 \u062b\u0646\u0627\u0626\u064a. \u064a\u0645\u0643\u0646 \u0627\u0644\u0642\u064a\u0627\u0645 \u0628\u0630\u0644\u0643 \u0628\u0637\u0631\u064a\u0642\u062a\u064a\u0646 \u0645\u062e\u062a\u0644\u0641\u062a\u064a\u0646:\n\n- \u0645\u062e\u0637\u0637 One-vs-Rest \u064a\u0642\u0627\u0631\u0646 \u0643\u0644 \u0641\u0626\u0629 \u0636\u062f \u062c\u0645\u064a\u0639 \u0627\u0644\u0641\u0626\u0627\u062a \u0627\u0644\u0623\u062e\u0631\u0649 (\u064a\u064f\u0641\u062a\u0631\u0636 \u0623\u0646\u0647\u0627 \u0648\u0627\u062d\u062f\u0629)\u061b\n- \u0645\u062e\u0637\u0637 One-vs-One \u064a\u0642\u0627\u0631\u0646 \u0643\u0644 \u0645\u062c\u0645\u0648\u0639\u0629 \u0641\u0631\u064a\u062f\u0629 \u0645\u0646 \u0627\u0644\u0645\u062c\u0645\u0648\u0639\u0627\u062a \u0627\u0644\u0645\u0632\u062f\u0648\u062c\u0629 \u0645\u0646 \u0627\u0644\u0641\u0626\u0627\u062a.\n\n\u0641\u064a \u0647\u0630\u0627 \u0627\u0644\u0645\u062b\u0627\u0644\u060c \u0646\u0633\u062a\u0643\u0634\u0641 \u0643\u0644\u0627 \u0627\u0644\u0645\u062e\u0637\u0637\u064a\u0646 \u0648\u0646\u0639\u0631\u0636 \u0645\u0641\u0627\u0647\u064a\u0645 \u0627\u0644\u0645\u062a\u0648\u0633\u0637\u0627\u062a \u0627\u0644\u062f\u0642\u064a\u0642\u0629 \u0648\u0627\u0644\u0643\u0644\u064a\u0629 \u0643\u0637\u0631\u0642 \u0645\u062e\u062a\u0644\u0641\u0629 \u0644\u062a\u0644\u062e\u064a\u0635 \u0645\u0639\u0644\u0648\u0645\u0627\u062a \u0645\u0646\u062d\u0646\u064a\u0627\u062a ROC \u0645\u062a\u0639\u062f\u062f\u0629 \u0627\u0644\u0641\u0626\u0627\u062a.\n\n<div class=\"alert alert-info\"><h4>Note</h4><p>\u0631\u0627\u062c\u0639 `sphx_glr_auto_examples_model_selection_plot_roc_crossval.py` \u0644\u0644\u062a\u0648\u0633\u0639 \u0641\u064a \u0647\u0630\u0627 \u0627\u0644\u0645\u062b\u0627\u0644 \u0648\u062a\u0642\u062f\u064a\u0631 \u062a\u0628\u0627\u064a\u0646 \u0645\u0646\u062d\u0646\u064a\u0627\u062a ROC \u0648\u0642\u064a\u0645 AUC \u0627\u0644\u062e\u0627\u0635\u0629 \u0628\u0647\u0627.</p></div>\n"
      ]
    },
    {
      "cell_type": "code",
      "execution_count": null,
      "metadata": {
        "collapsed": false
      },
      "outputs": [],
      "source": [
        "# \u0627\u0644\u0645\u0624\u0644\u0641\u0648\u0646: \u0645\u0637\u0648\u0631\u064a scikit-learn\n# \u0645\u0639\u0631\u0641 \u0627\u0644\u062a\u0631\u062e\u064a\u0635: BSD-3-Clause"
      ]
    },
    {
      "cell_type": "markdown",
      "metadata": {},
      "source": [
        "## \u062a\u062d\u0645\u064a\u0644 \u0627\u0644\u0628\u064a\u0627\u0646\u0627\u062a \u0648\u0625\u0639\u062f\u0627\u062f\u0647\u0627\n\n\u0646\u0633\u062a\u0648\u0631\u062f `iris_dataset` \u0627\u0644\u0630\u064a \u064a\u062d\u062a\u0648\u064a \u0639\u0644\u0649 3 \u0641\u0626\u0627\u062a\u060c \u0643\u0644 \u0645\u0646\u0647\u0627\n\u064a\u062a\u0648\u0627\u0641\u0642 \u0645\u0639 \u0646\u0648\u0639 \u0645\u0646 \u0646\u0628\u0627\u062a \u0627\u0644\u0632\u0646\u0628\u0642. \u064a\u0645\u0643\u0646 \u0641\u0635\u0644 \u0641\u0626\u0629 \u0648\u0627\u062d\u062f\u0629 \u062e\u0637\u064a\u064b\u0627 \u0639\u0646\n\u0627\u0644\u0628\u0627\u0642\u064a\u062a\u064a\u0646\u061b \u0623\u0645\u0627 \u0627\u0644\u0641\u0626\u062a\u0627\u0646 \u0627\u0644\u0623\u062e\u0631\u064a\u0627\u0646 \u0641\u0644\u0627 \u064a\u0645\u0643\u0646 \u0641\u0635\u0644\u0647\u0645\u0627 \u062e\u0637\u064a\u064b\u0627 \u0639\u0646 \u0628\u0639\u0636\u0647\u0645\u0627 \u0627\u0644\u0628\u0639\u0636.\n\n\u0647\u0646\u0627 \u0646\u0642\u0648\u0645 \u0628\u062a\u062d\u0648\u064a\u0644 \u0627\u0644\u0625\u062e\u0631\u0627\u062c \u0625\u0644\u0649 \u062b\u0646\u0627\u0626\u064a \u0648\u0625\u0636\u0627\u0641\u0629 \u0645\u064a\u0632\u0627\u062a \u0639\u0634\u0648\u0627\u0626\u064a\u0629 \u0644\u062c\u0639\u0644 \u0627\u0644\u0645\u0634\u0643\u0644\u0629 \u0623\u0643\u062b\u0631 \u0635\u0639\u0648\u0628\u0629.\n\n"
      ]
    },
    {
      "cell_type": "code",
      "execution_count": null,
      "metadata": {
        "collapsed": false
      },
      "outputs": [],
      "source": [
        "import numpy as np\n\nfrom sklearn.datasets import load_iris\nfrom sklearn.model_selection import train_test_split\n\niris = load_iris()\ntarget_names = iris.target_names\nX, y = iris.data, iris.target\ny = iris.target_names[y]\n\nrandom_state = np.random.RandomState(0)\nn_samples, n_features = X.shape\nn_classes = len(np.unique(y))\nX = np.concatenate([X, random_state.randn(n_samples, 200 * n_features)], axis=1)\n(\n    X_train,\n    X_test,\n    y_train,\n    y_test,\n) = train_test_split(X, y, test_size=0.5, stratify=y, random_state=0)"
      ]
    },
    {
      "cell_type": "markdown",
      "metadata": {},
      "source": [
        "\u0646\u0642\u0648\u0645 \u0628\u062a\u062f\u0631\u064a\u0628 \u0646\u0645\u0648\u0630\u062c :class:`~sklearn.linear_model.LogisticRegression` \u0627\u0644\u0630\u064a \u064a\u0645\u0643\u0646\u0647\n\u0627\u0644\u062a\u0639\u0627\u0645\u0644 \u0645\u0639 \u0627\u0644\u0645\u0634\u0627\u0643\u0644 \u0645\u062a\u0639\u062f\u062f\u0629 \u0627\u0644\u0641\u0626\u0627\u062a \u0628\u0634\u0643\u0644 \u0637\u0628\u064a\u0639\u064a\u060c \u0648\u0630\u0644\u0643 \u0628\u0641\u0636\u0644 \u0627\u0633\u062a\u062e\u062f\u0627\u0645 \u0627\u0644\u0635\u064a\u063a\u0629 \u0645\u062a\u0639\u062f\u062f\u0629 \u0627\u0644\u062d\u062f\u0648\u062f.\n\n"
      ]
    },
    {
      "cell_type": "code",
      "execution_count": null,
      "metadata": {
        "collapsed": false
      },
      "outputs": [],
      "source": [
        "from sklearn.linear_model import LogisticRegression\n\nclassifier = LogisticRegression()\ny_score = classifier.fit(X_train, y_train).predict_proba(X_test)"
      ]
    },
    {
      "cell_type": "markdown",
      "metadata": {},
      "source": [
        "## \u0645\u0646\u062d\u0646\u0649 \u0627\u0633\u062a\u0642\u0628\u0627\u0644 \u0627\u0644\u062a\u0634\u063a\u064a\u0644 \u0645\u062a\u0639\u062f\u062f \u0627\u0644\u0641\u0626\u0627\u062a One-vs-Rest\n\n\u062a\u062a\u0643\u0648\u0646 \u0627\u0633\u062a\u0631\u0627\u062a\u064a\u062c\u064a\u0629 One-vs-the-Rest (OvR) \u0645\u062a\u0639\u062f\u062f\u0629 \u0627\u0644\u0641\u0626\u0627\u062a\u060c \u0648\u0627\u0644\u0645\u0639\u0631\u0648\u0641\u0629 \u0623\u064a\u0636\u064b\u0627 as one-vs-all\u060c\n\u0645\u0646 \u062d\u0633\u0627\u0628 \u0645\u0646\u062d\u0646\u0649 ROC \u0644\u0643\u0644 \u0645\u0646 `n_classes`. \u0641\u064a \u0643\u0644 \u062e\u0637\u0648\u0629\u060c \u064a\u062a\u0645 \u0627\u0639\u062a\u0628\u0627\u0631 \u0641\u0626\u0629 \u0645\u0639\u064a\u0646\u0629\n\u0639\u0644\u0649 \u0623\u0646\u0647\u0627 \u0627\u0644\u0641\u0626\u0629 \u0627\u0644\u0625\u064a\u062c\u0627\u0628\u064a\u0629\u060c \u0648\u064a\u062a\u0645 \u0627\u0639\u062a\u0628\u0627\u0631 \u0627\u0644\u0641\u0626\u0627\u062a \u0627\u0644\u0645\u062a\u0628\u0642\u064a\u0629 \u0639\u0644\u0649 \u0623\u0646\u0647\u0627 \u0627\u0644\u0641\u0626\u0629 \u0627\u0644\u0633\u0644\u0628\u064a\u0629 \u0643\u0643\u062a\u0644\u0629 \u0648\u0627\u062d\u062f\u0629.\n\n<div class=\"alert alert-info\"><h4>Note</h4><p>\u0644\u0627 \u064a\u062c\u0628 \u0627\u0644\u062e\u0644\u0637 \u0628\u064a\u0646 \u0627\u0633\u062a\u0631\u0627\u062a\u064a\u062c\u064a\u0629 OvR \u0627\u0644\u0645\u0633\u062a\u062e\u062f\u0645\u0629 \u0644\u062a\u0642\u064a\u064a\u0645\n    \u0627\u0644\u0645\u0635\u0646\u0641\u0627\u062a \u0645\u062a\u0639\u062f\u062f\u0629 \u0627\u0644\u0641\u0626\u0627\u062a \u0645\u0639 \u0627\u0633\u062a\u0631\u0627\u062a\u064a\u062c\u064a\u0629 OvR \u0627\u0644\u0645\u0633\u062a\u062e\u062f\u0645\u0629 \u0644\u062a\u062f\u0631\u064a\u0628\n    \u0645\u0635\u0646\u0641 \u0645\u062a\u0639\u062f\u062f \u0627\u0644\u0641\u0626\u0627\u062a \u0639\u0646 \u0637\u0631\u064a\u0642 \u0645\u0644\u0627\u0621\u0645\u0629 \u0645\u062c\u0645\u0648\u0639\u0629 \u0645\u0646 \u0627\u0644\u0645\u0635\u0646\u0641\u0627\u062a \u0627\u0644\u062b\u0646\u0627\u0626\u064a\u0629 (\u0639\u0644\u0649 \u0633\u0628\u064a\u0644 \u0627\u0644\u0645\u062b\u0627\u0644\n    \u0639\u0628\u0631 :class:`~sklearn.multiclass.OneVsRestClassifier` meta-estimator).\n    \u064a\u0645\u0643\u0646 \u0627\u0633\u062a\u062e\u062f\u0627\u0645 \u062a\u0642\u064a\u064a\u0645 OvR ROC \u0644\u0641\u062d\u0635 \u0623\u064a \u0646\u0648\u0639 \u0645\u0646 \u0646\u0645\u0627\u0630\u062c \u0627\u0644\u062a\u0635\u0646\u064a\u0641 \u0628\u063a\u0636 \u0627\u0644\u0646\u0638\u0631 \u0639\u0646 \u0643\u064a\u0641\u064a\u0629 \u062a\u062f\u0631\u064a\u0628\u0647\u0627 (\u0631\u0627\u062c\u0639 `multiclass`).</p></div>\n\n\u0641\u064a \u0647\u0630\u0627 \u0627\u0644\u0642\u0633\u0645\u060c \u0646\u0633\u062a\u062e\u062f\u0645 :class:`~sklearn.preprocessing.LabelBinarizer`\n\u0644\u062a\u062d\u0648\u064a\u0644 \u0627\u0644\u0647\u062f\u0641 \u0625\u0644\u0649 \u062b\u0646\u0627\u0626\u064a \u0628\u0627\u0633\u062a\u062e\u062f\u0627\u0645 \u0627\u0644\u062a\u0631\u0645\u064a\u0632 one-hot-encoding \u0628\u0637\u0631\u064a\u0642\u0629 OvR. \u0648\u0647\u0630\u0627 \u064a\u0639\u0646\u064a \u0623\u0646 \u0627\u0644\u0647\u062f\u0641 \u0630\u0648 \u0627\u0644\u0634\u0643\u0644 (`n_samples`,) \u064a\u062a\u0645 \u062a\u0639\u064a\u064a\u0646\u0647 \u0625\u0644\u0649 \u0647\u062f\u0641 \u0630\u0648 \u0627\u0644\u0634\u0643\u0644 (`n_samples`,\n`n_classes`).\n\n"
      ]
    },
    {
      "cell_type": "code",
      "execution_count": null,
      "metadata": {
        "collapsed": false
      },
      "outputs": [],
      "source": [
        "from sklearn.preprocessing import LabelBinarizer\n\nlabel_binarizer = LabelBinarizer().fit(y_train)\ny_onehot_test = label_binarizer.transform(y_test)\ny_onehot_test.shape  # (n_samples, n_classes)"
      ]
    },
    {
      "cell_type": "markdown",
      "metadata": {},
      "source": [
        "\u064a\u0645\u0643\u0646\u0646\u0627 \u0623\u064a\u0636\u064b\u0627 \u0627\u0644\u062a\u062d\u0642\u0642 \u0628\u0633\u0647\u0648\u0644\u0629 \u0645\u0646 \u062a\u0631\u0645\u064a\u0632 \u0641\u0626\u0629 \u0645\u0639\u064a\u0646\u0629:\n\n"
      ]
    },
    {
      "cell_type": "code",
      "execution_count": null,
      "metadata": {
        "collapsed": false
      },
      "outputs": [],
      "source": [
        "label_binarizer.transform([\"virginica\"])"
      ]
    },
    {
      "cell_type": "markdown",
      "metadata": {},
      "source": [
        "### \u0645\u0646\u062d\u0646\u0649 ROC \u064a\u0638\u0647\u0631 \u0641\u0626\u0629 \u0645\u0639\u064a\u0646\u0629\n\n\u0641\u064a \u0627\u0644\u0645\u062e\u0637\u0637 \u0627\u0644\u062a\u0627\u0644\u064a\u060c \u0646\u0639\u0631\u0636 \u0645\u0646\u062d\u0646\u0649 ROC \u0627\u0644\u0646\u0627\u062a\u062c \u0639\u0646\u062f \u0627\u0639\u062a\u0628\u0627\u0631 \u0623\u0632\u0647\u0627\u0631 \u0627\u0644\u0632\u0646\u0628\u0642\n\u0625\u0645\u0627 \"virginica\" (`class_id=2`) \u0623\u0648 \"non-virginica\" (\u0627\u0644\u0628\u0627\u0642\u064a).\n\n"
      ]
    },
    {
      "cell_type": "code",
      "execution_count": null,
      "metadata": {
        "collapsed": false
      },
      "outputs": [],
      "source": [
        "class_of_interest = \"virginica\"\nclass_id = np.flatnonzero(label_binarizer.classes_ == class_of_interest)[0]\nclass_id"
      ]
    },
    {
      "cell_type": "code",
      "execution_count": null,
      "metadata": {
        "collapsed": false
      },
      "outputs": [],
      "source": [
        "import matplotlib.pyplot as plt\n\nfrom sklearn.metrics import RocCurveDisplay\n\ndisplay = RocCurveDisplay.from_predictions(\n    y_onehot_test[:, class_id],\n    y_score[:, class_id],\n    name=f\"{class_of_interest} vs the rest\",\n    color=\"darkorange\",\n    plot_chance_level=True,\n    # despine=True,\n)\n_ = display.ax_.set(\n    xlabel=\"False Positive Rate\",\n    ylabel=\"True Positive Rate\",\n    title=\"One-vs-Rest ROC curves:\\nVirginica vs (Setosa & Versicolor)\",\n)"
      ]
    },
    {
      "cell_type": "markdown",
      "metadata": {},
      "source": [
        "### \u0645\u0646\u062d\u0646\u0649 ROC \u0628\u0627\u0633\u062a\u062e\u062f\u0627\u0645 \u0627\u0644\u0645\u062a\u0648\u0633\u0637 \u0627\u0644\u062f\u0642\u064a\u0642 \u0644\u0640 OvR\n\n\u064a\u0642\u0648\u0645 \u0627\u0644\u0645\u062a\u0648\u0633\u0637 \u0627\u0644\u062f\u0642\u064a\u0642 \u0628\u062a\u062c\u0645\u064a\u0639 \u0627\u0644\u0645\u0633\u0627\u0647\u0645\u0627\u062a \u0645\u0646 \u062c\u0645\u064a\u0639 \u0627\u0644\u0641\u0626\u0627\u062a (\u0628\u0627\u0633\u062a\u062e\u062f\u0627\u0645\n:func:`numpy.ravel`) \u0644\u062d\u0633\u0627\u0628 \u0645\u062a\u0648\u0633\u0637 \u0627\u0644\u0645\u0642\u0627\u064a\u064a\u0633 \u0643\u0645\u0627 \u064a\u0644\u064a:\n\n$TPR=\\frac{\\sum_{c}TP_c}{\\sum_{c}(TP_c + FN_c)}$ ;\n\n$FPR=\\frac{\\sum_{c}FP_c}{\\sum_{c}(FP_c + TN_c)}$ .\n\n\u064a\u0645\u0643\u0646\u0646\u0627 \u0628\u0627\u062e\u062a\u0635\u0627\u0631 \u0639\u0631\u0636 \u062a\u0623\u062b\u064a\u0631 :func:`numpy.ravel`:\n\n"
      ]
    },
    {
      "cell_type": "code",
      "execution_count": null,
      "metadata": {
        "collapsed": false
      },
      "outputs": [],
      "source": [
        "print(f\"y_score:\\n{y_score[0:2,:]}\")\nprint()\nprint(f\"y_score.ravel():\\n{y_score[0:2,:].ravel()}\")"
      ]
    },
    {
      "cell_type": "markdown",
      "metadata": {},
      "source": [
        "\u0641\u064a \u0625\u0639\u062f\u0627\u062f \u0627\u0644\u062a\u0635\u0646\u064a\u0641 \u0645\u062a\u0639\u062f\u062f \u0627\u0644\u0641\u0626\u0627\u062a \u0645\u0639 \u0627\u0644\u0641\u0626\u0627\u062a \u063a\u064a\u0631 \u0627\u0644\u0645\u062a\u0648\u0627\u0632\u0646\u0629 \u0644\u0644\u063a\u0627\u064a\u0629\u060c\n\u064a\u0641\u0636\u0644 \u0627\u0644\u0645\u062a\u0648\u0633\u0637 \u0627\u0644\u062f\u0642\u064a\u0642 \u0639\u0644\u0649 \u0627\u0644\u0645\u062a\u0648\u0633\u0637 \u0627\u0644\u0643\u0644\u064a. \u0641\u064a \u0645\u062b\u0644 \u0647\u0630\u0647 \u0627\u0644\u062d\u0627\u0644\u0627\u062a\u060c \u064a\u0645\u0643\u0646 \u0644\u0644\u0645\u0631\u0621\n\u0623\u0646 \u064a\u0633\u062a\u062e\u062f\u0645 \u0627\u0644\u0645\u062a\u0648\u0633\u0637 \u0627\u0644\u0643\u0644\u064a \u0627\u0644\u0645\u0631\u062c\u062d\u060c \u0648\u0627\u0644\u0630\u064a \u0644\u0645 \u064a\u062a\u0645 \u0639\u0631\u0636\u0647 \u0647\u0646\u0627.\n\n"
      ]
    },
    {
      "cell_type": "code",
      "execution_count": null,
      "metadata": {
        "collapsed": false
      },
      "outputs": [],
      "source": [
        "display = RocCurveDisplay.from_predictions(\n    y_onehot_test.ravel(),\n    y_score.ravel(),\n    name=\"micro-average OvR\",\n    color=\"darkorange\",\n    plot_chance_level=True,\n    # despine=True,\n)\n_ = display.ax_.set(\n    xlabel=\"False Positive Rate\",\n    ylabel=\"True Positive Rate\",\n    title=\"Micro-averaged One-vs-Rest\\nReceiver Operating Characteristic\",\n)"
      ]
    },
    {
      "cell_type": "markdown",
      "metadata": {},
      "source": [
        "\u0641\u064a \u0627\u0644\u062d\u0627\u0644\u0629 \u0627\u0644\u062a\u064a \u064a\u0643\u0648\u0646 \u0641\u064a\u0647\u0627 \u0627\u0644\u0627\u0647\u062a\u0645\u0627\u0645 \u0627\u0644\u0631\u0626\u064a\u0633\u064a \u0644\u064a\u0633 \u0628\u0627\u0644\u0645\u062e\u0637\u0637 \u0648\u0644\u0643\u0646 \u0628\u0642\u064a\u0645\u0629 ROC-AUC\n\u0646\u0641\u0633\u0647\u0627\u060c \u064a\u0645\u0643\u0646\u0646\u0627 \u0625\u0639\u0627\u062f\u0629 \u0625\u0646\u062a\u0627\u062c \u0627\u0644\u0642\u064a\u0645\u0629 \u0627\u0644\u0645\u0639\u0631\u0648\u0636\u0629 \u0641\u064a \u0627\u0644\u0645\u062e\u0637\u0637 \u0628\u0627\u0633\u062a\u062e\u062f\u0627\u0645\n:class:`~sklearn.metrics.roc_auc_score`.\n\n"
      ]
    },
    {
      "cell_type": "code",
      "execution_count": null,
      "metadata": {
        "collapsed": false
      },
      "outputs": [],
      "source": [
        "from sklearn.metrics import roc_auc_score\n\nmicro_roc_auc_ovr = roc_auc_score(\n    y_test,\n    y_score,\n    multi_class=\"ovr\",\n    average=\"micro\",\n)\n\nprint(f\"Micro-averaged One-vs-Rest ROC AUC score:\\n{micro_roc_auc_ovr:.2f}\")"
      ]
    },
    {
      "cell_type": "markdown",
      "metadata": {},
      "source": [
        "\u0647\u0630\u0627 \u064a\u0639\u0627\u062f\u0644 \u062d\u0633\u0627\u0628 \u0645\u0646\u062d\u0646\u0649 ROC \u0628\u0627\u0633\u062a\u062e\u062f\u0627\u0645\n:class:`~sklearn.metrics.roc_curve` \u062b\u0645 \u062d\u0633\u0627\u0628 \u0627\u0644\u0645\u0633\u0627\u062d\u0629 \u062a\u062d\u062a \u0627\u0644\u0645\u0646\u062d\u0646\u0649 \u0628\u0627\u0633\u062a\u062e\u062f\u0627\u0645\n:class:`~sklearn.metrics.auc` \u0644\u0644\u0641\u0626\u0627\u062a \u0627\u0644\u062d\u0642\u064a\u0642\u064a\u0629 \u0648\u0627\u0644\u0645\u062a\u0648\u0642\u0639\u0629 \u0627\u0644\u0645\u0628\u0633\u0637\u0629.\n\n"
      ]
    },
    {
      "cell_type": "code",
      "execution_count": null,
      "metadata": {
        "collapsed": false
      },
      "outputs": [],
      "source": [
        "from sklearn.metrics import auc, roc_curve\n\n# \u062a\u062e\u0632\u064a\u0646 fpr, tpr, \u0648 roc_auc \u0644\u062c\u0645\u064a\u0639 \u0627\u0633\u062a\u0631\u0627\u062a\u064a\u062c\u064a\u0627\u062a \u0627\u0644\u0645\u062a\u0648\u0633\u0637\nfpr, tpr, roc_auc = dict(), dict(), dict()\n# \u062d\u0633\u0627\u0628 \u0645\u0646\u062d\u0646\u0649 ROC \u0627\u0644\u0645\u062a\u0648\u0633\u0637 \u0627\u0644\u062f\u0642\u064a\u0642 \u0648\u0627\u0644\u0645\u0633\u0627\u062d\u0629 \u062a\u062d\u062a \u0627\u0644\u0645\u0646\u062d\u0646\u0649\nfpr[\"micro\"], tpr[\"micro\"], _ = roc_curve(y_onehot_test.ravel(), y_score.ravel())\nroc_auc[\"micro\"] = auc(fpr[\"micro\"], tpr[\"micro\"])\n\nprint(f\"Micro-averaged One-vs-Rest ROC AUC score:\\n{roc_auc['micro']:.2f}\")"
      ]
    },
    {
      "cell_type": "markdown",
      "metadata": {},
      "source": [
        "<div class=\"alert alert-info\"><h4>Note</h4><p>\u0628\u0634\u0643\u0644 \u0627\u0641\u062a\u0631\u0627\u0636\u064a\u060c \u064a\u0642\u0648\u0645 \u062d\u0633\u0627\u0628 \u0645\u0646\u062d\u0646\u0649 ROC \u0628\u0625\u0636\u0627\u0641\u0629 \u0646\u0642\u0637\u0629 \u0648\u0627\u062d\u062f\u0629 \u0639\u0646\u062f\n    \u0623\u0642\u0635\u0649 \u0645\u0639\u062f\u0644 \u0625\u064a\u062c\u0627\u0628\u064a\u0627\u062a \u062e\u0627\u0637\u0626\u0629 \u0628\u0627\u0633\u062a\u062e\u062f\u0627\u0645 \u0627\u0644\u0627\u0633\u062a\u064a\u0641\u0627\u0621 \u0627\u0644\u062e\u0637\u064a \u0648\u062a\u0635\u062d\u064a\u062d McClish [:doi:`Analyzing a portion of the ROC curve Med Decis\n    Making. 1989 Jul-Sep; 9(3):190-5.<10.1177/0272989x8900900307>`].</p></div>\n\n### \u0645\u0646\u062d\u0646\u0649 ROC \u0628\u0627\u0633\u062a\u062e\u062f\u0627\u0645 \u0627\u0644\u0645\u062a\u0648\u0633\u0637 \u0627\u0644\u0643\u0644\u064a \u0644\u0640 OvR\n\n\u064a\u062a\u0637\u0644\u0628 \u0627\u0644\u062d\u0635\u0648\u0644 \u0639\u0644\u0649 \u0627\u0644\u0645\u062a\u0648\u0633\u0637 \u0627\u0644\u0643\u0644\u064a \u062d\u0633\u0627\u0628 \u0627\u0644\u0645\u0642\u064a\u0627\u0633 \u0628\u0634\u0643\u0644 \u0645\u0633\u062a\u0642\u0644 \u0644\u0643\u0644\n\u0641\u0626\u0629 \u062b\u0645 \u0623\u062e\u0630 \u0627\u0644\u0645\u062a\u0648\u0633\u0637 \u0639\u0628\u0631\u0647\u0627\u060c \u0648\u0628\u0627\u0644\u062a\u0627\u0644\u064a \u0645\u0639\u0627\u0645\u0644\u0629 \u062c\u0645\u064a\u0639 \u0627\u0644\u0641\u0626\u0627\u062a \u0628\u0634\u0643\u0644 \u0645\u062a\u0633\u0627\u0648\u064d \u0645\u0633\u0628\u0642\u064b\u0627. \u0646\u0642\u0648\u0645 \u0623\u0648\u0644\u0627\u064b \u0628\u062a\u062c\u0645\u064a\u0639 \u0645\u0639\u062f\u0644\u0627\u062a \u0627\u0644\u0625\u064a\u062c\u0627\u0628\u064a\u0627\u062a \u0627\u0644\u062d\u0642\u064a\u0642\u064a\u0629/\u0627\u0644\u062e\u0627\u0637\u0626\u0629 \u0644\u0643\u0644 \u0641\u0626\u0629:\n\n"
      ]
    },
    {
      "cell_type": "code",
      "execution_count": null,
      "metadata": {
        "collapsed": false
      },
      "outputs": [],
      "source": [
        "for i in range(n_classes):\n    fpr[i], tpr[i], _ = roc_curve(y_onehot_test[:, i], y_score[:, i])\n    roc_auc[i] = auc(fpr[i], tpr[i])\n\nfpr_grid = np.linspace(0.0, 1.0, 1000)\n\n# \u0627\u0633\u062a\u064a\u0641\u0627\u0621 \u062c\u0645\u064a\u0639 \u0645\u0646\u062d\u0646\u064a\u0627\u062a ROC \u0639\u0646\u062f \u0647\u0630\u0647 \u0627\u0644\u0646\u0642\u0627\u0637\nmean_tpr = np.zeros_like(fpr_grid)\n\nfor i in range(n_classes):\n    mean_tpr += np.interp(fpr_grid, fpr[i], tpr[i])  # \u0627\u0644\u0627\u0633\u062a\u064a\u0641\u0627\u0621 \u0627\u0644\u062e\u0637\u064a\n\n# \u062d\u0633\u0627\u0628 \u0627\u0644\u0645\u062a\u0648\u0633\u0637 \u0648\u062d\u0633\u0627\u0628 AUC\nmean_tpr /= n_classes\n\nfpr[\"macro\"] = fpr_grid\ntpr[\"macro\"] = mean_tpr\nroc_auc[\"macro\"] = auc(fpr[\"macro\"], tpr[\"macro\"])\n\nprint(f\"Macro-averaged One-vs-Rest ROC AUC score:\\n{roc_auc['macro']:.2f}\")"
      ]
    },
    {
      "cell_type": "markdown",
      "metadata": {},
      "source": [
        "\u0647\u0630\u0627 \u0627\u0644\u062d\u0633\u0627\u0628 \u064a\u0639\u0627\u062f\u0644 \u0628\u0628\u0633\u0627\u0637\u0629 \u0627\u0633\u062a\u062f\u0639\u0627\u0621\n\n"
      ]
    },
    {
      "cell_type": "code",
      "execution_count": null,
      "metadata": {
        "collapsed": false
      },
      "outputs": [],
      "source": [
        "macro_roc_auc_ovr = roc_auc_score(\n    y_test,\n    y_score,\n    multi_class=\"ovr\",\n    average=\"macro\",\n)\n\nprint(f\"Macro-averaged One-vs-Rest ROC AUC score:\\n{macro_roc_auc_ovr:.2f}\")"
      ]
    },
    {
      "cell_type": "markdown",
      "metadata": {},
      "source": [
        "### \u0631\u0633\u0645 \u062c\u0645\u064a\u0639 \u0645\u0646\u062d\u0646\u064a\u0627\u062a OvR ROC \u0645\u0639\u064b\u0627\n\n"
      ]
    },
    {
      "cell_type": "code",
      "execution_count": null,
      "metadata": {
        "collapsed": false
      },
      "outputs": [],
      "source": [
        "from itertools import cycle\n\nfig, ax = plt.subplots(figsize=(6, 6))\n\nplt.plot(\n    fpr[\"micro\"],\n    tpr[\"micro\"],\n    label=f\"micro-average ROC curve (AUC = {roc_auc['micro']:.2f})\",\n    color=\"deeppink\",\n    linestyle=\":\",\n    linewidth=4,\n)\n\nplt.plot(\n    fpr[\"macro\"],\n    tpr[\"macro\"],\n    label=f\"macro-average ROC curve (AUC = {roc_auc['macro']:.2f})\",\n    color=\"navy\",\n    linestyle=\":\",\n    linewidth=4,\n)\n\ncolors = cycle([\"aqua\", \"darkorange\", \"cornflowerblue\"])\nfor class_id, color in zip(range(n_classes), colors):\n    RocCurveDisplay.from_predictions(\n        y_onehot_test[:, class_id],\n        y_score[:, class_id],\n        name=f\"ROC curve for {target_names[class_id]}\",\n        color=color,\n        ax=ax,\n        plot_chance_level=(class_id == 2),\n        # despine=True,\n    )\n\n_ = ax.set(\n    xlabel=\"False Positive Rate\",\n    ylabel=\"True Positive Rate\",\n    title=\"Extension of Receiver Operating Characteristic\\nto One-vs-Rest multiclass\",\n)"
      ]
    },
    {
      "cell_type": "markdown",
      "metadata": {},
      "source": [
        "## \u0645\u0646\u062d\u0646\u0649 \u0627\u0633\u062a\u0642\u0628\u0627\u0644 \u0627\u0644\u062a\u0634\u063a\u064a\u0644 \u0645\u062a\u0639\u062f\u062f \u0627\u0644\u0641\u0626\u0627\u062a One-vs-One\n\n\u062a\u062a\u0643\u0648\u0646 \u0627\u0633\u062a\u0631\u0627\u062a\u064a\u062c\u064a\u0629 One-vs-One (OvO) \u0645\u062a\u0639\u062f\u062f\u0629 \u0627\u0644\u0641\u0626\u0627\u062a \u0645\u0646 \u0645\u0644\u0627\u0621\u0645\u0629 \u0645\u0635\u0646\u0641 \u0648\u0627\u062d\u062f\n\u0644\u0643\u0644 \u0632\u0648\u062c \u0645\u0646 \u0627\u0644\u0641\u0626\u0627\u062a. \u0646\u0638\u0631\u064b\u0627 \u0644\u0623\u0646\u0647 \u064a\u062a\u0637\u0644\u0628 \u062a\u062f\u0631\u064a\u0628 `n_classes` * (`n_classes` - 1) / 2\n\u0645\u0646 \u0627\u0644\u0645\u0635\u0646\u0641\u0627\u062a\u060c \u0641\u0625\u0646 \u0647\u0630\u0647 \u0627\u0644\u0637\u0631\u064a\u0642\u0629 \u062a\u0643\u0648\u0646 \u0639\u0627\u062f\u0629\u064b \u0623\u0628\u0637\u0623 \u0645\u0646 One-vs-Rest \u0628\u0633\u0628\u0628 \u062a\u0639\u0642\u064a\u062f\u0647\u0627\nO(`n_classes` ^2).\n\n\u0641\u064a \u0647\u0630\u0627 \u0627\u0644\u0642\u0633\u0645\u060c \u0646\u0639\u0631\u0636 \u0627\u0644\u0645\u062a\u0648\u0633\u0637 \u0627\u0644\u0643\u0644\u064a \u0644\u0640 AUC \u0628\u0627\u0633\u062a\u062e\u062f\u0627\u0645 \u0645\u062e\u0637\u0637 OvO \u0644\u0644\u0645\u062c\u0645\u0648\u0639\u0627\u062a \u0627\u0644\u062b\u0644\u0627\u062b \u0627\u0644\u0645\u0645\u0643\u0646\u0629 \u0641\u064a `iris_dataset`: \"setosa\" vs\n\"versicolor\"\u060c \u0648\"versicolor\" vs \"virginica\"\u060c \u0648\"virginica\" vs \"setosa\". \u0644\u0627\u062d\u0638\n\u0623\u0646 \u0627\u0644\u0645\u062a\u0648\u0633\u0637 \u0627\u0644\u062f\u0642\u064a\u0642 \u063a\u064a\u0631 \u0645\u062d\u062f\u062f \u0644\u0645\u062e\u0637\u0637 OvO.\n\n### \u0645\u0646\u062d\u0646\u0649 ROC \u0628\u0627\u0633\u062a\u062e\u062f\u0627\u0645 \u0627\u0644\u0645\u062a\u0648\u0633\u0637 \u0627\u0644\u0643\u0644\u064a \u0644\u0640 OvO\n\n\u0641\u064a \u0645\u062e\u0637\u0637 OvO\u060c \u062a\u062a\u0645\u062b\u0644 \u0627\u0644\u062e\u0637\u0648\u0629 \u0627\u0644\u0623\u0648\u0644\u0649 \u0641\u064a \u062a\u062d\u062f\u064a\u062f \u062c\u0645\u064a\u0639 \u0627\u0644\u0645\u062c\u0645\u0648\u0639\u0627\u062a \u0627\u0644\u0641\u0631\u064a\u062f\u0629 \u0627\u0644\u0645\u0645\u0643\u0646\u0629 \u0645\u0646 \u0627\u0644\u0623\u0632\u0648\u0627\u062c. \u064a\u062a\u0645 \u062d\u0633\u0627\u0628 \u0627\u0644\u062f\u0631\u062c\u0627\u062a \u0639\u0646 \u0637\u0631\u064a\u0642 \u0645\u0639\u0627\u0645\u0644\u0629 \u0623\u062d\u062f \u0627\u0644\u0639\u0646\u0627\u0635\u0631 \u0641\u064a \u0632\u0648\u062c \u0645\u0639\u064a\u0646 \u0639\u0644\u0649 \u0623\u0646\u0647 \u0627\u0644\u0641\u0626\u0629 \u0627\u0644\u0625\u064a\u062c\u0627\u0628\u064a\u0629 \u0648\u0627\u0644\u0639\u0646\u0635\u0631 \u0627\u0644\u0622\u062e\u0631 \u0639\u0644\u0649 \u0623\u0646\u0647 \u0627\u0644\u0641\u0626\u0629 \u0627\u0644\u0633\u0644\u0628\u064a\u0629\u060c \u062b\u0645 \u0625\u0639\u0627\u062f\u0629 \u062d\u0633\u0627\u0628 \u0627\u0644\u062f\u0631\u062c\u0629 \u0639\u0646 \u0637\u0631\u064a\u0642 \u0639\u0643\u0633 \u0627\u0644\u0623\u062f\u0648\u0627\u0631 \u0648\u0623\u062e\u0630 \u0645\u062a\u0648\u0633\u0637 \u0627\u0644\u062f\u0631\u062c\u062a\u064a\u0646.\n\n"
      ]
    },
    {
      "cell_type": "code",
      "execution_count": null,
      "metadata": {
        "collapsed": false
      },
      "outputs": [],
      "source": [
        "from itertools import combinations\n\npair_list = list(combinations(np.unique(y), 2))\nprint(pair_list)"
      ]
    },
    {
      "cell_type": "code",
      "execution_count": null,
      "metadata": {
        "collapsed": false
      },
      "outputs": [],
      "source": [
        "pair_scores = []\nmean_tpr = dict()\n\nfor ix, (label_a, label_b) in enumerate(pair_list):\n    a_mask = y_test == label_a\n    b_mask = y_test == label_b\n    ab_mask = np.logical_or(a_mask, b_mask)\n\n    a_true = a_mask[ab_mask]\n    b_true = b_mask[ab_mask]\n\n    idx_a = np.flatnonzero(label_binarizer.classes_ == label_a)[0]\n    idx_b = np.flatnonzero(label_binarizer.classes_ == label_b)[0]\n\n    fpr_a, tpr_a, _ = roc_curve(a_true, y_score[ab_mask, idx_a])\n    fpr_b, tpr_b, _ = roc_curve(b_true, y_score[ab_mask, idx_b])\n\n    mean_tpr[ix] = np.zeros_like(fpr_grid)\n    mean_tpr[ix] += np.interp(fpr_grid, fpr_a, tpr_a)\n    mean_tpr[ix] += np.interp(fpr_grid, fpr_b, tpr_b)\n    mean_tpr[ix] /= 2\n    mean_score = auc(fpr_grid, mean_tpr[ix])\n    pair_scores.append(mean_score)\n\n    fig, ax = plt.subplots(figsize=(6, 6))\n    plt.plot(\n        fpr_grid,\n        mean_tpr[ix],\n        label=f\"Mean {label_a} vs {label_b} (AUC = {mean_score :.2f})\",\n        linestyle=\":\",\n        linewidth=4,\n    )\n    RocCurveDisplay.from_predictions(\n        a_true,\n        y_score[ab_mask, idx_a],\n        ax=ax,\n        name=f\"{label_a} as positive class\",\n    )\n    RocCurveDisplay.from_predictions(\n        b_true,\n        y_score[ab_mask, idx_b],\n        ax=ax,\n        name=f\"{label_b} as positive class\",\n        plot_chance_level=True,\n        # despine=True,\n    )\n    ax.set(\n        xlabel=\"False Positive Rate\",\n        ylabel=\"True Positive Rate\",\n        title=f\"{target_names[idx_a]} vs {label_b} ROC curves\",\n    )\n\nprint(f\"Macro-averaged One-vs-One ROC AUC score:\\n{np.average(pair_scores):.2f}\")"
      ]
    },
    {
      "cell_type": "markdown",
      "metadata": {},
      "source": [
        "\u064a\u0645\u0643\u0646 \u0644\u0644\u0645\u0631\u0621 \u0623\u064a\u0636\u064b\u0627 \u0627\u0644\u062a\u0623\u0643\u064a\u062f \u0639\u0644\u0649 \u0623\u0646 \u0627\u0644\u0645\u062a\u0648\u0633\u0637 \u200b\u200b\u0627\u0644\u0643\u0644\u064a \u0627\u0644\u0630\u064a \u062d\u0633\u0628\u0646\u0627\u0647 \"\u064a\u062f\u0648\u064a\u064b\u0627\" \u0645\u0643\u0627\u0641\u0626\n\u0644\u062e\u064a\u0627\u0631 `average=\"macro\"` \u0627\u0644\u0645\u0637\u0628\u0642 \u0641\u064a \u062f\u0627\u0644\u0629\n:class:`~sklearn.metrics.roc_auc_score`.\n\n"
      ]
    },
    {
      "cell_type": "code",
      "execution_count": null,
      "metadata": {
        "collapsed": false
      },
      "outputs": [],
      "source": [
        "macro_roc_auc_ovo = roc_auc_score(\n    y_test,\n    y_score,\n    multi_class=\"ovo\",\n    average=\"macro\",\n)\n\nprint(f\"\u062f\u0631\u062c\u0629 \u0645\u062a\u0648\u0633\u0637 One-vs-One ROC AUC \u0627\u0644\u0643\u0644\u064a:\\n{macro_roc_auc_ovo:.2f}\")"
      ]
    },
    {
      "cell_type": "markdown",
      "metadata": {},
      "source": [
        "### \u0631\u0633\u0645 \u062c\u0645\u064a\u0639 \u0645\u0646\u062d\u0646\u064a\u0627\u062a OvO ROC \u0645\u0639\u064b\u0627\n\n"
      ]
    },
    {
      "cell_type": "code",
      "execution_count": null,
      "metadata": {
        "collapsed": false
      },
      "outputs": [],
      "source": [
        "ovo_tpr = np.zeros_like(fpr_grid)\n\nfig, ax = plt.subplots(figsize=(6, 6))\nfor ix, (label_a, label_b) in enumerate(pair_list):\n    ovo_tpr += mean_tpr[ix]\n    ax.plot(\n        fpr_grid,\n        mean_tpr[ix],\n        label=f\"\u0645\u062a\u0648\u0633\u0637 {label_a} \u0645\u0642\u0627\u0628\u0644 {label_b} (AUC = {pair_scores[ix]:.2f})\",\n    )\n\novo_tpr /= sum(1 for pair in enumerate(pair_list))\n\nax.plot(\n    fpr_grid,\n    ovo_tpr,\n    label=f\"One-vs-One \u0645\u062a\u0648\u0633\u0637 \u0643\u0644\u064a (AUC = {macro_roc_auc_ovo:.2f})\",\n    linestyle=\":\",\n    linewidth=4,\n)\nax.plot([0, 1], [0, 1], \"k--\", label=\"\u0645\u0633\u062a\u0648\u0649 \u0627\u0644\u0635\u062f\u0641\u0629 (AUC = 0.5)\")\n_ = ax.set(\n    xlabel=\"\u0645\u0639\u062f\u0644 \u0627\u0644\u0625\u064a\u062c\u0627\u0628\u064a\u0627\u062a \u0627\u0644\u062e\u0627\u0637\u0626\u0629\",\n    ylabel=\"\u0645\u0639\u062f\u0644 \u0627\u0644\u0625\u064a\u062c\u0627\u0628\u064a\u0627\u062a \u0627\u0644\u062d\u0642\u064a\u0642\u064a\u0629\",\n    title=\"\u062a\u0645\u062f\u064a\u062f \u062e\u0627\u0635\u064a\u0629 \u062a\u0634\u063a\u064a\u0644 \u0627\u0644\u0645\u0633\u062a\u0642\u0628\u0644\\n\u0625\u0644\u0649 One-vs-One \u0645\u062a\u0639\u062f\u062f \u0627\u0644\u0641\u0626\u0627\u062a\",\n    aspect=\"equal\",\n    xlim=(-0.01, 1.01),\n    ylim=(-0.01, 1.01),\n)"
      ]
    },
    {
      "cell_type": "markdown",
      "metadata": {},
      "source": [
        "\u0646\u0624\u0643\u062f \u0623\u0646 \u0627\u0644\u0641\u0626\u062a\u064a\u0646 \"versicolor\" \u0648 \"virginica\" \u063a\u064a\u0631 \u0645\u062d\u062f\u062f\u062a\u064a\u0646 \u062c\u064a\u062f\u064b\u0627\n\u0628\u0648\u0627\u0633\u0637\u0629 \u0645\u0635\u0646\u0641 \u062e\u0637\u064a. \u0644\u0627\u062d\u0638 \u0623\u0646 \u062f\u0631\u062c\u0629 \"virginica\"-\u0645\u0642\u0627\u0628\u0644-\u0627\u0644\u0628\u0642\u064a\u0629\nROC-AUC (0.77) \u062a\u0642\u0639 \u0628\u064a\u0646 \u062f\u0631\u062c\u0627\u062a OvO ROC-AUC \u0644\u0640 \"versicolor\" \u0645\u0642\u0627\u0628\u0644\n\"virginica\" (0.64) \u0648 \"setosa\" \u0645\u0642\u0627\u0628\u0644 \"virginica\" (0.90). \u0641\u064a \u0627\u0644\u0648\u0627\u0642\u0639\u060c\n\u062a\u0639\u0637\u064a \u0627\u0633\u062a\u0631\u0627\u062a\u064a\u062c\u064a\u0629 OvO \u0645\u0639\u0644\u0648\u0645\u0627\u062a \u0625\u0636\u0627\u0641\u064a\u0629 \u062d\u0648\u0644 \u0627\u0644\u0627\u0644\u062a\u0628\u0627\u0633 \u0628\u064a\u0646 \u0632\u0648\u062c\n\u0645\u0646 \u0627\u0644\u0641\u0626\u0627\u062a\u060c \u0639\u0644\u0649 \u062d\u0633\u0627\u0628 \u0627\u0644\u062a\u0643\u0644\u0641\u0629 \u0627\u0644\u062d\u0633\u0627\u0628\u064a\u0629 \u0639\u0646\u062f\u0645\u0627 \u064a\u0643\u0648\u0646 \u0639\u062f\u062f \u0627\u0644\u0641\u0626\u0627\u062a\n\u0643\u0628\u064a\u0631\u064b\u0627.\n\n\u064a\u0648\u0635\u0649 \u0628\u0627\u0633\u062a\u062e\u062f\u0627\u0645 \u0627\u0633\u062a\u0631\u0627\u062a\u064a\u062c\u064a\u0629 OvO \u0625\u0630\u0627 \u0643\u0627\u0646 \u0627\u0644\u0645\u0633\u062a\u062e\u062f\u0645 \u0645\u0647\u062a\u0645\u064b\u0627 \u0628\u0634\u0643\u0644 \u0623\u0633\u0627\u0633\u064a\n\u0628\u062a\u062d\u062f\u064a\u062f \u0641\u0626\u0629 \u0645\u0639\u064a\u0646\u0629 \u0623\u0648 \u0645\u062c\u0645\u0648\u0639\u0629 \u0641\u0631\u0639\u064a\u0629 \u0645\u0646 \u0627\u0644\u0641\u0626\u0627\u062a \u0628\u0634\u0643\u0644 \u0635\u062d\u064a\u062d\u060c \u0628\u064a\u0646\u0645\u0627 \u064a\u0645\u0643\u0646\n\u062a\u0644\u062e\u064a\u0635 \u0627\u0644\u062a\u0642\u064a\u064a\u0645 \u0627\u0644\u0634\u0627\u0645\u0644 \u0644\u0623\u062f\u0627\u0621 \u0627\u0644\u0645\u0635\u0646\u0641 \u0645\u0646 \u062e\u0644\u0627\u0644 \u0627\u0633\u062a\u0631\u0627\u062a\u064a\u062c\u064a\u0629\n\u0645\u062a\u0648\u0633\u0637 \u200b\u200b\u0645\u062d\u062f\u062f\u0629.\n\n\u0645\u062a\u0648\u0633\u0637 OvR ROC \u0627\u0644\u062c\u0632\u0626\u064a \u064a\u0647\u064a\u0645\u0646 \u0639\u0644\u064a\u0647 \u0627\u0644\u0641\u0626\u0629 \u0627\u0644\u0623\u0643\u062b\u0631 \u062a\u0643\u0631\u0627\u0631\u064b\u0627\u060c \u062d\u064a\u062b\n\u064a\u062a\u0645 \u062a\u062c\u0645\u064a\u0639 \u0627\u0644\u062a\u0647\u0645. \u064a\u0639\u0643\u0633 \u0627\u0644\u0628\u062f\u064a\u0644 \u0627\u0644\u0645\u062a\u0648\u0633\u0637 \u200b\u200b\u0627\u0644\u0643\u0644\u064a \u0625\u062d\u0635\u0627\u0626\u064a\u0627\u062a\n\u0627\u0644\u0641\u0626\u0627\u062a \u0627\u0644\u0623\u0642\u0644 \u062a\u0643\u0631\u0627\u0631\u064b\u0627 \u0628\u0634\u0643\u0644 \u0623\u0641\u0636\u0644\u060c \u0648\u0645\u0646 \u062b\u0645 \u064a\u0643\u0648\u0646 \u0623\u0643\u062b\u0631 \u0645\u0644\u0627\u0621\u0645\u0629 \u0639\u0646\u062f\u0645\u0627\n\u064a\u0639\u062a\u0628\u0631 \u0627\u0644\u0623\u062f\u0627\u0621 \u0641\u064a \u062c\u0645\u064a\u0639 \u0627\u0644\u0641\u0626\u0627\u062a \u0630\u0627 \u0623\u0647\u0645\u064a\u0629 \u0645\u062a\u0633\u0627\u0648\u064a\u0629.\n\n"
      ]
    }
  ],
  "metadata": {
    "kernelspec": {
      "display_name": "Python 3",
      "language": "python",
      "name": "python3"
    },
    "language_info": {
      "codemirror_mode": {
        "name": "ipython",
        "version": 3
      },
      "file_extension": ".py",
      "mimetype": "text/x-python",
      "name": "python",
      "nbconvert_exporter": "python",
      "pygments_lexer": "ipython3",
      "version": "3.10.13"
    }
  },
  "nbformat": 4,
  "nbformat_minor": 0
}