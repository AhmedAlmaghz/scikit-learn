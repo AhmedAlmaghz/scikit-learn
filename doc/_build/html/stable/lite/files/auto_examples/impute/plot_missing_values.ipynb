{
  "cells": [
    {
      "cell_type": "markdown",
      "metadata": {},
      "source": [
        "<div class='alert alert-warning'>\n\n# JupyterLite warning\n\nRunning the scikit-learn examples in JupyterLite is experimental and you may encounter some unexpected behavior.\n\nThe main difference is that imports will take a lot longer than usual, for example the first `import sklearn` can take roughly 10-20s.\n\nIf you notice problems, feel free to open an [issue](https://github.com/scikit-learn/scikit-learn/issues/new/choose) about it.\n</div>"
      ]
    },
    {
      "cell_type": "code",
      "execution_count": null,
      "metadata": {
        "collapsed": false
      },
      "outputs": [],
      "source": [
        "# JupyterLite-specific code\n%pip install pyodide-http\nimport pyodide_http\npyodide_http.patch_all()\nimport matplotlib\nimport pandas"
      ]
    },
    {
      "cell_type": "markdown",
      "metadata": {},
      "source": [
        "\n# \u0627\u0633\u062a\u0646\u062a\u0627\u062c \u0627\u0644\u0642\u064a\u0645 \u0627\u0644\u0645\u0641\u0642\u0648\u062f\u0629 \u0642\u0628\u0644 \u0628\u0646\u0627\u0621 \u0623\u062f\u0627\u0629 \u062a\u0642\u062f\u064a\u0631\n\n\u064a\u0645\u0643\u0646 \u0627\u0633\u062a\u0628\u062f\u0627\u0644 \u0627\u0644\u0642\u064a\u0645 \u0627\u0644\u0645\u0641\u0642\u0648\u062f\u0629 \u0628\u0627\u0644\u0645\u062a\u0648\u0633\u0637 \u0623\u0648 \u0627\u0644\u0648\u0633\u064a\u0637 \u0623\u0648 \u0627\u0644\u0642\u064a\u0645\u0629 \u0627\u0644\u0623\u0643\u062b\u0631 \u062a\u0643\u0631\u0627\u0631\u064b\u0627 \u0628\u0627\u0633\u062a\u062e\u062f\u0627\u0645 :class:`~sklearn.impute.SimpleImputer` \u0627\u0644\u0623\u0633\u0627\u0633\u064a.\n\n\u0641\u064a \u0647\u0630\u0627 \u0627\u0644\u0645\u062b\u0627\u0644\u060c \u0633\u0646\u0628\u062d\u062b \u0641\u064a \u062a\u0642\u0646\u064a\u0627\u062a \u0627\u0644\u0627\u0633\u062a\u0646\u062a\u0627\u062c \u0627\u0644\u0645\u062e\u062a\u0644\u0641\u0629:\n\n- \u0627\u0644\u0627\u0633\u062a\u0646\u062a\u0627\u062c \u0628\u0627\u0644\u0642\u064a\u0645\u0629 \u0627\u0644\u062b\u0627\u0628\u062a\u0629 0\n- \u0627\u0644\u0627\u0633\u062a\u0646\u062a\u0627\u062c \u0628\u0648\u0627\u0633\u0637\u0629 \u0627\u0644\u0642\u064a\u0645\u0629 \u0627\u0644\u0645\u062a\u0648\u0633\u0637\u0629 \u0644\u0643\u0644 \u0645\u064a\u0632\u0629 \u0645\u062f\u0645\u062c\u0629 \u0645\u0639 \u0645\u062a\u063a\u064a\u0631 \u0645\u0633\u0627\u0639\u062f \u0644\u0645\u0624\u0634\u0631 \u0627\u0644\u0641\u0642\u062f\n- \u0627\u0633\u062a\u0646\u062a\u0627\u062c \u0623\u0642\u0631\u0628 \u062c\u0627\u0631 k\n- \u0627\u0644\u0627\u0633\u062a\u0646\u062a\u0627\u062c \u0627\u0644\u062a\u0643\u0631\u0627\u0631\u064a\n\n\u0633\u0646\u0633\u062a\u062e\u062f\u0645 \u0645\u062c\u0645\u0648\u0639\u062a\u064a \u0628\u064a\u0627\u0646\u0627\u062a: \u0645\u062c\u0645\u0648\u0639\u0629 \u0628\u064a\u0627\u0646\u0627\u062a \u0645\u0631\u0636 \u0627\u0644\u0633\u0643\u0631\u064a \u0627\u0644\u062a\u064a \u062a\u062a\u0643\u0648\u0646 \u0645\u0646 10 \u0645\u062a\u063a\u064a\u0631\u0627\u062a \u0645\u064a\u0632\u0627\u062a \u062a\u0645 \u062c\u0645\u0639\u0647\u0627 \u0645\u0646 \u0645\u0631\u0636\u0649 \u0627\u0644\u0633\u0643\u0631\u064a \u0628\u0647\u062f\u0641 \u0627\u0644\u062a\u0646\u0628\u0624 \u0628\u062a\u0637\u0648\u0631 \u0627\u0644\u0645\u0631\u0636 \u0648\u0645\u062c\u0645\u0648\u0639\u0629 \u0628\u064a\u0627\u0646\u0627\u062a \u0625\u0633\u0643\u0627\u0646 \u0643\u0627\u0644\u064a\u0641\u0648\u0631\u0646\u064a\u0627 \u0627\u0644\u062a\u064a \u064a\u0643\u0648\u0646 \u0647\u062f\u0641\u0647\u0627 \u0645\u062a\u0648\u0633\u0637 \u0642\u064a\u0645\u0629 \u0627\u0644\u0645\u0646\u0632\u0644 \u0644\u0645\u0642\u0627\u0637\u0639\u0627\u062a \u0643\u0627\u0644\u064a\u0641\u0648\u0631\u0646\u064a\u0627.\n\n\u0646\u0638\u0631\u064b\u0627 \u0644\u0639\u062f\u0645 \u0648\u062c\u0648\u062f \u0642\u064a\u0645 \u0645\u0641\u0642\u0648\u062f\u0629 \u0641\u064a \u0623\u064a \u0645\u0646 \u0645\u062c\u0645\u0648\u0639\u062a\u064a \u0627\u0644\u0628\u064a\u0627\u0646\u0627\u062a \u0647\u0630\u0647\u060c \u0641\u0633\u0646\u0632\u064a\u0644 \u0628\u0639\u0636 \u0627\u0644\u0642\u064a\u0645 \u0644\u0625\u0646\u0634\u0627\u0621 \u0625\u0635\u062f\u0627\u0631\u0627\u062a \u062c\u062f\u064a\u062f\u0629 \u0628\u0628\u064a\u0627\u0646\u0627\u062a \u0645\u0641\u0642\u0648\u062f\u0629 \u0628\u0634\u0643\u0644 \u0645\u0635\u0637\u0646\u0639. \u062a\u062a\u0645 \u0628\u0639\u062f \u0630\u0644\u0643 \u0645\u0642\u0627\u0631\u0646\u0629 \u0623\u062f\u0627\u0621 :class:`~sklearn.ensemble.RandomForestRegressor` \u0639\u0644\u0649 \u0645\u062c\u0645\u0648\u0639\u0629 \u0627\u0644\u0628\u064a\u0627\u0646\u0627\u062a \u0627\u0644\u0623\u0635\u0644\u064a\u0629 \u0627\u0644\u0643\u0627\u0645\u0644\u0629 \u0628\u0627\u0644\u0623\u062f\u0627\u0621 \u0639\u0644\u0649 \u0645\u062c\u0645\u0648\u0639\u0627\u062a \u0627\u0644\u0628\u064a\u0627\u0646\u0627\u062a \u0627\u0644\u0645\u0639\u062f\u0644\u0629 \u0645\u0639 \u0627\u0644\u0642\u064a\u0645 \u0627\u0644\u0645\u0641\u0642\u0648\u062f\u0629 \u0628\u0634\u0643\u0644 \u0645\u0635\u0637\u0646\u0639 \u0627\u0644\u0645\u0633\u062a\u0646\u062a\u062c\u0629 \u0628\u0627\u0633\u062a\u062e\u062f\u0627\u0645 \u062a\u0642\u0646\u064a\u0627\u062a \u0645\u062e\u062a\u0644\u0641\u0629.\n"
      ]
    },
    {
      "cell_type": "code",
      "execution_count": null,
      "metadata": {
        "collapsed": false
      },
      "outputs": [],
      "source": [
        "# Authors: The scikit-learn developers\n# SPDX-License-Identifier: BSD-3-Clause"
      ]
    },
    {
      "cell_type": "markdown",
      "metadata": {},
      "source": [
        "## \u062a\u0646\u0632\u064a\u0644 \u0627\u0644\u0628\u064a\u0627\u0646\u0627\u062a \u0648\u0625\u0646\u0634\u0627\u0621 \u0645\u062c\u0645\u0648\u0639\u0627\u062a \u0627\u0644\u0642\u064a\u0645 \u0627\u0644\u0645\u0641\u0642\u0648\u062f\u0629\n\n\u0623\u0648\u0644\u0627\u064b\u060c \u0646\u0642\u0648\u0645 \u0628\u062a\u0646\u0632\u064a\u0644 \u0645\u062c\u0645\u0648\u0639\u062a\u064a \u0627\u0644\u0628\u064a\u0627\u0646\u0627\u062a. \u064a\u062a\u0645 \u0634\u062d\u0646 \u0645\u062c\u0645\u0648\u0639\u0629 \u0628\u064a\u0627\u0646\u0627\u062a \u0645\u0631\u0636 \u0627\u0644\u0633\u0643\u0631\u064a \u0645\u0639 scikit-learn. \u062a\u062d\u062a\u0648\u064a \u0639\u0644\u0649 442 \u0625\u062f\u062e\u0627\u0644\u064b\u0627\u060c \u0644\u0643\u0644 \u0645\u0646\u0647\u0627 10 \u0645\u064a\u0632\u0627\u062a. \u0645\u062c\u0645\u0648\u0639\u0629 \u0628\u064a\u0627\u0646\u0627\u062a \u0625\u0633\u0643\u0627\u0646 \u0643\u0627\u0644\u064a\u0641\u0648\u0631\u0646\u064a\u0627 \u0623\u0643\u0628\u0631 \u0628\u0643\u062b\u064a\u0631 \u0645\u0639 20640 \u0625\u062f\u062e\u0627\u0644\u064b\u0627 \u0648 8 \u0645\u064a\u0632\u0627\u062a. \u064a\u062c\u0628 \u062a\u0646\u0632\u064a\u0644\u0647\u0627. \u0633\u0646\u0633\u062a\u062e\u062f\u0645 \u0641\u0642\u0637 \u0623\u0648\u0644 400 \u0625\u062f\u062e\u0627\u0644 \u0644\u062a\u0633\u0631\u064a\u0639 \u0627\u0644\u0639\u0645\u0644\u064a\u0627\u062a \u0627\u0644\u062d\u0633\u0627\u0628\u064a\u0629 \u0648\u0644\u0643\u0646 \u0644\u0627 \u062a\u062a\u0631\u062f\u062f \u0641\u064a \u0627\u0633\u062a\u062e\u062f\u0627\u0645 \u0645\u062c\u0645\u0648\u0639\u0629 \u0627\u0644\u0628\u064a\u0627\u0646\u0627\u062a \u0628\u0623\u0643\u0645\u0644\u0647\u0627.\n\n\n"
      ]
    },
    {
      "cell_type": "code",
      "execution_count": null,
      "metadata": {
        "collapsed": false
      },
      "outputs": [],
      "source": [
        "import numpy as np\n\nfrom sklearn.datasets import fetch_california_housing, load_diabetes\n\nrng = np.random.RandomState(42)\n\nX_diabetes, y_diabetes = load_diabetes(return_X_y=True)\nX_california, y_california = fetch_california_housing(return_X_y=True)\nX_california = X_california[:300]\ny_california = y_california[:300]\nX_diabetes = X_diabetes[:300]\ny_diabetes = y_diabetes[:300]\n\n\ndef add_missing_values(X_full, y_full):\n    n_samples, n_features = X_full.shape\n\n    # \u0625\u0636\u0627\u0641\u0629 \u0642\u064a\u0645 \u0645\u0641\u0642\u0648\u062f\u0629 \u0641\u064a 75\u066a \u0645\u0646 \u0627\u0644\u0623\u0633\u0637\u0631\n    missing_rate = 0.75\n    n_missing_samples = int(n_samples * missing_rate)\n\n    missing_samples = np.zeros(n_samples, dtype=bool)\n    missing_samples[:n_missing_samples] = True\n\n    rng.shuffle(missing_samples)\n    missing_features = rng.randint(0, n_features, n_missing_samples)\n    X_missing = X_full.copy()\n    X_missing[missing_samples, missing_features] = np.nan\n    y_missing = y_full.copy()\n\n    return X_missing, y_missing\n\n\nX_miss_california, y_miss_california = add_missing_values(X_california, y_california)\n\nX_miss_diabetes, y_miss_diabetes = add_missing_values(X_diabetes, y_diabetes)"
      ]
    },
    {
      "cell_type": "markdown",
      "metadata": {},
      "source": [
        "## \u0627\u0633\u062a\u0646\u062a\u0627\u062c \u0627\u0644\u0628\u064a\u0627\u0646\u0627\u062a \u0627\u0644\u0645\u0641\u0642\u0648\u062f\u0629 \u0648\u062a\u0633\u062c\u064a\u0644\u0647\u0627\n\u0627\u0644\u0622\u0646 \u0633\u0646\u0643\u062a\u0628 \u062f\u0627\u0644\u0629 \u0633\u062a\u0633\u062c\u0644 \u0627\u0644\u0646\u062a\u0627\u0626\u062c \u0639\u0644\u0649 \u0627\u0644\u0628\u064a\u0627\u0646\u0627\u062a \u0627\u0644\u0645\u0633\u062a\u0646\u062a\u062c\u0629 \u0628\u0634\u0643\u0644 \u0645\u062e\u062a\u0644\u0641. \u062f\u0639\u0648\u0646\u0627 \u0646\u0644\u0642\u064a \u0646\u0638\u0631\u0629 \u0639\u0644\u0649 \u0643\u0644 \u0623\u062f\u0627\u0629 \u0627\u0633\u062a\u0646\u062a\u0627\u062c \u0639\u0644\u0649 \u062d\u062f\u0629:\n\n\n"
      ]
    },
    {
      "cell_type": "code",
      "execution_count": null,
      "metadata": {
        "collapsed": false
      },
      "outputs": [],
      "source": [
        "rng = np.random.RandomState(0)\n\nfrom sklearn.ensemble import RandomForestRegressor\n\n# \u0644\u0627\u0633\u062a\u062e\u062f\u0627\u0645 IterativeImputer \u0627\u0644\u062a\u062c\u0631\u064a\u0628\u064a\u060c \u0646\u062d\u062a\u0627\u062c \u0625\u0644\u0649 \u0637\u0644\u0628\u0647 \u0635\u0631\u0627\u062d\u0629\u064b:\nfrom sklearn.experimental import enable_iterative_imputer  # noqa\nfrom sklearn.impute import IterativeImputer, KNNImputer, SimpleImputer\nfrom sklearn.model_selection import cross_val_score\nfrom sklearn.pipeline import make_pipeline\n\nN_SPLITS = 4\nregressor = RandomForestRegressor(random_state=0)"
      ]
    },
    {
      "cell_type": "markdown",
      "metadata": {},
      "source": [
        "### \u0627\u0644\u0645\u0639\u0644\u0648\u0645\u0627\u062a \u0627\u0644\u0645\u0641\u0642\u0648\u062f\u0629\n\u0628\u0627\u0644\u0625\u0636\u0627\u0641\u0629 \u0625\u0644\u0649 \u0627\u0633\u062a\u0646\u062a\u0627\u062c \u0627\u0644\u0642\u064a\u0645 \u0627\u0644\u0645\u0641\u0642\u0648\u062f\u0629\u060c \u062a\u062d\u062a\u0648\u064a \u0623\u062f\u0648\u0627\u062a \u0627\u0644\u0627\u0633\u062a\u0646\u062a\u0627\u062c \u0639\u0644\u0649 \u0645\u0639\u0627\u0645\u0644 `add_indicator` \u064a\u0636\u0639 \u0639\u0644\u0627\u0645\u0629 \u0639\u0644\u0649 \u0627\u0644\u0642\u064a\u0645 \u0627\u0644\u0645\u0641\u0642\u0648\u062f\u0629\u060c \u0648\u0627\u0644\u062a\u064a \u0642\u062f \u062a\u062d\u0645\u0644 \u0628\u0639\u0636 \u0627\u0644\u0645\u0639\u0644\u0648\u0645\u0627\u062a.\n\n\n"
      ]
    },
    {
      "cell_type": "code",
      "execution_count": null,
      "metadata": {
        "collapsed": false
      },
      "outputs": [],
      "source": [
        "def get_scores_for_imputer(imputer, X_missing, y_missing):\n    estimator = make_pipeline(imputer, regressor)\n    impute_scores = cross_val_score(\n        estimator, X_missing, y_missing, scoring=\"neg_mean_squared_error\", cv=N_SPLITS\n    )\n    return impute_scores\n\n\nx_labels = []\n\nmses_california = np.zeros(5)\nstds_california = np.zeros(5)\nmses_diabetes = np.zeros(5)\nstds_diabetes = np.zeros(5)"
      ]
    },
    {
      "cell_type": "markdown",
      "metadata": {},
      "source": [
        "### \u062a\u0642\u062f\u064a\u0631 \u0627\u0644\u0646\u062a\u064a\u062c\u0629\n\u0623\u0648\u0644\u0627\u064b\u060c \u0646\u0631\u064a\u062f \u062a\u0642\u062f\u064a\u0631 \u0627\u0644\u0646\u062a\u064a\u062c\u0629 \u0639\u0644\u0649 \u0627\u0644\u0628\u064a\u0627\u0646\u0627\u062a \u0627\u0644\u0623\u0635\u0644\u064a\u0629:\n\n\n"
      ]
    },
    {
      "cell_type": "code",
      "execution_count": null,
      "metadata": {
        "collapsed": false
      },
      "outputs": [],
      "source": [
        "def get_full_score(X_full, y_full):\n    full_scores = cross_val_score(\n        regressor, X_full, y_full, scoring=\"neg_mean_squared_error\", cv=N_SPLITS\n    )\n    return full_scores.mean(), full_scores.std()\n\n\nmses_california[0], stds_california[0] = get_full_score(X_california, y_california)\nmses_diabetes[0], stds_diabetes[0] = get_full_score(X_diabetes, y_diabetes)\nx_labels.append(\"\u0627\u0644\u0628\u064a\u0627\u0646\u0627\u062a \u0627\u0644\u0643\u0627\u0645\u0644\u0629\")"
      ]
    },
    {
      "cell_type": "markdown",
      "metadata": {},
      "source": [
        "### \u0627\u0633\u062a\u0628\u062f\u0627\u0644 \u0627\u0644\u0642\u064a\u0645 \u0627\u0644\u0645\u0641\u0642\u0648\u062f\u0629 \u0628\u0640 0\n\n\u0627\u0644\u0622\u0646 \u0633\u0646\u0642\u0648\u0645 \u0628\u062a\u0642\u062f\u064a\u0631 \u0627\u0644\u0646\u062a\u064a\u062c\u0629 \u0639\u0644\u0649 \u0627\u0644\u0628\u064a\u0627\u0646\u0627\u062a \u062d\u064a\u062b \u064a\u062a\u0645 \u0627\u0633\u062a\u0628\u062f\u0627\u0644 \u0627\u0644\u0642\u064a\u0645 \u0627\u0644\u0645\u0641\u0642\u0648\u062f\u0629 \u0628\u0640 0:\n\n\n"
      ]
    },
    {
      "cell_type": "code",
      "execution_count": null,
      "metadata": {
        "collapsed": false
      },
      "outputs": [],
      "source": [
        "def get_impute_zero_score(X_missing, y_missing):\n    imputer = SimpleImputer(\n        missing_values=np.nan, add_indicator=True, strategy=\"constant\", fill_value=0\n    )\n    zero_impute_scores = get_scores_for_imputer(imputer, X_missing, y_missing)\n    return zero_impute_scores.mean(), zero_impute_scores.std()\n\n\nmses_california[1], stds_california[1] = get_impute_zero_score(\n    X_miss_california, y_miss_california\n)\nmses_diabetes[1], stds_diabetes[1] = get_impute_zero_score(\n    X_miss_diabetes, y_miss_diabetes\n)\nx_labels.append(\"\u0627\u0633\u062a\u0646\u062a\u0627\u062c \u0627\u0644\u0635\u0641\u0631\")"
      ]
    },
    {
      "cell_type": "markdown",
      "metadata": {},
      "source": [
        "### \u0627\u0633\u062a\u0646\u062a\u0627\u062c kNN \u0644\u0644\u0642\u064a\u0645 \u0627\u0644\u0645\u0641\u0642\u0648\u062f\u0629\n\n:class:`~sklearn.impute.KNNImputer` \u064a\u0633\u062a\u0646\u062a\u062c \u0627\u0644\u0642\u064a\u0645 \u0627\u0644\u0645\u0641\u0642\u0648\u062f\u0629 \u0628\u0627\u0633\u062a\u062e\u062f\u0627\u0645 \u0627\u0644\u0645\u062a\u0648\u0633\u0637 \u0627\u0644\u0645\u0631\u062c\u062d \u0623\u0648 \u063a\u064a\u0631 \u0627\u0644\u0645\u0631\u062c\u062d \u0644\u0644\u0639\u062f\u062f \u0627\u0644\u0645\u0637\u0644\u0648\u0628 \u0645\u0646 \u0623\u0642\u0631\u0628 \u0627\u0644\u062c\u064a\u0631\u0627\u0646.\n\n"
      ]
    },
    {
      "cell_type": "code",
      "execution_count": null,
      "metadata": {
        "collapsed": false
      },
      "outputs": [],
      "source": [
        "def get_impute_knn_score(X_missing, y_missing):\n    imputer = KNNImputer(missing_values=np.nan, add_indicator=True)\n    knn_impute_scores = get_scores_for_imputer(imputer, X_missing, y_missing)\n    return knn_impute_scores.mean(), knn_impute_scores.std()\n\n\nmses_california[2], stds_california[2] = get_impute_knn_score(\n    X_miss_california, y_miss_california\n)\nmses_diabetes[2], stds_diabetes[2] = get_impute_knn_score(\n    X_miss_diabetes, y_miss_diabetes\n)\nx_labels.append(\"\u0627\u0633\u062a\u0646\u062a\u0627\u062c KNN\")"
      ]
    },
    {
      "cell_type": "markdown",
      "metadata": {},
      "source": [
        "### \u0627\u0633\u062a\u0646\u062a\u0627\u062c \u0627\u0644\u0642\u064a\u0645 \u0627\u0644\u0645\u0641\u0642\u0648\u062f\u0629 \u0628\u0627\u0644\u0645\u062a\u0648\u0633\u0637\n\n\n"
      ]
    },
    {
      "cell_type": "code",
      "execution_count": null,
      "metadata": {
        "collapsed": false
      },
      "outputs": [],
      "source": [
        "def get_impute_mean(X_missing, y_missing):\n    imputer = SimpleImputer(missing_values=np.nan, strategy=\"mean\", add_indicator=True)\n    mean_impute_scores = get_scores_for_imputer(imputer, X_missing, y_missing)\n    return mean_impute_scores.mean(), mean_impute_scores.std()\n\n\nmses_california[3], stds_california[3] = get_impute_mean(\n    X_miss_california, y_miss_california\n)\nmses_diabetes[3], stds_diabetes[3] = get_impute_mean(X_miss_diabetes, y_miss_diabetes)\nx_labels.append(\"\u0627\u0633\u062a\u0646\u062a\u0627\u062c \u0627\u0644\u0645\u062a\u0648\u0633\u0637\")"
      ]
    },
    {
      "cell_type": "markdown",
      "metadata": {},
      "source": [
        "### \u0627\u0644\u0627\u0633\u062a\u0646\u062a\u0627\u062c \u0627\u0644\u062a\u0643\u0631\u0627\u0631\u064a \u0644\u0644\u0642\u064a\u0645 \u0627\u0644\u0645\u0641\u0642\u0648\u062f\u0629\n\n\u062e\u064a\u0627\u0631 \u0622\u062e\u0631 \u0647\u0648 :class:`~sklearn.impute.IterativeImputer`. \u064a\u0633\u062a\u062e\u062f\u0645 \u0647\u0630\u0627 \u0627\u0644\u0627\u0646\u062d\u062f\u0627\u0631 \u0627\u0644\u062e\u0637\u064a \u0627\u0644\u062f\u0627\u0626\u0631\u064a\u060c \u0646\u0645\u0630\u062c\u0629 \u0643\u0644 \u0645\u064a\u0632\u0629 \u0630\u0627\u062a \u0642\u064a\u0645 \u0645\u0641\u0642\u0648\u062f\u0629 \u0643\u062f\u0627\u0644\u0629 \u0644\u0645\u064a\u0632\u0627\u062a \u0623\u062e\u0631\u0649\u060c \u0628\u062f\u0648\u0631\u0647\u0627.\n\u064a\u0641\u062a\u0631\u0636 \u0627\u0644\u0625\u0635\u062f\u0627\u0631 \u0627\u0644\u0645\u0637\u0628\u0642 \u0645\u062a\u063a\u064a\u0631\u0627\u062a \u063a\u0627\u0648\u0633\u064a\u0629 (\u0646\u0627\u062a\u062c\u0629). \u0625\u0630\u0627 \u0643\u0627\u0646\u062a \u0645\u064a\u0632\u0627\u062a\u0643 \u063a\u064a\u0631 \u0637\u0628\u064a\u0639\u064a\u0629 \u0628\u0634\u0643\u0644 \u0648\u0627\u0636\u062d\u060c \u0641\u0641\u0643\u0631 \u0641\u064a \u062a\u062d\u0648\u064a\u0644\u0647\u0627 \u0644\u062a\u0628\u062f\u0648 \u0623\u0643\u062b\u0631 \u0637\u0628\u064a\u0639\u064a\u0629 \u0644\u062a\u062d\u0633\u064a\u0646 \u0627\u0644\u0623\u062f\u0627\u0621 \u0627\u0644\u0645\u062d\u062a\u0645\u0644.\n\n\n"
      ]
    },
    {
      "cell_type": "code",
      "execution_count": null,
      "metadata": {
        "collapsed": false
      },
      "outputs": [],
      "source": [
        "def get_impute_iterative(X_missing, y_missing):\n    imputer = IterativeImputer(\n        missing_values=np.nan,\n        add_indicator=True,\n        random_state=0,\n        n_nearest_features=3,\n        max_iter=1,\n        sample_posterior=True,\n    )\n    iterative_impute_scores = get_scores_for_imputer(imputer, X_missing, y_missing)\n    return iterative_impute_scores.mean(), iterative_impute_scores.std()\n\n\nmses_california[4], stds_california[4] = get_impute_iterative(\n    X_miss_california, y_miss_california\n)\nmses_diabetes[4], stds_diabetes[4] = get_impute_iterative(\n    X_miss_diabetes, y_miss_diabetes\n)\nx_labels.append(\"\u0627\u0644\u0627\u0633\u062a\u0646\u062a\u0627\u062c \u0627\u0644\u062a\u0643\u0631\u0627\u0631\u064a\")\n\nmses_diabetes = mses_diabetes * -1\nmses_california = mses_california * -1"
      ]
    },
    {
      "cell_type": "markdown",
      "metadata": {},
      "source": [
        "## \u0631\u0633\u0645 \u0627\u0644\u0646\u062a\u0627\u0626\u062c\n\n\u0623\u062e\u064a\u0631\u064b\u0627\u060c \u0633\u0646\u0642\u0648\u0645 \u0628\u062a\u0635\u0648\u0631 \u0627\u0644\u0646\u062a\u064a\u062c\u0629:\n\n\n"
      ]
    },
    {
      "cell_type": "code",
      "execution_count": null,
      "metadata": {
        "collapsed": false
      },
      "outputs": [],
      "source": [
        "import matplotlib.pyplot as plt\n\nn_bars = len(mses_diabetes)\nxval = np.arange(n_bars)\n\ncolors = [\"r\", \"g\", \"b\", \"orange\", \"black\"]\n\n# plot diabetes results\nplt.figure(figsize=(12, 6))\nax1 = plt.subplot(121)\nfor j in xval:\n    ax1.barh(\n        j,\n        mses_diabetes[j],\n        xerr=stds_diabetes[j],\n        color=colors[j],\n        alpha=0.6,\n        align=\"center\",\n    )\n\nax1.set_title(\"\u062a\u0642\u0646\u064a\u0627\u062a \u0627\u0644\u0627\u0633\u062a\u0646\u062a\u0627\u062c \u0645\u0639 \u0628\u064a\u0627\u0646\u0627\u062a \u0627\u0644\u0633\u0643\u0631\u064a\")\nax1.set_xlim(left=np.min(mses_diabetes) * 0.9, right=np.max(mses_diabetes) * 1.1)\nax1.set_yticks(xval)\nax1.set_xlabel(\"MSE\")\nax1.invert_yaxis()\nax1.set_yticklabels(x_labels)\n\n# plot california dataset results\nax2 = plt.subplot(122)\nfor j in xval:\n    ax2.barh(\n        j,\n        mses_california[j],\n        xerr=stds_california[j],\n        color=colors[j],\n        alpha=0.6,\n        align=\"center\",\n    )\n\nax2.set_title(\"\u062a\u0642\u0646\u064a\u0627\u062a \u0627\u0644\u0627\u0633\u062a\u0646\u062a\u0627\u062c \u0645\u0639 \u0628\u064a\u0627\u0646\u0627\u062a \u0643\u0627\u0644\u064a\u0641\u0648\u0631\u0646\u064a\u0627\")\nax2.set_yticks(xval)\nax2.set_xlabel(\"MSE\")\nax2.invert_yaxis()\nax2.set_yticklabels([\"\"] * n_bars)\n\nplt.show()"
      ]
    },
    {
      "cell_type": "markdown",
      "metadata": {},
      "source": [
        "\u064a\u0645\u0643\u0646\u0643 \u0623\u064a\u0636\u064b\u0627 \u062a\u062c\u0631\u0628\u0629 \u062a\u0642\u0646\u064a\u0627\u062a \u0645\u062e\u062a\u0644\u0641\u0629. \u0639\u0644\u0649 \u0633\u0628\u064a\u0644 \u0627\u0644\u0645\u062b\u0627\u0644\u060c \u0627\u0644\u0648\u0633\u064a\u0637 \u0647\u0648 \u0645\u0642\u062f\u0631 \u0623\u0643\u062b\u0631 \u0642\u0648\u0629 \u0644\u0644\u0628\u064a\u0627\u0646\u0627\u062a \u0630\u0627\u062a \u0627\u0644\u0645\u062a\u063a\u064a\u0631\u0627\u062a \u0630\u0627\u062a \u0627\u0644\u062d\u062c\u0645 \u0627\u0644\u0643\u0628\u064a\u0631 \u0648\u0627\u0644\u062a\u064a \u064a\u0645\u0643\u0646 \u0623\u0646 \u062a\u0647\u064a\u0645\u0646 \u0639\u0644\u0649 \u0627\u0644\u0646\u062a\u0627\u0626\u062c (\u0627\u0644\u0645\u0639\u0631\u0648\u0641\u0629 \u0623\u064a\u0636\u064b\u0627 \u0628\u0627\u0633\u0645 \"\u0627\u0644\u0630\u064a\u0644 \u0627\u0644\u0637\u0648\u064a\u0644\").\n\n"
      ]
    }
  ],
  "metadata": {
    "kernelspec": {
      "display_name": "Python 3",
      "language": "python",
      "name": "python3"
    },
    "language_info": {
      "codemirror_mode": {
        "name": "ipython",
        "version": 3
      },
      "file_extension": ".py",
      "mimetype": "text/x-python",
      "name": "python",
      "nbconvert_exporter": "python",
      "pygments_lexer": "ipython3",
      "version": "3.10.13"
    }
  },
  "nbformat": 4,
  "nbformat_minor": 0
}