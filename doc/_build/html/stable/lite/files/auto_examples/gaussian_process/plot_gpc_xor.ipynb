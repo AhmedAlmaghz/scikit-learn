{
  "cells": [
    {
      "cell_type": "markdown",
      "metadata": {},
      "source": [
        "<div class='alert alert-warning'>\n\n# JupyterLite warning\n\nRunning the scikit-learn examples in JupyterLite is experimental and you may encounter some unexpected behavior.\n\nThe main difference is that imports will take a lot longer than usual, for example the first `import sklearn` can take roughly 10-20s.\n\nIf you notice problems, feel free to open an [issue](https://github.com/scikit-learn/scikit-learn/issues/new/choose) about it.\n</div>"
      ]
    },
    {
      "cell_type": "code",
      "execution_count": null,
      "metadata": {
        "collapsed": false
      },
      "outputs": [],
      "source": [
        "# JupyterLite-specific code\nimport matplotlib\nimport pandas"
      ]
    },
    {
      "cell_type": "markdown",
      "metadata": {},
      "source": [
        "\n# \u062a\u0648\u0636\u064a\u062d \u062a\u0635\u0646\u064a\u0641 \u0627\u0644\u0639\u0645\u0644\u064a\u0629 \u0627\u0644\u063a\u0627\u0648\u0633\u064a\u0629 (GPC) \u0639\u0644\u0649 \u0645\u062c\u0645\u0648\u0639\u0629 \u0628\u064a\u0627\u0646\u0627\u062a XOR\n\n\u064a\u0648\u0636\u062d \u0647\u0630\u0627 \u0627\u0644\u0645\u062b\u0627\u0644 GPC \u0639\u0644\u0649 \u0628\u064a\u0627\u0646\u0627\u062a XOR. \u062a\u062a\u0645 \u0645\u0642\u0627\u0631\u0646\u0629 \u0646\u0648\u0627\u0629 \u062b\u0627\u0628\u062a\u0629 \u0648\u0645\u062a\u0646\u0627\u062d\u0631\u0629 (RBF)\n\u0628\u0646\u0648\u0627\u0629 \u063a\u064a\u0631 \u062b\u0627\u0628\u062a\u0629 (DotProduct). \u0641\u064a \u0645\u062c\u0645\u0648\u0639\u0629 \u0627\u0644\u0628\u064a\u0627\u0646\u0627\u062a \u0647\u0630\u0647 \u062a\u062d\u062f\u064a\u062f\u064b\u0627 \u060c \u062a\u062d\u0635\u0644 \u0646\u0648\u0627\u0629 DotProduct \u0639\u0644\u0649 \u0646\u062a\u0627\u0626\u062c \u0623\u0641\u0636\u0644 \u0628\u0643\u062b\u064a\u0631 \u0644\u0623\u0646 \u062d\u062f\u0648\u062f \u0627\u0644\u0641\u0626\u0629 \u062e\u0637\u064a\u0629 \u0648\u062a\u062a\u0648\u0627\u0641\u0642 \u0645\u0639 \u0645\u062d\u0627\u0648\u0631 \u0627\u0644\u0625\u062d\u062f\u0627\u062b\u064a\u0627\u062a. \u0628\u0634\u0643\u0644 \u0639\u0627\u0645 \u060c \u063a\u0627\u0644\u0628\u064b\u0627 \u0645\u0627 \u062a\u062d\u0642\u0642 \u0627\u0644\u0646\u0648\u0649 \u0627\u0644\u062b\u0627\u0628\u062a\u0629 \u0646\u062a\u0627\u0626\u062c \u0623\u0641\u0636\u0644.\n"
      ]
    },
    {
      "cell_type": "code",
      "execution_count": null,
      "metadata": {
        "collapsed": false
      },
      "outputs": [],
      "source": [
        "# Authors: The scikit-learn developers\n# SPDX-License-Identifier: BSD-3-Clause\n\nimport matplotlib.pyplot as plt\nimport numpy as np\n\nfrom sklearn.gaussian_process import GaussianProcessClassifier\nfrom sklearn.gaussian_process.kernels import RBF, DotProduct\n\nxx, yy = np.meshgrid(np.linspace(-3, 3, 50), np.linspace(-3, 3, 50))\nrng = np.random.RandomState(0)\nX = rng.randn(200, 2)\nY = np.logical_xor(X[:, 0] > 0, X[:, 1] > 0)\n\n# \u0645\u0644\u0627\u0621\u0645\u0629 \u0627\u0644\u0646\u0645\u0648\u0630\u062c\nplt.figure(figsize=(10, 5))\nkernels = [1.0 * RBF(length_scale=1.15), 1.0 * DotProduct(sigma_0=1.0) ** 2]\nfor i, kernel in enumerate(kernels):\n    clf = GaussianProcessClassifier(kernel=kernel, warm_start=True).fit(X, Y)\n\n    # \u0631\u0633\u0645 \u062f\u0627\u0644\u0629 \u0627\u0644\u0642\u0631\u0627\u0631 \u0644\u0643\u0644 \u0646\u0642\u0637\u0629 \u0628\u064a\u0627\u0646\u0627\u062a \u0639\u0644\u0649 \u0627\u0644\u0634\u0628\u0643\u0629\n    Z = clf.predict_proba(np.vstack((xx.ravel(), yy.ravel())).T)[:, 1]\n    Z = Z.reshape(xx.shape)\n\n    plt.subplot(1, 2, i + 1)\n    image = plt.imshow(\n        Z,\n        interpolation=\"nearest\",\n        extent=(xx.min(), xx.max(), yy.min(), yy.max()),\n        aspect=\"auto\",\n        origin=\"lower\",\n        cmap=plt.cm.PuOr_r,\n    )\n    contours = plt.contour(xx, yy, Z, levels=[0.5], linewidths=2, colors=[\"k\"])\n    plt.scatter(X[:, 0], X[:, 1], s=30, c=Y, cmap=plt.cm.Paired, edgecolors=(0, 0, 0))\n    plt.xticks(())\n    plt.yticks(())\n    plt.axis([-3, 3, -3, 3])\n    plt.colorbar(image)\n    plt.title(\n        \"%s\\n Log-Marginal-Likelihood:%.3f\"\n        % (clf.kernel_, clf.log_marginal_likelihood(clf.kernel_.theta)),\n        fontsize=12,\n    )\n\nplt.tight_layout()\nplt.show()"
      ]
    }
  ],
  "metadata": {
    "kernelspec": {
      "display_name": "Python 3",
      "language": "python",
      "name": "python3"
    },
    "language_info": {
      "codemirror_mode": {
        "name": "ipython",
        "version": 3
      },
      "file_extension": ".py",
      "mimetype": "text/x-python",
      "name": "python",
      "nbconvert_exporter": "python",
      "pygments_lexer": "ipython3",
      "version": "3.10.13"
    }
  },
  "nbformat": 4,
  "nbformat_minor": 0
}