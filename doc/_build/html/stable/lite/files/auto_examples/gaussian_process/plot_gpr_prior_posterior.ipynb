{
  "cells": [
    {
      "cell_type": "markdown",
      "metadata": {},
      "source": [
        "<div class='alert alert-warning'>\n\n# JupyterLite warning\n\nRunning the scikit-learn examples in JupyterLite is experimental and you may encounter some unexpected behavior.\n\nThe main difference is that imports will take a lot longer than usual, for example the first `import sklearn` can take roughly 10-20s.\n\nIf you notice problems, feel free to open an [issue](https://github.com/scikit-learn/scikit-learn/issues/new/choose) about it.\n</div>"
      ]
    },
    {
      "cell_type": "code",
      "execution_count": null,
      "metadata": {
        "collapsed": false
      },
      "outputs": [],
      "source": [
        "# JupyterLite-specific code\nimport matplotlib\nimport pandas"
      ]
    },
    {
      "cell_type": "markdown",
      "metadata": {},
      "source": [
        "\n# \u062a\u0648\u0636\u064a\u062d \u0627\u0644\u0639\u0645\u0644\u064a\u0629 \u0627\u0644\u063a\u0627\u0648\u0633\u064a\u0629 \u0627\u0644\u0645\u0633\u0628\u0642\u0629 \u0648\u0627\u0644\u0644\u0627\u062d\u0642\u0629 \u0644\u0646\u0648\u0649 \u0645\u062e\u062a\u0644\u0641\u0629\n\n\u064a\u0648\u0636\u062d \u0647\u0630\u0627 \u0627\u0644\u0645\u062b\u0627\u0644 \u0627\u0644\u062a\u0648\u0632\u064a\u0639 \u0627\u0644\u0645\u0633\u0628\u0642 \u0648\u0627\u0644\u0644\u0627\u062d\u0642 \u0644\u0640 :class:`~sklearn.gaussian_process.GaussianProcessRegressor` \u0645\u0639 \u0646\u0648\u0649 \u0645\u062e\u062a\u0644\u0641\u0629. \u064a\u062a\u0645 \u0639\u0631\u0636 \u0627\u0644\u0645\u062a\u0648\u0633\u0637 \u0648\u0627\u0644\u0627\u0646\u062d\u0631\u0627\u0641 \u0627\u0644\u0645\u0639\u064a\u0627\u0631\u064a \u0648 5 \u0639\u064a\u0646\u0627\u062a \u0644\u0643\u0644 \u0645\u0646 \u0627\u0644\u062a\u0648\u0632\u064a\u0639\u0627\u062a \u0627\u0644\u0645\u0633\u0628\u0642\u0629 \u0648\u0627\u0644\u0644\u0627\u062d\u0642\u0629.\n\n\u0647\u0646\u0627\u060c \u0646\u0639\u0637\u064a \u0641\u0642\u0637 \u0628\u0639\u0636 \u0627\u0644\u0631\u0633\u0648\u0645 \u0627\u0644\u062a\u0648\u0636\u064a\u062d\u064a\u0629. \u0644\u0645\u0639\u0631\u0641\u0629 \u0627\u0644\u0645\u0632\u064a\u062f \u0639\u0646 \u0635\u064a\u0627\u063a\u0629 \u0627\u0644\u0646\u0648\u0649\u060c \u0627\u0631\u062c\u0639 \u0625\u0644\u0649 `\u062f\u0644\u064a\u0644 \u0627\u0644\u0645\u0633\u062a\u062e\u062f\u0645 <gp_kernels>`.\n"
      ]
    },
    {
      "cell_type": "code",
      "execution_count": null,
      "metadata": {
        "collapsed": false
      },
      "outputs": [],
      "source": [
        "# Authors: The scikit-learn developers\n# SPDX-License-Identifier: BSD-3-Clause"
      ]
    },
    {
      "cell_type": "markdown",
      "metadata": {},
      "source": [
        "## \u062f\u0627\u0644\u0629 \u0645\u0633\u0627\u0639\u062f\u0629\n\n\u0642\u0628\u0644 \u062a\u0642\u062f\u064a\u0645 \u0643\u0644 \u0646\u0648\u0627\u0629 \u0645\u062a\u0627\u062d\u0629 \u0628\u0634\u0643\u0644 \u0641\u0631\u062f\u064a \u0644\u0644\u0639\u0645\u0644\u064a\u0627\u062a \u0627\u0644\u063a\u0627\u0648\u0633\u064a\u0629\u060c \u0633\u0646\u062d\u062f\u062f \u062f\u0627\u0644\u0629 \u0645\u0633\u0627\u0639\u062f\u0629 \u062a\u0633\u0645\u062d \u0644\u0646\u0627 \u0628\u0631\u0633\u0645 \u0639\u064a\u0646\u0627\u062a \u0645\u0623\u062e\u0648\u0630\u0629 \u0645\u0646 \u0627\u0644\u0639\u0645\u0644\u064a\u0629 \u0627\u0644\u063a\u0627\u0648\u0633\u064a\u0629.\n\n\u0633\u062a\u0623\u062e\u0630 \u0647\u0630\u0647 \u0627\u0644\u062f\u0627\u0644\u0629 \u0646\u0645\u0648\u0630\u062c :class:`~sklearn.gaussian_process.GaussianProcessRegressor` \u0648\u0633\u062a\u0642\u0648\u0645 \u0628\u0631\u0633\u0645 \u0639\u064a\u0646\u0627\u062a \u0645\u0646 \u0627\u0644\u0639\u0645\u0644\u064a\u0629 \u0627\u0644\u063a\u0627\u0648\u0633\u064a\u0629. \u0625\u0630\u0627 \u0644\u0645 \u064a\u062a\u0645 \u0645\u0644\u0627\u0621\u0645\u0629 \u0627\u0644\u0646\u0645\u0648\u0630\u062c\u060c \u0641\u0633\u064a\u062a\u0645 \u0631\u0633\u0645 \u0627\u0644\u0639\u064a\u0646\u0627\u062a \u0645\u0646 \u0627\u0644\u062a\u0648\u0632\u064a\u0639 \u0627\u0644\u0645\u0633\u0628\u0642\u060c \u0628\u064a\u0646\u0645\u0627 \u0628\u0639\u062f \u0645\u0644\u0627\u0621\u0645\u0629 \u0627\u0644\u0646\u0645\u0648\u0630\u062c\u060c \u0641\u0633\u064a\u062a\u0645 \u0631\u0633\u0645 \u0627\u0644\u0639\u064a\u0646\u0627\u062a \u0645\u0646 \u0627\u0644\u062a\u0648\u0632\u064a\u0639 \u0627\u0644\u0644\u0627\u062d\u0642.\n\n"
      ]
    },
    {
      "cell_type": "code",
      "execution_count": null,
      "metadata": {
        "collapsed": false
      },
      "outputs": [],
      "source": [
        "import matplotlib.pyplot as plt\nimport numpy as np\n\n\ndef plot_gpr_samples(gpr_model, n_samples, ax):\n    \"\"\"\u0627\u0631\u0633\u0645 \u0639\u064a\u0646\u0627\u062a \u0645\u0623\u062e\u0648\u0630\u0629 \u0645\u0646 \u0646\u0645\u0648\u0630\u062c \u0627\u0644\u0639\u0645\u0644\u064a\u0629 \u0627\u0644\u063a\u0627\u0648\u0633\u064a\u0629.\n\n    \u0625\u0630\u0627 \u0644\u0645 \u064a\u062a\u0645 \u062a\u062f\u0631\u064a\u0628 \u0646\u0645\u0648\u0630\u062c \u0627\u0644\u0639\u0645\u0644\u064a\u0629 \u0627\u0644\u063a\u0627\u0648\u0633\u064a\u0629\u060c \u0641\u0633\u064a\u062a\u0645 \u0631\u0633\u0645 \u0627\u0644\u0639\u064a\u0646\u0627\u062a \u0627\u0644\u0645\u0623\u062e\u0648\u0630\u0629 \u0645\u0646 \u0627\u0644\u062a\u0648\u0632\u064a\u0639 \u0627\u0644\u0645\u0633\u0628\u0642. \u062e\u0644\u0627\u0641 \u0630\u0644\u0643\u060c \u064a\u062a\u0645 \u0631\u0633\u0645 \u0627\u0644\u0639\u064a\u0646\u0627\u062a \u0645\u0646 \u0627\u0644\u062a\u0648\u0632\u064a\u0639 \u0627\u0644\u0644\u0627\u062d\u0642. \u0627\u0646\u062a\u0628\u0647 \u0625\u0644\u0649 \u0623\u0646 \u0627\u0644\u0639\u064a\u0646\u0629 \u0647\u0646\u0627 \u062a\u062a\u0648\u0627\u0641\u0642 \u0645\u0639 \u062f\u0627\u0644\u0629.\n\n    \u0627\u0644\u0645\u0639\u0644\u0645\u0627\u062a\n    ----------\n    gpr_model : `GaussianProcessRegressor`\n        \u0646\u0645\u0648\u0630\u062c :class:`~sklearn.gaussian_process.GaussianProcessRegressor`.\n    n_samples : int\n        \u0639\u062f\u062f \u0627\u0644\u0639\u064a\u0646\u0627\u062a \u0627\u0644\u0645\u0631\u0627\u062f \u0631\u0633\u0645\u0647\u0627 \u0645\u0646 \u062a\u0648\u0632\u064a\u0639 \u0627\u0644\u0639\u0645\u0644\u064a\u0629 \u0627\u0644\u063a\u0627\u0648\u0633\u064a\u0629.\n    ax : \u0645\u062d\u0648\u0631 matplotlib\n        \u0645\u062d\u0648\u0631 matplotlib \u062d\u064a\u062b \u064a\u062a\u0645 \u0631\u0633\u0645 \u0627\u0644\u0639\u064a\u0646\u0627\u062a.\n    \"\"\"\n    x = np.linspace(0, 5, 100)\n    X = x.reshape(-1, 1)\n\n    y_mean, y_std = gpr_model.predict(X, return_std=True)\n    y_samples = gpr_model.sample_y(X, n_samples)\n\n    for idx, single_prior in enumerate(y_samples.T):\n        ax.plot(\n            x,\n            single_prior,\n            linestyle=\"--\",\n            alpha=0.7,\n            label=f\"\u0627\u0644\u062f\u0627\u0644\u0629 \u0627\u0644\u0645\u0639\u064a\u0646\u0629 #{idx + 1}\",\n        )\n    ax.plot(x, y_mean, color=\"black\", label=\"\u0627\u0644\u0645\u062a\u0648\u0633\u0637\")\n    ax.fill_between(\n        x,\n        y_mean - y_std,\n        y_mean + y_std,\n        alpha=0.1,\n        color=\"black\",\n        label=r\"$\\pm$ 1 \u0627\u0644\u0627\u0646\u062d\u0631\u0627\u0641 \u0627\u0644\u0645\u0639\u064a\u0627\u0631\u064a\",\n    )\n    ax.set_xlabel(\"x\")\n    ax.set_ylabel(\"y\")\n    ax.set_ylim([-3, 3])"
      ]
    },
    {
      "cell_type": "markdown",
      "metadata": {},
      "source": [
        "## \u062a\u0648\u0644\u064a\u062f \u0645\u062c\u0645\u0648\u0639\u0629 \u0627\u0644\u0628\u064a\u0627\u0646\u0627\u062a \u0648\u0627\u0644\u0639\u0645\u0644\u064a\u0629 \u0627\u0644\u063a\u0627\u0648\u0633\u064a\u0629\n\u0633\u0646\u0646\u0634\u0626 \u0645\u062c\u0645\u0648\u0639\u0629 \u0628\u064a\u0627\u0646\u0627\u062a \u062a\u062f\u0631\u064a\u0628 \u0633\u0646\u0633\u062a\u062e\u062f\u0645\u0647\u0627 \u0641\u064a \u0627\u0644\u0623\u0642\u0633\u0627\u0645 \u0627\u0644\u0645\u062e\u062a\u0644\u0641\u0629.\n\n"
      ]
    },
    {
      "cell_type": "code",
      "execution_count": null,
      "metadata": {
        "collapsed": false
      },
      "outputs": [],
      "source": [
        "rng = np.random.RandomState(4)\nX_train = rng.uniform(0, 5, 10).reshape(-1, 1)\ny_train = np.sin((X_train[:, 0] - 2.5) ** 2)\nn_samples = 5"
      ]
    },
    {
      "cell_type": "markdown",
      "metadata": {},
      "source": [
        "## \u062f\u0644\u064a\u0644 \u0627\u0644\u0646\u0648\u0627\u0629\n\n\u0641\u064a \u0647\u0630\u0627 \u0627\u0644\u0642\u0633\u0645\u060c \u0646\u0648\u0636\u062d \u0628\u0639\u0636 \u0627\u0644\u0639\u064a\u0646\u0627\u062a \u0627\u0644\u0645\u0623\u062e\u0648\u0630\u0629 \u0645\u0646 \u0627\u0644\u062a\u0648\u0632\u064a\u0639\u0627\u062a \u0627\u0644\u0645\u0633\u0628\u0642\u0629 \u0648\u0627\u0644\u0644\u0627\u062d\u0642\u0629 \u0644\u0644\u0639\u0645\u0644\u064a\u0629 \u0627\u0644\u063a\u0627\u0648\u0633\u064a\u0629 \u0645\u0639 \u0646\u0648\u0649 \u0645\u062e\u062a\u0644\u0641\u0629.\n\n### \u0646\u0648\u0627\u0629 \u062f\u0627\u0644\u0629 \u0627\u0644\u0623\u0633\u0627\u0633 \u0627\u0644\u0634\u0639\u0627\u0639\u064a\n\n"
      ]
    },
    {
      "cell_type": "code",
      "execution_count": null,
      "metadata": {
        "collapsed": false
      },
      "outputs": [],
      "source": [
        "from sklearn.gaussian_process import GaussianProcessRegressor\nfrom sklearn.gaussian_process.kernels import RBF\n\nkernel = 1.0 * RBF(length_scale=1.0, length_scale_bounds=(1e-1, 10.0))\ngpr = GaussianProcessRegressor(kernel=kernel, random_state=0)\n\nfig, axs = plt.subplots(nrows=2, sharex=True, sharey=True, figsize=(10, 8))\n\n# \u0631\u0633\u0645 \u0627\u0644\u062a\u0648\u0632\u064a\u0639 \u0627\u0644\u0645\u0633\u0628\u0642\nplot_gpr_samples(gpr, n_samples=n_samples, ax=axs[0])\naxs[0].set_title(\"\u0639\u064a\u0646\u0627\u062a \u0645\u0646 \u0627\u0644\u062a\u0648\u0632\u064a\u0639 \u0627\u0644\u0645\u0633\u0628\u0642\")\n\n# \u0631\u0633\u0645 \u0627\u0644\u062a\u0648\u0632\u064a\u0639 \u0627\u0644\u0644\u0627\u062d\u0642\ngpr.fit(X_train, y_train)\nplot_gpr_samples(gpr, n_samples=n_samples, ax=axs[1])\naxs[1].scatter(X_train[:, 0], y_train, color=\"red\", zorder=10, label=\"\u0627\u0644\u0645\u0644\u0627\u062d\u0638\u0627\u062a\")\naxs[1].legend(bbox_to_anchor=(1.05, 1.5), loc=\"upper left\")\naxs[1].set_title(\"\u0639\u064a\u0646\u0627\u062a \u0645\u0646 \u0627\u0644\u062a\u0648\u0632\u064a\u0639 \u0627\u0644\u0644\u0627\u062d\u0642\")\n\nfig.suptitle(\"\u0646\u0648\u0627\u0629 \u062f\u0627\u0644\u0629 \u0627\u0644\u0623\u0633\u0627\u0633 \u0627\u0644\u0634\u0639\u0627\u0639\u064a\", fontsize=18)\nplt.tight_layout()"
      ]
    },
    {
      "cell_type": "code",
      "execution_count": null,
      "metadata": {
        "collapsed": false
      },
      "outputs": [],
      "source": [
        "print(f\"\u0645\u0639\u0644\u0645\u0627\u062a \u0627\u0644\u0646\u0648\u0627\u0629 \u0642\u0628\u0644 \u0627\u0644\u0645\u0644\u0627\u0621\u0645\u0629:\\n{kernel})\")\nprint(\n    f\"\u0645\u0639\u0644\u0645\u0627\u062a \u0627\u0644\u0646\u0648\u0627\u0629 \u0628\u0639\u062f \u0627\u0644\u0645\u0644\u0627\u0621\u0645\u0629: \\n{gpr.kernel_} \\n\"\n    f\"\u0627\u062d\u062a\u0645\u0627\u0644\u064a\u0629 \u0627\u0644\u0633\u062c\u0644: {gpr.log_marginal_likelihood(gpr.kernel_.theta):.3f}\"\n)"
      ]
    },
    {
      "cell_type": "markdown",
      "metadata": {},
      "source": [
        "### \u0627\u0644\u0646\u0648\u0627\u0629 \u0627\u0644\u062a\u0631\u0628\u064a\u0639\u064a\u0629 \u0627\u0644\u0646\u0633\u0628\u064a\u0629\n\n"
      ]
    },
    {
      "cell_type": "code",
      "execution_count": null,
      "metadata": {
        "collapsed": false
      },
      "outputs": [],
      "source": [
        "from sklearn.gaussian_process.kernels import RationalQuadratic\n\nkernel = 1.0 * RationalQuadratic(length_scale=1.0, alpha=0.1, alpha_bounds=(1e-5, 1e15))\ngpr = GaussianProcessRegressor(kernel=kernel, random_state=0)\n\nfig, axs = plt.subplots(nrows=2, sharex=True, sharey=True, figsize=(10, 8))\n\n# plot prior\nplot_gpr_samples(gpr, n_samples=n_samples, ax=axs[0])\naxs[0].set_title(\"\u0639\u064a\u0646\u0627\u062a \u0645\u0646 \u0627\u0644\u062a\u0648\u0632\u064a\u0639 \u0627\u0644\u0645\u0633\u0628\u0642\")\n\n# plot posterior\ngpr.fit(X_train, y_train)\nplot_gpr_samples(gpr, n_samples=n_samples, ax=axs[1])\naxs[1].scatter(X_train[:, 0], y_train, color=\"red\", zorder=10, label=\"\u0627\u0644\u0645\u0644\u0627\u062d\u0638\u0627\u062a\")\naxs[1].legend(bbox_to_anchor=(1.05, 1.5), loc=\"upper left\")\naxs[1].set_title(\"\u0639\u064a\u0646\u0627\u062a \u0645\u0646 \u0627\u0644\u062a\u0648\u0632\u064a\u0639 \u0627\u0644\u0644\u0627\u062d\u0642\")\n\nfig.suptitle(\"\u0627\u0644\u0646\u0648\u0627\u0629 \u0627\u0644\u062a\u0631\u0628\u064a\u0639\u064a\u0629 \u0627\u0644\u0646\u0633\u0628\u064a\u0629\", fontsize=18)\nplt.tight_layout()"
      ]
    },
    {
      "cell_type": "code",
      "execution_count": null,
      "metadata": {
        "collapsed": false
      },
      "outputs": [],
      "source": [
        "print(f\"\u0645\u0639\u0644\u0645\u0627\u062a \u0627\u0644\u0646\u0648\u0627\u0629 \u0642\u0628\u0644 \u0627\u0644\u0645\u0644\u0627\u0621\u0645\u0629:\\n{kernel})\")\nprint(\n    f\"\u0645\u0639\u0644\u0645\u0627\u062a \u0627\u0644\u0646\u0648\u0627\u0629 \u0628\u0639\u062f \u0627\u0644\u0645\u0644\u0627\u0621\u0645\u0629: \\n{gpr.kernel_} \\n\"\n    f\"\u0627\u062d\u062a\u0645\u0627\u0644\u064a\u0629 \u0627\u0644\u0633\u062c\u0644: {gpr.log_marginal_likelihood(gpr.kernel_.theta):.3f}\"\n)"
      ]
    },
    {
      "cell_type": "markdown",
      "metadata": {},
      "source": [
        "### \u0646\u0648\u0627\u0629 Exp-Sine-Squared\n\n"
      ]
    },
    {
      "cell_type": "code",
      "execution_count": null,
      "metadata": {
        "collapsed": false
      },
      "outputs": [],
      "source": [
        "from sklearn.gaussian_process.kernels import ExpSineSquared\n\nkernel = 1.0 * ExpSineSquared(\n    length_scale=1.0,\n    periodicity=3.0,\n    length_scale_bounds=(0.1, 10.0),\n    periodicity_bounds=(1.0, 10.0),\n)\ngpr = GaussianProcessRegressor(kernel=kernel, random_state=0)\n\nfig, axs = plt.subplots(nrows=2, sharex=True, sharey=True, figsize=(10, 8))\n\n# plot prior\nplot_gpr_samples(gpr, n_samples=n_samples, ax=axs[0])\naxs[0].set_title(\"\u0639\u064a\u0646\u0627\u062a \u0645\u0646 \u0627\u0644\u062a\u0648\u0632\u064a\u0639 \u0627\u0644\u0645\u0633\u0628\u0642\")\n\n# plot posterior\ngpr.fit(X_train, y_train)\nplot_gpr_samples(gpr, n_samples=n_samples, ax=axs[1])\naxs[1].scatter(X_train[:, 0], y_train, color=\"red\", zorder=10, label=\"\u0627\u0644\u0645\u0644\u0627\u062d\u0638\u0627\u062a\")\naxs[1].legend(bbox_to_anchor=(1.05, 1.5), loc=\"upper left\")\naxs[1].set_title(\"\u0639\u064a\u0646\u0627\u062a \u0645\u0646 \u0627\u0644\u062a\u0648\u0632\u064a\u0639 \u0627\u0644\u0644\u0627\u062d\u0642\")\n\nfig.suptitle(\"\u0646\u0648\u0627\u0629 Exp-Sine-Squared\", fontsize=18)\nplt.tight_layout()"
      ]
    },
    {
      "cell_type": "code",
      "execution_count": null,
      "metadata": {
        "collapsed": false
      },
      "outputs": [],
      "source": [
        "print(f\"\u0645\u0639\u0644\u0645\u0627\u062a \u0627\u0644\u0646\u0648\u0627\u0629 \u0642\u0628\u0644 \u0627\u0644\u0645\u0644\u0627\u0621\u0645\u0629:\\n{kernel})\")\nprint(\n    f\"\u0645\u0639\u0644\u0645\u0627\u062a \u0627\u0644\u0646\u0648\u0627\u0629 \u0628\u0639\u062f \u0627\u0644\u0645\u0644\u0627\u0621\u0645\u0629: \\n{gpr.kernel_} \\n\"\n    f\"\u0627\u062d\u062a\u0645\u0627\u0644\u064a\u0629 \u0627\u0644\u0633\u062c\u0644: {gpr.log_marginal_likelihood(gpr.kernel_.theta):.3f}\"\n)"
      ]
    },
    {
      "cell_type": "markdown",
      "metadata": {},
      "source": [
        "### \u0646\u0648\u0627\u0629 Dot-product \n\n"
      ]
    },
    {
      "cell_type": "code",
      "execution_count": null,
      "metadata": {
        "collapsed": false
      },
      "outputs": [],
      "source": [
        "from sklearn.gaussian_process.kernels import ConstantKernel, DotProduct\n\nkernel = ConstantKernel(0.1, (0.01, 10.0)) * (\n    DotProduct(sigma_0=1.0, sigma_0_bounds=(0.1, 10.0)) ** 2\n)\ngpr = GaussianProcessRegressor(kernel=kernel, random_state=0, normalize_y=True)\n\nfig, axs = plt.subplots(nrows=2, sharex=True, sharey=True, figsize=(10, 8))\n\n# plot prior\nplot_gpr_samples(gpr, n_samples=n_samples, ax=axs[0])\naxs[0].set_title(\"\u0639\u064a\u0646\u0627\u062a \u0645\u0646 \u0627\u0644\u062a\u0648\u0632\u064a\u0639 \u0627\u0644\u0645\u0633\u0628\u0642\")\n\n# plot posterior\ngpr.fit(X_train, y_train)\nplot_gpr_samples(gpr, n_samples=n_samples, ax=axs[1])\naxs[1].scatter(X_train[:, 0], y_train, color=\"red\", zorder=10, label=\"\u0627\u0644\u0645\u0644\u0627\u062d\u0638\u0627\u062a\")\naxs[1].legend(bbox_to_anchor=(1.05, 1.5), loc=\"upper left\")\naxs[1].set_title(\"\u0639\u064a\u0646\u0627\u062a \u0645\u0646 \u0627\u0644\u062a\u0648\u0632\u064a\u0639 \u0627\u0644\u0644\u0627\u062d\u0642\")\n\nfig.suptitle(\"\u0646\u0648\u0627\u0629 Dot-product\", fontsize=18)\nplt.tight_layout()"
      ]
    },
    {
      "cell_type": "code",
      "execution_count": null,
      "metadata": {
        "collapsed": false
      },
      "outputs": [],
      "source": [
        "print(f\"\u0645\u0639\u0644\u0645\u0627\u062a \u0627\u0644\u0646\u0648\u0627\u0629 \u0642\u0628\u0644 \u0627\u0644\u0645\u0644\u0627\u0621\u0645\u0629:\\n{kernel})\")\nprint(\n    f\"\u0645\u0639\u0644\u0645\u0627\u062a \u0627\u0644\u0646\u0648\u0627\u0629 \u0628\u0639\u062f \u0627\u0644\u0645\u0644\u0627\u0621\u0645\u0629: \\n{gpr.kernel_} \\n\"\n    f\"\u0627\u062d\u062a\u0645\u0627\u0644\u064a\u0629 \u0627\u0644\u0633\u062c\u0644: {gpr.log_marginal_likelihood(gpr.kernel_.theta):.3f}\"\n)"
      ]
    },
    {
      "cell_type": "markdown",
      "metadata": {},
      "source": [
        "### \u0646\u0648\u0627\u0629 Mat\u00e9rn\n\n"
      ]
    },
    {
      "cell_type": "code",
      "execution_count": null,
      "metadata": {
        "collapsed": false
      },
      "outputs": [],
      "source": [
        "from sklearn.gaussian_process.kernels import Matern\n\nkernel = 1.0 * Matern(length_scale=1.0, length_scale_bounds=(1e-1, 10.0), nu=1.5)\ngpr = GaussianProcessRegressor(kernel=kernel, random_state=0)\n\nfig, axs = plt.subplots(nrows=2, sharex=True, sharey=True, figsize=(10, 8))\n\n# plot prior\nplot_gpr_samples(gpr, n_samples=n_samples, ax=axs[0])\naxs[0].set_title(\"\u0639\u064a\u0646\u0627\u062a \u0645\u0646 \u0627\u0644\u062a\u0648\u0632\u064a\u0639 \u0627\u0644\u0645\u0633\u0628\u0642\")\n\n# plot posterior\ngpr.fit(X_train, y_train)\nplot_gpr_samples(gpr, n_samples=n_samples, ax=axs[1])\naxs[1].scatter(X_train[:, 0], y_train, color=\"red\", zorder=10, label=\"\u0627\u0644\u0645\u0644\u0627\u062d\u0638\u0627\u062a\")\naxs[1].legend(bbox_to_anchor=(1.05, 1.5), loc=\"upper left\")\naxs[1].set_title(\"\u0639\u064a\u0646\u0627\u062a \u0645\u0646 \u0627\u0644\u062a\u0648\u0632\u064a\u0639 \u0627\u0644\u0644\u0627\u062d\u0642\")\n\nfig.suptitle(\"\u0646\u0648\u0627\u0629 Mat\u00e9rn\", fontsize=18)\nplt.tight_layout()"
      ]
    },
    {
      "cell_type": "code",
      "execution_count": null,
      "metadata": {
        "collapsed": false
      },
      "outputs": [],
      "source": [
        "print(f\"\u0645\u0639\u0644\u0645\u0627\u062a \u0627\u0644\u0646\u0648\u0627\u0629 \u0642\u0628\u0644 \u0627\u0644\u0645\u0644\u0627\u0621\u0645\u0629:\\n{kernel})\")\nprint(\n    f\"\u0645\u0639\u0644\u0645\u0627\u062a \u0627\u0644\u0646\u0648\u0627\u0629 \u0628\u0639\u062f \u0627\u0644\u0645\u0644\u0627\u0621\u0645\u0629: \\n{gpr.kernel_} \\n\"\n    f\"\u0627\u062d\u062a\u0645\u0627\u0644\u064a\u0629 \u0627\u0644\u0633\u062c\u0644: {gpr.log_marginal_likelihood(gpr.kernel_.theta):.3f}\"\n)"
      ]
    }
  ],
  "metadata": {
    "kernelspec": {
      "display_name": "Python 3",
      "language": "python",
      "name": "python3"
    },
    "language_info": {
      "codemirror_mode": {
        "name": "ipython",
        "version": 3
      },
      "file_extension": ".py",
      "mimetype": "text/x-python",
      "name": "python",
      "nbconvert_exporter": "python",
      "pygments_lexer": "ipython3",
      "version": "3.10.13"
    }
  },
  "nbformat": 4,
  "nbformat_minor": 0
}