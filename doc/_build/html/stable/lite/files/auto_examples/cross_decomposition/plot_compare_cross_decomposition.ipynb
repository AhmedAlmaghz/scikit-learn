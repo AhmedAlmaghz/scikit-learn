{
  "cells": [
    {
      "cell_type": "markdown",
      "metadata": {},
      "source": [
        "<div class='alert alert-warning'>\n\n# JupyterLite warning\n\nRunning the scikit-learn examples in JupyterLite is experimental and you may encounter some unexpected behavior.\n\nThe main difference is that imports will take a lot longer than usual, for example the first `import sklearn` can take roughly 10-20s.\n\nIf you notice problems, feel free to open an [issue](https://github.com/scikit-learn/scikit-learn/issues/new/choose) about it.\n</div>"
      ]
    },
    {
      "cell_type": "code",
      "execution_count": null,
      "metadata": {
        "collapsed": false
      },
      "outputs": [],
      "source": [
        "# JupyterLite-specific code\nimport matplotlib\nimport pandas"
      ]
    },
    {
      "cell_type": "markdown",
      "metadata": {},
      "source": [
        "\n# \u0645\u0642\u0627\u0631\u0646\u0629 \u0637\u0631\u0642 \u0627\u0644\u062a\u062d\u0644\u064a\u0644 \u0627\u0644\u062a\u0641\u0627\u0636\u0644\u064a\n\n\u0627\u0644\u0627\u0633\u062a\u062e\u062f\u0627\u0645 \u0627\u0644\u0628\u0633\u064a\u0637 \u0644\u062e\u0648\u0627\u0631\u0632\u0645\u064a\u0627\u062a \u0627\u0644\u062a\u062d\u0644\u064a\u0644 \u0627\u0644\u062a\u0641\u0627\u0636\u0644\u064a \u0627\u0644\u0645\u062e\u062a\u0644\u0641\u0629:\n\n- PLSCanonical\n- PLSRegression\u060c \u0645\u0639 \u0627\u0633\u062a\u062c\u0627\u0628\u0629 \u0645\u062a\u0639\u062f\u062f\u0629 \u0627\u0644\u0645\u062a\u063a\u064a\u0631\u0627\u062a\u060c \u0627\u0644\u0645\u0639\u0631\u0648\u0641 \u0623\u064a\u0636\u064b\u0627 \u0628\u0627\u0633\u0645 PLS2\n- PLSRegression\u060c \u0645\u0639 \u0627\u0633\u062a\u062c\u0627\u0628\u0629 \u0623\u062d\u0627\u062f\u064a\u0629 \u0627\u0644\u0645\u062a\u063a\u064a\u0631\u060c \u0627\u0644\u0645\u0639\u0631\u0648\u0641 \u0623\u064a\u0636\u064b\u0627 \u0628\u0627\u0633\u0645 PLS1\n- CCA\n\n\u0646\u0638\u0631\u064b\u0627 \u0644\u0648\u062c\u0648\u062f \u0645\u062c\u0645\u0648\u0639\u062a\u064a\u0646 \u0645\u0646 \u0627\u0644\u0628\u064a\u0627\u0646\u0627\u062a \u062b\u0646\u0627\u0626\u064a\u0629 \u0627\u0644\u0623\u0628\u0639\u0627\u062f \u0645\u062a\u0639\u062f\u062f\u0629 \u0627\u0644\u0645\u062a\u063a\u064a\u0631\u0627\u062a \u0648\u0645\u062a\u063a\u064a\u0631\u0629 \u0627\u0644\u062a\u063a\u0627\u064a\u0631\u060c X \u0648 Y\u060c\n\u064a\u0642\u0648\u0645 PLS \u0628\u0627\u0633\u062a\u062e\u0631\u0627\u062c '\u0627\u062a\u062c\u0627\u0647\u0627\u062a \u0627\u0644\u062a\u063a\u0627\u064a\u0631'\u060c \u0623\u064a \u0645\u0643\u0648\u0646\u0627\u062a \u0643\u0644\n\u0645\u062c\u0645\u0648\u0639\u0627\u062a \u0627\u0644\u0628\u064a\u0627\u0646\u0627\u062a \u0627\u0644\u062a\u064a \u062a\u0641\u0633\u0631 \u0623\u0643\u0628\u0631 \u062a\u063a\u0627\u064a\u0631 \u0645\u0634\u062a\u0631\u0643 \u0628\u064a\u0646 \u0645\u062c\u0645\u0648\u0639\u062a\u064a \u0627\u0644\u0628\u064a\u0627\u0646\u0627\u062a.\n\u0647\u0630\u0627 \u0648\u0627\u0636\u062d \u0639\u0644\u0649 \u0639\u0631\u0636 **\u0645\u0635\u0641\u0648\u0641\u0629 \u0627\u0644\u0631\u0633\u0645 \u0627\u0644\u0628\u064a\u0627\u0646\u064a**: \u0627\u0644\u0645\u0643\u0648\u0646\u0627\u062a 1 \u0641\u064a\n\u0645\u062c\u0645\u0648\u0639\u0629 \u0627\u0644\u0628\u064a\u0627\u0646\u0627\u062a X \u0648\u0645\u062c\u0645\u0648\u0639\u0629 \u0627\u0644\u0628\u064a\u0627\u0646\u0627\u062a Y \u0645\u062a\u0648\u0627\u0641\u0642\u0629 \u0628\u0634\u0643\u0644 \u0643\u0628\u064a\u0631 (\u062a\u062a\u0631\u0643\u0632 \u0627\u0644\u0646\u0642\u0627\u0637 \u062d\u0648\u0644\n\u0627\u0644\u0645\u062d\u0648\u0631 \u0627\u0644\u0623\u0648\u0644). \u0647\u0630\u0627 \u0635\u062d\u064a\u062d \u0623\u064a\u0636\u064b\u0627 \u0644\u0644\u0645\u0643\u0648\u0646\u0627\u062a 2 \u0641\u064a \u0643\u0644\u062a\u0627 \u0645\u062c\u0645\u0648\u0639\u062a\u064a \u0627\u0644\u0628\u064a\u0627\u0646\u0627\u062a\u060c\n\u0648\u0645\u0639 \u0630\u0644\u0643\u060c \u0641\u0625\u0646 \u0627\u0644\u0627\u0631\u062a\u0628\u0627\u0637 \u0639\u0628\u0631 \u0645\u062c\u0645\u0648\u0639\u0627\u062a \u0627\u0644\u0628\u064a\u0627\u0646\u0627\u062a \u0644\u0645\u0643\u0648\u0646\u0627\u062a \u0645\u062e\u062a\u0644\u0641\u0629\n\u0636\u0639\u064a\u0641: \u0633\u062d\u0627\u0628\u0629 \u0627\u0644\u0646\u0642\u0627\u0637 \u0643\u0631\u0648\u064a\u0629 \u062c\u062f\u064b\u0627.\n"
      ]
    },
    {
      "cell_type": "code",
      "execution_count": null,
      "metadata": {
        "collapsed": false
      },
      "outputs": [],
      "source": [
        "# \u0627\u0644\u0645\u0624\u0644\u0641\u0648\u0646: \u0645\u0637\u0648\u0631\u064a scikit-learn\n# \u0645\u0639\u0631\u0641 \u0627\u0644\u062a\u0631\u062e\u064a\u0635: BSD-3-Clause"
      ]
    },
    {
      "cell_type": "markdown",
      "metadata": {},
      "source": [
        "## \u0646\u0645\u0648\u0630\u062c \u0627\u0644\u0645\u062a\u063a\u064a\u0631\u0627\u062a \u0627\u0644\u0643\u0627\u0645\u0646\u0629 \u0627\u0644\u0642\u0627\u0626\u0645 \u0639\u0644\u0649 \u0645\u062c\u0645\u0648\u0639\u0629 \u0627\u0644\u0628\u064a\u0627\u0646\u0627\u062a\n\n"
      ]
    },
    {
      "cell_type": "code",
      "execution_count": null,
      "metadata": {
        "collapsed": false
      },
      "outputs": [],
      "source": [
        "import numpy as np\n\nn = 500\n# 2 \u0645\u062a\u063a\u064a\u0631\u0627\u062a \u0643\u0627\u0645\u0646\u0629:\nl1 = np.random.normal(size=n)\nl2 = np.random.normal(size=n)\n\nlatents = np.array([l1, l1, l2, l2]).T\nX = latents + np.random.normal(size=4 * n).reshape((n, 4))\nY = latents + np.random.normal(size=4 * n).reshape((n, 4))\n\nX_train = X[: n // 2]\nY_train = Y[: n // 2]\nX_test = X[n // 2 :]\nY_test = Y[n // 2 :]\n\nprint(\"Corr(X)\")\nprint(np.round(np.corrcoef(X.T), 2))\nprint(\"Corr(Y)\")\nprint(np.round(np.corrcoef(Y.T), 2))"
      ]
    },
    {
      "cell_type": "markdown",
      "metadata": {},
      "source": [
        "## PLS \u0627\u0644\u062a\u0637\u0627\u0628\u0642 (\u0627\u0644\u0645\u062a\u0645\u0627\u062b\u0644)\n\n### \u062a\u062d\u0648\u064a\u0644 \u0627\u0644\u0628\u064a\u0627\u0646\u0627\u062a\n\n"
      ]
    },
    {
      "cell_type": "code",
      "execution_count": null,
      "metadata": {
        "collapsed": false
      },
      "outputs": [],
      "source": [
        "from sklearn.cross_decomposition import PLSCanonical\n\nplsca = PLSCanonical(n_components=2)\nplsca.fit(X_train, Y_train)\nX_train_r, Y_train_r = plsca.transform(X_train, Y_train)\nX_test_r, Y_test_r = plsca.transform(X_test, Y_test)"
      ]
    },
    {
      "cell_type": "markdown",
      "metadata": {},
      "source": [
        "### \u0631\u0633\u0645 \u0628\u064a\u0627\u0646\u064a \u0645\u062a\u0641\u0631\u0642 \u0644\u062f\u0631\u062c\u0627\u062a \u0627\u0644\u0645\u0643\u0648\u0646\u0627\u062a\n\n"
      ]
    },
    {
      "cell_type": "code",
      "execution_count": null,
      "metadata": {
        "collapsed": false
      },
      "outputs": [],
      "source": [
        "import matplotlib.pyplot as plt\n\n# \u0639\u0644\u0649 \u0631\u0633\u0645 \u0628\u064a\u0627\u0646\u064a \u0642\u0637\u0631\u064a X \u0645\u0642\u0627\u0628\u0644 Y \u0639\u0644\u0649 \u0643\u0644 \u0645\u0643\u0648\u0646\nplt.figure(figsize=(12, 8))\nplt.subplot(221)\nplt.scatter(X_train_r[:, 0], Y_train_r[:, 0], label=\"train\", marker=\"o\", s=25)\nplt.scatter(X_test_r[:, 0], Y_test_r[:, 0], label=\"test\", marker=\"o\", s=25)\nplt.xlabel(\"x scores\")\nplt.ylabel(\"y scores\")\nplt.title(\n    \"Comp. 1: X vs Y (test corr = %.2f)\"\n    % np.corrcoef(X_test_r[:, 0], Y_test_r[:, 0])[0, 1]\n)\nplt.xticks(())\nplt.yticks(())\nplt.legend(loc=\"best\")\n\nplt.subplot(224)\nplt.scatter(X_train_r[:, 1], Y_train_r[:, 1], label=\"train\", marker=\"o\", s=25)\nplt.scatter(X_test_r[:, 1], Y_test_r[:, 1], label=\"test\", marker=\"o\", s=25)\nplt.xlabel(\"x scores\")\nplt.ylabel(\"y scores\")\nplt.title(\n    \"Comp. 2: X vs Y (test corr = %.2f)\"\n    % np.corrcoef(X_test_r[:, 1], Y_test_r[:, 1])[0, 1]\n)\nplt.xticks(())\nplt.yticks(())\nplt.legend(loc=\"best\")\n\n# \u0631\u0633\u0645 \u0628\u064a\u0627\u0646\u064a \u062e\u0627\u0631\u062c\u064a \u0644\u0644\u0645\u0643\u0648\u0646\u0627\u062a 1 \u0645\u0642\u0627\u0628\u0644 2 \u0644\u0640 X \u0648 Y\nplt.subplot(222)\nplt.scatter(X_train_r[:, 0], X_train_r[:, 1], label=\"train\", marker=\"*\", s=50)\nplt.scatter(X_test_r[:, 0], X_test_r[:, 1], label=\"test\", marker=\"*\", s=50)\nplt.xlabel(\"X comp. 1\")\nplt.ylabel(\"X comp. 2\")\nplt.title(\n    \"X comp. 1 vs X comp. 2 (test corr = %.2f)\"\n    % np.corrcoef(X_test_r[:, 0], X_test_r[:, 1])[0, 1]\n)\nplt.legend(loc=\"best\")\nplt.xticks(())\nplt.yticks(())\n\nplt.subplot(223)\nplt.scatter(Y_train_r[:, 0], Y_train_r[:, 1], label=\"train\", marker=\"*\", s=50)\nplt.scatter(Y_test_r[:, 0], Y_test_r[:, 1], label=\"test\", marker=\"*\", s=50)\nplt.xlabel(\"Y comp. 1\")\nplt.ylabel(\"Y comp. 2\")\nplt.title(\n    \"Y comp. 1 vs Y comp. 2 , (test corr = %.2f)\"\n    % np.corrcoef(Y_test_r[:, 0], Y_test_r[:, 1])[0, 1]\n)\nplt.legend(loc=\"best\")\nplt.xticks(())\nplt.yticks(())\nplt.show()"
      ]
    },
    {
      "cell_type": "markdown",
      "metadata": {},
      "source": [
        "## \u0627\u0644\u0627\u0646\u062d\u062f\u0627\u0631 PLS\u060c \u0645\u0639 \u0627\u0633\u062a\u062c\u0627\u0628\u0629 \u0645\u062a\u0639\u062f\u062f\u0629 \u0627\u0644\u0645\u062a\u063a\u064a\u0631\u0627\u062a\u060c \u0627\u0644\u0645\u0639\u0631\u0648\u0641 \u0623\u064a\u0636\u064b\u0627 \u0628\u0627\u0633\u0645 PLS2\n\n"
      ]
    },
    {
      "cell_type": "code",
      "execution_count": null,
      "metadata": {
        "collapsed": false
      },
      "outputs": [],
      "source": [
        "from sklearn.cross_decomposition import PLSRegression\n\nn = 1000\nq = 3\np = 10\nX = np.random.normal(size=n * p).reshape((n, p))\nB = np.array([[1, 2] + [0] * (p - 2)] * q).T\n# \u0643\u0644 Yj = 1*X1 + 2*X2 + \u0636\u062c\u064a\u062c\nY = np.dot(X, B) + np.random.normal(size=n * q).reshape((n, q)) + 5\npls2 = PLSRegression(n_components=3)\npls2.fit(X, Y)\nprint(\"True B (such that: Y = XB + Err)\")\nprint(B)\n# compare pls2.coef_ with B\nprint(\"Estimated B\")\nprint(np.round(pls2.coef_, 1))\npls2.predict(X)"
      ]
    },
    {
      "cell_type": "markdown",
      "metadata": {},
      "source": [
        "## \u0627\u0644\u0627\u0646\u062d\u062f\u0627\u0631 PLS\u060c \u0645\u0639 \u0627\u0633\u062a\u062c\u0627\u0628\u0629 \u0623\u062d\u0627\u062f\u064a\u0629 \u0627\u0644\u0645\u062a\u063a\u064a\u0631\u060c \u0627\u0644\u0645\u0639\u0631\u0648\u0641 \u0623\u064a\u0636\u064b\u0627 \u0628\u0627\u0633\u0645 PLS1\n\n"
      ]
    },
    {
      "cell_type": "code",
      "execution_count": null,
      "metadata": {
        "collapsed": false
      },
      "outputs": [],
      "source": [
        "n = 1000\np = 10\nX = np.random.normal(size=n * p).reshape((n, p))\ny = X[:, 0] + 2 * X[:, 1] + np.random.normal(size=n * 1) + 5\npls1 = PLSRegression(n_components=3)\npls1.fit(X, y)\n# \u0644\u0627\u062d\u0638 \u0623\u0646 \u0639\u062f\u062f \u0627\u0644\u0645\u0643\u0648\u0646\u0627\u062a \u064a\u062a\u062c\u0627\u0648\u0632 1 (\u0628\u0639\u062f y)\nprint(\"Estimated betas\")\nprint(np.round(pls1.coef_, 1))"
      ]
    },
    {
      "cell_type": "markdown",
      "metadata": {},
      "source": [
        "## CCA (\u0648\u0636\u0639 PLS B \u0645\u0639 \u0627\u0644\u0627\u0646\u0643\u0645\u0627\u0634 \u0627\u0644\u0645\u062a\u0645\u0627\u062b\u0644)\n\n"
      ]
    },
    {
      "cell_type": "code",
      "execution_count": null,
      "metadata": {
        "collapsed": false
      },
      "outputs": [],
      "source": [
        "from sklearn.cross_decomposition import CCA\n\ncca = CCA(n_components=2)\ncca.fit(X_train, Y_train)\nX_train_r, Y_train_r = cca.transform(X_train, Y_train)\nX_test_r, Y_test_r = cca.transform(X_test, Y_test)"
      ]
    }
  ],
  "metadata": {
    "kernelspec": {
      "display_name": "Python 3",
      "language": "python",
      "name": "python3"
    },
    "language_info": {
      "codemirror_mode": {
        "name": "ipython",
        "version": 3
      },
      "file_extension": ".py",
      "mimetype": "text/x-python",
      "name": "python",
      "nbconvert_exporter": "python",
      "pygments_lexer": "ipython3",
      "version": "3.10.13"
    }
  },
  "nbformat": 4,
  "nbformat_minor": 0
}