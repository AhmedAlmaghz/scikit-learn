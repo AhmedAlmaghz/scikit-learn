{
  "cells": [
    {
      "cell_type": "markdown",
      "metadata": {},
      "source": [
        "\n# \u0639\u0631\u0636 \u062a\u0648\u0636\u064a\u062d\u064a \u0644\u062e\u0648\u0627\u0631\u0632\u0645\u064a\u0629 \u0627\u0644\u062a\u062c\u0645\u064a\u0639 \u0645\u062a\u0648\u0633\u0637 \u0627\u0644\u062a\u062d\u0648\u0644\n\n\u0627\u0644\u0645\u0631\u062c\u0639:\n\n\u062f\u0648\u0631\u064a\u0646 \u0643\u0648\u0645\u0627\u0646\u064a\u0633\u064a\u0648 \u0648\u0628\u064a\u062a\u0631 \u0645\u064a\u0631\u060c \"\u0645\u062a\u0648\u0633\u0637 \u0627\u0644\u062a\u062d\u0648\u0644: \u0646\u0647\u062c \u0642\u0648\u064a \u0646\u062d\u0648\n\u062a\u062d\u0644\u064a\u0644 \u0645\u0633\u0627\u062d\u0629 \u0627\u0644\u0645\u064a\u0632\u0627\u062a\". \u0645\u0639\u0627\u0645\u0644\u0627\u062a IEEE \u0639\u0644\u0649 \u062a\u062d\u0644\u064a\u0644 \u0627\u0644\u0623\u0646\u0645\u0627\u0637 \u0648\u0627\u0644\u0630\u0643\u0627\u0621 \u0627\u0644\u0627\u0635\u0637\u0646\u0627\u0639\u064a. 2002. \u0635 603-619.\n"
      ]
    },
    {
      "cell_type": "code",
      "execution_count": null,
      "metadata": {
        "collapsed": false
      },
      "outputs": [],
      "source": [
        "# \u0627\u0644\u0645\u0624\u0644\u0641\u0648\u0646: \u0645\u0637\u0648\u0631\u064a \u0633\u0643\u0627\u064a\u062a-\u0644\u064a\u0631\u0646\n# \u0645\u0639\u0631\u0641 \u0627\u0644\u062a\u0631\u062e\u064a\u0635-SPDX: BSD-3-Clause\n\nimport numpy as np\n\nfrom sklearn.cluster import MeanShift, estimate_bandwidth\nfrom sklearn.datasets import make_blobs"
      ]
    },
    {
      "cell_type": "markdown",
      "metadata": {},
      "source": [
        "## \u062a\u0648\u0644\u064a\u062f \u0628\u064a\u0627\u0646\u0627\u062a \u0627\u0644\u0639\u064a\u0646\u0629\n\n"
      ]
    },
    {
      "cell_type": "code",
      "execution_count": null,
      "metadata": {
        "collapsed": false
      },
      "outputs": [],
      "source": [
        "centers = [[1, 1], [-1, -1], [1, -1]]\nX, _ = make_blobs(n_samples=10000, centers=centers, cluster_std=0.6)"
      ]
    },
    {
      "cell_type": "markdown",
      "metadata": {},
      "source": [
        "## \u062d\u0633\u0627\u0628 \u0627\u0644\u062a\u062c\u0645\u064a\u0639 \u0628\u0627\u0633\u062a\u062e\u062f\u0627\u0645 MeanShift\n\n"
      ]
    },
    {
      "cell_type": "code",
      "execution_count": null,
      "metadata": {
        "collapsed": false
      },
      "outputs": [],
      "source": [
        "# \u064a\u0645\u0643\u0646 \u0627\u0644\u0643\u0634\u0641 \u0639\u0646 \u0639\u0631\u0636 \u0627\u0644\u0646\u0637\u0627\u0642 \u0627\u0644\u062a\u0631\u062f\u062f\u064a \u0627\u0644\u062a\u0627\u0644\u064a \u062a\u0644\u0642\u0627\u0626\u064a\u064b\u0627 \u0628\u0627\u0633\u062a\u062e\u062f\u0627\u0645\nbandwidth = estimate_bandwidth(X, quantile=0.2, n_samples=500)\n\nms = MeanShift(bandwidth=bandwidth, bin_seeding=True)\nms.fit(X)\nlabels = ms.labels_\ncluster_centers = ms.cluster_centers_\n\nlabels_unique = np.unique(labels)\nn_clusters_ = len(labels_unique)\n\nprint(\"\u0639\u062f\u062f \u0627\u0644\u062a\u062c\u0645\u0639\u0627\u062a \u0627\u0644\u0645\u0642\u062f\u0631\u0629: %d\" % n_clusters_)"
      ]
    },
    {
      "cell_type": "markdown",
      "metadata": {},
      "source": [
        "## \u0631\u0633\u0645 \u0627\u0644\u0646\u062a\u064a\u062c\u0629\n\n"
      ]
    },
    {
      "cell_type": "code",
      "execution_count": null,
      "metadata": {
        "collapsed": false
      },
      "outputs": [],
      "source": [
        "import matplotlib.pyplot as plt\n\nplt.figure(1)\nplt.clf()\n\ncolors = [\"#dede00\", \"#377eb8\", \"#f781bf\"]\nmarkers = [\"x\", \"o\", \"^\"]\n\nfor k, col in zip(range(n_clusters_), colors):\n    my_members = labels == k\n    cluster_center = cluster_centers[k]\n    plt.plot(X[my_members, 0], X[my_members, 1], markers[k], color=col)\n    plt.plot(\n        cluster_center[0],\n        cluster_center[1],\n        markers[k],\n        markerfacecolor=col,\n        markeredgecolor=\"k\",\n        markersize=14,\n    )\nplt.title(\"Estimated number of clusters: %d\" % n_clusters_)\nplt.show()"
      ]
    }
  ],
  "metadata": {
    "kernelspec": {
      "display_name": "Python 3",
      "language": "python",
      "name": "python3"
    },
    "language_info": {
      "codemirror_mode": {
        "name": "ipython",
        "version": 3
      },
      "file_extension": ".py",
      "mimetype": "text/x-python",
      "name": "python",
      "nbconvert_exporter": "python",
      "pygments_lexer": "ipython3",
      "version": "3.10.13"
    }
  },
  "nbformat": 4,
  "nbformat_minor": 0
}