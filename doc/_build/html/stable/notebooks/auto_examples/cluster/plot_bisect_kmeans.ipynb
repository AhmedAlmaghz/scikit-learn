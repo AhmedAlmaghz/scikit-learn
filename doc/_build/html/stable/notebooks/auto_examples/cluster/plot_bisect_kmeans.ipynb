{
  "cells": [
    {
      "cell_type": "markdown",
      "metadata": {},
      "source": [
        "\n# \u0645\u0642\u0627\u0631\u0646\u0629 \u0627\u0644\u0623\u062f\u0627\u0621 \u0628\u064a\u0646 \u062e\u0648\u0627\u0631\u0632\u0645\u064a\u0629 K-Means \u0627\u0644\u0639\u0627\u062f\u064a\u0629 \u0648\u062e\u0648\u0627\u0631\u0632\u0645\u064a\u0629 Bisecting K-Means\n\n\u0647\u0630\u0627 \u0627\u0644\u0645\u062b\u0627\u0644 \u064a\u0648\u0636\u062d \u0627\u0644\u0641\u0631\u0648\u0642 \u0628\u064a\u0646 \u062e\u0648\u0627\u0631\u0632\u0645\u064a\u0629 K-Means \u0627\u0644\u0639\u0627\u062f\u064a\u0629 \u0648\u062e\u0648\u0627\u0631\u0632\u0645\u064a\u0629 Bisecting K-Means.\n\n\u0641\u064a \u062d\u064a\u0646 \u0623\u0646 \u0627\u0644\u062a\u062c\u0645\u064a\u0639\u0627\u062a \u0641\u064a \u062e\u0648\u0627\u0631\u0632\u0645\u064a\u0629 K-Means \u062a\u062e\u062a\u0644\u0641 \u0639\u0646\u062f \u0632\u064a\u0627\u062f\u0629 n_clusters\u060c \u0641\u0625\u0646 \u062a\u062c\u0645\u064a\u0639 Bisecting K-Means \u064a\u0628\u0646\u064a \u0639\u0644\u0649 \u0627\u0644\u062a\u062c\u0645\u064a\u0639\u0627\u062a \u0627\u0644\u0633\u0627\u0628\u0642\u0629. \u0648\u0646\u062a\u064a\u062c\u0629 \u0644\u0630\u0644\u0643\u060c \u0641\u0625\u0646\u0647\u0627 \u062a\u0645\u064a\u0644 \u0625\u0644\u0649 \u0625\u0646\u0634\u0627\u0621 \u0645\u062c\u0645\u0648\u0639\u0627\u062a \u0630\u0627\u062a \u0628\u0646\u064a\u0629 \u0648\u0627\u0633\u0639\u0629 \u0627\u0644\u0646\u0637\u0627\u0642 \u0623\u0643\u062b\u0631 \u0627\u0646\u062a\u0638\u0627\u0645\u064b\u0627. \u064a\u0645\u0643\u0646 \u0645\u0644\u0627\u062d\u0638\u0629 \u0647\u0630\u0627 \u0627\u0644\u0627\u062e\u062a\u0644\u0627\u0641 \u0628\u0635\u0631\u064a\u064b\u0627: \u0628\u0627\u0644\u0646\u0633\u0628\u0629 \u0644\u062c\u0645\u064a\u0639 \u0623\u0639\u062f\u0627\u062f \u0627\u0644\u0645\u062c\u0645\u0648\u0639\u0627\u062a\u060c \u0647\u0646\u0627\u0643 \u062e\u0637 \u0641\u0627\u0635\u0644 \u064a\u0642\u0633\u0645 \u0633\u062d\u0627\u0628\u0629 \u0627\u0644\u0628\u064a\u0627\u0646\u0627\u062a \u0627\u0644\u0643\u0644\u064a\u0629 \u0625\u0644\u0649 \u0646\u0635\u0641\u064a\u0646 \u0641\u064a \u062e\u0648\u0627\u0631\u0632\u0645\u064a\u0629 BisectingKMeans\u060c \u0648\u0647\u0648 \u063a\u064a\u0631 \u0645\u0648\u062c\u0648\u062f \u0641\u064a \u062e\u0648\u0627\u0631\u0632\u0645\u064a\u0629 K-Means \u0627\u0644\u0639\u0627\u062f\u064a\u0629.\n"
      ]
    },
    {
      "cell_type": "code",
      "execution_count": null,
      "metadata": {
        "collapsed": false
      },
      "outputs": [],
      "source": [
        "# \u0627\u0644\u0645\u0624\u0644\u0641\u0648\u0646: \u0645\u0637\u0648\u0631\u064a scikit-learn\n# \u0645\u0639\u0631\u0641 \u0627\u0644\u062a\u0631\u062e\u064a\u0635: BSD-3-Clause\n\nimport matplotlib.pyplot as plt\n\nfrom sklearn.cluster import BisectingKMeans, KMeans\nfrom sklearn.datasets import make_blobs\n\nprint(__doc__)\n\n\n# \u062a\u0648\u0644\u064a\u062f \u0628\u064a\u0627\u0646\u0627\u062a \u0627\u0644\u0639\u064a\u0646\u0629\nn_samples = 10000\nrandom_state = 0\n\nX, _ = make_blobs(n_samples=n_samples, centers=2, random_state=random_state)\n\n# \u0639\u062f\u062f \u0645\u0631\u0627\u0643\u0632 \u0627\u0644\u062a\u062c\u0645\u064a\u0639 \u0644\u062e\u0648\u0627\u0631\u0632\u0645\u064a\u062a\u064a KMeans \u0648 BisectingKMeans\nn_clusters_list = [4, 8, 16]\n\n# \u0627\u0644\u062e\u0648\u0627\u0631\u0632\u0645\u064a\u0627\u062a \u0627\u0644\u0645\u0631\u0627\u062f \u0645\u0642\u0627\u0631\u0646\u062a\u0647\u0627\nclustering_algorithms = {\n    \"Bisecting K-Means\": BisectingKMeans,\n    \"K-Means\": KMeans,\n}\n\n# \u0625\u0646\u0634\u0627\u0621 \u0645\u062e\u0637\u0637\u0627\u062a \u0641\u0631\u0639\u064a\u0629 \u0644\u0643\u0644 \u0645\u062a\u063a\u064a\u0631\nfig, axs = plt.subplots(\n    len(clustering_algorithms), len(n_clusters_list), figsize=(12, 5)\n)\n\naxs = axs.T\n\nfor i, (algorithm_name, Algorithm) in enumerate(clustering_algorithms.items()):\n    for j, n_clusters in enumerate(n_clusters_list):\n        algo = Algorithm(n_clusters=n_clusters, random_state=random_state, n_init=3)\n        algo.fit(X)\n        centers = algo.cluster_centers_\n\n        axs[j, i].scatter(X[:, 0], X[:, 1], s=10, c=algo.labels_)\n        axs[j, i].scatter(centers[:, 0], centers[:, 1], c=\"r\", s=20)\n\n        axs[j, i].set_title(f\"{algorithm_name} : {n_clusters} clusters\")\n\n\n# \u0625\u062e\u0641\u0627\u0621 \u062a\u0633\u0645\u064a\u0627\u062a \u0627\u0644\u0645\u062d\u0648\u0631 \u0648\u062a\u0633\u0645\u064a\u0627\u062a \u0627\u0644\u062a\u0643\u062a\u0627\u062a \u0644\u0644\u0623\u0634\u0643\u0627\u0644 \u0627\u0644\u0639\u0644\u0648\u064a\u0629 \u0648\u062a\u0643\u062a\u0627\u062a \u0627\u0644\u0645\u062d\u0648\u0631 y \u0644\u0644\u0623\u0634\u0643\u0627\u0644 \u0627\u0644\u064a\u0645\u0646\u0649.\nfor ax in axs.flat:\n    ax.label_outer()\n    ax.set_xticks([])\n    ax.set_yticks([])\n\nplt.show()"
      ]
    }
  ],
  "metadata": {
    "kernelspec": {
      "display_name": "Python 3",
      "language": "python",
      "name": "python3"
    },
    "language_info": {
      "codemirror_mode": {
        "name": "ipython",
        "version": 3
      },
      "file_extension": ".py",
      "mimetype": "text/x-python",
      "name": "python",
      "nbconvert_exporter": "python",
      "pygments_lexer": "ipython3",
      "version": "3.10.13"
    }
  },
  "nbformat": 4,
  "nbformat_minor": 0
}