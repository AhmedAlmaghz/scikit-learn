{
  "cells": [
    {
      "cell_type": "markdown",
      "metadata": {},
      "source": [
        "\n# \u0627\u0644\u0639\u0646\u0642\u062f\u0629 \u0627\u0644\u0647\u0631\u0645\u064a\u0629: \u0627\u0644\u0639\u0646\u0642\u062f\u0629 \u0627\u0644\u0645\u0646\u0638\u0645\u0629 \u0648\u063a\u064a\u0631 \u0627\u0644\u0645\u0646\u0638\u0645\u0629\n\n\u0645\u062b\u0627\u0644 \u064a\u0628\u0646\u064a \u0645\u062c\u0645\u0648\u0639\u0629 \u0628\u064a\u0627\u0646\u0627\u062a Swiss Roll \u0648\u064a\u0642\u0648\u0645 \u0628\u062a\u0634\u063a\u064a\u0644\n\u0627\u0644\u0639\u0646\u0642\u062f\u0629 \u0627\u0644\u0647\u0631\u0645\u064a\u0629 \u0639\u0644\u0649 \u0645\u0648\u0642\u0639\u0647\u0627.\n\n\u0644\u0645\u0632\u064a\u062f \u0645\u0646 \u0627\u0644\u0645\u0639\u0644\u0648\u0645\u0627\u062a\u060c \u0631\u0627\u062c\u0639 `hierarchical_clustering`.\n\n\u0641\u064a \u0627\u0644\u062e\u0637\u0648\u0629 \u0627\u0644\u0623\u0648\u0644\u0649\u060c \u064a\u062a\u0645 \u062a\u0646\u0641\u064a\u0630 \u0627\u0644\u0639\u0646\u0642\u062f\u0629 \u0627\u0644\u0647\u0631\u0645\u064a\u0629 \u0628\u062f\u0648\u0646 \u0642\u064a\u0648\u062f \u0627\u0644\u0627\u062a\u0635\u0627\u0644\n\u0639\u0644\u0649 \u0627\u0644\u0628\u0646\u064a\u0629 \u0648\u062a\u0633\u062a\u0646\u062f \u0641\u0642\u0637 \u0639\u0644\u0649 \u0627\u0644\u0645\u0633\u0627\u0641\u0629\u060c \u0641\u064a \u062d\u064a\u0646 \u0623\u0646 \u0641\u064a\n\u0627\u0644\u062e\u0637\u0648\u0629 \u0627\u0644\u062b\u0627\u0646\u064a\u0629\u060c \u064a\u062a\u0645 \u062a\u0642\u064a\u064a\u062f \u0627\u0644\u0639\u0646\u0642\u062f\u0629 \u0625\u0644\u0649 \u0631\u0633\u0645 k-Nearest Neighbors\n\u0627\u0644\u0628\u064a\u0627\u0646\u064a: \u0625\u0646\u0647\u0627 \u0639\u0646\u0642\u062f\u0629 \u0647\u0631\u0645\u064a\u0629 \u0630\u0627\u062a \u0628\u0646\u064a\u0629 \u0645\u0633\u0628\u0642\u0629.\n\n\u0628\u0639\u0636 \u0627\u0644\u0645\u062c\u0645\u0648\u0639\u0627\u062a \u0627\u0644\u062a\u064a \u062a\u0645 \u062a\u0639\u0644\u0645\u0647\u0627 \u0628\u062f\u0648\u0646 \u0642\u064a\u0648\u062f \u0627\u0644\u0627\u062a\u0635\u0627\u0644 \u0644\u0627\n\u062a\u062d\u062a\u0631\u0645 \u0628\u0646\u064a\u0629 Swiss Roll \u0648\u062a\u0645\u062a\u062f \u0639\u0628\u0631 \u0637\u064a\u0627\u062a \u0645\u062e\u062a\u0644\u0641\u0629 \u0645\u0646\n\u0627\u0644\u062f\u0648\u0627\u0644. \u0639\u0644\u0649 \u0627\u0644\u0639\u0643\u0633\u060c \u0639\u0646\u062f \u0645\u0639\u0627\u0631\u0636\u0629 \u0642\u064a\u0648\u062f \u0627\u0644\u0627\u062a\u0635\u0627\u0644\u060c\n\u062a\u0634\u0643\u0644 \u0627\u0644\u0645\u062c\u0645\u0648\u0639\u0627\u062a \u062a\u0642\u0633\u064a\u0645\u064b\u0627 \u062c\u064a\u062f\u064b\u0627 \u0644\u0633\u0648\u064a\u0633 \u0631\u0648\u0644.\n"
      ]
    },
    {
      "cell_type": "code",
      "execution_count": null,
      "metadata": {
        "collapsed": false
      },
      "outputs": [],
      "source": [
        "# \u0627\u0644\u0645\u0624\u0644\u0641\u0648\u0646: \u0645\u0637\u0648\u0631\u064a scikit-learn\n# \u0645\u0639\u0631\u0641 \u0627\u0644\u062a\u0631\u062e\u064a\u0635: BSD-3-Clause\n\nfrom sklearn.neighbors import kneighbors_graph\nimport matplotlib.pyplot as plt\nfrom sklearn.cluster import AgglomerativeClustering\nimport time as time\n\n# \u0627\u0644\u0627\u0633\u062a\u064a\u0631\u0627\u062f \u0627\u0644\u062a\u0627\u0644\u064a \u0645\u0637\u0644\u0648\u0628\n# \u0644\u0639\u0645\u0644 \u0627\u0644\u0625\u0633\u0642\u0627\u0637 \u062b\u0644\u0627\u062b\u064a \u0627\u0644\u0623\u0628\u0639\u0627\u062f \u0645\u0639 matplotlib < 3.2\nimport mpl_toolkits.mplot3d  # noqa: F401\nimport numpy as np"
      ]
    },
    {
      "cell_type": "markdown",
      "metadata": {},
      "source": [
        "## \u062a\u0648\u0644\u064a\u062f \u0627\u0644\u0628\u064a\u0627\u0646\u0627\u062a\n\n\u0646\u0628\u062f\u0623 \u0628\u062a\u0648\u0644\u064a\u062f \u0645\u062c\u0645\u0648\u0639\u0629 \u0628\u064a\u0627\u0646\u0627\u062a Swiss Roll.\n\n"
      ]
    },
    {
      "cell_type": "code",
      "execution_count": null,
      "metadata": {
        "collapsed": false
      },
      "outputs": [],
      "source": [
        "from sklearn.datasets import make_swiss_roll\n\nn_samples = 1500\nnoise = 0.05\nX, _ = make_swiss_roll(n_samples, noise=noise)\n# Make it thinner\nX[:, 1] *= 0.5"
      ]
    },
    {
      "cell_type": "markdown",
      "metadata": {},
      "source": [
        "## \u062d\u0633\u0627\u0628 \u0627\u0644\u0639\u0646\u0642\u062f\u0629\n\n\u0646\u062d\u0646 \u0646\u0624\u062f\u064a AgglomerativeClustering \u0627\u0644\u0630\u064a \u064a\u0623\u062a\u064a \u062a\u062d\u062a \u0627\u0644\u0639\u0646\u0642\u062f\u0629 \u0627\u0644\u0647\u0631\u0645\u064a\u0629\n\u0628\u062f\u0648\u0646 \u0623\u064a \u0642\u064a\u0648\u062f \u0627\u062a\u0635\u0627\u0644.\n\n"
      ]
    },
    {
      "cell_type": "code",
      "execution_count": null,
      "metadata": {
        "collapsed": false
      },
      "outputs": [],
      "source": [
        "print(\"Compute unstructured hierarchical clustering...\")\nst = time.time()\nward = AgglomerativeClustering(n_clusters=6, linkage=\"ward\").fit(X)\nelapsed_time = time.time() - st\nlabel = ward.labels_\nprint(f\"Elapsed time: {elapsed_time:.2f}s\")\nprint(f\"Number of points: {label.size}\")"
      ]
    },
    {
      "cell_type": "markdown",
      "metadata": {},
      "source": [
        "## \u0631\u0633\u0645 \u0627\u0644\u0646\u062a\u064a\u062c\u0629\n\u0631\u0633\u0645 \u0627\u0644\u0639\u0646\u0642\u062f\u0629 \u0627\u0644\u0647\u0631\u0645\u064a\u0629 \u063a\u064a\u0631 \u0627\u0644\u0645\u0646\u0638\u0645\u0629.\n\n"
      ]
    },
    {
      "cell_type": "code",
      "execution_count": null,
      "metadata": {
        "collapsed": false
      },
      "outputs": [],
      "source": [
        "fig1 = plt.figure()\nax1 = fig1.add_subplot(111, projection=\"3d\", elev=7, azim=-80)\nax1.set_position([0, 0, 0.95, 1])\nfor l in np.unique(label):\n    ax1.scatter(\n        X[label == l, 0],\n        X[label == l, 1],\n        X[label == l, 2],\n        color=plt.cm.jet(float(l) / np.max(label + 1)),\n        s=20,\n        edgecolor=\"k\",\n    )\n_ = fig1.suptitle(f\"\u0628\u062f\u0648\u0646 \u0642\u064a\u0648\u062f \u0627\u0644\u0627\u062a\u0635\u0627\u0644 (\u0627\u0644\u0648\u0642\u062a {elapsed_time:.2f}s)\")"
      ]
    },
    {
      "cell_type": "markdown",
      "metadata": {},
      "source": [
        "## \u0646\u062d\u0646 \u0646\u062d\u062f\u062f k-Nearest Neighbors \u0645\u0639 10 \u062c\u064a\u0631\u0627\u0646\n\n"
      ]
    },
    {
      "cell_type": "code",
      "execution_count": null,
      "metadata": {
        "collapsed": false
      },
      "outputs": [],
      "source": [
        "connectivity = kneighbors_graph(X, n_neighbors=10, include_self=False)"
      ]
    },
    {
      "cell_type": "markdown",
      "metadata": {},
      "source": [
        "## \u062d\u0633\u0627\u0628 \u0627\u0644\u0639\u0646\u0642\u062f\u0629\n\n\u0646\u062d\u0646 \u0646\u0624\u062f\u064a AgglomerativeClustering \u0645\u0631\u0629 \u0623\u062e\u0631\u0649 \u0645\u0639 \u0642\u064a\u0648\u062f \u0627\u0644\u0627\u062a\u0635\u0627\u0644.\n\n"
      ]
    },
    {
      "cell_type": "code",
      "execution_count": null,
      "metadata": {
        "collapsed": false
      },
      "outputs": [],
      "source": [
        "print(\"Compute structured hierarchical clustering...\")\nst = time.time()\nward = AgglomerativeClustering(\n    n_clusters=6, connectivity=connectivity, linkage=\"ward\"\n).fit(X)\nelapsed_time = time.time() - st\nlabel = ward.labels_\nprint(f\"Elapsed time: {elapsed_time:.2f}s\")\nprint(f\"Number of points: {label.size}\")"
      ]
    },
    {
      "cell_type": "markdown",
      "metadata": {},
      "source": [
        "## \u0631\u0633\u0645 \u0627\u0644\u0646\u062a\u064a\u062c\u0629\n\n\u0631\u0633\u0645 \u0627\u0644\u0639\u0646\u0642\u062f\u0629 \u0627\u0644\u0647\u0631\u0645\u064a\u0629 \u0627\u0644\u0645\u0646\u0638\u0645\u0629.\n\n"
      ]
    },
    {
      "cell_type": "code",
      "execution_count": null,
      "metadata": {
        "collapsed": false
      },
      "outputs": [],
      "source": [
        "fig2 = plt.figure()\nax2 = fig2.add_subplot(121, projection=\"3d\", elev=7, azim=-80)\nax2.set_position([0, 0, 0.95, 1])\nfor l in np.unique(label):\n    ax2.scatter(\n        X[label == l, 0],\n        X[label == l, 1],\n        X[label == l, 2],\n        color=plt.cm.jet(float(l) / np.max(label + 1)),\n        s=20,\n        edgecolor=\"k\",\n    )\nfig2.suptitle(f\"With connectivity constraints (time {elapsed_time:.2f}s)\")\n\nplt.show()"
      ]
    }
  ],
  "metadata": {
    "kernelspec": {
      "display_name": "Python 3",
      "language": "python",
      "name": "python3"
    },
    "language_info": {
      "codemirror_mode": {
        "name": "ipython",
        "version": 3
      },
      "file_extension": ".py",
      "mimetype": "text/x-python",
      "name": "python",
      "nbconvert_exporter": "python",
      "pygments_lexer": "ipython3",
      "version": "3.10.13"
    }
  },
  "nbformat": 4,
  "nbformat_minor": 0
}