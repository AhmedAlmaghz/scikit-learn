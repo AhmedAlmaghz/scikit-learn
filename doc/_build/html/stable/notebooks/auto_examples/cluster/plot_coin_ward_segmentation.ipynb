{
  "cells": [
    {
      "cell_type": "markdown",
      "metadata": {},
      "source": [
        "\n# \u0639\u0631\u0636 \u062a\u0648\u0636\u064a\u062d\u064a \u0644\u062a\u062c\u0645\u064a\u0639 \u0647\u0631\u0645\u064a \u0645\u0646\u0638\u0645 \u0639\u0644\u0649 \u0635\u0648\u0631\u0629 \u0639\u0645\u0644\u0627\u062a \u0645\u0639\u062f\u0646\u064a\u0629\n\n\u0627\u062d\u0633\u0628 \u062a\u062c\u0632\u0626\u0629 \u0635\u0648\u0631\u0629 \u062b\u0646\u0627\u0626\u064a\u0629 \u0627\u0644\u0623\u0628\u0639\u0627\u062f \u0628\u0627\u0633\u062a\u062e\u062f\u0627\u0645 \u0627\u0644\u062a\u062c\u0645\u064a\u0639 \u0627\u0644\u0647\u0631\u0645\u064a. \u0627\u0644\u062a\u062c\u0645\u064a\u0639 \u0645\u0642\u064a\u062f \u0645\u0643\u0627\u0646\u064a\u064b\u0627 \u0644\u0636\u0645\u0627\u0646 \u0623\u0646 \u062a\u0643\u0648\u0646 \u0643\u0644 \u0645\u0646\u0637\u0642\u0629 \u0645\u062c\u0632\u0623\u0629 \u0642\u0637\u0639\u0629 \u0648\u0627\u062d\u062f\u0629.\n"
      ]
    },
    {
      "cell_type": "code",
      "execution_count": null,
      "metadata": {
        "collapsed": false
      },
      "outputs": [],
      "source": [
        "# \u0627\u0644\u0645\u0624\u0644\u0641\u0648\u0646: \u0645\u0637\u0648\u0631\u064a \u0633\u0643\u0627\u064a\u0644\u0631\u0646\n# \u0645\u0639\u0631\u0641 \u0627\u0644\u062a\u0631\u062e\u064a\u0635: BSD-3-Clause"
      ]
    },
    {
      "cell_type": "markdown",
      "metadata": {},
      "source": [
        "## \u062a\u0648\u0644\u064a\u062f \u0627\u0644\u0628\u064a\u0627\u0646\u0627\u062a\n\n"
      ]
    },
    {
      "cell_type": "code",
      "execution_count": null,
      "metadata": {
        "collapsed": false
      },
      "outputs": [],
      "source": [
        "from skimage.data import coins\n\norig_coins = coins()"
      ]
    },
    {
      "cell_type": "markdown",
      "metadata": {},
      "source": [
        "\u062a\u063a\u064a\u064a\u0631 \u062d\u062c\u0645\u0647\u0627 \u0625\u0644\u0649 20% \u0645\u0646 \u0627\u0644\u062d\u062c\u0645 \u0627\u0644\u0623\u0635\u0644\u064a \u0644\u062a\u0633\u0631\u064a\u0639 \u0627\u0644\u0645\u0639\u0627\u0644\u062c\u0629\n\u062a\u0637\u0628\u064a\u0642 \u0645\u0631\u0634\u062d \u063a\u0627\u0648\u0633\u064a \u0644\u0644\u062a\u0646\u0639\u064a\u0645 \u0642\u0628\u0644 \u0627\u0644\u062a\u063a\u064a\u064a\u0631 \u0625\u0644\u0649 \u062d\u062c\u0645 \u0623\u0635\u063a\u0631\n\u064a\u0642\u0644\u0644 \u0645\u0646 \u0622\u062b\u0627\u0631 \u0627\u0644\u062a\u062d\u062c\u064a\u0645.\n\n"
      ]
    },
    {
      "cell_type": "code",
      "execution_count": null,
      "metadata": {
        "collapsed": false
      },
      "outputs": [],
      "source": [
        "import numpy as np\nfrom scipy.ndimage import gaussian_filter\nfrom skimage.transform import rescale\n\nsmoothened_coins = gaussian_filter(orig_coins, sigma=2)\nrescaled_coins = rescale(\n    smoothened_coins,\n    0.2,\n    mode=\"reflect\",\n    anti_aliasing=False,\n)\n\nX = np.reshape(rescaled_coins, (-1, 1))"
      ]
    },
    {
      "cell_type": "markdown",
      "metadata": {},
      "source": [
        "## \u062a\u062d\u062f\u064a\u062f \u0628\u0646\u064a\u0629 \u0627\u0644\u0628\u064a\u0627\u0646\u0627\u062a\n\n\u0627\u0644\u0628\u0643\u0633\u0644\u0627\u062a \u0645\u062a\u0635\u0644\u0629 \u0628\u062c\u064a\u0631\u0627\u0646\u0647\u0627.\n\n"
      ]
    },
    {
      "cell_type": "code",
      "execution_count": null,
      "metadata": {
        "collapsed": false
      },
      "outputs": [],
      "source": [
        "from sklearn.feature_extraction.image import grid_to_graph\n\nconnectivity = grid_to_graph(*rescaled_coins.shape)"
      ]
    },
    {
      "cell_type": "markdown",
      "metadata": {},
      "source": [
        "## \u062d\u0633\u0627\u0628 \u0627\u0644\u062a\u062c\u0645\u064a\u0639\n\n"
      ]
    },
    {
      "cell_type": "code",
      "execution_count": null,
      "metadata": {
        "collapsed": false
      },
      "outputs": [],
      "source": [
        "import time as time\n\nfrom sklearn.cluster import AgglomerativeClustering\n\nprint(\"Compute structured hierarchical clustering...\")\nst = time.time()\nn_clusters = 27  # number of regions\nward = AgglomerativeClustering(\n    n_clusters=n_clusters, linkage=\"ward\", connectivity=connectivity\n)\nward.fit(X)\nlabel = np.reshape(ward.labels_, rescaled_coins.shape)\nprint(f\"Elapsed time: {time.time() - st:.3f}s\")\nprint(f\"Number of pixels: {label.size}\")\nprint(f\"Number of clusters: {np.unique(label).size}\")"
      ]
    },
    {
      "cell_type": "markdown",
      "metadata": {},
      "source": [
        "## \u0639\u0631\u0636 \u0627\u0644\u0646\u062a\u0627\u0626\u062c \u0639\u0644\u0649 \u0635\u0648\u0631\u0629\n\n\u0627\u0644\u062a\u062c\u0645\u064a\u0639 \u0627\u0644\u062a\u062c\u0645\u064a\u0639\u064a \u0642\u0627\u062f\u0631 \u0639\u0644\u0649 \u062a\u062c\u0632\u0626\u0629 \u0643\u0644 \u0639\u0645\u0644\u0629 \u0645\u0639\u062f\u0646\u064a\u0629\u060c \u0648\u0644\u0643\u0646 \u0643\u0627\u0646 \u0639\u0644\u064a\u0646\u0627\n\u0627\u0633\u062a\u062e\u062f\u0627\u0645 \"n_cluster\" \u0623\u0643\u0628\u0631 \u0645\u0646 \u0639\u062f\u062f \u0627\u0644\u0639\u0645\u0644\u0627\u062a \u0627\u0644\u0645\u0639\u062f\u0646\u064a\u0629 \u0644\u0623\u0646 \u0627\u0644\u062a\u062c\u0632\u0626\u0629\n\u062a\u062c\u062f \u0645\u0646\u0637\u0642\u0629 \u0643\u0628\u064a\u0631\u0629 \u0641\u064a \u0627\u0644\u062e\u0644\u0641\u064a\u0629.\n\n"
      ]
    },
    {
      "cell_type": "code",
      "execution_count": null,
      "metadata": {
        "collapsed": false
      },
      "outputs": [],
      "source": [
        "import matplotlib.pyplot as plt\n\nplt.figure(figsize=(5, 5))\nplt.imshow(rescaled_coins, cmap=plt.cm.gray)\nfor l in range(n_clusters):\n    plt.contour(\n        label == l,\n        colors=[\n            plt.cm.nipy_spectral(l / float(n_clusters)),\n        ],\n    )\nplt.axis(\"off\")\nplt.show()"
      ]
    }
  ],
  "metadata": {
    "kernelspec": {
      "display_name": "Python 3",
      "language": "python",
      "name": "python3"
    },
    "language_info": {
      "codemirror_mode": {
        "name": "ipython",
        "version": 3
      },
      "file_extension": ".py",
      "mimetype": "text/x-python",
      "name": "python",
      "nbconvert_exporter": "python",
      "pygments_lexer": "ipython3",
      "version": "3.10.13"
    }
  },
  "nbformat": 4,
  "nbformat_minor": 0
}