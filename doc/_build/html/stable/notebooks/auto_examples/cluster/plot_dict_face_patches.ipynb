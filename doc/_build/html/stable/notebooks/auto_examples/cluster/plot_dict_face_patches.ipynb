{
  "cells": [
    {
      "cell_type": "markdown",
      "metadata": {},
      "source": [
        "\n# \u062a\u0639\u0644\u0645 \u0627\u0644\u0642\u0627\u0645\u0648\u0633 \u0639\u0628\u0631 \u0627\u0644\u0625\u0646\u062a\u0631\u0646\u062a \u0644\u0623\u062c\u0632\u0627\u0621 \u0627\u0644\u0648\u062c\u0648\u0647\n\n\u064a\u0633\u062a\u062e\u062f\u0645 \u0647\u0630\u0627 \u0627\u0644\u0645\u062b\u0627\u0644 \u0645\u062c\u0645\u0648\u0639\u0629 \u0643\u0628\u064a\u0631\u0629 \u0645\u0646 \u0627\u0644\u0648\u062c\u0648\u0647 \u0644\u062a\u0639\u0644\u0645 \u0645\u062c\u0645\u0648\u0639\u0629 \u0645\u0646 \u0627\u0644\u0635\u0648\u0631 \u0645\u0642\u0627\u0633 20x20 \u0627\u0644\u062a\u064a \u062a\u0634\u0643\u0644 \u0627\u0644\u0648\u062c\u0648\u0647.\n\n\u0645\u0646 \u0648\u062c\u0647\u0629 \u0646\u0638\u0631 \u0627\u0644\u0628\u0631\u0645\u062c\u0629\u060c \u0625\u0646\u0647 \u0645\u062b\u064a\u0631 \u0644\u0644\u0627\u0647\u062a\u0645\u0627\u0645 \u0644\u0623\u0646\u0647 \u064a\u0638\u0647\u0631 \u0643\u064a\u0641\u064a\u0629 \u0627\u0633\u062a\u062e\u062f\u0627\u0645 \u0648\u0627\u062c\u0647\u0629 \u0628\u0631\u0645\u062c\u0629 \u0627\u0644\u062a\u0637\u0628\u064a\u0642\u0627\u062a \u0639\u0628\u0631 \u0627\u0644\u0625\u0646\u062a\u0631\u0646\u062a \u0644\u0640 scikit-learn \u0644\u0645\u0639\u0627\u0644\u062c\u0629 \u0645\u062c\u0645\u0648\u0639\u0629 \u0643\u0628\u064a\u0631\u0629 \u062c\u062f\u064b\u0627 \u0645\u0646 \u0627\u0644\u0628\u064a\u0627\u0646\u0627\u062a \u0639\u0644\u0649 \u0634\u0643\u0644 \u0623\u062c\u0632\u0627\u0621. \u0627\u0644\u0637\u0631\u064a\u0642\u0629 \u0627\u0644\u062a\u064a \u0646\u062a\u0628\u0639\u0647\u0627 \u0647\u064a \u0623\u0646\u0646\u0627 \u0646\u062d\u0645\u0644 \u0635\u0648\u0631\u0629 \u0641\u064a \u0643\u0644 \u0645\u0631\u0629 \u0648\u0646\u0633\u062a\u062e\u0631\u062c \u0639\u0634\u0648\u0627\u0626\u064a\u064b\u0627 50 \u0631\u0642\u0639\u0629 \u0645\u0646 \u0647\u0630\u0647 \u0627\u0644\u0635\u0648\u0631\u0629. \u0628\u0645\u062c\u0631\u062f \u0623\u0646 \u0646\u0643\u0648\u0646 \u0642\u062f \u062c\u0645\u0639\u0646\u0627 500 \u0645\u0646 \u0647\u0630\u0647 \u0627\u0644\u0631\u0642\u0639 (\u0628\u0627\u0633\u062a\u062e\u062f\u0627\u0645 10 \u0635\u0648\u0631)\u060c \u0641\u0625\u0646\u0646\u0627 \u0646\u0633\u062a\u062e\u062f\u0645 \u0637\u0631\u064a\u0642\u0629\n:func:`~sklearn.cluster.MiniBatchKMeans.partial_fit`\n\u0644\u0644\u0643\u0627\u0626\u0646 KMeans \u0639\u0628\u0631 \u0627\u0644\u0625\u0646\u062a\u0631\u0646\u062a\u060c MiniBatchKMeans.\n\n\u064a\u0633\u0645\u062d \u0627\u0644\u0625\u0639\u062f\u0627\u062f \u0627\u0644\u0645\u0641\u0635\u0644 \u0639\u0644\u0649 MiniBatchKMeans \u0628\u0631\u0624\u064a\u0629 \u0623\u0646\u0647 \u064a\u062a\u0645 \u0625\u0639\u0627\u062f\u0629 \u062a\u0639\u064a\u064a\u0646 \u0628\u0639\u0636 \u0627\u0644\u0645\u062c\u0645\u0648\u0639\u0627\u062a \u0623\u062b\u0646\u0627\u0621 \u0627\u0644\u0645\u0643\u0627\u0644\u0645\u0627\u062a \u0627\u0644\u0645\u062a\u062a\u0627\u0644\u064a\u0629 \u0644\u0640\npartial-fit. \u0647\u0630\u0627 \u0644\u0623\u0646 \u0639\u062f\u062f \u0627\u0644\u0631\u0642\u0639 \u0627\u0644\u062a\u064a \u062a\u0645\u062b\u0644\u0647\u0627 \u0623\u0635\u0628\u062d \u0645\u0646\u062e\u0641\u0636\u064b\u0627 \u0644\u0644\u063a\u0627\u064a\u0629\u060c \u0648\u0645\u0646 \u0627\u0644\u0623\u0641\u0636\u0644 \u0627\u062e\u062a\u064a\u0627\u0631 \u0645\u062c\u0645\u0648\u0639\u0629 \u062c\u062f\u064a\u062f\u0629 \u0639\u0634\u0648\u0627\u0626\u064a\u0629.\n"
      ]
    },
    {
      "cell_type": "code",
      "execution_count": null,
      "metadata": {
        "collapsed": false
      },
      "outputs": [],
      "source": [
        "# \u0627\u0644\u0645\u0624\u0644\u0641\u0648\u0646: \u0645\u0637\u0648\u0631\u064a scikit-learn\n# \u0645\u0639\u0631\u0641 SPDX-License: BSD-3-Clause"
      ]
    },
    {
      "cell_type": "markdown",
      "metadata": {},
      "source": [
        "## \u062a\u062d\u0645\u064a\u0644 \u0627\u0644\u0628\u064a\u0627\u0646\u0627\u062a\n\n"
      ]
    },
    {
      "cell_type": "code",
      "execution_count": null,
      "metadata": {
        "collapsed": false
      },
      "outputs": [],
      "source": [
        "from sklearn import datasets\n\nfaces = datasets.fetch_olivetti_faces()"
      ]
    },
    {
      "cell_type": "markdown",
      "metadata": {},
      "source": [
        "## \u062a\u0639\u0644\u0645 \u0642\u0627\u0645\u0648\u0633 \u0627\u0644\u0635\u0648\u0631\n\n"
      ]
    },
    {
      "cell_type": "code",
      "execution_count": null,
      "metadata": {
        "collapsed": false
      },
      "outputs": [],
      "source": [
        "import time\n\nimport numpy as np\n\nfrom sklearn.cluster import MiniBatchKMeans\nfrom sklearn.feature_extraction.image import extract_patches_2d\n\nprint(\"Learning the dictionary... \")\nrng = np.random.RandomState(0)\nkmeans = MiniBatchKMeans(n_clusters=81, random_state=rng, verbose=True, n_init=3)\npatch_size = (20, 20)\n\nbuffer = []\nt0 = time.time()\n\n# \u062c\u0632\u0621 \u0627\u0644\u062a\u0639\u0644\u0645 \u0639\u0628\u0631 \u0627\u0644\u0625\u0646\u062a\u0631\u0646\u062a: \u062f\u0648\u0631\u0629 \u0639\u0628\u0631 \u0645\u062c\u0645\u0648\u0639\u0629 \u0627\u0644\u0628\u064a\u0627\u0646\u0627\u062a \u0627\u0644\u0643\u0627\u0645\u0644\u0629 6 \u0645\u0631\u0627\u062a\nindex = 0\nfor _ in range(6):\n    for img in faces.images:\n        data = extract_patches_2d(img, patch_size, max_patches=50, random_state=rng)\n        data = np.reshape(data, (len(data), -1))\n        buffer.append(data)\n        index += 1\n        if index % 10 == 0:\n            data = np.concatenate(buffer, axis=0)\n            data -= np.mean(data, axis=0)\n            data /= np.std(data, axis=0)\n            kmeans.partial_fit(data)\n            buffer = []\n        if index % 100 == 0:\n            print(\"Partial fit of %4i out of %i\" % (index, 6 * len(faces.images)))\n\ndt = time.time() - t0\nprint(\"done in %.2fs.\" % dt)"
      ]
    },
    {
      "cell_type": "markdown",
      "metadata": {},
      "source": [
        "## \u0631\u0633\u0645 \u0627\u0644\u0646\u062a\u0627\u0626\u062c\n\n"
      ]
    },
    {
      "cell_type": "code",
      "execution_count": null,
      "metadata": {
        "collapsed": false
      },
      "outputs": [],
      "source": [
        "import matplotlib.pyplot as plt\n\nplt.figure(figsize=(4.2, 4))\nfor i, patch in enumerate(kmeans.cluster_centers_):\n    plt.subplot(9, 9, i + 1)\n    plt.imshow(patch.reshape(patch_size), cmap=plt.cm.gray, interpolation=\"nearest\")\n    plt.xticks(())\n    plt.yticks(())\n\n\nplt.suptitle(\n    \"Patches of faces\\nTrain time %.1fs on %d patches\" % (dt, 8 * len(faces.images)),\n    fontsize=16,\n)\nplt.subplots_adjust(0.08, 0.02, 0.92, 0.85, 0.08, 0.23)\n\nplt.show()"
      ]
    }
  ],
  "metadata": {
    "kernelspec": {
      "display_name": "Python 3",
      "language": "python",
      "name": "python3"
    },
    "language_info": {
      "codemirror_mode": {
        "name": "ipython",
        "version": 3
      },
      "file_extension": ".py",
      "mimetype": "text/x-python",
      "name": "python",
      "nbconvert_exporter": "python",
      "pygments_lexer": "ipython3",
      "version": "3.10.13"
    }
  },
  "nbformat": 4,
  "nbformat_minor": 0
}