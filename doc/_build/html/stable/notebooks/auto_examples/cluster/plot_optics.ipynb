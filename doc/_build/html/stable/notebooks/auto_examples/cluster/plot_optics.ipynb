{
  "cells": [
    {
      "cell_type": "markdown",
      "metadata": {},
      "source": [
        "\n# \u0639\u0631\u0636 \u062a\u0648\u0636\u064a\u062d\u064a \u0644\u062e\u0648\u0627\u0631\u0632\u0645\u064a\u0629 \u0627\u0644\u062a\u062c\u0645\u064a\u0639 OPTICS\n\n.. currentmodule:: sklearn\n\n\u064a\u062d\u062f\u062f \u0627\u0644\u0639\u064a\u0646\u0627\u062a \u0627\u0644\u0623\u0633\u0627\u0633\u064a\u0629 \u0630\u0627\u062a \u0627\u0644\u0643\u062b\u0627\u0641\u0629 \u0627\u0644\u0639\u0627\u0644\u064a\u0629 \u0648\u064a\u0648\u0633\u0639 \u0627\u0644\u062a\u062c\u0645\u0639\u0627\u062a \u0645\u0646\u0647\u0627.\n\u064a\u0633\u062a\u062e\u062f\u0645 \u0647\u0630\u0627 \u0627\u0644\u0645\u062b\u0627\u0644 \u0628\u064a\u0627\u0646\u0627\u062a \u062a\u0645 \u0625\u0646\u0634\u0627\u0624\u0647\u0627 \u0628\u062d\u064a\u062b \u064a\u0643\u0648\u0646 \u0644\u0644\u062a\u062c\u0645\u0639\u0627\u062a\n\u0643\u062b\u0627\u0641\u0627\u062a \u0645\u062e\u062a\u0644\u0641\u0629.\n\n\u064a\u062a\u0645 \u0627\u0633\u062a\u062e\u062f\u0627\u0645 :class:`~cluster.OPTICS` \u0623\u0648\u0644\u0627\u064b \u0645\u0639 \u0637\u0631\u064a\u0642\u0629 \u0627\u0643\u062a\u0634\u0627\u0641 \u0627\u0644\u062a\u062c\u0645\u0639\u0627\u062a Xi \u0627\u0644\u062e\u0627\u0635\u0629 \u0628\u0647\u060c \u062b\u0645 \u062a\u0639\u064a\u064a\u0646 \u0639\u062a\u0628\u0627\u062a \u0645\u062d\u062f\u062f\u0629 \u0639\u0644\u0649 \u0625\u0645\u0643\u0627\u0646\u064a\u0629 \u0627\u0644\u0648\u0635\u0648\u0644\u060c \u0648\u0627\u0644\u062a\u064a\n\u062a\u062a\u0648\u0627\u0641\u0642 \u0645\u0639 :class:`~cluster.DBSCAN`. \u064a\u0645\u0643\u0646\u0646\u0627 \u0623\u0646 \u0646\u0631\u0649 \u0623\u0646 \u0627\u0644\u062a\u062c\u0645\u0639\u0627\u062a \u0627\u0644\u0645\u062e\u062a\u0644\u0641\u0629\n\u0644\u0637\u0631\u064a\u0642\u0629 Xi \u0641\u064a OPTICS \u064a\u0645\u0643\u0646 \u0627\u0633\u062a\u0631\u062f\u0627\u062f\u0647\u0627 \u0645\u0639 \u062e\u064a\u0627\u0631\u0627\u062a \u0645\u062e\u062a\u0644\u0641\u0629\n\u0627\u0644\u0639\u062a\u0628\u0627\u062a \u0641\u064a DBSCAN.\n"
      ]
    },
    {
      "cell_type": "code",
      "execution_count": null,
      "metadata": {
        "collapsed": false
      },
      "outputs": [],
      "source": [
        "# \u0627\u0644\u0645\u0624\u0644\u0641\u0648\u0646: \u0645\u0637\u0648\u0631\u064a scikit-learn\n# \u062a\u0639\u0631\u064a\u0641 \u0627\u0644\u062a\u0631\u062e\u064a\u0635: BSD-3-Clause\n\nimport matplotlib.gridspec as gridspec\nimport matplotlib.pyplot as plt\nimport numpy as np\n\nfrom sklearn.cluster import OPTICS, cluster_optics_dbscan\n\n# \u062a\u0648\u0644\u064a\u062f \u0628\u064a\u0627\u0646\u0627\u062a \u0627\u0644\u0639\u064a\u0646\u0629\n\nnp.random.seed(0)\nn_points_per_cluster = 250\n\nC1 = [-5, -2] + 0.8 * np.random.randn(n_points_per_cluster, 2)\nC2 = [4, -1] + 0.1 * np.random.randn(n_points_per_cluster, 2)\nC3 = [1, -2] + 0.2 * np.random.randn(n_points_per_cluster, 2)\nC4 = [-2, 3] + 0.3 * np.random.randn(n_points_per_cluster, 2)\nC5 = [3, -2] + 1.6 * np.random.randn(n_points_per_cluster, 2)\nC6 = [5, 6] + 2 * np.random.randn(n_points_per_cluster, 2)\nX = np.vstack((C1, C2, C3, C4, C5, C6))\n\nclust = OPTICS(min_samples=50, xi=0.05, min_cluster_size=0.05)\n\n# Run the fit\nclust.fit(X)\n\nlabels_050 = cluster_optics_dbscan(\n    reachability=clust.reachability_,\n    core_distances=clust.core_distances_,\n    ordering=clust.ordering_,\n    eps=0.5,\n)\nlabels_200 = cluster_optics_dbscan(\n    reachability=clust.reachability_,\n    core_distances=clust.core_distances_,\n    ordering=clust.ordering_,\n    eps=2,\n)\n\nspace = np.arange(len(X))\nreachability = clust.reachability_[clust.ordering_]\nlabels = clust.labels_[clust.ordering_]\n\nplt.figure(figsize=(10, 7))\nG = gridspec.GridSpec(2, 3)\nax1 = plt.subplot(G[0, :])\nax2 = plt.subplot(G[1, 0])\nax3 = plt.subplot(G[1, 1])\nax4 = plt.subplot(G[1, 2])\n\n# Reachability plot\ncolors = [\"g.\", \"r.\", \"b.\", \"y.\", \"c.\"]\nfor klass, color in enumerate(colors):\n    Xk = space[labels == klass]\n    Rk = reachability[labels == klass]\n    ax1.plot(Xk, Rk, color, alpha=0.3)\nax1.plot(space[labels == -1], reachability[labels == -1], \"k.\", alpha=0.3)\nax1.plot(space, np.full_like(space, 2.0, dtype=float), \"k-\", alpha=0.5)\nax1.plot(space, np.full_like(space, 0.5, dtype=float), \"k-.\", alpha=0.5)\nax1.set_ylabel(\"Reachability (epsilon distance)\")\nax1.set_title(\"Reachability Plot\")\n\n# OPTICS\ncolors = [\"g.\", \"r.\", \"b.\", \"y.\", \"c.\"]\nfor klass, color in enumerate(colors):\n    Xk = X[clust.labels_ == klass]\n    ax2.plot(Xk[:, 0], Xk[:, 1], color, alpha=0.3)\nax2.plot(X[clust.labels_ == -1, 0], X[clust.labels_ == -1, 1], \"k+\", alpha=0.1)\nax2.set_title(\"Automatic Clustering\\nOPTICS\")\n\n# DBSCAN at 0.5\ncolors = [\"g.\", \"r.\", \"b.\", \"c.\"]\nfor klass, color in enumerate(colors):\n    Xk = X[labels_050 == klass]\n    ax3.plot(Xk[:, 0], Xk[:, 1], color, alpha=0.3)\nax3.plot(X[labels_050 == -1, 0], X[labels_050 == -1, 1], \"k+\", alpha=0.1)\nax3.set_title(\"Clustering at 0.5 epsilon cut\\nDBSCAN\")\n\n# DBSCAN at 2.\ncolors = [\"g.\", \"m.\", \"y.\", \"c.\"]\nfor klass, color in enumerate(colors):\n    Xk = X[labels_200 == klass]\n    ax4.plot(Xk[:, 0], Xk[:, 1], color, alpha=0.3)\nax4.plot(X[labels_200 == -1, 0], X[labels_200 == -1, 1], \"k+\", alpha=0.1)\nax4.set_title(\"Clustering at 2.0 epsilon cut\\nDBSCAN\")\n\nplt.tight_layout()\nplt.show()"
      ]
    }
  ],
  "metadata": {
    "kernelspec": {
      "display_name": "Python 3",
      "language": "python",
      "name": "python3"
    },
    "language_info": {
      "codemirror_mode": {
        "name": "ipython",
        "version": 3
      },
      "file_extension": ".py",
      "mimetype": "text/x-python",
      "name": "python",
      "nbconvert_exporter": "python",
      "pygments_lexer": "ipython3",
      "version": "3.10.13"
    }
  },
  "nbformat": 4,
  "nbformat_minor": 0
}