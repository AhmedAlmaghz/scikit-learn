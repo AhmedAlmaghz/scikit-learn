{
  "cells": [
    {
      "cell_type": "markdown",
      "metadata": {},
      "source": [
        "\n# \u062a\u0637\u0628\u064a\u0642 \u062e\u0648\u0627\u0631\u0632\u0645\u064a\u0629 k-means \u0639\u0644\u0649 \u0645\u062c\u0645\u0648\u0639\u0629 \u0627\u0644\u0628\u064a\u0627\u0646\u0627\u062a digits\n\n\u0647\u0630\u0627 \u0627\u0644\u0645\u062b\u0627\u0644 \u064a\u0647\u062f\u0641 \u0625\u0644\u0649 \u062a\u0648\u0636\u064a\u062d \u0627\u0644\u0645\u0648\u0627\u0642\u0641 \u0627\u0644\u062a\u064a \u062a\u0646\u062a\u062c \u0641\u064a\u0647\u0627 \u062e\u0648\u0627\u0631\u0632\u0645\u064a\u0629 \u0643\u0627\u064a-\u0645\u064a\u0646\u0632 (k-means)\n\u062a\u062c\u0645\u064a\u0639\u0627\u062a \u063a\u064a\u0631 \u0628\u062f\u064a\u0647\u064a\u0629 \u0648\u0631\u0628\u0645\u0627 \u063a\u064a\u0631 \u0645\u0631\u063a\u0648\u0628 \u0641\u064a\u0647\u0627.\n"
      ]
    },
    {
      "cell_type": "code",
      "execution_count": null,
      "metadata": {
        "collapsed": false
      },
      "outputs": [],
      "source": [
        "# \u0627\u0644\u0645\u0624\u0644\u0641\u0648\u0646: \u0645\u0637\u0648\u0651\u0631\u0648 \u0633\u0643\u0627\u064a\u0644\u0631\u0646 (scikit-learn)\n# \u0645\u0639\u0631\u0641 \u0631\u062e\u0635\u0629 SPDX: BSD-3-Clause"
      ]
    },
    {
      "cell_type": "markdown",
      "metadata": {},
      "source": [
        "## \u062a\u062d\u0645\u064a\u0644 \u0645\u062c\u0645\u0648\u0639\u0629 \u0627\u0644\u0628\u064a\u0627\u0646\u0627\u062a\n\n\u0633\u0646\u0628\u062f\u0623 \u0628\u062a\u062d\u0645\u064a\u0644 \u0645\u062c\u0645\u0648\u0639\u0629 \u0628\u064a\u0627\u0646\u0627\u062a `digits`. \u062a\u062d\u062a\u0648\u064a \u0647\u0630\u0647 \u0627\u0644\u0645\u062c\u0645\u0648\u0639\u0629 \u0639\u0644\u0649\n\u0623\u0631\u0642\u0627\u0645 \u0645\u0643\u062a\u0648\u0628\u0629 \u0628\u062e\u0637 \u0627\u0644\u064a\u062f \u0645\u0646 0 \u0625\u0644\u0649 9. \u0641\u064a \u0633\u064a\u0627\u0642 \u0627\u0644\u062a\u062c\u0645\u064a\u0639\u060c \u064a\u0631\u063a\u0628 \u0627\u0644\u0645\u0631\u0621\n\u0641\u064a \u062a\u062c\u0645\u064a\u0639 \u0627\u0644\u0635\u0648\u0631 \u0628\u062d\u064a\u062b \u062a\u0643\u0648\u0646 \u0627\u0644\u0623\u0631\u0642\u0627\u0645 \u0627\u0644\u0645\u0643\u062a\u0648\u0628\u0629 \u0628\u062e\u0637 \u0627\u0644\u064a\u062f \u0639\u0644\u0649 \u0627\u0644\u0635\u0648\u0631\u0629 \u0645\u062a\u0637\u0627\u0628\u0642\u0629.\n\n"
      ]
    },
    {
      "cell_type": "code",
      "execution_count": null,
      "metadata": {
        "collapsed": false
      },
      "outputs": [],
      "source": [
        "import numpy as np\n\nfrom sklearn.datasets import load_digits\n\ndata, labels = load_digits(return_X_y=True)\n(n_samples, n_features), n_digits = data.shape, np.unique(labels).size\n\nprint(f\"# digits: {n_digits}; # samples: {n_samples}; # features {n_features}\")"
      ]
    },
    {
      "cell_type": "markdown",
      "metadata": {},
      "source": [
        "## \u062a\u062d\u062f\u064a\u062f \u0645\u0639\u064a\u0627\u0631 \u0627\u0644\u062a\u0642\u064a\u064a\u0645 \u0627\u0644\u062e\u0627\u0635 \u0628\u0646\u0627\n\n\u0633\u0646\u0642\u0648\u0645 \u0623\u0648\u0644\u0627\u064b \u0628\u062a\u062d\u062f\u064a\u062f \u0645\u0639\u064a\u0627\u0631 \u0627\u0644\u062a\u0642\u064a\u064a\u0645 \u0627\u0644\u062e\u0627\u0635 \u0628\u0646\u0627. \u062e\u0644\u0627\u0644 \u0647\u0630\u0627 \u0627\u0644\u0645\u0639\u064a\u0627\u0631\u060c \u0646\u0639\u062a\u0632\u0645\n\u0645\u0642\u0627\u0631\u0646\u0629 \u0637\u0631\u0642 \u0627\u0644\u062a\u0647\u064a\u0626\u0629 \u0627\u0644\u0645\u062e\u062a\u0644\u0641\u0629 \u0644\u0640 KMeans. \u0633\u064a\u062a\u0636\u0645\u0646 \u0645\u0639\u064a\u0627\u0631\u0646\u0627:\n\n* \u0625\u0646\u0634\u0627\u0621 \u062e\u0637 \u0623\u0646\u0627\u0628\u064a\u0628 \u0633\u064a\u0642\u0648\u0645 \u0628\u062a\u0635\u0639\u064a\u062f \u0627\u0644\u0628\u064a\u0627\u0646\u0627\u062a \u0628\u0627\u0633\u062a\u062e\u062f\u0627\u0645\n  :class:`~sklearn.preprocessing.StandardScaler`\u061b\n* \u062a\u062f\u0631\u064a\u0628 \u0648\u062a\u0648\u0642\u064a\u062a \u0645\u0644\u0627\u0621\u0645\u0629 \u062e\u0637 \u0627\u0644\u0623\u0646\u0627\u0628\u064a\u0628\u061b\n* \u0642\u064a\u0627\u0633 \u0623\u062f\u0627\u0621 \u0627\u0644\u062a\u062c\u0645\u064a\u0639 \u0627\u0644\u0630\u064a \u062a\u0645 \u0627\u0644\u062d\u0635\u0648\u0644 \u0639\u0644\u064a\u0647 \u0639\u0628\u0631 \u0645\u0642\u0627\u064a\u064a\u0633 \u0645\u062e\u062a\u0644\u0641\u0629.\n\n"
      ]
    },
    {
      "cell_type": "code",
      "execution_count": null,
      "metadata": {
        "collapsed": false
      },
      "outputs": [],
      "source": [
        "from time import time\n\nfrom sklearn import metrics\nfrom sklearn.pipeline import make_pipeline\nfrom sklearn.preprocessing import StandardScaler\n\n\ndef bench_k_means(kmeans, name, data, labels):\n    \"\"\"\u0645\u0639\u064a\u0627\u0631 \u0644\u062a\u0642\u064a\u064a\u0645 \u0637\u0631\u0642 \u062a\u0647\u064a\u0626\u0629 KMeans.\n\n    Parameters\n    ----------\n    kmeans : KMeans instance\n        A :class:`~sklearn.cluster.KMeans` instance with the initialization\n        already set.\n    name : str\n        Name given to the strategy. It will be used to show the results in a\n        table.\n    data : ndarray of shape (n_samples, n_features)\n        The data to cluster.\n    labels : ndarray of shape (n_samples,)\n        The labels used to compute the clustering metrics which requires some\n        supervision.\n    \"\"\"\n    t0 = time()\n    estimator = make_pipeline(StandardScaler(), kmeans).fit(data)\n    fit_time = time() - t0\n    results = [name, fit_time, estimator[-1].inertia_]\n\n    # Define the metrics which require only the true labels and estimator\n    # labels\n    clustering_metrics = [\n        metrics.homogeneity_score,\n        metrics.completeness_score,\n        metrics.v_measure_score,\n        metrics.adjusted_rand_score,\n        metrics.adjusted_mutual_info_score,\n    ]\n    results += [m(labels, estimator[-1].labels_) for m in clustering_metrics]\n\n    # The silhouette score requires the full dataset\n    results += [\n        metrics.silhouette_score(\n            data,\n            estimator[-1].labels_,\n            metric=\"euclidean\",\n            sample_size=300,\n        )\n    ]\n\n    # Show the results\n    formatter_result = (\n        \"{:9s}\\t{:.3f}s\\t{:.0f}\\t{:.3f}\\t{:.3f}\\t{:.3f}\\t{:.3f}\\t{:.3f}\\t{:.3f}\"\n    )\n    print(formatter_result.format(*results))\n# Show the results\n    formatter_result = (\n        \"{:9s}\\t{:.3f}s\\t{:.0f}\\t{:.3f}\\t{:.3f}\\t{:.3f}\\t{:.3f}\\t{:.3f}\\t{:.3f}\"\n    )\n    print(formatter_result.format(*results))"
      ]
    },
    {
      "cell_type": "markdown",
      "metadata": {},
      "source": [
        "## \u062a\u0634\u063a\u064a\u0644 \u0627\u0644\u0645\u0639\u064a\u0627\u0631\n\n\u0633\u0646\u0642\u0627\u0631\u0646 \u0628\u064a\u0646 \u062b\u0644\u0627\u062b\u0629 \u0646\u0647\u062c:\n\n* \u062a\u0647\u064a\u0626\u0629 \u0628\u0627\u0633\u062a\u062e\u062f\u0627\u0645 `k-means++`. \u0647\u0630\u0647 \u0627\u0644\u0637\u0631\u064a\u0642\u0629 \u0639\u0634\u0648\u0627\u0626\u064a\u0629 \u0648\u0633\u0646\u0642\u0648\u0645\n  \u0628\u062a\u0634\u063a\u064a\u0644 \u0627\u0644\u062a\u0647\u064a\u0626\u0629 4 \u0645\u0631\u0627\u062a\u061b\n* \u062a\u0647\u064a\u0626\u0629 \u0639\u0634\u0648\u0627\u0626\u064a\u0629. \u0647\u0630\u0647 \u0627\u0644\u0637\u0631\u064a\u0642\u0629 \u0639\u0634\u0648\u0627\u0626\u064a\u0629 \u0623\u064a\u0636\u064b\u0627 \u0648\u0633\u0646\u0642\u0648\u0645 \u0628\u062a\u0634\u063a\u064a\u0644\n  \u0627\u0644\u062a\u0647\u064a\u0626\u0629 4 \u0645\u0631\u0627\u062a\u061b\n* \u062a\u0647\u064a\u0626\u0629 \u062a\u0639\u062a\u0645\u062f \u0639\u0644\u0649 :class:`~sklearn.decomposition.PCA`\n  \u0627\u0644\u0625\u0633\u0642\u0627\u0637. \u0641\u064a \u0627\u0644\u0648\u0627\u0642\u0639\u060c \u0633\u0646\u0633\u062a\u062e\u062f\u0645 \u0645\u0643\u0648\u0646\u0627\u062a\n  :class:`~sklearn.decomposition.PCA` \u0644\u062a\u0647\u064a\u0626\u0629 KMeans. \u0647\u0630\u0647 \u0627\u0644\u0637\u0631\u064a\u0642\u0629\n  \u062d\u062a\u0645\u064a\u0629 \u0648\u062a\u0643\u0641\u064a \u0639\u0645\u0644\u064a\u0629 \u062a\u0647\u064a\u0626\u0629 \u0648\u0627\u062d\u062f\u0629.\n\n"
      ]
    },
    {
      "cell_type": "code",
      "execution_count": null,
      "metadata": {
        "collapsed": false
      },
      "outputs": [],
      "source": [
        "from sklearn.cluster import KMeans\nfrom sklearn.decomposition import PCA\n\nprint(82 * \"_\")\nprint(\"init\\t\\ttime\\tinertia\\thomo\\tcompl\\tv-meas\\tARI\\tAMI\\tsilhouette\")\n\nkmeans = KMeans(init=\"k-means++\", n_clusters=n_digits, n_init=4, random_state=0)\nbench_k_means(kmeans=kmeans, name=\"k-means++\", data=data, labels=labels)\n\nkmeans = KMeans(init=\"random\", n_clusters=n_digits, n_init=4, random_state=0)\nbench_k_means(kmeans=kmeans, name=\"random\", data=data, labels=labels)\n\npca = PCA(n_components=n_digits).fit(data)\nkmeans = KMeans(init=pca.components_, n_clusters=n_digits, n_init=1)\nbench_k_means(kmeans=kmeans, name=\"PCA-based\", data=data, labels=labels)\n\nprint(82 * \"_\")"
      ]
    },
    {
      "cell_type": "markdown",
      "metadata": {},
      "source": [
        "## \u062a\u0635\u0648\u0631 \u0627\u0644\u0646\u062a\u0627\u0626\u062c \u0639\u0644\u0649 \u0627\u0644\u0628\u064a\u0627\u0646\u0627\u062a \u0627\u0644\u0645\u062e\u0641\u0636\u0629 \u0628\u0648\u0627\u0633\u0637\u0629 PCA\n\n:class:`~sklearn.decomposition.PCA` \u064a\u0633\u0645\u062d \u0628\u062a\u0635\u0648\u064a\u0631 \u0627\u0644\u0628\u064a\u0627\u0646\u0627\u062a \u0645\u0646\n\u0627\u0644\u0645\u0633\u0627\u062d\u0629 \u0627\u0644\u0623\u0635\u0644\u064a\u0629 \u0630\u0627\u062a 64 \u0628\u064f\u0639\u062f\u064b\u0627 \u0625\u0644\u0649 \u0645\u0633\u0627\u062d\u0629 \u0630\u0627\u062a \u0623\u0628\u0639\u0627\u062f \u0623\u0642\u0644. \u0628\u0639\u062f \u0630\u0644\u0643\u060c\n\u064a\u0645\u0643\u0646\u0646\u0627 \u0627\u0633\u062a\u062e\u062f\u0627\u0645 :class:`~sklearn.decomposition.PCA` \u0644\u062a\u0635\u0648\u064a\u0631\u0647\u0627 \u0641\u064a\n\u0645\u0633\u0627\u062d\u0629 \u062b\u0646\u0627\u0626\u064a\u0629 \u0627\u0644\u0623\u0628\u0639\u0627\u062f \u0648\u0631\u0633\u0645 \u0627\u0644\u0628\u064a\u0627\u0646\u0627\u062a \u0648\u0627\u0644\u0645\u062c\u0645\u0648\u0639\u0627\u062a \u0641\u064a \u0647\u0630\u0647 \u0627\u0644\u0645\u0633\u0627\u062d\u0629 \u0627\u0644\u062c\u062f\u064a\u062f\u0629.\n\n"
      ]
    },
    {
      "cell_type": "code",
      "execution_count": null,
      "metadata": {
        "collapsed": false
      },
      "outputs": [],
      "source": [
        "import matplotlib.pyplot as plt\n\nreduced_data = PCA(n_components=2).fit_transform(data)\nkmeans = KMeans(init=\"k-means++\", n_clusters=n_digits, n_init=4)\nkmeans.fit(reduced_data)\n\n# \u062d\u062c\u0645 \u062e\u0637 \u0627\u0644\u0634\u0628\u0643\u0629. \u0642\u0644\u0644 \u0644\u062a\u062d\u0633\u064a\u0646 \u062c\u0648\u062f\u0629 VQ.\nh = 0.02  # point in the mesh [x_min, x_max]x[y_min, y_max].\n\n# Plot the decision boundary. For that, we will assign a color to each\nx_min, x_max = reduced_data[:, 0].min() - 1, reduced_data[:, 0].max() + 1\ny_min, y_max = reduced_data[:, 1].min() - 1, reduced_data[:, 1].max() + 1\nxx, yy = np.meshgrid(np.arange(x_min, x_max, h), np.arange(y_min, y_max, h))\n\n# Obtain labels for each point in mesh. Use last trained model.\nZ = kmeans.predict(np.c_[xx.ravel(), yy.ravel()])\n\n# Put the result into a color plot\nZ = Z.reshape(xx.shape)\nplt.figure(1)\nplt.clf()\nplt.imshow(\n    Z,\n    interpolation=\"nearest\",\n    extent=(xx.min(), xx.max(), yy.min(), yy.max()),\n    cmap=plt.cm.Paired,\n    aspect=\"auto\",\n    origin=\"lower\",\n)\n\nplt.plot(reduced_data[:, 0], reduced_data[:, 1], \"k.\", markersize=2)\n# Plot the centroids as a white X\ncentroids = kmeans.cluster_centers_\nplt.scatter(\n    centroids[:, 0],\n    centroids[:, 1],\n    marker=\"x\",\n    s=169,\n    linewidths=3,\n    color=\"w\",\n    zorder=10,\n)\nplt.title(\n    \"K-means clustering on the digits dataset (PCA-reduced data)\\n\"\n    \"Centroids are marked with white cross\"\n)\nplt.xlim(x_min, x_max)\nplt.ylim(y_min, y_max)\nplt.xticks(())\nplt.yticks(())\nplt.show()"
      ]
    }
  ],
  "metadata": {
    "kernelspec": {
      "display_name": "Python 3",
      "language": "python",
      "name": "python3"
    },
    "language_info": {
      "codemirror_mode": {
        "name": "ipython",
        "version": 3
      },
      "file_extension": ".py",
      "mimetype": "text/x-python",
      "name": "python",
      "nbconvert_exporter": "python",
      "pygments_lexer": "ipython3",
      "version": "3.10.13"
    }
  },
  "nbformat": 4,
  "nbformat_minor": 0
}