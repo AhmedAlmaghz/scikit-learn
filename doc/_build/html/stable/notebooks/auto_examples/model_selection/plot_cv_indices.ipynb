{
  "cells": [
    {
      "cell_type": "markdown",
      "metadata": {},
      "source": [
        "\n# \u062a\u0635\u0648\u0631 \u0633\u0644\u0648\u0643 \u0627\u0644\u062a\u062d\u0642\u0642 \u0627\u0644\u0645\u062a\u0642\u0627\u0637\u0639 \u0641\u064a \u0633\u0643\u0627\u064a\u0644\u0631\u0646\n\n\u064a\u0639\u062f \u0627\u062e\u062a\u064a\u0627\u0631 \u0643\u0627\u0626\u0646 \u0627\u0644\u062a\u062d\u0642\u0642 \u0627\u0644\u0645\u062a\u0642\u0627\u0637\u0639 \u0627\u0644\u0645\u0646\u0627\u0633\u0628 \u062c\u0632\u0621\u064b\u0627 \u062d\u0627\u0633\u0645\u064b\u0627 \u0645\u0646 \u0645\u0644\u0627\u0621\u0645\u0629 \u0627\u0644\u0646\u0645\u0648\u0630\u062c \u0628\u0634\u0643\u0644 \u0635\u062d\u064a\u062d. \u0647\u0646\u0627\u0643 \u0627\u0644\u0639\u062f\u064a\u062f \u0645\u0646 \u0627\u0644\u0637\u0631\u0642 \u0644\u062a\u0642\u0633\u064a\u0645 \u0627\u0644\u0628\u064a\u0627\u0646\u0627\u062a \u0625\u0644\u0649 \u0645\u062c\u0645\u0648\u0639\u0627\u062a \u062a\u062f\u0631\u064a\u0628 \u0648\u0627\u062e\u062a\u0628\u0627\u0631 \u0644\u062a\u062c\u0646\u0628 \u0627\u0644\u0625\u0641\u0631\u0627\u0637 \u0641\u064a \u062a\u0646\u0627\u0633\u0628 \u0627\u0644\u0646\u0645\u0648\u0630\u062c\u060c \u0648\u062a\u0648\u062d\u064a\u062f \u0639\u062f\u062f \u0627\u0644\u0645\u062c\u0645\u0648\u0639\u0627\u062a \u0641\u064a \u0645\u062c\u0645\u0648\u0639\u0627\u062a \u0627\u0644\u0627\u062e\u062a\u0628\u0627\u0631\u060c \u0648\u0645\u0627 \u0625\u0644\u0649 \u0630\u0644\u0643.\n\n\u064a\u0648\u0636\u062d \u0647\u0630\u0627 \u0627\u0644\u0645\u062b\u0627\u0644 \u0633\u0644\u0648\u0643 \u0627\u0644\u0639\u062f\u064a\u062f \u0645\u0646 \u0643\u0627\u0626\u0646\u0627\u062a \u0633\u0643\u0627\u064a\u0644\u0631\u0646 \u0627\u0644\u0634\u0627\u0626\u0639\u0629 \u0644\u0644\u0645\u0642\u0627\u0631\u0646\u0629.\n"
      ]
    },
    {
      "cell_type": "code",
      "execution_count": null,
      "metadata": {
        "collapsed": false
      },
      "outputs": [],
      "source": [
        "# \u0627\u0644\u0645\u0624\u0644\u0641\u0648\u0646: \u0645\u0637\u0648\u0631\u064a \u0633\u0643\u0627\u064a\u0644\u0631\u0646\n# \u0645\u0639\u0631\u0641 SPDX-License: BSD-3-Clause\n\nimport matplotlib.pyplot as plt\nimport numpy as np\nfrom matplotlib.patches import Patch\n\nfrom sklearn.model_selection import (\n    GroupKFold,\n    GroupShuffleSplit,\n    KFold,\n    ShuffleSplit,\n    StratifiedGroupKFold,\n    StratifiedKFold,\n    StratifiedShuffleSplit,\n    TimeSeriesSplit,\n)\n\nrng = np.random.RandomState(1338)\ncmap_data = plt.cm.Paired\ncmap_cv = plt.cm.coolwarm\nn_splits = 4"
      ]
    },
    {
      "cell_type": "markdown",
      "metadata": {},
      "source": [
        "## \u062a\u0635\u0648\u0631 \u0628\u064a\u0627\u0646\u0627\u062a\u0646\u0627\n\n\u0623\u0648\u0644\u0627\u064b\u060c \u064a\u062c\u0628 \u0623\u0646 \u0646\u0641\u0647\u0645 \u0628\u0646\u064a\u0629 \u0628\u064a\u0627\u0646\u0627\u062a\u0646\u0627. \u064a\u062d\u062a\u0648\u064a \u0639\u0644\u0649 100 \u0646\u0642\u0637\u0629 \u0628\u064a\u0627\u0646\u0627\u062a \u0625\u062f\u062e\u0627\u0644 \u062a\u0645 \u0625\u0646\u0634\u0627\u0624\u0647\u0627 \u0639\u0634\u0648\u0627\u0626\u064a\u064b\u0627\u060c \u06483 \u0641\u0626\u0627\u062a \u0645\u0642\u0633\u0645\u0629 \u0628\u0634\u0643\u0644 \u063a\u064a\u0631 \u0645\u062a\u0633\u0627\u0648\u064d \u0639\u0628\u0631 \u0646\u0642\u0627\u0637 \u0627\u0644\u0628\u064a\u0627\u0646\u0627\u062a\u060c\n\u064810 \"\u0645\u062c\u0645\u0648\u0639\u0627\u062a\" \u0645\u0642\u0633\u0645\u0629 \u0628\u0627\u0644\u062a\u0633\u0627\u0648\u064a \u0639\u0628\u0631 \u0646\u0642\u0627\u0637 \u0627\u0644\u0628\u064a\u0627\u0646\u0627\u062a.\n\n\u0643\u0645\u0627 \u0633\u0646\u0631\u0649\u060c \u0641\u0625\u0646 \u0628\u0639\u0636 \u0643\u0627\u0626\u0646\u0627\u062a \u0627\u0644\u062a\u062d\u0642\u0642 \u0627\u0644\u0645\u062a\u0642\u0627\u0637\u0639 \u062a\u0642\u0648\u0645 \u0628\u0623\u0634\u064a\u0627\u0621 \u0645\u062d\u062f\u062f\u0629 \u0645\u0639\n\u0627\u0644\u0628\u064a\u0627\u0646\u0627\u062a \u0627\u0644\u0645\u0633\u0645\u0649\u060c \u0648\u0627\u0644\u0628\u0639\u0636 \u0627\u0644\u0622\u062e\u0631 \u064a\u062a\u0635\u0631\u0641 \u0628\u0634\u0643\u0644 \u0645\u062e\u062a\u0644\u0641 \u0645\u0639 \u0627\u0644\u0628\u064a\u0627\u0646\u0627\u062a \u0627\u0644\u0645\u062c\u0645\u0639\u0629\u060c \u0648\u0627\u0644\u0628\u0639\u0636 \u0627\u0644\u0622\u062e\u0631\n\u0644\u0627 \u062a\u0633\u062a\u062e\u062f\u0645 \u0647\u0630\u0647 \u0627\u0644\u0645\u0639\u0644\u0648\u0645\u0627\u062a.\n\n\u0644\u0644\u0628\u062f\u0621\u060c \u0633\u0646\u0642\u0648\u0645 \u0628\u062a\u0635\u0648\u0631 \u0628\u064a\u0627\u0646\u0627\u062a\u0646\u0627.\n\n"
      ]
    },
    {
      "cell_type": "code",
      "execution_count": null,
      "metadata": {
        "collapsed": false
      },
      "outputs": [],
      "source": [
        "# \u062a\u0648\u0644\u064a\u062f \u0628\u064a\u0627\u0646\u0627\u062a \u0627\u0644\u0641\u0626\u0629/\u0627\u0644\u0645\u062c\u0645\u0648\u0639\u0629\nn_points = 100\nX = rng.randn(100, 10)\n\npercentiles_classes = [0.1, 0.3, 0.6]\ny = np.hstack([[ii] * int(100 * perc) for ii, perc in enumerate(percentiles_classes)])\n\n# \u062a\u0648\u0644\u064a\u062f \u0645\u062c\u0645\u0648\u0639\u0627\u062a \u063a\u064a\u0631 \u0645\u062a\u0633\u0627\u0648\u064a\u0629\ngroup_prior = rng.dirichlet([2] * 10)\ngroups = np.repeat(np.arange(10), rng.multinomial(100, group_prior))\n\n\ndef visualize_groups(classes, groups, name):\n    # \u062a\u0635\u0648\u0631 \u0645\u062c\u0645\u0648\u0639\u0627\u062a \u0645\u062c\u0645\u0648\u0639\u0629 \u0627\u0644\u0628\u064a\u0627\u0646\u0627\u062a\n    fig, ax = plt.subplots()\n    ax.scatter(\n        range(len(groups)),\n        [0.5] * len(groups),\n        c=groups,\n        marker=\"_\",\n        lw=50,\n        cmap=cmap_data,\n    )\n    ax.scatter(\n        range(len(groups)),\n        [3.5] * len(groups),\n        c=classes,\n        marker=\"_\",\n        lw=50,\n        cmap=cmap_data,\n    )\n    ax.set(\n        ylim=[-1, 5],\n        yticks=[0.5, 3.5],\n        yticklabels=[\"Data\\ngroup\", \"Data\\nclass\"],\n        xlabel=\"Sample index\",\n    )\n\n\nvisualize_groups(y, groups, \"no groups\")"
      ]
    },
    {
      "cell_type": "markdown",
      "metadata": {},
      "source": [
        "## \u062a\u062d\u062f\u064a\u062f \u0648\u0638\u064a\u0641\u0629 \u0644\u062a\u0635\u0648\u0631 \u0633\u0644\u0648\u0643 \u0627\u0644\u062a\u062d\u0642\u0642 \u0627\u0644\u0645\u062a\u0642\u0627\u0637\u0639\n\n\u0633\u0646\u0642\u0648\u0645 \u0628\u062a\u0639\u0631\u064a\u0641 \u0648\u0638\u064a\u0641\u0629 \u062a\u0633\u0645\u062d \u0644\u0646\u0627 \u0628\u062a\u0635\u0648\u0631 \u0633\u0644\u0648\u0643 \u0643\u0644 \u0643\u0627\u0626\u0646 \u062a\u062d\u0642\u0642 \u0645\u062a\u0642\u0627\u0637\u0639. \u0633\u0646\u0642\u0648\u0645 \u0628\u0623\u062f\u0627\u0621 4 \u0627\u0646\u0642\u0633\u0627\u0645\u0627\u062a \u0644\u0644\u0628\u064a\u0627\u0646\u0627\u062a. \u0641\u064a \u0643\u0644\n\u062a\u0642\u0633\u064a\u0645\u060c \u0633\u0646\u0642\u0648\u0645 \u0628\u062a\u0635\u0648\u0631 \u0627\u0644\u0645\u0624\u0634\u0631\u0627\u062a \u0627\u0644\u0645\u062e\u062a\u0627\u0631\u0629 \u0644\u0645\u062c\u0645\u0648\u0639\u0629 \u0627\u0644\u062a\u062f\u0631\u064a\u0628\n(\u0628\u0627\u0644\u0644\u0648\u0646 \u0627\u0644\u0623\u0632\u0631\u0642) \u0648\u0645\u062c\u0645\u0648\u0639\u0629 \u0627\u0644\u0627\u062e\u062a\u0628\u0627\u0631 (\u0628\u0627\u0644\u0644\u0648\u0646 \u0627\u0644\u0623\u062d\u0645\u0631).\n\n"
      ]
    },
    {
      "cell_type": "code",
      "execution_count": null,
      "metadata": {
        "collapsed": false
      },
      "outputs": [],
      "source": [
        "def plot_cv_indices(cv, X, y, group, ax, n_splits, lw=10):\n    \"\"\"\u0625\u0646\u0634\u0627\u0621 \u0631\u0633\u0645 \u0628\u064a\u0627\u0646\u064a \u0639\u064a\u0646\u0629 \u0644\u0645\u0624\u0634\u0631\u0627\u062a \u0643\u0627\u0626\u0646 \u0627\u0644\u062a\u062d\u0642\u0642 \u0627\u0644\u0645\u062a\u0642\u0627\u0637\u0639.\"\"\"\n    use_groups = \"Group\" in type(cv).__name__\n    groups = group if use_groups else None\n    # \u062a\u0648\u0644\u064a\u062f \u0627\u0644\u062a\u0635\u0648\u0631\u0627\u062a \u0627\u0644\u062a\u062f\u0631\u064a\u0628/\u0627\u0644\u0627\u062e\u062a\u0628\u0627\u0631 \u0644\u0643\u0644 \u062a\u0642\u0633\u064a\u0645 CV\n    for ii, (tr, tt) in enumerate(cv.split(X=X, y=y, groups=groups)):\n        # \u0645\u0644\u0621 \u0627\u0644\u0645\u0624\u0634\u0631\u0627\u062a \u0628\u0645\u062c\u0645\u0648\u0639\u0627\u062a \u0627\u0644\u062a\u062f\u0631\u064a\u0628/\u0627\u0644\u0627\u062e\u062a\u0628\u0627\u0631\n        indices = np.array([np.nan] * len(X))\n        indices[tt] = 1\n        indices[tr] = 0\n\n        # \u062a\u0635\u0648\u0631 \u0627\u0644\u0646\u062a\u0627\u0626\u062c\n        ax.scatter(\n            range(len(indices)),\n            [ii + 0.5] * len(indices),\n            c=indices,\n            marker=\"_\",\n            lw=lw,\n            cmap=cmap_cv,\n            vmin=-0.2,\n            vmax=1.2,\n        )\n\n    # \u0631\u0633\u0645 \u0641\u0626\u0627\u062a \u0627\u0644\u0628\u064a\u0627\u0646\u0627\u062a \u0648\u0627\u0644\u0645\u062c\u0645\u0648\u0639\u0627\u062a \u0641\u064a \u0627\u0644\u0646\u0647\u0627\u064a\u0629\n    ax.scatter(\n        range(len(X)), [ii + 1.5] * len(X), c=y, marker=\"_\", lw=lw, cmap=cmap_data\n    )\n\n    ax.scatter(\n        range(len(X)), [ii + 2.5] * len(X), c=group, marker=\"_\", lw=lw, cmap=cmap_data\n    )\n\n    # \u0627\u0644\u062a\u0646\u0633\u064a\u0642\n    yticklabels = list(range(n_splits)) + [\"class\", \"group\"]\n    ax.set(\n        yticks=np.arange(n_splits + 2) + 0.5,\n        yticklabels=yticklabels,\n        xlabel=\"Sample index\",\n        ylabel=\"CV iteration\",\n        ylim=[n_splits + 2.2, -0.2],\n        xlim=[0, 100],\n    )\n    ax.set_title(\"{}\".format(type(cv).__name__), fontsize=15)\n    return ax"
      ]
    },
    {
      "cell_type": "markdown",
      "metadata": {},
      "source": [
        "\u062f\u0639\u0648\u0646\u0627 \u0646\u0631\u0649 \u0643\u064a\u0641 \u064a\u0628\u062f\u0648 \u0627\u0644\u0623\u0645\u0631 \u0628\u0627\u0644\u0646\u0633\u0628\u0629 \u0644\u0643\u0627\u0626\u0646 :class:`~sklearn.model_selection.KFold`\n\u0643\u0627\u0626\u0646 \u0627\u0644\u062a\u062d\u0642\u0642 \u0627\u0644\u0645\u062a\u0642\u0627\u0637\u0639:\n\n"
      ]
    },
    {
      "cell_type": "code",
      "execution_count": null,
      "metadata": {
        "collapsed": false
      },
      "outputs": [],
      "source": [
        "fig, ax = plt.subplots()\ncv = KFold(n_splits)\nplot_cv_indices(cv, X, y, groups, ax, n_splits)"
      ]
    },
    {
      "cell_type": "markdown",
      "metadata": {},
      "source": [
        "\u0643\u0645\u0627 \u062a\u0631\u0649\u060c \u0628\u0634\u0643\u0644 \u0627\u0641\u062a\u0631\u0627\u0636\u064a\u060c \u0644\u0627 \u064a\u0623\u062e\u0630 \u0645\u0646\u0634\u0626 \u0627\u0644\u062a\u0642\u0633\u064a\u0645 \u0627\u0644\u0645\u062a\u0642\u0627\u0637\u0639 KFold\n\u0641\u064a \u0627\u0644\u0627\u0639\u062a\u0628\u0627\u0631 \u0641\u0626\u0629 \u0646\u0642\u0637\u0629 \u0627\u0644\u0628\u064a\u0627\u0646\u0627\u062a \u0623\u0648 \u0627\u0644\u0645\u062c\u0645\u0648\u0639\u0629. \u064a\u0645\u0643\u0646\u0646\u0627 \u062a\u063a\u064a\u064a\u0631 \u0647\u0630\u0627\n\u0628\u0627\u0633\u062a\u062e\u062f\u0627\u0645 \u0623\u064a \u0645\u0645\u0627 \u064a\u0644\u064a:\n\n- ``StratifiedKFold`` \u0644\u0644\u062d\u0641\u0627\u0638 \u0639\u0644\u0649 \u0646\u0633\u0628\u0629 \u0627\u0644\u0639\u064a\u0646\u0627\u062a \u0644\u0643\u0644 \u0641\u0626\u0629.\n- ``GroupKFold`` \u0644\u0636\u0645\u0627\u0646 \u0639\u062f\u0645 \u0638\u0647\u0648\u0631 \u0646\u0641\u0633 \u0627\u0644\u0645\u062c\u0645\u0648\u0639\u0629 \u0641\u064a \u0637\u064a\u062a\u064a\u0646 \u0645\u062e\u062a\u0644\u0641\u062a\u064a\u0646.\n- ``StratifiedGroupKFold`` \u0644\u0644\u062d\u0641\u0627\u0638 \u0639\u0644\u0649 \u0642\u064a\u062f ``GroupKFold`` \u0645\u0639\n  \u0645\u062d\u0627\u0648\u0644\u0629 \u0625\u0631\u062c\u0627\u0639 \u0627\u0644\u0637\u064a\u0627\u062a \u0627\u0644\u0645\u0641\u0647\u0631\u0633\u0629.\n\n"
      ]
    },
    {
      "cell_type": "code",
      "execution_count": null,
      "metadata": {
        "collapsed": false
      },
      "outputs": [],
      "source": [
        "cvs = [StratifiedKFold, GroupKFold, StratifiedGroupKFold]\n\nfor cv in cvs:\n    fig, ax = plt.subplots(figsize=(6, 3))\n    plot_cv_indices(cv(n_splits), X, y, groups, ax, n_splits)\n    ax.legend(\n        [Patch(color=cmap_cv(0.8)), Patch(color=cmap_cv(0.02))],\n        [\"Testing set\", \"Training set\"],\n        loc=(1.02, 0.8),\n    )\n    # \u0636\u0628\u0637 \u0627\u0644\u0623\u0633\u0637\u0648\u0631\u0629\n    plt.tight_layout()\n    fig.subplots_adjust(right=0.7)"
      ]
    },
    {
      "cell_type": "markdown",
      "metadata": {},
      "source": [
        "\u0628\u0639\u062f \u0630\u0644\u0643\u060c \u0633\u0646\u0642\u0648\u0645 \u0628\u062a\u0635\u0648\u0631 \u0647\u0630\u0627 \u0627\u0644\u0633\u0644\u0648\u0643 \u0644\u0639\u062f\u062f \u0645\u0646 \u0645\u0624\u0634\u0631\u0627\u062a CV.\n\n## \u062a\u0635\u0648\u0631 \u0645\u0624\u0634\u0631\u0627\u062a \u0627\u0644\u062a\u062d\u0642\u0642 \u0627\u0644\u0645\u062a\u0642\u0627\u0637\u0639 \u0644\u0644\u0639\u062f\u064a\u062f \u0645\u0646 \u0643\u0627\u0626\u0646\u0627\u062a CV\n\n\u062f\u0639\u0648\u0646\u0627 \u0646\u0642\u0627\u0631\u0646 \u0628\u0635\u0631\u064a\u064b\u0627 \u0633\u0644\u0648\u0643 \u0627\u0644\u062a\u062d\u0642\u0642 \u0627\u0644\u0645\u062a\u0642\u0627\u0637\u0639 \u0644\u0644\u0639\u062f\u064a\u062f \u0645\u0646\n\u0643\u0627\u0626\u0646\u0627\u062a \u0627\u0644\u062a\u062d\u0642\u0642 \u0627\u0644\u0645\u062a\u0642\u0627\u0637\u0639 \u0641\u064a \u0633\u0643\u0627\u064a\u0644\u0631\u0646. \u0623\u062f\u0646\u0627\u0647\u060c \u0633\u0646\u0642\u0648\u0645 \u0628\u0627\u0644\u062d\u0644\u0642\u0629 \u0639\u0628\u0631 \u0627\u0644\u0639\u062f\u064a\u062f \u0645\u0646\n\u0643\u0627\u0626\u0646\u0627\u062a \u0627\u0644\u062a\u062d\u0642\u0642 \u0627\u0644\u0645\u062a\u0642\u0627\u0637\u0639 \u0627\u0644\u0634\u0627\u0626\u0639\u0629\u060c \u0648\u062a\u0635\u0648\u064a\u0631 \u0633\u0644\u0648\u0643 \u0643\u0644 \u0645\u0646\u0647\u0627.\n\n\u0644\u0627\u062d\u0638 \u0643\u064a\u0641 \u064a\u0633\u062a\u062e\u062f\u0645 \u0627\u0644\u0628\u0639\u0636 \u0645\u0639\u0644\u0648\u0645\u0627\u062a \u0627\u0644\u0645\u062c\u0645\u0648\u0639\u0629/\u0627\u0644\u0641\u0626\u0629 \u0628\u064a\u0646\u0645\u0627 \u0644\u0627 \u064a\u0633\u062a\u062e\u062f\u0645\u0647\u0627 \u0627\u0644\u0622\u062e\u0631\u0648\u0646.\n\n"
      ]
    },
    {
      "cell_type": "code",
      "execution_count": null,
      "metadata": {
        "collapsed": false
      },
      "outputs": [],
      "source": [
        "cvs = [\n    KFold,\n    GroupKFold,\n    ShuffleSplit,\n    StratifiedKFold,\n    StratifiedGroupKFold,\n    GroupShuffleSplit,\n    StratifiedShuffleSplit,\n    TimeSeriesSplit,\n]\n\n\nfor cv in cvs:\n    this_cv = cv(n_splits=n_splits)\n    fig, ax = plt.subplots(figsize=(6, 3))\n    plot_cv_indices(this_cv, X, y, groups, ax, n_splits)\n\n    ax.legend(\n        [Patch(color=cmap_cv(0.8)), Patch(color=cmap_cv(0.02))],\n        [\"Testing set\", \"Training set\"],\n        loc=(1.02, 0.8),\n    )\n    # \u0636\u0628\u0637 \u0627\u0644\u0623\u0633\u0637\u0648\u0631\u0629\n    plt.tight_layout()\n    fig.subplots_adjust(right=0.7)\nplt.show()"
      ]
    }
  ],
  "metadata": {
    "kernelspec": {
      "display_name": "Python 3",
      "language": "python",
      "name": "python3"
    },
    "language_info": {
      "codemirror_mode": {
        "name": "ipython",
        "version": 3
      },
      "file_extension": ".py",
      "mimetype": "text/x-python",
      "name": "python",
      "nbconvert_exporter": "python",
      "pygments_lexer": "ipython3",
      "version": "3.10.13"
    }
  },
  "nbformat": 4,
  "nbformat_minor": 0
}