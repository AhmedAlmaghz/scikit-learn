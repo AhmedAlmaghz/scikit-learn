{
  "cells": [
    {
      "cell_type": "markdown",
      "metadata": {},
      "source": [
        "\n# \u062a\u0642\u062f\u064a\u0631 \u062e\u0637\u064a \u0642\u0648\u064a\n\n\u0647\u0646\u0627 \u064a\u062a\u0645 \u0645\u0644\u0627\u0621\u0645\u0629 \u062f\u0627\u0644\u0629 \u0627\u0644\u062c\u064a\u0628 \u0645\u0639 \u0645\u062a\u0639\u062f\u062f\u0629 \u062d\u062f\u0648\u062f \u0645\u0646 \u0627\u0644\u062f\u0631\u062c\u0629 3\u060c \u0644\u0644\u0642\u064a\u0645\n\u0642\u0631\u064a\u0628\u0629 \u0645\u0646 \u0627\u0644\u0635\u0641\u0631.\n\n\u064a\u062a\u0645 \u0639\u0631\u0636 \u0627\u0644\u0645\u0644\u0627\u0621\u0645\u0629 \u0627\u0644\u0642\u0648\u064a\u0629 \u0641\u064a \u0645\u0648\u0627\u0642\u0641 \u0645\u062e\u062a\u0644\u0641\u0629:\n\n- \u0644\u0627 \u062a\u0648\u062c\u062f \u0623\u062e\u0637\u0627\u0621 \u0641\u064a \u0627\u0644\u0642\u064a\u0627\u0633\u060c \u0641\u0642\u0637 \u0623\u062e\u0637\u0627\u0621 \u0641\u064a \u0627\u0644\u0646\u0645\u0630\u062c\u0629 (\u0645\u0644\u0627\u0621\u0645\u0629 \u062f\u0627\u0644\u0629 \u0627\u0644\u062c\u064a\u0628 \u0645\u0639\n  \u0645\u062a\u0639\u062f\u062f\u0629 \u062d\u062f\u0648\u062f)\n\n- \u0623\u062e\u0637\u0627\u0621 \u0641\u064a \u0642\u064a\u0627\u0633 X\n\n- \u0623\u062e\u0637\u0627\u0621 \u0641\u064a \u0642\u064a\u0627\u0633 y\n\n\u064a\u062a\u0645 \u0627\u0633\u062a\u062e\u062f\u0627\u0645 \u0627\u0644\u0627\u0646\u062d\u0631\u0627\u0641 \u0627\u0644\u0645\u062a\u0648\u0633\u0637 \u0627\u0644\u0645\u0637\u0644\u0642 \u0644\u0644\u0628\u064a\u0627\u0646\u0627\u062a \u0627\u0644\u062c\u062f\u064a\u062f\u0629 \u063a\u064a\u0631 \u0627\u0644\u0641\u0627\u0633\u062f\u0629 \u0644\u0644\u062d\u0643\u0645\n\u0639\u0644\u0649 \u062c\u0648\u062f\u0629 \u0627\u0644\u062a\u0648\u0642\u0639.\n\n\u0645\u0627 \u064a\u0645\u0643\u0646\u0646\u0627 \u0631\u0624\u064a\u062a\u0647 \u0647\u0648:\n\n- RANSAC \u062c\u064a\u062f \u0644\u0644\u0628\u064a\u0627\u0646\u0627\u062a \u0627\u0644\u0634\u0627\u0630\u0629 \u0627\u0644\u0642\u0648\u064a\u0629 \u0641\u064a \u0627\u062a\u062c\u0627\u0647 y\n\n- TheilSen \u062c\u064a\u062f \u0644\u0644\u0628\u064a\u0627\u0646\u0627\u062a \u0627\u0644\u0634\u0627\u0630\u0629 \u0627\u0644\u0635\u063a\u064a\u0631\u0629\u060c \u0641\u064a \u0627\u0644\u0627\u062a\u062c\u0627\u0647\u064a\u0646 X \u0648 y\u060c \u0648\u0644\u0643\u0646 \u0644\u062f\u064a\u0647\n  \u0646\u0642\u0637\u0629 \u0643\u0633\u0631 \u0641\u0648\u0642\u0647\u0627 \u064a\u0624\u062f\u064a \u0625\u0644\u0649 \u0623\u062f\u0627\u0621 \u0623\u0633\u0648\u0623 \u0645\u0646 OLS.\n\n- \u0642\u062f \u0644\u0627 \u064a\u062a\u0645 \u0645\u0642\u0627\u0631\u0646\u0629 \u062f\u0631\u062c\u0627\u062a HuberRegressor \u0645\u0628\u0627\u0634\u0631\u0629 \u0645\u0639 \u0643\u0644 \u0645\u0646 TheilSen\n  \u0648 RANSAC \u0644\u0623\u0646\u0647 \u0644\u0627 \u064a\u062d\u0627\u0648\u0644 \u062a\u0635\u0641\u064a\u0629 \u0627\u0644\u0628\u064a\u0627\u0646\u0627\u062a \u0627\u0644\u0634\u0627\u0630\u0629 \u062a\u0645\u0627\u0645\u064b\u0627\n  \u0648\u0644\u0643\u0646 \u062a\u0642\u0644\u064a\u0644 \u062a\u0623\u062b\u064a\u0631\u0647\u0627.\n"
      ]
    },
    {
      "cell_type": "code",
      "execution_count": null,
      "metadata": {
        "collapsed": false
      },
      "outputs": [],
      "source": [
        "# \u0627\u0644\u0645\u0624\u0644\u0641\u0648\u0646: \u0645\u0637\u0648\u0631\u064a scikit-learn\n# \u0645\u0639\u0631\u0641 \u0627\u0644\u062a\u0631\u062e\u064a\u0635: BSD-3-Clause\n\nimport numpy as np\nfrom matplotlib import pyplot as plt\n\nfrom sklearn.linear_model import (\n    HuberRegressor,\n    LinearRegression,\n    RANSACRegressor,\n    TheilSenRegressor,\n)\nfrom sklearn.metrics import mean_squared_error\nfrom sklearn.pipeline import make_pipeline\nfrom sklearn.preprocessing import PolynomialFeatures\n\nnp.random.seed(42)\n\nX = np.random.normal(size=400)\ny = np.sin(X)\n# \u062a\u0623\u0643\u062f \u0645\u0646 \u0623\u0646 X \u062b\u0646\u0627\u0626\u064a \u0627\u0644\u0623\u0628\u0639\u0627\u062f\nX = X[:, np.newaxis]\n\nX_test = np.random.normal(size=200)\ny_test = np.sin(X_test)\nX_test = X_test[:, np.newaxis]\n\ny_errors = y.copy()\ny_errors[::3] = 3\n\nX_errors = X.copy()\nX_errors[::3] = 3\n\ny_errors_large = y.copy()\ny_errors_large[::3] = 10\n\nX_errors_large = X.copy()\nX_errors_large[::3] = 10\n\nestimators = [\n    (\"OLS\", LinearRegression()),\n    (\"Theil-Sen\", TheilSenRegressor(random_state=42)),\n    (\"RANSAC\", RANSACRegressor(random_state=42)),\n    (\"HuberRegressor\", HuberRegressor()),\n]\ncolors = {\n    \"OLS\": \"turquoise\",\n    \"Theil-Sen\": \"gold\",\n    \"RANSAC\": \"lightgreen\",\n    \"HuberRegressor\": \"black\",\n}\nlinestyle = {\"OLS\": \"-\", \"Theil-Sen\": \"-.\", \"RANSAC\": \"--\", \"HuberRegressor\": \"--\"}\nlw = 3\n\nx_plot = np.linspace(X.min(), X.max())\nfor title, this_X, this_y in [\n    (\"Modeling Errors Only\", X, y),\n    (\"Corrupt X, Small Deviants\", X_errors, y),\n    (\"Corrupt y, Small Deviants\", X, y_errors),\n    (\"Corrupt X, Large Deviants\", X_errors_large, y),\n    (\"Corrupt y, Large Deviants\", X, y_errors_large),\n]:\n    plt.figure(figsize=(5, 4))\n    plt.plot(this_X[:, 0], this_y, \"b+\")\n\n    for name, estimator in estimators:\n        model = make_pipeline(PolynomialFeatures(3), estimator)\n        model.fit(this_X, this_y)\n        mse = mean_squared_error(model.predict(X_test), y_test)\n        y_plot = model.predict(x_plot[:, np.newaxis])\n        plt.plot(\n            x_plot,\n            y_plot,\n            color=colors[name],\n            linestyle=linestyle[name],\n            linewidth=lw,\n            label=\"%s: error = %.3f\" % (name, mse),\n        )\n\n    legend_title = \"Error of Mean\\nAbsolute Deviation\\nto Non-corrupt Data\"\n    legend = plt.legend(\n        loc=\"upper right\", frameon=False, title=legend_title, prop=dict(size=\"x-small\")\n    )\n    plt.xlim(-4, 10.2)\n    plt.ylim(-2, 10.2)\n    plt.title(title)\nplt.show()"
      ]
    }
  ],
  "metadata": {
    "kernelspec": {
      "display_name": "Python 3",
      "language": "python",
      "name": "python3"
    },
    "language_info": {
      "codemirror_mode": {
        "name": "ipython",
        "version": 3
      },
      "file_extension": ".py",
      "mimetype": "text/x-python",
      "name": "python",
      "nbconvert_exporter": "python",
      "pygments_lexer": "ipython3",
      "version": "3.10.13"
    }
  },
  "nbformat": 4,
  "nbformat_minor": 0
}