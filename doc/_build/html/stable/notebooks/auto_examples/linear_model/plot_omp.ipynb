{
  "cells": [
    {
      "cell_type": "markdown",
      "metadata": {},
      "source": [
        "\n# \u0645\u0637\u0627\u0628\u0642\u0629 \u0645\u062a\u0639\u0627\u0645\u062f\u0629\n\n\u0627\u0633\u062a\u062e\u062f\u0627\u0645 \u0645\u0637\u0627\u0628\u0642\u0629 \u0645\u062a\u0639\u0627\u0645\u062f\u0629 \u0644\u0627\u0633\u062a\u0639\u0627\u062f\u0629 \u0625\u0634\u0627\u0631\u0629 \u0645\u062a\u0641\u0631\u0642\u0629 \u0645\u0646 \u0642\u064a\u0627\u0633 \u0645\u0634\u0648\u0634\n\u0645\u0634\u0641\u0631 \u0628\u0642\u0627\u0645\u0648\u0633\n"
      ]
    },
    {
      "cell_type": "code",
      "execution_count": null,
      "metadata": {
        "collapsed": false
      },
      "outputs": [],
      "source": [
        "# \u0627\u0644\u0645\u0624\u0644\u0641\u0648\u0646: \u0645\u0637\u0648\u0631\u064a \u0633\u0643\u0627\u064a\u0644\u0631\u0646\n# \u0645\u0639\u0631\u0641 \u0627\u0644\u062a\u0631\u062e\u064a\u0635: BSD-3-Clause\n\nimport matplotlib.pyplot as plt\nimport numpy as np\n\nfrom sklearn.datasets import make_sparse_coded_signal\nfrom sklearn.linear_model import OrthogonalMatchingPursuit, OrthogonalMatchingPursuitCV\n\nn_components, n_features = 512, 100\nn_nonzero_coefs = 17\n\n# \u062a\u0648\u0644\u064a\u062f \u0627\u0644\u0628\u064a\u0627\u0646\u0627\u062a\n\n# y = Xw\n# |x|_0 = n_nonzero_coefs\n\ny, X, w = make_sparse_coded_signal(\n    n_samples=1,\n    n_components=n_components,\n    n_features=n_features,\n    n_nonzero_coefs=n_nonzero_coefs,\n    random_state=0,\n)\nX = X.T\n\n(idx,) = w.nonzero()\n\n# \u062a\u0634\u0648\u064a\u0647 \u0627\u0644\u0625\u0634\u0627\u0631\u0629 \u0627\u0644\u0646\u0638\u064a\u0641\u0629\ny_noisy = y + 0.05 * np.random.randn(len(y))\n\n# \u0631\u0633\u0645 \u0627\u0644\u0625\u0634\u0627\u0631\u0629 \u0627\u0644\u0645\u062a\u0641\u0631\u0642\u0629\nplt.figure(figsize=(7, 7))\nplt.subplot(4, 1, 1)\nplt.xlim(0, 512)\nplt.title(\"\u0627\u0644\u0625\u0634\u0627\u0631\u0629 \u0627\u0644\u0645\u062a\u0641\u0631\u0642\u0629\")\nplt.stem(idx, w[idx])\n\n# \u0631\u0633\u0645 \u0625\u0639\u0627\u062f\u0629 \u0627\u0644\u0628\u0646\u0627\u0621 \u0627\u0644\u062e\u0627\u0644\u064a \u0645\u0646 \u0627\u0644\u0636\u0648\u0636\u0627\u0621\nomp = OrthogonalMatchingPursuit(n_nonzero_coefs=n_nonzero_coefs)\nomp.fit(X, y)\ncoef = omp.coef_\n(idx_r,) = coef.nonzero()\nplt.subplot(4, 1, 2)\nplt.xlim(0, 512)\nplt.title(\"\u0625\u0639\u0627\u062f\u0629 \u0628\u0646\u0627\u0621 \u0627\u0644\u0625\u0634\u0627\u0631\u0629 \u0645\u0646 \u0627\u0644\u0642\u064a\u0627\u0633\u0627\u062a \u0627\u0644\u062e\u0627\u0644\u064a\u0629 \u0645\u0646 \u0627\u0644\u0636\u0648\u0636\u0627\u0621\")\nplt.stem(idx_r, coef[idx_r])\n\n# \u0631\u0633\u0645 \u0625\u0639\u0627\u062f\u0629 \u0627\u0644\u0628\u0646\u0627\u0621 \u0627\u0644\u0645\u0634\u0648\u0634\nomp.fit(X, y_noisy)\ncoef = omp.coef_\n(idx_r,) = coef.nonzero()\nplt.subplot(4, 1, 3)\nplt.xlim(0, 512)\nplt.title(\"\u0625\u0639\u0627\u062f\u0629 \u0628\u0646\u0627\u0621 \u0627\u0644\u0625\u0634\u0627\u0631\u0629 \u0645\u0646 \u0627\u0644\u0642\u064a\u0627\u0633\u0627\u062a \u0627\u0644\u0645\u0634\u0648\u0634\u0629\")\nplt.stem(idx_r, coef[idx_r])\n\n# \u0631\u0633\u0645 \u0625\u0639\u0627\u062f\u0629 \u0627\u0644\u0628\u0646\u0627\u0621 \u0627\u0644\u0645\u0634\u0648\u0634 \u0645\u0639 \u0639\u062f\u062f \u063a\u064a\u0631 \u0627\u0644\u0635\u0641\u0631\u064a \u0627\u0644\u0645\u062d\u062f\u062f \u0628\u0648\u0627\u0633\u0637\u0629 CV\nomp_cv = OrthogonalMatchingPursuitCV()\nomp_cv.fit(X, y_noisy)\ncoef = omp_cv.coef_\n(idx_r,) = coef.nonzero()\nplt.subplot(4, 1, 4)\nplt.xlim(0, 512)\nplt.title(\"\u0625\u0639\u0627\u062f\u0629 \u0628\u0646\u0627\u0621 \u0627\u0644\u0625\u0634\u0627\u0631\u0629 \u0645\u0646 \u0627\u0644\u0642\u064a\u0627\u0633\u0627\u062a \u0627\u0644\u0645\u0634\u0648\u0634\u0629 \u0645\u0639 CV\")\nplt.stem(idx_r, coef[idx_r])\n\nplt.subplots_adjust(0.06, 0.04, 0.94, 0.90, 0.20, 0.38)\nplt.suptitle(\"\u0627\u0633\u062a\u0639\u0627\u062f\u0629 \u0627\u0644\u0625\u0634\u0627\u0631\u0629 \u0627\u0644\u0645\u062a\u0641\u0631\u0642\u0629 \u0628\u0627\u0633\u062a\u062e\u062f\u0627\u0645 \u0645\u0637\u0627\u0628\u0642\u0629 \u0645\u062a\u0639\u0627\u0645\u062f\u0629\", fontsize=16)\nplt.show()"
      ]
    }
  ],
  "metadata": {
    "kernelspec": {
      "display_name": "Python 3",
      "language": "python",
      "name": "python3"
    },
    "language_info": {
      "codemirror_mode": {
        "name": "ipython",
        "version": 3
      },
      "file_extension": ".py",
      "mimetype": "text/x-python",
      "name": "python",
      "nbconvert_exporter": "python",
      "pygments_lexer": "ipython3",
      "version": "3.10.13"
    }
  },
  "nbformat": 4,
  "nbformat_minor": 0
}