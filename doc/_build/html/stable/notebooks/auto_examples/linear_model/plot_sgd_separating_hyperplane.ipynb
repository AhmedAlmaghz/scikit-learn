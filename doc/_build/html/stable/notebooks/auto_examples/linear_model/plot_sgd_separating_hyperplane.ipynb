{
  "cells": [
    {
      "cell_type": "markdown",
      "metadata": {},
      "source": [
        "\n# SGD: \u0627\u0644\u0645\u0633\u062a\u0648\u0649 \u0627\u0644\u0641\u0627\u0635\u0644 \u0630\u0648 \u0627\u0644\u0647\u0627\u0645\u0634 \u0627\u0644\u0623\u0642\u0635\u0649\n\n\u0627\u0631\u0633\u0645 \u0627\u0644\u0645\u0633\u062a\u0648\u0649 \u0627\u0644\u0641\u0627\u0635\u0644 \u0630\u0648 \u0627\u0644\u0647\u0627\u0645\u0634 \u0627\u0644\u0623\u0642\u0635\u0649 \u0636\u0645\u0646 \u0645\u062c\u0645\u0648\u0639\u0629 \u0628\u064a\u0627\u0646\u0627\u062a \u062b\u0646\u0627\u0626\u064a\u0629 \u0627\u0644\u0641\u0635\u0644\n\u0628\u0627\u0633\u062a\u062e\u062f\u0627\u0645 \u0645\u0635\u0646\u0641 \u0622\u0644\u0627\u062a \u0627\u0644\u0645\u062a\u062c\u0647\u0627\u062a \u0627\u0644\u062f\u0627\u0639\u0645\u0629 \u0627\u0644\u062e\u0637\u064a \u0627\u0644\u0630\u064a \u062a\u0645 \u062a\u062f\u0631\u064a\u0628\u0647 \u0628\u0627\u0633\u062a\u062e\u062f\u0627\u0645 SGD.\n"
      ]
    },
    {
      "cell_type": "code",
      "execution_count": null,
      "metadata": {
        "collapsed": false
      },
      "outputs": [],
      "source": [
        "# \u0627\u0644\u0645\u0624\u0644\u0641\u0648\u0646: \u0645\u0637\u0648\u0631\u064a scikit-learn\n# \u0645\u0639\u0631\u0641 \u0627\u0644\u062a\u0631\u062e\u064a\u0635: BSD-3-Clause\n\nimport matplotlib.pyplot as plt\nimport numpy as np\n\nfrom sklearn.datasets import make_blobs\nfrom sklearn.linear_model import SGDClassifier\n\n# \u0646\u0642\u0648\u0645 \u0628\u0625\u0646\u0634\u0627\u0621 50 \u0646\u0642\u0637\u0629 \u0642\u0627\u0628\u0644\u0629 \u0644\u0644\u0641\u0635\u0644\nX, Y = make_blobs(n_samples=50, centers=2, random_state=0, cluster_std=0.60)\n\n# \u062a\u062f\u0631\u064a\u0628 \u0627\u0644\u0646\u0645\u0648\u0630\u062c\nclf = SGDClassifier(loss=\"hinge\", alpha=0.01, max_iter=200)\n\nclf.fit(X, Y)\n\n# \u0631\u0633\u0645 \u0627\u0644\u062e\u0637\u060c \u0627\u0644\u0646\u0642\u0627\u0637\u060c \u0648\u0623\u0642\u0631\u0628 \u0627\u0644\u0645\u062a\u062c\u0647\u0627\u062a \u0625\u0644\u0649 \u0627\u0644\u0645\u0633\u062a\u0648\u0649\nxx = np.linspace(-1, 5, 10)\nyy = np.linspace(-1, 5, 10)\n\nX1, X2 = np.meshgrid(xx, yy)\nZ = np.empty(X1.shape)\nfor (i, j), val in np.ndenumerate(X1):\n    x1 = val\n    x2 = X2[i, j]\n    p = clf.decision_function([[x1, x2]])\n    Z[i, j] = p[0]\nlevels = [-1.0, 0.0, 1.0]\nlinestyles = [\"dashed\", \"solid\", \"dashed\"]\ncolors = \"k\"\nplt.contour(X1, X2, Z, levels, colors=colors, linestyles=linestyles)\nplt.scatter(X[:, 0], X[:, 1], c=Y, cmap=plt.cm.Paired, edgecolor=\"black\", s=20)\n\nplt.axis(\"tight\")\nplt.show()"
      ]
    }
  ],
  "metadata": {
    "kernelspec": {
      "display_name": "Python 3",
      "language": "python",
      "name": "python3"
    },
    "language_info": {
      "codemirror_mode": {
        "name": "ipython",
        "version": 3
      },
      "file_extension": ".py",
      "mimetype": "text/x-python",
      "name": "python",
      "nbconvert_exporter": "python",
      "pygments_lexer": "ipython3",
      "version": "3.10.13"
    }
  },
  "nbformat": 4,
  "nbformat_minor": 0
}