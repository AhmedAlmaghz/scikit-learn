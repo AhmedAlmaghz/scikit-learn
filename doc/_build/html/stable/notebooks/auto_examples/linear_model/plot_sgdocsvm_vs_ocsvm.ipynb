{
  "cells": [
    {
      "cell_type": "markdown",
      "metadata": {},
      "source": [
        "\n# One-Class SVM \u0645\u0642\u0627\u0628\u0644 One-Class SVM \u0628\u0627\u0633\u062a\u062e\u062f\u0627\u0645 Stochastic Gradient Descent\n\n\u064a\u0648\u0636\u062d \u0647\u0630\u0627 \u0627\u0644\u0645\u062b\u0627\u0644 \u0643\u064a\u0641\u064a\u0629 \u062a\u0642\u0631\u064a\u0628 \u062d\u0644\n:class:`sklearn.svm.OneClassSVM` \u0641\u064a \u062d\u0627\u0644\u0629 \u0627\u0633\u062a\u062e\u062f\u0627\u0645 \u0646\u0648\u0627\u0629 RBF \u0645\u0639\n:class:`sklearn.linear_model.SGDOneClassSVM`\u060c \u0648\u0647\u064a \u0646\u0633\u062e\u0629 Stochastic Gradient Descent\n(SGD) \u0645\u0646 One-Class SVM. \u064a\u062a\u0645 \u0627\u0633\u062a\u062e\u062f\u0627\u0645 \u062a\u0642\u0631\u064a\u0628 \u0627\u0644\u0646\u0648\u0627\u0629 \u0623\u0648\u0644\u0627\u064b \u0645\u0646 \u0623\u062c\u0644 \u062a\u0637\u0628\u064a\u0642\n:class:`sklearn.linear_model.SGDOneClassSVM` \u0627\u0644\u0630\u064a \u064a\u0646\u0641\u0630 One-Class SVM \u062e\u0637\u064a \u0628\u0627\u0633\u062a\u062e\u062f\u0627\u0645 SGD.\n\n\u0645\u0644\u0627\u062d\u0638\u0629: :class:`sklearn.linear_model.SGDOneClassSVM` \u064a\u062a\u0646\u0627\u0633\u0628 \u062e\u0637\u064a\u0627\u064b \u0645\u0639\n\u0639\u062f\u062f \u0627\u0644\u0639\u064a\u0646\u0627\u062a \u0641\u064a \u062d\u064a\u0646 \u0623\u0646 \u062a\u0639\u0642\u064a\u062f :class:`sklearn.svm.OneClassSVM`\n\u0627\u0644\u0630\u064a \u064a\u0633\u062a\u062e\u062f\u0645 \u0646\u0648\u0627\u0629 kernelized \u0647\u0648 \u0639\u0644\u0649 \u0627\u0644\u0623\u0642\u0644 \u062a\u0631\u0628\u064a\u0639\u064a \u0641\u064a\u0645\u0627 \u064a\u062a\u0639\u0644\u0642 \u0628\u0639\u062f\u062f \u0627\u0644\u0639\u064a\u0646\u0627\u062a.\n\u0644\u064a\u0633 \u0627\u0644\u063a\u0631\u0636 \u0645\u0646 \u0647\u0630\u0627 \u0627\u0644\u0645\u062b\u0627\u0644 \u062a\u0648\u0636\u064a\u062d \u0641\u0648\u0627\u0626\u062f \u0645\u062b\u0644 \u0647\u0630\u0627 \u0627\u0644\u062a\u0642\u0631\u064a\u0628 \u0645\u0646 \u062d\u064a\u062b \u0648\u0642\u062a \u0627\u0644\u062d\u0633\u0627\u0628\u060c\n\u0648\u0644\u0643\u0646 \u0628\u062f\u0644\u0627\u064b \u0645\u0646 \u0630\u0644\u0643\u060c \u0644\u0625\u0638\u0647\u0627\u0631 \u0623\u0646\u0646\u0627 \u0646\u062d\u0635\u0644 \u0639\u0644\u0649 \u0646\u062a\u0627\u0626\u062c \u0645\u0645\u0627\u062b\u0644\u0629 \u0639\u0644\u0649 \u0645\u062c\u0645\u0648\u0639\u0629 \u0628\u064a\u0627\u0646\u0627\u062a \u062a\u062c\u0631\u064a\u0628\u064a\u0629.\n"
      ]
    },
    {
      "cell_type": "code",
      "execution_count": null,
      "metadata": {
        "collapsed": false
      },
      "outputs": [],
      "source": [
        "# \u0627\u0644\u0645\u0624\u0644\u0641\u0648\u0646: \u0645\u0637\u0648\u0631\u0648 scikit-learn\n# \u0645\u0639\u0631\u0641 \u0627\u0644\u062a\u0631\u062e\u064a\u0635: BSD-3-Clause"
      ]
    },
    {
      "cell_type": "code",
      "execution_count": null,
      "metadata": {
        "collapsed": false
      },
      "outputs": [],
      "source": [
        "import matplotlib\nimport matplotlib.lines as mlines\nimport matplotlib.pyplot as plt\nimport numpy as np\n\nfrom sklearn.kernel_approximation import Nystroem\nfrom sklearn.linear_model import SGDOneClassSVM\nfrom sklearn.pipeline import make_pipeline\nfrom sklearn.svm import OneClassSVM\n\nline = {\"weight\": \"normal\", \"size\": 15}\n\nmatplotlib.rc(\"font\", **line)\n\nrandom_state = 42\nrng = np.random.RandomState(random_state)\n\n# \u062a\u0648\u0644\u064a\u062f \u0628\u064a\u0627\u0646\u0627\u062a \u0627\u0644\u062a\u062f\u0631\u064a\u0628\nX = 0.3 * rng.randn(500, 2)\nX_train = np.r_[X + 2, X - 2]\n# \u062a\u0648\u0644\u064a\u062f \u0628\u0639\u0636 \u0627\u0644\u0645\u0644\u0627\u062d\u0638\u0627\u062a \u0627\u0644\u0639\u0627\u062f\u064a\u0629 \u0627\u0644\u062c\u062f\u064a\u062f\u0629\nX = 0.3 * rng.randn(20, 2)\nX_test = np.r_[X + 2, X - 2]\n# \u062a\u0648\u0644\u064a\u062f \u0628\u0639\u0636 \u0627\u0644\u0645\u0644\u0627\u062d\u0638\u0627\u062a \u0627\u0644\u0634\u0627\u0630\u0629 \u0627\u0644\u062c\u062f\u064a\u062f\u0629\nX_outliers = rng.uniform(low=-4, high=4, size=(20, 2))\n\n# \u0641\u0631\u0637 \u0645\u0639\u0644\u0645\u0627\u062a OCSVM\nnu = 0.05\ngamma = 2.0\n\n# \u0645\u0644\u0627\u0621\u0645\u0629 One-Class SVM\nclf = OneClassSVM(gamma=gamma, kernel=\"rbf\", nu=nu)\nclf.fit(X_train)\ny_pred_train = clf.predict(X_train)\ny_pred_test = clf.predict(X_test)\ny_pred_outliers = clf.predict(X_outliers)\nn_error_train = y_pred_train[y_pred_train == -1].size\nn_error_test = y_pred_test[y_pred_test == -1].size\nn_error_outliers = y_pred_outliers[y_pred_outliers == 1].size\n\n# \u0645\u0644\u0627\u0621\u0645\u0629 One-Class SVM \u0628\u0627\u0633\u062a\u062e\u062f\u0627\u0645 \u062a\u0642\u0631\u064a\u0628 \u0627\u0644\u0646\u0648\u0627\u0629 \u0648 SGD\ntransform = Nystroem(gamma=gamma, random_state=random_state)\nclf_sgd = SGDOneClassSVM(\n    nu=nu, shuffle=True, fit_intercept=True, random_state=random_state, tol=1e-4\n)\npipe_sgd = make_pipeline(transform, clf_sgd)\npipe_sgd.fit(X_train)\ny_pred_train_sgd = pipe_sgd.predict(X_train)\ny_pred_test_sgd = pipe_sgd.predict(X_test)\ny_pred_outliers_sgd = pipe_sgd.predict(X_outliers)\nn_error_train_sgd = y_pred_train_sgd[y_pred_train_sgd == -1].size\nn_error_test_sgd = y_pred_test_sgd[y_pred_test_sgd == -1].size\nn_error_outliers_sgd = y_pred_outliers_sgd[y_pred_outliers_sgd == 1].size"
      ]
    },
    {
      "cell_type": "code",
      "execution_count": null,
      "metadata": {
        "collapsed": false
      },
      "outputs": [],
      "source": [
        "from sklearn.inspection import DecisionBoundaryDisplay\n\n_, ax = plt.subplots(figsize=(9, 6))\n\nxx, yy = np.meshgrid(np.linspace(-4.5, 4.5, 50), np.linspace(-4.5, 4.5, 50))\nX = np.concatenate([xx.ravel().reshape(-1, 1), yy.ravel().reshape(-1, 1)], axis=1)\nDecisionBoundaryDisplay.from_estimator(\n    clf,\n    X,\n    response_method=\"decision_function\",\n    plot_method=\"contourf\",\n    ax=ax,\n    cmap=\"PuBu\",\n)\nDecisionBoundaryDisplay.from_estimator(\n    clf,\n    X,\n    response_method=\"decision_function\",\n    plot_method=\"contour\",\n    ax=ax,\n    linewidths=2,\n    colors=\"darkred\",\n    levels=[0],\n)\nDecisionBoundaryDisplay.from_estimator(\n    clf,\n    X,\n    response_method=\"decision_function\",\n    plot_method=\"contourf\",\n    ax=ax,\n    colors=\"palevioletred\",\n    levels=[0, clf.decision_function(X).max()],\n)\n\ns = 20\nb1 = plt.scatter(X_train[:, 0], X_train[:, 1], c=\"white\", s=s, edgecolors=\"k\")\nb2 = plt.scatter(X_test[:, 0], X_test[:, 1], c=\"blueviolet\", s=s, edgecolors=\"k\")\nc = plt.scatter(X_outliers[:, 0], X_outliers[:, 1], c=\"gold\", s=s, edgecolors=\"k\")\n\nax.set(\n    title=\"One-Class SVM\",  # \u0644\u0645 \u064a\u062a\u0645 \u062a\u063a\u064a\u064a\u0631 \u0647\u0630\u0627 \u0627\u0644\u0639\u0646\u0648\u0627\u0646\n    xlim=(-4.5, 4.5),\n    ylim=(-4.5, 4.5),\n    xlabel=(\n        f\"\u0623\u062e\u0637\u0627\u0621 \u0627\u0644\u062a\u062f\u0631\u064a\u0628: {n_error_train}/{X_train.shape[0]}; \"\n        f\"\u0623\u062e\u0637\u0627\u0621 \u0639\u0627\u062f\u064a\u0629 \u062c\u062f\u064a\u062f\u0629: {n_error_test}/{X_test.shape[0]}; \"\n        f\"\u0623\u062e\u0637\u0627\u0621 \u0634\u0627\u0630\u0629 \u062c\u062f\u064a\u062f\u0629: {n_error_outliers}/{X_outliers.shape[0]}\"\n    ),\n)\n_ = ax.legend(\n    [mlines.Line2D([], [], color=\"darkred\", label=\"\u0627\u0644\u062d\u062f\u0648\u062f \u0627\u0644\u0645\u0643\u062a\u0633\u0628\u0629\"), b1, b2, c],\n    [\n        \"\u0627\u0644\u062d\u062f\u0648\u062f \u0627\u0644\u0645\u0643\u062a\u0633\u0628\u0629\",\n        \"\u0645\u0644\u0627\u062d\u0638\u0627\u062a \u0627\u0644\u062a\u062f\u0631\u064a\u0628\",\n        \"\u0645\u0644\u0627\u062d\u0638\u0627\u062a \u0639\u0627\u062f\u064a\u0629 \u062c\u062f\u064a\u062f\u0629\",\n        \"\u0645\u0644\u0627\u062d\u0638\u0627\u062a \u0634\u0627\u0630\u0629 \u062c\u062f\u064a\u062f\u0629\",\n    ],\n    loc=\"upper left\",\n)"
      ]
    },
    {
      "cell_type": "code",
      "execution_count": null,
      "metadata": {
        "collapsed": false
      },
      "outputs": [],
      "source": [
        "_, ax = plt.subplots(figsize=(9, 6))\n\nxx, yy = np.meshgrid(np.linspace(-4.5, 4.5, 50), np.linspace(-4.5, 4.5, 50))\nX = np.concatenate([xx.ravel().reshape(-1, 1), yy.ravel().reshape(-1, 1)], axis=1)\nDecisionBoundaryDisplay.from_estimator(\n    pipe_sgd,\n    X,\n    response_method=\"decision_function\",\n    plot_method=\"contourf\",\n    ax=ax,\n    cmap=\"PuBu\",\n)\nDecisionBoundaryDisplay.from_estimator(\n    pipe_sgd,\n    X,\n    response_method=\"decision_function\",\n    plot_method=\"contour\",\n    ax=ax,\n    linewidths=2,\n    colors=\"darkred\",\n    levels=[0],\n)\nDecisionBoundaryDisplay.from_estimator(\n    pipe_sgd,\n    X,\n    response_method=\"decision_function\",\n    plot_method=\"contourf\",\n    ax=ax,\n    colors=\"palevioletred\",\n    levels=[0, pipe_sgd.decision_function(X).max()],\n)\n\ns = 20\nb1 = plt.scatter(X_train[:, 0], X_train[:, 1], c=\"white\", s=s, edgecolors=\"k\")\nb2 = plt.scatter(X_test[:, 0], X_test[:, 1], c=\"blueviolet\", s=s, edgecolors=\"k\")\nc = plt.scatter(X_outliers[:, 0], X_outliers[:, 1], c=\"gold\", s=s, edgecolors=\"k\")\n\nax.set(\n    title=\"One-Class SVM \u0639\u0628\u0631 \u0627\u0644\u0625\u0646\u062a\u0631\u0646\u062a\",\n    xlim=(-4.5, 4.5),\n    ylim=(-4.5, 4.5),\n    xlabel=(\n        f\"\u0623\u062e\u0637\u0627\u0621 \u0627\u0644\u062a\u062f\u0631\u064a\u0628: {n_error_train_sgd}/{X_train.shape[0]}; \"\n        f\"\u0623\u062e\u0637\u0627\u0621 \u0639\u0627\u062f\u064a\u0629 \u062c\u062f\u064a\u062f\u0629: {n_error_test_sgd}/{X_test.shape[0]}; \"\n        f\"\u0623\u062e\u0637\u0627\u0621 \u0634\u0627\u0630\u0629 \u062c\u062f\u064a\u062f\u0629: {n_error_outliers_sgd}/{X_outliers.shape[0]}\"\n    ),\n)\nax.legend(\n    [mlines.Line2D([], [], color=\"darkred\", label=\"\u0627\u0644\u062d\u062f\u0648\u062f \u0627\u0644\u0645\u0643\u062a\u0633\u0628\u0629\"), b1, b2, c],\n    [\n        \"\u0627\u0644\u062d\u062f\u0648\u062f \u0627\u0644\u0645\u0643\u062a\u0633\u0628\u0629\",\n        \"\u0645\u0644\u0627\u062d\u0638\u0627\u062a \u0627\u0644\u062a\u062f\u0631\u064a\u0628\",\n        \"\u0645\u0644\u0627\u062d\u0638\u0627\u062a \u0639\u0627\u062f\u064a\u0629 \u062c\u062f\u064a\u062f\u0629\",\n        \"\u0645\u0644\u0627\u062d\u0638\u0627\u062a \u0634\u0627\u0630\u0629 \u062c\u062f\u064a\u062f\u0629\",\n    ],\n    loc=\"upper left\",\n)\nplt.show()"
      ]
    }
  ],
  "metadata": {
    "kernelspec": {
      "display_name": "Python 3",
      "language": "python",
      "name": "python3"
    },
    "language_info": {
      "codemirror_mode": {
        "name": "ipython",
        "version": 3
      },
      "file_extension": ".py",
      "mimetype": "text/x-python",
      "name": "python",
      "nbconvert_exporter": "python",
      "pygments_lexer": "ipython3",
      "version": "3.10.13"
    }
  },
  "nbformat": 4,
  "nbformat_minor": 0
}