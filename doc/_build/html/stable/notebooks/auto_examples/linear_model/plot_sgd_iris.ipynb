{
  "cells": [
    {
      "cell_type": "markdown",
      "metadata": {},
      "source": [
        "\n# \u0631\u0633\u0645 \u0645\u062a\u0639\u062f\u062f \u0627\u0644\u0641\u0626\u0627\u062a SGD \u0639\u0644\u0649 \u0645\u062c\u0645\u0648\u0639\u0629 \u0628\u064a\u0627\u0646\u0627\u062a \u0627\u0644\u0632\u0647\u0631\u0629\n\n\u0631\u0633\u0645 \u0633\u0637\u062d \u0627\u0644\u0642\u0631\u0627\u0631 \u0644\u0645\u062a\u0639\u062f\u062f \u0627\u0644\u0641\u0626\u0627\u062a SGD \u0639\u0644\u0649 \u0645\u062c\u0645\u0648\u0639\u0629 \u0628\u064a\u0627\u0646\u0627\u062a \u0627\u0644\u0632\u0647\u0631\u0629.\n\u062a\u0645\u062b\u0644 \u0627\u0644\u062e\u0637\u0648\u0637 \u0627\u0644\u0645\u062a\u0642\u0637\u0639\u0629 \u0627\u0644\u0645\u0633\u062a\u0648\u064a\u0627\u062a \u0627\u0644\u0641\u0627\u0635\u0644\u0629 \u0627\u0644\u0645\u0642\u0627\u0628\u0644\u0629 \u0644\u0644\u062b\u0644\u0627\u062b\u0629 \u0645\u0635\u0646\u0641\u0627\u062a \u0645\u0646 \u0646\u0648\u0639 \u0648\u0627\u062d\u062f \u0645\u0642\u0627\u0628\u0644 \u0627\u0644\u062c\u0645\u064a\u0639 (OVA).\n"
      ]
    },
    {
      "cell_type": "code",
      "execution_count": null,
      "metadata": {
        "collapsed": false
      },
      "outputs": [],
      "source": [
        "# \u0627\u0644\u0645\u0624\u0644\u0641\u0648\u0646: \u0645\u0637\u0648\u0631\u064a \u0645\u0643\u062a\u0628\u0629 \u0633\u0627\u064a \u0643\u064a\u062a \u0644\u064a\u0631\u0646\n# \u0645\u0639\u0631\u0641 \u0631\u062e\u0635\u0629 SPDX: BSD-3-Clause\n\nimport matplotlib.pyplot as plt\nimport numpy as np\n\nfrom sklearn import datasets\nfrom sklearn.inspection import DecisionBoundaryDisplay\nfrom sklearn.linear_model import SGDClassifier\n\n# \u0627\u0633\u062a\u064a\u0631\u0627\u062f \u0628\u0639\u0636 \u0627\u0644\u0628\u064a\u0627\u0646\u0627\u062a \u0644\u0644\u062a\u062c\u0631\u0628\u0629\niris = datasets.load_iris()\n\n# \u0646\u0623\u062e\u0630 \u0641\u0642\u0637 \u0623\u0648\u0644 \u0645\u064a\u0632\u062a\u064a\u0646. \u064a\u0645\u0643\u0646\u0646\u0627\n# \u062a\u062c\u0646\u0628 \u0647\u0630\u0627 \u0627\u0644\u062a\u0642\u0637\u064a\u0639 \u063a\u064a\u0631 \u0627\u0644\u0645\u0646\u0627\u0633\u0628 \u0628\u0627\u0633\u062a\u062e\u062f\u0627\u0645 \u0645\u062c\u0645\u0648\u0639\u0629 \u0628\u064a\u0627\u0646\u0627\u062a \u062b\u0646\u0627\u0626\u064a\u0629 \u0627\u0644\u0623\u0628\u0639\u0627\u062f\nX = iris.data[:, :2]\ny = iris.target\ncolors = \"bry\"\n\n# \u0627\u0644\u062e\u0644\u0637\nidx = np.arange(X.shape[0])\nnp.random.seed(13)\nnp.random.shuffle(idx)\nX = X[idx]\ny = y[idx]\n\n# \u0627\u0644\u062a\u0648\u062d\u064a\u062f\nmean = X.mean(axis=0)\nstd = X.std(axis=0)\nX = (X - mean) / std\n\nclf = SGDClassifier(alpha=0.001, max_iter=100).fit(X, y)\nax = plt.gca()\nDecisionBoundaryDisplay.from_estimator(\n    clf,\n    X,\n    cmap=plt.cm.Paired,\n    ax=ax,\n    response_method=\"predict\",\n    xlabel=iris.feature_names[0],\n    ylabel=iris.feature_names[1],\n)\nplt.axis(\"tight\")\n\n# \u0631\u0633\u0645 \u0646\u0642\u0627\u0637 \u0627\u0644\u062a\u062f\u0631\u064a\u0628 \u0623\u064a\u0636\u064b\u0627\nfor i, color in zip(clf.classes_, colors):\n    idx = np.where(y == i)\n    plt.scatter(\n        X[idx, 0],\n        X[idx, 1],\n        c=color,\n        label=iris.target_names[i],\n        edgecolor=\"black\",\n        s=20,\n    )\nplt.title(\"\u0633\u0637\u062d \u0627\u0644\u0642\u0631\u0627\u0631 \u0644\u0645\u062a\u0639\u062f\u062f \u0627\u0644\u0641\u0626\u0627\u062a SGD\")\nplt.axis(\"tight\")\n\n# \u0631\u0633\u0645 \u0627\u0644\u0645\u0635\u0646\u0641\u0627\u062a \u0627\u0644\u062b\u0644\u0627\u062b\u0629 \u0645\u0646 \u0646\u0648\u0639 \u0648\u0627\u062d\u062f \u0645\u0642\u0627\u0628\u0644 \u0627\u0644\u062c\u0645\u064a\u0639\nxmin, xmax = plt.xlim()\nymin, ymax = plt.ylim()\ncoef = clf.coef_\nintercept = clf.intercept_\n\n\ndef plot_hyperplane(c, color):\n    def line(x0):\n        return (-(x0 * coef[c, 0]) - intercept[c]) / coef[c, 1]\n\n    plt.plot([xmin, xmax], [line(xmin), line(xmax)], ls=\"--\", color=color)\n\n\nfor i, color in zip(clf.classes_, colors):\n    plot_hyperplane(i, color)\nplt.legend()\nplt.show()"
      ]
    }
  ],
  "metadata": {
    "kernelspec": {
      "display_name": "Python 3",
      "language": "python",
      "name": "python3"
    },
    "language_info": {
      "codemirror_mode": {
        "name": "ipython",
        "version": 3
      },
      "file_extension": ".py",
      "mimetype": "text/x-python",
      "name": "python",
      "nbconvert_exporter": "python",
      "pygments_lexer": "ipython3",
      "version": "3.10.13"
    }
  },
  "nbformat": 4,
  "nbformat_minor": 0
}