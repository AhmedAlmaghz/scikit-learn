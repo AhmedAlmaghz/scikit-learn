{
  "cells": [
    {
      "cell_type": "markdown",
      "metadata": {},
      "source": [
        "\n# \u0627\u062e\u062a\u064a\u0627\u0631 \u0627\u0644\u0645\u064a\u0632\u0629 \u0623\u062d\u0627\u062f\u064a\u0629 \u0627\u0644\u0645\u062a\u063a\u064a\u0631\n\n\u0647\u0630\u0627 \u0627\u0644\u062f\u0641\u062a\u0631 \u0647\u0648 \u0645\u062b\u0627\u0644 \u0639\u0644\u0649 \u0627\u0633\u062a\u062e\u062f\u0627\u0645 \u0627\u062e\u062a\u064a\u0627\u0631 \u0627\u0644\u0645\u064a\u0632\u0627\u062a \u0623\u062d\u0627\u062f\u064a \u0627\u0644\u0645\u062a\u063a\u064a\u0631\n\u0644\u062a\u062d\u0633\u064a\u0646 \u062f\u0642\u0629 \u0627\u0644\u062a\u0635\u0646\u064a\u0641 \u0639\u0644\u0649 \u0645\u062c\u0645\u0648\u0639\u0629 \u0628\u064a\u0627\u0646\u0627\u062a \u0635\u0627\u062e\u0628\u0629.\n\n\u0641\u064a \u0647\u0630\u0627 \u0627\u0644\u0645\u062b\u0627\u0644\u060c \u062a\u062a\u0645 \u0625\u0636\u0627\u0641\u0629 \u0628\u0639\u0636 \u0627\u0644\u0645\u064a\u0632\u0627\u062a \u0627\u0644\u0635\u0627\u062e\u0628\u0629 (\u063a\u064a\u0631 \u0627\u0644\u0645\u0639\u0644\u0648\u0645\u0627\u062a\u064a\u0629) \u0625\u0644\u0649\n\u0645\u062c\u0645\u0648\u0639\u0629 \u0628\u064a\u0627\u0646\u0627\u062a iris. \u064a\u062a\u0645 \u0627\u0633\u062a\u062e\u062f\u0627\u0645 \u0622\u0644\u0629 \u0645\u062a\u062c\u0647 \u0627\u0644\u062f\u0639\u0645 (SVM) \u0644\u062a\u0635\u0646\u064a\u0641\n\u0645\u062c\u0645\u0648\u0639\u0629 \u0627\u0644\u0628\u064a\u0627\u0646\u0627\u062a \u0642\u0628\u0644 \u0648\u0628\u0639\u062f \u062a\u0637\u0628\u064a\u0642 \u0627\u062e\u062a\u064a\u0627\u0631 \u0627\u0644\u0645\u064a\u0632\u0627\u062a \u0623\u062d\u0627\u062f\u064a \u0627\u0644\u0645\u062a\u063a\u064a\u0631.\n\u0644\u0643\u0644 \u0645\u064a\u0632\u0629\u060c \u0646\u0631\u0633\u0645 \u0642\u064a\u0645 p \u0644\u0627\u062e\u062a\u064a\u0627\u0631 \u0627\u0644\u0645\u064a\u0632\u0627\u062a \u0623\u062d\u0627\u062f\u064a \u0627\u0644\u0645\u062a\u063a\u064a\u0631\n\u0648\u0627\u0644\u0623\u0648\u0632\u0627\u0646 \u0627\u0644\u0645\u0642\u0627\u0628\u0644\u0629 \u0644\u0640 SVMs. \u0645\u0639 \u0647\u0630\u0627\u060c \u0633\u0646\u0642\u0627\u0631\u0646 \u062f\u0642\u0629 \u0627\u0644\u0646\u0645\u0648\u0630\u062c\n\u0648\u0646\u0641\u062d\u0635 \u062a\u0623\u062b\u064a\u0631 \u0627\u062e\u062a\u064a\u0627\u0631 \u0627\u0644\u0645\u064a\u0632\u0627\u062a \u0623\u062d\u0627\u062f\u064a \u0627\u0644\u0645\u062a\u063a\u064a\u0631 \u0639\u0644\u0649 \u0623\u0648\u0632\u0627\u0646 \u0627\u0644\u0646\u0645\u0648\u0630\u062c.\n"
      ]
    },
    {
      "cell_type": "code",
      "execution_count": null,
      "metadata": {
        "collapsed": false
      },
      "outputs": [],
      "source": [
        "# Authors: The scikit-learn developers\n# SPDX-License-Identifier: BSD-3-Clause"
      ]
    },
    {
      "cell_type": "markdown",
      "metadata": {},
      "source": [
        "## \u062a\u0648\u0644\u064a\u062f \u0628\u064a\u0627\u0646\u0627\u062a \u0627\u0644\u0639\u064a\u0646\u0629\n\n\n"
      ]
    },
    {
      "cell_type": "code",
      "execution_count": null,
      "metadata": {
        "collapsed": false
      },
      "outputs": [],
      "source": [
        "import numpy as np\n\nfrom sklearn.datasets import load_iris\nfrom sklearn.model_selection import train_test_split\n\n# The iris dataset\nX, y = load_iris(return_X_y=True)\n\n# Some noisy data not correlated\nE = np.random.RandomState(42).uniform(0, 0.1, size=(X.shape[0], 20))\n\n# Add the noisy data to the informative features\nX = np.hstack((X, E))\n\n# Split dataset to select feature and evaluate the classifier\nX_train, X_test, y_train, y_test = train_test_split(X, y, stratify=y, random_state=0)"
      ]
    },
    {
      "cell_type": "markdown",
      "metadata": {},
      "source": [
        "## \u0627\u062e\u062a\u064a\u0627\u0631 \u0627\u0644\u0645\u064a\u0632\u0627\u062a \u0623\u062d\u0627\u062f\u064a \u0627\u0644\u0645\u062a\u063a\u064a\u0631\n\n\u0627\u062e\u062a\u064a\u0627\u0631 \u0627\u0644\u0645\u064a\u0632\u0627\u062a \u0623\u062d\u0627\u062f\u064a \u0627\u0644\u0645\u062a\u063a\u064a\u0631 \u0645\u0639 \u0627\u062e\u062a\u0628\u0627\u0631 F \u0644\u062a\u0633\u062c\u064a\u0644 \u0627\u0644\u0645\u064a\u0632\u0627\u062a.\n\u0646\u0633\u062a\u062e\u062f\u0645 \u062f\u0627\u0644\u0629 \u0627\u0644\u0627\u062e\u062a\u064a\u0627\u0631 \u0627\u0644\u0627\u0641\u062a\u0631\u0627\u0636\u064a\u0629 \u0644\u062a\u062d\u062f\u064a\u062f\n\u0623\u0647\u0645 \u0623\u0631\u0628\u0639 \u0645\u064a\u0632\u0627\u062a.\n\n"
      ]
    },
    {
      "cell_type": "code",
      "execution_count": null,
      "metadata": {
        "collapsed": false
      },
      "outputs": [],
      "source": [
        "from sklearn.feature_selection import SelectKBest, f_classif\n\nselector = SelectKBest(f_classif, k=4)\nselector.fit(X_train, y_train)\nscores = -np.log10(selector.pvalues_)\nscores /= scores.max()"
      ]
    },
    {
      "cell_type": "code",
      "execution_count": null,
      "metadata": {
        "collapsed": false
      },
      "outputs": [],
      "source": [
        "import matplotlib.pyplot as plt\n\nX_indices = np.arange(X.shape[-1])\nplt.figure(1)\nplt.clf()\nplt.bar(X_indices - 0.05, scores, width=0.2)\nplt.title(\"\u062f\u0631\u062c\u0629 \u0627\u0644\u0645\u064a\u0632\u0629 \u0623\u062d\u0627\u062f\u064a\u0629 \u0627\u0644\u0645\u062a\u063a\u064a\u0631\")\nplt.xlabel(\"\u0631\u0642\u0645 \u0627\u0644\u0645\u064a\u0632\u0629\")\nplt.ylabel(r\"Univariate score ($-Log(p_{value})$)\")\nplt.show()"
      ]
    },
    {
      "cell_type": "markdown",
      "metadata": {},
      "source": [
        "\u0641\u064a \u0627\u0644\u0645\u062c\u0645\u0648\u0639\u0629 \u0627\u0644\u0643\u0644\u064a\u0629 \u0645\u0646 \u0627\u0644\u0645\u064a\u0632\u0627\u062a\u060c \u0641\u0642\u0637 4 \u0645\u0646 \u0627\u0644\u0645\u064a\u0632\u0627\u062a \u0627\u0644\u0623\u0635\u0644\u064a\u0629 \u0645\u0647\u0645\u0629.\n\u064a\u0645\u0643\u0646\u0646\u0627 \u0623\u0646 \u0646\u0631\u0649 \u0623\u0646 \u0644\u062f\u064a\u0647\u0645 \u0623\u0639\u0644\u0649 \u062f\u0631\u062c\u0629 \u0645\u0639 \u0627\u062e\u062a\u064a\u0627\u0631 \u0627\u0644\u0645\u064a\u0632\u0627\u062a \u0623\u062d\u0627\u062f\u064a \u0627\u0644\u0645\u062a\u063a\u064a\u0631.\n\n"
      ]
    },
    {
      "cell_type": "markdown",
      "metadata": {},
      "source": [
        "## \u0627\u0644\u0645\u0642\u0627\u0631\u0646\u0629 \u0645\u0639 SVMs\n\n\u0628\u062f\u0648\u0646 \u0627\u062e\u062a\u064a\u0627\u0631 \u0627\u0644\u0645\u064a\u0632\u0627\u062a \u0623\u062d\u0627\u062f\u064a \u0627\u0644\u0645\u062a\u063a\u064a\u0631\n\n"
      ]
    },
    {
      "cell_type": "code",
      "execution_count": null,
      "metadata": {
        "collapsed": false
      },
      "outputs": [],
      "source": [
        "from sklearn.pipeline import make_pipeline\nfrom sklearn.preprocessing import MinMaxScaler\nfrom sklearn.svm import LinearSVC\n\nclf = make_pipeline(MinMaxScaler(), LinearSVC())\nclf.fit(X_train, y_train)\nprint(\n    \"\u062f\u0642\u0629 \u0627\u0644\u062a\u0635\u0646\u064a\u0641 \u0628\u062f\u0648\u0646 \u0627\u062e\u062a\u064a\u0627\u0631 \u0627\u0644\u0645\u064a\u0632\u0627\u062a: {:.3f}\".format(\n        clf.score(X_test, y_test)\n    )\n)\n\nsvm_weights = np.abs(clf[-1].coef_).sum(axis=0)\nsvm_weights /= svm_weights.sum()"
      ]
    },
    {
      "cell_type": "markdown",
      "metadata": {},
      "source": [
        "\u0628\u0639\u062f \u0627\u062e\u062a\u064a\u0627\u0631 \u0627\u0644\u0645\u064a\u0632\u0627\u062a \u0623\u062d\u0627\u062f\u064a \u0627\u0644\u0645\u062a\u063a\u064a\u0631\n\n"
      ]
    },
    {
      "cell_type": "code",
      "execution_count": null,
      "metadata": {
        "collapsed": false
      },
      "outputs": [],
      "source": [
        "clf_selected = make_pipeline(SelectKBest(f_classif, k=4), MinMaxScaler(), LinearSVC())\nclf_selected.fit(X_train, y_train)\nprint(\n    \"\u062f\u0642\u0629 \u0627\u0644\u062a\u0635\u0646\u064a\u0641 \u0628\u0639\u062f \u0627\u062e\u062a\u064a\u0627\u0631 \u0627\u0644\u0645\u064a\u0632\u0627\u062a \u0623\u062d\u0627\u062f\u064a \u0627\u0644\u0645\u062a\u063a\u064a\u0631: {:.3f}\".format(\n        clf_selected.score(X_test, y_test)\n    )\n)\n\nsvm_weights_selected = np.abs(clf_selected[-1].coef_).sum(axis=0)\nsvm_weights_selected /= svm_weights_selected.sum()"
      ]
    },
    {
      "cell_type": "code",
      "execution_count": null,
      "metadata": {
        "collapsed": false
      },
      "outputs": [],
      "source": [
        "plt.bar(\n    X_indices - 0.45, scores, width=0.2, label=r\"Univariate score ($-Log(p_{value})$)\"\n)\n\nplt.bar(X_indices - 0.25, svm_weights, width=0.2, label=\"SVM weight\")\n\nplt.bar(\n    X_indices[selector.get_support()] - 0.05,\n    svm_weights_selected,\n    width=0.2,\n    label=\"SVM weights after selection\",\n)\n\nplt.title(\"\u0645\u0642\u0627\u0631\u0646\u0629 \u0627\u062e\u062a\u064a\u0627\u0631 \u0627\u0644\u0645\u064a\u0632\u0627\u062a\")\nplt.xlabel(\"\u0631\u0642\u0645 \u0627\u0644\u0645\u064a\u0632\u0629\")\nplt.yticks(())\nplt.axis(\"tight\")\nplt.legend(loc=\"upper right\")\nplt.show()"
      ]
    },
    {
      "cell_type": "markdown",
      "metadata": {},
      "source": [
        "\u0628\u062f\u0648\u0646 \u0627\u062e\u062a\u064a\u0627\u0631 \u0627\u0644\u0645\u064a\u0632\u0627\u062a \u0623\u062d\u0627\u062f\u064a \u0627\u0644\u0645\u062a\u063a\u064a\u0631\u060c \u062a\u0639\u064a\u0646 SVM \u0648\u0632\u0646\u064b\u0627 \u0643\u0628\u064a\u0631\u064b\u0627\n\u0644\u0623\u0648\u0644 4 \u0645\u064a\u0632\u0627\u062a \u0623\u0635\u0644\u064a\u0629 \u0645\u0647\u0645\u0629\u060c \u0648\u0644\u0643\u0646\u0647\u0627 \u062a\u062e\u062a\u0627\u0631 \u0623\u064a\u0636\u064b\u0627 \u0627\u0644\u0639\u062f\u064a\u062f \u0645\u0646\n\u0627\u0644\u0645\u064a\u0632\u0627\u062a \u063a\u064a\u0631 \u0627\u0644\u0645\u0639\u0644\u0648\u0645\u0627\u062a\u064a\u0629. \u062a\u0637\u0628\u064a\u0642 \u0627\u062e\u062a\u064a\u0627\u0631 \u0627\u0644\u0645\u064a\u0632\u0627\u062a \u0623\u062d\u0627\u062f\u064a \u0627\u0644\u0645\u062a\u063a\u064a\u0631 \u0642\u0628\u0644\nSVM \u064a\u0632\u064a\u062f \u0645\u0646 \u0648\u0632\u0646 SVM \u0627\u0644\u0645\u0646\u0633\u0648\u0628 \u0625\u0644\u0649 \u0627\u0644\u0645\u064a\u0632\u0627\u062a \u0627\u0644\u0645\u0647\u0645\u0629\u060c\n\u0648\u0628\u0627\u0644\u062a\u0627\u0644\u064a \u0633\u064a\u062d\u0633\u0646 \u0627\u0644\u062a\u0635\u0646\u064a\u0641.\n\n"
      ]
    }
  ],
  "metadata": {
    "kernelspec": {
      "display_name": "Python 3",
      "language": "python",
      "name": "python3"
    },
    "language_info": {
      "codemirror_mode": {
        "name": "ipython",
        "version": 3
      },
      "file_extension": ".py",
      "mimetype": "text/x-python",
      "name": "python",
      "nbconvert_exporter": "python",
      "pygments_lexer": "ipython3",
      "version": "3.10.13"
    }
  },
  "nbformat": 4,
  "nbformat_minor": 0
}