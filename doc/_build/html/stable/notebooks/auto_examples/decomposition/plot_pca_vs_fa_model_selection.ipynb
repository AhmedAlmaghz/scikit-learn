{
  "cells": [
    {
      "cell_type": "markdown",
      "metadata": {},
      "source": [
        "\n# \u0627\u062e\u062a\u064a\u0627\u0631 \u0627\u0644\u0646\u0645\u0648\u0630\u062c \u0628\u0627\u0633\u062a\u062e\u062f\u0627\u0645 \u0627\u0644\u062a\u062d\u0644\u064a\u0644 \u0627\u0644\u0631\u0626\u064a\u0633\u064a \u0644\u0644\u0645\u0643\u0648\u0646\u0627\u062a \u0627\u0644\u0627\u062d\u062a\u0645\u0627\u0644\u064a \u0648\u062a\u062d\u0644\u064a\u0644 \u0627\u0644\u0639\u0648\u0627\u0645\u0644 (FA)\n\n\u0627\u0644\u062a\u062d\u0644\u064a\u0644 \u0627\u0644\u0631\u0626\u064a\u0633\u064a \u0644\u0644\u0645\u0643\u0648\u0646\u0627\u062a \u0627\u0644\u0627\u062d\u062a\u0645\u0627\u0644\u064a \u0648\u062a\u062d\u0644\u064a\u0644 \u0627\u0644\u0639\u0648\u0627\u0645\u0644 \u0647\u0645\u0627 \u0646\u0645\u0648\u0630\u062c\u0627\u0646 \u0627\u062d\u062a\u0645\u0627\u0644\u064a\u0627\u0646.\n\u0648\u0627\u0644\u0646\u062a\u064a\u062c\u0629 \u0647\u064a \u0623\u0646\u0647 \u064a\u0645\u0643\u0646 \u0627\u0633\u062a\u062e\u062f\u0627\u0645 \u0627\u062d\u062a\u0645\u0627\u0644\u064a\u0629 \u0627\u0644\u0628\u064a\u0627\u0646\u0627\u062a \u0627\u0644\u062c\u062f\u064a\u062f\u0629\n\u0644\u0627\u062e\u062a\u064a\u0627\u0631 \u0627\u0644\u0646\u0645\u0648\u0630\u062c \u0648\u062a\u0642\u062f\u064a\u0631 \u0627\u0644\u062a\u0628\u0627\u064a\u0646.\n\u0647\u0646\u0627 \u0646\u0642\u0627\u0631\u0646 \u0628\u064a\u0646 \u0627\u0644\u062a\u062d\u0644\u064a\u0644 \u0627\u0644\u0631\u0626\u064a\u0633\u064a \u0644\u0644\u0645\u0643\u0648\u0646\u0627\u062a \u0648\u062a\u062d\u0644\u064a\u0644 \u0627\u0644\u0639\u0648\u0627\u0645\u0644 \u0628\u0627\u0633\u062a\u062e\u062f\u0627\u0645 \u0627\u0644\u062a\u062d\u0642\u0642 \u0627\u0644\u0645\u062a\u0642\u0627\u0637\u0639 \u0639\u0644\u0649 \u0627\u0644\u0628\u064a\u0627\u0646\u0627\u062a \u0645\u0646\u062e\u0641\u0636\u0629 \u0627\u0644\u0631\u062a\u0628\u0629 \u0627\u0644\u062a\u064a \u062a\u062a\u0639\u0631\u0636 \u0644\u0644\u062a\u0634\u0648\u064a\u0634\n\u0628\u0636\u0648\u0636\u0627\u0621 \u0645\u062a\u0645\u0627\u062b\u0644\u0629 (\u062a\u0643\u0648\u0646 \u062a\u0628\u0627\u064a\u0646 \u0627\u0644\u0636\u0648\u0636\u0627\u0621\n\u0646\u0641\u0633 \u0627\u0644\u0634\u064a\u0621 \u0644\u0643\u0644 \u0645\u064a\u0632\u0629) \u0623\u0648 \u0627\u0644\u0636\u0648\u0636\u0627\u0621 \u063a\u064a\u0631 \u0627\u0644\u0645\u062a\u0645\u0627\u062b\u0644\u0629 (\u062a\u0643\u0648\u0646 \u062a\u0628\u0627\u064a\u0646 \u0627\u0644\u0636\u0648\u0636\u0627\u0621\n\u0645\u062e\u062a\u0644\u0641\u064b\u0627 \u0644\u0643\u0644 \u0645\u064a\u0632\u0629). \u0641\u064a \u0627\u0644\u062e\u0637\u0648\u0629 \u0627\u0644\u062b\u0627\u0646\u064a\u0629\u060c \u0646\u0642\u0627\u0631\u0646 \u0628\u064a\u0646 \u0646\u0645\u0648\u0630\u062c\n\u0627\u0644\u0627\u062d\u062a\u0645\u0627\u0644\u064a\u0629 \u0645\u0639 \u0627\u0644\u0627\u062d\u062a\u0645\u0627\u0644\u0627\u062a \u0627\u0644\u062a\u064a \u062a\u0645 \u0627\u0644\u062d\u0635\u0648\u0644 \u0639\u0644\u064a\u0647\u0627 \u0645\u0646 \u0645\u0642\u062f\u0631\u0627\u062a \u0627\u0644\u062a\u0628\u0627\u064a\u0646 \u0627\u0644\u0627\u0646\u0643\u0645\u0627\u0634\u064a.\n\n\u064a\u0645\u0643\u0646 \u0645\u0644\u0627\u062d\u0638\u0629 \u0623\u0646\u0647 \u0645\u0639 \u0627\u0644\u0636\u0648\u0636\u0627\u0621 \u0627\u0644\u0645\u062a\u0645\u0627\u062b\u0644\u0629\u060c \u064a\u0646\u062c\u062d \u0643\u0644 \u0645\u0646 \u062a\u062d\u0644\u064a\u0644 \u0627\u0644\u0639\u0648\u0627\u0645\u0644 \u0648\u0627\u0644\u062a\u062d\u0644\u064a\u0644 \u0627\u0644\u0631\u0626\u064a\u0633\u064a \u0644\u0644\u0645\u0643\u0648\u0646\u0627\u062a\n\u0641\u064a \u0627\u0633\u062a\u0639\u0627\u062f\u0629 \u062d\u062c\u0645 \u0627\u0644\u0641\u0636\u0627\u0621 \u0645\u0646\u062e\u0641\u0636 \u0627\u0644\u0631\u062a\u0628\u0629. \u0627\u0644\u0627\u062d\u062a\u0645\u0627\u0644\u064a\u0629 \u0645\u0639 \u0627\u0644\u062a\u062d\u0644\u064a\u0644 \u0627\u0644\u0631\u0626\u064a\u0633\u064a \u0644\u0644\u0645\u0643\u0648\u0646\u0627\u062a\n\u0623\u0639\u0644\u0649 \u0645\u0646 \u062a\u062d\u0644\u064a\u0644 \u0627\u0644\u0639\u0648\u0627\u0645\u0644 \u0641\u064a \u0647\u0630\u0647 \u0627\u0644\u062d\u0627\u0644\u0629. \u0648\u0645\u0639 \u0630\u0644\u0643\u060c \u064a\u0641\u0634\u0644 \u0627\u0644\u062a\u062d\u0644\u064a\u0644 \u0627\u0644\u0631\u0626\u064a\u0633\u064a \u0644\u0644\u0645\u0643\u0648\u0646\u0627\u062a \u0648\u064a\u0628\u0627\u0644\u063a \u0641\u064a \u062a\u0642\u062f\u064a\u0631\n\u0627\u0644\u0631\u062a\u0628\u0629 \u0639\u0646\u062f \u0648\u062c\u0648\u062f \u0636\u0648\u0636\u0627\u0621 \u063a\u064a\u0631 \u0645\u062a\u0645\u0627\u062b\u0644\u0629. \u0641\u064a \u0638\u0644 \u0627\u0644\u0638\u0631\u0648\u0641 \u0627\u0644\u0645\u0646\u0627\u0633\u0628\u0629 (\u0627\u062e\u062a\u064a\u0627\u0631 \u0639\u062f\u062f \u0627\u0644\u0645\u0643\u0648\u0646\u0627\u062a)\u060c \u0627\u0644\u0628\u064a\u0627\u0646\u0627\u062a \u0627\u0644\u0645\u062d\u062c\u0648\u0628\u0629\n\u0645\u0646 \u0627\u0644\u0645\u0631\u062c\u062d \u0623\u0646 \u062a\u0643\u0648\u0646 \u0623\u0643\u062b\u0631 \u0627\u0646\u062e\u0641\u0627\u0636\u064b\u0627 \u0641\u064a \u0646\u0645\u0627\u0630\u062c \u0627\u0644\u0631\u062a\u0628\u0629 \u0645\u0646 \u0646\u0645\u0627\u0630\u062c \u0627\u0644\u0627\u0646\u0643\u0645\u0627\u0634.\n\n\u064a\u062a\u0645 \u0623\u064a\u0636\u064b\u0627 \u0645\u0642\u0627\u0631\u0646\u0629 \u0627\u0644\u062a\u0642\u062f\u064a\u0631 \u0627\u0644\u062a\u0644\u0642\u0627\u0626\u064a \u0645\u0646\n\u0627\u0644\u0627\u062e\u062a\u064a\u0627\u0631 \u0627\u0644\u062a\u0644\u0642\u0627\u0626\u064a \u0644\u0644\u0623\u0628\u0639\u0627\u062f \u0644\u0644\u062a\u062d\u0644\u064a\u0644 \u0627\u0644\u0631\u0626\u064a\u0633\u064a \u0644\u0644\u0645\u0643\u0648\u0646\u0627\u062a. NIPS 2000: 598-604\n\u0628\u0648\u0627\u0633\u0637\u0629 \u062a\u0648\u0645\u0627\u0633 \u0628. \u0645\u064a\u0646\u0643\u0627.\n"
      ]
    },
    {
      "cell_type": "code",
      "execution_count": null,
      "metadata": {
        "collapsed": false
      },
      "outputs": [],
      "source": [
        "# \u0627\u0644\u0645\u0624\u0644\u0641\u0648\u0646: \u0645\u0637\u0648\u0631\u064a scikit-learn\n# \u0645\u0639\u0631\u0641 \u0627\u0644\u062a\u0631\u062e\u064a\u0635: BSD-3-Clause"
      ]
    },
    {
      "cell_type": "markdown",
      "metadata": {},
      "source": [
        "## \u0625\u0646\u0634\u0627\u0621 \u0627\u0644\u0628\u064a\u0627\u0646\u0627\u062a\n\n"
      ]
    },
    {
      "cell_type": "code",
      "execution_count": null,
      "metadata": {
        "collapsed": false
      },
      "outputs": [],
      "source": [
        "from sklearn.model_selection import GridSearchCV, cross_val_score\nfrom sklearn.decomposition import PCA, FactorAnalysis\nfrom sklearn.covariance import LedoitWolf, ShrunkCovariance\nimport matplotlib.pyplot as plt\nimport numpy as np\nfrom scipy import linalg\n\nn_samples, n_features, rank = 500, 25, 5\nsigma = 1.0\nrng = np.random.RandomState(42)\nU, _, _ = linalg.svd(rng.randn(n_features, n_features))\nX = np.dot(rng.randn(n_samples, rank), U[:, :rank].T)\n\n# \u0625\u0636\u0627\u0641\u0629 \u0636\u0648\u0636\u0627\u0621 \u0645\u062a\u0645\u0627\u062b\u0644\u0629\nX_homo = X + sigma * rng.randn(n_samples, n_features)\n\n# \u0625\u0636\u0627\u0641\u0629 \u0636\u0648\u0636\u0627\u0621 \u063a\u064a\u0631 \u0645\u062a\u0645\u0627\u062b\u0644\u0629\nsigmas = sigma * rng.rand(n_features) + sigma / 2.0\nX_hetero = X + rng.randn(n_samples, n_features) * sigmas"
      ]
    },
    {
      "cell_type": "markdown",
      "metadata": {},
      "source": [
        "## \u0645\u0644\u0627\u0621\u0645\u0629 \u0627\u0644\u0646\u0645\u0627\u0630\u062c\n\n"
      ]
    },
    {
      "cell_type": "code",
      "execution_count": null,
      "metadata": {
        "collapsed": false
      },
      "outputs": [],
      "source": [
        "n_components = np.arange(0, n_features, 5)  # \u0627\u0644\u062e\u064a\u0627\u0631\u0627\u062a \u0644\u0640 n_components\n\n\ndef compute_scores(X):\n    pca = PCA(svd_solver=\"full\")\n    fa = FactorAnalysis()\n\n    pca_scores, fa_scores = [], []\n    for n in n_components:\n        pca.n_components = n\n        fa.n_components = n\n        pca_scores.append(np.mean(cross_val_score(pca, X)))\n        fa_scores.append(np.mean(cross_val_score(fa, X)))\n\n    return pca_scores, fa_scores\n\n\ndef shrunk_cov_score(X):\n    shrinkages = np.logspace(-2, 0, 30)\n    cv = GridSearchCV(ShrunkCovariance(), {\"shrinkage\": shrinkages})\n    return np.mean(cross_val_score(cv.fit(X).best_estimator_, X))\n\n\ndef lw_score(X):\n    return np.mean(cross_val_score(LedoitWolf(), X))\n\n\nfor X, title in [(X_homo, \"Homoscedastic Noise\"), (X_hetero, \"Heteroscedastic Noise\")]:\n    pca_scores, fa_scores = compute_scores(X)\n    n_components_pca = n_components[np.argmax(pca_scores)]\n    n_components_fa = n_components[np.argmax(fa_scores)]\n\n    pca = PCA(svd_solver=\"full\", n_components=\"mle\")\n    pca.fit(X)\n    n_components_pca_mle = pca.n_components_\n\n    print(\"best n_components by PCA CV = %d\" % n_components_pca)\n    print(\"best n_components by FactorAnalysis CV = %d\" % n_components_fa)\n    print(\"best n_components by PCA MLE = %d\" % n_components_pca_mle)\n\n    plt.figure()\n    plt.plot(n_components, pca_scores, \"b\", label=\"PCA scores\")\n    plt.plot(n_components, fa_scores, \"r\", label=\"FA scores\")\n    plt.axvline(rank, color=\"g\", label=\"TRUTH: %d\" % rank, linestyle=\"-\")\n    plt.axvline(\n        n_components_pca,\n        color=\"b\",\n        label=\"PCA CV: %d\" % n_components_pca,\n        linestyle=\"--\",\n    )\n    plt.axvline(\n        n_components_fa,\n        color=\"r\",\n        label=\"FactorAnalysis CV: %d\" % n_components_fa,\n        linestyle=\"--\",\n    )\n    plt.axvline(\n        n_components_pca_mle,\n        color=\"k\",\n        label=\"PCA MLE: %d\" % n_components_pca_mle,\n        linestyle=\"--\",\n    )\n# compare with other covariance estimators\n    plt.axhline(\n        shrunk_cov_score(X),\n        color=\"violet\",\n        label=\"Shrunk Covariance MLE\",\n        linestyle=\"-.\",\n    )\n    plt.axhline(\n        lw_score(X),\n        color=\"orange\",\n        label=\"LedoitWolf MLE\" % n_components_pca_mle,\n        linestyle=\"-.\",\n    )\n\n    plt.xlabel(\"nb of components\")\n    plt.ylabel(\"CV scores\")\n    plt.legend(loc=\"lower right\")\n    plt.title(title)\n\nplt.show()"
      ]
    }
  ],
  "metadata": {
    "kernelspec": {
      "display_name": "Python 3",
      "language": "python",
      "name": "python3"
    },
    "language_info": {
      "codemirror_mode": {
        "name": "ipython",
        "version": 3
      },
      "file_extension": ".py",
      "mimetype": "text/x-python",
      "name": "python",
      "nbconvert_exporter": "python",
      "pygments_lexer": "ipython3",
      "version": "3.10.13"
    }
  },
  "nbformat": 4,
  "nbformat_minor": 0
}