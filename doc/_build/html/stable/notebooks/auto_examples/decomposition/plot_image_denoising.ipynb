{
  "cells": [
    {
      "cell_type": "markdown",
      "metadata": {},
      "source": [
        "\n# \u0625\u0632\u0627\u0644\u0629 \u062a\u0634\u0648\u064a\u0634 \u0627\u0644\u0635\u0648\u0631 \u0628\u0627\u0633\u062a\u062e\u062f\u0627\u0645 \u062a\u0639\u0644\u0645 \u0627\u0644\u0642\u0627\u0645\u0648\u0633\n\n\u0645\u062b\u0627\u0644 \u064a\u0642\u0627\u0631\u0646 \u062a\u0623\u062b\u064a\u0631 \u0625\u0639\u0627\u062f\u0629 \u0628\u0646\u0627\u0621 \u0623\u062c\u0632\u0627\u0621 \u0645\u0634\u0648\u0634\u0629\n\u0645\u0646 \u0635\u0648\u0631\u0629 \u0648\u062c\u0647 \u0631\u0627\u0643\u0648\u0646 \u0628\u0627\u0633\u062a\u062e\u062f\u0627\u0645 \u0623\u0648\u0644\u0627\u064b `DictionaryLearning` \u0639\u0628\u0631 \u0627\u0644\u0625\u0646\u062a\u0631\u0646\u062a\n\u0648\u0637\u0631\u0642 \u062a\u062d\u0648\u064a\u0644 \u0645\u062e\u062a\u0644\u0641\u0629.\n\n\u064a\u062a\u0645 \u0645\u0644\u0627\u0621\u0645\u0629 \u0627\u0644\u0642\u0627\u0645\u0648\u0633 \u0639\u0644\u0649 \u0627\u0644\u0646\u0635\u0641 \u0627\u0644\u0623\u064a\u0633\u0631 \u0627\u0644\u0645\u0634\u0648\u0647 \u0645\u0646 \u0627\u0644\u0635\u0648\u0631\u0629\u060c \u0648\n\u064a\u062a\u0645 \u0627\u0633\u062a\u062e\u062f\u0627\u0645\u0647 \u0644\u0627\u062d\u0642\u064b\u0627 \u0644\u0625\u0639\u0627\u062f\u0629 \u0628\u0646\u0627\u0621 \u0627\u0644\u0646\u0635\u0641 \u0627\u0644\u0623\u064a\u0645\u0646. \u0644\u0627\u062d\u0638 \u0623\u0646\u0647 \u064a\u0645\u0643\u0646 \u062a\u062d\u0642\u064a\u0642 \u0623\u062f\u0627\u0621 \u0623\u0641\u0636\u0644\n\u0639\u0646 \u0637\u0631\u064a\u0642 \u0645\u0644\u0627\u0621\u0645\u0629 \u0635\u0648\u0631\u0629 \u063a\u064a\u0631 \u0645\u0634\u0648\u0647\u0629 (\u0623\u064a\n\u0628\u062f\u0648\u0646 \u062a\u0634\u0648\u064a\u0634)\u060c \u0648\u0644\u0643\u0646\u0646\u0627 \u0647\u0646\u0627 \u0646\u0628\u062f\u0623 \u0645\u0646 \u0627\u0641\u062a\u0631\u0627\u0636 \u0623\u0646\u0647\u0627 \u063a\u064a\u0631\n\u0645\u062a\u0648\u0641\u0631\u0629.\n\n\u0645\u0646 \u0627\u0644\u0645\u0645\u0627\u0631\u0633\u0627\u062a \u0627\u0644\u0634\u0627\u0626\u0639\u0629 \u0644\u062a\u0642\u064a\u064a\u0645 \u0646\u062a\u0627\u0626\u062c \u0625\u0632\u0627\u0644\u0629 \u062a\u0634\u0648\u064a\u0634 \u0627\u0644\u0635\u0648\u0631 \u0647\u064a \u0627\u0644\u0646\u0638\u0631\n\u0625\u0644\u0649 \u0627\u0644\u0641\u0631\u0642 \u0628\u064a\u0646 \u0625\u0639\u0627\u062f\u0629 \u0627\u0644\u0628\u0646\u0627\u0621 \u0648\u0627\u0644\u0635\u0648\u0631\u0629 \u0627\u0644\u0623\u0635\u0644\u064a\u0629. \u0625\u0630\u0627 \u0643\u0627\u0646\u062a\n\u0625\u0639\u0627\u062f\u0629 \u0627\u0644\u0628\u0646\u0627\u0621 \u0645\u062b\u0627\u0644\u064a\u0629\u060c \u0641\u0633\u064a\u0628\u062f\u0648 \u0647\u0630\u0627 \u0648\u0643\u0623\u0646\u0647 \u0636\u0648\u0636\u0627\u0621 \u063a\u0627\u0648\u0633\u064a\u0629.\n\n\u064a\u0645\u0643\u0646 \u0645\u0644\u0627\u062d\u0638\u0629 \u0645\u0646 \u0627\u0644\u0631\u0633\u0648\u0645 \u0627\u0644\u0628\u064a\u0627\u0646\u064a\u0629 \u0623\u0646 \u0646\u062a\u0627\u0626\u062c `omp` \u0645\u0639 \u0627\u062b\u0646\u064a\u0646\n\u0645\u0646 \u0627\u0644\u0645\u0639\u0627\u0645\u0644\u0627\u062a \u063a\u064a\u0631 \u0627\u0644\u0635\u0641\u0631\u064a\u0629 \u0623\u0642\u0644 \u062a\u062d\u064a\u0632\u064b\u0627 \u0642\u0644\u064a\u0644\u0627\u064b \u0645\u0646 \u0627\u0644\u0627\u062d\u062a\u0641\u0627\u0638 \u0628\u0645\u0639\u0627\u0645\u0644 \u0648\u0627\u062d\u062f \u0641\u0642\u0637\n(\u062a\u0628\u062f\u0648 \u0627\u0644\u062d\u0648\u0627\u0641 \u0623\u0642\u0644 \u0628\u0631\u0648\u0632\u064b\u0627). \u0628\u0627\u0644\u0625\u0636\u0627\u0641\u0629 \u0625\u0644\u0649 \u0630\u0644\u0643\u060c \u0641\u0647\u064a \u0623\u0642\u0631\u0628 \u0625\u0644\u0649 \u0627\u0644\u062d\u0642\u064a\u0642\u0629\n\u0627\u0644\u0623\u0635\u0644\u064a\u0629 \u0641\u064a \u0642\u0627\u0639\u062f\u0629 Frobenius.\n\n\u0646\u062a\u064a\u062c\u0629 `least_angle_regression` \u0645\u062a\u062d\u064a\u0632\u0629 \u0628\u0634\u0643\u0644 \u0623\u0642\u0648\u0649:\n\u0627\u0644\u0641\u0631\u0642 \u064a\u0630\u0643\u0631\u0646\u0627 \u0628\u0642\u064a\u0645\u0629 \u0627\u0644\u0643\u062b\u0627\u0641\u0629 \u0627\u0644\u0645\u062d\u0644\u064a\u0629 \u0644\u0644\u0635\u0648\u0631\u0629 \u0627\u0644\u0623\u0635\u0644\u064a\u0629.\n\n\u0645\u0646 \u0627\u0644\u0648\u0627\u0636\u062d \u0623\u0646 \u0627\u0644\u0639\u062a\u0628\u0629 \u0644\u064a\u0633\u062a \u0645\u0641\u064a\u062f\u0629 \u0644\u0625\u0632\u0627\u0644\u0629 \u0627\u0644\u062a\u0634\u0648\u064a\u0634\u060c \u0648\u0644\u0643\u0646\u0647\u0627 \u0647\u0646\u0627 \u0644\u0625\u0638\u0647\u0627\u0631\n\u0623\u0646\u0647 \u064a\u0645\u0643\u0646\u0647\u0627 \u0625\u0646\u062a\u0627\u062c \u0645\u062e\u0631\u062c\u0627\u062a \u0645\u0648\u062d\u064a\u0629 \u0628\u0633\u0631\u0639\u0629 \u0639\u0627\u0644\u064a\u0629 \u062c\u062f\u064b\u0627\u060c \u0648\u0628\u0627\u0644\u062a\u0627\u0644\u064a \u062a\u0643\u0648\u0646 \u0645\u0641\u064a\u062f\u0629\n\u0644\u0644\u0645\u0647\u0627\u0645 \u0627\u0644\u0623\u062e\u0631\u0649 \u0645\u062b\u0644 \u062a\u0635\u0646\u064a\u0641 \u0627\u0644\u0643\u0627\u0626\u0646\u0627\u062a\u060c \u062d\u064a\u062b \u0644\u0627 \u064a\u0631\u062a\u0628\u0637 \u0627\u0644\u0623\u062f\u0627\u0621\n\u0628\u0627\u0644\u0636\u0631\u0648\u0631\u0629 \u0628\u0627\u0644\u062a\u0635\u0648\u0631.\n"
      ]
    },
    {
      "cell_type": "code",
      "execution_count": null,
      "metadata": {
        "collapsed": false
      },
      "outputs": [],
      "source": [
        "# Authors: The scikit-learn developers\n# SPDX-License-Identifier: BSD-3-Clause"
      ]
    },
    {
      "cell_type": "markdown",
      "metadata": {},
      "source": [
        "## \u0625\u0646\u0634\u0627\u0621 \u0635\u0648\u0631\u0629 \u0645\u0634\u0648\u0647\u0629\n\n"
      ]
    },
    {
      "cell_type": "code",
      "execution_count": null,
      "metadata": {
        "collapsed": false
      },
      "outputs": [],
      "source": [
        "import numpy as np\n\ntry:  # Scipy >= 1.10\n    from scipy.datasets import face\nexcept ImportError:\n    from scipy.misc import face\n\nraccoon_face = face(gray=True)\n\n# \u062a\u062d\u0648\u064a\u0644 \u0645\u0646 \u062a\u0645\u062b\u064a\u0644 uint8 \u0628\u0642\u064a\u0645 \u0628\u064a\u0646 0 \u0648 255 \u0625\u0644\u0649\n# \u062a\u0645\u062b\u064a\u0644 \u0641\u0627\u0635\u0644\u0629 \u0639\u0627\u0626\u0645\u0629 \u0628\u0642\u064a\u0645 \u0628\u064a\u0646 0 \u0648 1.\nraccoon_face = raccoon_face / 255.0\n\n# \u062a\u0642\u0644\u064a\u0644 \u0627\u0644\u0639\u064a\u0646\u0627\u062a \u0644\u0633\u0631\u0639\u0629 \u0623\u0639\u0644\u0649\nraccoon_face = (\n    raccoon_face[::4, ::4]\n    + raccoon_face[1::4, ::4]\n    + raccoon_face[::4, 1::4]\n    + raccoon_face[1::4, 1::4]\n)\nraccoon_face /= 4.0\nheight, width = raccoon_face.shape\n\n# \u062a\u0634\u0648\u064a\u0647 \u0627\u0644\u0646\u0635\u0641 \u0627\u0644\u0623\u064a\u0645\u0646 \u0645\u0646 \u0627\u0644\u0635\u0648\u0631\u0629\nprint(\"\u062a\u0634\u0648\u064a\u0647 \u0627\u0644\u0635\u0648\u0631\u0629...\")\ndistorted = raccoon_face.copy()\ndistorted[:, width // 2 :] += 0.075 * np.random.randn(height, width // 2)"
      ]
    },
    {
      "cell_type": "markdown",
      "metadata": {},
      "source": [
        "## \u0639\u0631\u0636 \u0627\u0644\u0635\u0648\u0631\u0629 \u0627\u0644\u0645\u0634\u0648\u0647\u0629\n\n"
      ]
    },
    {
      "cell_type": "code",
      "execution_count": null,
      "metadata": {
        "collapsed": false
      },
      "outputs": [],
      "source": [
        "import matplotlib.pyplot as plt\n\n\ndef show_with_diff(image, reference, title):\n    \"\"\"\u062f\u0627\u0644\u0629 \u0645\u0633\u0627\u0639\u062f\u0629 \u0644\u0639\u0631\u0636 \u0625\u0632\u0627\u0644\u0629 \u0627\u0644\u062a\u0634\u0648\u064a\u0634\"\"\"\n    plt.figure(figsize=(5, 3.3))\n    plt.subplot(1, 2, 1)\n    plt.title(\"\u0627\u0644\u0635\u0648\u0631\u0629\")\n    plt.imshow(image, vmin=0, vmax=1, cmap=plt.cm.gray, interpolation=\"nearest\")\n    plt.xticks(())\n    plt.yticks(())\n    plt.subplot(1, 2, 2)\n    difference = image - reference\n\n    plt.title(\"\u0627\u0644\u0641\u0631\u0642 (\u0627\u0644\u0642\u0627\u0639\u062f\u0629: %.2f)\" % np.sqrt(np.sum(difference**2)))\n    plt.imshow(\n        difference, vmin=-0.5, vmax=0.5, cmap=plt.cm.PuOr, interpolation=\"nearest\"\n    )\n    plt.xticks(())\n    plt.yticks(())\n    plt.suptitle(title, size=16)\n    plt.subplots_adjust(0.02, 0.02, 0.98, 0.79, 0.02, 0.2)\n\n\nshow_with_diff(distorted, raccoon_face, \"\u0627\u0644\u0635\u0648\u0631\u0629 \u0627\u0644\u0645\u0634\u0648\u0647\u0629\")"
      ]
    },
    {
      "cell_type": "markdown",
      "metadata": {},
      "source": [
        "## \u0627\u0633\u062a\u062e\u0631\u0627\u062c \u0627\u0644\u0631\u0642\u0639 \u0627\u0644\u0645\u0631\u062c\u0639\u064a\u0629\n\n"
      ]
    },
    {
      "cell_type": "code",
      "execution_count": null,
      "metadata": {
        "collapsed": false
      },
      "outputs": [],
      "source": [
        "from time import time\n\nfrom sklearn.feature_extraction.image import extract_patches_2d\n\n# \u0627\u0633\u062a\u062e\u0631\u0627\u062c \u062c\u0645\u064a\u0639 \u0627\u0644\u0631\u0642\u0639 \u0627\u0644\u0645\u0631\u062c\u0639\u064a\u0629 \u0645\u0646 \u0627\u0644\u0646\u0635\u0641 \u0627\u0644\u0623\u064a\u0633\u0631 \u0645\u0646 \u0627\u0644\u0635\u0648\u0631\u0629\nprint(\"\u0627\u0633\u062a\u062e\u0631\u0627\u062c \u0627\u0644\u0631\u0642\u0639 \u0627\u0644\u0645\u0631\u062c\u0639\u064a\u0629...\")\nt0 = time()\npatch_size = (7, 7)\ndata = extract_patches_2d(distorted[:, : width // 2], patch_size)\ndata = data.reshape(data.shape[0], -1)\ndata -= np.mean(data, axis=0)\ndata /= np.std(data, axis=0)\nprint(f\"{data.shape[0]} \u0631\u0642\u0639\u0629 \u0645\u0633\u062a\u062e\u0631\u062c\u0629 \u0641\u064a %.2fs.\" % (time() - t0))"
      ]
    },
    {
      "cell_type": "markdown",
      "metadata": {},
      "source": [
        "## \u062a\u0639\u0644\u0645 \u0627\u0644\u0642\u0627\u0645\u0648\u0633 \u0645\u0646 \u0627\u0644\u0631\u0642\u0639 \u0627\u0644\u0645\u0631\u062c\u0639\u064a\u0629\n\n"
      ]
    },
    {
      "cell_type": "code",
      "execution_count": null,
      "metadata": {
        "collapsed": false
      },
      "outputs": [],
      "source": [
        "from sklearn.decomposition import MiniBatchDictionaryLearning\n\nprint(\"\u062a\u0639\u0644\u0645 \u0627\u0644\u0642\u0627\u0645\u0648\u0633...\")\nt0 = time()\ndico = MiniBatchDictionaryLearning(\n    # \u0632\u064a\u0627\u062f\u0629 \u0625\u0644\u0649 300 \u0644\u0644\u062d\u0635\u0648\u0644 \u0639\u0644\u0649 \u0646\u062a\u0627\u0626\u062c \u0639\u0627\u0644\u064a\u0629 \u0627\u0644\u062c\u0648\u062f\u0629 \u0639\u0644\u0649 \u062d\u0633\u0627\u0628 \u0623\u0648\u0642\u0627\u062a\n    # \u062a\u062f\u0631\u064a\u0628 \u0623\u0628\u0637\u0623.\n    n_components=50,\n    batch_size=200,\n    alpha=1.0,\n    max_iter=10,\n)\nV = dico.fit(data).components_\ndt = time() - t0\nprint(f\"{dico.n_iter_} \u062a\u0643\u0631\u0627\u0631 / {dico.n_steps_} \u062e\u0637\u0648\u0629 \u0641\u064a {dt:.2f}.\")\n\nplt.figure(figsize=(4.2, 4))\nfor i, comp in enumerate(V[:100]):\n    plt.subplot(10, 10, i + 1)\n    plt.imshow(comp.reshape(patch_size), cmap=plt.cm.gray_r, interpolation=\"nearest\")\n    plt.xticks(())\n    plt.yticks(())\nplt.suptitle(\n    \"\u0642\u0627\u0645\u0648\u0633 \u062a\u0645 \u062a\u0639\u0644\u0645\u0647 \u0645\u0646 \u0631\u0642\u0639 \u0627\u0644\u0648\u062c\u0647\\n\"\n    + \"\u0648\u0642\u062a \u0627\u0644\u062a\u062f\u0631\u064a\u0628 %.1fs \u0639\u0644\u0649 %d \u0631\u0642\u0639\u0629\" % (dt, len(data)),\n    fontsize=16,\n)\nplt.subplots_adjust(0.08, 0.02, 0.92, 0.85, 0.08, 0.23)"
      ]
    },
    {
      "cell_type": "markdown",
      "metadata": {},
      "source": [
        "## \u0627\u0633\u062a\u062e\u0631\u0627\u062c \u0627\u0644\u0631\u0642\u0639 \u0627\u0644\u0645\u0634\u0648\u0634\u0629 \u0648\u0625\u0639\u0627\u062f\u0629 \u0628\u0646\u0627\u0626\u0647\u0627 \u0628\u0627\u0633\u062a\u062e\u062f\u0627\u0645 \u0627\u0644\u0642\u0627\u0645\u0648\u0633\n\n"
      ]
    },
    {
      "cell_type": "code",
      "execution_count": null,
      "metadata": {
        "collapsed": false
      },
      "outputs": [],
      "source": [
        "from sklearn.feature_extraction.image import reconstruct_from_patches_2d\n\nprint(\"\u0627\u0633\u062a\u062e\u0631\u0627\u062c \u0627\u0644\u0631\u0642\u0639 \u0627\u0644\u0645\u0634\u0648\u0634\u0629... \")\nt0 = time()\ndata = extract_patches_2d(distorted[:, width // 2 :], patch_size)\ndata = data.reshape(data.shape[0], -1)\nintercept = np.mean(data, axis=0)\ndata -= intercept\nprint(\"\u062a\u0645 \u0641\u064a %.2fs.\" % (time() - t0))\n\ntransform_algorithms = [\n    (\n        \"\u0645\u0637\u0627\u0628\u0642\u0629 \u0627\u0644\u0645\u0633\u0627\u0631 \u0627\u0644\u0645\u062a\u0639\u0627\u0645\u062f\\n1 \u0630\u0631\u0629\",\n        \"omp\",\n        {\"transform_n_nonzero_coefs\": 1},\n    ),\n    (\n        \"\u0645\u0637\u0627\u0628\u0642\u0629 \u0627\u0644\u0645\u0633\u0627\u0631 \u0627\u0644\u0645\u062a\u0639\u0627\u0645\u062f\\n2 \u0630\u0631\u0629\",\n        \"omp\",\n        {\"transform_n_nonzero_coefs\": 2},\n    ),\n    (\n        \"\u0627\u0646\u062d\u062f\u0627\u0631 \u0627\u0644\u0632\u0627\u0648\u064a\u0629 \u0627\u0644\u0635\u063a\u0631\u0649\\n4 \u0630\u0631\u0627\u062a\",\n        \"lars\",\n        {\"transform_n_nonzero_coefs\": 4},\n    ),\n    (\"\u0639\u062a\u0628\u0629\\n alpha=0.1\", \"threshold\", {\"transform_alpha\": 0.1}),\n]\n\nreconstructions = {}\nfor title, transform_algorithm, kwargs in transform_algorithms:\n    print(title + \"...\")\n    reconstructions[title] = raccoon_face.copy()\n    t0 = time()\n    dico.set_params(transform_algorithm=transform_algorithm, **kwargs)\n    code = dico.transform(data)\n    patches = np.dot(code, V)\n\n    patches += intercept\n    patches = patches.reshape(len(data), *patch_size)\n    if transform_algorithm == \"threshold\":\n        patches -= patches.min()\n        patches /= patches.max()\n    reconstructions[title][:, width // 2 :] = reconstruct_from_patches_2d(\n        patches, (height, width // 2)\n    )\n    dt = time() - t0\n    print(\"\u062a\u0645 \u0641\u064a %.2fs.\" % dt)\n    show_with_diff(reconstructions[title], raccoon_face, title + \" (\u0627\u0644\u0648\u0642\u062a: %.1fs)\" % dt)\n\nplt.show()"
      ]
    }
  ],
  "metadata": {
    "kernelspec": {
      "display_name": "Python 3",
      "language": "python",
      "name": "python3"
    },
    "language_info": {
      "codemirror_mode": {
        "name": "ipython",
        "version": 3
      },
      "file_extension": ".py",
      "mimetype": "text/x-python",
      "name": "python",
      "nbconvert_exporter": "python",
      "pygments_lexer": "ipython3",
      "version": "3.10.13"
    }
  },
  "nbformat": 4,
  "nbformat_minor": 0
}