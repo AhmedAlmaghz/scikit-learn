{
  "cells": [
    {
      "cell_type": "markdown",
      "metadata": {},
      "source": [
        "\n# \u062a\u062d\u0644\u064a\u0644 \u0627\u0644\u0639\u0648\u0627\u0645\u0644 (\u0645\u0639 \u0627\u0644\u062f\u0648\u0631\u0627\u0646) \u0644\u062a\u0635\u0648\u0631 \u0627\u0644\u0623\u0646\u0645\u0627\u0637\n\n\u0639\u0646\u062f \u062f\u0631\u0627\u0633\u0629 \u0645\u062c\u0645\u0648\u0639\u0629 \u0628\u064a\u0627\u0646\u0627\u062a Iris\u060c \u0646\u0644\u0627\u062d\u0638 \u0623\u0646 \u0637\u0648\u0644 \u0627\u0644\u0633\u0628\u0644\u0629 \u0648\u0637\u0648\u0644 \u0627\u0644\u0628\u062a\u0644\u0629 \u0648\u0639\u0631\u0636 \u0627\u0644\u0628\u062a\u0644\u0629 \u0645\u062a\u0631\u0627\u0628\u0637\u0629 \u0628\u0634\u0643\u0644 \u0643\u0628\u064a\u0631. \u0639\u0631\u0636 \u0627\u0644\u0633\u0628\u0644\u0629 \u0623\u0642\u0644 \u062a\u0643\u0631\u0627\u0631\u0627\u064b. \u064a\u0645\u0643\u0646 \u0644\u062a\u0642\u0646\u064a\u0627\u062a \u062a\u062d\u0644\u064a\u0644 \u0627\u0644\u0645\u0635\u0641\u0648\u0641\u0627\u062a \u0627\u0644\u0643\u0634\u0641 \u0639\u0646 \u0647\u0630\u0647 \u0627\u0644\u0623\u0646\u0645\u0627\u0637 \u0627\u0644\u0643\u0627\u0645\u0646\u0629. \u0644\u0627 \u064a\u0624\u062f\u064a \u062a\u0637\u0628\u064a\u0642 \u0627\u0644\u062f\u0648\u0631\u0627\u0646 \u0639\u0644\u0649 \u0627\u0644\u0645\u0643\u0648\u0646\u0627\u062a \u0627\u0644\u0646\u0627\u062a\u062c\u0629 \u0625\u0644\u0649 \u062a\u062d\u0633\u064a\u0646 \u0627\u0644\u0642\u064a\u0645\u0629 \u0627\u0644\u062a\u0646\u0628\u0624\u064a\u0629 \u0644\u0644\u0645\u0633\u0627\u062d\u0629 \u0627\u0644\u0643\u0627\u0645\u0646\u0629 \u0627\u0644\u0645\u0633\u062a\u0646\u0628\u0637\u0629 \u0628\u0634\u0643\u0644 \u062c\u0648\u0647\u0631\u064a\u060c \u0648\u0644\u0643\u0646 \u064a\u0645\u0643\u0646 \u0623\u0646 \u064a\u0633\u0627\u0639\u062f \u0641\u064a \u062a\u0635\u0648\u0631 \u0628\u0646\u064a\u062a\u0647\u0627\u061b \u0647\u0646\u0627\u060c \u0639\u0644\u0649 \u0633\u0628\u064a\u0644 \u0627\u0644\u0645\u062b\u0627\u0644\u060c \u064a\u062c\u062f \u062f\u0648\u0631\u0627\u0646 Varimax\u060c \u0648\u0627\u0644\u0630\u064a \u064a\u062a\u0645 \u0627\u0644\u0639\u062b\u0648\u0631 \u0639\u0644\u064a\u0647 \u0639\u0646 \u0637\u0631\u064a\u0642 \u062a\u0639\u0638\u064a\u0645 \u0627\u0644\u062a\u0628\u0627\u064a\u0646 \u0627\u0644\u062a\u0631\u0628\u064a\u0639\u064a \u0644\u0644\u0623\u0648\u0632\u0627\u0646\u060c \u0628\u0646\u064a\u0629 \u062d\u064a\u062b \u064a\u062d\u0645\u0644 \u0627\u0644\u0645\u0643\u0648\u0646 \u0627\u0644\u062b\u0627\u0646\u064a \u0641\u0642\u0637 \u0628\u0634\u0643\u0644 \u0625\u064a\u062c\u0627\u0628\u064a \u0639\u0644\u0649 \u0639\u0631\u0636 \u0627\u0644\u0633\u0628\u0644\u0629.\n"
      ]
    },
    {
      "cell_type": "code",
      "execution_count": null,
      "metadata": {
        "collapsed": false
      },
      "outputs": [],
      "source": [
        "# \u0627\u0644\u0645\u0624\u0644\u0641\u0648\u0646: \u0645\u0637\u0648\u0631\u064a scikit-learn\n# \u0645\u0639\u0631\u0641 \u0627\u0644\u062a\u0631\u062e\u064a\u0635: BSD-3-Clause\n\nimport matplotlib.pyplot as plt\nimport numpy as np\n\nfrom sklearn.datasets import load_iris\nfrom sklearn.decomposition import PCA, FactorAnalysis\nfrom sklearn.preprocessing import StandardScaler"
      ]
    },
    {
      "cell_type": "markdown",
      "metadata": {},
      "source": [
        "\u062a\u062d\u0645\u064a\u0644 \u0628\u064a\u0627\u0646\u0627\u062a Iris\n\n"
      ]
    },
    {
      "cell_type": "code",
      "execution_count": null,
      "metadata": {
        "collapsed": false
      },
      "outputs": [],
      "source": [
        "data = load_iris()\nX = StandardScaler().fit_transform(data[\"data\"])\nfeature_names = data[\"feature_names\"]"
      ]
    },
    {
      "cell_type": "markdown",
      "metadata": {},
      "source": [
        "\u0631\u0633\u0645 \u0645\u0635\u0641\u0648\u0641\u0629 \u0627\u0631\u062a\u0628\u0627\u0637 \u0645\u064a\u0632\u0627\u062a Iris\n\n"
      ]
    },
    {
      "cell_type": "code",
      "execution_count": null,
      "metadata": {
        "collapsed": false
      },
      "outputs": [],
      "source": [
        "ax = plt.axes()\n\nim = ax.imshow(np.corrcoef(X.T), cmap=\"RdBu_r\", vmin=-1, vmax=1)\n\nax.set_xticks([0, 1, 2, 3])\nax.set_xticklabels(list(feature_names), rotation=90)\nax.set_yticks([0, 1, 2, 3])\nax.set_yticklabels(list(feature_names))\n\nplt.colorbar(im).ax.set_ylabel(\"$r$\", rotation=0)\nax.set_title(\"\u0645\u0635\u0641\u0648\u0641\u0629 \u0627\u0631\u062a\u0628\u0627\u0637 \u0645\u064a\u0632\u0627\u062a Iris\")\nplt.tight_layout()"
      ]
    },
    {
      "cell_type": "markdown",
      "metadata": {},
      "source": [
        "\u062a\u0634\u063a\u064a\u0644 \u062a\u062d\u0644\u064a\u0644 \u0627\u0644\u0639\u0648\u0627\u0645\u0644 \u0645\u0639 \u062f\u0648\u0631\u0627\u0646 Varimax\n\n"
      ]
    },
    {
      "cell_type": "code",
      "execution_count": null,
      "metadata": {
        "collapsed": false
      },
      "outputs": [],
      "source": [
        "n_comps = 2\n\nmethods = [\n    (\"PCA\", PCA()),\n    (\"Unrotated FA\", FactorAnalysis()),\n    (\"Varimax FA\", FactorAnalysis(rotation=\"varimax\")),\n]\nfig, axes = plt.subplots(ncols=len(methods), figsize=(10, 8), sharey=True)\n\nfor ax, (method, fa) in zip(axes, methods):\n    fa.set_params(n_components=n_comps)\n    fa.fit(X)\n\n    components = fa.components_.T\n    print(\"\\n\\n %s :\\n\" % method)\n    print(components)\n\n    vmax = np.abs(components).max()\n    ax.imshow(components, cmap=\"RdBu_r\", vmax=vmax, vmin=-vmax)\n    ax.set_yticks(np.arange(len(feature_names)))\n    ax.set_yticklabels(feature_names)\n    ax.set_title(str(method))\n    ax.set_xticks([0, 1])\n    ax.set_xticklabels([\"Comp. 1\", \"Comp. 2\"])\nfig.suptitle(\"Factors\")\nplt.tight_layout()\nplt.show()"
      ]
    }
  ],
  "metadata": {
    "kernelspec": {
      "display_name": "Python 3",
      "language": "python",
      "name": "python3"
    },
    "language_info": {
      "codemirror_mode": {
        "name": "ipython",
        "version": 3
      },
      "file_extension": ".py",
      "mimetype": "text/x-python",
      "name": "python",
      "nbconvert_exporter": "python",
      "pygments_lexer": "ipython3",
      "version": "3.10.13"
    }
  },
  "nbformat": 4,
  "nbformat_minor": 0
}