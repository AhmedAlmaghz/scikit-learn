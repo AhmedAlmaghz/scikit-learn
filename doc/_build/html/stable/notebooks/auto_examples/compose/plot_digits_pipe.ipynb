{
  "cells": [
    {
      "cell_type": "markdown",
      "metadata": {},
      "source": [
        "\n# \u0631\u0628\u0637 \u0627\u0644\u0623\u0646\u0627\u0628\u064a\u0628: \u0631\u0628\u0637 PCA \u0648\u0627\u0644\u0627\u0646\u062d\u062f\u0627\u0631 \u0627\u0644\u0644\u0648\u062c\u0633\u062a\u064a\n\n\u064a\u0642\u0648\u0645 PCA \u0628\u062a\u0642\u0644\u064a\u0644 \u0627\u0644\u0623\u0628\u0639\u0627\u062f \u0628\u0637\u0631\u064a\u0642\u0629 \u063a\u064a\u0631 \u062e\u0627\u0636\u0639\u0629 \u0644\u0644\u0625\u0634\u0631\u0627\u0641\u060c \u0628\u064a\u0646\u0645\u0627 \u064a\u0642\u0648\u0645 \u0627\u0644\u0627\u0646\u062d\u062f\u0627\u0631 \u0627\u0644\u0644\u0648\u062c\u0633\u062a\u064a \u0628\u0627\u0644\u062a\u0646\u0628\u0624.\n\n\u0646\u0633\u062a\u062e\u062f\u0645 GridSearchCV \u0644\u062a\u0639\u064a\u064a\u0646 \u0623\u0628\u0639\u0627\u062f PCA\n"
      ]
    },
    {
      "cell_type": "code",
      "execution_count": null,
      "metadata": {
        "collapsed": false
      },
      "outputs": [],
      "source": [
        "# Authors: The scikit-learn developers\n# SPDX-License-Identifier: BSD-3-Clause\n\nimport matplotlib.pyplot as plt\nimport numpy as np\nimport polars as pl\n\nfrom sklearn import datasets\nfrom sklearn.decomposition import PCA\nfrom sklearn.linear_model import LogisticRegression\nfrom sklearn.model_selection import GridSearchCV\nfrom sklearn.pipeline import Pipeline\nfrom sklearn.preprocessing import StandardScaler\n\n# \u062a\u0639\u0631\u064a\u0641 \u062e\u0637 \u0623\u0646\u0627\u0628\u064a\u0628 \u0644\u0644\u0628\u062d\u062b \u0639\u0646 \u0623\u0641\u0636\u0644 \u0645\u0632\u064a\u062c \u0645\u0646 \u0627\u0642\u062a\u0637\u0627\u0639 PCA\n# \u0648\u0627\u0646\u062a\u0638\u0627\u0645 \u0627\u0644\u0645\u0635\u0646\u0641.\npca = PCA()\n# \u062a\u0639\u0631\u064a\u0641 \u0645\u0642\u064a\u0627\u0633 \u0642\u064a\u0627\u0633\u064a \u0644\u062a\u0637\u0628\u064a\u0639 \u0627\u0644\u0645\u062f\u062e\u0644\u0627\u062a\nscaler = StandardScaler()\n\n# \u062a\u0639\u064a\u064a\u0646 \u0627\u0644\u062a\u0633\u0627\u0645\u062d \u0625\u0644\u0649 \u0642\u064a\u0645\u0629 \u0643\u0628\u064a\u0631\u0629 \u0644\u062c\u0639\u0644 \u0627\u0644\u0645\u062b\u0627\u0644 \u0623\u0633\u0631\u0639\nlogistic = LogisticRegression(max_iter=10000, tol=0.1)\npipe = Pipeline(steps=[(\"scaler\", scaler),\n                (\"pca\", pca), (\"logistic\", logistic)])\n\nX_digits, y_digits = datasets.load_digits(return_X_y=True)\n# \u064a\u0645\u0643\u0646 \u062a\u0639\u064a\u064a\u0646 \u0645\u0639\u0644\u0645\u0627\u062a \u062e\u0637\u0648\u0637 \u0627\u0644\u0623\u0646\u0627\u0628\u064a\u0628 \u0628\u0627\u0633\u062a\u062e\u062f\u0627\u0645 \u0623\u0633\u0645\u0627\u0621 \u0627\u0644\u0645\u0639\u0644\u0645\u0627\u062a \u0627\u0644\u0645\u0641\u0635\u0648\u0644\u0629 \u0628\u0640 '__':\nparam_grid = {\n    \"pca__n_components\": [5, 15, 30, 45, 60],\n    \"logistic__C\": np.logspace(-4, 4, 4),\n}\nsearch = GridSearchCV(pipe, param_grid, n_jobs=2)\nsearch.fit(X_digits, y_digits)\nprint(\"Best parameter (CV score=%0.3f):\" % search.best_score_)\nprint(search.best_params_)\n\n# \u0631\u0633\u0645 \u0637\u064a\u0641 PCA\npca.fit(X_digits)\n\nfig, (ax0, ax1) = plt.subplots(nrows=2, sharex=True, figsize=(6, 6))\nax0.plot(\n    np.arange(1, pca.n_components_ + 1), pca.explained_variance_ratio_, \"+\", linewidth=2\n)\nax0.set_ylabel(\"\u0646\u0633\u0628\u0629 \u0627\u0644\u062a\u0628\u0627\u064a\u0646 \u0627\u0644\u0645\u0648\u0636\u062d\u0629 \u0628\u0648\u0627\u0633\u0637\u0629 PCA\")\n\nax0.axvline(\n    search.best_estimator_.named_steps[\"pca\"].n_components,\n    linestyle=\":\",\n    label=\"n_components \u0627\u0644\u0645\u062e\u062a\u0627\u0631\u0629\",\n)\nax0.legend(prop=dict(size=12))\n\n# \u0644\u0643\u0644 \u0639\u062f\u062f \u0645\u0646 \u0627\u0644\u0645\u0643\u0648\u0646\u0627\u062a\u060c \u0627\u0628\u062d\u062b \u0639\u0646 \u0623\u0641\u0636\u0644 \u0646\u062a\u0627\u0626\u062c \u0627\u0644\u0645\u0635\u0646\u0641\ncomponents_col = \"param_pca__n_components\"\nis_max_test_score = pl.col(\"mean_test_score\") == pl.col(\n    \"mean_test_score\").max()\nbest_clfs = (\n    pl.LazyFrame(search.cv_results_)\n    .filter(is_max_test_score.over(components_col))\n    .unique(components_col)\n    .sort(components_col)\n    .collect()\n)\nax1.errorbar(\n    best_clfs[components_col],\n    best_clfs[\"mean_test_score\"],\n    yerr=best_clfs[\"std_test_score\"],\n)\nax1.set_ylabel(\"\u062f\u0642\u0629 \u0627\u0644\u062a\u0635\u0646\u064a\u0641 (val)\")\nax1.set_xlabel(\"n_components\")\n\nplt.xlim(-1, 70)\n\nplt.tight_layout()\nplt.show()"
      ]
    }
  ],
  "metadata": {
    "kernelspec": {
      "display_name": "Python 3",
      "language": "python",
      "name": "python3"
    },
    "language_info": {
      "codemirror_mode": {
        "name": "ipython",
        "version": 3
      },
      "file_extension": ".py",
      "mimetype": "text/x-python",
      "name": "python",
      "nbconvert_exporter": "python",
      "pygments_lexer": "ipython3",
      "version": "3.10.13"
    }
  },
  "nbformat": 4,
  "nbformat_minor": 0
}