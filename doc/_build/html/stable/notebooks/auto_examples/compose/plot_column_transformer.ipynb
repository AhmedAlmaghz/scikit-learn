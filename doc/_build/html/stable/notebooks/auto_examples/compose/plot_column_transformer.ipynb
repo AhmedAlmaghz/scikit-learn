{
  "cells": [
    {
      "cell_type": "markdown",
      "metadata": {},
      "source": [
        "\n# \u0645\u062d\u0648\u0644 \u0627\u0644\u0623\u0639\u0645\u062f\u0629 \u0645\u0639 \u0645\u0635\u0627\u062f\u0631 \u0628\u064a\u0627\u0646\u0627\u062a \u063a\u064a\u0631 \u0645\u062a\u062c\u0627\u0646\u0633\u0629\n\n\u064a\u0645\u0643\u0646 \u0623\u0646 \u062a\u062d\u062a\u0648\u064a \u0645\u062c\u0645\u0648\u0639\u0627\u062a \u0627\u0644\u0628\u064a\u0627\u0646\u0627\u062a \u063a\u0627\u0644\u0628\u064b\u0627 \u0639\u0644\u0649 \u0645\u0643\u0648\u0646\u0627\u062a \u062a\u062a\u0637\u0644\u0628 \u0645\u0639\u0627\u0644\u062c\u0629 \u0648\u0627\u0633\u062a\u062e\u0631\u0627\u062c \u0645\u0645\u064a\u0632\u0627\u062a \u0645\u062e\u062a\u0644\u0641\u0629. \u0642\u062f \u064a\u062d\u062f\u062b \u0647\u0630\u0627 \u0627\u0644\u0633\u064a\u0646\u0627\u0631\u064a\u0648 \u0639\u0646\u062f\u0645\u0627:\n\n1. \u062a\u062a\u0643\u0648\u0646 \u0645\u062c\u0645\u0648\u0639\u0629 \u0627\u0644\u0628\u064a\u0627\u0646\u0627\u062a \u0627\u0644\u062e\u0627\u0635\u0629 \u0628\u0643 \u0645\u0646 \u0623\u0646\u0648\u0627\u0639 \u0628\u064a\u0627\u0646\u0627\u062a \u063a\u064a\u0631 \u0645\u062a\u062c\u0627\u0646\u0633\u0629 (\u0645\u062b\u0644 \u0635\u0648\u0631 \u0646\u0642\u0637\u064a\u0629 \u0648\u0646\u0635\u0648\u0635 \u062a\u0648\u0636\u064a\u062d\u064a\u0629)\u060c\n2. \u064a\u062a\u0645 \u062a\u062e\u0632\u064a\u0646 \u0645\u062c\u0645\u0648\u0639\u0629 \u0627\u0644\u0628\u064a\u0627\u0646\u0627\u062a \u0627\u0644\u062e\u0627\u0635\u0629 \u0628\u0643 \u0641\u064a :class:`pandas.DataFrame` \u0648\u062a\u062a\u0637\u0644\u0628 \u0623\u0639\u0645\u062f\u0629 \u0645\u062e\u062a\u0644\u0641\u0629 \u062e\u0637\u0648\u0637 \u0623\u0646\u0627\u0628\u064a\u0628 \u0645\u0639\u0627\u0644\u062c\u0629 \u0645\u062e\u062a\u0644\u0641\u0629.\n\n\u064a\u0648\u0636\u062d \u0647\u0630\u0627 \u0627\u0644\u0645\u062b\u0627\u0644 \u0643\u064a\u0641\u064a\u0629 \u0627\u0633\u062a\u062e\u062f\u0627\u0645\n:class:`~sklearn.compose.ColumnTransformer` \u0639\u0644\u0649 \u0645\u062c\u0645\u0648\u0639\u0629 \u0628\u064a\u0627\u0646\u0627\u062a \u062a\u062d\u062a\u0648\u064a \u0639\u0644\u0649\n\u0623\u0646\u0648\u0627\u0639 \u0645\u062e\u062a\u0644\u0641\u0629 \u0645\u0646 \u0627\u0644\u0645\u064a\u0632\u0627\u062a. \u0627\u062e\u062a\u064a\u0627\u0631 \u0627\u0644\u0645\u064a\u0632\u0627\u062a \u0644\u064a\u0633 \u0645\u0641\u064a\u062f\u064b\u0627 \u0628\u0634\u0643\u0644 \u062e\u0627\u0635\u060c \u0648\u0644\u0643\u0646\u0647 \u064a\u062e\u062f\u0645 \u0644\u062a\u0648\u0636\u064a\u062d \u0627\u0644\u062a\u0642\u0646\u064a\u0629.\n"
      ]
    },
    {
      "cell_type": "code",
      "execution_count": null,
      "metadata": {
        "collapsed": false
      },
      "outputs": [],
      "source": [
        "# Authors: The scikit-learn developers\n# SPDX-License-Identifier: BSD-3-Clause\n\nimport numpy as np\n\nfrom sklearn.compose import ColumnTransformer\nfrom sklearn.datasets import fetch_20newsgroups\nfrom sklearn.decomposition import PCA\nfrom sklearn.feature_extraction import DictVectorizer\nfrom sklearn.feature_extraction.text import TfidfVectorizer\nfrom sklearn.metrics import classification_report\nfrom sklearn.pipeline import Pipeline\nfrom sklearn.preprocessing import FunctionTransformer\nfrom sklearn.svm import LinearSVC"
      ]
    },
    {
      "cell_type": "markdown",
      "metadata": {},
      "source": [
        "## \u0645\u062c\u0645\u0648\u0639\u0629 \u0628\u064a\u0627\u0646\u0627\u062a 20 \u0645\u062c\u0645\u0648\u0639\u0629 \u0623\u062e\u0628\u0627\u0631\n\n\u0633\u0646\u0633\u062a\u062e\u062f\u0645 `\u0645\u062c\u0645\u0648\u0639\u0629 \u0628\u064a\u0627\u0646\u0627\u062a 20 \u0645\u062c\u0645\u0648\u0639\u0629 \u0623\u062e\u0628\u0627\u0631 <20newsgroups_dataset>`\u060c \u0648\u0627\u0644\u062a\u064a\n\u062a\u062a\u0623\u0644\u0641 \u0645\u0646 \u0645\u0646\u0634\u0648\u0631\u0627\u062a \u0645\u0646 \u0645\u062c\u0645\u0648\u0639\u0627\u062a \u0623\u062e\u0628\u0627\u0631 \u062d\u0648\u0644 20 \u0645\u0648\u0636\u0648\u0639\u064b\u0627. \u064a\u062a\u0645 \u062a\u0642\u0633\u064a\u0645 \u0645\u062c\u0645\u0648\u0639\u0629 \u0627\u0644\u0628\u064a\u0627\u0646\u0627\u062a \u0647\u0630\u0647\n\u0625\u0644\u0649 \u0645\u062c\u0645\u0648\u0639\u0627\u062a \u0641\u0631\u0639\u064a\u0629 \u0644\u0644\u062a\u062f\u0631\u064a\u0628 \u0648\u0627\u0644\u0627\u062e\u062a\u0628\u0627\u0631 \u0628\u0646\u0627\u0621\u064b \u0639\u0644\u0649 \u0627\u0644\u0631\u0633\u0627\u0626\u0644 \u0627\u0644\u0645\u0646\u0634\u0648\u0631\u0629 \u0642\u0628\u0644 \u0648\u0628\u0639\u062f\n\u062a\u0627\u0631\u064a\u062e \u0645\u062d\u062f\u062f. \u0633\u0646\u0633\u062a\u062e\u062f\u0645 \u0641\u0642\u0637 \u0627\u0644\u0645\u0646\u0634\u0648\u0631\u0627\u062a \u0645\u0646 \u0641\u0626\u062a\u064a\u0646 \u0644\u062a\u0633\u0631\u064a\u0639 \u0648\u0642\u062a \u0627\u0644\u062a\u0634\u063a\u064a\u0644.\n\n"
      ]
    },
    {
      "cell_type": "code",
      "execution_count": null,
      "metadata": {
        "collapsed": false
      },
      "outputs": [],
      "source": [
        "categories = [\"sci.med\", \"sci.space\"]\nX_train, y_train = fetch_20newsgroups(\n    random_state=1,\n    subset=\"train\",\n    categories=categories,\n    remove=(\"footers\", \"quotes\"),\n    return_X_y=True,\n)\nX_test, y_test = fetch_20newsgroups(\n    random_state=1,\n    subset=\"test\",\n    categories=categories,\n    remove=(\"footers\", \"quotes\"),\n    return_X_y=True,\n)"
      ]
    },
    {
      "cell_type": "markdown",
      "metadata": {},
      "source": [
        "\u062a\u062a\u0636\u0645\u0646 \u0643\u0644 \u0645\u064a\u0632\u0629 \u0645\u0639\u0644\u0648\u0645\u0627\u062a \u0648\u0635\u0641\u064a\u0629 \u062d\u0648\u0644 \u0647\u0630\u0627 \u0627\u0644\u0645\u0646\u0634\u0648\u0631\u060c \u0645\u062b\u0644 \u0627\u0644\u0645\u0648\u0636\u0648\u0639\u060c\n\u0648\u0646\u0635 \u0645\u0646\u0634\u0648\u0631 \u0627\u0644\u0623\u062e\u0628\u0627\u0631.\n\n"
      ]
    },
    {
      "cell_type": "code",
      "execution_count": null,
      "metadata": {
        "collapsed": false
      },
      "outputs": [],
      "source": [
        "print(X_train[0])"
      ]
    },
    {
      "cell_type": "markdown",
      "metadata": {},
      "source": [
        "## \u0625\u0646\u0634\u0627\u0621 \u0627\u0644\u0645\u062d\u0648\u0644\u0627\u062a\n\n\u0623\u0648\u0644\u0627\u064b\u060c \u0646\u0631\u064a\u062f \u0645\u062d\u0648\u0644\u064b\u0627 \u064a\u0633\u062a\u062e\u0631\u062c \u0627\u0644\u0645\u0648\u0636\u0648\u0639 \u0648\n\u0646\u0635 \u0643\u0644 \u0645\u0646\u0634\u0648\u0631. \u0646\u0638\u0631\u064b\u0627 \u0644\u0623\u0646 \u0647\u0630\u0627 \u062a\u062d\u0648\u064a\u0644 \u0639\u062f\u064a\u0645 \u0627\u0644\u062d\u0627\u0644\u0629 (\u0644\u0627\n\u064a\u062a\u0637\u0644\u0628 \u0645\u0639\u0644\u0648\u0645\u0627\u062a \u0627\u0644\u062d\u0627\u0644\u0629 \u0645\u0646 \u0628\u064a\u0627\u0646\u0627\u062a \u0627\u0644\u062a\u062f\u0631\u064a\u0628)\u060c \u064a\u0645\u0643\u0646\u0646\u0627 \u062a\u062d\u062f\u064a\u062f \u062f\u0627\u0644\u0629\n\u062a\u0642\u0648\u0645 \u0628\u062a\u062d\u0648\u064a\u0644 \u0627\u0644\u0628\u064a\u0627\u0646\u0627\u062a \u062b\u0645 \u0627\u0633\u062a\u062e\u062f\u0627\u0645\n:class:`~sklearn.preprocessing.FunctionTransformer` \u0644\u0625\u0646\u0634\u0627\u0621 \u0645\u062d\u0648\u0644 scikit-learn.\n\n"
      ]
    },
    {
      "cell_type": "code",
      "execution_count": null,
      "metadata": {
        "collapsed": false
      },
      "outputs": [],
      "source": [
        "def subject_body_extractor(posts):\n    # \u0628\u0646\u0627\u0621 \u0645\u0635\u0641\u0648\u0641\u0629 \u0645\u0646 \u0646\u0648\u0639 \u0643\u0627\u0626\u0646 \u0645\u0639 \u0639\u0645\u0648\u062f\u064a\u0646\n    # \u0627\u0644\u0639\u0645\u0648\u062f \u0627\u0644\u0623\u0648\u0644 = 'subject' \u0648\u0627\u0644\u0639\u0645\u0648\u062f \u0627\u0644\u062b\u0627\u0646\u064a = 'body'\n    features = np.empty(shape=(len(posts), 2), dtype=object)\n    for i, text in enumerate(posts):\n        # \u0627\u0644\u0645\u062a\u063a\u064a\u0631 \u0627\u0644\u0645\u0624\u0642\u062a `_` \u064a\u062e\u0632\u0646 '\\n\\n'\n        headers, _, body = text.partition(\"\\n\\n\")\n        # \u062a\u062e\u0632\u064a\u0646 \u0646\u0635 \u0627\u0644\u062c\u0633\u0645 \u0641\u064a \u0627\u0644\u0639\u0645\u0648\u062f \u0627\u0644\u062b\u0627\u0646\u064a\n        features[i, 1] = body\n\n        prefix = \"Subject:\"\n        sub = \"\"\n        # \u062d\u0641\u0638 \u0627\u0644\u0646\u0635 \u0628\u0639\u062f 'Subject:' \u0641\u064a \u0627\u0644\u0639\u0645\u0648\u062f \u0627\u0644\u0623\u0648\u0644\n        for line in headers.split(\"\\n\"):\n            if line.startswith(prefix):\n                sub = line[len(prefix):]\n                break\n        features[i, 0] = sub\n\n    return features\n\n\nsubject_body_transformer = FunctionTransformer(subject_body_extractor)"
      ]
    },
    {
      "cell_type": "markdown",
      "metadata": {},
      "source": [
        "\u0633\u0646\u0646\u0634\u0626 \u0623\u064a\u0636\u064b\u0627 \u0645\u062d\u0648\u0644\u064b\u0627 \u064a\u0633\u062a\u062e\u0631\u062c\n\u0637\u0648\u0644 \u0627\u0644\u0646\u0635 \u0648\u0639\u062f\u062f \u0627\u0644\u062c\u0645\u0644.\n\n"
      ]
    },
    {
      "cell_type": "code",
      "execution_count": null,
      "metadata": {
        "collapsed": false
      },
      "outputs": [],
      "source": [
        "def text_stats(posts):\n    return [{\"length\": len(text), \"num_sentences\": text.count(\".\")} for text in posts]\n\n\ntext_stats_transformer = FunctionTransformer(text_stats)"
      ]
    },
    {
      "cell_type": "markdown",
      "metadata": {},
      "source": [
        "## \u062e\u0637 \u0623\u0646\u0627\u0628\u064a\u0628 \u0627\u0644\u062a\u0635\u0646\u064a\u0641\n\n\u064a\u0633\u062a\u062e\u0631\u062c \u062e\u0637 \u0627\u0644\u0623\u0646\u0627\u0628\u064a\u0628 \u0623\u062f\u0646\u0627\u0647 \u0627\u0644\u0645\u0648\u0636\u0648\u0639 \u0648\u0627\u0644\u0646\u0635 \u0645\u0646 \u0643\u0644 \u0645\u0646\u0634\u0648\u0631 \u0628\u0627\u0633\u062a\u062e\u062f\u0627\u0645\n``SubjectBodyExtractor``\u060c \u0645\u0645\u0627 \u064a\u0646\u062a\u062c \u0639\u0646\u0647 \u0645\u0635\u0641\u0648\u0641\u0629 (n_samples\u060c 2). \u064a\u062a\u0645 \u0627\u0633\u062a\u062e\u062f\u0627\u0645 \u0647\u0630\u0647 \u0627\u0644\u0645\u0635\u0641\u0648\u0641\u0629\n\u0628\u0639\u062f \u0630\u0644\u0643 \u0644\u062d\u0633\u0627\u0628 \u0645\u064a\u0632\u0627\u062a \u062d\u0642\u064a\u0628\u0629 \u0627\u0644\u0643\u0644\u0645\u0627\u062a \u0627\u0644\u0642\u064a\u0627\u0633\u064a\u0629 \u0644\u0644\u0645\u0648\u0636\u0648\u0639 \u0648\u0627\u0644\u0646\u0635\n\u0628\u0627\u0644\u0625\u0636\u0627\u0641\u0629 \u0625\u0644\u0649 \u0637\u0648\u0644 \u0627\u0644\u0646\u0635 \u0648\u0639\u062f\u062f \u0627\u0644\u062c\u0645\u0644 \u0641\u064a \u0627\u0644\u0646\u0635\u060c \u0628\u0627\u0633\u062a\u062e\u062f\u0627\u0645\n``ColumnTransformer``. \u0646\u0642\u0648\u0645 \u0628\u062f\u0645\u062c\u0647\u0627\u060c \u0645\u0639 \u0623\u0648\u0632\u0627\u0646\u060c \u062b\u0645 \u0646\u062f\u0631\u0628\n\u0645\u0635\u0646\u0641\u064b\u0627 \u0639\u0644\u0649 \u0645\u062c\u0645\u0648\u0639\u0629 \u0627\u0644\u0645\u064a\u0632\u0627\u062a \u0627\u0644\u0645\u062c\u0645\u0639\u0629.\n\n"
      ]
    },
    {
      "cell_type": "code",
      "execution_count": null,
      "metadata": {
        "collapsed": false
      },
      "outputs": [],
      "source": [
        "pipeline = Pipeline(\n    [\n        # \u0627\u0633\u062a\u062e\u0631\u0627\u062c \u0627\u0644\u0645\u0648\u0636\u0648\u0639 \u0648\u0627\u0644\u0646\u0635\n        (\"subjectbody\", subject_body_transformer),\n        # \u0627\u0633\u062a\u062e\u062f\u0627\u0645 ColumnTransformer \u0644\u062f\u0645\u062c \u0645\u064a\u0632\u0627\u062a \u0627\u0644\u0645\u0648\u0636\u0648\u0639 \u0648\u0627\u0644\u0646\u0635\n        (\n            \"union\",\n            ColumnTransformer(\n                [\n                    # \u062d\u0642\u064a\u0628\u0629 \u0627\u0644\u0643\u0644\u0645\u0627\u062a \u0644\u0644\u0645\u0648\u0636\u0648\u0639 (\u0627\u0644\u0639\u0645\u0648\u062f 0)\n                    (\"subject\", TfidfVectorizer(min_df=50), 0),\n                    # \u062d\u0642\u064a\u0628\u0629 \u0627\u0644\u0643\u0644\u0645\u0627\u062a \u0645\u0639 \u0627\u0644\u062a\u062d\u0644\u064a\u0644 \u0644\u0644\u0646\u0635 (\u0627\u0644\u0639\u0645\u0648\u062f 1)\n                    (\n                        \"body_bow\",\n                        Pipeline(\n                            [\n                                (\"tfidf\", TfidfVectorizer()),\n                                (\"best\", PCA(n_components=50, svd_solver=\"arpack\")),\n                            ]\n                        ),\n                        1,\n                    ),\n                    # \u062e\u0637 \u0623\u0646\u0627\u0628\u064a\u0628 \u0644\u0633\u062d\u0628 \u0625\u062d\u0635\u0627\u0626\u064a\u0627\u062a \u0627\u0644\u0646\u0635 \u0645\u0646 \u0646\u0635 \u0627\u0644\u0645\u0646\u0634\u0648\u0631\n                    (\n                        \"body_stats\",\n                        Pipeline(\n                            [\n                                (\n                                    \"stats\",\n                                    text_stats_transformer,\n                                ),  # \u064a\u064f\u0631\u062c\u0639 \u0642\u0627\u0626\u0645\u0629 \u0645\u0646 \u0627\u0644\u0642\u0648\u0627\u0645\u064a\u0633\n                                (\n                                    \"vect\",\n                                    DictVectorizer(),\n                                ),  # \u0642\u0627\u0626\u0645\u0629 \u0627\u0644\u0642\u0648\u0627\u0645\u064a\u0633 -> \u0645\u0635\u0641\u0648\u0641\u0629 \u0627\u0644\u0645\u064a\u0632\u0627\u062a\n                            ]\n                        ),\n                        1,\n                    ),\n                ],\n                # \u0648\u0632\u0646 \u0645\u064a\u0632\u0627\u062a ColumnTransformer \u0623\u0639\u0644\u0627\u0647\n                transformer_weights={\n                    \"subject\": 0.8,\n                    \"body_bow\": 0.5,\n                    \"body_stats\": 1.0,\n                },\n            ),\n        ),\n        # \u0627\u0633\u062a\u062e\u062f\u0627\u0645 \u0645\u0635\u0646\u0641 SVC \u0639\u0644\u0649 \u0627\u0644\u0645\u064a\u0632\u0627\u062a \u0627\u0644\u0645\u062c\u0645\u0639\u0629\n        (\"svc\", LinearSVC(dual=False)),\n    ],\n    verbose=True,\n)"
      ]
    },
    {
      "cell_type": "markdown",
      "metadata": {},
      "source": [
        "\u0623\u062e\u064a\u0631\u064b\u0627\u060c \u0646\u0642\u0648\u0645 \u0628\u0645\u0644\u0627\u0621\u0645\u0629 \u062e\u0637 \u0627\u0644\u0623\u0646\u0627\u0628\u064a\u0628 \u0627\u0644\u062e\u0627\u0635 \u0628\u0646\u0627 \u0639\u0644\u0649 \u0628\u064a\u0627\u0646\u0627\u062a \u0627\u0644\u062a\u062f\u0631\u064a\u0628 \u0648\u0646\u0633\u062a\u062e\u062f\u0645\u0647 \u0644\u0644\u062a\u0646\u0628\u0624\n\u0628\u0627\u0644\u0645\u0648\u0636\u0648\u0639\u0627\u062a \u0644\u0640 ``X_test``. \u062b\u0645 \u062a\u062a\u0645 \u0637\u0628\u0627\u0639\u0629 \u0645\u0642\u0627\u064a\u064a\u0633 \u0623\u062f\u0627\u0621 \u062e\u0637 \u0627\u0644\u0623\u0646\u0627\u0628\u064a\u0628 \u0627\u0644\u062e\u0627\u0635 \u0628\u0646\u0627.\n\n"
      ]
    },
    {
      "cell_type": "code",
      "execution_count": null,
      "metadata": {
        "collapsed": false
      },
      "outputs": [],
      "source": [
        "pipeline.fit(X_train, y_train)\ny_pred = pipeline.predict(X_test)\nprint(\"Classification report:\\n\\n{}\".format(\n    classification_report(y_test, y_pred)))"
      ]
    }
  ],
  "metadata": {
    "kernelspec": {
      "display_name": "Python 3",
      "language": "python",
      "name": "python3"
    },
    "language_info": {
      "codemirror_mode": {
        "name": "ipython",
        "version": 3
      },
      "file_extension": ".py",
      "mimetype": "text/x-python",
      "name": "python",
      "nbconvert_exporter": "python",
      "pygments_lexer": "ipython3",
      "version": "3.10.13"
    }
  },
  "nbformat": 4,
  "nbformat_minor": 0
}