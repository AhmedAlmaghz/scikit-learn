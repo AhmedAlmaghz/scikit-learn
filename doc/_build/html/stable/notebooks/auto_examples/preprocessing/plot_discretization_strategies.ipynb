{
  "cells": [
    {
      "cell_type": "markdown",
      "metadata": {},
      "source": [
        "\n# \u0639\u0631\u0636 \u0627\u0633\u062a\u0631\u0627\u062a\u064a\u062c\u064a\u0627\u062a KBinsDiscretizer \u0627\u0644\u0645\u062e\u062a\u0644\u0641\u0629\n\n\u064a\u0642\u062f\u0645 \u0647\u0630\u0627 \u0627\u0644\u0645\u062b\u0627\u0644 \u0627\u0644\u0627\u0633\u062a\u0631\u0627\u062a\u064a\u062c\u064a\u0627\u062a \u0627\u0644\u0645\u062e\u062a\u0644\u0641\u0629 \u0627\u0644\u0645\u0646\u0641\u0630\u0629 \u0641\u064a KBinsDiscretizer:\n\n- 'uniform': \u0627\u0644\u062a\u062c\u0632\u0626\u0629 \u0645\u0648\u062d\u062f\u0629 \u0641\u064a \u0643\u0644 \u062e\u0627\u0635\u064a\u0629\u060c \u0645\u0645\u0627 \u064a\u0639\u0646\u064a \u0623\u0646 \u0639\u0631\u0636 \u0627\u0644\u0641\u0626\u0627\u062a \u062b\u0627\u0628\u062a \u0641\u064a \u0643\u0644 \u0628\u064f\u0639\u062f.\n- 'quantile': \u062a\u062a\u0645 \u0627\u0644\u062a\u062c\u0632\u0626\u0629 \u0639\u0644\u0649 \u0627\u0644\u0642\u064a\u0645 \u0627\u0644\u0645\u0626\u064a\u0646\u064a\u0629\u060c \u0645\u0645\u0627 \u064a\u0639\u0646\u064a \u0623\u0646 \u0643\u0644 \u0641\u0626\u0629 \u062a\u062d\u062a\u0648\u064a \u0639\u0644\u0649 \u0646\u0641\u0633 \u0627\u0644\u0639\u062f\u062f \u062a\u0642\u0631\u064a\u0628\u064b\u0627 \u0645\u0646 \u0627\u0644\u0639\u064a\u0646\u0627\u062a.\n- 'kmeans': \u062a\u0633\u062a\u0646\u062f \u0627\u0644\u062a\u062c\u0632\u0626\u0629 \u0639\u0644\u0649 \u0627\u0644\u0646\u0642\u0637 \u0627\u0644\u0645\u0631\u0643\u0632\u064a\u0629 \u0644\u0625\u062c\u0631\u0627\u0621 \u0627\u0644\u062a\u062c\u0645\u064a\u0639 KMeans.\n\n\u064a\u0648\u0636\u062d \u0627\u0644\u0631\u0633\u0645 \u0627\u0644\u0628\u064a\u0627\u0646\u064a \u0627\u0644\u0645\u0646\u0627\u0637\u0642 \u0627\u0644\u062a\u064a \u064a\u0643\u0648\u0646 \u0641\u064a\u0647\u0627 \u0627\u0644\u062a\u0631\u0645\u064a\u0632 \u0627\u0644\u0645\u064f\u062c\u0632\u0623 \u062b\u0627\u0628\u062a\u064b\u0627.\n"
      ]
    },
    {
      "cell_type": "code",
      "execution_count": null,
      "metadata": {
        "collapsed": false
      },
      "outputs": [],
      "source": [
        "# \u0627\u0644\u0645\u0624\u0644\u0641\u0648\u0646: \u0645\u0637\u0648\u0631\u064a scikit-learn\n# \u0645\u0639\u0631\u0641 \u0627\u0644\u062a\u0631\u062e\u064a\u0635: BSD-3-Clause\n\nimport matplotlib.pyplot as plt\nimport numpy as np\n\nfrom sklearn.datasets import make_blobs\nfrom sklearn.preprocessing import KBinsDiscretizer\n\nstrategies = [\"uniform\", \"quantile\", \"kmeans\"]\n\nn_samples = 200\ncenters_0 = np.array([[0, 0], [0, 5], [2, 4], [8, 8]])\ncenters_1 = np.array([[0, 0], [3, 1]])\n\n# \u0625\u0646\u0634\u0627\u0621 \u0645\u062c\u0645\u0648\u0639\u0627\u062a \u0627\u0644\u0628\u064a\u0627\u0646\u0627\u062a\nrandom_state = 42\nX_list = [\n    np.random.RandomState(random_state).uniform(-3, 3, size=(n_samples, 2)),\n    make_blobs(\n        n_samples=[\n            n_samples // 10,\n            n_samples * 4 // 10,\n            n_samples // 10,\n            n_samples * 4 // 10,\n        ],\n        cluster_std=0.5,\n        centers=centers_0,\n        random_state=random_state,\n    )[0],\n    make_blobs(\n        n_samples=[n_samples // 5, n_samples * 4 // 5],\n        cluster_std=0.5,\n        centers=centers_1,\n        random_state=random_state,\n    )[0],\n]\n\nfigure = plt.figure(figsize=(14, 9))\ni = 1\nfor ds_cnt, X in enumerate(X_list):\n    ax = plt.subplot(len(X_list), len(strategies) + 1, i)\n    ax.scatter(X[:, 0], X[:, 1], edgecolors=\"k\")\n    if ds_cnt == 0:\n        ax.set_title(\"Input data\", size=14)\n\n    xx, yy = np.meshgrid(\n        np.linspace(X[:, 0].min(), X[:, 0].max(), 300),\n        np.linspace(X[:, 1].min(), X[:, 1].max(), 300),\n    )\n    grid = np.c_[xx.ravel(), yy.ravel()]\n\n    ax.set_xlim(xx.min(), xx.max())\n    ax.set_ylim(yy.min(), yy.max())\n    ax.set_xticks(())\n    ax.set_yticks(())\n\n    i += 1\n    # \u062a\u062d\u0648\u064a\u0644 \u0645\u062c\u0645\u0648\u0639\u0629 \u0627\u0644\u0628\u064a\u0627\u0646\u0627\u062a \u0628\u0627\u0633\u062a\u062e\u062f\u0627\u0645 KBinsDiscretizer\n    for strategy in strategies:\n        enc = KBinsDiscretizer(n_bins=4, encode=\"ordinal\", strategy=strategy)\n        enc.fit(X)\n        grid_encoded = enc.transform(grid)\n\n        ax = plt.subplot(len(X_list), len(strategies) + 1, i)\n\n        # \u062e\u0637\u0648\u0637 \u0623\u0641\u0642\u064a\u0629\n        horizontal = grid_encoded[:, 0].reshape(xx.shape)\n        ax.contourf(xx, yy, horizontal, alpha=0.5)\n        # \u062e\u0637\u0648\u0637 \u0639\u0645\u0648\u062f\u064a\u0629\n        vertical = grid_encoded[:, 1].reshape(xx.shape)\n        ax.contourf(xx, yy, vertical, alpha=0.5)\n\n        ax.scatter(X[:, 0], X[:, 1], edgecolors=\"k\")\n        ax.set_xlim(xx.min(), xx.max())\n        ax.set_ylim(yy.min(), yy.max())\n        ax.set_xticks(())\n        ax.set_yticks(())\n        if ds_cnt == 0:\n            ax.set_title(\"strategy='%s'\" % (strategy,), size=14)\n\n        i += 1\n\nplt.tight_layout()\nplt.show()"
      ]
    }
  ],
  "metadata": {
    "kernelspec": {
      "display_name": "Python 3",
      "language": "python",
      "name": "python3"
    },
    "language_info": {
      "codemirror_mode": {
        "name": "ipython",
        "version": 3
      },
      "file_extension": ".py",
      "mimetype": "text/x-python",
      "name": "python",
      "nbconvert_exporter": "python",
      "pygments_lexer": "ipython3",
      "version": "3.10.13"
    }
  },
  "nbformat": 4,
  "nbformat_minor": 0
}