{
  "cells": [
    {
      "cell_type": "markdown",
      "metadata": {},
      "source": [
        "\n# \u062a\u0645\u0631\u064a\u0646 SVM\n\n\u062a\u0645\u0631\u064a\u0646 \u062a\u0639\u0644\u064a\u0645\u064a \u0644\u0627\u0633\u062a\u062e\u062f\u0627\u0645 \u0646\u0648\u0649 SVM \u0627\u0644\u0645\u062e\u062a\u0644\u0641\u0629.\n\n\u064a\u062a\u0645 \u0627\u0633\u062a\u062e\u062f\u0627\u0645 \u0647\u0630\u0627 \u0627\u0644\u062a\u0645\u0631\u064a\u0646 \u0641\u064a \u062c\u0632\u0621 `using_kernels_tut` \u0645\u0646\n\u0642\u0633\u0645 `supervised_learning_tut` \u0645\u0646 `stat_learn_tut_index`.\n"
      ]
    },
    {
      "cell_type": "code",
      "execution_count": null,
      "metadata": {
        "collapsed": false
      },
      "outputs": [],
      "source": [
        "# Authors: The scikit-learn developers\n# SPDX-License-Identifier: BSD-3-Clause\n\nimport matplotlib.pyplot as plt\nimport numpy as np\n\nfrom sklearn import datasets, svm\n\niris = datasets.load_iris()\nX = iris.data\ny = iris.target\n\nX = X[y != 0, :2]\ny = y[y != 0]\n\nn_sample = len(X)\n\nnp.random.seed(0)\norder = np.random.permutation(n_sample)\nX = X[order]\ny = y[order].astype(float)\n\nX_train = X[: int(0.9 * n_sample)]\ny_train = y[: int(0.9 * n_sample)]\nX_test = X[int(0.9 * n_sample):]\ny_test = y[int(0.9 * n_sample):]\n\n# \u0645\u0644\u0627\u0621\u0645\u0629 \u0627\u0644\u0646\u0645\u0648\u0630\u062c\nfor kernel in (\"linear\", \"rbf\", \"poly\"):\n    clf = svm.SVC(kernel=kernel, gamma=10)\n    clf.fit(X_train, y_train)\n\n    plt.figure()\n    plt.clf()\n    plt.scatter(\n        X[:, 0], X[:, 1], c=y, zorder=10, cmap=plt.cm.Paired, edgecolor=\"k\", s=20\n    )\n\n    # \u0636\u0639 \u062f\u0627\u0626\u0631\u0629 \u062d\u0648\u0644 \u0628\u064a\u0627\u0646\u0627\u062a \u0627\u0644\u0627\u062e\u062a\u0628\u0627\u0631\n    plt.scatter(\n        X_test[:, 0], X_test[:, 1], s=80, facecolors=\"none\", zorder=10, edgecolor=\"k\"\n    )\n\n    plt.axis(\"tight\")\n    x_min = X[:, 0].min()\n    x_max = X[:, 0].max()\n    y_min = X[:, 1].min()\n    y_max = X[:, 1].max()\n\n    XX, YY = np.mgrid[x_min:x_max:200j, y_min:y_max:200j]\n    Z = clf.decision_function(np.c_[XX.ravel(), YY.ravel()])\n\n    # \u0636\u0639 \u0627\u0644\u0646\u062a\u064a\u062c\u0629 \u0641\u064a \u0645\u062e\u0637\u0637 \u0623\u0644\u0648\u0627\u0646\n    Z = Z.reshape(XX.shape)\n    plt.pcolormesh(XX, YY, Z > 0, cmap=plt.cm.Paired)\n    plt.contour(\n        XX,\n        YY,\n        Z,\n        colors=[\"k\", \"k\", \"k\"],\n        linestyles=[\"--\", \"-\", \"--\"],\n        levels=[-0.5, 0, 0.5],\n    )\n\n    plt.title(kernel)\nplt.show()"
      ]
    }
  ],
  "metadata": {
    "kernelspec": {
      "display_name": "Python 3",
      "language": "python",
      "name": "python3"
    },
    "language_info": {
      "codemirror_mode": {
        "name": "ipython",
        "version": 3
      },
      "file_extension": ".py",
      "mimetype": "text/x-python",
      "name": "python",
      "nbconvert_exporter": "python",
      "pygments_lexer": "ipython3",
      "version": "3.10.13"
    }
  },
  "nbformat": 4,
  "nbformat_minor": 0
}