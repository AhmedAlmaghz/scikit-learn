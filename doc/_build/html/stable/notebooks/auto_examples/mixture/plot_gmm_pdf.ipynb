{
  "cells": [
    {
      "cell_type": "markdown",
      "metadata": {},
      "source": [
        "\n# \u062a\u0642\u062f\u064a\u0631 \u0627\u0644\u0643\u062b\u0627\u0641\u0629 \u0644\u0645\u0632\u064a\u062c \u063a\u0627\u0648\u0633\u064a\n\n\u0627\u0631\u0633\u0645 \u062a\u0642\u062f\u064a\u0631 \u0627\u0644\u0643\u062b\u0627\u0641\u0629 \u0644\u0645\u0632\u064a\u062c \u0645\u0646 \u063a\u0627\u0648\u0633\u064a\u064a\u0646. \u064a\u062a\u0645 \u062a\u0648\u0644\u064a\u062f \u0627\u0644\u0628\u064a\u0627\u0646\u0627\u062a\n\u0645\u0646 \u063a\u0627\u0648\u0633\u064a\u064a\u0646 \u0644\u0647\u0645\u0627 \u0645\u0631\u0627\u0643\u0632 \u0648\u0645\u0635\u0641\u0648\u0641\u0627\u062a \u062a\u0628\u0627\u064a\u0646 \u0645\u062e\u062a\u0644\u0641\u0629.\n"
      ]
    },
    {
      "cell_type": "code",
      "execution_count": null,
      "metadata": {
        "collapsed": false
      },
      "outputs": [],
      "source": [
        "# \u0627\u0644\u0645\u0624\u0644\u0641\u0648\u0646: \u0645\u0637\u0648\u0631\u064a \u0633\u0643\u0627\u064a\u0644\u0631\u0646\n# \u0645\u0639\u0631\u0641 \u0627\u0644\u062a\u0631\u062e\u064a\u0635: BSD-3-Clause\n\nimport matplotlib.pyplot as plt\nimport numpy as np\nfrom matplotlib.colors import LogNorm\n\nfrom sklearn import mixture\n\nn_samples = 300\n\n# \u062a\u0648\u0644\u064a\u062f \u0639\u064a\u0646\u0629 \u0639\u0634\u0648\u0627\u0626\u064a\u0629\u060c \u0645\u0643\u0648\u0646\u0627\u0646\nnp.random.seed(0)\n\n# \u062a\u0648\u0644\u064a\u062f \u0628\u064a\u0627\u0646\u0627\u062a \u0643\u0631\u0648\u064a\u0629 \u0645\u0631\u0643\u0632\u0647\u0627 (20, 20)\nshifted_gaussian = np.random.randn(n_samples, 2) + np.array([20, 20])\n\n# \u062a\u0648\u0644\u064a\u062f \u0628\u064a\u0627\u0646\u0627\u062a \u063a\u0627\u0648\u0633\u064a\u0629 \u0645\u0645\u062f\u0648\u062f\u0629 \u0645\u0631\u0643\u0632\u0647\u0627 \u0635\u0641\u0631\nC = np.array([[0.0, -0.7], [3.5, 0.7]])\nstretched_gaussian = np.dot(np.random.randn(n_samples, 2), C)\n\n# \u062f\u0645\u062c \u0627\u0644\u0645\u062c\u0645\u0648\u0639\u062a\u064a\u0646 \u0641\u064a \u0645\u062c\u0645\u0648\u0639\u0629 \u0627\u0644\u062a\u062f\u0631\u064a\u0628 \u0627\u0644\u0646\u0647\u0627\u0626\u064a\u0629\nX_train = np.vstack([shifted_gaussian, stretched_gaussian])\n\n# \u0645\u0644\u0627\u0621\u0645\u0629 \u0646\u0645\u0648\u0630\u062c \u0645\u0632\u064a\u062c \u063a\u0627\u0648\u0633\u064a \u0628\u0645\u0643\u0648\u0646\u064a\u0646\nclf = mixture.GaussianMixture(n_components=2, covariance_type=\"full\")\nclf.fit(X_train)\n\n# \u0639\u0631\u0636 \u0627\u0644\u062f\u0631\u062c\u0627\u062a \u0627\u0644\u0645\u062a\u0648\u0642\u0639\u0629 \u0628\u0648\u0627\u0633\u0637\u0629 \u0627\u0644\u0646\u0645\u0648\u0630\u062c \u0643\u062e\u0631\u064a\u0637\u0629 \u062e\u0637\u0648\u0637\nx = np.linspace(-20.0, 30.0)\ny = np.linspace(-20.0, 40.0)\nX, Y = np.meshgrid(x, y)\nXX = np.array([X.ravel(), Y.ravel()]).T\nZ = -clf.score_samples(XX)\nZ = Z.reshape(X.shape)\n\nCS = plt.contour(\n    X, Y, Z, norm=LogNorm(vmin=1.0, vmax=1000.0), levels=np.logspace(0, 3, 10)\n)\nCB = plt.colorbar(CS, shrink=0.8, extend=\"both\")\nplt.scatter(X_train[:, 0], X_train[:, 1], 0.8)\n\nplt.title(\"Negative log-likelihood predicted by a GMM\")\nplt.axis(\"tight\")\nplt.show()"
      ]
    }
  ],
  "metadata": {
    "kernelspec": {
      "display_name": "Python 3",
      "language": "python",
      "name": "python3"
    },
    "language_info": {
      "codemirror_mode": {
        "name": "ipython",
        "version": 3
      },
      "file_extension": ".py",
      "mimetype": "text/x-python",
      "name": "python",
      "nbconvert_exporter": "python",
      "pygments_lexer": "ipython3",
      "version": "3.10.13"
    }
  },
  "nbformat": 4,
  "nbformat_minor": 0
}