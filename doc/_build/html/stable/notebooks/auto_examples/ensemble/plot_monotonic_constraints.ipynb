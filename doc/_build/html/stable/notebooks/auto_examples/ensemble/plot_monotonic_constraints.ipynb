{
  "cells": [
    {
      "cell_type": "markdown",
      "metadata": {},
      "source": [
        "\n# \u0627\u0644\u0642\u064a\u0648\u062f \u0627\u0644\u0631\u062a\u064a\u0628\u0629\n\n\u064a\u0648\u0636\u062d \u0647\u0630\u0627 \u0627\u0644\u0645\u062b\u0627\u0644 \u062a\u0623\u062b\u064a\u0631 \u0627\u0644\u0642\u064a\u0648\u062f \u0627\u0644\u0631\u062a\u064a\u0628\u0629 \u0639\u0644\u0649 \u0645\u0642\u062f\u0631 \u0627\u0644\u062a\u0639\u0632\u064a\u0632 \u0627\u0644\u0645\u062a\u062f\u0631\u062c.\n\n\u0646\u0642\u0648\u0645 \u0628\u0628\u0646\u0627\u0621 \u0645\u062c\u0645\u0648\u0639\u0629 \u0628\u064a\u0627\u0646\u0627\u062a \u0627\u0635\u0637\u0646\u0627\u0639\u064a\u0629 \u062d\u064a\u062b \u062a\u0643\u0648\u0646 \u0642\u064a\u0645\u0629 \u0627\u0644\u0647\u062f\u0641 \u0628\u0634\u0643\u0644 \u0639\u0627\u0645 \u0645\u0631\u062a\u0628\u0637\u0629 \u0628\u0634\u0643\u0644 \u0625\u064a\u062c\u0627\u0628\u064a\n\u0628\u0627\u0644\u0645\u064a\u0632\u0629 \u0627\u0644\u0623\u0648\u0644\u0649 (\u0645\u0639 \u0628\u0639\u0636 \u0627\u0644\u0627\u062e\u062a\u0644\u0627\u0641\u0627\u062a \u0627\u0644\u0639\u0634\u0648\u0627\u0626\u064a\u0629 \u0648\u063a\u064a\u0631 \u0627\u0644\u0639\u0634\u0648\u0627\u0626\u064a\u0629)\u060c \u0648\u0645\u0631\u062a\u0628\u0637\u0629 \u0628\u0634\u0643\u0644 \u0633\u0644\u0628\u064a\n\u0628\u0627\u0644\u0645\u064a\u0632\u0629 \u0627\u0644\u062b\u0627\u0646\u064a\u0629 \u0628\u0634\u0643\u0644 \u0639\u0627\u0645.\n\n\u0645\u0646 \u062e\u0644\u0627\u0644 \u0641\u0631\u0636 \u0642\u064a\u062f \u0632\u064a\u0627\u062f\u0629 \u0631\u062a\u064a\u0628\u0629 \u0623\u0648 \u0642\u064a\u062f \u0646\u0642\u0635\u0627\u0646 \u0631\u062a\u064a\u0628\u060c \u0639\u0644\u0649 \u0627\u0644\u062a\u0648\u0627\u0644\u064a\u060c\n\u0639\u0644\u0649 \u0627\u0644\u0645\u064a\u0632\u0627\u062a \u0623\u062b\u0646\u0627\u0621 \u0639\u0645\u0644\u064a\u0629 \u0627\u0644\u062a\u0639\u0644\u0645\u060c \u064a\u0643\u0648\u0646 \u0627\u0644\u0645\u0642\u062f\u0631 \u0642\u0627\u062f\u0631\u064b\u0627 \u0639\u0644\u0649 \u0627\u062a\u0628\u0627\u0639 \u0627\u0644\u0627\u062a\u062c\u0627\u0647\n\u0627\u0644\u0639\u0627\u0645 \u0628\u0634\u0643\u0644 \u0635\u062d\u064a\u062d \u0628\u062f\u0644\u0627\u064b \u0645\u0646 \u0623\u0646 \u064a\u062e\u0636\u0639 \u0644\u0644\u0627\u062e\u062a\u0644\u0627\u0641\u0627\u062a.\n\n\u0627\u0633\u062a\u0648\u062d\u0649 \u0647\u0630\u0627 \u0627\u0644\u0645\u062b\u0627\u0644 \u0645\u0646 [\u0648\u062b\u0627\u0626\u0642 XGBoost](https://xgboost.readthedocs.io/en/latest/tutorials/monotonic.html).\n"
      ]
    },
    {
      "cell_type": "code",
      "execution_count": null,
      "metadata": {
        "collapsed": false
      },
      "outputs": [],
      "source": [
        "# Authors: The scikit-learn developers\n# SPDX-License-Identifier: BSD-3-Clause"
      ]
    },
    {
      "cell_type": "code",
      "execution_count": null,
      "metadata": {
        "collapsed": false
      },
      "outputs": [],
      "source": [
        "import matplotlib.pyplot as plt\nimport numpy as np\n\nfrom sklearn.ensemble import HistGradientBoostingRegressor\nfrom sklearn.inspection import PartialDependenceDisplay\n\nrng = np.random.RandomState(0)\n\nn_samples = 1000\nf_0 = rng.rand(n_samples)\nf_1 = rng.rand(n_samples)\nX = np.c_[f_0, f_1]\nnoise = rng.normal(loc=0.0, scale=0.01, size=n_samples)\n\n# y \u0645\u0631\u062a\u0628\u0637 \u0628\u0634\u0643\u0644 \u0625\u064a\u062c\u0627\u0628\u064a \u0628\u0640 f_0\u060c \u0648\u0645\u0631\u062a\u0628\u0637 \u0628\u0634\u0643\u0644 \u0633\u0644\u0628\u064a \u0628\u0640 f_1\ny = 5 * f_0 + np.sin(10 * np.pi * f_0) - 5 * f_1 - np.cos(10 * np.pi * f_1) + noise"
      ]
    },
    {
      "cell_type": "markdown",
      "metadata": {},
      "source": [
        "\u0645\u0644\u0627\u0621\u0645\u0629 \u0646\u0645\u0648\u0630\u062c \u0623\u0648\u0644 \u0639\u0644\u0649 \u0645\u062c\u0645\u0648\u0639\u0629 \u0627\u0644\u0628\u064a\u0627\u0646\u0627\u062a \u0647\u0630\u0647 \u0628\u062f\u0648\u0646 \u0623\u064a \u0642\u064a\u0648\u062f.\n\n"
      ]
    },
    {
      "cell_type": "code",
      "execution_count": null,
      "metadata": {
        "collapsed": false
      },
      "outputs": [],
      "source": [
        "gbdt_no_cst = HistGradientBoostingRegressor()\ngbdt_no_cst.fit(X, y)"
      ]
    },
    {
      "cell_type": "markdown",
      "metadata": {},
      "source": [
        "\u0645\u0644\u0627\u0621\u0645\u0629 \u0646\u0645\u0648\u0630\u062c \u062b\u0627\u0646\u064d \u0639\u0644\u0649 \u0645\u062c\u0645\u0648\u0639\u0629 \u0627\u0644\u0628\u064a\u0627\u0646\u0627\u062a \u0647\u0630\u0647 \u0645\u0639 \u0642\u064a\u0648\u062f \u0632\u064a\u0627\u062f\u0629 \u0631\u062a\u064a\u0628\u0629 (1)\n\u0648\u0642\u064a\u062f \u0646\u0642\u0635\u0627\u0646 \u0631\u062a\u064a\u0628 (-1)\u060c \u0639\u0644\u0649 \u0627\u0644\u062a\u0648\u0627\u0644\u064a.\n\n"
      ]
    },
    {
      "cell_type": "code",
      "execution_count": null,
      "metadata": {
        "collapsed": false
      },
      "outputs": [],
      "source": [
        "gbdt_with_monotonic_cst = HistGradientBoostingRegressor(monotonic_cst=[1, -1])\ngbdt_with_monotonic_cst.fit(X, y)"
      ]
    },
    {
      "cell_type": "markdown",
      "metadata": {},
      "source": [
        "\u062f\u0639\u0648\u0646\u0627 \u0646\u0639\u0631\u0636 \u0627\u0644\u0627\u0639\u062a\u0645\u0627\u062f \u0627\u0644\u062c\u0632\u0626\u064a \u0644\u0644\u062a\u0646\u0628\u0624\u0627\u062a \u0639\u0644\u0649 \u0627\u0644\u0645\u064a\u0632\u062a\u064a\u0646.\n\n"
      ]
    },
    {
      "cell_type": "code",
      "execution_count": null,
      "metadata": {
        "collapsed": false
      },
      "outputs": [],
      "source": [
        "fig, ax = plt.subplots()\ndisp = PartialDependenceDisplay.from_estimator(\n    gbdt_no_cst,\n    X,\n    features=[0, 1],\n    feature_names=(\n        \"\u0627\u0644\u0645\u064a\u0632\u0629 \u0627\u0644\u0623\u0648\u0644\u0649\",\n        \"\u0627\u0644\u0645\u064a\u0632\u0629 \u0627\u0644\u062b\u0627\u0646\u064a\u0629\",\n    ),\n    line_kw={\"linewidth\": 4, \"label\": \"\u0628\u062f\u0648\u0646 \u0642\u064a\u0648\u062f\", \"color\": \"tab:blue\"},\n    ax=ax,\n)\nPartialDependenceDisplay.from_estimator(\n    gbdt_with_monotonic_cst,\n    X,\n    features=[0, 1],\n    line_kw={\"linewidth\": 4, \"label\": \"\u0645\u0642\u064a\u062f\", \"color\": \"tab:orange\"},\n    ax=disp.axes_,\n)\n\nfor f_idx in (0, 1):\n    disp.axes_[0, f_idx].plot(\n        X[:, f_idx], y, \"o\", alpha=0.3, zorder=-1, color=\"tab:green\"\n    )\n    disp.axes_[0, f_idx].set_ylim(-6, 6)\n\nplt.legend()\nfig.suptitle(\"\u062a\u0623\u062b\u064a\u0631 \u0627\u0644\u0642\u064a\u0648\u062f \u0627\u0644\u0631\u062a\u064a\u0628\u0629 \u0639\u0644\u0649 \u0627\u0644\u062a\u0628\u0639\u064a\u0627\u062a \u0627\u0644\u062c\u0632\u0626\u064a\u0629\")\nplt.show()"
      ]
    },
    {
      "cell_type": "markdown",
      "metadata": {},
      "source": [
        "\u064a\u0645\u0643\u0646\u0646\u0627 \u0623\u0646 \u0646\u0631\u0649 \u0623\u0646 \u062a\u0646\u0628\u0624\u0627\u062a \u0627\u0644\u0646\u0645\u0648\u0630\u062c \u063a\u064a\u0631 \u0627\u0644\u0645\u0642\u064a\u062f \u062a\u0644\u062a\u0642\u0637\n\u062a\u0630\u0628\u0630\u0628\u0627\u062a \u0627\u0644\u0628\u064a\u0627\u0646\u0627\u062a \u0628\u064a\u0646\u0645\u0627 \u064a\u062a\u0628\u0639 \u0627\u0644\u0646\u0645\u0648\u0630\u062c \u0627\u0644\u0645\u0642\u064a\u062f \u0627\u0644\u0627\u062a\u062c\u0627\u0647\n\u0627\u0644\u0639\u0627\u0645 \u0648\u064a\u062a\u062c\u0627\u0647\u0644 \u0627\u0644\u0627\u062e\u062a\u0644\u0627\u0641\u0627\u062a \u0627\u0644\u0645\u062d\u0644\u064a\u0629.\n\n"
      ]
    },
    {
      "cell_type": "markdown",
      "metadata": {},
      "source": [
        "\n## \u0627\u0633\u062a\u062e\u062f\u0627\u0645 \u0623\u0633\u0645\u0627\u0621 \u0627\u0644\u0645\u064a\u0632\u0627\u062a \u0644\u062a\u062d\u062f\u064a\u062f \u0627\u0644\u0642\u064a\u0648\u062f \u0627\u0644\u0631\u062a\u064a\u0628\u0629\n\n\u0644\u0627\u062d\u0638 \u0623\u0646\u0647 \u0625\u0630\u0627 \u0643\u0627\u0646\u062a \u0628\u064a\u0627\u0646\u0627\u062a \u0627\u0644\u062a\u062f\u0631\u064a\u0628 \u062a\u062d\u062a\u0648\u064a \u0639\u0644\u0649 \u0623\u0633\u0645\u0627\u0621 \u0645\u064a\u0632\u0627\u062a\u060c \u0641\u0645\u0646 \u0627\u0644\u0645\u0645\u0643\u0646 \u062a\u062d\u062f\u064a\u062f\n\u0627\u0644\u0642\u064a\u0648\u062f \u0627\u0644\u0631\u062a\u064a\u0628\u0629 \u0639\u0646 \u0637\u0631\u064a\u0642 \u062a\u0645\u0631\u064a\u0631 \u0642\u0627\u0645\u0648\u0633:\n\n"
      ]
    },
    {
      "cell_type": "code",
      "execution_count": null,
      "metadata": {
        "collapsed": false
      },
      "outputs": [],
      "source": [
        "import pandas as pd\n\nX_df = pd.DataFrame(X, columns=[\"f_0\", \"f_1\"])\n\ngbdt_with_monotonic_cst_df = HistGradientBoostingRegressor(\n    monotonic_cst={\"f_0\": 1, \"f_1\": -1}\n).fit(X_df, y)\n\nnp.allclose(\n    gbdt_with_monotonic_cst_df.predict(X_df), gbdt_with_monotonic_cst.predict(X)\n)"
      ]
    }
  ],
  "metadata": {
    "kernelspec": {
      "display_name": "Python 3",
      "language": "python",
      "name": "python3"
    },
    "language_info": {
      "codemirror_mode": {
        "name": "ipython",
        "version": 3
      },
      "file_extension": ".py",
      "mimetype": "text/x-python",
      "name": "python",
      "nbconvert_exporter": "python",
      "pygments_lexer": "ipython3",
      "version": "3.10.13"
    }
  },
  "nbformat": 4,
  "nbformat_minor": 0
}