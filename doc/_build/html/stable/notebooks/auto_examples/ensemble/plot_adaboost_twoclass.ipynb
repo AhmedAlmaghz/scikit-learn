{
  "cells": [
    {
      "cell_type": "markdown",
      "metadata": {},
      "source": [
        "\n# \u062a\u0635\u0646\u064a\u0641 \u062b\u0646\u0627\u0626\u064a \u0628\u0627\u0633\u062a\u062e\u062f\u0627\u0645 AdaBoost\n\n\u0647\u0630\u0627 \u0627\u0644\u0645\u062b\u0627\u0644 \u064a\u0642\u0648\u0645 \u0628\u062a\u062f\u0631\u064a\u0628 \u0646\u0645\u0648\u0630\u062c \u0634\u062c\u0631\u0629 \u0642\u0631\u0627\u0631 \u0645\u0639\u0632\u0632 \u0628\u0627\u0633\u062a\u062e\u062f\u0627\u0645 AdaBoost \u0639\u0644\u0649 \u0645\u062c\u0645\u0648\u0639\u0629 \u0628\u064a\u0627\u0646\u0627\u062a \u062a\u0635\u0646\u064a\u0641 \u063a\u064a\u0631 \u062e\u0637\u064a\u0629\u060c \u0645\u0643\u0648\u0646\u0629 \u0645\u0646 \u0645\u062c\u0645\u0648\u0639\u062a\u064a\u0646 \"Gaussian quantiles\" (\u0627\u0646\u0638\u0631: :func:`sklearn.datasets.make_gaussian_quantiles`) \u0648\u064a\u0639\u0631\u0636 \u062d\u062f\u0648\u062f \u0627\u0644\u0642\u0631\u0627\u0631 \u0648\u062f\u0631\u062c\u0627\u062a \u0627\u0644\u0642\u0631\u0627\u0631. \u064a\u062a\u0645 \u0639\u0631\u0636 \u062a\u0648\u0632\u064a\u0639\u0627\u062a \u062f\u0631\u062c\u0627\u062a \u0627\u0644\u0642\u0631\u0627\u0631 \u0628\u0634\u0643\u0644 \u0645\u0646\u0641\u0635\u0644 \u0644\u0644\u0639\u064a\u0646\u0627\u062a \u0645\u0646 \u0627\u0644\u0641\u0626\u0629 A \u0648\u0627\u0644\u0641\u0626\u0629 B. \u064a\u062a\u0645 \u062a\u062d\u062f\u064a\u062f \u062a\u0633\u0645\u064a\u0629 \u0627\u0644\u0641\u0626\u0629 \u0627\u0644\u0645\u062a\u0648\u0642\u0639\u0629 \u0644\u0643\u0644 \u0639\u064a\u0646\u0629 \u0628\u0646\u0627\u0621\u064b \u0639\u0644\u0649 \u0625\u0634\u0627\u0631\u0629 \u062f\u0631\u062c\u0629 \u0627\u0644\u0642\u0631\u0627\u0631. \u064a\u062a\u0645 \u062a\u0635\u0646\u064a\u0641 \u0627\u0644\u0639\u064a\u0646\u0627\u062a \u0627\u0644\u062a\u064a \u0644\u0647\u0627 \u062f\u0631\u062c\u0627\u062a \u0642\u0631\u0627\u0631 \u0623\u0643\u0628\u0631 \u0645\u0646 \u0627\u0644\u0635\u0641\u0631 \u0639\u0644\u0649 \u0623\u0646\u0647\u0627 \u0645\u0646 \u0627\u0644\u0641\u0626\u0629 B\u060c \u0648\u0625\u0644\u0627 \u064a\u062a\u0645 \u062a\u0635\u0646\u064a\u0641\u0647\u0627 \u0639\u0644\u0649 \u0623\u0646\u0647\u0627 \u0645\u0646 \u0627\u0644\u0641\u0626\u0629 A. \u064a\u062d\u062f\u062f \u0645\u0642\u062f\u0627\u0631 \u062f\u0631\u062c\u0629 \u0627\u0644\u0642\u0631\u0627\u0631 \u062f\u0631\u062c\u0629 \u0627\u0644\u062a\u0634\u0627\u0628\u0647 \u0645\u0639 \u062a\u0633\u0645\u064a\u0629 \u0627\u0644\u0641\u0626\u0629 \u0627\u0644\u0645\u062a\u0648\u0642\u0639\u0629. \u0628\u0627\u0644\u0625\u0636\u0627\u0641\u0629 \u0625\u0644\u0649 \u0630\u0644\u0643\u060c \u064a\u0645\u0643\u0646 \u0628\u0646\u0627\u0621 \u0645\u062c\u0645\u0648\u0639\u0629 \u0628\u064a\u0627\u0646\u0627\u062a \u062c\u062f\u064a\u062f\u0629 \u062a\u062d\u062a\u0648\u064a \u0639\u0644\u0649 \u0646\u0642\u0627\u0621 \u0645\u0631\u063a\u0648\u0628 \u0641\u064a\u0647 \u0645\u0646 \u0627\u0644\u0641\u0626\u0629 B\u060c \u0639\u0644\u0649 \u0633\u0628\u064a\u0644 \u0627\u0644\u0645\u062b\u0627\u0644\u060c \u0639\u0646 \u0637\u0631\u064a\u0642 \u0627\u062e\u062a\u064a\u0627\u0631 \u0627\u0644\u0639\u064a\u0646\u0627\u062a \u0641\u0642\u0637 \u0628\u062f\u0631\u062c\u0629 \u0642\u0631\u0627\u0631 \u0623\u0639\u0644\u0649 \u0645\u0646 \u0642\u064a\u0645\u0629 \u0645\u0639\u064a\u0646\u0629.\n"
      ]
    },
    {
      "cell_type": "code",
      "execution_count": null,
      "metadata": {
        "collapsed": false
      },
      "outputs": [],
      "source": [
        "# \u0627\u0644\u0645\u0624\u0644\u0641\u0648\u0646: \u0645\u0637\u0648\u0631\u064a scikit-learn\n# \u0645\u0639\u0631\u0641 \u0627\u0644\u062a\u0631\u062e\u064a\u0635: BSD-3-Clause\n\nimport matplotlib.pyplot as plt\nimport numpy as np\n\nfrom sklearn.datasets import make_gaussian_quantiles\nfrom sklearn.ensemble import AdaBoostClassifier\nfrom sklearn.inspection import DecisionBoundaryDisplay\nfrom sklearn.tree import DecisionTreeClassifier\n\n# \u0625\u0646\u0634\u0627\u0621 \u0645\u062c\u0645\u0648\u0639\u0629 \u0627\u0644\u0628\u064a\u0627\u0646\u0627\u062a\nX1, y1 = make_gaussian_quantiles(\n    cov=2.0, n_samples=200, n_features=2, n_classes=2, random_state=1\n)\nX2, y2 = make_gaussian_quantiles(\n    mean=(3, 3), cov=1.5, n_samples=300, n_features=2, n_classes=2, random_state=1\n)\nX = np.concatenate((X1, X2))\ny = np.concatenate((y1, -y2 + 1))\n\n# \u0625\u0646\u0634\u0627\u0621 \u0648\u062a\u062f\u0631\u064a\u0628 \u0646\u0645\u0648\u0630\u062c \u0634\u062c\u0631\u0629 \u0642\u0631\u0627\u0631 \u0645\u0639\u0632\u0632 \u0628\u0627\u0633\u062a\u062e\u062f\u0627\u0645 AdaBoost\nbdt = AdaBoostClassifier(DecisionTreeClassifier(max_depth=1), n_estimators=200)\nbdt.fit(X, y)\n\nplot_colors = \"br\"\nplot_step = 0.02\nclass_names = \"AB\"\n\nplt.figure(figsize=(10, 5))\n\n# \u0631\u0633\u0645 \u062d\u062f\u0648\u062f \u0627\u0644\u0642\u0631\u0627\u0631\nax = plt.subplot(121)\ndisp = DecisionBoundaryDisplay.from_estimator(\n    bdt,\n    X,\n    cmap=plt.cm.Paired,\n    response_method=\"predict\",\n    ax=ax,\n    xlabel=\"x\",\n    ylabel=\"y\",\n)\nx_min, x_max = disp.xx0.min(), disp.xx0.max()\ny_min, y_max = disp.xx1.min(), disp.xx1.max()\nplt.axis(\"tight\")\n\n# \u0631\u0633\u0645 \u0646\u0642\u0627\u0637 \u0627\u0644\u062a\u062f\u0631\u064a\u0628\nfor i, n, c in zip(range(2), class_names, plot_colors):\n    idx = np.where(y == i)\n    plt.scatter(\n        X[idx, 0],\n        X[idx, 1],\n        c=c,\n        s=20,\n        edgecolor=\"k\",\n        label=\"Class %s\" % n,\n    )\nplt.xlim(x_min, x_max)\nplt.ylim(y_min, y_max)\nplt.legend(loc=\"upper right\")\n\nplt.title(\"Decision Boundary\")\n\n# \u0631\u0633\u0645 \u062f\u0631\u062c\u0627\u062a \u0627\u0644\u0642\u0631\u0627\u0631 \u062b\u0646\u0627\u0626\u064a\u0629 \u0627\u0644\u062a\u0635\u0646\u064a\u0641\ntwoclass_output = bdt.decision_function(X)\nplot_range = (twoclass_output.min(), twoclass_output.max())\nplt.subplot(122)\nfor i, n, c in zip(range(2), class_names, plot_colors):\n    plt.hist(\n        twoclass_output[y == i],\n        bins=10,\n        range=plot_range,\n        facecolor=c,\n        label=\"Class %s\" % n,\n        alpha=0.5,\n        edgecolor=\"k\",\n    )\nx1, x2, y1, y2 = plt.axis()\nplt.axis((x1, x2, y1, y2 * 1.2))\nplt.legend(loc=\"upper right\")\nplt.ylabel(\"Samples\")\nplt.xlabel(\"Score\")\nplt.title(\"Decision Scores\")\n\nplt.tight_layout()\nplt.subplots_adjust(wspace=0.35)\nplt.show()"
      ]
    }
  ],
  "metadata": {
    "kernelspec": {
      "display_name": "Python 3",
      "language": "python",
      "name": "python3"
    },
    "language_info": {
      "codemirror_mode": {
        "name": "ipython",
        "version": 3
      },
      "file_extension": ".py",
      "mimetype": "text/x-python",
      "name": "python",
      "nbconvert_exporter": "python",
      "pygments_lexer": "ipython3",
      "version": "3.10.13"
    }
  },
  "nbformat": 4,
  "nbformat_minor": 0
}