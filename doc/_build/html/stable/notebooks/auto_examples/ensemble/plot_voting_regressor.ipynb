{
  "cells": [
    {
      "cell_type": "markdown",
      "metadata": {},
      "source": [
        "\n# \u0631\u0633\u0645 \u062a\u0646\u0628\u0624\u0627\u062a \u0627\u0644\u0627\u0646\u062d\u062f\u0627\u0631 \u0627\u0644\u0641\u0631\u062f\u064a\u0629 \u0648\u0627\u0644\u062a\u0635\u0648\u064a\u062a\u064a\u0629\n\n.. currentmodule:: sklearn\n\n\u0645\u064f\u0646\u062d\u062f\u0650\u0631 \u0627\u0644\u062a\u0635\u0648\u064a\u062a \u0647\u0648 \u0645\u0642\u062f\u0631 \u062a\u0644\u0648\u064a \u062c\u0645\u0627\u0639\u064a \u064a\u0642\u0648\u0645 \u0628\u0645\u0644\u0627\u0621\u0645\u0629 \u0627\u0644\u0639\u062f\u064a\u062f \u0645\u0646 \u0627\u0644\u0645\u064f\u0646\u062d\u062f\u0631\u0627\u062a\n\u0627\u0644\u0623\u0633\u0627\u0633\u064a\u0629\u060c \u0643\u0644 \u0645\u0646\u0647\u0627 \u0639\u0644\u0649 \u0645\u062c\u0645\u0648\u0639\u0629 \u0627\u0644\u0628\u064a\u0627\u0646\u0627\u062a \u0628\u0623\u0643\u0645\u0644\u0647\u0627. \u062b\u0645 \u064a\u0642\u0648\u0645 \u0628\u0645\u062a\u0648\u0633\u0637 \u200b\u200b\u0627\u0644\u062a\u0646\u0628\u0624\u0627\u062a\n\u0627\u0644\u0641\u0631\u062f\u064a\u0629 \u0644\u062a\u0634\u0643\u064a\u0644 \u062a\u0646\u0628\u0624 \u0646\u0647\u0627\u0626\u064a.\n\u0633\u0646\u0633\u062a\u062e\u062f\u0645 \u062b\u0644\u0627\u062b\u0629 \u0645\u064f\u0646\u062d\u062f\u0631\u0627\u062a \u0645\u062e\u062a\u0644\u0641\u0629 \u0644\u0644\u062a\u0646\u0628\u0624 \u0628\u0627\u0644\u0628\u064a\u0627\u0646\u0627\u062a:\n:class:`~ensemble.GradientBoostingRegressor` \u0648\n:class:`~ensemble.RandomForestRegressor` \u0648\n:class:`~linear_model.LinearRegression`).\n\u062b\u0645 \u0633\u064a\u062a\u0645 \u0627\u0633\u062a\u062e\u062f\u0627\u0645 \u0627\u0644\u0645\u064f\u0646\u062d\u062f\u0631\u0627\u062a \u0627\u0644\u062b\u0644\u0627\u062b\u0629 \u0627\u0644\u0645\u0630\u0643\u0648\u0631\u0629 \u0623\u0639\u0644\u0627\u0647 \u0644\u0640\n:class:`~ensemble.VotingRegressor`.\n\n\u0623\u062e\u064a\u0631\u064b\u0627\u060c \u0633\u0646\u0631\u0633\u0645 \u0627\u0644\u062a\u0646\u0628\u0624\u0627\u062a \u0627\u0644\u062a\u064a \u062a\u0645 \u0625\u062c\u0631\u0627\u0624\u0647\u0627 \u0628\u0648\u0627\u0633\u0637\u0629 \u062c\u0645\u064a\u0639 \u0627\u0644\u0646\u0645\u0627\u0630\u062c \u0644\u0644\u0645\u0642\u0627\u0631\u0646\u0629.\n\n\u0633\u0646\u0639\u0645\u0644 \u0645\u0639 \u0645\u062c\u0645\u0648\u0639\u0629 \u0628\u064a\u0627\u0646\u0627\u062a \u0645\u0631\u0636 \u0627\u0644\u0633\u0643\u0631\u064a \u0627\u0644\u062a\u064a \u062a\u062a\u0643\u0648\u0646 \u0645\u0646 10 \u0645\u064a\u0632\u0627\u062a\n\u062a\u0645 \u062c\u0645\u0639\u0647\u0627 \u0645\u0646 \u0645\u062c\u0645\u0648\u0639\u0629 \u0645\u0646 \u0645\u0631\u0636\u0649 \u0627\u0644\u0633\u0643\u0631\u064a. \u0627\u0644\u0647\u062f\u0641 \u0647\u0648 \u0642\u064a\u0627\u0633 \u0643\u0645\u064a\n\u0644\u062a\u0637\u0648\u0631 \u0627\u0644\u0645\u0631\u0636 \u0628\u0639\u062f \u0639\u0627\u0645 \u0648\u0627\u062d\u062f \u0645\u0646 \u062e\u0637 \u0627\u0644\u0623\u0633\u0627\u0633.\n"
      ]
    },
    {
      "cell_type": "code",
      "execution_count": null,
      "metadata": {
        "collapsed": false
      },
      "outputs": [],
      "source": [
        "# Authors: The scikit-learn developers\n# SPDX-License-Identifier: BSD-3-Clause\n\nimport matplotlib.pyplot as plt\n\nfrom sklearn.datasets import load_diabetes\nfrom sklearn.ensemble import (\n    GradientBoostingRegressor,\n    RandomForestRegressor,\n    VotingRegressor,\n)\nfrom sklearn.linear_model import LinearRegression"
      ]
    },
    {
      "cell_type": "markdown",
      "metadata": {},
      "source": [
        "## \u062a\u062f\u0631\u064a\u0628 \u0627\u0644\u0645\u0635\u0646\u0641\u0627\u062a\n\n\u0623\u0648\u0644\u0627\u064b\u060c \u0633\u0646\u0642\u0648\u0645 \u0628\u062a\u062d\u0645\u064a\u0644 \u0645\u062c\u0645\u0648\u0639\u0629 \u0628\u064a\u0627\u0646\u0627\u062a \u0645\u0631\u0636 \u0627\u0644\u0633\u0643\u0631\u064a \u0648\u0628\u062f\u0621 \u0645\u064f\u0646\u062d\u062f\u0650\u0631 \u0627\u0644\u062a\u0639\u0632\u064a\u0632\n\u0627\u0644\u0645\u062a\u062f\u0631\u062c\u060c \u0648\u0645\u064f\u0646\u062d\u062f\u0650\u0631 \u063a\u0627\u0628\u0629 \u0639\u0634\u0648\u0627\u0626\u064a\u0629\u060c \u0648\u0627\u0646\u062d\u062f\u0627\u0631 \u062e\u0637\u064a. \u0628\u0639\u062f \u0630\u0644\u0643\u060c \u0633\u0646\u0633\u062a\u062e\u062f\u0645\n\u0627\u0644\u0645\u064f\u0646\u062d\u062f\u0631\u0627\u062a \u0627\u0644\u062b\u0644\u0627\u062b\u0629 \u0644\u0628\u0646\u0627\u0621 \u0645\u064f\u0646\u062d\u062f\u0650\u0631 \u0627\u0644\u062a\u0635\u0648\u064a\u062a:\n\n"
      ]
    },
    {
      "cell_type": "code",
      "execution_count": null,
      "metadata": {
        "collapsed": false
      },
      "outputs": [],
      "source": [
        "X, y = load_diabetes(return_X_y=True)\n\n# \u062a\u062f\u0631\u064a\u0628 \u0627\u0644\u0645\u0635\u0646\u0641\u0627\u062a\nreg1 = GradientBoostingRegressor(random_state=1)\nreg2 = RandomForestRegressor(random_state=1)\nreg3 = LinearRegression()\n\nreg1.fit(X, y)\nreg2.fit(X, y)\nreg3.fit(X, y)\n\nereg = VotingRegressor([(\"gb\", reg1), (\"rf\", reg2), (\"lr\", reg3)])\nereg.fit(X, y)"
      ]
    },
    {
      "cell_type": "markdown",
      "metadata": {},
      "source": [
        "## \u0625\u062c\u0631\u0627\u0621 \u0627\u0644\u062a\u0646\u0628\u0624\u0627\u062a\n\n\u0627\u0644\u0622\u0646 \u0633\u0646\u0633\u062a\u062e\u062f\u0645 \u0643\u0644 \u0645\u064f\u0646\u062d\u062f\u0650\u0631 \u0644\u0625\u062c\u0631\u0627\u0621 \u0627\u0644\u062a\u0646\u0628\u0624\u0627\u062a \u0627\u0644\u0639\u0634\u0631\u064a\u0646 \u0627\u0644\u0623\u0648\u0644\u0649.\n\n"
      ]
    },
    {
      "cell_type": "code",
      "execution_count": null,
      "metadata": {
        "collapsed": false
      },
      "outputs": [],
      "source": [
        "xt = X[:20]\n\npred1 = reg1.predict(xt)\npred2 = reg2.predict(xt)\npred3 = reg3.predict(xt)\npred4 = ereg.predict(xt)"
      ]
    },
    {
      "cell_type": "markdown",
      "metadata": {},
      "source": [
        "## \u0631\u0633\u0645 \u0627\u0644\u0646\u062a\u0627\u0626\u062c\n\n\u0623\u062e\u064a\u0631\u064b\u0627\u060c \u0633\u0646\u0642\u0648\u0645 \u0628\u062a\u0635\u0648\u0631 \u0627\u0644\u062a\u0646\u0628\u0624\u0627\u062a \u0627\u0644\u0639\u0634\u0631\u064a\u0646. \u062a\u064f\u0638\u0647\u0631 \u0627\u0644\u0646\u062c\u0648\u0645 \u0627\u0644\u062d\u0645\u0631\u0627\u0621 \u0645\u062a\u0648\u0633\u0637\n\u200b\u200b\u0627\u0644\u062a\u0646\u0628\u0624 \u0627\u0644\u0630\u064a \u062a\u0645 \u0625\u062c\u0631\u0627\u0624\u0647 \u0628\u0648\u0627\u0633\u0637\u0629 :class:`~ensemble.VotingRegressor`.\n\n"
      ]
    },
    {
      "cell_type": "code",
      "execution_count": null,
      "metadata": {
        "collapsed": false
      },
      "outputs": [],
      "source": [
        "plt.figure()\nplt.plot(pred1, \"gd\", label=\"GradientBoostingRegressor\")\nplt.plot(pred2, \"b^\", label=\"RandomForestRegressor\")\nplt.plot(pred3, \"ys\", label=\"LinearRegression\")\nplt.plot(pred4, \"r*\", ms=10, label=\"VotingRegressor\")\n\nplt.tick_params(axis=\"x\", which=\"both\", bottom=False, top=False, labelbottom=False)\nplt.ylabel(\"\u0645\u062a\u0648\u0642\u0639\")\nplt.xlabel(\"\u0639\u064a\u0646\u0627\u062a \u0627\u0644\u062a\u062f\u0631\u064a\u0628\")\nplt.legend(loc=\"best\")\nplt.title(\"\u062a\u0646\u0628\u0624\u0627\u062a \u0627\u0644\u0645\u064f\u0646\u062d\u062f\u0650\u0631 \u0648\u0645\u062a\u0648\u0633\u0637\u0647\u0627\")\n\nplt.show()"
      ]
    }
  ],
  "metadata": {
    "kernelspec": {
      "display_name": "Python 3",
      "language": "python",
      "name": "python3"
    },
    "language_info": {
      "codemirror_mode": {
        "name": "ipython",
        "version": 3
      },
      "file_extension": ".py",
      "mimetype": "text/x-python",
      "name": "python",
      "nbconvert_exporter": "python",
      "pygments_lexer": "ipython3",
      "version": "3.10.13"
    }
  },
  "nbformat": 4,
  "nbformat_minor": 0
}