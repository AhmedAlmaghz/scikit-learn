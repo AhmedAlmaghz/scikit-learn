{
  "cells": [
    {
      "cell_type": "markdown",
      "metadata": {},
      "source": [
        "\n# \u062a\u0642\u064a\u064a\u0645 \u062e\u0648\u0627\u0631\u0632\u0645\u064a\u0627\u062a \u0643\u0634\u0641 \u0627\u0644\u0634\u0648\u0627\u0630\n\n\u064a\u0642\u0627\u0631\u0646 \u0647\u0630\u0627 \u0627\u0644\u0645\u062b\u0627\u0644 \u0628\u064a\u0646 \u062e\u0648\u0627\u0631\u0632\u0645\u064a\u062a\u064a\u0646 \u0644\u0643\u0634\u0641 \u0627\u0644\u0634\u0648\u0627\u0630\u060c \u0648\u0647\u0645\u0627\n`local_outlier_factor` (LOF) \u0648 `isolation_forest` (IForest)\u060c \u0639\u0644\u0649\n\u0645\u062c\u0645\u0648\u0639\u0627\u062a \u0628\u064a\u0627\u0646\u0627\u062a \u0648\u0627\u0642\u0639\u064a\u0629 \u0645\u062a\u0648\u0641\u0631\u0629 \u0641\u064a :class:`sklearn.datasets`. \u0627\u0644\u0647\u062f\u0641 \u0647\u0648 \u0625\u0638\u0647\u0627\u0631\n\u0623\u0646 \u062e\u0648\u0627\u0631\u0632\u0645\u064a\u0627\u062a \u0645\u062e\u062a\u0644\u0641\u0629 \u062a\u0624\u062f\u064a \u0623\u062f\u0627\u0621\u064b \u062c\u064a\u062f\u064b\u0627 \u0639\u0644\u0649 \u0645\u062c\u0645\u0648\u0639\u0627\u062a \u0628\u064a\u0627\u0646\u0627\u062a \u0645\u062e\u062a\u0644\u0641\u0629 \u0648\u062a\u0648\u0636\u064a\u062d \u0633\u0631\u0639\u0629\n\u062a\u062f\u0631\u064a\u0628\u0647\u0627 \u0648\u062d\u0633\u0627\u0633\u064a\u062a\u0647\u0627 \u0644\u0636\u0628\u0637 \u0627\u0644\u0645\u0639\u0644\u0645\u0627\u062a.\n\n\u062a\u062a\u0645 \u062a\u062f\u0631\u064a\u0628 \u0627\u0644\u062e\u0648\u0627\u0631\u0632\u0645\u064a\u0627\u062a (\u0628\u062f\u0648\u0646 \u062a\u0633\u0645\u064a\u0627\u062a) \u0639\u0644\u0649 \u0645\u062c\u0645\u0648\u0639\u0629 \u0627\u0644\u0628\u064a\u0627\u0646\u0627\u062a \u0627\u0644\u0643\u0627\u0645\u0644\u0629 \u0627\u0644\u0645\u0641\u062a\u0631\u0636\u0629\n\u0623\u0646\u0647\u0627 \u062a\u062d\u062a\u0648\u064a \u0639\u0644\u0649 \u0634\u0648\u0627\u0630.\n\n1. \u064a\u062a\u0645 \u062d\u0633\u0627\u0628 \u0645\u0646\u062d\u0646\u064a\u0627\u062a ROC \u0628\u0627\u0633\u062a\u062e\u062f\u0627\u0645 \u0645\u0639\u0631\u0641\u0629 \u0627\u0644\u062a\u0633\u0645\u064a\u0627\u062a \u0627\u0644\u062d\u0642\u064a\u0642\u064a\u0629\n\u0648\u0639\u0631\u0636\u0647\u0627 \u0628\u0627\u0633\u062a\u062e\u062f\u0627\u0645 :class:`~sklearn.metrics.RocCurveDisplay`.\n\n2. \u064a\u062a\u0645 \u062a\u0642\u064a\u064a\u0645 \u0627\u0644\u0623\u062f\u0627\u0621 \u0645\u0646 \u062d\u064a\u062b ROC-AUC.\n"
      ]
    },
    {
      "cell_type": "code",
      "execution_count": null,
      "metadata": {
        "collapsed": false
      },
      "outputs": [],
      "source": [
        "# \u0627\u0644\u0645\u0624\u0644\u0641\u0648\u0646: \u0645\u0637\u0648\u0631\u064a scikit-learn\n# \u0645\u0639\u0631\u0641 SPDX-License: BSD-3-Clause"
      ]
    },
    {
      "cell_type": "markdown",
      "metadata": {},
      "source": [
        "## \u0645\u0639\u0627\u0644\u062c\u0629 \u0627\u0644\u0628\u064a\u0627\u0646\u0627\u062a \u0648\u062a\u062f\u0631\u064a\u0628 \u0627\u0644\u0646\u0645\u0648\u0630\u062c\n\n\u062a\u062a\u0637\u0644\u0628 \u0646\u0645\u0627\u0630\u062c \u0643\u0634\u0641 \u0627\u0644\u0634\u0648\u0627\u0630 \u0627\u0644\u0645\u062e\u062a\u0644\u0641\u0629 \u0645\u0639\u0627\u0644\u062c\u0629 \u0645\u0633\u0628\u0642\u0629 \u0645\u062e\u062a\u0644\u0641\u0629. \u0641\u064a\n\u0648\u062c\u0648\u062f \u0645\u062a\u063a\u064a\u0631\u0627\u062a \u0641\u0626\u0648\u064a\u0629\u060c\n:class:`~sklearn.preprocessing.OrdinalEncoder` \u0647\u064a \u0627\u0633\u062a\u0631\u0627\u062a\u064a\u062c\u064a\u0629 \u062c\u064a\u062f\u0629 \u063a\u0627\u0644\u0628\u064b\u0627\n\u0644\u0644\u0646\u0645\u0627\u0630\u062c \u0627\u0644\u0642\u0627\u0626\u0645\u0629 \u0639\u0644\u0649 \u0627\u0644\u0623\u0634\u062c\u0627\u0631 \u0645\u062b\u0644 :class:`~sklearn.ensemble.IsolationForest`\u060c\n\u0641\u064a \u062d\u064a\u0646 \u0623\u0646 \u0627\u0644\u0646\u0645\u0627\u0630\u062c \u0627\u0644\u0642\u0627\u0626\u0645\u0629 \u0639\u0644\u0649 \u0627\u0644\u062c\u064a\u0631\u0627\u0646 \u0645\u062b\u0644\n:class:`~sklearn.neighbors.LocalOutlierFactor`\n\u0633\u062a\u062a\u0623\u062b\u0631 \u0628\u0627\u0644\u062a\u0631\u062a\u064a\u0628 \u0627\u0644\u0646\u0627\u062a\u062c \u0639\u0646 \u0627\u0644\u062a\u0631\u0645\u064a\u0632 \u0627\u0644\u062a\u0631\u062a\u064a\u0628\u064a. \u0644\u062a\u062c\u0646\u0628\n\u0641\u0631\u0636 \u062a\u0631\u062a\u064a\u0628\u060c \u064a\u062c\u0628 \u0627\u0633\u062a\u062e\u062f\u0627\u0645\n:class:`~sklearn.preprocessing.OneHotEncoder`.\n\n\u0642\u062f \u062a\u062a\u0637\u0644\u0628 \u0627\u0644\u0646\u0645\u0627\u0630\u062c \u0627\u0644\u0642\u0627\u0626\u0645\u0629 \u0639\u0644\u0649 \u0627\u0644\u062c\u064a\u0631\u0627\u0646 \u0623\u064a\u0636\u064b\u0627 \u0645\u0639\u0627\u064a\u0631\u0629 \u0627\u0644\u0645\u064a\u0632\u0627\u062a \u0627\u0644\u0631\u0642\u0645\u064a\u0629 (\u0627\u0646\u0638\u0631\n\u0639\u0644\u0649 \u0633\u0628\u064a\u0644 \u0627\u0644\u0645\u062b\u0627\u0644 `neighbors_scaling`). \u0641\u064a \u0648\u062c\u0648\u062f \u0634\u0648\u0627\u0630\u060c \u064a\u0639\u062f\n:class:`~sklearn.preprocessing.RobustScaler`\n\u062e\u064a\u0627\u0631\u064b\u0627 \u062c\u064a\u062f\u064b\u0627.\n\n"
      ]
    },
    {
      "cell_type": "code",
      "execution_count": null,
      "metadata": {
        "collapsed": false
      },
      "outputs": [],
      "source": [
        "from sklearn.compose import ColumnTransformer\nfrom sklearn.ensemble import IsolationForest\nfrom sklearn.neighbors import LocalOutlierFactor\nfrom sklearn.pipeline import make_pipeline\nfrom sklearn.preprocessing import (\n    OneHotEncoder,\n    OrdinalEncoder,\n    RobustScaler,\n)\n\n\ndef make_estimator(name, categorical_columns=None, iforest_kw=None, lof_kw=None):\n    \"\"\"\u0625\u0646\u0634\u0627\u0621 \u0646\u0645\u0648\u0630\u062c \u0643\u0634\u0641 \u0634\u0648\u0627\u0630 \u0628\u0646\u0627\u0621\u064b \u0639\u0644\u0649 \u0627\u0633\u0645\u0647.\"\"\"\n    if name == \"LOF\":\n        outlier_detector = LocalOutlierFactor(**(lof_kw or {}))\n        if categorical_columns is None:\n            preprocessor = RobustScaler()\n        else:\n            preprocessor = ColumnTransformer(\n                transformers=[(\"categorical\", OneHotEncoder(), categorical_columns)],\n                remainder=RobustScaler(),\n            )\n    else:  # name == \"IForest\"\n        outlier_detector = IsolationForest(**(iforest_kw or {}))\n        if categorical_columns is None:\n            preprocessor = None\n        else:\n            ordinal_encoder = OrdinalEncoder(\n                handle_unknown=\"use_encoded_value\", unknown_value=-1\n            )\n            preprocessor = ColumnTransformer(\n                transformers=[\n                    (\"categorical\", ordinal_encoder, categorical_columns),\n                ],\n                remainder=\"passthrough\",\n            )\n\n    return make_pipeline(preprocessor, outlier_detector)"
      ]
    },
    {
      "cell_type": "markdown",
      "metadata": {},
      "source": [
        "\u062a\u0642\u0648\u0645 \u062f\u0627\u0644\u0629 `fit_predict` \u0627\u0644\u062a\u0627\u0644\u064a\u0629 \u0628\u0625\u0631\u062c\u0627\u0639 \u0645\u062a\u0648\u0633\u0637 \u062f\u0631\u062c\u0629 \u0627\u0644\u0634\u0630\u0648\u0630 \u0644\u0640 X.\n\n"
      ]
    },
    {
      "cell_type": "code",
      "execution_count": null,
      "metadata": {
        "collapsed": false
      },
      "outputs": [],
      "source": [
        "from time import perf_counter\n\n\ndef fit_predict(estimator, X):\n    tic = perf_counter()\n    if estimator[-1].__class__.__name__ == \"LocalOutlierFactor\":\n        estimator.fit(X)\n        y_pred = estimator[-1].negative_outlier_factor_\n    else:  # \"IsolationForest\"\n        y_pred = estimator.fit(X).decision_function(X)\n    toc = perf_counter()\n    print(f\"Duration for {model_name}: {toc - tic:.2f} s\")\n    return y_pred"
      ]
    },
    {
      "cell_type": "markdown",
      "metadata": {},
      "source": [
        "\u0641\u064a \u0628\u0642\u064a\u0629 \u0627\u0644\u0645\u062b\u0627\u0644\u060c \u0646\u0642\u0648\u0645 \u0628\u0645\u0639\u0627\u0644\u062c\u0629 \u0645\u062c\u0645\u0648\u0639\u0629 \u0628\u064a\u0627\u0646\u0627\u062a \u0648\u0627\u062d\u062f\u0629 \u0644\u0643\u0644 \u0642\u0633\u0645. \u0628\u0639\u062f \u062a\u062d\u0645\u064a\u0644\n\u0627\u0644\u0628\u064a\u0627\u0646\u0627\u062a\u060c \u064a\u062a\u0645 \u062a\u0639\u062f\u064a\u0644 \u0627\u0644\u0623\u0647\u062f\u0627\u0641 \u0644\u062a\u0634\u0645\u0644 \u0641\u0626\u062a\u064a\u0646: 0 \u062a\u0645\u062b\u0644\n\u0627\u0644\u0642\u064a\u0645 \u0627\u0644\u0639\u0627\u062f\u064a\u0629 \u0648 1 \u062a\u0645\u062b\u0644 \u0627\u0644\u0634\u0648\u0627\u0630. \u0628\u0633\u0628\u0628 \u0627\u0644\u0642\u064a\u0648\u062f \u0627\u0644\u062d\u0633\u0627\u0628\u064a\u0629 \u0644\u0648\u062b\u0627\u0626\u0642 scikit-learn\u060c\n\u064a\u062a\u0645 \u062a\u0642\u0644\u064a\u0644 \u062d\u062c\u0645 \u0627\u0644\u0639\u064a\u0646\u0629 \u0644\u0628\u0639\u0636 \u0645\u062c\u0645\u0648\u0639\u0627\u062a \u0627\u0644\u0628\u064a\u0627\u0646\u0627\u062a \u0628\u0627\u0633\u062a\u062e\u062f\u0627\u0645\n:class:`~sklearn.model_selection.train_test_split`.\n\n\u0639\u0644\u0627\u0648\u0629 \u0639\u0644\u0649 \u0630\u0644\u0643\u060c \u0646\u0642\u0648\u0645 \u0628\u0636\u0628\u0637 `n_neighbors` \u0644\u064a\u062a\u0646\u0627\u0633\u0628 \u0645\u0639 \u0627\u0644\u0639\u062f\u062f \u0627\u0644\u0645\u062a\u0648\u0642\u0639 \u0644\u0644\u0634\u0648\u0627\u0630\n`expected_n_anomalies = n_samples * expected_anomaly_fraction`. \u0647\u0630\u0647 \u0647\u064a\n\u0627\u0633\u062a\u0631\u0627\u062a\u064a\u062c\u064a\u0629 \u062c\u064a\u062f\u0629 \u0637\u0627\u0644\u0645\u0627 \u0623\u0646 \u0646\u0633\u0628\u0629 \u0627\u0644\u0634\u0648\u0627\u0630 \u0644\u064a\u0633\u062a \u0645\u0646\u062e\u0641\u0636\u0629 \u062c\u062f\u064b\u0627\u060c \u0648\u0627\u0644\u0633\u0628\u0628\n\u0647\u0648 \u0623\u0646 `n_neighbors` \u064a\u062c\u0628 \u0623\u0646 \u064a\u0643\u0648\u0646 \u0623\u0643\u0628\u0631 \u0645\u0646 \u0639\u062f\u062f \u0627\u0644\u0639\u064a\u0646\u0627\u062a\n\u0641\u064a \u0627\u0644\u0645\u062c\u0645\u0648\u0639\u0629 \u0627\u0644\u0623\u0642\u0644 \u0643\u062b\u0627\u0641\u0629 (\u0627\u0646\u0638\u0631\n`sphx_glr_auto_examples_neighbors_plot_lof_outlier_detection.py`).\n\n### KDDCup99 - \u0645\u062c\u0645\u0648\u0639\u0629 \u0628\u064a\u0627\u0646\u0627\u062a SA\n\n\u062a\u0645 \u0625\u0646\u0634\u0627\u0621 \u0645\u062c\u0645\u0648\u0639\u0629 \u0628\u064a\u0627\u0646\u0627\u062a `kddcup99_dataset` \u0628\u0627\u0633\u062a\u062e\u062f\u0627\u0645 \u0634\u0628\u0643\u0629 \u0645\u063a\u0644\u0642\u0629\n\u0648\u0647\u062c\u0645\u0627\u062a \u0645\u062d\u0642\u0648\u0646\u0629 \u064a\u062f\u0648\u064a\u064b\u0627. \u0645\u062c\u0645\u0648\u0639\u0629 \u0628\u064a\u0627\u0646\u0627\u062a SA \u0647\u064a \u062c\u0632\u0621 \u0641\u0631\u0639\u064a \u0645\u0646\u0647\u0627 \u062a\u0645 \u0627\u0644\u062d\u0635\u0648\u0644 \u0639\u0644\u064a\u0647\n\u0628\u0628\u0633\u0627\u0637\u0629 \u0639\u0646 \u0637\u0631\u064a\u0642 \u0627\u062e\u062a\u064a\u0627\u0631 \u062c\u0645\u064a\u0639 \u0627\u0644\u0628\u064a\u0627\u0646\u0627\u062a \u0627\u0644\u0639\u0627\u062f\u064a\u0629 \u0648\u0646\u0633\u0628\u0629 \u0634\u0648\u0627\u0630 \u062a\u0628\u0644\u063a \u062d\u0648\u0627\u0644\u064a 3%.\n\n"
      ]
    },
    {
      "cell_type": "code",
      "execution_count": null,
      "metadata": {
        "collapsed": false
      },
      "outputs": [],
      "source": [
        "import numpy as np\n\nfrom sklearn.datasets import fetch_kddcup99\nfrom sklearn.model_selection import train_test_split\n\nX, y = fetch_kddcup99(\n    subset=\"SA\", percent10=True, random_state=42, return_X_y=True, as_frame=True\n)\ny = (y != b\"normal.\").astype(np.int32)\nX, _, y, _ = train_test_split(X, y, train_size=0.1, stratify=y, random_state=42)\n\nn_samples, anomaly_frac = X.shape[0], y.mean()\nprint(f\"{n_samples} datapoints with {y.sum()} anomalies ({anomaly_frac:.02%})\")"
      ]
    },
    {
      "cell_type": "markdown",
      "metadata": {},
      "source": [
        "\u062a\u062d\u062a\u0648\u064a \u0645\u062c\u0645\u0648\u0639\u0629 \u0628\u064a\u0627\u0646\u0627\u062a SA \u0639\u0644\u0649 41 \u0645\u064a\u0632\u0629\u060c \u0645\u0646\u0647\u0627 3 \u0641\u0626\u0648\u064a\u0629:\n\"protocol_type\"\u060c \"service\" \u0648 \"flag\".\n\n"
      ]
    },
    {
      "cell_type": "code",
      "execution_count": null,
      "metadata": {
        "collapsed": false
      },
      "outputs": [],
      "source": [
        "y_true = {}\ny_pred = {\"LOF\": {}, \"IForest\": {}}\nmodel_names = [\"LOF\", \"IForest\"]\ncat_columns = [\"protocol_type\", \"service\", \"flag\"]\n\ny_true[\"KDDCup99 - SA\"] = y\nfor model_name in model_names:\n    model = make_estimator(\n        name=model_name,\n        categorical_columns=cat_columns,\n        lof_kw={\"n_neighbors\": int(n_samples * anomaly_frac)},\n        iforest_kw={\"random_state\": 42},\n    )\n    y_pred[model_name][\"KDDCup99 - SA\"] = fit_predict(model, X)"
      ]
    },
    {
      "cell_type": "markdown",
      "metadata": {},
      "source": [
        "### \u0645\u062c\u0645\u0648\u0639\u0629 \u0628\u064a\u0627\u0646\u0627\u062a \u063a\u0637\u0627\u0621 \u0627\u0644\u063a\u0627\u0628\u0627\u062a\n\n\u0645\u062c\u0645\u0648\u0639\u0629 \u0628\u064a\u0627\u0646\u0627\u062a `covtype_dataset` \u0647\u064a \u0645\u062c\u0645\u0648\u0639\u0629 \u0628\u064a\u0627\u0646\u0627\u062a \u0645\u062a\u0639\u062f\u062f\u0629 \u0627\u0644\u0641\u0626\u0627\u062a \u062d\u064a\u062b\n\u0627\u0644\u0647\u062f\u0641 \u0647\u0648 \u0627\u0644\u0646\u0648\u0639 \u0627\u0644\u0633\u0627\u0626\u062f \u0645\u0646 \u0627\u0644\u0623\u0634\u062c\u0627\u0631 \u0641\u064a \u0631\u0642\u0639\u0629 \u0645\u0639\u064a\u0646\u0629 \u0645\u0646 \u0627\u0644\u063a\u0627\u0628\u0629. \u062a\u062d\u062a\u0648\u064a \u0639\u0644\u0649 54\n\u0645\u064a\u0632\u0629\u060c \u0628\u0639\u0636\u0647\u0627 (\"Wilderness_Area\" \u0648 \"Soil_Type\") \u0645\u0634\u0641\u0631\u0629 \u0628\u0627\u0644\u0641\u0639\u0644 \u0628\u0634\u0643\u0644 \u062b\u0646\u0627\u0626\u064a.\n\u0639\u0644\u0649 \u0627\u0644\u0631\u063a\u0645 \u0645\u0646 \u0623\u0646\u0647\u0627 \u0643\u0627\u0646\u062a \u0641\u064a \u0627\u0644\u0623\u0635\u0644 \u0645\u0647\u0645\u0629 \u062a\u0635\u0646\u064a\u0641\u060c \u064a\u0645\u0643\u0646 \u0627\u0639\u062a\u0628\u0627\u0631 \u0627\u0644\u0642\u064a\u0645 \u0627\u0644\u0639\u0627\u062f\u064a\u0629\n\u0643\u0639\u064a\u0646\u0627\u062a \u0645\u0634\u0641\u0631\u0629 \u0628\u0627\u0644\u0639\u0644\u0627\u0645\u0629 2 \u0648\u0627\u0644\u0634\u0648\u0627\u0630 \u0643\u0639\u064a\u0646\u0627\u062a \u0645\u0634\u0641\u0631\u0629 \u0628\u0627\u0644\u0639\u0644\u0627\u0645\u0629 4.\n\n"
      ]
    },
    {
      "cell_type": "code",
      "execution_count": null,
      "metadata": {
        "collapsed": false
      },
      "outputs": [],
      "source": [
        "from sklearn.datasets import fetch_covtype\n\nX, y = fetch_covtype(return_X_y=True, as_frame=True)\ns = (y == 2) + (y == 4)\nX = X.loc[s]\ny = y.loc[s]\ny = (y != 2).astype(np.int32)\n\nX, _, y, _ = train_test_split(X, y, train_size=0.05, stratify=y, random_state=42)\nX_forestcover = X  # save X for later use\n\nn_samples, anomaly_frac = X.shape[0], y.mean()\nprint(f\"{n_samples} datapoints with {y.sum()} anomalies ({anomaly_frac:.02%})\")"
      ]
    },
    {
      "cell_type": "code",
      "execution_count": null,
      "metadata": {
        "collapsed": false
      },
      "outputs": [],
      "source": [
        "y_true[\"forestcover\"] = y\nfor model_name in model_names:\n    model = make_estimator(\n        name=model_name,\n        lof_kw={\"n_neighbors\": int(n_samples * anomaly_frac)},\n        iforest_kw={\"random_state\": 42},\n    )\n    y_pred[model_name][\"forestcover\"] = fit_predict(model, X)"
      ]
    },
    {
      "cell_type": "markdown",
      "metadata": {},
      "source": [
        "### \u0645\u062c\u0645\u0648\u0639\u0629 \u0628\u064a\u0627\u0646\u0627\u062a Ames Housing\n\n\u0645\u062c\u0645\u0648\u0639\u0629 \u0628\u064a\u0627\u0646\u0627\u062a Ames housing dataset <http://www.openml.org/d/43926>`_ \u0647\u064a\n\u0641\u064a \u0627\u0644\u0623\u0635\u0644 \u0645\u062c\u0645\u0648\u0639\u0629 \u0628\u064a\u0627\u0646\u0627\u062a \u0644\u0644\u062a\u0646\u0628\u0624 \u062d\u064a\u062b \u0627\u0644\u0647\u062f\u0641 \u0647\u0648 \u0623\u0633\u0639\u0627\u0631 \u0628\u064a\u0639 \u0627\u0644\u0645\u0646\u0627\u0632\u0644 \u0641\u064a Ames\u060c\n\u0623\u064a\u0648\u0627. \u0647\u0646\u0627 \u0646\u062d\u0648\u0644\u0647\u0627 \u0625\u0644\u0649 \u0645\u0634\u0643\u0644\u0629 \u0643\u0634\u0641 \u0634\u0648\u0627\u0630 \u0645\u0646 \u062e\u0644\u0627\u0644 \u0627\u0639\u062a\u0628\u0627\u0631 \u0627\u0644\u0645\u0646\u0627\u0632\u0644 \u0627\u0644\u062a\u064a \u064a\u0632\u064a\u062f \u0633\u0639\u0631\u0647\u0627\n\u0639\u0646 70 \u062f\u0648\u0644\u0627\u0631/\u0642\u062f\u0645 \u0645\u0631\u0628\u0639 \u0643\u0634\u0648\u0627\u0630. \u0644\u062c\u0639\u0644 \u0627\u0644\u0645\u0634\u0643\u0644\u0629 \u0623\u0633\u0647\u0644\u060c \u0646\u0642\u0648\u0645 \u0628\u0625\u0633\u0642\u0627\u0637 \u0627\u0644\u0623\u0633\u0639\u0627\u0631\n\u0627\u0644\u0645\u062a\u0648\u0633\u0637\u0629 \u0628\u064a\u0646 40 \u0648 70 \u062f\u0648\u0644\u0627\u0631/\u0642\u062f\u0645 \u0645\u0631\u0628\u0639.\n\n"
      ]
    },
    {
      "cell_type": "code",
      "execution_count": null,
      "metadata": {
        "collapsed": false
      },
      "outputs": [],
      "source": [
        "import matplotlib.pyplot as plt\n\nfrom sklearn.datasets import fetch_openml\n\nX, y = fetch_openml(name=\"ames_housing\", version=1, return_X_y=True, as_frame=True)\ny = y.div(X[\"Lot_Area\"])\n\n# None values in pandas 1.5.1 were mapped to np.nan in pandas 2.0.1\nX[\"Misc_Feature\"] = X[\"Misc_Feature\"].cat.add_categories(\"NoInfo\").fillna(\"NoInfo\")\nX[\"Mas_Vnr_Type\"] = X[\"Mas_Vnr_Type\"].cat.add_categories(\"NoInfo\").fillna(\"NoInfo\")\n\nX.drop(columns=\"Lot_Area\", inplace=True)\nmask = (y < 40) | (y > 70)\nX = X.loc[mask]\ny = y.loc[mask]\ny.hist(bins=20, edgecolor=\"black\")\nplt.xlabel(\"House price in USD/sqft\")\n_ = plt.title(\"Distribution of house prices in Ames\")"
      ]
    },
    {
      "cell_type": "code",
      "execution_count": null,
      "metadata": {
        "collapsed": false
      },
      "outputs": [],
      "source": [
        "y = (y > 70).astype(np.int32)\n\nn_samples, anomaly_frac = X.shape[0], y.mean()\nprint(f\"{n_samples} datapoints with {y.sum()} anomalies ({anomaly_frac:.02%})\")"
      ]
    },
    {
      "cell_type": "markdown",
      "metadata": {},
      "source": [
        "\u062a\u062d\u062a\u0648\u064a \u0645\u062c\u0645\u0648\u0639\u0629 \u0627\u0644\u0628\u064a\u0627\u0646\u0627\u062a \u0639\u0644\u0649 46 \u0645\u064a\u0632\u0629 \u0641\u0626\u0648\u064a\u0629. \u0641\u064a \u0647\u0630\u0647 \u0627\u0644\u062d\u0627\u0644\u0629\u060c \u0645\u0646 \u0627\u0644\u0623\u0633\u0647\u0644 \u0627\u0633\u062a\u062e\u062f\u0627\u0645\n:class:`~sklearn.compose.make_column_selector` \u0644\u0644\u0639\u062b\u0648\u0631 \u0639\u0644\u064a\u0647\u0627 \u0628\u062f\u0644\u0627\u064b \u0645\u0646 \u062a\u0645\u0631\u064a\u0631\n\u0642\u0627\u0626\u0645\u0629 \u062a\u0645 \u0625\u0646\u0634\u0627\u0624\u0647\u0627 \u064a\u062f\u0648\u064a\u064b\u0627.\n\n"
      ]
    },
    {
      "cell_type": "code",
      "execution_count": null,
      "metadata": {
        "collapsed": false
      },
      "outputs": [],
      "source": [
        "from sklearn.compose import make_column_selector as selector\n\ncategorical_columns_selector = selector(dtype_include=\"category\")\ncat_columns = categorical_columns_selector(X)\n\ny_true[\"ames_housing\"] = y\nfor model_name in model_names:\n    model = make_estimator(\n        name=model_name,\n        categorical_columns=cat_columns,\n        lof_kw={\"n_neighbors\": int(n_samples * anomaly_frac)},\n        iforest_kw={\"random_state\": 42},\n    )\n    y_pred[model_name][\"ames_housing\"] = fit_predict(model, X)"
      ]
    },
    {
      "cell_type": "markdown",
      "metadata": {},
      "source": [
        "### \u0645\u062c\u0645\u0648\u0639\u0629 \u0628\u064a\u0627\u0646\u0627\u062a Cardiotocography\n\n\u0645\u062c\u0645\u0648\u0639\u0629 \u0628\u064a\u0627\u0646\u0627\u062a Cardiotocography dataset <http://www.openml.org/d/1466>`_ \u0647\u064a\n\u0645\u062c\u0645\u0648\u0639\u0629 \u0628\u064a\u0627\u0646\u0627\u062a \u0645\u062a\u0639\u062f\u062f\u0629 \u0627\u0644\u0641\u0626\u0627\u062a \u0645\u0646 \u062a\u062e\u0637\u064a\u0637 \u0627\u0644\u0642\u0644\u0628 \u0644\u0644\u062c\u0646\u064a\u0646\u060c \u062d\u064a\u062b \u0627\u0644\u0641\u0626\u0627\u062a \u0647\u064a \u0646\u0645\u0637 \u0645\u0639\u062f\u0644\n\u0636\u0631\u0628\u0627\u062a \u0627\u0644\u0642\u0644\u0628 \u0627\u0644\u062c\u0646\u064a\u0646\u064a (FHR) \u0645\u0634\u0641\u0631\u0629 \u0628\u0639\u0644\u0627\u0645\u0627\u062a \u0645\u0646 1 \u0625\u0644\u0649 10. \u0647\u0646\u0627 \u0646\u062d\u062f\u062f \u0627\u0644\u0641\u0626\u0629 3\n(\u0627\u0644\u0641\u0626\u0629 \u0627\u0644\u0623\u0642\u0644\u064a\u0629) \u0644\u062a\u0645\u062b\u0644 \u0627\u0644\u0634\u0648\u0627\u0630. \u062a\u062d\u062a\u0648\u064a \u0639\u0644\u0649 30 \u0645\u064a\u0632\u0629 \u0631\u0642\u0645\u064a\u0629\u060c \u0628\u0639\u0636\u0647\u0627 \u0645\u0634\u0641\u0631 \u0628\u0634\u0643\u0644\n\u062b\u0646\u0627\u0626\u064a \u0648\u0628\u0639\u0636\u0647\u0627 \u0645\u0633\u062a\u0645\u0631.\n\n"
      ]
    },
    {
      "cell_type": "code",
      "execution_count": null,
      "metadata": {
        "collapsed": false
      },
      "outputs": [],
      "source": [
        "X, y = fetch_openml(name=\"cardiotocography\", version=1, return_X_y=True, as_frame=False)\nX_cardiotocography = X  # save X for later use\ns = y == \"3\"\ny = s.astype(np.int32)\n\nn_samples, anomaly_frac = X.shape[0], y.mean()\nprint(f\"{n_samples} datapoints with {y.sum()} anomalies ({anomaly_frac:.02%})\")"
      ]
    },
    {
      "cell_type": "code",
      "execution_count": null,
      "metadata": {
        "collapsed": false
      },
      "outputs": [],
      "source": [
        "y_true[\"cardiotocography\"] = y\nfor model_name in model_names:\n    model = make_estimator(\n        name=model_name,\n        lof_kw={\"n_neighbors\": int(n_samples * anomaly_frac)},\n        iforest_kw={\"random_state\": 42},\n    )\n    y_pred[model_name][\"cardiotocography\"] = fit_predict(model, X)"
      ]
    },
    {
      "cell_type": "markdown",
      "metadata": {},
      "source": [
        "## \u0631\u0633\u0645 \u0648\u062a\u0641\u0633\u064a\u0631 \u0627\u0644\u0646\u062a\u0627\u0626\u062c\n\n\u064a\u0631\u062a\u0628\u0637 \u0623\u062f\u0627\u0621 \u0627\u0644\u062e\u0648\u0627\u0631\u0632\u0645\u064a\u0629 \u0628\u0645\u062f\u0649 \u062c\u0648\u062f\u0629 \u0645\u0639\u062f\u0644 \u0627\u0644\u0625\u064a\u062c\u0627\u0628\u064a\u0627\u062a \u0627\u0644\u062d\u0642\u064a\u0642\u064a\u0629 (TPR)\n\u0639\u0646\u062f \u0642\u064a\u0645 \u0645\u0646\u062e\u0641\u0636\u0629 \u0644\u0645\u0639\u062f\u0644 \u0627\u0644\u0625\u064a\u062c\u0627\u0628\u064a\u0627\u062a \u0627\u0644\u062e\u0627\u0637\u0626\u0629 (FPR). \u0623\u0641\u0636\u0644 \u0627\u0644\u062e\u0648\u0627\u0631\u0632\u0645\u064a\u0627\u062a \u0644\u062f\u064a\u0647\u0627\n\u0627\u0644\u0645\u0646\u062d\u0646\u0649 \u0641\u064a \u0623\u0639\u0644\u0649 \u064a\u0633\u0627\u0631 \u0627\u0644\u0631\u0633\u0645 \u0627\u0644\u0628\u064a\u0627\u0646\u064a \u0648\u0645\u0633\u0627\u062d\u0629 \u062a\u062d\u062a \u0627\u0644\u0645\u0646\u062d\u0646\u0649 (AUC) \u0642\u0631\u064a\u0628\u0629 \u0645\u0646 1.\n\u0627\u0644\u062e\u0637 \u0627\u0644\u0645\u062a\u0642\u0637\u0639 \u0627\u0644\u0645\u0627\u0626\u0644 \u064a\u0645\u062b\u0644 \u062a\u0635\u0646\u064a\u0641\u064b\u0627 \u0639\u0634\u0648\u0627\u0626\u064a\u064b\u0627 \u0644\u0644\u0634\u0648\u0627\u0630 \u0648\u0627\u0644\u0642\u064a\u0645 \u0627\u0644\u0639\u0627\u062f\u064a\u0629.\n\n"
      ]
    },
    {
      "cell_type": "code",
      "execution_count": null,
      "metadata": {
        "collapsed": false
      },
      "outputs": [],
      "source": [
        "import math\n\nfrom sklearn.metrics import RocCurveDisplay\n\ncols = 2\npos_label = 0  # mean 0 belongs to positive class\ndatasets_names = y_true.keys()\nrows = math.ceil(len(datasets_names) / cols)\n\nfig, axs = plt.subplots(nrows=rows, ncols=cols, squeeze=False, figsize=(10, rows * 4))\n\nfor ax, dataset_name in zip(axs.ravel(), datasets_names):\n    for model_idx, model_name in enumerate(model_names):\n        display = RocCurveDisplay.from_predictions(\n            y_true[dataset_name],\n            y_pred[model_name][dataset_name],\n            pos_label=pos_label,\n            name=model_name,\n            ax=ax,\n            plot_chance_level=(model_idx == len(model_names) - 1),\n            chance_level_kw={\"linestyle\": \":\"},\n        )\n    ax.set_title(dataset_name)\n_ = plt.tight_layout(pad=2.0)  # spacing between subplots"
      ]
    },
    {
      "cell_type": "markdown",
      "metadata": {},
      "source": [
        "\u0646\u0644\u0627\u062d\u0638 \u0623\u0646\u0647 \u0628\u0645\u062c\u0631\u062f \u0636\u0628\u0637 \u0639\u062f\u062f \u0627\u0644\u062c\u064a\u0631\u0627\u0646\u060c \u064a\u0624\u062f\u064a LOF \u0648 IForest\n\u0623\u062f\u0627\u0621\u064b \u0645\u0634\u0627\u0628\u0647\u064b\u0627 \u0645\u0646 \u062d\u064a\u062b ROC AUC \u0644\u0645\u062c\u0645\u0648\u0639\u0627\u062a \u0628\u064a\u0627\u0646\u0627\u062a forestcover \u0648 cardiotocography.\n\u0627\u0644\u0646\u062a\u064a\u062c\u0629 \u0623\u0641\u0636\u0644 \u0642\u0644\u064a\u0644\u0627\u064b \u0644\u0640 IForest \u0641\u064a \u0645\u062c\u0645\u0648\u0639\u0629 \u0628\u064a\u0627\u0646\u0627\u062a SA\u060c \u0628\u064a\u0646\u0645\u0627 \u064a\u0624\u062f\u064a LOF\n\u0623\u062f\u0627\u0621\u064b \u0623\u0641\u0636\u0644 \u0628\u0643\u062b\u064a\u0631 \u0641\u064a \u0645\u062c\u0645\u0648\u0639\u0629 \u0628\u064a\u0627\u0646\u0627\u062a Ames housing \u0645\u0642\u0627\u0631\u0646\u0629 \u0628\u0640 IForest.\n\n\u062a\u0630\u0643\u0631 \u0645\u0639 \u0630\u0644\u0643 \u0623\u0646 Isolation Forest \u062a\u0645\u064a\u0644 \u0625\u0644\u0649 \u0627\u0644\u062a\u062f\u0631\u064a\u0628 \u0628\u0634\u0643\u0644 \u0623\u0633\u0631\u0639 \u0645\u0646 LOF\n\u0639\u0644\u0649 \u0645\u062c\u0645\u0648\u0639\u0627\u062a \u0627\u0644\u0628\u064a\u0627\u0646\u0627\u062a \u0630\u0627\u062a \u0627\u0644\u0639\u062f\u062f \u0627\u0644\u0643\u0628\u064a\u0631 \u0645\u0646 \u0627\u0644\u0639\u064a\u0646\u0627\u062a. \u064a\u062d\u062a\u0627\u062c LOF \u0625\u0644\u0649 \u062d\u0633\u0627\u0628\n\u0627\u0644\u0645\u0633\u0627\u0641\u0627\u062a \u0627\u0644\u0632\u0648\u062c\u064a\u0629 \u0644\u0625\u064a\u062c\u0627\u062f \u0627\u0644\u062c\u064a\u0631\u0627\u0646 \u0627\u0644\u0623\u0642\u0631\u0628\u060c \u0645\u0645\u0627 \u0644\u0647 \u062a\u0639\u0642\u064a\u062f \u062a\u0631\u0628\u064a\u0639\u064a \u0641\u064a\u0645\u0627 \u064a\u062a\u0639\u0644\u0642\n\u0628\u0639\u062f\u062f \u0627\u0644\u0645\u0644\u0627\u062d\u0638\u0627\u062a. \u064a\u0645\u0643\u0646 \u0623\u0646 \u064a\u062c\u0639\u0644 \u0647\u0630\u0627 \u0627\u0644\u0623\u0633\u0644\u0648\u0628 \u0645\u062d\u0638\u0648\u0631\u064b\u0627 \u0639\u0644\u0649 \u0645\u062c\u0645\u0648\u0639\u0627\u062a \u0627\u0644\u0628\u064a\u0627\u0646\u0627\u062a\n\u0627\u0644\u0643\u0628\u064a\u0631\u0629.\n\n## \u062f\u0631\u0627\u0633\u0629 \u0627\u0644\u062a\u062e\u0641\u064a\u0641\n\n\u0641\u064a \u0647\u0630\u0627 \u0627\u0644\u0642\u0633\u0645\u060c \u0646\u0633\u062a\u0643\u0634\u0641 \u062a\u0623\u062b\u064a\u0631 \u0627\u0644\u0645\u0639\u0644\u0645\u0629 `n_neighbors`\n\u0648\u0627\u062e\u062a\u064a\u0627\u0631 \u0645\u0639\u0627\u064a\u0631\u0629 \u0627\u0644\u0645\u064a\u0632\u0627\u062a \u0627\u0644\u0631\u0642\u0645\u064a\u0629 \u0639\u0644\u0649 \u0646\u0645\u0648\u0630\u062c LOF. \u0647\u0646\u0627 \u0646\u0633\u062a\u062e\u062f\u0645\n`covtype_dataset` \u062d\u064a\u062b \u064a\u062a\u0645 \u0625\u062f\u062e\u0627\u0644 \u0627\u0644\u0641\u0626\u0627\u062a \u0627\u0644\u0645\u0634\u0641\u0631\u0629 \u0628\u0634\u0643\u0644 \u062b\u0646\u0627\u0626\u064a\n\u0645\u0642\u064a\u0627\u0633\u064b\u0627 \u0637\u0628\u064a\u0639\u064a\u064b\u0627 \u0644\u0644\u0645\u0633\u0627\u0641\u0627\u062a \u0627\u0644\u0625\u0642\u0644\u064a\u062f\u064a\u0629 \u0628\u064a\u0646 0 \u0648 1. \u0628\u0639\u062f \u0630\u0644\u0643\u060c \u0646\u0631\u064a\u062f \u0637\u0631\u064a\u0642\u0629\n\u0644\u0644\u0645\u0639\u0627\u064a\u0631\u0629 \u0644\u062a\u062c\u0646\u0628 \u0645\u0646\u062d \u0627\u0645\u062a\u064a\u0627\u0632 \u0644\u0644\u0645\u064a\u0632\u0627\u062a \u063a\u064a\u0631 \u0627\u0644\u062b\u0646\u0627\u0626\u064a\u0629 \u0648\u0623\u0646 \u062a\u0643\u0648\u0646 \u0642\u0648\u064a\u0629 \u0628\u0645\u0627 \u064a\u0643\u0641\u064a\n\u0644\u0644\u0634\u0648\u0627\u0630 \u0628\u062d\u064a\u062b \u0644\u0627 \u062a\u0635\u0628\u062d \u0645\u0647\u0645\u0629 \u0627\u0644\u0639\u062b\u0648\u0631 \u0639\u0644\u064a\u0647\u0627 \u0635\u0639\u0628\u0629 \u0644\u0644\u063a\u0627\u064a\u0629.\n\n"
      ]
    },
    {
      "cell_type": "code",
      "execution_count": null,
      "metadata": {
        "collapsed": false
      },
      "outputs": [],
      "source": [
        "X = X_forestcover\ny = y_true[\"forestcover\"]\n\nn_samples = X.shape[0]\nn_neighbors_list = (n_samples * np.array([0.2, 0.02, 0.01, 0.001])).astype(np.int32)\nmodel = make_pipeline(RobustScaler(), LocalOutlierFactor())\n\nlinestyles = [\"solid\", \"dashed\", \"dashdot\", \":\", (5, (10, 3))]\n\nfig, ax = plt.subplots()\nfor model_idx, (linestyle, n_neighbors) in enumerate(zip(linestyles, n_neighbors_list)):\n    model.set_params(localoutlierfactor__n_neighbors=n_neighbors)\n    model.fit(X)\n    y_pred = model[-1].negative_outlier_factor_\n    display = RocCurveDisplay.from_predictions(\n        y,\n        y_pred,\n        pos_label=pos_label,\n        name=f\"n_neighbors = {n_neighbors}\",\n        ax=ax,\n        plot_chance_level=(model_idx == len(n_neighbors_list) - 1),\n        chance_level_kw={\"linestyle\": (0, (1, 10))},\n        linestyle=linestyle,\n        linewidth=2,\n    )\n_ = ax.set_title(\"RobustScaler with varying n_neighbors\\non forestcover dataset\")"
      ]
    },
    {
      "cell_type": "markdown",
      "metadata": {},
      "source": [
        "\u0646\u0644\u0627\u062d\u0638 \u0623\u0646 \u0639\u062f\u062f \u0627\u0644\u062c\u064a\u0631\u0627\u0646 \u0644\u0647 \u062a\u0623\u062b\u064a\u0631 \u0643\u0628\u064a\u0631 \u0639\u0644\u0649 \u0623\u062f\u0627\u0621\n\u0627\u0644\u0646\u0645\u0648\u0630\u062c. \u0625\u0630\u0627 \u0643\u0627\u0646 \u0644\u062f\u0649 \u0627\u0644\u0645\u0631\u0621 \u0625\u0645\u0643\u0627\u0646\u064a\u0629 \u0627\u0644\u0648\u0635\u0648\u0644 \u0625\u0644\u0649 (\u0628\u0639\u0636 \u0639\u0644\u0649 \u0627\u0644\u0623\u0642\u0644) \u062a\u0635\u0646\u064a\u0641\u0627\u062a \u0623\u0631\u0636\u064a\u0629 \u062d\u0642\u064a\u0642\u064a\u0629\u060c\n\u0641\u0645\u0646 \u0627\u0644\u0645\u0647\u0645 \u0639\u0646\u062f\u0626\u0630\u064d \u0636\u0628\u0637 `n_neighbors` \u0648\u0641\u0642\u064b\u0627 \u0644\u0630\u0644\u0643. \u062a\u062a\u0645\u062b\u0644 \u0625\u062d\u062f\u0649 \u0627\u0644\u0637\u0631\u0642 \u0627\u0644\u0645\u0644\u0627\u0626\u0645\u0629 \u0644\u0644\u0642\u064a\u0627\u0645 \u0628\u0630\u0644\u0643\n\u0641\u064a \u0627\u0633\u062a\u0643\u0634\u0627\u0641 \u0642\u064a\u0645 `n_neighbors` \u0645\u0646 \u062d\u064a\u062b \u0627\u0644\u062d\u062c\u0645 \u0627\u0644\u0645\u062a\u0648\u0642\u0639\n\u0644\u0644\u062a\u0644\u0648\u062b.\n\n"
      ]
    },
    {
      "cell_type": "code",
      "execution_count": null,
      "metadata": {
        "collapsed": false
      },
      "outputs": [],
      "source": [
        "from sklearn.preprocessing import MinMaxScaler, SplineTransformer, StandardScaler\n\npreprocessor_list = [\n    None,\n    RobustScaler(),\n    StandardScaler(),\n    MinMaxScaler(),\n    SplineTransformer(),\n]\nexpected_anomaly_fraction = 0.02\nlof = LocalOutlierFactor(n_neighbors=int(n_samples * expected_anomaly_fraction))\n\nfig, ax = plt.subplots()\nfor model_idx, (linestyle, preprocessor) in enumerate(\n    zip(linestyles, preprocessor_list)\n):\n    model = make_pipeline(preprocessor, lof)\n    model.fit(X)\n    y_pred = model[-1].negative_outlier_factor_\n    display = RocCurveDisplay.from_predictions(\n        y,\n        y_pred,\n        pos_label=pos_label,\n        name=str(preprocessor).split(\"(\")[0],\n        ax=ax,\n        plot_chance_level=(model_idx == len(preprocessor_list) - 1),\n        chance_level_kw={\"linestyle\": (0, (1, 10))},\n        linestyle=linestyle,\n        linewidth=2,\n    )\n_ = ax.set_title(\"n_neighbors \u062b\u0627\u0628\u062a \u0645\u0639 \u0645\u0639\u0627\u0644\u062c\u0629 \u0645\u0633\u0628\u0642\u0629 \u0645\u062a\u063a\u064a\u0631\u0629\\n\u0639\u0644\u0649 \u0645\u062c\u0645\u0648\u0639\u0629 \u0628\u064a\u0627\u0646\u0627\u062a forestcover\")"
      ]
    },
    {
      "cell_type": "markdown",
      "metadata": {},
      "source": [
        "\u0645\u0646 \u0646\u0627\u062d\u064a\u0629\u060c \u064a\u0642\u0648\u0645 :class:`~sklearn.preprocessing.RobustScaler` \u0628\u0642\u064a\u0627\u0633\n\u0643\u0644 \u0645\u064a\u0632\u0629 \u0628\u0634\u0643\u0644 \u0645\u0633\u062a\u0642\u0644 \u0628\u0627\u0633\u062a\u062e\u062f\u0627\u0645 \u0627\u0644\u0646\u0637\u0627\u0642 \u0627\u0644\u0631\u0628\u064a\u0639\u064a (IQR) \u0627\u0641\u062a\u0631\u0627\u0636\u064a\u064b\u0627\u060c \u0648\u0647\u0648\n\u0627\u0644\u0646\u0637\u0627\u0642 \u0628\u064a\u0646 \u0627\u0644\u0646\u0633\u0628\u062a\u064a\u0646 \u0627\u0644\u0645\u0626\u0648\u064a\u062a\u064a\u0646 25 \u0648 75 \u0645\u0646 \u0627\u0644\u0628\u064a\u0627\u0646\u0627\u062a. \u064a\u0642\u0648\u0645 \u0628\u062a\u0631\u0643\u064a\u0632\n\u0627\u0644\u0628\u064a\u0627\u0646\u0627\u062a \u0639\u0646 \u0637\u0631\u064a\u0642 \u0637\u0631\u062d \u0627\u0644\u0648\u0633\u064a\u0637 \u062b\u0645 \u0642\u064a\u0627\u0633\u0647\u0627 \u0628\u0627\u0644\u0642\u0633\u0645\u0629 \u0639\u0644\u0649 IQR. IQR\n\u0645\u0642\u0627\u0648\u0645 \u0644\u0644\u0642\u064a\u0645 \u0627\u0644\u0645\u062a\u0637\u0631\u0641\u0629: \u064a\u062a\u0623\u062b\u0631 \u0627\u0644\u0648\u0633\u064a\u0637 \u0648\u0627\u0644\u0646\u0637\u0627\u0642 \u0627\u0644\u0631\u0628\u064a\u0639\u064a \u0628\u0627\u0644\u0642\u064a\u0645\n\u0627\u0644\u0645\u062a\u0637\u0631\u0641\u0629 \u0628\u062f\u0631\u062c\u0629 \u0623\u0642\u0644 \u0645\u0646 \u0627\u0644\u0646\u0637\u0627\u0642 \u0648\u0627\u0644\u0645\u062a\u0648\u0633\u0637 \u200b\u200b\u0648\u0627\u0644\u0627\u0646\u062d\u0631\u0627\u0641\n\u0627\u0644\u0645\u0639\u064a\u0627\u0631\u064a. \u0639\u0644\u0627\u0648\u0629 \u0639\u0644\u0649 \u0630\u0644\u0643\u060c \u0644\u0627 \u064a\u0642\u0648\u0645 :class:`~sklearn.preprocessing.RobustScaler`\n\u0628\u0633\u062d\u0642 \u0627\u0644\u0642\u064a\u0645 \u0627\u0644\u0645\u062a\u0637\u0631\u0641\u0629 \u0627\u0644\u0647\u0627\u0645\u0634\u064a\u0629\u060c \u0639\u0644\u0649 \u0639\u0643\u0633\n:class:`~sklearn.preprocessing.StandardScaler`.\n\n\u0645\u0646 \u0646\u0627\u062d\u064a\u0629 \u0623\u062e\u0631\u0649\u060c \u064a\u0642\u0648\u0645 :class:`~sklearn.preprocessing.MinMaxScaler` \u0628\u0642\u064a\u0627\u0633\n\u0643\u0644 \u0645\u064a\u0632\u0629 \u0628\u0634\u0643\u0644 \u0641\u0631\u062f\u064a \u0628\u062d\u064a\u062b \u064a\u062a\u0645 \u062a\u0639\u064a\u064a\u0646 \u0646\u0637\u0627\u0642\u0647\u0627 \u0641\u064a \u0627\u0644\u0646\u0637\u0627\u0642 \u0628\u064a\u0646 \u0627\u0644\u0635\u0641\u0631\n\u0648\u0627\u0644\u0648\u0627\u062d\u062f. \u0625\u0630\u0627 \u0643\u0627\u0646\u062a \u0647\u0646\u0627\u0643 \u0642\u064a\u0645 \u0645\u062a\u0637\u0631\u0641\u0629 \u0641\u064a \u0627\u0644\u0628\u064a\u0627\u0646\u0627\u062a\u060c \u0641\u064a\u0645\u0643\u0646\u0647\u0627 \u062a\u062d\u0631\u064a\u0641\u0647\u0627 \u0646\u062d\u0648\n\u0627\u0644\u062d\u062f \u0627\u0644\u0623\u062f\u0646\u0649 \u0623\u0648 \u0627\u0644\u062d\u062f \u0627\u0644\u0623\u0642\u0635\u0649 \u0644\u0644\u0642\u064a\u0645\u060c \u0645\u0645\u0627 \u064a\u0624\u062f\u064a \u0625\u0644\u0649 \u062a\u0648\u0632\u064a\u0639 \u0645\u062e\u062a\u0644\u0641 \u062a\u0645\u0627\u0645\u064b\u0627\n\u0644\u0644\u0628\u064a\u0627\u0646\u0627\u062a \u0645\u0639 \u0642\u064a\u0645 \u0645\u062a\u0637\u0631\u0641\u0629 \u0647\u0627\u0645\u0634\u064a\u0629 \u0643\u0628\u064a\u0631\u0629: \u064a\u0645\u0643\u0646 \u0637\u064a \u062c\u0645\u064a\u0639 \u0627\u0644\u0642\u064a\u0645 \u063a\u064a\u0631 \u0627\u0644\u0645\u062a\u0637\u0631\u0641\u0629\n\u062a\u0642\u0631\u064a\u0628\u064b\u0627 \u0645\u0639\u064b\u0627 \u0646\u062a\u064a\u062c\u0629 \u0644\u0630\u0644\u0643.\n\n\u0642\u0645\u0646\u0627 \u0623\u064a\u0636\u064b\u0627 \u0628\u062a\u0642\u064a\u064a\u0645 \u0639\u062f\u0645 \u0648\u062c\u0648\u062f \u0645\u0639\u0627\u0644\u062c\u0629 \u0645\u0633\u0628\u0642\u0629 \u0639\u0644\u0649 \u0627\u0644\u0625\u0637\u0644\u0627\u0642 (\u0639\u0646 \u0637\u0631\u064a\u0642 \u062a\u0645\u0631\u064a\u0631 `None`\n\u0625\u0644\u0649 \u062e\u0637 \u0627\u0644\u0623\u0646\u0627\u0628\u064a\u0628)\u060c \u0648 :class:`~sklearn.preprocessing.StandardScaler` \u0648\n:class:`~sklearn.preprocessing.SplineTransformer`. \u064a\u0631\u062c\u0649 \u0627\u0644\u0631\u062c\u0648\u0639 \u0625\u0644\u0649\n\u0648\u062b\u0627\u0626\u0642 \u0643\u0644 \u0645\u0646\u0647\u0627 \u0644\u0645\u0632\u064a\u062f \u0645\u0646 \u0627\u0644\u062a\u0641\u0627\u0635\u064a\u0644.\n\n\u0644\u0627\u062d\u0638 \u0623\u0646 \u0627\u0644\u0645\u0639\u0627\u0644\u062c\u0629 \u0627\u0644\u0645\u0633\u0628\u0642\u0629 \u0627\u0644\u0645\u062b\u0644\u0649 \u062a\u0639\u062a\u0645\u062f \u0639\u0644\u0649 \u0645\u062c\u0645\u0648\u0639\u0629 \u0627\u0644\u0628\u064a\u0627\u0646\u0627\u062a\u060c \u0643\u0645\u0627 \u0647\u0648 \u0645\u0648\u0636\u062d \u0623\u062f\u0646\u0627\u0647:\n\n"
      ]
    },
    {
      "cell_type": "code",
      "execution_count": null,
      "metadata": {
        "collapsed": false
      },
      "outputs": [],
      "source": [
        "X = X_cardiotocography\ny = y_true[\"cardiotocography\"]\n\nn_samples, expected_anomaly_fraction = X.shape[0], 0.025\nlof = LocalOutlierFactor(n_neighbors=int(n_samples * expected_anomaly_fraction))\n\nfig, ax = plt.subplots()\nfor model_idx, (linestyle, preprocessor) in enumerate(\n    zip(linestyles, preprocessor_list)\n):\n    model = make_pipeline(preprocessor, lof)\n    model.fit(X)\n    y_pred = model[-1].negative_outlier_factor_\n    display = RocCurveDisplay.from_predictions(\n        y,\n        y_pred,\n        pos_label=pos_label,\n        name=str(preprocessor).split(\"(\")[0],\n        ax=ax,\n        plot_chance_level=(model_idx == len(preprocessor_list) - 1),\n        chance_level_kw={\"linestyle\": (0, (1, 10))},\n        linestyle=linestyle,\n        linewidth=2,\n    )\nax.set_title(\n    \"n_neighbors \u062b\u0627\u0628\u062a \u0645\u0639 \u0645\u0639\u0627\u0644\u062c\u0629 \u0645\u0633\u0628\u0642\u0629 \u0645\u062a\u063a\u064a\u0631\u0629\\n\u0639\u0644\u0649 \u0645\u062c\u0645\u0648\u0639\u0629 \u0628\u064a\u0627\u0646\u0627\u062a cardiotocography\"\n)\nplt.show()"
      ]
    }
  ],
  "metadata": {
    "kernelspec": {
      "display_name": "Python 3",
      "language": "python",
      "name": "python3"
    },
    "language_info": {
      "codemirror_mode": {
        "name": "ipython",
        "version": 3
      },
      "file_extension": ".py",
      "mimetype": "text/x-python",
      "name": "python",
      "nbconvert_exporter": "python",
      "pygments_lexer": "ipython3",
      "version": "3.10.13"
    }
  },
  "nbformat": 4,
  "nbformat_minor": 0
}