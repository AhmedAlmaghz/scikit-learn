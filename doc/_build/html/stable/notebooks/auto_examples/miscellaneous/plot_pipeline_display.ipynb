{
  "cells": [
    {
      "cell_type": "markdown",
      "metadata": {},
      "source": [
        "\n# \u0639\u0631\u0636 \u062e\u0637\u0648\u0637 \u0627\u0644\u0623\u0646\u0627\u0628\u064a\u0628\n\n\u062a\u0643\u0648\u064a\u0646 \u0627\u0644\u0639\u0631\u0636 \u0627\u0644\u0627\u0641\u062a\u0631\u0627\u0636\u064a \u0644\u062e\u0637 \u0627\u0644\u0623\u0646\u0627\u0628\u064a\u0628 \u0641\u064a \u062f\u0641\u062a\u0631 Jupyter \u0647\u0648\n`'diagram'` \u062d\u064a\u062b `set_config(display='diagram')`. \u0644\u0625\u0644\u063a\u0627\u0621 \u062a\u0646\u0634\u064a\u0637 \u0627\u0644\u062a\u0645\u062b\u064a\u0644 HTML\u060c\n\u0627\u0633\u062a\u062e\u062f\u0645 `set_config(display='text')`.\n\n\u0644\u0645\u0634\u0627\u0647\u062f\u0629 \u062e\u0637\u0648\u0627\u062a \u0623\u0643\u062b\u0631 \u062a\u0641\u0635\u064a\u0644\u0627\u064b \u0641\u064a \u062a\u0635\u0648\u0631 \u062e\u0637 \u0627\u0644\u0623\u0646\u0627\u0628\u064a\u0628\u060c \u0627\u0646\u0642\u0631 \u0639\u0644\u0649\n\u0627\u0644\u062e\u0637\u0648\u0627\u062a \u0641\u064a \u062e\u0637 \u0627\u0644\u0623\u0646\u0627\u0628\u064a\u0628.\n"
      ]
    },
    {
      "cell_type": "code",
      "execution_count": null,
      "metadata": {
        "collapsed": false
      },
      "outputs": [],
      "source": [
        "# \u0627\u0644\u0645\u0624\u0644\u0641\u0648\u0646: \u0645\u0637\u0648\u0631\u064a scikit-learn\n# \u0645\u0639\u0631\u0641 SPDX-License: BSD-3-Clause"
      ]
    },
    {
      "cell_type": "markdown",
      "metadata": {},
      "source": [
        "## \u0639\u0631\u0636 \u062e\u0637 \u0623\u0646\u0627\u0628\u064a\u0628 \u0645\u0639 \u062e\u0637\u0648\u0629 \u0645\u0627 \u0642\u0628\u0644 \u0627\u0644\u0645\u0639\u0627\u0644\u062c\u0629 \u0648\u0627\u0644\u062a\u0635\u0646\u064a\u0641\n\u064a\u0642\u0648\u0645 \u0647\u0630\u0627 \u0627\u0644\u0642\u0633\u0645 \u0628\u0628\u0646\u0627\u0621 :class:`~sklearn.pipeline.Pipeline` \u0645\u0639 \u062e\u0637\u0648\u0629 \u0645\u0627 \u0642\u0628\u0644 \u0627\u0644\u0645\u0639\u0627\u0644\u062c\u0629\n\u060c :class:`~sklearn.preprocessing.StandardScaler`\u060c \u0648\u0627\u0644\u062a\u0635\u0646\u064a\u0641\u060c\n:class:`~sklearn.linear_model.LogisticRegression`\u060c \u0648\u064a\u0639\u0631\u0636 \u062a\u0645\u062b\u064a\u0644\u0647 \u0627\u0644\u0645\u0631\u0626\u064a.\n\n"
      ]
    },
    {
      "cell_type": "code",
      "execution_count": null,
      "metadata": {
        "collapsed": false
      },
      "outputs": [],
      "source": [
        "from sklearn import set_config\nfrom sklearn.linear_model import LogisticRegression\nfrom sklearn.pipeline import Pipeline\nfrom sklearn.preprocessing import StandardScaler\n\nsteps = [\n    (\"preprocessing\", StandardScaler()),\n    (\"classifier\", LogisticRegression()),\n]\npipe = Pipeline(steps)"
      ]
    },
    {
      "cell_type": "markdown",
      "metadata": {},
      "source": [
        "\u0644\u0639\u0631\u0636 \u0627\u0644\u0645\u062e\u0637\u0637\u060c \u0627\u0644\u0627\u0641\u062a\u0631\u0627\u0636\u064a \u0647\u0648 `display='diagram'`.\n\n"
      ]
    },
    {
      "cell_type": "code",
      "execution_count": null,
      "metadata": {
        "collapsed": false
      },
      "outputs": [],
      "source": [
        "set_config(display=\"diagram\")\npipe  # \u0627\u0646\u0642\u0631 \u0639\u0644\u0649 \u0627\u0644\u0645\u062e\u0637\u0637 \u0623\u062f\u0646\u0627\u0647 \u0644\u0645\u0634\u0627\u0647\u062f\u0629 \u062a\u0641\u0627\u0635\u064a\u0644 \u0643\u0644 \u062e\u0637\u0648\u0629"
      ]
    },
    {
      "cell_type": "markdown",
      "metadata": {},
      "source": [
        "\u0644\u0645\u0634\u0627\u0647\u062f\u0629 \u062e\u0637 \u0627\u0644\u0623\u0646\u0627\u0628\u064a\u0628 \u0627\u0644\u0646\u0635\u064a\u060c \u0642\u0645 \u0628\u062a\u063a\u064a\u064a\u0631\u0647 \u0625\u0644\u0649 `display='text'`.\n\n"
      ]
    },
    {
      "cell_type": "code",
      "execution_count": null,
      "metadata": {
        "collapsed": false
      },
      "outputs": [],
      "source": [
        "set_config(display=\"text\")\npipe"
      ]
    },
    {
      "cell_type": "markdown",
      "metadata": {},
      "source": [
        "\u0625\u0639\u0627\u062f\u0629 \u0625\u0639\u062f\u0627\u062f \u0627\u0644\u0639\u0631\u0636 \u0627\u0644\u0627\u0641\u062a\u0631\u0627\u0636\u064a\n\n"
      ]
    },
    {
      "cell_type": "code",
      "execution_count": null,
      "metadata": {
        "collapsed": false
      },
      "outputs": [],
      "source": [
        "set_config(display=\"diagram\")"
      ]
    },
    {
      "cell_type": "markdown",
      "metadata": {},
      "source": [
        "## \u0639\u0631\u0636 \u062e\u0637 \u0623\u0646\u0627\u0628\u064a\u0628 \u064a\u0631\u0628\u0637 \u0628\u064a\u0646 \u062e\u0637\u0648\u0627\u062a \u0645\u0627 \u0642\u0628\u0644 \u0627\u0644\u0645\u0639\u0627\u0644\u062c\u0629 \u0648\u0627\u0644\u062a\u0635\u0646\u064a\u0641\n\u064a\u0642\u0648\u0645 \u0647\u0630\u0627 \u0627\u0644\u0642\u0633\u0645 \u0628\u0628\u0646\u0627\u0621 :class:`~sklearn.pipeline.Pipeline` \u0645\u0639 \u062e\u0637\u0648\u0627\u062a \u0645\u062a\u0639\u062f\u062f\u0629\n\u0645\u0627 \u0642\u0628\u0644 \u0627\u0644\u0645\u0639\u0627\u0644\u062c\u0629\u060c :class:`~sklearn.preprocessing.PolynomialFeatures` \u0648\n:class:`~sklearn.preprocessing.StandardScaler`\u060c \u0648\u062e\u0637\u0648\u0629 \u0627\u0644\u062a\u0635\u0646\u064a\u0641\u060c\n:class:`~sklearn.linear_model.LogisticRegression`\u060c \u0648\u064a\u0639\u0631\u0636 \u062a\u0645\u062b\u064a\u0644\u0647 \u0627\u0644\u0645\u0631\u0626\u064a.\n\n"
      ]
    },
    {
      "cell_type": "code",
      "execution_count": null,
      "metadata": {
        "collapsed": false
      },
      "outputs": [],
      "source": [
        "from sklearn.linear_model import LogisticRegression\nfrom sklearn.pipeline import Pipeline\nfrom sklearn.preprocessing import PolynomialFeatures, StandardScaler\n\nsteps = [\n    (\"standard_scaler\", StandardScaler()),\n    (\"polynomial\", PolynomialFeatures(degree=3)),\n    (\"classifier\", LogisticRegression(C=2.0)),\n]\npipe = Pipeline(steps)\npipe  # \u0627\u0646\u0642\u0631 \u0639\u0644\u0649 \u0627\u0644\u0645\u062e\u0637\u0637 \u0623\u062f\u0646\u0627\u0647 \u0644\u0645\u0634\u0627\u0647\u062f\u0629 \u062a\u0641\u0627\u0635\u064a\u0644 \u0643\u0644 \u062e\u0637\u0648\u0629"
      ]
    },
    {
      "cell_type": "markdown",
      "metadata": {},
      "source": [
        "## \u0639\u0631\u0636 \u062e\u0637 \u0623\u0646\u0627\u0628\u064a\u0628 \u0648\u062e\u0641\u0636 \u0627\u0644\u0623\u0628\u0639\u0627\u062f \u0648\u0627\u0644\u062a\u0635\u0646\u064a\u0641\n\u064a\u0642\u0648\u0645 \u0647\u0630\u0627 \u0627\u0644\u0642\u0633\u0645 \u0628\u0628\u0646\u0627\u0621 :class:`~sklearn.pipeline.Pipeline` \u0645\u0639\n\u062e\u0637\u0648\u0629 \u062e\u0641\u0636 \u0627\u0644\u0623\u0628\u0639\u0627\u062f\u060c :class:`~sklearn.decomposition.PCA`\u060c\n\u060c :class:`~sklearn.svm.SVC`\u060c \u0648\u064a\u0639\u0631\u0636 \u062a\u0645\u062b\u064a\u0644\u0647 \u0627\u0644\u0645\u0631\u0626\u064a.\n\n"
      ]
    },
    {
      "cell_type": "code",
      "execution_count": null,
      "metadata": {
        "collapsed": false
      },
      "outputs": [],
      "source": [
        "from sklearn.decomposition import PCA\nfrom sklearn.pipeline import Pipeline\nfrom sklearn.svm import SVC\n\nsteps = [(\"reduce_dim\", PCA(n_components=4)), (\"classifier\", SVC(kernel=\"linear\"))]\npipe = Pipeline(steps)\npipe  # \u0627\u0646\u0642\u0631 \u0639\u0644\u0649 \u0627\u0644\u0645\u062e\u0637\u0637 \u0623\u062f\u0646\u0627\u0647 \u0644\u0645\u0634\u0627\u0647\u062f\u0629 \u062a\u0641\u0627\u0635\u064a\u0644 \u0643\u0644 \u062e\u0637\u0648\u0629"
      ]
    },
    {
      "cell_type": "markdown",
      "metadata": {},
      "source": [
        "## \u0639\u0631\u0636 \u062e\u0637 \u0623\u0646\u0627\u0628\u064a\u0628 \u0645\u0639\u0642\u062f \u064a\u0631\u0628\u0637 \u0628\u064a\u0646 \u0645\u062d\u0648\u0644 \u0627\u0644\u0623\u0639\u0645\u062f\u0629\n\u064a\u0642\u0648\u0645 \u0647\u0630\u0627 \u0627\u0644\u0642\u0633\u0645 \u0628\u0628\u0646\u0627\u0621 \u062e\u0637 \u0623\u0646\u0627\u0628\u064a\u0628 \u0645\u0639\u0642\u062f :class:`~sklearn.pipeline.Pipeline` \u0645\u0639\n:class:`~sklearn.compose.ColumnTransformer` \u0648\u0627\u0644\u062a\u0635\u0646\u064a\u0641\u060c\n:class:`~sklearn.linear_model.LogisticRegression`\u060c \u0648\u064a\u0639\u0631\u0636 \u062a\u0645\u062b\u064a\u0644\u0647 \u0627\u0644\u0645\u0631\u0626\u064a.\n\n"
      ]
    },
    {
      "cell_type": "code",
      "execution_count": null,
      "metadata": {
        "collapsed": false
      },
      "outputs": [],
      "source": [
        "import numpy as np\n\nfrom sklearn.compose import ColumnTransformer\nfrom sklearn.impute import SimpleImputer\nfrom sklearn.linear_model import LogisticRegression\nfrom sklearn.pipeline import Pipeline, make_pipeline\nfrom sklearn.preprocessing import OneHotEncoder, StandardScaler\n\nnumeric_preprocessor = Pipeline(\n    steps=[\n        (\"imputation_mean\", SimpleImputer(missing_values=np.nan, strategy=\"mean\")),\n        (\"scaler\", StandardScaler()),\n    ]\n)\n\ncategorical_preprocessor = Pipeline(\n    steps=[\n        (\n            \"imputation_constant\",\n            SimpleImputer(fill_value=\"missing\", strategy=\"constant\"),\n        ),\n        (\"onehot\", OneHotEncoder(handle_unknown=\"ignore\")),\n    ]\n)\n\npreprocessor = ColumnTransformer(\n    [\n        (\"categorical\", categorical_preprocessor, [\"state\", \"gender\"]),\n        (\"numerical\", numeric_preprocessor, [\"age\", \"weight\"]),\n    ]\n)\n\npipe = make_pipeline(preprocessor, LogisticRegression(max_iter=500))\npipe  # \u0627\u0646\u0642\u0631 \u0639\u0644\u0649 \u0627\u0644\u0645\u062e\u0637\u0637 \u0623\u062f\u0646\u0627\u0647 \u0644\u0645\u0634\u0627\u0647\u062f\u0629 \u062a\u0641\u0627\u0635\u064a\u0644 \u0643\u0644 \u062e\u0637\u0648\u0629"
      ]
    },
    {
      "cell_type": "markdown",
      "metadata": {},
      "source": [
        "## \u0639\u0631\u0636 \u0628\u062d\u062b \u0634\u0628\u0643\u064a \u0639\u0628\u0631 \u062e\u0637 \u0623\u0646\u0627\u0628\u064a\u0628 \u0645\u0639 \u062a\u0635\u0646\u064a\u0641\n\u064a\u0642\u0648\u0645 \u0647\u0630\u0627 \u0627\u0644\u0642\u0633\u0645 \u0628\u0628\u0646\u0627\u0621 :class:`~sklearn.model_selection.GridSearchCV`\n\u0639\u0628\u0631 :class:`~sklearn.pipeline.Pipeline` \u0645\u0639\n:class:`~sklearn.ensemble.RandomForestClassifier` \u0648\u064a\u0639\u0631\u0636 \u062a\u0645\u062b\u064a\u0644\u0647 \u0627\u0644\u0645\u0631\u0626\u064a.\n\n"
      ]
    },
    {
      "cell_type": "code",
      "execution_count": null,
      "metadata": {
        "collapsed": false
      },
      "outputs": [],
      "source": [
        "import numpy as np\n\nfrom sklearn.compose import ColumnTransformer\nfrom sklearn.ensemble import RandomForestClassifier\nfrom sklearn.impute import SimpleImputer\nfrom sklearn.model_selection import GridSearchCV\nfrom sklearn.pipeline import Pipeline, make_pipeline\nfrom sklearn.preprocessing import OneHotEncoder, StandardScaler\n\nnumeric_preprocessor = Pipeline(\n    steps=[\n        (\"imputation_mean\", SimpleImputer(missing_values=np.nan, strategy=\"mean\")),\n        (\"scaler\", StandardScaler()),\n    ]\n)\n\ncategorical_preprocessor = Pipeline(\n    steps=[\n        (\n            \"imputation_constant\",\n            SimpleImputer(fill_value=\"missing\", strategy=\"constant\"),\n        ),\n        (\"onehot\", OneHotEncoder(handle_unknown=\"ignore\")),\n    ]\n)\n\npreprocessor = ColumnTransformer(\n    [\n        (\"categorical\", categorical_preprocessor, [\"state\", \"gender\"]),\n        (\"numerical\", numeric_preprocessor, [\"age\", \"weight\"]),\n    ]\n)\n\npipe = Pipeline(\n    steps=[(\"preprocessor\", preprocessor), (\"classifier\", RandomForestClassifier())]\n)\n\nparam_grid = {\n    \"classifier__n_estimators\": [200, 500],\n    \"classifier__max_features\": [\"auto\", \"sqrt\", \"log2\"],\n    \"classifier__max_depth\": [4, 5, 6, 7, 8],\n    \"classifier__criterion\": [\"gini\", \"entropy\"],\n}\n\ngrid_search = GridSearchCV(pipe, param_grid=param_grid, n_jobs=1)\ngrid_search  # \u0627\u0646\u0642\u0631 \u0639\u0644\u0649 \u0627\u0644\u0645\u062e\u0637\u0637 \u0623\u062f\u0646\u0627\u0647 \u0644\u0645\u0634\u0627\u0647\u062f\u0629 \u062a\u0641\u0627\u0635\u064a\u0644 \u0643\u0644 \u062e\u0637\u0648\u0629"
      ]
    }
  ],
  "metadata": {
    "kernelspec": {
      "display_name": "Python 3",
      "language": "python",
      "name": "python3"
    },
    "language_info": {
      "codemirror_mode": {
        "name": "ipython",
        "version": 3
      },
      "file_extension": ".py",
      "mimetype": "text/x-python",
      "name": "python",
      "nbconvert_exporter": "python",
      "pygments_lexer": "ipython3",
      "version": "3.10.13"
    }
  },
  "nbformat": 4,
  "nbformat_minor": 0
}