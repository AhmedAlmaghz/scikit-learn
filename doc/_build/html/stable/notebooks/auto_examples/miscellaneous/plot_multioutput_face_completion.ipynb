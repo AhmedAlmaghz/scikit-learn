{
  "cells": [
    {
      "cell_type": "markdown",
      "metadata": {},
      "source": [
        "\n# \u0627\u0643\u062a\u0645\u0627\u0644 \u0627\u0644\u0648\u062c\u0647 \u0628\u0627\u0633\u062a\u062e\u062f\u0627\u0645 \u0627\u0644\u0645\u064f\u0642\u062f\u0631\u0627\u062a \u0645\u062a\u0639\u062f\u062f\u0629 \u0627\u0644\u0645\u062e\u0631\u062c\u0627\u062a\n\n\u064a\u064f\u0638\u0647\u0631 \u0647\u0630\u0627 \u0627\u0644\u0645\u062b\u0627\u0644 \u0627\u0633\u062a\u062e\u062f\u0627\u0645 \u0627\u0644\u0645\u064f\u0642\u062f\u0631 \u0645\u062a\u0639\u062f\u062f \u0627\u0644\u0645\u062e\u0631\u062c\u0627\u062a \u0644\u0625\u0643\u0645\u0627\u0644 \u0627\u0644\u0635\u0648\u0631.\n\u0627\u0644\u0647\u062f\u0641 \u0647\u0648 \u0627\u0644\u062a\u0646\u0628\u0624 \u0628\u0627\u0644\u0646\u0635\u0641 \u0627\u0644\u0633\u0641\u0644\u064a \u0644\u0644\u0648\u062c\u0647 \u0628\u0646\u0627\u0621\u064b \u0639\u0644\u0649 \u0627\u0644\u0646\u0635\u0641 \u0627\u0644\u0639\u0644\u0648\u064a.\n\n\u064a\u064f\u0638\u0647\u0631 \u0627\u0644\u0639\u0645\u0648\u062f \u0627\u0644\u0623\u0648\u0644 \u0645\u0646 \u0627\u0644\u0635\u0648\u0631 \u0627\u0644\u0648\u062c\u0648\u0647 \u0627\u0644\u062d\u0642\u064a\u0642\u064a\u0629. \u062a\u0648\u0636\u062d \u0627\u0644\u0623\u0639\u0645\u062f\u0629 \u0627\u0644\u062a\u0627\u0644\u064a\u0629 \u0643\u064a\u0641 \u062a\u0642\u0648\u0645 \u0627\u0644\u0623\u0634\u062c\u0627\u0631 \u0627\u0644\u0639\u0634\u0648\u0627\u0626\u064a\u0629 \u0644\u0644\u063a\u0627\u064a\u0629\u060c \u0648\u0623\u0642\u0631\u0628 \u062c\u064a\u0631\u0627\u0646\u060c \u0648\u0627\u0644\u0627\u0646\u062d\u062f\u0627\u0631 \u0627\u0644\u062e\u0637\u064a\u060c \u0648\u0627\u0644\u0627\u0646\u062d\u062f\u0627\u0631 \u0627\u0644\u0627\u0644\u062a\u0641\u0627\u0641\u064a \u0628\u0625\u0643\u0645\u0627\u0644 \u0627\u0644\u0646\u0635\u0641 \u0627\u0644\u0633\u0641\u0644\u064a \u0645\u0646 \u0647\u0630\u0647 \u0627\u0644\u0648\u062c\u0648\u0647.\n"
      ]
    },
    {
      "cell_type": "code",
      "execution_count": null,
      "metadata": {
        "collapsed": false
      },
      "outputs": [],
      "source": [
        "# \u0627\u0644\u0645\u0624\u0644\u0641\u0648\u0646: \u0645\u0637\u0648\u0631\u064a \u0633\u0643\u0627\u064a\u0644\u0631\u0646\n# \u0645\u0639\u0631\u0641 \u0627\u0644\u062a\u0631\u062e\u064a\u0635: BSD-3-Clause\n\nimport matplotlib.pyplot as plt\nimport numpy as np\n\nfrom sklearn.datasets import fetch_olivetti_faces\nfrom sklearn.ensemble import ExtraTreesRegressor\nfrom sklearn.linear_model import LinearRegression, RidgeCV\nfrom sklearn.neighbors import KNeighborsRegressor\nfrom sklearn.utils.validation import check_random_state\n\n# \u062a\u062d\u0645\u064a\u0644 \u0645\u062c\u0645\u0648\u0639\u0627\u062a \u0628\u064a\u0627\u0646\u0627\u062a \u0627\u0644\u0648\u062c\u0648\u0647\ndata, targets = fetch_olivetti_faces(return_X_y=True)\n\ntrain = data[targets < 30]\ntest = data[targets >= 30] # \u0627\u0644\u0627\u062e\u062a\u0628\u0627\u0631 \u0639\u0644\u0649 \u0623\u0634\u062e\u0627\u0635 \u0645\u0633\u062a\u0642\u0644\u064a\u0646\n\n# \u0627\u0644\u0627\u062e\u062a\u0628\u0627\u0631 \u0639\u0644\u0649 \u0645\u062c\u0645\u0648\u0639\u0629 \u0641\u0631\u0639\u064a\u0629 \u0645\u0646 \u0627\u0644\u0623\u0634\u062e\u0627\u0635\nn_faces = 5\nrng = check_random_state(4)\nface_ids = rng.randint(test.shape[0], size=(n_faces,))\ntest = test[face_ids, :]\n\nn_pixels = data.shape[1]\n# \u0627\u0644\u0646\u0635\u0641 \u0627\u0644\u0639\u0644\u0648\u064a \u0645\u0646 \u0627\u0644\u0648\u062c\u0648\u0647\nX_train = train[:, : (n_pixels + 1) // 2]\n# \u0627\u0644\u0646\u0635\u0641 \u0627\u0644\u0633\u0641\u0644\u064a \u0645\u0646 \u0627\u0644\u0648\u062c\u0648\u0647\ny_train = train[:, n_pixels // 2 :]\nX_test = test[:, : (n_pixels + 1) // 2]\ny_test = test[:, n_pixels // 2 :]\n\n# \u0645\u0644\u0627\u0621\u0645\u0629 \u0627\u0644\u0645\u064f\u0642\u062f\u0631\u0627\u062a\nESTIMATORS = {\n    \"Extra trees\": ExtraTreesRegressor(\n        n_estimators=10, max_features=32, random_state=0\n    ),\n    \"K-nn\": KNeighborsRegressor(),\n    \"Linear regression\": LinearRegression(),\n    \"Ridge\": RidgeCV(),\n}\n\ny_test_predict = dict()\nfor name, estimator in ESTIMATORS.items():\n    estimator.fit(X_train, y_train)\n    y_test_predict[name] = estimator.predict(X_test)\n\n# \u0631\u0633\u0645 \u0627\u0644\u0648\u062c\u0648\u0647 \u0627\u0644\u0645\u0643\u062a\u0645\u0644\u0629\nimage_shape = (64, 64)\n\nn_cols = 1 + len(ESTIMATORS)\nplt.figure(figsize=(2.0 * n_cols, 2.26 * n_faces))\nplt.suptitle(\"Face completion with multi-output estimators\", size=16)\n\nfor i in range(n_faces):\n    true_face = np.hstack((X_test[i], y_test[i]))\n\n    if i:\n        sub = plt.subplot(n_faces, n_cols, i * n_cols + 1)\n    else:\n        sub = plt.subplot(n_faces, n_cols, i * n_cols + 1, title=\"true faces\")\n\n    sub.axis(\"off\")\n    sub.imshow(\n        true_face.reshape(image_shape), cmap=plt.cm.gray, interpolation=\"nearest\"\n    )\n\n    for j, est in enumerate(sorted(ESTIMATORS)):\n        completed_face = np.hstack((X_test[i], y_test_predict[est][i]))\n\n        if i:\n            sub = plt.subplot(n_faces, n_cols, i * n_cols + 2 + j)\n\n        else:\n            sub = plt.subplot(n_faces, n_cols, i * n_cols + 2 + j, title=est)\n\n        sub.axis(\"off\")\n        sub.imshow(\n            completed_face.reshape(image_shape),\n            cmap=plt.cm.gray,\n            interpolation=\"nearest\",\n        )\n\nplt.show()"
      ]
    }
  ],
  "metadata": {
    "kernelspec": {
      "display_name": "Python 3",
      "language": "python",
      "name": "python3"
    },
    "language_info": {
      "codemirror_mode": {
        "name": "ipython",
        "version": 3
      },
      "file_extension": ".py",
      "mimetype": "text/x-python",
      "name": "python",
      "nbconvert_exporter": "python",
      "pygments_lexer": "ipython3",
      "version": "3.10.13"
    }
  },
  "nbformat": 4,
  "nbformat_minor": 0
}