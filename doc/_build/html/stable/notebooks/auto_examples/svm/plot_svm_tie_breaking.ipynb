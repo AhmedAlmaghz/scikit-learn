{
  "cells": [
    {
      "cell_type": "markdown",
      "metadata": {},
      "source": [
        "\n# \u0645\u062b\u0627\u0644 \u0639\u0644\u0649 \u0643\u0633\u0631 \u0627\u0644\u062a\u0639\u0627\u062f\u0644 \u0641\u064a SVM\n\u0643\u0633\u0631 \u0627\u0644\u062a\u0639\u0627\u062f\u0644 \u0645\u0643\u0644\u0641 \u0625\u0630\u0627 \u0643\u0627\u0646 ``decision_function_shape='ovr'``\u060c \u0648\u0644\u0630\u0644\u0643 \u0641\u0647\u0648 \u063a\u064a\u0631 \u0645\u0641\u0639\u0644 \u0628\u0634\u0643\u0644 \u0627\u0641\u062a\u0631\u0627\u0636\u064a. \u064a\u0648\u0636\u062d \u0647\u0630\u0627 \u0627\u0644\u0645\u062b\u0627\u0644 \u062a\u0623\u062b\u064a\u0631 \u0645\u0639\u0644\u0645\u0629 ``break_ties`` \u0644\u0645\u0634\u0643\u0644\u0629 \u062a\u0635\u0646\u064a\u0641 \u0645\u062a\u0639\u062f\u062f\u0629 \u0627\u0644\u0641\u0626\u0627\u062a \u0648 ``decision_function_shape='ovr'``.\n\n\u064a\u062e\u062a\u0644\u0641 \u0627\u0644\u0645\u062e\u0637\u0637\u0627\u0646 \u0641\u0642\u0637 \u0641\u064a \u0627\u0644\u0645\u0646\u0637\u0642\u0629 \u0627\u0644\u0648\u0633\u0637\u0649 \u062d\u064a\u062b \u062a\u0643\u0648\u0646 \u0627\u0644\u0641\u0626\u0627\u062a \u0645\u062a\u0639\u0627\u062f\u0644\u0629. \u0625\u0630\u0627 \u0643\u0627\u0646 ``break_ties=False``\u060c \u0641\u0633\u064a\u062a\u0645 \u062a\u0635\u0646\u064a\u0641 \u062c\u0645\u064a\u0639 \u0627\u0644\u0645\u062f\u062e\u0644\u0627\u062a \u0641\u064a \u062a\u0644\u0643 \u0627\u0644\u0645\u0646\u0637\u0642\u0629 \u0639\u0644\u0649 \u0623\u0646\u0647\u0627 \u0641\u0626\u0629 \u0648\u0627\u062d\u062f\u0629\u060c \u0641\u064a \u062d\u064a\u0646 \u0623\u0646\u0647 \u0625\u0630\u0627 \u0643\u0627\u0646 ``break_ties=True``\u060c \u0641\u0625\u0646 \u0622\u0644\u064a\u0629 \u0643\u0633\u0631 \u0627\u0644\u062a\u0639\u0627\u062f\u0644 \u0633\u062a\u062e\u0644\u0642 \u062d\u062f\u0648\u062f \u0642\u0631\u0627\u0631 \u063a\u064a\u0631 \u0645\u062d\u062f\u0628\u0629 \u0641\u064a \u062a\u0644\u0643 \u0627\u0644\u0645\u0646\u0637\u0642\u0629.\n"
      ]
    },
    {
      "cell_type": "code",
      "execution_count": null,
      "metadata": {
        "collapsed": false
      },
      "outputs": [],
      "source": [
        "# \u0627\u0644\u0645\u0624\u0644\u0641\u0648\u0646: \u0645\u0637\u0648\u0631\u064a scikit-learn\n# \u0645\u0639\u0631\u0641 \u0627\u0644\u062a\u0631\u062e\u064a\u0635: BSD-3-Clause\n\nimport matplotlib.pyplot as plt\nimport numpy as np\n\nfrom sklearn.datasets import make_blobs\nfrom sklearn.svm import SVC\n\nX, y = make_blobs(random_state=27)\n\nfig, sub = plt.subplots(2, 1, figsize=(5, 8))\ntitles = (\"break_ties = False\", \"break_ties = True\")\n\nfor break_ties, title, ax in zip((False, True), titles, sub.flatten()):\n    svm = SVC(\n        kernel=\"linear\", C=1, break_ties=break_ties, decision_function_shape=\"ovr\"\n    ).fit(X, y)\n\n    xlim = [X[:, 0].min(), X[:, 0].max()]\n    ylim = [X[:, 1].min(), X[:, 1].max()]\n\n    xs = np.linspace(xlim[0], xlim[1], 1000)\n    ys = np.linspace(ylim[0], ylim[1], 1000)\n    xx, yy = np.meshgrid(xs, ys)\n\n    pred = svm.predict(np.c_[xx.ravel(), yy.ravel()])\n\n    colors = [plt.cm.Accent(i) for i in [0, 4, 7]]\n\n    points = ax.scatter(X[:, 0], X[:, 1], c=y, cmap=\"Accent\")\n    classes = [(0, 1), (0, 2), (1, 2)]\n    line = np.linspace(X[:, 1].min() - 5, X[:, 1].max() + 5)\n    ax.imshow(\n        -pred.reshape(xx.shape),\n        cmap=\"Accent\",\n        alpha=0.2,\n        extent=(xlim[0], xlim[1], ylim[1], ylim[0]),\n    )\n\n    for coef, intercept, col in zip(svm.coef_, svm.intercept_, classes):\n        line2 = -(line * coef[1] + intercept) / coef[0]\n        ax.plot(line2, line, \"-\", c=colors[col[0]])\n        ax.plot(line2, line, \"--\", c=colors[col[1]])\n    ax.set_xlim(xlim)\n    ax.set_ylim(ylim)\n    ax.set_title(title)\n    ax.set_aspect(\"equal\")\n\nplt.show()"
      ]
    }
  ],
  "metadata": {
    "kernelspec": {
      "display_name": "Python 3",
      "language": "python",
      "name": "python3"
    },
    "language_info": {
      "codemirror_mode": {
        "name": "ipython",
        "version": 3
      },
      "file_extension": ".py",
      "mimetype": "text/x-python",
      "name": "python",
      "nbconvert_exporter": "python",
      "pygments_lexer": "ipython3",
      "version": "3.10.13"
    }
  },
  "nbformat": 4,
  "nbformat_minor": 0
}