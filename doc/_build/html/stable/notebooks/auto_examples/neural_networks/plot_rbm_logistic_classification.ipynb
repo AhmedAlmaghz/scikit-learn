{
  "cells": [
    {
      "cell_type": "markdown",
      "metadata": {},
      "source": [
        "\n# \u0645\u064a\u0632\u0627\u062a \u0634\u0628\u0643\u0629 \u0628\u0648\u0644\u062a\u0632\u0645\u0627\u0646 \u0627\u0644\u0645\u0642\u064a\u062f\u0629 \u0644\u062a\u0635\u0646\u064a\u0641 \u0627\u0644\u0623\u0631\u0642\u0627\u0645\n\n\u0628\u0627\u0644\u0646\u0633\u0628\u0629 \u0644\u0628\u064a\u0627\u0646\u0627\u062a \u0627\u0644\u0635\u0648\u0631 \u0627\u0644\u0631\u0645\u0627\u062f\u064a\u0629\u060c \u062d\u064a\u062b \u064a\u0645\u0643\u0646 \u062a\u0641\u0633\u064a\u0631 \u0642\u064a\u0645 \u0627\u0644\u0628\u0643\u0633\u0644 \u0639\u0644\u0649 \u0623\u0646\u0647\u0627 \u062f\u0631\u062c\u0627\u062a \u0645\u0646 \u0627\u0644\u0633\u0648\u0627\u062f \u0639\u0644\u0649 \u062e\u0644\u0641\u064a\u0629 \u0628\u064a\u0636\u0627\u0621\u060c \u0645\u062b\u0644 \u0627\u0644\u062a\u0639\u0631\u0641 \u0639\u0644\u0649 \u0627\u0644\u0623\u0631\u0642\u0627\u0645 \u0627\u0644\u0645\u0643\u062a\u0648\u0628\u0629 \u0628\u062e\u0637 \u0627\u0644\u064a\u062f\u060c \u064a\u0645\u0643\u0646 \u0644\u0646\u0645\u0648\u0630\u062c \u0634\u0628\u0643\u0629 \u0628\u0648\u0644\u062a\u0632\u0645\u0627\u0646 \u0627\u0644\u0645\u0642\u064a\u062f\u0629 \u0630\u0627\u062a \u0627\u0644\u062a\u0648\u0632\u064a\u0639 \u0627\u0644\u0628\u0631\u0646\u0648\u0644\u064a (:class:`BernoulliRBM\n<sklearn.neural_network.BernoulliRBM>`) \u0623\u0646 \u064a\u0642\u0648\u0645 \u0628\u0627\u0633\u062a\u062e\u0631\u0627\u062c \u0627\u0644\u0645\u064a\u0632\u0627\u062a \u063a\u064a\u0631 \u0627\u0644\u062e\u0637\u064a\u0629 \u0628\u0634\u0643\u0644 \u0641\u0639\u0627\u0644.\n"
      ]
    },
    {
      "cell_type": "code",
      "execution_count": null,
      "metadata": {
        "collapsed": false
      },
      "outputs": [],
      "source": [
        "# \u0627\u0644\u0645\u0624\u0644\u0641\u0648\u0646: \u0645\u0637\u0648\u0631\u064a \u0645\u0643\u062a\u0628\u0629 \u0633\u0643\u0627\u064a\u0644\u0631\u0646\n# \u0645\u0639\u0631\u0641 \u0627\u0644\u062a\u0631\u062e\u064a\u0635: BSD-3-Clause"
      ]
    },
    {
      "cell_type": "markdown",
      "metadata": {},
      "source": [
        "## \u062a\u0648\u0644\u064a\u062f \u0627\u0644\u0628\u064a\u0627\u0646\u0627\u062a\n\n\u0645\u0646 \u0623\u062c\u0644 \u062a\u0639\u0644\u0645 \u062a\u0645\u062b\u064a\u0644\u0627\u062a \u0643\u0627\u0645\u0646\u0629 \u062c\u064a\u062f\u0629 \u0645\u0646 \u0645\u062c\u0645\u0648\u0639\u0629 \u0628\u064a\u0627\u0646\u0627\u062a \u0635\u063a\u064a\u0631\u0629\u060c \u0646\u0642\u0648\u0645\n\u0628\u062a\u0648\u0644\u064a\u062f \u0627\u0644\u0645\u0632\u064a\u062f \u0645\u0646 \u0627\u0644\u0628\u064a\u0627\u0646\u0627\u062a \u0627\u0644\u0645\u064f\u0639\u064e\u0644\u064e\u0651\u0645\u0629 \u0628\u0634\u0643\u0644 \u0627\u0635\u0637\u0646\u0627\u0639\u064a \u0639\u0646 \u0637\u0631\u064a\u0642 \u0625\u0632\u0639\u0627\u062c \u0628\u064a\u0627\u0646\u0627\u062a \u0627\u0644\u062a\u062f\u0631\u064a\u0628 \u0645\u0639\n\u062a\u062d\u0648\u0644\u0627\u062a \u062e\u0637\u064a\u0629 \u0628\u0645\u0642\u062f\u0627\u0631 1 \u0628\u0643\u0633\u0644 \u0641\u064a \u0643\u0644 \u0627\u062a\u062c\u0627\u0647.\n\n"
      ]
    },
    {
      "cell_type": "code",
      "execution_count": null,
      "metadata": {
        "collapsed": false
      },
      "outputs": [],
      "source": [
        "import numpy as np\nfrom scipy.ndimage import convolve\n\nfrom sklearn import datasets\nfrom sklearn.model_selection import train_test_split\nfrom sklearn.preprocessing import minmax_scale\n\n\ndef nudge_dataset(X, Y):\n    \"\"\"\n    \u0647\u0630\u0627 \u064a\u0646\u062a\u062c \u0645\u062c\u0645\u0648\u0639\u0629 \u0628\u064a\u0627\u0646\u0627\u062a \u0623\u0643\u0628\u0631 \u0628\u062e\u0645\u0633 \u0645\u0631\u0627\u062a \u0645\u0646 \u0627\u0644\u0623\u0635\u0644\u064a\u0629\u060c\n    \u0639\u0646 \u0637\u0631\u064a\u0642 \u062a\u062d\u0631\u064a\u0643 \u0627\u0644\u0635\u0648\u0631 8x8 \u0641\u064a X \u062d\u0648\u0644\u0647\u0627 \u0628\u0645\u0642\u062f\u0627\u0631 1px \u0625\u0644\u0649 \u0627\u0644\u064a\u0633\u0627\u0631\u060c \u0627\u0644\u064a\u0645\u064a\u0646\u060c \u0627\u0644\u0623\u0633\u0641\u0644\u060c \u0627\u0644\u0623\u0639\u0644\u0649\n    \"\"\"\n    direction_vectors = [\n        [[0, 1, 0], [0, 0, 0], [0, 0, 0]],\n        [[0, 0, 0], [1, 0, 0], [0, 0, 0]],\n        [[0, 0, 0], [0, 0, 1], [0, 0, 0]],\n        [[0, 0, 0], [0, 0, 0], [0, 1, 0]],\n    ]\n\n    def shift(x, w):\n        return convolve(x.reshape((8, 8)), mode=\"constant\", weights=w).ravel()\n\n    X = np.concatenate(\n        [X] + [np.apply_along_axis(shift, 1, X, vector) for vector in direction_vectors]\n    )\n    Y = np.concatenate([Y for _ in range(5)], axis=0)\n    return X, Y\n\n\nX, y = datasets.load_digits(return_X_y=True)\nX = np.asarray(X, \"float32\")\nX, Y = nudge_dataset(X, y)\nX = minmax_scale(X, feature_range=(0, 1))  # 0-1 scaling\n\nX_train, X_test, Y_train, Y_test = train_test_split(X, Y, test_size=0.2, random_state=0)"
      ]
    },
    {
      "cell_type": "markdown",
      "metadata": {},
      "source": [
        "## \u062a\u0639\u0631\u064a\u0641 \u0627\u0644\u0646\u0645\u0627\u0630\u062c\n\n\u0646\u0642\u0648\u0645 \u0628\u0628\u0646\u0627\u0621 \u062e\u0637 \u0623\u0646\u0627\u0628\u064a\u0628 \u0627\u0644\u062a\u0635\u0646\u064a\u0641 \u0645\u0639 \u0645\u0633\u062a\u062e\u0631\u062c \u0645\u064a\u0632\u0627\u062a BernoulliRBM \u0648\n\u0645\u0635\u0646\u0641 :class:`LogisticRegression <sklearn.linear_model.LogisticRegression>`\n\n\n"
      ]
    },
    {
      "cell_type": "code",
      "execution_count": null,
      "metadata": {
        "collapsed": false
      },
      "outputs": [],
      "source": [
        "from sklearn import linear_model\nfrom sklearn.neural_network import BernoulliRBM\nfrom sklearn.pipeline import Pipeline\n\nlogistic = linear_model.LogisticRegression(solver=\"newton-cg\", tol=1)\nrbm = BernoulliRBM(random_state=0, verbose=True)\n\nrbm_features_classifier = Pipeline(steps=[(\"rbm\", rbm), (\"logistic\", logistic)])"
      ]
    },
    {
      "cell_type": "markdown",
      "metadata": {},
      "source": [
        "## \u0627\u0644\u062a\u062f\u0631\u064a\u0628\n\n\u062a\u0645 \u062a\u062d\u0633\u064a\u0646 \u0641\u0631\u0637 \u0645\u0639\u0627\u0645\u0644\u0627\u062a \u0627\u0644\u0646\u0645\u0648\u0630\u062c \u0628\u0627\u0644\u0643\u0627\u0645\u0644 (\u0645\u0639\u062f\u0644 \u0627\u0644\u062a\u0639\u0644\u0645\u060c \u062d\u062c\u0645 \u0627\u0644\u0637\u0628\u0642\u0629 \u0627\u0644\u0645\u062e\u0641\u064a\u0629\u060c\n\u0627\u0644\u062a\u0646\u0638\u064a\u0645) \u0639\u0646 \u0637\u0631\u064a\u0642 \u0627\u0644\u0628\u062d\u062b \u0627\u0644\u0634\u0628\u0643\u064a\u060c \u0648\u0644\u0643\u0646 \u0627\u0644\u0628\u062d\u062b \u063a\u064a\u0631\n\u0645\u0633\u062a\u0646\u0633\u062e \u0647\u0646\u0627 \u0628\u0633\u0628\u0628 \u0642\u064a\u0648\u062f \u0648\u0642\u062a \u0627\u0644\u062a\u0634\u063a\u064a\u0644.\n\n"
      ]
    },
    {
      "cell_type": "code",
      "execution_count": null,
      "metadata": {
        "collapsed": false
      },
      "outputs": [],
      "source": [
        "from sklearn.base import clone\n\n# \u0641\u0631\u0637 \u0627\u0644\u0645\u0639\u0627\u0645\u0644\u0627\u062a. \u062a\u0645 \u0636\u0628\u0637 \u0647\u0630\u0647 \u0627\u0644\u0642\u064a\u0645 \u0639\u0646 \u0637\u0631\u064a\u0642 \u0627\u0644\u062a\u062d\u0642\u0642 \u0645\u0646 \u0627\u0644\u0635\u062d\u0629 \u0627\u0644\u0645\u062a\u0642\u0627\u0637\u0639\u0629\u060c\n# \u0628\u0627\u0633\u062a\u062e\u062f\u0627\u0645 GridSearchCV. \u0647\u0646\u0627 \u0644\u0627 \u0646\u0642\u0648\u0645 \u0628\u0627\u0644\u062a\u062d\u0642\u0642 \u0645\u0646 \u0627\u0644\u0635\u062d\u0629 \u0627\u0644\u0645\u062a\u0642\u0627\u0637\u0639\u0629 \u0644\u062a\u0648\u0641\u064a\u0631 \u0627\u0644\u0648\u0642\u062a.\nrbm.learning_rate = 0.06\nrbm.n_iter = 10\n\n# \u0627\u0644\u0645\u0632\u064a\u062f \u0645\u0646 \u0627\u0644\u0645\u0643\u0648\u0646\u0627\u062a \u062a\u0645\u064a\u0644 \u0625\u0644\u0649 \u0625\u0639\u0637\u0627\u0621 \u0623\u062f\u0627\u0621 \u062a\u0646\u0628\u0624 \u0623\u0641\u0636\u0644\u060c \u0648\u0644\u0643\u0646 \u0648\u0642\u062a\n# \u0645\u0644\u0627\u0621\u0645\u0629 \u0623\u0643\u0628\u0631\nrbm.n_components = 100\nlogistic.C = 6000\n\n# \u062a\u062f\u0631\u064a\u0628 \u062e\u0637 \u0623\u0646\u0627\u0628\u064a\u0628 RBM-Logistic\nrbm_features_classifier.fit(X_train, Y_train)\n\n# \u062a\u062f\u0631\u064a\u0628 \u0645\u0635\u0646\u0641 \u0627\u0644\u0627\u0646\u062d\u062f\u0627\u0631 \u0627\u0644\u0644\u0648\u062c\u0633\u062a\u064a \u0645\u0628\u0627\u0634\u0631\u0629 \u0639\u0644\u0649 \u0627\u0644\u0628\u0643\u0633\u0644\nraw_pixel_classifier = clone(logistic)\nraw_pixel_classifier.C = 100.0\nraw_pixel_classifier.fit(X_train, Y_train)"
      ]
    },
    {
      "cell_type": "markdown",
      "metadata": {},
      "source": [
        "## \u0627\u0644\u062a\u0642\u064a\u064a\u0645\n\n"
      ]
    },
    {
      "cell_type": "code",
      "execution_count": null,
      "metadata": {
        "collapsed": false
      },
      "outputs": [],
      "source": [
        "from sklearn import metrics\n\nY_pred = rbm_features_classifier.predict(X_test)\nprint(\n    \"\u0627\u0646\u062d\u062f\u0627\u0631 \u0644\u0648\u062c\u0633\u062a\u064a \u0628\u0627\u0633\u062a\u062e\u062f\u0627\u0645 \u0645\u064a\u0632\u0627\u062a RBM:\\n%s\\n\"\n    % (metrics.classification_report(Y_test, Y_pred))\n)"
      ]
    },
    {
      "cell_type": "code",
      "execution_count": null,
      "metadata": {
        "collapsed": false
      },
      "outputs": [],
      "source": [
        "Y_pred = raw_pixel_classifier.predict(X_test)\nprint(\n    \"\u0627\u0646\u062d\u062f\u0627\u0631 \u0644\u0648\u062c\u0633\u062a\u064a \u0628\u0627\u0633\u062a\u062e\u062f\u0627\u0645 \u0645\u064a\u0632\u0627\u062a \u0627\u0644\u0628\u0643\u0633\u0644 \u0627\u0644\u062e\u0627\u0645:\\n%s\\n\"\n    % (metrics.classification_report(Y_test, Y_pred))\n)"
      ]
    },
    {
      "cell_type": "markdown",
      "metadata": {},
      "source": [
        "\u062a\u0633\u0627\u0639\u062f \u0627\u0644\u0645\u064a\u0632\u0627\u062a \u0627\u0644\u0645\u0633\u062a\u062e\u0631\u062c\u0629 \u0628\u0648\u0627\u0633\u0637\u0629 BernoulliRBM \u0641\u064a \u062a\u062d\u0633\u064a\u0646 \u062f\u0642\u0629 \u0627\u0644\u062a\u0635\u0646\u064a\u0641\n\u0641\u064a\u0645\u0627 \u064a\u062a\u0639\u0644\u0642 \u0628\u0627\u0644\u0627\u0646\u062d\u062f\u0627\u0631 \u0627\u0644\u0644\u0648\u062c\u0633\u062a\u064a \u0639\u0644\u0649 \u0627\u0644\u0628\u0643\u0633\u0644 \u0627\u0644\u062e\u0627\u0645.\n\n"
      ]
    },
    {
      "cell_type": "markdown",
      "metadata": {},
      "source": [
        "## \u0627\u0644\u0631\u0633\u0645\n\n"
      ]
    },
    {
      "cell_type": "code",
      "execution_count": null,
      "metadata": {
        "collapsed": false
      },
      "outputs": [],
      "source": [
        "import matplotlib.pyplot as plt\n\nplt.figure(figsize=(4.2, 4))\nfor i, comp in enumerate(rbm.components_):\n    plt.subplot(10, 10, i + 1)\n    plt.imshow(comp.reshape((8, 8)), cmap=plt.cm.gray_r, interpolation=\"nearest\")\n    plt.xticks(())\n    plt.yticks(())\nplt.suptitle(\"100 \u0645\u0643\u0648\u0646 \u0645\u0633\u062a\u062e\u0631\u062c \u0628\u0648\u0627\u0633\u0637\u0629 RBM\", fontsize=16)\nplt.subplots_adjust(0.08, 0.02, 0.92, 0.85, 0.08, 0.23)\n\nplt.show()"
      ]
    }
  ],
  "metadata": {
    "kernelspec": {
      "display_name": "Python 3",
      "language": "python",
      "name": "python3"
    },
    "language_info": {
      "codemirror_mode": {
        "name": "ipython",
        "version": 3
      },
      "file_extension": ".py",
      "mimetype": "text/x-python",
      "name": "python",
      "nbconvert_exporter": "python",
      "pygments_lexer": "ipython3",
      "version": "3.10.13"
    }
  },
  "nbformat": 4,
  "nbformat_minor": 0
}