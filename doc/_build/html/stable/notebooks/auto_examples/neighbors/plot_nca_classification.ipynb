{
  "cells": [
    {
      "cell_type": "markdown",
      "metadata": {},
      "source": [
        "\n# \u0645\u0642\u0627\u0631\u0646\u0629 \u0623\u0642\u0631\u0628 \u0627\u0644\u062c\u064a\u0631\u0627\u0646 \u0645\u0639 \u0648\u0628\u062f\u0648\u0646 \u062a\u062d\u0644\u064a\u0644 \u0645\u0643\u0648\u0646\u0627\u062a \u0627\u0644\u062d\u064a\n\n\u0645\u062b\u0627\u0644 \u064a\u0642\u0627\u0631\u0646 \u062a\u0635\u0646\u064a\u0641 \u0623\u0642\u0631\u0628 \u0627\u0644\u062c\u064a\u0631\u0627\u0646 \u0645\u0639 \u0648\u0628\u062f\u0648\u0646\n\u062a\u062d\u0644\u064a\u0644 \u0645\u0643\u0648\u0646\u0627\u062a \u0627\u0644\u062d\u064a.\n\n\u0633\u064a\u0642\u0648\u0645 \u0628\u0631\u0633\u0645 \u062d\u062f\u0648\u062f \u0642\u0631\u0627\u0631\u0627\u062a \u0627\u0644\u0641\u0626\u0629 \u0627\u0644\u062a\u064a \u064a\u062d\u062f\u062f\u0647\u0627 \u0623\u0642\u0631\u0628 \u062c\u064a\u0631\u0627\u0646\n\u0627\u0644\u0645\u0635\u0646\u0641 \u0639\u0646\u062f \u0627\u0633\u062a\u062e\u062f\u0627\u0645 \u0627\u0644\u0645\u0633\u0627\u0641\u0629 \u0627\u0644\u0625\u0642\u0644\u064a\u062f\u064a\u0629 \u0639\u0644\u0649 \u0627\u0644\u0645\u064a\u0632\u0627\u062a \u0627\u0644\u0623\u0635\u0644\u064a\u0629\u060c \u0645\u0642\u0627\u0628\u0644\n\u0627\u0633\u062a\u062e\u062f\u0627\u0645 \u0627\u0644\u0645\u0633\u0627\u0641\u0629 \u0627\u0644\u0625\u0642\u0644\u064a\u062f\u064a\u0629 \u0628\u0639\u062f \u0627\u0644\u062a\u062d\u0648\u0644 \u0627\u0644\u0630\u064a \u062a\u0639\u0644\u0645\u0647 \u062a\u062d\u0644\u064a\u0644 \u0645\u0643\u0648\u0646\u0627\u062a \u0627\u0644\u062d\u064a. \u062a\u0647\u062f\u0641 \u0627\u0644\u0623\u062e\u064a\u0631\u0629 \u0625\u0644\u0649 \u0625\u064a\u062c\u0627\u062f \u062a\u062d\u0648\u064a\u0644 \u062e\u0637\u064a\n\u064a\u064f\u0636\u0627\u0639\u0641 \u062f\u0642\u0629 \u062a\u0635\u0646\u064a\u0641 \u0623\u0642\u0631\u0628 \u0627\u0644\u062c\u064a\u0631\u0627\u0646 (\u0627\u0644\u0627\u062d\u062a\u0645\u0627\u0644\u064a) \u0639\u0644\u0649\n\u0645\u062c\u0645\u0648\u0639\u0629 \u0627\u0644\u062a\u062f\u0631\u064a\u0628.\n"
      ]
    },
    {
      "cell_type": "code",
      "execution_count": null,
      "metadata": {
        "collapsed": false
      },
      "outputs": [],
      "source": [
        "# \u0627\u0644\u0645\u0624\u0644\u0641\u0648\u0646: \u0645\u0637\u0648\u0631\u064a \u0633\u0643\u0627\u064a\u0644\u0631\u0646\n# \u0645\u0639\u0631\u0641 \u0627\u0644\u062a\u0631\u062e\u064a\u0635: BSD-3-Clause\n\nimport matplotlib.pyplot as plt\nfrom matplotlib.colors import ListedColormap\n\nfrom sklearn import datasets\nfrom sklearn.inspection import DecisionBoundaryDisplay\nfrom sklearn.model_selection import train_test_split\nfrom sklearn.neighbors import KNeighborsClassifier, NeighborhoodComponentsAnalysis\nfrom sklearn.pipeline import Pipeline\nfrom sklearn.preprocessing import StandardScaler\n\nn_neighbors = 1\n\ndataset = datasets.load_iris()\nX, y = dataset.data, dataset.target\n\n# \u0646\u0623\u062e\u0630 \u0641\u0642\u0637 \u0645\u064a\u0632\u062a\u064a\u0646. \u064a\u0645\u0643\u0646\u0646\u0627 \u062a\u062c\u0646\u0628 \u0647\u0630\u0627 \u0627\u0644\u0642\u0637\u0639 \u0627\u0644\u0642\u0628\u064a\u062d\n# \u0639\u0646 \u0637\u0631\u064a\u0642 \u0627\u0633\u062a\u062e\u062f\u0627\u0645 \u0645\u062c\u0645\u0648\u0639\u0629 \u0628\u064a\u0627\u0646\u0627\u062a \u062b\u0646\u0627\u0626\u064a\u0629 \u0627\u0644\u0623\u0628\u0639\u0627\u062f\nX = X[:, [0, 2]]\n\nX_train, X_test, y_train, y_test = train_test_split(\n    X, y, stratify=y, test_size=0.7, random_state=42\n)\n\nh = 0.05  # \u062d\u062c\u0645 \u0627\u0644\u062e\u0637\u0648\u0629 \u0641\u064a \u0627\u0644\u0634\u0628\u0643\u0629\n\n# \u0625\u0646\u0634\u0627\u0621 \u062e\u0631\u0627\u0626\u0637 \u0627\u0644\u0623\u0644\u0648\u0627\u0646\ncmap_light = ListedColormap([\"#FFAAAA\", \"#AAFFAA\", \"#AAAAFF\"])\ncmap_bold = ListedColormap([\"#FF0000\", \"#00FF00\", \"#0000FF\"])\n\nnames = [\"KNN\", \"NCA, KNN\"]\n\nclassifiers = [\n    Pipeline(\n        [\n            (\"scaler\", StandardScaler()),\n            (\"knn\", KNeighborsClassifier(n_neighbors=n_neighbors)),\n        ]\n    ),\n    Pipeline(\n        [\n            (\"scaler\", StandardScaler()),\n            (\"nca\", NeighborhoodComponentsAnalysis()),\n            (\"knn\", KNeighborsClassifier(n_neighbors=n_neighbors)),\n        ]\n    ),\n]\n\nfor name, clf in zip(names, classifiers):\n    clf.fit(X_train, y_train)\n    score = clf.score(X_test, y_test)\n\n    _, ax = plt.subplots()\n    DecisionBoundaryDisplay.from_estimator(\n        clf,\n        X,\n        cmap=cmap_light,\n        alpha=0.8,\n        ax=ax,\n        response_method=\"predict\",\n        plot_method=\"pcolormesh\",\n        shading=\"auto\",\n    )\n\n    # \u0642\u0645 \u0628\u0631\u0633\u0645 \u0646\u0642\u0627\u0637 \u0627\u0644\u062a\u062f\u0631\u064a\u0628 \u0648\u0627\u0644\u0627\u062e\u062a\u0628\u0627\u0631 \u0623\u064a\u0636\u064b\u0627\n    plt.scatter(X[:, 0], X[:, 1], c=y, cmap=cmap_bold, edgecolor=\"k\", s=20)\n    plt.title(\"{} (k = {})\".format(name, n_neighbors))\n    plt.text(\n        0.9,\n        0.1,\n        \"{:.2f}\".format(score),\n        size=15,\n        ha=\"center\",\n        va=\"center\",\n        transform=plt.gca().transAxes,\n    )\n\nplt.show()"
      ]
    }
  ],
  "metadata": {
    "kernelspec": {
      "display_name": "Python 3",
      "language": "python",
      "name": "python3"
    },
    "language_info": {
      "codemirror_mode": {
        "name": "ipython",
        "version": 3
      },
      "file_extension": ".py",
      "mimetype": "text/x-python",
      "name": "python",
      "nbconvert_exporter": "python",
      "pygments_lexer": "ipython3",
      "version": "3.10.13"
    }
  },
  "nbformat": 4,
  "nbformat_minor": 0
}