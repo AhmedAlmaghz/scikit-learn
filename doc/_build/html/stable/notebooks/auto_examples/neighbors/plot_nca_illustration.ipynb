{
  "cells": [
    {
      "cell_type": "markdown",
      "metadata": {},
      "source": [
        "\n# \u062a\u0648\u0636\u064a\u062d \u062a\u062d\u0644\u064a\u0644 \u0645\u0643\u0648\u0646\u0627\u062a \u0627\u0644\u0623\u062d\u064a\u0627\u0621 \u0627\u0644\u0645\u062c\u0627\u0648\u0631\u0629\n\u064a\u0648\u0636\u062d \u0647\u0630\u0627 \u0627\u0644\u0645\u062b\u0627\u0644 \u0645\u0642\u064a\u0627\u0633 \u0645\u0633\u0627\u0641\u0629 \u0645\u064f\u062a\u0639\u0644\u0645 \u064a\u064f\u0639\u0638\u0645 \u062f\u0642\u0629 \u062a\u0635\u0646\u064a\u0641 \u0623\u0642\u0631\u0628 \u0627\u0644\u062c\u064a\u0631\u0627\u0646. \u0648\u064a\u0642\u062f\u0645 \u062a\u0645\u062b\u064a\u0644\u064b\u0627 \u0645\u0631\u0626\u064a\u064b\u0627 \u0644\u0647\u0630\u0627 \u0627\u0644\u0645\u0642\u064a\u0627\u0633 \u0645\u0642\u0627\u0631\u0646\u0629\u064b \u0628\u0627\u0644\u0645\u0633\u0627\u062d\u0629 \u0627\u0644\u0623\u0635\u0644\u064a\u0629 \u0644\u0644\u0646\u0642\u0627\u0637. \u064a\u0631\u062c\u0649 \u0627\u0644\u0631\u062c\u0648\u0639 \u0625\u0644\u0649 \u062f\u0644\u064a\u0644 \u0627\u0644\u0645\u0633\u062a\u062e\u062f\u0645 \u0644\u0645\u0632\u064a\u062f \u0645\u0646 \u0627\u0644\u0645\u0639\u0644\u0648\u0645\u0627\u062a.\n"
      ]
    },
    {
      "cell_type": "code",
      "execution_count": null,
      "metadata": {
        "collapsed": false
      },
      "outputs": [],
      "source": [
        "# \u0627\u0644\u0645\u0624\u0644\u0641\u0648\u0646: \u0645\u0637\u0648\u0631\u064a \u0633\u0643\u0627\u064a\u0644\u0631\u0646\n# \u0645\u0639\u0631\u0641 \u0627\u0644\u062a\u0631\u062e\u064a\u0635: BSD-3-Clause\n\nimport matplotlib.pyplot as plt\nimport numpy as np\nfrom matplotlib import cm\nfrom scipy.special import logsumexp\n\nfrom sklearn.datasets import make_classification\nfrom sklearn.neighbors import NeighborhoodComponentsAnalysis\n\n# \u0627\u0644\u0646\u0642\u0627\u0637 \u0627\u0644\u0623\u0635\u0644\u064a\u0629\n# ---------------\n# \u0623\u0648\u0644\u064b\u0627\u060c \u0646\u0642\u0648\u0645 \u0628\u0625\u0646\u0634\u0627\u0621 \u0645\u062c\u0645\u0648\u0639\u0629 \u0628\u064a\u0627\u0646\u0627\u062a \u0645\u0646 9 \u0639\u064a\u0646\u0627\u062a \u0645\u0646 3 \u0641\u0626\u0627\u062a\u060c \u0648\u0646\u0631\u0633\u0645 \u0627\u0644\u0646\u0642\u0627\u0637\n# \u0641\u064a \u0627\u0644\u0645\u0633\u0627\u062d\u0629 \u0627\u0644\u0623\u0635\u0644\u064a\u0629. \u0628\u0627\u0644\u0646\u0633\u0628\u0629 \u0644\u0647\u0630\u0627 \u0627\u0644\u0645\u062b\u0627\u0644\u060c \u0646\u0631\u0643\u0632 \u0639\u0644\u0649 \u062a\u0635\u0646\u064a\u0641\n# \u0627\u0644\u0646\u0642\u0637\u0629 \u0631\u0642\u0645 3. \u064a\u062a\u0646\u0627\u0633\u0628 \u0633\u0645\u0643 \u0627\u0644\u0631\u0627\u0628\u0637 \u0628\u064a\u0646 \u0627\u0644\u0646\u0642\u0637\u0629 \u0631\u0642\u0645 3 \u0648\u0646\u0642\u0637\u0629 \u0623\u062e\u0631\u0649\n# \u0645\u0639 \u0627\u0644\u0645\u0633\u0627\u0641\u0629 \u0628\u064a\u0646\u0647\u0645\u0627.\n\nX, y = make_classification(\n    n_samples=9,\n    n_features=2,\n    n_informative=2,\n    n_redundant=0,\n    n_classes=3,\n    n_clusters_per_class=1,\n    class_sep=1.0,\n    random_state=0,\n)\n\nplt.figure(1)\nax = plt.gca()\nfor i in range(X.shape[0]):\n    ax.text(X[i, 0], X[i, 1], str(i), va=\"center\", ha=\"center\")\n    ax.scatter(X[i, 0], X[i, 1], s=300, c=cm.Set1(y[[i]]), alpha=0.4)\n\nax.set_title(\"Original points\")\nax.axes.get_xaxis().set_visible(False)\nax.axes.get_yaxis().set_visible(False)\nax.axis(\"equal\")  # \u0644\u0639\u0631\u0636 \u0627\u0644\u062d\u062f\u0648\u062f \u0628\u0634\u0643\u0644 \u0635\u062d\u064a\u062d \u0643\u062f\u0648\u0627\u0626\u0631\n\n# \u062a\u0639\u0631\u064a\u0641 \u062f\u0627\u0644\u0629 \u0633\u0645\u0643 \u0627\u0644\u0631\u0627\u0628\u0637\ndef link_thickness_i(X, i):\n    diff_embedded = X[i] - X\n    dist_embedded = np.einsum(\"ij,ij->i\", diff_embedded, diff_embedded)\n    dist_embedded[i] = np.inf\n\n    # \u062d\u0633\u0627\u0628 \u0627\u0644\u0645\u0633\u0627\u0641\u0627\u062a \u0627\u0644\u0623\u0633\u064a\u0629 (\u0627\u0633\u062a\u062e\u062f\u0627\u0645 \u062e\u062f\u0639\u0629 log-sum-exp \u0644\u062a\u062c\u0646\u0628 \u0639\u062f\u0645 \u0627\u0644\u0627\u0633\u062a\u0642\u0631\u0627\u0631 \u0627\u0644\u0639\u062f\u062f\u064a)\n    exp_dist_embedded = np.exp(-dist_embedded - logsumexp(-dist_embedded))\n    return exp_dist_embedded\n\n# \u062a\u0639\u0631\u064a\u0641 \u062f\u0627\u0644\u0629 \u0631\u0628\u0637 \u0627\u0644\u0646\u0642\u0627\u0637\ndef relate_point(X, i, ax):\n    pt_i = X[i]\n    for j, pt_j in enumerate(X):\n        thickness = link_thickness_i(X, i)\n        if i != j:\n            line = ([pt_i[0], pt_j[0]], [pt_i[1], pt_j[1]])\n            ax.plot(*line, c=cm.Set1(y[j]), linewidth=5 * thickness[j])\n\n# \u062a\u062d\u062f\u064a\u062f \u0627\u0644\u0646\u0642\u0637\u0629 \u0627\u0644\u0645\u0631\u0627\u062f \u0631\u0628\u0637\u0647\u0627\ni = 3\n# \u0631\u0628\u0637 \u0627\u0644\u0646\u0642\u0637\u0629 \u0627\u0644\u0645\u062d\u062f\u062f\u0629\nrelate_point(X, i, ax)\nplt.show()\n\n# \u062a\u0639\u0644\u0645 \u0627\u0644\u062a\u0636\u0645\u064a\u0646\n# ---------------------\n# \u0646\u0633\u062a\u062e\u062f\u0645 NeighborhoodComponentsAnalysis \u0644\u062a\u0639\u0644\u0645 \u0627\u0644\u062a\u0636\u0645\u064a\u0646\n# \u0648\u0631\u0633\u0645 \u0627\u0644\u0646\u0642\u0627\u0637 \u0628\u0639\u062f \u0627\u0644\u062a\u062d\u0648\u064a\u0644. \u062b\u0645 \u0646\u0623\u062e\u0630 \u0627\u0644\u062a\u0636\u0645\u064a\u0646 \u0648\u0646\u062d\u062f\u062f \u0627\u0644\u062c\u064a\u0631\u0627\u0646 \u0627\u0644\u0623\u0642\u0631\u0628.\n\nnca = NeighborhoodComponentsAnalysis(max_iter=30, random_state=0)\nnca = nca.fit(X, y)\n\nplt.figure(2)\nax2 = plt.gca()\nX_embedded = nca.transform(X)\nrelate_point(X_embedded, i, ax2)\n\nfor i in range(len(X)):\n    ax2.text(X_embedded[i, 0], X_embedded[i, 1], str(i), va=\"center\", ha=\"center\")\n    ax2.scatter(X_embedded[i, 0], X_embedded[i, 1], s=300, c=cm.Set1(y[[i]]), alpha=0.4)\n\nax2.set_title(\"NCA embedding\")\nax2.axes.get_xaxis().set_visible(False)\nax2.axes.get_yaxis().set_visible(False)\nax2.axis(\"equal\")\nplt.show()"
      ]
    }
  ],
  "metadata": {
    "kernelspec": {
      "display_name": "Python 3",
      "language": "python",
      "name": "python3"
    },
    "language_info": {
      "codemirror_mode": {
        "name": "ipython",
        "version": 3
      },
      "file_extension": ".py",
      "mimetype": "text/x-python",
      "name": "python",
      "nbconvert_exporter": "python",
      "pygments_lexer": "ipython3",
      "version": "3.10.13"
    }
  },
  "nbformat": 4,
  "nbformat_minor": 0
}