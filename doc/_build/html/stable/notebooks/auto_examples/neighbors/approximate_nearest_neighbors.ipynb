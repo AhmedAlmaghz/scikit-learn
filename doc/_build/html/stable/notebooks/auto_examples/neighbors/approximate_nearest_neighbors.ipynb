{
  "cells": [
    {
      "cell_type": "markdown",
      "metadata": {},
      "source": [
        "\n# \u0623\u0642\u0631\u0628 \u0627\u0644\u0646\u0642\u0627\u0637 \u0627\u0644\u0645\u062c\u0627\u0648\u0631\u0629 \u0627\u0644\u062a\u0642\u0631\u064a\u0628\u064a\u0629 \u0641\u064a TSNE\n\n\u064a\u0642\u062f\u0645 \u0647\u0630\u0627 \u0627\u0644\u0645\u062b\u0627\u0644 \u0643\u064a\u0641\u064a\u0629 \u0631\u0628\u0637 KNeighborsTransformer \u0648 TSNE \u0641\u064a \u062e\u0637 \u0623\u0646\u0627\u0628\u064a\u0628.\n\u0643\u0645\u0627 \u064a\u064f\u0638\u0647\u0631 \u0643\u064a\u0641\u064a\u0629 \u062a\u063a\u0644\u064a\u0641 \u0627\u0644\u062d\u0632\u0645 `nmslib` \u0648 `pynndescent` \u0644\u0627\u0633\u062a\u0628\u062f\u0627\u0644\nKNeighborsTransformer \u0648\u0623\u062f\u0627\u0621 \u0623\u0642\u0631\u0628 \u0627\u0644\u0646\u0642\u0627\u0637 \u0627\u0644\u0645\u062c\u0627\u0648\u0631\u0629 \u0627\u0644\u062a\u0642\u0631\u064a\u0628\u064a\u0629. \u064a\u0645\u0643\u0646 \u062a\u062b\u0628\u064a\u062a \u0647\u0630\u0647 \u0627\u0644\u062d\u0632\u0645\n\u0628\u0627\u0633\u062a\u062e\u062f\u0627\u0645 `pip install nmslib pynndescent`.\n\n\u0645\u0644\u0627\u062d\u0638\u0629: \u0641\u064a KNeighborsTransformer \u0646\u0633\u062a\u062e\u062f\u0645 \u0627\u0644\u062a\u0639\u0631\u064a\u0641 \u0627\u0644\u0630\u064a \u064a\u062a\u0636\u0645\u0646 \u0643\u0644\n\u0646\u0642\u0637\u0629 \u062a\u062f\u0631\u064a\u0628 \u0643\u062c\u0627\u0631\u062a\u0647\u0627 \u0627\u0644\u062e\u0627\u0635\u0629 \u0641\u064a \u062d\u0633\u0627\u0628 `n_neighbors`, \u0648\u0644\u0623\u0633\u0628\u0627\u0628 \u0627\u0644\u062a\u0648\u0627\u0641\u0642, \u064a\u062a\u0645 \u062d\u0633\u0627\u0628 \u062c\u0627\u0631 \u0625\u0636\u0627\u0641\u064a \u0648\u0627\u062d\u062f\n\u0639\u0646\u062f\u0645\u0627 `mode == 'distance'`. \u064a\u0631\u062c\u0649 \u0645\u0644\u0627\u062d\u0638\u0629 \u0623\u0646\u0646\u0627 \u0646\u0641\u0639\u0644 \u0627\u0644\u0634\u064a\u0621 \u0646\u0641\u0633\u0647 \u0641\u064a\n\u063a\u0644\u0627\u0641 `nmslib` \u0627\u0644\u0645\u0642\u062a\u0631\u062d.\n"
      ]
    },
    {
      "cell_type": "code",
      "execution_count": null,
      "metadata": {
        "collapsed": false
      },
      "outputs": [],
      "source": [
        "# \u0627\u0644\u0645\u0624\u0644\u0641\u0648\u0646: \u0645\u0637\u0648\u0631\u064a scikit-learn\n# SPDX-License-Identifier: BSD-3-Clause"
      ]
    },
    {
      "cell_type": "markdown",
      "metadata": {},
      "source": [
        "\u0623\u0648\u0644\u0627\u064b, \u0646\u062d\u0627\u0648\u0644 \u0627\u0633\u062a\u064a\u0631\u0627\u062f \u0627\u0644\u062d\u0632\u0645 \u0648\u062a\u062d\u0630\u064a\u0631 \u0627\u0644\u0645\u0633\u062a\u062e\u062f\u0645 \u0641\u064a \u062d\u0627\u0644\u0629 \u0639\u062f\u0645 \u062a\u0648\u0641\u0631\u0647\u0627.\n\n"
      ]
    },
    {
      "cell_type": "code",
      "execution_count": null,
      "metadata": {
        "collapsed": false
      },
      "outputs": [],
      "source": [
        "import sys\n\ntry:\n    import nmslib\nexcept ImportError:\n    print(\"The package 'nmslib' is required to run this example.\")\n    sys.exit()\n\ntry:\n    from pynndescent import PyNNDescentTransformer\nexcept ImportError:\n    print(\"The package 'pynndescent' is required to run this example.\")\n    sys.exit()"
      ]
    },
    {
      "cell_type": "markdown",
      "metadata": {},
      "source": [
        "\u0646\u062d\u0646 \u0646\u062d\u062f\u062f \u0641\u0626\u0629 \u063a\u0644\u0627\u0641 \u0644\u062a\u0646\u0641\u064a\u0630 \u0648\u0627\u062c\u0647\u0629 \u0628\u0631\u0645\u062c\u0629 \u0627\u0644\u062a\u0637\u0628\u064a\u0642\u0627\u062a scikit-learn \u0625\u0644\u0649\n`nmslib`, \u0628\u0627\u0644\u0625\u0636\u0627\u0641\u0629 \u0625\u0644\u0649 \u062f\u0627\u0644\u0629 \u062a\u062d\u0645\u064a\u0644.\n\n"
      ]
    },
    {
      "cell_type": "code",
      "execution_count": null,
      "metadata": {
        "collapsed": false
      },
      "outputs": [],
      "source": [
        "import joblib\nimport numpy as np\nfrom scipy.sparse import csr_matrix\n\nfrom sklearn.base import BaseEstimator, TransformerMixin\nfrom sklearn.datasets import fetch_openml\nfrom sklearn.utils import shuffle\n\n\nclass NMSlibTransformer (TransformerMixin, BaseEstimator):\n    \"\"\"\u063a\u0644\u0627\u0641 \u0644\u0627\u0633\u062a\u062e\u062f\u0627\u0645 nmslib \u0643\u0640 KNeighborsTransformer \u0644\u0640 sklearn\"\"\"\n\n    def __init__(self, n_neighbors=5, metric=\"euclidean\", method=\"sw-graph\", n_jobs=-1):\n        self.n_neighbors = n_neighbors\n        self.method = method\n        self.metric = metric\n        self.n_jobs = n_jobs\n\n    def fit(self, X):\n        self.n_samples_fit_ = X.shape[0]\n\n        # \u0631\u0627\u062c\u0639 \u0627\u0644\u0645\u0632\u064a\u062f \u0645\u0646 \u0627\u0644\u0645\u0642\u0627\u064a\u064a\u0633 \u0641\u064a \u0627\u0644\u062f\u0644\u064a\u0644\n        # https://github.com/nmslib/nmslib/tree/master/manual\n        space = {\n            \"euclidean\": \"l2\",\n            \"cosine\": \"cosinesimil\",\n            \"l1\": \"l1\",\n            \"l2\": \"l2\",\n        }[self.metric]\n\n        self.nmslib_ = nmslib.init(method=self.method, space=space)\n        self.nmslib_.addDataPointBatch(X.copy())\n        self.nmslib_.createIndex()\n        return self\n\n    def transform(self, X):\n        n_samples_transform = X.shape[0]\n\n        # \u0644\u0623\u0633\u0628\u0627\u0628 \u0627\u0644\u062a\u0648\u0627\u0641\u0642, \u062d\u064a\u062b \u064a\u062a\u0645 \u0627\u0639\u062a\u0628\u0627\u0631 \u0643\u0644 \u0639\u064a\u0646\u0629 \u0643\u062c\u0627\u0631\u062a\u0647\u0627 \u0627\u0644\u062e\u0627\u0635\u0629,\n        # \u0633\u064a\u062a\u0645 \u062d\u0633\u0627\u0628 \u062c\u0627\u0631 \u0625\u0636\u0627\u0641\u064a \u0648\u0627\u062d\u062f.\n        n_neighbors = self.n_neighbors + 1\n\n        if self.n_jobs < 0:\n            # \u0646\u0641\u0633 \u0627\u0644\u0645\u0639\u0627\u0644\u062c\u0629 \u0643\u0645\u0627 \u0647\u0648 \u0645\u0643\u062a\u0648\u0628 \u0641\u064a joblib \u0644\u0644\u0642\u064a\u0645 \u0627\u0644\u0633\u0644\u0628\u064a\u0629 \u0645\u0646 n_jobs:\n            # \u0639\u0644\u0649 \u0648\u062c\u0647 \u0627\u0644\u062e\u0635\u0648\u0635, `n_jobs == -1` \u064a\u0639\u0646\u064a \"\u0628\u0642\u062f\u0631 \u0645\u0627 \u0647\u0648 \u0645\u062a\u0627\u062d \u0645\u0646 \u0627\u0644\u0645\u0639\u0627\u0644\u062c\u0627\u062a\".\n            num_threads = joblib.cpu_count() + self.n_jobs + 1\n        else:\n            num_threads = self.n_jobs\n\n        results = self.nmslib_.knnQueryBatch(\n            X.copy(), k=n_neighbors, num_threads=num_threads\n        )\n        indices, distances = zip(*results)\n        indices, distances = np.vstack(indices), np.vstack(distances)\n\n        indptr = np.arange(0, n_samples_transform * n_neighbors + 1, n_neighbors)\n        kneighbors_graph = csr_matrix(\n            (distances.ravel(), indices.ravel(), indptr),\n            \u0627\u0644\u0634\u0643\u0644=(n_samples_transform, self.n_samples_fit_),\n        )\n\n        return kneighbors_graph\n\n\ndef load_mnist(n_samples):\n    \"\"\"\u062a\u062d\u0645\u064a\u0644 MNIST, \u0648\u062e\u0644\u0637 \u0627\u0644\u0628\u064a\u0627\u0646\u0627\u062a, \u0648\u0625\u0631\u062c\u0627\u0639 n_samples \u0641\u0642\u0637.\"\"\"\n    mnist = fetch_openml(\"mnist_784\", as_frame=False)\n    X, y = shuffle(mnist.data, mnist.target, random_state=2)\n    return X[:n_samples] / 255, y[:n_samples]"
      ]
    },
    {
      "cell_type": "markdown",
      "metadata": {},
      "source": [
        "\u0646\u062d\u0646 \u0646\u0642\u064a\u0633 \u0623\u062f\u0627\u0621 \u0627\u0644\u0645\u062d\u0648\u0644\u0627\u062a \u0627\u0644\u0645\u062e\u062a\u0644\u0641\u0629 \u0644\u0623\u0642\u0631\u0628 \u0627\u0644\u0646\u0642\u0627\u0637 \u0627\u0644\u0645\u062c\u0627\u0648\u0631\u0629 \u0627\u0644\u062f\u0642\u064a\u0642\u0629/\u0627\u0644\u062a\u0642\u0631\u064a\u0628\u064a\u0629.\n\n"
      ]
    },
    {
      "cell_type": "code",
      "execution_count": null,
      "metadata": {
        "collapsed": false
      },
      "outputs": [],
      "source": [
        "import time\n\nfrom sklearn.manifold import TSNE\nfrom sklearn.neighbors import KNeighborsTransformer\nfrom sklearn.pipeline import make_pipeline\n\ndatasets = [\n    (\"MNIST_10000\", load_mnist(n_samples=10_000)),\n    (\"MNIST_20000\", load_mnist(n_samples=20_000)),\n]\n\nn_iter = 500\nperplexity = 30\nmetric = \"euclidean\"\n# \u062a\u062a\u0637\u0644\u0628 TSNE \u0639\u062f\u062f\u064b\u0627 \u0645\u0639\u064a\u0646\u064b\u0627 \u0645\u0646 \u0627\u0644\u062c\u064a\u0631\u0627\u0646 \u064a\u0639\u062a\u0645\u062f \u0639\u0644\u0649\n# \u0645\u0639\u0644\u0645\u0629 perplexity.\n# \u0623\u0636\u0641 \u0648\u0627\u062d\u062f\u064b\u0627 \u062d\u064a\u062b \u064a\u062a\u0645 \u062a\u0636\u0645\u064a\u0646 \u0643\u0644 \u0639\u064a\u0646\u0629 \u0643\u062c\u0627\u0631\u062a\u0647\u0627 \u0627\u0644\u062e\u0627\u0635\u0629.\nn_neighbors = int(3.0 * perplexity + 1) + 1\n\ntsne_params = dict(\n    init=\"random\",  # pca \u063a\u064a\u0631 \u0645\u062f\u0639\u0648\u0645 \u0644\u0644\u0645\u0635\u0641\u0648\u0641\u0627\u062a \u0627\u0644\u0645\u062a\u0646\u0627\u062b\u0631\u0629\n    perplexity=perplexity,\n    method=\"barnes_hut\",\n    random_state=42,\n    n_iter=n_iter,\n    learning_rate=\"auto\",\n)\n\ntransformers = [\n    (\n        \"KNeighborsTransformer\",\n        KNeighborsTransformer(n_neighbors=n_neighbors, mode=\"distance\", metric=metric),\n    ),\n    (\n        \"NMSlibTransformer\",\n        NMSlibTransformer(n_neighbors=n_neighbors, metric=metric),\n    ),\n    (\n        \"PyNNDescentTransformer\",\n        PyNNDescentTransformer(\n            n_neighbors=n_neighbors, metric=metric, parallel_batch_queries=True\n        ),\n    ),\n]\n\nfor dataset_name, (X, y) in datasets:\n    msg = f\"\u0642\u064a\u0627\u0633 \u0627\u0644\u0623\u062f\u0627\u0621 \u0639\u0644\u0649 {dataset_name}:\"\n    print (f\"\\n{msg}\\n\" + str(\"-\" * len(msg)))\n\n    for transformer_name, transformer in \u0627\u0644\u0645\u062d\u0648\u0644\u0627\u062a:\n        longest = np.max([len(name) for name, model in transformer])\n        start = time.time()\n        transformer.fit(X)\n        fit_duration = time.time() - start\n        print (f\"{transformer_name:<{longest}} {fit_duration:.3f} sec (fit)\")\n        start = time.time()\n        Xt = transformer.transform(X)\n        transform_duration = time.time() - start\n        print (f\"{transformer_name:<{longest}} {transform_duration:.3f} sec (transform)\")\n        if transformer_name == \"PyNNDescentTransformer\":\n            start = time.time()\n            Xt = transformer.transform(X)\n            transform_duration = time.time() - start\n            print (\n                f\"{transformer_name:<{longest}} {transform_duration:.3f} sec\"\n                \" (transform)\"\n            )"
      ]
    },
    {
      "cell_type": "markdown",
      "metadata": {},
      "source": [
        "\u0625\u062e\u0631\u0627\u062c \u0627\u0644\u0639\u064a\u0646\u0629::\n\n    \u0642\u064a\u0627\u0633 \u0627\u0644\u0623\u062f\u0627\u0621 \u0639\u0644\u0649 MNIST_10000:\n    ----------------------------\n    KNeighborsTransformer  0.007 sec (fit)\n    KNeighborsTransformer  1.139 sec (transform)\n    NMSlibTransformer      0.208 sec (fit)\n    NMSlibTransformer      0.315 sec (transform)\n    PyNNDescentTransformer 4.823 sec (fit)\n    PyNNDescentTransformer 4.884 sec (transform)\n    PyNNDescentTransformer 0.744 sec (transform)\n\n    \u0642\u064a\u0627\u0633 \u0627\u0644\u0623\u062f\u0627\u0621 \u0639\u0644\u0649 MNIST_20000:\n    ----------------------------\n    KNeighborsTransformer  0.011 sec (fit)\n    KNeighborsTransformer  5.769 sec (transform)\n    NMSlibTransformer      0.733 sec (fit)\n    NMSlibTransformer      1.077 sec (transform)\n    PyNNDescentTransformer 14.448 sec (fit)\n    PyNNDescentTransformer 7.103 sec (transform)\n    PyNNDescentTransformer 1.759 sec (transform)\n\n\u0644\u0627\u062d\u0638 \u0623\u0646 `PyNNDescentTransformer` \u064a\u0633\u062a\u063a\u0631\u0642 \u0648\u0642\u062a\u064b\u0627 \u0623\u0637\u0648\u0644 \u062e\u0644\u0627\u0644 \u0623\u0648\u0644\n`fit` \u0648 `transform` \u0627\u0644\u0623\u0648\u0644 \u0628\u0633\u0628\u0628 \u0627\u0644\u0646\u0641\u0642\u0627\u062a \u0627\u0644\u0639\u0627\u0645\u0629 \u0644\u0645\u062a\u0631\u062c\u0645 numba just in time\n\u0644\u0643\u0646 \u0628\u0639\u062f \u0627\u0644\u0645\u0643\u0627\u0644\u0645\u0629 \u0627\u0644\u0623\u0648\u0644\u0649, \u064a\u062a\u0645 \u0627\u0644\u0627\u062d\u062a\u0641\u0627\u0638 \u0628\u0627\u0644\u0631\u0645\u0632 \u0627\u0644\u0645\u062a\u0631\u062c\u0645 \u0628\u0644\u063a\u0629 \u0628\u0627\u064a\u062b\u0648\u0646 \u0641\u064a\n\u0630\u0627\u0643\u0631\u0629 \u0627\u0644\u062a\u062e\u0632\u064a\u0646 \u0627\u0644\u0645\u0624\u0642\u062a \u0628\u0648\u0627\u0633\u0637\u0629 numba \u0648\u0627\u0644\u0645\u0643\u0627\u0644\u0645\u0627\u062a \u0627\u0644\u0644\u0627\u062d\u0642\u0629 \u0644\u0627 \u062a\u0639\u0627\u0646\u064a \u0645\u0646 \u0647\u0630\u0647 \u0627\u0644\u0646\u0641\u0642\u0627\u062a \u0627\u0644\u0639\u0627\u0645\u0629 \u0627\u0644\u0623\u0648\u0644\u064a\u0629.\n\u064a\u062a\u0645 \u062a\u0634\u063a\u064a\u0644 \u0643\u0644 \u0645\u0646 :class:`~sklearn.neighbors.KNeighborsTransformer` \u0648 `NMSlibTransformer`\n\u0645\u0631\u0629 \u0648\u0627\u062d\u062f\u0629 \u0641\u0642\u0637 \u0647\u0646\u0627 \u062d\u064a\u062b \u0633\u064a\u0638\u0647\u0631\u0648\u0646 \u0623\u0648\u0642\u0627\u062a `fit` \u0648 `transform` \u0623\u0643\u062b\u0631 \u0627\u0633\u062a\u0642\u0631\u0627\u0631\u064b\u0627 (\u0644\u0627 \u064a\u0639\u0627\u0646\u0648\u0646 \u0645\u0646 \u0645\u0634\u0643\u0644\u0629 \u0628\u062f\u0621 \u0627\u0644\u062a\u0634\u063a\u064a\u0644 \u0627\u0644\u0628\u0627\u0631\u062f \u0644\u0640 PyNNDescentTransformer).\n\n"
      ]
    },
    {
      "cell_type": "code",
      "execution_count": null,
      "metadata": {
        "collapsed": false
      },
      "outputs": [],
      "source": [
        "import matplotlib.pyplot as plt\nfrom matplotlib.ticker import NullFormatter\n\ntransforms = [\n    (\"TSNE \u0645\u0639 NearestNeighbors \u0627\u0644\u062f\u0627\u062e\u0644\u064a\", TSNE(metric=metric, **tsne_params)),\n    (\n        \"TSNE \u0645\u0639 KNeighborsTransformer\",\n        make_pipeline(\n            KNeighborsTransformer(\n                n_neighbors=n_neighbors, mode=\"distance\", metric=metric\n            ),\n            TSNE(metric=\"precomputed\", **tsne_params),\n        ),\n    ),\n    (\n        \"TSNE \u0645\u0639 NMSlibTransformer\",\n        make_pipeline(\n            NMSlibTransformer(n_neighbors=n_neighbors, metric=metric),\n            TSNE(metric=\"precomputed\", **tsne_params),\n        ),\n    ),\n]\n\n# \u0628\u062f\u0621 \u0627\u0644\u0631\u0633\u0645\nnrows = len(datasets)\nncols = np.sum([1 for name, model in transformers if \"TSNE\" in name])\nfig, axes = plt.subplots(\n    nrows=nrows, ncols=ncols, squeeze=False, figsize=(5 * ncols, 4 * nrows)\n)\naxes = axes.ravel()\ni_ax = 0\n\nfor dataset_name, (X, y) in datasets:\n    msg = f\"Benchmarking on {dataset_name}:\"\n    print(f\"\\n{msg}\\n\" + str(\"-\" * len(msg)))\n\n    for transformer_name, transformer in transformers:\n        longest = np.max([len(name) for name, model in transformers])\n        start = time.time()\n        Xt = transformer.fit_transform(X)\n        transform_duration = time.time() - start\n        print(\n            f\"{transformer_name:<{longest}} {transform_duration:.3f} sec\"\n            \" (fit_transform)\"\n        )\n\n        # plot TSNE embedding which should be very similar across methods\n        axes[i_ax].set_title(transformer_name + \"\\non \" + dataset_name)\n        axes[i_ax].scatter(\n            Xt[:, 0],\n            Xt[:, 1],\n            c=y.astype(np.int32),\n            alpha=0.2,\n            cmap=plt.cm.viridis,\n        )\n        axes[i_ax].xaxis.set_major_formatter(NullFormatter())\n        axes[i_ax].yaxis.set_major_formatter(NullFormatter())\n        axes[i_ax].axis(\"tight\")\n        i_ax += 1\n\nfig.tight_layout()\nplt.show()"
      ]
    },
    {
      "cell_type": "markdown",
      "metadata": {},
      "source": [
        "\u0625\u062e\u0631\u0627\u062c \u0627\u0644\u0639\u064a\u0646\u0629::\n\n    \u0642\u064a\u0627\u0633 \u0627\u0644\u0623\u062f\u0627\u0621 \u0639\u0644\u0649 MNIST_10000:\n    ----------------------------\n    TSNE \u0645\u0639 NearestNeighbors \u0627\u0644\u062f\u0627\u062e\u0644\u064a 24.828 sec (fit_transform)\n    TSNE \u0645\u0639 KNeighborsTransformer     20.111 sec (fit_transform)\n    TSNE \u0645\u0639 NMSlibTransformer         21.757 sec (fit_transform)\n\n    \u0642\u064a\u0627\u0633 \u0627\u0644\u0623\u062f\u0627\u0621 \u0639\u0644\u0649 MNIST_20000:\n    ----------------------------\n    TSNE \u0645\u0639 NearestNeighbors \u0627\u0644\u062f\u0627\u062e\u0644\u064a 51.955 sec (fit_transform)\n    TSNE \u0645\u0639 KNeighborsTransformer     50.994 sec (fit_transform)\n    TSNE \u0645\u0639 NMSlibTransformer         43.536 sec (fit_transform)\n\n\u064a\u0645\u0643\u0646\u0646\u0627 \u0645\u0644\u0627\u062d\u0638\u0629 \u0623\u0646 \u0627\u0644\u0645\u062d\u0648\u0644 \u0627\u0644\u0627\u0641\u062a\u0631\u0627\u0636\u064a :class:`~sklearn.manifold.TSNE` \u0645\u0639\n\u0627\u0644\u062a\u0646\u0641\u064a\u0630 \u0627\u0644\u062f\u0627\u062e\u0644\u064a \u0644\u0640 :class:`~sklearn.neighbors.NearestNeighbors` \u0647\u0648\n\u0645\u0643\u0627\u0641\u0626 \u062a\u0642\u0631\u064a\u0628\u064b\u0627 \u0644\u062e\u0637 \u0627\u0644\u0623\u0646\u0627\u0628\u064a\u0628 \u0645\u0639 :class:`~sklearn.manifold.TSNE` \u0648\n:class:`~sklearn.neighbors.KNeighborsTransformer` \u0645\u0646 \u062d\u064a\u062b \u0627\u0644\u0623\u062f\u0627\u0621.\n\u0647\u0630\u0627 \u0645\u062a\u0648\u0642\u0639 \u0644\u0623\u0646 \u0643\u0644\u0627 \u062e\u0637\u064a \u0627\u0644\u0623\u0646\u0627\u0628\u064a\u0628 \u064a\u0639\u062a\u0645\u062f\u0627\u0646 \u062f\u0627\u062e\u0644\u064a\u064b\u0627 \u0639\u0644\u0649 \u0646\u0641\u0633\n\u0627\u0644\u062a\u0646\u0641\u064a\u0630 :class:`~sklearn.neighbors.NearestNeighbors` \u0627\u0644\u0630\u064a \u064a\u0642\u0648\u0645\n\u0628\u0627\u0644\u0628\u062d\u062b \u0627\u0644\u062f\u0642\u064a\u0642 \u0639\u0646 \u0627\u0644\u062c\u064a\u0631\u0627\u0646. \u0627\u0644\u0628\u062d\u062b \u0627\u0644\u062a\u0642\u0631\u064a\u0628\u064a `NMSlibTransformer` \u0647\u0648 \u0628\u0627\u0644\u0641\u0639\u0644\n\u0623\u0633\u0631\u0639 \u0642\u0644\u064a\u0644\u0627\u064b \u0645\u0646 \u0627\u0644\u0628\u062d\u062b \u0627\u0644\u062f\u0642\u064a\u0642 \u0639\u0644\u0649 \u0623\u0635\u063a\u0631 \u0645\u062c\u0645\u0648\u0639\u0629 \u0628\u064a\u0627\u0646\u0627\u062a \u0648\u0644\u0643\u0646 \u0645\u0646 \u0627\u0644\u0645\u062a\u0648\u0642\u0639 \u0623\u0646 \u064a\u0635\u0628\u062d \u0647\u0630\u0627 \u0627\u0644\u0627\u062e\u062a\u0644\u0627\u0641 \u0641\u064a \u0627\u0644\u0633\u0631\u0639\u0629\n\u0623\u0643\u062b\u0631 \u0623\u0647\u0645\u064a\u0629 \u0641\u064a \u0645\u062c\u0645\u0648\u0639\u0627\u062a \u0627\u0644\u0628\u064a\u0627\u0646\u0627\u062a \u0630\u0627\u062a \u0627\u0644\u0639\u062f\u062f \u0627\u0644\u0623\u0643\u0628\u0631 \u0645\u0646 \u0627\u0644\u0639\u064a\u0646\u0627\u062a.\n\n\u0644\u0627\u062d\u0638 \u0645\u0639 \u0630\u0644\u0643 \u0623\u0646 \u0644\u064a\u0633 \u0643\u0644 \u0637\u0631\u0642 \u0627\u0644\u0628\u062d\u062b \u0627\u0644\u062a\u0642\u0631\u064a\u0628\u064a\u0629 \u0645\u0636\u0645\u0648\u0646\u0629\n\u0644\u062a\u062d\u0633\u064a\u0646 \u0633\u0631\u0639\u0629 \u0637\u0631\u064a\u0642\u0629 \u0627\u0644\u0628\u062d\u062b \u0627\u0644\u062f\u0642\u064a\u0642\u0629 \u0627\u0644\u0627\u0641\u062a\u0631\u0627\u0636\u064a\u0629: \u0641\u064a \u0627\u0644\u0648\u0627\u0642\u0639, \u062a\u062d\u0633\u0646\u062a \u0637\u0631\u064a\u0642\u0629 \u0627\u0644\u0628\u062d\u062b \u0627\u0644\u062f\u0642\u064a\u0642\u0629 \u0628\u0634\u0643\u0644 \u0643\u0628\u064a\u0631\n\u0645\u0646\u0630 scikit-learn 1.1. \u0639\u0644\u0627\u0648\u0629 \u0639\u0644\u0649 \u0630\u0644\u0643, \u0644\u0627 \u062a\u062a\u0637\u0644\u0628 \u0637\u0631\u064a\u0642\u0629 \u0627\u0644\u0628\u062d\u062b \u0627\u0644\u062f\u0642\u064a\u0642\u0629 \"brute-force\" \u0628\u0646\u0627\u0621 \u0641\u0647\u0631\u0633 \u0641\u064a \u0648\u0642\u062a `fit`.\n\u0644\u0630\u0644\u0643, \u0644\u0644\u062d\u0635\u0648\u0644 \u0639\u0644\u0649 \u062a\u062d\u0633\u0646 \u0639\u0627\u0645 \u0641\u064a \u0627\u0644\u0623\u062f\u0627\u0621 \u0641\u064a \u0633\u064a\u0627\u0642 \u062e\u0637 \u0623\u0646\u0627\u0628\u064a\u0628\n:class:`~sklearn.manifold.TSNE`, \u064a\u062c\u0628 \u0623\u0646 \u062a\u0643\u0648\u0646 \u0627\u0644\u0645\u0643\u0627\u0633\u0628 \u0641\u064a \u0627\u0644\u0628\u062d\u062b \u0627\u0644\u062a\u0642\u0631\u064a\u0628\u064a \u0641\u064a `transform`\n\u0623\u0643\u0628\u0631 \u0645\u0646 \u0627\u0644\u0648\u0642\u062a \u0627\u0644\u0625\u0636\u0627\u0641\u064a \u0627\u0644\u0630\u064a \u064a\u062a\u0645 \u0625\u0646\u0641\u0627\u0642\u0647 \u0644\u0628\u0646\u0627\u0621 \u0641\u0647\u0631\u0633 \u0627\u0644\u0628\u062d\u062b \u0627\u0644\u062a\u0642\u0631\u064a\u0628\u064a \u0641\u064a \u0648\u0642\u062a `fit`.\n\n\u0623\u062e\u064a\u0631\u064b\u0627, \u062e\u0648\u0627\u0631\u0632\u0645\u064a\u0629 TSNE \u0646\u0641\u0633\u0647\u0627 \u0643\u062b\u064a\u0641\u0629 \u0627\u0644\u062d\u0633\u0627\u0628\u0627\u062a,\n\u0628\u063a\u0636 \u0627\u0644\u0646\u0638\u0631 \u0639\u0646 \u0627\u0644\u0628\u062d\u062b \u0639\u0646 \u0623\u0642\u0631\u0628 \u0627\u0644\u062c\u064a\u0631\u0627\u0646. \u0644\u0630\u0644\u0643, \u0644\u0646 \u064a\u0624\u062f\u064a \u062a\u0633\u0631\u064a\u0639 \u062e\u0637\u0648\u0629 \u0627\u0644\u0628\u062d\u062b \u0639\u0646 \u0623\u0642\u0631\u0628 \u0627\u0644\u062c\u064a\u0631\u0627\u0646\n\u0625\u0644\u0649 \u062a\u0633\u0631\u064a\u0639 \u062e\u0637 \u0627\u0644\u0623\u0646\u0627\u0628\u064a\u0628 \u0628\u0645\u0642\u062f\u0627\u0631 5 \u0645\u0631\u0627\u062a.\n"
      ]
    }
  ],
  "metadata": {
    "kernelspec": {
      "display_name": "Python 3",
      "language": "python",
      "name": "python3"
    },
    "language_info": {
      "codemirror_mode": {
        "name": "ipython",
        "version": 3
      },
      "file_extension": ".py",
      "mimetype": "text/x-python",
      "name": "python",
      "nbconvert_exporter": "python",
      "pygments_lexer": "ipython3",
      "version": "3.10.13"
    }
  },
  "nbformat": 4,
  "nbformat_minor": 0
}