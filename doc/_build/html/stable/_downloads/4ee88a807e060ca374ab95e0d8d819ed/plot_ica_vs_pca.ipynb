{
  "cells": [
    {
      "cell_type": "markdown",
      "metadata": {},
      "source": [
        "\n# FastICA \u0639\u0644\u0649 \u0633\u062d\u0628 \u0627\u0644\u0646\u0642\u0627\u0637 \u062b\u0646\u0627\u0626\u064a\u0629 \u0627\u0644\u0623\u0628\u0639\u0627\u062f\n\n\u064a\u0648\u0636\u062d \u0647\u0630\u0627 \u0627\u0644\u0645\u062b\u0627\u0644 \u0628\u0635\u0631\u064a\u064b\u0627 \u0641\u064a \u0641\u0636\u0627\u0621 \u0627\u0644\u0645\u064a\u0632\u0627\u062a \u0645\u0642\u0627\u0631\u0646\u0629 \u0628\u0627\u0644\u0646\u062a\u0627\u0626\u062c \u0628\u0627\u0633\u062a\u062e\u062f\u0627\u0645 \u062a\u0642\u0646\u064a\u062a\u064a\u0646 \u0645\u062e\u062a\u0644\u0641\u062a\u064a\u0646 \u0644\u062a\u062d\u0644\u064a\u0644 \u0627\u0644\u0645\u0643\u0648\u0646\u0627\u062a.\n\n`ICA` \u0645\u0642\u0627\u0628\u0644 `PCA`.\n\n\u062a\u0645\u062b\u064a\u0644 ICA \u0641\u064a \u0641\u0636\u0627\u0621 \u0627\u0644\u0645\u064a\u0632\u0627\u062a \u064a\u0639\u0637\u064a \u0646\u0638\u0631\u0629 \u0639\u0644\u0649 'ICA \u0627\u0644\u0647\u0646\u062f\u0633\u064a':\nICA \u0647\u0648 \u062e\u0648\u0627\u0631\u0632\u0645\u064a\u0629 \u062a\u062c\u062f \u0627\u062a\u062c\u0627\u0647\u0627\u062a \u0641\u064a \u0641\u0636\u0627\u0621 \u0627\u0644\u0645\u064a\u0632\u0627\u062a\n\u0627\u0644\u0645\u0631\u062a\u0628\u0637\u0629 \u0628\u0627\u0644\u0627\u0646\u062d\u0631\u0627\u0641\u0627\u062a \u0630\u0627\u062a \u0627\u0644\u0644\u0627\u063a\u0627\u0648\u0633\u064a\u0629 \u0627\u0644\u0639\u0627\u0644\u064a\u0629. \u0647\u0630\u0647 \u0627\u0644\u0627\u062a\u062c\u0627\u0647\u0627\u062a\n\u0644\u0627 \u062a\u062d\u062a\u0627\u062c \u0625\u0644\u0649 \u0623\u0646 \u062a\u0643\u0648\u0646 \u0645\u062a\u0639\u0627\u0645\u062f\u0629 \u0641\u064a \u0641\u0636\u0627\u0621 \u0627\u0644\u0645\u064a\u0632\u0627\u062a \u0627\u0644\u0623\u0635\u0644\u064a\u060c \u0648\u0644\u0643\u0646\u0647\u0627 \u0645\u062a\u0639\u0627\u0645\u062f\u0629\n\u0641\u064a \u0641\u0636\u0627\u0621 \u0627\u0644\u0645\u064a\u0632\u0627\u062a \u0627\u0644\u0645\u0628\u064a\u0636\u060c \u062d\u064a\u062b \u062a\u0631\u062a\u0628\u0637 \u062c\u0645\u064a\u0639 \u0627\u0644\u0627\u062a\u062c\u0627\u0647\u0627\u062a\n\u0628\u0646\u0641\u0633 \u0627\u0644\u062a\u0628\u0627\u064a\u0646.\n\nPCA\u060c \u0645\u0646 \u0646\u0627\u062d\u064a\u0629 \u0623\u062e\u0631\u0649\u060c \u064a\u062c\u062f \u0627\u062a\u062c\u0627\u0647\u0627\u062a \u0645\u062a\u0639\u0627\u0645\u062f\u0629 \u0641\u064a \u0641\u0636\u0627\u0621 \u0627\u0644\u0645\u064a\u0632\u0627\u062a \u0627\u0644\u062e\u0627\u0645\n\u0627\u0644\u062a\u064a \u062a\u0631\u062a\u0628\u0637 \u0628\u0627\u062a\u062c\u0627\u0647\u0627\u062a \u062a\u062d\u0633\u0628 \u0627\u0644\u062a\u0628\u0627\u064a\u0646 \u0627\u0644\u0623\u0642\u0635\u0649.\n\n\u0647\u0646\u0627\u060c \u0646\u0642\u0648\u0645 \u0628\u0645\u062d\u0627\u0643\u0627\u0629 \u0645\u0635\u0627\u062f\u0631 \u0645\u0633\u062a\u0642\u0644\u0629 \u0628\u0627\u0633\u062a\u062e\u062f\u0627\u0645 \u0639\u0645\u0644\u064a\u0629 \u063a\u064a\u0631 \u063a\u0627\u0648\u0633\u064a\u0629 \u0644\u0644\u063a\u0627\u064a\u0629\u060c 2 \u0637\u0627\u0644\u0628 T \u0645\u0639 \u0639\u062f\u062f \u0645\u0646\u062e\u0641\u0636 \u0645\u0646 \u062f\u0631\u062c\u0627\u062a \u0627\u0644\u062d\u0631\u064a\u0629 (\u0627\u0644\u0634\u0643\u0644 \u0627\u0644\u0639\u0644\u0648\u064a \u0627\u0644\u0623\u064a\u0633\u0631). \u0646\u0642\u0648\u0645 \u0628\u0645\u0632\u062c\u0647\u0627 \u0644\u0625\u0646\u0634\u0627\u0621 \u0627\u0644\u0645\u0644\u0627\u062d\u0638\u0627\u062a (\u0627\u0644\u0634\u0643\u0644 \u0627\u0644\u0639\u0644\u0648\u064a \u0627\u0644\u0623\u064a\u0645\u0646).\n\u0641\u064a \u0647\u0630\u0627 \u0627\u0644\u0641\u0636\u0627\u0621 \u0627\u0644\u062e\u0627\u0645 \u0644\u0644\u0645\u0644\u0627\u062d\u0638\u0627\u062a\u060c \u064a\u062a\u0645 \u062a\u0645\u062b\u064a\u0644 \u0627\u0644\u0627\u062a\u062c\u0627\u0647\u0627\u062a \u0627\u0644\u062a\u064a \u062d\u062f\u062f\u062a\u0647\u0627 PCA\n\u0628\u0648\u0627\u0633\u0637\u0629 \u0627\u0644\u0645\u062a\u062c\u0647\u0627\u062a \u0627\u0644\u0628\u0631\u062a\u0642\u0627\u0644\u064a\u0629. \u0646\u0645\u062b\u0644 \u0627\u0644\u0625\u0634\u0627\u0631\u0629 \u0641\u064a \u0641\u0636\u0627\u0621 PCA\u060c\n\u0628\u0639\u062f \u0627\u0644\u062a\u0628\u064a\u064a\u0636 \u0628\u0648\u0627\u0633\u0637\u0629 \u0627\u0644\u062a\u0628\u0627\u064a\u0646 \u0627\u0644\u0645\u0642\u0627\u0628\u0644 \u0644\u0644\u0645\u062a\u062c\u0647\u0627\u062a PCA (\u0627\u0644\u0623\u0633\u0641\u0644\n\u0627\u0644\u064a\u0633\u0627\u0631). \u062a\u0634\u063a\u064a\u0644 ICA \u064a\u0642\u0627\u0628\u0644 \u0625\u064a\u062c\u0627\u062f \u062f\u0648\u0631\u0627\u0646 \u0641\u064a \u0647\u0630\u0627 \u0627\u0644\u0641\u0636\u0627\u0621 \u0644\u062a\u062d\u062f\u064a\u062f\n\u0627\u062a\u062c\u0627\u0647\u0627\u062a \u0627\u0644\u0644\u0627\u063a\u0627\u0648\u0633\u064a\u0629 \u0627\u0644\u0642\u0635\u0648\u0649 (\u0627\u0644\u0623\u0633\u0641\u0644 \u0627\u0644\u0623\u064a\u0645\u0646).\n"
      ]
    },
    {
      "cell_type": "code",
      "execution_count": null,
      "metadata": {
        "collapsed": false
      },
      "outputs": [],
      "source": [
        "# \u0627\u0644\u0645\u0624\u0644\u0641\u0648\u0646: \u0645\u0637\u0648\u0631\u064a \u0633\u0643\u0627\u064a\u062a-\u0644\u064a\u0631\u0646\n# \u0645\u0639\u0631\u0641 SPDX-License: BSD-3-Clause"
      ]
    },
    {
      "cell_type": "markdown",
      "metadata": {},
      "source": [
        "## \u062a\u0648\u0644\u064a\u062f \u0628\u064a\u0627\u0646\u0627\u062a \u0627\u0644\u0639\u064a\u0646\u0629\n\n"
      ]
    },
    {
      "cell_type": "code",
      "execution_count": null,
      "metadata": {
        "collapsed": false
      },
      "outputs": [],
      "source": [
        "import matplotlib.pyplot as plt\nimport numpy as np\n\nfrom sklearn.decomposition import PCA, FastICA\n\nrng = np.random.RandomState(42)\nS = rng.standard_t(1.5, size=(20000, 2))\nS[:, 0] *= 2.0\n\n# \u0645\u0632\u062c \u0627\u0644\u0628\u064a\u0627\u0646\u0627\u062a\nA = np.array([[1, 1], [0, 2]])  # \u0645\u0635\u0641\u0648\u0641\u0629 \u0627\u0644\u0645\u0632\u062c\n\nX = np.dot(S, A.T)  # \u062a\u0648\u0644\u064a\u062f \u0627\u0644\u0645\u0644\u0627\u062d\u0638\u0627\u062a\n\npca = PCA()\nS_pca_ = pca.fit(X).transform(X)\n\nica = FastICA(random_state=rng, whiten=\"arbitrary-variance\")\nS_ica_ = ica.fit(X).transform(X)  # \u062a\u0642\u062f\u064a\u0631 \u0627\u0644\u0645\u0635\u0627\u062f\u0631"
      ]
    },
    {
      "cell_type": "markdown",
      "metadata": {},
      "source": [
        "## \u0631\u0633\u0645 \u0627\u0644\u0646\u062a\u0627\u0626\u062c\n\n"
      ]
    },
    {
      "cell_type": "code",
      "execution_count": null,
      "metadata": {
        "collapsed": false
      },
      "outputs": [],
      "source": [
        "def plot_samples(S, axis_list=None):\n    plt.scatter(\n        S[:, 0], S[:, 1], s=2, marker=\"o\", zorder=10, color=\"steelblue\", alpha=0.5\n    )\n    if axis_list is not None:\n        for axis, color, label in axis_list:\n            x_axis, y_axis = axis / axis.std()\n            plt.quiver(\n                (0, 0),\n                (0, 0),\n                x_axis,\n                y_axis,\n                zorder=11,\n                width=0.01,\n                scale=6,\n                color=color,\n                label=label,\n            )\n\n    plt.hlines(0, -5, 5, color=\"black\", linewidth=0.5)\n    plt.vlines(0, -3, 3, color=\"black\", linewidth=0.5)\n    plt.xlim(-5, 5)\n    plt.ylim(-3, 3)\n    plt.gca().set_aspect(\"equal\")\n    plt.xlabel(\"x\")\n    plt.ylabel(\"y\")\n\n\nplt.figure()\nplt.subplot(2, 2, 1)\nplot_samples(S / S.std())\nplt.title(\"True Independent Sources\")\n\naxis_list = [(pca.components_.T, \"orange\", \"PCA\"), (ica.mixing_, \"red\", \"ICA\")]\nplt.subplot(2, 2, 2)\nplot_samples(X / np.std(X), axis_list=axis_list)\nlegend = plt.legend(loc=\"upper left\")\nlegend.set_zorder(100)\n\nplt.title(\"Observations\")\n\nplt.subplot(2, 2, 3)\nplot_samples(S_pca_ / np.std(S_pca_))\nplt.title(\"PCA recovered signals\")\n\nplt.subplot(2, 2, 4)\nplot_samples(S_ica_ / np.std(S_ica_))\nplt.title(\"ICA recovered signals\")\n\nplt.subplots_adjust(0.09, 0.04, 0.94, 0.94, 0.26, 0.36)\nplt.tight_layout()\nplt.show()"
      ]
    }
  ],
  "metadata": {
    "kernelspec": {
      "display_name": "Python 3",
      "language": "python",
      "name": "python3"
    },
    "language_info": {
      "codemirror_mode": {
        "name": "ipython",
        "version": 3
      },
      "file_extension": ".py",
      "mimetype": "text/x-python",
      "name": "python",
      "nbconvert_exporter": "python",
      "pygments_lexer": "ipython3",
      "version": "3.10.13"
    }
  },
  "nbformat": 4,
  "nbformat_minor": 0
}