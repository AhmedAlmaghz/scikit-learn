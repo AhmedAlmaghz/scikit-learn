{
  "cells": [
    {
      "cell_type": "markdown",
      "metadata": {},
      "source": [
        "\n# \u0623\u0628\u0631\u0632 \u0645\u064a\u0632\u0627\u062a \u0627\u0644\u0625\u0635\u062f\u0627\u0631 1.2 \u0645\u0646 scikit-learn\n\n.. currentmodule:: sklearn\n\n\u064a\u0633\u0639\u062f\u0646\u0627 \u0627\u0644\u0625\u0639\u0644\u0627\u0646 \u0639\u0646 \u0625\u0635\u062f\u0627\u0631 scikit-learn 1.2! \u062a\u0645 \u0625\u062c\u0631\u0627\u0621 \u0627\u0644\u0639\u062f\u064a\u062f \u0645\u0646 \u0627\u0644\u0625\u0635\u0644\u0627\u062d\u0627\u062a \u0648\u0627\u0644\u062a\u062d\u0633\u064a\u0646\u0627\u062a\u060c \u0628\u0627\u0644\u0625\u0636\u0627\u0641\u0629 \u0625\u0644\u0649 \u0628\u0639\u0636 \u0627\u0644\u0645\u064a\u0632\u0627\u062a \u0627\u0644\u0631\u0626\u064a\u0633\u064a\u0629 \u0627\u0644\u062c\u062f\u064a\u062f\u0629. \u0646\u0633\u062a\u0639\u0631\u0636 \u0623\u062f\u0646\u0627\u0647 \u0628\u0639\u0636 \u0627\u0644\u0645\u064a\u0632\u0627\u062a \u0627\u0644\u0631\u0626\u064a\u0633\u064a\u0629 \u0644\u0647\u0630\u0627 \u0627\u0644\u0625\u0635\u062f\u0627\u0631. **\u0644\u0644\u0627\u0637\u0644\u0627\u0639 \u0639\u0644\u0649 \u0642\u0627\u0626\u0645\u0629 \u0634\u0627\u0645\u0644\u0629 \u0628\u062c\u0645\u064a\u0639 \u0627\u0644\u062a\u063a\u064a\u064a\u0631\u0627\u062a**\u060c \u064a\u0631\u062c\u0649 \u0627\u0644\u0631\u062c\u0648\u0639 \u0625\u0644\u0649 `\u0645\u0644\u0627\u062d\u0638\u0627\u062a \u0627\u0644\u0625\u0635\u062f\u0627\u0631 <release_notes_1_2>`.\n\n\u0644\u062a\u062b\u0628\u064a\u062a \u0623\u062d\u062f\u062b \u0625\u0635\u062f\u0627\u0631 (\u0628\u0627\u0633\u062a\u062e\u062f\u0627\u0645 pip)::\n\n    pip install --upgrade scikit-learn\n\n\u0623\u0648 \u0628\u0627\u0633\u062a\u062e\u062f\u0627\u0645 conda::\n\n    conda install -c conda-forge scikit-learn\n"
      ]
    },
    {
      "cell_type": "markdown",
      "metadata": {},
      "source": [
        "## \u0625\u062e\u0631\u0627\u062c Pandas \u0645\u0639 \u0648\u0627\u062c\u0647\u0629 \u0628\u0631\u0645\u062c\u0629 \u0627\u0644\u062a\u0637\u0628\u064a\u0642\u0627\u062a set_output\n\u062a\u062f\u0639\u0645 \u0645\u062d\u0648\u0644\u0627\u062a scikit-learn \u0627\u0644\u0622\u0646 \u0625\u062e\u0631\u0627\u062c Pandas \u0645\u0639 \u0648\u0627\u062c\u0647\u0629 \u0628\u0631\u0645\u062c\u0629 \u0627\u0644\u062a\u0637\u0628\u064a\u0642\u0627\u062a set_output.\n\u0644\u0645\u0632\u064a\u062f \u0645\u0646 \u0627\u0644\u0645\u0639\u0644\u0648\u0645\u0627\u062a \u062d\u0648\u0644 \u0648\u0627\u062c\u0647\u0629 \u0628\u0631\u0645\u062c\u0629 \u0627\u0644\u062a\u0637\u0628\u064a\u0642\u0627\u062a set_output\u060c \u0631\u0627\u062c\u0639 \u0627\u0644\u0645\u062b\u0627\u0644:\n`sphx_glr_auto_examples_miscellaneous_plot_set_output.py[ \u0648\n# \u0647\u0630\u0627 \u0627\u0644\u0641\u064a\u062f\u064a\u0648\u060c \u0625\u062e\u0631\u0627\u062c DataFrame \u0644\u0640 Pandas \u0644\u0645\u062d\u0648\u0644\u0627\u062a scikit-learn\n(\u0628\u0639\u0636 \u0627\u0644\u0623\u0645\u062b\u0644\u0629)](https://youtu.be/5bCg8VfX2x8)_.\n\n"
      ]
    },
    {
      "cell_type": "code",
      "execution_count": null,
      "metadata": {
        "collapsed": false
      },
      "outputs": [],
      "source": [
        "import numpy as np\nfrom sklearn.datasets import load_iris\nfrom sklearn.preprocessing import StandardScaler, KBinsDiscretizer\nfrom sklearn.compose import ColumnTransformer\n\nX, y = load_iris(as_frame=True, return_X_y=True)\nsepal_cols = [\"sepal length (cm)\", \"sepal width (cm)\"]\npetal_cols = [\"petal length (cm)\", \"petal width (cm)\"]\n\npreprocessor = ColumnTransformer(\n    [\n        (\"scaler\", StandardScaler(), sepal_cols),\n        (\"kbin\", KBinsDiscretizer(encode=\"ordinal\"), petal_cols),\n    ],\n    verbose_feature_names_out=False,\n).set_output(transform=\"pandas\")\n\nX_out = preprocessor.fit_transform(X)\nX_out.sample(n=5, random_state=0)"
      ]
    },
    {
      "cell_type": "markdown",
      "metadata": {},
      "source": [
        "## \u0642\u064a\u0648\u062f \u0627\u0644\u062a\u0641\u0627\u0639\u0644 \u0641\u064a \u0623\u0634\u062c\u0627\u0631 \u0627\u0644\u062a\u062f\u0631\u062c \u0627\u0644\u062a\u062f\u0631\u064a\u062c\u064a \u0627\u0644\u0642\u0627\u0626\u0645\u0629 \u0639\u0644\u0649 \u0627\u0644\u062a\u0648\u0632\u064a\u0639 \u0627\u0644\u062a\u0643\u0631\u0627\u0631\u064a\n:class:`~ensemble.HistGradientBoostingRegressor` \u0648\n:class:`~ensemble.HistGradientBoostingClassifier` \u064a\u062f\u0639\u0645\u0627\u0646 \u0627\u0644\u0622\u0646 \u0642\u064a\u0648\u062f \u0627\u0644\u062a\u0641\u0627\u0639\u0644\n\u0645\u0639 \u0645\u0639\u0644\u0645\u0629 `interaction_cst`. \u0644\u0645\u0632\u064a\u062f \u0645\u0646 \u0627\u0644\u062a\u0641\u0627\u0635\u064a\u0644\u060c \u0631\u0627\u062c\u0639\n`\u062f\u0644\u064a\u0644 \u0627\u0644\u0645\u0633\u062a\u062e\u062f\u0645 <interaction_cst_hgbt>`. \u0641\u064a \u0627\u0644\u0645\u062b\u0627\u0644 \u0627\u0644\u062a\u0627\u0644\u064a\u060c \u0644\u0627 \u064a\u064f\u0633\u0645\u062d \u0644\u0644\u0645\u064a\u0632\u0627\u062a \u0628\u0627\u0644\u062a\u0641\u0627\u0639\u0644.\n\n"
      ]
    },
    {
      "cell_type": "code",
      "execution_count": null,
      "metadata": {
        "collapsed": false
      },
      "outputs": [],
      "source": [
        "from sklearn.datasets import load_diabetes\nfrom sklearn.ensemble import HistGradientBoostingRegressor\n\nX, y = load_diabetes(return_X_y=True, as_frame=True)\n\nhist_no_interact = HistGradientBoostingRegressor(\n    interaction_cst=[[i] for i in range(X.shape[1])], random_state=0\n)\nhist_no_interact.fit(X, y)"
      ]
    },
    {
      "cell_type": "markdown",
      "metadata": {},
      "source": [
        "## \u0634\u0627\u0634\u0627\u062a \u0627\u0644\u0639\u0631\u0636 \u0627\u0644\u062c\u062f\u064a\u062f\u0629 \u0648\u0627\u0644\u0645\u062d\u0633\u0646\u0629\n:class:`~metrics.PredictionErrorDisplay` \u062a\u0648\u0641\u0631 \u0637\u0631\u064a\u0642\u0629 \u0644\u062a\u062d\u0644\u064a\u0644 \u0646\u0645\u0627\u0630\u062c \u0627\u0644\u0627\u0646\u062d\u062f\u0627\u0631\n\u0628\u0637\u0631\u064a\u0642\u0629 \u0646\u0648\u0639\u064a\u0629.\n\n"
      ]
    },
    {
      "cell_type": "code",
      "execution_count": null,
      "metadata": {
        "collapsed": false
      },
      "outputs": [],
      "source": [
        "import matplotlib.pyplot as plt\nfrom sklearn.metrics import PredictionErrorDisplay\n\nfig, axs = plt.subplots(nrows=1, ncols=2, figsize=(12, 5))\n_ = PredictionErrorDisplay.from_estimator(\n    hist_no_interact, X, y, kind=\"actual_vs_predicted\", ax=axs[0]\n)\n_ = PredictionErrorDisplay.from_estimator(\n    hist_no_interact, X, y, kind=\"residual_vs_predicted\", ax=axs[1]\n)"
      ]
    },
    {
      "cell_type": "markdown",
      "metadata": {},
      "source": [
        ":class:`~model_selection.LearningCurveDisplay` \u0645\u062a\u0627\u062d \u0627\u0644\u0622\u0646 \u0644\u0639\u0631\u0636\n\u0627\u0644\u0646\u062a\u0627\u0626\u062c \u0645\u0646 :func:`~model_selection.learning_curve`.\n\n"
      ]
    },
    {
      "cell_type": "code",
      "execution_count": null,
      "metadata": {
        "collapsed": false
      },
      "outputs": [],
      "source": [
        "from sklearn.model_selection import LearningCurveDisplay\n\n_ = LearningCurveDisplay.from_estimator(\n    hist_no_interact, X, y, cv=5, n_jobs=2, train_sizes=np.linspace(0.1, 1, 5)\n)"
      ]
    },
    {
      "cell_type": "markdown",
      "metadata": {},
      "source": [
        ":class:`~inspection.PartialDependenceDisplay` \u062a\u0639\u0631\u0636 \u0645\u0639\u0644\u0645\u0629 \u062c\u062f\u064a\u062f\u0629\n`categorical_features` \u0644\u0639\u0631\u0636 \u0627\u0644\u0627\u0639\u062a\u0645\u0627\u062f \u0627\u0644\u062c\u0632\u0626\u064a \u0644\u0644\u0645\u064a\u0632\u0627\u062a \u0627\u0644\u062a\u0635\u0646\u064a\u0641\u064a\u0629\n\u0628\u0627\u0633\u062a\u062e\u062f\u0627\u0645 \u0645\u062e\u0637\u0637\u0627\u062a \u0627\u0644\u0623\u0639\u0645\u062f\u0629 \u0648\u0627\u0644\u062e\u0631\u0627\u0626\u0637 \u0627\u0644\u062d\u0631\u0627\u0631\u064a\u0629.\n\n"
      ]
    },
    {
      "cell_type": "code",
      "execution_count": null,
      "metadata": {
        "collapsed": false
      },
      "outputs": [],
      "source": [
        "from sklearn.datasets import fetch_openml\n\nX, y = fetch_openml(\n    \"titanic\", version=1, as_frame=True, return_X_y=True, parser=\"pandas\"\n)\nX = X.select_dtypes([\"number\", \"category\"]).drop(columns=[\"body\"])"
      ]
    },
    {
      "cell_type": "code",
      "execution_count": null,
      "metadata": {
        "collapsed": false
      },
      "outputs": [],
      "source": [
        "from sklearn.preprocessing import OrdinalEncoder\nfrom sklearn.pipeline import make_pipeline\n\ncategorical_features = [\"pclass\", \"sex\", \"embarked\"]\nmodel = make_pipeline(\n    ColumnTransformer(\n        transformers=[(\"cat\", OrdinalEncoder(), categorical_features)],\n        remainder=\"passthrough\",\n    ),\n    HistGradientBoostingRegressor(random_state=0),\n).fit(X, y)"
      ]
    },
    {
      "cell_type": "code",
      "execution_count": null,
      "metadata": {
        "collapsed": false
      },
      "outputs": [],
      "source": [
        "from sklearn.inspection import PartialDependenceDisplay\n\nfig, ax = plt.subplots(figsize=(14, 4), constrained_layout=True)\n_ = PartialDependenceDisplay.from_estimator(\n    model,\n    X,\n    features=[\"age\", \"sex\", (\"pclass\", \"sex\")],\n    categorical_features=categorical_features,\n    ax=ax,\n)"
      ]
    },
    {
      "cell_type": "markdown",
      "metadata": {},
      "source": [
        "## \u0645\u0639\u0627\u0644\u062c \u0623\u0633\u0631\u0639 \u0641\u064a :func:`~datasets.fetch_openml`\n:func:`~datasets.fetch_openml` \u064a\u062f\u0639\u0645 \u0627\u0644\u0622\u0646 \u0645\u0639\u0627\u0644\u062c \u062c\u062f\u064a\u062f \"pandas\" \u0648\u0647\u0648 \u0623\u0643\u062b\u0631\n\u0643\u0641\u0627\u0621\u0629 \u0641\u064a \u0627\u0644\u0630\u0627\u0643\u0631\u0629 \u0648\u0627\u0644\u0645\u0639\u0627\u0644\u062c\u0629. \u0641\u064a \u0627\u0644\u0625\u0635\u062f\u0627\u0631 1.4\u060c \u0633\u064a\u062a\u0645 \u062a\u063a\u064a\u064a\u0631 \u0627\u0644\u0645\u0639\u0627\u0644\u062c \u0627\u0644\u0627\u0641\u062a\u0631\u0627\u0636\u064a \u0625\u0644\u0649\n`parser=\"auto\"` \u0648\u0627\u0644\u0630\u064a \u0633\u064a\u0633\u062a\u062e\u062f\u0645 \u062a\u0644\u0642\u0627\u0626\u064a\u064b\u0627 \u0645\u0639\u0627\u0644\u062c \"pandas\" \u0644\u0644\u0628\u064a\u0627\u0646\u0627\u062a \u0627\u0644\u0643\u062b\u064a\u0641\u0629\n\u0648\"liac-arff\" \u0644\u0644\u0628\u064a\u0627\u0646\u0627\u062a \u0627\u0644\u0645\u062a\u0646\u0627\u062b\u0631\u0629.\n\n"
      ]
    },
    {
      "cell_type": "code",
      "execution_count": null,
      "metadata": {
        "collapsed": false
      },
      "outputs": [],
      "source": [
        "X, y = fetch_openml(\n    \"titanic\", version=1, as_frame=True, return_X_y=True, parser=\"pandas\"\n)\nX.head()"
      ]
    },
    {
      "cell_type": "markdown",
      "metadata": {},
      "source": [
        "## \u062f\u0639\u0645 \u062a\u062c\u0631\u064a\u0628\u064a \u0644\u0648\u0627\u062c\u0647\u0629 \u0628\u0631\u0645\u062c\u0629 \u0627\u0644\u062a\u0637\u0628\u064a\u0642\u0627\u062a Array \u0641\u064a :class:`~discriminant_analysis.LinearDiscriminantAnalysis`\n\u062a\u0645\u062a \u0625\u0636\u0627\u0641\u0629 \u062f\u0639\u0645 \u062a\u062c\u0631\u064a\u0628\u064a \u0644\u0645\u0648\u0627\u0635\u0641\u0627\u062a [Array API](https://data-apis.org/array-api/latest/)\n\u0625\u0644\u0649 :class:`~discriminant_analysis.LinearDiscriminantAnalysis`.\n\u064a\u0645\u0643\u0646 \u0644\u0644\u0645\u0642\u062f\u0631 \u0627\u0644\u0622\u0646 \u0627\u0644\u0639\u0645\u0644 \u0639\u0644\u0649 \u0623\u064a \u0645\u0643\u062a\u0628\u0627\u062a \u0645\u062a\u0648\u0627\u0641\u0642\u0629 \u0645\u0639 \u0648\u0627\u062c\u0647\u0629 \u0628\u0631\u0645\u062c\u0629 \u0627\u0644\u062a\u0637\u0628\u064a\u0642\u0627\u062a Array \u0645\u062b\u0644\n[CuPy](https://docs.cupy.dev/en/stable/overview.html)_\u060c \u0648\u0647\u064a \u0645\u0643\u062a\u0628\u0629 \u0635\u0641\u0627\u0626\u0641 \u0645\u0639\u062c\u0644\u0629 \u0628\u0648\u0627\u0633\u0637\u0629 GPU. \u0644\u0645\u0632\u064a\u062f \u0645\u0646 \u0627\u0644\u062a\u0641\u0627\u0635\u064a\u0644\u060c \u0631\u0627\u062c\u0639 `\u062f\u0644\u064a\u0644 \u0627\u0644\u0645\u0633\u062a\u062e\u062f\u0645 <array_api>`.\n\n"
      ]
    },
    {
      "cell_type": "markdown",
      "metadata": {},
      "source": [
        "## \u062a\u062d\u0633\u064a\u0646 \u0643\u0641\u0627\u0621\u0629 \u0627\u0644\u0639\u062f\u064a\u062f \u0645\u0646 \u0627\u0644\u0645\u0642\u062f\u0631\u0627\u062a\n\u0641\u064a \u0627\u0644\u0625\u0635\u062f\u0627\u0631 1.1\u060c \u062a\u0645 \u062a\u062d\u0633\u064a\u0646 \u0643\u0641\u0627\u0621\u0629 \u0627\u0644\u0639\u062f\u064a\u062f \u0645\u0646 \u0627\u0644\u0645\u0642\u062f\u0631\u0627\u062a \u0627\u0644\u062a\u064a \u062a\u0639\u062a\u0645\u062f \u0639\u0644\u0649 \u062d\u0633\u0627\u0628\n\u0627\u0644\u0645\u0633\u0627\u0641\u0627\u062a \u0627\u0644\u0632\u0648\u062c\u064a\u0629 (\u0628\u0634\u0643\u0644 \u0623\u0633\u0627\u0633\u064a \u0627\u0644\u0645\u0642\u062f\u0631\u0627\u062a \u0627\u0644\u0645\u062a\u0639\u0644\u0642\u0629 \u0628\u0627\u0644\u062a\u062c\u0645\u0639\u060c \u0648\u062a\u0639\u0644\u0645 \u0627\u0644\u0645\u0627\u0646\u064a\u0641\u0648\u0644\u062f\u060c\n\u0648\u062e\u0648\u0627\u0631\u0632\u0645\u064a\u0627\u062a \u0627\u0644\u0628\u062d\u062b \u0639\u0646 \u0627\u0644\u062c\u064a\u0631\u0627\u0646) \u0628\u0634\u0643\u0644 \u0643\u0628\u064a\u0631 \u0644\u0644\u0645\u062f\u062e\u0644\u0627\u062a float64 \u0627\u0644\u0643\u062b\u064a\u0641\u0629.\n\u0634\u0645\u0644\u062a \u062a\u062d\u0633\u064a\u0646\u0627\u062a \u0627\u0644\u0643\u0641\u0627\u0621\u0629 \u0628\u0634\u0643\u0644 \u062e\u0627\u0635 \u062a\u0642\u0644\u064a\u0644 \u0627\u0633\u062a\u0647\u0644\u0627\u0643 \u0627\u0644\u0630\u0627\u0643\u0631\u0629 \u0648\u062a\u062d\u0633\u064a\u0646 \u0642\u0627\u0628\u0644\u064a\u0629 \u0627\u0644\u062a\u0648\u0633\u0639\n\u0639\u0644\u0649 \u0623\u062c\u0647\u0632\u0629 \u0645\u062a\u0639\u062f\u062f\u0629 \u0627\u0644\u0646\u0648\u0627\u0629.\n\u0641\u064a \u0627\u0644\u0625\u0635\u062f\u0627\u0631 1.2\u060c \u062a\u0645 \u062a\u062d\u0633\u064a\u0646 \u0643\u0641\u0627\u0621\u0629 \u0647\u0630\u0647 \u0627\u0644\u0645\u0642\u062f\u0631\u0627\u062a \u0628\u0634\u0643\u0644 \u0623\u0643\u0628\u0631 \u0644\u062c\u0645\u064a\u0639\n\u0645\u062c\u0645\u0648\u0639\u0627\u062a \u0627\u0644\u0645\u062f\u062e\u0644\u0627\u062a \u0627\u0644\u0643\u062b\u064a\u0641\u0629 \u0648\u0627\u0644\u0645\u0628\u0639\u062b\u0631\u0629 \u0639\u0644\u0649 \u0645\u062c\u0645\u0648\u0639\u0627\u062a \u0627\u0644\u0628\u064a\u0627\u0646\u0627\u062a float32 \u0648float64\u060c\n\u0628\u0627\u0633\u062a\u062b\u0646\u0627\u0621 \u0645\u062c\u0645\u0648\u0639\u0627\u062a \u0627\u0644\u0628\u064a\u0627\u0646\u0627\u062a \u0627\u0644\u0645\u0628\u0639\u062b\u0631\u0629-\u0627\u0644\u0643\u062b\u064a\u0641\u0629 \u0648\u0627\u0644\u0643\u062b\u064a\u0641\u0629-\u0627\u0644\u0645\u0628\u0639\u062b\u0631\u0629 \u0644\u0645\u0642\u0627\u064a\u064a\u0633 \u0627\u0644\u0645\u0633\u0627\u0641\u0629\nEuclidean \u0648Squared Euclidean.\n\u064a\u0645\u0643\u0646 \u0627\u0644\u0639\u062b\u0648\u0631 \u0639\u0644\u0649 \u0642\u0627\u0626\u0645\u0629 \u0645\u0641\u0635\u0644\u0629 \u0628\u0627\u0644\u0645\u0642\u062f\u0631\u0627\u062a \u0627\u0644\u0645\u062a\u0623\u062b\u0631\u0629 \u0641\u064a\n`\u0633\u062c\u0644 \u0627\u0644\u062a\u063a\u064a\u064a\u0631\u0627\u062a <release_notes_1_2>`.\n"
      ]
    }
  ],
  "metadata": {
    "kernelspec": {
      "display_name": "Python 3",
      "language": "python",
      "name": "python3"
    },
    "language_info": {
      "codemirror_mode": {
        "name": "ipython",
        "version": 3
      },
      "file_extension": ".py",
      "mimetype": "text/x-python",
      "name": "python",
      "nbconvert_exporter": "python",
      "pygments_lexer": "ipython3",
      "version": "3.10.13"
    }
  },
  "nbformat": 4,
  "nbformat_minor": 0
}