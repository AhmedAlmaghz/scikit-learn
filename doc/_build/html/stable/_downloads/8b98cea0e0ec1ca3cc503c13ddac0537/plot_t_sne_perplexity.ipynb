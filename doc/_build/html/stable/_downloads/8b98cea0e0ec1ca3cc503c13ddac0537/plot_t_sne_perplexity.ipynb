{
  "cells": [
    {
      "cell_type": "markdown",
      "metadata": {},
      "source": [
        "\n# t-SNE: \u062a\u0623\u062b\u064a\u0631 \u0642\u064a\u0645 \u0627\u0644\u062d\u064a\u0631\u0629 \u0627\u0644\u0645\u062e\u062a\u0644\u0641\u0629 \u0639\u0644\u0649 \u0627\u0644\u0634\u0643\u0644\n\n\u062a\u0648\u0636\u064a\u062d \u0644\u0640 t-SNE \u0639\u0644\u0649 \u062f\u0627\u0626\u0631\u062a\u064a\u0646 \u0645\u062a\u062d\u062f\u0629 \u0627\u0644\u0645\u0631\u0643\u0632 \u0648\u0645\u062c\u0645\u0648\u0639\u0629 \u0628\u064a\u0627\u0646\u0627\u062a \u0627\u0644\u0645\u0646\u062d\u0646\u0649 S\n\u0644\u0642\u064a\u0645 \u062d\u064a\u0631\u0629 \u0645\u062e\u062a\u0644\u0641\u0629.\n\n\u0646\u0644\u0627\u062d\u0638 \u0645\u064a\u0644\u064b\u0627 \u0646\u062d\u0648 \u0623\u0634\u0643\u0627\u0644 \u0623\u0648\u0636\u062d \u0645\u0639 \u0632\u064a\u0627\u062f\u0629 \u0642\u064a\u0645\u0629 \u0627\u0644\u062d\u064a\u0631\u0629.\n\n\u0642\u062f \u064a\u062e\u062a\u0644\u0641 \u062d\u062c\u0645 \u0648\u0645\u0633\u0627\u0641\u0629 \u0648\u0634\u0643\u0644 \u0627\u0644\u0645\u062c\u0645\u0648\u0639\u0627\u062a \u0628\u0646\u0627\u0621\u064b \u0639\u0644\u0649 \u0627\u0644\u062a\u0647\u064a\u0626\u0629\n\u0648\u0642\u064a\u0645 \u0627\u0644\u062d\u064a\u0631\u0629 \u0648\u0644\u0627 \u064a\u0646\u0642\u0644 \u062f\u0627\u0626\u0645\u064b\u0627 \u0645\u0639\u0646\u0649.\n\n\u0643\u0645\u0627 \u0647\u0648 \u0645\u0648\u0636\u062d \u0623\u062f\u0646\u0627\u0647\u060c \u064a\u062c\u062f t-SNE \u0628\u0627\u0644\u0646\u0633\u0628\u0629 \u0644\u0644\u062d\u064a\u0631\u0629 \u0627\u0644\u0623\u0639\u0644\u0649 \u0634\u0643\u0644\u064b\u0627 \u0630\u0627 \u0645\u0639\u0646\u0649\n\u0644\u062f\u0627\u0626\u0631\u062a\u064a\u0646 \u0645\u062a\u062d\u062f\u0629 \u0627\u0644\u0645\u0631\u0643\u0632\u060c \u0648\u0645\u0639 \u0630\u0644\u0643 \u064a\u062e\u062a\u0644\u0641 \u062d\u062c\u0645 \u0648\u0645\u0633\u0627\u0641\u0629 \u0627\u0644\u062f\u0648\u0627\u0626\u0631\n\u0642\u0644\u064a\u0644\u0627\u064b \u0639\u0646 \u0627\u0644\u0623\u0635\u0644. \u0639\u0644\u0649 \u0639\u0643\u0633 \u0645\u062c\u0645\u0648\u0639\u0629 \u0628\u064a\u0627\u0646\u0627\u062a \u0627\u0644\u062f\u0627\u0626\u0631\u062a\u064a\u0646\u060c \u0641\u0625\u0646 \u0627\u0644\u0623\u0634\u0643\u0627\u0644\n\u062a\u0646\u062d\u0631\u0641 \u0628\u0635\u0631\u064a\u064b\u0627 \u0639\u0646 \u0634\u0643\u0644 \u0627\u0644\u0645\u0646\u062d\u0646\u0649 S \u0639\u0644\u0649 \u0645\u062c\u0645\u0648\u0639\u0629 \u0628\u064a\u0627\u0646\u0627\u062a \u0627\u0644\u0645\u0646\u062d\u0646\u0649 S \u062d\u062a\u0649\n\u0628\u0627\u0644\u0646\u0633\u0628\u0629 \u0644\u0642\u064a\u0645 \u0627\u0644\u062d\u064a\u0631\u0629 \u0627\u0644\u0623\u0643\u0628\u0631.\n\n\u0644\u0645\u0632\u064a\u062f \u0645\u0646 \u0627\u0644\u062a\u0641\u0627\u0635\u064a\u0644\u060c \u064a\u0648\u0641\u0631 \"\u0643\u064a\u0641\u064a\u0629 \u0627\u0633\u062a\u062e\u062f\u0627\u0645 t-SNE \u0628\u0641\u0639\u0627\u0644\u064a\u0629\"\nhttps://distill.pub/2016/misread-tsne/ \u0646\u0642\u0627\u0634\u064b\u0627 \u062c\u064a\u062f\u064b\u0627 \u062d\u0648\u0644\n\u062a\u0623\u062b\u064a\u0631\u0627\u062a \u0627\u0644\u0645\u0639\u0644\u0645\u0627\u062a \u0627\u0644\u0645\u062e\u062a\u0644\u0641\u0629\u060c \u0628\u0627\u0644\u0625\u0636\u0627\u0641\u0629 \u0625\u0644\u0649 \u0645\u062e\u0637\u0637\u0627\u062a \u062a\u0641\u0627\u0639\u0644\u064a\u0629 \u0644\u0627\u0633\u062a\u0643\u0634\u0627\u0641\n\u0647\u0630\u0647 \u0627\u0644\u062a\u0623\u062b\u064a\u0631\u0627\u062a.\n"
      ]
    },
    {
      "cell_type": "code",
      "execution_count": null,
      "metadata": {
        "collapsed": false
      },
      "outputs": [],
      "source": [
        "# Authors: The scikit-learn developers\n# SPDX-License-Identifier: BSD-3-Clause\n\nfrom time import time\n\nimport matplotlib.pyplot as plt\nimport numpy as np\nfrom matplotlib.ticker import NullFormatter\n\nfrom sklearn import datasets, manifold\n\nn_samples = 150\nn_components = 2\n(fig, subplots) = plt.subplots(3, 5, figsize=(15, 8))\nperplexities = [5, 30, 50, 100]\n\nX, y = datasets.make_circles(\n    n_samples=n_samples, factor=0.5, noise=0.05, random_state=0\n)\n\nred = y == 0\ngreen = y == 1\n\nax = subplots[0][0]\nax.scatter(X[red, 0], X[red, 1], c=\"r\")\nax.scatter(X[green, 0], X[green, 1], c=\"g\")\nax.xaxis.set_major_formatter(NullFormatter())\nax.yaxis.set_major_formatter(NullFormatter())\nplt.axis(\"tight\")\n\nfor i, perplexity in enumerate(perplexities):\n    ax = subplots[0][i + 1]\n\n    t0 = time()\n    tsne = manifold.TSNE(\n        n_components=n_components,\n        init=\"random\",\n        random_state=0,\n        perplexity=perplexity,\n        max_iter=300,\n    )\n    Y = tsne.fit_transform(X)\n    t1 = time()\n    print(\"\u0627\u0644\u062f\u0648\u0627\u0626\u0631\u060c \u0627\u0644\u062d\u064a\u0631\u0629=%d \u0641\u064a %.2g \u062b\u0627\u0646\u064a\u0629\" % (perplexity, t1 - t0))\n    ax.set_title(\"\u0627\u0644\u062d\u064a\u0631\u0629=%d\" % perplexity)\n    ax.scatter(Y[red, 0], Y[red, 1], c=\"r\")\n    ax.scatter(Y[green, 0], Y[green, 1], c=\"g\")\n    ax.xaxis.set_major_formatter(NullFormatter())\n    ax.yaxis.set_major_formatter(NullFormatter())\n    ax.axis(\"tight\")\n\n# \u0645\u062b\u0627\u0644 \u0622\u062e\u0631 \u0628\u0627\u0633\u062a\u062e\u062f\u0627\u0645 \u0627\u0644\u0645\u0646\u062d\u0646\u0649 S\nX, color = datasets.make_s_curve(n_samples, random_state=0)\n\nax = subplots[1][0]\nax.scatter(X[:, 0], X[:, 2], c=color)\nax.xaxis.set_major_formatter(NullFormatter())\nax.yaxis.set_major_formatter(NullFormatter())\n\nfor i, perplexity in enumerate(perplexities):\n    ax = subplots[1][i + 1]\n\n    t0 = time()\n    tsne = manifold.TSNE(\n        n_components=n_components,\n        init=\"random\",\n        random_state=0,\n        perplexity=perplexity,\n        learning_rate=\"auto\",\n        max_iter=300,\n    )\n    Y = tsne.fit_transform(X)\n    t1 = time()\n    print(\"\u0627\u0644\u0645\u0646\u062d\u0646\u0649 S\u060c \u0627\u0644\u062d\u064a\u0631\u0629=%d \u0641\u064a %.2g \u062b\u0627\u0646\u064a\u0629\" % (perplexity, t1 - t0))\n\n    ax.set_title(\"\u0627\u0644\u062d\u064a\u0631\u0629=%d\" % perplexity)\n    ax.scatter(Y[:, 0], Y[:, 1], c=color)\n    ax.xaxis.set_major_formatter(NullFormatter())\n    ax.yaxis.set_major_formatter(NullFormatter())\n    ax.axis(\"tight\")\n\n\n# \u0645\u062b\u0627\u0644 \u0622\u062e\u0631 \u0628\u0627\u0633\u062a\u062e\u062f\u0627\u0645 \u0634\u0628\u0643\u0629 \u0645\u0648\u062d\u062f\u0629 \u062b\u0646\u0627\u0626\u064a\u0629 \u0627\u0644\u0623\u0628\u0639\u0627\u062f\nx = np.linspace(0, 1, int(np.sqrt(n_samples)))\nxx, yy = np.meshgrid(x, x)\nX = np.hstack(\n    [\n        xx.ravel().reshape(-1, 1),\n        yy.ravel().reshape(-1, 1),\n    ]\n)\ncolor = xx.ravel()\nax = subplots[2][0]\nax.scatter(X[:, 0], X[:, 1], c=color)\nax.xaxis.set_major_formatter(NullFormatter())\nax.yaxis.set_major_formatter(NullFormatter())\n\nfor i, perplexity in enumerate(perplexities):\n    ax = subplots[2][i + 1]\n\n    t0 = time()\n    tsne = manifold.TSNE(\n        n_components=n_components,\n        init=\"random\",\n        random_state=0,\n        perplexity=perplexity,\n        max_iter=400,\n    )\n    Y = tsne.fit_transform(X)\n    t1 = time()\n    print(\"\u0627\u0644\u0634\u0628\u0643\u0629 \u0627\u0644\u0645\u0648\u062d\u062f\u0629\u060c \u0627\u0644\u062d\u064a\u0631\u0629=%d \u0641\u064a %.2g \u062b\u0627\u0646\u064a\u0629\" % (perplexity, t1 - t0))\n\n    ax.set_title(\"\u0627\u0644\u062d\u064a\u0631\u0629=%d\" % perplexity)\n    ax.scatter(Y[:, 0], Y[:, 1], c=color)\n    ax.xaxis.set_major_formatter(NullFormatter())\n    ax.yaxis.set_major_formatter(NullFormatter())\n    ax.axis(\"tight\")\n\n\nplt.show()"
      ]
    }
  ],
  "metadata": {
    "kernelspec": {
      "display_name": "Python 3",
      "language": "python",
      "name": "python3"
    },
    "language_info": {
      "codemirror_mode": {
        "name": "ipython",
        "version": 3
      },
      "file_extension": ".py",
      "mimetype": "text/x-python",
      "name": "python",
      "nbconvert_exporter": "python",
      "pygments_lexer": "ipython3",
      "version": "3.10.13"
    }
  },
  "nbformat": 4,
  "nbformat_minor": 0
}