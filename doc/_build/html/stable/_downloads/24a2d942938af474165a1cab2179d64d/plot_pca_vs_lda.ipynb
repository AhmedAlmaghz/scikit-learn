{
  "cells": [
    {
      "cell_type": "markdown",
      "metadata": {},
      "source": [
        "\n# \u0645\u0642\u0627\u0631\u0646\u0629 \u0628\u064a\u0646 \u0627\u0644\u0625\u0633\u0642\u0627\u0637 \u062b\u0646\u0627\u0626\u064a \u0627\u0644\u0623\u0628\u0639\u0627\u062f \u0644\u0644\u0645\u062c\u0645\u0648\u0639\u0629 \u0627\u0644\u0628\u064a\u0627\u0646\u0627\u062a \u0622\u064a\u0631\u064a\u0633 \u0628\u0627\u0633\u062a\u062e\u062f\u0627\u0645 LDA \u0648PCA\n\n\u062a\u0645\u062b\u0644 \u0645\u062c\u0645\u0648\u0639\u0629 \u0628\u064a\u0627\u0646\u0627\u062a \u0622\u064a\u0631\u064a\u0633 3 \u0623\u0646\u0648\u0627\u0639 \u0645\u0646 \u0632\u0647\u0648\u0631 \u0622\u064a\u0631\u064a\u0633 (\u0633\u064a\u062a\u0648\u0633\u0627\u060c \u0648\u0641\u064a\u0631\u0633\u064a\u0643\u0648\u0644\u0648\u0631\u060c \u0648\u0641\u064a\u0631\u062c\u064a\u0646\u064a\u0643\u0627) \u0645\u0639 4 \u062e\u0635\u0627\u0626\u0635: \u0637\u0648\u0644 \u0627\u0644\u0643\u0623\u0633\u060c \u0648\u0639\u0631\u0636 \u0627\u0644\u0643\u0623\u0633\u060c \u0648\u0637\u0648\u0644 \u0627\u0644\u0628\u062a\u0644\u0629\u060c \u0648\u0639\u0631\u0636 \u0627\u0644\u0628\u062a\u0644\u0629.\n\n\u062a\u062d\u062f\u062f \u062a\u062d\u0644\u064a\u0644 \u0627\u0644\u0645\u0643\u0648\u0646\u0627\u062a \u0627\u0644\u0631\u0626\u064a\u0633\u064a\u0629 (PCA) \u0627\u0644\u0645\u0637\u0628\u0642 \u0639\u0644\u0649 \u0647\u0630\u0647 \u0627\u0644\u0628\u064a\u0627\u0646\u0627\u062a \u0645\u062c\u0645\u0648\u0639\u0629 \u0627\u0644\u062e\u0635\u0627\u0626\u0635 (\u0627\u0644\u0645\u0643\u0648\u0646\u0627\u062a \u0627\u0644\u0631\u0626\u064a\u0633\u064a\u0629\u060c \u0623\u0648 \u0627\u0644\u0627\u062a\u062c\u0627\u0647\u0627\u062a \u0641\u064a \u0641\u0636\u0627\u0621 \u0627\u0644\u0645\u064a\u0632\u0627\u062a) \u0627\u0644\u062a\u064a \u062a\u0641\u0633\u0631 \u0645\u0639\u0638\u0645 \u0627\u0644\u062a\u0628\u0627\u064a\u0646 \u0641\u064a \u0627\u0644\u0628\u064a\u0627\u0646\u0627\u062a. \u0647\u0646\u0627 \u0646\u0631\u0633\u0645 \u0627\u0644\u0639\u064a\u0646\u0627\u062a \u0627\u0644\u0645\u062e\u062a\u0644\u0641\u0629 \u0639\u0644\u0649 \u0623\u0648\u0644 \u0645\u0643\u0648\u0646\u064a\u0646 \u0631\u0626\u064a\u0633\u064a\u064a\u0646.\n\n\u064a\u062d\u0627\u0648\u0644 \u062a\u062d\u0644\u064a\u0644 \u0627\u0644\u062a\u0645\u064a\u064a\u0632 \u0627\u0644\u062e\u0637\u064a (LDA) \u062a\u062d\u062f\u064a\u062f \u0627\u0644\u062e\u0635\u0627\u0626\u0635 \u0627\u0644\u062a\u064a \u062a\u0641\u0633\u0631 \u0645\u0639\u0638\u0645 \u0627\u0644\u062a\u0628\u0627\u064a\u0646 *\u0628\u064a\u0646 \u0627\u0644\u0641\u0626\u0627\u062a*. \u0648\u0639\u0644\u0649 \u0648\u062c\u0647 \u0627\u0644\u062e\u0635\u0648\u0635\u060c \u0641\u0625\u0646 LDA\u060c \u0639\u0644\u0649 \u0639\u0643\u0633 PCA\u060c \u0647\u064a \u0637\u0631\u064a\u0642\u0629 \u0645\u064f\u0634\u0631\u0641\u0629 \u062a\u0633\u062a\u062e\u062f\u0645 \u062a\u0633\u0645\u064a\u0627\u062a \u0627\u0644\u0641\u0626\u0627\u062a \u0627\u0644\u0645\u0639\u0631\u0648\u0641\u0629.\n"
      ]
    },
    {
      "cell_type": "code",
      "execution_count": null,
      "metadata": {
        "collapsed": false
      },
      "outputs": [],
      "source": [
        "# \u0627\u0644\u0645\u0624\u0644\u0641\u0648\u0646: \u0645\u0637\u0648\u0631\u064a \u0633\u0643\u0627\u064a\u062a-\u0644\u064a\u0631\u0646\n# \u0645\u0639\u0631\u0641 \u0627\u0644\u062a\u0631\u062e\u064a\u0635: BSD-3-Clause\n\nimport matplotlib.pyplot as plt\n\nfrom sklearn import datasets\nfrom sklearn.decomposition import PCA\nfrom sklearn.discriminant_analysis import LinearDiscriminantAnalysis\n\niris = datasets.load_iris()\n\nX = iris.data\ny = iris.target\ntarget_names = iris.target_names\n\npca = PCA(n_components=2)\nX_r = pca.fit(X).transform(X)\n\nlda = LinearDiscriminantAnalysis(n_components=2)\nX_r2 = lda.fit(X, y).transform(X)\n\n# \u0646\u0633\u0628\u0629 \u0627\u0644\u062a\u0628\u0627\u064a\u0646 \u0627\u0644\u0645\u0648\u0636\u062d\u0629 \u0644\u0643\u0644 \u0645\u0643\u0648\u0646\nprint(\n    \"explained variance ratio (first two components): %s\"\n    % str(pca.explained_variance_ratio_)\n)\n\nplt.figure()\ncolors = [\"navy\", \"turquoise\", \"darkorange\"]\nlw = 2\n\nfor color, i, target_name in zip(colors, [0, 1, 2], target_names):\n    plt.scatter(\n        X_r[y == i, 0], X_r[y == i, 1], color=color, alpha=0.8, lw=lw, label=target_name\n    )\nplt.legend(loc=\"best\", shadow=False, scatterpoints=1)\nplt.title(\"PCA of IRIS dataset\")\n\nplt.figure()\nfor color, i, target_name in zip(colors, [0, 1, 2], target_names):\n    plt.scatter(\n        X_r2[y == i, 0], X_r2[y == i, 1], alpha=0.8, color=color, label=target_name\n    )\nplt.legend(loc=\"best\", shadow=False, scatterpoints=1)\nplt.title(\"LDA of IRIS dataset\")\n\nplt.show()"
      ]
    }
  ],
  "metadata": {
    "kernelspec": {
      "display_name": "Python 3",
      "language": "python",
      "name": "python3"
    },
    "language_info": {
      "codemirror_mode": {
        "name": "ipython",
        "version": 3
      },
      "file_extension": ".py",
      "mimetype": "text/x-python",
      "name": "python",
      "nbconvert_exporter": "python",
      "pygments_lexer": "ipython3",
      "version": "3.10.13"
    }
  },
  "nbformat": 4,
  "nbformat_minor": 0
}