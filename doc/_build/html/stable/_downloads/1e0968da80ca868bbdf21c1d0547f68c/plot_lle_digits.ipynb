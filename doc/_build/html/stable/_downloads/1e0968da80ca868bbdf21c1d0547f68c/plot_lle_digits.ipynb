{
  "cells": [
    {
      "cell_type": "markdown",
      "metadata": {},
      "source": [
        "\n# \u062a\u0639\u0644\u0645 \u0645\u062a\u0639\u062f\u062f \u0627\u0644\u0634\u0639\u0628 \u0639\u0644\u0649 \u0627\u0644\u0623\u0631\u0642\u0627\u0645 \u0627\u0644\u0645\u0643\u062a\u0648\u0628\u0629 \u0628\u062e\u0637 \u0627\u0644\u064a\u062f: \u0627\u0644\u062a\u0636\u0645\u064a\u0646 \u0627\u0644\u062e\u0637\u064a \u0627\u0644\u0645\u062d\u0644\u064a\u060c Isomap...\n\n\u0646\u0648\u0636\u062d \u062a\u0642\u0646\u064a\u0627\u062a \u0627\u0644\u062a\u0636\u0645\u064a\u0646 \u0627\u0644\u0645\u062e\u062a\u0644\u0641\u0629 \u0639\u0644\u0649 \u0645\u062c\u0645\u0648\u0639\u0629 \u0628\u064a\u0627\u0646\u0627\u062a \u0627\u0644\u0623\u0631\u0642\u0627\u0645.\n"
      ]
    },
    {
      "cell_type": "code",
      "execution_count": null,
      "metadata": {
        "collapsed": false
      },
      "outputs": [],
      "source": [
        "# Authors: The scikit-learn developers\n# SPDX-License-Identifier: BSD-3-Clause"
      ]
    },
    {
      "cell_type": "markdown",
      "metadata": {},
      "source": [
        "## \u062a\u062d\u0645\u064a\u0644 \u0645\u062c\u0645\u0648\u0639\u0629 \u0628\u064a\u0627\u0646\u0627\u062a \u0627\u0644\u0623\u0631\u0642\u0627\u0645\n\u0633\u0646\u0642\u0648\u0645 \u0628\u062a\u062d\u0645\u064a\u0644 \u0645\u062c\u0645\u0648\u0639\u0629 \u0628\u064a\u0627\u0646\u0627\u062a \u0627\u0644\u0623\u0631\u0642\u0627\u0645 \u0648\u0646\u0633\u062a\u062e\u062f\u0645 \u0641\u0642\u0637 \u0623\u0648\u0644 \u0633\u062a\u0629 \u0645\u0646 \u0627\u0644\u0641\u0626\u0627\u062a \u0627\u0644\u0639\u0634\u0631\u0629 \u0627\u0644\u0645\u062a\u0627\u062d\u0629.\n\n"
      ]
    },
    {
      "cell_type": "code",
      "execution_count": null,
      "metadata": {
        "collapsed": false
      },
      "outputs": [],
      "source": [
        "from sklearn.datasets import load_digits\n\ndigits = load_digits(n_class=6)\nX, y = digits.data, digits.target\nn_samples, n_features = X.shape\nn_neighbors = 30"
      ]
    },
    {
      "cell_type": "markdown",
      "metadata": {},
      "source": [
        "\u064a\u0645\u0643\u0646\u0646\u0627 \u0631\u0633\u0645 \u0623\u0648\u0644 \u0645\u0627\u0626\u0629 \u0631\u0642\u0645 \u0645\u0646 \u0645\u062c\u0645\u0648\u0639\u0629 \u0627\u0644\u0628\u064a\u0627\u0646\u0627\u062a \u0647\u0630\u0647.\n\n"
      ]
    },
    {
      "cell_type": "code",
      "execution_count": null,
      "metadata": {
        "collapsed": false
      },
      "outputs": [],
      "source": [
        "import matplotlib.pyplot as plt\n\nfig, axs = plt.subplots(nrows=10, ncols=10, figsize=(6, 6))\nfor idx, ax in enumerate(axs.ravel()):\n    ax.imshow(X[idx].reshape((8, 8)), cmap=plt.cm.binary)\n    ax.axis(\"off\")\n_ = fig.suptitle(\"\u0645\u062c\u0645\u0648\u0639\u0629 \u0645\u062e\u062a\u0627\u0631\u0629 \u0645\u0646 \u0645\u062c\u0645\u0648\u0639\u0629 \u0628\u064a\u0627\u0646\u0627\u062a \u0627\u0644\u0623\u0631\u0642\u0627\u0645 \u0630\u0627\u062a 64 \u0628\u064f\u0639\u062f\u064b\u0627\", fontsize=16)"
      ]
    },
    {
      "cell_type": "markdown",
      "metadata": {},
      "source": [
        "## \u062f\u0627\u0644\u0629 \u0645\u0633\u0627\u0639\u062f\u0629 \u0644\u0631\u0633\u0645 \u0627\u0644\u062a\u0636\u0645\u064a\u0646\n\u0623\u062f\u0646\u0627\u0647\u060c \u0633\u0646\u0633\u062a\u062e\u062f\u0645 \u062a\u0642\u0646\u064a\u0627\u062a \u0645\u062e\u062a\u0644\u0641\u0629 \u0644\u062a\u0636\u0645\u064a\u0646 \u0645\u062c\u0645\u0648\u0639\u0629 \u0628\u064a\u0627\u0646\u0627\u062a \u0627\u0644\u0623\u0631\u0642\u0627\u0645. \u0633\u0646\u0631\u0633\u0645\n\u0625\u0633\u0642\u0627\u0637 \u0627\u0644\u0628\u064a\u0627\u0646\u0627\u062a \u0627\u0644\u0623\u0635\u0644\u064a\u0629 \u0639\u0644\u0649 \u0643\u0644 \u062a\u0636\u0645\u064a\u0646. \u0633\u064a\u0633\u0645\u062d \u0644\u0646\u0627 \u0630\u0644\u0643\n\u0628\u0627\u0644\u062a\u062d\u0642\u0642 \u0645\u0645\u0627 \u0625\u0630\u0627 \u0643\u0627\u0646\u062a \u0627\u0644\u0623\u0631\u0642\u0627\u0645 \u0645\u062c\u0645\u0639\u0629 \u0645\u0639\u064b\u0627 \u0641\u064a \u0641\u0636\u0627\u0621 \u0627\u0644\u062a\u0636\u0645\u064a\u0646\u060c \u0623\u0648\n\u0645\u0646\u062a\u0634\u0631\u0629 \u0639\u0628\u0631\u0647.\n\n"
      ]
    },
    {
      "cell_type": "code",
      "execution_count": null,
      "metadata": {
        "collapsed": false
      },
      "outputs": [],
      "source": [
        "import numpy as np\nfrom matplotlib import offsetbox\n\nfrom sklearn.preprocessing import MinMaxScaler\n\n\ndef plot_embedding(X, title):\n    _, ax = plt.subplots()\n    X = MinMaxScaler().fit_transform(X)\n\n    for digit in digits.target_names:\n        ax.scatter(\n            *X[y == digit].T,\n            marker=f\"${digit}$\",\n            s=60,\n            color=plt.cm.Dark2(digit),\n            alpha=0.425,\n            zorder=2,\n        )\n    shown_images = np.array([[1.0, 1.0]])  # just something big\n    for i in range(X.shape[0]):\n        # plot every digit on the embedding\n        # show an annotation box for a group of digits\n        dist = np.sum((X[i] - shown_images) ** 2, 1)\n        if np.min(dist) < 4e-3:\n            # don't show points that are too close\n            continue\n        shown_images = np.concatenate([shown_images, [X[i]]], axis=0)\n        imagebox = offsetbox.AnnotationBbox(\n            offsetbox.OffsetImage(digits.images[i], cmap=plt.cm.gray_r), X[i]\n        )\n        imagebox.set(zorder=1)\n        ax.add_artist(imagebox)\n\n    ax.set_title(title)\n    ax.axis(\"off\")"
      ]
    },
    {
      "cell_type": "markdown",
      "metadata": {},
      "source": [
        "## \u0645\u0642\u0627\u0631\u0646\u0629 \u062a\u0642\u0646\u064a\u0627\u062a \u0627\u0644\u062a\u0636\u0645\u064a\u0646\n\n\u0623\u062f\u0646\u0627\u0647\u060c \u0646\u0642\u0627\u0631\u0646 \u0628\u064a\u0646 \u0627\u0644\u062a\u0642\u0646\u064a\u0627\u062a \u0627\u0644\u0645\u062e\u062a\u0644\u0641\u0629. \u0648\u0645\u0639 \u0630\u0644\u0643\u060c \u0647\u0646\u0627\u0643 \u0628\u0639\u0636 \u0627\u0644\u0623\u0634\u064a\u0627\u0621\n\u0627\u0644\u062a\u064a \u064a\u062c\u0628 \u0645\u0644\u0627\u062d\u0638\u062a\u0647\u0627:\n\n* :class:`~sklearn.ensemble.RandomTreesEmbedding` \u0644\u064a\u0633\u062a\n  \u0645\u0646 \u0627\u0644\u0646\u0627\u062d\u064a\u0629 \u0627\u0644\u0641\u0646\u064a\u0629 \u0637\u0631\u064a\u0642\u0629 \u062a\u0636\u0645\u064a\u0646 \u0645\u062a\u0639\u062f\u062f \u0627\u0644\u0634\u0639\u0628\u060c \u062d\u064a\u062b \u0625\u0646\u0647\u0627 \u062a\u062a\u0639\u0644\u0645 \u062a\u0645\u062b\u064a\u0644\u064b\u0627 \u0639\u0627\u0644\u064a \u0627\u0644\u0623\u0628\u0639\u0627\u062f\n  \u0648\u0627\u0644\u0630\u064a \u0646\u0637\u0628\u0642 \u0639\u0644\u064a\u0647 \u0637\u0631\u064a\u0642\u0629 \u0644\u062e\u0641\u0636 \u0627\u0644\u0623\u0628\u0639\u0627\u062f.\n  \u0648\u0645\u0639 \u0630\u0644\u0643\u060c \u063a\u0627\u0644\u0628\u064b\u0627 \u0645\u0627 \u064a\u0643\u0648\u0646 \u0645\u0646 \u0627\u0644\u0645\u0641\u064a\u062f \u062a\u062d\u0648\u064a\u0644 \u0645\u062c\u0645\u0648\u0639\u0629 \u0627\u0644\u0628\u064a\u0627\u0646\u0627\u062a \u0625\u0644\u0649 \u062a\u0645\u062b\u064a\u0644\n  \u064a\u0643\u0648\u0646 \u0641\u064a\u0647 \u0645\u0646 \u0627\u0644\u0645\u0645\u0643\u0646 \u0641\u0635\u0644 \u0627\u0644\u0641\u0626\u0627\u062a \u062e\u0637\u064a\u064b\u0627.\n* :class:`~sklearn.discriminant_analysis.LinearDiscriminantAnalysis` \u0648\n  :class:`~sklearn.neighbors.NeighborhoodComponentsAnalysis`\u060c \u0647\u0645\u0627 \u0637\u0631\u064a\u0642\u062a\u0627\u0646\n  \u0644\u062e\u0641\u0636 \u0627\u0644\u0623\u0628\u0639\u0627\u062f \u062e\u0627\u0636\u0639\u062a\u0627\u0646 \u0644\u0644\u0625\u0634\u0631\u0627\u0641\u060c \u0623\u064a \u0623\u0646\u0647\u0645\u0627 \u062a\u0633\u062a\u062e\u062f\u0645\u0627\u0646 \u0627\u0644\u0645\u0644\u0635\u0642\u0627\u062a \u0627\u0644\u0645\u0642\u062f\u0645\u0629\u060c\n  \u0639\u0644\u0649 \u0639\u0643\u0633 \u0627\u0644\u0637\u0631\u0642 \u0627\u0644\u0623\u062e\u0631\u0649.\n* :class:`~sklearn.manifold.TSNE` \u064a\u062a\u0645 \u062a\u0647\u064a\u0626\u062a\u0647\u0627 \u0628\u0627\u0644\u062a\u0636\u0645\u064a\u0646 \u0627\u0644\u0630\u064a \u062a\u0645\n  \u0625\u0646\u0634\u0627\u0624\u0647 \u0628\u0648\u0627\u0633\u0637\u0629 PCA \u0641\u064a \u0647\u0630\u0627 \u0627\u0644\u0645\u062b\u0627\u0644. \u0648\u0647\u0630\u0627 \u064a\u0636\u0645\u0646 \u0627\u0644\u0627\u0633\u062a\u0642\u0631\u0627\u0631 \u0627\u0644\u0634\u0627\u0645\u0644 \u0644\u0644\u062a\u0636\u0645\u064a\u0646\u060c\n  \u0623\u064a \u0623\u0646 \u0627\u0644\u062a\u0636\u0645\u064a\u0646 \u0644\u0627 \u064a\u0639\u062a\u0645\u062f \u0639\u0644\u0649 \u0627\u0644\u062a\u0647\u064a\u0626\u0629 \u0627\u0644\u0639\u0634\u0648\u0627\u0626\u064a\u0629.\n\n"
      ]
    },
    {
      "cell_type": "code",
      "execution_count": null,
      "metadata": {
        "collapsed": false
      },
      "outputs": [],
      "source": [
        "from sklearn.decomposition import TruncatedSVD\nfrom sklearn.discriminant_analysis import LinearDiscriminantAnalysis\nfrom sklearn.ensemble import RandomTreesEmbedding\nfrom sklearn.manifold import (\n    MDS,\n    TSNE,\n    Isomap,\n    LocallyLinearEmbedding,\n    SpectralEmbedding,\n)\nfrom sklearn.neighbors import NeighborhoodComponentsAnalysis\nfrom sklearn.pipeline import make_pipeline\nfrom sklearn.random_projection import SparseRandomProjection\n\nembeddings = {\n    \"\u062a\u0636\u0645\u064a\u0646 \u0627\u0644\u0625\u0633\u0642\u0627\u0637 \u0627\u0644\u0639\u0634\u0648\u0627\u0626\u064a\": SparseRandomProjection(\n        n_components=2, random_state=42\n    ),\n    \"\u062a\u0636\u0645\u064a\u0646 SVD \u0627\u0644\u0645\u0628\u062a\u0648\u0631\": TruncatedSVD(n_components=2),\n    \"\u062a\u0636\u0645\u064a\u0646 \u062a\u062d\u0644\u064a\u0644 \u0627\u0644\u062a\u0645\u0627\u064a\u0632 \u0627\u0644\u062e\u0637\u064a\": LinearDiscriminantAnalysis(\n        n_components=2\n    ),\n    \"\u062a\u0636\u0645\u064a\u0646 Isomap\": Isomap(n_neighbors=n_neighbors, n_components=2),\n    \"\u062a\u0636\u0645\u064a\u0646 LLE \u0627\u0644\u0642\u064a\u0627\u0633\u064a\": LocallyLinearEmbedding(\n        n_neighbors=n_neighbors, n_components=2, method=\"standard\"\n    ),\n    \"\u062a\u0636\u0645\u064a\u0646 LLE \u0627\u0644\u0645\u0639\u062f\u0644\": LocallyLinearEmbedding(\n        n_neighbors=n_neighbors, n_components=2, method=\"modified\"\n    ),\n    \"\u062a\u0636\u0645\u064a\u0646 Hessian LLE\": LocallyLinearEmbedding(\n        n_neighbors=n_neighbors, n_components=2, method=\"hessian\"\n    ),\n    \"\u062a\u0636\u0645\u064a\u0646 LTSA LLE\": LocallyLinearEmbedding(\n        n_neighbors=n_neighbors, n_components=2, method=\"ltsa\"\n    ),\n    \"\u062a\u0636\u0645\u064a\u0646 MDS\": MDS(n_components=2, n_init=1, max_iter=120, n_jobs=2),\n    \"\u062a\u0636\u0645\u064a\u0646 \u0627\u0644\u0623\u0634\u062c\u0627\u0631 \u0627\u0644\u0639\u0634\u0648\u0627\u0626\u064a\u0629\": make_pipeline(\n        RandomTreesEmbedding(n_estimators=200, max_depth=5, random_state=0),\n        TruncatedSVD(n_components=2),\n    ),\n    \"\u062a\u0636\u0645\u064a\u0646 \u0627\u0644\u0637\u064a\u0641\": SpectralEmbedding(\n        n_components=2, random_state=0, eigen_solver=\"arpack\"\n    ),\n    \"\u062a\u0636\u0645\u064a\u0646 t-SNE\": TSNE(\n        n_components=2,\n        max_iter=500,\n        n_iter_without_progress=150,\n        n_jobs=2,\n        random_state=0,\n    ),\n    \"\u062a\u0636\u0645\u064a\u0646 NCA\": NeighborhoodComponentsAnalysis(\n        n_components=2, init=\"pca\", random_state=0\n    ),\n}"
      ]
    },
    {
      "cell_type": "markdown",
      "metadata": {},
      "source": [
        "\u0628\u0645\u062c\u0631\u062f \u0623\u0646 \u0646\u0639\u0644\u0646 \u0639\u0646 \u062c\u0645\u064a\u0639 \u0627\u0644\u0637\u0631\u0642 \u0630\u0627\u062a \u0627\u0644\u0623\u0647\u0645\u064a\u0629\u060c \u064a\u0645\u0643\u0646\u0646\u0627 \u062a\u0634\u063a\u064a\u0644 \u0648\u0625\u062c\u0631\u0627\u0621 \u0625\u0633\u0642\u0627\u0637\n\u0627\u0644\u0628\u064a\u0627\u0646\u0627\u062a \u0627\u0644\u0623\u0635\u0644\u064a\u0629. \u0633\u0646\u062e\u0632\u0646 \u0627\u0644\u0628\u064a\u0627\u0646\u0627\u062a \u0627\u0644\u0645\u0633\u0642\u0637\u0629 \u0628\u0627\u0644\u0625\u0636\u0627\u0641\u0629 \u0625\u0644\u0649 \u0627\u0644\u0648\u0642\u062a \u0627\u0644\u062d\u0633\u0627\u0628\u064a\n\u0627\u0644\u0644\u0627\u0632\u0645 \u0644\u0625\u062c\u0631\u0627\u0621 \u0643\u0644 \u0625\u0633\u0642\u0627\u0637.\n\n"
      ]
    },
    {
      "cell_type": "code",
      "execution_count": null,
      "metadata": {
        "collapsed": false
      },
      "outputs": [],
      "source": [
        "from time import time\n\nprojections, timing = {}, {}\nfor name, transformer in embeddings.items():\n    if name.startswith(\"\u062a\u062d\u0644\u064a\u0644 \u0627\u0644\u062a\u0645\u0627\u064a\u0632 \u0627\u0644\u062e\u0637\u064a\"):\n        data = X.copy()\n        data.flat[:: X.shape[1] + 1] += 0.01  # Make X invertible\n    else:\n        data = X\n\n    print(f\"\u062d\u0633\u0627\u0628 {name}...\")\n    start_time = time()\n    projections[name] = transformer.fit_transform(data, y)\n    timing[name] = time() - start_time"
      ]
    },
    {
      "cell_type": "markdown",
      "metadata": {},
      "source": [
        "\u0623\u062e\u064a\u0631\u064b\u0627\u060c \u064a\u0645\u0643\u0646\u0646\u0627 \u0631\u0633\u0645 \u0627\u0644\u0625\u0633\u0642\u0627\u0637 \u0627\u0644\u0646\u0627\u062a\u062c \u0627\u0644\u0645\u0639\u0637\u0649 \u0628\u0648\u0627\u0633\u0637\u0629 \u0643\u0644 \u0637\u0631\u064a\u0642\u0629.\n\n"
      ]
    },
    {
      "cell_type": "code",
      "execution_count": null,
      "metadata": {
        "collapsed": false
      },
      "outputs": [],
      "source": [
        "for name in timing:\n    title = f\"{name} (\u0627\u0644\u0648\u0642\u062a {timing[name]:.3f}s)\"\n    plot_embedding(projections[name], title)\n\nplt.show()"
      ]
    }
  ],
  "metadata": {
    "kernelspec": {
      "display_name": "Python 3",
      "language": "python",
      "name": "python3"
    },
    "language_info": {
      "codemirror_mode": {
        "name": "ipython",
        "version": 3
      },
      "file_extension": ".py",
      "mimetype": "text/x-python",
      "name": "python",
      "nbconvert_exporter": "python",
      "pygments_lexer": "ipython3",
      "version": "3.10.13"
    }
  },
  "nbformat": 4,
  "nbformat_minor": 0
}