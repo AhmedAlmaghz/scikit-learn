{
  "cells": [
    {
      "cell_type": "markdown",
      "metadata": {},
      "source": [
        "\n# \u0627\u0644\u0627\u062e\u062a\u064a\u0627\u0631 \u0627\u0644\u0645\u0634\u062a\u0631\u0643 \u0644\u0644\u0645\u064a\u0632\u0627\u062a \u0628\u0627\u0633\u062a\u062e\u062f\u0627\u0645 Lasso \u0645\u062a\u0639\u062f\u062f \u0627\u0644\u0645\u0647\u0627\u0645\n\n\u064a\u0633\u0645\u062d Lasso \u0645\u062a\u0639\u062f\u062f \u0627\u0644\u0645\u0647\u0627\u0645 \u0628\u062a\u0646\u0627\u0633\u0628 \u0645\u0634\u0627\u0643\u0644 \u0627\u0644\u0627\u0646\u062d\u062f\u0627\u0631 \u0627\u0644\u0645\u062a\u0639\u062f\u062f\u0629\n\u0641\u0631\u0636 \u0627\u062e\u062a\u064a\u0627\u0631 \u0627\u0644\u0645\u064a\u0632\u0627\u062a \u0646\u0641\u0633\u0647\u0627 \u0639\u0628\u0631\n\u0627\u0644\u0645\u0647\u0627\u0645. \u064a\u062d\u0627\u0643\u064a \u0647\u0630\u0627 \u0627\u0644\u0645\u062b\u0627\u0644 \u0627\u0644\u0642\u064a\u0627\u0633\u0627\u062a \u0627\u0644\u062a\u0633\u0644\u0633\u0644\u064a\u0629\u060c \u062d\u064a\u062b \u062a\u0645\u062b\u0644 \u0643\u0644 \u0645\u0647\u0645\u0629 \u0644\u062d\u0638\u0629 \u0632\u0645\u0646\u064a\u0629\u060c \u0648\u062a\u062e\u062a\u0644\u0641 \u0627\u0644\u0645\u064a\u0632\u0627\u062a \u0630\u0627\u062a \u0627\u0644\u0635\u0644\u0629 \u0641\u064a \u0627\u0644\u0633\u0639\u0629\n\u0628\u0645\u0631\u0648\u0631 \u0627\u0644\u0648\u0642\u062a \u0645\u0639 \u0628\u0642\u0627\u0626\u0647\u0627 \u0646\u0641\u0633\u0647\u0627. \u064a\u0641\u0631\u0636 Lasso \u0645\u062a\u0639\u062f\u062f \u0627\u0644\u0645\u0647\u0627\u0645 \u0623\u0646\n\u0627\u0644\u0645\u064a\u0632\u0627\u062a \u0627\u0644\u062a\u064a \u064a\u062a\u0645 \u0627\u062e\u062a\u064a\u0627\u0631\u0647\u0627 \u0641\u064a \u0644\u062d\u0638\u0629 \u0632\u0645\u0646\u064a\u0629 \u0648\u0627\u062d\u062f\u0629 \u064a\u062a\u0645 \u0627\u062e\u062a\u064a\u0627\u0631\u0647\u0627 \u0644\u062c\u0645\u064a\u0639 \u0627\u0644\u0644\u062d\u0638\u0627\u062a \u0627\u0644\u0632\u0645\u0646\u064a\u0629. \u0648\u0647\u0630\u0627 \u064a\u062c\u0639\u0644 \u0627\u062e\u062a\u064a\u0627\u0631 \u0627\u0644\u0645\u064a\u0632\u0627\u062a \u0628\u0648\u0627\u0633\u0637\u0629 Lasso \u0623\u0643\u062b\u0631 \u0627\u0633\u062a\u0642\u0631\u0627\u0631\u064b\u0627.\n"
      ]
    },
    {
      "cell_type": "code",
      "execution_count": null,
      "metadata": {
        "collapsed": false
      },
      "outputs": [],
      "source": [
        "# \u0627\u0644\u0645\u0624\u0644\u0641\u0648\u0646: \u0645\u0637\u0648\u0631\u064a scikit-learn\n# \u0645\u0639\u0631\u0641 \u0627\u0644\u062a\u0631\u062e\u064a\u0635: BSD-3-Clause"
      ]
    },
    {
      "cell_type": "markdown",
      "metadata": {},
      "source": [
        "## \u062a\u0648\u0644\u064a\u062f \u0627\u0644\u0628\u064a\u0627\u0646\u0627\u062a\n\n"
      ]
    },
    {
      "cell_type": "code",
      "execution_count": null,
      "metadata": {
        "collapsed": false
      },
      "outputs": [],
      "source": [
        "import numpy as np\n\nrng = np.random.RandomState(42)\n\n# \u062a\u0648\u0644\u064a\u062f \u0628\u0639\u0636 \u0645\u0639\u0627\u0645\u0644\u0627\u062a \u062b\u0646\u0627\u0626\u064a\u0629 \u0627\u0644\u0623\u0628\u0639\u0627\u062f \u0645\u0639 \u0645\u0648\u062c\u0627\u062a \u0627\u0644\u062c\u064a\u0628 \u0630\u0627\u062a \u0627\u0644\u062a\u0631\u062f\u062f \u0627\u0644\u0639\u0634\u0648\u0627\u0626\u064a \u0648\u0627\u0644\u0637\u0648\u0631\nn_samples, n_features, n_tasks = 100, 30, 40\nn_relevant_features = 5\ncoef = np.zeros((n_tasks, n_features))\ntimes = np.linspace(0, 2 * np.pi, n_tasks)\nfor k in range(n_relevant_features):\n    coef[:, k] = np.sin((1.0 + rng.randn(1)) * times + 3 * rng.randn(1))\n\nX = rng.randn(n_samples, n_features)\nY = np.dot(X, coef.T) + rng.randn(n_samples, n_tasks)"
      ]
    },
    {
      "cell_type": "markdown",
      "metadata": {},
      "source": [
        "## \u0645\u0644\u0627\u0621\u0645\u0629 \u0627\u0644\u0646\u0645\u0627\u0630\u062c\n\n"
      ]
    },
    {
      "cell_type": "code",
      "execution_count": null,
      "metadata": {
        "collapsed": false
      },
      "outputs": [],
      "source": [
        "from sklearn.linear_model import Lasso, MultiTaskLasso\n\ncoef_lasso_ = np.array([Lasso(alpha=0.5).fit(X, y).coef_ for y in Y.T])\ncoef_multi_task_lasso_ = MultiTaskLasso(alpha=1.0).fit(X, Y).coef_"
      ]
    },
    {
      "cell_type": "markdown",
      "metadata": {},
      "source": [
        "## \u0631\u0633\u0645 \u0627\u0644\u062f\u0639\u0645 \u0648\u0627\u0644\u0633\u0644\u0627\u0633\u0644 \u0627\u0644\u0632\u0645\u0646\u064a\u0629\n\n"
      ]
    },
    {
      "cell_type": "code",
      "execution_count": null,
      "metadata": {
        "collapsed": false
      },
      "outputs": [],
      "source": [
        "import matplotlib.pyplot as plt\n\nfig = plt.figure(figsize=(8, 5))\nplt.subplot(1, 2, 1)\nplt.spy(coef_lasso_)\nplt.xlabel(\"\u0627\u0644\u0645\u064a\u0632\u0629\")\nplt.ylabel(\"\u0627\u0644\u0648\u0642\u062a (\u0623\u0648 \u0627\u0644\u0645\u0647\u0645\u0629)\")\nplt.text(10, 5, \"Lasso\")\nplt.subplot(1, 2, 2)\nplt.spy(coef_multi_task_lasso_)\nplt.xlabel(\"\u0627\u0644\u0645\u064a\u0632\u0629\")\nplt.ylabel(\"\u0627\u0644\u0648\u0642\u062a (\u0623\u0648 \u0627\u0644\u0645\u0647\u0645\u0629)\")\nplt.text(10, 5, \"MultiTaskLasso\")\nfig.suptitle(\"\u0645\u0648\u0642\u0639 \u0627\u0644\u0645\u0639\u0627\u0645\u0644 \u063a\u064a\u0631 \u0627\u0644\u0635\u0641\u0631\u064a\")\n\nfeature_to_plot = 0\nplt.figure()\nlw = 2\nplt.plot(coef[:, feature_to_plot], color=\"seagreen\", linewidth=lw, label=\"\u0627\u0644\u062d\u0642\u064a\u0642\u0629 \u0627\u0644\u0623\u0631\u0636\u064a\u0629\")\nplt.plot(\n    coef_lasso_[:, feature_to_plot], color=\"cornflowerblue\", linewidth=lw, label=\"Lasso\"\n)\nplt.plot(\n    coef_multi_task_lasso_[:, feature_to_plot],\n    color=\"gold\",\n    linewidth=lw,\n    label=\"MultiTaskLasso\",\n)\nplt.legend(loc=\"upper center\")\nplt.axis(\"tight\")\nplt.ylim([-1.1, 1.1])\nplt.show()"
      ]
    }
  ],
  "metadata": {
    "kernelspec": {
      "display_name": "Python 3",
      "language": "python",
      "name": "python3"
    },
    "language_info": {
      "codemirror_mode": {
        "name": "ipython",
        "version": 3
      },
      "file_extension": ".py",
      "mimetype": "text/x-python",
      "name": "python",
      "nbconvert_exporter": "python",
      "pygments_lexer": "ipython3",
      "version": "3.10.13"
    }
  },
  "nbformat": 4,
  "nbformat_minor": 0
}