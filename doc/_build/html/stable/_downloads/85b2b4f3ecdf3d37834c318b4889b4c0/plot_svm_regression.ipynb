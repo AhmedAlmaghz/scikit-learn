{
  "cells": [
    {
      "cell_type": "markdown",
      "metadata": {},
      "source": [
        "\n# \u062f\u0639\u0645 \u0646\u0645\u0648\u0630\u062c \u0627\u0644\u0627\u0646\u062d\u062f\u0627\u0631 \u0628\u0627\u0633\u062a\u062e\u062f\u0627\u0645 \u0646\u0648\u0627\u0629 \u062e\u0637\u064a\u0629 \u0648\u063a\u064a\u0631 \u062e\u0637\u064a\u0629\n\n\u0645\u062b\u0627\u0644 \u062a\u0648\u0636\u064a\u062d\u064a \u0644\u0644\u0627\u0646\u062d\u062f\u0627\u0631 \u0623\u062d\u0627\u062f\u064a \u0627\u0644\u0628\u0639\u062f \u0628\u0627\u0633\u062a\u062e\u062f\u0627\u0645 \u0646\u0648\u0627\u0629 \u062e\u0637\u064a\u0629 \u0648\u0645\u062a\u0639\u062f\u062f\u0629 \u0627\u0644\u062d\u062f\u0648\u062f \u0648RBF.\n"
      ]
    },
    {
      "cell_type": "code",
      "execution_count": null,
      "metadata": {
        "collapsed": false
      },
      "outputs": [],
      "source": [
        "# \u0627\u0644\u0645\u0624\u0644\u0641\u0648\u0646: \u0645\u0637\u0648\u0631\u064a \u0633\u0643\u0627\u064a\u062a-\u0644\u064a\u0631\u0646\n# \u0645\u0639\u0631\u0641 \u0627\u0644\u062a\u0631\u062e\u064a\u0635: BSD-3-Clause\n\nimport matplotlib.pyplot as plt\nimport numpy as np\n\nfrom sklearn.svm import SVR"
      ]
    },
    {
      "cell_type": "markdown",
      "metadata": {},
      "source": [
        "## \u062a\u0648\u0644\u064a\u062f \u0628\u064a\u0627\u0646\u0627\u062a \u0627\u0644\u0639\u064a\u0646\u0629\n\n"
      ]
    },
    {
      "cell_type": "code",
      "execution_count": null,
      "metadata": {
        "collapsed": false
      },
      "outputs": [],
      "source": [
        "X = np.sort(5 * np.random.rand(40, 1), axis=0)\ny = np.sin(X).ravel()\n\n# \u0625\u0636\u0627\u0641\u0629 \u0636\u062c\u064a\u062c \u0625\u0644\u0649 \u0627\u0644\u0623\u0647\u062f\u0627\u0641\ny[::5] += 3 * (0.5 - np.random.rand(8))"
      ]
    },
    {
      "cell_type": "markdown",
      "metadata": {},
      "source": [
        "## \u0645\u0644\u0627\u0621\u0645\u0629 \u0646\u0645\u0648\u0630\u062c \u0627\u0644\u0627\u0646\u062d\u062f\u0627\u0631\n\n"
      ]
    },
    {
      "cell_type": "code",
      "execution_count": null,
      "metadata": {
        "collapsed": false
      },
      "outputs": [],
      "source": [
        "svr_rbf = SVR(kernel=\"rbf\", C=100, gamma=0.1, epsilon=0.1)\nsvr_lin = SVR(kernel=\"linear\", C=100, gamma=\"auto\")\nsvr_poly = SVR(kernel=\"poly\", C=100, gamma=\"auto\", degree=3, epsilon=0.1, coef0=1)"
      ]
    },
    {
      "cell_type": "markdown",
      "metadata": {},
      "source": [
        "## \u0627\u0644\u0646\u0638\u0631 \u0641\u064a \u0627\u0644\u0646\u062a\u0627\u0626\u062c\n\n"
      ]
    },
    {
      "cell_type": "code",
      "execution_count": null,
      "metadata": {
        "collapsed": false
      },
      "outputs": [],
      "source": [
        "lw = 2\n\nsvrs = [svr_rbf, svr_lin, svr_poly]\nkernel_label = [\"RBF\", \"Linear\", \"Polynomial\"]\nmodel_color = [\"m\", \"c\", \"g\"]\n\nfig, axes = plt.subplots(nrows=1, ncols=3, figsize=(15, 10), sharey=True)\nfor ix, svr in enumerate(svrs):\n    axes[ix].plot(\n        X,\n        svr.fit(X, y).predict(X),\n        color=model_color[ix],\n        lw=lw,\n        label=\"{} model\".format(kernel_label[ix]),\n    )\n    axes[ix].scatter(\n        X[svr.support_],\n        y[svr.support_],\n        facecolor=\"none\",\n        edgecolor=model_color[ix],\n        s=50,\n        label=\"{} support vectors\".format(kernel_label[ix]),\n    )\n    axes[ix].scatter(\n        X[np.setdiff1d(np.arange(len(X)), svr.support_)],\n        y[np.setdiff1d(np.arange(len(X)), svr.support_)],\n        facecolor=\"none\",\n        edgecolor=\"k\",\n        s=50,\n        label=\"other training data\",\n    )\n    axes[ix].legend(\n        loc=\"upper center\",\n        bbox_to_anchor=(0.5, 1.1),\n        ncol=1,\n        fancybox=True,\n        shadow=True,\n    )\n\nfig.text(0.5, 0.04, \"data\", ha=\"center\", va=\"center\")\nfig.text(0.06, 0.5, \"target\", ha=\"center\", va=\"center\", rotation=\"vertical\")\nfig.suptitle(\"Support Vector Regression\", fontsize=14)\nplt.show()"
      ]
    }
  ],
  "metadata": {
    "kernelspec": {
      "display_name": "Python 3",
      "language": "python",
      "name": "python3"
    },
    "language_info": {
      "codemirror_mode": {
        "name": "ipython",
        "version": 3
      },
      "file_extension": ".py",
      "mimetype": "text/x-python",
      "name": "python",
      "nbconvert_exporter": "python",
      "pygments_lexer": "ipython3",
      "version": "3.10.13"
    }
  },
  "nbformat": 4,
  "nbformat_minor": 0
}