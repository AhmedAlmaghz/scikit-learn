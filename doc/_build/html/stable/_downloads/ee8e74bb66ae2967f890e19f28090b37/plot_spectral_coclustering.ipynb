{
  "cells": [
    {
      "cell_type": "markdown",
      "metadata": {},
      "source": [
        "\n# \u0639\u0631\u0636 \u062a\u0648\u0636\u064a\u062d\u064a \u0644\u062e\u0648\u0627\u0631\u0632\u0645\u064a\u0629 \u0627\u0644\u062a\u062c\u0645\u064a\u0639 \u0627\u0644\u0637\u064a\u0641\u064a \u0627\u0644\u0645\u0634\u062a\u0631\u0643\n\n\u0647\u0630\u0627 \u0627\u0644\u0645\u062b\u0627\u0644 \u064a\u0648\u0636\u062d \u0643\u064a\u0641\u064a\u0629 \u0625\u0646\u0634\u0627\u0621 \u0645\u062c\u0645\u0648\u0639\u0629 \u0628\u064a\u0627\u0646\u0627\u062a \u0648\u062a\u062c\u0645\u064a\u0639\u0647\u0627\n\u0628\u0627\u0633\u062a\u062e\u062f\u0627\u0645 \u062e\u0648\u0627\u0631\u0632\u0645\u064a\u0629 \u0627\u0644\u062a\u062c\u0645\u064a\u0639 \u0627\u0644\u0637\u064a\u0641\u064a \u0627\u0644\u0645\u0634\u062a\u0631\u0643.\n\n\u062a\u0645 \u0625\u0646\u0634\u0627\u0621 \u0645\u062c\u0645\u0648\u0639\u0629 \u0627\u0644\u0628\u064a\u0627\u0646\u0627\u062a \u0628\u0627\u0633\u062a\u062e\u062f\u0627\u0645 \u0627\u0644\u062f\u0627\u0644\u0629 ``make_biclusters``\u060c \u0648\u0627\u0644\u062a\u064a\n\u062a\u0646\u0634\u0626 \u0645\u0635\u0641\u0648\u0641\u0629 \u0645\u0646 \u0627\u0644\u0642\u064a\u0645 \u0627\u0644\u0635\u063a\u064a\u0631\u0629 \u0648\u062a\u0632\u0631\u0639 \u0645\u062c\u0645\u0648\u0639\u0627\u062a \u0627\u0644\u062a\u062c\u0645\u064a\u0639 \u0627\u0644\u0641\u0631\u0639\u064a\u0629 \u0630\u0627\u062a \u0627\u0644\u0642\u064a\u0645 \u0627\u0644\u0643\u0628\u064a\u0631\u0629. \u064a\u062a\u0645 \u0628\u0639\u062f \u0630\u0644\u0643 \u062e\u0644\u0637 \u0627\u0644\u0635\u0641\u0648\u0641 \u0648\u0627\u0644\u0623\u0639\u0645\u062f\u0629 \u0648\u062a\u0645\u0631\u064a\u0631\u0647\u0627 \u0625\u0644\u0649\n\u062e\u0648\u0627\u0631\u0632\u0645\u064a\u0629 \u0627\u0644\u062a\u062c\u0645\u064a\u0639 \u0627\u0644\u0637\u064a\u0641\u064a \u0627\u0644\u0645\u0634\u062a\u0631\u0643. \u0625\u0639\u0627\u062f\u0629 \u062a\u0631\u062a\u064a\u0628 \u0627\u0644\u0645\u0635\u0641\u0648\u0641\u0629 \u0627\u0644\u0645\u062e\u0644\u0648\u0637\u0629 \u0644\u062c\u0639\u0644 \u0645\u062c\u0645\u0648\u0639\u0627\u062a \u0627\u0644\u062a\u062c\u0645\u064a\u0639 \u0627\u0644\u0641\u0631\u0639\u064a\u0629 \u0645\u062a\u062c\u0627\u0648\u0631\u0629 \u064a\u064f\u0638\u0647\u0631 \u0645\u062f\u0649 \u062f\u0642\u0629 \u0627\u0644\u062e\u0648\u0627\u0631\u0632\u0645\u064a\u0629 \u0641\u064a \u0627\u0644\u0639\u062b\u0648\u0631\n\u0639\u0644\u0649 \u0645\u062c\u0645\u0648\u0639\u0627\u062a \u0627\u0644\u062a\u062c\u0645\u064a\u0639 \u0627\u0644\u0641\u0631\u0639\u064a\u0629.\n"
      ]
    },
    {
      "cell_type": "code",
      "execution_count": null,
      "metadata": {
        "collapsed": false
      },
      "outputs": [],
      "source": [
        "# \u0627\u0644\u0645\u0624\u0644\u0641\u0648\u0646: \u0645\u0637\u0648\u0631\u064a \u0633\u0643\u0627\u064a\u0644\u0631\u0646\n# \u0645\u0639\u0631\u0641 \u0627\u0644\u062a\u0631\u062e\u064a\u0635: BSD-3-Clause\n\nimport numpy as np\nfrom matplotlib import pyplot as plt\n\nfrom sklearn.cluster import SpectralCoclustering\nfrom sklearn.datasets import make_biclusters\nfrom sklearn.metrics import consensus_score\n\ndata, rows, columns = make_biclusters(\n    shape=(300, 300), n_clusters=5, noise=5, shuffle=False, random_state=0\n)\n\nplt.matshow(data, cmap=plt.cm.Blues)\nplt.title(\"Original dataset\")\n\n# shuffle clusters\nrng = np.random.RandomState(0)\nrow_idx = rng.permutation(data.shape[0])\ncol_idx = rng.permutation(data.shape[1])\ndata = data[row_idx][:, col_idx]\n\nplt.matshow(data, cmap=plt.cm.Blues)\nplt.title(\"Shuffled dataset\")\n\nmodel = SpectralCoclustering(n_clusters=5, random_state=0)\nmodel.fit(data)\nscore = consensus_score(\n    model.biclusters_, (rows[:, row_idx], columns[:, col_idx]))\n\nprint(\"consensus score: {:.3f}\".format(score))\n\nfit_data = data[np.argsort(model.row_labels_)]\nfit_data = fit_data[:, np.argsort(model.column_labels_)]\n\nplt.matshow(fit_data, cmap=plt.cm.Blues)\nplt.title(\"After biclustering; rearranged to show biclusters\")\n\nplt.show()"
      ]
    }
  ],
  "metadata": {
    "kernelspec": {
      "display_name": "Python 3",
      "language": "python",
      "name": "python3"
    },
    "language_info": {
      "codemirror_mode": {
        "name": "ipython",
        "version": 3
      },
      "file_extension": ".py",
      "mimetype": "text/x-python",
      "name": "python",
      "nbconvert_exporter": "python",
      "pygments_lexer": "ipython3",
      "version": "3.10.13"
    }
  },
  "nbformat": 4,
  "nbformat_minor": 0
}