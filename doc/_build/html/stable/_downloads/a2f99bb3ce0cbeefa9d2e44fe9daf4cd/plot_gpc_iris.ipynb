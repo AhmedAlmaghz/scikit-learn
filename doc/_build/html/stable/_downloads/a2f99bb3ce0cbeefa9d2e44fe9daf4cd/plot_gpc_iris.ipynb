{
  "cells": [
    {
      "cell_type": "markdown",
      "metadata": {},
      "source": [
        "\n# \u062a\u0635\u0646\u064a\u0641 \u0627\u0644\u0639\u0645\u0644\u064a\u0629 \u0627\u0644\u063a\u0627\u0648\u0633\u064a\u0629 (GPC) \u0639\u0644\u0649 \u0645\u062c\u0645\u0648\u0639\u0629 \u0628\u064a\u0627\u0646\u0627\u062a iris\n\n\u064a\u0648\u0636\u062d \u0647\u0630\u0627 \u0627\u0644\u0645\u062b\u0627\u0644 \u0627\u0644\u0627\u062d\u062a\u0645\u0627\u0644 \u0627\u0644\u0645\u062a\u0648\u0642\u0639 \u0644\u0640 GPC \u0644\u0646\u0648\u0627\u0629 RBF \u0645\u062a\u0646\u0627\u062d\u0631\u0629\n\u0648\u063a\u064a\u0631 \u0645\u062a\u0646\u0627\u062d\u0631\u0629 \u0639\u0644\u0649 \u0646\u0633\u062e\u0629 \u062b\u0646\u0627\u0626\u064a\u0629 \u0627\u0644\u0623\u0628\u0639\u0627\u062f \u0644\u0645\u062c\u0645\u0648\u0639\u0629 \u0628\u064a\u0627\u0646\u0627\u062a iris.\n\u062a\u062d\u0635\u0644 \u0646\u0648\u0627\u0629 RBF \u063a\u064a\u0631 \u0627\u0644\u0645\u062a\u0646\u0627\u062d\u0631\u0629 \u0639\u0644\u0649 \u0627\u062d\u062a\u0645\u0627\u0644 \u0647\u0627\u0645\u0634\u064a \u0644\u0648\u063a\u0627\u0631\u064a\u062a\u0645\u064a \u0623\u0639\u0644\u0649 \u0642\u0644\u064a\u0644\u0627\u064b\n\u0639\u0646 \u0637\u0631\u064a\u0642 \u062a\u0639\u064a\u064a\u0646 \u0645\u0642\u0627\u064a\u064a\u0633 \u0637\u0648\u0644 \u0645\u062e\u062a\u0644\u0641\u0629 \u0644\u0623\u0628\u0639\u0627\u062f \u0627\u0644\u0645\u064a\u0632\u062a\u064a\u0646.\n"
      ]
    },
    {
      "cell_type": "code",
      "execution_count": null,
      "metadata": {
        "collapsed": false
      },
      "outputs": [],
      "source": [
        "# Authors: The scikit-learn developers\n# SPDX-License-Identifier: BSD-3-Clause\n\nimport matplotlib.pyplot as plt\nimport numpy as np\n\nfrom sklearn import datasets\nfrom sklearn.gaussian_process import GaussianProcessClassifier\nfrom sklearn.gaussian_process.kernels import RBF\n\n# \u0627\u0633\u062a\u064a\u0631\u0627\u062f \u0628\u0639\u0636 \u0627\u0644\u0628\u064a\u0627\u0646\u0627\u062a \u0644\u0644\u0639\u0645\u0644 \u0628\u0647\u0627\niris = datasets.load_iris()\nX = iris.data[:, :2]  # \u0646\u0623\u062e\u0630 \u0627\u0644\u0645\u064a\u0632\u062a\u064a\u0646 \u0627\u0644\u0623\u0648\u0644\u064a\u064a\u0646 \u0641\u0642\u0637.\ny = np.array(iris.target, dtype=int)\n\nh = 0.02  # \u062d\u062c\u0645 \u0627\u0644\u062e\u0637\u0648\u0629 \u0641\u064a \u0627\u0644\u0634\u0628\u0643\u0629\n\nkernel = 1.0 * RBF([1.0])\ngpc_rbf_isotropic = GaussianProcessClassifier(kernel=kernel).fit(X, y)\nkernel = 1.0 * RBF([1.0, 1.0])\ngpc_rbf_anisotropic = GaussianProcessClassifier(kernel=kernel).fit(X, y)\n\n# \u0625\u0646\u0634\u0627\u0621 \u0634\u0628\u0643\u0629 \u0644\u0644\u0631\u0633\u0645 \u0641\u064a\u0647\u0627\nx_min, x_max = X[:, 0].min() - 1, X[:, 0].max() + 1\ny_min, y_max = X[:, 1].min() - 1, X[:, 1].max() + 1\nxx, yy = np.meshgrid(np.arange(x_min, x_max, h), np.arange(y_min, y_max, h))\n\ntitles = [\"Isotropic RBF\", \"Anisotropic RBF\"]  # \u0639\u0646\u0627\u0648\u064a\u0646 \u0627\u0644\u0631\u0633\u0645\nplt.figure(figsize=(10, 5))\nfor i, clf in enumerate((gpc_rbf_isotropic, gpc_rbf_anisotropic)):\n    # \u0631\u0633\u0645 \u0627\u0644\u0627\u062d\u062a\u0645\u0627\u0644\u0627\u062a \u0627\u0644\u0645\u062a\u0648\u0642\u0639\u0629. \u0644\u0630\u0644\u0643 \u060c \u0633\u0646\u0642\u0648\u0645 \u0628\u062a\u0639\u064a\u064a\u0646 \u0644\u0648\u0646\n    # \u0644\u0643\u0644 \u0646\u0642\u0637\u0629 \u0641\u064a \u0627\u0644\u0634\u0628\u0643\u0629 [x_min, m_max]x[y_min, y_max].\n    plt.subplot(1, 2, i + 1)\n\n    Z = clf.predict_proba(np.c_[xx.ravel(), yy.ravel()])\n\n    # \u0648\u0636\u0639 \u0627\u0644\u0646\u062a\u064a\u062c\u0629 \u0641\u064a \u0645\u062e\u0637\u0637 \u0623\u0644\u0648\u0627\u0646\n    Z = Z.reshape((xx.shape[0], xx.shape[1], 3))\n    plt.imshow(Z, extent=(x_min, x_max, y_min, y_max), origin=\"lower\")\n\n    # \u0631\u0633\u0645 \u0646\u0642\u0627\u0637 \u0627\u0644\u062a\u062f\u0631\u064a\u0628 \u0623\u064a\u0636\u064b\u0627\n    plt.scatter(X[:, 0], X[:, 1], c=np.array([\"r\", \"g\", \"b\"])[y], edgecolors=(0, 0, 0))\n    plt.xlabel(\"\u0637\u0648\u0644 \u0627\u0644\u0643\u0623\u0633\u064a\u0629\")  # Sepal length\n    plt.ylabel(\"\u0639\u0631\u0636 \u0627\u0644\u0643\u0623\u0633\u064a\u0629\")  # Sepal width\n    plt.xlim(xx.min(), xx.max())\n    plt.ylim(yy.min(), yy.max())\n    plt.xticks(())\n    plt.yticks(())\n    plt.title(\n        \"%s, LML: %.3f\" % (titles[i], clf.log_marginal_likelihood(clf.kernel_.theta))\n    )\n\nplt.tight_layout()\nplt.show()"
      ]
    }
  ],
  "metadata": {
    "kernelspec": {
      "display_name": "Python 3",
      "language": "python",
      "name": "python3"
    },
    "language_info": {
      "codemirror_mode": {
        "name": "ipython",
        "version": 3
      },
      "file_extension": ".py",
      "mimetype": "text/x-python",
      "name": "python",
      "nbconvert_exporter": "python",
      "pygments_lexer": "ipython3",
      "version": "3.10.13"
    }
  },
  "nbformat": 4,
  "nbformat_minor": 0
}