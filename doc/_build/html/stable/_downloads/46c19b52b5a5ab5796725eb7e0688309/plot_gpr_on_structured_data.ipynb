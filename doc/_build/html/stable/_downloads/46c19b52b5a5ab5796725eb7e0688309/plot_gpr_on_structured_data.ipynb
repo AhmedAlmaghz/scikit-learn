{
  "cells": [
    {
      "cell_type": "markdown",
      "metadata": {},
      "source": [
        "\n# \u0627\u0644\u0639\u0645\u0644\u064a\u0627\u062a \u0627\u0644\u063a\u0627\u0648\u0633\u064a\u0629 \u0639\u0644\u0649 \u0647\u064a\u0627\u0643\u0644 \u0627\u0644\u0628\u064a\u0627\u0646\u0627\u062a \u0627\u0644\u0645\u0646\u0642\u0648\u0635\u0629\n\n\u064a\u0648\u0636\u062d \u0647\u0630\u0627 \u0627\u0644\u0645\u062b\u0627\u0644 \u0627\u0633\u062a\u062e\u062f\u0627\u0645 \u0627\u0644\u0639\u0645\u0644\u064a\u0627\u062a \u0627\u0644\u063a\u0627\u0648\u0633\u064a\u0629 \u0644\u0645\u0647\u0627\u0645 \u0627\u0644\u0627\u0646\u062d\u062f\u0627\u0631 \u0648\u0627\u0644\u062a\u0635\u0646\u064a\u0641 \u0639\u0644\u0649 \u0627\u0644\u0628\u064a\u0627\u0646\u0627\u062a \u0627\u0644\u062a\u064a \u0644\u064a\u0633\u062a \u0641\u064a \u0634\u0643\u0644 \u0645\u062a\u062c\u0647 \u0645\u064a\u0632\u0627\u062a \u0628\u0637\u0648\u0644 \u062b\u0627\u0628\u062a. \u064a\u062a\u0645 \u062a\u062d\u0642\u064a\u0642 \u0630\u0644\u0643 \u0645\u0646 \u062e\u0644\u0627\u0644 \u0627\u0633\u062a\u062e\u062f\u0627\u0645 \u062f\u0648\u0627\u0644 \u0627\u0644\u0646\u0648\u0627\u0629 \u0627\u0644\u062a\u064a \u062a\u0639\u0645\u0644 \u0645\u0628\u0627\u0634\u0631\u0629 \u0639\u0644\u0649 \u0647\u064a\u0627\u0643\u0644 \u0645\u0646\u0642\u0648\u0635\u0629 \u0645\u062b\u0644 \u0627\u0644\u062a\u0633\u0644\u0633\u0644\u0627\u062a \u0645\u062a\u063a\u064a\u0631\u0629 \u0627\u0644\u0637\u0648\u0644 \u0648\u0627\u0644\u0623\u0634\u062c\u0627\u0631 \u0648\u0627\u0644\u0631\u0633\u0648\u0645 \u0627\u0644\u0628\u064a\u0627\u0646\u064a\u0629.\n\n\u0639\u0644\u0649 \u0648\u062c\u0647 \u0627\u0644\u062a\u062d\u062f\u064a\u062f\u060c \u0647\u0646\u0627 \u0627\u0644\u0645\u062a\u063a\u064a\u0631\u0627\u062a \u0627\u0644\u0645\u062f\u062e\u0644\u0629 \u0647\u064a \u0628\u0639\u0636 \u062a\u0633\u0644\u0633\u0644\u0627\u062a \u0627\u0644\u062c\u064a\u0646\u0627\u062a \u0627\u0644\u0645\u062e\u0632\u0646\u0629 \u0643\u0633\u0644\u0627\u0633\u0644 \u0645\u062a\u063a\u064a\u0631\u0629 \u0627\u0644\u0637\u0648\u0644 \u062a\u062a\u0643\u0648\u0646 \u0645\u0646 \u0627\u0644\u0623\u062d\u0631\u0641 'A' \u0648 'T' \u0648 'C' \u0648 'G'\u060c \u0628\u064a\u0646\u0645\u0627 \u0627\u0644\u0645\u062a\u063a\u064a\u0631\u0627\u062a \u0627\u0644\u0645\u062e\u0631\u062c\u0629 \u0647\u064a \u0623\u0631\u0642\u0627\u0645 \u0641\u0627\u0635\u0644\u0629 \u0639\u0627\u0626\u0645\u0629 \u0648\u062a\u0633\u0645\u064a\u0627\u062a \u0635\u062d\u064a\u062d/\u062e\u0637\u0623 \u0641\u064a \u0645\u0647\u0627\u0645 \u0627\u0644\u0627\u0646\u062d\u062f\u0627\u0631 \u0648\u0627\u0644\u062a\u0635\u0646\u064a\u0641\u060c \u0639\u0644\u0649 \u0627\u0644\u062a\u0648\u0627\u0644\u064a.\n\n\u064a\u062a\u0645 \u062a\u0639\u0631\u064a\u0641 \u0646\u0648\u0627\u0629 \u0628\u064a\u0646 \u062a\u0633\u0644\u0633\u0644\u0627\u062a \u0627\u0644\u062c\u064a\u0646\u0627\u062a \u0628\u0627\u0633\u062a\u062e\u062f\u0627\u0645 \u0627\u0644\u0627\u0644\u062a\u0641\u0627\u0641 R [1]_ \u0639\u0646 \u0637\u0631\u064a\u0642 \u062f\u0645\u062c \u0646\u0648\u0627\u0629 \u062b\u0646\u0627\u0626\u064a\u0629 \u062d\u0631\u0641\u064a\u0629 \u0639\u0644\u0649 \u062c\u0645\u064a\u0639 \u0623\u0632\u0648\u0627\u062c \u0627\u0644\u0623\u062d\u0631\u0641 \u0628\u064a\u0646 \u0632\u0648\u062c \u0645\u0646 \u0627\u0644\u0633\u0644\u0627\u0633\u0644.\n\n\u0633\u064a\u0648\u0644\u062f \u0647\u0630\u0627 \u0627\u0644\u0645\u062b\u0627\u0644 \u062b\u0644\u0627\u062b\u0629 \u0623\u0634\u0643\u0627\u0644.\n\n\u0641\u064a \u0627\u0644\u0634\u0643\u0644 \u0627\u0644\u0623\u0648\u0644\u060c \u0646\u0642\u0648\u0645 \u0628\u062a\u0635\u0648\u0631 \u0642\u064a\u0645\u0629 \u0627\u0644\u0646\u0648\u0627\u0629\u060c \u0623\u064a \u062a\u0634\u0627\u0628\u0647 \u0627\u0644\u062a\u0633\u0644\u0633\u0644\u0627\u062a\u060c \u0628\u0627\u0633\u062a\u062e\u062f\u0627\u0645 \u062e\u0631\u064a\u0637\u0629 \u0623\u0644\u0648\u0627\u0646. \u064a\u0634\u064a\u0631 \u0627\u0644\u0644\u0648\u0646 \u0627\u0644\u0623\u0643\u062b\u0631 \u0633\u0637\u0648\u0639\u064b\u0627 \u0647\u0646\u0627 \u0625\u0644\u0649 \u062a\u0634\u0627\u0628\u0647 \u0623\u0639\u0644\u0649.\n\n\u0641\u064a \u0627\u0644\u0634\u0643\u0644 \u0627\u0644\u062b\u0627\u0646\u064a\u060c \u0646\u0639\u0631\u0636 \u0628\u0639\u0636 \u0646\u062a\u0627\u0626\u062c \u0627\u0644\u0627\u0646\u062d\u062f\u0627\u0631 \u0639\u0644\u0649 \u0645\u062c\u0645\u0648\u0639\u0629 \u0628\u064a\u0627\u0646\u0627\u062a \u0645\u0646 6 \u062a\u0633\u0644\u0633\u0644\u0627\u062a. \u0647\u0646\u0627 \u0646\u0633\u062a\u062e\u062f\u0645 \u0627\u0644\u062a\u0633\u0644\u0633\u0644\u0627\u062a \u0627\u0644\u0623\u0648\u0644 \u0648\u0627\u0644\u062b\u0627\u0646\u064a \u0648\u0627\u0644\u0631\u0627\u0628\u0639 \u0648\u0627\u0644\u062e\u0627\u0645\u0633 \u0643\u0645\u062c\u0645\u0648\u0639\u0629 \u062a\u062f\u0631\u064a\u0628 \u0644\u0625\u062c\u0631\u0627\u0621 \u062a\u0646\u0628\u0624\u0627\u062a \u0639\u0644\u0649 \u0627\u0644\u062a\u0633\u0644\u0633\u0644\u064a\u0646 \u0627\u0644\u062b\u0627\u0644\u062b \u0648\u0627\u0644\u0633\u0627\u062f\u0633.\n\n\u0641\u064a \u0627\u0644\u0634\u0643\u0644 \u0627\u0644\u062b\u0627\u0644\u062b\u060c \u0646\u0648\u0636\u062d \u0646\u0645\u0648\u0630\u062c \u062a\u0635\u0646\u064a\u0641 \u0639\u0646 \u0637\u0631\u064a\u0642 \u0627\u0644\u062a\u062f\u0631\u064a\u0628 \u0639\u0644\u0649 6 \u062a\u0633\u0644\u0633\u0644\u0627\u062a \u0648\u0625\u062c\u0631\u0627\u0621 \u062a\u0646\u0628\u0624\u0627\u062a \u0639\u0644\u0649 5 \u062a\u0633\u0644\u0633\u0644\u0627\u062a \u0623\u062e\u0631\u0649. \u0627\u0644\u062d\u0642\u064a\u0642\u0629 \u0627\u0644\u0623\u0633\u0627\u0633\u064a\u0629 \u0647\u0646\u0627 \u0647\u064a \u0628\u0628\u0633\u0627\u0637\u0629 \u0645\u0627 \u0625\u0630\u0627 \u0643\u0627\u0646 \u0647\u0646\u0627\u0643 \u062d\u0631\u0641 'A' \u0648\u0627\u062d\u062f \u0639\u0644\u0649 \u0627\u0644\u0623\u0642\u0644 \u0641\u064a \u0627\u0644\u062a\u0633\u0644\u0633\u0644. \u0647\u0646\u0627 \u064a\u0642\u0648\u0645 \u0627\u0644\u0646\u0645\u0648\u0630\u062c \u0628\u0623\u0631\u0628\u0639\u0629 \u062a\u0635\u0646\u064a\u0641\u0627\u062a \u0635\u062d\u064a\u062d\u0629 \u0648\u064a\u0641\u0634\u0644 \u0641\u064a \u0648\u0627\u062d\u062f.\n\n.. [1] Haussler, D. (1999). Convolution kernels on discrete structures\n       (Vol. 646). Technical report, Department of Computer Science, University\n       of California at Santa Cruz.\n"
      ]
    },
    {
      "cell_type": "code",
      "execution_count": null,
      "metadata": {
        "collapsed": false
      },
      "outputs": [],
      "source": [
        "# Authors: The scikit-learn developers\n# SPDX-License-Identifier: BSD-3-Clause"
      ]
    },
    {
      "cell_type": "code",
      "execution_count": null,
      "metadata": {
        "collapsed": false
      },
      "outputs": [],
      "source": [
        "import numpy as np\n\nfrom sklearn.base import clone\nfrom sklearn.gaussian_process import GaussianProcessClassifier, GaussianProcessRegressor\nfrom sklearn.gaussian_process.kernels import GenericKernelMixin, Hyperparameter, Kernel\n\n\nclass SequenceKernel(GenericKernelMixin, Kernel):\n    \"\"\"\n    \u0646\u0648\u0627\u0629 \u0627\u0644\u062a\u0648\u0627\u0621 \u0628\u0633\u064a\u0637\u0629 (\u0644\u0643\u0646\u0647\u0627 \u0635\u0627\u0644\u062d\u0629) \u0644\u062a\u0633\u0644\u0633\u0644\u0627\u062a \u0630\u0627\u062a \u0623\u0637\u0648\u0627\u0644 \u0645\u062a\u063a\u064a\u0631\u0629.\n    \"\"\"\n\n    def __init__(self, baseline_similarity=0.5, baseline_similarity_bounds=(1e-5, 1)):\n        self.baseline_similarity = baseline_similarity\n        self.baseline_similarity_bounds = baseline_similarity_bounds\n\n    @property\n    def hyperparameter_baseline_similarity(self):\n        return Hyperparameter(\n            \"baseline_similarity\", \"numeric\", self.baseline_similarity_bounds\n        )\n\n    def _f(self, s1, s2):\n        \"\"\"\n        \u0642\u064a\u0645\u0629 \u0627\u0644\u0646\u0648\u0627\u0629 \u0628\u064a\u0646 \u0632\u0648\u062c \u0645\u0646 \u0627\u0644\u062a\u0633\u0644\u0633\u0644\u0627\u062a\n        \"\"\"\n        return sum(\n            [1.0 if c1 == c2 else self.baseline_similarity for c1 in s1 for c2 in s2]\n        )\n\n    def _g(self, s1, s2):\n        \"\"\"\n        \u0645\u0634\u062a\u0642 \u0627\u0644\u0646\u0648\u0627\u0629 \u0628\u064a\u0646 \u0632\u0648\u062c \u0645\u0646 \u0627\u0644\u062a\u0633\u0644\u0633\u0644\u0627\u062a\n        \"\"\"\n        return sum([0.0 if c1 == c2 else 1.0 for c1 in s1 for c2 in s2])\n\n    def __call__(self, X, Y=None, eval_gradient=False):\n        if Y is None:\n            Y = X\n\n        if eval_gradient:\n            return (\n                np.array([[self._f(x, y) for y in Y] for x in X]),\n                np.array([[[self._g(x, y)] for y in Y] for x in X]),\n            )\n        else:\n            return np.array([[self._f(x, y) for y in Y] for x in X])\n\n    def diag(self, X):\n        return np.array([self._f(x, x) for x in X])\n\n    def is_stationary(self):\n        return False\n\n    def clone_with_theta(self, theta):\n        cloned = clone(self)\n        cloned.theta = theta\n        return cloned\n\n\nkernel = SequenceKernel()"
      ]
    },
    {
      "cell_type": "markdown",
      "metadata": {},
      "source": [
        "## \u0645\u0635\u0641\u0648\u0641\u0629 \u062a\u0634\u0627\u0628\u0647 \u0627\u0644\u062a\u0633\u0644\u0633\u0644 \u062a\u062d\u062a \u0627\u0644\u0646\u0648\u0627\u0629\n\n"
      ]
    },
    {
      "cell_type": "code",
      "execution_count": null,
      "metadata": {
        "collapsed": false
      },
      "outputs": [],
      "source": [
        "import matplotlib.pyplot as plt\n\nX = np.array([\"AGCT\", \"AGC\", \"AACT\", \"TAA\", \"AAA\", \"GAACA\"])\n\nK = kernel(X)\nD = kernel.diag(X)\n\nplt.figure(figsize=(8, 5))\nplt.imshow(np.diag(D**-0.5).dot(K).dot(np.diag(D**-0.5)))\nplt.xticks(np.arange(len(X)), X)\nplt.yticks(np.arange(len(X)), X)\nplt.title(\"\u062a\u0634\u0627\u0628\u0647 \u0627\u0644\u062a\u0633\u0644\u0633\u0644 \u062a\u062d\u062a \u0627\u0644\u0646\u0648\u0627\u0629\")\nplt.show()"
      ]
    },
    {
      "cell_type": "markdown",
      "metadata": {},
      "source": [
        "## \u0627\u0644\u0627\u0646\u062d\u062f\u0627\u0631\n\n"
      ]
    },
    {
      "cell_type": "code",
      "execution_count": null,
      "metadata": {
        "collapsed": false
      },
      "outputs": [],
      "source": [
        "X = np.array([\"AGCT\", \"AGC\", \"AACT\", \"TAA\", \"AAA\", \"GAACA\"])\nY = np.array([1.0, 1.0, 2.0, 2.0, 3.0, 3.0])\n\ntraining_idx = [0, 1, 3, 4]\ngp = GaussianProcessRegressor(kernel=kernel)\ngp.fit(X[training_idx], Y[training_idx])\n\nplt.figure(figsize=(8, 5))\nplt.bar(np.arange(len(X)), gp.predict(X), color=\"b\", label=\"\u0627\u0644\u062a\u0646\u0628\u0624\")\nplt.bar(training_idx, Y[training_idx], width=0.2, color=\"r\", alpha=1, label=\"\u0627\u0644\u062a\u062f\u0631\u064a\u0628\")\nplt.xticks(np.arange(len(X)), X)\nplt.title(\"\u0627\u0644\u0627\u0646\u062d\u062f\u0627\u0631 \u0639\u0644\u0649 \u0627\u0644\u062a\u0633\u0644\u0633\u0644\u0627\u062a\")\nplt.legend()\nplt.show()"
      ]
    },
    {
      "cell_type": "markdown",
      "metadata": {},
      "source": [
        "## \u0627\u0644\u062a\u0635\u0646\u064a\u0641\n\n"
      ]
    },
    {
      "cell_type": "code",
      "execution_count": null,
      "metadata": {
        "collapsed": false
      },
      "outputs": [],
      "source": [
        "X_train = np.array([\"AGCT\", \"CGA\", \"TAAC\", \"TCG\", \"CTTT\", \"TGCT\"])\n# \u0645\u0627 \u0625\u0630\u0627 \u0643\u0627\u0646 \u0647\u0646\u0627\u0643 'A' \u0641\u064a \u0627\u0644\u062a\u0633\u0644\u0633\u0644\nY_train = np.array([True, True, True, False, False, False])\n\ngp = GaussianProcessClassifier(kernel)\ngp.fit(X_train, Y_train)\n\nX_test = [\"AAA\", \"ATAG\", \"CTC\", \"CT\", \"C\"]\nY_test = [True, True, False, False, False]\n\nplt.figure(figsize=(8, 5))\nplt.scatter(\n    np.arange(len(X_train)),\n    [1.0 if c else -1.0 for c in Y_train],\n    s=100,\n    marker=\"o\",\n    edgecolor=\"none\",\n    facecolor=(1, 0.75, 0),\n    label=\"\u0627\u0644\u062a\u062f\u0631\u064a\u0628\",\n)\nplt.scatter(\n    len(X_train) + np.arange(len(X_test)),\n    [1.0 if c else -1.0 for c in Y_test],\n    s=100,\n    marker=\"o\",\n    edgecolor=\"none\",\n    facecolor=\"r\",\n    label=\"\u0627\u0644\u062d\u0642\u064a\u0642\u0629\",\n)\nplt.scatter(\n    len(X_train) + np.arange(len(X_test)),\n    [1.0 if c else -1.0 for c in gp.predict(X_test)],\n    s=100,\n    marker=\"x\",\n    facecolor=\"b\",\n    linewidth=2,\n    label=\"\u0627\u0644\u062a\u0646\u0628\u0624\",\n)\nplt.xticks(np.arange(len(X_train) + len(X_test)), np.concatenate((X_train, X_test)))\nplt.yticks([-1, 1], [False, True])\nplt.title(\"\u0627\u0644\u062a\u0635\u0646\u064a\u0641 \u0639\u0644\u0649 \u0627\u0644\u062a\u0633\u0644\u0633\u0644\u0627\u062a\")\nplt.legend()\nplt.show()"
      ]
    }
  ],
  "metadata": {
    "kernelspec": {
      "display_name": "Python 3",
      "language": "python",
      "name": "python3"
    },
    "language_info": {
      "codemirror_mode": {
        "name": "ipython",
        "version": 3
      },
      "file_extension": ".py",
      "mimetype": "text/x-python",
      "name": "python",
      "nbconvert_exporter": "python",
      "pygments_lexer": "ipython3",
      "version": "3.10.13"
    }
  },
  "nbformat": 4,
  "nbformat_minor": 0
}