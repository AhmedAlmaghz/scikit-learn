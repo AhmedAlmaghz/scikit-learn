{
  "cells": [
    {
      "cell_type": "markdown",
      "metadata": {},
      "source": [
        "\n# \u0631\u0633\u0645 \u0645\u062e\u0637\u0637 \u0634\u062c\u0631\u0629 \u0627\u0644\u062a\u062c\u0645\u064a\u0639 \u0627\u0644\u0647\u0631\u0645\u064a\n\u0647\u0630\u0627 \u0627\u0644\u0645\u062b\u0627\u0644 \u064a\u0631\u0633\u0645 \u0645\u062e\u0637\u0637 \u0634\u062c\u0631\u0629 \u0627\u0644\u062a\u062c\u0645\u064a\u0639 \u0627\u0644\u0645\u0642\u0627\u0628\u0644 \u0644\u062a\u062c\u0645\u064a\u0639 \u0647\u0631\u0645\u064a\n\u0628\u0627\u0633\u062a\u062e\u062f\u0627\u0645 AgglomerativeClustering \u0648\u0637\u0631\u064a\u0642\u0629 dendrogram \u0627\u0644\u0645\u062a\u0648\u0641\u0631\u0629 \u0641\u064a scipy.\n"
      ]
    },
    {
      "cell_type": "code",
      "execution_count": null,
      "metadata": {
        "collapsed": false
      },
      "outputs": [],
      "source": [
        "import numpy as np\nfrom matplotlib import pyplot as plt\nfrom scipy.cluster.hierarchy import dendrogram\n\nfrom sklearn.cluster import AgglomerativeClustering\nfrom sklearn.datasets import load_iris\n\n\ndef plot_dendrogram(model, **kwargs):\n    # \u0625\u0646\u0634\u0627\u0621 \u0645\u0635\u0641\u0648\u0641\u0629 \u0627\u0644\u0631\u0628\u0637 \u062b\u0645 \u0631\u0633\u0645 \u0645\u062e\u0637\u0637 \u0634\u062c\u0631\u0629 \u0627\u0644\u062a\u062c\u0645\u064a\u0639\n\n    # \u0625\u0646\u0634\u0627\u0621 \u062a\u0639\u062f\u0627\u062f \u0627\u0644\u0639\u064a\u0646\u0627\u062a \u062a\u062d\u062a \u0643\u0644 \u0639\u0642\u062f\u0629\n    counts = np.zeros(model.children_.shape[0])\n    n_samples = len(model.labels_)\n    for i, merge in enumerate(model.children_):\n        current_count = 0\n        for child_idx in merge:\n            if child_idx < n_samples:\n                current_count += 1  # leaf node\n            else:\n                current_count += counts[child_idx - n_samples]\n        counts[i] = current_count\n\n    linkage_matrix = np.column_stack(\n        [model.children_, model.distances_, counts]\n    ).astype(float)\n\n    # \u0631\u0633\u0645 \u0645\u062e\u0637\u0637 \u0634\u062c\u0631\u0629 \u0627\u0644\u062a\u062c\u0645\u064a\u0639 \u0627\u0644\u0645\u0642\u0627\u0628\u0644\n    dendrogram(linkage_matrix, **kwargs)\n\n\niris = load_iris()\nX = iris.data\n\n# \u062a\u0639\u064a\u064a\u0646 distance_threshold=0 \u064a\u0636\u0645\u0646 \u062d\u0633\u0627\u0628 \u0627\u0644\u0634\u062c\u0631\u0629 \u0627\u0644\u0643\u0627\u0645\u0644\u0629.\nmodel = AgglomerativeClustering(distance_threshold=0, n_clusters=None)\n\nmodel = model.fit(X)\nplt.title(\"\u0645\u062e\u0637\u0637 \u0634\u062c\u0631\u0629 \u0627\u0644\u062a\u062c\u0645\u064a\u0639 \u0627\u0644\u0647\u0631\u0645\u064a\")\n# \u0631\u0633\u0645 \u0627\u0644\u0645\u0633\u062a\u0648\u064a\u0627\u062a \u0627\u0644\u062b\u0644\u0627\u062b\u0629 \u0627\u0644\u0639\u0644\u064a\u0627 \u0645\u0646 \u0645\u062e\u0637\u0637 \u0634\u062c\u0631\u0629 \u0627\u0644\u062a\u062c\u0645\u064a\u0639\nplot_dendrogram(model, truncate_mode=\"level\", p=3)\nplt.xlabel(\"\u0639\u062f\u062f \u0627\u0644\u0646\u0642\u0627\u0637 \u0641\u064a \u0627\u0644\u0639\u0642\u062f\u0629 (\u0623\u0648 \u0645\u0624\u0634\u0631 \u0627\u0644\u0646\u0642\u0637\u0629 \u0625\u0630\u0627 \u0644\u0645 \u064a\u0643\u0646 \u0647\u0646\u0627\u0643 \u0642\u0648\u0633\u064a\u0646).\")\nplt.show()"
      ]
    }
  ],
  "metadata": {
    "kernelspec": {
      "display_name": "Python 3",
      "language": "python",
      "name": "python3"
    },
    "language_info": {
      "codemirror_mode": {
        "name": "ipython",
        "version": 3
      },
      "file_extension": ".py",
      "mimetype": "text/x-python",
      "name": "python",
      "nbconvert_exporter": "python",
      "pygments_lexer": "ipython3",
      "version": "3.10.13"
    }
  },
  "nbformat": 4,
  "nbformat_minor": 0
}