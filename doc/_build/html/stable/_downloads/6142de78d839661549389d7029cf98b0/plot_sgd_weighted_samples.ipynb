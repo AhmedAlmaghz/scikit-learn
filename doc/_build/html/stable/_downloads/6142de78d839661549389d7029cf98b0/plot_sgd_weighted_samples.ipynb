{
  "cells": [
    {
      "cell_type": "markdown",
      "metadata": {},
      "source": [
        "\n# SGD: \u0627\u0644\u0639\u064a\u0646\u0627\u062a \u0627\u0644\u0645\u0631\u062c\u062d\u0629\n\n\u0631\u0633\u0645 \u062f\u0627\u0644\u0629 \u0627\u0644\u0642\u0631\u0627\u0631 \u0644\u0645\u062c\u0645\u0648\u0639\u0629 \u0628\u064a\u0627\u0646\u0627\u062a \u0645\u0631\u062c\u062d\u0629\u060c \u062d\u064a\u062b \u064a\u062a\u0646\u0627\u0633\u0628 \u062d\u062c\u0645 \u0627\u0644\u0646\u0642\u0627\u0637\n\u0645\u0639 \u0648\u0632\u0646\u0647\u0627.\n"
      ]
    },
    {
      "cell_type": "code",
      "execution_count": null,
      "metadata": {
        "collapsed": false
      },
      "outputs": [],
      "source": [
        "# \u0627\u0644\u0645\u0624\u0644\u0641\u0648\u0646: \u0645\u0637\u0648\u0631\u064a \u0633\u0643\u0627\u064a\u0644\u0631\u0646\n# \u0645\u0639\u0631\u0641 \u0627\u0644\u062a\u0631\u062e\u064a\u0635: BSD-3-Clause\n\nimport matplotlib.pyplot as plt\nimport numpy as np\n\nfrom sklearn import linear_model\n\n# \u0646\u0642\u0648\u0645 \u0628\u0625\u0646\u0634\u0627\u0621 20 \u0646\u0642\u0637\u0629\nnp.random.seed(0)\nX = np.r_[np.random.randn(10, 2) + [1, 1], np.random.randn(10, 2)]\ny = [1] * 10 + [-1] * 10\nsample_weight = 100 * np.abs(np.random.randn(20))\n# \u0648\u0646\u0639\u0637\u064a \u0648\u0632\u0646\u0627\u064b \u0623\u0643\u0628\u0631 \u0644\u0644\u0639\u064a\u0646\u0627\u062a \u0627\u0644\u0639\u0634\u0631 \u0627\u0644\u0623\u062e\u064a\u0631\u0629\nsample_weight[:10] *= 10\n\n# \u0631\u0633\u0645 \u0646\u0642\u0627\u0637 \u0627\u0644\u0628\u064a\u0627\u0646\u0627\u062a \u0627\u0644\u0645\u0631\u062c\u062d\u0629\nxx, yy = np.meshgrid(np.linspace(-4, 5, 500), np.linspace(-4, 5, 500))\nfig, ax = plt.subplots()\nax.scatter(\n    X[:, 0],\n    X[:, 1],\n    c=y,\n    s=sample_weight,\n    alpha=0.9,\n    cmap=plt.cm.bone,\n    edgecolor=\"black\",\n)\n\n# \u0645\u0644\u0627\u0621\u0645\u0629 \u0627\u0644\u0646\u0645\u0648\u0630\u062c \u063a\u064a\u0631 \u0627\u0644\u0645\u0631\u062c\u062d\nclf = linear_model.SGDClassifier(alpha=0.01, max_iter=100)\nclf.fit(X, y)\nZ = clf.decision_function(np.c_[xx.ravel(), yy.ravel()])\nZ = Z.reshape(xx.shape)\nno_weights = ax.contour(xx, yy, Z, levels=[0], linestyles=[\"solid\"])\n\n# \u0645\u0644\u0627\u0621\u0645\u0629 \u0627\u0644\u0646\u0645\u0648\u0630\u062c \u0627\u0644\u0645\u0631\u062c\u062d\nclf = linear_model.SGDClassifier(alpha=0.01, max_iter=100)\nclf.fit(X, y, sample_weight=sample_weight)\nZ = clf.decision_function(np.c_[xx.ravel(), yy.ravel()])\nZ = Z.reshape(xx.shape)\nsamples_weights = ax.contour(xx, yy, Z, levels=[0], linestyles=[\"dashed\"])\n\nno_weights_handles, _ = no_weights.legend_elements()\nweights_handles, _ = samples_weights.legend_elements()\nax.legend(\n    [no_weights_handles[0], weights_handles[0]],\n    [\"\u0628\u062f\u0648\u0646 \u0623\u0648\u0632\u0627\u0646\", \"\u0645\u0639 \u0627\u0644\u0623\u0648\u0632\u0627\u0646\"],\n    loc=\"lower left\",\n)\n\nax.set(xticks=(), yticks=())\nplt.show()"
      ]
    }
  ],
  "metadata": {
    "kernelspec": {
      "display_name": "Python 3",
      "language": "python",
      "name": "python3"
    },
    "language_info": {
      "codemirror_mode": {
        "name": "ipython",
        "version": 3
      },
      "file_extension": ".py",
      "mimetype": "text/x-python",
      "name": "python",
      "nbconvert_exporter": "python",
      "pygments_lexer": "ipython3",
      "version": "3.10.13"
    }
  },
  "nbformat": 4,
  "nbformat_minor": 0
}