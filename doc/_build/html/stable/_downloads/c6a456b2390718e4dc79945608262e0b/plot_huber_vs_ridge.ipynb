{
  "cells": [
    {
      "cell_type": "markdown",
      "metadata": {},
      "source": [
        "\n# \u0645\u0642\u0627\u0631\u0646\u0629 \u0628\u064a\u0646 HuberRegressor \u0648 Ridge \u0639\u0644\u0649 \u0645\u062c\u0645\u0648\u0639\u0629 \u0628\u064a\u0627\u0646\u0627\u062a \u062a\u062d\u062a\u0648\u064a \u0639\u0644\u0649 \u0642\u064a\u0645 \u0634\u0627\u0630\u0629 \u0642\u0648\u064a\u0629\n\n\u0642\u0645 \u0628\u0636\u0628\u0637 \u0646\u0645\u0648\u0630\u062c Ridge \u0648 HuberRegressor \u0639\u0644\u0649 \u0645\u062c\u0645\u0648\u0639\u0629 \u0628\u064a\u0627\u0646\u0627\u062a \u062a\u062d\u062a\u0648\u064a \u0639\u0644\u0649 \u0642\u064a\u0645 \u0634\u0627\u0630\u0629.\n\n\u064a\u0648\u0636\u062d \u0627\u0644\u0645\u062b\u0627\u0644 \u0623\u0646 \u0627\u0644\u062a\u0646\u0628\u0624\u0627\u062a \u0641\u064a \u0646\u0645\u0648\u0630\u062c Ridge \u062a\u062a\u0623\u062b\u0631 \u0628\u0634\u062f\u0629\n\u0628\u0627\u0644\u0642\u064a\u0645 \u0627\u0644\u0634\u0627\u0630\u0629 \u0627\u0644\u0645\u0648\u062c\u0648\u062f\u0629 \u0641\u064a \u0645\u062c\u0645\u0648\u0639\u0629 \u0627\u0644\u0628\u064a\u0627\u0646\u0627\u062a. \u0623\u0645\u0627 \u0646\u0645\u0648\u0630\u062c HuberRegressor \u0641\u0647\u0648 \u0623\u0642\u0644\n\u062a\u0623\u062b\u0631\u0627\u064b \u0628\u0627\u0644\u0642\u064a\u0645 \u0627\u0644\u0634\u0627\u0630\u0629 \u062d\u064a\u062b \u064a\u0633\u062a\u062e\u062f\u0645 \u062f\u0627\u0644\u0629 \u062e\u0633\u0627\u0631\u0629 \u062e\u0637\u064a\u0629 \u0644\u0647\u0630\u0647 \u0627\u0644\u0642\u064a\u0645.\n\u0645\u0639 \u0632\u064a\u0627\u062f\u0629 \u0645\u0639\u0627\u0645\u0644 \u0625\u0628\u0633\u064a\u0644\u0648\u0646 \u0641\u064a \u0646\u0645\u0648\u0630\u062c HuberRegressor\u060c \u062a\u0642\u062a\u0631\u0628 \u062f\u0627\u0644\u0629 \u0627\u0644\u0642\u0631\u0627\u0631\n\u0645\u0646 \u062a\u0644\u0643 \u0627\u0644\u062e\u0627\u0635\u0629 \u0628\u0646\u0645\u0648\u0630\u062c Ridge.\n"
      ]
    },
    {
      "cell_type": "code",
      "execution_count": null,
      "metadata": {
        "collapsed": false
      },
      "outputs": [],
      "source": [
        "# \u0627\u0644\u0645\u0624\u0644\u0641\u0648\u0646: \u0645\u0637\u0648\u0631\u064a \u0645\u0643\u062a\u0628\u0629 \u0633\u0627\u064a \u0643\u064a\u062a \u0644\u064a\u0631\u0646\n# \u0645\u0639\u0631\u0641 \u0627\u0644\u062a\u0631\u062e\u064a\u0635: BSD-3-Clause\n\nimport matplotlib.pyplot as plt\nimport numpy as np\n\nfrom sklearn.datasets import make_regression\nfrom sklearn.linear_model import HuberRegressor, Ridge\n\n# \u0625\u0646\u0634\u0627\u0621 \u0628\u064a\u0627\u0646\u0627\u062a \u062a\u062c\u0631\u064a\u0628\u064a\u0629.\nrng = np.random.RandomState(0)\nX, y = make_regression(\n    n_samples=20, n_features=1, random_state=0, noise=4.0, bias=100.0\n)\n\n# \u0625\u0636\u0627\u0641\u0629 \u0623\u0631\u0628\u0639 \u0642\u064a\u0645 \u0634\u0627\u0630\u0629 \u0642\u0648\u064a\u0629 \u0625\u0644\u0649 \u0645\u062c\u0645\u0648\u0639\u0629 \u0627\u0644\u0628\u064a\u0627\u0646\u0627\u062a.\nX_outliers = rng.normal(0, 0.5, size=(4, 1))\ny_outliers = rng.normal(0, 2.0, size=4)\nX_outliers[:2, :] += X.max() + X.mean() / 4.0\nX_outliers[2:, :] += X.min() - X.mean() / 4.0\ny_outliers[:2] += y.min() - y.mean() / 4.0\ny_outliers[2:] += y.max() + y.mean() / 4.0\nX = np.vstack((X, X_outliers))\ny = np.concatenate((y, y_outliers))\nplt.plot(X, y, \"b.\")\n\n# \u0636\u0628\u0637 \u0646\u0645\u0648\u0630\u062c HuberRegressor \u0639\u0644\u0649 \u0633\u0644\u0633\u0644\u0629 \u0645\u0646 \u0642\u064a\u0645 \u0625\u0628\u0633\u064a\u0644\u0648\u0646.\ncolors = [\"r-\", \"b-\", \"y-\", \"m-\"]\n\nx = np.linspace(X.min(), X.max(), 7)\nepsilon_values = [1, 1.5, 1.75, 1.9]\nfor k, epsilon in enumerate(epsilon_values):\n    huber = HuberRegressor(alpha=0.0, epsilon=epsilon)\n    huber.fit(X, y)\n    coef_ = huber.coef_ * x + huber.intercept_\n    plt.plot(x, coef_, colors[k], label=\"huber loss, %s\" % epsilon)\n\n# \u0636\u0628\u0637 \u0646\u0645\u0648\u0630\u062c Ridge \u0644\u0644\u0645\u0642\u0627\u0631\u0646\u0629 \u0645\u0639 \u0646\u0645\u0648\u0630\u062c HuberRegressor.\nridge = Ridge(alpha=0.0, random_state=0)\nridge.fit(X, y)\ncoef_ridge = ridge.coef_\ncoef_ = ridge.coef_ * x + ridge.intercept_\nplt.plot(x, coef_, \"g-\", label=\"ridge regression\")\n\nplt.title(\"\u0645\u0642\u0627\u0631\u0646\u0629 \u0628\u064a\u0646 HuberRegressor \u0648 Ridge\")\nplt.xlabel(\"X\")\nplt.ylabel(\"y\")\nplt.legend(loc=0)\nplt.show()"
      ]
    }
  ],
  "metadata": {
    "kernelspec": {
      "display_name": "Python 3",
      "language": "python",
      "name": "python3"
    },
    "language_info": {
      "codemirror_mode": {
        "name": "ipython",
        "version": 3
      },
      "file_extension": ".py",
      "mimetype": "text/x-python",
      "name": "python",
      "nbconvert_exporter": "python",
      "pygments_lexer": "ipython3",
      "version": "3.10.13"
    }
  },
  "nbformat": 4,
  "nbformat_minor": 0
}