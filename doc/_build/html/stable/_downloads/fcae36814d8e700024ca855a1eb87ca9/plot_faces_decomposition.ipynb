{
  "cells": [
    {
      "cell_type": "markdown",
      "metadata": {},
      "source": [
        "\n# \u062a\u062d\u0644\u064a\u0644\u0627\u062a \u0645\u062c\u0645\u0648\u0639\u0629 \u0628\u064a\u0627\u0646\u0627\u062a \u0627\u0644\u0648\u062c\u0648\u0647\n\n\u064a\u0637\u0628\u0642 \u0647\u0630\u0627 \u0627\u0644\u0645\u062b\u0627\u0644 \u0639\u0644\u0649 `olivetti_faces_dataset` \u0637\u0631\u0642\u064b\u0627 \u0645\u062e\u062a\u0644\u0641\u0629 \u0644\u062a\u062d\u0644\u064a\u0644 \u0627\u0644\u0645\u0635\u0641\u0648\u0641\u0629 \u063a\u064a\u0631 \u0627\u0644\u062e\u0627\u0636\u0639\u0629 \u0644\u0644\u0625\u0634\u0631\u0627\u0641 (\u062a\u0642\u0644\u064a\u0644 \u0627\u0644\u0623\u0628\u0639\u0627\u062f) \u0645\u0646 \u0627\u0644\u0648\u062d\u062f\u0629\n:mod:`sklearn.decomposition` (\u0627\u0646\u0638\u0631 \u0641\u0635\u0644 \u0627\u0644\u0648\u062b\u0627\u0626\u0642\n`decompositions`).\n\n\n- \u0627\u0644\u0645\u0624\u0644\u0641\u0648\u0646: Vlad Niculae, Alexandre Gramfort\n- \u0627\u0644\u062a\u0631\u062e\u064a\u0635: BSD 3 clause\n"
      ]
    },
    {
      "cell_type": "code",
      "execution_count": null,
      "metadata": {
        "collapsed": false
      },
      "outputs": [],
      "source": [
        "# Authors: The scikit-learn developers\n# SPDX-License-Identifier: BSD-3-Clause"
      ]
    },
    {
      "cell_type": "markdown",
      "metadata": {},
      "source": [
        "## \u0625\u0639\u062f\u0627\u062f \u0645\u062c\u0645\u0648\u0639\u0629 \u0627\u0644\u0628\u064a\u0627\u0646\u0627\u062a\n\n\u062a\u062d\u0645\u064a\u0644 \u0648\u0645\u0639\u0627\u0644\u062c\u0629 \u0645\u062c\u0645\u0648\u0639\u0629 \u0628\u064a\u0627\u0646\u0627\u062a \u0648\u062c\u0648\u0647 Olivetti.\n\n"
      ]
    },
    {
      "cell_type": "code",
      "execution_count": null,
      "metadata": {
        "collapsed": false
      },
      "outputs": [],
      "source": [
        "import logging\n\nimport matplotlib.pyplot as plt\nfrom numpy.random import RandomState\n\nfrom sklearn import cluster, decomposition\nfrom sklearn.datasets import fetch_olivetti_faces\n\nrng = RandomState(0)\n\n# \u0639\u0631\u0636 \u0633\u062c\u0644\u0627\u062a \u0627\u0644\u062a\u0642\u062f\u0645 \u0639\u0644\u0649 stdout\nlogging.basicConfig(level=logging.INFO,\n                    format=\"%(asctime)s %(levelname)s %(message)s\")\n\nfaces, _ = fetch_olivetti_faces(\n    return_X_y=True, shuffle=True, random_state=rng)\nn_samples, n_features = faces.shape\n\n# \u062a\u0648\u0633\u064a\u0637 \u0639\u0627\u0645 (\u0627\u0644\u062a\u0631\u0643\u064a\u0632 \u0639\u0644\u0649 \u0645\u064a\u0632\u0629 \u0648\u0627\u062d\u062f\u0629\u060c \u062a\u0648\u0633\u064a\u0637 \u062c\u0645\u064a\u0639 \u0627\u0644\u0639\u064a\u0646\u0627\u062a)\nfaces_centered = faces - faces.mean(axis=0)\n\n# \u062a\u0648\u0633\u064a\u0637 \u0645\u062d\u0644\u064a (\u0627\u0644\u062a\u0631\u0643\u064a\u0632 \u0639\u0644\u0649 \u0639\u064a\u0646\u0629 \u0648\u0627\u062d\u062f\u0629\u060c \u062a\u0648\u0633\u064a\u0637 \u062c\u0645\u064a\u0639 \u0627\u0644\u0645\u064a\u0632\u0627\u062a)\nfaces_centered -= faces_centered.mean(axis=1).reshape(n_samples, -1)\n\nprint(\"\u062a\u062a\u0643\u0648\u0646 \u0645\u062c\u0645\u0648\u0639\u0629 \u0627\u0644\u0628\u064a\u0627\u0646\u0627\u062a \u0645\u0646 %d \u0648\u062c\u0647\" % n_samples)"
      ]
    },
    {
      "cell_type": "markdown",
      "metadata": {},
      "source": [
        "\u062a\u0639\u0631\u064a\u0641 \u062f\u0627\u0644\u0629 \u0623\u0633\u0627\u0633\u064a\u0629 \u0644\u0631\u0633\u0645 \u0645\u0639\u0631\u0636 \u0627\u0644\u0648\u062c\u0648\u0647.\n\n"
      ]
    },
    {
      "cell_type": "code",
      "execution_count": null,
      "metadata": {
        "collapsed": false
      },
      "outputs": [],
      "source": [
        "n_row, n_col = 2, 3\nn_components = n_row * n_col\nimage_shape = (64, 64)\n\n\ndef plot_gallery(title, images, n_col=n_col, n_row=n_row, cmap=plt.cm.gray):\n    fig, axs = plt.subplots(\n        nrows=n_row,\n        ncols=n_col,\n        figsize=(2.0 * n_col, 2.3 * n_row),\n        facecolor=\"white\",\n        constrained_layout=True,\n    )\n    fig.set_constrained_layout_pads(w_pad=0.01, h_pad=0.02, hspace=0, wspace=0)\n    fig.set_edgecolor(\"black\")\n    fig.suptitle(title, size=16)\n    for ax, vec in zip(axs.flat, images):\n        vmax = max(vec.max(), -vec.min())\n        im = ax.imshow(\n            vec.reshape(image_shape),\n            cmap=cmap,\n            interpolation=\"nearest\",\n            vmin=-vmax,\n            vmax=vmax,\n        )\n        ax.axis(\"off\")\n\n    fig.colorbar(im, ax=axs, orientation=\"horizontal\",\n                 shrink=0.99, aspect=40, pad=0.01)\n    plt.show()"
      ]
    },
    {
      "cell_type": "markdown",
      "metadata": {},
      "source": [
        "\u0644\u0646\u0644\u0642\u0650 \u0646\u0638\u0631\u0629 \u0639\u0644\u0649 \u0628\u064a\u0627\u0646\u0627\u062a\u0646\u0627. \u064a\u0634\u064a\u0631 \u0627\u0644\u0644\u0648\u0646 \u0627\u0644\u0631\u0645\u0627\u062f\u064a \u0625\u0644\u0649 \u0627\u0644\u0642\u064a\u0645 \u0627\u0644\u0633\u0627\u0644\u0628\u0629\u060c\n\u0648\u064a\u0634\u064a\u0631 \u0627\u0644\u0644\u0648\u0646 \u0627\u0644\u0623\u0628\u064a\u0636 \u0625\u0644\u0649 \u0627\u0644\u0642\u064a\u0645 \u0627\u0644\u0645\u0648\u062c\u0628\u0629.\n\n"
      ]
    },
    {
      "cell_type": "code",
      "execution_count": null,
      "metadata": {
        "collapsed": false
      },
      "outputs": [],
      "source": [
        "plot_gallery(\"\u0648\u062c\u0648\u0647 \u0645\u0646 \u0645\u062c\u0645\u0648\u0639\u0629 \u0627\u0644\u0628\u064a\u0627\u0646\u0627\u062a\", faces_centered[:n_components])"
      ]
    },
    {
      "cell_type": "markdown",
      "metadata": {},
      "source": [
        "## \u0627\u0644\u062a\u062d\u0644\u064a\u0644\n\n\u062a\u0647\u064a\u0626\u0629 \u0645\u0642\u062f\u0631\u0627\u062a \u0645\u062e\u062a\u0644\u0641\u0629 \u0644\u0644\u062a\u062d\u0644\u064a\u0644 \u0648\u0645\u0644\u0627\u0621\u0645\u0629 \u0643\u0644 \u0645\u0646\u0647\u0627\n\u0639\u0644\u0649 \u062c\u0645\u064a\u0639 \u0627\u0644\u0635\u0648\u0631 \u0648\u0631\u0633\u0645 \u0628\u0639\u0636 \u0627\u0644\u0646\u062a\u0627\u0626\u062c. \u064a\u0633\u062a\u062e\u0631\u062c \u0643\u0644 \u0645\u0642\u062f\u0631\n6 \u0645\u0643\u0648\u0646\u0627\u062a \u0643\u0645\u062a\u062c\u0647\u0627\u062a $h \\in \\mathbb{R}^{4096}$.\n\u0644\u0642\u062f \u0639\u0631\u0636\u0646\u0627 \u0647\u0630\u0647 \u0627\u0644\u0645\u062a\u062c\u0647\u0627\u062a \u0641\u0642\u0637 \u0641\u064a \u062a\u0635\u0648\u0631 \u0633\u0647\u0644 \u0627\u0644\u0627\u0633\u062a\u062e\u062f\u0627\u0645 \u0643\u0635\u0648\u0631 64 \u00d7 64 \u0628\u0643\u0633\u0644.\n\n\u0627\u0642\u0631\u0623 \u0627\u0644\u0645\u0632\u064a\u062f \u0641\u064a `\u062f\u0644\u064a\u0644 \u0627\u0644\u0645\u0633\u062a\u062e\u062f\u0645 <decompositions>`.\n\n"
      ]
    },
    {
      "cell_type": "markdown",
      "metadata": {},
      "source": [
        "### \u0627\u0644\u0648\u062c\u0648\u0647 \u0627\u0644\u0630\u0627\u062a\u064a\u0629 - PCA \u0628\u0627\u0633\u062a\u062e\u062f\u0627\u0645 SVD \u0627\u0644\u0639\u0634\u0648\u0627\u0626\u064a\n\u062a\u0642\u0644\u064a\u0644 \u0627\u0644\u0623\u0628\u0639\u0627\u062f \u0627\u0644\u062e\u0637\u064a \u0628\u0627\u0633\u062a\u062e\u062f\u0627\u0645 \u062a\u062d\u0644\u064a\u0644 \u0627\u0644\u0642\u064a\u0645\u0629 \u0627\u0644\u0645\u0641\u0631\u062f\u0629 (SVD) \u0644\u0644\u0628\u064a\u0627\u0646\u0627\u062a\n\u0644\u0625\u0633\u0642\u0627\u0637\u0647\u0627 \u0625\u0644\u0649 \u0645\u0633\u0627\u062d\u0629 \u0630\u0627\u062a \u0623\u0628\u0639\u0627\u062f \u0623\u0642\u0644.\n\n\n<div class=\"alert alert-info\"><h4>Note</h4><p>\u064a\u0648\u0641\u0631 \u0645\u0642\u062f\u0631 \u0627\u0644\u0648\u062c\u0648\u0647 \u0627\u0644\u0630\u0627\u062a\u064a\u0629\u060c \u0639\u0628\u0631 :py:mod:`sklearn.decomposition.PCA`\u060c\n    \u0623\u064a\u0636\u064b\u0627 `noise_variance_` \u0639\u062f\u062f\u064a (\u0645\u062a\u0648\u0633\u0637 \u0627\u0644\u062a\u0628\u0627\u064a\u0646 \u0644\u0643\u0644 \u0628\u0643\u0633\u0644)\n    \u0627\u0644\u0630\u064a \u0644\u0627 \u064a\u0645\u0643\u0646 \u0639\u0631\u0636\u0647 \u0643\u0635\u0648\u0631\u0629.</p></div>\n\n"
      ]
    },
    {
      "cell_type": "code",
      "execution_count": null,
      "metadata": {
        "collapsed": false
      },
      "outputs": [],
      "source": [
        "pca_estimator = decomposition.PCA(\n    n_components=n_components, svd_solver=\"randomized\", whiten=True\n)\npca_estimator.fit(faces_centered)\nplot_gallery(\n    \"\u0627\u0644\u0648\u062c\u0648\u0647 \u0627\u0644\u0630\u0627\u062a\u064a\u0629 - PCA \u0628\u0627\u0633\u062a\u062e\u062f\u0627\u0645 SVD \u0627\u0644\u0639\u0634\u0648\u0627\u0626\u064a\", pca_estimator.components_[\n        :n_components]\n)"
      ]
    },
    {
      "cell_type": "markdown",
      "metadata": {},
      "source": [
        "### \u0627\u0644\u0645\u0643\u0648\u0646\u0627\u062a \u063a\u064a\u0631 \u0627\u0644\u0633\u0627\u0644\u0628\u0629 - NMF\n\n\u062a\u0642\u062f\u064a\u0631 \u0627\u0644\u0628\u064a\u0627\u0646\u0627\u062a \u0627\u0644\u0623\u0635\u0644\u064a\u0629 \u063a\u064a\u0631 \u0627\u0644\u0633\u0627\u0644\u0628\u0629 \u0643\u0646\u062a\u0627\u062c \u0644\u0645\u0635\u0641\u0648\u0641\u062a\u064a\u0646 \u063a\u064a\u0631 \u0633\u0627\u0644\u0628\u062a\u064a\u0646.\n\n"
      ]
    },
    {
      "cell_type": "code",
      "execution_count": null,
      "metadata": {
        "collapsed": false
      },
      "outputs": [],
      "source": [
        "nmf_estimator = decomposition.NMF(n_components=n_components, tol=5e-3)\nnmf_estimator.fit(faces)  # \u0645\u062c\u0645\u0648\u0639\u0629 \u0627\u0644\u0628\u064a\u0627\u0646\u0627\u062a \u0627\u0644\u0623\u0635\u0644\u064a\u0629 \u063a\u064a\u0631 \u0627\u0644\u0633\u0627\u0644\u0628\u0629\nplot_gallery(\"\u0627\u0644\u0645\u0643\u0648\u0646\u0627\u062a \u063a\u064a\u0631 \u0627\u0644\u0633\u0627\u0644\u0628\u0629 - NMF\",\n             nmf_estimator.components_[:n_components])"
      ]
    },
    {
      "cell_type": "markdown",
      "metadata": {},
      "source": [
        "### \u0627\u0644\u0645\u0643\u0648\u0646\u0627\u062a \u0627\u0644\u0645\u0633\u062a\u0642\u0644\u0629 - FastICA\n\u064a\u0641\u0635\u0644 \u062a\u062d\u0644\u064a\u0644 \u0627\u0644\u0645\u0643\u0648\u0646\u0627\u062a \u0627\u0644\u0645\u0633\u062a\u0642\u0644\u0629 \u0645\u062a\u062c\u0647\u0627\u062a \u0645\u062a\u0639\u062f\u062f\u0629 \u0627\u0644\u0645\u062a\u063a\u064a\u0631\u0627\u062a \u0625\u0644\u0649 \u0645\u0643\u0648\u0646\u0627\u062a \u0641\u0631\u0639\u064a\u0629 \u0645\u0636\u0627\u0641\u0629 \u0645\u0633\u062a\u0642\u0644\u0629 \u0625\u0644\u0649 \u0623\u0642\u0635\u0649 \u062d\u062f.\n\n"
      ]
    },
    {
      "cell_type": "code",
      "execution_count": null,
      "metadata": {
        "collapsed": false
      },
      "outputs": [],
      "source": [
        "ica_estimator = decomposition.FastICA(\n    n_components=n_components, max_iter=400, whiten=\"arbitrary-variance\", tol=15e-5\n)\nica_estimator.fit(faces_centered)\nplot_gallery(\n    \"\u0627\u0644\u0645\u0643\u0648\u0646\u0627\u062a \u0627\u0644\u0645\u0633\u062a\u0642\u0644\u0629 - FastICA\", ica_estimator.components_[:n_components]\n)"
      ]
    },
    {
      "cell_type": "markdown",
      "metadata": {},
      "source": [
        "### \u0627\u0644\u0645\u0643\u0648\u0646\u0627\u062a \u0627\u0644\u0645\u062a\u0646\u0627\u062b\u0631\u0629 - MiniBatchSparsePCA\n\n\u064a\u0633\u062a\u062e\u0631\u062c Mini-batch sparse PCA (:class:`~sklearn.decomposition.MiniBatchSparsePCA`)\n\u0645\u062c\u0645\u0648\u0639\u0629 \u0627\u0644\u0645\u0643\u0648\u0646\u0627\u062a \u0627\u0644\u0645\u062a\u0646\u0627\u062b\u0631\u0629 \u0627\u0644\u062a\u064a \u062a\u0639\u064a\u062f \u0628\u0646\u0627\u0621 \u0627\u0644\u0628\u064a\u0627\u0646\u0627\u062a \u0628\u0634\u0643\u0644 \u0623\u0641\u0636\u0644. \u0647\u0630\u0627 \u0627\u0644\u0645\u062a\u063a\u064a\u0631\n\u0623\u0633\u0631\u0639 \u0648\u0644\u0643\u0646\u0647 \u0623\u0642\u0644 \u062f\u0642\u0629 \u0645\u0646 :class:`~sklearn.decomposition.SparsePCA` \u0627\u0644\u0645\u0645\u0627\u062b\u0644.\n\n"
      ]
    },
    {
      "cell_type": "code",
      "execution_count": null,
      "metadata": {
        "collapsed": false
      },
      "outputs": [],
      "source": [
        "batch_pca_estimator = decomposition.MiniBatchSparsePCA(\n    n_components=n_components, alpha=0.1, max_iter=100, batch_size=3, random_state=rng\n)\nbatch_pca_estimator.fit(faces_centered)\nplot_gallery(\n    \"\u0627\u0644\u0645\u0643\u0648\u0646\u0627\u062a \u0627\u0644\u0645\u062a\u0646\u0627\u062b\u0631\u0629 - MiniBatchSparsePCA\",\n    batch_pca_estimator.components_[:n_components],\n)"
      ]
    },
    {
      "cell_type": "markdown",
      "metadata": {},
      "source": [
        "### \u062a\u0639\u0644\u0645 \u0627\u0644\u0642\u0627\u0645\u0648\u0633\n\n\u0627\u0641\u062a\u0631\u0627\u0636\u064a\u064b\u0627\u060c \u064a\u0642\u0648\u0645 :class:`~sklearn.decomposition.MiniBatchDictionaryLearning`\n\u0628\u062a\u0642\u0633\u064a\u0645 \u0627\u0644\u0628\u064a\u0627\u0646\u0627\u062a \u0625\u0644\u0649 \u0645\u062c\u0645\u0648\u0639\u0627\u062a \u0635\u063a\u064a\u0631\u0629 \u0648\u064a\u062d\u0633\u0646\u0647\u0627 \u0628\u0637\u0631\u064a\u0642\u0629 \u0645\u062a\u0635\u0644\u0629 \u0628\u0627\u0644\u0625\u0646\u062a\u0631\u0646\u062a\n\u0639\u0646 \u0637\u0631\u064a\u0642 \u0627\u0644\u062a\u062f\u0648\u064a\u0631 \u0639\u0644\u0649 \u0627\u0644\u0645\u062c\u0645\u0648\u0639\u0627\u062a \u0627\u0644\u0635\u063a\u064a\u0631\u0629 \u0644\u0639\u062f\u062f \u0627\u0644\u062a\u0643\u0631\u0627\u0631\u0627\u062a \u0627\u0644\u0645\u062d\u062f\u062f.\n\n"
      ]
    },
    {
      "cell_type": "code",
      "execution_count": null,
      "metadata": {
        "collapsed": false
      },
      "outputs": [],
      "source": [
        "batch_dict_estimator = decomposition.MiniBatchDictionaryLearning(\n    n_components=n_components, alpha=0.1, max_iter=50, batch_size=3, random_state=rng\n)\nbatch_dict_estimator.fit(faces_centered)\nplot_gallery(\"\u062a\u0639\u0644\u0645 \u0627\u0644\u0642\u0627\u0645\u0648\u0633\", batch_dict_estimator.components_[:n_components])"
      ]
    },
    {
      "cell_type": "markdown",
      "metadata": {},
      "source": [
        "### \u0645\u0631\u0627\u0643\u0632 \u0627\u0644\u062a\u062c\u0645\u064a\u0639 - MiniBatchKMeans\n\n:class:`sklearn.cluster.MiniBatchKMeans` \u0641\u0639\u0627\u0644 \u0645\u0646 \u0627\u0644\u0646\u0627\u062d\u064a\u0629 \u0627\u0644\u062d\u0633\u0627\u0628\u064a\u0629\n\u0648\u064a\u0646\u0641\u0630 \u0627\u0644\u062a\u0639\u0644\u0645 \u0639\u0628\u0631 \u0627\u0644\u0625\u0646\u062a\u0631\u0646\u062a \u0628\u0627\u0633\u062a\u062e\u062f\u0627\u0645 \u0637\u0631\u064a\u0642\u0629\n:meth:`~sklearn.cluster.MiniBatchKMeans.partial_fit`. \u0644\u0647\u0630\u0627 \u0627\u0644\u0633\u0628\u0628\n\u0642\u062f \u064a\u0643\u0648\u0646 \u0645\u0646 \u0627\u0644\u0645\u0641\u064a\u062f \u062a\u062d\u0633\u064a\u0646 \u0628\u0639\u0636 \u0627\u0644\u062e\u0648\u0627\u0631\u0632\u0645\u064a\u0627\u062a \u0627\u0644\u062a\u064a \u062a\u0633\u062a\u063a\u0631\u0642 \u0648\u0642\u062a\u064b\u0627 \u0637\u0648\u064a\u0644\u0627\u064b \u0628\u0627\u0633\u062a\u062e\u062f\u0627\u0645\n:class:`~sklearn.cluster.MiniBatchKMeans`.\n\n"
      ]
    },
    {
      "cell_type": "code",
      "execution_count": null,
      "metadata": {
        "collapsed": false
      },
      "outputs": [],
      "source": [
        "kmeans_estimator = cluster.MiniBatchKMeans(\n    n_clusters=n_components,\n    tol=1e-3,\n    batch_size=20,\n    max_iter=50,\n    random_state=rng,\n)\nkmeans_estimator.fit(faces_centered)\nplot_gallery(\n    \"\u0645\u0631\u0627\u0643\u0632 \u0627\u0644\u062a\u062c\u0645\u064a\u0639 - MiniBatchKMeans\",\n    kmeans_estimator.cluster_centers_[:n_components],\n)"
      ]
    },
    {
      "cell_type": "markdown",
      "metadata": {},
      "source": [
        "### \u0645\u0643\u0648\u0646\u0627\u062a \u062a\u062d\u0644\u064a\u0644 \u0627\u0644\u0639\u0648\u0627\u0645\u0644 - FA\n\n\u064a\u0634\u0628\u0647 :class:`~sklearn.decomposition.FactorAnalysis`\n:class:`~sklearn.decomposition.PCA` \u0648\u0644\u0643\u0646\u0647 \u064a\u062a\u0645\u064a\u0632 \u0628\u0646\u0645\u0630\u062c\u0629\n\u0627\u0644\u062a\u0628\u0627\u064a\u0646 \u0641\u064a \u0643\u0644 \u0627\u062a\u062c\u0627\u0647 \u0644\u0645\u0633\u0627\u062d\u0629 \u0627\u0644\u0625\u062f\u062e\u0627\u0644 \u0628\u0634\u0643\u0644 \u0645\u0633\u062a\u0642\u0644 (\u0636\u0648\u0636\u0627\u0621 \u063a\u064a\u0631 \u0645\u062a\u062c\u0627\u0646\u0633\u0629). \u0627\u0642\u0631\u0623 \u0627\u0644\u0645\u0632\u064a\u062f \u0641\u064a `\u062f\u0644\u064a\u0644 \u0627\u0644\u0645\u0633\u062a\u062e\u062f\u0645 <FA>`.\n\n"
      ]
    },
    {
      "cell_type": "code",
      "execution_count": null,
      "metadata": {
        "collapsed": false
      },
      "outputs": [],
      "source": [
        "fa_estimator = decomposition.FactorAnalysis(\n    n_components=n_components, max_iter=20)\nfa_estimator.fit(faces_centered)\nplot_gallery(\"\u062a\u062d\u0644\u064a\u0644 \u0627\u0644\u0639\u0648\u0627\u0645\u0644 (FA)\", fa_estimator.components_[:n_components])\n\n# --- Pixelwise variance\nplt.figure(figsize=(3.2, 3.6), facecolor=\"white\", tight_layout=True)\nvec = fa_estimator.noise_variance_\nvmax = max(vec.max(), -vec.min())\nplt.imshow(\n    vec.reshape(image_shape),\n    cmap=plt.cm.gray,\n    interpolation=\"nearest\",\n    vmin=-vmax,\n    vmax=vmax,\n)\nplt.axis(\"off\")\nplt.title(\"\u0627\u0644\u062a\u0628\u0627\u064a\u0646 \u0644\u0643\u0644 \u0628\u0643\u0633\u0644 \u0645\u0646 \\n \u062a\u062d\u0644\u064a\u0644 \u0627\u0644\u0639\u0648\u0627\u0645\u0644 (FA)\", size=16, wrap=True)\nplt.colorbar(orientation=\"horizontal\", shrink=0.8, pad=0.03)\nplt.show()"
      ]
    },
    {
      "cell_type": "markdown",
      "metadata": {},
      "source": [
        "## \u0627\u0644\u062a\u062d\u0644\u064a\u0644: \u062a\u0639\u0644\u0645 \u0627\u0644\u0642\u0627\u0645\u0648\u0633\n\n\u0641\u064a \u0627\u0644\u0642\u0633\u0645 \u0627\u0644\u062a\u0627\u0644\u064a\u060c \u062f\u0639\u0648\u0646\u0627 \u0646\u0641\u0643\u0631 \u0641\u064a `DictionaryLearning` \u0628\u0645\u0632\u064a\u062f \u0645\u0646 \u0627\u0644\u062f\u0642\u0629.\n\u062a\u0639\u0644\u0645 \u0627\u0644\u0642\u0627\u0645\u0648\u0633 \u0647\u0648 \u0645\u0634\u0643\u0644\u0629 \u062a\u0631\u0642\u0649 \u0625\u0644\u0649 \u0625\u064a\u062c\u0627\u062f \u062a\u0645\u062b\u064a\u0644 \u0645\u062a\u0646\u0627\u062b\u0631\n\u0644\u0628\u064a\u0627\u0646\u0627\u062a \u0627\u0644\u0625\u062f\u062e\u0627\u0644 \u0643\u0645\u0632\u064a\u062c \u0645\u0646 \u0627\u0644\u0639\u0646\u0627\u0635\u0631 \u0627\u0644\u0628\u0633\u064a\u0637\u0629. \u062a\u0634\u0643\u0644 \u0647\u0630\u0647 \u0627\u0644\u0639\u0646\u0627\u0635\u0631 \u0627\u0644\u0628\u0633\u064a\u0637\u0629\n\u0642\u0627\u0645\u0648\u0633\u064b\u0627. \u0645\u0646 \u0627\u0644\u0645\u0645\u0643\u0646 \u062a\u0642\u064a\u064a\u062f \u0627\u0644\u0642\u0627\u0645\u0648\u0633 \u0648/\u0623\u0648 \u0645\u0639\u0627\u0645\u0644\u0627\u062a \u0627\u0644\u062a\u0631\u0645\u064a\u0632\n\u0644\u062a\u0643\u0648\u0646 \u0645\u0648\u062c\u0628\u0629 \u0644\u062a\u062a\u0646\u0627\u0633\u0628 \u0645\u0639 \u0627\u0644\u0642\u064a\u0648\u062f \u0627\u0644\u062a\u064a \u0642\u062f \u062a\u0643\u0648\u0646 \u0645\u0648\u062c\u0648\u062f\u0629 \u0641\u064a \u0627\u0644\u0628\u064a\u0627\u0646\u0627\u062a.\n\n\u064a\u0646\u0641\u0630 :class:`~sklearn.decomposition.MiniBatchDictionaryLearning` \u0646\u0633\u062e\u0629\n\u0623\u0633\u0631\u0639\u060c \u0648\u0644\u0643\u0646 \u0623\u0642\u0644 \u062f\u0642\u0629 \u0645\u0646 \u062e\u0648\u0627\u0631\u0632\u0645\u064a\u0629 \u062a\u0639\u0644\u0645 \u0627\u0644\u0642\u0627\u0645\u0648\u0633\n\u0648\u0647\u064a \u0623\u0643\u062b\u0631 \u0645\u0644\u0627\u0621\u0645\u0629 \u0644\u0645\u062c\u0645\u0648\u0639\u0627\u062a \u0627\u0644\u0628\u064a\u0627\u0646\u0627\u062a \u0627\u0644\u0643\u0628\u064a\u0631\u0629. \u0627\u0642\u0631\u0623 \u0627\u0644\u0645\u0632\u064a\u062f \u0641\u064a `\u062f\u0644\u064a\u0644 \u0627\u0644\u0645\u0633\u062a\u062e\u062f\u0645\n<MiniBatchDictionaryLearning>`.\n\n"
      ]
    },
    {
      "cell_type": "markdown",
      "metadata": {},
      "source": [
        "\u0627\u0631\u0633\u0645 \u0646\u0641\u0633 \u0627\u0644\u0639\u064a\u0646\u0627\u062a \u0645\u0646 \u0645\u062c\u0645\u0648\u0639\u0629 \u0627\u0644\u0628\u064a\u0627\u0646\u0627\u062a \u0627\u0644\u062e\u0627\u0635\u0629 \u0628\u0646\u0627 \u0648\u0644\u0643\u0646 \u0628\u0627\u0633\u062a\u062e\u062f\u0627\u0645 \u062e\u0631\u064a\u0637\u0629 \u0623\u0644\u0648\u0627\u0646 \u0623\u062e\u0631\u0649.\n\u064a\u0634\u064a\u0631 \u0627\u0644\u0644\u0648\u0646 \u0627\u0644\u0623\u062d\u0645\u0631 \u0625\u0644\u0649 \u0627\u0644\u0642\u064a\u0645 \u0627\u0644\u0633\u0627\u0644\u0628\u0629\u060c \u0648\u064a\u0634\u064a\u0631 \u0627\u0644\u0644\u0648\u0646 \u0627\u0644\u0623\u0632\u0631\u0642 \u0625\u0644\u0649 \u0627\u0644\u0642\u064a\u0645 \u0627\u0644\u0645\u0648\u062c\u0628\u0629\u060c\n\u0648\u064a\u0645\u062b\u0644 \u0627\u0644\u0644\u0648\u0646 \u0627\u0644\u0623\u0628\u064a\u0636 \u0627\u0644\u0623\u0635\u0641\u0627\u0631.\n\n"
      ]
    },
    {
      "cell_type": "code",
      "execution_count": null,
      "metadata": {
        "collapsed": false
      },
      "outputs": [],
      "source": [
        "plot_gallery(\"\u0648\u062c\u0648\u0647 \u0645\u0646 \u0645\u062c\u0645\u0648\u0639\u0629 \u0627\u0644\u0628\u064a\u0627\u0646\u0627\u062a\",\n             faces_centered[:n_components], cmap=plt.cm.RdBu)"
      ]
    },
    {
      "cell_type": "markdown",
      "metadata": {},
      "source": [
        "\u0639\u0644\u0649 \u063a\u0631\u0627\u0631 \u0627\u0644\u0623\u0645\u062b\u0644\u0629 \u0627\u0644\u0633\u0627\u0628\u0642\u0629\u060c \u0646\u0642\u0648\u0645 \u0628\u062a\u063a\u064a\u064a\u0631 \u0627\u0644\u0645\u0639\u0644\u0645\u0627\u062a \u0648\u062a\u062f\u0631\u064a\u0628\n\u0645\u0642\u062f\u0631 :class:`~sklearn.decomposition.MiniBatchDictionaryLearning` \u0639\u0644\u0649 \u062c\u0645\u064a\u0639\n\u0627\u0644\u0635\u0648\u0631. \u0628\u0634\u0643\u0644 \u0639\u0627\u0645\u060c \u064a\u0642\u0648\u0645 \u062a\u0639\u0644\u0645 \u0627\u0644\u0642\u0627\u0645\u0648\u0633 \u0648\u0627\u0644\u062a\u0631\u0645\u064a\u0632 \u0627\u0644\u0645\u062a\u0646\u0627\u062b\u0631\n\u0628\u062a\u062d\u0644\u064a\u0644 \u0628\u064a\u0627\u0646\u0627\u062a \u0627\u0644\u0625\u062f\u062e\u0627\u0644 \u0625\u0644\u0649 \u0645\u0635\u0641\u0648\u0641\u0627\u062a \u0627\u0644\u0642\u0627\u0645\u0648\u0633 \u0648\u0645\u0639\u0627\u0645\u0644\u0627\u062a \u0627\u0644\u062a\u0631\u0645\u064a\u0632. $X\n\\approx UV$\u060c \u062d\u064a\u062b $X = [x_1, . . . , x_n]$\u060c $X \\in\n\\mathbb{R}^{m\u00d7n}$\u060c \u0642\u0627\u0645\u0648\u0633 $U \\in \\mathbb{R}^{m\u00d7k}$\u060c \u0645\u0639\u0627\u0645\u0644\u0627\u062a \u0627\u0644\u062a\u0631\u0645\u064a\u0632\n$V \\in \\mathbb{R}^{k\u00d7n}$.\n\n\u062a\u0638\u0647\u0631 \u0623\u062f\u0646\u0627\u0647 \u0623\u064a\u0636\u064b\u0627 \u0627\u0644\u0646\u062a\u0627\u0626\u062c \u0639\u0646\u062f\u0645\u0627 \u064a\u0643\u0648\u0646 \u0627\u0644\u0642\u0627\u0645\u0648\u0633 \u0648\u0645\u0639\u0627\u0645\u0644\u0627\u062a \u0627\u0644\u062a\u0631\u0645\u064a\u0632\n\u0645\u0642\u064a\u062f\u0629 \u0628\u0634\u0643\u0644 \u0625\u064a\u062c\u0627\u0628\u064a.\n\n"
      ]
    },
    {
      "cell_type": "markdown",
      "metadata": {},
      "source": [
        "### \u062a\u0639\u0644\u0645 \u0627\u0644\u0642\u0627\u0645\u0648\u0633 - \u0642\u0627\u0645\u0648\u0633 \u0625\u064a\u062c\u0627\u0628\u064a\n\n\u0641\u064a \u0627\u0644\u0642\u0633\u0645 \u0627\u0644\u062a\u0627\u0644\u064a\u060c \u0646\u0641\u0631\u0636 \u0627\u0644\u0625\u064a\u062c\u0627\u0628\u064a\u0629 \u0639\u0646\u062f \u0625\u064a\u062c\u0627\u062f \u0627\u0644\u0642\u0627\u0645\u0648\u0633.\n\n"
      ]
    },
    {
      "cell_type": "code",
      "execution_count": null,
      "metadata": {
        "collapsed": false
      },
      "outputs": [],
      "source": [
        "dict_pos_dict_estimator = decomposition.MiniBatchDictionaryLearning(\n    n_components=n_components,\n    alpha=0.1,\n    max_iter=50,\n    batch_size=3,\n    random_state=rng,\n    positive_dict=True,\n)\ndict_pos_dict_estimator.fit(faces_centered)\nplot_gallery(\n    \"\u062a\u0639\u0644\u0645 \u0627\u0644\u0642\u0627\u0645\u0648\u0633 - \u0642\u0627\u0645\u0648\u0633 \u0625\u064a\u062c\u0627\u0628\u064a\",\n    dict_pos_dict_estimator.components_[:n_components],\n    cmap=plt.cm.RdBu,\n)"
      ]
    },
    {
      "cell_type": "markdown",
      "metadata": {},
      "source": [
        "### \u062a\u0639\u0644\u0645 \u0627\u0644\u0642\u0627\u0645\u0648\u0633 - \u0631\u0645\u0632 \u0625\u064a\u062c\u0627\u0628\u064a\n\n\u0623\u062f\u0646\u0627\u0647 \u0646\u0642\u064a\u062f \u0645\u0639\u0627\u0645\u0644\u0627\u062a \u0627\u0644\u062a\u0631\u0645\u064a\u0632 \u0643\u0645\u0635\u0641\u0648\u0641\u0629 \u0645\u0648\u062c\u0628\u0629.\n\n"
      ]
    },
    {
      "cell_type": "code",
      "execution_count": null,
      "metadata": {
        "collapsed": false
      },
      "outputs": [],
      "source": [
        "dict_pos_code_estimator = decomposition.MiniBatchDictionaryLearning(\n    n_components=n_components,\n    alpha=0.1,\n    max_iter=50,\n    batch_size=3,\n    fit_algorithm=\"cd\",\n    random_state=rng,\n    positive_code=True,\n)\ndict_pos_code_estimator.fit(faces_centered)\nplot_gallery(\n    \"\u062a\u0639\u0644\u0645 \u0627\u0644\u0642\u0627\u0645\u0648\u0633 - \u0631\u0645\u0632 \u0625\u064a\u062c\u0627\u0628\u064a\",\n    dict_pos_code_estimator.components_[:n_components],\n    cmap=plt.cm.RdBu,\n)"
      ]
    },
    {
      "cell_type": "markdown",
      "metadata": {},
      "source": [
        "### \u062a\u0639\u0644\u0645 \u0627\u0644\u0642\u0627\u0645\u0648\u0633 - \u0642\u0627\u0645\u0648\u0633 \u0648\u0631\u0645\u0632 \u0625\u064a\u062c\u0627\u0628\u064a\u0627\u0646\n\n\u062a\u0638\u0647\u0631 \u0623\u062f\u0646\u0627\u0647 \u0623\u064a\u0636\u064b\u0627 \u0627\u0644\u0646\u062a\u0627\u0626\u062c \u0625\u0630\u0627 \u0643\u0627\u0646\u062a \u0642\u064a\u0645 \u0627\u0644\u0642\u0627\u0645\u0648\u0633 \u0648\u0645\u0639\u0627\u0645\u0644\u0627\u062a \u0627\u0644\u062a\u0631\u0645\u064a\u0632\n\u0645\u0642\u064a\u062f\u0629 \u0628\u0634\u0643\u0644 \u0625\u064a\u062c\u0627\u0628\u064a.\n\n"
      ]
    },
    {
      "cell_type": "code",
      "execution_count": null,
      "metadata": {
        "collapsed": false
      },
      "outputs": [],
      "source": [
        "dict_pos_estimator = decomposition.MiniBatchDictionaryLearning(\n    n_components=n_components,\n    alpha=0.1,\n    max_iter=50,\n    batch_size=3,\n    fit_algorithm=\"cd\",\n    random_state=rng,\n    positive_dict=True,\n    positive_code=True,\n)\ndict_pos_estimator.fit(faces_centered)\nplot_gallery(\n    \"\u062a\u0639\u0644\u0645 \u0627\u0644\u0642\u0627\u0645\u0648\u0633 - \u0642\u0627\u0645\u0648\u0633 \u0648\u0631\u0645\u0632 \u0625\u064a\u062c\u0627\u0628\u064a\u0627\u0646\",\n    dict_pos_estimator.components_[:n_components],\n    cmap=plt.cm.RdBu,\n)"
      ]
    }
  ],
  "metadata": {
    "kernelspec": {
      "display_name": "Python 3",
      "language": "python",
      "name": "python3"
    },
    "language_info": {
      "codemirror_mode": {
        "name": "ipython",
        "version": 3
      },
      "file_extension": ".py",
      "mimetype": "text/x-python",
      "name": "python",
      "nbconvert_exporter": "python",
      "pygments_lexer": "ipython3",
      "version": "3.10.13"
    }
  },
  "nbformat": 4,
  "nbformat_minor": 0
}