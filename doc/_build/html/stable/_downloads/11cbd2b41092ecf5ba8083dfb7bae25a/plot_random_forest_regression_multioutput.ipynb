{
  "cells": [
    {
      "cell_type": "markdown",
      "metadata": {},
      "source": [
        "\n# \u0645\u0642\u0627\u0631\u0646\u0629 \u0627\u0644\u063a\u0627\u0628\u0627\u062a \u0627\u0644\u0639\u0634\u0648\u0627\u0626\u064a\u0629 \u0648\u0645\u0642\u062f\u0631 \u0627\u0644\u0645\u062e\u0631\u062c\u0627\u062a \u0627\u0644\u0645\u062a\u0639\u062f\u062f\u0629 \u0627\u0644\u062a\u0644\u0648\u064a\n\n\u0645\u062b\u0627\u0644 \u0644\u0645\u0642\u0627\u0631\u0646\u0629 \u0627\u0646\u062d\u062f\u0627\u0631 \u0627\u0644\u0645\u062e\u0631\u062c\u0627\u062a \u0627\u0644\u0645\u062a\u0639\u062f\u062f\u0629 \u0645\u0639 \u0627\u0644\u063a\u0627\u0628\u0629 \u0627\u0644\u0639\u0634\u0648\u0627\u0626\u064a\u0629\n\u0648\u0627\u0644\u0645\u0642\u062f\u0631 \u0627\u0644\u062a\u0644\u0648\u064a `multioutput.MultiOutputRegressor <multiclass>`.\n\n\u064a\u0648\u0636\u062d \u0647\u0630\u0627 \u0627\u0644\u0645\u062b\u0627\u0644 \u0627\u0633\u062a\u062e\u062f\u0627\u0645 \u0627\u0644\u0645\u0642\u062f\u0631 \u0627\u0644\u062a\u0644\u0648\u064a\n`multioutput.MultiOutputRegressor <multiclass>`\n\u0644\u0625\u062c\u0631\u0627\u0621 \u0627\u0646\u062d\u062f\u0627\u0631 \u0645\u062a\u0639\u062f\u062f \u0627\u0644\u0645\u062e\u0631\u062c\u0627\u062a. \u064a\u062a\u0645 \u0627\u0633\u062a\u062e\u062f\u0627\u0645 \u0645\u064f\u0646\u062d\u062f\u0650\u0631 \u063a\u0627\u0628\u0629 \u0639\u0634\u0648\u0627\u0626\u064a\u0629\u060c\n\u0648\u0627\u0644\u0630\u064a \u064a\u062f\u0639\u0645 \u0627\u0646\u062d\u062f\u0627\u0631 \u0627\u0644\u0645\u062e\u0631\u062c\u0627\u062a \u0627\u0644\u0645\u062a\u0639\u062f\u062f\u0629 \u0623\u0635\u0644\u0627\u064b\u060c \u0628\u062d\u064a\u062b \u064a\u0645\u0643\u0646 \u0645\u0642\u0627\u0631\u0646\u0629 \u0627\u0644\u0646\u062a\u0627\u0626\u062c.\n\n\u0644\u0646 \u064a\u062a\u0646\u0628\u0623 \u0645\u064f\u0646\u062d\u062f\u0650\u0631 \u0627\u0644\u063a\u0627\u0628\u0629 \u0627\u0644\u0639\u0634\u0648\u0627\u0626\u064a\u0629 \u0625\u0644\u0627 \u0628\u0627\u0644\u0642\u064a\u0645 \u0636\u0645\u0646 \u0646\u0637\u0627\u0642\n\u0627\u0644\u0645\u0644\u0627\u062d\u0638\u0627\u062a \u0623\u0648 \u0627\u0644\u0623\u0642\u0631\u0628 \u0625\u0644\u0649 \u0627\u0644\u0635\u0641\u0631 \u0644\u0643\u0644 \u0647\u062f\u0641. \u0646\u062a\u064a\u062c\u0629 \u0644\u0630\u0644\u0643\u060c \u064a\u0643\u0648\u0646\n\u0627\u0644\u062a\u0646\u0628\u0624 \u0645\u062a\u062d\u064a\u0632\u064b\u0627 \u0646\u062d\u0648 \u0645\u0631\u0643\u0632 \u0627\u0644\u062f\u0627\u0626\u0631\u0629.\n\n\u0628\u0627\u0633\u062a\u062e\u062f\u0627\u0645 \u0645\u064a\u0632\u0629 \u0623\u0633\u0627\u0633\u064a\u0629 \u0648\u0627\u062d\u062f\u0629\u060c \u064a\u062a\u0639\u0644\u0645 \u0627\u0644\u0646\u0645\u0648\u0630\u062c \u0643\u0644\u0627\u064b \u0645\u0646 \u0625\u062d\u062f\u0627\u062b\u064a\u0627\u062a\nx \u0648 y \u0643\u0645\u062e\u0631\u062c\u0627\u062a.\n"
      ]
    },
    {
      "cell_type": "code",
      "execution_count": null,
      "metadata": {
        "collapsed": false
      },
      "outputs": [],
      "source": [
        "# Authors: The scikit-learn developers\n# SPDX-License-Identifier: BSD-3-Clause\n\nimport matplotlib.pyplot as plt\nimport numpy as np\n\nfrom sklearn.ensemble import RandomForestRegressor\nfrom sklearn.model_selection import train_test_split\nfrom sklearn.multioutput import MultiOutputRegressor\n\n# \u0625\u0646\u0634\u0627\u0621 \u0645\u062c\u0645\u0648\u0639\u0629 \u0628\u064a\u0627\u0646\u0627\u062a \u0639\u0634\u0648\u0627\u0626\u064a\u0629\nrng = np.random.RandomState(1)\nX = np.sort(200 * rng.rand(600, 1) - 100, axis=0)\ny = np.array([np.pi * np.sin(X).ravel(), np.pi * np.cos(X).ravel()]).T\ny += 0.5 - rng.rand(*y.shape)\n\nX_train, X_test, y_train, y_test = train_test_split(\n    X, y, train_size=400, test_size=200, random_state=4\n)\n\nmax_depth = 30\nregr_multirf = MultiOutputRegressor(\n    RandomForestRegressor(n_estimators=100, max_depth=max_depth, random_state=0)\n)\nregr_multirf.fit(X_train, y_train)\n\nregr_rf = RandomForestRegressor(n_estimators=100, max_depth=max_depth, random_state=2)\nregr_rf.fit(X_train, y_train)\n\n# \u0627\u0644\u062a\u0646\u0628\u0624 \u0628\u0628\u064a\u0627\u0646\u0627\u062a \u062c\u062f\u064a\u062f\u0629\ny_multirf = regr_multirf.predict(X_test)\ny_rf = regr_rf.predict(X_test)\n\n# \u0631\u0633\u0645 \u0627\u0644\u0646\u062a\u0627\u0626\u062c\nplt.figure()\ns = 50\na = 0.4\nplt.scatter(\n    y_test[:, 0],\n    y_test[:, 1],\n    edgecolor=\"k\",\n    c=\"navy\",\n    s=s,\n    marker=\"s\",\n    alpha=a,\n    label=\"\u0627\u0644\u0628\u064a\u0627\u0646\u0627\u062a\",\n)\nplt.scatter(\n    y_multirf[:, 0],\n    y_multirf[:, 1],\n    edgecolor=\"k\",\n    c=\"cornflowerblue\",\n    s=s,\n    alpha=a,\n    label=\"\u0646\u062a\u064a\u062c\u0629 Multi RF=%.2f\" % regr_multirf.score(X_test, y_test),\n)\nplt.scatter(\n    y_rf[:, 0],\n    y_rf[:, 1],\n    edgecolor=\"k\",\n    c=\"c\",\n    s=s,\n    marker=\"^\",\n    alpha=a,\n    label=\"\u0646\u062a\u064a\u062c\u0629 RF=%.2f\" % regr_rf.score(X_test, y_test),\n)\nplt.xlim([-6, 6])\nplt.ylim([-6, 6])\nplt.xlabel(\"\u0627\u0644\u0647\u062f\u0641 1\")\nplt.ylabel(\"\u0627\u0644\u0647\u062f\u0641 2\")\nplt.title(\"\u0645\u0642\u0627\u0631\u0646\u0629 \u0627\u0644\u063a\u0627\u0628\u0627\u062a \u0627\u0644\u0639\u0634\u0648\u0627\u0626\u064a\u0629 \u0648\u0645\u0642\u062f\u0631 \u0627\u0644\u0645\u062e\u0631\u062c\u0627\u062a \u0627\u0644\u0645\u062a\u0639\u062f\u062f\u0629 \u0627\u0644\u062a\u0644\u0648\u064a\")\nplt.legend()\nplt.show()"
      ]
    }
  ],
  "metadata": {
    "kernelspec": {
      "display_name": "Python 3",
      "language": "python",
      "name": "python3"
    },
    "language_info": {
      "codemirror_mode": {
        "name": "ipython",
        "version": 3
      },
      "file_extension": ".py",
      "mimetype": "text/x-python",
      "name": "python",
      "nbconvert_exporter": "python",
      "pygments_lexer": "ipython3",
      "version": "3.10.13"
    }
  },
  "nbformat": 4,
  "nbformat_minor": 0
}