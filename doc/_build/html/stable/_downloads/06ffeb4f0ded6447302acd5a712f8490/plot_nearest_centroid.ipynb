{
  "cells": [
    {
      "cell_type": "markdown",
      "metadata": {},
      "source": [
        "\n# \u062a\u0635\u0646\u064a\u0641 \u0623\u0642\u0631\u0628 \u0645\u0631\u0643\u0632\n\n\u0627\u0633\u062a\u062e\u062f\u0627\u0645 \u0639\u064a\u0646\u0629 \u0644\u062a\u0635\u0646\u064a\u0641 \u0623\u0642\u0631\u0628 \u0645\u0631\u0643\u0632.\n\u0633\u064a\u0642\u0648\u0645 \u0628\u0631\u0633\u0645 \u062d\u062f\u0648\u062f \u0627\u0644\u0642\u0631\u0627\u0631 \u0644\u0643\u0644 \u0641\u0626\u0629.\n"
      ]
    },
    {
      "cell_type": "code",
      "execution_count": null,
      "metadata": {
        "collapsed": false
      },
      "outputs": [],
      "source": [
        "# \u0627\u0644\u0645\u0624\u0644\u0641\u0648\u0646: \u0645\u0637\u0648\u0631\u064a \u0633\u0643\u0627\u064a\u0644\u0631\u0646\n# \u0645\u0639\u0631\u0641 \u0627\u0644\u062a\u0631\u062e\u064a\u0635: BSD-3-Clause\n\nimport matplotlib.pyplot as plt\nimport numpy as np\nfrom matplotlib.colors import ListedColormap\n\nfrom sklearn import datasets\nfrom sklearn.inspection import DecisionBoundaryDisplay\nfrom sklearn.neighbors import NearestCentroid\n\n# \u0627\u0633\u062a\u064a\u0631\u0627\u062f \u0628\u0639\u0636 \u0627\u0644\u0628\u064a\u0627\u0646\u0627\u062a \u0644\u0644\u062a\u062c\u0631\u0628\u0629\niris = datasets.load_iris()\n# \u0646\u0623\u062e\u0630 \u0641\u0642\u0637 \u0623\u0648\u0644 \u0645\u064a\u0632\u062a\u064a\u0646. \u064a\u0645\u0643\u0646\u0646\u0627 \u062a\u062c\u0646\u0628 \u0647\u0630\u0627 \u0627\u0644\u062a\u0642\u0637\u064a\u0639 \u063a\u064a\u0631 \u0627\u0644\u0645\u0646\u0627\u0633\u0628\n# \u0628\u0627\u0633\u062a\u062e\u062f\u0627\u0645 \u0645\u062c\u0645\u0648\u0639\u0629 \u0628\u064a\u0627\u0646\u0627\u062a \u062b\u0646\u0627\u0626\u064a\u0629 \u0627\u0644\u0623\u0628\u0639\u0627\u062f\nX = iris.data[:, :2]\ny = iris.target\n\n# \u0625\u0646\u0634\u0627\u0621 \u062e\u0631\u0627\u0626\u0637 \u0627\u0644\u0623\u0644\u0648\u0627\u0646\ncmap_light = ListedColormap([\"orange\", \"cyan\", \"cornflowerblue\"])\ncmap_bold = ListedColormap([\"darkorange\", \"c\", \"darkblue\"])\n\nfor shrinkage in [None, 0.2]:\n    # \u0646\u0646\u0634\u0626 \u0645\u062b\u0627\u0644\u0627\u064b \u0644\u062a\u0635\u0646\u064a\u0641 \u0623\u0642\u0631\u0628 \u0645\u0631\u0643\u0632 \u0648\u0646\u0642\u0648\u0645 \u0628\u0636\u0628\u0637 \u0627\u0644\u0628\u064a\u0627\u0646\u0627\u062a.\n    clf = NearestCentroid(shrink_threshold=shrinkage)\n    clf.fit(X, y)\n    y_pred = clf.predict(X)\n    print(shrinkage, np.mean(y == y_pred))\n\n    _, ax = plt.subplots()\n    DecisionBoundaryDisplay.from_estimator(\n        clf, X, cmap=cmap_light, ax=ax, response_method=\"predict\"\n    )\n\n    # \u0631\u0633\u0645 \u0646\u0642\u0627\u0637 \u0627\u0644\u062a\u062f\u0631\u064a\u0628 \u0623\u064a\u0636\u064b\u0627\n    plt.scatter(X[:, 0], X[:, 1], c=y, cmap=cmap_bold, edgecolor=\"k\", s=20)\n    plt.title(\"\u062a\u0635\u0646\u064a\u0641 \u0645\u0646 3 \u0641\u0626\u0627\u062a (shrink_threshold=%r)\" % shrinkage)\n    plt.axis(\"tight\")\n\nplt.show()"
      ]
    }
  ],
  "metadata": {
    "kernelspec": {
      "display_name": "Python 3",
      "language": "python",
      "name": "python3"
    },
    "language_info": {
      "codemirror_mode": {
        "name": "ipython",
        "version": 3
      },
      "file_extension": ".py",
      "mimetype": "text/x-python",
      "name": "python",
      "nbconvert_exporter": "python",
      "pygments_lexer": "ipython3",
      "version": "3.10.13"
    }
  },
  "nbformat": 4,
  "nbformat_minor": 0
}