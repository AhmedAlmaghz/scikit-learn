{
  "cells": [
    {
      "cell_type": "markdown",
      "metadata": {},
      "source": [
        "\n# \u062a\u0642\u062f\u064a\u0645 \u0648\u0627\u062c\u0647\u0629 \u0628\u0631\u0645\u062c\u0629 \u0627\u0644\u062a\u0637\u0628\u064a\u0642\u0627\u062a `set_output`\n\n.. currentmodule:: sklearn\n\n\u0647\u0630\u0627 \u0627\u0644\u0645\u062b\u0627\u0644 \u0633\u064a\u0648\u0636\u062d \u0648\u0627\u062c\u0647\u0629 \u0628\u0631\u0645\u062c\u0629 \u0627\u0644\u062a\u0637\u0628\u064a\u0642\u0627\u062a `set_output` \u0644\u062a\u0643\u0648\u064a\u0646 \u0627\u0644\u0645\u062d\u0648\u0644\u0627\u062a \u0644\u0625\u062e\u0631\u0627\u062c \u0625\u0637\u0627\u0631\u0627\u062a \u0628\u064a\u0627\u0646\u0627\u062a \u0628\u0627\u0646\u062f\u0627. \u064a\u0645\u0643\u0646 \u062a\u0643\u0648\u064a\u0646 `set_output` \u0644\u0643\u0644 \u0645\u0642\u062f\u0631 \u0639\u0646 \u0637\u0631\u064a\u0642 \u0627\u0633\u062a\u062f\u0639\u0627\u0621 \u0637\u0631\u064a\u0642\u0629 `set_output` \u0623\u0648 \u0628\u0634\u0643\u0644 \u0639\u0627\u0645 \u0639\u0646 \u0637\u0631\u064a\u0642 \u062a\u0639\u064a\u064a\u0646 `set_config(transform_output=\"pandas\")`. \u0644\u0644\u062d\u0635\u0648\u0644 \u0639\u0644\u0649 \u0627\u0644\u062a\u0641\u0627\u0635\u064a\u0644\u060c \u0631\u0627\u062c\u0639 [SLEP018](https://scikit-learn-enhancement-proposals.readthedocs.io/en/latest/slep018/proposal.html)_.\n"
      ]
    },
    {
      "cell_type": "markdown",
      "metadata": {},
      "source": [
        "\u0623\u0648\u0644\u0627\u064b\u060c \u0646\u0642\u0648\u0645 \u0628\u062a\u062d\u0645\u064a\u0644 \u0645\u062c\u0645\u0648\u0639\u0629 \u0628\u064a\u0627\u0646\u0627\u062a \u0625\u064a\u0631\u064a\u0633 \u0643\u0625\u0637\u0627\u0631 \u0628\u064a\u0627\u0646\u0627\u062a \u0644\u0625\u0638\u0647\u0627\u0631 \u0648\u0627\u062c\u0647\u0629 \u0628\u0631\u0645\u062c\u0629 \u0627\u0644\u062a\u0637\u0628\u064a\u0642\u0627\u062a `set_output`.\n\n"
      ]
    },
    {
      "cell_type": "code",
      "execution_count": null,
      "metadata": {
        "collapsed": false
      },
      "outputs": [],
      "source": [
        "from sklearn.datasets import load_iris\nfrom sklearn.model_selection import train_test_split\n\nX, y = load_iris(as_frame=True, return_X_y=True)\nX_train, X_test, y_train, y_test = train_test_split(X, y, stratify=y, random_state=0)\nX_train.head()"
      ]
    },
    {
      "cell_type": "markdown",
      "metadata": {},
      "source": [
        "\u0644\u062a\u0643\u0648\u064a\u0646 \u0645\u0642\u062f\u0631 \u0645\u062b\u0644 :class:`preprocessing.StandardScaler` \u0644\u0625\u0631\u062c\u0627\u0639\n\u0625\u0637\u0627\u0631\u0627\u062a \u0627\u0644\u0628\u064a\u0627\u0646\u0627\u062a\u060c \u0627\u0633\u062a\u062f\u0639 `set_output`. \u062a\u062a\u0637\u0644\u0628 \u0647\u0630\u0647 \u0627\u0644\u0645\u064a\u0632\u0629 \u062a\u062b\u0628\u064a\u062a \u0628\u0627\u0646\u062f\u0627.\n\n"
      ]
    },
    {
      "cell_type": "code",
      "execution_count": null,
      "metadata": {
        "collapsed": false
      },
      "outputs": [],
      "source": [
        "from sklearn.preprocessing import StandardScaler\n\nscaler = StandardScaler().set_output(transform=\"pandas\")\n\nscaler.fit(X_train)\nX_test_scaled = scaler.transform(X_test)\nX_test_scaled.head()"
      ]
    },
    {
      "cell_type": "markdown",
      "metadata": {},
      "source": [
        "\u064a\u0645\u0643\u0646 \u0627\u0633\u062a\u062f\u0639\u0627\u0621 `set_output` \u0628\u0639\u062f `fit` \u0644\u062a\u0643\u0648\u064a\u0646 `transform` \u0628\u0639\u062f \u0630\u0644\u0643.\n\n"
      ]
    },
    {
      "cell_type": "code",
      "execution_count": null,
      "metadata": {
        "collapsed": false
      },
      "outputs": [],
      "source": [
        "scaler2 = StandardScaler()\n\nscaler2.fit(X_train)\nX_test_np = scaler2.transform(X_test)\nprint(f\"\u0646\u0648\u0639 \u0627\u0644\u0625\u062e\u0631\u0627\u062c \u0627\u0644\u0627\u0641\u062a\u0631\u0627\u0636\u064a: {type(X_test_np).__name__}\")\n\nscaler2.set_output(transform=\"pandas\")\nX_test_df = scaler2.transform(X_test)\nprint(f\"\u0646\u0648\u0639 \u0627\u0644\u0625\u062e\u0631\u0627\u062c \u0627\u0644\u0645\u064f\u0647\u064a\u0623 \u0645\u0646 \u0628\u0627\u0646\u062f\u0627: {type(X_test_df).__name__}\")"
      ]
    },
    {
      "cell_type": "markdown",
      "metadata": {},
      "source": [
        "\u0641\u064a :class:`pipeline.Pipeline`\u060c \u064a\u0642\u0648\u0645 `set_output` \u0628\u062a\u0643\u0648\u064a\u0646 \u062c\u0645\u064a\u0639 \u0627\u0644\u062e\u0637\u0648\u0627\u062a \u0644\u0625\u062e\u0631\u0627\u062c\n\u0625\u0637\u0627\u0631\u0627\u062a \u0627\u0644\u0628\u064a\u0627\u0646\u0627\u062a.\n\n"
      ]
    },
    {
      "cell_type": "code",
      "execution_count": null,
      "metadata": {
        "collapsed": false
      },
      "outputs": [],
      "source": [
        "from sklearn.feature_selection import SelectPercentile\nfrom sklearn.linear_model import LogisticRegression\nfrom sklearn.pipeline import make_pipeline\n\nclf = make_pipeline(\n    StandardScaler(), SelectPercentile(percentile=75), LogisticRegression()\n)\nclf.set_output(transform=\"pandas\")\nclf.fit(X_train, y_train)"
      ]
    },
    {
      "cell_type": "markdown",
      "metadata": {},
      "source": [
        "\u064a\u062a\u0645 \u062a\u0643\u0648\u064a\u0646 \u0643\u0644 \u0645\u062d\u0648\u0644 \u0641\u064a \u062e\u0637 \u0627\u0644\u0623\u0646\u0627\u0628\u064a\u0628 \u0644\u0625\u0631\u062c\u0627\u0639 \u0625\u0637\u0627\u0631\u0627\u062a \u0627\u0644\u0628\u064a\u0627\u0646\u0627\u062a. \u0647\u0630\u0627\n\u064a\u0639\u0646\u064a \u0623\u0646 \u062e\u0637\u0648\u0629 \u0627\u0644\u0627\u0646\u062d\u062f\u0627\u0631 \u0627\u0644\u0644\u0648\u062c\u0633\u062a\u064a \u0627\u0644\u0646\u0647\u0627\u0626\u064a \u062a\u062d\u062a\u0648\u064a \u0639\u0644\u0649 \u0623\u0633\u0645\u0627\u0621 \u0645\u064a\u0632\u0627\u062a \u0627\u0644\u0625\u062f\u062e\u0627\u0644.\n\n"
      ]
    },
    {
      "cell_type": "code",
      "execution_count": null,
      "metadata": {
        "collapsed": false
      },
      "outputs": [],
      "source": [
        "clf[-1].feature_names_in_"
      ]
    },
    {
      "cell_type": "markdown",
      "metadata": {},
      "source": [
        "<div class=\"alert alert-info\"><h4>Note</h4><p>\u0625\u0630\u0627 \u0627\u0633\u062a\u062e\u062f\u0645 \u0627\u0644\u0645\u0631\u0621 \u0637\u0631\u064a\u0642\u0629 `set_params`\u060c \u0641\u0633\u064a\u062a\u0645 \u0627\u0633\u062a\u0628\u062f\u0627\u0644 \u0627\u0644\u0645\u062d\u0648\u0644\n   \u0628\u0622\u062e\u0631 \u0628\u062a\u0646\u0633\u064a\u0642 \u0627\u0644\u0625\u062e\u0631\u0627\u062c \u0627\u0644\u0627\u0641\u062a\u0631\u0627\u0636\u064a.</p></div>\n\n"
      ]
    },
    {
      "cell_type": "code",
      "execution_count": null,
      "metadata": {
        "collapsed": false
      },
      "outputs": [],
      "source": [
        "clf.set_params(standardscaler=StandardScaler())\nclf.fit(X_train, y_train)\nclf[-1].feature_names_in_"
      ]
    },
    {
      "cell_type": "markdown",
      "metadata": {},
      "source": [
        "\u0644\u0644\u062d\u0641\u0627\u0638 \u0639\u0644\u0649 \u0627\u0644\u0633\u0644\u0648\u0643 \u0627\u0644\u0645\u0642\u0635\u0648\u062f\u060c \u0627\u0633\u062a\u062e\u062f\u0645 `set_output` \u0639\u0644\u0649 \u0627\u0644\u0645\u062d\u0648\u0644 \u0627\u0644\u062c\u062f\u064a\u062f\n\u0645\u0633\u0628\u0642\u0627\u064b\n\n"
      ]
    },
    {
      "cell_type": "code",
      "execution_count": null,
      "metadata": {
        "collapsed": false
      },
      "outputs": [],
      "source": [
        "scaler = StandardScaler().set_output(transform=\"pandas\")\nclf.set_params(standardscaler=scaler)\nclf.fit(X_train, y_train)\nclf[-1].feature_names_in_"
      ]
    },
    {
      "cell_type": "markdown",
      "metadata": {},
      "source": [
        "\u0628\u0639\u062f \u0630\u0644\u0643\u060c \u0646\u0642\u0648\u0645 \u0628\u062a\u062d\u0645\u064a\u0644 \u0645\u062c\u0645\u0648\u0639\u0629 \u0628\u064a\u0627\u0646\u0627\u062a \u062a\u064a\u062a\u0627\u0646\u064a\u0643 \u0644\u0625\u0638\u0647\u0627\u0631 `set_output` \u0645\u0639\n:class:`compose.ColumnTransformer` \u0648\u0627\u0644\u0628\u064a\u0627\u0646\u0627\u062a \u063a\u064a\u0631 \u0627\u0644\u0645\u062a\u062c\u0627\u0646\u0633\u0629.\n\n"
      ]
    },
    {
      "cell_type": "code",
      "execution_count": null,
      "metadata": {
        "collapsed": false
      },
      "outputs": [],
      "source": [
        "from sklearn.datasets import fetch_openml\n\nX, y = fetch_openml(\"titanic\", version=1, as_frame=True, return_X_y=True)\nX_train, X_test, y_train, y_test = train_test_split(X, y, stratify=y)"
      ]
    },
    {
      "cell_type": "markdown",
      "metadata": {},
      "source": [
        "\u064a\u0645\u0643\u0646 \u062a\u0643\u0648\u064a\u0646 \u0648\u0627\u062c\u0647\u0629 \u0628\u0631\u0645\u062c\u0629 \u0627\u0644\u062a\u0637\u0628\u064a\u0642\u0627\u062a `set_output` \u0628\u0634\u0643\u0644 \u0639\u0627\u0645 \u0628\u0627\u0633\u062a\u062e\u062f\u0627\u0645 :func:`set_config` \u0648\n\u062a\u0639\u064a\u064a\u0646 `transform_output` \u0625\u0644\u0649 `\"pandas\"`.\n\n"
      ]
    },
    {
      "cell_type": "code",
      "execution_count": null,
      "metadata": {
        "collapsed": false
      },
      "outputs": [],
      "source": [
        "from sklearn import set_config\nfrom sklearn.compose import ColumnTransformer\nfrom sklearn.impute import SimpleImputer\nfrom sklearn.preprocessing import OneHotEncoder, StandardScaler\n\nset_config(transform_output=\"pandas\")\n\nnum_pipe = make_pipeline(SimpleImputer(), StandardScaler())\nnum_cols = [\"age\", \"fare\"]\nct = ColumnTransformer(\n    (\n        (\"numerical\", num_pipe, num_cols),\n        (\n            \"categorical\",\n            OneHotEncoder(\n                sparse_output=False, drop=\"if_binary\", handle_unknown=\"ignore\"\n            ),\n            [\"embarked\", \"sex\", \"pclass\"],\n        ),\n    ),\n    verbose_feature_names_out=False,\n)\nclf = make_pipeline(ct, SelectPercentile(percentile=50), LogisticRegression())\nclf.fit(X_train, y_train)\nclf.score(X_test, y_test)"
      ]
    },
    {
      "cell_type": "markdown",
      "metadata": {},
      "source": [
        "\u0645\u0639 \u0627\u0644\u062a\u0647\u064a\u0626\u0629 \u0627\u0644\u0639\u0627\u0645\u0629\u060c \u062a\u062e\u0631\u062c \u062c\u0645\u064a\u0639 \u0627\u0644\u0645\u062d\u0648\u0644\u0627\u062a \u0625\u0637\u0627\u0631\u0627\u062a \u0628\u064a\u0627\u0646\u0627\u062a. \u0647\u0630\u0627 \u064a\u0633\u0645\u062d \u0644\u0646\u0627\n\u0628\u0633\u0647\u0648\u0644\u0629 \u0631\u0633\u0645 \u0645\u0639\u0627\u0645\u0644\u0627\u062a \u0627\u0644\u0627\u0646\u062d\u062f\u0627\u0631 \u0627\u0644\u0644\u0648\u062c\u0633\u062a\u064a \u0645\u0639 \u0623\u0633\u0645\u0627\u0621 \u0627\u0644\u0645\u064a\u0632\u0627\u062a \u0627\u0644\u0645\u0642\u0627\u0628\u0644\u0629.\n\n"
      ]
    },
    {
      "cell_type": "code",
      "execution_count": null,
      "metadata": {
        "collapsed": false
      },
      "outputs": [],
      "source": [
        "import pandas as pd\n\nlog_reg = clf[-1]\ncoef = pd.Series(log_reg.coef_.ravel(), index=log_reg.feature_names_in_)\n_ = coef.sort_values().plot.barh()"
      ]
    },
    {
      "cell_type": "markdown",
      "metadata": {},
      "source": [
        "\u0645\u0646 \u0623\u062c\u0644 \u062a\u0648\u0636\u064a\u062d \u0648\u0638\u064a\u0641\u0629 :func:`config_context` \u0623\u062f\u0646\u0627\u0647\u060c \u062f\u0639\u0646\u0627\n\u0623\u0648\u0644\u0627\u064b \u0625\u0639\u0627\u062f\u0629 \u062a\u0639\u064a\u064a\u0646 `transform_output` \u0625\u0644\u0649 \u0642\u064a\u0645\u062a\u0647 \u0627\u0644\u0627\u0641\u062a\u0631\u0627\u0636\u064a\u0629.\n\n"
      ]
    },
    {
      "cell_type": "code",
      "execution_count": null,
      "metadata": {
        "collapsed": false
      },
      "outputs": [],
      "source": [
        "set_config(transform_output=\"default\")"
      ]
    },
    {
      "cell_type": "markdown",
      "metadata": {},
      "source": [
        "\u0639\u0646\u062f \u062a\u0643\u0648\u064a\u0646 \u0646\u0648\u0639 \u0627\u0644\u0625\u062e\u0631\u0627\u062c \u0628\u0627\u0633\u062a\u062e\u062f\u0627\u0645 :func:`config_context` \u0641\u0625\u0646\n\u0627\u0644\u062a\u0647\u064a\u0626\u0629 \u0641\u064a \u0627\u0644\u0648\u0642\u062a \u0627\u0644\u0630\u064a \u064a\u062a\u0645 \u0641\u064a\u0647 \u0627\u0633\u062a\u062f\u0639\u0627\u0621 `transform` \u0623\u0648 `fit_transform` \u0647\u064a \u0645\u0627 \u064a\u0647\u0645. \u062a\u0639\u064a\u064a\u0646 \u0647\u0630\u0647 \u0641\u0642\u0637 \u0639\u0646\u062f \u0625\u0646\u0634\u0627\u0621 \u0623\u0648 \u062a\u0643\u064a\u064a\u0641\n\u0627\u0644\u0645\u062d\u0648\u0644 \u0644\u064a\u0633 \u0644\u0647 \u0623\u064a \u062a\u0623\u062b\u064a\u0631.\n\n"
      ]
    },
    {
      "cell_type": "code",
      "execution_count": null,
      "metadata": {
        "collapsed": false
      },
      "outputs": [],
      "source": [
        "from sklearn import config_context\n\nscaler = StandardScaler()\nscaler.fit(X_train[num_cols])"
      ]
    },
    {
      "cell_type": "code",
      "execution_count": null,
      "metadata": {
        "collapsed": false
      },
      "outputs": [],
      "source": [
        "with config_context(transform_output=\"pandas\"):\n    # \u0633\u064a\u0643\u0648\u0646 \u0625\u062e\u0631\u0627\u062c \u0627\u0644\u062a\u062d\u0648\u064a\u0644 \u0625\u0637\u0627\u0631 \u0628\u064a\u0627\u0646\u0627\u062a \u0628\u0627\u0646\u062f\u0627\n    X_test_scaled = scaler.transform(X_test[num_cols])\nX_test_scaled.head()"
      ]
    },
    {
      "cell_type": "markdown",
      "metadata": {},
      "source": [
        "\u062e\u0627\u0631\u062c \u0645\u062f\u064a\u0631 \u0627\u0644\u0633\u064a\u0627\u0642\u060c \u0633\u064a\u0643\u0648\u0646 \u0627\u0644\u0625\u062e\u0631\u0627\u062c \u0645\u0635\u0641\u0648\u0641\u0629 \u0646\u0648\u0645\u0628\u064a\n\n"
      ]
    },
    {
      "cell_type": "code",
      "execution_count": null,
      "metadata": {
        "collapsed": false
      },
      "outputs": [],
      "source": [
        "X_test_scaled = scaler.transform(X_test[num_cols])\nX_test_scaled[:5]"
      ]
    }
  ],
  "metadata": {
    "kernelspec": {
      "display_name": "Python 3",
      "language": "python",
      "name": "python3"
    },
    "language_info": {
      "codemirror_mode": {
        "name": "ipython",
        "version": 3
      },
      "file_extension": ".py",
      "mimetype": "text/x-python",
      "name": "python",
      "nbconvert_exporter": "python",
      "pygments_lexer": "ipython3",
      "version": "3.10.13"
    }
  },
  "nbformat": 4,
  "nbformat_minor": 0
}