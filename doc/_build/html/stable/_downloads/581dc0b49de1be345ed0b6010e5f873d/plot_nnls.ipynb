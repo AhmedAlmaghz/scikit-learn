{
  "cells": [
    {
      "cell_type": "markdown",
      "metadata": {},
      "source": [
        "\n# \u0645\u0631\u0628\u0639\u0627\u062a \u0623\u0642\u0644 \u063a\u064a\u0631 \u0633\u0627\u0644\u0628\u0629\n\n\u0641\u064a \u0647\u0630\u0627 \u0627\u0644\u0645\u062b\u0627\u0644\u060c \u0646\u0642\u0648\u0645 \u0628\u0645\u0644\u0627\u0621\u0645\u0629 \u0646\u0645\u0648\u0630\u062c \u062e\u0637\u064a \u0645\u0639 \u0642\u064a\u0648\u062f \u0625\u064a\u062c\u0627\u0628\u064a\u0629 \u0639\u0644\u0649\n\u0645\u0639\u0627\u0645\u0644\u0627\u062a \u0627\u0644\u0627\u0646\u062d\u062f\u0627\u0631 \u0648\u0645\u0642\u0627\u0631\u0646\u0629 \u0627\u0644\u0645\u0639\u0627\u0645\u0644\u0627\u062a \u0627\u0644\u0645\u0642\u062f\u0631\u0629 \u0645\u0639 \u0627\u0644\u0627\u0646\u062d\u062f\u0627\u0631 \u0627\u0644\u062e\u0637\u064a \u0627\u0644\u0643\u0644\u0627\u0633\u064a\u0643\u064a.\n"
      ]
    },
    {
      "cell_type": "code",
      "execution_count": null,
      "metadata": {
        "collapsed": false
      },
      "outputs": [],
      "source": [
        "# \u0627\u0644\u0645\u0624\u0644\u0641\u0648\u0646: \u0645\u0637\u0648\u0631\u064a \u0633\u0643\u0627\u064a\u0644\u0631\u0646\n# \u0645\u0639\u0631\u0641 \u0627\u0644\u062a\u0631\u062e\u064a\u0635: BSD-3-Clause\n\nimport matplotlib.pyplot as plt\nimport numpy as np\n\nfrom sklearn.metrics import r2_score"
      ]
    },
    {
      "cell_type": "markdown",
      "metadata": {},
      "source": [
        "\u062a\u0648\u0644\u064a\u062f \u0628\u0639\u0636 \u0627\u0644\u0628\u064a\u0627\u0646\u0627\u062a \u0627\u0644\u0639\u0634\u0648\u0627\u0626\u064a\u0629\n\n"
      ]
    },
    {
      "cell_type": "code",
      "execution_count": null,
      "metadata": {
        "collapsed": false
      },
      "outputs": [],
      "source": [
        "np.random.seed(42)\n\nn_samples, n_features = 200, 50\nX = np.random.randn(n_samples, n_features)\ntrue_coef = 3 * np.random.randn(n_features)\n# \u0639\u062a\u0628\u0629 \u0627\u0644\u0645\u0639\u0627\u0645\u0644\u0627\u062a \u0644\u062c\u0639\u0644\u0647\u0627 \u063a\u064a\u0631 \u0633\u0627\u0644\u0628\u0629\ntrue_coef[true_coef < 0] = 0\ny = np.dot(X, true_coef)\n\n# \u0625\u0636\u0627\u0641\u0629 \u0628\u0639\u0636 \u0627\u0644\u0636\u0648\u0636\u0627\u0621\ny += 5 * np.random.normal(size=(n_samples,))"
      ]
    },
    {
      "cell_type": "markdown",
      "metadata": {},
      "source": [
        "\u062a\u0642\u0633\u064a\u0645 \u0627\u0644\u0628\u064a\u0627\u0646\u0627\u062a \u0625\u0644\u0649 \u0645\u062c\u0645\u0648\u0639\u0629 \u062a\u062f\u0631\u064a\u0628 \u0648\u0645\u062c\u0645\u0648\u0639\u0629 \u0627\u062e\u062a\u0628\u0627\u0631\n\n"
      ]
    },
    {
      "cell_type": "code",
      "execution_count": null,
      "metadata": {
        "collapsed": false
      },
      "outputs": [],
      "source": [
        "from sklearn.model_selection import train_test_split\n\nX_train, X_test, y_train, y_test = train_test_split(X, y, test_size=0.5)"
      ]
    },
    {
      "cell_type": "markdown",
      "metadata": {},
      "source": [
        "\u0645\u0644\u0627\u0621\u0645\u0629 \u0627\u0644\u0645\u0631\u0628\u0639\u0627\u062a \u0627\u0644\u0623\u0642\u0644 \u063a\u064a\u0631 \u0627\u0644\u0633\u0627\u0644\u0628\u0629.\n\n"
      ]
    },
    {
      "cell_type": "code",
      "execution_count": null,
      "metadata": {
        "collapsed": false
      },
      "outputs": [],
      "source": [
        "from sklearn.linear_model import LinearRegression\n\nreg_nnls = LinearRegression(positive=True)\ny_pred_nnls = reg_nnls.fit(X_train, y_train).predict(X_test)\nr2_score_nnls = r2_score(y_test, y_pred_nnls)\nprint(\"NNLS R2 score\", r2_score_nnls)"
      ]
    },
    {
      "cell_type": "markdown",
      "metadata": {},
      "source": [
        "\u0645\u0644\u0627\u0621\u0645\u0629 OLS.\n\n"
      ]
    },
    {
      "cell_type": "code",
      "execution_count": null,
      "metadata": {
        "collapsed": false
      },
      "outputs": [],
      "source": [
        "reg_ols = LinearRegression()\ny_pred_ols = reg_ols.fit(X_train, y_train).predict(X_test)\nr2_score_ols = r2_score(y_test, y_pred_ols)\nprint(\"OLS R2 score\", r2_score_ols)"
      ]
    },
    {
      "cell_type": "markdown",
      "metadata": {},
      "source": [
        "\u0639\u0646\u062f \u0645\u0642\u0627\u0631\u0646\u0629 \u0645\u0639\u0627\u0645\u0644\u0627\u062a \u0627\u0644\u0627\u0646\u062d\u062f\u0627\u0631 \u0628\u064a\u0646 OLS \u0648 NNLS\u060c \u064a\u0645\u0643\u0646\u0646\u0627 \u0645\u0644\u0627\u062d\u0638\u0629\n\u0623\u0646\u0647\u0627 \u0645\u0631\u062a\u0628\u0637\u0629 \u0627\u0631\u062a\u0628\u0627\u0637\u064b\u0627 \u0648\u062b\u064a\u0642\u064b\u0627 (\u0627\u0644\u062e\u0637 \u0627\u0644\u0645\u062a\u0642\u0637\u0639 \u0647\u0648 \u0639\u0644\u0627\u0642\u0629 \u0627\u0644\u0647\u0648\u064a\u0629)\u060c\n\u0648\u0644\u0643\u0646 \u0627\u0644\u0642\u064a\u0648\u062f \u063a\u064a\u0631 \u0627\u0644\u0633\u0627\u0644\u0628\u0629 \u062a\u0642\u0644\u0635 \u0628\u0639\u0636\u0647\u0627 \u0625\u0644\u0649 0.\n\u0627\u0644\u0645\u0631\u0628\u0639\u0627\u062a \u0627\u0644\u0623\u0642\u0644 \u063a\u064a\u0631 \u0627\u0644\u0633\u0627\u0644\u0628\u0629 \u062a\u0639\u0637\u064a \u0646\u062a\u0627\u0626\u062c \u0645\u062a\u0641\u0631\u0642\u0629 \u0628\u0634\u0643\u0644 \u0645\u062a\u0623\u0635\u0644.\n\n"
      ]
    },
    {
      "cell_type": "code",
      "execution_count": null,
      "metadata": {
        "collapsed": false
      },
      "outputs": [],
      "source": [
        "fig, ax = plt.subplots()\nax.plot(reg_ols.coef_, reg_nnls.coef_, linewidth=0, marker=\".\")\n\nlow_x, high_x = ax.get_xlim()\nlow_y, high_y = ax.get_ylim()\nlow = max(low_x, low_y)\nhigh = min(high_x, high_y)\nax.plot([low, high], [low, high], ls=\"--\", c=\".3\", alpha=0.5)\nax.set_xlabel(\"\u0645\u0639\u0627\u0645\u0644\u0627\u062a \u0627\u0644\u0627\u0646\u062d\u062f\u0627\u0631 OLS\", fontweight=\"bold\")\nax.set_ylabel(\"\u0645\u0639\u0627\u0645\u0644\u0627\u062a \u0627\u0644\u0627\u0646\u062d\u062f\u0627\u0631 NNLS\", fontweight=\"bold\")"
      ]
    }
  ],
  "metadata": {
    "kernelspec": {
      "display_name": "Python 3",
      "language": "python",
      "name": "python3"
    },
    "language_info": {
      "codemirror_mode": {
        "name": "ipython",
        "version": 3
      },
      "file_extension": ".py",
      "mimetype": "text/x-python",
      "name": "python",
      "nbconvert_exporter": "python",
      "pygments_lexer": "ipython3",
      "version": "3.10.13"
    }
  },
  "nbformat": 4,
  "nbformat_minor": 0
}