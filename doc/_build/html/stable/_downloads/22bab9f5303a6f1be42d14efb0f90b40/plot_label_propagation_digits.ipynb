{
  "cells": [
    {
      "cell_type": "markdown",
      "metadata": {},
      "source": [
        "\n# \u0646\u0634\u0631 \u0627\u0644\u0639\u0644\u0627\u0645\u0627\u062a \u0639\u0644\u0649 \u0627\u0644\u0623\u0631\u0642\u0627\u0645: \u062a\u0648\u0636\u064a\u062d \u0627\u0644\u0623\u062f\u0627\u0621\n\n\u064a\u0648\u0636\u062d \u0647\u0630\u0627 \u0627\u0644\u0645\u062b\u0627\u0644 \u0642\u0648\u0629 \u0627\u0644\u062a\u0639\u0644\u0645 \u0634\u0628\u0647 \u0627\u0644\u0645\u064f\u0634\u0631\u0641 \u0645\u0646 \u062e\u0644\u0627\u0644\n\u062a\u062f\u0631\u064a\u0628 \u0646\u0645\u0648\u0630\u062c \u0646\u0634\u0631 \u0627\u0644\u0639\u0644\u0627\u0645\u0627\u062a \u0644\u062a\u0635\u0646\u064a\u0641 \u0627\u0644\u0623\u0631\u0642\u0627\u0645 \u0627\u0644\u0645\u0643\u062a\u0648\u0628\u0629 \u0628\u062e\u0637 \u0627\u0644\u064a\u062f\n\u0628\u0627\u0633\u062a\u062e\u062f\u0627\u0645 \u0645\u062c\u0645\u0648\u0639\u0627\u062a \u0630\u0627\u062a \u0639\u062f\u062f \u0642\u0644\u064a\u0644 \u062c\u062f\u064b\u0627 \u0645\u0646 \u0627\u0644\u0639\u0644\u0627\u0645\u0627\u062a.\n\n\u064a\u062d\u062a\u0648\u064a \u0645\u062c\u0645\u0648\u0639\u0629 \u0627\u0644\u0628\u064a\u0627\u0646\u0627\u062a \u0644\u0644\u0623\u0631\u0642\u0627\u0645 \u0627\u0644\u0645\u0643\u062a\u0648\u0628\u0629 \u0628\u062e\u0637 \u0627\u0644\u064a\u062f \u0639\u0644\u0649 1797 \u0646\u0642\u0637\u0629 \u0625\u062c\u0645\u0627\u0644\u064a\u0629. \u0633\u064a\u062a\u0645\n\u062a\u062f\u0631\u064a\u0628 \u0627\u0644\u0646\u0645\u0648\u0630\u062c\n\u0628\u0627\u0633\u062a\u062e\u062f\u0627\u0645 \u062c\u0645\u064a\u0639 \u0627\u0644\u0646\u0642\u0627\u0637\u060c \u0648\u0644\u0643\u0646 \u0633\u064a\u062a\u0645 \u0648\u0636\u0639 \u0639\u0644\u0627\u0645\u0627\u062a \u0639\u0644\u0649 30 \u0646\u0642\u0637\u0629 \u0641\u0642\u0637. \u0633\u062a\u0643\u0648\u0646 \u0627\u0644\u0646\u062a\u0627\u0626\u062c\n\u0639\u0644\u0649 \u0634\u0643\u0644 \u0645\u0635\u0641\u0648\u0641\u0629 \u0627\u0631\u062a\u0628\u0627\u0643 \u0648\u0633\u0644\u0633\u0644\u0629 \u0645\u0646 \u0627\u0644\u0645\u0642\u0627\u064a\u064a\u0633 \u0639\u0628\u0631 \u0643\u0644\n\u0641\u0626\u0629 \u0633\u062a\u0643\u0648\u0646 \u062c\u064a\u062f\u0629 \u062c\u062f\u064b\u0627.\n\n\u0641\u064a \u0627\u0644\u0646\u0647\u0627\u064a\u0629\u060c \u0633\u064a\u062a\u0645 \u0639\u0631\u0636 \u0623\u0641\u0636\u0644 10 \u062a\u0646\u0628\u0624\u0627\u062a \u063a\u064a\u0631 \u0645\u0624\u0643\u062f\u0629.\n"
      ]
    },
    {
      "cell_type": "code",
      "execution_count": null,
      "metadata": {
        "collapsed": false
      },
      "outputs": [],
      "source": [
        "# \u0627\u0644\u0645\u0624\u0644\u0641\u0648\u0646: \u0645\u0637\u0648\u0631\u064a \u0633\u0643\u0627\u064a\u0644\u0631\u0646\n# \u0645\u0639\u0631\u0641 \u0627\u0644\u062a\u0631\u062e\u064a\u0635: BSD-3-Clause"
      ]
    },
    {
      "cell_type": "markdown",
      "metadata": {},
      "source": [
        "## \u062a\u0648\u0644\u064a\u062f \u0627\u0644\u0628\u064a\u0627\u0646\u0627\u062a\n\n\u0646\u0633\u062a\u062e\u062f\u0645 \u0645\u062c\u0645\u0648\u0639\u0629 \u0628\u064a\u0627\u0646\u0627\u062a \u0627\u0644\u0623\u0631\u0642\u0627\u0645. \u0646\u0633\u062a\u062e\u062f\u0645 \u0641\u0642\u0637 \u0645\u062c\u0645\u0648\u0639\u0629 \u0641\u0631\u0639\u064a\u0629 \u0645\u0646 \u0627\u0644\u0639\u064a\u0646\u0627\u062a \u0627\u0644\u0645\u062d\u062f\u062f\u0629 \u0639\u0634\u0648\u0627\u0626\u064a\u064b\u0627.\n\n"
      ]
    },
    {
      "cell_type": "code",
      "execution_count": null,
      "metadata": {
        "collapsed": false
      },
      "outputs": [],
      "source": [
        "import numpy as np\n\nfrom sklearn import datasets\n\ndigits = datasets.load_digits()\nrng = np.random.RandomState(2)\nindices = np.arange(len(digits.data))\nrng.shuffle(indices)"
      ]
    },
    {
      "cell_type": "markdown",
      "metadata": {},
      "source": [
        "\u0642\u0645\u0646\u0627 \u0628\u0627\u062e\u062a\u064a\u0627\u0631 340 \u0639\u064a\u0646\u0629\u060c \u0645\u0646\u0647\u0627 40 \u0641\u0642\u0637 \u0633\u062a\u0631\u062a\u0628\u0637 \u0628\u0639\u0644\u0627\u0645\u0629 \u0645\u0639\u0631\u0648\u0641\u0629.\n\u0644\u0630\u0644\u0643\u060c \u0646\u0642\u0648\u0645 \u0628\u062a\u062e\u0632\u064a\u0646 \u0645\u0624\u0634\u0631\u0627\u062a 300 \u0639\u064a\u0646\u0629 \u0623\u062e\u0631\u0649 \u0648\u0627\u0644\u062a\u064a \u0645\u0646 \u0627\u0644\u0645\u0641\u062a\u0631\u0636\n\u0623\u0644\u0627 \u0646\u0639\u0631\u0641 \u0639\u0644\u0627\u0645\u0627\u062a\u0647\u0627.\n\n"
      ]
    },
    {
      "cell_type": "code",
      "execution_count": null,
      "metadata": {
        "collapsed": false
      },
      "outputs": [],
      "source": [
        "X = digits.data[indices[:340]]\ny = digits.target[indices[:340]]\nimages = digits.images[indices[:340]]\n\nn_total_samples = len(y)\nn_labeled_points = 40\n\nindices = np.arange(n_total_samples)\n\nunlabeled_set = indices[n_labeled_points:]"
      ]
    },
    {
      "cell_type": "markdown",
      "metadata": {},
      "source": [
        "\u062e\u0644\u0637 \u0643\u0644 \u0634\u064a\u0621\n\n"
      ]
    },
    {
      "cell_type": "code",
      "execution_count": null,
      "metadata": {
        "collapsed": false
      },
      "outputs": [],
      "source": [
        "y_train = np.copy(y)\ny_train[unlabeled_set] = -1"
      ]
    },
    {
      "cell_type": "markdown",
      "metadata": {},
      "source": [
        "## \u0627\u0644\u062a\u0639\u0644\u0645 \u0634\u0628\u0647 \u0627\u0644\u0645\u064f\u0634\u0631\u0641\n\n\u0646\u0642\u0648\u0645 \u0628\u0636\u0628\u0637 :class:`~sklearn.semi_supervised.LabelSpreading` \u0648\u0627\u0633\u062a\u062e\u062f\u0627\u0645\u0647 \u0644\u0644\u062a\u0646\u0628\u0624\n\u0628\u0627\u0644\u0639\u0644\u0627\u0645\u0627\u062a \u063a\u064a\u0631 \u0627\u0644\u0645\u0639\u0631\u0648\u0641\u0629.\n\n"
      ]
    },
    {
      "cell_type": "code",
      "execution_count": null,
      "metadata": {
        "collapsed": false
      },
      "outputs": [],
      "source": [
        "from sklearn.metrics import classification_report\nfrom sklearn.semi_supervised import LabelSpreading\n\nlp_model = LabelSpreading(gamma=0.25, max_iter=20)\nlp_model.fit(X, y_train)\npredicted_labels = lp_model.transduction_[unlabeled_set]\ntrue_labels = y[unlabeled_set]\n\nprint(\n\"\u0646\u0645\u0648\u0630\u062c \u0646\u0634\u0631 \u0627\u0644\u0639\u0644\u0627\u0645\u0627\u062a: %d \u0645\u0639 \u0639\u0644\u0627\u0645\u0627\u062a \u0648 %d \u0628\u062f\u0648\u0646 \u0639\u0644\u0627\u0645\u0627\u062a (%d \u0625\u062c\u0645\u0627\u0644\u064a)\"\n% (n_labeled_points, n_total_samples - n_labeled_points, n_total_samples)\n)"
      ]
    },
    {
      "cell_type": "markdown",
      "metadata": {},
      "source": [
        "\u062a\u0642\u0631\u064a\u0631 \u0627\u0644\u062a\u0635\u0646\u064a\u0641\n\n"
      ]
    },
    {
      "cell_type": "code",
      "execution_count": null,
      "metadata": {
        "collapsed": false
      },
      "outputs": [],
      "source": [
        "print(classification_report(true_labels, predicted_labels))"
      ]
    },
    {
      "cell_type": "markdown",
      "metadata": {},
      "source": [
        "\u0645\u0635\u0641\u0648\u0641\u0629 \u0627\u0644\u0627\u0631\u062a\u0628\u0627\u0643\n\n"
      ]
    },
    {
      "cell_type": "code",
      "execution_count": null,
      "metadata": {
        "collapsed": false
      },
      "outputs": [],
      "source": [
        "from sklearn.metrics import ConfusionMatrixDisplay\n\nConfusionMatrixDisplay.from_predictions(\n    true_labels, predicted_labels, labels=lp_model.classes_\n)"
      ]
    },
    {
      "cell_type": "markdown",
      "metadata": {},
      "source": [
        "## \u0631\u0633\u0645 \u0627\u0644\u062a\u0646\u0628\u0624\u0627\u062a \u0627\u0644\u0623\u0643\u062b\u0631 \u063a\u0645\u0648\u0636\u064b\u0627\n\n\u0647\u0646\u0627\u060c \u0633\u0646\u062e\u062a\u0627\u0631 \u0648\u0646\u0639\u0631\u0636 \u0623\u0641\u0636\u0644 10 \u062a\u0646\u0628\u0624\u0627\u062a \u063a\u064a\u0631 \u0645\u0624\u0643\u062f\u0629.\n\n"
      ]
    },
    {
      "cell_type": "code",
      "execution_count": null,
      "metadata": {
        "collapsed": false
      },
      "outputs": [],
      "source": [
        "from scipy import stats\n\npred_entropies = stats.distributions.entropy(lp_model.label_distributions_.T)"
      ]
    },
    {
      "cell_type": "markdown",
      "metadata": {},
      "source": [
        "\u0627\u062e\u062a\u064a\u0627\u0631 \u0623\u0641\u0636\u0644 10 \u0639\u0644\u0627\u0645\u0627\u062a \u063a\u064a\u0631 \u0645\u0624\u0643\u062f\u0629\n\n"
      ]
    },
    {
      "cell_type": "code",
      "execution_count": null,
      "metadata": {
        "collapsed": false
      },
      "outputs": [],
      "source": [
        "uncertainty_index = np.argsort(pred_entropies)[-10:]"
      ]
    },
    {
      "cell_type": "markdown",
      "metadata": {},
      "source": [
        "\u0631\u0633\u0645\n\n"
      ]
    },
    {
      "cell_type": "code",
      "execution_count": null,
      "metadata": {
        "collapsed": false
      },
      "outputs": [],
      "source": [
        "import matplotlib.pyplot as plt\n\nf = plt.figure(figsize=(7, 5))\nfor index, image_index in enumerate(uncertainty_index):\n    image = images[image_index]\n\n    sub = f.add_subplot(2, 5, index + 1)\n    sub.imshow(image, cmap=plt.cm.gray_r)\n    plt.xticks([])\n    plt.yticks([])\n    sub.set_title(\n        \"\u0627\u0644\u062a\u0646\u0628\u0624: %i\\n\u0627\u0644\u062d\u0642\u064a\u0642\u064a: %i\" % (lp_model.transduction_[image_index], y[image_index])\n    )\n\nf.suptitle(\"\u0627\u0644\u062a\u0639\u0644\u0645 \u0628\u0643\u0645\u064a\u0629 \u0635\u063a\u064a\u0631\u0629 \u0645\u0646 \u0627\u0644\u0628\u064a\u0627\u0646\u0627\u062a \u0627\u0644\u0645\u0639\u0644\u0645\u0629\")\nplt.show()"
      ]
    }
  ],
  "metadata": {
    "kernelspec": {
      "display_name": "Python 3",
      "language": "python",
      "name": "python3"
    },
    "language_info": {
      "codemirror_mode": {
        "name": "ipython",
        "version": 3
      },
      "file_extension": ".py",
      "mimetype": "text/x-python",
      "name": "python",
      "nbconvert_exporter": "python",
      "pygments_lexer": "ipython3",
      "version": "3.10.13"
    }
  },
  "nbformat": 4,
  "nbformat_minor": 0
}