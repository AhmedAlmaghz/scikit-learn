{
  "cells": [
    {
      "cell_type": "markdown",
      "metadata": {},
      "source": [
        "\n# \u0627\u0644\u0645\u0648\u0627\u0632\u0646\u0629 \u0628\u064a\u0646 \u062a\u0639\u0642\u064a\u062f \u0627\u0644\u0646\u0645\u0648\u0630\u062c \u0648\u062f\u0631\u062c\u0629 \u0627\u0644\u062f\u0642\u0629 \u0639\u0628\u0631 \u0627\u0644\u062a\u062d\u0642\u0642 \u0627\u0644\u0645\u062a\u0642\u0627\u0637\u0639\n\n\u0647\u0630\u0627 \u0627\u0644\u0645\u062b\u0627\u0644 \u064a\u0648\u0627\u0632\u0646 \u0628\u064a\u0646 \u062a\u0639\u0642\u064a\u062f \u0627\u0644\u0646\u0645\u0648\u0630\u062c \u0648\u062f\u0631\u062c\u0629 \u0627\u0644\u062f\u0642\u0629 \u0639\u0628\u0631 \u0627\u0644\u062a\u062d\u0642\u0642 \u0627\u0644\u0645\u062a\u0642\u0627\u0637\u0639 \u0645\u0646 \u062e\u0644\u0627\u0644\n\u062a\u062d\u0642\u064a\u0642 \u062f\u0642\u0629 \u062c\u064a\u062f\u0629 \u0636\u0645\u0646 \u0627\u0646\u062d\u0631\u0627\u0641 \u0645\u0639\u064a\u0627\u0631\u064a \u0648\u0627\u062d\u062f \u0644\u0623\u0641\u0636\u0644 \u062f\u0631\u062c\u0629 \u062f\u0642\u0629\n\u0645\u0639 \u062a\u0642\u0644\u064a\u0644 \u0639\u062f\u062f \u0645\u0643\u0648\u0646\u0627\u062a PCA [1].\n\n\u064a\u0648\u0636\u062d \u0627\u0644\u0634\u0643\u0644 \u0627\u0644\u062a\u0648\u0627\u0632\u0646 \u0628\u064a\u0646 \u062f\u0631\u062c\u0629 \u0627\u0644\u062f\u0642\u0629 \u0639\u0628\u0631 \u0627\u0644\u062a\u062d\u0642\u0642 \u0627\u0644\u0645\u062a\u0642\u0627\u0637\u0639 \u0648\u0639\u062f\u062f \u0645\u0643\u0648\u0646\u0627\u062a PCA. \u0648\u062a\u0643\u0648\u0646 \u0627\u0644\u062d\u0627\u0644\u0629 \u0627\u0644\u0645\u062a\u0648\u0627\u0632\u0646\u0629 \u0639\u0646\u062f\u0645\u0627 \u064a\u0643\u0648\u0646 n_components=10 \u0648accuracy=0.88\u060c\n\u0648\u0627\u0644\u062a\u064a \u062a\u0642\u0639 \u0636\u0645\u0646 \u0646\u0637\u0627\u0642 \u0627\u0646\u062d\u0631\u0627\u0641 \u0645\u0639\u064a\u0627\u0631\u064a \u0648\u0627\u062d\u062f \u0644\u0623\u0641\u0636\u0644 \u062f\u0631\u062c\u0629 \u062f\u0642\u0629.\n\n[1] \u0647\u0627\u0633\u062a\u064a\u060c \u062a.\u060c \u062a\u064a\u0628\u0634\u064a\u0631\u0627\u0646\u060c \u0631.\u060c \u0641\u0631\u064a\u062f\u0645\u0627\u0646\u060c \u062c. (2001). \u062a\u0642\u064a\u064a\u0645 \u0648\u0627\u062e\u062a\u064a\u0627\u0631 \u0627\u0644\u0646\u0645\u0627\u0630\u062c. \u0639\u0646\u0627\u0635\u0631 \u0627\u0644\u062a\u0639\u0644\u0645 \u0627\u0644\u0625\u062d\u0635\u0627\u0626\u064a (\u0627\u0644\u0635\u0641\u062d\u0627\u062a 219-260). \u0646\u064a\u0648\u064a\u0648\u0631\u0643\u060c\n\u0646\u064a\u0648\u064a\u0648\u0631\u0643\u060c \u0627\u0644\u0648\u0644\u0627\u064a\u0627\u062a \u0627\u0644\u0645\u062a\u062d\u062f\u0629 \u0627\u0644\u0623\u0645\u0631\u064a\u0643\u064a\u0629: \u0633\u0628\u0631\u064a\u0646\u062c\u0631 \u0646\u064a\u0648\u064a\u0648\u0631\u0643.\n"
      ]
    },
    {
      "cell_type": "code",
      "execution_count": null,
      "metadata": {
        "collapsed": false
      },
      "outputs": [],
      "source": [
        "# \u0627\u0644\u0645\u0624\u0644\u0641\u0648\u0646: \u0645\u0637\u0648\u0631\u064a \u0633\u0643\u0627\u064a\u062a-\u0644\u064a\u0631\u0646\n# \u0645\u0639\u0631\u0641 \u0627\u0644\u062a\u0631\u062e\u064a\u0635: BSD-3-Clause\n\nimport matplotlib.pyplot as plt\nimport numpy as np\n\nfrom sklearn.datasets import load_digits\nfrom sklearn.decomposition import PCA\nfrom sklearn.model_selection import GridSearchCV\nfrom sklearn.pipeline import Pipeline\nfrom sklearn.svm import LinearSVC\n\n\ndef lower_bound(cv_results):\n    \"\"\"\n    \u062d\u0633\u0627\u0628 \u0627\u0644\u062d\u062f \u0627\u0644\u0623\u062f\u0646\u0649 \u0636\u0645\u0646 \u0627\u0646\u062d\u0631\u0627\u0641 \u0645\u0639\u064a\u0627\u0631\u064a \u0648\u0627\u062d\u062f\n    \u0644\u0623\u0641\u0636\u0644 `mean_test_scores`.\n\n    \u0627\u0644\u0645\u0639\u0627\u0645\u0644\u0627\u062a\n    ----------\n    cv_results : dict of numpy(masked) ndarrays\n        \u0631\u0627\u062c\u0639 cv_results_ \u0627\u0644\u062e\u0627\u0635 \u0628\u0640 `GridSearchCV`\n\n    \u0627\u0644\u0639\u0627\u0626\u062f\u0627\u062a\n    -------\n    float\n        \u0627\u0644\u062d\u062f \u0627\u0644\u0623\u062f\u0646\u0649 \u0636\u0645\u0646 \u0627\u0646\u062d\u0631\u0627\u0641 \u0645\u0639\u064a\u0627\u0631\u064a \u0648\u0627\u062d\u062f \u0644\u0623\u0641\u0636\u0644\n        `mean_test_score`.\n    \"\"\"\n    best_score_idx = np.argmax(cv_results[\"mean_test_score\"])\n\n    return (\n        cv_results[\"mean_test_score\"][best_score_idx]\n        - cv_results[\"std_test_score\"][best_score_idx]\n    )\n\n\ndef best_low_complexity(cv_results):\n    \"\"\"\n    \u0627\u0644\u0645\u0648\u0627\u0632\u0646\u0629 \u0628\u064a\u0646 \u062a\u0639\u0642\u064a\u062f \u0627\u0644\u0646\u0645\u0648\u0630\u062c \u0648\u062f\u0631\u062c\u0629 \u0627\u0644\u062f\u0642\u0629 \u0639\u0628\u0631 \u0627\u0644\u062a\u062d\u0642\u0642 \u0627\u0644\u0645\u062a\u0642\u0627\u0637\u0639.\n\n    \u0627\u0644\u0645\u0639\u0627\u0645\u0644\u0627\u062a\n    ----------\n    cv_results : dict of numpy(masked) ndarrays\n        \u0631\u0627\u062c\u0639 cv_results_ \u0627\u0644\u062e\u0627\u0635 \u0628\u0640 `GridSearchCV`.\n\n    \u0627\u0644\u0639\u0627\u0626\u062f\u0627\u062a\n    ------\n    int\n        \u0645\u0624\u0634\u0631 \u0646\u0645\u0648\u0630\u062c \u064a\u062d\u062a\u0648\u064a \u0639\u0644\u0649 \u0623\u0642\u0644 \u0639\u062f\u062f \u0645\u0646 \u0645\u0643\u0648\u0646\u0627\u062a PCA\n        \u0628\u064a\u0646\u0645\u0627 \u062a\u0643\u0648\u0646 \u062f\u0631\u062c\u0629 \u062f\u0642\u062a\u0647 \u0636\u0645\u0646 \u0627\u0646\u062d\u0631\u0627\u0641 \u0645\u0639\u064a\u0627\u0631\u064a \u0648\u0627\u062d\u062f \u0644\u0623\u0641\u0636\u0644\n        `mean_test_score`.\n    \"\"\"\n    threshold = lower_bound(cv_results)\n    candidate_idx = np.flatnonzero(cv_results[\"mean_test_score\"] >= threshold)\n    best_idx = candidate_idx[\n        cv_results[\"param_reduce_dim__n_components\"][candidate_idx].argmin()\n    ]\n    return best_idx\n\n\npipe = Pipeline(\n    [\n        (\"reduce_dim\", PCA(random_state=42)),\n        (\"classify\", LinearSVC(random_state=42, C=0.01)),\n    ]\n)\n\nparam_grid = {\"reduce_dim__n_components\": [6, 8, 10, 12, 14]}\n\ngrid = GridSearchCV(\n    pipe,\n    cv=10,\n    n_jobs=1,\n    param_grid=param_grid,\n    scoring=\"accuracy\",\n    refit=best_low_complexity,\n)\nX, y = load_digits(return_X_y=True)\ngrid.fit(X, y)\n\nn_components = grid.cv_results_[\"param_reduce_dim__n_components\"]\ntest_scores = grid.cv_results_[\"mean_test_score\"]\n\nplt.figure()\nplt.bar(n_components, test_scores, width=1.3, color=\"b\")\n\nlower = lower_bound(grid.cv_results_)\nplt.axhline(np.max(test_scores), linestyle=\"--\", color=\"y\", label=\"Best score\")\nplt.axhline(lower, linestyle=\"--\", color=\".5\", label=\"Best score - 1 std\")\n\nplt.title(\"\u0627\u0644\u0645\u0648\u0627\u0632\u0646\u0629 \u0628\u064a\u0646 \u062a\u0639\u0642\u064a\u062f \u0627\u0644\u0646\u0645\u0648\u0630\u062c \u0648\u062f\u0631\u062c\u0629 \u0627\u0644\u062f\u0642\u0629 \u0639\u0628\u0631 \u0627\u0644\u062a\u062d\u0642\u0642 \u0627\u0644\u0645\u062a\u0642\u0627\u0637\u0639\")\nplt.xlabel(\"\u0639\u062f\u062f \u0645\u0643\u0648\u0646\u0627\u062a PCA \u0627\u0644\u0645\u0633\u062a\u062e\u062f\u0645\u0629\")\nplt.ylabel(\"\u062f\u0642\u0629 \u062a\u0635\u0646\u064a\u0641 \u0627\u0644\u0623\u0631\u0642\u0627\u0645\")\nplt.xticks(n_components.tolist())\nplt.ylim((0, 1.0))\nplt.legend(loc=\"upper left\")\n\nbest_index_ = grid.best_index_\n\nprint(\"The best_index_ is %d\" % best_index_)\nprint(\"The n_components selected is %d\" % n_components[best_index_])\nprint(\n    \"The corresponding accuracy score is %.2f\"\n    % grid.cv_results_[\"mean_test_score\"][best_index_]\n)\nplt.show()"
      ]
    }
  ],
  "metadata": {
    "kernelspec": {
      "display_name": "Python 3",
      "language": "python",
      "name": "python3"
    },
    "language_info": {
      "codemirror_mode": {
        "name": "ipython",
        "version": 3
      },
      "file_extension": ".py",
      "mimetype": "text/x-python",
      "name": "python",
      "nbconvert_exporter": "python",
      "pygments_lexer": "ipython3",
      "version": "3.10.13"
    }
  },
  "nbformat": 4,
  "nbformat_minor": 0
}