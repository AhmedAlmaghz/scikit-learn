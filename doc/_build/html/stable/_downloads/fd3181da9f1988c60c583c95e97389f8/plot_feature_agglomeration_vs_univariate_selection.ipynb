{
  "cells": [
    {
      "cell_type": "markdown",
      "metadata": {},
      "source": [
        "\n# \u0645\u0642\u0627\u0631\u0646\u0629 \u0628\u064a\u0646 \u062a\u062c\u0645\u064a\u0639 \u0627\u0644\u0645\u064a\u0632\u0627\u062a \u0648\u0627\u0644\u0627\u062e\u062a\u064a\u0627\u0631 \u0623\u062d\u0627\u062f\u064a \u0627\u0644\u0645\u062a\u063a\u064a\u0631\n\n\u0647\u0630\u0627 \u0627\u0644\u0645\u062b\u0627\u0644 \u064a\u0642\u0627\u0631\u0646 \u0628\u064a\u0646 \u0627\u0633\u062a\u0631\u0627\u062a\u064a\u062c\u064a\u062a\u064a\u0646 \u0644\u062e\u0641\u0636 \u0627\u0644\u0623\u0628\u0639\u0627\u062f:\n\n- \u0627\u062e\u062a\u064a\u0627\u0631 \u0627\u0644\u0645\u064a\u0632\u0627\u062a \u0623\u062d\u0627\u062f\u064a \u0627\u0644\u0645\u062a\u063a\u064a\u0631 \u0628\u0627\u0633\u062a\u062e\u062f\u0627\u0645 \u062a\u062d\u0644\u064a\u0644 \u0627\u0644\u062a\u0628\u0627\u064a\u0646 (Anova)\n\n- \u062a\u062c\u0645\u064a\u0639 \u0627\u0644\u0645\u064a\u0632\u0627\u062a \u0628\u0627\u0633\u062a\u062e\u062f\u0627\u0645 \u0627\u0644\u062a\u062c\u0645\u064a\u0639 \u0627\u0644\u0647\u0631\u0645\u064a \u0644\u0637\u0631\u064a\u0642\u0629 \u0648\u0627\u0631\u062f (Ward hierarchical clustering)\n\n\u064a\u062a\u0645 \u0645\u0642\u0627\u0631\u0646\u0629 \u0643\u0644\u062a\u0627 \u0627\u0644\u0637\u0631\u064a\u0642\u062a\u064a\u0646 \u0641\u064a \u0645\u0634\u0643\u0644\u0629 \u0627\u0644\u0627\u0646\u062d\u062f\u0627\u0631 \u0628\u0627\u0633\u062a\u062e\u062f\u0627\u0645 \u062a\u0642\u062f\u064a\u0631 \u062e\u0648\u0627\u0631\u0632\u0645\u064a\u0629 BayesianRidge.\n"
      ]
    },
    {
      "cell_type": "code",
      "execution_count": null,
      "metadata": {
        "collapsed": false
      },
      "outputs": [],
      "source": [
        "# \u0627\u0644\u0645\u0624\u0644\u0641\u0648\u0646: \u0645\u0637\u0648\u0631\u064a \u0633\u0643\u0627\u064a\u062a-\u0644\u064a\u0631\u0646\n# \u0645\u0639\u0631\u0641 \u0627\u0644\u062a\u0631\u062e\u064a\u0635: BSD-3-Clause"
      ]
    },
    {
      "cell_type": "code",
      "execution_count": null,
      "metadata": {
        "collapsed": false
      },
      "outputs": [],
      "source": [
        "import shutil\nimport tempfile\n\nimport matplotlib.pyplot as plt\nimport numpy as np\nfrom joblib import Memory\nfrom scipy import linalg, ndimage\n\nfrom sklearn import feature_selection\nfrom sklearn.cluster import FeatureAgglomeration\nfrom sklearn.feature_extraction.image import grid_to_graph\nfrom sklearn.linear_model import BayesianRidge\nfrom sklearn.model_selection import GridSearchCV, KFold\nfrom sklearn.pipeline import Pipeline"
      ]
    },
    {
      "cell_type": "markdown",
      "metadata": {},
      "source": [
        "\u062a\u0639\u064a\u064a\u0646 \u0627\u0644\u0645\u0639\u0644\u0645\u0627\u062a\n\n"
      ]
    },
    {
      "cell_type": "code",
      "execution_count": null,
      "metadata": {
        "collapsed": false
      },
      "outputs": [],
      "source": [
        "n_samples = 200\nsize = 40  # \u062d\u062c\u0645 \u0627\u0644\u0635\u0648\u0631\u0629\nroi_size = 15\nsnr = 5.0\nnp.random.seed(0)"
      ]
    },
    {
      "cell_type": "markdown",
      "metadata": {},
      "source": [
        "\u062a\u0648\u0644\u064a\u062f \u0627\u0644\u0628\u064a\u0627\u0646\u0627\u062a\n\n"
      ]
    },
    {
      "cell_type": "code",
      "execution_count": null,
      "metadata": {
        "collapsed": false
      },
      "outputs": [],
      "source": [
        "coef = np.zeros((size, size))\ncoef[0:roi_size, 0:roi_size] = -1.0\ncoef[-roi_size:, -roi_size:] = 1.0\n\nX = np.random.randn(n_samples, size**2)\nfor x in X:  # \u062a\u0646\u0639\u064a\u0645 \u0627\u0644\u0628\u064a\u0627\u0646\u0627\u062a\n    x[:] = ndimage.gaussian_filter(x.reshape(size, size), sigma=1.0).ravel()\nX -= X.mean(axis=0)\nX /= X.std(axis=0)\n\ny = np.dot(X, coef.ravel())"
      ]
    },
    {
      "cell_type": "markdown",
      "metadata": {},
      "source": [
        "\u0625\u0636\u0627\u0641\u0629 \u0636\u0648\u0636\u0627\u0621\n\n"
      ]
    },
    {
      "cell_type": "code",
      "execution_count": null,
      "metadata": {
        "collapsed": false
      },
      "outputs": [],
      "source": [
        "noise = np.random.randn(y.shape[0])\nnoise_coef = (linalg.norm(y, 2) / np.exp(snr / 20.0)) / linalg.norm(noise, 2)\ny += noise_coef * noise"
      ]
    },
    {
      "cell_type": "markdown",
      "metadata": {},
      "source": [
        "\u062d\u0633\u0627\u0628 \u0645\u0639\u0627\u0645\u0644\u0627\u062a \u062e\u0648\u0627\u0631\u0632\u0645\u064a\u0629 Bayesian Ridge \u0628\u0627\u0633\u062a\u062e\u062f\u0627\u0645 GridSearch\n\n"
      ]
    },
    {
      "cell_type": "code",
      "execution_count": null,
      "metadata": {
        "collapsed": false
      },
      "outputs": [],
      "source": [
        "cv = KFold(2)  # \u0645\u0648\u0644\u062f \u0644\u0644\u062a\u062d\u0642\u0642 \u0627\u0644\u0645\u062a\u0642\u0627\u0637\u0639 \u0644\u0627\u062e\u062a\u064a\u0627\u0631 \u0627\u0644\u0646\u0645\u0648\u0630\u062c\nridge = BayesianRidge()\ncachedir = tempfile.mkdtemp()\nmem = Memory(location=cachedir, verbose=1)"
      ]
    },
    {
      "cell_type": "markdown",
      "metadata": {},
      "source": [
        "\u062a\u062c\u0645\u064a\u0639 \u0648\u0627\u0631\u062f \u064a\u0644\u064a\u0647 \u062e\u0648\u0627\u0631\u0632\u0645\u064a\u0629 BayesianRidge\n\n"
      ]
    },
    {
      "cell_type": "code",
      "execution_count": null,
      "metadata": {
        "collapsed": false
      },
      "outputs": [],
      "source": [
        "connectivity = grid_to_graph(n_x=size, n_y=size)\nward = FeatureAgglomeration(n_clusters=10, connectivity=connectivity, memory=mem)\nclf = Pipeline([(\"ward\", ward), (\"ridge\", ridge)])\n# \u0627\u062e\u062a\u064a\u0627\u0631 \u0627\u0644\u0639\u062f\u062f \u0627\u0644\u0623\u0645\u062b\u0644 \u0645\u0646 \u0627\u0644\u0645\u062c\u0645\u0648\u0639\u0627\u062a \u0628\u0627\u0633\u062a\u062e\u062f\u0627\u0645 Grid Search\nclf = GridSearchCV(clf, {\"ward__n_clusters\": [10, 20, 30]}, n_jobs=1, cv=cv)\nclf.fit(X, y)  # \u062a\u0639\u064a\u064a\u0646 \u0623\u0641\u0636\u0644 \u0627\u0644\u0645\u0639\u0644\u0645\u0627\u062a\ncoef_ = clf.best_estimator_.steps[-1][1].coef_\ncoef_ = clf.best_estimator_.steps[0][1].inverse_transform(coef_)\ncoef_agglomeration_ = coef_.reshape(size, size)"
      ]
    },
    {
      "cell_type": "markdown",
      "metadata": {},
      "source": [
        "\u0627\u062e\u062a\u064a\u0627\u0631 \u0627\u0644\u0645\u064a\u0632\u0627\u062a \u0623\u062d\u0627\u062f\u064a \u0627\u0644\u0645\u062a\u063a\u064a\u0631 \u0628\u0627\u0633\u062a\u062e\u062f\u0627\u0645 \u062a\u062d\u0644\u064a\u0644 \u0627\u0644\u062a\u0628\u0627\u064a\u0646 \u064a\u0644\u064a\u0647 \u062e\u0648\u0627\u0631\u0632\u0645\u064a\u0629 BayesianRidge\n\n"
      ]
    },
    {
      "cell_type": "code",
      "execution_count": null,
      "metadata": {
        "collapsed": false
      },
      "outputs": [],
      "source": [
        "f_regression = mem.cache(feature_selection.f_regression)  # \u062a\u062e\u0632\u064a\u0646 \u0627\u0644\u0648\u0638\u064a\u0641\u0629 \u0641\u064a \u0627\u0644\u0630\u0627\u0643\u0631\u0629\nanova = feature_selection.SelectPercentile(f_regression)\nclf = Pipeline([(\"anova\", anova), (\"ridge\", ridge)])\n# \u0627\u062e\u062a\u064a\u0627\u0631 \u0627\u0644\u0646\u0633\u0628\u0629 \u0627\u0644\u0645\u0626\u0648\u064a\u0629 \u0627\u0644\u0645\u062b\u0644\u0649 \u0645\u0646 \u0627\u0644\u0645\u064a\u0632\u0627\u062a \u0628\u0627\u0633\u062a\u062e\u062f\u0627\u0645 Grid Search\nclf = GridSearchCV(clf, {\"anova__percentile\": [5, 10, 20]}, cv=cv)\nclf.fit(X, y)  # \u062a\u0639\u064a\u064a\u0646 \u0623\u0641\u0636\u0644 \u0627\u0644\u0645\u0639\u0644\u0645\u0627\u062a\ncoef_ = clf.best_estimator_.steps[-1][1].coef_\ncoef_ = clf.best_estimator_.steps[0][1].inverse_transform(coef_.reshape(1, -1))\ncoef_selection_ = coef_.reshape(size, size)"
      ]
    },
    {
      "cell_type": "markdown",
      "metadata": {},
      "source": [
        "\u0639\u0643\u0633 \u0627\u0644\u062a\u062d\u0648\u064a\u0644 \u0644\u0639\u0631\u0636 \u0627\u0644\u0646\u062a\u0627\u0626\u062c \u0639\u0644\u0649 \u0635\u0648\u0631\u0629\n\n"
      ]
    },
    {
      "cell_type": "code",
      "execution_count": null,
      "metadata": {
        "collapsed": false
      },
      "outputs": [],
      "source": [
        "plt.close(\"all\")\nplt.figure(figsize=(7.3, 2.7))\nplt.subplot(1, 3, 1)\nplt.imshow(coef, interpolation=\"nearest\", cmap=plt.cm.RdBu_r)\nplt.title(\"True weights\")\nplt.subplot(1, 3, 2)\nplt.imshow(coef_selection_, interpolation=\"nearest\", cmap=plt.cm.RdBu_r)\nplt.title(\"Feature Selection\")\nplt.subplot(1, 3, 3)\nplt.imshow(coef_agglomeration_, interpolation=\"nearest\", cmap=plt.cm.RdBu_r)\nplt.title(\"Feature Agglomeration\")\nplt.subplots_adjust(0.04, 0.0, 0.98, 0.94, 0.16, 0.26)\nplt.show()"
      ]
    },
    {
      "cell_type": "markdown",
      "metadata": {},
      "source": [
        "\u0645\u062d\u0627\u0648\u0644\u0629 \u0625\u0632\u0627\u0644\u0629 \u0627\u0644\u0645\u062c\u0644\u062f \u0627\u0644\u0645\u0624\u0642\u062a\u060c \u0644\u0627 \u062a\u0642\u0644\u0642 \u0625\u0630\u0627 \u0641\u0634\u0644\u062a \u0627\u0644\u0639\u0645\u0644\u064a\u0629\n\n"
      ]
    },
    {
      "cell_type": "code",
      "execution_count": null,
      "metadata": {
        "collapsed": false
      },
      "outputs": [],
      "source": [
        "shutil.rmtree(cachedir, ignore_errors=True)"
      ]
    }
  ],
  "metadata": {
    "kernelspec": {
      "display_name": "Python 3",
      "language": "python",
      "name": "python3"
    },
    "language_info": {
      "codemirror_mode": {
        "name": "ipython",
        "version": 3
      },
      "file_extension": ".py",
      "mimetype": "text/x-python",
      "name": "python",
      "nbconvert_exporter": "python",
      "pygments_lexer": "ipython3",
      "version": "3.10.13"
    }
  },
  "nbformat": 4,
  "nbformat_minor": 0
}