{
  "cells": [
    {
      "cell_type": "markdown",
      "metadata": {},
      "source": [
        "\n# \u0645\u062b\u0627\u0644 \u0639\u0644\u0649 \u0627\u0644\u062a\u0639\u0631\u0641 \u0639\u0644\u0649 \u0627\u0644\u0648\u062c\u0648\u0647 \u0628\u0627\u0633\u062a\u062e\u062f\u0627\u0645 \u0627\u0644\u0648\u062c\u0648\u0647 \u0627\u0644\u0645\u0645\u064a\u0632\u0629 \u0648\u0622\u0644\u0627\u062a \u0627\u0644\u0645\u062a\u062c\u0647\u0627\u062a \u0627\u0644\u062f\u0627\u0639\u0645\u0629\n\n\u0645\u062c\u0645\u0648\u0639\u0629 \u0627\u0644\u0628\u064a\u0627\u0646\u0627\u062a \u0627\u0644\u0645\u0633\u062a\u062e\u062f\u0645\u0629 \u0641\u064a \u0647\u0630\u0627 \u0627\u0644\u0645\u062b\u0627\u0644 \u0647\u064a \u0645\u0642\u062a\u0637\u0641 \u0645\u064f\u0639\u0627\u0644\u062c \u0645\u0633\u0628\u0642\u064b\u0627 \u0645\u0646\n\"\u0627\u0644\u0648\u062c\u0648\u0647 \u0627\u0644\u0645\u0633\u0645\u0627\u0629 \u0641\u064a \u0627\u0644\u0628\u0631\u064a\u0629\"\u060c \u0627\u0644\u0645\u0639\u0631\u0648\u0641 \u0628\u0627\u0633\u0645 LFW_:\nhttp://vis-www.cs.umass.edu/lfw/lfw-funneled.tgz (233MB)\n\n"
      ]
    },
    {
      "cell_type": "code",
      "execution_count": null,
      "metadata": {
        "collapsed": false
      },
      "outputs": [],
      "source": [
        "# \u0627\u0644\u0645\u0624\u0644\u0641\u0648\u0646: \u0645\u0637\u0648\u0631\u064a \u0633\u0643\u0627\u064a\u062a-\u0644\u064a\u0631\u0646\n# \u0645\u0639\u0631\u0641 \u0627\u0644\u062a\u0631\u062e\u064a\u0635-SPDX: BSD-3-Clause"
      ]
    },
    {
      "cell_type": "code",
      "execution_count": null,
      "metadata": {
        "collapsed": false
      },
      "outputs": [],
      "source": [
        "from time import time\n\nimport matplotlib.pyplot as plt\nfrom scipy.stats import loguniform\n\nfrom sklearn.datasets import fetch_lfw_people\nfrom sklearn.decomposition import PCA\nfrom sklearn.metrics import ConfusionMatrixDisplay, classification_report\nfrom sklearn.model_selection import RandomizedSearchCV, train_test_split\nfrom sklearn.preprocessing import StandardScaler\nfrom sklearn.svm import SVC"
      ]
    },
    {
      "cell_type": "markdown",
      "metadata": {},
      "source": [
        "\u062a\u0646\u0632\u064a\u0644 \u0627\u0644\u0628\u064a\u0627\u0646\u0627\u062a\u060c \u0625\u0630\u0627 \u0644\u0645 \u062a\u0643\u0646 \u0645\u0648\u062c\u0648\u062f\u0629 \u0628\u0627\u0644\u0641\u0639\u0644 \u0639\u0644\u0649 \u0627\u0644\u0642\u0631\u0635 \u0648\u062a\u062d\u0645\u064a\u0644\u0647\u0627 \u0643\u0645\u0635\u0641\u0648\u0641\u0627\u062a \u0646\u0648\u0645\u0628\u064a\n\n"
      ]
    },
    {
      "cell_type": "code",
      "execution_count": null,
      "metadata": {
        "collapsed": false
      },
      "outputs": [],
      "source": [
        "lfw_people = fetch_lfw_people(min_faces_per_person=70, resize=0.4)\n\n# \u0641\u062d\u0635 \u0645\u0635\u0641\u0648\u0641\u0627\u062a \u0627\u0644\u0635\u0648\u0631 \u0644\u0645\u0639\u0631\u0641\u0629 \u0627\u0644\u0623\u0634\u0643\u0627\u0644 (\u0644\u0644\u0631\u0633\u0645)\nn_samples, h, w = lfw_people.images.shape\n\n# \u0644\u0644\u062a\u0639\u0644\u0645 \u0627\u0644\u0622\u0644\u064a\u060c \u0646\u0633\u062a\u062e\u062f\u0645 \u0627\u0644\u0628\u064a\u0627\u0646\u0627\u062a \u0645\u0628\u0627\u0634\u0631\u0629\u064b (\u062d\u064a\u062b \u064a\u062a\u0645 \u062a\u062c\u0627\u0647\u0644 \u0645\u0639\u0644\u0648\u0645\u0627\u062a \u0645\u0648\u0627\u0636\u0639 \u0627\u0644\u0628\u0643\u0633\u0644 \u0627\u0644\u0646\u0633\u0628\u064a\u0629\n# \u0628\u0648\u0627\u0633\u0637\u0629 \u0647\u0630\u0627 \u0627\u0644\u0646\u0645\u0648\u0630\u062c)\nX = lfw_people.data\nn_features = X.shape[1]\n\n# \u0627\u0644\u062a\u0633\u0645\u064a\u0629 \u0627\u0644\u062a\u064a \u064a\u062c\u0628 \u0627\u0644\u062a\u0646\u0628\u0624 \u0628\u0647\u0627 \u0647\u064a \u0645\u0639\u0631\u0641 \u0627\u0644\u0634\u062e\u0635\ny = lfw_people.target\ntarget_names = lfw_people.target_names\nn_classes = target_names.shape[0]\n\nprint(\"\u062d\u062c\u0645 \u0645\u062c\u0645\u0648\u0639\u0629 \u0627\u0644\u0628\u064a\u0627\u0646\u0627\u062a \u0627\u0644\u0625\u062c\u0645\u0627\u0644\u064a:\")\nprint(\"n_samples: %d\" % n_samples)\nprint(\"n_features: %d\" % n_features)\nprint(\"n_classes: %d\" % n_classes)"
      ]
    },
    {
      "cell_type": "markdown",
      "metadata": {},
      "source": [
        "\u0627\u0644\u062a\u0642\u0633\u064a\u0645 \u0625\u0644\u0649 \u0645\u062c\u0645\u0648\u0639\u0629 \u062a\u062f\u0631\u064a\u0628 \u0648\u0645\u062c\u0645\u0648\u0639\u0629 \u0627\u062e\u062a\u0628\u0627\u0631 \u0648\u0627\u0644\u0627\u062d\u062a\u0641\u0627\u0638 \u0628\u0640 25% \u0645\u0646 \u0627\u0644\u0628\u064a\u0627\u0646\u0627\u062a \u0644\u0644\u0627\u062e\u062a\u0628\u0627\u0631.\n\n"
      ]
    },
    {
      "cell_type": "code",
      "execution_count": null,
      "metadata": {
        "collapsed": false
      },
      "outputs": [],
      "source": [
        "X_train, X_test, y_train, y_test = train_test_split(\n    X, y, test_size=0.25, random_state=42\n)\n\nscaler = StandardScaler()\nX_train = scaler.fit_transform(X_train)\nX_test = scaler.transform(X_test)"
      ]
    },
    {
      "cell_type": "markdown",
      "metadata": {},
      "source": [
        "\u062d\u0633\u0627\u0628 \u0627\u0644\u062a\u062d\u0644\u064a\u0644 \u0627\u0644\u0645\u0643\u0648\u0646 \u0627\u0644\u0631\u0626\u064a\u0633\u064a (\u0627\u0644\u0648\u062c\u0648\u0647 \u0627\u0644\u0645\u0645\u064a\u0632\u0629) \u0639\u0644\u0649 \u0645\u062c\u0645\u0648\u0639\u0629 \u0628\u064a\u0627\u0646\u0627\u062a \u0627\u0644\u0648\u062c\u0647 (\u0627\u0644\u0645\u0639\u0627\u0644\u062c\u0629 \u0643\u0645\u062c\u0645\u0648\u0639\u0629 \u0628\u064a\u0627\u0646\u0627\u062a \u063a\u064a\u0631 \u0645\u0635\u0646\u0641\u0629):\n\u0627\u0633\u062a\u062e\u0631\u0627\u062c \u0627\u0644\u0645\u064a\u0632\u0627\u062a \u063a\u064a\u0631 \u0627\u0644\u062e\u0627\u0636\u0639\u0629 \u0644\u0644\u0625\u0634\u0631\u0627\u0641 / \u062a\u0642\u0644\u064a\u0644 \u0627\u0644\u0623\u0628\u0639\u0627\u062f\n\n"
      ]
    },
    {
      "cell_type": "code",
      "execution_count": null,
      "metadata": {
        "collapsed": false
      },
      "outputs": [],
      "source": [
        "n_components = 150\n\nprint(\n    \"\u0627\u0633\u062a\u062e\u0631\u0627\u062c \u0623\u0641\u0636\u0644 %d \u0648\u062c\u0648\u0647 \u0645\u0645\u064a\u0632\u0629 \u0645\u0646 %d \u0648\u062c\u0648\u0647\" % (n_components, X_train.shape[0])\n)\nt0 = time()\npca = PCA(n_components=n_components, svd_solver=\"randomized\", whiten=True).fit(X_train)\nprint(\"\u062a\u0645 \u0627\u0644\u0627\u0646\u062a\u0647\u0627\u0621 \u0641\u064a %0.3fs\" % (time() - t0))\n\neigenfaces = pca.components_.reshape((n_components, h, w))\n\nprint(\"\u0631\u0633\u0645 \u0628\u064a\u0627\u0646\u0627\u062a \u0627\u0644\u0625\u062f\u062e\u0627\u0644 \u0639\u0644\u0649 \u0623\u0633\u0627\u0633 \u0627\u0644\u0648\u062c\u0648\u0647 \u0627\u0644\u0645\u0645\u064a\u0632\u0629 \u0627\u0644\u0645\u062a\u0639\u0627\u0645\u062f\u0629\")\nt0 = time()\nX_train_pca = pca.transform(X_train)\nX_test_pca = pca.transform(X_test)\nprint(\"\u062a\u0645 \u0627\u0644\u0627\u0646\u062a\u0647\u0627\u0621 \u0641\u064a %0.3fs\" % (time() - t0))"
      ]
    },
    {
      "cell_type": "markdown",
      "metadata": {},
      "source": [
        "\u062a\u062f\u0631\u064a\u0628 \u0646\u0645\u0648\u0630\u062c \u062a\u0635\u0646\u064a\u0641 \u0622\u0644\u0629 \u0627\u0644\u0645\u062a\u062c\u0647\u0627\u062a \u0627\u0644\u062f\u0627\u0639\u0645\u0629\n\n"
      ]
    },
    {
      "cell_type": "code",
      "execution_count": null,
      "metadata": {
        "collapsed": false
      },
      "outputs": [],
      "source": [
        "print(\"\u0636\u0628\u0637 \u0627\u0644\u0645\u0635\u0646\u0641 \u0639\u0644\u0649 \u0645\u062c\u0645\u0648\u0639\u0629 \u0627\u0644\u062a\u062f\u0631\u064a\u0628\")\nt0 = time()\nparam_grid = {\n    \"C\": loguniform(1e3, 1e5),\n    \"gamma\": loguniform(1e-4, 1e-1),\n}\nclf = RandomizedSearchCV(\n    SVC(kernel=\"rbf\", class_weight=\"balanced\"), param_grid, n_iter=10\n)\nclf = clf.fit(X_train_pca, y_train)\nprint(\"\u062a\u0645 \u0627\u0644\u0627\u0646\u062a\u0647\u0627\u0621 \u0641\u064a %0.3fs\" % (time() - t0))\nprint(\"\u0623\u0641\u0636\u0644 \u0645\u0642\u062f\u0631 \u062a\u0645 \u0627\u0644\u0639\u062b\u0648\u0631 \u0639\u0644\u064a\u0647 \u0628\u0648\u0627\u0633\u0637\u0629 \u0627\u0644\u0628\u062d\u062b \u0627\u0644\u0634\u0628\u0643\u064a:\")\nprint(clf.best_estimator_)"
      ]
    },
    {
      "cell_type": "markdown",
      "metadata": {},
      "source": [
        "\u0627\u0644\u062a\u0642\u064a\u064a\u0645 \u0627\u0644\u0643\u0645\u064a \u0644\u062c\u0648\u062f\u0629 \u0627\u0644\u0646\u0645\u0648\u0630\u062c \u0639\u0644\u0649 \u0645\u062c\u0645\u0648\u0639\u0629 \u0627\u0644\u0627\u062e\u062a\u0628\u0627\u0631\n\n"
      ]
    },
    {
      "cell_type": "code",
      "execution_count": null,
      "metadata": {
        "collapsed": false
      },
      "outputs": [],
      "source": [
        "print(\"\u0627\u0644\u062a\u0646\u0628\u0624 \u0628\u0623\u0633\u0645\u0627\u0621 \u0627\u0644\u0623\u0634\u062e\u0627\u0635 \u0639\u0644\u0649 \u0645\u062c\u0645\u0648\u0639\u0629 \u0627\u0644\u0627\u062e\u062a\u0628\u0627\u0631\")\nt0 = time()\ny_pred = clf.predict(X_test_pca)\nprint(\"\u062a\u0645 \u0627\u0644\u0627\u0646\u062a\u0647\u0627\u0621 \u0641\u064a %0.3fs\" % (time() - t0))\n\nprint(classification_report(y_test, y_pred, target_names=target_names))\nConfusionMatrixDisplay.from_estimator(\n    clf, X_test_pca, y_test, display_labels=target_names, xticks_rotation=\"vertical\"\n)\nplt.tight_layout()\nplt.show()"
      ]
    },
    {
      "cell_type": "markdown",
      "metadata": {},
      "source": [
        "\u0627\u0644\u062a\u0642\u064a\u064a\u0645 \u0627\u0644\u0646\u0648\u0639\u064a \u0644\u0644\u062a\u0646\u0628\u0624\u0627\u062a \u0628\u0627\u0633\u062a\u062e\u062f\u0627\u0645 \u0645\u0627\u062a\u0628\u0644\u0648\u062a\u0644\u064a\u0628\n\n"
      ]
    },
    {
      "cell_type": "code",
      "execution_count": null,
      "metadata": {
        "collapsed": false
      },
      "outputs": [],
      "source": [
        "def plot_gallery(images, titles, h, w, n_row=3, n_col=4):\n    \"\"\"\u062f\u0627\u0644\u0629 \u0645\u0633\u0627\u0639\u062f\u0629 \u0644\u0631\u0633\u0645 \u0645\u0639\u0631\u0636 \u0644\u0644\u0635\u0648\u0631 \u0627\u0644\u0634\u062e\u0635\u064a\u0629\"\"\"\n    plt.figure(figsize=(1.8 * n_col, 2.4 * n_row))\n    plt.subplots_adjust(bottom=0, left=0.01, right=0.99, top=0.90, hspace=0.35)\n    for i in range(n_row * n_col):\n        plt.subplot(n_row, n_col, i + 1)\n        plt.imshow(images[i].reshape((h, w)), cmap=plt.cm.gray)\n        plt.title(titles[i], size=12)\n        plt.xticks(())\n        plt.yticks(())"
      ]
    },
    {
      "cell_type": "markdown",
      "metadata": {},
      "source": [
        "\u0631\u0633\u0645 \u0646\u062a\u064a\u062c\u0629 \u0627\u0644\u062a\u0646\u0628\u0624 \u0639\u0644\u0649 \u062c\u0632\u0621 \u0645\u0646 \u0645\u062c\u0645\u0648\u0639\u0629 \u0627\u0644\u0627\u062e\u062a\u0628\u0627\u0631\n%%\n\u0631\u0633\u0645 \u0646\u062a\u064a\u062c\u0629 \u0627\u0644\u062a\u0646\u0628\u0624 \u0639\u0644\u0649 \u062c\u0632\u0621 \u0645\u0646 \u0645\u062c\u0645\u0648\u0639\u0629 \u0627\u0644\u0627\u062e\u062a\u0628\u0627\u0631\n\n"
      ]
    },
    {
      "cell_type": "code",
      "execution_count": null,
      "metadata": {
        "collapsed": false
      },
      "outputs": [],
      "source": [
        "def title(y_pred, y_test, target_names, i):\n    pred_name = target_names[y_pred[i]].rsplit(\" \", 1)[-1]\n    true_name = target_names[y_test[i]].rsplit(\" \", 1)[-1]\n    return \"\u0627\u0644\u0645\u062a\u0646\u0628\u0623 \u0628\u0647: %s\\n\u0627\u0644\u062d\u0642\u064a\u0642\u064a:      %s\" % (pred_name, true_name)\n\n\nprediction_titles = [\n    title(y_pred, y_test, target_names, i) for i in range(y_pred.shape[0])\n]\n\nplot_gallery(X_test, prediction_titles, h, w)"
      ]
    },
    {
      "cell_type": "markdown",
      "metadata": {},
      "source": [
        "\u0631\u0633\u0645 \u0645\u0639\u0631\u0636 \u0627\u0644\u0648\u062c\u0648\u0647 \u0627\u0644\u0645\u0645\u064a\u0632\u0629 \u0627\u0644\u0623\u0643\u062b\u0631 \u062f\u0644\u0627\u0644\u0629\n\n"
      ]
    },
    {
      "cell_type": "code",
      "execution_count": null,
      "metadata": {
        "collapsed": false
      },
      "outputs": [],
      "source": [
        "eigenface_titles = [\"\u0627\u0644\u0648\u062c\u0647 \u0627\u0644\u0645\u0645\u064a\u0632 %d\" % i for i in range(eigenfaces.shape[0])]\nplot_gallery(eigenfaces, eigenface_titles, h, w)\n\nplt.show()"
      ]
    },
    {
      "cell_type": "markdown",
      "metadata": {},
      "source": [
        "\u064a\u0645\u0643\u0646 \u062d\u0644 \u0645\u0634\u0643\u0644\u0629 \u0627\u0644\u062a\u0639\u0631\u0641 \u0639\u0644\u0649 \u0627\u0644\u0648\u062c\u0647 \u0628\u0634\u0643\u0644 \u0623\u0643\u062b\u0631 \u0641\u0639\u0627\u0644\u064a\u0629 \u0645\u0646 \u062e\u0644\u0627\u0644 \u062a\u062f\u0631\u064a\u0628\n\u0627\u0644\u0634\u0628\u0643\u0627\u062a \u0627\u0644\u0639\u0635\u0628\u064a\u0629 \u0627\u0644\u062a\u0644\u0627\u0641\u064a\u0641\u064a\u0629\u060c \u0648\u0644\u0643\u0646 \u0647\u0630\u0647 \u0627\u0644\u0639\u0627\u0626\u0644\u0629 \u0645\u0646 \u0627\u0644\u0646\u0645\u0627\u0630\u062c \u062e\u0627\u0631\u062c \u0646\u0637\u0627\u0642\n\u0645\u0643\u062a\u0628\u0629 \u0633\u0643\u0627\u064a\u062a-\u0644\u064a\u0631\u0646. \u064a\u062c\u0628 \u0639\u0644\u0649 \u0627\u0644\u0642\u0631\u0627\u0621 \u0627\u0644\u0645\u0647\u062a\u0645\u064a\u0646 \u062a\u062c\u0631\u0628\u0629 \u0627\u0633\u062a\u062e\u062f\u0627\u0645 \u0628\u0627\u064a \u062a\u0648\u0631\u062a\u0634 \u0623\u0648\n\u062a\u0646\u0633\u0648\u0631 \u0641\u0644\u0648 \u0644\u062a\u0646\u0641\u064a\u0630 \u0645\u062b\u0644 \u0647\u0630\u0647 \u0627\u0644\u0646\u0645\u0627\u0630\u062c.\n"
      ]
    }
  ],
  "metadata": {
    "kernelspec": {
      "display_name": "Python 3",
      "language": "python",
      "name": "python3"
    },
    "language_info": {
      "codemirror_mode": {
        "name": "ipython",
        "version": 3
      },
      "file_extension": ".py",
      "mimetype": "text/x-python",
      "name": "python",
      "nbconvert_exporter": "python",
      "pygments_lexer": "ipython3",
      "version": "3.10.13"
    }
  },
  "nbformat": 4,
  "nbformat_minor": 0
}