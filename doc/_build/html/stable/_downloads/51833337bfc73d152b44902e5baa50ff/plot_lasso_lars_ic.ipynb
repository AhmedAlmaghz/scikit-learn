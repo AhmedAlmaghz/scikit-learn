{
  "cells": [
    {
      "cell_type": "markdown",
      "metadata": {},
      "source": [
        "\n# \u0627\u062e\u062a\u064a\u0627\u0631 \u0646\u0645\u0648\u0630\u062c \u0644\u0627\u0635\u0648 \u0639\u0628\u0631 \u0645\u0639\u0627\u064a\u064a\u0631 \u0627\u0644\u0645\u0639\u0644\u0648\u0645\u0627\u062a\n\n\u0647\u0630\u0627 \u0627\u0644\u0645\u062b\u0627\u0644 \u064a\u0639\u064a\u062f \u0625\u0646\u062a\u0627\u062c \u0645\u062b\u0627\u0644 \u0627\u0644\u0634\u0643\u0644 2 \u0645\u0646 [ZHT2007]_. \u064a\u0642\u0648\u0645 \u0645\u0642\u062f\u0631 :class:`~sklearn.linear_model.LassoLarsIC` \u0628\u0627\u0644\u062a\u0646\u0627\u0633\u0628 \u0645\u0639 \u0645\u062c\u0645\u0648\u0639\u0629 \u0628\u064a\u0627\u0646\u0627\u062a \u0645\u0631\u0636 \u0627\u0644\u0633\u0643\u0631\u064a \u0648\u064a\u062a\u0645 \u0627\u0633\u062a\u062e\u062f\u0627\u0645 \u0645\u0639\u064a\u0627\u0631\u064a \u0645\u0639\u0644\u0648\u0645\u0627\u062a \u0623\u0643\u0627\u064a\u0643\u064a (AIC) \u0648\u0645\u0639\u0644\u0648\u0645\u0627\u062a \u0628\u0627\u064a\u0632 (BIC) \u0644\u0627\u062e\u062a\u064a\u0627\u0631 \u0623\u0641\u0636\u0644 \u0646\u0645\u0648\u0630\u062c.\n\n<div class=\"alert alert-info\"><h4>Note</h4><p>\u0645\u0646 \u0627\u0644\u0645\u0647\u0645 \u0645\u0644\u0627\u062d\u0638\u0629 \u0623\u0646 \u0627\u0644\u062a\u062d\u0633\u064a\u0646 \u0644\u0644\u0639\u062b\u0648\u0631 \u0639\u0644\u0649 `alpha` \u0645\u0639\n    :class:`~sklearn.linear_model.LassoLarsIC` \u064a\u0639\u062a\u0645\u062f \u0639\u0644\u0649 \u0645\u0639\u064a\u0627\u0631\u064a AIC \u0623\u0648 BIC\n    \u0627\u0644\u0644\u0630\u064a\u0646 \u064a\u062a\u0645 \u062d\u0633\u0627\u0628\u0647\u0645\u0627 \u062f\u0627\u062e\u0644 \u0627\u0644\u0639\u064a\u0646\u0629\u060c \u0648\u0628\u0627\u0644\u062a\u0627\u0644\u064a \u0639\u0644\u0649 \u0645\u062c\u0645\u0648\u0639\u0629 \u0627\u0644\u062a\u062f\u0631\u064a\u0628 \u0645\u0628\u0627\u0634\u0631\u0629.\n    \u064a\u062e\u062a\u0644\u0641 \u0647\u0630\u0627 \u0627\u0644\u0646\u0647\u062c \u0639\u0646 \u0625\u062c\u0631\u0627\u0621 \u0627\u0644\u062a\u062d\u0642\u0642 \u0645\u0646 \u0627\u0644\u0635\u062d\u0629 \u0627\u0644\u0645\u062a\u0642\u0627\u0637\u0639. \u0644\u0645\u0642\u0627\u0631\u0646\u0629 \u0627\u0644\u0646\u0647\u062c\u064a\u0646\u060c \u064a\u0645\u0643\u0646\u0643 \u0627\u0644\u0631\u062c\u0648\u0639 \u0625\u0644\u0649 \u0627\u0644\u0645\u062b\u0627\u0644 \u0627\u0644\u062a\u0627\u0644\u064a:\n    `sphx_glr_auto_examples_linear_model_plot_lasso_model_selection.py`.</p></div>\n\n.. rubric:: \u0627\u0644\u0645\u0631\u0627\u062c\u0639\n\n.. [ZHT2007] :arxiv:`Zou, Hui, Trevor Hastie, and Robert Tibshirani.\n    \"On the degrees of freedom of the lasso.\"\n    The Annals of Statistics 35.5 (2007): 2173-2192.\n    <0712.0881>`\n"
      ]
    },
    {
      "cell_type": "code",
      "execution_count": null,
      "metadata": {
        "collapsed": false
      },
      "outputs": [],
      "source": [
        "# \u0627\u0644\u0645\u0624\u0644\u0641\u0648\u0646: \u0645\u0637\u0648\u0631\u064a \u0633\u0643\u0627\u064a\u0644\u0631\u0646\n# \u0645\u0639\u0631\u0641 \u0627\u0644\u062a\u0631\u062e\u064a\u0635: BSD-3-Clause"
      ]
    },
    {
      "cell_type": "markdown",
      "metadata": {},
      "source": [
        "\u0633\u0646\u0633\u062a\u062e\u062f\u0645 \u0645\u062c\u0645\u0648\u0639\u0629 \u0628\u064a\u0627\u0646\u0627\u062a \u0645\u0631\u0636 \u0627\u0644\u0633\u0643\u0631\u064a.\n\n"
      ]
    },
    {
      "cell_type": "code",
      "execution_count": null,
      "metadata": {
        "collapsed": false
      },
      "outputs": [],
      "source": [
        "from sklearn.datasets import load_diabetes\n\nX, y = load_diabetes(return_X_y=True, as_frame=True)\nn_samples = X.shape[0]\nX.head()"
      ]
    },
    {
      "cell_type": "markdown",
      "metadata": {},
      "source": [
        "\u064a\u0648\u0641\u0631 \u0633\u0643\u0627\u064a\u0644\u0631\u0646 \u0645\u0642\u062f\u0631\u064b\u0627 \u064a\u0633\u0645\u0649\n:class:`~sklearn.linear_model.LassoLarsIC` \u0627\u0644\u0630\u064a \u064a\u0633\u062a\u062e\u062f\u0645 \u0625\u0645\u0627 \u0645\u0639\u064a\u0627\u0631 \u0645\u0639\u0644\u0648\u0645\u0627\u062a \u0623\u0643\u0627\u064a\u0643\u064a (AIC) \u0623\u0648 \u0645\u0639\u064a\u0627\u0631 \u0645\u0639\u0644\u0648\u0645\u0627\u062a \u0628\u0627\u064a\u0632 (BIC) \u0644\n\u0627\u062e\u062a\u064a\u0627\u0631 \u0623\u0641\u0636\u0644 \u0646\u0645\u0648\u0630\u062c. \u0642\u0628\u0644 \u062a\u0646\u0627\u0633\u0628\n\u0647\u0630\u0627 \u0627\u0644\u0646\u0645\u0648\u0630\u062c\u060c \u0633\u0646\u0642\u0648\u0645 \u0628\u062a\u0635\u063a\u064a\u0631 \u0645\u062c\u0645\u0648\u0639\u0629 \u0627\u0644\u0628\u064a\u0627\u0646\u0627\u062a.\n\n\u0641\u064a \u0645\u0627 \u064a\u0644\u064a\u060c \u0633\u0646\u0642\u0648\u0645 \u0628\u062a\u0646\u0627\u0633\u0628 \u0646\u0645\u0648\u0630\u062c\u064a\u0646 \u0644\u0645\u0642\u0627\u0631\u0646\u0629 \u0627\u0644\u0642\u064a\u0645\n\u0627\u0644\u0645\u0628\u0644\u063a \u0639\u0646\u0647\u0627 \u0645\u0646 \u0642\u0628\u0644 AIC \u0648 BIC.\n\n"
      ]
    },
    {
      "cell_type": "code",
      "execution_count": null,
      "metadata": {
        "collapsed": false
      },
      "outputs": [],
      "source": [
        "from sklearn.linear_model import LassoLarsIC\nfrom sklearn.pipeline import make_pipeline\nfrom sklearn.preprocessing import StandardScaler\n\nlasso_lars_ic = make_pipeline(StandardScaler(), LassoLarsIC(criterion=\"aic\")).fit(X, y)"
      ]
    },
    {
      "cell_type": "markdown",
      "metadata": {},
      "source": [
        "\u0644\u0643\u064a \u0646\u0643\u0648\u0646 \u0639\u0644\u0649 \u0646\u0641\u0633 \u0627\u0644\u062e\u0637 \u0645\u0639 \u0627\u0644\u062a\u0639\u0631\u064a\u0641 \u0641\u064a [ZHT2007]_\u060c \u0646\u062d\u062a\u0627\u062c \u0625\u0644\u0649 \u0625\u0639\u0627\u062f\u0629 \u062a\u0635\u063a\u064a\u0631\nAIC \u0648 BIC. \u0641\u064a \u0627\u0644\u0648\u0627\u0642\u0639\u060c \u064a\u062a\u062c\u0627\u0647\u0644 Zou et al. \u0628\u0639\u0636 \u0627\u0644\u0645\u0635\u0637\u0644\u062d\u0627\u062a \u0627\u0644\u062b\u0627\u0628\u062a\u0629\n\u0645\u0642\u0627\u0631\u0646\u0629 \u0628\u0627\u0644\u062a\u0639\u0631\u064a\u0641 \u0627\u0644\u0623\u0635\u0644\u064a \u0644\u0640 AIC \u0627\u0644\u0645\u0634\u062a\u0642 \u0645\u0646 \u0627\u0644\u0644\u0648\u063a\u0627\u0631\u064a\u062a\u0645 \u0627\u0644\u0623\u0642\u0635\u0649 \u0644\u0646\u0645\u0648\u0630\u062c \u062e\u0637\u064a. \u064a\u0645\u0643\u0646\u0643 \u0627\u0644\u0631\u062c\u0648\u0639 \u0625\u0644\u0649\n`\u0642\u0633\u0645 \u0627\u0644\u062a\u0641\u0627\u0635\u064a\u0644 \u0627\u0644\u0631\u064a\u0627\u0636\u064a\u0629 \u0644\u062f\u0644\u064a\u0644 \u0627\u0644\u0645\u0633\u062a\u062e\u062f\u0645 <lasso_lars_ic>`.\n\n"
      ]
    },
    {
      "cell_type": "code",
      "execution_count": null,
      "metadata": {
        "collapsed": false
      },
      "outputs": [],
      "source": [
        "def zou_et_al_criterion_rescaling(criterion, n_samples, noise_variance):\n    \"\"\"\u0625\u0639\u0627\u062f\u0629 \u062a\u0635\u063a\u064a\u0631 \u0645\u0639\u064a\u0627\u0631 \u0627\u0644\u0645\u0639\u0644\u0648\u0645\u0627\u062a \u0644\u0645\u062a\u0627\u0628\u0639\u0629 \u062a\u0639\u0631\u064a\u0641 Zou et al.\"\"\"\n    return criterion - n_samples * np.log(2 * np.pi * noise_variance) - n_samples"
      ]
    },
    {
      "cell_type": "code",
      "execution_count": null,
      "metadata": {
        "collapsed": false
      },
      "outputs": [],
      "source": [
        "import numpy as np\n\naic_criterion = zou_et_al_criterion_rescaling(\n    lasso_lars_ic[-1].criterion_,\n    n_samples,\n    lasso_lars_ic[-1].noise_variance_,\n)\n\nindex_alpha_path_aic = np.flatnonzero(\n    lasso_lars_ic[-1].alphas_ == lasso_lars_ic[-1].alpha_\n)[0]"
      ]
    },
    {
      "cell_type": "code",
      "execution_count": null,
      "metadata": {
        "collapsed": false
      },
      "outputs": [],
      "source": [
        "lasso_lars_ic.set_params(lassolarsic__criterion=\"bic\").fit(X, y)\n\nbic_criterion = zou_et_al_criterion_rescaling(\n    lasso_lars_ic[-1].criterion_,\n    n_samples,\n    lasso_lars_ic[-1].noise_variance_,\n)\n\nindex_alpha_path_bic = np.flatnonzero(\n    lasso_lars_ic[-1].alphas_ == lasso_lars_ic[-1].alpha_\n)[0]"
      ]
    },
    {
      "cell_type": "markdown",
      "metadata": {},
      "source": [
        "\u0627\u0644\u0622\u0646 \u0628\u0639\u062f \u0623\u0646 \u062c\u0645\u0639\u0646\u0627 AIC \u0648 BIC\u060c \u064a\u0645\u0643\u0646\u0646\u0627 \u0623\u064a\u0636\u064b\u0627 \u0627\u0644\u062a\u062d\u0642\u0642 \u0645\u0646 \u0623\u0646 \u0627\u0644\u062d\u062f \u0627\u0644\u0623\u062f\u0646\u0649\n\u0644\u0643\u0644 \u0645\u0646 \u0627\u0644\u0645\u0639\u0627\u064a\u064a\u0631 \u064a\u062d\u062f\u062b \u0639\u0646\u062f \u0646\u0641\u0633 alpha. \u0628\u0639\u062f \u0630\u0644\u0643\u060c \u064a\u0645\u0643\u0646\u0646\u0627 \u062a\u0628\u0633\u064a\u0637\n\u0627\u0644\u0631\u0633\u0645 \u0627\u0644\u0628\u064a\u0627\u0646\u064a \u0627\u0644\u062a\u0627\u0644\u064a.\n\n"
      ]
    },
    {
      "cell_type": "code",
      "execution_count": null,
      "metadata": {
        "collapsed": false
      },
      "outputs": [],
      "source": [
        "index_alpha_path_aic == index_alpha_path_bic"
      ]
    },
    {
      "cell_type": "markdown",
      "metadata": {},
      "source": [
        "\u0623\u062e\u064a\u0631\u064b\u0627\u060c \u064a\u0645\u0643\u0646\u0646\u0627 \u0631\u0633\u0645 \u0645\u0639\u064a\u0627\u0631 AIC \u0648 BIC \u0648\u0627\u0644\u0645\u0639\u0644\u0645\u0629 \u0627\u0644\u0645\u0646\u062a\u0638\u0645\u0629 \u0627\u0644\u0644\u0627\u062d\u0642\u0629.\n\n"
      ]
    },
    {
      "cell_type": "code",
      "execution_count": null,
      "metadata": {
        "collapsed": false
      },
      "outputs": [],
      "source": [
        "import matplotlib.pyplot as plt\n\nplt.plot(aic_criterion, color=\"tab:blue\", marker=\"o\", label=\"AIC criterion\")\nplt.plot(bic_criterion, color=\"tab:orange\", marker=\"o\", label=\"BIC criterion\")\nplt.vlines(\n    index_alpha_path_bic,\n    aic_criterion.min(),\n    aic_criterion.max(),\n    color=\"black\",\n    linestyle=\"--\",\n    label=\"Selected alpha\",\n)\nplt.legend()\nplt.ylabel(\"Information criterion\")\nplt.xlabel(\"Lasso model sequence\")\n_ = plt.title(\"Lasso model selection via AIC and BIC\")"
      ]
    }
  ],
  "metadata": {
    "kernelspec": {
      "display_name": "Python 3",
      "language": "python",
      "name": "python3"
    },
    "language_info": {
      "codemirror_mode": {
        "name": "ipython",
        "version": 3
      },
      "file_extension": ".py",
      "mimetype": "text/x-python",
      "name": "python",
      "nbconvert_exporter": "python",
      "pygments_lexer": "ipython3",
      "version": "3.10.13"
    }
  },
  "nbformat": 4,
  "nbformat_minor": 0
}