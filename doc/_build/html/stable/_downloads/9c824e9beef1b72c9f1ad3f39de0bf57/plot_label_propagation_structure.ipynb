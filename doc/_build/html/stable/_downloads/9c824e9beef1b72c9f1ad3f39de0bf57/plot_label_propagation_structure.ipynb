{
  "cells": [
    {
      "cell_type": "markdown",
      "metadata": {},
      "source": [
        "\n# \u062a\u0639\u0644\u0645 \u0627\u0646\u062a\u0634\u0627\u0631 \u0627\u0644\u0639\u0644\u0627\u0645\u0627\u062a \u0644\u0647\u064a\u0643\u0644 \u0645\u0639\u0642\u062f\n\n\u0645\u062b\u0627\u0644 \u0639\u0644\u0649 \u062a\u0639\u0644\u0645 \u0627\u0646\u062a\u0634\u0627\u0631 \u0627\u0644\u0639\u0644\u0627\u0645\u0627\u062a \u0644\u0647\u064a\u0643\u0644 \u062f\u0627\u062e\u0644\u064a \u0645\u0639\u0642\u062f\n\u0644\u062a\u0648\u0636\u064a\u062d \"\u062a\u0639\u0644\u0645 \u0627\u0644\u0645\u0646\u062d\u0646\u0649\". \u064a\u062c\u0628 \u0623\u0646 \u062a\u0643\u0648\u0646 \u0627\u0644\u062f\u0627\u0626\u0631\u0629 \u0627\u0644\u062e\u0627\u0631\u062c\u064a\u0629\n\u0645\u064f\u0639\u064e\u0644\u064e\u0651\u0645\u0629 \u0628\u0627\u0644\u0644\u0648\u0646 \"\u0627\u0644\u0623\u062d\u0645\u0631\" \u0648\u0627\u0644\u062f\u0627\u0626\u0631\u0629 \u0627\u0644\u062f\u0627\u062e\u0644\u064a\u0629 \"\u0628\u0627\u0644\u0644\u0648\u0646 \u0627\u0644\u0623\u0632\u0631\u0642\". \u0644\u0623\u0646 \u0643\u0644 \u0645\u062c\u0645\u0648\u0639\u0629 \u0645\u0646 \u0627\u0644\u0639\u0644\u0627\u0645\u0627\u062a\n\u062a\u0642\u0639 \u062f\u0627\u062e\u0644 \u0634\u0643\u0644\u0647\u0627 \u0627\u0644\u0645\u0645\u064a\u0632\u060c \u064a\u0645\u0643\u0646\u0646\u0627 \u0623\u0646 \u0646\u0631\u0649 \u0623\u0646 \u0627\u0644\u0639\u0644\u0627\u0645\u0627\u062a\n\u062a\u0646\u062a\u0634\u0631 \u0628\u0634\u0643\u0644 \u0635\u062d\u064a\u062d \u062d\u0648\u0644 \u0627\u0644\u062f\u0627\u0626\u0631\u0629.\n"
      ]
    },
    {
      "cell_type": "code",
      "execution_count": null,
      "metadata": {
        "collapsed": false
      },
      "outputs": [],
      "source": [
        "# \u0627\u0644\u0645\u0624\u0644\u0641\u0648\u0646: \u0645\u0637\u0648\u0631\u064a \u0633\u0643\u0627\u064a\u0644\u0631\u0646\n# \u0645\u0639\u0631\u0641 \u0627\u0644\u062a\u0631\u062e\u064a\u0635: BSD-3-Clause"
      ]
    },
    {
      "cell_type": "markdown",
      "metadata": {},
      "source": [
        "\u0646\u0642\u0648\u0645 \u0628\u062a\u0648\u0644\u064a\u062f \u0645\u062c\u0645\u0648\u0639\u0629 \u0628\u064a\u0627\u0646\u0627\u062a \u0628\u062f\u0627\u0626\u0631\u062a\u064a\u0646 \u0645\u062a\u062d\u062f\u062a\u064a \u0627\u0644\u0645\u0631\u0643\u0632. \u0628\u0627\u0644\u0625\u0636\u0627\u0641\u0629 \u0625\u0644\u0649 \u0630\u0644\u0643\u060c \u064a\u062a\u0645 \u0631\u0628\u0637 \u0639\u0644\u0627\u0645\u0629\n\u0628\u0643\u0644 \u0639\u064a\u0646\u0629 \u0645\u0646 \u0645\u062c\u0645\u0648\u0639\u0629 \u0627\u0644\u0628\u064a\u0627\u0646\u0627\u062a \u0648\u0647\u064a: 0 (\u062a\u0627\u0628\u0639\u0629\n\u0644\u0644\u062f\u0627\u0626\u0631\u0629 \u0627\u0644\u062e\u0627\u0631\u062c\u064a\u0629)\u060c 1 (\u062a\u0627\u0628\u0639\u0629 \u0644\u0644\u062f\u0627\u0626\u0631\u0629 \u0627\u0644\u062f\u0627\u062e\u0644\u064a\u0629)\u060c \u0648 -1 (\u063a\u064a\u0631 \u0645\u0639\u0631\u0648\u0641\u0629).\n\u0647\u0646\u0627\u060c \u062c\u0645\u064a\u0639 \u0627\u0644\u0639\u0644\u0627\u0645\u0627\u062a \u0645\u0627 \u0639\u062f\u0627 \u0627\u062b\u0646\u062a\u064a\u0646 \u062a\u0645 \u0648\u0633\u0645\u0647\u0627 \u0639\u0644\u0649 \u0623\u0646\u0647\u0627 \u063a\u064a\u0631 \u0645\u0639\u0631\u0648\u0641\u0629.\n\n"
      ]
    },
    {
      "cell_type": "code",
      "execution_count": null,
      "metadata": {
        "collapsed": false
      },
      "outputs": [],
      "source": [
        "import numpy as np\n\nfrom sklearn.datasets import make_circles\n\nn_samples = 200\nX, y = make_circles(n_samples=n_samples, shuffle=False)\nouter, inner = 0, 1\nlabels = np.full(n_samples, -1.0)\nlabels[0] = outer\nlabels[-1] = inner"
      ]
    },
    {
      "cell_type": "markdown",
      "metadata": {},
      "source": [
        "\u0631\u0633\u0645 \u0627\u0644\u0628\u064a\u0627\u0646\u0627\u062a \u0627\u0644\u062e\u0627\u0645\n\n"
      ]
    },
    {
      "cell_type": "code",
      "execution_count": null,
      "metadata": {
        "collapsed": false
      },
      "outputs": [],
      "source": [
        "import matplotlib.pyplot as plt\n\nplt.figure(figsize=(4, 4))\nplt.scatter(\n    X[labels == outer, 0],\n    X[labels == outer, 1],\n    color=\"navy\",\n    marker=\"s\",\n    lw=0,\n    label=\"outer labeled\",\n    s=10,\n)\nplt.scatter(\n    X[labels == inner, 0],\n    X[labels == inner, 1],\n    color=\"c\",\n    marker=\"s\",\n    lw=0,\n    label=\"inner labeled\",\n    s=10,\n)\nplt.scatter(\n    X[labels == -1, 0],\n    X[labels == -1, 1],\n    color=\"darkorange\",\n    marker=\".\",\n    label=\"unlabeled\",\n)\nplt.legend(scatterpoints=1, shadow=False, loc=\"center\")\n_ = plt.title(\"Raw data (2 classes=outer and inner)\")"
      ]
    },
    {
      "cell_type": "markdown",
      "metadata": {},
      "source": [
        "\u0627\u0644\u0647\u062f\u0641 \u0645\u0646 :class:`~sklearn.semi_supervised.LabelSpreading` \u0647\u0648 \u0631\u0628\u0637\n\u0639\u0644\u0627\u0645\u0629 \u0628\u0639\u064a\u0646\u0629 \u062d\u064a\u062b \u062a\u0643\u0648\u0646 \u0627\u0644\u0639\u0644\u0627\u0645\u0629 \u063a\u064a\u0631 \u0645\u0639\u0631\u0648\u0641\u0629 \u0641\u064a \u0627\u0644\u0628\u062f\u0627\u064a\u0629.\n\n"
      ]
    },
    {
      "cell_type": "code",
      "execution_count": null,
      "metadata": {
        "collapsed": false
      },
      "outputs": [],
      "source": [
        "from sklearn.semi_supervised import LabelSpreading\n\nlabel_spread = LabelSpreading(kernel=\"knn\", alpha=0.8)\nlabel_spread.fit(X, labels)"
      ]
    },
    {
      "cell_type": "markdown",
      "metadata": {},
      "source": [
        "\u0627\u0644\u0622\u0646\u060c \u064a\u0645\u0643\u0646\u0646\u0627 \u0627\u0644\u062a\u062d\u0642\u0642 \u0645\u0646 \u0627\u0644\u0639\u0644\u0627\u0645\u0627\u062a \u0627\u0644\u062a\u064a \u062a\u0645 \u0631\u0628\u0637\u0647\u0627 \u0628\u0643\u0644 \u0639\u064a\u0646\u0629\n\u0639\u0646\u062f\u0645\u0627 \u0643\u0627\u0646\u062a \u0627\u0644\u0639\u0644\u0627\u0645\u0629 \u063a\u064a\u0631 \u0645\u0639\u0631\u0648\u0641\u0629.\n\n"
      ]
    },
    {
      "cell_type": "code",
      "execution_count": null,
      "metadata": {
        "collapsed": false
      },
      "outputs": [],
      "source": [
        "output_labels = label_spread.transduction_\noutput_label_array = np.asarray(output_labels)\nouter_numbers = np.where(output_label_array == outer)[0]\ninner_numbers = np.where(output_label_array == inner)[0]\n\nplt.figure(figsize=(4, 4))\nplt.scatter(\n    X[outer_numbers, 0],\n    X[outer_numbers, 1],\n    color=\"navy\",\n    marker=\"s\",\n    lw=0,\n    s=10,\n    label=\"outer learned\",\n)\nplt.scatter(\n    X[inner_numbers, 0],\n    X[inner_numbers, 1],\n    color=\"c\",\n    marker=\"s\",\n    lw=0,\n    s=10,\n    label=\"inner learned\",\n)\nplt.legend(scatterpoints=1, shadow=False, loc=\"center\")\nplt.title(\"Labels learned with Label Spreading (KNN)\")\nplt.show()"
      ]
    }
  ],
  "metadata": {
    "kernelspec": {
      "display_name": "Python 3",
      "language": "python",
      "name": "python3"
    },
    "language_info": {
      "codemirror_mode": {
        "name": "ipython",
        "version": 3
      },
      "file_extension": ".py",
      "mimetype": "text/x-python",
      "name": "python",
      "nbconvert_exporter": "python",
      "pygments_lexer": "ipython3",
      "version": "3.10.13"
    }
  },
  "nbformat": 4,
  "nbformat_minor": 0
}