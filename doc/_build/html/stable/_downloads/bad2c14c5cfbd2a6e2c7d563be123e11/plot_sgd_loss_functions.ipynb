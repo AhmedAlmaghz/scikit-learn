{
  "cells": [
    {
      "cell_type": "markdown",
      "metadata": {},
      "source": [
        "\n# SGD: \u062f\u0627\u0644\u0627\u062a \u0627\u0644\u062e\u0633\u0627\u0631\u0629 \u0627\u0644\u0645\u0642\u0639\u0631\u0629\n\n\u0631\u0633\u0645 \u0628\u064a\u0627\u0646\u064a \u064a\u0642\u0627\u0631\u0646 \u0628\u064a\u0646 \u062f\u0627\u0644\u0627\u062a \u0627\u0644\u062e\u0633\u0627\u0631\u0629 \u0627\u0644\u0645\u0642\u0639\u0631\u0629 \u0627\u0644\u0645\u062e\u062a\u0644\u0641\u0629 \u0627\u0644\u0645\u062f\u0639\u0648\u0645\u0629 \u0645\u0646 \u0642\u0628\u0644\n:class:`~sklearn.linear_model.SGDClassifier` .\n"
      ]
    },
    {
      "cell_type": "code",
      "execution_count": null,
      "metadata": {
        "collapsed": false
      },
      "outputs": [],
      "source": [
        "# \u0627\u0644\u0645\u0624\u0644\u0641\u0648\u0646: \u0645\u0637\u0648\u0631\u064a \u0633\u0643\u0627\u064a\u0644\u0631\u0646\n# \u0645\u0639\u0631\u0641 \u0627\u0644\u062a\u0631\u062e\u064a\u0635: BSD-3-Clause\n\nimport matplotlib.pyplot as plt\nimport numpy as np\n\n\ndef modified_huber_loss(y_true, y_pred):\n    z = y_pred * y_true\n    loss = -4 * z\n    loss[z >= -1] = (1 - z[z >= -1]) ** 2\n    loss[z >= 1.0] = 0\n    return loss\n\n\nxmin, xmax = -4, 4\nxx = np.linspace(xmin, xmax, 100)\nlw = 2\nplt.plot([xmin, 0, 0, xmax], [1, 1, 0, 0], color=\"gold\", lw=lw, label=\"Zero-one loss\")\nplt.plot(xx, np.where(xx < 1, 1 - xx, 0), color=\"teal\", lw=lw, label=\"Hinge loss\")\nplt.plot(xx, -np.minimum(xx, 0), color=\"yellowgreen\", lw=lw, label=\"Perceptron loss\")\nplt.plot(xx, np.log2(1 + np.exp(-xx)), color=\"cornflowerblue\", lw=lw, label=\"Log loss\")\nplt.plot(\n    xx,\n    np.where(xx < 1, 1 - xx, 0) ** 2,\n    color=\"orange\",\n    lw=lw,\n    label=\"Squared hinge loss\",\n)\nplt.plot(\n    xx,\n    modified_huber_loss(xx, 1),\n    color=\"darkorchid\",\n    lw=lw,\n    linestyle=\"--\",\n    label=\"Modified Huber loss\",\n)\nplt.ylim((0, 8))\nplt.legend(loc=\"upper right\")\nplt.xlabel(r\"Decision function $f(x)$\")\nplt.ylabel(\"$L(y=1, f(x))$\")\nplt.show()"
      ]
    }
  ],
  "metadata": {
    "kernelspec": {
      "display_name": "Python 3",
      "language": "python",
      "name": "python3"
    },
    "language_info": {
      "codemirror_mode": {
        "name": "ipython",
        "version": 3
      },
      "file_extension": ".py",
      "mimetype": "text/x-python",
      "name": "python",
      "nbconvert_exporter": "python",
      "pygments_lexer": "ipython3",
      "version": "3.10.13"
    }
  },
  "nbformat": 4,
  "nbformat_minor": 0
}