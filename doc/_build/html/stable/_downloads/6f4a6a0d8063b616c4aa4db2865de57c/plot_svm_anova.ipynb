{
  "cells": [
    {
      "cell_type": "markdown",
      "metadata": {},
      "source": [
        "\n# SVM-Anova: SVM \u0645\u0639 \u0627\u062e\u062a\u064a\u0627\u0631 \u0627\u0644\u0645\u064a\u0632\u0627\u062a \u0623\u062d\u0627\u062f\u064a\u0629 \u0627\u0644\u0645\u062a\u063a\u064a\u0631\n\n\u0647\u0630\u0627 \u0627\u0644\u0645\u062b\u0627\u0644 \u064a\u0648\u0636\u062d \u0643\u064a\u0641\u064a\u0629 \u0625\u062c\u0631\u0627\u0621 \u0627\u062e\u062a\u064a\u0627\u0631 \u0627\u0644\u0645\u064a\u0632\u0627\u062a \u0623\u062d\u0627\u062f\u064a\u0629 \u0627\u0644\u0645\u062a\u063a\u064a\u0631 \u0642\u0628\u0644 \u062a\u0634\u063a\u064a\u0644\nSVC (\u0645\u0635\u0646\u0641 \u0627\u0644\u0645\u062a\u062c\u0647 \u0627\u0644\u062f\u0627\u0639\u0645) \u0644\u062a\u062d\u0633\u064a\u0646 \u062f\u0631\u062c\u0627\u062a \u0627\u0644\u062a\u0635\u0646\u064a\u0641. \u0646\u062d\u0646 \u0646\u0633\u062a\u062e\u062f\u0645\n\u0645\u062c\u0645\u0648\u0639\u0629 \u0628\u064a\u0627\u0646\u0627\u062a \u0627\u0644\u0632\u0647\u0631\u0629 (4 \u0645\u064a\u0632\u0627\u062a) \u0648\u0646\u0636\u064a\u0641 36 \u0645\u064a\u0632\u0629 \u063a\u064a\u0631 \u0625\u0639\u0644\u0627\u0645\u064a\u0629. \u064a\u0645\u0643\u0646\u0646\u0627 \u0623\u0646 \u0646\u062c\u062f\n\u0623\u0646 \u0646\u0645\u0648\u0630\u062c\u0646\u0627 \u064a\u062d\u0642\u0642 \u0623\u0641\u0636\u0644 \u0623\u062f\u0627\u0621 \u0639\u0646\u062f\u0645\u0627 \u0646\u062e\u062a\u0627\u0631 \u062d\u0648\u0627\u0644\u064a 10% \u0645\u0646 \u0627\u0644\u0645\u064a\u0632\u0627\u062a.\n"
      ]
    },
    {
      "cell_type": "code",
      "execution_count": null,
      "metadata": {
        "collapsed": false
      },
      "outputs": [],
      "source": [
        "# \u0627\u0644\u0645\u0624\u0644\u0641\u0648\u0646: \u0645\u0637\u0648\u0631\u064a \u0633\u0643\u0627\u064a\u0644\u0631\u0646\n# \u0645\u0639\u0631\u0641 \u0627\u0644\u062a\u0631\u062e\u064a\u0635: BSD-3-Clause"
      ]
    },
    {
      "cell_type": "markdown",
      "metadata": {},
      "source": [
        "## \u062a\u062d\u0645\u064a\u0644 \u0628\u0639\u0636 \u0627\u0644\u0628\u064a\u0627\u0646\u0627\u062a \u0644\u0644\u062a\u062c\u0631\u0628\u0629\n\n"
      ]
    },
    {
      "cell_type": "code",
      "execution_count": null,
      "metadata": {
        "collapsed": false
      },
      "outputs": [],
      "source": [
        "import numpy as np\n\nfrom sklearn.datasets import load_iris\n\nX, y = load_iris(return_X_y=True)\n\n# \u0625\u0636\u0627\u0641\u0629 \u0645\u064a\u0632\u0627\u062a \u063a\u064a\u0631 \u0625\u0639\u0644\u0627\u0645\u064a\u0629\nrng = np.random.RandomState(0)\nX = np.hstack((X, 2 * rng.random((X.shape[0], 36))))"
      ]
    },
    {
      "cell_type": "markdown",
      "metadata": {},
      "source": [
        "## \u0625\u0646\u0634\u0627\u0621 \u062e\u0637 \u0627\u0644\u0623\u0646\u0627\u0628\u064a\u0628\n\n"
      ]
    },
    {
      "cell_type": "code",
      "execution_count": null,
      "metadata": {
        "collapsed": false
      },
      "outputs": [],
      "source": [
        "from sklearn.feature_selection import SelectPercentile, f_classif\nfrom sklearn.pipeline import Pipeline\nfrom sklearn.preprocessing import StandardScaler\nfrom sklearn.svm import SVC\n\n# \u0625\u0646\u0634\u0627\u0621 \u062a\u062d\u0648\u064a\u0644 \u0627\u062e\u062a\u064a\u0627\u0631 \u0627\u0644\u0645\u064a\u0632\u0627\u062a\u060c \u0648\u0645\u0642\u064a\u0627\u0633\u060c \u0648\u0646\u0633\u062e\u0629 \u0645\u0646 SVM \u0627\u0644\u062a\u064a\n# \u0646\u062c\u0645\u0639\u0647\u0627 \u0645\u0639\u064b\u0627 \u0644\u0644\u062d\u0635\u0648\u0644 \u0639\u0644\u0649 \u0623\u062f\u0627\u0629 \u062a\u0642\u062f\u064a\u0631 \u0643\u0627\u0645\u0644\u0629\n\nclf = Pipeline(\n    [\n        (\"anova\", SelectPercentile(f_classif)),\n        (\"scaler\", StandardScaler()),\n        (\"svc\", SVC(gamma=\"auto\")),\n    ]\n)"
      ]
    },
    {
      "cell_type": "markdown",
      "metadata": {},
      "source": [
        "## \u0631\u0633\u0645 \u0645\u062a\u0648\u0633\u0637 \u062f\u0631\u062c\u0627\u062a \u0627\u0644\u062a\u062d\u0642\u0642 \u0627\u0644\u0635\u0644\u064a\u0628\u064a \u0643\u062f\u0627\u0644\u0629 \u0644\u0646\u0633\u0628\u0629 \u0627\u0644\u0645\u0626\u0648\u064a\u0629 \u0644\u0644\u0645\u064a\u0632\u0627\u062a\n\n"
      ]
    },
    {
      "cell_type": "code",
      "execution_count": null,
      "metadata": {
        "collapsed": false
      },
      "outputs": [],
      "source": [
        "import matplotlib.pyplot as plt\n\nfrom sklearn.model_selection import cross_val_score\n\nscore_means = list()\nscore_stds = list()\npercentiles = (1, 3, 6, 10, 15, 20, 30, 40, 60, 80, 100)\n\nfor percentile in percentiles:\n    clf.set_params(anova__percentile=percentile)\n    this_scores = cross_val_score(clf, X, y)\n    score_means.append(this_scores.mean())\n    score_stds.append(this_scores.std())\n\nplt.errorbar(percentiles, score_means, np.array(score_stds))\nplt.title(\"\u0623\u062f\u0627\u0621 SVM-Anova \u0628\u062a\u063a\u064a\u064a\u0631 \u0646\u0633\u0628\u0629 \u0627\u0644\u0645\u0626\u0648\u064a\u0629 \u0644\u0644\u0645\u064a\u0632\u0627\u062a \u0627\u0644\u0645\u062e\u062a\u0627\u0631\u0629\")\nplt.xticks(np.linspace(0, 100, 11, endpoint=True))\nplt.xlabel(\"\u0646\u0633\u0628\u0629 \u0645\u0626\u0648\u064a\u0629\")\nplt.ylabel(\"\u062f\u0631\u062c\u0629 \u0627\u0644\u062f\u0642\u0629\")\nplt.axis(\"tight\")\nplt.show()"
      ]
    }
  ],
  "metadata": {
    "kernelspec": {
      "display_name": "Python 3",
      "language": "python",
      "name": "python3"
    },
    "language_info": {
      "codemirror_mode": {
        "name": "ipython",
        "version": 3
      },
      "file_extension": ".py",
      "mimetype": "text/x-python",
      "name": "python",
      "nbconvert_exporter": "python",
      "pygments_lexer": "ipython3",
      "version": "3.10.13"
    }
  },
  "nbformat": 4,
  "nbformat_minor": 0
}