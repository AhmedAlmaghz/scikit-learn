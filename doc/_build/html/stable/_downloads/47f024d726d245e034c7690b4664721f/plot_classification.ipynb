{
  "cells": [
    {
      "cell_type": "markdown",
      "metadata": {},
      "source": [
        "\n# \u062a\u0635\u0646\u064a\u0641 \u0623\u0642\u0631\u0628 \u0627\u0644\u062c\u064a\u0631\u0627\u0646\n\n\u0647\u0630\u0627 \u0627\u0644\u0645\u062b\u0627\u0644 \u064a\u0648\u0636\u062d \u0643\u064a\u0641\u064a\u0629 \u0627\u0633\u062a\u062e\u062f\u0627\u0645 :class:`~sklearn.neighbors.KNeighborsClassifier`.\n\u0646\u0642\u0648\u0645 \u0628\u062a\u062f\u0631\u064a\u0628 \u0645\u0635\u0646\u0641 \u0645\u062b\u0644 \u0647\u0630\u0627 \u0639\u0644\u0649 \u0645\u062c\u0645\u0648\u0639\u0629 \u0628\u064a\u0627\u0646\u0627\u062a \u0627\u0644\u0632\u0647\u0631\u0629 \u0627\u0644\u0646\u0631\u062c\u0633\u064a\u0629 \u0648\u0646\u0644\u0627\u062d\u0638 \u0627\u0644\u0641\u0631\u0642 \u0641\u064a \u062d\u062f\u0648\u062f \u0627\u0644\u0642\u0631\u0627\u0631 \u0627\u0644\u062a\u064a \u062a\u0645 \u0627\u0644\u062d\u0635\u0648\u0644 \u0639\u0644\u064a\u0647\u0627 \u0641\u064a\u0645\u0627 \u064a\u062a\u0639\u0644\u0642 \u0628\u0645\u0639\u0644\u0645\u0629 `weights`.\n"
      ]
    },
    {
      "cell_type": "code",
      "execution_count": null,
      "metadata": {
        "collapsed": false
      },
      "outputs": [],
      "source": [
        "# \u0627\u0644\u0645\u0624\u0644\u0641\u0648\u0646: \u0645\u0637\u0648\u0631\u064a \u0633\u0643\u0627\u064a\u0644\u0631\u0646\n# \u0645\u0639\u0631\u0641 \u0627\u0644\u062a\u0631\u062e\u064a\u0635: BSD-3-Clause"
      ]
    },
    {
      "cell_type": "markdown",
      "metadata": {},
      "source": [
        "## \u062a\u062d\u0645\u064a\u0644 \u0627\u0644\u0628\u064a\u0627\u0646\u0627\u062a\n\n\u0641\u064a \u0647\u0630\u0627 \u0627\u0644\u0645\u062b\u0627\u0644\u060c \u0646\u0633\u062a\u062e\u062f\u0645 \u0645\u062c\u0645\u0648\u0639\u0629 \u0628\u064a\u0627\u0646\u0627\u062a \u0627\u0644\u0632\u0647\u0631\u0629 \u0627\u0644\u0646\u0631\u062c\u0633\u064a\u0629. \u0646\u0642\u0648\u0645 \u0628\u062a\u0642\u0633\u064a\u0645 \u0627\u0644\u0628\u064a\u0627\u0646\u0627\u062a \u0625\u0644\u0649 \u0645\u062c\u0645\u0648\u0639\u0629 \u062a\u062f\u0631\u064a\u0628 \u0648\u0627\u062e\u062a\u0628\u0627\u0631.\n\n"
      ]
    },
    {
      "cell_type": "code",
      "execution_count": null,
      "metadata": {
        "collapsed": false
      },
      "outputs": [],
      "source": [
        "from sklearn.datasets import load_iris\nfrom sklearn.model_selection import train_test_split\n\niris = load_iris(as_frame=True)\nX = iris.data[[\"sepal length (cm)\", \"sepal width (cm)\"]]\ny = iris.target\nX_train, X_test, y_train, y_test = train_test_split(X, y, stratify=y, random_state=0)"
      ]
    },
    {
      "cell_type": "markdown",
      "metadata": {},
      "source": [
        "## \u0645\u0635\u0646\u0641 \u0623\u0642\u0631\u0628 \u0627\u0644\u062c\u064a\u0631\u0627\u0646\n\n\u0646\u0631\u064a\u062f \u0627\u0633\u062a\u062e\u062f\u0627\u0645 \u0645\u0635\u0646\u0641 \u0623\u0642\u0631\u0628 \u0627\u0644\u062c\u064a\u0631\u0627\u0646 \u0645\u0639 \u0645\u0631\u0627\u0639\u0627\u0629 \u062d\u064a \u0645\u0646 11 \u0646\u0642\u0637\u0629 \u0628\u064a\u0627\u0646\u0627\u062a. \u0646\u0638\u0631\u064b\u0627 \u0644\u0623\u0646 \u0646\u0645\u0648\u0630\u062c \u0623\u0642\u0631\u0628 \u0627\u0644\u062c\u064a\u0631\u0627\u0646 \u0644\u062f\u064a\u0646\u0627 \u064a\u0633\u062a\u062e\u062f\u0645 \u0627\u0644\u0645\u0633\u0627\u0641\u0629 \u0627\u0644\u0625\u0642\u0644\u064a\u062f\u064a\u0629 \u0644\u0644\u0639\u062b\u0648\u0631 \u0639\u0644\u0649 \u0627\u0644\u062c\u064a\u0631\u0627\u0646 \u0627\u0644\u0623\u0642\u0631\u0628\u060c \u0641\u0645\u0646 \u0627\u0644\u0645\u0647\u0645 \u0628\u0627\u0644\u062a\u0627\u0644\u064a \u0642\u064a\u0627\u0633 \u0627\u0644\u0628\u064a\u0627\u0646\u0627\u062a \u0645\u0633\u0628\u0642\u064b\u0627. \u064a\u0631\u062c\u0649 \u0627\u0644\u0631\u062c\u0648\u0639 \u0625\u0644\u0649\n\u0627\u0644\u0645\u062b\u0627\u0644 \u0627\u0644\u0645\u0639\u0646\u0648\u0646\n`sphx_glr_auto_examples_preprocessing_plot_scaling_importance.py` \u0644\u0644\u062d\u0635\u0648\u0644 \u0639\u0644\u0649 \u0645\u0639\u0644\u0648\u0645\u0627\u062a \u0623\u0643\u062b\u0631\n\u062a\u0641\u0635\u064a\u0644\u0627\u064b.\n\n\u0644\u0630\u0644\u0643\u060c \u0646\u0633\u062a\u062e\u062f\u0645 :class:`~sklearn.pipeline.Pipeline` \u0644\u0631\u0628\u0637 \u0645\u0642\u064a\u0627\u0633 \u0642\u0628\u0644 \u0627\u0633\u062a\u062e\u062f\u0627\u0645\n\u0627\u0644\u0645\u0635\u0646\u0641 \u0627\u0644\u062e\u0627\u0635 \u0628\u0646\u0627.\n\n"
      ]
    },
    {
      "cell_type": "code",
      "execution_count": null,
      "metadata": {
        "collapsed": false
      },
      "outputs": [],
      "source": [
        "from sklearn.neighbors import KNeighborsClassifier\nfrom sklearn.pipeline import Pipeline\nfrom sklearn.preprocessing import StandardScaler\n\nclf = Pipeline(\n    steps=[(\"scaler\", StandardScaler()), (\"knn\", KNeighborsClassifier(n_neighbors=11))]\n)"
      ]
    },
    {
      "cell_type": "markdown",
      "metadata": {},
      "source": [
        "## \u062d\u062f\u0648\u062f \u0627\u0644\u0642\u0631\u0627\u0631\n\n\u0627\u0644\u0622\u0646\u060c \u0646\u0642\u0648\u0645 \u0628\u062a\u062f\u0631\u064a\u0628 \u0645\u0635\u0646\u0641\u064a\u0646 \u0645\u0639 \u0642\u064a\u0645 \u0645\u062e\u062a\u0644\u0641\u0629 \u0644\u0645\u0639\u0644\u0645\u0629\n`weights`. \u0646\u0642\u0648\u0645 \u0628\u0631\u0633\u0645 \u062d\u062f\u0648\u062f \u0627\u0644\u0642\u0631\u0627\u0631 \u0644\u0643\u0644 \u0645\u0635\u0646\u0641 \u0628\u0627\u0644\u0625\u0636\u0627\u0641\u0629 \u0625\u0644\u0649 \u0645\u062c\u0645\u0648\u0639\u0629 \u0627\u0644\u0628\u064a\u0627\u0646\u0627\u062a \u0627\u0644\u0623\u0635\u0644\u064a\u0629 \u0644\u0645\u0644\u0627\u062d\u0638\u0629 \u0627\u0644\u0641\u0631\u0642.\n\n"
      ]
    },
    {
      "cell_type": "code",
      "execution_count": null,
      "metadata": {
        "collapsed": false
      },
      "outputs": [],
      "source": [
        "import matplotlib.pyplot as plt\n\nfrom sklearn.inspection import DecisionBoundaryDisplay\n\n_, axs = plt.subplots(ncols=2, figsize=(12, 5))\n\nfor ax, weights in zip(axs, (\"uniform\", \"distance\")):\n    clf.set_params(knn__weights=weights).fit(X_train, y_train)\n    disp = DecisionBoundaryDisplay.from_estimator(\n        clf,\n        X_test,\n        response_method=\"predict\",\n        plot_method=\"pcolormesh\",\n        xlabel=iris.feature_names[0],\n        ylabel=iris.feature_names[1],\n        shading=\"auto\",\n        alpha=0.5,\n        ax=ax,\n    )\n    scatter = disp.ax_.scatter(X.iloc[:, 0], X.iloc[:, 1], c=y, edgecolors=\"k\")\n    disp.ax_.legend(\n        scatter.legend_elements()[0],\n        iris.target_names,\n        loc=\"lower left\",\n        title=\"Classes\",\n    )\n    _ = disp.ax_.set_title(\n        f\"3-Class classification\\n(k={clf[-1].n_neighbors}, weights={weights!r})\"\n    )\n\nplt.show()"
      ]
    },
    {
      "cell_type": "markdown",
      "metadata": {},
      "source": [
        "## \u0627\u0644\u062e\u0644\u0627\u0635\u0629\n\n\u0646\u0644\u0627\u062d\u0638 \u0623\u0646 \u0644\u0645\u0639\u0644\u0645\u0629 `weights` \u062a\u0623\u062b\u064a\u0631 \u0639\u0644\u0649 \u062d\u062f\u0648\u062f \u0627\u0644\u0642\u0631\u0627\u0631. \u0639\u0646\u062f\u0645\u0627\n`weights=\"unifom\"` \u0633\u064a\u0643\u0648\u0646 \u0644\u062c\u0645\u064a\u0639 \u0627\u0644\u062c\u064a\u0631\u0627\u0646 \u0627\u0644\u0623\u0642\u0631\u0628 \u0646\u0641\u0633 \u0627\u0644\u062a\u0623\u062b\u064a\u0631 \u0639\u0644\u0649 \u0627\u0644\u0642\u0631\u0627\u0631.\n\u0641\u064a \u062d\u064a\u0646 \u0639\u0646\u062f\u0645\u0627 `weights=\"distance\"` \u064a\u0643\u0648\u0646 \u0627\u0644\u0648\u0632\u0646 \u0627\u0644\u0645\u0639\u0637\u0649 \u0644\u0643\u0644 \u062c\u0627\u0631 \u064a\u062a\u0646\u0627\u0633\u0628\n\u0645\u0639 \u0627\u0644\u0639\u0643\u0633 \u0644\u0645\u0633\u0627\u0641\u0629 \u0630\u0644\u0643 \u0627\u0644\u062c\u0627\u0631 \u0645\u0646 \u0646\u0642\u0637\u0629 \u0627\u0644\u0627\u0633\u062a\u0639\u0644\u0627\u0645.\n\n\u0641\u064a \u0628\u0639\u0636 \u0627\u0644\u062d\u0627\u0644\u0627\u062a\u060c \u0642\u062f \u064a\u0624\u062f\u064a \u0623\u062e\u0630 \u0627\u0644\u0645\u0633\u0627\u0641\u0629 \u0641\u064a \u0627\u0644\u0627\u0639\u062a\u0628\u0627\u0631 \u0625\u0644\u0649 \u062a\u062d\u0633\u064a\u0646 \u0627\u0644\u0646\u0645\u0648\u0630\u062c.\n"
      ]
    }
  ],
  "metadata": {
    "kernelspec": {
      "display_name": "Python 3",
      "language": "python",
      "name": "python3"
    },
    "language_info": {
      "codemirror_mode": {
        "name": "ipython",
        "version": 3
      },
      "file_extension": ".py",
      "mimetype": "text/x-python",
      "name": "python",
      "nbconvert_exporter": "python",
      "pygments_lexer": "ipython3",
      "version": "3.10.13"
    }
  },
  "nbformat": 4,
  "nbformat_minor": 0
}