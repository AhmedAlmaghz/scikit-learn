{
  "cells": [
    {
      "cell_type": "markdown",
      "metadata": {},
      "source": [
        "\n# \u062a\u0623\u062b\u064a\u0631 \u062a\u062d\u0648\u064a\u0644 \u0627\u0644\u0623\u0647\u062f\u0627\u0641 \u0641\u064a \u0646\u0645\u0648\u0630\u062c \u0627\u0644\u0627\u0646\u062d\u062f\u0627\u0631\n\n\u0641\u064a \u0647\u0630\u0627 \u0627\u0644\u0645\u062b\u0627\u0644\u060c \u0646\u0642\u062f\u0645 \u0646\u0638\u0631\u0629 \u0639\u0627\u0645\u0629 \u0639\u0644\u0649\n:class:`~sklearn.compose.TransformedTargetRegressor`. \u0646\u0633\u062a\u062e\u062f\u0645 \u0645\u062b\u0627\u0644\u064a\u0646\n\u0644\u062a\u0648\u0636\u064a\u062d \u0641\u0627\u0626\u062f\u0629 \u062a\u062d\u0648\u064a\u0644 \u0627\u0644\u0623\u0647\u062f\u0627\u0641 \u0642\u0628\u0644 \u062a\u0639\u0644\u0645 \u0646\u0645\u0648\u0630\u062c \u0627\u0644\u0627\u0646\u062d\u062f\u0627\u0631 \u0627\u0644\u062e\u0637\u064a. \u064a\u0633\u062a\u062e\u062f\u0645 \u0627\u0644\u0645\u062b\u0627\u0644 \u0627\u0644\u0623\u0648\u0644 \u0628\u064a\u0627\u0646\u0627\u062a \u0627\u0635\u0637\u0646\u0627\u0639\u064a\u0629 \u0628\u064a\u0646\u0645\u0627 \u064a\u0639\u062a\u0645\u062f \u0627\u0644\u0645\u062b\u0627\u0644\n\u0627\u0644\u062b\u0627\u0646\u064a \u0639\u0644\u0649 \u0645\u062c\u0645\u0648\u0639\u0629 \u0628\u064a\u0627\u0646\u0627\u062a \u0625\u0633\u0643\u0627\u0646 \u0625\u064a\u0645\u0632.\n"
      ]
    },
    {
      "cell_type": "code",
      "execution_count": null,
      "metadata": {
        "collapsed": false
      },
      "outputs": [],
      "source": [
        "# \u0627\u0644\u0645\u0624\u0644\u0641\u0648\u0646: \u0645\u0637\u0648\u0631\u064a \u0633\u0643\u0627\u064a\u062a-\u0644\u064a\u0631\u0646\n# \u0645\u0639\u0631\u0641 \u0627\u0644\u062a\u0631\u062e\u064a\u0635: BSD-3-Clause\n\nfrom sklearn.preprocessing import QuantileTransformer\nfrom sklearn.preprocessing import quantile_transform\nfrom sklearn.datasets import fetch_openml\nfrom sklearn.metrics import PredictionErrorDisplay\nfrom sklearn.linear_model import RidgeCV\nfrom sklearn.compose import TransformedTargetRegressor\nfrom sklearn.metrics import median_absolute_error, r2_score\nfrom sklearn.model_selection import train_test_split\nimport matplotlib.pyplot as plt\nfrom sklearn.datasets import make_regression\nimport numpy as np\nprint(__doc__)"
      ]
    },
    {
      "cell_type": "markdown",
      "metadata": {},
      "source": [
        "## \u0645\u062b\u0627\u0644 \u0627\u0635\u0637\u0646\u0627\u0639\u064a\n\n\u064a\u062a\u0645 \u0625\u0646\u0634\u0627\u0621 \u0645\u062c\u0645\u0648\u0639\u0629 \u0628\u064a\u0627\u0646\u0627\u062a \u062a\u0631\u0627\u062c\u0639\u064a\u0629 \u0639\u0634\u0648\u0627\u0626\u064a\u0629 \u0627\u0635\u0637\u0646\u0627\u0639\u064a\u0629. \u064a\u062a\u0645 \u062a\u0639\u062f\u064a\u0644 \u0627\u0644\u0623\u0647\u062f\u0627\u0641 ``y``\n\u0645\u0646 \u062e\u0644\u0627\u0644:\n\n1. \u062a\u0631\u062c\u0645\u0629 \u062c\u0645\u064a\u0639 \u0627\u0644\u0623\u0647\u062f\u0627\u0641 \u0628\u062d\u064a\u062b \u062a\u0643\u0648\u0646\n   \u062c\u0645\u064a\u0639 \u0627\u0644\u0625\u062f\u062e\u0627\u0644\u0627\u062a \u063a\u064a\u0631 \u0633\u0644\u0628\u064a\u0629 (\u0628\u0625\u0636\u0627\u0641\u0629 \u0627\u0644\u0642\u064a\u0645\u0629 \u0627\u0644\u0645\u0637\u0644\u0642\u0629 \u0644\u0623\u0635\u063a\u0631 ``y``) \u0648\n2. \u062a\u0637\u0628\u064a\u0642 \u062f\u0627\u0644\u0629 \u0623\u0633\u064a\u0629 \u0644\u0644\u062d\u0635\u0648\u0644 \u0639\u0644\u0649 \u0623\u0647\u062f\u0627\u0641 \u063a\u064a\u0631 \u062e\u0637\u064a\u0629\n   \u0648\u0627\u0644\u062a\u064a \u0644\u0627 \u064a\u0645\u0643\u0646 \u0645\u0644\u0627\u0621\u0645\u062a\u0647\u0627 \u0628\u0627\u0633\u062a\u062e\u062f\u0627\u0645 \u0646\u0645\u0648\u0630\u062c \u062e\u0637\u064a \u0628\u0633\u064a\u0637.\n\n\u0644\u0630\u0644\u0643\u060c \u0633\u064a\u062a\u0645 \u0627\u0633\u062a\u062e\u062f\u0627\u0645 \u062f\u0627\u0644\u0629 \u0644\u0648\u063a\u0627\u0631\u064a\u062a\u0645\u064a\u0629 (`np.log1p`) \u0648\u062f\u0627\u0644\u0629 \u0623\u0633\u064a\u0629\n(`np.expm1`) \u0644\u062a\u062d\u0648\u064a\u0644 \u0627\u0644\u0623\u0647\u062f\u0627\u0641 \u0642\u0628\u0644 \u062a\u062f\u0631\u064a\u0628 \u0646\u0645\u0648\u0630\u062c \u0627\u0644\u0627\u0646\u062d\u062f\u0627\u0631 \u0627\u0644\u062e\u0637\u064a\n\u0648\u0627\u0633\u062a\u062e\u062f\u0627\u0645\u0647 \u0644\u0644\u062a\u0646\u0628\u0624.\n\n"
      ]
    },
    {
      "cell_type": "code",
      "execution_count": null,
      "metadata": {
        "collapsed": false
      },
      "outputs": [],
      "source": [
        "X, y = make_regression(n_samples=10_000, noise=100, random_state=0)\ny = np.expm1((y + abs(y.min())) / 200)\ny_trans = np.log1p(y)"
      ]
    },
    {
      "cell_type": "markdown",
      "metadata": {},
      "source": [
        "\u0641\u064a\u0645\u0627 \u064a\u0644\u064a\u060c \u0646\u0631\u0633\u0645 \u062f\u0627\u0644\u0629 \u0627\u0644\u0643\u062b\u0627\u0641\u0629 \u0627\u0644\u0627\u062d\u062a\u0645\u0627\u0644\u064a\u0629 \u0644\u0644\u0623\u0647\u062f\u0627\u0641\n\u0642\u0628\u0644 \u0648\u0628\u0639\u062f \u062a\u0637\u0628\u064a\u0642 \u0627\u0644\u062f\u0648\u0627\u0644 \u0627\u0644\u0644\u0648\u063a\u0627\u0631\u064a\u062a\u0645\u064a\u0629.\n\n"
      ]
    },
    {
      "cell_type": "code",
      "execution_count": null,
      "metadata": {
        "collapsed": false
      },
      "outputs": [],
      "source": [
        "f, (ax0, ax1) = plt.subplots(1, 2)\n\nax0.hist(y, bins=100, density=True)\nax0.set_xlim([0, 2000])\nax0.set_ylabel(\"Probability\")\nax0.set_xlabel(\"Target\")\nax0.set_title(\"Target distribution\")\n\nax1.hist(y_trans, bins=100, density=True)\nax1.set_ylabel(\"Probability\")\nax1.set_xlabel(\"Target\")\nax1.set_title(\"Transformed target distribution\")\n\nf.suptitle(\"Synthetic data\", y=1.05)\nplt.tight_layout()\n\nX_train, X_test, y_train, y_test = train_test_split(X, y, random_state=0)"
      ]
    },
    {
      "cell_type": "markdown",
      "metadata": {},
      "source": [
        "\u0641\u064a \u0627\u0644\u0628\u062f\u0627\u064a\u0629\u060c \u0633\u064a\u062a\u0645 \u062a\u0637\u0628\u064a\u0642 \u0646\u0645\u0648\u0630\u062c \u062e\u0637\u064a \u0639\u0644\u0649 \u0627\u0644\u0623\u0647\u062f\u0627\u0641 \u0627\u0644\u0623\u0635\u0644\u064a\u0629. \u0628\u0633\u0628\u0628\n\u0639\u062f\u0645 \u0627\u0644\u062e\u0637\u064a\u0629\u060c \u0644\u0646 \u064a\u0643\u0648\u0646 \u0627\u0644\u0646\u0645\u0648\u0630\u062c \u0627\u0644\u0645\u062f\u0631\u0628 \u062f\u0642\u064a\u0642\u0627\u064b \u062e\u0644\u0627\u0644\n\u0627\u0644\u062a\u0646\u0628\u0624. \u0628\u0639\u062f \u0630\u0644\u0643\u060c \u064a\u062a\u0645 \u0627\u0633\u062a\u062e\u062f\u0627\u0645 \u062f\u0627\u0644\u0629 \u0644\u0648\u063a\u0627\u0631\u064a\u062a\u0645\u064a\u0629 \u0644\u062e\u0637\u064a\u0629 \u0627\u0644\u0623\u0647\u062f\u0627\u0641\u060c \u0645\u0645\u0627 \u064a\u0633\u0645\u062d \u0628\u062a\u0646\u0628\u0624 \u0623\u0641\u0636\u0644 \u062d\u062a\u0649 \u0645\u0639 \u0646\u0645\u0648\u0630\u062c \u062e\u0637\u064a \u0645\u0634\u0627\u0628\u0647 \u0643\u0645\u0627\n\u062a\u0645 \u0627\u0644\u0625\u0628\u0644\u0627\u063a \u0639\u0646\u0647 \u0628\u0648\u0627\u0633\u0637\u0629 \u0627\u0644\u062e\u0637\u0623 \u0627\u0644\u0645\u062a\u0648\u0633\u0637 \u0627\u0644\u0645\u0637\u0644\u0642 (MedAE).\n\n"
      ]
    },
    {
      "cell_type": "code",
      "execution_count": null,
      "metadata": {
        "collapsed": false
      },
      "outputs": [],
      "source": [
        "def compute_score(y_true, y_pred):\n    return {\n        \"R2\": f\"{r2_score(y_true, y_pred):.3f}\",\n        \"MedAE\": f\"{median_absolute_error(y_true, y_pred):.3f}\",\n    }"
      ]
    },
    {
      "cell_type": "code",
      "execution_count": null,
      "metadata": {
        "collapsed": false
      },
      "outputs": [],
      "source": [
        "f, (ax0, ax1) = plt.subplots(1, 2, sharey=True)\n\nridge_cv = RidgeCV().fit(X_train, y_train)\ny_pred_ridge = ridge_cv.predict(X_test)\n\nridge_cv_with_trans_target = TransformedTargetRegressor(\n    regressor=RidgeCV(), func=np.log1p, inverse_func=np.expm1\n).fit(X_train, y_train)\ny_pred_ridge_with_trans_target = ridge_cv_with_trans_target.predict(X_test)\n\nPredictionErrorDisplay.from_predictions(\n    y_test,\n    y_pred_ridge,\n    kind=\"actual_vs_predicted\",\n    ax=ax0,\n    scatter_kwargs={\"alpha\": 0.5},\n)\nPredictionErrorDisplay.from_predictions(\n    y_test,\n    y_pred_ridge_with_trans_target,\n    kind=\"actual_vs_predicted\",\n    ax=ax1,\n    scatter_kwargs={\"alpha\": 0.5},\n)\n\n# Add the score in the legend of each axis\nfor ax, y_pred in zip([ax0, ax1], [y_pred_ridge, y_pred_ridge_with_trans_target]):\n    for name, score in compute_score(y_test, y_pred).items():\n        ax.plot([], [], \" \", label=f\"{name}={score}\")\n    ax.legend(loc=\"upper left\")\n\nax0.set_title(\"Ridge regression \\n without target transformation\")\nax1.set_title(\"Ridge regression \\n with target transformation\")\nf.suptitle(\"Synthetic data\", y=1.05)\nplt.tight_layout()\nax0.set_title(\"Ridge regression \\n without target transformation\")\nax1.set_title(\"Ridge regression \\n with target transformation\")\nf.suptitle(\"Synthetic data\", y=1.05)\nplt.tight_layout()"
      ]
    },
    {
      "cell_type": "markdown",
      "metadata": {},
      "source": [
        "## \u0645\u062c\u0645\u0648\u0639\u0629 \u0628\u064a\u0627\u0646\u0627\u062a \u0648\u0627\u0642\u0639\u064a\u0629\n\n\u0628\u0637\u0631\u064a\u0642\u0629 \u0645\u0645\u0627\u062b\u0644\u0629\u060c \u064a\u062a\u0645 \u0627\u0633\u062a\u062e\u062f\u0627\u0645 \u0645\u062c\u0645\u0648\u0639\u0629 \u0628\u064a\u0627\u0646\u0627\u062a \u0625\u0633\u0643\u0627\u0646 \u0625\u064a\u0645\u0632 \u0644\u0625\u0638\u0647\u0627\u0631 \u0627\u0644\u062a\u0623\u062b\u064a\u0631\n\u0644\u062a\u062d\u0648\u064a\u0644 \u0627\u0644\u0623\u0647\u062f\u0627\u0641 \u0642\u0628\u0644 \u062a\u0639\u0644\u0645 \u0646\u0645\u0648\u0630\u062c. \u0641\u064a \u0647\u0630\u0627 \u0627\u0644\u0645\u062b\u0627\u0644\u060c\n\u0627\u0644\u0647\u062f\u0641 \u0627\u0644\u0645\u0631\u0627\u062f \u0627\u0644\u062a\u0646\u0628\u0624 \u0628\u0647 \u0647\u0648 \u0633\u0639\u0631 \u0627\u0644\u0628\u064a\u0639 \u0644\u0643\u0644 \u0645\u0646\u0632\u0644.\n\n"
      ]
    },
    {
      "cell_type": "code",
      "execution_count": null,
      "metadata": {
        "collapsed": false
      },
      "outputs": [],
      "source": [
        "ames = fetch_openml(name=\"house_prices\", as_frame=True)\n# Keep only numeric columns\nX = ames.data.select_dtypes(np.number)\n# Remove columns with NaN or Inf values\nX = X.drop(columns=[\"LotFrontage\", \"GarageYrBlt\", \"MasVnrArea\"])\n# Let the price be in k$\ny = ames.target / 1000\ny_trans = quantile_transform(\n    y.to_frame(), n_quantiles=900, output_distribution=\"normal\", copy=True\n).squeeze()"
      ]
    },
    {
      "cell_type": "markdown",
      "metadata": {},
      "source": [
        "\u064a\u062a\u0645 \u0627\u0633\u062a\u062e\u062f\u0627\u0645 :class:`~sklearn.preprocessing.QuantileTransformer` \u0644\u062a\u0637\u0628\u064a\u0639\n\u062a\u0648\u0632\u064a\u0639 \u0627\u0644\u0647\u062f\u0641 \u0642\u0628\u0644 \u062a\u0637\u0628\u064a\u0642\n:class:`~sklearn.linear_model.RidgeCV` model.\n\n"
      ]
    },
    {
      "cell_type": "code",
      "execution_count": null,
      "metadata": {
        "collapsed": false
      },
      "outputs": [],
      "source": [
        "f, (ax0, ax1) = plt.subplots(1, 2)\n\nax0.hist(y, bins=100, density=True)\nax0.set_ylabel(\"Probability\")\nax0.set_xlabel(\"Target\")\nax0.set_title(\"Target distribution\")\n\nax1.hist(y_trans, bins=100, density=True)\nax1.set_ylabel(\"Probability\")\nax1.set_xlabel(\"Target\")\nax1.set_title(\"Transformed target distribution\")\n\nf.suptitle(\"Ames housing data: selling price\", y=1.05)\nplt.tight_layout()"
      ]
    },
    {
      "cell_type": "code",
      "execution_count": null,
      "metadata": {
        "collapsed": false
      },
      "outputs": [],
      "source": [
        "X_train, X_test, y_train, y_test = train_test_split(X, y, random_state=1)"
      ]
    },
    {
      "cell_type": "markdown",
      "metadata": {},
      "source": [
        "\u062a\u0623\u062b\u064a\u0631 \u0627\u0644\u0645\u062d\u0648\u0644 \u0623\u0636\u0639\u0641 \u0645\u0646 \u062a\u0623\u062b\u064a\u0631 \u0627\u0644\u0628\u064a\u0627\u0646\u0627\u062a \u0627\u0644\u0627\u0635\u0637\u0646\u0627\u0639\u064a\u0629. \u0648\u0645\u0639 \u0630\u0644\u0643\u060c\n\u064a\u0624\u062f\u064a \u0627\u0644\u062a\u062d\u0648\u0644 \u0625\u0644\u0649 \u0632\u064a\u0627\u062f\u0629 \u0641\u064a $R^2$ \u0648\u0627\u0646\u062e\u0641\u0627\u0636 \u0643\u0628\u064a\u0631\n\u0641\u064a MedAE. \u064a\u0623\u062e\u0630 \u0645\u062e\u0637\u0637 \u0627\u0644\u0628\u0642\u0627\u064a\u0627 (\u0627\u0644\u0642\u064a\u0645\u0629 \u0627\u0644\u0645\u0633\u062a\u0647\u062f\u0641\u0629 \u0627\u0644\u0645\u062a\u0646\u0628\u0623 \u0628\u0647\u0627 - \u0627\u0644\u0642\u064a\u0645\u0629 \u0627\u0644\u0645\u0633\u062a\u0647\u062f\u0641\u0629 \u0627\u0644\u062d\u0642\u064a\u0642\u064a\u0629 \u0645\u0642\u0627\u0628\u0644 \u0627\u0644\u0642\u064a\u0645\u0629 \u0627\u0644\u0645\u0633\u062a\u0647\u062f\u0641\u0629 \u0627\u0644\u0645\u062a\u0646\u0628\u0623 \u0628\u0647\u0627)\n\u0628\u062f\u0648\u0646 \u062a\u062d\u0648\u064a\u0644 \u0627\u0644\u0647\u062f\u0641 \u0634\u0643\u0644\u064b\u0627 \u0645\u0646\u062d\u0646\u064a\u064b\u0627\u060c \u0639\u0644\u0649 \u0634\u0643\u0644 \"\u0627\u0628\u062a\u0633\u0627\u0645\u0629 \u0639\u0643\u0633\u064a\u0629\"\n\u0628\u0633\u0628\u0628 \u0642\u064a\u0645 \u0627\u0644\u0628\u0642\u0627\u064a\u0627 \u0627\u0644\u062a\u064a \u062a\u062e\u062a\u0644\u0641 \u062d\u0633\u0628 \u0642\u064a\u0645\u0629 \u0627\u0644\u0647\u062f\u0641 \u0627\u0644\u0645\u062a\u0646\u0628\u0623 \u0628\u0647. \u0645\u0639 \u062a\u062d\u0648\u064a\u0644 \u0627\u0644\u0647\u062f\u0641\u060c \u064a\u0643\u0648\u0646 \u0627\u0644\u0634\u0643\u0644 \u0623\u0643\u062b\u0631 \u062e\u0637\u064a\u0629 \u0645\u0645\u0627 \u064a\u0634\u064a\u0631\n\u0625\u0644\u0649 \u0645\u0644\u0627\u0621\u0645\u0629 \u0623\u0641\u0636\u0644 \u0644\u0644\u0646\u0645\u0648\u0630\u062c.\n\n"
      ]
    },
    {
      "cell_type": "code",
      "execution_count": null,
      "metadata": {
        "collapsed": false
      },
      "outputs": [],
      "source": [
        "f, (ax0, ax1) = plt.subplots(2, 2, sharey=\"row\", figsize=(6.5, 8))\n\nridge_cv = RidgeCV().fit(X_train, y_train)\ny_pred_ridge = ridge_cv.predict(X_test)\n\nridge_cv_with_trans_target = TransformedTargetRegressor(\n    regressor=RidgeCV(),\n    transformer=QuantileTransformer(\n        n_quantiles=900, output_distribution=\"normal\"),\n).fit(X_train, y_train)\ny_pred_ridge_with_trans_target = ridge_cv_with_trans_target.predict(X_test)\n\n# plot the actual vs predicted values\nPredictionErrorDisplay.from_predictions(\n    y_test,\n    y_pred_ridge,\n    kind=\"actual_vs_predicted\",\n    ax=ax0[0],\n    scatter_kwargs={\"alpha\": 0.5},\n)\nPredictionErrorDisplay.from_predictions(\n    y_test,\n    y_pred_ridge_with_trans_target,\n    kind=\"actual_vs_predicted\",\n    ax=ax0[1],\n    scatter_kwargs={\"alpha\": 0.5},\n)\n\n# Add the score in the legend of each axis\nfor ax, y_pred in zip([ax0[0], ax0[1]], [y_pred_ridge, y_pred_ridge_with_trans_target]):\n    for name, score in compute_score(y_test, y_pred).items():\n        ax.plot([], [], \" \", label=f\"{name}={score}\")\n    ax.legend(loc=\"upper left\")\n\nax0[0].set_title(\"Ridge regression \\n without target transformation\")\nax0[1].set_title(\"Ridge regression \\n with target transformation\")\n\n# plot the residuals vs the predicted values\nPredictionErrorDisplay.from_predictions(\n    y_test,\n    y_pred_ridge,\n    kind=\"residual_vs_predicted\",\n    ax=ax1[0],\n    scatter_kwargs={\"alpha\": 0.5},\n)\nPredictionErrorDisplay.from_predictions(\n    y_test,\n    y_pred_ridge_with_trans_target,\n    kind=\"residual_vs_predicted\",\n    ax=ax1[1],\n    scatter_kwargs={\"alpha\": 0.5},\n)\nax1[0].set_title(\"Ridge regression \\n without target transformation\")\nax1[1].set_title(\"Ridge regression \\n with target transformation\")\n\nf.suptitle(\"Ames housing data: selling price\", y=1.05)\nplt.tight_layout()\nplt.show()"
      ]
    }
  ],
  "metadata": {
    "kernelspec": {
      "display_name": "Python 3",
      "language": "python",
      "name": "python3"
    },
    "language_info": {
      "codemirror_mode": {
        "name": "ipython",
        "version": 3
      },
      "file_extension": ".py",
      "mimetype": "text/x-python",
      "name": "python",
      "nbconvert_exporter": "python",
      "pygments_lexer": "ipython3",
      "version": "3.10.13"
    }
  },
  "nbformat": 4,
  "nbformat_minor": 0
}