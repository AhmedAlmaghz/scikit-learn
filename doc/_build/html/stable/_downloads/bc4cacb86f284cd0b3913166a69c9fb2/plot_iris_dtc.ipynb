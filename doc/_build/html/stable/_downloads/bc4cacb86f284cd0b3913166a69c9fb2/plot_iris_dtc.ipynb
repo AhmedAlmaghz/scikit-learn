{
  "cells": [
    {
      "cell_type": "markdown",
      "metadata": {},
      "source": [
        "\n# \u0631\u0633\u0645 \u0633\u0637\u062d \u0627\u0644\u0642\u0631\u0627\u0631 \u0644\u0623\u0634\u062c\u0627\u0631 \u0627\u0644\u0642\u0631\u0627\u0631 \u0627\u0644\u0645\u062f\u0631\u0628\u0629 \u0639\u0644\u0649 \u0645\u062c\u0645\u0648\u0639\u0629 \u0628\u064a\u0627\u0646\u0627\u062a \u0627\u0644\u0632\u0647\u0631\u0629 \u0627\u0644\u0622\u0631\u063a\u0648\u0627\u0646\u064a\u0629\n\n\u0627\u0631\u0633\u0645 \u0633\u0637\u062d \u0627\u0644\u0642\u0631\u0627\u0631 \u0644\u0634\u062c\u0631\u0629 \u0642\u0631\u0627\u0631 \u0645\u062f\u0631\u0628\u0629 \u0639\u0644\u0649 \u0623\u0632\u0648\u0627\u062c\n\u0645\u0646 \u0645\u064a\u0632\u0627\u062a \u0645\u062c\u0645\u0648\u0639\u0629 \u0628\u064a\u0627\u0646\u0627\u062a \u0627\u0644\u0632\u0647\u0631\u0629 \u0627\u0644\u0622\u0631\u063a\u0648\u0627\u0646\u064a\u0629.\n\n\u0631\u0627\u062c\u0639 `decision tree <tree>` \u0644\u0645\u0632\u064a\u062f \u0645\u0646 \u0627\u0644\u0645\u0639\u0644\u0648\u0645\u0627\u062a \u062d\u0648\u0644 \u0623\u062f\u0627\u0629 \u0627\u0644\u062a\u0642\u062f\u064a\u0631.\n\n\u0628\u0627\u0644\u0646\u0633\u0628\u0629 \u0644\u0643\u0644 \u0632\u0648\u062c \u0645\u0646 \u0645\u064a\u0632\u0627\u062a \u0627\u0644\u0632\u0647\u0631\u0629 \u0627\u0644\u0622\u0631\u063a\u0648\u0627\u0646\u064a\u0629\u060c \u062a\u062a\u0639\u0644\u0645 \u0634\u062c\u0631\u0629 \u0627\u0644\u0642\u0631\u0627\u0631 \u062d\u062f\u0648\u062f \u0627\u0644\u0642\u0631\u0627\u0631\n\u0627\u0644\u0645\u0643\u0648\u0646\u0629 \u0645\u0646 \u0645\u062c\u0645\u0648\u0639\u0627\u062a \u0645\u0646 \u0642\u0648\u0627\u0639\u062f \u0627\u0644\u0639\u062a\u0628\u0629 \u0627\u0644\u0628\u0633\u064a\u0637\u0629 \u0627\u0644\u0645\u0633\u062a\u0646\u0628\u0637\u0629 \u0645\u0646\n\u0639\u064a\u0646\u0627\u062a \u0627\u0644\u062a\u062f\u0631\u064a\u0628.\n\n\u0646\u062d\u0646 \u0623\u064a\u0636\u064b\u0627 \u0646\u0639\u0631\u0636 \u0628\u0646\u064a\u0629 \u0627\u0644\u0634\u062c\u0631\u0629 \u0644\u0646\u0645\u0648\u0630\u062c \u0645\u0628\u0646\u064a \u0639\u0644\u0649 \u062c\u0645\u064a\u0639 \u0627\u0644\u0645\u064a\u0632\u0627\u062a.\n"
      ]
    },
    {
      "cell_type": "code",
      "execution_count": null,
      "metadata": {
        "collapsed": false
      },
      "outputs": [],
      "source": [
        "# \u0627\u0644\u0645\u0624\u0644\u0641\u0648\u0646: \u0645\u0637\u0648\u0631\u064a \u0633\u0643\u0627\u064a\u0644\u0631\u0646\n# \u0645\u0639\u0631\u0641 \u0627\u0644\u062a\u0631\u062e\u064a\u0635: BSD-3-Clause"
      ]
    },
    {
      "cell_type": "markdown",
      "metadata": {},
      "source": [
        "\u0642\u0645 \u0623\u0648\u0644\u0627\u064b \u0628\u062a\u062d\u0645\u064a\u0644 \u0646\u0633\u062e\u0629 \u0645\u062c\u0645\u0648\u0639\u0629 \u0628\u064a\u0627\u0646\u0627\u062a \u0627\u0644\u0632\u0647\u0631\u0629 \u0627\u0644\u0622\u0631\u063a\u0648\u0627\u0646\u064a\u0629 \u0627\u0644\u0645\u0631\u0641\u0642\u0629 \u0645\u0639 \u0633\u0643\u0627\u064a\u0644\u0631\u0646:\n\n"
      ]
    },
    {
      "cell_type": "code",
      "execution_count": null,
      "metadata": {
        "collapsed": false
      },
      "outputs": [],
      "source": [
        "from sklearn.datasets import load_iris\n\niris = load_iris()"
      ]
    },
    {
      "cell_type": "markdown",
      "metadata": {},
      "source": [
        "\u0639\u0631\u0636 \u0648\u0638\u0627\u0626\u0641 \u0627\u0644\u0642\u0631\u0627\u0631 \u0644\u0644\u0623\u0634\u062c\u0627\u0631 \u0627\u0644\u0645\u062f\u0631\u0628\u0629 \u0639\u0644\u0649 \u062c\u0645\u064a\u0639 \u0623\u0632\u0648\u0627\u062c \u0627\u0644\u0645\u064a\u0632\u0627\u062a.\n\n"
      ]
    },
    {
      "cell_type": "code",
      "execution_count": null,
      "metadata": {
        "collapsed": false
      },
      "outputs": [],
      "source": [
        "import matplotlib.pyplot as plt\nimport numpy as np\n\nfrom sklearn.datasets import load_iris\nfrom sklearn.inspection import DecisionBoundaryDisplay\nfrom sklearn.tree import DecisionTreeClassifier\n\n# \u0627\u0644\u0645\u0639\u0627\u0645\u0644\u0627\u062a\nn_classes = 3\nplot_colors = \"ryb\"\nplot_step = 0.02\n\n\nfor pairidx, pair in enumerate([[0, 1], [0, 2], [0, 3], [1, 2], [1, 3], [2, 3]]):\n    # \u0646\u0623\u062e\u0630 \u0641\u0642\u0637 \u0627\u0644\u0645\u064a\u0632\u062a\u064a\u0646 \u0627\u0644\u0645\u0642\u0627\u0628\u0644\u062a\u064a\u0646\n    X = iris.data[:, pair]\n    y = iris.target\n\n    # \u0627\u0644\u062a\u062f\u0631\u064a\u0628\n    clf = DecisionTreeClassifier().fit(X, y)\n\n    # \u0631\u0633\u0645 \u062d\u062f\u0648\u062f \u0627\u0644\u0642\u0631\u0627\u0631\n    ax = plt.subplot(2, 3, pairidx + 1)\n    plt.tight_layout(h_pad=0.5, w_pad=0.5, pad=2.5)\n    DecisionBoundaryDisplay.from_estimator(\n        clf,\n        X,\n        cmap=plt.cm.RdYlBu,\n        response_method=\"predict\",\n        ax=ax,\n        xlabel=iris.feature_names[pair[0]],\n        ylabel=iris.feature_names[pair[1]],\n    )\n\n    # \u0631\u0633\u0645 \u0646\u0642\u0627\u0637 \u0627\u0644\u062a\u062f\u0631\u064a\u0628\n    for i, color in zip(range(n_classes), plot_colors):\n        idx = np.where(y == i)\n        plt.scatter(\n            X[idx, 0],\n            X[idx, 1],\n            c=color,\n            label=iris.target_names[i],\n            edgecolor=\"black\",\n            s=15,\n        )\n\nplt.suptitle(\"\u0633\u0637\u062d \u0627\u0644\u0642\u0631\u0627\u0631 \u0644\u0623\u0634\u062c\u0627\u0631 \u0627\u0644\u0642\u0631\u0627\u0631 \u0627\u0644\u0645\u062f\u0631\u0628\u0629 \u0639\u0644\u0649 \u0623\u0632\u0648\u0627\u062c \u0645\u0646 \u0627\u0644\u0645\u064a\u0632\u0627\u062a\")\nplt.legend(loc=\"lower right\", borderpad=0, handletextpad=0)\n_ = plt.axis(\"tight\")"
      ]
    },
    {
      "cell_type": "markdown",
      "metadata": {},
      "source": [
        "\u0639\u0631\u0636 \u0628\u0646\u064a\u0629 \u0634\u062c\u0631\u0629 \u0642\u0631\u0627\u0631 \u0648\u0627\u062d\u062f\u0629 \u0645\u062f\u0631\u0628\u0629 \u0639\u0644\u0649 \u062c\u0645\u064a\u0639 \u0627\u0644\u0645\u064a\u0632\u0627\u062a\n\u0645\u0639\u064b\u0627.\n\n"
      ]
    },
    {
      "cell_type": "code",
      "execution_count": null,
      "metadata": {
        "collapsed": false
      },
      "outputs": [],
      "source": [
        "from sklearn.tree import plot_tree\n\nplt.figure()\nclf = DecisionTreeClassifier().fit(iris.data, iris.target)\nplot_tree(clf, filled=True)\nplt.title(\"\u0634\u062c\u0631\u0629 \u0627\u0644\u0642\u0631\u0627\u0631 \u0627\u0644\u0645\u062f\u0631\u0628\u0629 \u0639\u0644\u0649 \u062c\u0645\u064a\u0639 \u0645\u064a\u0632\u0627\u062a \u0627\u0644\u0632\u0647\u0631\u0629 \u0627\u0644\u0622\u0631\u063a\u0648\u0627\u0646\u064a\u0629\")\nplt.show()"
      ]
    }
  ],
  "metadata": {
    "kernelspec": {
      "display_name": "Python 3",
      "language": "python",
      "name": "python3"
    },
    "language_info": {
      "codemirror_mode": {
        "name": "ipython",
        "version": 3
      },
      "file_extension": ".py",
      "mimetype": "text/x-python",
      "name": "python",
      "nbconvert_exporter": "python",
      "pygments_lexer": "ipython3",
      "version": "3.10.13"
    }
  },
  "nbformat": 4,
  "nbformat_minor": 0
}