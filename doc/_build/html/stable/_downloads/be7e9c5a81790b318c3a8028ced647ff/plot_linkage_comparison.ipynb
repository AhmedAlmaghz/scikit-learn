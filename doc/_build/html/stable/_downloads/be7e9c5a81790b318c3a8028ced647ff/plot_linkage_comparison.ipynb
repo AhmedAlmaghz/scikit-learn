{
  "cells": [
    {
      "cell_type": "markdown",
      "metadata": {},
      "source": [
        "\n# \u0645\u0642\u0627\u0631\u0646\u0629 \u0637\u0631\u0642 \u0627\u0644\u0631\u0628\u0637 \u0627\u0644\u0647\u0631\u0645\u064a \u0627\u0644\u0645\u062e\u062a\u0644\u0641\u0629 \u0639\u0644\u0649 \u0645\u062c\u0645\u0648\u0639\u0627\u062a \u0628\u064a\u0627\u0646\u0627\u062a \u062a\u062c\u0631\u064a\u0628\u064a\u0629\n\n\u064a\u0648\u0636\u062d \u0647\u0630\u0627 \u0627\u0644\u0645\u062b\u0627\u0644 \u062e\u0635\u0627\u0626\u0635 \u0637\u0631\u0642 \u0627\u0644\u0631\u0628\u0637\n\u0627\u0644\u0645\u062e\u062a\u0644\u0641\u0629 \u0644\u0644\u062a\u062c\u0645\u064a\u0639 \u0627\u0644\u0647\u0631\u0645\u064a \u0639\u0644\u0649 \u0645\u062c\u0645\u0648\u0639\u0627\u062a \u0627\u0644\u0628\u064a\u0627\u0646\u0627\u062a \u0627\u0644\u062a\u064a\n\"\u0645\u062b\u064a\u0631\u0629 \u0644\u0644\u0627\u0647\u062a\u0645\u0627\u0645\" \u0648\u0644\u0643\u0646\u0647\u0627 \u0644\u0627 \u062a\u0632\u0627\u0644 \u062b\u0646\u0627\u0626\u064a\u0629 \u0627\u0644\u0623\u0628\u0639\u0627\u062f.\n\n\u0627\u0644\u0645\u0644\u0627\u062d\u0638\u0627\u062a \u0627\u0644\u0631\u0626\u064a\u0633\u064a\u0629 \u0627\u0644\u062a\u064a \u064a\u062c\u0628 \u0625\u062c\u0631\u0627\u0624\u0647\u0627 \u0647\u064a:\n\n- \u0627\u0644\u0631\u0628\u0637 \u0627\u0644\u0641\u0631\u062f\u064a \u0633\u0631\u064a\u0639\u060c \u0648\u064a\u0645\u0643\u0646 \u0623\u0646 \u064a\u0639\u0645\u0644 \u0628\u0634\u0643\u0644 \u062c\u064a\u062f \u0639\u0644\u0649\n  \u0627\u0644\u0628\u064a\u0627\u0646\u0627\u062a \u063a\u064a\u0631 \u0627\u0644\u0643\u0631\u0648\u064a\u0629\u060c \u0648\u0644\u0643\u0646\u0647 \u064a\u0639\u0645\u0644 \u0628\u0634\u0643\u0644 \u0633\u064a\u0626 \u0641\u064a\n  \u0648\u062c\u0648\u062f \u0636\u0648\u0636\u0627\u0621.\n- \u064a\u0639\u0645\u0644 \u0627\u0644\u0631\u0628\u0637 \u0627\u0644\u0645\u062a\u0648\u0633\u0637 \u200b\u200b\u0648\u0627\u0644\u0643\u0627\u0645\u0644 \u0628\u0634\u0643\u0644 \u062c\u064a\u062f \u0639\u0644\u0649\n  \u0627\u0644\u062a\u062c\u0645\u0639\u0627\u062a \u0627\u0644\u0643\u0631\u0648\u064a\u0629 \u0627\u0644\u0645\u0646\u0641\u0635\u0644\u0629 \u0628\u0634\u0643\u0644 \u0646\u0638\u064a\u0641\u060c \u0648\u0644\u0643\u0646 \u0644\u0647 \u0646\u062a\u0627\u0626\u062c \u0645\u062e\u062a\u0644\u0637\u0629\n  \u062e\u0644\u0627\u0641 \u0630\u0644\u0643.\n- Ward \u0647\u064a \u0627\u0644\u0637\u0631\u064a\u0642\u0629 \u0627\u0644\u0623\u0643\u062b\u0631 \u0641\u0639\u0627\u0644\u064a\u0629 \u0644\u0644\u0628\u064a\u0627\u0646\u0627\u062a \u0627\u0644\u0645\u0634\u0648\u0634\u0629.\n\n\u0628\u064a\u0646\u0645\u0627 \u062a\u0639\u0637\u064a \u0647\u0630\u0647 \u0627\u0644\u0623\u0645\u062b\u0644\u0629 \u0628\u0639\u0636 \u0627\u0644\u062d\u062f\u0633 \u062d\u0648\u0644\n\u0627\u0644\u062e\u0648\u0627\u0631\u0632\u0645\u064a\u0627\u062a\u060c \u0641\u0642\u062f \u0644\u0627 \u064a\u0646\u0637\u0628\u0642 \u0647\u0630\u0627 \u0627\u0644\u062d\u062f\u0633 \u0639\u0644\u0649 \u0627\u0644\u0628\u064a\u0627\u0646\u0627\u062a \u0639\u0627\u0644\u064a\u0629\n\u0627\u0644\u0623\u0628\u0639\u0627\u062f.\n"
      ]
    },
    {
      "cell_type": "code",
      "execution_count": null,
      "metadata": {
        "collapsed": false
      },
      "outputs": [],
      "source": [
        "# Authors: The scikit-learn developers\n# SPDX-License-Identifier: BSD-3-Clause\n\nimport time\nimport warnings\nfrom itertools import cycle, islice\n\nimport matplotlib.pyplot as plt\nimport numpy as np\n\nfrom sklearn import cluster, datasets\nfrom sklearn.preprocessing import StandardScaler"
      ]
    },
    {
      "cell_type": "markdown",
      "metadata": {},
      "source": [
        "\u0625\u0646\u0634\u0627\u0621 \u0645\u062c\u0645\u0648\u0639\u0627\u062a \u0627\u0644\u0628\u064a\u0627\u0646\u0627\u062a. \u0646\u062e\u062a\u0627\u0631 \u0627\u0644\u062d\u062c\u0645 \u0643\u0628\u064a\u0631\u064b\u0627 \u0628\u0645\u0627 \u064a\u0643\u0641\u064a \u0644\u0631\u0624\u064a\u0629 \u0642\u0627\u0628\u0644\u064a\u0629 \u0627\u0644\u062a\u0648\u0633\u0639\n\u0644\u0644\u062e\u0648\u0627\u0631\u0632\u0645\u064a\u0627\u062a\u060c \u0648\u0644\u0643\u0646 \u0644\u064a\u0633 \u0643\u0628\u064a\u0631\u064b\u0627 \u062c\u062f\u064b\u0627 \u0644\u062a\u062c\u0646\u0628 \u0623\u0648\u0642\u0627\u062a \u0627\u0644\u062a\u0634\u063a\u064a\u0644 \u0627\u0644\u0637\u0648\u064a\u0644\u0629 \u062c\u062f\u064b\u0627\n\n"
      ]
    },
    {
      "cell_type": "code",
      "execution_count": null,
      "metadata": {
        "collapsed": false
      },
      "outputs": [],
      "source": [
        "n_samples = 1500\nnoisy_circles = datasets.make_circles(\n    n_samples=n_samples, factor=0.5, noise=0.05, random_state=170\n)\nnoisy_moons = datasets.make_moons(\n    n_samples=n_samples, noise=0.05, random_state=170)\nblobs = datasets.make_blobs(n_samples=n_samples, random_state=170)\nrng = np.random.RandomState(170)\nno_structure = rng.rand(n_samples, 2), None\n\n# \u0628\u064a\u0627\u0646\u0627\u062a \u0645\u0648\u0632\u0639\u0629 \u0628\u0634\u0643\u0644 \u0645\u062a\u0628\u0627\u064a\u0646 \u0627\u0644\u062e\u0648\u0627\u0635\nX, y = datasets.make_blobs(n_samples=n_samples, random_state=170)\ntransformation = [[0.6, -0.6], [-0.4, 0.8]]\nX_aniso = np.dot(X, transformation)\naniso = (X_aniso, y)\n\n# \u0646\u0642\u0627\u0637 \u0645\u062a\u063a\u064a\u0631\u0629 \u0627\u0644\u062a\u0628\u0627\u064a\u0646\u0627\u062a\nvaried = datasets.make_blobs(\n    n_samples=n_samples, cluster_std=[1.0, 2.5, 0.5], random_state=170\n)"
      ]
    },
    {
      "cell_type": "markdown",
      "metadata": {},
      "source": [
        "\u062a\u0634\u063a\u064a\u0644 \u0627\u0644\u062a\u062c\u0645\u064a\u0639 \u0648\u0627\u0644\u0631\u0633\u0645\n\n"
      ]
    },
    {
      "cell_type": "code",
      "execution_count": null,
      "metadata": {
        "collapsed": false
      },
      "outputs": [],
      "source": [
        "# \u0625\u0639\u062f\u0627\u062f \u0645\u0639\u0644\u0645\u0627\u062a \u0627\u0644\u062a\u062c\u0645\u064a\u0639\nplt.figure(figsize=(9 * 1.3 + 2, 14.5))\nplt.subplots_adjust(\n    left=0.02, right=0.98, bottom=0.001, top=0.96, wspace=0.05, hspace=0.01\n)\n\nplot_num = 1\n\ndefault_base = {\"n_neighbors\": 10, \"n_clusters\": 3}\n\ndatasets = [\n    (noisy_circles, {\"n_clusters\": 2}),\n    (noisy_moons, {\"n_clusters\": 2}),\n    (varied, {\"n_neighbors\": 2}),\n    (aniso, {\"n_neighbors\": 2}),\n    (blobs, {}),\n    (no_structure, {}),\n]\n\nfor i_dataset, (dataset, algo_params) in enumerate(datasets):\n    # \u062a\u062d\u062f\u064a\u062b \u0627\u0644\u0645\u0639\u0644\u0645\u0627\u062a \u0628\u0642\u064a\u0645 \u062e\u0627\u0635\u0629 \u0628\u0645\u062c\u0645\u0648\u0639\u0629 \u0627\u0644\u0628\u064a\u0627\u0646\u0627\u062a\n    params = default_base.copy()\n    params.update(algo_params)\n\n    X, y = dataset\n\n    # \u062a\u0633\u0648\u064a\u0629 \u0645\u062c\u0645\u0648\u0639\u0629 \u0627\u0644\u0628\u064a\u0627\u0646\u0627\u062a \u0644\u062a\u0633\u0647\u064a\u0644 \u0627\u062e\u062a\u064a\u0627\u0631 \u0627\u0644\u0645\u0639\u0644\u0645\u0627\u062a\n    X = StandardScaler().fit_transform(X)\n\n    # ============\n    # \u0625\u0646\u0634\u0627\u0621 \u0643\u0627\u0626\u0646\u0627\u062a \u0627\u0644\u062a\u062c\u0645\u064a\u0639\n    # ============\n    ward = cluster.AgglomerativeClustering(\n        n_clusters=params[\"n_clusters\"], linkage=\"ward\"\n    )\n    complete = cluster.AgglomerativeClustering(\n        n_clusters=params[\"n_clusters\"], linkage=\"complete\"\n    )\n    average = cluster.AgglomerativeClustering(\n        n_clusters=params[\"n_clusters\"], linkage=\"average\"\n    )\n    single = cluster.AgglomerativeClustering(\n        n_clusters=params[\"n_clusters\"], linkage=\"single\"\n    )\n\n    clustering_algorithms = (\n        (\"\u0631\u0628\u0637 \u0641\u0631\u062f\u064a\", single),\n        (\"\u0631\u0628\u0637 \u0645\u062a\u0648\u0633\u0637\", average),\n        (\"\u0631\u0628\u0637 \u0643\u0627\u0645\u0644\", complete),\n        (\"\u0631\u0628\u0637 Ward\", ward),\n    )\n\n    for name, algorithm in clustering_algorithms:\n        t0 = time.time()\n\n        # \u0627\u0644\u062a\u0642\u0627\u0637 \u0627\u0644\u062a\u062d\u0630\u064a\u0631\u0627\u062a \u0627\u0644\u0645\u062a\u0639\u0644\u0642\u0629 \u0628\u0640 kneighbors_graph\n        with warnings.catch_warnings():\n            warnings.filterwarnings(\n                \"ignore\",\n                message=\"the number of connected components of the \"\n                + \"connectivity matrix is [0-9]{1,2}\"\n                + \" > 1. Completing it to avoid stopping the tree early.\",\n                category=UserWarning,\n            )\n            algorithm.fit(X)\n\n        t1 = time.time()\n        if hasattr(algorithm, \"labels_\"):\n            y_pred = algorithm.labels_.astype(int)\n        else:\n            y_pred = algorithm.predict(X)\n\n        plt.subplot(len(datasets), len(clustering_algorithms), plot_num)\n        if i_dataset == 0:\n            plt.title(name, size=18)\n\n        colors = np.array(\n            list(\n                islice(\n                    cycle(\n                        [\n                            \"#377eb8\",\n                            \"#ff7f00\",\n                            \"#4daf4a\",\n                            \"#f781bf\",\n                            \"#a65628\",\n                            \"#984ea3\",\n                            \"#999999\",\n                            \"#e41a1c\",\n                            \"#dede00\",\n                        ]\n                    ),\n                    int(max(y_pred) + 1),\n                )\n            )\n        )\n        plt.scatter(X[:, 0], X[:, 1], s=10, color=colors[y_pred])\n\n        plt.xlim(-2.5, 2.5)\n        plt.ylim(-2.5, 2.5)\n        plt.xticks(())\n        plt.yticks(())\n        plt.text(\n            0.99,\n            0.01,\n            (\"%.2fs\" % (t1 - t0)).lstrip(\"0\"),\n            transform=plt.gca().transAxes,\n            size=15,\n            horizontalalignment=\"right\",\n        )\n        plot_num += 1\n\nplt.show()"
      ]
    }
  ],
  "metadata": {
    "kernelspec": {
      "display_name": "Python 3",
      "language": "python",
      "name": "python3"
    },
    "language_info": {
      "codemirror_mode": {
        "name": "ipython",
        "version": 3
      },
      "file_extension": ".py",
      "mimetype": "text/x-python",
      "name": "python",
      "nbconvert_exporter": "python",
      "pygments_lexer": "ipython3",
      "version": "3.10.13"
    }
  },
  "nbformat": 4,
  "nbformat_minor": 0
}