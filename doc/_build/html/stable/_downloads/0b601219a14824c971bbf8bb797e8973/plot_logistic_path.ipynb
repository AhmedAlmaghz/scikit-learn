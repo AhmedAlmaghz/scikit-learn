{
  "cells": [
    {
      "cell_type": "markdown",
      "metadata": {},
      "source": [
        "\n# \u0645\u0633\u0627\u0631 \u0627\u0644\u062a\u0646\u0638\u064a\u0645 \u0644\u0640 L1 - \u0627\u0644\u0627\u0646\u062d\u062f\u0627\u0631 \u0627\u0644\u0644\u0648\u062c\u0633\u062a\u064a\n\n\n\u0642\u0645 \u0628\u062a\u062f\u0631\u064a\u0628 \u0646\u0645\u0627\u0630\u062c \u0627\u0644\u0627\u0646\u062d\u062f\u0627\u0631 \u0627\u0644\u0644\u0648\u062c\u0633\u062a\u064a \u0627\u0644\u0645\u0646\u062a\u0638\u0645\u0629 \u0628\u0640 L1 \u0639\u0644\u0649 \u0645\u0634\u0643\u0644\u0629 \u062a\u0635\u0646\u064a\u0641 \u062b\u0646\u0627\u0626\u064a\n\u0645\u0633\u062a\u0645\u062f\u0629 \u0645\u0646 \u0645\u062c\u0645\u0648\u0639\u0629 \u0628\u064a\u0627\u0646\u0627\u062a Iris.\n\n\u062a\u0645 \u062a\u0631\u062a\u064a\u0628 \u0627\u0644\u0646\u0645\u0627\u0630\u062c \u0645\u0646 \u0627\u0644\u0623\u0643\u062b\u0631 \u062a\u0646\u0638\u064a\u0645\u0627\u064b \u0625\u0644\u0649 \u0627\u0644\u0623\u0642\u0644 \u062a\u0646\u0638\u064a\u0645\u0627\u064b. \u062a\u0645 \u062c\u0645\u0639 \u0627\u0644\u0645\u0639\u0627\u0645\u0644\u0627\u062a \u0627\u0644\u0623\u0631\u0628\u0639\u0629\n\u0644\u0644\u0646\u0645\u0627\u0630\u062c \u0648\u062a\u0645 \u0631\u0633\u0645\u0647\u0627 \u0643\u0640 \"\u0645\u0633\u0627\u0631 \u062a\u0646\u0638\u064a\u0645\": \u0639\u0644\u0649 \u0627\u0644\u062c\u0627\u0646\u0628 \u0627\u0644\u0623\u064a\u0633\u0631 \u0645\u0646 \u0627\u0644\u0634\u0643\u0644 (\u0627\u0644\u0645\u0646\u0638\u0645\u0648\u0646 \u0627\u0644\u0623\u0642\u0648\u064a\u0627\u0621)\u060c \u062c\u0645\u064a\u0639\n\u0627\u0644\u0645\u0639\u0627\u0645\u0644\u0627\u062a \u062a\u0633\u0627\u0648\u064a \u0628\u0627\u0644\u0636\u0628\u0637 0. \u0639\u0646\u062f\u0645\u0627 \u064a\u0635\u0628\u062d \u0627\u0644\u062a\u0646\u0638\u064a\u0645 \u062a\u062f\u0631\u064a\u062c\u064a\u0627\u064b \u0623\u0643\u062b\u0631 \u0645\u0631\u0648\u0646\u0629\u060c\n\u064a\u0645\u0643\u0646 \u0644\u0644\u0645\u0639\u0627\u0645\u0644\u0627\u062a \u0627\u0644\u062d\u0635\u0648\u0644 \u0639\u0644\u0649 \u0642\u064a\u0645 \u063a\u064a\u0631 \u0635\u0641\u0631\u064a\u0629 \u0648\u0627\u062d\u062f\u0629 \u062a\u0644\u0648 \u0627\u0644\u0623\u062e\u0631\u0649.\n\n\u0647\u0646\u0627 \u0646\u062e\u062a\u0627\u0631 \u0645\u062d\u062f\u062f liblinear \u0644\u0623\u0646\u0647 \u064a\u0645\u0643\u0646\u0647 \u062a\u062d\u0633\u064a\u0646 \u062e\u0633\u0627\u0631\u0629 \u0627\u0644\u0627\u0646\u062d\u062f\u0627\u0631 \u0627\u0644\u0644\u0648\u062c\u0633\u062a\u064a \u0628\u0643\u0641\u0627\u0621\u0629 \u0645\u0639 \u0639\u0642\u0648\u0628\u0629 L1 \u063a\u064a\u0631 \u0627\u0644\u0645\u0644\u0633\u0627\u0621\u060c \u0648\u0627\u0644\u062a\u064a \u062a\u062d\u0641\u0632 \u0639\u0644\u0649 \u0627\u0644\u062a\u0628\u0627\u0639\u062f.\n\n\u0644\u0627\u062d\u0638 \u0623\u064a\u0636\u0627\u064b \u0623\u0646\u0646\u0627 \u0646\u062d\u062f\u062f \u0642\u064a\u0645\u0629 \u0645\u0646\u062e\u0641\u0636\u0629 \u0644\u0644\u062a\u0633\u0627\u0645\u062d \u0644\u0644\u062a\u0623\u0643\u062f \u0645\u0646 \u0623\u0646 \u0627\u0644\u0646\u0645\u0648\u0630\u062c\n\u0642\u062f \u062a\u0642\u0627\u0631\u0628 \u0642\u0628\u0644 \u062c\u0645\u0639 \u0627\u0644\u0645\u0639\u0627\u0645\u0644\u0627\u062a.\n\n\u0646\u0633\u062a\u062e\u062f\u0645 \u0623\u064a\u0636\u0627\u064b warm_start=True \u0645\u0645\u0627 \u064a\u0639\u0646\u064a \u0623\u0646 \u0645\u0639\u0627\u0645\u0644\u0627\u062a \u0627\u0644\u0646\u0645\u0627\u0630\u062c \u064a\u062a\u0645\n\u0625\u0639\u0627\u062f\u0629 \u0627\u0633\u062a\u062e\u062f\u0627\u0645\u0647\u0627 \u0644\u062a\u0647\u064a\u0626\u0629 \u0627\u0644\u0646\u0645\u0648\u0630\u062c \u0627\u0644\u062a\u0627\u0644\u064a \u0644\u062a\u0633\u0631\u064a\u0639 \u062d\u0633\u0627\u0628\n\u0627\u0644\u0645\u0633\u0627\u0631 \u0627\u0644\u0643\u0627\u0645\u0644.\n"
      ]
    },
    {
      "cell_type": "code",
      "execution_count": null,
      "metadata": {
        "collapsed": false
      },
      "outputs": [],
      "source": [
        "# \u0627\u0644\u0645\u0624\u0644\u0641\u0648\u0646: \u0645\u0637\u0648\u0631\u064a \u0633\u0643\u0627\u064a\u0644\u0631\u0646\n# \u0645\u0639\u0631\u0641 \u0627\u0644\u062a\u0631\u062e\u064a\u0635: BSD-3-Clause"
      ]
    },
    {
      "cell_type": "markdown",
      "metadata": {},
      "source": [
        "## \u062a\u062d\u0645\u064a\u0644 \u0627\u0644\u0628\u064a\u0627\u0646\u0627\u062a\n\n"
      ]
    },
    {
      "cell_type": "code",
      "execution_count": null,
      "metadata": {
        "collapsed": false
      },
      "outputs": [],
      "source": [
        "from sklearn import datasets\n\niris = datasets.load_iris()\nX = iris.data\ny = iris.target\n\nX = X[y != 2]\ny = y[y != 2]\n\nX /= X.max()  # \u062a\u0637\u0628\u064a\u0639 X \u0644\u062a\u0633\u0631\u064a\u0639 \u0627\u0644\u062a\u0642\u0627\u0631\u0628"
      ]
    },
    {
      "cell_type": "markdown",
      "metadata": {},
      "source": [
        "## \u062d\u0633\u0627\u0628 \u0645\u0633\u0627\u0631 \u0627\u0644\u062a\u0646\u0638\u064a\u0645\n\n"
      ]
    },
    {
      "cell_type": "code",
      "execution_count": null,
      "metadata": {
        "collapsed": false
      },
      "outputs": [],
      "source": [
        "import numpy as np\n\nfrom sklearn import linear_model\nfrom sklearn.svm import l1_min_c\n\ncs = l1_min_c(X, y, loss=\"log\") * np.logspace(0, 10, 16)\n\nclf = linear_model.LogisticRegression(\n    penalty=\"l1\",\n    solver=\"liblinear\",\n    tol=1e-6,\n    max_iter=int(1e6),\n    warm_start=True,\n    intercept_scaling=10000.0,\n)\ncoefs_ = []\nfor c in cs:\n    clf.set_params(C=c)\n    clf.fit(X, y)\n    coefs_.append(clf.coef_.ravel().copy())\n\ncoefs_ = np.array(coefs_)"
      ]
    },
    {
      "cell_type": "markdown",
      "metadata": {},
      "source": [
        "## \u0631\u0633\u0645 \u0645\u0633\u0627\u0631 \u0627\u0644\u062a\u0646\u0638\u064a\u0645\n\n"
      ]
    },
    {
      "cell_type": "code",
      "execution_count": null,
      "metadata": {
        "collapsed": false
      },
      "outputs": [],
      "source": [
        "import matplotlib.pyplot as plt\n\nplt.plot(np.log10(cs), coefs_, marker=\"o\")\nymin, ymax = plt.ylim()\nplt.xlabel(\"log(C)\")\nplt.ylabel(\"Coefficients\")\nplt.title(\"Logistic Regression Path\")\nplt.axis(\"tight\")\nplt.show()"
      ]
    }
  ],
  "metadata": {
    "kernelspec": {
      "display_name": "Python 3",
      "language": "python",
      "name": "python3"
    },
    "language_info": {
      "codemirror_mode": {
        "name": "ipython",
        "version": 3
      },
      "file_extension": ".py",
      "mimetype": "text/x-python",
      "name": "python",
      "nbconvert_exporter": "python",
      "pygments_lexer": "ipython3",
      "version": "3.10.13"
    }
  },
  "nbformat": 4,
  "nbformat_minor": 0
}