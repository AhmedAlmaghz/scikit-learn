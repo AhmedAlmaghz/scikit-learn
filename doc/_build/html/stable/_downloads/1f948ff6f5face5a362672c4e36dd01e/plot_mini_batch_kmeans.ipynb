{
  "cells": [
    {
      "cell_type": "markdown",
      "metadata": {},
      "source": [
        "\n# \u0645\u0642\u0627\u0631\u0646\u0629 \u062e\u0648\u0627\u0631\u0632\u0645\u064a\u0627\u062a \u0627\u0644\u062a\u062c\u0645\u064a\u0639 K-Means \u0648 MiniBatchKMeans\n\n\u0646\u0631\u064a\u062f \u0645\u0642\u0627\u0631\u0646\u0629 \u0623\u062f\u0627\u0621 \u062e\u0648\u0627\u0631\u0632\u0645\u064a\u062a\u064a MiniBatchKMeans \u0648 KMeans:\n\u062e\u0648\u0627\u0631\u0632\u0645\u064a\u0629 MiniBatchKMeans \u0623\u0633\u0631\u0639\u060c \u0644\u0643\u0646\u0647\u0627 \u062a\u0639\u0637\u064a \u0646\u062a\u0627\u0626\u062c \u0645\u062e\u062a\u0644\u0641\u0629 \u0642\u0644\u064a\u0644\u0627\u064b (\u0627\u0646\u0638\u0631:\n`mini_batch_kmeans`).\n\n\u0633\u0646\u0642\u0648\u0645 \u0628\u062a\u062c\u0645\u064a\u0639 \u0645\u062c\u0645\u0648\u0639\u0629 \u0645\u0646 \u0627\u0644\u0628\u064a\u0627\u0646\u0627\u062a\u060c \u0623\u0648\u0644\u0627\u064b \u0628\u0627\u0633\u062a\u062e\u062f\u0627\u0645 KMeans \u062b\u0645 \u0628\u0627\u0633\u062a\u062e\u062f\u0627\u0645\nMiniBatchKMeans\u060c \u0648\u0631\u0633\u0645 \u0627\u0644\u0646\u062a\u0627\u0626\u062c.\n\u0643\u0645\u0627 \u0633\u0646\u0642\u0648\u0645 \u0628\u0631\u0633\u0645 \u0627\u0644\u0646\u0642\u0627\u0637 \u0627\u0644\u062a\u064a \u062a\u062d\u0645\u0644 \u062a\u0633\u0645\u064a\u0627\u062a \u0645\u062e\u062a\u0644\u0641\u0629 \u0628\u064a\u0646 \u0627\u0644\u062e\u0648\u0627\u0631\u0632\u0645\u064a\u062a\u064a\u0646.\n"
      ]
    },
    {
      "cell_type": "code",
      "execution_count": null,
      "metadata": {
        "collapsed": false
      },
      "outputs": [],
      "source": [
        "# \u0627\u0644\u0645\u0624\u0644\u0641\u0648\u0646: \u0645\u0637\u0648\u0651\u0631\u0648 scikit-learn\n# \u0645\u0639\u0631\u0641 \u0627\u0644\u062a\u0631\u062e\u064a\u0635: BSD-3-Clause"
      ]
    },
    {
      "cell_type": "markdown",
      "metadata": {},
      "source": [
        "## \u062a\u0648\u0644\u064a\u062f \u0627\u0644\u0628\u064a\u0627\u0646\u0627\u062a\n\n\u0646\u0628\u062f\u0623 \u0628\u062a\u0648\u0644\u064a\u062f \u0645\u062c\u0645\u0648\u0639\u0627\u062a \u0627\u0644\u0628\u064a\u0627\u0646\u0627\u062a \u0627\u0644\u062a\u064a \u0633\u064a\u062a\u0645 \u062a\u062c\u0645\u064a\u0639\u0647\u0627.\n\n"
      ]
    },
    {
      "cell_type": "code",
      "execution_count": null,
      "metadata": {
        "collapsed": false
      },
      "outputs": [],
      "source": [
        "import matplotlib.pyplot as plt\nfrom sklearn.metrics.pairwise import pairwise_distances_argmin\nfrom sklearn.cluster import MiniBatchKMeans\nfrom sklearn.cluster import KMeans\nimport time\nimport numpy as np\n\nfrom sklearn.datasets import make_blobs\n\nnp.random.seed(0)\n\nbatch_size = 45\ncenters = [[1, 1], [-1, -1], [1, -1]]\nn_clusters = len(centers)\nX, labels_true = make_blobs(n_samples=3000, centers=centers, cluster_std=0.7)"
      ]
    },
    {
      "cell_type": "markdown",
      "metadata": {},
      "source": [
        "## \u062d\u0633\u0627\u0628 \u0627\u0644\u062a\u062c\u0645\u064a\u0639 \u0628\u0627\u0633\u062a\u062e\u062f\u0627\u0645 KMeans\n\n"
      ]
    },
    {
      "cell_type": "code",
      "execution_count": null,
      "metadata": {
        "collapsed": false
      },
      "outputs": [],
      "source": [
        "k_means = KMeans(init=\"k-means++\", n_clusters=3, n_init=10)\nt0 = time.time()\nk_means.fit(X)\nt_batch = time.time() - t0"
      ]
    },
    {
      "cell_type": "markdown",
      "metadata": {},
      "source": [
        "## \u062d\u0633\u0627\u0628 \u0627\u0644\u062a\u062c\u0645\u064a\u0639 \u0628\u0627\u0633\u062a\u062e\u062f\u0627\u0645 MiniBatchKMeans\n\n"
      ]
    },
    {
      "cell_type": "code",
      "execution_count": null,
      "metadata": {
        "collapsed": false
      },
      "outputs": [],
      "source": [
        "mbk = MiniBatchKMeans(\n    init=\"k-means++\",\n    n_clusters=3,\n    batch_size=batch_size,\n    n_init=10,\n    max_no_improvement=10,\n    verbose=0,\n)\nt0 = time.time()\nmbk.fit(X)\nt_mini_batch = time.time() - t0"
      ]
    },
    {
      "cell_type": "markdown",
      "metadata": {},
      "source": [
        "## \u062a\u062d\u0642\u064a\u0642 \u0627\u0644\u062a\u0643\u0627\u0641\u0624 \u0628\u064a\u0646 \u0627\u0644\u0645\u062c\u0645\u0648\u0639\u0627\u062a\n\n\u0646\u0631\u064a\u062f \u0623\u0646 \u064a\u0643\u0648\u0646 \u0646\u0641\u0633 \u0627\u0644\u0644\u0648\u0646 \u0644\u0644\u0645\u062c\u0645\u0648\u0639\u0629 \u0646\u0641\u0633\u0647\u0627 \u0645\u0646 \u062e\u0648\u0627\u0631\u0632\u0645\u064a\u062a\u064a\nMiniBatchKMeans \u0648 KMeans. \u062f\u0639\u0646\u0627 \u0646\u0648\u0627\u0626\u0645 \u0645\u0631\u0627\u0643\u0632 \u0627\u0644\u0645\u062c\u0645\u0648\u0639\u0627\u062a \u062d\u0633\u0628\n\u0627\u0644\u0623\u0642\u0631\u0628.\n\n"
      ]
    },
    {
      "cell_type": "code",
      "execution_count": null,
      "metadata": {
        "collapsed": false
      },
      "outputs": [],
      "source": [
        "k_means_cluster_centers = k_means.cluster_centers_\norder = pairwise_distances_argmin(\n    k_means.cluster_centers_, mbk.cluster_centers_)\nmbk_means_cluster_centers = mbk.cluster_centers_[order]\n\nk_means_labels = pairwise_distances_argmin(X, k_means_cluster_centers)\nmbk_means_labels = pairwise_distances_argmin(X, mbk_means_cluster_centers)"
      ]
    },
    {
      "cell_type": "markdown",
      "metadata": {},
      "source": [
        "## \u0631\u0633\u0645 \u0627\u0644\u0646\u062a\u0627\u0626\u062c\n\n"
      ]
    },
    {
      "cell_type": "code",
      "execution_count": null,
      "metadata": {
        "collapsed": false
      },
      "outputs": [],
      "source": [
        "fig = plt.figure(figsize=(8, 3))\nfig.subplots_adjust(left=0.02, right=0.98, bottom=0.05, top=0.9)\ncolors = [\"#4EACC5\", \"#FF9C34\", \"#4E9A06\"]\n\n# KMeans\nax = fig.add_subplot(1, 3, 1)\nfor k, col in zip(range(n_clusters), colors):\n    my_members = k_means_labels == k\n    cluster_center = k_means_cluster_centers[k]\n    ax.plot(X[my_members, 0], X[my_members, 1],\n            \"w\", markerfacecolor=col, marker=\".\")\n    ax.plot(\n        cluster_center[0],\n        cluster_center[1],\n        \"o\",\n        markerfacecolor=col,\n        markeredgecolor=\"k\",\n        markersize=6,\n    )\nax.set_title(\"KMeans\")\nax.set_xticks(())\nax.set_yticks(())\nplt.text(-3.5, 1.8, \"train time: %.2fs\\ninertia: %f\" %\n         (t_batch, k_means.inertia_))\n\n# MiniBatchKMeans\nax = fig.add_subplot(1, 3, 2)\nfor k, col in zip(range(n_clusters), colors):\n    my_members = mbk_means_labels == k\n    cluster_center = mbk_means_cluster_centers[k]\n    ax.plot(X[my_members, 0], X[my_members, 1],\n            \"w\", markerfacecolor=col, marker=\".\")\n    ax.plot(\n        cluster_center[0],\n        cluster_center[1],\n        \"o\",\n        markerfacecolor=col,\n        markeredgecolor=\"k\",\n        markersize=6,\n    )\nax.set_title(\"MiniBatchKMeans\")\nax.set_xticks(())\nax.set_yticks(())\nplt.text(-3.5, 1.8, \"train time: %.2fs\\ninertia: %f\" %\n         (t_mini_batch, mbk.inertia_))\n\n\n# \u062a\u0647\u064a\u0626\u0629 \u0627\u0644\u0645\u0635\u0641\u0648\u0641\u0629 \u0627\u0644\u0645\u062e\u062a\u0644\u0641\u0629 \u0625\u0644\u0649 \u0643\u0644\u0647\u0627 False\ndifferent = mbk_means_labels == 4\nax = fig.add_subplot(1, 3, 3)\n\nfor k in range(n_clusters):\n    different += (k_means_labels == k) != (mbk_means_labels == k)\n\nidentical = np.logical_not(different)\nax.plot(X[identical, 0], X[identical, 1], \"w\",\n        markerfacecolor=\"#bbbbbb\", marker=\".\")\nax.plot(X[different, 0], X[different, 1], \"w\", markerfacecolor=\"m\", marker=\".\")\nax.set_title(\"Difference\")\nax.set_xticks(())\nax.set_yticks(())\n\nplt.show()"
      ]
    }
  ],
  "metadata": {
    "kernelspec": {
      "display_name": "Python 3",
      "language": "python",
      "name": "python3"
    },
    "language_info": {
      "codemirror_mode": {
        "name": "ipython",
        "version": 3
      },
      "file_extension": ".py",
      "mimetype": "text/x-python",
      "name": "python",
      "nbconvert_exporter": "python",
      "pygments_lexer": "ipython3",
      "version": "3.10.13"
    }
  },
  "nbformat": 4,
  "nbformat_minor": 0
}